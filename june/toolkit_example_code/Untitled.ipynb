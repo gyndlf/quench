{
 "cells": [
  {
   "cell_type": "code",
   "execution_count": 1,
   "id": "e77bc4ff-c4ab-4c74-a5de-69619bda1a40",
   "metadata": {},
   "outputs": [
    {
     "data": {
      "text/plain": [
       "\u001b[1;31mDocstring:\u001b[0m\n",
       "Show attributes of an object.\n",
       "\n",
       "If called without an argument, return the names in the current scope.\n",
       "Else, return an alphabetized list of names comprising (some of) the attributes\n",
       "of the given object, and of attributes reachable from it.\n",
       "If the object supplies a method named __dir__, it will be used; otherwise\n",
       "the default dir() logic is used and returns:\n",
       "  for a module object: the module's attributes.\n",
       "  for a class object:  its attributes, and recursively the attributes\n",
       "    of its bases.\n",
       "  for any other object: its attributes, its class's attributes, and\n",
       "    recursively the attributes of its class's base classes.\n",
       "\u001b[1;31mType:\u001b[0m      builtin_function_or_method"
      ]
     },
     "metadata": {},
     "output_type": "display_data"
    }
   ],
   "source": [
    "?dir"
   ]
  },
  {
   "cell_type": "code",
   "execution_count": 2,
   "id": "eea20424-6228-4554-bb77-1c238902e4a1",
   "metadata": {},
   "outputs": [],
   "source": [
    "import numpy as np"
   ]
  },
  {
   "cell_type": "code",
   "execution_count": 4,
   "id": "09e57f42-f4aa-47cd-9ef7-2306f96acda8",
   "metadata": {},
   "outputs": [],
   "source": [
    "import __future__"
   ]
  },
  {
   "cell_type": "code",
   "execution_count": 5,
   "id": "4481cdef-dc52-41ff-b93a-89b6d84dc1d1",
   "metadata": {},
   "outputs": [
    {
     "data": {
      "text/plain": [
       "['CO_FUTURE_ABSOLUTE_IMPORT',\n",
       " 'CO_FUTURE_ANNOTATIONS',\n",
       " 'CO_FUTURE_BARRY_AS_BDFL',\n",
       " 'CO_FUTURE_DIVISION',\n",
       " 'CO_FUTURE_GENERATOR_STOP',\n",
       " 'CO_FUTURE_PRINT_FUNCTION',\n",
       " 'CO_FUTURE_UNICODE_LITERALS',\n",
       " 'CO_FUTURE_WITH_STATEMENT',\n",
       " 'CO_GENERATOR_ALLOWED',\n",
       " 'CO_NESTED',\n",
       " '_Feature',\n",
       " '__all__',\n",
       " '__builtins__',\n",
       " '__cached__',\n",
       " '__doc__',\n",
       " '__file__',\n",
       " '__loader__',\n",
       " '__name__',\n",
       " '__package__',\n",
       " '__spec__',\n",
       " 'absolute_import',\n",
       " 'all_feature_names',\n",
       " 'annotations',\n",
       " 'barry_as_FLUFL',\n",
       " 'division',\n",
       " 'generator_stop',\n",
       " 'generators',\n",
       " 'nested_scopes',\n",
       " 'print_function',\n",
       " 'unicode_literals',\n",
       " 'with_statement']"
      ]
     },
     "execution_count": 5,
     "metadata": {},
     "output_type": "execute_result"
    }
   ],
   "source": [
    "dir(__future__)"
   ]
  },
  {
   "cell_type": "code",
   "execution_count": null,
   "id": "bfe07a91-14c7-4b8d-9dc3-b160404cf3ea",
   "metadata": {},
   "outputs": [],
   "source": []
  }
 ],
 "metadata": {
  "kernelspec": {
   "display_name": "Python 3 (ipykernel)",
   "language": "python",
   "name": "python3"
  },
  "language_info": {
   "codemirror_mode": {
    "name": "ipython",
    "version": 3
   },
   "file_extension": ".py",
   "mimetype": "text/x-python",
   "name": "python",
   "nbconvert_exporter": "python",
   "pygments_lexer": "ipython3",
   "version": "3.12.3"
  }
 },
 "nbformat": 4,
 "nbformat_minor": 5
}
