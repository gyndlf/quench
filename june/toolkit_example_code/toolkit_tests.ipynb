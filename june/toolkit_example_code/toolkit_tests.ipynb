{
 "cells": [
  {
   "cell_type": "code",
   "execution_count": 1,
   "id": "b8284941-0815-4c80-853a-3f01d2dabd9e",
   "metadata": {},
   "outputs": [],
   "source": [
    "## Load the LabOne API and other necessary packages\n",
    "from zhinst.toolkit import Session, CommandTable\n",
    "\n",
    "DEVICE_ID = 'DEV12158'\n",
    "SERVER_HOST = 'localhost'\n",
    "\n",
    "### connect to data server\n",
    "session = Session(SERVER_HOST)\n",
    "\n",
    "### connect to device\n",
    "device = session.connect_device(DEVICE_ID)\n"
   ]
  },
  {
   "cell_type": "code",
   "execution_count": 2,
   "id": "c946939d-a954-4943-9460-89b6bf519c13",
   "metadata": {},
   "outputs": [
    {
     "data": {
      "text/plain": [
       "DataServerSession(localhost:8004)"
      ]
     },
     "execution_count": 2,
     "metadata": {},
     "output_type": "execute_result"
    }
   ],
   "source": [
    "session"
   ]
  },
  {
   "cell_type": "code",
   "execution_count": 355,
   "id": "4183a8c9-4ce0-4f63-b582-70a8d979abd4",
   "metadata": {},
   "outputs": [],
   "source": [
    "SG_CHAN_INDEX = 5 # which channel to be used, here: first channel\n",
    "\n",
    "##determine which synthesizer is used by the desired channel\n",
    "synth = device.sgchannels[SG_CHAN_INDEX].synthesizer()\n",
    "\n",
    "with device.set_transaction():\n",
    "    # RF output settings\n",
    "    device.sgchannels[SG_CHAN_INDEX].output.range(10) #output range in dBm\n",
    "    device.sgchannels[SG_CHAN_INDEX].output.rflfpath(0) #use RF path, not LF path\n",
    "    device.synthesizers[synth].centerfreq(1e9) #set the corresponding synthesizer frequency in Hz\n",
    "    device.sgchannels[SG_CHAN_INDEX].output.on(1) #enable output\n",
    "    # Digital modulation settings\n",
    "    device.sgchannels[SG_CHAN_INDEX].awg.outputamplitude(1.0) #set the amplitude for the AWG outputs\n",
    "    device.sgchannels[SG_CHAN_INDEX].oscs[0].freq(100.0e6) #frequency of oscillator 1 in Hz\n",
    "    device.sgchannels[SG_CHAN_INDEX].oscs[1].freq(-150.0e6) #frequency of oscillator 2 in Hz\n",
    "    device.sgchannels[SG_CHAN_INDEX].awg.modulation.enable(1) #enable digital modulation\n",
    "    # Triggering settings\n",
    "    device.sgchannels[SG_CHAN_INDEX].marker.source(0) #AWG trigger 1"
   ]
  },
  {
   "cell_type": "code",
   "execution_count": 36,
   "id": "70754300-86b9-44d1-9727-48f0f683d649",
   "metadata": {},
   "outputs": [
    {
     "data": {
      "text/plain": [
       "{'messages': '', 'maxelfsize': 2147483648}"
      ]
     },
     "execution_count": 36,
     "metadata": {},
     "output_type": "execute_result"
    }
   ],
   "source": [
    "seqc_program = \"\"\"\\\n",
    "// Define waveform\n",
    "wave w_a = gauss(2048, 1, 1024, 256);\n",
    "\n",
    "// Assign a single channel waveform to wave table entry 0\n",
    "assignWaveIndex(1,2, w_a, 0);\n",
    "\n",
    "// Reset the oscillator phase\n",
    "resetOscPhase();\n",
    "\n",
    "// Trigger the scope\n",
    "setTrigger(1);\n",
    "setTrigger(0);\n",
    "\n",
    "// execute the first command table entry\n",
    "executeTableEntry(0);\n",
    "// execute the second command table entry\n",
    "executeTableEntry(1);\n",
    "\"\"\"\n",
    "\n",
    "## Upload sequence\n",
    "device.sgchannels[SG_CHAN_INDEX].awg.load_sequencer_program(seqc_program)"
   ]
  },
  {
   "cell_type": "code",
   "execution_count": 37,
   "id": "171609b9-86a0-4419-9cb3-65807b9d32c7",
   "metadata": {},
   "outputs": [
    {
     "data": {
      "text/plain": [
       "{'header': {'version': '1.4.0'},\n",
       " 'table': [{'index': 0,\n",
       "   'waveform': {'index': 0},\n",
       "   'amplitude00': {'value': 1.0},\n",
       "   'amplitude01': {'value': -1.0},\n",
       "   'amplitude10': {'value': 1.0},\n",
       "   'amplitude11': {'value': 1.0},\n",
       "   'phase': {'value': 0}},\n",
       "  {'index': 1,\n",
       "   'waveform': {'index': 0},\n",
       "   'amplitude00': {'value': 0.5},\n",
       "   'amplitude01': {'value': -0.5},\n",
       "   'amplitude10': {'value': 0.5},\n",
       "   'amplitude11': {'value': 0.5},\n",
       "   'phase': {'value': 180}}]}"
      ]
     },
     "execution_count": 37,
     "metadata": {},
     "output_type": "execute_result"
    }
   ],
   "source": [
    "## Load CommandTable class\n",
    "from zhinst.toolkit import CommandTable\n",
    "\n",
    "## Initialize command table\n",
    "ct_schema = device.sgchannels[SG_CHAN_INDEX].awg.commandtable.load_validation_schema()\n",
    "ct = CommandTable(ct_schema)\n",
    "\n",
    "## Index of wave table and command table entries\n",
    "TABLE_INDEX = 0\n",
    "WAVE_INDEX = 0\n",
    "gain = 1.0\n",
    "\n",
    "# match amplitudeXX to \"Digital Modulation\" Output Gains\n",
    "\n",
    "## Waveform with amplitude and phase settings\n",
    "ct.table[TABLE_INDEX].waveform.index = WAVE_INDEX\n",
    "ct.table[TABLE_INDEX].amplitude00.value = gain\n",
    "ct.table[TABLE_INDEX].amplitude01.value = -gain\n",
    "ct.table[TABLE_INDEX].amplitude10.value = gain\n",
    "ct.table[TABLE_INDEX].amplitude11.value = gain\n",
    "ct.table[TABLE_INDEX].phase.value = 0\n",
    "\n",
    "## Same waveform with different amplitude and phase settings\n",
    "ct.table[TABLE_INDEX+1].waveform.index = WAVE_INDEX\n",
    "ct.table[TABLE_INDEX+1].amplitude00.value = gain/2\n",
    "ct.table[TABLE_INDEX+1].amplitude01.value = -gain/2\n",
    "ct.table[TABLE_INDEX+1].amplitude10.value = gain/2\n",
    "ct.table[TABLE_INDEX+1].amplitude11.value = gain/2\n",
    "ct.table[TABLE_INDEX+1].phase.value = 180\n",
    "\n",
    "ct.as_dict()"
   ]
  },
  {
   "cell_type": "code",
   "execution_count": 38,
   "id": "784780b3-a06d-4f1c-a91f-7dce770d748f",
   "metadata": {},
   "outputs": [],
   "source": [
    "## Upload command table\n",
    "device.sgchannels[SG_CHAN_INDEX].awg.commandtable.upload_to_device(ct)"
   ]
  },
  {
   "cell_type": "code",
   "execution_count": 45,
   "id": "caf94c0c-b2f2-46b2-8dca-fb46161d9890",
   "metadata": {},
   "outputs": [],
   "source": [
    "# run the sequence\n",
    "device.sgchannels[SG_CHAN_INDEX].awg.enable_sequencer(single = True)\n",
    "\n",
    "# saved as 1"
   ]
  },
  {
   "cell_type": "markdown",
   "id": "86932a7b-60d5-4520-b9f5-56d052e41ea3",
   "metadata": {},
   "source": [
    "## Efficient pulse incrementation"
   ]
  },
  {
   "cell_type": "code",
   "execution_count": 53,
   "id": "c2a33d96-fb88-46c6-9e94-e5c9ad518bde",
   "metadata": {},
   "outputs": [
    {
     "data": {
      "text/plain": [
       "{'messages': '', 'maxelfsize': 2147483648}"
      ]
     },
     "execution_count": 53,
     "metadata": {},
     "output_type": "execute_result"
    }
   ],
   "source": [
    "seqc_program = \"\"\"\\\n",
    "// Define a single waveform\n",
    "wave w_a = ones(1024);\n",
    "\n",
    "// Assign a single channel waveform to wave table entry\n",
    "assignWaveIndex(1,2, w_a, 0);\n",
    "\n",
    "// Reset the oscillator phase\n",
    "resetOscPhase();\n",
    "\n",
    "// Trigger the scope\n",
    "setTrigger(1);\n",
    "setTrigger(0);\n",
    "\n",
    "// execute the first command table entry\n",
    "executeTableEntry(0);\n",
    "repeat(20) {\n",
    "  executeTableEntry(1);\n",
    "}\n",
    "\"\"\"\n",
    "\n",
    "## Upload sequence\n",
    "device.sgchannels[SG_CHAN_INDEX].awg.load_sequencer_program(seqc_program)"
   ]
  },
  {
   "cell_type": "code",
   "execution_count": 54,
   "id": "9e9554fe-d69a-4319-b551-a6ae596ac37f",
   "metadata": {},
   "outputs": [],
   "source": [
    "## Initialize command table\n",
    "ct_schema = device.sgchannels[SG_CHAN_INDEX].awg.commandtable.load_validation_schema()\n",
    "ct = CommandTable(ct_schema)\n",
    "\n",
    "## Waveform with initial amplitude\n",
    "ct.table[0].waveform.index = 0\n",
    "ct.table[0].amplitude00.value = 0\n",
    "ct.table[0].amplitude01.value = 0\n",
    "ct.table[0].amplitude10.value = 0\n",
    "ct.table[0].amplitude11.value = 0\n",
    "\n",
    "## Waveform with incremented amplitude\n",
    "ct.table[1].waveform.index = 0\n",
    "ct.table[1].amplitude00.value = 0.05\n",
    "ct.table[1].amplitude01.value = -0.05\n",
    "ct.table[1].amplitude10.value = 0.05\n",
    "ct.table[1].amplitude11.value = 0.05\n",
    "ct.table[1].amplitude00.increment = True\n",
    "ct.table[1].amplitude01.increment = True\n",
    "ct.table[1].amplitude10.increment = True\n",
    "ct.table[1].amplitude11.increment = True\n",
    "\n",
    "## Upload command table\n",
    "device.sgchannels[SG_CHAN_INDEX].awg.commandtable.upload_to_device(ct)\n"
   ]
  },
  {
   "cell_type": "code",
   "execution_count": 56,
   "id": "4de3fe8a-0223-4ee4-9f23-7ccd80529730",
   "metadata": {},
   "outputs": [],
   "source": [
    "## Enable sequencer\n",
    "device.sgchannels[SG_CHAN_INDEX].awg.enable_sequencer(single = 1)  # runs the experiment\n",
    "# saved as 2.png"
   ]
  },
  {
   "cell_type": "markdown",
   "id": "c4eb2b2e-21bd-4a41-aac0-11f76fd0e017",
   "metadata": {},
   "source": [
    "### Basic sweeps"
   ]
  },
  {
   "cell_type": "code",
   "execution_count": 66,
   "id": "2d0df26a-c917-448d-8e52-d17c586190f7",
   "metadata": {},
   "outputs": [
    {
     "data": {
      "text/plain": [
       "{'messages': '', 'maxelfsize': 2147483648}"
      ]
     },
     "execution_count": 66,
     "metadata": {},
     "output_type": "execute_result"
    }
   ],
   "source": [
    "seqc_program = \"\"\"\\\n",
    "//Constant definitions\n",
    "const readout = 512; //length of readout in samples\n",
    "\n",
    "//Waveform definition\n",
    "wave wI1 = gauss(128, 1, 64, 16);\n",
    "wave wI2 = gauss(256, 1, 128, 32);\n",
    "\n",
    "//Assign index and outputs\n",
    "assignWaveIndex(1,2,wI1,0);\n",
    "assignWaveIndex(1,2,wI2,1);\n",
    "\n",
    "// Trigger the scope\n",
    "setTrigger(1);\n",
    "setTrigger(0);\n",
    "\n",
    "var i = 10;\n",
    "executeTableEntry(0);\n",
    "do {\n",
    "  executeTableEntry(2);\n",
    "  executeTableEntry(1);\n",
    "  playZero(readout);\n",
    "  i-=1;\n",
    "} while(i);\n",
    "\"\"\"\n",
    "\n",
    "# Upload sequence\n",
    "device.sgchannels[SG_CHAN_INDEX].awg.load_sequencer_program(seqc_program)"
   ]
  },
  {
   "cell_type": "markdown",
   "id": "2783d682-f83c-4277-9aeb-c3f41c696545",
   "metadata": {},
   "source": [
    "readout is just a delay with nothing being played"
   ]
  },
  {
   "cell_type": "code",
   "execution_count": 67,
   "id": "74401443-0d16-4cdf-b622-4661d50a4509",
   "metadata": {},
   "outputs": [],
   "source": [
    "# Initialize command table\n",
    "ct_schema = device.sgchannels[0].awg.commandtable.load_validation_schema()\n",
    "ct = CommandTable(ct_schema)\n",
    "\n",
    "# Initialize amplitude register 1\n",
    "ct.table[0].amplitude00.value = 0.0\n",
    "ct.table[0].amplitude00.increment = False\n",
    "ct.table[0].amplitude10.value = 0.0\n",
    "ct.table[0].amplitude10.increment = False\n",
    "ct.table[0].amplitudeRegister = 1\n",
    "\n",
    "# Swept Gaussian pulse\n",
    "ct.table[1].waveform.index = 1\n",
    "ct.table[1].amplitude00.value = 0.05\n",
    "ct.table[1].amplitude00.increment = True\n",
    "ct.table[1].amplitude10.value = 0.05\n",
    "ct.table[1].amplitude10.increment = True\n",
    "ct.table[1].amplitudeRegister = 1\n",
    "\n",
    "# Constant Gaussian pulse\n",
    "ct.table[2].waveform.index = 0\n",
    "ct.table[2].amplitude00.value = 0.9\n",
    "ct.table[2].amplitude10.value = 0.9\n",
    "ct.table[2].amplitudeRegister = 0\n",
    "\n",
    "# Upload command table\n",
    "device.sgchannels[SG_CHAN_INDEX].awg.commandtable.upload_to_device(ct)"
   ]
  },
  {
   "cell_type": "code",
   "execution_count": 69,
   "id": "b0c61422-95c6-4dde-a9fc-a743d10e27d7",
   "metadata": {},
   "outputs": [],
   "source": [
    "device.sgchannels[SG_CHAN_INDEX].awg.enable_sequencer(single = 1)\n",
    "# saved as 3.png"
   ]
  },
  {
   "cell_type": "code",
   "execution_count": 70,
   "id": "1095999a-74f1-47e5-baa5-5460dc2d3a68",
   "metadata": {},
   "outputs": [],
   "source": [
    "# do a phase sweep instead\n",
    "## Define command table\n",
    "## Initialize command table\n",
    "ct_schema = device.sgchannels[SG_CHAN_INDEX].awg.commandtable.load_validation_schema()\n",
    "ct = CommandTable(ct_schema)\n",
    "\n",
    "## Waveform with initial phase\n",
    "ct.table[0].waveform.index = 0\n",
    "ct.table[0].phase.value = 90\n",
    "\n",
    "## Waveform with incremented phase\n",
    "ct.table[1].waveform.index = 0\n",
    "ct.table[1].phase.value = 0.1\n",
    "ct.table[1].phase.increment = True\n",
    "\n",
    "## Upload command table\n",
    "device.sgchannels[SG_CHAN_INDEX].awg.commandtable.upload_to_device(ct)\n",
    "## Enable sequencer\n",
    "device.sgchannels[SG_CHAN_INDEX].awg.enable_sequencer(single = 1)"
   ]
  },
  {
   "cell_type": "markdown",
   "id": "d3930c1b-52fe-4d2c-a10d-0b99887e3d3b",
   "metadata": {
    "jp-MarkdownHeadingCollapsed": true
   },
   "source": [
    "this isn't quite as noticable as the phase difference is minimal\n",
    "\n",
    "## pulse-level sequencing"
   ]
  },
  {
   "cell_type": "code",
   "execution_count": 71,
   "id": "a7d6f533-4523-441f-9ddb-0327bc897374",
   "metadata": {},
   "outputs": [
    {
     "data": {
      "text/plain": [
       "{'messages': '', 'maxelfsize': 2147483648}"
      ]
     },
     "execution_count": 71,
     "metadata": {},
     "output_type": "execute_result"
    }
   ],
   "source": [
    "seqc_program = \"\"\"\\\n",
    "// Define two wave table entries through placeholders\n",
    "assignWaveIndex(1,2, placeholder(32), 0);\n",
    "assignWaveIndex(1,2, placeholder(64), 1);\n",
    "\n",
    "// Reset the oscillator phase\n",
    "resetOscPhase();\n",
    "\n",
    "// Trigger the scope\n",
    "setTrigger(1);\n",
    "setTrigger(0);\n",
    "\n",
    "// execute command table\n",
    "executeTableEntry(0);\n",
    "executeTableEntry(1);\n",
    "executeTableEntry(2);\n",
    "\"\"\"\n",
    "\n",
    "## Upload sequence\n",
    "device.sgchannels[SG_CHAN_INDEX].awg.load_sequencer_program(seqc_program)"
   ]
  },
  {
   "cell_type": "code",
   "execution_count": 72,
   "id": "30e0b526-8b79-45f7-a900-249885b2707a",
   "metadata": {},
   "outputs": [],
   "source": [
    "import numpy as np\n",
    "from zhinst.toolkit import Waveforms\n",
    "\n",
    "## parameters for waveform generation\n",
    "amp_1 = 1\n",
    "length_1 = 32\n",
    "width_1 = 1/4\n",
    "amp_2 = 1\n",
    "length_2 = 64\n",
    "width_2 = 1/4\n",
    "x_1 = np.linspace(-1, 1, length_1)\n",
    "x_2 = np.linspace(-1, 1, length_2)\n",
    "\n",
    "## define waveforms as list of real-values arrays - here: Gaussian functions\n",
    "waves = [\n",
    "    [amp_1*np.exp(-x_1**2/width_1**2)],\n",
    "    [amp_2*np.exp(-x_2**2/width_2**2)]]\n",
    "\n",
    "## upload waveforms to instrument\n",
    "waveforms = Waveforms()\n",
    "for i, wave in enumerate(waves):\n",
    "    waveforms[i] = (wave[0])\n",
    "\n",
    "device.sgchannels[SG_CHAN_INDEX].awg.write_to_waveform_memory(waveforms)"
   ]
  },
  {
   "cell_type": "code",
   "execution_count": 76,
   "id": "3539445c-88dd-4d8e-a934-c81032df4baf",
   "metadata": {},
   "outputs": [
    {
     "data": {
      "text/plain": [
       "[<matplotlib.lines.Line2D at 0x19d12386810>]"
      ]
     },
     "execution_count": 76,
     "metadata": {},
     "output_type": "execute_result"
    },
    {
     "data": {
      "image/png": "[encoded data removed]",
      "text/plain": [
       "<Figure size 640x480 with 1 Axes>"
      ]
     },
     "metadata": {},
     "output_type": "display_data"
    }
   ],
   "source": [
    "import matplotlib.pyplot as plt\n",
    "\n",
    "plt.plot(x_1, waves[0][0])\n",
    "plt.plot(x_2, waves[1][0])"
   ]
  },
  {
   "cell_type": "code",
   "execution_count": 77,
   "id": "bb3e8221-624f-4c07-a6e0-97670b6bf9bf",
   "metadata": {},
   "outputs": [],
   "source": [
    "## Define command table\n",
    "## Initialize command table\n",
    "ct_schema = device.sgchannels[SG_CHAN_INDEX].awg.commandtable.load_validation_schema()\n",
    "ct = CommandTable(ct_schema)\n",
    "\n",
    "## Waveform 0 with oscillator 1\n",
    "ct.table[0].waveform.index = 0\n",
    "ct.table[0].amplitude00.value = 1.0\n",
    "ct.table[0].amplitude01.value = -1.0\n",
    "ct.table[0].amplitude10.value = 1.0\n",
    "ct.table[0].amplitude11.value = 1.0\n",
    "ct.table[0].phase.value = 0.0\n",
    "ct.table[0].oscillatorSelect.value = 0\n",
    "\n",
    "## Waveform 1 with oscillator 2\n",
    "ct.table[1].waveform.index = 0\n",
    "ct.table[1].amplitude00.value = 1.0\n",
    "ct.table[1].amplitude01.value = -1.0\n",
    "ct.table[1].amplitude10.value = 1.0\n",
    "ct.table[1].amplitude11.value = 1.0\n",
    "ct.table[1].phase.value = 0.0\n",
    "ct.table[1].oscillatorSelect.value = 1\n",
    "\n",
    "## Waveform 1 with oscillator 1 and different phase\n",
    "ct.table[2].waveform.index = 0\n",
    "ct.table[2].amplitude00.value = 1.0\n",
    "ct.table[2].amplitude01.value = -1.0\n",
    "ct.table[2].amplitude10.value = 1.0\n",
    "ct.table[2].amplitude11.value = 1.0\n",
    "ct.table[2].phase.value = 90.0\n",
    "ct.table[2].oscillatorSelect.value = 0\n",
    "\n",
    "## Upload command table\n",
    "device.sgchannels[SG_CHAN_INDEX].awg.commandtable.upload_to_device(ct)\n"
   ]
  },
  {
   "cell_type": "code",
   "execution_count": 87,
   "id": "5af6f349-764d-43b3-885f-86dca9ff2743",
   "metadata": {},
   "outputs": [],
   "source": [
    "## Enable sequencer\n",
    "device.sgchannels[SG_CHAN_INDEX].awg.enable_sequencer(single = 1)\n",
    "# saved as 4.png"
   ]
  },
  {
   "cell_type": "markdown",
   "id": "ef196a3d-f815-471f-8065-412c26b847b7",
   "metadata": {},
   "source": [
    "# Our sweeps\n"
   ]
  },
  {
   "cell_type": "markdown",
   "id": "a1393044-9ab3-4e9e-b9c0-c52b71c22dab",
   "metadata": {},
   "source": [
    "## Simple square pulse"
   ]
  },
  {
   "cell_type": "code",
   "execution_count": 359,
   "id": "164df98a-a369-4b2a-beeb-efe496ad6d96",
   "metadata": {},
   "outputs": [],
   "source": [
    "SG_CHAN_INDEX = 5 # which channel to be used, here: first channel\n",
    "\n",
    "##determine which synthesizer is used by the desired channel\n",
    "synth = device.sgchannels[SG_CHAN_INDEX].synthesizer()\n",
    "\n",
    "with device.set_transaction():\n",
    "    # RF output settings\n",
    "    device.sgchannels[SG_CHAN_INDEX].output.range(10) #output range in dBm\n",
    "    device.sgchannels[SG_CHAN_INDEX].output.rflfpath(0) #use RF path, not LF path\n",
    "    device.synthesizers[synth].centerfreq(0) #set the corresponding synthesizer frequency in Hz\n",
    "    device.sgchannels[SG_CHAN_INDEX].output.on(1) #enable output\n",
    "    # Digital modulation settings\n",
    "    device.sgchannels[SG_CHAN_INDEX].awg.outputamplitude(1.0) #set the amplitude for the AWG outputs\n",
    "    device.sgchannels[SG_CHAN_INDEX].oscs[0].freq(0) #frequency of oscillator 1 in Hz\n",
    "    device.sgchannels[SG_CHAN_INDEX].oscs[1].freq(0) #frequency of oscillator 2 in Hz\n",
    "    device.sgchannels[SG_CHAN_INDEX].awg.modulation.enable(1) #enable digital modulation\n",
    "    # Triggering settings\n",
    "    device.sgchannels[SG_CHAN_INDEX].marker.source(0) #AWG trigger 1"
   ]
  },
  {
   "cell_type": "code",
   "execution_count": 161,
   "id": "84fa48ca-b15a-4cdf-9027-744ccae8ae35",
   "metadata": {},
   "outputs": [
    {
     "name": "stdout",
     "output_type": "stream",
     "text": [
      "wave demo = placeholder(1024, false, false);\n",
      "wave demo = placeholder(1024, false, false);\n",
      "assignWaveIndex(demo, demo, 0);\n"
     ]
    }
   ],
   "source": [
    "# define the waveform\n",
    "from zhinst.toolkit.waveform import Wave\n",
    "\n",
    "wave01 = Wave(np.ones(1024), name=\"demo\")\n",
    "\n",
    "waveforms = Waveforms()\n",
    "waveforms.assign_waveform(\n",
    "    slot= 0, # index in assignWaveIndex\n",
    "    wave1= wave01,\n",
    "    wave2= wave01,\n",
    ")\n",
    "\n",
    "# Before upload get sequence code\n",
    "print(waveforms.get_sequence_snippet())"
   ]
  },
  {
   "cell_type": "code",
   "execution_count": 162,
   "id": "d6ff4d0f-50be-4d88-86cc-276ddb63236a",
   "metadata": {},
   "outputs": [
    {
     "name": "stdout",
     "output_type": "stream",
     "text": [
      "// Waveforms declaration\n",
      "wave demo = placeholder(1024, false, false);\n",
      "wave demo = placeholder(1024, false, false);\n",
      "assignWaveIndex(demo, demo, 0);\n",
      "// Reset the oscillator phase\n",
      "resetOscPhase();\n",
      "\n",
      "// Trigger the scope\n",
      "setTrigger(1);\n",
      "setTrigger(0);\n",
      "\n",
      "// execute the first command table entry\n",
      "executeTableEntry(0);\n",
      "playZero(1024);\n",
      "// execute the second command table entry\n",
      "executeTableEntry(1);\n",
      "\n"
     ]
    },
    {
     "data": {
      "text/plain": [
       "{'messages': '', 'maxelfsize': 2147483648}"
      ]
     },
     "execution_count": 162,
     "metadata": {},
     "output_type": "execute_result"
    }
   ],
   "source": [
    "from zhinst.toolkit import Sequence\n",
    "\n",
    "seq = Sequence()\n",
    "\n",
    "seq.waveforms = waveforms\n",
    "seq.code = \"\"\"\\\n",
    "// Reset the oscillator phase\n",
    "resetOscPhase();\n",
    "\n",
    "// Trigger the scope\n",
    "setTrigger(1);\n",
    "setTrigger(0);\n",
    "\n",
    "// execute the first command table entry\n",
    "executeTableEntry(0);\n",
    "playZero(1024);\n",
    "// execute the second command table entry\n",
    "executeTableEntry(1);\n",
    "\"\"\"\n",
    "\n",
    "print(seq)\n",
    "\n",
    "## Upload sequence\n",
    "device.sgchannels[SG_CHAN_INDEX].awg.load_sequencer_program(seqc_program)"
   ]
  },
  {
   "cell_type": "code",
   "execution_count": 188,
   "id": "4cb3c917-cdf2-44c5-83be-393e811882e8",
   "metadata": {},
   "outputs": [],
   "source": [
    "## Initialize command table\n",
    "ct_schema = device.sgchannels[SG_CHAN_INDEX].awg.commandtable.load_validation_schema()\n",
    "ct = CommandTable(ct_schema)\n",
    "\n",
    "## Index of wave table and command table entries\n",
    "TABLE_INDEX = 0\n",
    "WAVE_INDEX = 0\n",
    "gain = 1.0\n",
    "\n",
    "# match amplitudeXX to \"Digital Modulation\" Output Gains\n",
    "\n",
    "# Initialize amplitude register 1\n",
    "ct.table[0].amplitude00.value = 0.0\n",
    "ct.table[0].amplitude00.increment = False\n",
    "ct.table[0].amplitude10.value = 0.0\n",
    "ct.table[0].amplitude10.increment = False\n",
    "ct.table[0].amplitudeRegister = 1\n",
    "ct.table[0].amplitude01.value = 0.0\n",
    "ct.table[0].amplitude11.value = 0.0\n",
    "#ct.table[0].waveform.length = 10240\n",
    "#ct.table[0].waveform.playHold = True\n",
    "\n",
    "## Same waveform with different amplitude and phase settings\n",
    "ct.table[TABLE_INDEX+1].waveform.index = WAVE_INDEX\n",
    "ct.table[TABLE_INDEX+1].amplitude00.value = gain/2\n",
    "ct.table[TABLE_INDEX+1].amplitude01.value = -gain/2\n",
    "ct.table[TABLE_INDEX+1].amplitude10.value = gain/2\n",
    "ct.table[TABLE_INDEX+1].amplitude11.value = gain/2\n",
    "ct.table[TABLE_INDEX+1].phase.value = 180\n",
    "#ct.table[1].amplitudeRegister = 1\n",
    "ct.table[1].waveform.length = 1008\n",
    "ct.table[1].waveform.samplingRateDivider = 3  # 2^X divider\n",
    "#ct.table[1].waveform.playHold = True\n",
    "\n",
    "device.sgchannels[SG_CHAN_INDEX].awg.commandtable.upload_to_device(ct)"
   ]
  },
  {
   "cell_type": "code",
   "execution_count": 189,
   "id": "1af0a39a-92ba-4f71-bc8c-28e527677e0b",
   "metadata": {},
   "outputs": [],
   "source": [
    "device.sgchannels[SG_CHAN_INDEX].awg.enable_sequencer(single = 1)\n",
    "\n",
    "# saved as 5.png"
   ]
  },
  {
   "cell_type": "code",
   "execution_count": 179,
   "id": "098120fd-9f2d-4dae-b101-e529161b9fd4",
   "metadata": {},
   "outputs": [
    {
     "data": {
      "text/plain": [
       "2016000000.0"
      ]
     },
     "execution_count": 179,
     "metadata": {},
     "output_type": "execute_result"
    }
   ],
   "source": [
    "1/(500e-9/1008)  # gives 2GHz sampling by default"
   ]
  },
  {
   "cell_type": "code",
   "execution_count": 177,
   "id": "d4128cf6-2b84-4397-88c8-6a3363be8dcb",
   "metadata": {},
   "outputs": [
    {
     "data": {
      "text/plain": [
       "8064000.0"
      ]
     },
     "execution_count": 177,
     "metadata": {},
     "output_type": "execute_result"
    }
   ],
   "source": [
    "1/(125e-6/1008)"
   ]
  },
  {
   "cell_type": "code",
   "execution_count": 182,
   "id": "5156848e-f0df-4930-a8ef-efda1b7288c0",
   "metadata": {},
   "outputs": [
    {
     "data": {
      "text/plain": [
       "126000000.0"
      ]
     },
     "execution_count": 182,
     "metadata": {},
     "output_type": "execute_result"
    }
   ],
   "source": [
    "1/(8e-6/1008)"
   ]
  },
  {
   "cell_type": "code",
   "execution_count": 187,
   "id": "854a9dbc-2bbc-4617-b2db-b79541a6ecc0",
   "metadata": {},
   "outputs": [
    {
     "data": {
      "text/plain": [
       "256"
      ]
     },
     "execution_count": 187,
     "metadata": {},
     "output_type": "execute_result"
    }
   ],
   "source": [
    "2**8"
   ]
  },
  {
   "cell_type": "markdown",
   "id": "831b40c6-653a-49a2-b08e-0190c33538b6",
   "metadata": {},
   "source": [
    "### Two different pulses"
   ]
  },
  {
   "cell_type": "code",
   "execution_count": 360,
   "id": "4b744739-1433-4635-b2e0-2cdad30ce737",
   "metadata": {},
   "outputs": [],
   "source": [
    "# Initialize command table\n",
    "ct_schema = device.sgchannels[SG_CHAN_INDEX].awg.commandtable.load_validation_schema()\n",
    "ct = CommandTable(ct_schema)\n",
    "\n",
    "# Index of wave table and command table entries\n",
    "TABLE_INDEX = 0\n",
    "WAVE_INDEX = 0\n",
    "gain = 1.0\n",
    "\n",
    "ct.table[0].waveform.index = WAVE_INDEX\n",
    "ct.table[0].amplitude00.value = gain\n",
    "ct.table[0].amplitude01.value = -gain\n",
    "ct.table[0].amplitude10.value = gain\n",
    "ct.table[0].amplitude11.value = gain\n",
    "ct.table[0].waveform.length = 1024\n",
    "\n",
    "# Same waveform with different amplitude and length settings\n",
    "ct.table[1].waveform.index = WAVE_INDEX\n",
    "ct.table[1].amplitude00.value = gain/2\n",
    "ct.table[1].amplitude01.value = -gain/2\n",
    "ct.table[1].amplitude10.value = gain/2\n",
    "ct.table[1].amplitude11.value = gain/2\n",
    "ct.table[1].waveform.length = 4096\n",
    "#ct.table[1].waveform.samplingRateDivider = 3  # 2^X divider\n",
    "\n",
    "\n",
    "device.sgchannels[SG_CHAN_INDEX].awg.commandtable.upload_to_device(ct)"
   ]
  },
  {
   "cell_type": "code",
   "execution_count": 361,
   "id": "0757737b-26c2-4890-b2a3-e8419f4d09b3",
   "metadata": {},
   "outputs": [],
   "source": [
    "device.sgchannels[SG_CHAN_INDEX].awg.enable_sequencer(single = 1)\n",
    "\n",
    "# saved as 6.png"
   ]
  },
  {
   "cell_type": "markdown",
   "id": "b28860ab-ede6-455c-84ac-1963102c67d3",
   "metadata": {},
   "source": [
    "## Ramped pulse\n",
    "Do it by really fine steps"
   ]
  },
  {
   "cell_type": "code",
   "execution_count": 375,
   "id": "6e41b548-9a01-4cef-bcc4-e840364750dd",
   "metadata": {},
   "outputs": [
    {
     "data": {
      "text/plain": [
       "{'messages': '', 'maxelfsize': 2147483648}"
      ]
     },
     "execution_count": 375,
     "metadata": {},
     "output_type": "execute_result"
    }
   ],
   "source": [
    "seqc_program = \"\"\"\\\n",
    "//Waveform definition\n",
    "wave w = ones(1024);\n",
    "\n",
    "//Assign index and outputs\n",
    "assignWaveIndex(1,2,w,0);\n",
    "\n",
    "// Trigger the scope\n",
    "setTrigger(1);\n",
    "setTrigger(0);\n",
    "\n",
    "var i = 30;\n",
    "executeTableEntry(0);\n",
    "do {\n",
    "  executeTableEntry(1);\n",
    "  i-=1;\n",
    "} while(i);\n",
    "\n",
    "// do another but negative\n",
    "playZero(1024);\n",
    "\n",
    "i = 30;\n",
    "executeTableEntry(3);\n",
    "do {\n",
    "  executeTableEntry(2);\n",
    "  i-=1;\n",
    "} while(i);\n",
    "\"\"\"\n",
    "\n",
    "# Upload sequence\n",
    "device.sgchannels[SG_CHAN_INDEX].awg.load_sequencer_program(seqc_program)"
   ]
  },
  {
   "cell_type": "code",
   "execution_count": 380,
   "id": "97b40e24-d302-4f53-a72d-d8da1aa7c011",
   "metadata": {},
   "outputs": [],
   "source": [
    "ct_schema = device.sgchannels[0].awg.commandtable.load_validation_schema()\n",
    "ct = CommandTable(ct_schema)\n",
    "\n",
    "gain = 0.3\n",
    "step = 0.05\n",
    "\n",
    "ct.table[0].waveform.index = 0\n",
    "ct.table[0].amplitude00.value = gain\n",
    "ct.table[0].amplitude01.value = -gain\n",
    "ct.table[0].amplitude10.value = gain\n",
    "ct.table[0].amplitude11.value = gain\n",
    "#ct.table[0].waveform.length = 1024\n",
    "ct.table[0].amplitude00.increment = False\n",
    "ct.table[0].amplitude10.increment = False\n",
    "ct.table[0].amplitudeRegister = 1\n",
    "ct.table[0].waveform.length = 16\n",
    "\n",
    "# positive increase\n",
    "ct.table[1].waveform.index = 0\n",
    "ct.table[1].amplitude00.value = gain*step\n",
    "ct.table[1].amplitude00.increment = True\n",
    "ct.table[1].amplitude10.value = gain*step\n",
    "ct.table[1].amplitude10.increment = True\n",
    "ct.table[1].amplitudeRegister = 1\n",
    "ct.table[1].waveform.length = 512\n",
    "ct.table[1].waveform.samplingRateDivider = 1  # 2^X divider\n",
    "\n",
    "# negative initial\n",
    "ct.table[3].waveform.index = 0\n",
    "ct.table[3].amplitude00.value = -gain\n",
    "ct.table[3].amplitude01.value = gain\n",
    "ct.table[3].amplitude10.value = -gain\n",
    "ct.table[3].amplitude11.value = -gain\n",
    "#ct.table[0].waveform.length = 1024\n",
    "ct.table[3].amplitude00.increment = False\n",
    "ct.table[3].amplitude10.increment = False\n",
    "ct.table[3].amplitudeRegister = 1\n",
    "ct.table[3].waveform.length = 16\n",
    "\n",
    "# negative increase\n",
    "ct.table[2].waveform.index = 0\n",
    "ct.table[2].amplitude00.value = -gain*step\n",
    "ct.table[2].amplitude00.increment = True\n",
    "ct.table[2].amplitude10.value = -gain*step\n",
    "ct.table[2].amplitude10.increment = True\n",
    "ct.table[2].amplitudeRegister = 1\n",
    "ct.table[2].waveform.length = 128\n",
    "ct.table[2].waveform.samplingRateDivider = 1\n",
    "\n",
    "# Upload command table\n",
    "device.sgchannels[SG_CHAN_INDEX].awg.commandtable.upload_to_device(ct)"
   ]
  },
  {
   "cell_type": "code",
   "execution_count": 381,
   "id": "b91023b2-65f7-4c0d-a094-1bf61b7b5b62",
   "metadata": {},
   "outputs": [],
   "source": [
    "device.sgchannels[SG_CHAN_INDEX].awg.enable_sequencer(single = 1)\n",
    "# saved as 7.png"
   ]
  },
  {
   "cell_type": "code",
   "execution_count": 207,
   "id": "f3d292e3-3022-4469-a22d-c560619a3c50",
   "metadata": {},
   "outputs": [
    {
     "data": {
      "text/plain": [
       "{'description': 'The length of the waveform in samples',\n",
       " 'type': 'integer',\n",
       " 'multipleOf': 16,\n",
       " 'minimum': 16}"
      ]
     },
     "execution_count": 207,
     "metadata": {},
     "output_type": "execute_result"
    }
   ],
   "source": [
    "ct.table[1].waveform.info(\"length\")"
   ]
  },
  {
   "cell_type": "code",
   "execution_count": 469,
   "id": "36f0ead7-ccc9-4c19-a2df-5ecf497f7c30",
   "metadata": {},
   "outputs": [
    {
     "data": {
      "text/plain": [
       "{'description': 'The length of the waveform in samples',\n",
       " 'type': 'integer',\n",
       " 'multipleOf': 16,\n",
       " 'minimum': 16}"
      ]
     },
     "execution_count": 469,
     "metadata": {},
     "output_type": "execute_result"
    }
   ],
   "source": [
    "ct.table[1].waveform.info(\"length\")"
   ]
  },
  {
   "cell_type": "code",
   "execution_count": 238,
   "id": "86d54408-df2f-407f-a7f1-5d2022479794",
   "metadata": {},
   "outputs": [
    {
     "data": {
      "text/plain": [
       "16384"
      ]
     },
     "execution_count": 238,
     "metadata": {},
     "output_type": "execute_result"
    }
   ],
   "source": [
    "2**14"
   ]
  },
  {
   "cell_type": "markdown",
   "id": "d7d734b8-a3a1-4504-93bd-50ae5d07a011",
   "metadata": {},
   "source": [
    "### AC Gate decay tests"
   ]
  },
  {
   "cell_type": "code",
   "execution_count": null,
   "id": "9061f041-9622-47ef-ac96-95bb78f9be6c",
   "metadata": {},
   "outputs": [],
   "source": []
  },
  {
   "cell_type": "code",
   "execution_count": 492,
   "id": "49dc6a7b-7f9a-43ce-9562-64ba77208c8c",
   "metadata": {},
   "outputs": [
    {
     "data": {
      "text/plain": [
       "{'messages': '', 'maxelfsize': 2147483648}"
      ]
     },
     "execution_count": 492,
     "metadata": {},
     "output_type": "execute_result"
    }
   ],
   "source": [
    "seqc_program = \"\"\"\\\n",
    "//Waveform definition\n",
    "wave w = ones(102400);\n",
    "\n",
    "//Assign index and outputs\n",
    "assignWaveIndex(1,2,w,0);\n",
    "\n",
    "// Reset the oscillator phase\n",
    "resetOscPhase();\n",
    "\n",
    "// Trigger the scope\n",
    "setTrigger(1);\n",
    "setTrigger(0);\n",
    "\n",
    "var i = 1;\n",
    "executeTableEntry(0);\n",
    "playZero(1600);\n",
    "do {\n",
    "  executeTableEntry(i);\n",
    "  playZero(640);\n",
    "  i += 1;\n",
    "} while(i < 36);\n",
    "\"\"\"\n",
    "\n",
    "# Upload sequence\n",
    "device.sgchannels[SG_CHAN_INDEX].awg.load_sequencer_program(seqc_program)"
   ]
  },
  {
   "cell_type": "code",
   "execution_count": 338,
   "id": "eeca0347-b50b-4232-a392-a8798af4bb7e",
   "metadata": {},
   "outputs": [
    {
     "data": {
      "text/plain": [
       "(36,)"
      ]
     },
     "execution_count": 338,
     "metadata": {},
     "output_type": "execute_result"
    }
   ],
   "source": [
    "np.arange(6256, 62560, 1600).shape"
   ]
  },
  {
   "cell_type": "code",
   "execution_count": 339,
   "id": "20170acf-63ec-4c72-8328-fbf74446c442",
   "metadata": {},
   "outputs": [
    {
     "data": {
      "text/plain": [
       "491.0"
      ]
     },
     "execution_count": 339,
     "metadata": {},
     "output_type": "execute_result"
    }
   ],
   "source": [
    "7856/16"
   ]
  },
  {
   "cell_type": "code",
   "execution_count": 493,
   "id": "d3969190-4436-447d-8190-d342699e5bfb",
   "metadata": {
    "scrolled": true
   },
   "outputs": [
    {
     "name": "stdout",
     "output_type": "stream",
     "text": [
      "2\n",
      "3\n",
      "4\n",
      "5\n"
     ]
    }
   ],
   "source": [
    "ct_schema = device.sgchannels[SG_CHAN_INDEX].awg.commandtable.load_validation_schema()\n",
    "ct = CommandTable(ct_schema)\n",
    "\n",
    "gain = 0.3\n",
    "# lengths = [  128,  1728,  3328,  4928,  6528,  8128,  9728, 11328, 12928,\n",
    "#        14528, 16128, 17728, 19328, 20928, 22528, 24128, 25728, 27328,\n",
    "#        28928, 30528, 32128, 33728, 35328, 36928, 38528, 40128, 41728,\n",
    "#        43328, 44928, 46528, 48128, 49728, 51328, 52928, 54528, 56128,\n",
    "#        57728, 59328, 60928, 62528]\n",
    "\n",
    "lengths = np.arange(16, 160000, 1600)\n",
    "\n",
    "ct.table[0].waveform.index = 0\n",
    "ct.table[0].amplitude00.value = gain\n",
    "ct.table[0].amplitude01.value = -gain\n",
    "ct.table[0].amplitude10.value = gain\n",
    "ct.table[0].amplitude11.value = gain\n",
    "ct.table[0].amplitudeRegister = 1\n",
    "ct.table[0].waveform.length = 160\n",
    "#ct.table[0].waveform.samplingRateDivider = 3\n",
    "\n",
    "ct.table[1].waveform.index = 0\n",
    "ct.table[1].amplitude00.value = gain\n",
    "ct.table[1].amplitude01.value = -gain\n",
    "ct.table[1].amplitude10.value = gain\n",
    "ct.table[1].amplitude11.value = gain\n",
    "ct.table[1].amplitudeRegister = 1\n",
    "#ct.table[i].waveform.samplingRateDivider = 3\n",
    "ct.table[1].waveform.length = int(2048)\n",
    "\n",
    "for i in range(2, 6):\n",
    "    ct.table[i].waveform.index = 0\n",
    "    ct.table[i].amplitude00.value = gain\n",
    "    ct.table[i].amplitude01.value = -gain\n",
    "    ct.table[i].amplitude10.value = gain\n",
    "    ct.table[i].amplitude11.value = gain\n",
    "\n",
    "    ct.table[i].amplitudeRegister = 1\n",
    "    #ct.table[i].waveform.samplingRateDivider = 3\n",
    "    ct.table[i].waveform.length = 3200*i\n",
    "    print(i)\n",
    "    \n",
    "\n",
    "#print(ct.as_dict()[\"table\"])\n",
    "\n",
    "device.sgchannels[SG_CHAN_INDEX].awg.commandtable.upload_to_device(ct)"
   ]
  },
  {
   "cell_type": "code",
   "execution_count": 496,
   "id": "b9846e5a-602b-49d9-bbff-3a69c6fc9d10",
   "metadata": {},
   "outputs": [],
   "source": [
    "device.sgchannels[SG_CHAN_INDEX].awg.enable_sequencer(single = 1)"
   ]
  },
  {
   "cell_type": "code",
   "execution_count": 321,
   "id": "faaba808-c1e4-4090-b099-2ed90cbd9329",
   "metadata": {
    "scrolled": true
   },
   "outputs": [
    {
     "data": {
      "text/plain": [
       "[128,\n",
       " 1728,\n",
       " 3328,\n",
       " 4928,\n",
       " 6528,\n",
       " 8128,\n",
       " 9728,\n",
       " 11328,\n",
       " 12928,\n",
       " 14528,\n",
       " 16128,\n",
       " 17728,\n",
       " 19328,\n",
       " 20928,\n",
       " 22528,\n",
       " 24128,\n",
       " 25728,\n",
       " 27328,\n",
       " 28928,\n",
       " 30528,\n",
       " 32128,\n",
       " 33728,\n",
       " 35328,\n",
       " 36928,\n",
       " 38528,\n",
       " 40128,\n",
       " 41728,\n",
       " 43328,\n",
       " 44928,\n",
       " 46528,\n",
       " 48128,\n",
       " 49728,\n",
       " 51328,\n",
       " 52928,\n",
       " 54528,\n",
       " 56128,\n",
       " 57728,\n",
       " 59328,\n",
       " 60928,\n",
       " 62528]"
      ]
     },
     "execution_count": 321,
     "metadata": {},
     "output_type": "execute_result"
    }
   ],
   "source": [
    "lengths"
   ]
  },
  {
   "cell_type": "code",
   "execution_count": 296,
   "id": "5a6c00db-4b65-4099-a1f5-abf80b8ee401",
   "metadata": {},
   "outputs": [
    {
     "data": {
      "text/plain": [
       "(40,)"
      ]
     },
     "execution_count": 296,
     "metadata": {},
     "output_type": "execute_result"
    }
   ],
   "source": [
    "lengths.shape"
   ]
  },
  {
   "cell_type": "code",
   "execution_count": null,
   "id": "6acb41c2-342b-4afe-a28c-e977ad88d660",
   "metadata": {},
   "outputs": [],
   "source": []
  }
 ],
 "metadata": {
  "kernelspec": {
   "display_name": "Python 3 (ipykernel)",
   "language": "python",
   "name": "python3"
  },
  "language_info": {
   "codemirror_mode": {
    "name": "ipython",
    "version": 3
   },
   "file_extension": ".py",
   "mimetype": "text/x-python",
   "name": "python",
   "nbconvert_exporter": "python",
   "pygments_lexer": "ipython3",
   "version": "3.12.3"
  }
 },
 "nbformat": 4,
 "nbformat_minor": 5
}
