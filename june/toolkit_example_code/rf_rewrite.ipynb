{
 "cells": [
  {
   "cell_type": "markdown",
   "id": "1afc43f7-2a87-47c6-ab9c-ed977a69fb58",
   "metadata": {},
   "source": [
    "rewrite `rf.ipynb` from laboneq into zhinst-toolkit instead."
   ]
  },
  {
   "cell_type": "code",
   "execution_count": 1,
   "id": "bb933d15-2fc0-4ea6-8f5f-ea43e16555f2",
   "metadata": {},
   "outputs": [
    {
     "name": "stdout",
     "output_type": "stream",
     "text": [
      "Added 'quench/' and 'quench/libraries' for easy importing.\n"
     ]
    }
   ],
   "source": [
    "%matplotlib inline\n",
    "import local_broom"
   ]
  },
  {
   "cell_type": "code",
   "execution_count": 2,
   "id": "a308c86c-7f78-4f95-a4ff-ea1f1e69cac4",
   "metadata": {},
   "outputs": [
    {
     "name": "stderr",
     "output_type": "stream",
     "text": [
      "C:\\Users\\LD2007\\AppData\\Local\\Temp\\ipykernel_24132\\652053071.py:5: TqdmExperimentalWarning: Using `tqdm.autonotebook.tqdm` in notebook mode. Use `tqdm.tqdm` instead to force console mode (e.g. in jupyter console)\n",
      "  from tqdm.autonotebook import tqdm\n"
     ]
    }
   ],
   "source": [
    "from zhinst.toolkit import Session, CommandTable, Sequence, Waveforms, SHFQAChannelMode\n",
    "\n",
    "import matplotlib.pyplot as plt\n",
    "import numpy as np\n",
    "from tqdm.autonotebook import tqdm\n",
    "\n",
    "import time\n",
    "from monty import Monty"
   ]
  },
  {
   "cell_type": "code",
   "execution_count": 3,
   "id": "0e22f4ac-eb4a-47ef-9d52-3a73a97c3b11",
   "metadata": {},
   "outputs": [
    {
     "name": "stdout",
     "output_type": "stream",
     "text": [
      "Started new experiment rf.toolkit_testing\n"
     ]
    }
   ],
   "source": [
    "experiment = {\n",
    "    \"desc\": \"Run RF measurements with toolkit.\"\n",
    "}\n",
    "\n",
    "monty = Monty(\"rf.toolkit testing\", experiment)"
   ]
  },
  {
   "cell_type": "code",
   "execution_count": 4,
   "id": "3f03a74c-8625-4e43-9c92-c7f5c6a22334",
   "metadata": {},
   "outputs": [],
   "source": [
    "# connect to instruments\n",
    "\n",
    "DEVICE_ID = 'DEV12158'\n",
    "SERVER_HOST = 'localhost'\n",
    "\n",
    "# connect to data server\n",
    "session = Session(SERVER_HOST)\n",
    "\n",
    "# connect to device\n",
    "device = session.connect_device(DEVICE_ID)"
   ]
  },
  {
   "cell_type": "code",
   "execution_count": 115,
   "id": "4b509731-b72e-4b17-8479-c8c6a07d7950",
   "metadata": {},
   "outputs": [],
   "source": [
    "session.disconnect_device(DEVICE_ID)"
   ]
  },
  {
   "cell_type": "code",
   "execution_count": 5,
   "id": "e39bdbc5-1e02-40c3-8d3f-005c5f4d4df6",
   "metadata": {},
   "outputs": [],
   "source": [
    "# Create channel maps for simplicity\n",
    "\n",
    "chan = {\n",
    "    \"measure\": device.qachannels[0],  # measure and acquire lines\n",
    "    \"ST\": device.sgchannels[5],  # drive SET (ST) line\n",
    "    \"P1\": device.sgchannels[5],  # drive\n",
    "    \"P2\": device.sgchannels[5],  # drive\n",
    "    \"J1\": device.sgchannels[5],  # drive\n",
    "}\n",
    "\n",
    "drive_chans = [\"ST\", \"P1\", \"P2\", \"J1\"]  # match keys above"
   ]
  },
  {
   "cell_type": "code",
   "execution_count": 103,
   "id": "1b26a66c-a904-4d39-a68c-314d7dc8554c",
   "metadata": {},
   "outputs": [],
   "source": [
    "# setup the drive outputs to rapid LF DC measurements\n",
    "# WARNING: I think the order of these commands matter. Wrap in with statement to send simultaniously\n",
    "with device.set_transaction():\n",
    "    for c in drive_chans:\n",
    "        chan[c].output.range(5)  # in dBm\n",
    "        chan[c].output.rflfpath(0)  # use LF not RF (1 for RF)\n",
    "    \n",
    "        chan[c].output.on(1)  # enable the channel (rememeber to disable it later)\n",
    "\n",
    "        # set the center synth frequency (oscillator frequency)\n",
    "        synth = chan[c].synthesizer()\n",
    "        device.synthesizers[synth].centerfreq(0)  # in Hz\n",
    "    \n",
    "        chan[c].awg.outputamplitude(1.0)  # overall amplitude scaling factor (don't really need to change)\n",
    "        chan[c].oscs[0].freq(0)  # oscillator 1 frequency (Hz) disable for DC\n",
    "        chan[c].oscs[1].freq(0)  # oscillator 2 frequency (Hz)\n",
    "        chan[c].awg.modulation.enable(1)  # start digital modulation\n",
    "    \n",
    "        #chan[c].marker.source(0)  # setup the AWG trigger 1\n",
    "        chan[c].awg.auxtriggers[0].channel(8)  # match to QA0 channel\n",
    "\n",
    "    \n",
    "    chan[\"measure\"].output.rflfpath(0)\n",
    "    chan[\"measure\"].input.rflfpath(0)\n",
    "    #chan[\"measure\"].output.digitalmixer.centerfreq(400e6)\n",
    "    chan[\"measure\"].oscs[0].freq(406.6e6)\n",
    "    chan[\"measure\"].oscs[0].gain(1.0)\n",
    "    #chan[\"measure\"].centerfreq(0)  # in Hz (appears to be ignored when in LF mode. immutable?)\n",
    "    chan[\"measure\"].generator.auxtriggers[0].channel(8)\n",
    "    chan[\"measure\"].generator.enable(0)\n",
    "    \n",
    "    chan[\"measure\"].spectroscopy.delay(220e-9) # integration delay in units of second\n",
    "    chan[\"measure\"].spectroscopy.length(1024) # integration length in units of number of samples\n",
    "    chan[\"measure\"].spectroscopy.result.averages(1) # number of averages \n",
    "    \n",
    "    chan[\"measure\"].spectroscopy.result.enable(0) # disable result logger\n",
    "    chan[\"measure\"].spectroscopy.result.length(4096)\n",
    "\n",
    "    chan[\"measure\"].input.range(0)\n",
    "    chan[\"measure\"].output.range(-5)\n",
    "    chan[\"measure\"].input.on(1)\n",
    "    chan[\"measure\"].output.on(1)\n",
    "\n",
    "\n",
    "chan[\"measure\"].configure_channel(\n",
    "    center_frequency=0,  # in units of Hz  # minimum of 600MHz\n",
    "    input_range=-10,  # in units of dBm\n",
    "    output_range=-20,  # in units of dBm\n",
    "    mode=SHFQAChannelMode.SPECTROSCOPY,  # SHFQAChannelMode.READOUT or SHFQAChannelMode.SPECTROSCOPY\n",
    ")\n",
    "\n",
    "chan[\"measure\"].input.on(1)\n",
    "chan[\"measure\"].output.on(1)\n",
    "\n",
    "chan[\"measure\"].generator.configure_sequencer_triggering(\n",
    "    aux_trigger=8,  # internal trigger\n",
    "    play_pulse_delay=0,  # 0s delay between startQA trigger and the readout pulse\n",
    ")\n",
    "\n",
    "device.system.internaltrigger.repetitions(1)\n",
    "device.system.internaltrigger.holdoff(100e-6)\n",
    "\n",
    "\n"
   ]
  },
  {
   "cell_type": "code",
   "execution_count": null,
   "id": "a3e402bd-accb-4384-9f73-13ad7efa53ab",
   "metadata": {},
   "outputs": [],
   "source": [
    "chan[\"measure\"].output.digitalmixer.centerfreq()"
   ]
  },
  {
   "cell_type": "code",
   "execution_count": null,
   "id": "182e78b3-93c0-4acb-8af9-499866d16d5a",
   "metadata": {},
   "outputs": [],
   "source": [
    "chan[\"measure\"].markers(0)"
   ]
  },
  {
   "cell_type": "code",
   "execution_count": null,
   "id": "8bb7d6ba-6948-4a1e-bdc4-eb6df7f6503e",
   "metadata": {},
   "outputs": [],
   "source": [
    "dir(chan[\"measure\"].markers[0])\n",
    "#dir(device.scopes[0])"
   ]
  },
  {
   "cell_type": "markdown",
   "id": "5a447e26-e01f-497b-aa11-36b7fcb6f4f6",
   "metadata": {
    "jp-MarkdownHeadingCollapsed": true
   },
   "source": [
    "## Frequency Sweep\n",
    "Perform a spectroscopy sweep over the impedence network to find the resonant frequency which should be used for measurement.\n",
    "\n"
   ]
  },
  {
   "cell_type": "code",
   "execution_count": null,
   "id": "611d4d83-9ba2-4963-856c-fed53555b21e",
   "metadata": {},
   "outputs": [],
   "source": [
    "# laboneq version:\n",
    "\n",
    "def res_spectroscopy(session, exp_params):\n",
    "    # Create resonator spectroscopy experiment - uses only readout drive and signal acquisition\n",
    "    exp = Experiment(\n",
    "        uid=\"spectroscopy\",\n",
    "        signals=[\n",
    "            ExperimentSignal((\"measure\"), map_to=lsg[\"set\"][\"measure_line\"]),\n",
    "            ExperimentSignal((\"acquire\"), map_to=lsg[\"set\"][\"acquire_line\"]),\n",
    "        ],\n",
    "    )\n",
    "    # define experimental sequence\n",
    "    # loop - average multiple measurements for each frequency - measurement in spectroscopy mode\n",
    "    with exp.acquire_loop_rt(\n",
    "        uid=exp_params[\"exp_name\"] + \"_shots\",\n",
    "        count=2**exp_params[\"num_averages\"],\n",
    "        acquisition_type=AcquisitionType.SPECTROSCOPY,\n",
    "        averaging_mode=AveragingMode.CYCLIC,  # SEQUENTIAL?\n",
    "    ):\n",
    "        with exp.sweep(uid=exp_params[\"exp_name\"], parameter=exp_params[\"freq_sweep\"]):\n",
    "            # readout pulse and data acquisition\n",
    "            with exp.section(uid=\"spectroscopy\"):\n",
    "                # resonator signal readout\n",
    "                exp.acquire(\n",
    "                    signal=\"acquire\",\n",
    "                    handle=exp_params[\"exp_name\"],\n",
    "                    length=exp_params[\"integration_time\"],\n",
    "                )\n",
    "            # relax time after readout - for qubit relaxation to groundstate and signal processing\n",
    "            with exp.section(uid=\"relax\", length=exp_params[\"wait_after_int\"]):\n",
    "                exp.reserve(signal=\"measure\")\n",
    "                exp.reserve(signal=\"acquire\")\n",
    "                    \n",
    "    cal = Calibration()\n",
    "    # sets the oscillator of the experimental measure signal\n",
    "    cal[\"measure\"] = SignalCalibration(\n",
    "        local_oscillator = Oscillator(frequency = exp_params[\"ro_lo\"]),\n",
    "        oscillator=Oscillator(frequency=exp_params[\"freq_sweep\"], modulation_type=ModulationType.HARDWARE),\n",
    "        amplitude=exp_params[\"ro_osc_gain\"],\n",
    "        range = exp_params[\"ro_pout_range\"]\n",
    "    )\n",
    "    cal[\"acquire\"] = SignalCalibration(\n",
    "        local_oscillator = Oscillator(\"ro_cent_f_acquire\", frequency = exp_params[\"ro_lo\"]),\n",
    "        range = exp_params[\"ro_pin_range\"]\n",
    "    )\n",
    "    exp.set_calibration(cal)\n",
    "\n",
    "    results = compile_run(session, exp_params, exp)\n",
    "\n",
    "    return results\n",
    "\n",
    "\n",
    "\n",
    "\n",
    "\n",
    "start_freq = 300.0e6\n",
    "stop_freq = 500.0e6\n",
    "num_points = 401\n",
    "\n",
    "freq_sweep = LinearSweepParameter(\n",
    "    uid =\"res_freq_set\",\n",
    "    start = start_freq,\n",
    "    stop = stop_freq,\n",
    "    count = num_points,\n",
    "    axis_name=\"Frequency [Hz]\"\n",
    ")\n",
    "\n",
    "exp_params_spec = qubit_parameters.copy()\n",
    "exp_params_spec.update({\n",
    "    \"exp_name\": \"cw\",\n",
    "    \"wait_after_int\": 7e-6,\n",
    "    \"integration_time\": 2e-6,\n",
    "    \"ro_osc_gain\": 0.5,\n",
    "    #\"plot_simulation\": 0,\n",
    "    \"num_averages\": 10,\n",
    "    \"freq_sweep\": freq_sweep,\n",
    "    \n",
    "\n",
    "    # overwrite above\n",
    "    \"ro_lo\": 1.0e9,\n",
    "    \"ro_pout_range\": -15,\n",
    "    \"ro_pin_range\": -5\n",
    "})\n",
    "\n",
    "# monty.newrun(\"spectroscopy\", exp_params_spec)\n",
    "results_cw_res = res_spectroscopy(session, exp_params_spec)\n",
    "\n",
    "f = np.transpose(np.array(results_cw_res.acquired_results[exp_params_spec[\"exp_name\"]].axis))\n",
    "data = results_cw_res.acquired_results[exp_params_spec[\"exp_name\"]].data\n",
    "monty.save({\"data\": data})\n",
    "plot_sweeper(f, data, monty=monty)"
   ]
  },
  {
   "cell_type": "code",
   "execution_count": null,
   "id": "d89adef8-6f8d-43c6-9db2-8b94863f1793",
   "metadata": {},
   "outputs": [],
   "source": []
  },
  {
   "cell_type": "markdown",
   "id": "40ef6ce2-e5d8-4d06-aa17-591c377d8493",
   "metadata": {},
   "source": [
    "## ST Gate 1D sweep\n",
    "Measure the Coulomb peaks as ST is swept. This is probably the easiest to code initially"
   ]
  },
  {
   "cell_type": "code",
   "execution_count": 7,
   "id": "e2a18125-ef75-43e5-9e54-edb56784de16",
   "metadata": {},
   "outputs": [
    {
     "data": {
      "text/plain": [
       "{'messages': '', 'maxelfsize': 2147483648}"
      ]
     },
     "execution_count": 7,
     "metadata": {},
     "output_type": "execute_result"
    }
   ],
   "source": [
    "# 1.a Setup Measure pulses\n",
    "\n",
    "seq = Sequence()\n",
    "seq.code = \"\"\"\n",
    "\n",
    "\n",
    "repeat (100) {\n",
    "\n",
    "    // wait for a digital trigger before starting\n",
    "    waitDigTrigger(1);\n",
    "\n",
    "    setTrigger(1);\n",
    "    playZero(16000);\n",
    "    setTrigger(0);\n",
    "\n",
    "    // legacy. only useful in RF mode when we are triggering pulses. For some reason this doens't seem to work in LF mode\n",
    "    // play readout waveform stored in Waveform Memory slot 1,\n",
    "    // send a trigger to start integration,\n",
    "    // and send a Sequencer Monitor trigger to trigger the Scope \n",
    "    //startQA(QA_GEN_0, QA_INT_0, true);\n",
    "}\n",
    "\n",
    "\"\"\"\n",
    "\n",
    "chan[\"measure\"].generator.load_sequencer_program(seq)"
   ]
  },
  {
   "cell_type": "code",
   "execution_count": 8,
   "id": "a444aafb-2a72-46ec-b2fd-f254867616b7",
   "metadata": {},
   "outputs": [],
   "source": [
    "# setup Waveform pulses\n",
    "\n",
    "measure_pulse = np.ones(2048)\n",
    "\n",
    "readout_pulses = Waveforms()\n",
    "readout_pulses.assign_waveform(\n",
    "    slot=0,\n",
    "    wave1=measure_pulse,\n",
    "    #wave2=measure_pulse\n",
    ")\n",
    "\n",
    "chan[\"measure\"].generator.write_to_waveform_memory(readout_pulses)"
   ]
  },
  {
   "cell_type": "code",
   "execution_count": null,
   "id": "a8febb21-353f-409b-a38e-442d5d8db8b7",
   "metadata": {},
   "outputs": [],
   "source": [
    "?chan[\"measure\"].configure_channel"
   ]
  },
  {
   "cell_type": "code",
   "execution_count": 99,
   "id": "0092a9f0-9fe4-4d3e-ab45-10422e779601",
   "metadata": {},
   "outputs": [],
   "source": [
    "# 1.b Configure readout channel (measurement)\n",
    "\n",
    "chan[\"measure\"].configure_channel(\n",
    "    center_frequency=0,  # in units of Hz  # minimum of 600MHz\n",
    "    input_range=-10,  # in units of dBm\n",
    "    output_range=-20,  # in units of dBm\n",
    "    mode=SHFQAChannelMode.SPECTROSCOPY,  # SHFQAChannelMode.READOUT or SHFQAChannelMode.SPECTROSCOPY\n",
    ")\n",
    "\n",
    "chan[\"measure\"].input.on(1)\n",
    "chan[\"measure\"].output.on(1)\n",
    "\n",
    "chan[\"measure\"].generator.configure_sequencer_triggering(\n",
    "    aux_trigger=8,  # internal trigger\n",
    "    play_pulse_delay=0,  # 0s delay between startQA trigger and the readout pulse\n",
    ")\n",
    "\n",
    "device.system.internaltrigger.repetitions(1)\n",
    "device.system.internaltrigger.holdoff(100e-6)"
   ]
  },
  {
   "cell_type": "code",
   "execution_count": null,
   "id": "5fa30232-78bf-4634-bdd2-876c2978a6d2",
   "metadata": {},
   "outputs": [],
   "source": [
    "# 1.c Configure readout scope (data acquisition)\n",
    "#RECORD_DURATION = 1e-6 # in units of second\n",
    "#NUM_SEGMENTS = 1024\n",
    "#SAMPLING_FREQUENCY = 2e9 # in units of Hz###\n",
    "\n",
    "#device.scopes[0].configure(\n",
    "#    input_select={0: \"channel0_signal_input\"},\n",
    "#    num_samples=int(RECORD_DURATION * SAMPLING_FREQUENCY),\n",
    "#    trigger_input=\"channel0_sequencer_monitor0\", # Sequencer 1 monitor trigger\n",
    "#    num_segments=NUM_SEGMENTS,\n",
    "#    num_averages=1,\n",
    "#    trigger_delay=214e-9, # record the data 214 ns later after receiving a trigger\n",
    "#)"
   ]
  },
  {
   "cell_type": "code",
   "execution_count": 10,
   "id": "5a01a819-8783-4a89-92c0-35b46836b29b",
   "metadata": {},
   "outputs": [
    {
     "data": {
      "text/plain": [
       "{'messages': '', 'maxelfsize': 2147483648}"
      ]
     },
     "execution_count": 10,
     "metadata": {},
     "output_type": "execute_result"
    }
   ],
   "source": [
    "# 2.a Setup ST Drive pulses\n",
    "\n",
    "seq = Sequence()\n",
    "seq.code = \"\"\"\n",
    "wave w_a = ones(1024);\n",
    "\n",
    "// Assign a single channel waveform to wave table entry 0\n",
    "assignWaveIndex(1,2, w_a, 0);\n",
    "\n",
    " repeat(100) {\n",
    "        waitDigTrigger(1);\n",
    "\n",
    "        setTrigger(1);\n",
    "        setTrigger(0);\n",
    "       executeTableEntry(0);\n",
    "       \n",
    "    }\n",
    "\"\"\"\n",
    "\n",
    "chan[\"ST\"].awg.load_sequencer_program(seq)"
   ]
  },
  {
   "cell_type": "code",
   "execution_count": 11,
   "id": "364876c4-9a89-472c-862f-77be973c1079",
   "metadata": {
    "scrolled": true
   },
   "outputs": [],
   "source": [
    "# 2.b Setup ST drive command tables\n",
    "\n",
    "ct_schema = chan[\"ST\"].awg.commandtable.load_validation_schema()\n",
    "ct = CommandTable(ct_schema)\n",
    "\n",
    "gain = 1.0\n",
    "\n",
    "ct.table[0].waveform.index = 0\n",
    "ct.table[0].amplitude00.value = gain\n",
    "ct.table[0].amplitude10.value = gain\n",
    "ct.table[0].amplitude01.value = -gain\n",
    "ct.table[0].amplitude11.value = gain\n",
    "# ct.table[0].waveform.samplingRateDivider = 0  # 2^X divider\n",
    "#ct.table[0].waveform.length = 10240\n",
    "#ct.table[0].waveform.playHold = True\n",
    "\n",
    "chan[\"ST\"].awg.commandtable.upload_to_device(ct)"
   ]
  },
  {
   "cell_type": "code",
   "execution_count": 51,
   "id": "d35cbc30-8734-4146-b6c8-9a4ac47e17e9",
   "metadata": {},
   "outputs": [],
   "source": [
    "def get_results(result_node, timeout):\n",
    "    wave_data_captured = {}\n",
    "    wave_data_captured[result_node] = False\n",
    "    start_time = time.time()\n",
    "    captured_data = {}\n",
    "    while not all(wave_data_captured.values()):\n",
    "        if start_time + timeout < time.time():\n",
    "            print(captured_data)\n",
    "            raise TimeoutError('Timeout before all samples collected.')\n",
    "        test = session.poll()\n",
    "        for node, value in test.items():\n",
    "            node = session.raw_path_to_node(node)\n",
    "            for v in value:\n",
    "                if node not in captured_data:\n",
    "                    captured_data[node] = [v['vector']]\n",
    "                else:\n",
    "                    captured_data[node].append(v['vector'])\n",
    "            if len(captured_data[node]) >= 1: # readout 1 point\n",
    "                wave_data_captured[node] = True\n",
    "                total_num_data = sum([len(element) for element in captured_data[node]])\n",
    "    data = captured_data[result_node][0]\n",
    "    return data"
   ]
  },
  {
   "cell_type": "code",
   "execution_count": 114,
   "id": "c7f62f2e-da41-4718-b6c9-6d6a90e4e994",
   "metadata": {},
   "outputs": [],
   "source": [
    "# 3. Run the Experiment\n",
    "\n",
    "# chan[\"ST\"].awg.enable_sequencer(single = 1)  # when we just need a single shot to run\n",
    "\n",
    "result_node = chan[\"measure\"].spectroscopy.result.data.wave\n",
    "result_node.subscribe()\n",
    "\n",
    "# Start a measurement\n",
    "#device.scopes[0].run(single=True)  # start acquisition listener\n",
    "chan[\"ST\"].awg.enable(1)  # start DC driver\n",
    "#chan[\"measure\"].generator.enable_sequencer(single=True)  # start RF measurement\n",
    "chan[\"measure\"].generator.enable(1)\n",
    "chan[\"measure\"].spectroscopy.result.enable(1)  # enable result logger\n",
    "device.system.internaltrigger.enable(1)  # trigger all sequencers simultaniously\n",
    "chan[\"measure\"].spectroscopy.result.enable(0)\n",
    "results = get_results(result_node, 5) # get results\n",
    "result_node.unsubscribe()"
   ]
  },
  {
   "cell_type": "code",
   "execution_count": 60,
   "id": "bad62125-f91f-4516-a2c1-34bdfc45c9ff",
   "metadata": {},
   "outputs": [],
   "source": [
    "chan[\"ST\"].awg.enable_sequencer(single = True)"
   ]
  },
  {
   "cell_type": "code",
   "execution_count": 61,
   "id": "764fcd3e-4235-43dc-9912-699c07f6222d",
   "metadata": {},
   "outputs": [],
   "source": [
    "device.system.internaltrigger.enable(1)"
   ]
  },
  {
   "cell_type": "code",
   "execution_count": 113,
   "id": "dc515dbc-d580-458d-8759-1aaa2bc532bb",
   "metadata": {},
   "outputs": [
    {
     "data": {
      "text/plain": [
       "[<matplotlib.lines.Line2D at 0x1aae20ef800>]"
      ]
     },
     "execution_count": 113,
     "metadata": {},
     "output_type": "execute_result"
    },
    {
     "data": {
      "image/png": "[encoded data removed]",
      "text/plain": [
       "<Figure size 640x480 with 1 Axes>"
      ]
     },
     "metadata": {},
     "output_type": "display_data"
    }
   ],
   "source": [
    "plt.plot(np.imag(results))"
   ]
  },
  {
   "cell_type": "code",
   "execution_count": null,
   "id": "39ae2884-795d-48f0-adfe-35f2f4241f97",
   "metadata": {},
   "outputs": [],
   "source": [
    "# stop it\n",
    "chan[\"measure\"].generator.enable(0)"
   ]
  },
  {
   "cell_type": "code",
   "execution_count": 104,
   "id": "9906fc9b-15d7-4ca1-bdd7-eef90327ab04",
   "metadata": {},
   "outputs": [],
   "source": [
    "# 4. Get data\n",
    "\n",
    "result_node = chan[\"measure\"].spectroscopy.result.data.wave\n",
    "result_node.subscribe()\n",
    "results = get_results(result_node, 2) # get results\n",
    "result_node.unsubscribe()"
   ]
  },
  {
   "cell_type": "code",
   "execution_count": 97,
   "id": "c6f4c20d-a3ae-4376-afc8-dd535169bcb7",
   "metadata": {},
   "outputs": [
    {
     "name": "stdout",
     "output_type": "stream",
     "text": [
      "1024\n"
     ]
    }
   ],
   "source": [
    "print(len(results))"
   ]
  },
  {
   "cell_type": "code",
   "execution_count": null,
   "id": "01f1a15a-75ca-4bfc-9e09-98eed84014d7",
   "metadata": {},
   "outputs": [],
   "source": []
  }
 ],
 "metadata": {
  "kernelspec": {
   "display_name": "Python 3 (ipykernel)",
   "language": "python",
   "name": "python3"
  },
  "language_info": {
   "codemirror_mode": {
    "name": "ipython",
    "version": 3
   },
   "file_extension": ".py",
   "mimetype": "text/x-python",
   "name": "python",
   "nbconvert_exporter": "python",
   "pygments_lexer": "ipython3",
   "version": "3.12.3"
  }
 },
 "nbformat": 4,
 "nbformat_minor": 5
}
