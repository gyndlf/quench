{
 "cells": [
  {
   "cell_type": "markdown",
   "id": "1ccc127a-d6f0-4f70-8517-e739798d2afe",
   "metadata": {},
   "source": [
    "Following the zhinst-toolkit documentation about how the AWG sequencer works.\n",
    "\n",
    "See https://docs.zhinst.com/zhinst-toolkit/en/latest/examples/awg.html for the reference document\n",
    "\n",
    "Next complete\n",
    "https://docs.zhinst.com/shfqc_user_manual/tutorials/tutorial_command_table.html"
   ]
  },
  {
   "cell_type": "code",
   "execution_count": 2,
   "id": "e77bc4ff-c4ab-4c74-a5de-69619bda1a40",
   "metadata": {},
   "outputs": [],
   "source": [
    "from zhinst.toolkit import Session, CommandTable, Waveforms\n",
    "import random\n",
    "import numpy as np\n",
    "from IPython.display import display, clear_output\n",
    "import time\n",
    "\n",
    "import matplotlib.pyplot as plt"
   ]
  },
  {
   "cell_type": "code",
   "execution_count": 9,
   "id": "406936a2-7258-4a4a-bd0c-146f677c4307",
   "metadata": {},
   "outputs": [
    {
     "ename": "CoreError",
     "evalue": "Could not connect to a Zurich Instruments data server on host '10.1.1.1' and port 8004. Make sure that the server is running, host / port names are correct, API / DataServer versions match. Execution of connect took longer than 20 seconds.",
     "output_type": "error",
     "traceback": [
      "\u001b[1;31m---------------------------------------------------------------------------\u001b[0m",
      "\u001b[1;31mCoreError\u001b[0m                                 Traceback (most recent call last)",
      "Cell \u001b[1;32mIn[9], line 5\u001b[0m\n\u001b[0;32m      2\u001b[0m dataserver_port \u001b[38;5;241m=\u001b[39m \u001b[38;5;241m8004\u001b[39m\n\u001b[0;32m      3\u001b[0m device_id \u001b[38;5;241m=\u001b[39m \u001b[38;5;124m\"\u001b[39m\u001b[38;5;124mDEV12158\u001b[39m\u001b[38;5;124m\"\u001b[39m\n\u001b[1;32m----> 5\u001b[0m session \u001b[38;5;241m=\u001b[39m \u001b[43mSession\u001b[49m\u001b[43m(\u001b[49m\u001b[43mdataserver_ip\u001b[49m\u001b[43m,\u001b[49m\u001b[43m \u001b[49m\u001b[43mdataserver_port\u001b[49m\u001b[43m)\u001b[49m\n\u001b[0;32m      6\u001b[0m device \u001b[38;5;241m=\u001b[39m session\u001b[38;5;241m.\u001b[39mconnect_device(device_id)\n\u001b[0;32m      7\u001b[0m fs \u001b[38;5;241m=\u001b[39m \u001b[38;5;241m2e9\u001b[39m\n",
      "File \u001b[1;32m~\\anaconda3\\envs\\q312\\Lib\\site-packages\\zhinst\\toolkit\\session.py:686\u001b[0m, in \u001b[0;36mSession.__init__\u001b[1;34m(self, server_host, server_port, hf2, connection)\u001b[0m\n\u001b[0;32m    684\u001b[0m     server_port \u001b[38;5;241m=\u001b[39m \u001b[38;5;241m8005\u001b[39m\n\u001b[0;32m    685\u001b[0m \u001b[38;5;28;01mtry\u001b[39;00m:\n\u001b[1;32m--> 686\u001b[0m     \u001b[38;5;28mself\u001b[39m\u001b[38;5;241m.\u001b[39m_daq_server \u001b[38;5;241m=\u001b[39m \u001b[43mcore\u001b[49m\u001b[38;5;241;43m.\u001b[39;49m\u001b[43mziDAQServer\u001b[49m\u001b[43m(\u001b[49m\n\u001b[0;32m    687\u001b[0m \u001b[43m        \u001b[49m\u001b[43mserver_host\u001b[49m\u001b[43m,\u001b[49m\n\u001b[0;32m    688\u001b[0m \u001b[43m        \u001b[49m\u001b[43mserver_port\u001b[49m\u001b[43m,\u001b[49m\n\u001b[0;32m    689\u001b[0m \u001b[43m        \u001b[49m\u001b[38;5;241;43m1\u001b[39;49m\u001b[43m \u001b[49m\u001b[38;5;28;43;01mif\u001b[39;49;00m\u001b[43m \u001b[49m\u001b[38;5;28;43mself\u001b[39;49m\u001b[38;5;241;43m.\u001b[39;49m\u001b[43m_is_hf2_server\u001b[49m\u001b[43m \u001b[49m\u001b[38;5;28;43;01melse\u001b[39;49;00m\u001b[43m \u001b[49m\u001b[38;5;241;43m6\u001b[39;49m\u001b[43m,\u001b[49m\n\u001b[0;32m    690\u001b[0m \u001b[43m    \u001b[49m\u001b[43m)\u001b[49m\n\u001b[0;32m    691\u001b[0m \u001b[38;5;28;01mexcept\u001b[39;00m \u001b[38;5;167;01mRuntimeError\u001b[39;00m \u001b[38;5;28;01mas\u001b[39;00m error:\n\u001b[0;32m    692\u001b[0m     \u001b[38;5;28;01mif\u001b[39;00m \u001b[38;5;124m\"\u001b[39m\u001b[38;5;124mUnsupported API level\u001b[39m\u001b[38;5;124m\"\u001b[39m \u001b[38;5;129;01mnot\u001b[39;00m \u001b[38;5;129;01min\u001b[39;00m error\u001b[38;5;241m.\u001b[39margs[\u001b[38;5;241m0\u001b[39m]:\n",
      "\u001b[1;31mCoreError\u001b[0m: Could not connect to a Zurich Instruments data server on host '10.1.1.1' and port 8004. Make sure that the server is running, host / port names are correct, API / DataServer versions match. Execution of connect took longer than 20 seconds."
     ]
    }
   ],
   "source": [
    "dataserver_ip = \"10.1.1.1\"\n",
    "dataserver_port = 8004\n",
    "device_id = \"DEV12158\"\n",
    "\n",
    "session = Session(dataserver_ip, dataserver_port)\n",
    "device = session.connect_device(device_id)\n",
    "fs = 2e9\n",
    "\n",
    "device.system.preset.load(1) \n",
    "device.system.preset.load.wait_for_state_change(0)  # block until we actually load the system\n",
    "\n",
    "device"
   ]
  },
  {
   "cell_type": "code",
   "execution_count": 13,
   "id": "939aba19-351a-4c4b-b33d-9ec1a27817fa",
   "metadata": {},
   "outputs": [],
   "source": [
    "awg_node = device.sgchannels[0].awg  # breakout the AWG for ease of use"
   ]
  },
  {
   "cell_type": "code",
   "execution_count": 8,
   "id": "a243e2c3-3530-4078-a995-624c60393f24",
   "metadata": {},
   "outputs": [],
   "source": [
    "# copied code. should be able to run without changes?\n",
    "# must subscribe to the result node before readout\n",
    "def get_results(result_node, timeout):\n",
    "    wave_data_captured = {}\n",
    "    wave_data_captured[result_node] = False\n",
    "    start_time = time.time()\n",
    "    captured_data = {}\n",
    "    while not all(wave_data_captured.values()):\n",
    "        if start_time + timeout < time.time():\n",
    "            raise TimeoutError('Timeout before all samples collected.')\n",
    "        test = session.poll()\n",
    "        for node, value in test.items():\n",
    "            node = session.raw_path_to_node(node)\n",
    "            for v in value:\n",
    "                if node not in captured_data:\n",
    "                    captured_data[node] = [v['vector']]\n",
    "                else:\n",
    "                    captured_data[node].append(v['vector'])\n",
    "            if len(captured_data[node]) >= 1: # readout 1 point\n",
    "                wave_data_captured[node] = True\n",
    "                total_num_data = sum([len(element) for element in captured_data[node]])\n",
    "    data = captured_data[result_node][0]\n",
    "    return data"
   ]
  },
  {
   "cell_type": "code",
   "execution_count": null,
   "id": "8d81b827-91b3-4963-a0bf-f9cf296b5972",
   "metadata": {},
   "outputs": [],
   "source": [
    "# Create maps to channels for simplicity\n",
    "\n",
    "chan = {\n",
    "    \"measure\": device.qachannels[0],  # measure and acquire lines\n",
    "    \"st\": device.sgchannels[0],  # drive SET (ST) line\n",
    "    \"p1\": device.sgchannels[1],  # drive\n",
    "    \"p2\": device.sgchannels[2],  # drive\n",
    "    \"j1\": device.sgchannels[3],  # drive  \n",
    "}\n",
    "\n",
    "drive_chans = [\"st\", \"p1\", \"p2\", \"j1\"]  # match keys above"
   ]
  },
  {
   "cell_type": "code",
   "execution_count": 12,
   "id": "bfe07a91-14c7-4b8d-9dc3-b160404cf3ea",
   "metadata": {},
   "outputs": [
    {
     "data": {
      "text/plain": [
       "DataServerSession(localhost:8004)"
      ]
     },
     "execution_count": 12,
     "metadata": {},
     "output_type": "execute_result"
    }
   ],
   "source": [
    "session"
   ]
  },
  {
   "cell_type": "markdown",
   "id": "d36f1e4b-7ec6-4790-ab35-2f799d2ab29b",
   "metadata": {},
   "source": [
    "## Sequencer\n",
    "\n",
    "Must first compile the code, then upload it to the device\n",
    "\n",
    "Example code\n",
    "```c\n",
    "// Waveform paramaters\n",
    "const WFM_LEN = 1008;\n",
    "const GAUSS_CENTER = WFM_LEN/2;\n",
    "const SIGMA = WFM_LEN/8;\n",
    "\n",
    "// Define waveforms\n",
    "wave w0_1 = gauss(WFM_LEN, 1.0, GAUSS_CENTER, SIGMA) + marker(128, 1);\n",
    "wave w0_2 = drag(WFM_LEN, 1.0, GAUSS_CENTER, SIGMA);\n",
    "wave w1_1 = gauss(WFM_LEN, 0.5, GAUSS_CENTER, SIGMA) + marker(128, 1);\n",
    "wave w1_2 = drag(WFM_LEN, 0.5, GAUSS_CENTER, SIGMA);\n",
    "\n",
    "// Assign waveforms to an index in the waveform memory\n",
    "assignWaveIndex(1,2, w0_1, 1,2, w0_2, 0);\n",
    "assignWaveIndex(1,2, w1_1, 1,2, w1_2, 1);\n",
    "\n",
    "// Play wave 1\n",
    "playWave(1,2, w0_1, 1,2, w0_2);\n",
    "// Play wave 2\n",
    "playWave(1,2, w1_1, 1,2, w1_2);\n",
    "```"
   ]
  },
  {
   "cell_type": "code",
   "execution_count": 14,
   "id": "2d42eb28-d937-4a5c-ad7f-96ae036d2713",
   "metadata": {},
   "outputs": [],
   "source": [
    "from zhinst.toolkit import Sequence"
   ]
  },
  {
   "cell_type": "code",
   "execution_count": 15,
   "id": "fa7ef171-39d5-4ee5-b73f-cea27a1e374d",
   "metadata": {},
   "outputs": [
    {
     "name": "stdout",
     "output_type": "stream",
     "text": [
      "// Constants\n",
      "const PULSE_WIDTH = 1e-08;\n",
      "// Hello World\n",
      "repeat(5)\n",
      "...\n",
      "\n"
     ]
    }
   ],
   "source": [
    "seq = Sequence()\n",
    "seq.code = \"\"\"\\\n",
    "// Hello World\n",
    "repeat(5)\n",
    "...\n",
    "\"\"\"\n",
    "seq.constants[\"PULSE_WIDTH\"] = 10e-9 #ns\n",
    "print(seq)\n",
    "\n",
    "#awg_node.load_sequencer_program(SEQUENCER_CODE)  # compile and upload"
   ]
  },
  {
   "cell_type": "markdown",
   "id": "5c5c4c8d-08f2-423c-8906-f1650310f17c",
   "metadata": {},
   "source": [
    "## Waveform\n",
    "\n",
    "Specify the actual waves (samples) to play. Need to give two waves (I and Q? Although we only have one output)\n",
    "\n",
    "Make sure that the waves are already defined in the sequence program before uploading to the device.\n",
    "\n",
    "The `waveform.index` or `slot` is just the position in the memory of where the waveform is stored. We must match it with `ct.table[?].waveform.index` later to play the right wave\n",
    "\n",
    "Full path is `<DEVICE_ID>/SGCHANNELS/<SG_CHAN_INDEX>/AWG/WAVEFORM/WAVES/<WAVE_INDEX>`"
   ]
  },
  {
   "cell_type": "code",
   "execution_count": 21,
   "id": "901824ed-f7c3-4af7-98e6-efeffed966ec",
   "metadata": {},
   "outputs": [],
   "source": [
    "from zhinst.toolkit.waveform import Wave"
   ]
  },
  {
   "cell_type": "code",
   "execution_count": 25,
   "id": "45b8396d-27d3-40c1-9ee7-f12edd47655a",
   "metadata": {},
   "outputs": [
    {
     "name": "stdout",
     "output_type": "stream",
     "text": [
      "wave demo = placeholder(1008, false, false);\n",
      "wave demo = placeholder(1008, false, false);\n",
      "assignWaveIndex(demo, demo, 0);\n"
     ]
    }
   ],
   "source": [
    "wave01 = Wave(np.ones(1008), name=\"demo\")\n",
    "\n",
    "waveforms = Waveforms()\n",
    "waveforms.assign_waveform(\n",
    "    slot= 0, # index in assignWaveIndex\n",
    "        wave1= wave01,\n",
    "        wave2= wave01\n",
    ")\n",
    "\n",
    "# Before upload get sequence code\n",
    "print(waveforms.get_sequence_snippet())"
   ]
  },
  {
   "cell_type": "code",
   "execution_count": 27,
   "id": "41da38cf-4c02-4446-9441-92446344f1ce",
   "metadata": {},
   "outputs": [
    {
     "name": "stdout",
     "output_type": "stream",
     "text": [
      "// Constants\n",
      "const PULSE_WIDTH = 1e-08;\n",
      "// Waveforms declaration\n",
      "wave demo = placeholder(1008, false, false);\n",
      "wave demo = placeholder(1008, false, false);\n",
      "assignWaveIndex(demo, demo, 0);\n",
      "// Hello World\n",
      "repeat(5)\n",
      "...\n",
      "\n"
     ]
    }
   ],
   "source": [
    "# join to existing sequence\n",
    "seq.waveforms = waveforms\n",
    "print(seq)"
   ]
  },
  {
   "cell_type": "code",
   "execution_count": null,
   "id": "9004c499-4738-4476-ab96-56dc25fdffe8",
   "metadata": {},
   "outputs": [],
   "source": [
    "# Upload and download is easy\n",
    "awg_node.write_to_waveform_memory(waveforms)\n",
    "\n",
    "waveforms_device = awg_node.read_from_waveform_memory()\n",
    "waveforms_device[0]"
   ]
  },
  {
   "cell_type": "code",
   "execution_count": 31,
   "id": "cf2bcb90-e2bb-4070-9cbb-c3fef4774209",
   "metadata": {},
   "outputs": [],
   "source": [
    "# verify that everything is correct.\n",
    "# this is not run automatically but will test if waveforms match\n",
    "\n",
    "waveforms = awg_node.read_from_waveform_memory()\n",
    "waveforms.validate(awg_node.waveform.descriptors())  # doesn't do anything?"
   ]
  },
  {
   "cell_type": "code",
   "execution_count": null,
   "id": "d12bfcac-76d7-42aa-8aa3-c0081e802b42",
   "metadata": {},
   "outputs": [],
   "source": []
  },
  {
   "cell_type": "markdown",
   "id": "8e410e9d-7db2-4a29-87fe-ac8d4952611f",
   "metadata": {},
   "source": [
    "## Command Table\n",
    "\n",
    "Design instructions to execute simultaniously within one clock cycle of 3.33ns\n",
    "\n",
    "Additional instructions (commands) for how exactly to play the wave. Must be linked to one waveform index.\n",
    "\n",
    "Full path is `<DEVICE_ID>/SGCHANNELS/<SG_CHAN_INDEX>/AWG/COMMANDTABLE/DATA`"
   ]
  },
  {
   "cell_type": "code",
   "execution_count": 39,
   "id": "a857338b-5bdd-4b02-be50-2e0e548ec827",
   "metadata": {},
   "outputs": [],
   "source": [
    "from zhinst.toolkit import CommandTable"
   ]
  },
  {
   "cell_type": "code",
   "execution_count": null,
   "id": "1ae70d4f-175d-4ffd-9cc9-2af7dbee2359",
   "metadata": {},
   "outputs": [],
   "source": [
    "# use the current schema \n",
    "ct_schema = awg_node.commandtable.load_validation_schema()\n",
    "ct = CommandTable(ct_schema)\n",
    "\n",
    "# or load it directly from the device\n",
    "ct = awg_node.commandtable.load_from_device()"
   ]
  },
  {
   "cell_type": "code",
   "execution_count": null,
   "id": "b1bbb15d-3a68-4f87-83ed-e59d9ffe79e6",
   "metadata": {},
   "outputs": [],
   "source": [
    "# debugging can be done with .info()\n",
    "ct.table[0].waveform.info()  # to get all \n",
    "ct.table[0].waveform.info(\"index\")  # to just get one\n",
    "\n",
    "# unlike the node tree we get and set directly (think as DICT/JSON structure)\n",
    "ct.table[0].waveform.index = 0  # set\n",
    "ct.table[0].waveform.index  # get"
   ]
  },
  {
   "cell_type": "code",
   "execution_count": null,
   "id": "5a31e14c-453f-4be7-8332-e5ecf9d2f9ba",
   "metadata": {},
   "outputs": [],
   "source": [
    "# represent it nicely\n",
    "ct.as_dict()  "
   ]
  },
  {
   "cell_type": "code",
   "execution_count": null,
   "id": "f7587905-24ea-4061-8e7f-a49e260c41bf",
   "metadata": {},
   "outputs": [],
   "source": []
  },
  {
   "cell_type": "markdown",
   "id": "c2800ce2-c636-4e5f-90d4-babda0ba6c00",
   "metadata": {},
   "source": [
    "## Multiple Sequencers\n",
    "\n",
    "Sequencer code for each line needs to be created and uploaded individually. Just do the same multiple times"
   ]
  },
  {
   "cell_type": "code",
   "execution_count": null,
   "id": "6f2efcb8-ee9c-4559-b2b7-09fc02d7bae8",
   "metadata": {},
   "outputs": [],
   "source": [
    "# now get the AWG nodes for each sequncer (driver)\n",
    "awg_nodes = [sgchannel.awg for sgchannel in device.sgchannels]"
   ]
  },
  {
   "cell_type": "code",
   "execution_count": null,
   "id": "b8281c82-2d7e-48bb-8680-a1f5652b31a8",
   "metadata": {},
   "outputs": [],
   "source": [
    "from textwrap import dedent  # remove indents from the written code\n",
    "num_cores = len(awg_nodes)\n",
    "sequences = [\n",
    "    dedent(f\"\"\"\\\n",
    "    // Core {i:d} sequence\n",
    "    waitDigTrigger(1);  //Wait for a trigger to syncronize all the cores\n",
    "    playWave(ramp(1024, 0, {(i+1)/num_cores:f}));\n",
    "    \"\"\")\n",
    "    for i in range(num_cores)\n",
    "]"
   ]
  },
  {
   "cell_type": "code",
   "execution_count": null,
   "id": "3c948f3c-9cd2-4357-9ce2-6309dcb47803",
   "metadata": {},
   "outputs": [],
   "source": [
    "# upload to the device.\n",
    "# This is done sequentially, it is possible to do it in parallel but we'll cross that bridge if we need it\n",
    "\n",
    "from zhinst.core.errors import CoreError\n",
    "with session.set_transaction():\n",
    "    for index, (awg_node, sequence) in enumerate(zip(awg_nodes, sequences)):\n",
    "        try:\n",
    "            _ = awg_node.load_sequencer_program(sequence)\n",
    "        except CoreError as e:\n",
    "            print(\"Compilation error on core\", index, e)\n",
    "            break"
   ]
  }
 ],
 "metadata": {
  "kernelspec": {
   "display_name": "Python 3 (ipykernel)",
   "language": "python",
   "name": "python3"
  },
  "language_info": {
   "codemirror_mode": {
    "name": "ipython",
    "version": 3
   },
   "file_extension": ".py",
   "mimetype": "text/x-python",
   "name": "python",
   "nbconvert_exporter": "python",
   "pygments_lexer": "ipython3",
   "version": "3.12.3"
  }
 },
 "nbformat": 4,
 "nbformat_minor": 5
}
