{
 "cells": [
  {
   "cell_type": "markdown",
   "id": "74a91098-a540-4c3c-b411-5353fe9587df",
   "metadata": {},
   "source": [
    "Measure Coulomb Blocking by sweeping ST using LF by the SHFQC and Toolkit\n",
    "\n",
    "**Spectroscopy or Readout mode?**\n",
    "It appears that while spectroscopy can be used for different parameter sweeps, it is best used for frequency sweeps. Readout mode is more versitile in our case and should be used\n",
    "...Except for the fact that we cannot pulse LF readout instead it only gives us a square pulse. So we actually need to hack spectroscopy mode in order for it to work\n",
    "\n",
    "See `rf_st_sweep.ipynb` for code that uses readout and RF mode effectively. This is what we wish we could do :(\n",
    "\n",
    "This is written based on `shfqc_qd_toolkit_1607.ipynb` and numerous trial and errors"
   ]
  },
  {
   "cell_type": "code",
   "execution_count": 1,
   "id": "bb54b13d-4a09-4a55-8ff4-8dd5f6341c1c",
   "metadata": {},
   "outputs": [
    {
     "name": "stdout",
     "output_type": "stream",
     "text": [
      "Added 'quench/' and 'quench/libraries' for easy importing.\n"
     ]
    }
   ],
   "source": [
    "%matplotlib inline\n",
    "import local_broom"
   ]
  },
  {
   "cell_type": "code",
   "execution_count": 2,
   "id": "7c1cf423-cee4-493f-a2ba-9d8653ddb0fd",
   "metadata": {},
   "outputs": [
    {
     "name": "stderr",
     "output_type": "stream",
     "text": [
      "C:\\Users\\LD2007\\AppData\\Local\\Temp\\ipykernel_22704\\652053071.py:5: TqdmExperimentalWarning: Using `tqdm.autonotebook.tqdm` in notebook mode. Use `tqdm.tqdm` instead to force console mode (e.g. in jupyter console)\n",
      "  from tqdm.autonotebook import tqdm\n"
     ]
    }
   ],
   "source": [
    "from zhinst.toolkit import Session, CommandTable, Sequence, Waveforms, SHFQAChannelMode\n",
    "\n",
    "import matplotlib.pyplot as plt\n",
    "import numpy as np\n",
    "from tqdm.autonotebook import tqdm\n",
    "\n",
    "import time\n",
    "from monty import Monty"
   ]
  },
  {
   "cell_type": "code",
   "execution_count": 3,
   "id": "eb4aa545-09a4-4cc3-afee-4f983404e606",
   "metadata": {},
   "outputs": [],
   "source": [
    "# connect to instruments\n",
    "\n",
    "DEVICE_ID = 'DEV12158'\n",
    "SERVER_HOST = 'localhost'\n",
    "\n",
    "# connect to data server\n",
    "session = Session(SERVER_HOST)\n",
    "\n",
    "# connect to device\n",
    "device = session.connect_device(DEVICE_ID)"
   ]
  },
  {
   "cell_type": "code",
   "execution_count": 4,
   "id": "0c2b8a90-6d21-4f26-9226-55a15b6ec723",
   "metadata": {},
   "outputs": [],
   "source": [
    "#session.disconnect_device(DEVICE_ID)"
   ]
  },
  {
   "cell_type": "code",
   "execution_count": 5,
   "id": "ac0c032d-98a0-4ae1-bf2f-049024087547",
   "metadata": {},
   "outputs": [],
   "source": [
    "# Create channel maps for simplicity\n",
    "\n",
    "chan = {\n",
    "    \"measure\": device.qachannels[0],  # measure and acquire lines\n",
    "    \"ST\": device.sgchannels[5],  # drive SET (ST) line\n",
    "}\n",
    "\n",
    "drive_chans = [\"ST\"]  # match keys above"
   ]
  },
  {
   "cell_type": "code",
   "execution_count": 6,
   "id": "26a3c2de-5b18-41fe-9ef5-aeb1ef468bc4",
   "metadata": {},
   "outputs": [],
   "source": [
    "NUM_READOUTS = 500"
   ]
  },
  {
   "cell_type": "markdown",
   "id": "ed31f344-7830-4eb3-b4f6-bf966c97f389",
   "metadata": {},
   "source": [
    "## Setup SG Channels"
   ]
  },
  {
   "cell_type": "code",
   "execution_count": 7,
   "id": "fb2b487e-474f-4091-ba38-c718d436c5c6",
   "metadata": {},
   "outputs": [],
   "source": [
    "with device.set_transaction():\n",
    "    for c in drive_chans:\n",
    "        chan[c].output.range(-20)  # in dBm\n",
    "        chan[c].output.rflfpath(0)  # use LF not RF (1 for RF)\n",
    "    \n",
    "        # set the center synth frequency (oscillator frequency)\n",
    "        synth = chan[c].synthesizer()\n",
    "        device.synthesizers[synth].centerfreq(0)  # in Hz\n",
    "    \n",
    "        chan[c].awg.outputamplitude(1.0)  # overall amplitude scaling factor (don't really need to change)\n",
    "        chan[c].oscs[0].freq(0)  # oscillator 1 frequency (Hz) disable for DC\n",
    "        chan[c].oscs[1].freq(0)  # oscillator 2 frequency (Hz)\n",
    "        chan[c].awg.modulation.enable(1)  # start digital modulation\n",
    "    \n",
    "        #chan[c].marker.source(0)  # setup the AWG trigger 1 (is this an input trigger option? doesn't seem necessary)\n",
    "        # see manual page p235 for all trigger options\n",
    "        chan[c].awg.auxtriggers[0].channel(8)  # 8=use internal trigger, 1024=use software trigger\n",
    "\n",
    "        chan[c].output.on(1)  # enable the channel (rememeber to disable it later)"
   ]
  },
  {
   "cell_type": "markdown",
   "id": "90012075-8098-47a1-a175-97ac22f6ec13",
   "metadata": {},
   "source": [
    "**Triggers**\n",
    "To control pulse (and acqusition) timings we must use triggers to \"align\" different sequencers together.\n",
    "\n",
    "\n",
    "- *Generation from SeqC code*\n",
    "For AWGs there are two ways to generate triggers. Either by setting the two marker bits of the waveform, or controlling the triger bits using SeqC code. Using waveforms is more accurate since it runs in 0.5ns time instead of 4ns clock speed of SeqC.\n",
    "\n",
    "When running `marker(LENGTH, 0b01)` (to set the waveform markers to then use for trigger) we can configure which marker we want to set, out a possibility of 2. These correspond to *Output X Marker Y* where Y is dependent on which marker you set\n",
    "\n",
    "Whereas running `setTrigger(0b0011)` on an AWG core sets trigger outputs 1,2 high and 3,4 low. These correspond to *AWG Trigger 1-4*\n",
    "\n",
    "- *Waiting for a trigger*\n",
    "When running `waitDigTrigger(1)` the SeqC code halts under the specified trigger is found. See \"AWG > Trigger\" to find what it is currently set as. Use the Internal Trigger (or sometimes the Software trigger). Can also use external triggers if desired (and if we needed additional channels in the future).\n",
    "\n",
    "There are two possible triggers that you can use. These are known as **auxilary triggers** Set them with `chan[\"measure\"].generator.auxtriggers[1].channel(\"inttrig\")`\n",
    "\n",
    "See `chan[\"measure\"].generator.available_aux_trigger_inputs` for the possible triggers that you can wait upon.\n"
   ]
  },
  {
   "cell_type": "code",
   "execution_count": 8,
   "id": "737ae731-743f-467b-8b1a-bd548ae0246c",
   "metadata": {},
   "outputs": [
    {
     "data": {
      "text/plain": [
       "3"
      ]
     },
     "execution_count": 8,
     "metadata": {},
     "output_type": "execute_result"
    }
   ],
   "source": [
    "0b11"
   ]
  },
  {
   "cell_type": "code",
   "execution_count": 9,
   "id": "dd4527d2-42b0-4169-a490-5f3a548db816",
   "metadata": {},
   "outputs": [
    {
     "data": {
      "text/plain": [
       "{'messages': '', 'maxelfsize': 2147483648}"
      ]
     },
     "execution_count": 9,
     "metadata": {},
     "output_type": "execute_result"
    }
   ],
   "source": [
    "seq = Sequence()\n",
    "seq.code = f\"\"\"\n",
    "wave w_a = ones(128);\n",
    "\n",
    "// Assign a single channel waveform to wave table entry 0\n",
    "assignWaveIndex(1,2, w_a, 0);\n",
    "\n",
    "repeat({NUM_READOUTS}) {{\n",
    "    waitDigTrigger(1);\n",
    "\n",
    "    setTrigger(1);\n",
    "    setTrigger(0);\n",
    "    executeTableEntry(0);\n",
    "       \n",
    "}}\n",
    "\"\"\"\n",
    "\n",
    "chan[\"ST\"].awg.load_sequencer_program(seq)"
   ]
  },
  {
   "cell_type": "code",
   "execution_count": 10,
   "id": "1f9ac249-ca59-48ee-bf5f-ad3f0772c567",
   "metadata": {},
   "outputs": [],
   "source": [
    "# setup drive command tables\n",
    "\n",
    "ct_schema = chan[\"ST\"].awg.commandtable.load_validation_schema()\n",
    "ct = CommandTable(ct_schema)\n",
    "\n",
    "gain = 1.0\n",
    "\n",
    "ct.table[0].waveform.index = 0\n",
    "ct.table[0].amplitude00.value = gain\n",
    "ct.table[0].amplitude10.value = gain\n",
    "ct.table[0].amplitude01.value = -gain\n",
    "ct.table[0].amplitude11.value = gain\n",
    "# ct.table[0].waveform.samplingRateDivider = 0  # 2^X divider\n",
    "#ct.table[0].waveform.length = 10240\n",
    "#ct.table[0].waveform.playHold = True\n",
    "\n",
    "chan[\"ST\"].awg.commandtable.upload_to_device(ct)"
   ]
  },
  {
   "cell_type": "markdown",
   "id": "022fa8a0-4176-4937-b429-2da047b3d9d7",
   "metadata": {},
   "source": [
    "## Setup QA Channel"
   ]
  },
  {
   "cell_type": "markdown",
   "id": "9084cdd9-255a-4b71-b652-8a7b28b7da59",
   "metadata": {},
   "source": [
    "**TODO**: I don't know why but when setting `chan[\"measure\"].spectroscopy.result.averages` so many bugs occur. This *should* be the same value as NUM_READOUTS, but that always means that it isn't measured correctly. Keeping it small (like 1 or 5) seems to work..."
   ]
  },
  {
   "cell_type": "code",
   "execution_count": 11,
   "id": "a74c4f2e-eb81-487e-b100-76a4c76bb3f0",
   "metadata": {},
   "outputs": [],
   "source": [
    "with device.set_transaction():\n",
    "    chan[\"measure\"].output.rflfpath(0)  # use LF mode not RF (for signals under 600Mhz)\n",
    "    chan[\"measure\"].input.rflfpath(0)\n",
    "    #chan[\"measure\"].output.digitalmixer.centerfreq(400e6)  # only applicable for RF mode (otherwise forced to 0Hz)\n",
    "    #chan[\"measure\"].centerfreq(0)  # in Hz (appears to be ignored when in LF mode. immutable?)\n",
    "    chan[\"measure\"].oscs[0].freq(406.6e6)  # CW frequency (in LF mode)\n",
    "    chan[\"measure\"].oscs[0].gain(1.0)\n",
    "\n",
    "    # temporarily disabled based on tutorial\n",
    "    #chan[\"measure\"].generator.auxtriggers[0].channel(8)  # use internal trigger\n",
    "    #chan[\"measure\"].generator.enable(0)  # do not run yet\n",
    "\n",
    "    # configure these based on how the sweeper works internally\n",
    "    # See https://docs.zhinst.com/zhinst-utils/en/latest/_modules/zhinst/utils/shf_sweeper.html#ShfSweeper\n",
    "    chan[\"measure\"].spectroscopy.delay(0)  # integration delay in units of second\n",
    "    chan[\"measure\"].spectroscopy.length(512)  # integration time length in units of number of samples (usually  integration_time*sampling_rate)\n",
    "    # setup when the spectroscopy is triggered\n",
    "    chan[\"measure\"].spectroscopy.trigger.channel(\"chan0seqtrig0\")  # make sure to use the trigger coming from the sequencer code\n",
    "\n",
    "    # setup result parameters\n",
    "    chan[\"measure\"].spectroscopy.result.averages(5)  # number of averages (always average in software not hardware)\n",
    "    chan[\"measure\"].spectroscopy.result.length(64)  # number of results\n",
    "    chan[\"measure\"].spectroscopy.result.enable(0)  # disable result logger\n",
    "    \n",
    "\n",
    "    #chan[\"measure\"].input.range(0)\n",
    "    #chan[\"measure\"].output.range(-5)\n",
    "    #chan[\"measure\"].input.on(1)\n",
    "    #chan[\"measure\"].output.on(1)\n",
    "\n",
    "    chan[\"measure\"].configure_channel(\n",
    "        center_frequency=0,  # in units of Hz  # minimum of 600MHz\n",
    "        input_range=-20,  # in units of dBm\n",
    "        output_range=-20,  # in units of dBm\n",
    "        mode=SHFQAChannelMode.SPECTROSCOPY,  # SHFQAChannelMode.READOUT or SHFQAChannelMode.SPECTROSCOPY\n",
    "    )\n",
    "    \n",
    "    chan[\"measure\"].input.on(1)\n",
    "    chan[\"measure\"].output.on(1)\n",
    "\n",
    "    # temporarily disable based on tutorial\n",
    "    #chan[\"measure\"].generator.configure_sequencer_triggering(\n",
    "    #    aux_trigger=8,  # internal trigger\n",
    "    #    play_pulse_delay=0,  # 0s delay between startQA trigger and the readout pulse\n",
    "    #)"
   ]
  },
  {
   "cell_type": "code",
   "execution_count": 12,
   "id": "0c062f02-fe65-4df6-88e3-aa800988dd57",
   "metadata": {
    "scrolled": true
   },
   "outputs": [
    {
     "data": {
      "text/plain": [
       "['chan0trigin0',\n",
       " 'chan0trigin1',\n",
       " 'trigin0',\n",
       " 'trigin1',\n",
       " 'trigin2',\n",
       " 'trigin3',\n",
       " 'trigin4',\n",
       " 'trigin5',\n",
       " 'inttrig',\n",
       " 'chan0seqtrig0',\n",
       " '',\n",
       " '',\n",
       " '',\n",
       " '',\n",
       " '',\n",
       " 'awg_marker0',\n",
       " 'chan0rod',\n",
       " 'awg_trigger0',\n",
       " 'awg_trigger1',\n",
       " 'awg_trigger2',\n",
       " 'awg_trigger3',\n",
       " 'awg_trigger4',\n",
       " 'awg_trigger5',\n",
       " 'swtrig0']"
      ]
     },
     "execution_count": 12,
     "metadata": {},
     "output_type": "execute_result"
    }
   ],
   "source": [
    "chan[\"measure\"].generator.available_aux_trigger_inputs"
   ]
  },
  {
   "cell_type": "code",
   "execution_count": 13,
   "id": "219fdf72-52ee-4450-bb51-fef53f3f6718",
   "metadata": {},
   "outputs": [],
   "source": [
    "chan[\"measure\"].generator.auxtriggers[1].channel(\"inttrig\")"
   ]
  },
  {
   "cell_type": "code",
   "execution_count": 14,
   "id": "a2f80e11-555b-48a5-a6ce-c53a919cf08c",
   "metadata": {},
   "outputs": [],
   "source": [
    "# optionally if we want to do pulsed spectroscopy readout use an envelope to shape the QA signal\n",
    "# unfortunately this cannot be as long as we desire (cannot change QA sampling rate)\n",
    "\n",
    "#chan[\"measure\"].spectroscopy.envelope.enable(1)  # use pulsed readout\n",
    "#chan[\"measure\"].spectroscopy.envelope.wave(np.ones(128) * 1j)"
   ]
  },
  {
   "cell_type": "code",
   "execution_count": 15,
   "id": "91de3e1a-3072-45f9-8f31-4bbf4a9c228b",
   "metadata": {},
   "outputs": [
    {
     "data": {
      "text/plain": [
       "array([0.+1.j, 0.+1.j, 0.+1.j, 0.+1.j, 0.+1.j, 0.+1.j, 0.+1.j, 0.+1.j,\n",
       "       0.+1.j, 0.+1.j, 0.+1.j, 0.+1.j, 0.+1.j, 0.+1.j, 0.+1.j, 0.+1.j,\n",
       "       0.+1.j, 0.+1.j, 0.+1.j, 0.+1.j, 0.+1.j, 0.+1.j, 0.+1.j, 0.+1.j,\n",
       "       0.+1.j, 0.+1.j, 0.+1.j, 0.+1.j, 0.+1.j, 0.+1.j, 0.+1.j, 0.+1.j,\n",
       "       0.+1.j, 0.+1.j, 0.+1.j, 0.+1.j, 0.+1.j, 0.+1.j, 0.+1.j, 0.+1.j,\n",
       "       0.+1.j, 0.+1.j, 0.+1.j, 0.+1.j, 0.+1.j, 0.+1.j, 0.+1.j, 0.+1.j,\n",
       "       0.+1.j, 0.+1.j, 0.+1.j, 0.+1.j, 0.+1.j, 0.+1.j, 0.+1.j, 0.+1.j,\n",
       "       0.+1.j, 0.+1.j, 0.+1.j, 0.+1.j, 0.+1.j, 0.+1.j, 0.+1.j, 0.+1.j,\n",
       "       0.+1.j, 0.+1.j, 0.+1.j, 0.+1.j, 0.+1.j, 0.+1.j, 0.+1.j, 0.+1.j,\n",
       "       0.+1.j, 0.+1.j, 0.+1.j, 0.+1.j, 0.+1.j, 0.+1.j, 0.+1.j, 0.+1.j,\n",
       "       0.+1.j, 0.+1.j, 0.+1.j, 0.+1.j, 0.+1.j, 0.+1.j, 0.+1.j, 0.+1.j,\n",
       "       0.+1.j, 0.+1.j, 0.+1.j, 0.+1.j, 0.+1.j, 0.+1.j, 0.+1.j, 0.+1.j,\n",
       "       0.+1.j, 0.+1.j, 0.+1.j, 0.+1.j, 0.+1.j, 0.+1.j, 0.+1.j, 0.+1.j,\n",
       "       0.+1.j, 0.+1.j, 0.+1.j, 0.+1.j, 0.+1.j, 0.+1.j, 0.+1.j, 0.+1.j,\n",
       "       0.+1.j, 0.+1.j, 0.+1.j, 0.+1.j, 0.+1.j, 0.+1.j, 0.+1.j, 0.+1.j,\n",
       "       0.+1.j, 0.+1.j, 0.+1.j, 0.+1.j, 0.+1.j, 0.+1.j, 0.+1.j, 0.+1.j])"
      ]
     },
     "execution_count": 15,
     "metadata": {},
     "output_type": "execute_result"
    }
   ],
   "source": [
    "chan[\"measure\"].spectroscopy.envelope.wave()"
   ]
  },
  {
   "cell_type": "markdown",
   "id": "2a4735b2-e83f-4d02-8a81-fbc2f4fbf150",
   "metadata": {},
   "source": [
    "Configure the readout pulse sequence. As we use continuous waves in spectroscopy there is actually never any wave specified to play, as it is always playing.\n",
    "\n",
    "Instead the `playZero` commands are used so that the trigger spacing is done correctly. `playZero` is non-blocking (the SeqC code will continue after setting it) unless there is a previous `playZero` command that hasn't been fufilled. Using this we can accurately space our triggers (which trigger the spectroscopy readout)."
   ]
  },
  {
   "cell_type": "code",
   "execution_count": 16,
   "id": "afa8ea14-ed10-41a4-9a97-787968afd172",
   "metadata": {},
   "outputs": [
    {
     "data": {
      "text/plain": [
       "{'messages': '', 'maxelfsize': 2147483648}"
      ]
     },
     "execution_count": 16,
     "metadata": {},
     "output_type": "execute_result"
    }
   ],
   "source": [
    "# configure the sequencer for the readout pulses\n",
    "\n",
    "# Sequencer waits for the trigger, then starts the readout, then repeats this for the chosen number of readouts\n",
    "\n",
    "\n",
    "chan[\"measure\"].generator.configure_sequencer_triggering(\n",
    "    aux_trigger=8,  # alternatively use 8=internal trigger, or \"software_trigger0\" to use the software triggering system\n",
    "    play_pulse_delay=0\n",
    ")\n",
    "\n",
    "seq = Sequence()\n",
    "seq.code = f\"\"\"\n",
    "setTrigger(0);\n",
    "repeat ({NUM_READOUTS}) {{\n",
    "    // wait for a digital trigger before starting (defined by the aux_trigger)\n",
    "    waitDigTrigger(1);\n",
    "\n",
    "    // delay before readout\n",
    "    playZero(128+16*3); // time before readout A (224 samples = lines up with SG trigger)\n",
    "    playZero(64);  // readout time B\n",
    "\n",
    "    // if using an envelope make sure to open it\n",
    "    //startQA(QA_GEN_ALL, QA_INT_ALL, true, 0, 0x0);  // also send sequence monitor trigger (true)\n",
    "\n",
    "    // set trigger output 1 to 1 then 0. As this matches \"chan0seqtrig0\" the spectroscopy is started\n",
    "    setTrigger(1);\n",
    "    setTrigger(0);\n",
    "\n",
    "    playZero(32); // relax time C (just wait for above readout to finish)\n",
    "}}\n",
    "\"\"\"\n",
    "\n",
    "chan[\"measure\"].generator.load_sequencer_program(seq)"
   ]
  },
  {
   "cell_type": "code",
   "execution_count": 17,
   "id": "b30a4fae-db0e-4c44-835e-2fdf590af42e",
   "metadata": {},
   "outputs": [],
   "source": [
    "# set readout pulses. Not used in spectroscopy mode, only in readout mode\n",
    "#readout_pulses = Waveforms()\n",
    "#readout_pulses.assign_waveform(\n",
    "#    slot=0,\n",
    "#    wave1=np.ones(128),  # assumes 0 for wave2\n",
    "#)\n",
    "#\n",
    "#chan[\"measure\"].generator.write_to_waveform_memory(readout_pulses)"
   ]
  },
  {
   "cell_type": "markdown",
   "id": "d5e7390a-30c7-4dd9-bf2f-061863dfeec7",
   "metadata": {},
   "source": [
    "## Run the experiment"
   ]
  },
  {
   "cell_type": "code",
   "execution_count": 18,
   "id": "3a0cb040-4be2-4249-a5f7-a2b77c291ee4",
   "metadata": {},
   "outputs": [],
   "source": [
    "def get_results(result_node, timeout):\n",
    "    wave_data_captured = {}\n",
    "    wave_data_captured[result_node] = False\n",
    "    start_time = time.time()\n",
    "    captured_data = {}\n",
    "    while not all(wave_data_captured.values()):\n",
    "        if start_time + timeout < time.time():\n",
    "            print(captured_data)\n",
    "            raise TimeoutError('Timeout before all samples collected.')\n",
    "        test = session.poll()\n",
    "        for node, value in test.items():\n",
    "            node = session.raw_path_to_node(node)\n",
    "            for v in value:\n",
    "                if node not in captured_data:\n",
    "                    captured_data[node] = [v['vector']]\n",
    "                else:\n",
    "                    captured_data[node].append(v['vector'])\n",
    "            if len(captured_data[node]) >= 1:  # readout 1 point\n",
    "                wave_data_captured[node] = True\n",
    "                # total_num_data = sum([len(element) for element in captured_data[node]])\n",
    "    data = captured_data[result_node][0]\n",
    "    return data"
   ]
  },
  {
   "cell_type": "code",
   "execution_count": 19,
   "id": "e1dbe6b8-617a-4f26-8db3-a86650365281",
   "metadata": {},
   "outputs": [
    {
     "data": {
      "text/plain": [
       "9.999999747378752e-05"
      ]
     },
     "execution_count": 19,
     "metadata": {},
     "output_type": "execute_result"
    }
   ],
   "source": [
    "device.system.internaltrigger.holdoff()"
   ]
  },
  {
   "cell_type": "code",
   "execution_count": 20,
   "id": "8c581195-8ad8-45b8-bc12-f4cee687558e",
   "metadata": {},
   "outputs": [],
   "source": [
    "# when using the internal trigger to start things (not used now)\n",
    "device.system.internaltrigger.repetitions(NUM_READOUTS)  # make sure that this matches how many repetitions for each awg sequencer\n",
    "device.system.internaltrigger.holdoff(100e-6)  # how long to wait between retriggers (increments of 100ns)\n",
    "\n",
    "device.system.internaltrigger.enable(0)"
   ]
  },
  {
   "cell_type": "code",
   "execution_count": 21,
   "id": "4a752e4e-55f5-46c2-98a8-ab65e4162011",
   "metadata": {},
   "outputs": [],
   "source": [
    "# turn on all ouputs\n",
    "\n",
    "chan[\"ST\"].output.on(1)\n",
    "chan[\"measure\"].input.on(1)\n",
    "chan[\"measure\"].output.on(1)"
   ]
  },
  {
   "cell_type": "code",
   "execution_count": 22,
   "id": "fd63bc9a-65ce-4767-aa2d-b0c45f3a0e5d",
   "metadata": {},
   "outputs": [
    {
     "data": {
      "application/vnd.jupyter.widget-view+json": {
       "model_id": "df4ce5f907dc4440a2f01cfe6c303318",
       "version_major": 2,
       "version_minor": 0
      },
      "text/plain": [
       "  0%|          | 0/100 [00:00<?, ?it/s]"
      ]
     },
     "metadata": {},
     "output_type": "display_data"
    }
   ],
   "source": [
    "result_node = chan[\"measure\"].spectroscopy.result.data.wave\n",
    "result_node.subscribe()\n",
    "\n",
    "chan[\"measure\"].spectroscopy.result.enable(1)  # start logger\n",
    "\n",
    "# start sequencers\n",
    "chan[\"ST\"].awg.enable(1)\n",
    "chan[\"measure\"].generator.enable_sequencer(single=True)\n",
    "\n",
    "# start triggering sequence (which starts each sequencer)\n",
    "# use Software Trigger\n",
    "#device.start_continuous_sw_trigger(num_triggers=NUM_READOUTS, wait_time=2e-3)  # use software trigger with 2ms delay between measurements\n",
    "# use Internal Trigger\n",
    "device.system.internaltrigger.enable(1)\n",
    "\n",
    "pbar = tqdm(total=100)\n",
    "while device.system.internaltrigger.progress() != 1.0:\n",
    "    p = int(device.system.internaltrigger.progress()*100)\n",
    "    pbar.update(p-pbar.n)\n",
    "    time.sleep(0.001)\n",
    "pbar.update(100-pbar.n)\n",
    "pbar.close()\n",
    "\n",
    "chan[\"measure\"].spectroscopy.result.enable(0)  # stop data logger\n",
    "\n",
    "# get results\n",
    "results = get_results(result_node, timeout=2)\n",
    "result_node.unsubscribe()\n",
    "\n",
    "acq = chan[\"measure\"].spectroscopy.result.acquired()\n",
    "if len(results) > acq:\n",
    "    raise TimeoutError(f\"Not all datapoints measured in the time provided. {acq} of {len(results)}.\")"
   ]
  },
  {
   "cell_type": "code",
   "execution_count": 23,
   "id": "7558c066-0d58-4ba1-b4da-55ab5b555d1f",
   "metadata": {},
   "outputs": [],
   "source": [
    "# turn off all ouputs\n",
    "\n",
    "chan[\"ST\"].output.on(0)\n",
    "chan[\"measure\"].input.on(0)\n",
    "chan[\"measure\"].output.on(0)"
   ]
  },
  {
   "cell_type": "code",
   "execution_count": 24,
   "id": "565dca85-a481-4167-9e6f-7ebdfe1a6e00",
   "metadata": {},
   "outputs": [
    {
     "data": {
      "text/plain": [
       "[<matplotlib.lines.Line2D at 0x2a5ffd3fa70>]"
      ]
     },
     "execution_count": 24,
     "metadata": {},
     "output_type": "execute_result"
    },
    {
     "data": {
      "image/png": "[encoded data removed]",
      "text/plain": [
       "<Figure size 640x480 with 1 Axes>"
      ]
     },
     "metadata": {},
     "output_type": "display_data"
    }
   ],
   "source": [
    "plt.plot(np.abs(results))"
   ]
  },
  {
   "cell_type": "code",
   "execution_count": 25,
   "id": "f649daf9-e060-4838-adfc-3e9a32dcb440",
   "metadata": {},
   "outputs": [
    {
     "data": {
      "text/plain": [
       "64"
      ]
     },
     "execution_count": 25,
     "metadata": {},
     "output_type": "execute_result"
    }
   ],
   "source": [
    "len(results)"
   ]
  },
  {
   "cell_type": "code",
   "execution_count": null,
   "id": "acc1bdbc-2dae-465f-badb-3983b25fc36b",
   "metadata": {},
   "outputs": [],
   "source": []
  }
 ],
 "metadata": {
  "kernelspec": {
   "display_name": "Python 3 (ipykernel)",
   "language": "python",
   "name": "python3"
  },
  "language_info": {
   "codemirror_mode": {
    "name": "ipython",
    "version": 3
   },
   "file_extension": ".py",
   "mimetype": "text/x-python",
   "name": "python",
   "nbconvert_exporter": "python",
   "pygments_lexer": "ipython3",
   "version": "3.12.3"
  }
 },
 "nbformat": 4,
 "nbformat_minor": 5
}
