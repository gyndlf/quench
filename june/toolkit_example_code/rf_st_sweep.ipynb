{
 "cells": [
  {
   "cell_type": "markdown",
   "id": "a7549e37-8979-420a-a720-4cf644866526",
   "metadata": {},
   "source": [
    "Measure Coulomb Blocking by sweeping ST using RF by the SHFQC and Toolkit\n",
    "\n",
    "**Spectroscopy or Readout mode?**\n",
    "It appears that while spectroscopy can be used for different parameter sweeps, it is best used for frequency sweeps. Readout mode is more versitile in our case and should be used\n",
    "\n",
    "See https://docs.zhinst.com/shfqc_user_manual/tutorials/tutorial_qubit_readout.html for a base guide on which this notebook was made. In particular see https://github.com/zhinst/zhinst-toolkit/blob/main/examples/shfqa_qubit_readout_measurement.md\n",
    "\n",
    "\n",
    "**THIS ONLY WORKS FOR RF AND NOT LF.**\n",
    "No idea why. It is probably a bug. In LF the pulse is a simple square and the oscillator is ignored"
   ]
  },
  {
   "cell_type": "code",
   "execution_count": 1,
   "id": "8e8d4250-4d1b-41e2-a2a3-d54bab46d5cd",
   "metadata": {},
   "outputs": [
    {
     "name": "stdout",
     "output_type": "stream",
     "text": [
      "Added 'quench/' and 'quench/libraries' for easy importing.\n"
     ]
    }
   ],
   "source": [
    "%matplotlib inline\n",
    "import local_broom"
   ]
  },
  {
   "cell_type": "code",
   "execution_count": 2,
   "id": "54e3a23f-ca72-4bb0-859d-4bba4a0a02e7",
   "metadata": {},
   "outputs": [
    {
     "name": "stderr",
     "output_type": "stream",
     "text": [
      "C:\\Users\\LD2007\\AppData\\Local\\Temp\\ipykernel_26308\\652053071.py:5: TqdmExperimentalWarning: Using `tqdm.autonotebook.tqdm` in notebook mode. Use `tqdm.tqdm` instead to force console mode (e.g. in jupyter console)\n",
      "  from tqdm.autonotebook import tqdm\n"
     ]
    }
   ],
   "source": [
    "from zhinst.toolkit import Session, CommandTable, Sequence, Waveforms, SHFQAChannelMode\n",
    "\n",
    "import matplotlib.pyplot as plt\n",
    "import numpy as np\n",
    "from tqdm.autonotebook import tqdm\n",
    "\n",
    "import time\n",
    "from monty import Monty"
   ]
  },
  {
   "cell_type": "code",
   "execution_count": 3,
   "id": "dc77e53a-3865-491b-8fea-dc82b1e1d064",
   "metadata": {},
   "outputs": [],
   "source": [
    "# connect to instruments\n",
    "\n",
    "DEVICE_ID = 'DEV12158'\n",
    "SERVER_HOST = 'localhost'\n",
    "\n",
    "# connect to data server\n",
    "session = Session(SERVER_HOST)\n",
    "\n",
    "# connect to device\n",
    "device = session.connect_device(DEVICE_ID)"
   ]
  },
  {
   "cell_type": "code",
   "execution_count": 60,
   "id": "8974e1d3-f5ed-4e70-8357-77d4dfdec31f",
   "metadata": {},
   "outputs": [],
   "source": [
    "session.disconnect_device(DEVICE_ID)"
   ]
  },
  {
   "cell_type": "code",
   "execution_count": 4,
   "id": "31b19a0b-3217-4a66-89d7-4ff97c56883d",
   "metadata": {},
   "outputs": [],
   "source": [
    "# Create channel maps for simplicity\n",
    "\n",
    "chan = {\n",
    "    \"measure\": device.qachannels[0],  # measure and acquire lines\n",
    "    \"ST\": device.sgchannels[5],  # drive SET (ST) line\n",
    "}\n",
    "\n",
    "drive_chans = [\"ST\"]  # match keys above"
   ]
  },
  {
   "cell_type": "markdown",
   "id": "600d7baf-c0af-4a35-8b14-26ee651b1c44",
   "metadata": {},
   "source": [
    "## Setup SG Channels"
   ]
  },
  {
   "cell_type": "code",
   "execution_count": 61,
   "id": "c22cccd6-eecd-4401-9fba-60044c4a5824",
   "metadata": {},
   "outputs": [
    {
     "ename": "DeviceNotFoundError",
     "evalue": "ZIAPIServerException with status code: 32795 - Device not found. Extended information: Device DEV12158 is not connected to the data-server. Did you call connectDevice?",
     "output_type": "error",
     "traceback": [
      "\u001b[1;31m---------------------------------------------------------------------------\u001b[0m",
      "\u001b[1;31mDeviceNotFoundError\u001b[0m                       Traceback (most recent call last)",
      "Cell \u001b[1;32mIn[61], line 9\u001b[0m\n\u001b[0;32m      6\u001b[0m chan[c]\u001b[38;5;241m.\u001b[39moutput\u001b[38;5;241m.\u001b[39mon(\u001b[38;5;241m1\u001b[39m)  \u001b[38;5;66;03m# enable the channel (rememeber to disable it later)\u001b[39;00m\n\u001b[0;32m      8\u001b[0m \u001b[38;5;66;03m# set the center synth frequency (oscillator frequency)\u001b[39;00m\n\u001b[1;32m----> 9\u001b[0m synth \u001b[38;5;241m=\u001b[39m \u001b[43mchan\u001b[49m\u001b[43m[\u001b[49m\u001b[43mc\u001b[49m\u001b[43m]\u001b[49m\u001b[38;5;241;43m.\u001b[39;49m\u001b[43msynthesizer\u001b[49m\u001b[43m(\u001b[49m\u001b[43m)\u001b[49m\n\u001b[0;32m     10\u001b[0m device\u001b[38;5;241m.\u001b[39msynthesizers[synth]\u001b[38;5;241m.\u001b[39mcenterfreq(\u001b[38;5;241m0\u001b[39m)  \u001b[38;5;66;03m# in Hz\u001b[39;00m\n\u001b[0;32m     12\u001b[0m chan[c]\u001b[38;5;241m.\u001b[39mawg\u001b[38;5;241m.\u001b[39moutputamplitude(\u001b[38;5;241m1.0\u001b[39m)  \u001b[38;5;66;03m# overall amplitude scaling factor (don't really need to change)\u001b[39;00m\n",
      "File \u001b[1;32m~\\anaconda3\\envs\\q312\\Lib\\site-packages\\zhinst\\toolkit\\nodetree\\node.py:557\u001b[0m, in \u001b[0;36mNode.__call__\u001b[1;34m(self, value, deep, enum, parse, **kwargs)\u001b[0m\n\u001b[0;32m    514\u001b[0m \u001b[38;5;250m\u001b[39m\u001b[38;5;124;03m\"\"\"Call operator that either gets (empty) or gets the value of a node.\u001b[39;00m\n\u001b[0;32m    515\u001b[0m \n\u001b[0;32m    516\u001b[0m \u001b[38;5;124;03mArgs:\u001b[39;00m\n\u001b[1;32m   (...)\u001b[0m\n\u001b[0;32m    554\u001b[0m \u001b[38;5;124;03m        node.\u001b[39;00m\n\u001b[0;32m    555\u001b[0m \u001b[38;5;124;03m\"\"\"\u001b[39;00m\n\u001b[0;32m    556\u001b[0m \u001b[38;5;28;01mif\u001b[39;00m value \u001b[38;5;129;01mis\u001b[39;00m \u001b[38;5;28;01mNone\u001b[39;00m:\n\u001b[1;32m--> 557\u001b[0m     \u001b[38;5;28;01mreturn\u001b[39;00m \u001b[38;5;28;43mself\u001b[39;49m\u001b[38;5;241;43m.\u001b[39;49m\u001b[43m_get\u001b[49m\u001b[43m(\u001b[49m\u001b[43mdeep\u001b[49m\u001b[38;5;241;43m=\u001b[39;49m\u001b[43mdeep\u001b[49m\u001b[43m,\u001b[49m\u001b[43m \u001b[49m\u001b[43menum\u001b[49m\u001b[38;5;241;43m=\u001b[39;49m\u001b[43menum\u001b[49m\u001b[43m,\u001b[49m\u001b[43m \u001b[49m\u001b[43mparse\u001b[49m\u001b[38;5;241;43m=\u001b[39;49m\u001b[43mparse\u001b[49m\u001b[43m,\u001b[49m\u001b[43m \u001b[49m\u001b[38;5;241;43m*\u001b[39;49m\u001b[38;5;241;43m*\u001b[39;49m\u001b[43mkwargs\u001b[49m\u001b[43m)\u001b[49m\n\u001b[0;32m    558\u001b[0m \u001b[38;5;28;01mreturn\u001b[39;00m \u001b[38;5;28mself\u001b[39m\u001b[38;5;241m.\u001b[39m_set(value, deep\u001b[38;5;241m=\u001b[39mdeep, enum\u001b[38;5;241m=\u001b[39menum, parse\u001b[38;5;241m=\u001b[39mparse, \u001b[38;5;241m*\u001b[39m\u001b[38;5;241m*\u001b[39mkwargs)\n",
      "File \u001b[1;32m~\\anaconda3\\envs\\q312\\Lib\\site-packages\\zhinst\\toolkit\\nodetree\\node.py:647\u001b[0m, in \u001b[0;36mNode._get\u001b[1;34m(self, deep, enum, parse, **kwargs)\u001b[0m\n\u001b[0;32m    645\u001b[0m     timestamp, value \u001b[38;5;241m=\u001b[39m \u001b[38;5;28mself\u001b[39m\u001b[38;5;241m.\u001b[39m_get_deep(\u001b[38;5;241m*\u001b[39m\u001b[38;5;241m*\u001b[39mkwargs)\n\u001b[0;32m    646\u001b[0m \u001b[38;5;28;01melse\u001b[39;00m:\n\u001b[1;32m--> 647\u001b[0m     value \u001b[38;5;241m=\u001b[39m \u001b[38;5;28;43mself\u001b[39;49m\u001b[38;5;241;43m.\u001b[39;49m\u001b[43m_get_cached\u001b[49m\u001b[43m(\u001b[49m\u001b[38;5;241;43m*\u001b[39;49m\u001b[38;5;241;43m*\u001b[39;49m\u001b[43mkwargs\u001b[49m\u001b[43m)\u001b[49m\n\u001b[0;32m    648\u001b[0m value \u001b[38;5;241m=\u001b[39m \u001b[38;5;28mself\u001b[39m\u001b[38;5;241m.\u001b[39m_parse_get_value(value, enum\u001b[38;5;241m=\u001b[39menum, parse\u001b[38;5;241m=\u001b[39mparse)\n\u001b[0;32m    649\u001b[0m \u001b[38;5;28;01mreturn\u001b[39;00m (timestamp, value) \u001b[38;5;28;01mif\u001b[39;00m deep \u001b[38;5;28;01melse\u001b[39;00m value\n",
      "File \u001b[1;32m~\\anaconda3\\envs\\q312\\Lib\\site-packages\\zhinst\\toolkit\\nodetree\\node.py:792\u001b[0m, in \u001b[0;36mNode._get_cached\u001b[1;34m(self, **kwargs)\u001b[0m\n\u001b[0;32m    776\u001b[0m \u001b[38;5;250m\u001b[39m\u001b[38;5;124;03m\"\"\"Get the cached node value from the data server.\u001b[39;00m\n\u001b[0;32m    777\u001b[0m \n\u001b[0;32m    778\u001b[0m \u001b[38;5;124;03mThe kwargs will be forwarded to the maped zhinst.core function call.\u001b[39;00m\n\u001b[1;32m   (...)\u001b[0m\n\u001b[0;32m    789\u001b[0m \u001b[38;5;124;03m        only be polled.\u001b[39;00m\n\u001b[0;32m    790\u001b[0m \u001b[38;5;124;03m\"\"\"\u001b[39;00m\n\u001b[0;32m    791\u001b[0m \u001b[38;5;28;01mif\u001b[39;00m \u001b[38;5;124m\"\u001b[39m\u001b[38;5;124mInteger\u001b[39m\u001b[38;5;124m\"\u001b[39m \u001b[38;5;129;01min\u001b[39;00m \u001b[38;5;28mself\u001b[39m\u001b[38;5;241m.\u001b[39mnode_info\u001b[38;5;241m.\u001b[39mtype:\n\u001b[1;32m--> 792\u001b[0m     \u001b[38;5;28;01mreturn\u001b[39;00m \u001b[38;5;28;43mself\u001b[39;49m\u001b[38;5;241;43m.\u001b[39;49m\u001b[43m_root\u001b[49m\u001b[38;5;241;43m.\u001b[39;49m\u001b[43mconnection\u001b[49m\u001b[38;5;241;43m.\u001b[39;49m\u001b[43mgetInt\u001b[49m\u001b[43m(\u001b[49m\u001b[38;5;28;43mself\u001b[39;49m\u001b[38;5;241;43m.\u001b[39;49m\u001b[43mnode_info\u001b[49m\u001b[38;5;241;43m.\u001b[39;49m\u001b[43mpath\u001b[49m\u001b[43m)\u001b[49m\n\u001b[0;32m    793\u001b[0m \u001b[38;5;28;01mif\u001b[39;00m \u001b[38;5;28mself\u001b[39m\u001b[38;5;241m.\u001b[39mnode_info\u001b[38;5;241m.\u001b[39mtype \u001b[38;5;241m==\u001b[39m \u001b[38;5;124m\"\u001b[39m\u001b[38;5;124mDouble\u001b[39m\u001b[38;5;124m\"\u001b[39m:\n\u001b[0;32m    794\u001b[0m     \u001b[38;5;28;01mreturn\u001b[39;00m \u001b[38;5;28mself\u001b[39m\u001b[38;5;241m.\u001b[39m_root\u001b[38;5;241m.\u001b[39mconnection\u001b[38;5;241m.\u001b[39mgetDouble(\u001b[38;5;28mself\u001b[39m\u001b[38;5;241m.\u001b[39mnode_info\u001b[38;5;241m.\u001b[39mpath)\n",
      "\u001b[1;31mDeviceNotFoundError\u001b[0m: ZIAPIServerException with status code: 32795 - Device not found. Extended information: Device DEV12158 is not connected to the data-server. Did you call connectDevice?"
     ]
    }
   ],
   "source": [
    "with device.set_transaction():\n",
    "    for c in drive_chans:\n",
    "        chan[c].output.range(5)  # in dBm\n",
    "        chan[c].output.rflfpath(0)  # use LF not RF (1 for RF)\n",
    "    \n",
    "        chan[c].output.on(1)  # enable the channel (rememeber to disable it later)\n",
    "\n",
    "        # set the center synth frequency (oscillator frequency)\n",
    "        synth = chan[c].synthesizer()\n",
    "        device.synthesizers[synth].centerfreq(0)  # in Hz\n",
    "    \n",
    "        chan[c].awg.outputamplitude(1.0)  # overall amplitude scaling factor (don't really need to change)\n",
    "        chan[c].oscs[0].freq(0)  # oscillator 1 frequency (Hz) disable for DC\n",
    "        chan[c].oscs[1].freq(0)  # oscillator 2 frequency (Hz)\n",
    "        chan[c].awg.modulation.enable(1)  # start digital modulation\n",
    "    \n",
    "        #chan[c].marker.source(0)  # setup the AWG trigger 1\n",
    "        chan[c].awg.auxtriggers[0].channel(8)  # 8 = use internal trigger"
   ]
  },
  {
   "cell_type": "code",
   "execution_count": 6,
   "id": "c6f28309-3286-4a39-a1fb-09530289ab5e",
   "metadata": {},
   "outputs": [
    {
     "data": {
      "text/plain": [
       "{'messages': '', 'maxelfsize': 2147483648}"
      ]
     },
     "execution_count": 6,
     "metadata": {},
     "output_type": "execute_result"
    }
   ],
   "source": [
    "seq = Sequence()\n",
    "seq.code = \"\"\"\n",
    "wave w_a = ones(1024);\n",
    "\n",
    "// Assign a single channel waveform to wave table entry 0\n",
    "assignWaveIndex(1,2, w_a, 0);\n",
    "\n",
    " repeat(100) {\n",
    "        waitDigTrigger(1);\n",
    "\n",
    "        setTrigger(1);\n",
    "        setTrigger(0);\n",
    "       executeTableEntry(0);\n",
    "       \n",
    "    }\n",
    "\"\"\"\n",
    "\n",
    "chan[\"ST\"].awg.load_sequencer_program(seq)"
   ]
  },
  {
   "cell_type": "code",
   "execution_count": 7,
   "id": "bf95ebf1-0f68-4df1-a55c-799e23289b52",
   "metadata": {},
   "outputs": [],
   "source": [
    "# setup drive command tables\n",
    "\n",
    "ct_schema = chan[\"ST\"].awg.commandtable.load_validation_schema()\n",
    "ct = CommandTable(ct_schema)\n",
    "\n",
    "gain = 1.0\n",
    "\n",
    "ct.table[0].waveform.index = 0\n",
    "ct.table[0].amplitude00.value = gain\n",
    "ct.table[0].amplitude10.value = gain\n",
    "ct.table[0].amplitude01.value = -gain\n",
    "ct.table[0].amplitude11.value = gain\n",
    "# ct.table[0].waveform.samplingRateDivider = 0  # 2^X divider\n",
    "#ct.table[0].waveform.length = 10240\n",
    "#ct.table[0].waveform.playHold = True\n",
    "\n",
    "chan[\"ST\"].awg.commandtable.upload_to_device(ct)"
   ]
  },
  {
   "cell_type": "code",
   "execution_count": null,
   "id": "684fbb2b-a02b-490e-a81c-6adbc09a029c",
   "metadata": {},
   "outputs": [],
   "source": []
  },
  {
   "cell_type": "code",
   "execution_count": null,
   "id": "37fbc733-6f9b-4e51-868f-504359369c2d",
   "metadata": {},
   "outputs": [],
   "source": []
  },
  {
   "cell_type": "markdown",
   "id": "e0260b95-2802-4706-bbdd-97d816775551",
   "metadata": {},
   "source": [
    "## Setup QA Channels"
   ]
  },
  {
   "cell_type": "code",
   "execution_count": 49,
   "id": "0f9d29cd-ea15-4d97-9fa5-a63947fe39b9",
   "metadata": {},
   "outputs": [],
   "source": [
    "with device.set_transaction():\n",
    "    chan[\"measure\"].output.rflfpath(1)  # use LF mode not RF (for signals under 600Mhz)\n",
    "    chan[\"measure\"].input.rflfpath(1)\n",
    "    #chan[\"measure\"].output.digitalmixer.centerfreq(400e6)  # only applicable for RF mode (otherwise forced to 0Hz)\n",
    "    #chan[\"measure\"].centerfreq(0)  # in Hz (appears to be ignored when in LF mode. immutable?)\n",
    "    chan[\"measure\"].oscs[0].freq(406.6e6)  # CW frequency (in LF mode)\n",
    "    chan[\"measure\"].oscs[0].gain(1.0)\n",
    "\n",
    "    # temporarily disabled based on tutorial\n",
    "    #chan[\"measure\"].generator.auxtriggers[0].channel(8)  # use internal trigger\n",
    "    #chan[\"measure\"].generator.enable(0)  # do not run yet\n",
    "\n",
    "    # no longer use spectroscopy mode. use readout instead\n",
    "    #chan[\"measure\"].spectroscopy.delay(220e-9)  # integration delay in units of second\n",
    "    #chan[\"measure\"].spectroscopy.length(1024)  # integration length in units of number of samples\n",
    "    #chan[\"measure\"].spectroscopy.result.averages(1)  # number of averages \n",
    "    #chan[\"measure\"].spectroscopy.result.enable(0) # disable result logger\n",
    "    #chan[\"measure\"].spectroscopy.result.length(4096)\n",
    "\n",
    "    #chan[\"measure\"].input.range(0)\n",
    "    #chan[\"measure\"].output.range(-5)\n",
    "    #chan[\"measure\"].input.on(1)\n",
    "    #chan[\"measure\"].output.on(1)\n",
    "\n",
    "    chan[\"measure\"].configure_channel(\n",
    "        center_frequency=0,  # in units of Hz  # minimum of 600MHz\n",
    "        input_range=-10,  # in units of dBm\n",
    "        output_range=-20,  # in units of dBm\n",
    "        mode=SHFQAChannelMode.READOUT,  # SHFQAChannelMode.READOUT or SHFQAChannelMode.SPECTROSCOPY\n",
    "    )\n",
    "    \n",
    "    chan[\"measure\"].input.on(1)\n",
    "    chan[\"measure\"].output.on(1)\n",
    "\n",
    "    # temporarily disable based on tutorial\n",
    "    #chan[\"measure\"].generator.configure_sequencer_triggering(\n",
    "    #    aux_trigger=8,  # internal trigger\n",
    "    #    play_pulse_delay=0,  # 0s delay between startQA trigger and the readout pulse\n",
    "    #)"
   ]
  },
  {
   "cell_type": "code",
   "execution_count": 17,
   "id": "65a1455b-6f7b-4ecb-bad0-ac813f2937a2",
   "metadata": {},
   "outputs": [],
   "source": [
    "# setup Waveform pulses\n",
    "\n",
    "readout_pulses = Waveforms()\n",
    "readout_pulses.assign_waveform(\n",
    "    slot=0,\n",
    "    wave1=np.ones(2048),  # assumes 0 for wave2\n",
    ")\n",
    "\n",
    "chan[\"measure\"].generator.write_to_waveform_memory(readout_pulses)"
   ]
  },
  {
   "cell_type": "code",
   "execution_count": 39,
   "id": "bf0645b3-4a57-435c-8bca-b15f90a98dd6",
   "metadata": {},
   "outputs": [
    {
     "name": "stdout",
     "output_type": "stream",
     "text": [
      "0 (Wave([1., 1., 1., ..., 1., 1., 1.]), None, None)\n"
     ]
    }
   ],
   "source": [
    "for i,j in readout_pulses.items():\n",
    "    print(i, j)"
   ]
  },
  {
   "cell_type": "code",
   "execution_count": 18,
   "id": "c6a71b57-95b9-4b14-988c-dcb5d117b11f",
   "metadata": {},
   "outputs": [],
   "source": [
    "# setup weights for integration\n",
    "\n",
    "ROTATION_ANGLE = 0\n",
    "\n",
    "# for this demo simply use the same envelope profile as the readout pulses\n",
    "weights = Waveforms()\n",
    "\n",
    "for waveform_slot, pulse in readout_pulses.items():\n",
    "    weights.assign_waveform(\n",
    "        slot=waveform_slot,\n",
    "        wave1=np.conj(pulse[0] * np.exp(1j * ROTATION_ANGLE))\n",
    "    )\n",
    "\n",
    "chan[\"measure\"].readout.write_integration_weights(weights=weights, integration_delay=200e-9)  # compensate for delay between generater output and input of the integrator"
   ]
  },
  {
   "cell_type": "code",
   "execution_count": 19,
   "id": "9e0f92b2-d411-4279-bca7-992267f4513d",
   "metadata": {},
   "outputs": [],
   "source": [
    "# setup the result logger\n",
    "NUM_READOUTS = 100\n",
    "\n",
    "chan[\"measure\"].readout.configure_result_logger(result_length=NUM_READOUTS, result_source=\"result_of_integration\")"
   ]
  },
  {
   "cell_type": "code",
   "execution_count": 31,
   "id": "fd6e31f0-a7d0-445b-9933-f0b99f988729",
   "metadata": {},
   "outputs": [
    {
     "data": {
      "text/plain": [
       "{'messages': '', 'maxelfsize': 2147483648}"
      ]
     },
     "execution_count": 31,
     "metadata": {},
     "output_type": "execute_result"
    }
   ],
   "source": [
    "# configure the sequencer for the readout pulses\n",
    "\n",
    "# Sequencer waits for the trigger, then starts the readout, then repeats this for the chosen number of readouts\n",
    "\n",
    "chan[\"measure\"].generator.configure_sequencer_triggering(\n",
    "    aux_trigger=\"software_trigger0\",\n",
    "    play_pulse_delay=0\n",
    ")\n",
    "\n",
    "seq = Sequence()\n",
    "seq.code = f\"\"\"\n",
    "repeat ({NUM_READOUTS}) {{\n",
    "\n",
    "    // wait for a digital trigger before starting\n",
    "    waitDigTrigger(1);\n",
    "\n",
    "    setTrigger(1);\n",
    "    //playZero(16000);\n",
    "    setTrigger(0);\n",
    "\n",
    "    startQA(QA_GEN_ALL, QA_INT_ALL, true, 0, 0x0);\n",
    "\n",
    "    // legacy. only useful in RF mode when we are triggering pulses. For some reason this doens't seem to work in LF mode\n",
    "    // play readout waveform stored in Waveform Memory slot 1,\n",
    "    // send a trigger to start integration,\n",
    "    // and send a Sequencer Monitor trigger to trigger the Scope \n",
    "    //startQA(QA_GEN_0, QA_INT_0, true);\n",
    "}}\n",
    "\n",
    "\"\"\"\n",
    "\n",
    "chan[\"measure\"].generator.load_sequencer_program(seq)"
   ]
  },
  {
   "cell_type": "markdown",
   "id": "8c9faf95-1bf2-41b9-95d3-908405d3fdf2",
   "metadata": {},
   "source": [
    "## Run the experiment"
   ]
  },
  {
   "cell_type": "code",
   "execution_count": 56,
   "id": "26212207-61c5-4918-a86d-a91b377ab8f6",
   "metadata": {},
   "outputs": [],
   "source": [
    "# the new method using readout instead of spectroscopy\n",
    "chan[\"measure\"].readout.run()  # start readout data logger\n",
    "chan[\"measure\"].generator.enable_sequencer(single=True)  # start the QA sequencer (it halts until receiveing a digital trigger)\n",
    "\n",
    "device.start_continuous_sw_trigger(num_triggers=NUM_READOUTS, wait_time=2e-3)\n"
   ]
  },
  {
   "cell_type": "code",
   "execution_count": 57,
   "id": "e6a91f8a-dd59-4888-a220-51842f8a8a21",
   "metadata": {},
   "outputs": [],
   "source": [
    "# get the results\n",
    "res = chan[\"measure\"].readout.read()"
   ]
  },
  {
   "cell_type": "code",
   "execution_count": 58,
   "id": "0620f270-c396-4012-ba0a-7258dc292e38",
   "metadata": {},
   "outputs": [
    {
     "data": {
      "text/plain": [
       "(8, 100)"
      ]
     },
     "execution_count": 58,
     "metadata": {},
     "output_type": "execute_result"
    }
   ],
   "source": [
    "res.shape"
   ]
  },
  {
   "cell_type": "code",
   "execution_count": 59,
   "id": "bd46965c-ca45-4d69-b238-8183935c339c",
   "metadata": {},
   "outputs": [
    {
     "data": {
      "text/plain": [
       "[<matplotlib.lines.Line2D at 0x29a6fe5dfd0>]"
      ]
     },
     "execution_count": 59,
     "metadata": {},
     "output_type": "execute_result"
    },
    {
     "data": {
      "image/png": "[encoded data removed]",
      "text/plain": [
       "<Figure size 640x480 with 1 Axes>"
      ]
     },
     "metadata": {},
     "output_type": "display_data"
    }
   ],
   "source": [
    "plt.plot(np.abs(res[0,:]))"
   ]
  },
  {
   "cell_type": "code",
   "execution_count": 11,
   "id": "0f23f086-ab69-42c1-8df5-e11c73725ea9",
   "metadata": {},
   "outputs": [],
   "source": [
    "# the old way of doing things\n",
    "def get_results(result_node, timeout):\n",
    "    wave_data_captured = {}\n",
    "    wave_data_captured[result_node] = False\n",
    "    start_time = time.time()\n",
    "    captured_data = {}\n",
    "    while not all(wave_data_captured.values()):\n",
    "        if start_time + timeout < time.time():\n",
    "            print(captured_data)\n",
    "            raise TimeoutError('Timeout before all samples collected.')\n",
    "        test = session.poll()\n",
    "        for node, value in test.items():\n",
    "            node = session.raw_path_to_node(node)\n",
    "            for v in value:\n",
    "                if node not in captured_data:\n",
    "                    captured_data[node] = [v['vector']]\n",
    "                else:\n",
    "                    captured_data[node].append(v['vector'])\n",
    "            if len(captured_data[node]) >= 1:  # readout 1 point\n",
    "                wave_data_captured[node] = True\n",
    "                total_num_data = sum([len(element) for element in captured_data[node]])\n",
    "    data = captured_data[result_node][0]\n",
    "    return data"
   ]
  },
  {
   "cell_type": "code",
   "execution_count": 12,
   "id": "100eee12-153f-44e6-b255-2ea758b9cdb1",
   "metadata": {},
   "outputs": [],
   "source": [
    "device.system.internaltrigger.repetitions(1)  # make sure that this matches how many repetitions for each awg sequencer\n",
    "device.system.internaltrigger.holdoff(100e-6)"
   ]
  },
  {
   "cell_type": "code",
   "execution_count": 13,
   "id": "029aa67f-2c04-48bb-b357-bf535b241d61",
   "metadata": {},
   "outputs": [],
   "source": [
    "result_node = chan[\"measure\"].spectroscopy.result.data.wave\n",
    "result_node.subscribe()\n",
    "\n",
    "# Start a measurement\n",
    "#device.scopes[0].run(single=True)  # start acquisition listener\n",
    "chan[\"ST\"].awg.enable(1)  # start DC driver\n",
    "#chan[\"measure\"].generator.enable_sequencer(single=True)  # start RF measurement\n",
    "chan[\"measure\"].generator.enable(1)\n",
    "chan[\"measure\"].spectroscopy.result.enable(1)  # enable result logger\n",
    "device.system.internaltrigger.enable(1)  # trigger all sequencers simultaniously\n",
    "chan[\"measure\"].spectroscopy.result.enable(0)\n",
    "results = get_results(result_node, 5) # get results\n",
    "result_node.unsubscribe()"
   ]
  },
  {
   "cell_type": "code",
   "execution_count": 14,
   "id": "479eba04-73f1-415a-b229-b303e4d31237",
   "metadata": {},
   "outputs": [
    {
     "data": {
      "text/plain": [
       "array([-5.07519181e-03-1.89849930e-02j, -5.07600280e-03-1.91087741e-02j,\n",
       "       -6.99672992e-03-3.38588545e-02j,  0.00000000e+00+0.00000000e+00j,\n",
       "        3.92160380e+08+0.00000000e+00j,  1.74154193e-07+0.00000000e+00j,\n",
       "        0.00000000e+00+0.00000000e+00j,  0.00000000e+00+1.19677850e+04j,\n",
       "        0.00000000e+00+7.47986587e+02j,  8.50362272e-11+0.00000000e+00j])"
      ]
     },
     "execution_count": 14,
     "metadata": {},
     "output_type": "execute_result"
    }
   ],
   "source": [
    "results[:10]"
   ]
  },
  {
   "cell_type": "code",
   "execution_count": 15,
   "id": "3305f30c-be39-4cb7-bb64-8abc4eabd96e",
   "metadata": {},
   "outputs": [
    {
     "data": {
      "text/plain": [
       "[<matplotlib.lines.Line2D at 0x29a6ac426c0>]"
      ]
     },
     "execution_count": 15,
     "metadata": {},
     "output_type": "execute_result"
    },
    {
     "data": {
      "image/png": "[encoded data removed]",
      "text/plain": [
       "<Figure size 640x480 with 1 Axes>"
      ]
     },
     "metadata": {},
     "output_type": "display_data"
    }
   ],
   "source": [
    "plt.plot(np.abs(results))"
   ]
  },
  {
   "cell_type": "code",
   "execution_count": null,
   "id": "893d6fc1-85a9-478d-a6d8-bfbae06169d1",
   "metadata": {},
   "outputs": [],
   "source": []
  }
 ],
 "metadata": {
  "kernelspec": {
   "display_name": "Python 3 (ipykernel)",
   "language": "python",
   "name": "python3"
  },
  "language_info": {
   "codemirror_mode": {
    "name": "ipython",
    "version": 3
   },
   "file_extension": ".py",
   "mimetype": "text/x-python",
   "name": "python",
   "nbconvert_exporter": "python",
   "pygments_lexer": "ipython3",
   "version": "3.12.3"
  }
 },
 "nbformat": 4,
 "nbformat_minor": 5
}
