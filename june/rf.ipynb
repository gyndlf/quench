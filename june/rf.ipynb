{
 "cells": [
  {
   "cell_type": "markdown",
   "source": [
    "Measure the Spin Qubit using RF via SHFQC device\n",
    "\n",
    "Based upon `shfqa_qd_new_CS_20240429.ipynb` and https://github.com/zhinst/laboneq/blob/main/examples/03_superconducting_qubits/00_qubit_tuneup_shfsg_shfqa_shfqc.ipynb\n"
   ],
   "metadata": {
    "collapsed": false
   },
   "id": "190afbff2f6e42c6"
  },
  {
   "cell_type": "code",
   "outputs": [],
   "source": [
    "# LabOne Q:\n",
    "from laboneq.simple import *\n",
    "\n",
    "# plotting and fitting functionality\n",
    "from laboneq.analysis.fitting import (\n",
    "    lorentzian,\n",
    "    oscillatory,\n",
    "    oscillatory_decay,\n",
    ")\n",
    "from laboneq.contrib.example_helpers.plotting.plot_helpers import plot_simulation\n",
    "\n",
    "# descriptor imports\n",
    "#from laboneq.contrib.example_helpers.descriptors.shfsg_shfqa_pqsc import (\n",
    "    #descriptor_shfsg_shfqa_pqsc,\n",
    "#)\n",
    "\n",
    "# for saving results and pulse sheets\n",
    "from pathlib import Path\n",
    "import time\n",
    "\n",
    "import matplotlib.pyplot as plt\n",
    "import numpy as np"
   ],
   "metadata": {
    "collapsed": false,
    "ExecuteTime": {
     "end_time": "2024-06-11T04:07:30.722275Z",
     "start_time": "2024-06-11T04:07:30.712986Z"
    }
   },
   "id": "f9734c37b91f0093",
   "execution_count": 31
  },
  {
   "cell_type": "markdown",
   "source": [
    "Physical lines are the actual ports on the device. These are specified in the descriptor as our specific ports.\n",
    "\n",
    "The logical lines can be any of the following. Multiple logical lines can correspond to the same physical line and their groups can be across different devices [reference](https://docs.zhinst.com/labone_q_user_manual/concepts/logical_signal_lines)\n",
    "- **Drive** control lines to adjust qubits\n",
    "- **Measure** line our RF measurement signal goes down\n",
    "- **Acquire** response line from the measure line. Readout lines\n",
    "\n",
    "Experiment signals are generic parameters defined for each experiment. Upon creation, they need to be mapped to logical signals. The reason for this distinction is so for superconducting qubits it is easy to change from q0 to q1 but in our case this is unnecessary\n"
   ],
   "metadata": {
    "collapsed": false
   },
   "id": "ae060a54d5b58557"
  },
  {
   "cell_type": "code",
   "outputs": [],
   "source": [
    "descriptor = \"\"\"\n",
    "instruments:\n",
    "  SHFQC:\n",
    "  - address: DEV12158\n",
    "    uid: device_shfqc\n",
    "    interface: 1gbe\n",
    "\n",
    "connections:\n",
    "  device_shfqc:\n",
    "    - iq_signal: set/drive_line\n",
    "      ports: SGCHANNELS/0/OUTPUT\n",
    "    - iq_signal: p1/drive_line\n",
    "      ports: SGCHANNELS/1/OUTPUT\n",
    "    - iq_signal: p2/drive_line\n",
    "      ports: SGCHANNELS/2/OUTPUT\n",
    "    - iq_signal: j1/drive_line\n",
    "      ports: SGCHANNELS/3/OUTPUT\n",
    "    - iq_signal: bt/drive_line  # bias tee\n",
    "      ports: SGCHANNELS/4/OUTPUT\n",
    "      \n",
    "    - iq_signal: set/measure_line\n",
    "      ports: [QACHANNELS/0/OUTPUT]\n",
    "      \n",
    "    - acquire_signal: set/acquire_line\n",
    "      ports: [QACHANNELS/0/INPUT]\n",
    "      \n",
    "\"\"\"\n"
   ],
   "metadata": {
    "collapsed": false,
    "ExecuteTime": {
     "end_time": "2024-06-11T04:07:30.748294Z",
     "start_time": "2024-06-11T04:07:30.728940Z"
    }
   },
   "id": "bb71bc989e6a357f",
   "execution_count": 32
  },
  {
   "cell_type": "code",
   "outputs": [],
   "source": [
    "def plot_sweeper(f, result, unwrap = True, deg = True):\n",
    "    \"\"\"Plot results from Sweeper\"\"\"\n",
    "    f = f/1e9\n",
    "    power = 10*np.log10(np.abs(result)**2/50*1000)\n",
    "    phase = np.unwrap(np.angle(result, deg = deg)) if unwrap is True else np.angle(result, deg = deg)\n",
    "    phase_unit = 'deg' if deg is True else 'rad'\n",
    "    \n",
    "    fig, (ax0, ax1) = plt.subplots(nrows = 2, sharex = True)\n",
    "    ax0.plot(f, power, '.-', color = 'steelblue', label = 'power')\n",
    "    ax0.legend(loc='upper left')\n",
    "    ax0.set_ylabel('Power (dBm)')\n",
    "    ax1.plot(f, phase, '.-', color = 'orange', label = 'phase')\n",
    "    ax1.legend(loc='upper left')\n",
    "    ax1.set_xlabel('Frequency (GHz)')\n",
    "    fig.align_ylabels([ax0, ax1])\n",
    "    ax0.grid()\n",
    "    ax1.grid()\n",
    "    ax1.set_ylabel(f'Phase ({phase_unit})')\n",
    "    plt.tight_layout()\n",
    "    plt.show()"
   ],
   "metadata": {
    "collapsed": false,
    "ExecuteTime": {
     "end_time": "2024-06-11T04:07:30.771243Z",
     "start_time": "2024-06-11T04:07:30.756196Z"
    }
   },
   "id": "f33be977438eaa64",
   "execution_count": 33
  },
  {
   "cell_type": "code",
   "outputs": [
    {
     "name": "stdout",
     "output_type": "stream",
     "text": [
      "[2024.06.11 14:07:30.771] INFO    Logging initialized from [Default inline config in laboneq.laboneq_logging] logdir is /Users/james/Library/CloudStorage/OneDrive-TheUniversityofSydney(Students)/uni/quench/june/laboneq_output/log\n",
      "[2024.06.11 14:07:30.773] INFO    VERSION: laboneq 2.29.0\n",
      "[2024.06.11 14:07:30.775] INFO    Connecting to data server at localhost:8004\n",
      "[2024.06.11 14:07:30.776] INFO    Connected to Zurich Instruments LabOne Data Server version 24.01 at localhost:8004\n",
      "[2024.06.11 14:07:30.779] WARNING SHFQC/QA:dev12158: Include the device options 'SHFQC/QC6CH' in the device setup ('options' field of the 'instruments' list in the device setup descriptor). This will become a strict requirement in the future.\n",
      "[2024.06.11 14:07:30.781] INFO    Configuring the device setup\n",
      "[2024.06.11 14:07:30.783] INFO    The device setup is configured\n"
     ]
    },
    {
     "data": {
      "text/plain": "<laboneq.dsl.session.ConnectionState at 0x12a79eb40>"
     },
     "execution_count": 34,
     "metadata": {},
     "output_type": "execute_result"
    }
   ],
   "source": [
    "# Define and Load our Device Setup\n",
    "device_setup = DeviceSetup.from_descriptor(\n",
    "    yaml_text=descriptor, \n",
    "    server_host=\"localhost\",  # ip address of the LabOne dataserver used to communicate with the instruments\n",
    "    server_port=\"8004\",  # port number of the dataserver - default is 8004\n",
    "    setup_name=\"my_setup\",  # setup name\n",
    ")\n",
    "\n",
    "# Create shortcuts to logical signals (LSG) for convenience\n",
    "lsg = {\n",
    "    qubit_name: device_setup.logical_signal_groups[qubit_name].logical_signals\n",
    "    for qubit_name in device_setup.logical_signal_groups.keys()\n",
    "}\n",
    "# Use like lsg[\"set\"][\"drive_line\"]\n",
    "\n",
    "# perform experiments in emulation mode only? - if True, also generate dummy data for fitting\n",
    "emulate = True\n",
    "\n",
    "# create and connect to a session\n",
    "session = Session(device_setup=device_setup)\n",
    "session.connect(do_emulation=emulate)"
   ],
   "metadata": {
    "collapsed": false
   },
   "id": "ac9c14242c5a83fe",
   "execution_count": 34
  },
  {
   "cell_type": "code",
   "outputs": [
    {
     "data": {
      "text/plain": "dict_keys(['set', 'p1', 'p2', 'j1', 'bt'])"
     },
     "execution_count": 35,
     "metadata": {},
     "output_type": "execute_result"
    }
   ],
   "source": [
    "lsg.keys()"
   ],
   "metadata": {
    "collapsed": false,
    "ExecuteTime": {
     "end_time": "2024-06-11T04:07:30.839250Z",
     "start_time": "2024-06-11T04:07:30.796849Z"
    }
   },
   "id": "2db5fda77d53b6c7",
   "execution_count": 35
  },
  {
   "cell_type": "markdown",
   "source": [
    "## SET Sweep"
   ],
   "metadata": {
    "collapsed": false
   },
   "id": "f650b774b3c673f7"
  },
  {
   "cell_type": "code",
   "outputs": [
    {
     "name": "stdout",
     "output_type": "stream",
     "text": [
      "[2024.06.11 14:12:36.531] INFO    Resolved modulation type of oscillator 'osc_11' on signal 'acquire' to HARDWARE\n",
      "[2024.06.11 14:12:36.532] INFO    Resolved modulation type of oscillator 'osc_9' on signal 'drive_set' to HARDWARE\n",
      "[2024.06.11 14:12:36.534] INFO    Starting LabOne Q Compiler run...\n",
      "[2024.06.11 14:12:36.655] INFO    Schedule completed. [0.119 s]\n",
      "[2024.06.11 14:12:43.269] INFO    Code generation completed for all AWGs. [6.612 s]\n",
      "[2024.06.11 14:12:43.270] INFO    Completed compilation step 1 of 1. [6.734 s]\n",
      "[2024.06.11 14:12:43.277] INFO     ───────────────────────────────────────────────────────────────────── \n",
      "[2024.06.11 14:12:43.278] INFO     \u001B[1m \u001B[0m\u001B[1mDevice         \u001B[0m\u001B[1m \u001B[0m \u001B[1m \u001B[0m\u001B[1mAWG\u001B[0m\u001B[1m \u001B[0m \u001B[1m \u001B[0m\u001B[1mSeqC LOC\u001B[0m\u001B[1m \u001B[0m \u001B[1m \u001B[0m\u001B[1mCT entries\u001B[0m\u001B[1m \u001B[0m \u001B[1m \u001B[0m\u001B[1mWaveforms\u001B[0m\u001B[1m \u001B[0m \u001B[1m \u001B[0m\u001B[1mSamples\u001B[0m\u001B[1m \u001B[0m \n",
      "[2024.06.11 14:12:43.278] INFO     ───────────────────────────────────────────────────────────────────── \n",
      "[2024.06.11 14:12:43.279] INFO      device_shfqc        0         16            0           0         0  \n",
      "[2024.06.11 14:12:43.280] INFO      device_shfqc_sg     0       2818          401           2       128  \n",
      "[2024.06.11 14:12:43.281] INFO     ───────────────────────────────────────────────────────────────────── \n",
      "[2024.06.11 14:12:43.282] INFO     \u001B[1m \u001B[0m\u001B[1mTOTAL          \u001B[0m\u001B[1m \u001B[0m \u001B[1m \u001B[0m\u001B[1m   \u001B[0m\u001B[1m \u001B[0m \u001B[1m \u001B[0m\u001B[1m    2834\u001B[0m\u001B[1m \u001B[0m \u001B[1m \u001B[0m\u001B[1m       401\u001B[0m\u001B[1m \u001B[0m \u001B[1m \u001B[0m\u001B[1m         \u001B[0m\u001B[1m \u001B[0m \u001B[1m \u001B[0m\u001B[1m    128\u001B[0m\u001B[1m \u001B[0m \n",
      "[2024.06.11 14:12:43.283] INFO     ───────────────────────────────────────────────────────────────────── \n",
      "[2024.06.11 14:12:43.289] INFO    Finished LabOne Q Compiler run.\n",
      "[2024.06.11 14:12:43.300] INFO    Configuring the device setup\n",
      "[2024.06.11 14:12:43.301] INFO    The device setup is configured\n",
      "[2024.06.11 14:12:43.308] INFO    Starting near-time execution...\n",
      "[2024.06.11 14:12:43.480] INFO    Finished near-time execution.\n",
      "[2024.06.11 14:12:43.482] INFO    Recompiling the experiment due to missing extra information in the compiled experiment. Compile with `OUTPUT_EXTRAS=True` and `MAX_EVENTS_TO_PUBLISH=1000` to bypass this step with a small impact on the compilation time.\n",
      "[2024.06.11 14:12:43.484] INFO    Resolved modulation type of oscillator 'osc_11' on signal 'acquire' to HARDWARE\n",
      "[2024.06.11 14:12:43.485] INFO    Resolved modulation type of oscillator 'osc_9' on signal 'drive_set' to HARDWARE\n",
      "[2024.06.11 14:12:43.486] INFO    Starting LabOne Q Compiler run...\n",
      "[2024.06.11 14:12:43.744] INFO    Schedule completed. [0.255 s]\n",
      "[2024.06.11 14:12:51.177] INFO    Code generation completed for all AWGs. [7.431 s]\n",
      "[2024.06.11 14:12:51.178] INFO    Completed compilation step 1 of 1. [7.688 s]\n",
      "[2024.06.11 14:12:51.180] INFO    Finished LabOne Q Compiler run.\n",
      "[2024.06.11 14:12:51.211] INFO    Writing html file to /Users/james/Library/CloudStorage/OneDrive-TheUniversityofSydney(Students)/uni/quench/june/Pulse_Sheets/csd_2024-06-11-14-12-43.html\n"
     ]
    }
   ],
   "source": [
    "g1_len = 100e-6\n",
    "g2_len = 20e-6 # this pulse length and g1_len determines how many steps of sweeping g2 pulse, i.e. g1_len/g2_len\n",
    "\n",
    "g1_pulse = pulse_library.const(uid = \"g1_pulse\", amplitude = 0.3, length = g1_len, can_compress=True)\n",
    "g2_pulse = pulse_library.const(uid = \"g2_pulse\", amplitude = 0.3, length = g2_len, can_compress=True)\n",
    "amp_sweep_g1 = LinearSweepParameter(\"amp_g1\", start=-0.0, stop = 1.0, count=401)\n",
    "\n",
    "# Experiment\n",
    "exp = Experiment(uid=\"set sweep\", \n",
    "    signals = [\n",
    "            ExperimentSignal(\"drive_set\", map_to=lsg[\"set\"][\"drive_line\"]), # add additional drive lines for P1, P2, etc\n",
    "            ExperimentSignal(\"measure\", map_to=lsg[\"set\"][\"measure_line\"]),\n",
    "            ExperimentSignal(\"acquire\", map_to=lsg[\"set\"][\"acquire_line\"]),  \n",
    "    ]  \n",
    ")\n",
    "\n",
    "with exp.acquire_loop_rt(uid=\"shots\",\n",
    "                         count=2**3,\n",
    "                         acquisition_type = AcquisitionType.SPECTROSCOPY,\n",
    "                         averaging_mode = AveragingMode.CYCLIC):\n",
    "    with exp.sweep(uid='sweep set', parameter=amp_sweep_g1):\n",
    "        with exp.section(uid=\"drivers\", alignment = SectionAlignment.RIGHT):\n",
    "            with exp.section(uid=\"control\"):\n",
    "                exp.play(signal=\"drive_set\", pulse=g1_pulse, amplitude = amp_sweep_g1, phase = 180)\n",
    "                # note that the phase does not affect the output amplitude \n",
    "            with exp.section(uid=\"readout\"):\n",
    "                # necessary to add measurement/acquire pulse?\n",
    "                \n",
    "                # exp.acquire(signal=\"acquire\",\n",
    "                #             handle=\"results\",\n",
    "                #             length=50e-6)\n",
    "                \n",
    "                exp.measure(acquire_signal=\"acquire\",\n",
    "                            handle = \"results\",\n",
    "                            integration_length=50e-6,\n",
    "                            reset_delay=1000e-6)\n",
    "                \n",
    "cal = Calibration()\n",
    "\n",
    "cal[\"drive_set\"] = SignalCalibration(\n",
    "    local_oscillator=Oscillator(frequency=0),\n",
    "    oscillator=Oscillator(frequency=0),\n",
    "    port_mode=PortMode.LF,\n",
    "    range=5)\n",
    "\n",
    "cal[\"acquire\"] = SignalCalibration(\n",
    "    local_oscillator=Oscillator(frequency=0),\n",
    "    port_mode=PortMode.LF,\n",
    "    oscillator=Oscillator(frequency=395.0e6),\n",
    "    # port_delay = 100e-6,\n",
    "    range=0)\n",
    "\n",
    "exp.set_calibration(cal)\n",
    "\n",
    "           \n",
    "compiler_settings = None\n",
    "compiled_exp = session.compile(exp, compiler_settings = compiler_settings)\n",
    "results = session.run(compiled_exp)    \n",
    "Path(\"Pulse_Sheets\").mkdir(parents=True, exist_ok=True)\n",
    "show_pulse_sheet(f'''Pulse_Sheets/csd''', compiled_exp) \n",
    "\n",
    "\n",
    "data = results.acquired_results[\"results\"].data"
   ],
   "metadata": {
    "collapsed": false,
    "ExecuteTime": {
     "end_time": "2024-06-11T04:12:51.225968Z",
     "start_time": "2024-06-11T04:12:36.534471Z"
    }
   },
   "id": "952b3bfe1e4fcd7f",
   "execution_count": 38
  },
  {
   "cell_type": "code",
   "outputs": [
    {
     "data": {
      "text/plain": "<Figure size 640x480 with 2 Axes>",
      "image/png": "[encoded data removed]"
     },
     "metadata": {},
     "output_type": "display_data"
    }
   ],
   "source": [
    "plot_sweeper(amp_sweep_g1, data)"
   ],
   "metadata": {
    "collapsed": false,
    "ExecuteTime": {
     "end_time": "2024-06-11T04:12:51.656397Z",
     "start_time": "2024-06-11T04:12:51.225622Z"
    }
   },
   "id": "ef8b1537fbfe56c3",
   "execution_count": 39
  },
  {
   "cell_type": "markdown",
   "source": [
    "## P1 sweep"
   ],
   "metadata": {
    "collapsed": false
   },
   "id": "8856fa619d20a1c"
  },
  {
   "cell_type": "code",
   "outputs": [
    {
     "name": "stdout",
     "output_type": "stream",
     "text": [
      "[2024.06.11 14:23:58.653] INFO    Resolved modulation type of oscillator 'osc_27' on signal 'acquire' to HARDWARE\n",
      "[2024.06.11 14:23:58.655] INFO    Resolved modulation type of oscillator 'osc_23' on signal 'drive_bt' to HARDWARE\n",
      "[2024.06.11 14:23:58.658] INFO    Resolved modulation type of oscillator 'osc_25' on signal 'drive_p1' to HARDWARE\n",
      "[2024.06.11 14:23:58.660] INFO    Resolved modulation type of oscillator 'osc_21' on signal 'drive_set' to HARDWARE\n",
      "[2024.06.11 14:23:58.665] INFO    Starting LabOne Q Compiler run...\n",
      "[2024.06.11 14:23:58.675] INFO    Schedule completed. [0.005 s]\n",
      "[2024.06.11 14:23:59.047] INFO    Code generation completed for all AWGs. [0.370 s]\n",
      "[2024.06.11 14:23:59.052] INFO    Completed compilation step 1 of 1. [0.382 s]\n",
      "[2024.06.11 14:23:59.132] INFO     ───────────────────────────────────────────────────────────────────── \n",
      "[2024.06.11 14:23:59.134] INFO     \u001B[1m \u001B[0m\u001B[1mDevice         \u001B[0m\u001B[1m \u001B[0m \u001B[1m \u001B[0m\u001B[1mAWG\u001B[0m\u001B[1m \u001B[0m \u001B[1m \u001B[0m\u001B[1mSeqC LOC\u001B[0m\u001B[1m \u001B[0m \u001B[1m \u001B[0m\u001B[1mCT entries\u001B[0m\u001B[1m \u001B[0m \u001B[1m \u001B[0m\u001B[1mWaveforms\u001B[0m\u001B[1m \u001B[0m \u001B[1m \u001B[0m\u001B[1mSamples\u001B[0m\u001B[1m \u001B[0m \n",
      "[2024.06.11 14:23:59.135] INFO     ───────────────────────────────────────────────────────────────────── \n",
      "[2024.06.11 14:23:59.137] INFO      device_shfqc        0         13            0           0         0  \n",
      "[2024.06.11 14:23:59.139] INFO      device_shfqc_sg     0         88           11           2       128  \n",
      "[2024.06.11 14:23:59.141] INFO      device_shfqc_sg     1         99           11           2       128  \n",
      "[2024.06.11 14:23:59.142] INFO      device_shfqc_sg     4          3            0           0         0  \n",
      "[2024.06.11 14:23:59.145] INFO     ───────────────────────────────────────────────────────────────────── \n",
      "[2024.06.11 14:23:59.148] INFO     \u001B[1m \u001B[0m\u001B[1mTOTAL          \u001B[0m\u001B[1m \u001B[0m \u001B[1m \u001B[0m\u001B[1m   \u001B[0m\u001B[1m \u001B[0m \u001B[1m \u001B[0m\u001B[1m     203\u001B[0m\u001B[1m \u001B[0m \u001B[1m \u001B[0m\u001B[1m        22\u001B[0m\u001B[1m \u001B[0m \u001B[1m \u001B[0m\u001B[1m         \u001B[0m\u001B[1m \u001B[0m \u001B[1m \u001B[0m\u001B[1m    256\u001B[0m\u001B[1m \u001B[0m \n",
      "[2024.06.11 14:23:59.150] INFO     ───────────────────────────────────────────────────────────────────── \n",
      "[2024.06.11 14:23:59.166] INFO    Finished LabOne Q Compiler run.\n",
      "[2024.06.11 14:23:59.173] INFO    Configuring the device setup\n",
      "[2024.06.11 14:23:59.175] INFO    The device setup is configured\n",
      "[2024.06.11 14:23:59.183] INFO    Starting near-time execution...\n",
      "[2024.06.11 14:23:59.202] INFO    Finished near-time execution.\n",
      "[2024.06.11 14:23:59.206] INFO    Recompiling the experiment due to missing extra information in the compiled experiment. Compile with `OUTPUT_EXTRAS=True` and `MAX_EVENTS_TO_PUBLISH=1000` to bypass this step with a small impact on the compilation time.\n",
      "[2024.06.11 14:23:59.211] INFO    Resolved modulation type of oscillator 'osc_27' on signal 'acquire' to HARDWARE\n",
      "[2024.06.11 14:23:59.212] INFO    Resolved modulation type of oscillator 'osc_23' on signal 'drive_bt' to HARDWARE\n",
      "[2024.06.11 14:23:59.214] INFO    Resolved modulation type of oscillator 'osc_25' on signal 'drive_p1' to HARDWARE\n",
      "[2024.06.11 14:23:59.215] INFO    Resolved modulation type of oscillator 'osc_21' on signal 'drive_set' to HARDWARE\n",
      "[2024.06.11 14:23:59.216] INFO    Starting LabOne Q Compiler run...\n",
      "[2024.06.11 14:23:59.237] INFO    Schedule completed. [0.017 s]\n",
      "[2024.06.11 14:23:59.522] INFO    Code generation completed for all AWGs. [0.284 s]\n",
      "[2024.06.11 14:23:59.523] INFO    Completed compilation step 1 of 1. [0.304 s]\n",
      "[2024.06.11 14:23:59.526] INFO    Finished LabOne Q Compiler run.\n",
      "[2024.06.11 14:23:59.559] INFO    Writing html file to /Users/james/Library/CloudStorage/OneDrive-TheUniversityofSydney(Students)/uni/quench/june/Pulse_Sheets/csd_2024-06-11-14-23-59.html\n"
     ]
    }
   ],
   "source": [
    "g1_len = 100e-6\n",
    "g2_len = 20e-6 # this pulse length and g1_len determines how many steps of sweeping g2 pulse, i.e. g1_len/g2_len\n",
    "\n",
    "g1_pulse = pulse_library.const(uid = \"g1_pulse\", amplitude = 0.3, length = g1_len, can_compress=True)\n",
    "g2_pulse = pulse_library.const(uid = \"g2_pulse\", amplitude = 0.3, length = g2_len, can_compress=True)\n",
    "amp_sweep_g1 = LinearSweepParameter(\"amp_g1\", start=-0.0, stop = 1.0, count=11)\n",
    "\n",
    "# Experiment\n",
    "exp = Experiment(uid=\"set sweep\", \n",
    "    signals = [\n",
    "        ExperimentSignal(\"drive_set\", map_to=lsg[\"set\"][\"drive_line\"]), \n",
    "        ExperimentSignal(\"drive_bt\", map_to=lsg[\"bt\"][\"drive_line\"]),\n",
    "        ExperimentSignal(\"drive_p1\", map_to=lsg[\"p1\"][\"drive_line\"]),\n",
    "        ExperimentSignal(\"measure\", map_to=lsg[\"set\"][\"measure_line\"]),\n",
    "        ExperimentSignal(\"acquire\", map_to=lsg[\"set\"][\"acquire_line\"]),  \n",
    "    ]  \n",
    ")\n",
    "\n",
    "with exp.acquire_loop_rt(uid=\"shots\",\n",
    "                         count=2**3,\n",
    "                         acquisition_type = AcquisitionType.SPECTROSCOPY,\n",
    "                         averaging_mode = AveragingMode.CYCLIC):\n",
    "    with exp.sweep(uid='sweep p1', parameter=amp_sweep_g1):\n",
    "        with exp.section(uid=\"drivers\", alignment = SectionAlignment.RIGHT):\n",
    "            with exp.section(uid=\"control\"):\n",
    "                exp.play(signal=\"drive_set\", pulse=g1_pulse, amplitude = amp_sweep_g1, phase = 180)\n",
    "                # note that the phase does not affect the output amplitude \n",
    "                exp.play(signal=\"drive_p1\", pulse=g2_pulse, amplitude = amp_sweep_g1, phase = 180)\n",
    "            with exp.section(uid=\"readout\"):\n",
    "                # necessary to add measurement/acquire pulse?\n",
    "                \n",
    "                # exp.acquire(signal=\"acquire\",\n",
    "                #             handle=\"results\",\n",
    "                #             length=50e-6)\n",
    "                \n",
    "                exp.measure(acquire_signal=\"acquire\",\n",
    "                            handle = \"results\",\n",
    "                            integration_length=50e-6,\n",
    "                            reset_delay=1000e-6)\n",
    "                \n",
    "                \n",
    "    # Where do we add feedback? There are no \"loops\" for us to add it in currently...\n",
    "                \n",
    "cal = Calibration()\n",
    "\n",
    "cal[\"drive_set\"] = SignalCalibration(\n",
    "    local_oscillator=Oscillator(frequency=0),\n",
    "    oscillator=Oscillator(frequency=0),\n",
    "    port_mode=PortMode.LF,\n",
    "    range=5)\n",
    "\n",
    "cal[\"drive_bt\"] = SignalCalibration(\n",
    "    local_oscillator=Oscillator(frequency=0),\n",
    "    oscillator=Oscillator(frequency=0),\n",
    "    port_mode=PortMode.LF,\n",
    "    range=5)\n",
    "\n",
    "cal[\"drive_p1\"] = SignalCalibration(\n",
    "    local_oscillator=Oscillator(frequency=0),\n",
    "    oscillator=Oscillator(frequency=0),\n",
    "    port_mode=PortMode.LF,\n",
    "    range=5)\n",
    "\n",
    "cal[\"acquire\"] = SignalCalibration(\n",
    "    local_oscillator=Oscillator(frequency=0),\n",
    "    port_mode=PortMode.LF,\n",
    "    oscillator=Oscillator(frequency=395.0e6),\n",
    "    # port_delay = 100e-6,\n",
    "    range=0)\n",
    "\n",
    "exp.set_calibration(cal)\n",
    "\n",
    "           \n",
    "compiler_settings = None\n",
    "compiled_exp = session.compile(exp, compiler_settings = compiler_settings)\n",
    "results = session.run(compiled_exp)    \n",
    "Path(\"Pulse_Sheets\").mkdir(parents=True, exist_ok=True)\n",
    "show_pulse_sheet(f'''Pulse_Sheets/csd''', compiled_exp) \n",
    "\n",
    "\n",
    "data = results.acquired_results[\"results\"].data"
   ],
   "metadata": {
    "collapsed": false,
    "ExecuteTime": {
     "end_time": "2024-06-11T04:23:59.576683Z",
     "start_time": "2024-06-11T04:23:58.641738Z"
    }
   },
   "id": "8f677c7d68c333b4",
   "execution_count": 42
  },
  {
   "cell_type": "code",
   "outputs": [
    {
     "data": {
      "text/plain": "<Figure size 640x480 with 2 Axes>",
      "image/png": "[encoded data removed]"
     },
     "metadata": {},
     "output_type": "display_data"
    }
   ],
   "source": [
    "plot_sweeper(amp_sweep_g1, data)\n"
   ],
   "metadata": {
    "collapsed": false,
    "ExecuteTime": {
     "end_time": "2024-06-11T04:22:50.829333Z",
     "start_time": "2024-06-11T04:22:50.055865Z"
    }
   },
   "id": "f21f18f7c271fa29",
   "execution_count": 41
  },
  {
   "cell_type": "code",
   "outputs": [],
   "source": [],
   "metadata": {
    "collapsed": false
   },
   "id": "84c0b7b148979500"
  }
 ],
 "metadata": {
  "kernelspec": {
   "display_name": "Python 3",
   "language": "python",
   "name": "python3"
  },
  "language_info": {
   "codemirror_mode": {
    "name": "ipython",
    "version": 2
   },
   "file_extension": ".py",
   "mimetype": "text/x-python",
   "name": "python",
   "nbconvert_exporter": "python",
   "pygments_lexer": "ipython2",
   "version": "2.7.6"
  }
 },
 "nbformat": 4,
 "nbformat_minor": 5
}
