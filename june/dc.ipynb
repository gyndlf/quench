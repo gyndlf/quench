{
 "cells": [
  {
   "cell_type": "code",
   "execution_count": 1,
   "id": "fb8ededc-769d-4886-bb8c-3e3231c758f5",
   "metadata": {},
   "outputs": [
    {
     "name": "stdout",
     "output_type": "stream",
     "text": [
      "Added 'quench/' and 'quench/libraries' for easy importing.\n"
     ]
    }
   ],
   "source": [
    "%matplotlib inline\n",
    "import local_broom"
   ]
  },
  {
   "cell_type": "code",
   "execution_count": 2,
   "id": "287411f6-552b-40a0-8b98-6085070519b5",
   "metadata": {},
   "outputs": [],
   "source": [
    "# Automagically reload modules when they are edited\n",
    "%load_ext autoreload\n",
    "%autoreload 2"
   ]
  },
  {
   "cell_type": "code",
   "execution_count": 24,
   "id": "effcd67f-c237-4846-b2a2-26176f515441",
   "metadata": {},
   "outputs": [],
   "source": [
    "import numpy as np\n",
    "import matplotlib.pyplot as plt\n",
    "import time\n",
    "from qcodes import Station, Instrument\n",
    "from scipy.signal import find_peaks\n",
    "from tqdm.notebook import tqdm\n",
    "\n",
    "from monty import Monty\n",
    "from liveplot import LivePlot, LiveContourPlot\n",
    "import feedback\n",
    "import swiper\n",
    "import MDAC\n",
    "from fridge import Fridge\n",
    "\n",
    "# Import the neighbouring files. In may/\n",
    "import may.dots as dots\n",
    "from may.custom_devices import connect_to_gb, newSiDot\n",
    "from qcodes.instrument_drivers.stanford_research.SR860 import SR860"
   ]
  },
  {
   "cell_type": "code",
   "execution_count": 7,
   "id": "ef6f7fcb-8fc4-4265-a224-8ca854fbeea9",
   "metadata": {},
   "outputs": [
    {
     "name": "stdout",
     "output_type": "stream",
     "text": [
      "Connected to: QNL Sydney MDAC (serial:0x32353532353551040030003E, firmware:1.8) in 4.20s\n",
      "Cannot remove instrument with name lockin. Does not exist\n",
      "Connected to: Stanford_Research_Systems SR860 (serial:004279, firmware:V1.51) in 0.10s\n",
      "Loading GB driver and connecting\n",
      "Manually Open Breakout_box_top_ch15_LCB\n",
      "Manually Open Breakout_box_bot_ch09_RCB\n",
      "Manually Open Breakout_box_bot_ch17_RG\n",
      "Manually Open Breakout_box_top_ch17_ResB\n",
      "Manually Open Breakout_box_top_ch19_P3\n",
      "Manually Open Breakout_box_top_ch13_P2\n",
      "Manually Open Breakout_box_top_ch04_P1\n",
      "Manually Open Breakout_box_top_ch02_SETB\n",
      "Manually Open Breakout_box_bot_ch04_SRB\n",
      "Manually Open Breakout_box_bot_ch06_SLB\n",
      "Manually Open Breakout_box_top_ch10_ST\n",
      "Manually Open Breakout_box_top_ch25_bias\n",
      "Using base URL https://qphys1114.research.ext.sydney.edu.au/therm_flask/BlueFors_LD\n"
     ]
    }
   ],
   "source": [
    "#%% Connect to instruments\n",
    "try:\n",
    "    mdac = Instrument.find_instrument(\"mdac\")\n",
    "    mdac.close()\n",
    "except KeyError:\n",
    "    print('Attempting to remove instrument with name mdac. Does not exist')\n",
    "\n",
    "mdac = MDAC.MDAC('mdac', 'ASRL11::INSTR')\n",
    "\n",
    "try:\n",
    "    lockin = Instrument.find_instrument(\"lockin\")\n",
    "    lockin.close()\n",
    "except KeyError:\n",
    "    print(\"Cannot remove instrument with name lockin. Does not exist\")\n",
    "\n",
    "scfg = Station(config_file='/Users/LD2007/Documents/Si_CMOS_james/measurements/system.yaml')\n",
    "\n",
    "#lockin = scfg.load_instrument('sr860_top')\n",
    "#psg = scfg.load_instrument('PSG')\n",
    "\n",
    "lockin = SR860('lockin', 'TCPIP::192.168.0.108::inst0::INSTR')\n",
    "#psg = E8267('psg', 'TCPIP0::192.168.0.109::inst0::INSTR')\n",
    "\n",
    "\n",
    "gb_control_si = connect_to_gb(mdac)  # Create our custom MDAC mappings\n",
    "si = newSiDot(mdac)\n",
    "fridge = Fridge(\"BlueFors_LD\")"
   ]
  },
  {
   "cell_type": "code",
   "execution_count": 8,
   "id": "56bd5142-3fd9-4df5-8859-029574efb187",
   "metadata": {},
   "outputs": [],
   "source": [
    "# Ramp magnet to appropriate point\n",
    "\n",
    "if False:\n",
    "    from qcodes.instrument_drivers.oxford.MercuryiPS_VISA import MercuryiPS\n",
    "    magnet = MercuryiPS('magnet15', 'TCPIP0::192.168.0.106::7020::SOCKET')\n",
    "    \n",
    "    magnet._set_target_and_ramp('z', 'simul', 0.723)\n",
    "    time.sleep(700) #ramping at approx 1mT/s"
   ]
  },
  {
   "cell_type": "code",
   "execution_count": 9,
   "id": "346849d3-8e90-452a-8425-67918a938927",
   "metadata": {},
   "outputs": [
    {
     "name": "stdout",
     "output_type": "stream",
     "text": [
      "Started new experiment summary.dc_detuning\n"
     ]
    }
   ],
   "source": [
    "experiment = {\n",
    "    \"desc\": \"Measure detuning using RF and DC methods\"\n",
    "}\n",
    "\n",
    "monty = Monty(\"summary.dc_detuning\", experiment)"
   ]
  },
  {
   "cell_type": "code",
   "execution_count": 10,
   "id": "d6036287-26d0-4424-bca2-1c503ef9e965",
   "metadata": {},
   "outputs": [
    {
     "name": "stdout",
     "output_type": "stream",
     "text": [
      "LCB:   0.150004 V\n",
      "RCB:   0.150003 V\n",
      "RG:    0.0 V\n",
      "ResB:  0.0 V\n",
      "P3:    0.0 V\n",
      "P2:    1.917201 V\n",
      "P1:    1.807745 V\n",
      "SETB:  0.0 V\n",
      "SRB:   0.929996 V\n",
      "SLB:   0.930001 V\n",
      "ST:    3.676249 V\n",
      "bias:  0.0 V\n",
      "VSS1P8:      0.0 V\n",
      "VSS1P0:      0.0 V\n",
      "VDD1P8:      1.800005 V\n",
      "VDD1P0:      0.999996 V\n",
      "VDD1P8_ANA:  1.8 V\n",
      "BGN1P0:      0.0 V\n",
      "BGN1P8:      0.0 V\n",
      "BGP1P0:      0.0 V\n",
      "BGP1P8:      0.0 V\n",
      "RST:         1.799996 V\n",
      "MOSI:        0.0 V\n",
      "SCLK:        0.0 V\n",
      "SS_N:        1.8 V\n",
      "APBCLK:      0.0 V\n",
      "VICL:        3.500004 V\n",
      "VLFG:        0.0 V\n",
      "VHFG:        0.0 V\n"
     ]
    }
   ],
   "source": [
    "dots.get_all_voltages(mdac)"
   ]
  },
  {
   "cell_type": "markdown",
   "id": "e1f4ae56-e254-46a0-91e0-3016cea1ce15",
   "metadata": {},
   "source": [
    "## Sweep ST on SET"
   ]
  },
  {
   "cell_type": "code",
   "execution_count": 284,
   "id": "1b8609d6-9146-424b-b6b1-0eb9f81fd1ad",
   "metadata": {},
   "outputs": [],
   "source": [
    "si.SLB(0.93)\n",
    "si.SRB(0.93)"
   ]
  },
  {
   "cell_type": "code",
   "execution_count": 11,
   "id": "4f055b23-2ce2-48bd-83d3-3bde16e5bda1",
   "metadata": {},
   "outputs": [
    {
     "data": {
      "text/plain": [
       "3.676249"
      ]
     },
     "execution_count": 11,
     "metadata": {},
     "output_type": "execute_result"
    }
   ],
   "source": [
    "si.ST()"
   ]
  },
  {
   "cell_type": "code",
   "execution_count": 12,
   "id": "a199757b-7a10-4e31-826c-6e3074a3eb41",
   "metadata": {},
   "outputs": [
    {
     "name": "stdout",
     "output_type": "stream",
     "text": [
      "Started new run SET_ST_sweep\n",
      "Sweeping Si28_quantum_dot_ST from 3.4V to 3.7V in 201 points.\n"
     ]
    },
    {
     "data": {
      "application/vnd.jupyter.widget-view+json": {
       "model_id": "32ee83b4fc114a808f9c15800a733b55",
       "version_major": 2,
       "version_minor": 0
      },
      "text/plain": [
       "  0%|          | 0/201 [00:00<?, ?it/s]"
      ]
     },
     "metadata": {},
     "output_type": "display_data"
    },
    {
     "name": "stdout",
     "output_type": "stream",
     "text": [
      "Run finished and took 0:01:31.127927.\n",
      "Saving to SET_ST_sweep.xz\n",
      "Saving to experiment.yaml\n"
     ]
    },
    {
     "data": {
      "image/png": "[encoded data removed]",
      "text/plain": [
       "<Figure size 640x480 with 1 Axes>"
      ]
     },
     "metadata": {},
     "output_type": "display_data"
    }
   ],
   "source": [
    "# Get our surroundings\n",
    "\n",
    "low = 3.4\n",
    "high = 3.7\n",
    "pts = 201\n",
    "\n",
    "parameters = {\n",
    "    \"desc\": \"Quick 1D scan of the SET over ST\",\n",
    "    \"ST\":   f\"range from {low}v -> {high}v, over {pts} pts\",\n",
    "    \"SLB\":  f\"Fixed at {si.SLB()}V\",\n",
    "    \"SRB\":  f\"Fixed at {si.SRB()}V\",\n",
    "    }\n",
    "\n",
    "monty.newrun(\"SET ST sweep\", parameters)\n",
    "result = swiper.sweep1d(lockin, si.ST, low, high, pts, delay_time=0.3, monty=monty)  # overlap points so we average\n",
    "\n",
    "monty.save(result)"
   ]
  },
  {
   "cell_type": "markdown",
   "id": "b82561e1-fa3c-412b-beec-c52c5476b7f1",
   "metadata": {},
   "source": [
    "### Proccess SET result\n",
    "To find a good feedback point"
   ]
  },
  {
   "cell_type": "code",
   "execution_count": 15,
   "id": "352f3607-cb98-43d5-90f0-be30957453d8",
   "metadata": {},
   "outputs": [
    {
     "name": "stdout",
     "output_type": "stream",
     "text": [
      "[ 28 100 122 139 145 167 186 191]\n"
     ]
    },
    {
     "data": {
      "image/png": "[encoded data removed]",
      "text/plain": [
       "<Figure size 640x480 with 1 Axes>"
      ]
     },
     "metadata": {},
     "output_type": "display_data"
    },
    {
     "data": {
      "image/png": "[encoded data removed]",
      "text/plain": [
       "<Figure size 640x480 with 1 Axes>"
      ]
     },
     "metadata": {},
     "output_type": "display_data"
    }
   ],
   "source": [
    "g_range = np.linspace(low, high, pts)\n",
    "deriv = np.abs(np.diff(result[\"R\"]))\n",
    "R = result[\"R\"]\n",
    "\n",
    "peaks, _ = find_peaks(deriv, height=1e-11, distance=5)\n",
    "#peak = np.argmax(deriv)\n",
    "\n",
    "fig = plt.figure()\n",
    "plt.plot(g_range[:-1], deriv)\n",
    "plt.plot(g_range[peaks], deriv[peaks], \"x\")\n",
    "#plt.plot(g_range[peak], deriv[peak], \"x\")\n",
    "plt.xlabel(\"ST gate voltage\")\n",
    "plt.title(monty.identifier + \".\" + monty.runname)\n",
    "plt.ylabel(\"Current derivative\")\n",
    "plt.legend()\n",
    "\n",
    "fig = plt.figure()\n",
    "plt.plot(g_range, R)\n",
    "plt.plot(g_range[peaks], R[peaks], \"x\")\n",
    "#plt.plot(g_range[peak], deriv[peak], \"x\")\n",
    "plt.xlabel(\"ST gate voltage\")\n",
    "plt.title(monty.identifier + \".\" + monty.runname)\n",
    "plt.ylabel(\"Current current\")\n",
    "plt.legend()\n",
    "\n",
    "print(peaks)"
   ]
  },
  {
   "cell_type": "code",
   "execution_count": 21,
   "id": "4ec63d02-7eb4-4862-85c4-2f5bf4ddae59",
   "metadata": {},
   "outputs": [
    {
     "name": "stdout",
     "output_type": "stream",
     "text": [
      "Best peak at inx = 186\n",
      "Corresponds to ST=3.6790000000000003 and lockin=5.4517581421e-11\n"
     ]
    },
    {
     "data": {
      "text/plain": [
       "<matplotlib.legend.Legend at 0x1aaaa2f99a0>"
      ]
     },
     "execution_count": 21,
     "metadata": {},
     "output_type": "execute_result"
    },
    {
     "data": {
      "image/png": "[encoded data removed]",
      "text/plain": [
       "<Figure size 640x480 with 1 Axes>"
      ]
     },
     "metadata": {},
     "output_type": "display_data"
    }
   ],
   "source": [
    "# choose the appropriate peak here\n",
    "peak = peaks[-2]\n",
    "\n",
    "st_start = g_range[peak]\n",
    "fix_lockin = result['R'][peak]  # current value to lock in at\n",
    "\n",
    "print(f\"Best peak at inx = {peak}\")\n",
    "print(f\"Corresponds to ST={st_start} and lockin={fix_lockin}\")\n",
    "\n",
    "fig = plt.figure()\n",
    "plt.plot(g_range, result[\"R\"])\n",
    "plt.plot(g_range[peak], result[\"R\"][peak], \"x\", label=f\"Lockin = {fix_lockin:1.3e} A\")\n",
    "\n",
    "# add where we are now\n",
    "plt.plot(si.ST(), lockin.R(), \"x\", label=\"Actual\")\n",
    "\n",
    "# add our target point\n",
    "#plt.plot(3.848668, target, \"x\")\n",
    "\n",
    "plt.xlabel(\"ST gate voltage\")\n",
    "plt.title(monty.identifier + \".\" + monty.runname)\n",
    "plt.ylabel(\"Current (R)\")\n",
    "plt.legend()"
   ]
  },
  {
   "cell_type": "code",
   "execution_count": 17,
   "id": "89795d23-3540-43d4-ba6a-87f80a2e66f7",
   "metadata": {},
   "outputs": [],
   "source": [
    "# go to the target\n",
    "st_start = 3.67\n",
    "\n",
    "si.ST(st_start)\n",
    "time.sleep(1)\n",
    "lockin.R()\n",
    "\n",
    "#%% Lock in on target\n",
    "\n",
    "target = fix_lockin\n",
    "tol = 0.01e-10"
   ]
  },
  {
   "cell_type": "code",
   "execution_count": 26,
   "id": "eac1653c-66b8-4143-bb3d-f95867872921",
   "metadata": {},
   "outputs": [],
   "source": [
    "def feedback(gate, lockin, target: float, stepsize=0.001, slope=\"up\"):\n",
    "    \"\"\"\n",
    "    Apply proportional feedback blindly\n",
    "    \"\"\"\n",
    "    if slope == \"up\":\n",
    "        sgn = 1\n",
    "    elif slope == \"down\":\n",
    "        sgn = -1\n",
    "    else:\n",
    "        raise (f\"Unknown slope '{slope}'. Must be either 'up' or 'down'\")\n",
    "\n",
    "    r = lockin.R()\n",
    "    error = (target - r) * sgn\n",
    "    adjust = error / target * stepsize  # normalised error func\n",
    "    g = gate() + adjust  # new gate voltage\n",
    "\n",
    "    upperbound = 3.8\n",
    "    lowerbound = 3.3\n",
    "\n",
    "    if g > upperbound:  # upper bound\n",
    "        print(f\"Aborting feedback: correction voltage exceeds threshold, {g} > {upperbound}. No change to ST.\")\n",
    "    elif g < lowerbound:  # lower bound\n",
    "        print(f\"Aborting feedback: correction voltage fails to meet threshold, {g} < {lowerbound}. No change to ST.\")\n",
    "    #elif np.abs(r-target) > 0.03e-10:  # take a small step if good\n",
    "    #    print(f\"small step {np.abs(r-target)}\")\n",
    "    #    gate(gate() + adjust/4)\n",
    "    #    time.sleep(0.5)\n",
    "    else:\n",
    "        gate(g)\n",
    "        time.sleep(0.5)\n",
    "\n",
    "def gettotarget():  # inherit global variables (bad!!!!)\n",
    "    print(f\"Target = {target:.4e}, tol = {tol}, initial ST = {si.ST()}\")\n",
    "    while np.abs(lockin.R()-target) > tol:\n",
    "        feedback(si.ST, lockin, target, stepsize=0.001, slope=\"up\")\n",
    "        print(f\"\\rST = {si.ST():.4e}, lockin = {lockin.R():.4e}, delta = {np.abs(lockin.R()-target):.4e}\", end=\"\")\n",
    "        time.sleep(0.1)\n",
    "    print(f\"\\nFinal ST = {si.ST()}\")"
   ]
  },
  {
   "cell_type": "code",
   "execution_count": 20,
   "id": "d03b47a0-0da4-49fe-a336-d27ee259abb9",
   "metadata": {},
   "outputs": [
    {
     "name": "stdout",
     "output_type": "stream",
     "text": [
      "Target = 5.4518e-11, tol = 1e-12, initial ST = 3.670001\n",
      "ST = 3.6756e+00, lockin = 5.3642e-11, delta = 8.5832e-13\n",
      "Final ST = 3.675571\n"
     ]
    }
   ],
   "source": [
    "gettotarget()"
   ]
  },
  {
   "cell_type": "markdown",
   "id": "4f1150de-4521-4c45-8f9c-4990f354d4e4",
   "metadata": {},
   "source": [
    "## Load/Unload dot methods"
   ]
  },
  {
   "cell_type": "code",
   "execution_count": 261,
   "id": "02ddefb0-8e9e-4cdc-8aaa-52904267dd74",
   "metadata": {},
   "outputs": [
    {
     "name": "stdout",
     "output_type": "stream",
     "text": [
      "Flushed out to 1.0V, raising to 1.75V\n",
      "Done. Took 59.56040978431702 seconds.\n"
     ]
    }
   ],
   "source": [
    "# flush dots \n",
    "#dots.flushdots(si, low=1.0, high=1.9)\n",
    "\n",
    "low = 1.0\n",
    "high = 1.75\n",
    "\n",
    "tic = time.time()\n",
    "si.P1(low)\n",
    "si.P2(low)\n",
    "print(f\"Flushed out to {low}V, raising to {high}V\")\n",
    "time.sleep(0.5)\n",
    "si.P1(high)\n",
    "si.P2(high)\n",
    "print(f\"Done. Took {time.time()-tic} seconds.\")"
   ]
  },
  {
   "cell_type": "code",
   "execution_count": 235,
   "id": "f89da8d2-fddd-4e72-95a1-d3786bbf3e4a",
   "metadata": {},
   "outputs": [],
   "source": [
    "# set P1/P2 load values\n",
    "si.P1(1.65)\n",
    "si.P2(1.65)"
   ]
  },
  {
   "cell_type": "code",
   "execution_count": 262,
   "id": "674885f1-0285-45d6-9c6f-7c621df891b4",
   "metadata": {},
   "outputs": [
    {
     "name": "stdout",
     "output_type": "stream",
     "text": [
      "Done. Took 47.71217083930969 seconds.\n"
     ]
    }
   ],
   "source": [
    "# load dots\n",
    "#dots.loaddots(si, high=1.2)\n",
    "\n",
    "thresh = 1.2\n",
    "\n",
    "tic = time.time()\n",
    "si.SETB(thresh)\n",
    "time.sleep(0.5)\n",
    "si.SETB(0)\n",
    "print(f\"Done. Took {time.time()-tic} seconds.\")"
   ]
  },
  {
   "cell_type": "markdown",
   "id": "0efaa358-0c14-466a-8c2f-ccd80deb2291",
   "metadata": {},
   "source": [
    "# Sweeps\n",
    "## P1 scan 1D"
   ]
  },
  {
   "cell_type": "code",
   "execution_count": 22,
   "id": "1648266f-f861-4ebb-96ac-36068baaa5ea",
   "metadata": {},
   "outputs": [
    {
     "name": "stdout",
     "output_type": "stream",
     "text": [
      "P1 = 1.807745\n",
      "P2 = 1.917201\n",
      "ST = 3.675571\n"
     ]
    }
   ],
   "source": [
    "print(f\"P1 = {si.P1()}\\nP2 = {si.P2()}\\nST = {si.ST()}\")"
   ]
  },
  {
   "cell_type": "code",
   "execution_count": 23,
   "id": "faec9b4d-c198-46f1-afe6-379b6837e316",
   "metadata": {},
   "outputs": [],
   "source": [
    "si.ST(3.58)  # when doing a downwards sweep slightly undershoot the target point."
   ]
  },
  {
   "cell_type": "code",
   "execution_count": 773,
   "id": "9027b52a-82e5-4007-957b-e1521fb27444",
   "metadata": {},
   "outputs": [],
   "source": [
    "gb_control_si.VICL(2.9)"
   ]
  },
  {
   "cell_type": "code",
   "execution_count": 24,
   "id": "ec49d104-ec85-403b-af7e-8e8137c41585",
   "metadata": {},
   "outputs": [
    {
     "name": "stdout",
     "output_type": "stream",
     "text": [
      "Target = 6.0000e-11, tol = 1e-13, initial ST = 3.579999\n",
      "ST = 3.5875e+00, lockin = 5.9703e-11, delta = 2.5867e-13\n",
      "Final ST = 3.587476\n"
     ]
    }
   ],
   "source": [
    "gettotarget()"
   ]
  },
  {
   "cell_type": "code",
   "execution_count": 320,
   "id": "b77f08c9-e395-42d1-8701-63634309cacb",
   "metadata": {},
   "outputs": [
    {
     "name": "stdout",
     "output_type": "stream",
     "text": [
      "Started new run P1_scan.35\n"
     ]
    },
    {
     "name": "stderr",
     "output_type": "stream",
     "text": [
      "100%|█████████████████████████████████████████████████████████████████████████████████████████████████████████████████████████████████████████| 251/251 [04:52<00:00,  1.17s/it]\n"
     ]
    },
    {
     "name": "stdout",
     "output_type": "stream",
     "text": [
      "Run finished and took 0:04:54.894757.\n",
      "Saving to P1_scan.35.xz\n",
      "Saving to experiment.yaml\n"
     ]
    },
    {
     "data": {
      "image/png": "[encoded data removed]",
      "text/plain": [
       "<Figure size 640x480 with 1 Axes>"
      ]
     },
     "metadata": {},
     "output_type": "display_data"
    },
    {
     "data": {
      "image/png": "[encoded data removed]",
      "text/plain": [
       "<Figure size 640x480 with 1 Axes>"
      ]
     },
     "metadata": {},
     "output_type": "display_data"
    }
   ],
   "source": [
    "up = False\n",
    "\n",
    "if up:\n",
    "    low = 1.75\n",
    "    high = 2.0\n",
    "else:\n",
    "    low = 2.0\n",
    "    high = 1.75\n",
    "\n",
    "stepsize = 20e-4\n",
    "points = 251\n",
    "gate = si.P1\n",
    "\n",
    "parameters = {\n",
    "    \"desc\": f\"1D sweep of P1 (with feedback techniques). Stepsize = {stepsize}\",\n",
    "    \"lockin_amplitude\": \"Set to 10uV\",\n",
    "    \"ST\":   f\"Fixed at {si.ST()}V (target of {target} on lockin)\",\n",
    "    \"SLB\":  f\"Fixed at {si.SLB()}V\",\n",
    "    \"SRB\":  f\"Fixed at {si.SRB()}V\",\n",
    "    \"SETB\": f\"Fixed at {si.SETB()}V\",\n",
    "    \"J1\": f\"Fixed at {gb_control_si.VICL()}V\",\n",
    "    \"P1\": f\"Ranged from {low}V -> {high}V in {points} points\",\n",
    "    \"P2\": f\"Fixed at {si.P2()}V\",\n",
    "    \"temp\": f\"Mixing chamber {fridge.temp()} K\"\n",
    "    }\n",
    "\n",
    "monty.newrun(\"P1 scan\", parameters)\n",
    "\n",
    "#gettotarget()\n",
    "#time.sleep(2)\n",
    "\n",
    "# don't use swiper to make modifying the feedback easier\n",
    "\n",
    "gate_range = np.linspace(low, high, points)\n",
    "X = np.zeros((points))\n",
    "Y = np.zeros((points))\n",
    "R = np.zeros((points))\n",
    "P = np.zeros((points))\n",
    "ST_drift = np.zeros(points)\n",
    "delta_I = np.zeros(points)\n",
    "\n",
    "#fittedfeedback()\n",
    "\n",
    "# Move to the start and wait a second for the lockin to catchup\n",
    "# gate(gate_range[0])\n",
    "# time.sleep(2.0)\n",
    "# gettotarget()  # get within tolerance now\n",
    "\n",
    "with tqdm(total=points) as pbar, LivePlot(gate_range, xlabel=\"P1 gate voltage (V)\", ylabel=\"Current (A)\") as lplot:\n",
    "    for (j, g) in enumerate(gate_range):\n",
    "        gate(g)\n",
    "        \n",
    "        time.sleep(0.5)\n",
    "        ST_drift[j] = si.ST()\n",
    "        X[j] = lockin.X()\n",
    "        Y[j] = lockin.Y()\n",
    "        R[j] = lockin.R()\n",
    "        P[j] = lockin.P()\n",
    "        pbar.update(1)\n",
    "        lplot.update(R)\n",
    "        \n",
    "        feedback(si.ST, lockin, target, stepsize=stepsize, slope=\"up\")\n",
    "\n",
    "\n",
    "swiper.plotsweep1d(gate_range, R, gate.name, monty)\n",
    "monty.save({\"X\": X, \"Y\": Y, \"R\": R, \"P\": P, \"ST\": ST_drift, 'ST_I': delta_I})\n",
    "\n",
    "# Plot ST history over time\n",
    "fig = plt.figure()\n",
    "plt.plot(ST_drift)\n",
    "# plt.plot(delta_I)\n",
    "plt.xlabel(\"Steps when sweeping P1\")\n",
    "plt.title(monty.identifier + \".\" + monty.runname)\n",
    "plt.ylabel(\"ST voltage\")\n",
    "plt.legend()\n",
    "monty.savefig(plt, \"ST history\")"
   ]
  },
  {
   "cell_type": "code",
   "execution_count": 189,
   "id": "daefabb6-2088-4a79-890c-0465a464d5d6",
   "metadata": {},
   "outputs": [],
   "source": [
    "si.ST(3.36)"
   ]
  },
  {
   "cell_type": "code",
   "execution_count": null,
   "id": "a11f14d3-9a95-4cea-a356-1f6f36b2359b",
   "metadata": {},
   "outputs": [],
   "source": [
    "# Plot ST history over time\n",
    "fig = plt.figure()\n",
    "# plt.plot(ST_drift)\n",
    "plt.plot(delta_I)\n",
    "# plt.xlabel(\"Steps when sweeping P1\")\n",
    "# plt.title(monty.identifier + \".\" + monty.runname)\n",
    "# plt.ylabel(\"ST voltage\")\n",
    "# plt.legend()\n",
    "# monty.savefig(plt, \"ST history\")"
   ]
  },
  {
   "cell_type": "markdown",
   "id": "03146728-0374-4707-b215-7e7a18f3e608",
   "metadata": {},
   "source": [
    "## Detuning scan"
   ]
  },
  {
   "cell_type": "code",
   "execution_count": 23,
   "id": "b76dc4e1-e240-48df-95b0-c0c1b9eae51b",
   "metadata": {},
   "outputs": [
    {
     "name": "stdout",
     "output_type": "stream",
     "text": [
      "P1 = 1.807745\n",
      "P2 = 1.917201\n",
      "ST = 3.675571\n"
     ]
    }
   ],
   "source": [
    "print(f\"P1 = {si.P1()}\\nP2 = {si.P2()}\\nST = {si.ST()}\")"
   ]
  },
  {
   "cell_type": "code",
   "execution_count": 11,
   "id": "cd357296-8898-4805-961e-52810e66ad00",
   "metadata": {},
   "outputs": [],
   "source": [
    "si.P2(2.1)\n",
    "si.P1(1.625)\n",
    "#gb_control_si.VICL(2.9)"
   ]
  },
  {
   "cell_type": "code",
   "execution_count": 15,
   "id": "b9b4a09c-b822-4cff-b0d3-aec5dd42bd19",
   "metadata": {},
   "outputs": [
    {
     "name": "stdout",
     "output_type": "stream",
     "text": [
      "Target = 7.0000e-11, tol = 1e-12, initial ST = 3.649998\n",
      "ST = 3.6758e+00, lockin = 6.9792e-11, delta = 1.8630e-13\n",
      "Final ST = 3.675787\n"
     ]
    }
   ],
   "source": [
    "si.ST(3.65)\n",
    "target = 7e-11 #fix_lockin\n",
    "tol = 0.01e-10\n",
    "\n",
    "gettotarget()"
   ]
  },
  {
   "cell_type": "code",
   "execution_count": 27,
   "id": "bbd4e6ea-3828-4710-b853-33af283e0152",
   "metadata": {},
   "outputs": [
    {
     "name": "stdout",
     "output_type": "stream",
     "text": [
      "Target = 5.4518e-11, tol = 1e-12, initial ST = 3.675571\n",
      "ST = 3.6756e+00, lockin = 5.3538e-11, delta = 9.3373e-13\n",
      "Final ST = 3.67563\n"
     ]
    }
   ],
   "source": [
    "gettotarget()"
   ]
  },
  {
   "cell_type": "code",
   "execution_count": 31,
   "id": "a84fe7b8-0a4c-47f0-8216-1480b04050ac",
   "metadata": {},
   "outputs": [
    {
     "name": "stdout",
     "output_type": "stream",
     "text": [
      "WARNING: Finishing existing run to start a new one\n",
      "Run finished and took 0:00:21.030191.\n",
      "Started new run detuning_scan.3\n"
     ]
    },
    {
     "data": {
      "application/vnd.jupyter.widget-view+json": {
       "model_id": "4e477cb2237448a0a93f9be922a7b822",
       "version_major": 2,
       "version_minor": 0
      },
      "text/plain": [
       "  0%|          | 0/301 [00:00<?, ?it/s]"
      ]
     },
     "metadata": {},
     "output_type": "display_data"
    },
    {
     "name": "stdout",
     "output_type": "stream",
     "text": [
      "Run finished and took 0:05:57.564168.\n",
      "Saving to detuning_scan.3.xz\n",
      "Saving to experiment.yaml\n"
     ]
    },
    {
     "data": {
      "image/png": "[encoded data removed]",
      "text/plain": [
       "<Figure size 640x480 with 2 Axes>"
      ]
     },
     "metadata": {},
     "output_type": "display_data"
    }
   ],
   "source": [
    "low = 1.65\n",
    "high = 2.0\n",
    "points = 301\n",
    "stepsize = 5e-4 # 5e-4\n",
    "\n",
    "# choose which gates are going up/down\n",
    "forward = False\n",
    "if forward:\n",
    "    gateup = si.P1\n",
    "    gatedown = si.P2\n",
    "else:\n",
    "    gateup = si.P2\n",
    "    gatedown = si.P1\n",
    "\n",
    "parameters = {\n",
    "    \"desc\": \"Sweep detuning axis (P1 - P2) (feedback)\",\n",
    "    \"lockin_amplitude\": \"Set to 10uV\",\n",
    "    \"ST\":   f\"Fixed at {si.ST()}V (target of {target} on lockin, stepsize = {stepsize})\",\n",
    "    \"SLB\":  f\"Fixed at {si.SLB()}V\",\n",
    "    \"SRB\":  f\"Fixed at {si.SRB()}V\",\n",
    "    \"SETB\": f\"Fixed at {si.SETB()}V\",\n",
    "    \"J1\": f\"Fixed at {gb_control_si.VICL()}V\",\n",
    "    gateup.name: f\"Ranged from {low}V -> {high}V in {points} points\",  # P1 or P2\n",
    "    gatedown.name: f\"Ranged from {high}V -> {low}V in {points} points\",  # P1 or P2\n",
    "    \"temp\": f\"Mixing chamber {fridge.temp()} K\",\n",
    "    }\n",
    "\n",
    "monty.newrun(\"detuning scan\", parameters)\n",
    "\n",
    "# gate voltage\n",
    "gate_up_range = np.linspace(low, high, points)\n",
    "gate_down_range = np.linspace(high, low, points)\n",
    "\n",
    "# Create detuning axis\n",
    "detuning = np.linspace((low-high)/2, (high-low)/2, points)\n",
    "if not forward:  # reverse as the data is collected backwards\n",
    "    detuning = detuning[::-1]\n",
    "\n",
    "X = np.zeros((points))\n",
    "Y = np.zeros((points))\n",
    "R = np.zeros((points))\n",
    "P = np.zeros((points))\n",
    "ST_drift = np.zeros(points)\n",
    "\n",
    "with tqdm(total=points) as pbar, LivePlot(detuning, xlabel=\"Detuning\", ylabel=\"Current (A)\") as lplot:\n",
    "    for (j, g) in enumerate(gate_up_range):\n",
    "        gateup(g)\n",
    "        gatedown(gate_down_range[j])\n",
    "        time.sleep(0.5)\n",
    "        \n",
    "        ST_drift[j] = si.ST()\n",
    "        X[j] = lockin.X()\n",
    "        Y[j] = lockin.Y()\n",
    "        R[j] = lockin.R()\n",
    "        P[j] = lockin.P()\n",
    "        \n",
    "        pbar.update(1)\n",
    "        lplot.update(R)\n",
    "        \n",
    "        feedback(si.ST, lockin, target, stepsize=stepsize, slope=\"up\")\n",
    "\n",
    "\n",
    "#swiper.plotsweep1d(gate_range, R, gate.name, monty)\n",
    "monty.save({\"X\": X, \"Y\": Y, \"R\": R, \"P\": P, \"ST\": ST_drift})\n",
    "\n",
    "# Plot everything\n",
    "fig, ax0 = plt.subplots()\n",
    "ax1 = ax0.twinx()\n",
    "\n",
    "ax0.plot(detuning, R, \"g-\", label=\"Lockin\")\n",
    "ax0.set_ylabel(\"Lockin (A)\", color=\"g\")\n",
    "\n",
    "# Plot ST history over time\n",
    "ax1.plot(detuning, ST_drift, \"r-\", label=\"ST gate\")\n",
    "ax1.set_ylabel(\"ST voltage (V)\", color=\"r\")\n",
    "\n",
    "ax0.set_xlabel(f\"Detuning ({gateup.name} - {gatedown.name}) (V)\")\n",
    "ax0.set_title(monty.identifier + \".\" + monty.runname)\n",
    "\n",
    "monty.savefig(plt, \"detuning\")"
   ]
  },
  {
   "cell_type": "code",
   "execution_count": 433,
   "id": "6f5aee4d-d1b0-4b59-b445-39785ca83b61",
   "metadata": {},
   "outputs": [
    {
     "data": {
      "text/plain": [
       "3.535986"
      ]
     },
     "execution_count": 433,
     "metadata": {},
     "output_type": "execute_result"
    }
   ],
   "source": [
    "si.ST()"
   ]
  },
  {
   "cell_type": "code",
   "execution_count": 18,
   "id": "87339366-46da-4b1a-8e41-ed35e0724f69",
   "metadata": {},
   "outputs": [],
   "source": [
    "si.P1(1.8625)\n",
    "si.P2(1.8625)"
   ]
  },
  {
   "cell_type": "code",
   "execution_count": 19,
   "id": "98d202b3-9c00-4d34-8562-ded5e9554ce5",
   "metadata": {},
   "outputs": [
    {
     "name": "stdout",
     "output_type": "stream",
     "text": [
      "1.862498\n",
      "1.862497\n",
      "2.899992\n"
     ]
    }
   ],
   "source": [
    "print(si.P1())\n",
    "print(si.P2())\n",
    "print(gb_control_si.VICL())"
   ]
  },
  {
   "cell_type": "code",
   "execution_count": 20,
   "id": "705ed4c1-47df-43e1-8dfc-88b731af4031",
   "metadata": {},
   "outputs": [
    {
     "data": {
      "text/plain": [
       "1.8625"
      ]
     },
     "execution_count": 20,
     "metadata": {},
     "output_type": "execute_result"
    }
   ],
   "source": [
    "0.475/2+1.625"
   ]
  },
  {
   "cell_type": "markdown",
   "id": "fb169abb-7ad2-43fd-8d1c-a8031e1dec0f",
   "metadata": {},
   "source": [
    "## Charge stability diagram"
   ]
  },
  {
   "cell_type": "code",
   "execution_count": null,
   "id": "81bd549b-f89b-4f7b-850d-1c59e6efde3f",
   "metadata": {},
   "outputs": [],
   "source": [
    "# gate 1 stepped over slowly\n",
    "gate1 = si.P2\n",
    "low1 = 1.75\n",
    "high1 = 2.1\n",
    "points1 = 200\n",
    "\n",
    "# gate 2 swept frequently\n",
    "gate2 = si.P1\n",
    "low2 = 1.75\n",
    "high2 = 2.1\n",
    "points2 = 200\n",
    "\n",
    "stepsize = 12e-4\n",
    "\n",
    "parameters = {\n",
    "    \"desc\": \"Sweep both P1 and P2 with feedback present.\",\n",
    "    \"lockin_amplitude\": \"Set to 10uV\",\n",
    "    \"ST\":   f\"Fixed at {si.ST()}V (target of {target} on lockin, stepsize of {stepsize})\",\n",
    "    \"SLB\":  f\"Fixed at {si.SLB()}V\",\n",
    "    \"SRB\":  f\"Fixed at {si.SRB()}V\",\n",
    "    \"SETB\": f\"Fixed at {si.SETB()}V\",\n",
    "    \"J1\": f\"Fixed at {gb_control_si.VICL()}V\",\n",
    "    gate1.name: f\"Ranged from {low1}V -> {high1}V in {points1} points\",\n",
    "    gate2.name: f\"Ranged from {low2}V -> {high2}V in {points2} points\",\n",
    "    \"temp\": f\"Mixing chamber {fridge.temp()} K\",\n",
    "    }\n",
    "\n",
    "\n",
    "monty.newrun(\"p1 vs p2\", parameters)\n",
    "\n",
    "G1_range = np.linspace(low1, high1, points1)\n",
    "G2_range = np.linspace(low2, high2, points2)\n",
    "\n",
    "X = np.zeros((points1, points2))\n",
    "Y = np.zeros((points1, points2))\n",
    "R = np.zeros((points1, points2))\n",
    "P = np.zeros((points1, points2))\n",
    "ST_drift = np.zeros(points1*points2)\n",
    "delta_I = np.zeros(points1*points2)\n",
    "\n",
    "\n",
    "with tqdm(total=points1*points2) as pbar, LiveContourPlot(G2_range, G1_range, xlabel=f\"{gate2.name} voltage\", ylabel=f\"{gate1.name} voltage\") as lplot:\n",
    "    for (j, g1) in enumerate(G1_range):\n",
    "        gate1(g1)\n",
    "        time.sleep(0.3)\n",
    "        #gettotarget()\n",
    "        time.sleep(1)\n",
    "        \n",
    "        for (i, g2) in enumerate(G2_range):\n",
    "            gate2(g2)\n",
    "            time.sleep(0.3)\n",
    "            \n",
    "            ST_drift[j*points2+i] = si.ST()\n",
    "            X[j, i] = lockin.X()\n",
    "            Y[j, i] = lockin.Y()\n",
    "            R[j, i] = lockin.R()\n",
    "            P[j, i] = lockin.P()\n",
    "            \n",
    "            pbar.update(1)\n",
    "            lplot.update(R)\n",
    "            \n",
    "            feedback(si.ST, lockin, target, stepsize=stepsize, slope=\"up\")\n",
    "            #delta_I[j*points2+i] = fittedfeedback()\n",
    "            \n",
    "        # Flip the direction of the next sweep\n",
    "        monty.snapshot({\"X\": X, \"Y\": Y, \"R\": R, \"P\": P, \"ST\": ST_drift}) #, \"ST_T\": delta_I})\n",
    "        G2_range = G2_range[::-1]\n",
    "        \n",
    "\n",
    "swiper.plotsweep2d(G1_range, G2_range, R, gate1.name, gate2.name, monty)  # note wont separate directions\n",
    "monty.save({\"X\": X, \"Y\": Y, \"R\": R, \"P\": P, \"ST\": ST_drift, \"ST_T\": delta_I})\n",
    "\n",
    "\n",
    "# Plot ST history over time\n",
    "fig = plt.figure()\n",
    "plt.plot(ST_drift)\n",
    "plt.xlabel(\"Steps when sweeping P1/P2\")\n",
    "plt.title(monty.identifier + \".\" + monty.runname)\n",
    "plt.ylabel(\"ST voltage\")\n",
    "plt.legend()\n",
    "monty.savefig(plt, \"ST history\")\n",
    "\n",
    "# Split the 2D sweep into forwad and backward plots\n",
    "\n",
    "plt.figure()\n",
    "plt.pcolormesh(G2_range, G1_range[::2], R[::2, :], shading=\"nearest\")  \n",
    "plt.colorbar()\n",
    "plt.ylabel(f\"{gate1.name} voltage (V)\")\n",
    "plt.xlabel(f\"{gate2.name} voltage (V)\")\n",
    "plt.title(monty.identifier + \".\" + monty.runname + \"_forward\")\n",
    "monty.savefig(plt, \"stability forward\")\n",
    "\n",
    "plt.figure()\n",
    "plt.pcolormesh(G2_range, G1_range[1::2], R[1::2, ::-1], shading=\"nearest\")  \n",
    "plt.colorbar()\n",
    "plt.ylabel(f\"{gate1.name} voltage (V)\")\n",
    "plt.xlabel(f\"{gate2.name} voltage (V)\")\n",
    "plt.title(monty.identifier + \".\" + monty.runname + \"_back\")\n",
    "monty.savefig(plt, \"stability backward\")"
   ]
  },
  {
   "cell_type": "code",
   "execution_count": null,
   "id": "3c1ac1e9-e0ea-4634-8ef9-709c894037d6",
   "metadata": {},
   "outputs": [],
   "source": []
  },
  {
   "cell_type": "markdown",
   "id": "8ed2d2c5-47d0-4a39-9cac-da999199f09b",
   "metadata": {},
   "source": [
    "## Detuning scan vs J (2D)"
   ]
  },
  {
   "cell_type": "code",
   "execution_count": 34,
   "id": "80d1dcb7-c67d-4f2f-a543-91356c564811",
   "metadata": {},
   "outputs": [
    {
     "name": "stdout",
     "output_type": "stream",
     "text": [
      "P1 = 1.650001\n",
      "P2 = 2.000004\n",
      "ST = 3.680788\n"
     ]
    }
   ],
   "source": [
    "print(f\"P1 = {si.P1()}\\nP2 = {si.P2()}\\nST = {si.ST()}\")"
   ]
  },
  {
   "cell_type": "code",
   "execution_count": 36,
   "id": "3d954060-8f7d-43f0-94c5-e43860f083f8",
   "metadata": {},
   "outputs": [],
   "source": [
    "si.P2(2.1)"
   ]
  },
  {
   "cell_type": "code",
   "execution_count": 40,
   "id": "dfd60f5a-efac-4b27-8077-ff0916454f20",
   "metadata": {},
   "outputs": [
    {
     "name": "stdout",
     "output_type": "stream",
     "text": [
      "Target = 5.4518e-11, tol = 1e-12, initial ST = 3.679806\n",
      "ST = 3.6764e+00, lockin = 5.6074e-11, delta = 1.4802e-12\n",
      "Final ST = 3.676406\n"
     ]
    }
   ],
   "source": [
    "#si.ST(3.42)\n",
    "gettotarget()"
   ]
  },
  {
   "cell_type": "code",
   "execution_count": 39,
   "id": "d9386095-5fe7-4c2f-b23d-c53422e52854",
   "metadata": {},
   "outputs": [],
   "source": [
    "gb_control_si.VICL(3.8)"
   ]
  },
  {
   "cell_type": "code",
   "execution_count": null,
   "id": "8b6b1890-0c47-4997-8c54-2ec41eb62fb5",
   "metadata": {},
   "outputs": [
    {
     "name": "stdout",
     "output_type": "stream",
     "text": [
      "WARNING: Finishing existing run to start a new one\n",
      "Run finished and took 0:00:25.441839.\n",
      "Started new run detuning_vs_J.2\n"
     ]
    },
    {
     "data": {
      "application/vnd.jupyter.widget-view+json": {
       "model_id": "44c3aa2542034bf4bb525a5bc7e562ee",
       "version_major": 2,
       "version_minor": 0
      },
      "text/plain": [
       "  0%|          | 0/40501 [00:00<?, ?it/s]"
      ]
     },
     "metadata": {},
     "output_type": "display_data"
    }
   ],
   "source": [
    "# Setup P1 / P2  detuning params\n",
    "lowp = 1.625\n",
    "highp = 2.1\n",
    "pointsp = 401\n",
    "\n",
    "# choose which gates are going up/down\n",
    "forward = True\n",
    "if forward:\n",
    "    gateup = si.P1\n",
    "    gatedown = si.P2\n",
    "else:\n",
    "    gateup = si.P2\n",
    "    gatedown = si.P1\n",
    "\n",
    "stepsize = 3e-4\n",
    "\n",
    "# Setup J1 (VICL) (swept slowly)\n",
    "lowj = 3.8\n",
    "highj = 2.9\n",
    "pointsj = 101\n",
    "gatej = gb_control_si.VICL\n",
    "\n",
    "parameters = {\n",
    "    \"desc\": f\"Sweep detuning axis ({gateup.name} - {gatedown.name}) against J1 (VICL)\",\n",
    "    \"lockin_amplitude\": \"Set to 10uV\",\n",
    "    \"ST\":   f\"Start at {si.ST()}V (target of {target} on lockin with stepsize = {stepsize})\",\n",
    "    \"SLB\":  f\"Fixed at {si.SLB()}V\",\n",
    "    \"SRB\":  f\"Fixed at {si.SRB()}V\",\n",
    "    \"SETB\": f\"Fixed at {si.SETB()}V\",\n",
    "    gateup.name: f\"Ranged from {lowp}V -> {highp}V in {pointsp} points\",  # P1 or P2\n",
    "    gatedown.name: f\"Ranged from {highp}V -> {lowp}V in {pointsp} points\",  # P1 or P2\n",
    "    \"J1\": f\"Ranged from {lowj}V -> {highj}V in {pointsj} points\",\n",
    "    \"temp\": f\"Mixing chamber {fridge.temp()} K\",\n",
    "    }\n",
    "\n",
    "monty.newrun(\"detuning vs J\", parameters)\n",
    "\n",
    "# gate voltages\n",
    "gate_up_range = np.linspace(lowp, highp, pointsp)\n",
    "gate_down_range = np.linspace(highp, lowp, pointsp)\n",
    "j_range = np.linspace(lowj, highj, pointsj)\n",
    "\n",
    "# Create detuning axis\n",
    "detuning = np.linspace((lowp-highp)/2, (highp-lowp)/2, pointsp)\n",
    "if not forward:  # reverse as the data is collected backwards (initially)\n",
    "    detuning = detuning[::-1]\n",
    "\n",
    "X = np.zeros((pointsj, pointsp))\n",
    "Y = np.zeros((pointsj, pointsp))\n",
    "R = np.zeros((pointsj, pointsp))\n",
    "P = np.zeros((pointsj, pointsp))\n",
    "ST_drift = np.zeros(pointsj*pointsp)\n",
    "\n",
    "with tqdm(total=pointsj*pointsp) as pbar, LiveContourPlot(detuning, j_range, xlabel=f\"Detuning ({gateup.name} - {gatedown.name}) (V)\", ylabel=\"J gate voltage\") as lplot:\n",
    "    for (j, gj) in enumerate(j_range):\n",
    "        gatej(gj)  # J1\n",
    "        time.sleep(0.3)\n",
    "        feedback(si.ST, lockin, target, stepsize=stepsize, slope=\"up\")\n",
    "        #gettotarget()  # perhaps be even more agressive on the start of each sweep?\n",
    "        time.sleep(1)\n",
    "        \n",
    "        for (i, g) in enumerate(gate_up_range):\n",
    "            gateup(g)\n",
    "            gatedown(gate_down_range[i])\n",
    "            time.sleep(0.3)\n",
    "            \n",
    "            ST_drift[j*pointsp+i] = si.ST()\n",
    "            X[j, i] = lockin.X()\n",
    "            Y[j, i] = lockin.Y()\n",
    "            R[j, i] = lockin.R()\n",
    "            P[j, i] = lockin.P()\n",
    "            \n",
    "            pbar.update(1)\n",
    "            lplot.update(R)\n",
    "            \n",
    "            feedback(si.ST, lockin, target, stepsize=stepsize, slope=\"up\")\n",
    "            \n",
    "        monty.snapshot({\"X\": X, \"Y\": Y, \"R\": R, \"P\": P, \"ST\": ST_drift})\n",
    "        \n",
    "        # Flip the direction of the next sweep\n",
    "        gate_up_range = gate_up_range[::-1]\n",
    "        gate_down_range = gate_down_range[::-1]\n",
    "\n",
    "monty.save({\"X\": X, \"Y\": Y, \"R\": R, \"P\": P, \"ST\": ST_drift}) \n",
    "\n",
    "\n",
    "swiper.plotsweep2d(j_range, detuning, R, \"J\", \"Detuning\", monty)  # note wont separate directions\n",
    "\n",
    "# Plot ST history over time\n",
    "fig = plt.figure()\n",
    "plt.plot(ST_drift)\n",
    "plt.xlabel(\"Steps when sweeping detuning and J1\")\n",
    "plt.title(monty.identifier + \".\" + monty.runname)\n",
    "plt.ylabel(\"ST voltage\")\n",
    "plt.legend()\n",
    "monty.savefig(plt, \"ST history\")\n",
    "\n",
    "# Split the 2D sweep into forwad and backward plots\n",
    "\n",
    "plt.figure()\n",
    "plt.pcolormesh(detuning, j_range[::2], R[::2, :], shading=\"nearest\")\n",
    "plt.colorbar()\n",
    "plt.ylabel(\"J voltage (V)\")\n",
    "plt.xlabel(f\"Detuning ({gateup.name} - {gatedown.name}) (V)\")\n",
    "plt.title(monty.identifier + \".\" + monty.runname + \"_forward\")\n",
    "monty.savefig(plt, \"stability forward\")\n",
    "\n",
    "plt.figure()\n",
    "plt.pcolormesh(detuning, j_range[1::2], R[1::2, ::-1], shading=\"nearest\")\n",
    "plt.colorbar()\n",
    "plt.ylabel(\"J voltage (V)\")\n",
    "plt.xlabel(f\"Detuning ({gateup.name} - {gatedown.name}) (V)\")\n",
    "plt.title(monty.identifier + \".\" + monty.runname + \"_back\")\n",
    "monty.savefig(plt, \"stability backward\")\n",
    "\n",
    "\n",
    "\n"
   ]
  },
  {
   "cell_type": "code",
   "execution_count": null,
   "id": "d60d7406-2b98-40e1-aac2-d2f4f33e3992",
   "metadata": {},
   "outputs": [],
   "source": []
  },
  {
   "cell_type": "markdown",
   "id": "d49c291c-8eba-434f-b848-2227fa5f6697",
   "metadata": {},
   "source": [
    "# Load and parameter sweep\n",
    "Sweep the parameter space of loading/unloading electrons and viewing P1 sweeps"
   ]
  },
  {
   "cell_type": "code",
   "execution_count": 8,
   "id": "4f6e28ef-aadc-4180-9e0c-4ec18407889e",
   "metadata": {},
   "outputs": [],
   "source": [
    "def reload(thresh=1.1, p=1.75, j=3.5):\n",
    "    \"\"\"\n",
    "    p = where to raise P1 and P2 to after flushing before reloading\n",
    "    \"\"\"\n",
    "    low = 1.0\n",
    "    tic = time.time()\n",
    "\n",
    "    print(\"Flushing electrons...\")\n",
    "    si.P1(low)\n",
    "    si.P2(low)\n",
    "    time.sleep(0.5)\n",
    "\n",
    "    print(\"Raising P1 and P2...\")\n",
    "    si.P1(p)\n",
    "    si.P2(p)\n",
    "    gb_control_si.VICL(j)\n",
    "\n",
    "    print(\"Loading electrons...\")\n",
    "    si.SETB(thresh)\n",
    "    time.sleep(0.5)\n",
    "    si.SETB(0)\n",
    "    print(f\"Reloaded in {time.time()-tic} seconds.\")"
   ]
  },
  {
   "cell_type": "code",
   "execution_count": 485,
   "id": "999c9faa-f8f9-48c8-8e70-9a0783daf5e1",
   "metadata": {},
   "outputs": [],
   "source": [
    "def scan_p1(low=1.75, high=2.0, points=301, gate=si.P1, params=\"\"):\n",
    "    parameters = {\n",
    "        \"desc\": f\"Parameter sweep. Loaded electrons with {params}\",\n",
    "        \"lockin_amplitude\": \"Set to 10uV\",\n",
    "        \"ST\":   f\"Fixed at {si.ST()}V (target of {target} on lockin)\",\n",
    "        \"SLB\":  f\"Fixed at {si.SLB()}V\",\n",
    "        \"SRB\":  f\"Fixed at {si.SRB()}V\",\n",
    "        \"SETB\": f\"Fixed at {si.SETB()}V\",\n",
    "        \"J1\": f\"Fixed at {gb_control_si.VICL()}V\",\n",
    "        \"P1\": f\"Ranged from {low}V -> {high}V in {points} points\",\n",
    "        \"P2\": f\"Fixed at {si.P2()}V\",\n",
    "        \"temp\": f\"Mixing chamber {fridge.temp()} K\"\n",
    "        }\n",
    "    \n",
    "    monty.newrun(f\"P_{params}\", parameters)\n",
    "    \n",
    "    gate_range = np.linspace(low, high, points)\n",
    "    X = np.zeros((points))\n",
    "    Y = np.zeros((points))\n",
    "    R = np.zeros((points))\n",
    "    P = np.zeros((points))\n",
    "    \n",
    "    with tqdm(total=points) as pbar, LivePlot(gate_range, xlabel=\"P1 gate voltage (V)\", ylabel=\"Current (A)\") as lplot:\n",
    "        for (j, g) in enumerate(gate_range):\n",
    "            gate(g)\n",
    "            \n",
    "            time.sleep(0.5)\n",
    "            ST_drift[j] = si.ST()\n",
    "            X[j] = lockin.X()\n",
    "            Y[j] = lockin.Y()\n",
    "            R[j] = lockin.R()\n",
    "            P[j] = lockin.P()\n",
    "            pbar.update(1)\n",
    "            lplot.update(R)\n",
    "            \n",
    "            feedback(si.ST, lockin, target, stepsize=5e-11, slope=\"up\")\n",
    "    \n",
    "    \n",
    "    swiper.plotsweep1d(gate_range, R, gate.name, monty)\n",
    "    monty.save({\"X\": X, \"Y\": Y, \"R\": R, \"P\": P})"
   ]
  },
  {
   "cell_type": "code",
   "execution_count": 489,
   "id": "0fe4f399-acb0-4028-8e09-3f9737f9aafc",
   "metadata": {},
   "outputs": [],
   "source": [
    "load_setb = np.arange(0.8, 1.3, 0.05)\n",
    "load_p1p2 = np.arange(1.6, 1.9, 0.1)\n",
    "load_j = np.arange(3.0, 4.0, 0.2)"
   ]
  },
  {
   "cell_type": "code",
   "execution_count": 490,
   "id": "81b9e2e0-6be2-443a-805e-234bf0e66254",
   "metadata": {},
   "outputs": [
    {
     "data": {
      "text/plain": [
       "20.0"
      ]
     },
     "execution_count": 490,
     "metadata": {},
     "output_type": "execute_result"
    }
   ],
   "source": [
    "len(load_setb) * len(load_p1p2) * len(load_j) * 8/60"
   ]
  },
  {
   "cell_type": "code",
   "execution_count": 488,
   "id": "957172fe-3b6c-4009-bcdc-6b300ea5c326",
   "metadata": {},
   "outputs": [],
   "source": [
    "tol=1e-12"
   ]
  },
  {
   "cell_type": "code",
   "execution_count": 492,
   "id": "a1d260ab-0dfc-4f3d-a796-6ac976af8680",
   "metadata": {
    "scrolled": true
   },
   "outputs": [
    {
     "name": "stdout",
     "output_type": "stream",
     "text": [
      "Starting new run: SETB0.8 P1.6 J3.0\n",
      "Flushing electrons...\n",
      "Raising P1 and P2...\n",
      "Loading electrons...\n",
      "Reloaded in 88.06555962562561 seconds.\n",
      "Target = 6.0000e-11, tol = 1e-12, initial ST = 3.521338\n",
      "ST = 3.5331e+00, lockin = 5.9952e-11, delta = 5.9464e-14\n",
      "Final ST = 3.533058\n",
      "Started new run P_up_SETB0.8_P1.6_J3.0\n"
     ]
    },
    {
     "name": "stderr",
     "output_type": "stream",
     "text": [
      "100%|█████████████████████████████████████████████████████████████████████████████████████████████████████████████████████████████████████████| 401/401 [07:48<00:00,  1.17s/it]\n"
     ]
    },
    {
     "name": "stdout",
     "output_type": "stream",
     "text": [
      "Run finished and took 0:07:50.728350.\n",
      "Saving to P_up_SETB0.8_P1.6_J3.0.xz\n",
      "Saving to experiment.yaml\n",
      "Started new run P_down_SETB0.8_P1.6_J3.0\n"
     ]
    },
    {
     "name": "stderr",
     "output_type": "stream",
     "text": [
      "100%|█████████████████████████████████████████████████████████████████████████████████████████████████████████████████████████████████████████| 401/401 [07:45<00:00,  1.16s/it]\n"
     ]
    },
    {
     "name": "stdout",
     "output_type": "stream",
     "text": [
      "Run finished and took 0:07:47.587707.\n",
      "Saving to P_down_SETB0.8_P1.6_J3.0.xz\n",
      "Saving to experiment.yaml\n",
      "Starting new run: SETB0.8 P1.6 J3.2\n",
      "Flushing electrons...\n",
      "Raising P1 and P2...\n",
      "Loading electrons...\n",
      "Reloaded in 83.14668011665344 seconds.\n",
      "Target = 6.0000e-11, tol = 1e-12, initial ST = 3.533058\n",
      "ST = 3.5317e+00, lockin = 5.9365e-11, delta = 6.2336e-13\n",
      "Final ST = 3.531683\n",
      "Started new run P_up_SETB0.8_P1.6_J3.2\n"
     ]
    },
    {
     "name": "stderr",
     "output_type": "stream",
     "text": [
      "100%|█████████████████████████████████████████████████████████████████████████████████████████████████████████████████████████████████████████| 401/401 [07:48<00:00,  1.17s/it]\n"
     ]
    },
    {
     "name": "stdout",
     "output_type": "stream",
     "text": [
      "Run finished and took 0:07:50.316682.\n",
      "Saving to P_up_SETB0.8_P1.6_J3.2.xz\n",
      "Saving to experiment.yaml\n",
      "Started new run P_down_SETB0.8_P1.6_J3.2\n"
     ]
    },
    {
     "name": "stderr",
     "output_type": "stream",
     "text": [
      "100%|█████████████████████████████████████████████████████████████████████████████████████████████████████████████████████████████████████████| 401/401 [07:46<00:00,  1.16s/it]\n"
     ]
    },
    {
     "name": "stdout",
     "output_type": "stream",
     "text": [
      "Run finished and took 0:07:48.318767.\n",
      "Saving to P_down_SETB0.8_P1.6_J3.2.xz\n",
      "Saving to experiment.yaml\n",
      "Starting new run: SETB0.8 P1.6 J3.4000000000000004\n",
      "Flushing electrons...\n",
      "Raising P1 and P2...\n",
      "Loading electrons...\n",
      "Reloaded in 83.13757371902466 seconds.\n",
      "Target = 6.0000e-11, tol = 1e-12, initial ST = 3.531683\n",
      "ST = 3.5306e+00, lockin = 5.9724e-11, delta = 2.8738e-13\n",
      "Final ST = 3.530602\n",
      "Started new run P_up_SETB0.8_P1.6_J3.4000000000000004\n"
     ]
    },
    {
     "name": "stderr",
     "output_type": "stream",
     "text": [
      "100%|█████████████████████████████████████████████████████████████████████████████████████████████████████████████████████████████████████████| 401/401 [07:47<00:00,  1.17s/it]\n"
     ]
    },
    {
     "name": "stdout",
     "output_type": "stream",
     "text": [
      "Run finished and took 0:07:49.277076.\n",
      "Saving to P_up_SETB0.8_P1.6_J3.4000000000000004.xz\n",
      "Saving to experiment.yaml\n",
      "Started new run P_down_SETB0.8_P1.6_J3.4000000000000004\n"
     ]
    },
    {
     "name": "stderr",
     "output_type": "stream",
     "text": [
      "100%|█████████████████████████████████████████████████████████████████████████████████████████████████████████████████████████████████████████| 401/401 [07:46<00:00,  1.16s/it]\n"
     ]
    },
    {
     "name": "stdout",
     "output_type": "stream",
     "text": [
      "Run finished and took 0:07:48.349459.\n",
      "Saving to P_down_SETB0.8_P1.6_J3.4000000000000004.xz\n",
      "Saving to experiment.yaml\n",
      "Starting new run: SETB0.8 P1.6 J3.6000000000000005\n",
      "Flushing electrons...\n",
      "Raising P1 and P2...\n",
      "Loading electrons...\n",
      "Reloaded in 83.12366461753845 seconds.\n",
      "Target = 6.0000e-11, tol = 1e-12, initial ST = 3.530602\n",
      "ST = 3.5273e+00, lockin = 6.0810e-11, delta = 6.0284e-13\n",
      "Final ST = 3.527331\n",
      "Started new run P_up_SETB0.8_P1.6_J3.6000000000000005\n"
     ]
    },
    {
     "name": "stderr",
     "output_type": "stream",
     "text": [
      "100%|█████████████████████████████████████████████████████████████████████████████████████████████████████████████████████████████████████████| 401/401 [07:48<00:00,  1.17s/it]\n"
     ]
    },
    {
     "name": "stdout",
     "output_type": "stream",
     "text": [
      "Run finished and took 0:07:50.487950.\n",
      "Saving to P_up_SETB0.8_P1.6_J3.6000000000000005.xz\n",
      "Saving to experiment.yaml\n",
      "Started new run P_down_SETB0.8_P1.6_J3.6000000000000005\n"
     ]
    },
    {
     "name": "stderr",
     "output_type": "stream",
     "text": [
      "100%|█████████████████████████████████████████████████████████████████████████████████████████████████████████████████████████████████████████| 401/401 [07:45<00:00,  1.16s/it]\n"
     ]
    },
    {
     "name": "stdout",
     "output_type": "stream",
     "text": [
      "Run finished and took 0:07:47.173345.\n",
      "Saving to P_down_SETB0.8_P1.6_J3.6000000000000005.xz\n",
      "Saving to experiment.yaml\n",
      "Starting new run: SETB0.8 P1.6 J3.8000000000000007\n",
      "Flushing electrons...\n",
      "Raising P1 and P2...\n",
      "Loading electrons...\n",
      "Reloaded in 83.26378560066223 seconds.\n",
      "Target = 6.0000e-11, tol = 1e-12, initial ST = 3.527331\n",
      "ST = 3.5247e+00, lockin = 6.1227e-11, delta = 1.1914e-12\n",
      "Final ST = 3.524737\n",
      "Started new run P_up_SETB0.8_P1.6_J3.8000000000000007\n"
     ]
    },
    {
     "name": "stderr",
     "output_type": "stream",
     "text": [
      "100%|█████████████████████████████████████████████████████████████████████████████████████████████████████████████████████████████████████████| 401/401 [07:48<00:00,  1.17s/it]\n"
     ]
    },
    {
     "name": "stdout",
     "output_type": "stream",
     "text": [
      "Run finished and took 0:07:50.312259.\n",
      "Saving to P_up_SETB0.8_P1.6_J3.8000000000000007.xz\n",
      "Saving to experiment.yaml\n",
      "Started new run P_down_SETB0.8_P1.6_J3.8000000000000007\n"
     ]
    },
    {
     "name": "stderr",
     "output_type": "stream",
     "text": [
      "100%|█████████████████████████████████████████████████████████████████████████████████████████████████████████████████████████████████████████| 401/401 [07:45<00:00,  1.16s/it]\n"
     ]
    },
    {
     "name": "stdout",
     "output_type": "stream",
     "text": [
      "Run finished and took 0:07:47.909990.\n",
      "Saving to P_down_SETB0.8_P1.6_J3.8000000000000007.xz\n",
      "Saving to experiment.yaml\n",
      "Starting new run: SETB0.8500000000000001 P1.6 J3.0\n",
      "Flushing electrons...\n",
      "Raising P1 and P2...\n",
      "Loading electrons...\n",
      "Reloaded in 86.3951485157013 seconds.\n",
      "Target = 6.0000e-11, tol = 1e-12, initial ST = 3.524737\n",
      "ST = 3.5346e+00, lockin = 6.1100e-11, delta = 1.0792e-12\n",
      "Final ST = 3.534591\n",
      "Started new run P_up_SETB0.8500000000000001_P1.6_J3.0\n"
     ]
    },
    {
     "name": "stderr",
     "output_type": "stream",
     "text": [
      "100%|█████████████████████████████████████████████████████████████████████████████████████████████████████████████████████████████████████████| 401/401 [07:48<00:00,  1.17s/it]\n"
     ]
    },
    {
     "name": "stdout",
     "output_type": "stream",
     "text": [
      "Run finished and took 0:07:50.747531.\n",
      "Saving to P_up_SETB0.8500000000000001_P1.6_J3.0.xz\n",
      "Saving to experiment.yaml\n",
      "Started new run P_down_SETB0.8500000000000001_P1.6_J3.0\n"
     ]
    },
    {
     "name": "stderr",
     "output_type": "stream",
     "text": [
      "100%|█████████████████████████████████████████████████████████████████████████████████████████████████████████████████████████████████████████| 401/401 [07:46<00:00,  1.16s/it]\n"
     ]
    },
    {
     "name": "stdout",
     "output_type": "stream",
     "text": [
      "Run finished and took 0:07:48.886961.\n",
      "Saving to P_down_SETB0.8500000000000001_P1.6_J3.0.xz\n",
      "Saving to experiment.yaml\n",
      "Starting new run: SETB0.8500000000000001 P1.6 J3.2\n",
      "Flushing electrons...\n",
      "Raising P1 and P2...\n",
      "Loading electrons...\n",
      "Reloaded in 85.11061930656433 seconds.\n",
      "Target = 6.0000e-11, tol = 1e-12, initial ST = 3.534591\n",
      "ST = 3.5355e+00, lockin = 5.9226e-11, delta = 7.4251e-13\n",
      "Final ST = 3.535485\n",
      "Started new run P_up_SETB0.8500000000000001_P1.6_J3.2\n"
     ]
    },
    {
     "name": "stderr",
     "output_type": "stream",
     "text": [
      "100%|█████████████████████████████████████████████████████████████████████████████████████████████████████████████████████████████████████████| 401/401 [07:48<00:00,  1.17s/it]\n"
     ]
    },
    {
     "name": "stdout",
     "output_type": "stream",
     "text": [
      "Run finished and took 0:07:50.383244.\n",
      "Saving to P_up_SETB0.8500000000000001_P1.6_J3.2.xz\n",
      "Saving to experiment.yaml\n",
      "Started new run P_down_SETB0.8500000000000001_P1.6_J3.2\n"
     ]
    },
    {
     "name": "stderr",
     "output_type": "stream",
     "text": [
      "100%|█████████████████████████████████████████████████████████████████████████████████████████████████████████████████████████████████████████| 401/401 [07:45<00:00,  1.16s/it]\n"
     ]
    },
    {
     "name": "stdout",
     "output_type": "stream",
     "text": [
      "Run finished and took 0:07:48.292710.\n",
      "Saving to P_down_SETB0.8500000000000001_P1.6_J3.2.xz\n",
      "Saving to experiment.yaml\n",
      "Starting new run: SETB0.8500000000000001 P1.6 J3.4000000000000004\n",
      "Flushing electrons...\n",
      "Raising P1 and P2...\n",
      "Loading electrons...\n",
      "Reloaded in 85.09669995307922 seconds.\n",
      "Target = 6.0000e-11, tol = 1e-12, initial ST = 3.535485\n",
      "ST = 3.5319e+00, lockin = 6.0156e-11, delta = 8.9204e-14\n",
      "Final ST = 3.531889\n",
      "Started new run P_up_SETB0.8500000000000001_P1.6_J3.4000000000000004\n"
     ]
    },
    {
     "name": "stderr",
     "output_type": "stream",
     "text": [
      "100%|█████████████████████████████████████████████████████████████████████████████████████████████████████████████████████████████████████████| 401/401 [07:48<00:00,  1.17s/it]\n"
     ]
    },
    {
     "name": "stdout",
     "output_type": "stream",
     "text": [
      "Run finished and took 0:07:50.803253.\n",
      "Saving to P_up_SETB0.8500000000000001_P1.6_J3.4000000000000004.xz\n",
      "Saving to experiment.yaml\n",
      "Started new run P_down_SETB0.8500000000000001_P1.6_J3.4000000000000004\n"
     ]
    },
    {
     "name": "stderr",
     "output_type": "stream",
     "text": [
      "100%|█████████████████████████████████████████████████████████████████████████████████████████████████████████████████████████████████████████| 401/401 [07:45<00:00,  1.16s/it]\n"
     ]
    },
    {
     "name": "stdout",
     "output_type": "stream",
     "text": [
      "Run finished and took 0:07:48.349764.\n",
      "Saving to P_down_SETB0.8500000000000001_P1.6_J3.4000000000000004.xz\n",
      "Saving to experiment.yaml\n",
      "Starting new run: SETB0.8500000000000001 P1.6 J3.6000000000000005\n",
      "Flushing electrons...\n",
      "Raising P1 and P2...\n",
      "Loading electrons...\n",
      "Reloaded in 85.08238768577576 seconds.\n",
      "Target = 6.0000e-11, tol = 1e-12, initial ST = 3.531889\n",
      "ST = 3.5282e+00, lockin = 6.0782e-11, delta = 7.3752e-13\n",
      "Final ST = 3.528234\n",
      "Started new run P_up_SETB0.8500000000000001_P1.6_J3.6000000000000005\n"
     ]
    },
    {
     "name": "stderr",
     "output_type": "stream",
     "text": [
      "100%|█████████████████████████████████████████████████████████████████████████████████████████████████████████████████████████████████████████| 401/401 [07:48<00:00,  1.17s/it]\n"
     ]
    },
    {
     "name": "stdout",
     "output_type": "stream",
     "text": [
      "Run finished and took 0:07:50.659783.\n",
      "Saving to P_up_SETB0.8500000000000001_P1.6_J3.6000000000000005.xz\n",
      "Saving to experiment.yaml\n",
      "Started new run P_down_SETB0.8500000000000001_P1.6_J3.6000000000000005\n"
     ]
    },
    {
     "name": "stderr",
     "output_type": "stream",
     "text": [
      "100%|█████████████████████████████████████████████████████████████████████████████████████████████████████████████████████████████████████████| 401/401 [07:45<00:00,  1.16s/it]\n"
     ]
    },
    {
     "name": "stdout",
     "output_type": "stream",
     "text": [
      "Run finished and took 0:07:48.222929.\n",
      "Saving to P_down_SETB0.8500000000000001_P1.6_J3.6000000000000005.xz\n",
      "Saving to experiment.yaml\n",
      "Starting new run: SETB0.8500000000000001 P1.6 J3.8000000000000007\n",
      "Flushing electrons...\n",
      "Raising P1 and P2...\n",
      "Loading electrons...\n",
      "Reloaded in 85.07004594802856 seconds.\n",
      "Target = 6.0000e-11, tol = 1e-12, initial ST = 3.528234\n",
      "ST = 3.5249e+00, lockin = 6.0964e-11, delta = 7.3188e-13\n",
      "Final ST = 3.524914\n",
      "Started new run P_up_SETB0.8500000000000001_P1.6_J3.8000000000000007\n"
     ]
    },
    {
     "name": "stderr",
     "output_type": "stream",
     "text": [
      "100%|█████████████████████████████████████████████████████████████████████████████████████████████████████████████████████████████████████████| 401/401 [07:49<00:00,  1.17s/it]\n"
     ]
    },
    {
     "name": "stdout",
     "output_type": "stream",
     "text": [
      "Run finished and took 0:07:51.992800.\n",
      "Saving to P_up_SETB0.8500000000000001_P1.6_J3.8000000000000007.xz\n",
      "Saving to experiment.yaml\n",
      "Started new run P_down_SETB0.8500000000000001_P1.6_J3.8000000000000007\n"
     ]
    },
    {
     "name": "stderr",
     "output_type": "stream",
     "text": [
      "100%|█████████████████████████████████████████████████████████████████████████████████████████████████████████████████████████████████████████| 401/401 [07:45<00:00,  1.16s/it]\n"
     ]
    },
    {
     "name": "stdout",
     "output_type": "stream",
     "text": [
      "Run finished and took 0:07:48.443486.\n",
      "Saving to P_down_SETB0.8500000000000001_P1.6_J3.8000000000000007.xz\n",
      "Saving to experiment.yaml\n",
      "Starting new run: SETB0.9000000000000001 P1.6 J3.0\n",
      "Flushing electrons...\n",
      "Raising P1 and P2...\n",
      "Loading electrons...\n",
      "Reloaded in 88.25691676139832 seconds.\n",
      "Target = 6.0000e-11, tol = 1e-12, initial ST = 3.524914\n",
      "ST = 3.5351e+00, lockin = 5.9630e-11, delta = 3.3043e-13\n",
      "Final ST = 3.535062\n",
      "Started new run P_up_SETB0.9000000000000001_P1.6_J3.0\n"
     ]
    },
    {
     "name": "stderr",
     "output_type": "stream",
     "text": [
      "100%|█████████████████████████████████████████████████████████████████████████████████████████████████████████████████████████████████████████| 401/401 [07:49<00:00,  1.17s/it]\n"
     ]
    },
    {
     "name": "stdout",
     "output_type": "stream",
     "text": [
      "Run finished and took 0:07:51.238881.\n",
      "Saving to P_up_SETB0.9000000000000001_P1.6_J3.0.xz\n",
      "Saving to experiment.yaml\n",
      "Started new run P_down_SETB0.9000000000000001_P1.6_J3.0\n"
     ]
    },
    {
     "name": "stderr",
     "output_type": "stream",
     "text": [
      "100%|█████████████████████████████████████████████████████████████████████████████████████████████████████████████████████████████████████████| 401/401 [07:47<00:00,  1.17s/it]\n"
     ]
    },
    {
     "name": "stdout",
     "output_type": "stream",
     "text": [
      "Run finished and took 0:07:49.385231.\n",
      "Saving to P_down_SETB0.9000000000000001_P1.6_J3.0.xz\n",
      "Saving to experiment.yaml\n",
      "Starting new run: SETB0.9000000000000001 P1.6 J3.2\n",
      "Flushing electrons...\n",
      "Raising P1 and P2...\n",
      "Loading electrons...\n",
      "Reloaded in 87.38300681114197 seconds.\n",
      "Target = 6.0000e-11, tol = 1e-12, initial ST = 3.535062\n",
      "ST = 3.5357e+00, lockin = 5.9428e-11, delta = 6.1505e-13\n",
      "Final ST = 3.53573\n",
      "Started new run P_up_SETB0.9000000000000001_P1.6_J3.2\n"
     ]
    },
    {
     "name": "stderr",
     "output_type": "stream",
     "text": [
      "100%|█████████████████████████████████████████████████████████████████████████████████████████████████████████████████████████████████████████| 401/401 [07:48<00:00,  1.17s/it]\n"
     ]
    },
    {
     "name": "stdout",
     "output_type": "stream",
     "text": [
      "Run finished and took 0:07:51.257031.\n",
      "Saving to P_up_SETB0.9000000000000001_P1.6_J3.2.xz\n",
      "Saving to experiment.yaml\n",
      "Started new run P_down_SETB0.9000000000000001_P1.6_J3.2\n"
     ]
    },
    {
     "name": "stderr",
     "output_type": "stream",
     "text": [
      "100%|█████████████████████████████████████████████████████████████████████████████████████████████████████████████████████████████████████████| 401/401 [07:46<00:00,  1.16s/it]\n"
     ]
    },
    {
     "name": "stdout",
     "output_type": "stream",
     "text": [
      "Run finished and took 0:07:48.185519.\n",
      "Saving to P_down_SETB0.9000000000000001_P1.6_J3.2.xz\n",
      "Saving to experiment.yaml\n",
      "Starting new run: SETB0.9000000000000001 P1.6 J3.4000000000000004\n",
      "Flushing electrons...\n",
      "Raising P1 and P2...\n",
      "Loading electrons...\n",
      "Reloaded in 87.05920004844666 seconds.\n",
      "Target = 6.0000e-11, tol = 1e-12, initial ST = 3.53573\n",
      "ST = 3.5322e+00, lockin = 5.9977e-11, delta = 1.6526e-14\n",
      "Final ST = 3.532233\n",
      "Started new run P_up_SETB0.9000000000000001_P1.6_J3.4000000000000004\n"
     ]
    },
    {
     "name": "stderr",
     "output_type": "stream",
     "text": [
      "100%|█████████████████████████████████████████████████████████████████████████████████████████████████████████████████████████████████████████| 401/401 [07:47<00:00,  1.17s/it]\n"
     ]
    },
    {
     "name": "stdout",
     "output_type": "stream",
     "text": [
      "Run finished and took 0:07:49.994795.\n",
      "Saving to P_up_SETB0.9000000000000001_P1.6_J3.4000000000000004.xz\n",
      "Saving to experiment.yaml\n",
      "Started new run P_down_SETB0.9000000000000001_P1.6_J3.4000000000000004\n"
     ]
    },
    {
     "name": "stderr",
     "output_type": "stream",
     "text": [
      "100%|█████████████████████████████████████████████████████████████████████████████████████████████████████████████████████████████████████████| 401/401 [07:45<00:00,  1.16s/it]\n"
     ]
    },
    {
     "name": "stdout",
     "output_type": "stream",
     "text": [
      "Run finished and took 0:07:48.457937.\n",
      "Saving to P_down_SETB0.9000000000000001_P1.6_J3.4000000000000004.xz\n",
      "Saving to experiment.yaml\n",
      "Starting new run: SETB0.9000000000000001 P1.6 J3.6000000000000005\n",
      "Flushing electrons...\n",
      "Raising P1 and P2...\n",
      "Loading electrons...\n",
      "Reloaded in 87.05515384674072 seconds.\n",
      "Target = 6.0000e-11, tol = 1e-12, initial ST = 3.532233\n",
      "ST = 3.5287e+00, lockin = 6.0102e-11, delta = 1.1495e-13\n",
      "Final ST = 3.528706\n",
      "Started new run P_up_SETB0.9000000000000001_P1.6_J3.6000000000000005\n"
     ]
    },
    {
     "name": "stderr",
     "output_type": "stream",
     "text": [
      "100%|█████████████████████████████████████████████████████████████████████████████████████████████████████████████████████████████████████████| 401/401 [07:47<00:00,  1.17s/it]\n"
     ]
    },
    {
     "name": "stdout",
     "output_type": "stream",
     "text": [
      "Run finished and took 0:07:50.239157.\n",
      "Saving to P_up_SETB0.9000000000000001_P1.6_J3.6000000000000005.xz\n",
      "Saving to experiment.yaml\n",
      "Started new run P_down_SETB0.9000000000000001_P1.6_J3.6000000000000005\n"
     ]
    },
    {
     "name": "stderr",
     "output_type": "stream",
     "text": [
      "100%|█████████████████████████████████████████████████████████████████████████████████████████████████████████████████████████████████████████| 401/401 [07:45<00:00,  1.16s/it]\n"
     ]
    },
    {
     "name": "stdout",
     "output_type": "stream",
     "text": [
      "Run finished and took 0:07:48.118940.\n",
      "Saving to P_down_SETB0.9000000000000001_P1.6_J3.6000000000000005.xz\n",
      "Saving to experiment.yaml\n",
      "Starting new run: SETB0.9000000000000001 P1.6 J3.8000000000000007\n",
      "Flushing electrons...\n",
      "Raising P1 and P2...\n",
      "Loading electrons...\n",
      "Reloaded in 87.07311344146729 seconds.\n",
      "Target = 6.0000e-11, tol = 1e-12, initial ST = 3.528706\n",
      "ST = 3.5252e+00, lockin = 5.9804e-11, delta = 1.6883e-13\n",
      "Final ST = 3.52515\n",
      "Started new run P_up_SETB0.9000000000000001_P1.6_J3.8000000000000007\n"
     ]
    },
    {
     "name": "stderr",
     "output_type": "stream",
     "text": [
      "100%|█████████████████████████████████████████████████████████████████████████████████████████████████████████████████████████████████████████| 401/401 [07:48<00:00,  1.17s/it]\n"
     ]
    },
    {
     "name": "stdout",
     "output_type": "stream",
     "text": [
      "Run finished and took 0:07:51.466692.\n",
      "Saving to P_up_SETB0.9000000000000001_P1.6_J3.8000000000000007.xz\n",
      "Saving to experiment.yaml\n",
      "Started new run P_down_SETB0.9000000000000001_P1.6_J3.8000000000000007\n"
     ]
    },
    {
     "name": "stderr",
     "output_type": "stream",
     "text": [
      "100%|█████████████████████████████████████████████████████████████████████████████████████████████████████████████████████████████████████████| 401/401 [07:46<00:00,  1.16s/it]\n"
     ]
    },
    {
     "name": "stdout",
     "output_type": "stream",
     "text": [
      "Run finished and took 0:07:48.936603.\n",
      "Saving to P_down_SETB0.9000000000000001_P1.6_J3.8000000000000007.xz\n",
      "Saving to experiment.yaml\n",
      "Starting new run: SETB0.9500000000000002 P1.6 J3.0\n",
      "Flushing electrons...\n",
      "Raising P1 and P2...\n",
      "Loading electrons...\n",
      "Reloaded in 90.20661473274231 seconds.\n",
      "Target = 6.0000e-11, tol = 1e-12, initial ST = 3.52515\n",
      "ST = 3.5383e+00, lockin = 6.0095e-11, delta = 1.1368e-13\n",
      "Final ST = 3.538324\n",
      "Started new run P_up_SETB0.9500000000000002_P1.6_J3.0\n"
     ]
    },
    {
     "name": "stderr",
     "output_type": "stream",
     "text": [
      "100%|█████████████████████████████████████████████████████████████████████████████████████████████████████████████████████████████████████████| 401/401 [07:48<00:00,  1.17s/it]\n"
     ]
    },
    {
     "name": "stdout",
     "output_type": "stream",
     "text": [
      "Run finished and took 0:07:51.014792.\n",
      "Saving to P_up_SETB0.9500000000000002_P1.6_J3.0.xz\n",
      "Saving to experiment.yaml\n",
      "Started new run P_down_SETB0.9500000000000002_P1.6_J3.0\n"
     ]
    },
    {
     "name": "stderr",
     "output_type": "stream",
     "text": [
      "100%|█████████████████████████████████████████████████████████████████████████████████████████████████████████████████████████████████████████| 401/401 [07:45<00:00,  1.16s/it]\n"
     ]
    },
    {
     "name": "stdout",
     "output_type": "stream",
     "text": [
      "Run finished and took 0:07:47.943041.\n",
      "Saving to P_down_SETB0.9500000000000002_P1.6_J3.0.xz\n",
      "Saving to experiment.yaml\n",
      "Starting new run: SETB0.9500000000000002 P1.6 J3.2\n",
      "Flushing electrons...\n",
      "Raising P1 and P2...\n",
      "Loading electrons...\n",
      "Reloaded in 89.2822036743164 seconds.\n",
      "Target = 6.0000e-11, tol = 1e-12, initial ST = 3.538324\n",
      "ST = 3.5397e+00, lockin = 6.0540e-11, delta = 5.6371e-13\n",
      "Final ST = 3.539749\n",
      "Started new run P_up_SETB0.9500000000000002_P1.6_J3.2\n"
     ]
    },
    {
     "name": "stderr",
     "output_type": "stream",
     "text": [
      "100%|█████████████████████████████████████████████████████████████████████████████████████████████████████████████████████████████████████████| 401/401 [07:48<00:00,  1.17s/it]\n"
     ]
    },
    {
     "name": "stdout",
     "output_type": "stream",
     "text": [
      "Run finished and took 0:07:50.198028.\n",
      "Saving to P_up_SETB0.9500000000000002_P1.6_J3.2.xz\n",
      "Saving to experiment.yaml\n",
      "Started new run P_down_SETB0.9500000000000002_P1.6_J3.2\n"
     ]
    },
    {
     "name": "stderr",
     "output_type": "stream",
     "text": [
      "100%|█████████████████████████████████████████████████████████████████████████████████████████████████████████████████████████████████████████| 401/401 [07:46<00:00,  1.16s/it]\n"
     ]
    },
    {
     "name": "stdout",
     "output_type": "stream",
     "text": [
      "Run finished and took 0:07:48.237836.\n",
      "Saving to P_down_SETB0.9500000000000002_P1.6_J3.2.xz\n",
      "Saving to experiment.yaml\n",
      "Starting new run: SETB0.9500000000000002 P1.6 J3.4000000000000004\n",
      "Flushing electrons...\n",
      "Raising P1 and P2...\n",
      "Loading electrons...\n",
      "Reloaded in 89.01597023010254 seconds.\n",
      "Target = 6.0000e-11, tol = 1e-12, initial ST = 3.539749\n",
      "ST = 3.5370e+00, lockin = 6.0652e-11, delta = 4.1884e-13\n",
      "Final ST = 3.536998\n",
      "Started new run P_up_SETB0.9500000000000002_P1.6_J3.4000000000000004\n"
     ]
    },
    {
     "name": "stderr",
     "output_type": "stream",
     "text": [
      "100%|█████████████████████████████████████████████████████████████████████████████████████████████████████████████████████████████████████████| 401/401 [07:48<00:00,  1.17s/it]\n"
     ]
    },
    {
     "name": "stdout",
     "output_type": "stream",
     "text": [
      "Run finished and took 0:07:51.128560.\n",
      "Saving to P_up_SETB0.9500000000000002_P1.6_J3.4000000000000004.xz\n",
      "Saving to experiment.yaml\n",
      "Started new run P_down_SETB0.9500000000000002_P1.6_J3.4000000000000004\n"
     ]
    },
    {
     "name": "stderr",
     "output_type": "stream",
     "text": [
      "100%|█████████████████████████████████████████████████████████████████████████████████████████████████████████████████████████████████████████| 401/401 [07:45<00:00,  1.16s/it]\n"
     ]
    },
    {
     "name": "stdout",
     "output_type": "stream",
     "text": [
      "Run finished and took 0:07:48.245621.\n",
      "Saving to P_down_SETB0.9500000000000002_P1.6_J3.4000000000000004.xz\n",
      "Saving to experiment.yaml\n",
      "Starting new run: SETB0.9500000000000002 P1.6 J3.6000000000000005\n",
      "Flushing electrons...\n",
      "Raising P1 and P2...\n",
      "Loading electrons...\n",
      "Reloaded in 89.01097655296326 seconds.\n",
      "Target = 6.0000e-11, tol = 1e-12, initial ST = 3.536998\n",
      "ST = 3.5348e+00, lockin = 6.0980e-11, delta = 9.1947e-13\n",
      "Final ST = 3.534797\n",
      "Started new run P_up_SETB0.9500000000000002_P1.6_J3.6000000000000005\n"
     ]
    },
    {
     "name": "stderr",
     "output_type": "stream",
     "text": [
      "100%|█████████████████████████████████████████████████████████████████████████████████████████████████████████████████████████████████████████| 401/401 [07:48<00:00,  1.17s/it]\n"
     ]
    },
    {
     "name": "stdout",
     "output_type": "stream",
     "text": [
      "Run finished and took 0:07:50.792232.\n",
      "Saving to P_up_SETB0.9500000000000002_P1.6_J3.6000000000000005.xz\n",
      "Saving to experiment.yaml\n",
      "Started new run P_down_SETB0.9500000000000002_P1.6_J3.6000000000000005\n"
     ]
    },
    {
     "name": "stderr",
     "output_type": "stream",
     "text": [
      "100%|█████████████████████████████████████████████████████████████████████████████████████████████████████████████████████████████████████████| 401/401 [07:45<00:00,  1.16s/it]\n"
     ]
    },
    {
     "name": "stdout",
     "output_type": "stream",
     "text": [
      "Run finished and took 0:07:48.344177.\n",
      "Saving to P_down_SETB0.9500000000000002_P1.6_J3.6000000000000005.xz\n",
      "Saving to experiment.yaml\n",
      "Starting new run: SETB0.9500000000000002 P1.6 J3.8000000000000007\n",
      "Flushing electrons...\n",
      "Raising P1 and P2...\n",
      "Loading electrons...\n",
      "Reloaded in 89.04671621322632 seconds.\n",
      "Target = 6.0000e-11, tol = 1e-12, initial ST = 3.534797\n",
      "ST = 3.5317e+00, lockin = 5.8335e-11, delta = 1.5148e-12\n",
      "Final ST = 3.531653\n",
      "Started new run P_up_SETB0.9500000000000002_P1.6_J3.8000000000000007\n"
     ]
    },
    {
     "name": "stderr",
     "output_type": "stream",
     "text": [
      "100%|█████████████████████████████████████████████████████████████████████████████████████████████████████████████████████████████████████████| 401/401 [07:47<00:00,  1.17s/it]\n"
     ]
    },
    {
     "name": "stdout",
     "output_type": "stream",
     "text": [
      "Run finished and took 0:07:50.243318.\n",
      "Saving to P_up_SETB0.9500000000000002_P1.6_J3.8000000000000007.xz\n",
      "Saving to experiment.yaml\n",
      "Started new run P_down_SETB0.9500000000000002_P1.6_J3.8000000000000007\n"
     ]
    },
    {
     "name": "stderr",
     "output_type": "stream",
     "text": [
      "100%|█████████████████████████████████████████████████████████████████████████████████████████████████████████████████████████████████████████| 401/401 [07:46<00:00,  1.16s/it]\n"
     ]
    },
    {
     "name": "stdout",
     "output_type": "stream",
     "text": [
      "Run finished and took 0:07:48.838402.\n",
      "Saving to P_down_SETB0.9500000000000002_P1.6_J3.8000000000000007.xz\n",
      "Saving to experiment.yaml\n",
      "Starting new run: SETB1.0000000000000002 P1.6 J3.0\n",
      "Flushing electrons...\n",
      "Raising P1 and P2...\n",
      "Loading electrons...\n",
      "Reloaded in 92.15677618980408 seconds.\n",
      "Target = 6.0000e-11, tol = 1e-12, initial ST = 3.531653\n",
      "ST = 3.5386e+00, lockin = 5.8989e-11, delta = 1.0096e-12\n",
      "Final ST = 3.53858\n",
      "Started new run P_up_SETB1.0000000000000002_P1.6_J3.0\n"
     ]
    },
    {
     "name": "stderr",
     "output_type": "stream",
     "text": [
      "100%|█████████████████████████████████████████████████████████████████████████████████████████████████████████████████████████████████████████| 401/401 [07:48<00:00,  1.17s/it]\n"
     ]
    },
    {
     "name": "stdout",
     "output_type": "stream",
     "text": [
      "Run finished and took 0:07:51.063819.\n",
      "Saving to P_up_SETB1.0000000000000002_P1.6_J3.0.xz\n",
      "Saving to experiment.yaml\n",
      "Started new run P_down_SETB1.0000000000000002_P1.6_J3.0\n"
     ]
    },
    {
     "name": "stderr",
     "output_type": "stream",
     "text": [
      "100%|█████████████████████████████████████████████████████████████████████████████████████████████████████████████████████████████████████████| 401/401 [07:46<00:00,  1.16s/it]\n"
     ]
    },
    {
     "name": "stdout",
     "output_type": "stream",
     "text": [
      "Run finished and took 0:07:48.378100.\n",
      "Saving to P_down_SETB1.0000000000000002_P1.6_J3.0.xz\n",
      "Saving to experiment.yaml\n",
      "Starting new run: SETB1.0000000000000002 P1.6 J3.2\n",
      "Flushing electrons...\n",
      "Raising P1 and P2...\n",
      "Loading electrons...\n",
      "Reloaded in 91.00498867034912 seconds.\n",
      "Target = 6.0000e-11, tol = 1e-12, initial ST = 3.53858\n",
      "ST = 3.5397e+00, lockin = 5.9982e-11, delta = 3.6406e-14\n",
      "Final ST = 3.539739\n",
      "Started new run P_up_SETB1.0000000000000002_P1.6_J3.2\n"
     ]
    },
    {
     "name": "stderr",
     "output_type": "stream",
     "text": [
      "100%|█████████████████████████████████████████████████████████████████████████████████████████████████████████████████████████████████████████| 401/401 [07:48<00:00,  1.17s/it]\n"
     ]
    },
    {
     "name": "stdout",
     "output_type": "stream",
     "text": [
      "Run finished and took 0:07:50.404804.\n",
      "Saving to P_up_SETB1.0000000000000002_P1.6_J3.2.xz\n",
      "Saving to experiment.yaml\n",
      "Started new run P_down_SETB1.0000000000000002_P1.6_J3.2\n"
     ]
    },
    {
     "name": "stderr",
     "output_type": "stream",
     "text": [
      "100%|█████████████████████████████████████████████████████████████████████████████████████████████████████████████████████████████████████████| 401/401 [07:46<00:00,  1.16s/it]\n"
     ]
    },
    {
     "name": "stdout",
     "output_type": "stream",
     "text": [
      "Run finished and took 0:07:48.465397.\n",
      "Saving to P_down_SETB1.0000000000000002_P1.6_J3.2.xz\n",
      "Saving to experiment.yaml\n",
      "Starting new run: SETB1.0000000000000002 P1.6 J3.4000000000000004\n",
      "Flushing electrons...\n",
      "Raising P1 and P2...\n",
      "Loading electrons...\n",
      "Reloaded in 90.98478889465332 seconds.\n",
      "Target = 6.0000e-11, tol = 1e-12, initial ST = 3.539739\n",
      "ST = 3.5368e+00, lockin = 5.9156e-11, delta = 7.6320e-13\n",
      "Final ST = 3.536801\n",
      "Started new run P_up_SETB1.0000000000000002_P1.6_J3.4000000000000004\n"
     ]
    },
    {
     "name": "stderr",
     "output_type": "stream",
     "text": [
      "100%|█████████████████████████████████████████████████████████████████████████████████████████████████████████████████████████████████████████| 401/401 [07:48<00:00,  1.17s/it]\n"
     ]
    },
    {
     "name": "stdout",
     "output_type": "stream",
     "text": [
      "Run finished and took 0:07:51.211757.\n",
      "Saving to P_up_SETB1.0000000000000002_P1.6_J3.4000000000000004.xz\n",
      "Saving to experiment.yaml\n",
      "Started new run P_down_SETB1.0000000000000002_P1.6_J3.4000000000000004\n"
     ]
    },
    {
     "name": "stderr",
     "output_type": "stream",
     "text": [
      "100%|█████████████████████████████████████████████████████████████████████████████████████████████████████████████████████████████████████████| 401/401 [07:46<00:00,  1.16s/it]\n"
     ]
    },
    {
     "name": "stdout",
     "output_type": "stream",
     "text": [
      "Run finished and took 0:07:49.306252.\n",
      "Saving to P_down_SETB1.0000000000000002_P1.6_J3.4000000000000004.xz\n",
      "Saving to experiment.yaml\n",
      "Starting new run: SETB1.0000000000000002 P1.6 J3.6000000000000005\n",
      "Flushing electrons...\n",
      "Raising P1 and P2...\n",
      "Loading electrons...\n",
      "Reloaded in 90.97816610336304 seconds.\n",
      "Target = 6.0000e-11, tol = 1e-12, initial ST = 3.536801\n",
      "ST = 3.5348e+00, lockin = 5.9569e-11, delta = 4.1525e-13\n",
      "Final ST = 3.534846\n",
      "Started new run P_up_SETB1.0000000000000002_P1.6_J3.6000000000000005\n"
     ]
    },
    {
     "name": "stderr",
     "output_type": "stream",
     "text": [
      "100%|█████████████████████████████████████████████████████████████████████████████████████████████████████████████████████████████████████████| 401/401 [07:48<00:00,  1.17s/it]\n"
     ]
    },
    {
     "name": "stdout",
     "output_type": "stream",
     "text": [
      "Run finished and took 0:07:50.958444.\n",
      "Saving to P_up_SETB1.0000000000000002_P1.6_J3.6000000000000005.xz\n",
      "Saving to experiment.yaml\n",
      "Started new run P_down_SETB1.0000000000000002_P1.6_J3.6000000000000005\n"
     ]
    },
    {
     "name": "stderr",
     "output_type": "stream",
     "text": [
      "100%|█████████████████████████████████████████████████████████████████████████████████████████████████████████████████████████████████████████| 401/401 [07:47<00:00,  1.16s/it]\n"
     ]
    },
    {
     "name": "stdout",
     "output_type": "stream",
     "text": [
      "Run finished and took 0:07:49.746430.\n",
      "Saving to P_down_SETB1.0000000000000002_P1.6_J3.6000000000000005.xz\n",
      "Saving to experiment.yaml\n",
      "Starting new run: SETB1.0000000000000002 P1.6 J3.8000000000000007\n",
      "Flushing electrons...\n",
      "Raising P1 and P2...\n",
      "Loading electrons...\n",
      "Reloaded in 91.01768517494202 seconds.\n",
      "Target = 6.0000e-11, tol = 1e-12, initial ST = 3.534846\n",
      "ST = 3.5319e+00, lockin = 6.0004e-11, delta = 4.6277e-14\n",
      "Final ST = 3.531879\n",
      "Started new run P_up_SETB1.0000000000000002_P1.6_J3.8000000000000007\n"
     ]
    },
    {
     "name": "stderr",
     "output_type": "stream",
     "text": [
      "100%|█████████████████████████████████████████████████████████████████████████████████████████████████████████████████████████████████████████| 401/401 [07:49<00:00,  1.17s/it]\n"
     ]
    },
    {
     "name": "stdout",
     "output_type": "stream",
     "text": [
      "Run finished and took 0:07:52.179966.\n",
      "Saving to P_up_SETB1.0000000000000002_P1.6_J3.8000000000000007.xz\n",
      "Saving to experiment.yaml\n",
      "Started new run P_down_SETB1.0000000000000002_P1.6_J3.8000000000000007\n"
     ]
    },
    {
     "name": "stderr",
     "output_type": "stream",
     "text": [
      "100%|█████████████████████████████████████████████████████████████████████████████████████████████████████████████████████████████████████████| 401/401 [07:45<00:00,  1.16s/it]\n"
     ]
    },
    {
     "name": "stdout",
     "output_type": "stream",
     "text": [
      "Run finished and took 0:07:48.272536.\n",
      "Saving to P_down_SETB1.0000000000000002_P1.6_J3.8000000000000007.xz\n",
      "Saving to experiment.yaml\n",
      "Starting new run: SETB1.0500000000000003 P1.6 J3.0\n",
      "Flushing electrons...\n",
      "Raising P1 and P2...\n",
      "Loading electrons...\n",
      "Reloaded in 94.15169715881348 seconds.\n",
      "Target = 6.0000e-11, tol = 1e-12, initial ST = 3.531879\n",
      "ST = 3.5383e+00, lockin = 5.9949e-11, delta = 4.7318e-14\n",
      "Final ST = 3.538334\n",
      "Started new run P_up_SETB1.0500000000000003_P1.6_J3.0\n"
     ]
    },
    {
     "name": "stderr",
     "output_type": "stream",
     "text": [
      "100%|█████████████████████████████████████████████████████████████████████████████████████████████████████████████████████████████████████████| 401/401 [07:48<00:00,  1.17s/it]\n"
     ]
    },
    {
     "name": "stdout",
     "output_type": "stream",
     "text": [
      "Run finished and took 0:07:51.012565.\n",
      "Saving to P_up_SETB1.0500000000000003_P1.6_J3.0.xz\n",
      "Saving to experiment.yaml\n",
      "Started new run P_down_SETB1.0500000000000003_P1.6_J3.0\n"
     ]
    },
    {
     "name": "stderr",
     "output_type": "stream",
     "text": [
      "100%|█████████████████████████████████████████████████████████████████████████████████████████████████████████████████████████████████████████| 401/401 [07:46<00:00,  1.16s/it]\n"
     ]
    },
    {
     "name": "stdout",
     "output_type": "stream",
     "text": [
      "Run finished and took 0:07:48.618990.\n",
      "Saving to P_down_SETB1.0500000000000003_P1.6_J3.0.xz\n",
      "Saving to experiment.yaml\n",
      "Starting new run: SETB1.0500000000000003 P1.6 J3.2\n",
      "Flushing electrons...\n",
      "Raising P1 and P2...\n",
      "Loading electrons...\n",
      "Reloaded in 92.95211434364319 seconds.\n",
      "Target = 6.0000e-11, tol = 1e-12, initial ST = 3.538334\n",
      "ST = 3.5394e+00, lockin = 5.9647e-11, delta = 3.2333e-13\n",
      "Final ST = 3.539385\n",
      "Started new run P_up_SETB1.0500000000000003_P1.6_J3.2\n"
     ]
    },
    {
     "name": "stderr",
     "output_type": "stream",
     "text": [
      "100%|█████████████████████████████████████████████████████████████████████████████████████████████████████████████████████████████████████████| 401/401 [07:48<00:00,  1.17s/it]\n"
     ]
    },
    {
     "name": "stdout",
     "output_type": "stream",
     "text": [
      "Run finished and took 0:07:50.834761.\n",
      "Saving to P_up_SETB1.0500000000000003_P1.6_J3.2.xz\n",
      "Saving to experiment.yaml\n",
      "Started new run P_down_SETB1.0500000000000003_P1.6_J3.2\n"
     ]
    },
    {
     "name": "stderr",
     "output_type": "stream",
     "text": [
      "100%|█████████████████████████████████████████████████████████████████████████████████████████████████████████████████████████████████████████| 401/401 [07:45<00:00,  1.16s/it]\n"
     ]
    },
    {
     "name": "stdout",
     "output_type": "stream",
     "text": [
      "Run finished and took 0:07:48.044710.\n",
      "Saving to P_down_SETB1.0500000000000003_P1.6_J3.2.xz\n",
      "Saving to experiment.yaml\n",
      "Starting new run: SETB1.0500000000000003 P1.6 J3.4000000000000004\n",
      "Flushing electrons...\n",
      "Raising P1 and P2...\n",
      "Loading electrons...\n",
      "Reloaded in 92.96967363357544 seconds.\n",
      "Target = 6.0000e-11, tol = 1e-12, initial ST = 3.539385\n",
      "ST = 3.5376e+00, lockin = 6.2109e-11, delta = 1.9640e-12\n",
      "Final ST = 3.537587\n",
      "Started new run P_up_SETB1.0500000000000003_P1.6_J3.4000000000000004\n"
     ]
    },
    {
     "name": "stderr",
     "output_type": "stream",
     "text": [
      "100%|█████████████████████████████████████████████████████████████████████████████████████████████████████████████████████████████████████████| 401/401 [07:48<00:00,  1.17s/it]\n"
     ]
    },
    {
     "name": "stdout",
     "output_type": "stream",
     "text": [
      "Run finished and took 0:07:51.341557.\n",
      "Saving to P_up_SETB1.0500000000000003_P1.6_J3.4000000000000004.xz\n",
      "Saving to experiment.yaml\n",
      "Started new run P_down_SETB1.0500000000000003_P1.6_J3.4000000000000004\n"
     ]
    },
    {
     "name": "stderr",
     "output_type": "stream",
     "text": [
      "100%|█████████████████████████████████████████████████████████████████████████████████████████████████████████████████████████████████████████| 401/401 [07:46<00:00,  1.16s/it]\n"
     ]
    },
    {
     "name": "stdout",
     "output_type": "stream",
     "text": [
      "Run finished and took 0:07:49.307514.\n",
      "Saving to P_down_SETB1.0500000000000003_P1.6_J3.4000000000000004.xz\n",
      "Saving to experiment.yaml\n",
      "Starting new run: SETB1.0500000000000003 P1.6 J3.6000000000000005\n",
      "Flushing electrons...\n",
      "Raising P1 and P2...\n",
      "Loading electrons...\n",
      "Reloaded in 92.96265602111816 seconds.\n",
      "Target = 6.0000e-11, tol = 1e-12, initial ST = 3.537587\n",
      "ST = 3.5347e+00, lockin = 6.3046e-11, delta = 2.7702e-12\n",
      "Final ST = 3.534719\n",
      "Started new run P_up_SETB1.0500000000000003_P1.6_J3.6000000000000005\n"
     ]
    },
    {
     "name": "stderr",
     "output_type": "stream",
     "text": [
      "100%|█████████████████████████████████████████████████████████████████████████████████████████████████████████████████████████████████████████| 401/401 [07:48<00:00,  1.17s/it]\n"
     ]
    },
    {
     "name": "stdout",
     "output_type": "stream",
     "text": [
      "Run finished and took 0:07:50.865470.\n",
      "Saving to P_up_SETB1.0500000000000003_P1.6_J3.6000000000000005.xz\n",
      "Saving to experiment.yaml\n",
      "Started new run P_down_SETB1.0500000000000003_P1.6_J3.6000000000000005\n"
     ]
    },
    {
     "name": "stderr",
     "output_type": "stream",
     "text": [
      "100%|█████████████████████████████████████████████████████████████████████████████████████████████████████████████████████████████████████████| 401/401 [07:45<00:00,  1.16s/it]\n"
     ]
    },
    {
     "name": "stdout",
     "output_type": "stream",
     "text": [
      "Run finished and took 0:07:48.472114.\n",
      "Saving to P_down_SETB1.0500000000000003_P1.6_J3.6000000000000005.xz\n",
      "Saving to experiment.yaml\n",
      "Starting new run: SETB1.0500000000000003 P1.6 J3.8000000000000007\n",
      "Flushing electrons...\n",
      "Raising P1 and P2...\n",
      "Loading electrons...\n",
      "Reloaded in 93.1883020401001 seconds.\n",
      "Target = 6.0000e-11, tol = 1e-12, initial ST = 3.534719\n",
      "ST = 3.5318e+00, lockin = 5.9197e-11, delta = 7.9626e-13\n",
      "Final ST = 3.531761\n",
      "Started new run P_up_SETB1.0500000000000003_P1.6_J3.8000000000000007\n"
     ]
    },
    {
     "name": "stderr",
     "output_type": "stream",
     "text": [
      "100%|█████████████████████████████████████████████████████████████████████████████████████████████████████████████████████████████████████████| 401/401 [07:47<00:00,  1.17s/it]\n"
     ]
    },
    {
     "name": "stdout",
     "output_type": "stream",
     "text": [
      "Run finished and took 0:07:50.388323.\n",
      "Saving to P_up_SETB1.0500000000000003_P1.6_J3.8000000000000007.xz\n",
      "Saving to experiment.yaml\n",
      "Started new run P_down_SETB1.0500000000000003_P1.6_J3.8000000000000007\n"
     ]
    },
    {
     "name": "stderr",
     "output_type": "stream",
     "text": [
      "100%|█████████████████████████████████████████████████████████████████████████████████████████████████████████████████████████████████████████| 401/401 [07:46<00:00,  1.16s/it]\n"
     ]
    },
    {
     "name": "stdout",
     "output_type": "stream",
     "text": [
      "Run finished and took 0:07:49.168561.\n",
      "Saving to P_down_SETB1.0500000000000003_P1.6_J3.8000000000000007.xz\n",
      "Saving to experiment.yaml\n",
      "Starting new run: SETB1.1000000000000003 P1.6 J3.0\n",
      "Flushing electrons...\n",
      "Raising P1 and P2...\n",
      "Loading electrons...\n",
      "Reloaded in 96.09988141059875 seconds.\n",
      "Target = 6.0000e-11, tol = 1e-12, initial ST = 3.531761\n",
      "ST = 3.5384e+00, lockin = 6.0595e-11, delta = 6.2018e-13\n",
      "Final ST = 3.538432\n",
      "Started new run P_up_SETB1.1000000000000003_P1.6_J3.0\n"
     ]
    },
    {
     "name": "stderr",
     "output_type": "stream",
     "text": [
      "100%|█████████████████████████████████████████████████████████████████████████████████████████████████████████████████████████████████████████| 401/401 [07:49<00:00,  1.17s/it]\n"
     ]
    },
    {
     "name": "stdout",
     "output_type": "stream",
     "text": [
      "Run finished and took 0:07:51.995485.\n",
      "Saving to P_up_SETB1.1000000000000003_P1.6_J3.0.xz\n",
      "Saving to experiment.yaml\n",
      "Started new run P_down_SETB1.1000000000000003_P1.6_J3.0\n"
     ]
    },
    {
     "name": "stderr",
     "output_type": "stream",
     "text": [
      "100%|█████████████████████████████████████████████████████████████████████████████████████████████████████████████████████████████████████████| 401/401 [07:46<00:00,  1.16s/it]\n"
     ]
    },
    {
     "name": "stdout",
     "output_type": "stream",
     "text": [
      "Run finished and took 0:07:48.362399.\n",
      "Saving to P_down_SETB1.1000000000000003_P1.6_J3.0.xz\n",
      "Saving to experiment.yaml\n",
      "Starting new run: SETB1.1000000000000003 P1.6 J3.2\n",
      "Flushing electrons...\n",
      "Raising P1 and P2...\n",
      "Loading electrons...\n",
      "Reloaded in 94.92984008789062 seconds.\n",
      "Target = 6.0000e-11, tol = 1e-12, initial ST = 3.538432\n",
      "ST = 3.5395e+00, lockin = 6.0124e-11, delta = 1.4350e-13\n",
      "Final ST = 3.539483\n",
      "Started new run P_up_SETB1.1000000000000003_P1.6_J3.2\n"
     ]
    },
    {
     "name": "stderr",
     "output_type": "stream",
     "text": [
      "100%|█████████████████████████████████████████████████████████████████████████████████████████████████████████████████████████████████████████| 401/401 [07:48<00:00,  1.17s/it]\n"
     ]
    },
    {
     "name": "stdout",
     "output_type": "stream",
     "text": [
      "Run finished and took 0:07:51.112022.\n",
      "Saving to P_up_SETB1.1000000000000003_P1.6_J3.2.xz\n",
      "Saving to experiment.yaml\n",
      "Started new run P_down_SETB1.1000000000000003_P1.6_J3.2\n"
     ]
    },
    {
     "name": "stderr",
     "output_type": "stream",
     "text": [
      "100%|█████████████████████████████████████████████████████████████████████████████████████████████████████████████████████████████████████████| 401/401 [07:46<00:00,  1.16s/it]\n"
     ]
    },
    {
     "name": "stdout",
     "output_type": "stream",
     "text": [
      "Run finished and took 0:07:49.508724.\n",
      "Saving to P_down_SETB1.1000000000000003_P1.6_J3.2.xz\n",
      "Saving to experiment.yaml\n",
      "Starting new run: SETB1.1000000000000003 P1.6 J3.4000000000000004\n",
      "Flushing electrons...\n",
      "Raising P1 and P2...\n",
      "Loading electrons...\n",
      "Reloaded in 94.94247007369995 seconds.\n",
      "Target = 6.0000e-11, tol = 1e-12, initial ST = 3.539483\n",
      "ST = 3.5375e+00, lockin = 6.0840e-11, delta = 7.8583e-13\n",
      "Final ST = 3.53746\n",
      "Started new run P_up_SETB1.1000000000000003_P1.6_J3.4000000000000004\n"
     ]
    },
    {
     "name": "stderr",
     "output_type": "stream",
     "text": [
      "100%|█████████████████████████████████████████████████████████████████████████████████████████████████████████████████████████████████████████| 401/401 [07:49<00:00,  1.17s/it]\n"
     ]
    },
    {
     "name": "stdout",
     "output_type": "stream",
     "text": [
      "Run finished and took 0:07:52.479953.\n",
      "Saving to P_up_SETB1.1000000000000003_P1.6_J3.4000000000000004.xz\n",
      "Saving to experiment.yaml\n",
      "Started new run P_down_SETB1.1000000000000003_P1.6_J3.4000000000000004\n"
     ]
    },
    {
     "name": "stderr",
     "output_type": "stream",
     "text": [
      "100%|█████████████████████████████████████████████████████████████████████████████████████████████████████████████████████████████████████████| 401/401 [07:45<00:00,  1.16s/it]\n"
     ]
    },
    {
     "name": "stdout",
     "output_type": "stream",
     "text": [
      "Run finished and took 0:07:48.753987.\n",
      "Saving to P_down_SETB1.1000000000000003_P1.6_J3.4000000000000004.xz\n",
      "Saving to experiment.yaml\n",
      "Starting new run: SETB1.1000000000000003 P1.6 J3.6000000000000005\n",
      "Flushing electrons...\n",
      "Raising P1 and P2...\n",
      "Loading electrons...\n",
      "Reloaded in 94.89961886405945 seconds.\n",
      "Target = 6.0000e-11, tol = 1e-12, initial ST = 3.53746\n",
      "ST = 3.5345e+00, lockin = 6.2441e-11, delta = 2.2548e-12\n",
      "Final ST = 3.534493\n",
      "Started new run P_up_SETB1.1000000000000003_P1.6_J3.6000000000000005\n"
     ]
    },
    {
     "name": "stderr",
     "output_type": "stream",
     "text": [
      "100%|█████████████████████████████████████████████████████████████████████████████████████████████████████████████████████████████████████████| 401/401 [07:47<00:00,  1.17s/it]\n"
     ]
    },
    {
     "name": "stdout",
     "output_type": "stream",
     "text": [
      "Run finished and took 0:07:50.323960.\n",
      "Saving to P_up_SETB1.1000000000000003_P1.6_J3.6000000000000005.xz\n",
      "Saving to experiment.yaml\n",
      "Started new run P_down_SETB1.1000000000000003_P1.6_J3.6000000000000005\n"
     ]
    },
    {
     "name": "stderr",
     "output_type": "stream",
     "text": [
      "100%|█████████████████████████████████████████████████████████████████████████████████████████████████████████████████████████████████████████| 401/401 [07:45<00:00,  1.16s/it]\n"
     ]
    },
    {
     "name": "stdout",
     "output_type": "stream",
     "text": [
      "Run finished and took 0:07:48.196974.\n",
      "Saving to P_down_SETB1.1000000000000003_P1.6_J3.6000000000000005.xz\n",
      "Saving to experiment.yaml\n",
      "Starting new run: SETB1.1000000000000003 P1.6 J3.8000000000000007\n",
      "Flushing electrons...\n",
      "Raising P1 and P2...\n",
      "Loading electrons...\n",
      "Reloaded in 94.91482448577881 seconds.\n",
      "Target = 6.0000e-11, tol = 1e-12, initial ST = 3.534493\n",
      "ST = 3.5318e+00, lockin = 5.9423e-11, delta = 5.6581e-13\n",
      "Final ST = 3.531752\n",
      "Started new run P_up_SETB1.1000000000000003_P1.6_J3.8000000000000007\n"
     ]
    },
    {
     "name": "stderr",
     "output_type": "stream",
     "text": [
      "100%|█████████████████████████████████████████████████████████████████████████████████████████████████████████████████████████████████████████| 401/401 [07:48<00:00,  1.17s/it]\n"
     ]
    },
    {
     "name": "stdout",
     "output_type": "stream",
     "text": [
      "Run finished and took 0:07:50.678003.\n",
      "Saving to P_up_SETB1.1000000000000003_P1.6_J3.8000000000000007.xz\n",
      "Saving to experiment.yaml\n",
      "Started new run P_down_SETB1.1000000000000003_P1.6_J3.8000000000000007\n"
     ]
    },
    {
     "name": "stderr",
     "output_type": "stream",
     "text": [
      "100%|█████████████████████████████████████████████████████████████████████████████████████████████████████████████████████████████████████████| 401/401 [07:46<00:00,  1.16s/it]\n"
     ]
    },
    {
     "name": "stdout",
     "output_type": "stream",
     "text": [
      "Run finished and took 0:07:48.965448.\n",
      "Saving to P_down_SETB1.1000000000000003_P1.6_J3.8000000000000007.xz\n",
      "Saving to experiment.yaml\n",
      "Starting new run: SETB1.1500000000000004 P1.6 J3.0\n",
      "Flushing electrons...\n",
      "Raising P1 and P2...\n",
      "Loading electrons...\n",
      "Reloaded in 98.08278441429138 seconds.\n",
      "Target = 6.0000e-11, tol = 1e-12, initial ST = 3.531752\n",
      "ST = 3.5388e+00, lockin = 5.9266e-11, delta = 6.5673e-13\n",
      "Final ST = 3.538766\n",
      "Started new run P_up_SETB1.1500000000000004_P1.6_J3.0\n"
     ]
    },
    {
     "name": "stderr",
     "output_type": "stream",
     "text": [
      "100%|█████████████████████████████████████████████████████████████████████████████████████████████████████████████████████████████████████████| 401/401 [07:49<00:00,  1.17s/it]\n"
     ]
    },
    {
     "name": "stdout",
     "output_type": "stream",
     "text": [
      "Run finished and took 0:07:51.555885.\n",
      "Saving to P_up_SETB1.1500000000000004_P1.6_J3.0.xz\n",
      "Saving to experiment.yaml\n",
      "Started new run P_down_SETB1.1500000000000004_P1.6_J3.0\n"
     ]
    },
    {
     "name": "stderr",
     "output_type": "stream",
     "text": [
      "100%|█████████████████████████████████████████████████████████████████████████████████████████████████████████████████████████████████████████| 401/401 [07:46<00:00,  1.16s/it]\n"
     ]
    },
    {
     "name": "stdout",
     "output_type": "stream",
     "text": [
      "Run finished and took 0:07:49.320020.\n",
      "Saving to P_down_SETB1.1500000000000004_P1.6_J3.0.xz\n",
      "Saving to experiment.yaml\n",
      "Starting new run: SETB1.1500000000000004 P1.6 J3.2\n",
      "Flushing electrons...\n",
      "Raising P1 and P2...\n",
      "Loading electrons...\n",
      "Reloaded in 96.87412405014038 seconds.\n",
      "Target = 6.0000e-11, tol = 1e-12, initial ST = 3.538766\n",
      "ST = 3.5393e+00, lockin = 6.0942e-11, delta = 9.4634e-13\n",
      "Final ST = 3.539297\n",
      "Started new run P_up_SETB1.1500000000000004_P1.6_J3.2\n"
     ]
    },
    {
     "name": "stderr",
     "output_type": "stream",
     "text": [
      "100%|█████████████████████████████████████████████████████████████████████████████████████████████████████████████████████████████████████████| 401/401 [07:48<00:00,  1.17s/it]\n"
     ]
    },
    {
     "name": "stdout",
     "output_type": "stream",
     "text": [
      "Run finished and took 0:07:51.108215.\n",
      "Saving to P_up_SETB1.1500000000000004_P1.6_J3.2.xz\n",
      "Saving to experiment.yaml\n",
      "Started new run P_down_SETB1.1500000000000004_P1.6_J3.2\n"
     ]
    },
    {
     "name": "stderr",
     "output_type": "stream",
     "text": [
      "100%|█████████████████████████████████████████████████████████████████████████████████████████████████████████████████████████████████████████| 401/401 [07:47<00:00,  1.17s/it]\n"
     ]
    },
    {
     "name": "stdout",
     "output_type": "stream",
     "text": [
      "Run finished and took 0:07:49.551512.\n",
      "Saving to P_down_SETB1.1500000000000004_P1.6_J3.2.xz\n",
      "Saving to experiment.yaml\n",
      "Starting new run: SETB1.1500000000000004 P1.6 J3.4000000000000004\n",
      "Flushing electrons...\n",
      "Raising P1 and P2...\n",
      "Loading electrons...\n",
      "Reloaded in 96.87513208389282 seconds.\n",
      "Target = 6.0000e-11, tol = 1e-12, initial ST = 3.539297\n",
      "ST = 3.5367e+00, lockin = 5.9481e-11, delta = 5.6812e-13\n",
      "Final ST = 3.536733\n",
      "Started new run P_up_SETB1.1500000000000004_P1.6_J3.4000000000000004\n"
     ]
    },
    {
     "name": "stderr",
     "output_type": "stream",
     "text": [
      "100%|█████████████████████████████████████████████████████████████████████████████████████████████████████████████████████████████████████████| 401/401 [07:48<00:00,  1.17s/it]\n"
     ]
    },
    {
     "name": "stdout",
     "output_type": "stream",
     "text": [
      "Run finished and took 0:07:50.678989.\n",
      "Saving to P_up_SETB1.1500000000000004_P1.6_J3.4000000000000004.xz\n",
      "Saving to experiment.yaml\n",
      "Started new run P_down_SETB1.1500000000000004_P1.6_J3.4000000000000004\n"
     ]
    },
    {
     "name": "stderr",
     "output_type": "stream",
     "text": [
      "100%|█████████████████████████████████████████████████████████████████████████████████████████████████████████████████████████████████████████| 401/401 [07:46<00:00,  1.16s/it]\n"
     ]
    },
    {
     "name": "stdout",
     "output_type": "stream",
     "text": [
      "Run finished and took 0:07:49.257102.\n",
      "Saving to P_down_SETB1.1500000000000004_P1.6_J3.4000000000000004.xz\n",
      "Saving to experiment.yaml\n",
      "Starting new run: SETB1.1500000000000004 P1.6 J3.6000000000000005\n",
      "Flushing electrons...\n",
      "Raising P1 and P2...\n",
      "Loading electrons...\n",
      "Reloaded in 96.8811399936676 seconds.\n",
      "Target = 6.0000e-11, tol = 1e-12, initial ST = 3.536733\n",
      "ST = 3.5343e+00, lockin = 5.8861e-11, delta = 1.1302e-12\n",
      "Final ST = 3.534306\n",
      "Started new run P_up_SETB1.1500000000000004_P1.6_J3.6000000000000005\n"
     ]
    },
    {
     "name": "stderr",
     "output_type": "stream",
     "text": [
      "100%|█████████████████████████████████████████████████████████████████████████████████████████████████████████████████████████████████████████| 401/401 [07:48<00:00,  1.17s/it]\n"
     ]
    },
    {
     "name": "stdout",
     "output_type": "stream",
     "text": [
      "Run finished and took 0:07:50.960535.\n",
      "Saving to P_up_SETB1.1500000000000004_P1.6_J3.6000000000000005.xz\n",
      "Saving to experiment.yaml\n",
      "Started new run P_down_SETB1.1500000000000004_P1.6_J3.6000000000000005\n"
     ]
    },
    {
     "name": "stderr",
     "output_type": "stream",
     "text": [
      "100%|█████████████████████████████████████████████████████████████████████████████████████████████████████████████████████████████████████████| 401/401 [07:46<00:00,  1.16s/it]\n"
     ]
    },
    {
     "name": "stdout",
     "output_type": "stream",
     "text": [
      "Run finished and took 0:07:49.948439.\n",
      "Saving to P_down_SETB1.1500000000000004_P1.6_J3.6000000000000005.xz\n",
      "Saving to experiment.yaml\n",
      "Starting new run: SETB1.1500000000000004 P1.6 J3.8000000000000007\n",
      "Flushing electrons...\n",
      "Raising P1 and P2...\n",
      "Loading electrons...\n",
      "Reloaded in 96.88716125488281 seconds.\n",
      "Target = 6.0000e-11, tol = 1e-12, initial ST = 3.534306\n",
      "ST = 3.5314e+00, lockin = 6.0373e-11, delta = 2.1456e-13\n",
      "Final ST = 3.531408\n",
      "Started new run P_up_SETB1.1500000000000004_P1.6_J3.8000000000000007\n"
     ]
    },
    {
     "name": "stderr",
     "output_type": "stream",
     "text": [
      "100%|█████████████████████████████████████████████████████████████████████████████████████████████████████████████████████████████████████████| 401/401 [07:48<00:00,  1.17s/it]\n"
     ]
    },
    {
     "name": "stdout",
     "output_type": "stream",
     "text": [
      "Run finished and took 0:07:50.874230.\n",
      "Saving to P_up_SETB1.1500000000000004_P1.6_J3.8000000000000007.xz\n",
      "Saving to experiment.yaml\n",
      "Started new run P_down_SETB1.1500000000000004_P1.6_J3.8000000000000007\n"
     ]
    },
    {
     "name": "stderr",
     "output_type": "stream",
     "text": [
      "100%|█████████████████████████████████████████████████████████████████████████████████████████████████████████████████████████████████████████| 401/401 [07:46<00:00,  1.16s/it]\n"
     ]
    },
    {
     "name": "stdout",
     "output_type": "stream",
     "text": [
      "Run finished and took 0:07:49.398314.\n",
      "Saving to P_down_SETB1.1500000000000004_P1.6_J3.8000000000000007.xz\n",
      "Saving to experiment.yaml\n",
      "Starting new run: SETB1.2000000000000004 P1.6 J3.0\n",
      "Flushing electrons...\n",
      "Raising P1 and P2...\n",
      "Loading electrons...\n",
      "Reloaded in 100.03028082847595 seconds.\n",
      "Target = 6.0000e-11, tol = 1e-12, initial ST = 3.531408\n",
      "ST = 3.5380e+00, lockin = 5.9677e-11, delta = 4.0452e-13\n",
      "Final ST = 3.537961\n",
      "Started new run P_up_SETB1.2000000000000004_P1.6_J3.0\n"
     ]
    },
    {
     "name": "stderr",
     "output_type": "stream",
     "text": [
      "100%|█████████████████████████████████████████████████████████████████████████████████████████████████████████████████████████████████████████| 401/401 [07:50<00:00,  1.17s/it]\n"
     ]
    },
    {
     "name": "stdout",
     "output_type": "stream",
     "text": [
      "Run finished and took 0:07:52.694363.\n",
      "Saving to P_up_SETB1.2000000000000004_P1.6_J3.0.xz\n",
      "Saving to experiment.yaml\n",
      "Started new run P_down_SETB1.2000000000000004_P1.6_J3.0\n"
     ]
    },
    {
     "name": "stderr",
     "output_type": "stream",
     "text": [
      "100%|█████████████████████████████████████████████████████████████████████████████████████████████████████████████████████████████████████████| 401/401 [07:46<00:00,  1.16s/it]\n"
     ]
    },
    {
     "name": "stdout",
     "output_type": "stream",
     "text": [
      "Run finished and took 0:07:48.448062.\n",
      "Saving to P_down_SETB1.2000000000000004_P1.6_J3.0.xz\n",
      "Saving to experiment.yaml\n",
      "Starting new run: SETB1.2000000000000004 P1.6 J3.2\n",
      "Flushing electrons...\n",
      "Raising P1 and P2...\n",
      "Loading electrons...\n",
      "Reloaded in 98.84173369407654 seconds.\n",
      "Target = 6.0000e-11, tol = 1e-12, initial ST = 3.537961\n",
      "ST = 3.5392e+00, lockin = 5.7718e-11, delta = 2.0900e-12\n",
      "Final ST = 3.539169\n",
      "Started new run P_up_SETB1.2000000000000004_P1.6_J3.2\n"
     ]
    },
    {
     "name": "stderr",
     "output_type": "stream",
     "text": [
      "100%|█████████████████████████████████████████████████████████████████████████████████████████████████████████████████████████████████████████| 401/401 [07:48<00:00,  1.17s/it]\n"
     ]
    },
    {
     "name": "stdout",
     "output_type": "stream",
     "text": [
      "Run finished and took 0:07:51.308593.\n",
      "Saving to P_up_SETB1.2000000000000004_P1.6_J3.2.xz\n",
      "Saving to experiment.yaml\n",
      "Started new run P_down_SETB1.2000000000000004_P1.6_J3.2\n"
     ]
    },
    {
     "name": "stderr",
     "output_type": "stream",
     "text": [
      "100%|█████████████████████████████████████████████████████████████████████████████████████████████████████████████████████████████████████████| 401/401 [07:46<00:00,  1.16s/it]\n"
     ]
    },
    {
     "name": "stdout",
     "output_type": "stream",
     "text": [
      "Run finished and took 0:07:49.270344.\n",
      "Saving to P_down_SETB1.2000000000000004_P1.6_J3.2.xz\n",
      "Saving to experiment.yaml\n",
      "Starting new run: SETB1.2000000000000004 P1.6 J3.4000000000000004\n",
      "Flushing electrons...\n",
      "Raising P1 and P2...\n",
      "Loading electrons...\n",
      "Reloaded in 98.86746644973755 seconds.\n",
      "Target = 6.0000e-11, tol = 1e-12, initial ST = 3.539169\n",
      "ST = 3.5371e+00, lockin = 6.0814e-11, delta = 7.3845e-13\n",
      "Final ST = 3.537106\n",
      "Started new run P_up_SETB1.2000000000000004_P1.6_J3.4000000000000004\n"
     ]
    },
    {
     "name": "stderr",
     "output_type": "stream",
     "text": [
      "100%|█████████████████████████████████████████████████████████████████████████████████████████████████████████████████████████████████████████| 401/401 [07:48<00:00,  1.17s/it]\n"
     ]
    },
    {
     "name": "stdout",
     "output_type": "stream",
     "text": [
      "Run finished and took 0:07:51.743046.\n",
      "Saving to P_up_SETB1.2000000000000004_P1.6_J3.4000000000000004.xz\n",
      "Saving to experiment.yaml\n",
      "Started new run P_down_SETB1.2000000000000004_P1.6_J3.4000000000000004\n"
     ]
    },
    {
     "name": "stderr",
     "output_type": "stream",
     "text": [
      "100%|█████████████████████████████████████████████████████████████████████████████████████████████████████████████████████████████████████████| 401/401 [07:46<00:00,  1.16s/it]\n"
     ]
    },
    {
     "name": "stdout",
     "output_type": "stream",
     "text": [
      "Run finished and took 0:07:49.367765.\n",
      "Saving to P_down_SETB1.2000000000000004_P1.6_J3.4000000000000004.xz\n",
      "Saving to experiment.yaml\n",
      "Starting new run: SETB1.2000000000000004 P1.6 J3.6000000000000005\n",
      "Flushing electrons...\n",
      "Raising P1 and P2...\n",
      "Loading electrons...\n",
      "Reloaded in 99.02943754196167 seconds.\n",
      "Target = 6.0000e-11, tol = 1e-12, initial ST = 3.537106\n",
      "ST = 3.5342e+00, lockin = 6.0308e-11, delta = 2.6512e-13\n",
      "Final ST = 3.534198\n",
      "Started new run P_up_SETB1.2000000000000004_P1.6_J3.6000000000000005\n"
     ]
    },
    {
     "name": "stderr",
     "output_type": "stream",
     "text": [
      "100%|█████████████████████████████████████████████████████████████████████████████████████████████████████████████████████████████████████████| 401/401 [07:48<00:00,  1.17s/it]\n"
     ]
    },
    {
     "name": "stdout",
     "output_type": "stream",
     "text": [
      "Run finished and took 0:07:51.693692.\n",
      "Saving to P_up_SETB1.2000000000000004_P1.6_J3.6000000000000005.xz\n",
      "Saving to experiment.yaml\n",
      "Started new run P_down_SETB1.2000000000000004_P1.6_J3.6000000000000005\n"
     ]
    },
    {
     "name": "stderr",
     "output_type": "stream",
     "text": [
      "100%|█████████████████████████████████████████████████████████████████████████████████████████████████████████████████████████████████████████| 401/401 [07:47<00:00,  1.17s/it]\n"
     ]
    },
    {
     "name": "stdout",
     "output_type": "stream",
     "text": [
      "Run finished and took 0:07:50.599718.\n",
      "Saving to P_down_SETB1.2000000000000004_P1.6_J3.6000000000000005.xz\n",
      "Saving to experiment.yaml\n",
      "Starting new run: SETB1.2000000000000004 P1.6 J3.8000000000000007\n",
      "Flushing electrons...\n",
      "Raising P1 and P2...\n",
      "Loading electrons...\n",
      "Reloaded in 98.83133745193481 seconds.\n",
      "Target = 6.0000e-11, tol = 1e-12, initial ST = 3.534198\n",
      "ST = 3.5310e+00, lockin = 5.9698e-11, delta = 3.5624e-13\n",
      "Final ST = 3.530956\n",
      "Started new run P_up_SETB1.2000000000000004_P1.6_J3.8000000000000007\n"
     ]
    },
    {
     "name": "stderr",
     "output_type": "stream",
     "text": [
      "100%|█████████████████████████████████████████████████████████████████████████████████████████████████████████████████████████████████████████| 401/401 [07:48<00:00,  1.17s/it]\n"
     ]
    },
    {
     "name": "stdout",
     "output_type": "stream",
     "text": [
      "Run finished and took 0:07:51.273566.\n",
      "Saving to P_up_SETB1.2000000000000004_P1.6_J3.8000000000000007.xz\n",
      "Saving to experiment.yaml\n",
      "Started new run P_down_SETB1.2000000000000004_P1.6_J3.8000000000000007\n"
     ]
    },
    {
     "name": "stderr",
     "output_type": "stream",
     "text": [
      "100%|█████████████████████████████████████████████████████████████████████████████████████████████████████████████████████████████████████████| 401/401 [07:46<00:00,  1.16s/it]\n"
     ]
    },
    {
     "name": "stdout",
     "output_type": "stream",
     "text": [
      "Run finished and took 0:07:49.670914.\n",
      "Saving to P_down_SETB1.2000000000000004_P1.6_J3.8000000000000007.xz\n",
      "Saving to experiment.yaml\n",
      "Starting new run: SETB1.2500000000000004 P1.6 J3.0\n",
      "Flushing electrons...\n",
      "Raising P1 and P2...\n",
      "Loading electrons...\n",
      "Reloaded in 101.98224520683289 seconds.\n",
      "Target = 6.0000e-11, tol = 1e-12, initial ST = 3.530956\n",
      "ST = 3.5372e+00, lockin = 5.8578e-11, delta = 1.3170e-12\n",
      "Final ST = 3.537194\n",
      "Started new run P_up_SETB1.2500000000000004_P1.6_J3.0\n"
     ]
    },
    {
     "name": "stderr",
     "output_type": "stream",
     "text": [
      "100%|█████████████████████████████████████████████████████████████████████████████████████████████████████████████████████████████████████████| 401/401 [07:49<00:00,  1.17s/it]\n"
     ]
    },
    {
     "name": "stdout",
     "output_type": "stream",
     "text": [
      "Run finished and took 0:07:52.261590.\n",
      "Saving to P_up_SETB1.2500000000000004_P1.6_J3.0.xz\n",
      "Saving to experiment.yaml\n",
      "Started new run P_down_SETB1.2500000000000004_P1.6_J3.0\n"
     ]
    },
    {
     "name": "stderr",
     "output_type": "stream",
     "text": [
      "100%|█████████████████████████████████████████████████████████████████████████████████████████████████████████████████████████████████████████| 401/401 [07:46<00:00,  1.16s/it]\n"
     ]
    },
    {
     "name": "stdout",
     "output_type": "stream",
     "text": [
      "Run finished and took 0:07:49.048440.\n",
      "Saving to P_down_SETB1.2500000000000004_P1.6_J3.0.xz\n",
      "Saving to experiment.yaml\n",
      "Starting new run: SETB1.2500000000000004 P1.6 J3.2\n",
      "Flushing electrons...\n",
      "Raising P1 and P2...\n",
      "Loading electrons...\n",
      "Reloaded in 100.80648565292358 seconds.\n",
      "Target = 6.0000e-11, tol = 1e-12, initial ST = 3.537194\n",
      "ST = 3.5383e+00, lockin = 6.0512e-11, delta = 5.3270e-13\n",
      "Final ST = 3.538334\n",
      "Started new run P_up_SETB1.2500000000000004_P1.6_J3.2\n"
     ]
    },
    {
     "name": "stderr",
     "output_type": "stream",
     "text": [
      "100%|█████████████████████████████████████████████████████████████████████████████████████████████████████████████████████████████████████████| 401/401 [07:48<00:00,  1.17s/it]\n"
     ]
    },
    {
     "name": "stdout",
     "output_type": "stream",
     "text": [
      "Run finished and took 0:07:50.644315.\n",
      "Saving to P_up_SETB1.2500000000000004_P1.6_J3.2.xz\n",
      "Saving to experiment.yaml\n",
      "Started new run P_down_SETB1.2500000000000004_P1.6_J3.2\n"
     ]
    },
    {
     "name": "stderr",
     "output_type": "stream",
     "text": [
      "100%|█████████████████████████████████████████████████████████████████████████████████████████████████████████████████████████████████████████| 401/401 [07:46<00:00,  1.16s/it]\n"
     ]
    },
    {
     "name": "stdout",
     "output_type": "stream",
     "text": [
      "Run finished and took 0:07:48.815060.\n",
      "Saving to P_down_SETB1.2500000000000004_P1.6_J3.2.xz\n",
      "Saving to experiment.yaml\n",
      "Starting new run: SETB1.2500000000000004 P1.6 J3.4000000000000004\n",
      "Flushing electrons...\n",
      "Raising P1 and P2...\n",
      "Loading electrons...\n",
      "Reloaded in 100.79397106170654 seconds.\n",
      "Target = 6.0000e-11, tol = 1e-12, initial ST = 3.538334\n",
      "ST = 3.5361e+00, lockin = 5.8546e-11, delta = 1.2342e-12\n",
      "Final ST = 3.536064\n",
      "Started new run P_up_SETB1.2500000000000004_P1.6_J3.4000000000000004\n"
     ]
    },
    {
     "name": "stderr",
     "output_type": "stream",
     "text": [
      "100%|█████████████████████████████████████████████████████████████████████████████████████████████████████████████████████████████████████████| 401/401 [07:49<00:00,  1.17s/it]\n"
     ]
    },
    {
     "name": "stdout",
     "output_type": "stream",
     "text": [
      "Run finished and took 0:07:52.426080.\n",
      "Saving to P_up_SETB1.2500000000000004_P1.6_J3.4000000000000004.xz\n",
      "Saving to experiment.yaml\n",
      "Started new run P_down_SETB1.2500000000000004_P1.6_J3.4000000000000004\n"
     ]
    },
    {
     "name": "stderr",
     "output_type": "stream",
     "text": [
      "100%|█████████████████████████████████████████████████████████████████████████████████████████████████████████████████████████████████████████| 401/401 [07:45<00:00,  1.16s/it]\n"
     ]
    },
    {
     "name": "stdout",
     "output_type": "stream",
     "text": [
      "Run finished and took 0:07:48.288718.\n",
      "Saving to P_down_SETB1.2500000000000004_P1.6_J3.4000000000000004.xz\n",
      "Saving to experiment.yaml\n",
      "Starting new run: SETB1.2500000000000004 P1.6 J3.6000000000000005\n",
      "Flushing electrons...\n",
      "Raising P1 and P2...\n",
      "Loading electrons...\n",
      "Reloaded in 100.80448484420776 seconds.\n",
      "Target = 6.0000e-11, tol = 1e-12, initial ST = 3.536064\n",
      "ST = 3.5328e+00, lockin = 6.1944e-11, delta = 1.7770e-12\n",
      "Final ST = 3.532822\n",
      "Started new run P_up_SETB1.2500000000000004_P1.6_J3.6000000000000005\n"
     ]
    },
    {
     "name": "stderr",
     "output_type": "stream",
     "text": [
      "100%|█████████████████████████████████████████████████████████████████████████████████████████████████████████████████████████████████████████| 401/401 [07:48<00:00,  1.17s/it]\n"
     ]
    },
    {
     "name": "stdout",
     "output_type": "stream",
     "text": [
      "Run finished and took 0:07:51.643307.\n",
      "Saving to P_up_SETB1.2500000000000004_P1.6_J3.6000000000000005.xz\n",
      "Saving to experiment.yaml\n",
      "Started new run P_down_SETB1.2500000000000004_P1.6_J3.6000000000000005\n"
     ]
    },
    {
     "name": "stderr",
     "output_type": "stream",
     "text": [
      "100%|█████████████████████████████████████████████████████████████████████████████████████████████████████████████████████████████████████████| 401/401 [07:45<00:00,  1.16s/it]\n"
     ]
    },
    {
     "name": "stdout",
     "output_type": "stream",
     "text": [
      "Run finished and took 0:07:48.405118.\n",
      "Saving to P_down_SETB1.2500000000000004_P1.6_J3.6000000000000005.xz\n",
      "Saving to experiment.yaml\n",
      "Starting new run: SETB1.2500000000000004 P1.6 J3.8000000000000007\n",
      "Flushing electrons...\n",
      "Raising P1 and P2...\n",
      "Loading electrons...\n",
      "Reloaded in 101.11030650138855 seconds.\n",
      "Target = 6.0000e-11, tol = 1e-12, initial ST = 3.532822\n",
      "ST = 3.5299e+00, lockin = 6.1424e-11, delta = 1.1765e-12\n",
      "Final ST = 3.529875\n",
      "Started new run P_up_SETB1.2500000000000004_P1.6_J3.8000000000000007\n"
     ]
    },
    {
     "name": "stderr",
     "output_type": "stream",
     "text": [
      "100%|█████████████████████████████████████████████████████████████████████████████████████████████████████████████████████████████████████████| 401/401 [07:48<00:00,  1.17s/it]\n"
     ]
    },
    {
     "name": "stdout",
     "output_type": "stream",
     "text": [
      "Run finished and took 0:07:50.827780.\n",
      "Saving to P_up_SETB1.2500000000000004_P1.6_J3.8000000000000007.xz\n",
      "Saving to experiment.yaml\n",
      "Started new run P_down_SETB1.2500000000000004_P1.6_J3.8000000000000007\n"
     ]
    },
    {
     "name": "stderr",
     "output_type": "stream",
     "text": [
      "100%|█████████████████████████████████████████████████████████████████████████████████████████████████████████████████████████████████████████| 401/401 [07:46<00:00,  1.16s/it]\n"
     ]
    },
    {
     "name": "stdout",
     "output_type": "stream",
     "text": [
      "Run finished and took 0:07:49.166037.\n",
      "Saving to P_down_SETB1.2500000000000004_P1.6_J3.8000000000000007.xz\n",
      "Saving to experiment.yaml\n",
      "Starting new run: SETB0.8 P1.7000000000000002 J3.0\n",
      "Flushing electrons...\n",
      "Raising P1 and P2...\n",
      "Loading electrons...\n",
      "Reloaded in 88.23184561729431 seconds.\n",
      "Target = 6.0000e-11, tol = 1e-12, initial ST = 3.529875\n",
      "ST = 3.5277e+00, lockin = 5.9870e-11, delta = 5.9794e-14\n",
      "Final ST = 3.527704\n",
      "Started new run P_up_SETB0.8_P1.7000000000000002_J3.0\n"
     ]
    },
    {
     "name": "stderr",
     "output_type": "stream",
     "text": [
      "100%|█████████████████████████████████████████████████████████████████████████████████████████████████████████████████████████████████████████| 401/401 [07:46<00:00,  1.16s/it]\n"
     ]
    },
    {
     "name": "stdout",
     "output_type": "stream",
     "text": [
      "Run finished and took 0:07:49.002162.\n",
      "Saving to P_up_SETB0.8_P1.7000000000000002_J3.0.xz\n",
      "Saving to experiment.yaml\n",
      "Started new run P_down_SETB0.8_P1.7000000000000002_J3.0\n"
     ]
    },
    {
     "name": "stderr",
     "output_type": "stream",
     "text": [
      "100%|█████████████████████████████████████████████████████████████████████████████████████████████████████████████████████████████████████████| 401/401 [07:46<00:00,  1.16s/it]\n"
     ]
    },
    {
     "name": "stdout",
     "output_type": "stream",
     "text": [
      "Run finished and took 0:07:49.096129.\n",
      "Saving to P_down_SETB0.8_P1.7000000000000002_J3.0.xz\n",
      "Saving to experiment.yaml\n",
      "Starting new run: SETB0.8 P1.7000000000000002 J3.2\n",
      "Flushing electrons...\n",
      "Raising P1 and P2...\n",
      "Loading electrons...\n",
      "Reloaded in 89.03229403495789 seconds.\n",
      "Target = 6.0000e-11, tol = 1e-12, initial ST = 3.527704\n",
      "ST = 3.5250e+00, lockin = 5.9963e-11, delta = 1.3536e-14\n",
      "Final ST = 3.525041\n",
      "Started new run P_up_SETB0.8_P1.7000000000000002_J3.2\n"
     ]
    },
    {
     "name": "stderr",
     "output_type": "stream",
     "text": [
      "100%|█████████████████████████████████████████████████████████████████████████████████████████████████████████████████████████████████████████| 401/401 [07:48<00:00,  1.17s/it]\n"
     ]
    },
    {
     "name": "stdout",
     "output_type": "stream",
     "text": [
      "Run finished and took 0:07:50.319917.\n",
      "Saving to P_up_SETB0.8_P1.7000000000000002_J3.2.xz\n",
      "Saving to experiment.yaml\n",
      "Started new run P_down_SETB0.8_P1.7000000000000002_J3.2\n"
     ]
    },
    {
     "name": "stderr",
     "output_type": "stream",
     "text": [
      "100%|█████████████████████████████████████████████████████████████████████████████████████████████████████████████████████████████████████████| 401/401 [07:47<00:00,  1.17s/it]\n"
     ]
    },
    {
     "name": "stdout",
     "output_type": "stream",
     "text": [
      "Run finished and took 0:07:49.661571.\n",
      "Saving to P_down_SETB0.8_P1.7000000000000002_J3.2.xz\n",
      "Saving to experiment.yaml\n",
      "Starting new run: SETB0.8 P1.7000000000000002 J3.4000000000000004\n",
      "Flushing electrons...\n",
      "Raising P1 and P2...\n",
      "Loading electrons...\n",
      "Reloaded in 89.01911354064941 seconds.\n",
      "Target = 6.0000e-11, tol = 1e-12, initial ST = 3.525041\n",
      "ST = 3.5233e+00, lockin = 6.0765e-11, delta = 7.1355e-13\n",
      "Final ST = 3.523253\n",
      "Started new run P_up_SETB0.8_P1.7000000000000002_J3.4000000000000004\n"
     ]
    },
    {
     "name": "stderr",
     "output_type": "stream",
     "text": [
      "100%|█████████████████████████████████████████████████████████████████████████████████████████████████████████████████████████████████████████| 401/401 [07:47<00:00,  1.17s/it]\n"
     ]
    },
    {
     "name": "stdout",
     "output_type": "stream",
     "text": [
      "Run finished and took 0:07:50.344135.\n",
      "Saving to P_up_SETB0.8_P1.7000000000000002_J3.4000000000000004.xz\n",
      "Saving to experiment.yaml\n",
      "Started new run P_down_SETB0.8_P1.7000000000000002_J3.4000000000000004\n"
     ]
    },
    {
     "name": "stderr",
     "output_type": "stream",
     "text": [
      "100%|█████████████████████████████████████████████████████████████████████████████████████████████████████████████████████████████████████████| 401/401 [07:45<00:00,  1.16s/it]\n"
     ]
    },
    {
     "name": "stdout",
     "output_type": "stream",
     "text": [
      "Run finished and took 0:07:48.507901.\n",
      "Saving to P_down_SETB0.8_P1.7000000000000002_J3.4000000000000004.xz\n",
      "Saving to experiment.yaml\n",
      "Starting new run: SETB0.8 P1.7000000000000002 J3.6000000000000005\n",
      "Flushing electrons...\n",
      "Raising P1 and P2...\n",
      "Loading electrons...\n",
      "Reloaded in 89.0171709060669 seconds.\n",
      "Target = 6.0000e-11, tol = 1e-12, initial ST = 3.523253\n",
      "ST = 3.5202e+00, lockin = 6.2808e-11, delta = 2.6595e-12\n",
      "Final ST = 3.520159\n",
      "Started new run P_up_SETB0.8_P1.7000000000000002_J3.6000000000000005\n"
     ]
    },
    {
     "name": "stderr",
     "output_type": "stream",
     "text": [
      "100%|█████████████████████████████████████████████████████████████████████████████████████████████████████████████████████████████████████████| 401/401 [07:47<00:00,  1.17s/it]\n"
     ]
    },
    {
     "name": "stdout",
     "output_type": "stream",
     "text": [
      "Run finished and took 0:07:50.745365.\n",
      "Saving to P_up_SETB0.8_P1.7000000000000002_J3.6000000000000005.xz\n",
      "Saving to experiment.yaml\n",
      "Started new run P_down_SETB0.8_P1.7000000000000002_J3.6000000000000005\n"
     ]
    },
    {
     "name": "stderr",
     "output_type": "stream",
     "text": [
      "100%|█████████████████████████████████████████████████████████████████████████████████████████████████████████████████████████████████████████| 401/401 [07:47<00:00,  1.16s/it]\n"
     ]
    },
    {
     "name": "stdout",
     "output_type": "stream",
     "text": [
      "Run finished and took 0:07:49.987944.\n",
      "Saving to P_down_SETB0.8_P1.7000000000000002_J3.6000000000000005.xz\n",
      "Saving to experiment.yaml\n",
      "Starting new run: SETB0.8 P1.7000000000000002 J3.8000000000000007\n",
      "Flushing electrons...\n",
      "Raising P1 and P2...\n",
      "Loading electrons...\n",
      "Reloaded in 89.05443334579468 seconds.\n",
      "Target = 6.0000e-11, tol = 1e-12, initial ST = 3.520159\n",
      "ST = 3.5163e+00, lockin = 6.1513e-11, delta = 1.4114e-12\n",
      "Final ST = 3.516258\n",
      "Started new run P_up_SETB0.8_P1.7000000000000002_J3.8000000000000007\n"
     ]
    },
    {
     "name": "stderr",
     "output_type": "stream",
     "text": [
      "100%|█████████████████████████████████████████████████████████████████████████████████████████████████████████████████████████████████████████| 401/401 [07:46<00:00,  1.16s/it]\n"
     ]
    },
    {
     "name": "stdout",
     "output_type": "stream",
     "text": [
      "Run finished and took 0:07:49.570529.\n",
      "Saving to P_up_SETB0.8_P1.7000000000000002_J3.8000000000000007.xz\n",
      "Saving to experiment.yaml\n",
      "Started new run P_down_SETB0.8_P1.7000000000000002_J3.8000000000000007\n"
     ]
    },
    {
     "name": "stderr",
     "output_type": "stream",
     "text": [
      "100%|█████████████████████████████████████████████████████████████████████████████████████████████████████████████████████████████████████████| 401/401 [07:46<00:00,  1.16s/it]\n"
     ]
    },
    {
     "name": "stdout",
     "output_type": "stream",
     "text": [
      "Run finished and took 0:07:49.170713.\n",
      "Saving to P_down_SETB0.8_P1.7000000000000002_J3.8000000000000007.xz\n",
      "Saving to experiment.yaml\n",
      "Starting new run: SETB0.8500000000000001 P1.7000000000000002 J3.0\n",
      "Flushing electrons...\n",
      "Raising P1 and P2...\n",
      "Loading electrons...\n",
      "Reloaded in 92.16020560264587 seconds.\n",
      "Target = 6.0000e-11, tol = 1e-12, initial ST = 3.516258\n",
      "ST = 3.5257e+00, lockin = 5.9585e-11, delta = 4.3254e-13\n",
      "Final ST = 3.525719\n",
      "Started new run P_up_SETB0.8500000000000001_P1.7000000000000002_J3.0\n"
     ]
    },
    {
     "name": "stderr",
     "output_type": "stream",
     "text": [
      "100%|█████████████████████████████████████████████████████████████████████████████████████████████████████████████████████████████████████████| 401/401 [07:46<00:00,  1.16s/it]\n"
     ]
    },
    {
     "name": "stdout",
     "output_type": "stream",
     "text": [
      "Run finished and took 0:07:49.063222.\n",
      "Saving to P_up_SETB0.8500000000000001_P1.7000000000000002_J3.0.xz\n",
      "Saving to experiment.yaml\n",
      "Started new run P_down_SETB0.8500000000000001_P1.7000000000000002_J3.0\n"
     ]
    },
    {
     "name": "stderr",
     "output_type": "stream",
     "text": [
      "100%|█████████████████████████████████████████████████████████████████████████████████████████████████████████████████████████████████████████| 401/401 [07:46<00:00,  1.16s/it]\n"
     ]
    },
    {
     "name": "stdout",
     "output_type": "stream",
     "text": [
      "Run finished and took 0:07:48.956427.\n",
      "Saving to P_down_SETB0.8500000000000001_P1.7000000000000002_J3.0.xz\n",
      "Saving to experiment.yaml\n",
      "Starting new run: SETB0.8500000000000001 P1.7000000000000002 J3.2\n",
      "Flushing electrons...\n",
      "Raising P1 and P2...\n",
      "Loading electrons...\n",
      "Reloaded in 90.9752471446991 seconds.\n",
      "Target = 6.0000e-11, tol = 1e-12, initial ST = 3.525719\n",
      "ST = 3.5270e+00, lockin = 5.9912e-11, delta = 4.1365e-14\n",
      "Final ST = 3.527016\n",
      "Started new run P_up_SETB0.8500000000000001_P1.7000000000000002_J3.2\n"
     ]
    },
    {
     "name": "stderr",
     "output_type": "stream",
     "text": [
      "100%|█████████████████████████████████████████████████████████████████████████████████████████████████████████████████████████████████████████| 401/401 [07:46<00:00,  1.16s/it]\n"
     ]
    },
    {
     "name": "stdout",
     "output_type": "stream",
     "text": [
      "Run finished and took 0:07:49.508479.\n",
      "Saving to P_up_SETB0.8500000000000001_P1.7000000000000002_J3.2.xz\n",
      "Saving to experiment.yaml\n",
      "Started new run P_down_SETB0.8500000000000001_P1.7000000000000002_J3.2\n"
     ]
    },
    {
     "name": "stderr",
     "output_type": "stream",
     "text": [
      "100%|█████████████████████████████████████████████████████████████████████████████████████████████████████████████████████████████████████████| 401/401 [07:46<00:00,  1.16s/it]\n"
     ]
    },
    {
     "name": "stdout",
     "output_type": "stream",
     "text": [
      "Run finished and took 0:07:48.984590.\n",
      "Saving to P_down_SETB0.8500000000000001_P1.7000000000000002_J3.2.xz\n",
      "Saving to experiment.yaml\n",
      "Starting new run: SETB0.8500000000000001 P1.7000000000000002 J3.4000000000000004\n",
      "Flushing electrons...\n",
      "Raising P1 and P2...\n",
      "Loading electrons...\n",
      "Reloaded in 90.98771834373474 seconds.\n",
      "Target = 6.0000e-11, tol = 1e-12, initial ST = 3.527016\n",
      "ST = 3.5236e+00, lockin = 5.8200e-11, delta = 1.6641e-12\n",
      "Final ST = 3.523558\n",
      "Started new run P_up_SETB0.8500000000000001_P1.7000000000000002_J3.4000000000000004\n"
     ]
    },
    {
     "name": "stderr",
     "output_type": "stream",
     "text": [
      "100%|█████████████████████████████████████████████████████████████████████████████████████████████████████████████████████████████████████████| 401/401 [07:46<00:00,  1.16s/it]\n"
     ]
    },
    {
     "name": "stdout",
     "output_type": "stream",
     "text": [
      "Run finished and took 0:07:49.949474.\n",
      "Saving to P_up_SETB0.8500000000000001_P1.7000000000000002_J3.4000000000000004.xz\n",
      "Saving to experiment.yaml\n",
      "Started new run P_down_SETB0.8500000000000001_P1.7000000000000002_J3.4000000000000004\n"
     ]
    },
    {
     "name": "stderr",
     "output_type": "stream",
     "text": [
      "100%|█████████████████████████████████████████████████████████████████████████████████████████████████████████████████████████████████████████| 401/401 [07:46<00:00,  1.16s/it]\n"
     ]
    },
    {
     "name": "stdout",
     "output_type": "stream",
     "text": [
      "Run finished and took 0:07:49.403775.\n",
      "Saving to P_down_SETB0.8500000000000001_P1.7000000000000002_J3.4000000000000004.xz\n",
      "Saving to experiment.yaml\n",
      "Starting new run: SETB0.8500000000000001 P1.7000000000000002 J3.6000000000000005\n",
      "Flushing electrons...\n",
      "Raising P1 and P2...\n",
      "Loading electrons...\n",
      "Reloaded in 91.14395642280579 seconds.\n",
      "Target = 6.0000e-11, tol = 1e-12, initial ST = 3.523558\n",
      "ST = 3.5201e+00, lockin = 6.2131e-11, delta = 1.9277e-12\n",
      "Final ST = 3.52011\n",
      "Started new run P_up_SETB0.8500000000000001_P1.7000000000000002_J3.6000000000000005\n"
     ]
    },
    {
     "name": "stderr",
     "output_type": "stream",
     "text": [
      "100%|█████████████████████████████████████████████████████████████████████████████████████████████████████████████████████████████████████████| 401/401 [07:47<00:00,  1.16s/it]\n"
     ]
    },
    {
     "name": "stdout",
     "output_type": "stream",
     "text": [
      "Run finished and took 0:07:50.335665.\n",
      "Saving to P_up_SETB0.8500000000000001_P1.7000000000000002_J3.6000000000000005.xz\n",
      "Saving to experiment.yaml\n",
      "Started new run P_down_SETB0.8500000000000001_P1.7000000000000002_J3.6000000000000005\n"
     ]
    },
    {
     "name": "stderr",
     "output_type": "stream",
     "text": [
      "100%|█████████████████████████████████████████████████████████████████████████████████████████████████████████████████████████████████████████| 401/401 [07:45<00:00,  1.16s/it]\n"
     ]
    },
    {
     "name": "stdout",
     "output_type": "stream",
     "text": [
      "Run finished and took 0:07:48.988685.\n",
      "Saving to P_down_SETB0.8500000000000001_P1.7000000000000002_J3.6000000000000005.xz\n",
      "Saving to experiment.yaml\n",
      "Starting new run: SETB0.8500000000000001 P1.7000000000000002 J3.8000000000000007\n",
      "Flushing electrons...\n",
      "Raising P1 and P2...\n",
      "Loading electrons...\n",
      "Reloaded in 91.00957989692688 seconds.\n",
      "Target = 6.0000e-11, tol = 1e-12, initial ST = 3.52011\n",
      "ST = 3.5163e+00, lockin = 6.0507e-11, delta = 4.1358e-13\n",
      "Final ST = 3.516308\n",
      "Started new run P_up_SETB0.8500000000000001_P1.7000000000000002_J3.8000000000000007\n"
     ]
    },
    {
     "name": "stderr",
     "output_type": "stream",
     "text": [
      "100%|█████████████████████████████████████████████████████████████████████████████████████████████████████████████████████████████████████████| 401/401 [07:47<00:00,  1.17s/it]\n"
     ]
    },
    {
     "name": "stdout",
     "output_type": "stream",
     "text": [
      "Run finished and took 0:07:50.570099.\n",
      "Saving to P_up_SETB0.8500000000000001_P1.7000000000000002_J3.8000000000000007.xz\n",
      "Saving to experiment.yaml\n",
      "Started new run P_down_SETB0.8500000000000001_P1.7000000000000002_J3.8000000000000007\n"
     ]
    },
    {
     "name": "stderr",
     "output_type": "stream",
     "text": [
      "100%|█████████████████████████████████████████████████████████████████████████████████████████████████████████████████████████████████████████| 401/401 [07:46<00:00,  1.16s/it]\n"
     ]
    },
    {
     "name": "stdout",
     "output_type": "stream",
     "text": [
      "Run finished and took 0:07:49.777079.\n",
      "Saving to P_down_SETB0.8500000000000001_P1.7000000000000002_J3.8000000000000007.xz\n",
      "Saving to experiment.yaml\n",
      "Starting new run: SETB0.9000000000000001 P1.7000000000000002 J3.0\n",
      "Flushing electrons...\n",
      "Raising P1 and P2...\n",
      "Loading electrons...\n",
      "Reloaded in 94.15788745880127 seconds.\n",
      "Target = 6.0000e-11, tol = 1e-12, initial ST = 3.516308\n",
      "ST = 3.5278e+00, lockin = 6.0188e-11, delta = 2.2818e-13\n",
      "Final ST = 3.527782\n",
      "Started new run P_up_SETB0.9000000000000001_P1.7000000000000002_J3.0\n"
     ]
    },
    {
     "name": "stderr",
     "output_type": "stream",
     "text": [
      "100%|█████████████████████████████████████████████████████████████████████████████████████████████████████████████████████████████████████████| 401/401 [07:46<00:00,  1.16s/it]\n"
     ]
    },
    {
     "name": "stdout",
     "output_type": "stream",
     "text": [
      "Run finished and took 0:07:49.590203.\n",
      "Saving to P_up_SETB0.9000000000000001_P1.7000000000000002_J3.0.xz\n",
      "Saving to experiment.yaml\n",
      "Started new run P_down_SETB0.9000000000000001_P1.7000000000000002_J3.0\n"
     ]
    },
    {
     "name": "stderr",
     "output_type": "stream",
     "text": [
      "100%|█████████████████████████████████████████████████████████████████████████████████████████████████████████████████████████████████████████| 401/401 [07:46<00:00,  1.16s/it]\n"
     ]
    },
    {
     "name": "stdout",
     "output_type": "stream",
     "text": [
      "Run finished and took 0:07:48.947310.\n",
      "Saving to P_down_SETB0.9000000000000001_P1.7000000000000002_J3.0.xz\n",
      "Saving to experiment.yaml\n",
      "Starting new run: SETB0.9000000000000001 P1.7000000000000002 J3.2\n",
      "Flushing electrons...\n",
      "Raising P1 and P2...\n",
      "Loading electrons...\n",
      "Reloaded in 92.94974279403687 seconds.\n",
      "Target = 6.0000e-11, tol = 1e-12, initial ST = 3.527782\n",
      "ST = 3.5273e+00, lockin = 6.0610e-11, delta = 5.4569e-13\n",
      "Final ST = 3.527301\n",
      "Started new run P_up_SETB0.9000000000000001_P1.7000000000000002_J3.2\n"
     ]
    },
    {
     "name": "stderr",
     "output_type": "stream",
     "text": [
      "100%|█████████████████████████████████████████████████████████████████████████████████████████████████████████████████████████████████████████| 401/401 [07:46<00:00,  1.16s/it]\n"
     ]
    },
    {
     "name": "stdout",
     "output_type": "stream",
     "text": [
      "Run finished and took 0:07:49.511206.\n",
      "Saving to P_up_SETB0.9000000000000001_P1.7000000000000002_J3.2.xz\n",
      "Saving to experiment.yaml\n",
      "Started new run P_down_SETB0.9000000000000001_P1.7000000000000002_J3.2\n"
     ]
    },
    {
     "name": "stderr",
     "output_type": "stream",
     "text": [
      "100%|█████████████████████████████████████████████████████████████████████████████████████████████████████████████████████████████████████████| 401/401 [07:46<00:00,  1.16s/it]\n"
     ]
    },
    {
     "name": "stdout",
     "output_type": "stream",
     "text": [
      "Run finished and took 0:07:49.206454.\n",
      "Saving to P_down_SETB0.9000000000000001_P1.7000000000000002_J3.2.xz\n",
      "Saving to experiment.yaml\n",
      "Starting new run: SETB0.9000000000000001 P1.7000000000000002 J3.4000000000000004\n",
      "Flushing electrons...\n",
      "Raising P1 and P2...\n",
      "Loading electrons...\n",
      "Reloaded in 92.96955800056458 seconds.\n",
      "Target = 6.0000e-11, tol = 1e-12, initial ST = 3.527301\n",
      "ST = 3.5256e+00, lockin = 6.0257e-11, delta = 2.0093e-13\n",
      "Final ST = 3.525631\n",
      "Started new run P_up_SETB0.9000000000000001_P1.7000000000000002_J3.4000000000000004\n"
     ]
    },
    {
     "name": "stderr",
     "output_type": "stream",
     "text": [
      "100%|█████████████████████████████████████████████████████████████████████████████████████████████████████████████████████████████████████████| 401/401 [07:46<00:00,  1.16s/it]\n"
     ]
    },
    {
     "name": "stdout",
     "output_type": "stream",
     "text": [
      "Run finished and took 0:07:49.818853.\n",
      "Saving to P_up_SETB0.9000000000000001_P1.7000000000000002_J3.4000000000000004.xz\n",
      "Saving to experiment.yaml\n",
      "Started new run P_down_SETB0.9000000000000001_P1.7000000000000002_J3.4000000000000004\n"
     ]
    },
    {
     "name": "stderr",
     "output_type": "stream",
     "text": [
      "100%|█████████████████████████████████████████████████████████████████████████████████████████████████████████████████████████████████████████| 401/401 [07:47<00:00,  1.16s/it]\n"
     ]
    },
    {
     "name": "stdout",
     "output_type": "stream",
     "text": [
      "Run finished and took 0:07:50.222635.\n",
      "Saving to P_down_SETB0.9000000000000001_P1.7000000000000002_J3.4000000000000004.xz\n",
      "Saving to experiment.yaml\n",
      "Starting new run: SETB0.9000000000000001 P1.7000000000000002 J3.6000000000000005\n",
      "Flushing electrons...\n",
      "Raising P1 and P2...\n",
      "Loading electrons...\n",
      "Reloaded in 92.94390106201172 seconds.\n",
      "Target = 6.0000e-11, tol = 1e-12, initial ST = 3.525631\n",
      "ST = 3.5231e+00, lockin = 6.0451e-11, delta = 4.7070e-13\n",
      "Final ST = 3.523067\n",
      "Started new run P_up_SETB0.9000000000000001_P1.7000000000000002_J3.6000000000000005\n"
     ]
    },
    {
     "name": "stderr",
     "output_type": "stream",
     "text": [
      "100%|█████████████████████████████████████████████████████████████████████████████████████████████████████████████████████████████████████████| 401/401 [07:46<00:00,  1.16s/it]\n"
     ]
    },
    {
     "name": "stdout",
     "output_type": "stream",
     "text": [
      "Run finished and took 0:07:49.633990.\n",
      "Saving to P_up_SETB0.9000000000000001_P1.7000000000000002_J3.6000000000000005.xz\n",
      "Saving to experiment.yaml\n",
      "Started new run P_down_SETB0.9000000000000001_P1.7000000000000002_J3.6000000000000005\n"
     ]
    },
    {
     "name": "stderr",
     "output_type": "stream",
     "text": [
      "100%|█████████████████████████████████████████████████████████████████████████████████████████████████████████████████████████████████████████| 401/401 [07:46<00:00,  1.16s/it]\n"
     ]
    },
    {
     "name": "stdout",
     "output_type": "stream",
     "text": [
      "Run finished and took 0:07:50.000693.\n",
      "Saving to P_down_SETB0.9000000000000001_P1.7000000000000002_J3.6000000000000005.xz\n",
      "Saving to experiment.yaml\n",
      "Starting new run: SETB0.9000000000000001 P1.7000000000000002 J3.8000000000000007\n",
      "Flushing electrons...\n",
      "Raising P1 and P2...\n",
      "Loading electrons...\n",
      "Reloaded in 92.97946381568909 seconds.\n",
      "Target = 6.0000e-11, tol = 1e-12, initial ST = 3.523067\n",
      "ST = 3.5207e+00, lockin = 5.9684e-11, delta = 3.0767e-13\n",
      "Final ST = 3.520699\n",
      "Started new run P_up_SETB0.9000000000000001_P1.7000000000000002_J3.8000000000000007\n"
     ]
    },
    {
     "name": "stderr",
     "output_type": "stream",
     "text": [
      "100%|█████████████████████████████████████████████████████████████████████████████████████████████████████████████████████████████████████████| 401/401 [07:47<00:00,  1.17s/it]\n"
     ]
    },
    {
     "name": "stdout",
     "output_type": "stream",
     "text": [
      "Run finished and took 0:07:51.187659.\n",
      "Saving to P_up_SETB0.9000000000000001_P1.7000000000000002_J3.8000000000000007.xz\n",
      "Saving to experiment.yaml\n",
      "Started new run P_down_SETB0.9000000000000001_P1.7000000000000002_J3.8000000000000007\n"
     ]
    },
    {
     "name": "stderr",
     "output_type": "stream",
     "text": [
      "100%|█████████████████████████████████████████████████████████████████████████████████████████████████████████████████████████████████████████| 401/401 [07:47<00:00,  1.17s/it]\n"
     ]
    },
    {
     "name": "stdout",
     "output_type": "stream",
     "text": [
      "Run finished and took 0:07:50.739491.\n",
      "Saving to P_down_SETB0.9000000000000001_P1.7000000000000002_J3.8000000000000007.xz\n",
      "Saving to experiment.yaml\n",
      "Starting new run: SETB0.9500000000000002 P1.7000000000000002 J3.0\n",
      "Flushing electrons...\n",
      "Raising P1 and P2...\n",
      "Loading electrons...\n",
      "Reloaded in 96.1080973148346 seconds.\n",
      "Target = 6.0000e-11, tol = 1e-12, initial ST = 3.520699\n",
      "ST = 3.5322e+00, lockin = 5.9698e-11, delta = 2.0432e-13\n",
      "Final ST = 3.532184\n",
      "Started new run P_up_SETB0.9500000000000002_P1.7000000000000002_J3.0\n"
     ]
    },
    {
     "name": "stderr",
     "output_type": "stream",
     "text": [
      "100%|█████████████████████████████████████████████████████████████████████████████████████████████████████████████████████████████████████████| 401/401 [07:47<00:00,  1.17s/it]\n"
     ]
    },
    {
     "name": "stdout",
     "output_type": "stream",
     "text": [
      "Run finished and took 0:07:50.044666.\n",
      "Saving to P_up_SETB0.9500000000000002_P1.7000000000000002_J3.0.xz\n",
      "Saving to experiment.yaml\n",
      "Started new run P_down_SETB0.9500000000000002_P1.7000000000000002_J3.0\n"
     ]
    },
    {
     "name": "stderr",
     "output_type": "stream",
     "text": [
      "100%|█████████████████████████████████████████████████████████████████████████████████████████████████████████████████████████████████████████| 401/401 [07:46<00:00,  1.16s/it]\n"
     ]
    },
    {
     "name": "stdout",
     "output_type": "stream",
     "text": [
      "Run finished and took 0:07:49.578261.\n",
      "Saving to P_down_SETB0.9500000000000002_P1.7000000000000002_J3.0.xz\n",
      "Saving to experiment.yaml\n",
      "Starting new run: SETB0.9500000000000002 P1.7000000000000002 J3.2\n",
      "Flushing electrons...\n",
      "Raising P1 and P2...\n",
      "Loading electrons...\n",
      "Reloaded in 94.94158029556274 seconds.\n",
      "Target = 6.0000e-11, tol = 1e-12, initial ST = 3.532184\n",
      "ST = 3.5336e+00, lockin = 5.8893e-11, delta = 1.0702e-12\n",
      "Final ST = 3.533608\n",
      "Started new run P_up_SETB0.9500000000000002_P1.7000000000000002_J3.2\n"
     ]
    },
    {
     "name": "stderr",
     "output_type": "stream",
     "text": [
      "100%|█████████████████████████████████████████████████████████████████████████████████████████████████████████████████████████████████████████| 401/401 [07:47<00:00,  1.17s/it]\n"
     ]
    },
    {
     "name": "stdout",
     "output_type": "stream",
     "text": [
      "Run finished and took 0:07:50.051040.\n",
      "Saving to P_up_SETB0.9500000000000002_P1.7000000000000002_J3.2.xz\n",
      "Saving to experiment.yaml\n",
      "Started new run P_down_SETB0.9500000000000002_P1.7000000000000002_J3.2\n"
     ]
    },
    {
     "name": "stderr",
     "output_type": "stream",
     "text": [
      "100%|█████████████████████████████████████████████████████████████████████████████████████████████████████████████████████████████████████████| 401/401 [07:45<00:00,  1.16s/it]\n"
     ]
    },
    {
     "name": "stdout",
     "output_type": "stream",
     "text": [
      "Run finished and took 0:07:48.690314.\n",
      "Saving to P_down_SETB0.9500000000000002_P1.7000000000000002_J3.2.xz\n",
      "Saving to experiment.yaml\n",
      "Starting new run: SETB0.9500000000000002 P1.7000000000000002 J3.4000000000000004\n",
      "Flushing electrons...\n",
      "Raising P1 and P2...\n",
      "Loading electrons...\n",
      "Reloaded in 94.88917255401611 seconds.\n",
      "Target = 6.0000e-11, tol = 1e-12, initial ST = 3.533608\n",
      "ST = 3.5309e+00, lockin = 6.0239e-11, delta = 1.9006e-13\n",
      "Final ST = 3.530897\n",
      "Started new run P_up_SETB0.9500000000000002_P1.7000000000000002_J3.4000000000000004\n"
     ]
    },
    {
     "name": "stderr",
     "output_type": "stream",
     "text": [
      "100%|█████████████████████████████████████████████████████████████████████████████████████████████████████████████████████████████████████████| 401/401 [07:46<00:00,  1.16s/it]\n"
     ]
    },
    {
     "name": "stdout",
     "output_type": "stream",
     "text": [
      "Run finished and took 0:07:50.004643.\n",
      "Saving to P_up_SETB0.9500000000000002_P1.7000000000000002_J3.4000000000000004.xz\n",
      "Saving to experiment.yaml\n",
      "Started new run P_down_SETB0.9500000000000002_P1.7000000000000002_J3.4000000000000004\n"
     ]
    },
    {
     "name": "stderr",
     "output_type": "stream",
     "text": [
      "100%|█████████████████████████████████████████████████████████████████████████████████████████████████████████████████████████████████████████| 401/401 [07:45<00:00,  1.16s/it]\n"
     ]
    },
    {
     "name": "stdout",
     "output_type": "stream",
     "text": [
      "Run finished and took 0:07:49.116369.\n",
      "Saving to P_down_SETB0.9500000000000002_P1.7000000000000002_J3.4000000000000004.xz\n",
      "Saving to experiment.yaml\n",
      "Starting new run: SETB0.9500000000000002 P1.7000000000000002 J3.6000000000000005\n",
      "Flushing electrons...\n",
      "Raising P1 and P2...\n",
      "Loading electrons...\n",
      "Reloaded in 95.0812714099884 seconds.\n",
      "Target = 6.0000e-11, tol = 1e-12, initial ST = 3.530897\n",
      "ST = 3.5282e+00, lockin = 5.9970e-11, delta = 1.0746e-14\n",
      "Final ST = 3.528205\n",
      "Started new run P_up_SETB0.9500000000000002_P1.7000000000000002_J3.6000000000000005\n"
     ]
    },
    {
     "name": "stderr",
     "output_type": "stream",
     "text": [
      "100%|█████████████████████████████████████████████████████████████████████████████████████████████████████████████████████████████████████████| 401/401 [07:47<00:00,  1.16s/it]\n"
     ]
    },
    {
     "name": "stdout",
     "output_type": "stream",
     "text": [
      "Run finished and took 0:07:50.374449.\n",
      "Saving to P_up_SETB0.9500000000000002_P1.7000000000000002_J3.6000000000000005.xz\n",
      "Saving to experiment.yaml\n",
      "Started new run P_down_SETB0.9500000000000002_P1.7000000000000002_J3.6000000000000005\n"
     ]
    },
    {
     "name": "stderr",
     "output_type": "stream",
     "text": [
      "100%|█████████████████████████████████████████████████████████████████████████████████████████████████████████████████████████████████████████| 401/401 [07:46<00:00,  1.16s/it]\n"
     ]
    },
    {
     "name": "stdout",
     "output_type": "stream",
     "text": [
      "Run finished and took 0:07:49.658637.\n",
      "Saving to P_down_SETB0.9500000000000002_P1.7000000000000002_J3.6000000000000005.xz\n",
      "Saving to experiment.yaml\n",
      "Starting new run: SETB0.9500000000000002 P1.7000000000000002 J3.8000000000000007\n",
      "Flushing electrons...\n",
      "Raising P1 and P2...\n",
      "Loading electrons...\n",
      "Reloaded in 95.20863103866577 seconds.\n",
      "Target = 6.0000e-11, tol = 1e-12, initial ST = 3.528205\n",
      "ST = 3.5265e+00, lockin = 5.8497e-11, delta = 1.4152e-12\n",
      "Final ST = 3.526456\n",
      "Started new run P_up_SETB0.9500000000000002_P1.7000000000000002_J3.8000000000000007\n"
     ]
    },
    {
     "name": "stderr",
     "output_type": "stream",
     "text": [
      "100%|█████████████████████████████████████████████████████████████████████████████████████████████████████████████████████████████████████████| 401/401 [07:48<00:00,  1.17s/it]\n"
     ]
    },
    {
     "name": "stdout",
     "output_type": "stream",
     "text": [
      "Run finished and took 0:07:51.826741.\n",
      "Saving to P_up_SETB0.9500000000000002_P1.7000000000000002_J3.8000000000000007.xz\n",
      "Saving to experiment.yaml\n",
      "Started new run P_down_SETB0.9500000000000002_P1.7000000000000002_J3.8000000000000007\n"
     ]
    },
    {
     "name": "stderr",
     "output_type": "stream",
     "text": [
      "100%|█████████████████████████████████████████████████████████████████████████████████████████████████████████████████████████████████████████| 401/401 [07:49<00:00,  1.17s/it]\n"
     ]
    },
    {
     "name": "stdout",
     "output_type": "stream",
     "text": [
      "Run finished and took 0:07:52.589830.\n",
      "Saving to P_down_SETB0.9500000000000002_P1.7000000000000002_J3.8000000000000007.xz\n",
      "Saving to experiment.yaml\n",
      "Starting new run: SETB1.0000000000000002 P1.7000000000000002 J3.0\n",
      "Flushing electrons...\n",
      "Raising P1 and P2...\n",
      "Loading electrons...\n",
      "Reloaded in 98.08458018302917 seconds.\n",
      "Target = 6.0000e-11, tol = 1e-12, initial ST = 3.526456\n",
      "ST = 3.5313e+00, lockin = 5.9046e-11, delta = 9.0655e-13\n",
      "Final ST = 3.531319\n",
      "Started new run P_up_SETB1.0000000000000002_P1.7000000000000002_J3.0\n"
     ]
    },
    {
     "name": "stderr",
     "output_type": "stream",
     "text": [
      "100%|█████████████████████████████████████████████████████████████████████████████████████████████████████████████████████████████████████████| 401/401 [07:49<00:00,  1.17s/it]\n"
     ]
    },
    {
     "name": "stdout",
     "output_type": "stream",
     "text": [
      "Run finished and took 0:07:52.085196.\n",
      "Saving to P_up_SETB1.0000000000000002_P1.7000000000000002_J3.0.xz\n",
      "Saving to experiment.yaml\n",
      "Started new run P_down_SETB1.0000000000000002_P1.7000000000000002_J3.0\n"
     ]
    },
    {
     "name": "stderr",
     "output_type": "stream",
     "text": [
      "100%|█████████████████████████████████████████████████████████████████████████████████████████████████████████████████████████████████████████| 401/401 [07:47<00:00,  1.17s/it]\n"
     ]
    },
    {
     "name": "stdout",
     "output_type": "stream",
     "text": [
      "Run finished and took 0:07:50.448207.\n",
      "Saving to P_down_SETB1.0000000000000002_P1.7000000000000002_J3.0.xz\n",
      "Saving to experiment.yaml\n",
      "Starting new run: SETB1.0000000000000002 P1.7000000000000002 J3.2\n",
      "Flushing electrons...\n",
      "Raising P1 and P2...\n",
      "Loading electrons...\n",
      "Reloaded in 96.88676881790161 seconds.\n",
      "Target = 6.0000e-11, tol = 1e-12, initial ST = 3.531319\n",
      "ST = 3.5337e+00, lockin = 5.9604e-11, delta = 3.5703e-13\n",
      "Final ST = 3.533667\n",
      "Started new run P_up_SETB1.0000000000000002_P1.7000000000000002_J3.2\n"
     ]
    },
    {
     "name": "stderr",
     "output_type": "stream",
     "text": [
      "100%|█████████████████████████████████████████████████████████████████████████████████████████████████████████████████████████████████████████| 401/401 [07:46<00:00,  1.16s/it]\n"
     ]
    },
    {
     "name": "stdout",
     "output_type": "stream",
     "text": [
      "Run finished and took 0:07:49.507922.\n",
      "Saving to P_up_SETB1.0000000000000002_P1.7000000000000002_J3.2.xz\n",
      "Saving to experiment.yaml\n",
      "Started new run P_down_SETB1.0000000000000002_P1.7000000000000002_J3.2\n"
     ]
    },
    {
     "name": "stderr",
     "output_type": "stream",
     "text": [
      "100%|█████████████████████████████████████████████████████████████████████████████████████████████████████████████████████████████████████████| 401/401 [07:46<00:00,  1.16s/it]\n"
     ]
    },
    {
     "name": "stdout",
     "output_type": "stream",
     "text": [
      "Run finished and took 0:07:49.335920.\n",
      "Saving to P_down_SETB1.0000000000000002_P1.7000000000000002_J3.2.xz\n",
      "Saving to experiment.yaml\n",
      "Starting new run: SETB1.0000000000000002 P1.7000000000000002 J3.4000000000000004\n",
      "Flushing electrons...\n",
      "Raising P1 and P2...\n",
      "Loading electrons...\n",
      "Reloaded in 96.89131689071655 seconds.\n",
      "Target = 6.0000e-11, tol = 1e-12, initial ST = 3.533667\n",
      "ST = 3.5308e+00, lockin = 6.1122e-11, delta = 9.4073e-13\n",
      "Final ST = 3.530818\n",
      "Started new run P_up_SETB1.0000000000000002_P1.7000000000000002_J3.4000000000000004\n"
     ]
    },
    {
     "name": "stderr",
     "output_type": "stream",
     "text": [
      "100%|█████████████████████████████████████████████████████████████████████████████████████████████████████████████████████████████████████████| 401/401 [07:48<00:00,  1.17s/it]\n"
     ]
    },
    {
     "name": "stdout",
     "output_type": "stream",
     "text": [
      "Run finished and took 0:07:51.526152.\n",
      "Saving to P_up_SETB1.0000000000000002_P1.7000000000000002_J3.4000000000000004.xz\n",
      "Saving to experiment.yaml\n",
      "Started new run P_down_SETB1.0000000000000002_P1.7000000000000002_J3.4000000000000004\n"
     ]
    },
    {
     "name": "stderr",
     "output_type": "stream",
     "text": [
      "100%|█████████████████████████████████████████████████████████████████████████████████████████████████████████████████████████████████████████| 401/401 [07:45<00:00,  1.16s/it]\n"
     ]
    },
    {
     "name": "stdout",
     "output_type": "stream",
     "text": [
      "Run finished and took 0:07:48.971724.\n",
      "Saving to P_down_SETB1.0000000000000002_P1.7000000000000002_J3.4000000000000004.xz\n",
      "Saving to experiment.yaml\n",
      "Starting new run: SETB1.0000000000000002 P1.7000000000000002 J3.6000000000000005\n",
      "Flushing electrons...\n",
      "Raising P1 and P2...\n",
      "Loading electrons...\n",
      "Reloaded in 96.88555431365967 seconds.\n",
      "Target = 6.0000e-11, tol = 1e-12, initial ST = 3.530818\n",
      "ST = 3.5283e+00, lockin = 5.9422e-11, delta = 5.7853e-13\n",
      "Final ST = 3.528313\n",
      "Started new run P_up_SETB1.0000000000000002_P1.7000000000000002_J3.6000000000000005\n"
     ]
    },
    {
     "name": "stderr",
     "output_type": "stream",
     "text": [
      "100%|█████████████████████████████████████████████████████████████████████████████████████████████████████████████████████████████████████████| 401/401 [07:48<00:00,  1.17s/it]\n"
     ]
    },
    {
     "name": "stdout",
     "output_type": "stream",
     "text": [
      "Run finished and took 0:07:51.373460.\n",
      "Saving to P_up_SETB1.0000000000000002_P1.7000000000000002_J3.6000000000000005.xz\n",
      "Saving to experiment.yaml\n",
      "Started new run P_down_SETB1.0000000000000002_P1.7000000000000002_J3.6000000000000005\n"
     ]
    },
    {
     "name": "stderr",
     "output_type": "stream",
     "text": [
      "100%|█████████████████████████████████████████████████████████████████████████████████████████████████████████████████████████████████████████| 401/401 [07:46<00:00,  1.16s/it]\n"
     ]
    },
    {
     "name": "stdout",
     "output_type": "stream",
     "text": [
      "Run finished and took 0:07:49.364755.\n",
      "Saving to P_down_SETB1.0000000000000002_P1.7000000000000002_J3.6000000000000005.xz\n",
      "Saving to experiment.yaml\n",
      "Starting new run: SETB1.0000000000000002 P1.7000000000000002 J3.8000000000000007\n",
      "Flushing electrons...\n",
      "Raising P1 and P2...\n",
      "Loading electrons...\n",
      "Reloaded in 96.89332795143127 seconds.\n",
      "Target = 6.0000e-11, tol = 1e-12, initial ST = 3.528313\n",
      "ST = 3.5264e+00, lockin = 6.0312e-11, delta = 2.7005e-13\n",
      "Final ST = 3.526387\n",
      "Started new run P_up_SETB1.0000000000000002_P1.7000000000000002_J3.8000000000000007\n"
     ]
    },
    {
     "name": "stderr",
     "output_type": "stream",
     "text": [
      "100%|█████████████████████████████████████████████████████████████████████████████████████████████████████████████████████████████████████████| 401/401 [07:48<00:00,  1.17s/it]\n"
     ]
    },
    {
     "name": "stdout",
     "output_type": "stream",
     "text": [
      "Run finished and took 0:07:51.601643.\n",
      "Saving to P_up_SETB1.0000000000000002_P1.7000000000000002_J3.8000000000000007.xz\n",
      "Saving to experiment.yaml\n",
      "Started new run P_down_SETB1.0000000000000002_P1.7000000000000002_J3.8000000000000007\n"
     ]
    },
    {
     "name": "stderr",
     "output_type": "stream",
     "text": [
      "100%|█████████████████████████████████████████████████████████████████████████████████████████████████████████████████████████████████████████| 401/401 [07:45<00:00,  1.16s/it]\n"
     ]
    },
    {
     "name": "stdout",
     "output_type": "stream",
     "text": [
      "Run finished and took 0:07:48.940915.\n",
      "Saving to P_down_SETB1.0000000000000002_P1.7000000000000002_J3.8000000000000007.xz\n",
      "Saving to experiment.yaml\n",
      "Starting new run: SETB1.0500000000000003 P1.7000000000000002 J3.0\n",
      "Flushing electrons...\n",
      "Raising P1 and P2...\n",
      "Loading electrons...\n",
      "Reloaded in 100.02730250358582 seconds.\n",
      "Target = 6.0000e-11, tol = 1e-12, initial ST = 3.526387\n",
      "ST = 3.5314e+00, lockin = 5.9178e-11, delta = 7.9131e-13\n",
      "Final ST = 3.531359\n",
      "Started new run P_up_SETB1.0500000000000003_P1.7000000000000002_J3.0\n"
     ]
    },
    {
     "name": "stderr",
     "output_type": "stream",
     "text": [
      "100%|█████████████████████████████████████████████████████████████████████████████████████████████████████████████████████████████████████████| 401/401 [07:48<00:00,  1.17s/it]\n"
     ]
    },
    {
     "name": "stdout",
     "output_type": "stream",
     "text": [
      "Run finished and took 0:07:51.542859.\n",
      "Saving to P_up_SETB1.0500000000000003_P1.7000000000000002_J3.0.xz\n",
      "Saving to experiment.yaml\n",
      "Started new run P_down_SETB1.0500000000000003_P1.7000000000000002_J3.0\n"
     ]
    },
    {
     "name": "stderr",
     "output_type": "stream",
     "text": [
      "100%|█████████████████████████████████████████████████████████████████████████████████████████████████████████████████████████████████████████| 401/401 [07:46<00:00,  1.16s/it]\n"
     ]
    },
    {
     "name": "stdout",
     "output_type": "stream",
     "text": [
      "Run finished and took 0:07:49.856623.\n",
      "Saving to P_down_SETB1.0500000000000003_P1.7000000000000002_J3.0.xz\n",
      "Saving to experiment.yaml\n",
      "Starting new run: SETB1.0500000000000003 P1.7000000000000002 J3.2\n",
      "Flushing electrons...\n",
      "Raising P1 and P2...\n",
      "Loading electrons...\n",
      "Reloaded in 98.86541247367859 seconds.\n",
      "Target = 6.0000e-11, tol = 1e-12, initial ST = 3.531359\n",
      "ST = 3.5330e+00, lockin = 5.9668e-11, delta = 2.8795e-13\n",
      "Final ST = 3.533019\n",
      "Started new run P_up_SETB1.0500000000000003_P1.7000000000000002_J3.2\n"
     ]
    },
    {
     "name": "stderr",
     "output_type": "stream",
     "text": [
      "100%|█████████████████████████████████████████████████████████████████████████████████████████████████████████████████████████████████████████| 401/401 [07:47<00:00,  1.16s/it]\n"
     ]
    },
    {
     "name": "stdout",
     "output_type": "stream",
     "text": [
      "Run finished and took 0:07:49.965943.\n",
      "Saving to P_up_SETB1.0500000000000003_P1.7000000000000002_J3.2.xz\n",
      "Saving to experiment.yaml\n",
      "Started new run P_down_SETB1.0500000000000003_P1.7000000000000002_J3.2\n"
     ]
    },
    {
     "name": "stderr",
     "output_type": "stream",
     "text": [
      "100%|█████████████████████████████████████████████████████████████████████████████████████████████████████████████████████████████████████████| 401/401 [07:46<00:00,  1.16s/it]\n"
     ]
    },
    {
     "name": "stdout",
     "output_type": "stream",
     "text": [
      "Run finished and took 0:07:49.666405.\n",
      "Saving to P_down_SETB1.0500000000000003_P1.7000000000000002_J3.2.xz\n",
      "Saving to experiment.yaml\n",
      "Starting new run: SETB1.0500000000000003 P1.7000000000000002 J3.4000000000000004\n",
      "Flushing electrons...\n",
      "Raising P1 and P2...\n",
      "Loading electrons...\n",
      "Reloaded in 98.84565949440002 seconds.\n",
      "Target = 6.0000e-11, tol = 1e-12, initial ST = 3.533019\n",
      "ST = 3.5308e+00, lockin = 6.0770e-11, delta = 6.9736e-13\n",
      "Final ST = 3.530848\n",
      "Started new run P_up_SETB1.0500000000000003_P1.7000000000000002_J3.4000000000000004\n"
     ]
    },
    {
     "name": "stderr",
     "output_type": "stream",
     "text": [
      "100%|█████████████████████████████████████████████████████████████████████████████████████████████████████████████████████████████████████████| 401/401 [07:47<00:00,  1.17s/it]\n"
     ]
    },
    {
     "name": "stdout",
     "output_type": "stream",
     "text": [
      "Run finished and took 0:07:50.613904.\n",
      "Saving to P_up_SETB1.0500000000000003_P1.7000000000000002_J3.4000000000000004.xz\n",
      "Saving to experiment.yaml\n",
      "Started new run P_down_SETB1.0500000000000003_P1.7000000000000002_J3.4000000000000004\n"
     ]
    },
    {
     "name": "stderr",
     "output_type": "stream",
     "text": [
      "100%|█████████████████████████████████████████████████████████████████████████████████████████████████████████████████████████████████████████| 401/401 [07:46<00:00,  1.16s/it]\n"
     ]
    },
    {
     "name": "stdout",
     "output_type": "stream",
     "text": [
      "Run finished and took 0:07:50.147213.\n",
      "Saving to P_down_SETB1.0500000000000003_P1.7000000000000002_J3.4000000000000004.xz\n",
      "Saving to experiment.yaml\n",
      "Starting new run: SETB1.0500000000000003 P1.7000000000000002 J3.6000000000000005\n",
      "Flushing electrons...\n",
      "Raising P1 and P2...\n",
      "Loading electrons...\n",
      "Reloaded in 98.85887885093689 seconds.\n",
      "Target = 6.0000e-11, tol = 1e-12, initial ST = 3.530848\n",
      "ST = 3.5279e+00, lockin = 5.9398e-11, delta = 5.8120e-13\n",
      "Final ST = 3.527881\n",
      "Started new run P_up_SETB1.0500000000000003_P1.7000000000000002_J3.6000000000000005\n"
     ]
    },
    {
     "name": "stderr",
     "output_type": "stream",
     "text": [
      "100%|█████████████████████████████████████████████████████████████████████████████████████████████████████████████████████████████████████████| 401/401 [07:47<00:00,  1.17s/it]\n"
     ]
    },
    {
     "name": "stdout",
     "output_type": "stream",
     "text": [
      "Run finished and took 0:07:50.252608.\n",
      "Saving to P_up_SETB1.0500000000000003_P1.7000000000000002_J3.6000000000000005.xz\n",
      "Saving to experiment.yaml\n",
      "Started new run P_down_SETB1.0500000000000003_P1.7000000000000002_J3.6000000000000005\n"
     ]
    },
    {
     "name": "stderr",
     "output_type": "stream",
     "text": [
      "100%|█████████████████████████████████████████████████████████████████████████████████████████████████████████████████████████████████████████| 401/401 [07:46<00:00,  1.16s/it]\n"
     ]
    },
    {
     "name": "stdout",
     "output_type": "stream",
     "text": [
      "Run finished and took 0:07:49.650488.\n",
      "Saving to P_down_SETB1.0500000000000003_P1.7000000000000002_J3.6000000000000005.xz\n",
      "Saving to experiment.yaml\n",
      "Starting new run: SETB1.0500000000000003 P1.7000000000000002 J3.8000000000000007\n",
      "Flushing electrons...\n",
      "Raising P1 and P2...\n",
      "Loading electrons...\n",
      "Reloaded in 98.84998083114624 seconds.\n",
      "Target = 6.0000e-11, tol = 1e-12, initial ST = 3.527881\n",
      "ST = 3.5262e+00, lockin = 5.9822e-11, delta = 2.2035e-13\n",
      "Final ST = 3.526211\n",
      "Started new run P_up_SETB1.0500000000000003_P1.7000000000000002_J3.8000000000000007\n"
     ]
    },
    {
     "name": "stderr",
     "output_type": "stream",
     "text": [
      "100%|█████████████████████████████████████████████████████████████████████████████████████████████████████████████████████████████████████████| 401/401 [07:48<00:00,  1.17s/it]\n"
     ]
    },
    {
     "name": "stdout",
     "output_type": "stream",
     "text": [
      "Run finished and took 0:07:51.921778.\n",
      "Saving to P_up_SETB1.0500000000000003_P1.7000000000000002_J3.8000000000000007.xz\n",
      "Saving to experiment.yaml\n",
      "Started new run P_down_SETB1.0500000000000003_P1.7000000000000002_J3.8000000000000007\n"
     ]
    },
    {
     "name": "stderr",
     "output_type": "stream",
     "text": [
      "100%|█████████████████████████████████████████████████████████████████████████████████████████████████████████████████████████████████████████| 401/401 [07:47<00:00,  1.16s/it]\n"
     ]
    },
    {
     "name": "stdout",
     "output_type": "stream",
     "text": [
      "Run finished and took 0:07:50.670667.\n",
      "Saving to P_down_SETB1.0500000000000003_P1.7000000000000002_J3.8000000000000007.xz\n",
      "Saving to experiment.yaml\n",
      "Starting new run: SETB1.1000000000000003 P1.7000000000000002 J3.0\n",
      "Flushing electrons...\n",
      "Raising P1 and P2...\n",
      "Loading electrons...\n",
      "Reloaded in 101.9986002445221 seconds.\n",
      "Target = 6.0000e-11, tol = 1e-12, initial ST = 3.526211\n",
      "ST = 3.5315e+00, lockin = 5.8380e-11, delta = 1.5605e-12\n",
      "Final ST = 3.531535\n",
      "Started new run P_up_SETB1.1000000000000003_P1.7000000000000002_J3.0\n"
     ]
    },
    {
     "name": "stderr",
     "output_type": "stream",
     "text": [
      "100%|█████████████████████████████████████████████████████████████████████████████████████████████████████████████████████████████████████████| 401/401 [07:46<00:00,  1.16s/it]\n"
     ]
    },
    {
     "name": "stdout",
     "output_type": "stream",
     "text": [
      "Run finished and took 0:07:49.518520.\n",
      "Saving to P_up_SETB1.1000000000000003_P1.7000000000000002_J3.0.xz\n",
      "Saving to experiment.yaml\n",
      "Started new run P_down_SETB1.1000000000000003_P1.7000000000000002_J3.0\n"
     ]
    },
    {
     "name": "stderr",
     "output_type": "stream",
     "text": [
      "100%|█████████████████████████████████████████████████████████████████████████████████████████████████████████████████████████████████████████| 401/401 [07:46<00:00,  1.16s/it]\n"
     ]
    },
    {
     "name": "stdout",
     "output_type": "stream",
     "text": [
      "Run finished and took 0:07:49.487915.\n",
      "Saving to P_down_SETB1.1000000000000003_P1.7000000000000002_J3.0.xz\n",
      "Saving to experiment.yaml\n",
      "Starting new run: SETB1.1000000000000003 P1.7000000000000002 J3.2\n",
      "Flushing electrons...\n",
      "Raising P1 and P2...\n",
      "Loading electrons...\n",
      "Reloaded in 100.83515429496765 seconds.\n",
      "Target = 6.0000e-11, tol = 1e-12, initial ST = 3.531535\n",
      "ST = 3.5333e+00, lockin = 5.9709e-11, delta = 2.3882e-13\n",
      "Final ST = 3.533304\n",
      "Started new run P_up_SETB1.1000000000000003_P1.7000000000000002_J3.2\n"
     ]
    },
    {
     "name": "stderr",
     "output_type": "stream",
     "text": [
      "100%|█████████████████████████████████████████████████████████████████████████████████████████████████████████████████████████████████████████| 401/401 [07:46<00:00,  1.16s/it]\n"
     ]
    },
    {
     "name": "stdout",
     "output_type": "stream",
     "text": [
      "Run finished and took 0:07:49.762402.\n",
      "Saving to P_up_SETB1.1000000000000003_P1.7000000000000002_J3.2.xz\n",
      "Saving to experiment.yaml\n",
      "Started new run P_down_SETB1.1000000000000003_P1.7000000000000002_J3.2\n"
     ]
    },
    {
     "name": "stderr",
     "output_type": "stream",
     "text": [
      "100%|█████████████████████████████████████████████████████████████████████████████████████████████████████████████████████████████████████████| 401/401 [07:46<00:00,  1.16s/it]\n"
     ]
    },
    {
     "name": "stdout",
     "output_type": "stream",
     "text": [
      "Run finished and took 0:07:49.431412.\n",
      "Saving to P_down_SETB1.1000000000000003_P1.7000000000000002_J3.2.xz\n",
      "Saving to experiment.yaml\n",
      "Starting new run: SETB1.1000000000000003 P1.7000000000000002 J3.4000000000000004\n",
      "Flushing electrons...\n",
      "Raising P1 and P2...\n",
      "Loading electrons...\n",
      "Reloaded in 100.79960370063782 seconds.\n",
      "Target = 6.0000e-11, tol = 1e-12, initial ST = 3.533304\n",
      "ST = 3.5307e+00, lockin = 6.0446e-11, delta = 4.7125e-13\n",
      "Final ST = 3.53074\n",
      "Started new run P_up_SETB1.1000000000000003_P1.7000000000000002_J3.4000000000000004\n"
     ]
    },
    {
     "name": "stderr",
     "output_type": "stream",
     "text": [
      "100%|█████████████████████████████████████████████████████████████████████████████████████████████████████████████████████████████████████████| 401/401 [07:48<00:00,  1.17s/it]\n"
     ]
    },
    {
     "name": "stdout",
     "output_type": "stream",
     "text": [
      "Run finished and took 0:07:52.325413.\n",
      "Saving to P_up_SETB1.1000000000000003_P1.7000000000000002_J3.4000000000000004.xz\n",
      "Saving to experiment.yaml\n",
      "Started new run P_down_SETB1.1000000000000003_P1.7000000000000002_J3.4000000000000004\n"
     ]
    },
    {
     "name": "stderr",
     "output_type": "stream",
     "text": [
      "100%|█████████████████████████████████████████████████████████████████████████████████████████████████████████████████████████████████████████| 401/401 [07:47<00:00,  1.17s/it]\n"
     ]
    },
    {
     "name": "stdout",
     "output_type": "stream",
     "text": [
      "Run finished and took 0:07:50.721912.\n",
      "Saving to P_down_SETB1.1000000000000003_P1.7000000000000002_J3.4000000000000004.xz\n",
      "Saving to experiment.yaml\n",
      "Starting new run: SETB1.1000000000000003 P1.7000000000000002 J3.6000000000000005\n",
      "Flushing electrons...\n",
      "Raising P1 and P2...\n",
      "Loading electrons...\n",
      "Reloaded in 100.78769659996033 seconds.\n",
      "Target = 6.0000e-11, tol = 1e-12, initial ST = 3.53074\n",
      "ST = 3.5278e+00, lockin = 5.9979e-11, delta = 1.1287e-13\n",
      "Final ST = 3.527792\n",
      "Started new run P_up_SETB1.1000000000000003_P1.7000000000000002_J3.6000000000000005\n"
     ]
    },
    {
     "name": "stderr",
     "output_type": "stream",
     "text": [
      "100%|█████████████████████████████████████████████████████████████████████████████████████████████████████████████████████████████████████████| 401/401 [07:47<00:00,  1.17s/it]\n"
     ]
    },
    {
     "name": "stdout",
     "output_type": "stream",
     "text": [
      "Run finished and took 0:07:51.521087.\n",
      "Saving to P_up_SETB1.1000000000000003_P1.7000000000000002_J3.6000000000000005.xz\n",
      "Saving to experiment.yaml\n",
      "Started new run P_down_SETB1.1000000000000003_P1.7000000000000002_J3.6000000000000005\n"
     ]
    },
    {
     "name": "stderr",
     "output_type": "stream",
     "text": [
      "100%|█████████████████████████████████████████████████████████████████████████████████████████████████████████████████████████████████████████| 401/401 [07:46<00:00,  1.16s/it]\n"
     ]
    },
    {
     "name": "stdout",
     "output_type": "stream",
     "text": [
      "Run finished and took 0:07:49.704616.\n",
      "Saving to P_down_SETB1.1000000000000003_P1.7000000000000002_J3.6000000000000005.xz\n",
      "Saving to experiment.yaml\n",
      "Starting new run: SETB1.1000000000000003 P1.7000000000000002 J3.8000000000000007\n",
      "Flushing electrons...\n",
      "Raising P1 and P2...\n",
      "Loading electrons...\n",
      "Reloaded in 100.82016801834106 seconds.\n",
      "Target = 6.0000e-11, tol = 1e-12, initial ST = 3.527792\n",
      "ST = 3.5262e+00, lockin = 6.0642e-11, delta = 6.7577e-13\n",
      "Final ST = 3.526171\n",
      "Started new run P_up_SETB1.1000000000000003_P1.7000000000000002_J3.8000000000000007\n"
     ]
    },
    {
     "name": "stderr",
     "output_type": "stream",
     "text": [
      "100%|█████████████████████████████████████████████████████████████████████████████████████████████████████████████████████████████████████████| 401/401 [07:48<00:00,  1.17s/it]\n"
     ]
    },
    {
     "name": "stdout",
     "output_type": "stream",
     "text": [
      "Run finished and took 0:07:51.650771.\n",
      "Saving to P_up_SETB1.1000000000000003_P1.7000000000000002_J3.8000000000000007.xz\n",
      "Saving to experiment.yaml\n",
      "Started new run P_down_SETB1.1000000000000003_P1.7000000000000002_J3.8000000000000007\n"
     ]
    },
    {
     "name": "stderr",
     "output_type": "stream",
     "text": [
      "100%|█████████████████████████████████████████████████████████████████████████████████████████████████████████████████████████████████████████| 401/401 [07:46<00:00,  1.16s/it]\n"
     ]
    },
    {
     "name": "stdout",
     "output_type": "stream",
     "text": [
      "Run finished and took 0:07:50.085046.\n",
      "Saving to P_down_SETB1.1000000000000003_P1.7000000000000002_J3.8000000000000007.xz\n",
      "Saving to experiment.yaml\n",
      "Starting new run: SETB1.1500000000000004 P1.7000000000000002 J3.0\n",
      "Flushing electrons...\n",
      "Raising P1 and P2...\n",
      "Loading electrons...\n",
      "Reloaded in 103.99978232383728 seconds.\n",
      "Target = 6.0000e-11, tol = 1e-12, initial ST = 3.526171\n",
      "ST = 3.5309e+00, lockin = 5.9944e-11, delta = 2.9929e-14\n",
      "Final ST = 3.530897\n",
      "Started new run P_up_SETB1.1500000000000004_P1.7000000000000002_J3.0\n"
     ]
    },
    {
     "name": "stderr",
     "output_type": "stream",
     "text": [
      "100%|█████████████████████████████████████████████████████████████████████████████████████████████████████████████████████████████████████████| 401/401 [07:47<00:00,  1.17s/it]\n"
     ]
    },
    {
     "name": "stdout",
     "output_type": "stream",
     "text": [
      "Run finished and took 0:07:50.309914.\n",
      "Saving to P_up_SETB1.1500000000000004_P1.7000000000000002_J3.0.xz\n",
      "Saving to experiment.yaml\n",
      "Started new run P_down_SETB1.1500000000000004_P1.7000000000000002_J3.0\n"
     ]
    },
    {
     "name": "stderr",
     "output_type": "stream",
     "text": [
      "100%|█████████████████████████████████████████████████████████████████████████████████████████████████████████████████████████████████████████| 401/401 [07:46<00:00,  1.16s/it]\n"
     ]
    },
    {
     "name": "stdout",
     "output_type": "stream",
     "text": [
      "Run finished and took 0:07:49.414001.\n",
      "Saving to P_down_SETB1.1500000000000004_P1.7000000000000002_J3.0.xz\n",
      "Saving to experiment.yaml\n",
      "Starting new run: SETB1.1500000000000004 P1.7000000000000002 J3.2\n",
      "Flushing electrons...\n",
      "Raising P1 and P2...\n",
      "Loading electrons...\n",
      "Reloaded in 102.76654052734375 seconds.\n",
      "Target = 6.0000e-11, tol = 1e-12, initial ST = 3.530897\n",
      "ST = 3.5332e+00, lockin = 5.8884e-11, delta = 1.0043e-12\n",
      "Final ST = 3.533186\n",
      "Started new run P_up_SETB1.1500000000000004_P1.7000000000000002_J3.2\n"
     ]
    },
    {
     "name": "stderr",
     "output_type": "stream",
     "text": [
      "100%|█████████████████████████████████████████████████████████████████████████████████████████████████████████████████████████████████████████| 401/401 [07:47<00:00,  1.17s/it]\n"
     ]
    },
    {
     "name": "stdout",
     "output_type": "stream",
     "text": [
      "Run finished and took 0:07:50.537280.\n",
      "Saving to P_up_SETB1.1500000000000004_P1.7000000000000002_J3.2.xz\n",
      "Saving to experiment.yaml\n",
      "Started new run P_down_SETB1.1500000000000004_P1.7000000000000002_J3.2\n"
     ]
    },
    {
     "name": "stderr",
     "output_type": "stream",
     "text": [
      "100%|█████████████████████████████████████████████████████████████████████████████████████████████████████████████████████████████████████████| 401/401 [07:46<00:00,  1.16s/it]\n"
     ]
    },
    {
     "name": "stdout",
     "output_type": "stream",
     "text": [
      "Run finished and took 0:07:49.506870.\n",
      "Saving to P_down_SETB1.1500000000000004_P1.7000000000000002_J3.2.xz\n",
      "Saving to experiment.yaml\n",
      "Starting new run: SETB1.1500000000000004 P1.7000000000000002 J3.4000000000000004\n",
      "Flushing electrons...\n",
      "Raising P1 and P2...\n",
      "Loading electrons...\n",
      "Reloaded in 102.74328017234802 seconds.\n",
      "Target = 6.0000e-11, tol = 1e-12, initial ST = 3.533186\n",
      "ST = 3.5304e+00, lockin = 5.9636e-11, delta = 3.2890e-13\n",
      "Final ST = 3.530406\n",
      "Started new run P_up_SETB1.1500000000000004_P1.7000000000000002_J3.4000000000000004\n"
     ]
    },
    {
     "name": "stderr",
     "output_type": "stream",
     "text": [
      "100%|█████████████████████████████████████████████████████████████████████████████████████████████████████████████████████████████████████████| 401/401 [07:47<00:00,  1.17s/it]\n"
     ]
    },
    {
     "name": "stdout",
     "output_type": "stream",
     "text": [
      "Run finished and took 0:07:50.709510.\n",
      "Saving to P_up_SETB1.1500000000000004_P1.7000000000000002_J3.4000000000000004.xz\n",
      "Saving to experiment.yaml\n",
      "Started new run P_down_SETB1.1500000000000004_P1.7000000000000002_J3.4000000000000004\n"
     ]
    },
    {
     "name": "stderr",
     "output_type": "stream",
     "text": [
      "100%|█████████████████████████████████████████████████████████████████████████████████████████████████████████████████████████████████████████| 401/401 [07:47<00:00,  1.17s/it]\n"
     ]
    },
    {
     "name": "stdout",
     "output_type": "stream",
     "text": [
      "Run finished and took 0:07:50.698596.\n",
      "Saving to P_down_SETB1.1500000000000004_P1.7000000000000002_J3.4000000000000004.xz\n",
      "Saving to experiment.yaml\n",
      "Starting new run: SETB1.1500000000000004 P1.7000000000000002 J3.6000000000000005\n",
      "Flushing electrons...\n",
      "Raising P1 and P2...\n",
      "Loading electrons...\n",
      "Reloaded in 103.08087086677551 seconds.\n",
      "Target = 6.0000e-11, tol = 1e-12, initial ST = 3.530406\n",
      "ST = 3.5277e+00, lockin = 6.0100e-11, delta = 1.1929e-13\n",
      "Final ST = 3.527743\n",
      "Started new run P_up_SETB1.1500000000000004_P1.7000000000000002_J3.6000000000000005\n"
     ]
    },
    {
     "name": "stderr",
     "output_type": "stream",
     "text": [
      "100%|█████████████████████████████████████████████████████████████████████████████████████████████████████████████████████████████████████████| 401/401 [07:47<00:00,  1.17s/it]\n"
     ]
    },
    {
     "name": "stdout",
     "output_type": "stream",
     "text": [
      "Run finished and took 0:07:51.495555.\n",
      "Saving to P_up_SETB1.1500000000000004_P1.7000000000000002_J3.6000000000000005.xz\n",
      "Saving to experiment.yaml\n",
      "Started new run P_down_SETB1.1500000000000004_P1.7000000000000002_J3.6000000000000005\n"
     ]
    },
    {
     "name": "stderr",
     "output_type": "stream",
     "text": [
      "100%|█████████████████████████████████████████████████████████████████████████████████████████████████████████████████████████████████████████| 401/401 [07:45<00:00,  1.16s/it]\n"
     ]
    },
    {
     "name": "stdout",
     "output_type": "stream",
     "text": [
      "Run finished and took 0:07:48.844671.\n",
      "Saving to P_down_SETB1.1500000000000004_P1.7000000000000002_J3.6000000000000005.xz\n",
      "Saving to experiment.yaml\n",
      "Starting new run: SETB1.1500000000000004 P1.7000000000000002 J3.8000000000000007\n",
      "Flushing electrons...\n",
      "Raising P1 and P2...\n",
      "Loading electrons...\n",
      "Reloaded in 102.77047610282898 seconds.\n",
      "Target = 6.0000e-11, tol = 1e-12, initial ST = 3.527743\n",
      "ST = 3.5259e+00, lockin = 6.0257e-11, delta = 3.0158e-13\n",
      "Final ST = 3.525896\n",
      "Started new run P_up_SETB1.1500000000000004_P1.7000000000000002_J3.8000000000000007\n"
     ]
    },
    {
     "name": "stderr",
     "output_type": "stream",
     "text": [
      "100%|█████████████████████████████████████████████████████████████████████████████████████████████████████████████████████████████████████████| 401/401 [07:48<00:00,  1.17s/it]\n"
     ]
    },
    {
     "name": "stdout",
     "output_type": "stream",
     "text": [
      "Run finished and took 0:07:51.383580.\n",
      "Saving to P_up_SETB1.1500000000000004_P1.7000000000000002_J3.8000000000000007.xz\n",
      "Saving to experiment.yaml\n",
      "Started new run P_down_SETB1.1500000000000004_P1.7000000000000002_J3.8000000000000007\n"
     ]
    },
    {
     "name": "stderr",
     "output_type": "stream",
     "text": [
      "100%|█████████████████████████████████████████████████████████████████████████████████████████████████████████████████████████████████████████| 401/401 [07:47<00:00,  1.16s/it]\n"
     ]
    },
    {
     "name": "stdout",
     "output_type": "stream",
     "text": [
      "Run finished and took 0:07:50.510339.\n",
      "Saving to P_down_SETB1.1500000000000004_P1.7000000000000002_J3.8000000000000007.xz\n",
      "Saving to experiment.yaml\n",
      "Starting new run: SETB1.2000000000000004 P1.7000000000000002 J3.0\n",
      "Flushing electrons...\n",
      "Raising P1 and P2...\n",
      "Loading electrons...\n",
      "Reloaded in 105.9155867099762 seconds.\n",
      "Target = 6.0000e-11, tol = 1e-12, initial ST = 3.525896\n",
      "ST = 3.5307e+00, lockin = 5.9843e-11, delta = 1.7089e-13\n",
      "Final ST = 3.530671\n",
      "Started new run P_up_SETB1.2000000000000004_P1.7000000000000002_J3.0\n"
     ]
    },
    {
     "name": "stderr",
     "output_type": "stream",
     "text": [
      "100%|█████████████████████████████████████████████████████████████████████████████████████████████████████████████████████████████████████████| 401/401 [07:48<00:00,  1.17s/it]\n"
     ]
    },
    {
     "name": "stdout",
     "output_type": "stream",
     "text": [
      "Run finished and took 0:07:51.041965.\n",
      "Saving to P_up_SETB1.2000000000000004_P1.7000000000000002_J3.0.xz\n",
      "Saving to experiment.yaml\n",
      "Started new run P_down_SETB1.2000000000000004_P1.7000000000000002_J3.0\n"
     ]
    },
    {
     "name": "stderr",
     "output_type": "stream",
     "text": [
      "100%|█████████████████████████████████████████████████████████████████████████████████████████████████████████████████████████████████████████| 401/401 [07:46<00:00,  1.16s/it]\n"
     ]
    },
    {
     "name": "stdout",
     "output_type": "stream",
     "text": [
      "Run finished and took 0:07:49.306028.\n",
      "Saving to P_down_SETB1.2000000000000004_P1.7000000000000002_J3.0.xz\n",
      "Saving to experiment.yaml\n",
      "Starting new run: SETB1.2000000000000004 P1.7000000000000002 J3.2\n",
      "Flushing electrons...\n",
      "Raising P1 and P2...\n",
      "Loading electrons...\n",
      "Reloaded in 104.75030875205994 seconds.\n",
      "Target = 6.0000e-11, tol = 1e-12, initial ST = 3.530671\n",
      "ST = 3.5329e+00, lockin = 5.9611e-11, delta = 3.3934e-13\n",
      "Final ST = 3.53293\n",
      "Started new run P_up_SETB1.2000000000000004_P1.7000000000000002_J3.2\n"
     ]
    },
    {
     "name": "stderr",
     "output_type": "stream",
     "text": [
      "100%|█████████████████████████████████████████████████████████████████████████████████████████████████████████████████████████████████████████| 401/401 [07:47<00:00,  1.17s/it]\n"
     ]
    },
    {
     "name": "stdout",
     "output_type": "stream",
     "text": [
      "Run finished and took 0:07:50.785601.\n",
      "Saving to P_up_SETB1.2000000000000004_P1.7000000000000002_J3.2.xz\n",
      "Saving to experiment.yaml\n",
      "Started new run P_down_SETB1.2000000000000004_P1.7000000000000002_J3.2\n"
     ]
    },
    {
     "name": "stderr",
     "output_type": "stream",
     "text": [
      "100%|█████████████████████████████████████████████████████████████████████████████████████████████████████████████████████████████████████████| 401/401 [07:46<00:00,  1.16s/it]\n"
     ]
    },
    {
     "name": "stdout",
     "output_type": "stream",
     "text": [
      "Run finished and took 0:07:49.600509.\n",
      "Saving to P_down_SETB1.2000000000000004_P1.7000000000000002_J3.2.xz\n",
      "Saving to experiment.yaml\n",
      "Starting new run: SETB1.2000000000000004 P1.7000000000000002 J3.4000000000000004\n",
      "Flushing electrons...\n",
      "Raising P1 and P2...\n",
      "Loading electrons...\n",
      "Reloaded in 104.72896933555603 seconds.\n",
      "Target = 6.0000e-11, tol = 1e-12, initial ST = 3.53293\n",
      "ST = 3.5300e+00, lockin = 5.8352e-11, delta = 1.5476e-12\n",
      "Final ST = 3.530003\n",
      "Started new run P_up_SETB1.2000000000000004_P1.7000000000000002_J3.4000000000000004\n"
     ]
    },
    {
     "name": "stderr",
     "output_type": "stream",
     "text": [
      "100%|█████████████████████████████████████████████████████████████████████████████████████████████████████████████████████████████████████████| 401/401 [07:47<00:00,  1.17s/it]\n"
     ]
    },
    {
     "name": "stdout",
     "output_type": "stream",
     "text": [
      "Run finished and took 0:07:50.795952.\n",
      "Saving to P_up_SETB1.2000000000000004_P1.7000000000000002_J3.4000000000000004.xz\n",
      "Saving to experiment.yaml\n",
      "Started new run P_down_SETB1.2000000000000004_P1.7000000000000002_J3.4000000000000004\n"
     ]
    },
    {
     "name": "stderr",
     "output_type": "stream",
     "text": [
      "100%|█████████████████████████████████████████████████████████████████████████████████████████████████████████████████████████████████████████| 401/401 [07:45<00:00,  1.16s/it]\n"
     ]
    },
    {
     "name": "stdout",
     "output_type": "stream",
     "text": [
      "Run finished and took 0:07:49.426326.\n",
      "Saving to P_down_SETB1.2000000000000004_P1.7000000000000002_J3.4000000000000004.xz\n",
      "Saving to experiment.yaml\n",
      "Starting new run: SETB1.2000000000000004 P1.7000000000000002 J3.6000000000000005\n",
      "Flushing electrons...\n",
      "Raising P1 and P2...\n",
      "Loading electrons...\n",
      "Reloaded in 104.81191992759705 seconds.\n",
      "Target = 6.0000e-11, tol = 1e-12, initial ST = 3.530003\n",
      "ST = 3.5272e+00, lockin = 5.9639e-11, delta = 3.9890e-13\n",
      "Final ST = 3.527154\n",
      "Started new run P_up_SETB1.2000000000000004_P1.7000000000000002_J3.6000000000000005\n"
     ]
    },
    {
     "name": "stderr",
     "output_type": "stream",
     "text": [
      "100%|█████████████████████████████████████████████████████████████████████████████████████████████████████████████████████████████████████████| 401/401 [07:47<00:00,  1.17s/it]\n"
     ]
    },
    {
     "name": "stdout",
     "output_type": "stream",
     "text": [
      "Run finished and took 0:07:51.036849.\n",
      "Saving to P_up_SETB1.2000000000000004_P1.7000000000000002_J3.6000000000000005.xz\n",
      "Saving to experiment.yaml\n",
      "Started new run P_down_SETB1.2000000000000004_P1.7000000000000002_J3.6000000000000005\n"
     ]
    },
    {
     "name": "stderr",
     "output_type": "stream",
     "text": [
      "100%|█████████████████████████████████████████████████████████████████████████████████████████████████████████████████████████████████████████| 401/401 [07:46<00:00,  1.16s/it]\n"
     ]
    },
    {
     "name": "stdout",
     "output_type": "stream",
     "text": [
      "Run finished and took 0:07:49.924532.\n",
      "Saving to P_down_SETB1.2000000000000004_P1.7000000000000002_J3.6000000000000005.xz\n",
      "Saving to experiment.yaml\n",
      "Starting new run: SETB1.2000000000000004 P1.7000000000000002 J3.8000000000000007\n",
      "Flushing electrons...\n",
      "Raising P1 and P2...\n",
      "Loading electrons...\n",
      "Reloaded in 104.74069094657898 seconds.\n",
      "Target = 6.0000e-11, tol = 1e-12, initial ST = 3.527154\n",
      "ST = 3.5256e+00, lockin = 6.1563e-11, delta = 1.4713e-12\n",
      "Final ST = 3.525572\n",
      "Started new run P_up_SETB1.2000000000000004_P1.7000000000000002_J3.8000000000000007\n"
     ]
    },
    {
     "name": "stderr",
     "output_type": "stream",
     "text": [
      "100%|█████████████████████████████████████████████████████████████████████████████████████████████████████████████████████████████████████████| 401/401 [07:47<00:00,  1.16s/it]\n"
     ]
    },
    {
     "name": "stdout",
     "output_type": "stream",
     "text": [
      "Run finished and took 0:07:50.522970.\n",
      "Saving to P_up_SETB1.2000000000000004_P1.7000000000000002_J3.8000000000000007.xz\n",
      "Saving to experiment.yaml\n",
      "Started new run P_down_SETB1.2000000000000004_P1.7000000000000002_J3.8000000000000007\n"
     ]
    },
    {
     "name": "stderr",
     "output_type": "stream",
     "text": [
      "100%|█████████████████████████████████████████████████████████████████████████████████████████████████████████████████████████████████████████| 401/401 [07:45<00:00,  1.16s/it]\n"
     ]
    },
    {
     "name": "stdout",
     "output_type": "stream",
     "text": [
      "Run finished and took 0:07:49.084575.\n",
      "Saving to P_down_SETB1.2000000000000004_P1.7000000000000002_J3.8000000000000007.xz\n",
      "Saving to experiment.yaml\n",
      "Starting new run: SETB1.2500000000000004 P1.7000000000000002 J3.0\n",
      "Flushing electrons...\n",
      "Raising P1 and P2...\n",
      "Loading electrons...\n",
      "Reloaded in 107.90642857551575 seconds.\n",
      "Target = 6.0000e-11, tol = 1e-12, initial ST = 3.525572\n",
      "ST = 3.5307e+00, lockin = 5.9563e-11, delta = 3.7914e-13\n",
      "Final ST = 3.530749\n",
      "Started new run P_up_SETB1.2500000000000004_P1.7000000000000002_J3.0\n"
     ]
    },
    {
     "name": "stderr",
     "output_type": "stream",
     "text": [
      "100%|█████████████████████████████████████████████████████████████████████████████████████████████████████████████████████████████████████████| 401/401 [07:47<00:00,  1.17s/it]\n"
     ]
    },
    {
     "name": "stdout",
     "output_type": "stream",
     "text": [
      "Run finished and took 0:07:50.107912.\n",
      "Saving to P_up_SETB1.2500000000000004_P1.7000000000000002_J3.0.xz\n",
      "Saving to experiment.yaml\n",
      "Started new run P_down_SETB1.2500000000000004_P1.7000000000000002_J3.0\n"
     ]
    },
    {
     "name": "stderr",
     "output_type": "stream",
     "text": [
      "100%|█████████████████████████████████████████████████████████████████████████████████████████████████████████████████████████████████████████| 401/401 [07:45<00:00,  1.16s/it]\n"
     ]
    },
    {
     "name": "stdout",
     "output_type": "stream",
     "text": [
      "Run finished and took 0:07:49.142159.\n",
      "Saving to P_down_SETB1.2500000000000004_P1.7000000000000002_J3.0.xz\n",
      "Saving to experiment.yaml\n",
      "Starting new run: SETB1.2500000000000004 P1.7000000000000002 J3.2\n",
      "Flushing electrons...\n",
      "Raising P1 and P2...\n",
      "Loading electrons...\n",
      "Reloaded in 106.7190432548523 seconds.\n",
      "Target = 6.0000e-11, tol = 1e-12, initial ST = 3.530749\n",
      "ST = 3.5308e+00, lockin = 6.0744e-11, delta = 7.0829e-13\n",
      "Final ST = 3.530789\n",
      "Started new run P_up_SETB1.2500000000000004_P1.7000000000000002_J3.2\n"
     ]
    },
    {
     "name": "stderr",
     "output_type": "stream",
     "text": [
      "100%|█████████████████████████████████████████████████████████████████████████████████████████████████████████████████████████████████████████| 401/401 [07:47<00:00,  1.16s/it]\n"
     ]
    },
    {
     "name": "stdout",
     "output_type": "stream",
     "text": [
      "Run finished and took 0:07:50.174943.\n",
      "Saving to P_up_SETB1.2500000000000004_P1.7000000000000002_J3.2.xz\n",
      "Saving to experiment.yaml\n",
      "Started new run P_down_SETB1.2500000000000004_P1.7000000000000002_J3.2\n"
     ]
    },
    {
     "name": "stderr",
     "output_type": "stream",
     "text": [
      "100%|█████████████████████████████████████████████████████████████████████████████████████████████████████████████████████████████████████████| 401/401 [07:46<00:00,  1.16s/it]\n"
     ]
    },
    {
     "name": "stdout",
     "output_type": "stream",
     "text": [
      "Run finished and took 0:07:49.472520.\n",
      "Saving to P_down_SETB1.2500000000000004_P1.7000000000000002_J3.2.xz\n",
      "Saving to experiment.yaml\n",
      "Starting new run: SETB1.2500000000000004 P1.7000000000000002 J3.4000000000000004\n",
      "Flushing electrons...\n",
      "Raising P1 and P2...\n",
      "Loading electrons...\n",
      "Reloaded in 106.71141362190247 seconds.\n",
      "Target = 6.0000e-11, tol = 1e-12, initial ST = 3.530789\n",
      "ST = 3.5293e+00, lockin = 6.1392e-11, delta = 1.3129e-12\n",
      "Final ST = 3.529335\n",
      "Started new run P_up_SETB1.2500000000000004_P1.7000000000000002_J3.4000000000000004\n"
     ]
    },
    {
     "name": "stderr",
     "output_type": "stream",
     "text": [
      "100%|█████████████████████████████████████████████████████████████████████████████████████████████████████████████████████████████████████████| 401/401 [07:47<00:00,  1.17s/it]\n"
     ]
    },
    {
     "name": "stdout",
     "output_type": "stream",
     "text": [
      "Run finished and took 0:07:50.945050.\n",
      "Saving to P_up_SETB1.2500000000000004_P1.7000000000000002_J3.4000000000000004.xz\n",
      "Saving to experiment.yaml\n",
      "Started new run P_down_SETB1.2500000000000004_P1.7000000000000002_J3.4000000000000004\n"
     ]
    },
    {
     "name": "stderr",
     "output_type": "stream",
     "text": [
      "100%|█████████████████████████████████████████████████████████████████████████████████████████████████████████████████████████████████████████| 401/401 [07:46<00:00,  1.16s/it]\n"
     ]
    },
    {
     "name": "stdout",
     "output_type": "stream",
     "text": [
      "Run finished and took 0:07:50.032016.\n",
      "Saving to P_down_SETB1.2500000000000004_P1.7000000000000002_J3.4000000000000004.xz\n",
      "Saving to experiment.yaml\n",
      "Starting new run: SETB1.2500000000000004 P1.7000000000000002 J3.6000000000000005\n",
      "Flushing electrons...\n",
      "Raising P1 and P2...\n",
      "Loading electrons...\n",
      "Reloaded in 106.74294590950012 seconds.\n",
      "Target = 6.0000e-11, tol = 1e-12, initial ST = 3.529335\n",
      "ST = 3.5274e+00, lockin = 6.0608e-11, delta = 6.2869e-13\n",
      "Final ST = 3.527409\n",
      "Started new run P_up_SETB1.2500000000000004_P1.7000000000000002_J3.6000000000000005\n"
     ]
    },
    {
     "name": "stderr",
     "output_type": "stream",
     "text": [
      "100%|█████████████████████████████████████████████████████████████████████████████████████████████████████████████████████████████████████████| 401/401 [07:47<00:00,  1.17s/it]\n"
     ]
    },
    {
     "name": "stdout",
     "output_type": "stream",
     "text": [
      "Run finished and took 0:07:50.734763.\n",
      "Saving to P_up_SETB1.2500000000000004_P1.7000000000000002_J3.6000000000000005.xz\n",
      "Saving to experiment.yaml\n",
      "Started new run P_down_SETB1.2500000000000004_P1.7000000000000002_J3.6000000000000005\n"
     ]
    },
    {
     "name": "stderr",
     "output_type": "stream",
     "text": [
      "100%|█████████████████████████████████████████████████████████████████████████████████████████████████████████████████████████████████████████| 401/401 [07:46<00:00,  1.16s/it]\n"
     ]
    },
    {
     "name": "stdout",
     "output_type": "stream",
     "text": [
      "Run finished and took 0:07:50.433261.\n",
      "Saving to P_down_SETB1.2500000000000004_P1.7000000000000002_J3.6000000000000005.xz\n",
      "Saving to experiment.yaml\n",
      "Starting new run: SETB1.2500000000000004 P1.7000000000000002 J3.8000000000000007\n",
      "Flushing electrons...\n",
      "Raising P1 and P2...\n",
      "Loading electrons...\n",
      "Reloaded in 106.69074058532715 seconds.\n",
      "Target = 6.0000e-11, tol = 1e-12, initial ST = 3.527409\n",
      "ST = 3.5248e+00, lockin = 5.9578e-11, delta = 4.6098e-13\n",
      "Final ST = 3.524786\n",
      "Started new run P_up_SETB1.2500000000000004_P1.7000000000000002_J3.8000000000000007\n"
     ]
    },
    {
     "name": "stderr",
     "output_type": "stream",
     "text": [
      "100%|█████████████████████████████████████████████████████████████████████████████████████████████████████████████████████████████████████████| 401/401 [07:48<00:00,  1.17s/it]\n"
     ]
    },
    {
     "name": "stdout",
     "output_type": "stream",
     "text": [
      "Run finished and took 0:07:51.611508.\n",
      "Saving to P_up_SETB1.2500000000000004_P1.7000000000000002_J3.8000000000000007.xz\n",
      "Saving to experiment.yaml\n",
      "Started new run P_down_SETB1.2500000000000004_P1.7000000000000002_J3.8000000000000007\n"
     ]
    },
    {
     "name": "stderr",
     "output_type": "stream",
     "text": [
      "100%|█████████████████████████████████████████████████████████████████████████████████████████████████████████████████████████████████████████| 401/401 [07:46<00:00,  1.16s/it]\n"
     ]
    },
    {
     "name": "stdout",
     "output_type": "stream",
     "text": [
      "Run finished and took 0:07:50.451673.\n",
      "Saving to P_down_SETB1.2500000000000004_P1.7000000000000002_J3.8000000000000007.xz\n",
      "Saving to experiment.yaml\n",
      "Starting new run: SETB0.8 P1.8000000000000003 J3.0\n",
      "Flushing electrons...\n",
      "Raising P1 and P2...\n",
      "Loading electrons...\n",
      "Reloaded in 94.11290574073792 seconds.\n",
      "Target = 6.0000e-11, tol = 1e-12, initial ST = 3.524786\n",
      "ST = 3.5196e+00, lockin = 6.0785e-11, delta = 7.9725e-13\n",
      "Final ST = 3.519638\n",
      "Started new run P_up_SETB0.8_P1.8000000000000003_J3.0\n"
     ]
    },
    {
     "name": "stderr",
     "output_type": "stream",
     "text": [
      "100%|█████████████████████████████████████████████████████████████████████████████████████████████████████████████████████████████████████████| 401/401 [07:47<00:00,  1.17s/it]\n"
     ]
    },
    {
     "name": "stdout",
     "output_type": "stream",
     "text": [
      "Run finished and took 0:07:50.405205.\n",
      "Saving to P_up_SETB0.8_P1.8000000000000003_J3.0.xz\n",
      "Saving to experiment.yaml\n",
      "Started new run P_down_SETB0.8_P1.8000000000000003_J3.0\n"
     ]
    },
    {
     "name": "stderr",
     "output_type": "stream",
     "text": [
      "100%|█████████████████████████████████████████████████████████████████████████████████████████████████████████████████████████████████████████| 401/401 [07:46<00:00,  1.16s/it]\n"
     ]
    },
    {
     "name": "stdout",
     "output_type": "stream",
     "text": [
      "Run finished and took 0:07:48.956437.\n",
      "Saving to P_down_SETB0.8_P1.8000000000000003_J3.0.xz\n",
      "Saving to experiment.yaml\n",
      "Starting new run: SETB0.8 P1.8000000000000003 J3.2\n",
      "Flushing electrons...\n",
      "Raising P1 and P2...\n",
      "Loading electrons...\n",
      "Reloaded in 94.9548020362854 seconds.\n",
      "Target = 6.0000e-11, tol = 1e-12, initial ST = 3.519638\n",
      "ST = 3.5159e+00, lockin = 6.1579e-11, delta = 1.4682e-12\n",
      "Final ST = 3.515865\n",
      "Started new run P_up_SETB0.8_P1.8000000000000003_J3.2\n"
     ]
    },
    {
     "name": "stderr",
     "output_type": "stream",
     "text": [
      "100%|█████████████████████████████████████████████████████████████████████████████████████████████████████████████████████████████████████████| 401/401 [07:47<00:00,  1.17s/it]\n"
     ]
    },
    {
     "name": "stdout",
     "output_type": "stream",
     "text": [
      "Run finished and took 0:07:50.200700.\n",
      "Saving to P_up_SETB0.8_P1.8000000000000003_J3.2.xz\n",
      "Saving to experiment.yaml\n",
      "Started new run P_down_SETB0.8_P1.8000000000000003_J3.2\n"
     ]
    },
    {
     "name": "stderr",
     "output_type": "stream",
     "text": [
      "100%|█████████████████████████████████████████████████████████████████████████████████████████████████████████████████████████████████████████| 401/401 [07:46<00:00,  1.16s/it]\n"
     ]
    },
    {
     "name": "stdout",
     "output_type": "stream",
     "text": [
      "Run finished and took 0:07:49.222090.\n",
      "Saving to P_down_SETB0.8_P1.8000000000000003_J3.2.xz\n",
      "Saving to experiment.yaml\n",
      "Starting new run: SETB0.8 P1.8000000000000003 J3.4000000000000004\n",
      "Flushing electrons...\n",
      "Raising P1 and P2...\n",
      "Loading electrons...\n",
      "Reloaded in 94.9215452671051 seconds.\n",
      "Target = 6.0000e-11, tol = 1e-12, initial ST = 3.515865\n",
      "ST = 3.5142e+00, lockin = 6.0802e-11, delta = 5.8504e-13\n",
      "Final ST = 3.514195\n",
      "Started new run P_up_SETB0.8_P1.8000000000000003_J3.4000000000000004\n"
     ]
    },
    {
     "name": "stderr",
     "output_type": "stream",
     "text": [
      "100%|█████████████████████████████████████████████████████████████████████████████████████████████████████████████████████████████████████████| 401/401 [07:47<00:00,  1.17s/it]\n"
     ]
    },
    {
     "name": "stdout",
     "output_type": "stream",
     "text": [
      "Run finished and took 0:07:50.517163.\n",
      "Saving to P_up_SETB0.8_P1.8000000000000003_J3.4000000000000004.xz\n",
      "Saving to experiment.yaml\n",
      "Started new run P_down_SETB0.8_P1.8000000000000003_J3.4000000000000004\n"
     ]
    },
    {
     "name": "stderr",
     "output_type": "stream",
     "text": [
      "100%|█████████████████████████████████████████████████████████████████████████████████████████████████████████████████████████████████████████| 401/401 [07:47<00:00,  1.16s/it]\n"
     ]
    },
    {
     "name": "stdout",
     "output_type": "stream",
     "text": [
      "Run finished and took 0:07:50.379686.\n",
      "Saving to P_down_SETB0.8_P1.8000000000000003_J3.4000000000000004.xz\n",
      "Saving to experiment.yaml\n",
      "Starting new run: SETB0.8 P1.8000000000000003 J3.6000000000000005\n",
      "Flushing electrons...\n",
      "Raising P1 and P2...\n",
      "Loading electrons...\n",
      "Reloaded in 94.94354557991028 seconds.\n",
      "Target = 6.0000e-11, tol = 1e-12, initial ST = 3.514195\n",
      "ST = 3.5117e+00, lockin = 6.0786e-11, delta = 7.6450e-13\n",
      "Final ST = 3.511739\n",
      "Started new run P_up_SETB0.8_P1.8000000000000003_J3.6000000000000005\n"
     ]
    },
    {
     "name": "stderr",
     "output_type": "stream",
     "text": [
      "100%|█████████████████████████████████████████████████████████████████████████████████████████████████████████████████████████████████████████| 401/401 [07:48<00:00,  1.17s/it]\n"
     ]
    },
    {
     "name": "stdout",
     "output_type": "stream",
     "text": [
      "Run finished and took 0:07:51.556442.\n",
      "Saving to P_up_SETB0.8_P1.8000000000000003_J3.6000000000000005.xz\n",
      "Saving to experiment.yaml\n",
      "Started new run P_down_SETB0.8_P1.8000000000000003_J3.6000000000000005\n"
     ]
    },
    {
     "name": "stderr",
     "output_type": "stream",
     "text": [
      "100%|█████████████████████████████████████████████████████████████████████████████████████████████████████████████████████████████████████████| 401/401 [07:47<00:00,  1.17s/it]\n"
     ]
    },
    {
     "name": "stdout",
     "output_type": "stream",
     "text": [
      "Run finished and took 0:07:51.027071.\n",
      "Saving to P_down_SETB0.8_P1.8000000000000003_J3.6000000000000005.xz\n",
      "Saving to experiment.yaml\n",
      "Starting new run: SETB0.8 P1.8000000000000003 J3.8000000000000007\n",
      "Flushing electrons...\n",
      "Raising P1 and P2...\n",
      "Loading electrons...\n",
      "Reloaded in 94.90147924423218 seconds.\n",
      "Target = 6.0000e-11, tol = 1e-12, initial ST = 3.511739\n",
      "ST = 3.5122e+00, lockin = 5.9989e-11, delta = 8.7946e-14\n",
      "Final ST = 3.512221\n",
      "Started new run P_up_SETB0.8_P1.8000000000000003_J3.8000000000000007\n"
     ]
    },
    {
     "name": "stderr",
     "output_type": "stream",
     "text": [
      "100%|█████████████████████████████████████████████████████████████████████████████████████████████████████████████████████████████████████████| 401/401 [07:47<00:00,  1.17s/it]\n"
     ]
    },
    {
     "name": "stdout",
     "output_type": "stream",
     "text": [
      "Run finished and took 0:07:50.143261.\n",
      "Saving to P_up_SETB0.8_P1.8000000000000003_J3.8000000000000007.xz\n",
      "Saving to experiment.yaml\n",
      "Started new run P_down_SETB0.8_P1.8000000000000003_J3.8000000000000007\n"
     ]
    },
    {
     "name": "stderr",
     "output_type": "stream",
     "text": [
      "100%|█████████████████████████████████████████████████████████████████████████████████████████████████████████████████████████████████████████| 401/401 [07:47<00:00,  1.17s/it]\n"
     ]
    },
    {
     "name": "stdout",
     "output_type": "stream",
     "text": [
      "Run finished and took 0:07:50.829734.\n",
      "Saving to P_down_SETB0.8_P1.8000000000000003_J3.8000000000000007.xz\n",
      "Saving to experiment.yaml\n",
      "Starting new run: SETB0.8500000000000001 P1.8000000000000003 J3.0\n",
      "Flushing electrons...\n",
      "Raising P1 and P2...\n",
      "Loading electrons...\n",
      "Reloaded in 98.05456328392029 seconds.\n",
      "Target = 6.0000e-11, tol = 1e-12, initial ST = 3.512221\n",
      "ST = 3.5178e+00, lockin = 5.9144e-11, delta = 7.7115e-13\n",
      "Final ST = 3.517771\n",
      "Started new run P_up_SETB0.8500000000000001_P1.8000000000000003_J3.0\n"
     ]
    },
    {
     "name": "stderr",
     "output_type": "stream",
     "text": [
      "100%|█████████████████████████████████████████████████████████████████████████████████████████████████████████████████████████████████████████| 401/401 [07:47<00:00,  1.17s/it]\n"
     ]
    },
    {
     "name": "stdout",
     "output_type": "stream",
     "text": [
      "Run finished and took 0:07:50.668884.\n",
      "Saving to P_up_SETB0.8500000000000001_P1.8000000000000003_J3.0.xz\n",
      "Saving to experiment.yaml\n",
      "Started new run P_down_SETB0.8500000000000001_P1.8000000000000003_J3.0\n"
     ]
    },
    {
     "name": "stderr",
     "output_type": "stream",
     "text": [
      "100%|█████████████████████████████████████████████████████████████████████████████████████████████████████████████████████████████████████████| 401/401 [07:46<00:00,  1.16s/it]\n"
     ]
    },
    {
     "name": "stdout",
     "output_type": "stream",
     "text": [
      "Run finished and took 0:07:49.296288.\n",
      "Saving to P_down_SETB0.8500000000000001_P1.8000000000000003_J3.0.xz\n",
      "Saving to experiment.yaml\n",
      "Starting new run: SETB0.8500000000000001 P1.8000000000000003 J3.2\n",
      "Flushing electrons...\n",
      "Raising P1 and P2...\n",
      "Loading electrons...\n",
      "Reloaded in 96.89713263511658 seconds.\n",
      "Target = 6.0000e-11, tol = 1e-12, initial ST = 3.517771\n",
      "ST = 3.5167e+00, lockin = 5.9874e-11, delta = 1.7942e-13\n",
      "Final ST = 3.516681\n",
      "Started new run P_up_SETB0.8500000000000001_P1.8000000000000003_J3.2\n"
     ]
    },
    {
     "name": "stderr",
     "output_type": "stream",
     "text": [
      "100%|█████████████████████████████████████████████████████████████████████████████████████████████████████████████████████████████████████████| 401/401 [07:48<00:00,  1.17s/it]\n"
     ]
    },
    {
     "name": "stdout",
     "output_type": "stream",
     "text": [
      "Run finished and took 0:07:51.148007.\n",
      "Saving to P_up_SETB0.8500000000000001_P1.8000000000000003_J3.2.xz\n",
      "Saving to experiment.yaml\n",
      "Started new run P_down_SETB0.8500000000000001_P1.8000000000000003_J3.2\n"
     ]
    },
    {
     "name": "stderr",
     "output_type": "stream",
     "text": [
      "100%|█████████████████████████████████████████████████████████████████████████████████████████████████████████████████████████████████████████| 401/401 [07:45<00:00,  1.16s/it]\n"
     ]
    },
    {
     "name": "stdout",
     "output_type": "stream",
     "text": [
      "Run finished and took 0:07:48.920179.\n",
      "Saving to P_down_SETB0.8500000000000001_P1.8000000000000003_J3.2.xz\n",
      "Saving to experiment.yaml\n",
      "Starting new run: SETB0.8500000000000001 P1.8000000000000003 J3.4000000000000004\n",
      "Flushing electrons...\n",
      "Raising P1 and P2...\n",
      "Loading electrons...\n",
      "Reloaded in 96.87333631515503 seconds.\n",
      "Target = 6.0000e-11, tol = 1e-12, initial ST = 3.516681\n",
      "ST = 3.5149e+00, lockin = 6.0333e-11, delta = 1.5131e-13\n",
      "Final ST = 3.514854\n",
      "Started new run P_up_SETB0.8500000000000001_P1.8000000000000003_J3.4000000000000004\n"
     ]
    },
    {
     "name": "stderr",
     "output_type": "stream",
     "text": [
      "100%|█████████████████████████████████████████████████████████████████████████████████████████████████████████████████████████████████████████| 401/401 [07:46<00:00,  1.16s/it]\n"
     ]
    },
    {
     "name": "stdout",
     "output_type": "stream",
     "text": [
      "Run finished and took 0:07:50.146083.\n",
      "Saving to P_up_SETB0.8500000000000001_P1.8000000000000003_J3.4000000000000004.xz\n",
      "Saving to experiment.yaml\n",
      "Started new run P_down_SETB0.8500000000000001_P1.8000000000000003_J3.4000000000000004\n"
     ]
    },
    {
     "name": "stderr",
     "output_type": "stream",
     "text": [
      "100%|█████████████████████████████████████████████████████████████████████████████████████████████████████████████████████████████████████████| 401/401 [07:46<00:00,  1.16s/it]\n"
     ]
    },
    {
     "name": "stdout",
     "output_type": "stream",
     "text": [
      "Run finished and took 0:07:50.375690.\n",
      "Saving to P_down_SETB0.8500000000000001_P1.8000000000000003_J3.4000000000000004.xz\n",
      "Saving to experiment.yaml\n",
      "Starting new run: SETB0.8500000000000001 P1.8000000000000003 J3.6000000000000005\n",
      "Flushing electrons...\n",
      "Raising P1 and P2...\n",
      "Loading electrons...\n",
      "Reloaded in 96.88407874107361 seconds.\n",
      "Target = 6.0000e-11, tol = 1e-12, initial ST = 3.514854\n",
      "ST = 3.5116e+00, lockin = 6.0316e-11, delta = 2.5212e-13\n",
      "Final ST = 3.511602\n",
      "Started new run P_up_SETB0.8500000000000001_P1.8000000000000003_J3.6000000000000005\n"
     ]
    },
    {
     "name": "stderr",
     "output_type": "stream",
     "text": [
      "100%|█████████████████████████████████████████████████████████████████████████████████████████████████████████████████████████████████████████| 401/401 [07:48<00:00,  1.17s/it]\n"
     ]
    },
    {
     "name": "stdout",
     "output_type": "stream",
     "text": [
      "Run finished and took 0:07:52.566011.\n",
      "Saving to P_up_SETB0.8500000000000001_P1.8000000000000003_J3.6000000000000005.xz\n",
      "Saving to experiment.yaml\n",
      "Started new run P_down_SETB0.8500000000000001_P1.8000000000000003_J3.6000000000000005\n"
     ]
    },
    {
     "name": "stderr",
     "output_type": "stream",
     "text": [
      "100%|█████████████████████████████████████████████████████████████████████████████████████████████████████████████████████████████████████████| 401/401 [07:45<00:00,  1.16s/it]\n"
     ]
    },
    {
     "name": "stdout",
     "output_type": "stream",
     "text": [
      "Run finished and took 0:07:49.477197.\n",
      "Saving to P_down_SETB0.8500000000000001_P1.8000000000000003_J3.6000000000000005.xz\n",
      "Saving to experiment.yaml\n",
      "Starting new run: SETB0.8500000000000001 P1.8000000000000003 J3.8000000000000007\n",
      "Flushing electrons...\n",
      "Raising P1 and P2...\n",
      "Loading electrons...\n",
      "Reloaded in 96.8988389968872 seconds.\n",
      "Target = 6.0000e-11, tol = 1e-12, initial ST = 3.511602\n",
      "ST = 3.5126e+00, lockin = 6.0249e-11, delta = 2.3118e-13\n",
      "Final ST = 3.512584\n",
      "Started new run P_up_SETB0.8500000000000001_P1.8000000000000003_J3.8000000000000007\n"
     ]
    },
    {
     "name": "stderr",
     "output_type": "stream",
     "text": [
      "100%|█████████████████████████████████████████████████████████████████████████████████████████████████████████████████████████████████████████| 401/401 [07:47<00:00,  1.17s/it]\n"
     ]
    },
    {
     "name": "stdout",
     "output_type": "stream",
     "text": [
      "Run finished and took 0:07:50.796379.\n",
      "Saving to P_up_SETB0.8500000000000001_P1.8000000000000003_J3.8000000000000007.xz\n",
      "Saving to experiment.yaml\n",
      "Started new run P_down_SETB0.8500000000000001_P1.8000000000000003_J3.8000000000000007\n"
     ]
    },
    {
     "name": "stderr",
     "output_type": "stream",
     "text": [
      "100%|█████████████████████████████████████████████████████████████████████████████████████████████████████████████████████████████████████████| 401/401 [07:46<00:00,  1.16s/it]\n"
     ]
    },
    {
     "name": "stdout",
     "output_type": "stream",
     "text": [
      "Run finished and took 0:07:49.920589.\n",
      "Saving to P_down_SETB0.8500000000000001_P1.8000000000000003_J3.8000000000000007.xz\n",
      "Saving to experiment.yaml\n",
      "Starting new run: SETB0.9000000000000001 P1.8000000000000003 J3.0\n",
      "Flushing electrons...\n",
      "Raising P1 and P2...\n",
      "Loading electrons...\n",
      "Reloaded in 100.36775517463684 seconds.\n",
      "Target = 6.0000e-11, tol = 1e-12, initial ST = 3.512584\n",
      "ST = 3.5212e+00, lockin = 5.9463e-11, delta = 5.8579e-13\n",
      "Final ST = 3.52122\n",
      "Started new run P_up_SETB0.9000000000000001_P1.8000000000000003_J3.0\n"
     ]
    },
    {
     "name": "stderr",
     "output_type": "stream",
     "text": [
      "100%|█████████████████████████████████████████████████████████████████████████████████████████████████████████████████████████████████████████| 401/401 [07:47<00:00,  1.17s/it]\n"
     ]
    },
    {
     "name": "stdout",
     "output_type": "stream",
     "text": [
      "Run finished and took 0:07:50.991290.\n",
      "Saving to P_up_SETB0.9000000000000001_P1.8000000000000003_J3.0.xz\n",
      "Saving to experiment.yaml\n",
      "Started new run P_down_SETB0.9000000000000001_P1.8000000000000003_J3.0\n"
     ]
    },
    {
     "name": "stderr",
     "output_type": "stream",
     "text": [
      "100%|█████████████████████████████████████████████████████████████████████████████████████████████████████████████████████████████████████████| 401/401 [07:46<00:00,  1.16s/it]\n"
     ]
    },
    {
     "name": "stdout",
     "output_type": "stream",
     "text": [
      "Run finished and took 0:07:50.030394.\n",
      "Saving to P_down_SETB0.9000000000000001_P1.8000000000000003_J3.0.xz\n",
      "Saving to experiment.yaml\n",
      "Starting new run: SETB0.9000000000000001 P1.8000000000000003 J3.2\n",
      "Flushing electrons...\n",
      "Raising P1 and P2...\n",
      "Loading electrons...\n",
      "Reloaded in 98.81557178497314 seconds.\n",
      "Target = 6.0000e-11, tol = 1e-12, initial ST = 3.52122\n",
      "ST = 3.5234e+00, lockin = 5.9981e-11, delta = 1.8862e-14\n",
      "Final ST = 3.523362\n",
      "Started new run P_up_SETB0.9000000000000001_P1.8000000000000003_J3.2\n"
     ]
    },
    {
     "name": "stderr",
     "output_type": "stream",
     "text": [
      "100%|█████████████████████████████████████████████████████████████████████████████████████████████████████████████████████████████████████████| 401/401 [07:47<00:00,  1.17s/it]\n"
     ]
    },
    {
     "name": "stdout",
     "output_type": "stream",
     "text": [
      "Run finished and took 0:07:50.359055.\n",
      "Saving to P_up_SETB0.9000000000000001_P1.8000000000000003_J3.2.xz\n",
      "Saving to experiment.yaml\n",
      "Started new run P_down_SETB0.9000000000000001_P1.8000000000000003_J3.2\n"
     ]
    },
    {
     "name": "stderr",
     "output_type": "stream",
     "text": [
      "100%|█████████████████████████████████████████████████████████████████████████████████████████████████████████████████████████████████████████| 401/401 [07:46<00:00,  1.16s/it]\n"
     ]
    },
    {
     "name": "stdout",
     "output_type": "stream",
     "text": [
      "Run finished and took 0:07:49.478171.\n",
      "Saving to P_down_SETB0.9000000000000001_P1.8000000000000003_J3.2.xz\n",
      "Saving to experiment.yaml\n",
      "Starting new run: SETB0.9000000000000001 P1.8000000000000003 J3.4000000000000004\n",
      "Flushing electrons...\n",
      "Raising P1 and P2...\n",
      "Loading electrons...\n",
      "Reloaded in 98.82723903656006 seconds.\n",
      "Target = 6.0000e-11, tol = 1e-12, initial ST = 3.523362\n",
      "ST = 3.5205e+00, lockin = 6.1586e-11, delta = 1.5262e-12\n",
      "Final ST = 3.520473\n",
      "Started new run P_up_SETB0.9000000000000001_P1.8000000000000003_J3.4000000000000004\n"
     ]
    },
    {
     "name": "stderr",
     "output_type": "stream",
     "text": [
      "100%|█████████████████████████████████████████████████████████████████████████████████████████████████████████████████████████████████████████| 401/401 [07:47<00:00,  1.16s/it]\n"
     ]
    },
    {
     "name": "stdout",
     "output_type": "stream",
     "text": [
      "Run finished and took 0:07:50.402835.\n",
      "Saving to P_up_SETB0.9000000000000001_P1.8000000000000003_J3.4000000000000004.xz\n",
      "Saving to experiment.yaml\n",
      "Started new run P_down_SETB0.9000000000000001_P1.8000000000000003_J3.4000000000000004\n"
     ]
    },
    {
     "name": "stderr",
     "output_type": "stream",
     "text": [
      "100%|█████████████████████████████████████████████████████████████████████████████████████████████████████████████████████████████████████████| 401/401 [07:47<00:00,  1.17s/it]\n"
     ]
    },
    {
     "name": "stdout",
     "output_type": "stream",
     "text": [
      "Run finished and took 0:07:50.940341.\n",
      "Saving to P_down_SETB0.9000000000000001_P1.8000000000000003_J3.4000000000000004.xz\n",
      "Saving to experiment.yaml\n",
      "Starting new run: SETB0.9000000000000001 P1.8000000000000003 J3.6000000000000005\n",
      "Flushing electrons...\n",
      "Raising P1 and P2...\n",
      "Loading electrons...\n",
      "Reloaded in 98.885183095932 seconds.\n",
      "Target = 6.0000e-11, tol = 1e-12, initial ST = 3.520473\n",
      "ST = 3.5189e+00, lockin = 6.0536e-11, delta = 3.9679e-13\n",
      "Final ST = 3.518891\n",
      "Started new run P_up_SETB0.9000000000000001_P1.8000000000000003_J3.6000000000000005\n"
     ]
    },
    {
     "name": "stderr",
     "output_type": "stream",
     "text": [
      "100%|█████████████████████████████████████████████████████████████████████████████████████████████████████████████████████████████████████████| 401/401 [07:49<00:00,  1.17s/it]\n"
     ]
    },
    {
     "name": "stdout",
     "output_type": "stream",
     "text": [
      "Run finished and took 0:07:52.960463.\n",
      "Saving to P_up_SETB0.9000000000000001_P1.8000000000000003_J3.6000000000000005.xz\n",
      "Saving to experiment.yaml\n",
      "Started new run P_down_SETB0.9000000000000001_P1.8000000000000003_J3.6000000000000005\n"
     ]
    },
    {
     "name": "stderr",
     "output_type": "stream",
     "text": [
      "100%|█████████████████████████████████████████████████████████████████████████████████████████████████████████████████████████████████████████| 401/401 [07:46<00:00,  1.16s/it]\n"
     ]
    },
    {
     "name": "stdout",
     "output_type": "stream",
     "text": [
      "Run finished and took 0:07:50.151425.\n",
      "Saving to P_down_SETB0.9000000000000001_P1.8000000000000003_J3.6000000000000005.xz\n",
      "Saving to experiment.yaml\n",
      "Starting new run: SETB0.9000000000000001 P1.8000000000000003 J3.8000000000000007\n",
      "Flushing electrons...\n",
      "Raising P1 and P2...\n",
      "Loading electrons...\n",
      "Reloaded in 99.12584042549133 seconds.\n",
      "Target = 6.0000e-11, tol = 1e-12, initial ST = 3.518891\n",
      "ST = 3.5178e+00, lockin = 5.9673e-11, delta = 3.0893e-13\n",
      "Final ST = 3.517752\n",
      "Started new run P_up_SETB0.9000000000000001_P1.8000000000000003_J3.8000000000000007\n"
     ]
    },
    {
     "name": "stderr",
     "output_type": "stream",
     "text": [
      "100%|█████████████████████████████████████████████████████████████████████████████████████████████████████████████████████████████████████████| 401/401 [07:47<00:00,  1.17s/it]\n"
     ]
    },
    {
     "name": "stdout",
     "output_type": "stream",
     "text": [
      "Run finished and took 0:07:51.148626.\n",
      "Saving to P_up_SETB0.9000000000000001_P1.8000000000000003_J3.8000000000000007.xz\n",
      "Saving to experiment.yaml\n",
      "Started new run P_down_SETB0.9000000000000001_P1.8000000000000003_J3.8000000000000007\n"
     ]
    },
    {
     "name": "stderr",
     "output_type": "stream",
     "text": [
      "100%|█████████████████████████████████████████████████████████████████████████████████████████████████████████████████████████████████████████| 401/401 [07:46<00:00,  1.16s/it]\n"
     ]
    },
    {
     "name": "stdout",
     "output_type": "stream",
     "text": [
      "Run finished and took 0:07:50.508384.\n",
      "Saving to P_down_SETB0.9000000000000001_P1.8000000000000003_J3.8000000000000007.xz\n",
      "Saving to experiment.yaml\n",
      "Starting new run: SETB0.9500000000000002 P1.8000000000000003 J3.0\n",
      "Flushing electrons...\n",
      "Raising P1 and P2...\n",
      "Loading electrons...\n",
      "Reloaded in 102.2862823009491 seconds.\n",
      "Target = 6.0000e-11, tol = 1e-12, initial ST = 3.517752\n",
      "ST = 3.5265e+00, lockin = 5.8572e-11, delta = 1.3223e-12\n",
      "Final ST = 3.526545\n",
      "Started new run P_up_SETB0.9500000000000002_P1.8000000000000003_J3.0\n"
     ]
    },
    {
     "name": "stderr",
     "output_type": "stream",
     "text": [
      "100%|█████████████████████████████████████████████████████████████████████████████████████████████████████████████████████████████████████████| 401/401 [07:47<00:00,  1.17s/it]\n"
     ]
    },
    {
     "name": "stdout",
     "output_type": "stream",
     "text": [
      "Run finished and took 0:07:50.658138.\n",
      "Saving to P_up_SETB0.9500000000000002_P1.8000000000000003_J3.0.xz\n",
      "Saving to experiment.yaml\n",
      "Started new run P_down_SETB0.9500000000000002_P1.8000000000000003_J3.0\n"
     ]
    },
    {
     "name": "stderr",
     "output_type": "stream",
     "text": [
      "100%|█████████████████████████████████████████████████████████████████████████████████████████████████████████████████████████████████████████| 401/401 [07:46<00:00,  1.16s/it]\n"
     ]
    },
    {
     "name": "stdout",
     "output_type": "stream",
     "text": [
      "Run finished and took 0:07:49.727210.\n",
      "Saving to P_down_SETB0.9500000000000002_P1.8000000000000003_J3.0.xz\n",
      "Saving to experiment.yaml\n",
      "Starting new run: SETB0.9500000000000002 P1.8000000000000003 J3.2\n",
      "Flushing electrons...\n",
      "Raising P1 and P2...\n",
      "Loading electrons...\n",
      "Reloaded in 100.85815811157227 seconds.\n",
      "Target = 6.0000e-11, tol = 1e-12, initial ST = 3.526545\n",
      "ST = 3.5273e+00, lockin = 6.0184e-11, delta = 1.4753e-13\n",
      "Final ST = 3.527291\n",
      "Started new run P_up_SETB0.9500000000000002_P1.8000000000000003_J3.2\n"
     ]
    },
    {
     "name": "stderr",
     "output_type": "stream",
     "text": [
      "100%|█████████████████████████████████████████████████████████████████████████████████████████████████████████████████████████████████████████| 401/401 [07:48<00:00,  1.17s/it]\n"
     ]
    },
    {
     "name": "stdout",
     "output_type": "stream",
     "text": [
      "Run finished and took 0:07:51.387129.\n",
      "Saving to P_up_SETB0.9500000000000002_P1.8000000000000003_J3.2.xz\n",
      "Saving to experiment.yaml\n",
      "Started new run P_down_SETB0.9500000000000002_P1.8000000000000003_J3.2\n"
     ]
    },
    {
     "name": "stderr",
     "output_type": "stream",
     "text": [
      "100%|█████████████████████████████████████████████████████████████████████████████████████████████████████████████████████████████████████████| 401/401 [07:45<00:00,  1.16s/it]\n"
     ]
    },
    {
     "name": "stdout",
     "output_type": "stream",
     "text": [
      "Run finished and took 0:07:48.851065.\n",
      "Saving to P_down_SETB0.9500000000000002_P1.8000000000000003_J3.2.xz\n",
      "Saving to experiment.yaml\n",
      "Starting new run: SETB0.9500000000000002 P1.8000000000000003 J3.4000000000000004\n",
      "Flushing electrons...\n",
      "Raising P1 and P2...\n",
      "Loading electrons...\n",
      "Reloaded in 100.81024050712585 seconds.\n",
      "Target = 6.0000e-11, tol = 1e-12, initial ST = 3.527291\n",
      "ST = 3.5247e+00, lockin = 6.0733e-11, delta = 6.6461e-13\n",
      "Final ST = 3.524658\n",
      "Started new run P_up_SETB0.9500000000000002_P1.8000000000000003_J3.4000000000000004\n"
     ]
    },
    {
     "name": "stderr",
     "output_type": "stream",
     "text": [
      "100%|█████████████████████████████████████████████████████████████████████████████████████████████████████████████████████████████████████████| 401/401 [07:47<00:00,  1.17s/it]\n"
     ]
    },
    {
     "name": "stdout",
     "output_type": "stream",
     "text": [
      "Run finished and took 0:07:50.854993.\n",
      "Saving to P_up_SETB0.9500000000000002_P1.8000000000000003_J3.4000000000000004.xz\n",
      "Saving to experiment.yaml\n",
      "Started new run P_down_SETB0.9500000000000002_P1.8000000000000003_J3.4000000000000004\n"
     ]
    },
    {
     "name": "stderr",
     "output_type": "stream",
     "text": [
      "100%|█████████████████████████████████████████████████████████████████████████████████████████████████████████████████████████████████████████| 401/401 [07:45<00:00,  1.16s/it]\n"
     ]
    },
    {
     "name": "stdout",
     "output_type": "stream",
     "text": [
      "Run finished and took 0:07:49.346798.\n",
      "Saving to P_down_SETB0.9500000000000002_P1.8000000000000003_J3.4000000000000004.xz\n",
      "Saving to experiment.yaml\n",
      "Starting new run: SETB0.9500000000000002 P1.8000000000000003 J3.6000000000000005\n",
      "Flushing electrons...\n",
      "Raising P1 and P2...\n",
      "Loading electrons...\n",
      "Reloaded in 100.80691409111023 seconds.\n",
      "Target = 6.0000e-11, tol = 1e-12, initial ST = 3.524658\n",
      "ST = 3.5223e+00, lockin = 6.1380e-11, delta = 1.2115e-12\n",
      "Final ST = 3.522291\n",
      "Started new run P_up_SETB0.9500000000000002_P1.8000000000000003_J3.6000000000000005\n"
     ]
    },
    {
     "name": "stderr",
     "output_type": "stream",
     "text": [
      "100%|█████████████████████████████████████████████████████████████████████████████████████████████████████████████████████████████████████████| 401/401 [07:47<00:00,  1.16s/it]\n"
     ]
    },
    {
     "name": "stdout",
     "output_type": "stream",
     "text": [
      "Run finished and took 0:07:50.814582.\n",
      "Saving to P_up_SETB0.9500000000000002_P1.8000000000000003_J3.6000000000000005.xz\n",
      "Saving to experiment.yaml\n",
      "Started new run P_down_SETB0.9500000000000002_P1.8000000000000003_J3.6000000000000005\n"
     ]
    },
    {
     "name": "stderr",
     "output_type": "stream",
     "text": [
      "100%|█████████████████████████████████████████████████████████████████████████████████████████████████████████████████████████████████████████| 401/401 [07:46<00:00,  1.16s/it]\n"
     ]
    },
    {
     "name": "stdout",
     "output_type": "stream",
     "text": [
      "Run finished and took 0:07:50.001252.\n",
      "Saving to P_down_SETB0.9500000000000002_P1.8000000000000003_J3.6000000000000005.xz\n",
      "Saving to experiment.yaml\n",
      "Starting new run: SETB0.9500000000000002 P1.8000000000000003 J3.8000000000000007\n",
      "Flushing electrons...\n",
      "Raising P1 and P2...\n",
      "Loading electrons...\n",
      "Reloaded in 100.83100962638855 seconds.\n",
      "Target = 6.0000e-11, tol = 1e-12, initial ST = 3.522291\n",
      "ST = 3.5204e+00, lockin = 6.0876e-11, delta = 8.5112e-13\n",
      "Final ST = 3.520365\n",
      "Started new run P_up_SETB0.9500000000000002_P1.8000000000000003_J3.8000000000000007\n"
     ]
    },
    {
     "name": "stderr",
     "output_type": "stream",
     "text": [
      "100%|█████████████████████████████████████████████████████████████████████████████████████████████████████████████████████████████████████████| 401/401 [07:48<00:00,  1.17s/it]\n"
     ]
    },
    {
     "name": "stdout",
     "output_type": "stream",
     "text": [
      "Run finished and took 0:07:51.672671.\n",
      "Saving to P_up_SETB0.9500000000000002_P1.8000000000000003_J3.8000000000000007.xz\n",
      "Saving to experiment.yaml\n",
      "Started new run P_down_SETB0.9500000000000002_P1.8000000000000003_J3.8000000000000007\n"
     ]
    },
    {
     "name": "stderr",
     "output_type": "stream",
     "text": [
      "100%|█████████████████████████████████████████████████████████████████████████████████████████████████████████████████████████████████████████| 401/401 [07:47<00:00,  1.17s/it]\n"
     ]
    },
    {
     "name": "stdout",
     "output_type": "stream",
     "text": [
      "Run finished and took 0:07:51.590304.\n",
      "Saving to P_down_SETB0.9500000000000002_P1.8000000000000003_J3.8000000000000007.xz\n",
      "Saving to experiment.yaml\n",
      "Starting new run: SETB1.0000000000000002 P1.8000000000000003 J3.0\n",
      "Flushing electrons...\n",
      "Raising P1 and P2...\n",
      "Loading electrons...\n",
      "Reloaded in 103.96133804321289 seconds.\n",
      "Target = 6.0000e-11, tol = 1e-12, initial ST = 3.520365\n",
      "ST = 3.5266e+00, lockin = 6.0256e-11, delta = 2.8360e-13\n",
      "Final ST = 3.526643\n",
      "Started new run P_up_SETB1.0000000000000002_P1.8000000000000003_J3.0\n"
     ]
    },
    {
     "name": "stderr",
     "output_type": "stream",
     "text": [
      "100%|█████████████████████████████████████████████████████████████████████████████████████████████████████████████████████████████████████████| 401/401 [07:46<00:00,  1.16s/it]\n"
     ]
    },
    {
     "name": "stdout",
     "output_type": "stream",
     "text": [
      "Run finished and took 0:07:50.109173.\n",
      "Saving to P_up_SETB1.0000000000000002_P1.8000000000000003_J3.0.xz\n",
      "Saving to experiment.yaml\n",
      "Started new run P_down_SETB1.0000000000000002_P1.8000000000000003_J3.0\n"
     ]
    },
    {
     "name": "stderr",
     "output_type": "stream",
     "text": [
      "100%|█████████████████████████████████████████████████████████████████████████████████████████████████████████████████████████████████████████| 401/401 [07:46<00:00,  1.16s/it]\n"
     ]
    },
    {
     "name": "stdout",
     "output_type": "stream",
     "text": [
      "Run finished and took 0:07:49.694334.\n",
      "Saving to P_down_SETB1.0000000000000002_P1.8000000000000003_J3.0.xz\n",
      "Saving to experiment.yaml\n",
      "Starting new run: SETB1.0000000000000002 P1.8000000000000003 J3.2\n",
      "Flushing electrons...\n",
      "Raising P1 and P2...\n",
      "Loading electrons...\n",
      "Reloaded in 102.82114624977112 seconds.\n",
      "Target = 6.0000e-11, tol = 1e-12, initial ST = 3.526643\n",
      "ST = 3.5279e+00, lockin = 5.9856e-11, delta = 1.1073e-13\n",
      "Final ST = 3.52792\n",
      "Started new run P_up_SETB1.0000000000000002_P1.8000000000000003_J3.2\n"
     ]
    },
    {
     "name": "stderr",
     "output_type": "stream",
     "text": [
      "100%|█████████████████████████████████████████████████████████████████████████████████████████████████████████████████████████████████████████| 401/401 [07:48<00:00,  1.17s/it]\n"
     ]
    },
    {
     "name": "stdout",
     "output_type": "stream",
     "text": [
      "Run finished and took 0:07:51.066660.\n",
      "Saving to P_up_SETB1.0000000000000002_P1.8000000000000003_J3.2.xz\n",
      "Saving to experiment.yaml\n",
      "Started new run P_down_SETB1.0000000000000002_P1.8000000000000003_J3.2\n"
     ]
    },
    {
     "name": "stderr",
     "output_type": "stream",
     "text": [
      "100%|█████████████████████████████████████████████████████████████████████████████████████████████████████████████████████████████████████████| 401/401 [07:46<00:00,  1.16s/it]\n"
     ]
    },
    {
     "name": "stdout",
     "output_type": "stream",
     "text": [
      "Run finished and took 0:07:49.892896.\n",
      "Saving to P_down_SETB1.0000000000000002_P1.8000000000000003_J3.2.xz\n",
      "Saving to experiment.yaml\n",
      "Starting new run: SETB1.0000000000000002 P1.8000000000000003 J3.4000000000000004\n",
      "Flushing electrons...\n",
      "Raising P1 and P2...\n",
      "Loading electrons...\n",
      "Reloaded in 102.76151657104492 seconds.\n",
      "Target = 6.0000e-11, tol = 1e-12, initial ST = 3.52792\n",
      "ST = 3.5247e+00, lockin = 6.2162e-11, delta = 2.0309e-12\n",
      "Final ST = 3.524668\n",
      "Started new run P_up_SETB1.0000000000000002_P1.8000000000000003_J3.4000000000000004\n"
     ]
    },
    {
     "name": "stderr",
     "output_type": "stream",
     "text": [
      "100%|█████████████████████████████████████████████████████████████████████████████████████████████████████████████████████████████████████████| 401/401 [07:47<00:00,  1.16s/it]\n"
     ]
    },
    {
     "name": "stdout",
     "output_type": "stream",
     "text": [
      "Run finished and took 0:07:50.507383.\n",
      "Saving to P_up_SETB1.0000000000000002_P1.8000000000000003_J3.4000000000000004.xz\n",
      "Saving to experiment.yaml\n",
      "Started new run P_down_SETB1.0000000000000002_P1.8000000000000003_J3.4000000000000004\n"
     ]
    },
    {
     "name": "stderr",
     "output_type": "stream",
     "text": [
      "100%|█████████████████████████████████████████████████████████████████████████████████████████████████████████████████████████████████████████| 401/401 [07:46<00:00,  1.16s/it]\n"
     ]
    },
    {
     "name": "stdout",
     "output_type": "stream",
     "text": [
      "Run finished and took 0:07:50.091714.\n",
      "Saving to P_down_SETB1.0000000000000002_P1.8000000000000003_J3.4000000000000004.xz\n",
      "Saving to experiment.yaml\n",
      "Starting new run: SETB1.0000000000000002 P1.8000000000000003 J3.6000000000000005\n",
      "Flushing electrons...\n",
      "Raising P1 and P2...\n",
      "Loading electrons...\n",
      "Reloaded in 102.8146722316742 seconds.\n",
      "Target = 6.0000e-11, tol = 1e-12, initial ST = 3.524668\n",
      "ST = 3.5222e+00, lockin = 5.9576e-11, delta = 4.5646e-13\n",
      "Final ST = 3.522232\n",
      "Started new run P_up_SETB1.0000000000000002_P1.8000000000000003_J3.6000000000000005\n"
     ]
    },
    {
     "name": "stderr",
     "output_type": "stream",
     "text": [
      "100%|█████████████████████████████████████████████████████████████████████████████████████████████████████████████████████████████████████████| 401/401 [07:45<00:00,  1.16s/it]\n"
     ]
    },
    {
     "name": "stdout",
     "output_type": "stream",
     "text": [
      "Run finished and took 0:07:49.562121.\n",
      "Saving to P_up_SETB1.0000000000000002_P1.8000000000000003_J3.6000000000000005.xz\n",
      "Saving to experiment.yaml\n",
      "Started new run P_down_SETB1.0000000000000002_P1.8000000000000003_J3.6000000000000005\n"
     ]
    },
    {
     "name": "stderr",
     "output_type": "stream",
     "text": [
      "100%|█████████████████████████████████████████████████████████████████████████████████████████████████████████████████████████████████████████| 401/401 [07:47<00:00,  1.17s/it]\n"
     ]
    },
    {
     "name": "stdout",
     "output_type": "stream",
     "text": [
      "Run finished and took 0:07:51.012667.\n",
      "Saving to P_down_SETB1.0000000000000002_P1.8000000000000003_J3.6000000000000005.xz\n",
      "Saving to experiment.yaml\n",
      "Starting new run: SETB1.0000000000000002 P1.8000000000000003 J3.8000000000000007\n",
      "Flushing electrons...\n",
      "Raising P1 and P2...\n",
      "Loading electrons...\n",
      "Reloaded in 102.77846574783325 seconds.\n",
      "Target = 6.0000e-11, tol = 1e-12, initial ST = 3.522232\n",
      "ST = 3.5213e+00, lockin = 6.0098e-11, delta = 7.1698e-14\n",
      "Final ST = 3.521259\n",
      "Started new run P_up_SETB1.0000000000000002_P1.8000000000000003_J3.8000000000000007\n"
     ]
    },
    {
     "name": "stderr",
     "output_type": "stream",
     "text": [
      "100%|█████████████████████████████████████████████████████████████████████████████████████████████████████████████████████████████████████████| 401/401 [07:47<00:00,  1.17s/it]\n"
     ]
    },
    {
     "name": "stdout",
     "output_type": "stream",
     "text": [
      "Run finished and took 0:07:51.245369.\n",
      "Saving to P_up_SETB1.0000000000000002_P1.8000000000000003_J3.8000000000000007.xz\n",
      "Saving to experiment.yaml\n",
      "Started new run P_down_SETB1.0000000000000002_P1.8000000000000003_J3.8000000000000007\n"
     ]
    },
    {
     "name": "stderr",
     "output_type": "stream",
     "text": [
      "100%|█████████████████████████████████████████████████████████████████████████████████████████████████████████████████████████████████████████| 401/401 [07:46<00:00,  1.16s/it]\n"
     ]
    },
    {
     "name": "stdout",
     "output_type": "stream",
     "text": [
      "Run finished and took 0:07:49.504528.\n",
      "Saving to P_down_SETB1.0000000000000002_P1.8000000000000003_J3.8000000000000007.xz\n",
      "Saving to experiment.yaml\n",
      "Starting new run: SETB1.0500000000000003 P1.8000000000000003 J3.0\n",
      "Flushing electrons...\n",
      "Raising P1 and P2...\n",
      "Loading electrons...\n",
      "Reloaded in 105.9298837184906 seconds.\n",
      "Target = 6.0000e-11, tol = 1e-12, initial ST = 3.521259\n",
      "ST = 3.5265e+00, lockin = 5.8819e-11, delta = 1.1409e-12\n",
      "Final ST = 3.526456\n",
      "Started new run P_up_SETB1.0500000000000003_P1.8000000000000003_J3.0\n"
     ]
    },
    {
     "name": "stderr",
     "output_type": "stream",
     "text": [
      "100%|█████████████████████████████████████████████████████████████████████████████████████████████████████████████████████████████████████████| 401/401 [07:48<00:00,  1.17s/it]\n"
     ]
    },
    {
     "name": "stdout",
     "output_type": "stream",
     "text": [
      "Run finished and took 0:07:51.438133.\n",
      "Saving to P_up_SETB1.0500000000000003_P1.8000000000000003_J3.0.xz\n",
      "Saving to experiment.yaml\n",
      "Started new run P_down_SETB1.0500000000000003_P1.8000000000000003_J3.0\n"
     ]
    },
    {
     "name": "stderr",
     "output_type": "stream",
     "text": [
      "100%|█████████████████████████████████████████████████████████████████████████████████████████████████████████████████████████████████████████| 401/401 [07:45<00:00,  1.16s/it]\n"
     ]
    },
    {
     "name": "stdout",
     "output_type": "stream",
     "text": [
      "Run finished and took 0:07:49.106416.\n",
      "Saving to P_down_SETB1.0500000000000003_P1.8000000000000003_J3.0.xz\n",
      "Saving to experiment.yaml\n",
      "Starting new run: SETB1.0500000000000003 P1.8000000000000003 J3.2\n",
      "Flushing electrons...\n",
      "Raising P1 and P2...\n",
      "Loading electrons...\n",
      "Reloaded in 104.7398190498352 seconds.\n",
      "Target = 6.0000e-11, tol = 1e-12, initial ST = 3.526456\n",
      "ST = 3.5276e+00, lockin = 6.0940e-11, delta = 9.2898e-13\n",
      "Final ST = 3.527606\n",
      "Started new run P_up_SETB1.0500000000000003_P1.8000000000000003_J3.2\n"
     ]
    },
    {
     "name": "stderr",
     "output_type": "stream",
     "text": [
      "100%|█████████████████████████████████████████████████████████████████████████████████████████████████████████████████████████████████████████| 401/401 [07:46<00:00,  1.16s/it]\n"
     ]
    },
    {
     "name": "stdout",
     "output_type": "stream",
     "text": [
      "Run finished and took 0:07:49.291291.\n",
      "Saving to P_up_SETB1.0500000000000003_P1.8000000000000003_J3.2.xz\n",
      "Saving to experiment.yaml\n",
      "Started new run P_down_SETB1.0500000000000003_P1.8000000000000003_J3.2\n"
     ]
    },
    {
     "name": "stderr",
     "output_type": "stream",
     "text": [
      "100%|█████████████████████████████████████████████████████████████████████████████████████████████████████████████████████████████████████████| 401/401 [07:46<00:00,  1.16s/it]\n"
     ]
    },
    {
     "name": "stdout",
     "output_type": "stream",
     "text": [
      "Run finished and took 0:07:49.787274.\n",
      "Saving to P_down_SETB1.0500000000000003_P1.8000000000000003_J3.2.xz\n",
      "Saving to experiment.yaml\n",
      "Starting new run: SETB1.0500000000000003 P1.8000000000000003 J3.4000000000000004\n",
      "Flushing electrons...\n",
      "Raising P1 and P2...\n",
      "Loading electrons...\n",
      "Reloaded in 104.7287950515747 seconds.\n",
      "Target = 6.0000e-11, tol = 1e-12, initial ST = 3.527606\n",
      "ST = 3.5245e+00, lockin = 5.9673e-11, delta = 3.6109e-13\n",
      "Final ST = 3.52454\n",
      "Started new run P_up_SETB1.0500000000000003_P1.8000000000000003_J3.4000000000000004\n"
     ]
    },
    {
     "name": "stderr",
     "output_type": "stream",
     "text": [
      "100%|█████████████████████████████████████████████████████████████████████████████████████████████████████████████████████████████████████████| 401/401 [07:47<00:00,  1.17s/it]\n"
     ]
    },
    {
     "name": "stdout",
     "output_type": "stream",
     "text": [
      "Run finished and took 0:07:50.867623.\n",
      "Saving to P_up_SETB1.0500000000000003_P1.8000000000000003_J3.4000000000000004.xz\n",
      "Saving to experiment.yaml\n",
      "Started new run P_down_SETB1.0500000000000003_P1.8000000000000003_J3.4000000000000004\n"
     ]
    },
    {
     "name": "stderr",
     "output_type": "stream",
     "text": [
      "100%|█████████████████████████████████████████████████████████████████████████████████████████████████████████████████████████████████████████| 401/401 [07:46<00:00,  1.16s/it]\n"
     ]
    },
    {
     "name": "stdout",
     "output_type": "stream",
     "text": [
      "Run finished and took 0:07:50.501583.\n",
      "Saving to P_down_SETB1.0500000000000003_P1.8000000000000003_J3.4000000000000004.xz\n",
      "Saving to experiment.yaml\n",
      "Starting new run: SETB1.0500000000000003 P1.8000000000000003 J3.6000000000000005\n",
      "Flushing electrons...\n",
      "Raising P1 and P2...\n",
      "Loading electrons...\n",
      "Reloaded in 104.743967294693 seconds.\n",
      "Target = 6.0000e-11, tol = 1e-12, initial ST = 3.52454\n",
      "ST = 3.5222e+00, lockin = 6.1470e-11, delta = 1.3830e-12\n",
      "Final ST = 3.522192\n",
      "Started new run P_up_SETB1.0500000000000003_P1.8000000000000003_J3.6000000000000005\n"
     ]
    },
    {
     "name": "stderr",
     "output_type": "stream",
     "text": [
      "100%|█████████████████████████████████████████████████████████████████████████████████████████████████████████████████████████████████████████| 401/401 [07:48<00:00,  1.17s/it]\n"
     ]
    },
    {
     "name": "stdout",
     "output_type": "stream",
     "text": [
      "Run finished and took 0:07:52.124415.\n",
      "Saving to P_up_SETB1.0500000000000003_P1.8000000000000003_J3.6000000000000005.xz\n",
      "Saving to experiment.yaml\n",
      "Started new run P_down_SETB1.0500000000000003_P1.8000000000000003_J3.6000000000000005\n"
     ]
    },
    {
     "name": "stderr",
     "output_type": "stream",
     "text": [
      "100%|█████████████████████████████████████████████████████████████████████████████████████████████████████████████████████████████████████████| 401/401 [07:46<00:00,  1.16s/it]\n"
     ]
    },
    {
     "name": "stdout",
     "output_type": "stream",
     "text": [
      "Run finished and took 0:07:50.193739.\n",
      "Saving to P_down_SETB1.0500000000000003_P1.8000000000000003_J3.6000000000000005.xz\n",
      "Saving to experiment.yaml\n",
      "Starting new run: SETB1.0500000000000003 P1.8000000000000003 J3.8000000000000007\n",
      "Flushing electrons...\n",
      "Raising P1 and P2...\n",
      "Loading electrons...\n",
      "Reloaded in 104.75051951408386 seconds.\n",
      "Target = 6.0000e-11, tol = 1e-12, initial ST = 3.522192\n",
      "ST = 3.5211e+00, lockin = 6.0530e-11, delta = 5.5647e-13\n",
      "Final ST = 3.521072\n",
      "Started new run P_up_SETB1.0500000000000003_P1.8000000000000003_J3.8000000000000007\n"
     ]
    },
    {
     "name": "stderr",
     "output_type": "stream",
     "text": [
      "100%|█████████████████████████████████████████████████████████████████████████████████████████████████████████████████████████████████████████| 401/401 [07:47<00:00,  1.16s/it]\n"
     ]
    },
    {
     "name": "stdout",
     "output_type": "stream",
     "text": [
      "Run finished and took 0:07:50.640342.\n",
      "Saving to P_up_SETB1.0500000000000003_P1.8000000000000003_J3.8000000000000007.xz\n",
      "Saving to experiment.yaml\n",
      "Started new run P_down_SETB1.0500000000000003_P1.8000000000000003_J3.8000000000000007\n"
     ]
    },
    {
     "name": "stderr",
     "output_type": "stream",
     "text": [
      "100%|█████████████████████████████████████████████████████████████████████████████████████████████████████████████████████████████████████████| 401/401 [07:46<00:00,  1.16s/it]\n"
     ]
    },
    {
     "name": "stdout",
     "output_type": "stream",
     "text": [
      "Run finished and took 0:07:50.110560.\n",
      "Saving to P_down_SETB1.0500000000000003_P1.8000000000000003_J3.8000000000000007.xz\n",
      "Saving to experiment.yaml\n",
      "Starting new run: SETB1.1000000000000003 P1.8000000000000003 J3.0\n",
      "Flushing electrons...\n",
      "Raising P1 and P2...\n",
      "Loading electrons...\n",
      "Reloaded in 107.87708497047424 seconds.\n",
      "Target = 6.0000e-11, tol = 1e-12, initial ST = 3.521072\n",
      "ST = 3.5263e+00, lockin = 6.0108e-11, delta = 3.6615e-14\n",
      "Final ST = 3.526279\n",
      "Started new run P_up_SETB1.1000000000000003_P1.8000000000000003_J3.0\n"
     ]
    },
    {
     "name": "stderr",
     "output_type": "stream",
     "text": [
      "100%|█████████████████████████████████████████████████████████████████████████████████████████████████████████████████████████████████████████| 401/401 [07:46<00:00,  1.16s/it]\n"
     ]
    },
    {
     "name": "stdout",
     "output_type": "stream",
     "text": [
      "Run finished and took 0:07:49.956756.\n",
      "Saving to P_up_SETB1.1000000000000003_P1.8000000000000003_J3.0.xz\n",
      "Saving to experiment.yaml\n",
      "Started new run P_down_SETB1.1000000000000003_P1.8000000000000003_J3.0\n"
     ]
    },
    {
     "name": "stderr",
     "output_type": "stream",
     "text": [
      "100%|█████████████████████████████████████████████████████████████████████████████████████████████████████████████████████████████████████████| 401/401 [07:45<00:00,  1.16s/it]\n"
     ]
    },
    {
     "name": "stdout",
     "output_type": "stream",
     "text": [
      "Run finished and took 0:07:48.963004.\n",
      "Saving to P_down_SETB1.1000000000000003_P1.8000000000000003_J3.0.xz\n",
      "Saving to experiment.yaml\n",
      "Starting new run: SETB1.1000000000000003 P1.8000000000000003 J3.2\n",
      "Flushing electrons...\n",
      "Raising P1 and P2...\n",
      "Loading electrons...\n",
      "Reloaded in 106.72959876060486 seconds.\n",
      "Target = 6.0000e-11, tol = 1e-12, initial ST = 3.526279\n",
      "ST = 3.5278e+00, lockin = 5.9797e-11, delta = 1.7593e-13\n",
      "Final ST = 3.527782\n",
      "Started new run P_up_SETB1.1000000000000003_P1.8000000000000003_J3.2\n"
     ]
    },
    {
     "name": "stderr",
     "output_type": "stream",
     "text": [
      "100%|█████████████████████████████████████████████████████████████████████████████████████████████████████████████████████████████████████████| 401/401 [07:46<00:00,  1.16s/it]\n"
     ]
    },
    {
     "name": "stdout",
     "output_type": "stream",
     "text": [
      "Run finished and took 0:07:50.125963.\n",
      "Saving to P_up_SETB1.1000000000000003_P1.8000000000000003_J3.2.xz\n",
      "Saving to experiment.yaml\n",
      "Started new run P_down_SETB1.1000000000000003_P1.8000000000000003_J3.2\n"
     ]
    },
    {
     "name": "stderr",
     "output_type": "stream",
     "text": [
      "100%|█████████████████████████████████████████████████████████████████████████████████████████████████████████████████████████████████████████| 401/401 [07:46<00:00,  1.16s/it]\n"
     ]
    },
    {
     "name": "stdout",
     "output_type": "stream",
     "text": [
      "Run finished and took 0:07:49.943727.\n",
      "Saving to P_down_SETB1.1000000000000003_P1.8000000000000003_J3.2.xz\n",
      "Saving to experiment.yaml\n",
      "Starting new run: SETB1.1000000000000003 P1.8000000000000003 J3.4000000000000004\n",
      "Flushing electrons...\n",
      "Raising P1 and P2...\n",
      "Loading electrons...\n",
      "Reloaded in 106.70820212364197 seconds.\n",
      "Target = 6.0000e-11, tol = 1e-12, initial ST = 3.527782\n",
      "ST = 3.5244e+00, lockin = 5.9213e-11, delta = 7.7490e-13\n",
      "Final ST = 3.524432\n",
      "Started new run P_up_SETB1.1000000000000003_P1.8000000000000003_J3.4000000000000004\n"
     ]
    },
    {
     "name": "stderr",
     "output_type": "stream",
     "text": [
      "100%|█████████████████████████████████████████████████████████████████████████████████████████████████████████████████████████████████████████| 401/401 [07:47<00:00,  1.17s/it]\n"
     ]
    },
    {
     "name": "stdout",
     "output_type": "stream",
     "text": [
      "Run finished and took 0:07:51.096984.\n",
      "Saving to P_up_SETB1.1000000000000003_P1.8000000000000003_J3.4000000000000004.xz\n",
      "Saving to experiment.yaml\n",
      "Started new run P_down_SETB1.1000000000000003_P1.8000000000000003_J3.4000000000000004\n"
     ]
    },
    {
     "name": "stderr",
     "output_type": "stream",
     "text": [
      "100%|█████████████████████████████████████████████████████████████████████████████████████████████████████████████████████████████████████████| 401/401 [07:46<00:00,  1.16s/it]\n"
     ]
    },
    {
     "name": "stdout",
     "output_type": "stream",
     "text": [
      "Run finished and took 0:07:50.661523.\n",
      "Saving to P_down_SETB1.1000000000000003_P1.8000000000000003_J3.4000000000000004.xz\n",
      "Saving to experiment.yaml\n",
      "Starting new run: SETB1.1000000000000003 P1.8000000000000003 J3.6000000000000005\n",
      "Flushing electrons...\n",
      "Raising P1 and P2...\n",
      "Loading electrons...\n",
      "Reloaded in 106.70086336135864 seconds.\n",
      "Target = 6.0000e-11, tol = 1e-12, initial ST = 3.524432\n",
      "ST = 3.5220e+00, lockin = 5.9642e-11, delta = 3.6839e-13\n",
      "Final ST = 3.522006\n",
      "Started new run P_up_SETB1.1000000000000003_P1.8000000000000003_J3.6000000000000005\n"
     ]
    },
    {
     "name": "stderr",
     "output_type": "stream",
     "text": [
      "100%|█████████████████████████████████████████████████████████████████████████████████████████████████████████████████████████████████████████| 401/401 [07:48<00:00,  1.17s/it]\n"
     ]
    },
    {
     "name": "stdout",
     "output_type": "stream",
     "text": [
      "Run finished and took 0:07:52.417461.\n",
      "Saving to P_up_SETB1.1000000000000003_P1.8000000000000003_J3.6000000000000005.xz\n",
      "Saving to experiment.yaml\n",
      "Started new run P_down_SETB1.1000000000000003_P1.8000000000000003_J3.6000000000000005\n"
     ]
    },
    {
     "name": "stderr",
     "output_type": "stream",
     "text": [
      "100%|█████████████████████████████████████████████████████████████████████████████████████████████████████████████████████████████████████████| 401/401 [07:46<00:00,  1.16s/it]\n"
     ]
    },
    {
     "name": "stdout",
     "output_type": "stream",
     "text": [
      "Run finished and took 0:07:50.448861.\n",
      "Saving to P_down_SETB1.1000000000000003_P1.8000000000000003_J3.6000000000000005.xz\n",
      "Saving to experiment.yaml\n",
      "Starting new run: SETB1.1000000000000003 P1.8000000000000003 J3.8000000000000007\n",
      "Flushing electrons...\n",
      "Raising P1 and P2...\n",
      "Loading electrons...\n",
      "Reloaded in 106.70525121688843 seconds.\n",
      "Target = 6.0000e-11, tol = 1e-12, initial ST = 3.522006\n",
      "ST = 3.5221e+00, lockin = 6.0319e-11, delta = 3.9349e-13\n",
      "Final ST = 3.522055\n",
      "Started new run P_up_SETB1.1000000000000003_P1.8000000000000003_J3.8000000000000007\n"
     ]
    },
    {
     "name": "stderr",
     "output_type": "stream",
     "text": [
      "100%|█████████████████████████████████████████████████████████████████████████████████████████████████████████████████████████████████████████| 401/401 [07:47<00:00,  1.17s/it]\n"
     ]
    },
    {
     "name": "stdout",
     "output_type": "stream",
     "text": [
      "Run finished and took 0:07:51.397649.\n",
      "Saving to P_up_SETB1.1000000000000003_P1.8000000000000003_J3.8000000000000007.xz\n",
      "Saving to experiment.yaml\n",
      "Started new run P_down_SETB1.1000000000000003_P1.8000000000000003_J3.8000000000000007\n"
     ]
    },
    {
     "name": "stderr",
     "output_type": "stream",
     "text": [
      "100%|█████████████████████████████████████████████████████████████████████████████████████████████████████████████████████████████████████████| 401/401 [07:47<00:00,  1.16s/it]\n"
     ]
    },
    {
     "name": "stdout",
     "output_type": "stream",
     "text": [
      "Run finished and took 0:07:50.813167.\n",
      "Saving to P_down_SETB1.1000000000000003_P1.8000000000000003_J3.8000000000000007.xz\n",
      "Saving to experiment.yaml\n",
      "Starting new run: SETB1.1500000000000004 P1.8000000000000003 J3.0\n",
      "Flushing electrons...\n",
      "Raising P1 and P2...\n",
      "Loading electrons...\n",
      "Reloaded in 109.86980772018433 seconds.\n",
      "Target = 6.0000e-11, tol = 1e-12, initial ST = 3.522055\n",
      "ST = 3.5255e+00, lockin = 5.9233e-11, delta = 7.0599e-13\n",
      "Final ST = 3.525493\n",
      "Started new run P_up_SETB1.1500000000000004_P1.8000000000000003_J3.0\n"
     ]
    },
    {
     "name": "stderr",
     "output_type": "stream",
     "text": [
      "100%|█████████████████████████████████████████████████████████████████████████████████████████████████████████████████████████████████████████| 401/401 [07:46<00:00,  1.16s/it]\n"
     ]
    },
    {
     "name": "stdout",
     "output_type": "stream",
     "text": [
      "Run finished and took 0:07:50.275577.\n",
      "Saving to P_up_SETB1.1500000000000004_P1.8000000000000003_J3.0.xz\n",
      "Saving to experiment.yaml\n",
      "Started new run P_down_SETB1.1500000000000004_P1.8000000000000003_J3.0\n"
     ]
    },
    {
     "name": "stderr",
     "output_type": "stream",
     "text": [
      "100%|█████████████████████████████████████████████████████████████████████████████████████████████████████████████████████████████████████████| 401/401 [07:45<00:00,  1.16s/it]\n"
     ]
    },
    {
     "name": "stdout",
     "output_type": "stream",
     "text": [
      "Run finished and took 0:07:49.168743.\n",
      "Saving to P_down_SETB1.1500000000000004_P1.8000000000000003_J3.0.xz\n",
      "Saving to experiment.yaml\n",
      "Starting new run: SETB1.1500000000000004 P1.8000000000000003 J3.2\n",
      "Flushing electrons...\n",
      "Raising P1 and P2...\n",
      "Loading electrons...\n",
      "Reloaded in 108.66774344444275 seconds.\n",
      "Target = 6.0000e-11, tol = 1e-12, initial ST = 3.525493\n",
      "ST = 3.5266e+00, lockin = 6.0740e-11, delta = 6.2739e-13\n",
      "Final ST = 3.526604\n",
      "Started new run P_up_SETB1.1500000000000004_P1.8000000000000003_J3.2\n"
     ]
    },
    {
     "name": "stderr",
     "output_type": "stream",
     "text": [
      "100%|█████████████████████████████████████████████████████████████████████████████████████████████████████████████████████████████████████████| 401/401 [07:46<00:00,  1.16s/it]\n"
     ]
    },
    {
     "name": "stdout",
     "output_type": "stream",
     "text": [
      "Run finished and took 0:07:50.152047.\n",
      "Saving to P_up_SETB1.1500000000000004_P1.8000000000000003_J3.2.xz\n",
      "Saving to experiment.yaml\n",
      "Started new run P_down_SETB1.1500000000000004_P1.8000000000000003_J3.2\n"
     ]
    },
    {
     "name": "stderr",
     "output_type": "stream",
     "text": [
      "100%|█████████████████████████████████████████████████████████████████████████████████████████████████████████████████████████████████████████| 401/401 [07:47<00:00,  1.16s/it]\n"
     ]
    },
    {
     "name": "stdout",
     "output_type": "stream",
     "text": [
      "Run finished and took 0:07:50.492483.\n",
      "Saving to P_down_SETB1.1500000000000004_P1.8000000000000003_J3.2.xz\n",
      "Saving to experiment.yaml\n",
      "Starting new run: SETB1.1500000000000004 P1.8000000000000003 J3.4000000000000004\n",
      "Flushing electrons...\n",
      "Raising P1 and P2...\n",
      "Loading electrons...\n",
      "Reloaded in 108.68479084968567 seconds.\n",
      "Target = 6.0000e-11, tol = 1e-12, initial ST = 3.526604\n",
      "ST = 3.5242e+00, lockin = 5.9175e-11, delta = 7.9110e-13\n",
      "Final ST = 3.524206\n",
      "Started new run P_up_SETB1.1500000000000004_P1.8000000000000003_J3.4000000000000004\n"
     ]
    },
    {
     "name": "stderr",
     "output_type": "stream",
     "text": [
      "100%|█████████████████████████████████████████████████████████████████████████████████████████████████████████████████████████████████████████| 401/401 [07:47<00:00,  1.17s/it]\n"
     ]
    },
    {
     "name": "stdout",
     "output_type": "stream",
     "text": [
      "Run finished and took 0:07:51.311173.\n",
      "Saving to P_up_SETB1.1500000000000004_P1.8000000000000003_J3.4000000000000004.xz\n",
      "Saving to experiment.yaml\n",
      "Started new run P_down_SETB1.1500000000000004_P1.8000000000000003_J3.4000000000000004\n"
     ]
    },
    {
     "name": "stderr",
     "output_type": "stream",
     "text": [
      "100%|█████████████████████████████████████████████████████████████████████████████████████████████████████████████████████████████████████████| 401/401 [07:46<00:00,  1.16s/it]\n"
     ]
    },
    {
     "name": "stdout",
     "output_type": "stream",
     "text": [
      "Run finished and took 0:07:50.628055.\n",
      "Saving to P_down_SETB1.1500000000000004_P1.8000000000000003_J3.4000000000000004.xz\n",
      "Saving to experiment.yaml\n",
      "Starting new run: SETB1.1500000000000004 P1.8000000000000003 J3.6000000000000005\n",
      "Flushing electrons...\n",
      "Raising P1 and P2...\n",
      "Loading electrons...\n",
      "Reloaded in 108.67443656921387 seconds.\n",
      "Target = 6.0000e-11, tol = 1e-12, initial ST = 3.524206\n",
      "ST = 3.5220e+00, lockin = 5.8574e-11, delta = 1.3973e-12\n",
      "Final ST = 3.522035\n",
      "Started new run P_up_SETB1.1500000000000004_P1.8000000000000003_J3.6000000000000005\n"
     ]
    },
    {
     "name": "stderr",
     "output_type": "stream",
     "text": [
      "100%|█████████████████████████████████████████████████████████████████████████████████████████████████████████████████████████████████████████| 401/401 [07:49<00:00,  1.17s/it]\n"
     ]
    },
    {
     "name": "stdout",
     "output_type": "stream",
     "text": [
      "Run finished and took 0:07:52.614041.\n",
      "Saving to P_up_SETB1.1500000000000004_P1.8000000000000003_J3.6000000000000005.xz\n",
      "Saving to experiment.yaml\n",
      "Started new run P_down_SETB1.1500000000000004_P1.8000000000000003_J3.6000000000000005\n"
     ]
    },
    {
     "name": "stderr",
     "output_type": "stream",
     "text": [
      "100%|█████████████████████████████████████████████████████████████████████████████████████████████████████████████████████████████████████████| 401/401 [07:46<00:00,  1.16s/it]\n"
     ]
    },
    {
     "name": "stdout",
     "output_type": "stream",
     "text": [
      "Run finished and took 0:07:50.732867.\n",
      "Saving to P_down_SETB1.1500000000000004_P1.8000000000000003_J3.6000000000000005.xz\n",
      "Saving to experiment.yaml\n",
      "Starting new run: SETB1.1500000000000004 P1.8000000000000003 J3.8000000000000007\n",
      "Flushing electrons...\n",
      "Raising P1 and P2...\n",
      "Loading electrons...\n",
      "Reloaded in 108.65789699554443 seconds.\n",
      "Target = 6.0000e-11, tol = 1e-12, initial ST = 3.522035\n",
      "ST = 3.5227e+00, lockin = 5.9980e-11, delta = 2.9926e-15\n",
      "Final ST = 3.522674\n",
      "Started new run P_up_SETB1.1500000000000004_P1.8000000000000003_J3.8000000000000007\n"
     ]
    },
    {
     "name": "stderr",
     "output_type": "stream",
     "text": [
      "100%|█████████████████████████████████████████████████████████████████████████████████████████████████████████████████████████████████████████| 401/401 [07:48<00:00,  1.17s/it]\n"
     ]
    },
    {
     "name": "stdout",
     "output_type": "stream",
     "text": [
      "Run finished and took 0:07:52.250165.\n",
      "Saving to P_up_SETB1.1500000000000004_P1.8000000000000003_J3.8000000000000007.xz\n",
      "Saving to experiment.yaml\n",
      "Started new run P_down_SETB1.1500000000000004_P1.8000000000000003_J3.8000000000000007\n"
     ]
    },
    {
     "name": "stderr",
     "output_type": "stream",
     "text": [
      "100%|█████████████████████████████████████████████████████████████████████████████████████████████████████████████████████████████████████████| 401/401 [07:46<00:00,  1.16s/it]\n"
     ]
    },
    {
     "name": "stdout",
     "output_type": "stream",
     "text": [
      "Run finished and took 0:07:50.340128.\n",
      "Saving to P_down_SETB1.1500000000000004_P1.8000000000000003_J3.8000000000000007.xz\n",
      "Saving to experiment.yaml\n",
      "Starting new run: SETB1.2000000000000004 P1.8000000000000003 J3.0\n",
      "Flushing electrons...\n",
      "Raising P1 and P2...\n",
      "Loading electrons...\n",
      "Reloaded in 111.82905077934265 seconds.\n",
      "Target = 6.0000e-11, tol = 1e-12, initial ST = 3.522674\n",
      "ST = 3.5261e+00, lockin = 5.7732e-11, delta = 2.1475e-12\n",
      "Final ST = 3.526142\n",
      "Started new run P_up_SETB1.2000000000000004_P1.8000000000000003_J3.0\n"
     ]
    },
    {
     "name": "stderr",
     "output_type": "stream",
     "text": [
      "100%|█████████████████████████████████████████████████████████████████████████████████████████████████████████████████████████████████████████| 401/401 [07:46<00:00,  1.16s/it]\n"
     ]
    },
    {
     "name": "stdout",
     "output_type": "stream",
     "text": [
      "Run finished and took 0:07:50.198651.\n",
      "Saving to P_up_SETB1.2000000000000004_P1.8000000000000003_J3.0.xz\n",
      "Saving to experiment.yaml\n",
      "Started new run P_down_SETB1.2000000000000004_P1.8000000000000003_J3.0\n"
     ]
    },
    {
     "name": "stderr",
     "output_type": "stream",
     "text": [
      "100%|█████████████████████████████████████████████████████████████████████████████████████████████████████████████████████████████████████████| 401/401 [07:46<00:00,  1.16s/it]\n"
     ]
    },
    {
     "name": "stdout",
     "output_type": "stream",
     "text": [
      "Run finished and took 0:07:50.087154.\n",
      "Saving to P_down_SETB1.2000000000000004_P1.8000000000000003_J3.0.xz\n",
      "Saving to experiment.yaml\n",
      "Starting new run: SETB1.2000000000000004 P1.8000000000000003 J3.2\n",
      "Flushing electrons...\n",
      "Raising P1 and P2...\n",
      "Loading electrons...\n",
      "Reloaded in 110.62943935394287 seconds.\n",
      "Target = 6.0000e-11, tol = 1e-12, initial ST = 3.526142\n",
      "ST = 3.5257e+00, lockin = 5.9565e-11, delta = 3.5960e-13\n",
      "Final ST = 3.52568\n",
      "Started new run P_up_SETB1.2000000000000004_P1.8000000000000003_J3.2\n"
     ]
    },
    {
     "name": "stderr",
     "output_type": "stream",
     "text": [
      "100%|█████████████████████████████████████████████████████████████████████████████████████████████████████████████████████████████████████████| 401/401 [07:46<00:00,  1.16s/it]\n"
     ]
    },
    {
     "name": "stdout",
     "output_type": "stream",
     "text": [
      "Run finished and took 0:07:49.829470.\n",
      "Saving to P_up_SETB1.2000000000000004_P1.8000000000000003_J3.2.xz\n",
      "Saving to experiment.yaml\n",
      "Started new run P_down_SETB1.2000000000000004_P1.8000000000000003_J3.2\n"
     ]
    },
    {
     "name": "stderr",
     "output_type": "stream",
     "text": [
      "100%|█████████████████████████████████████████████████████████████████████████████████████████████████████████████████████████████████████████| 401/401 [07:45<00:00,  1.16s/it]\n"
     ]
    },
    {
     "name": "stdout",
     "output_type": "stream",
     "text": [
      "Run finished and took 0:07:49.046451.\n",
      "Saving to P_down_SETB1.2000000000000004_P1.8000000000000003_J3.2.xz\n",
      "Saving to experiment.yaml\n",
      "Starting new run: SETB1.2000000000000004 P1.8000000000000003 J3.4000000000000004\n",
      "Flushing electrons...\n",
      "Raising P1 and P2...\n",
      "Loading electrons...\n",
      "Reloaded in 110.83207893371582 seconds.\n",
      "Target = 6.0000e-11, tol = 1e-12, initial ST = 3.52568\n",
      "ST = 3.5238e+00, lockin = 6.1303e-11, delta = 1.1922e-12\n",
      "Final ST = 3.523813\n",
      "Started new run P_up_SETB1.2000000000000004_P1.8000000000000003_J3.4000000000000004\n"
     ]
    },
    {
     "name": "stderr",
     "output_type": "stream",
     "text": [
      "100%|█████████████████████████████████████████████████████████████████████████████████████████████████████████████████████████████████████████| 401/401 [07:46<00:00,  1.16s/it]\n"
     ]
    },
    {
     "name": "stdout",
     "output_type": "stream",
     "text": [
      "Run finished and took 0:07:49.824029.\n",
      "Saving to P_up_SETB1.2000000000000004_P1.8000000000000003_J3.4000000000000004.xz\n",
      "Saving to experiment.yaml\n",
      "Started new run P_down_SETB1.2000000000000004_P1.8000000000000003_J3.4000000000000004\n"
     ]
    },
    {
     "name": "stderr",
     "output_type": "stream",
     "text": [
      "100%|█████████████████████████████████████████████████████████████████████████████████████████████████████████████████████████████████████████| 401/401 [07:46<00:00,  1.16s/it]\n"
     ]
    },
    {
     "name": "stdout",
     "output_type": "stream",
     "text": [
      "Run finished and took 0:07:50.528736.\n",
      "Saving to P_down_SETB1.2000000000000004_P1.8000000000000003_J3.4000000000000004.xz\n",
      "Saving to experiment.yaml\n",
      "Starting new run: SETB1.2000000000000004 P1.8000000000000003 J3.6000000000000005\n",
      "Flushing electrons...\n",
      "Raising P1 and P2...\n",
      "Loading electrons...\n",
      "Reloaded in 110.63103032112122 seconds.\n",
      "Target = 6.0000e-11, tol = 1e-12, initial ST = 3.523813\n",
      "ST = 3.5214e+00, lockin = 6.0277e-11, delta = 2.0309e-13\n",
      "Final ST = 3.521397\n",
      "Started new run P_up_SETB1.2000000000000004_P1.8000000000000003_J3.6000000000000005\n"
     ]
    },
    {
     "name": "stderr",
     "output_type": "stream",
     "text": [
      "100%|█████████████████████████████████████████████████████████████████████████████████████████████████████████████████████████████████████████| 401/401 [07:46<00:00,  1.16s/it]\n"
     ]
    },
    {
     "name": "stdout",
     "output_type": "stream",
     "text": [
      "Run finished and took 0:07:50.450748.\n",
      "Saving to P_up_SETB1.2000000000000004_P1.8000000000000003_J3.6000000000000005.xz\n",
      "Saving to experiment.yaml\n",
      "Started new run P_down_SETB1.2000000000000004_P1.8000000000000003_J3.6000000000000005\n"
     ]
    },
    {
     "name": "stderr",
     "output_type": "stream",
     "text": [
      "100%|█████████████████████████████████████████████████████████████████████████████████████████████████████████████████████████████████████████| 401/401 [07:46<00:00,  1.16s/it]\n"
     ]
    },
    {
     "name": "stdout",
     "output_type": "stream",
     "text": [
      "Run finished and took 0:07:50.267013.\n",
      "Saving to P_down_SETB1.2000000000000004_P1.8000000000000003_J3.6000000000000005.xz\n",
      "Saving to experiment.yaml\n",
      "Starting new run: SETB1.2000000000000004 P1.8000000000000003 J3.8000000000000007\n",
      "Flushing electrons...\n",
      "Raising P1 and P2...\n",
      "Loading electrons...\n",
      "Reloaded in 110.62243294715881 seconds.\n",
      "Target = 6.0000e-11, tol = 1e-12, initial ST = 3.521397\n",
      "ST = 3.5235e+00, lockin = 5.9024e-11, delta = 8.9574e-13\n",
      "Final ST = 3.523479\n",
      "Started new run P_up_SETB1.2000000000000004_P1.8000000000000003_J3.8000000000000007\n"
     ]
    },
    {
     "name": "stderr",
     "output_type": "stream",
     "text": [
      "100%|█████████████████████████████████████████████████████████████████████████████████████████████████████████████████████████████████████████| 401/401 [07:48<00:00,  1.17s/it]\n"
     ]
    },
    {
     "name": "stdout",
     "output_type": "stream",
     "text": [
      "Run finished and took 0:07:52.405414.\n",
      "Saving to P_up_SETB1.2000000000000004_P1.8000000000000003_J3.8000000000000007.xz\n",
      "Saving to experiment.yaml\n",
      "Started new run P_down_SETB1.2000000000000004_P1.8000000000000003_J3.8000000000000007\n"
     ]
    },
    {
     "name": "stderr",
     "output_type": "stream",
     "text": [
      "100%|█████████████████████████████████████████████████████████████████████████████████████████████████████████████████████████████████████████| 401/401 [07:46<00:00,  1.16s/it]\n"
     ]
    },
    {
     "name": "stdout",
     "output_type": "stream",
     "text": [
      "Run finished and took 0:07:50.259685.\n",
      "Saving to P_down_SETB1.2000000000000004_P1.8000000000000003_J3.8000000000000007.xz\n",
      "Saving to experiment.yaml\n",
      "Starting new run: SETB1.2500000000000004 P1.8000000000000003 J3.0\n",
      "Flushing electrons...\n",
      "Raising P1 and P2...\n",
      "Loading electrons...\n",
      "Reloaded in 113.77830529212952 seconds.\n",
      "Target = 6.0000e-11, tol = 1e-12, initial ST = 3.523479\n",
      "ST = 3.5254e+00, lockin = 5.8220e-11, delta = 1.5941e-12\n",
      "Final ST = 3.525434\n",
      "Started new run P_up_SETB1.2500000000000004_P1.8000000000000003_J3.0\n"
     ]
    },
    {
     "name": "stderr",
     "output_type": "stream",
     "text": [
      "100%|█████████████████████████████████████████████████████████████████████████████████████████████████████████████████████████████████████████| 401/401 [07:47<00:00,  1.17s/it]\n"
     ]
    },
    {
     "name": "stdout",
     "output_type": "stream",
     "text": [
      "Run finished and took 0:07:50.444482.\n",
      "Saving to P_up_SETB1.2500000000000004_P1.8000000000000003_J3.0.xz\n",
      "Saving to experiment.yaml\n",
      "Started new run P_down_SETB1.2500000000000004_P1.8000000000000003_J3.0\n"
     ]
    },
    {
     "name": "stderr",
     "output_type": "stream",
     "text": [
      "100%|█████████████████████████████████████████████████████████████████████████████████████████████████████████████████████████████████████████| 401/401 [07:46<00:00,  1.16s/it]\n"
     ]
    },
    {
     "name": "stdout",
     "output_type": "stream",
     "text": [
      "Run finished and took 0:07:50.143114.\n",
      "Saving to P_down_SETB1.2500000000000004_P1.8000000000000003_J3.0.xz\n",
      "Saving to experiment.yaml\n",
      "Starting new run: SETB1.2500000000000004 P1.8000000000000003 J3.2\n",
      "Flushing electrons...\n",
      "Raising P1 and P2...\n",
      "Loading electrons...\n",
      "Reloaded in 112.59173345565796 seconds.\n",
      "Target = 6.0000e-11, tol = 1e-12, initial ST = 3.525434\n",
      "ST = 3.5240e+00, lockin = 5.9970e-11, delta = 3.6518e-15\n",
      "Final ST = 3.524039\n",
      "Started new run P_up_SETB1.2500000000000004_P1.8000000000000003_J3.2\n"
     ]
    },
    {
     "name": "stderr",
     "output_type": "stream",
     "text": [
      "100%|█████████████████████████████████████████████████████████████████████████████████████████████████████████████████████████████████████████| 401/401 [07:46<00:00,  1.16s/it]\n"
     ]
    },
    {
     "name": "stdout",
     "output_type": "stream",
     "text": [
      "Run finished and took 0:07:49.681824.\n",
      "Saving to P_up_SETB1.2500000000000004_P1.8000000000000003_J3.2.xz\n",
      "Saving to experiment.yaml\n",
      "Started new run P_down_SETB1.2500000000000004_P1.8000000000000003_J3.2\n"
     ]
    },
    {
     "name": "stderr",
     "output_type": "stream",
     "text": [
      "100%|█████████████████████████████████████████████████████████████████████████████████████████████████████████████████████████████████████████| 401/401 [07:47<00:00,  1.16s/it]\n"
     ]
    },
    {
     "name": "stdout",
     "output_type": "stream",
     "text": [
      "Run finished and took 0:07:50.449169.\n",
      "Saving to P_down_SETB1.2500000000000004_P1.8000000000000003_J3.2.xz\n",
      "Saving to experiment.yaml\n",
      "Starting new run: SETB1.2500000000000004 P1.8000000000000003 J3.4000000000000004\n",
      "Flushing electrons...\n",
      "Raising P1 and P2...\n",
      "Loading electrons...\n",
      "Reloaded in 112.59233331680298 seconds.\n",
      "Target = 6.0000e-11, tol = 1e-12, initial ST = 3.524039\n",
      "ST = 3.5226e+00, lockin = 6.1641e-11, delta = 1.5749e-12\n",
      "Final ST = 3.522566\n",
      "Started new run P_up_SETB1.2500000000000004_P1.8000000000000003_J3.4000000000000004\n"
     ]
    },
    {
     "name": "stderr",
     "output_type": "stream",
     "text": [
      "100%|█████████████████████████████████████████████████████████████████████████████████████████████████████████████████████████████████████████| 401/401 [07:47<00:00,  1.17s/it]\n"
     ]
    },
    {
     "name": "stdout",
     "output_type": "stream",
     "text": [
      "Run finished and took 0:07:51.630190.\n",
      "Saving to P_up_SETB1.2500000000000004_P1.8000000000000003_J3.4000000000000004.xz\n",
      "Saving to experiment.yaml\n",
      "Started new run P_down_SETB1.2500000000000004_P1.8000000000000003_J3.4000000000000004\n"
     ]
    },
    {
     "name": "stderr",
     "output_type": "stream",
     "text": [
      "100%|█████████████████████████████████████████████████████████████████████████████████████████████████████████████████████████████████████████| 401/401 [07:48<00:00,  1.17s/it]\n"
     ]
    },
    {
     "name": "stdout",
     "output_type": "stream",
     "text": [
      "Run finished and took 0:07:51.814944.\n",
      "Saving to P_down_SETB1.2500000000000004_P1.8000000000000003_J3.4000000000000004.xz\n",
      "Saving to experiment.yaml\n",
      "Starting new run: SETB1.2500000000000004 P1.8000000000000003 J3.6000000000000005\n",
      "Flushing electrons...\n",
      "Raising P1 and P2...\n",
      "Loading electrons...\n",
      "Reloaded in 112.59991645812988 seconds.\n",
      "Target = 6.0000e-11, tol = 1e-12, initial ST = 3.522566\n",
      "ST = 3.5229e+00, lockin = 6.0702e-11, delta = 5.8257e-13\n",
      "Final ST = 3.522939\n",
      "Started new run P_up_SETB1.2500000000000004_P1.8000000000000003_J3.6000000000000005\n"
     ]
    },
    {
     "name": "stderr",
     "output_type": "stream",
     "text": [
      "100%|█████████████████████████████████████████████████████████████████████████████████████████████████████████████████████████████████████████| 401/401 [07:47<00:00,  1.17s/it]\n"
     ]
    },
    {
     "name": "stdout",
     "output_type": "stream",
     "text": [
      "Run finished and took 0:07:51.316660.\n",
      "Saving to P_up_SETB1.2500000000000004_P1.8000000000000003_J3.6000000000000005.xz\n",
      "Saving to experiment.yaml\n",
      "Started new run P_down_SETB1.2500000000000004_P1.8000000000000003_J3.6000000000000005\n"
     ]
    },
    {
     "name": "stderr",
     "output_type": "stream",
     "text": [
      "100%|█████████████████████████████████████████████████████████████████████████████████████████████████████████████████████████████████████████| 401/401 [07:46<00:00,  1.16s/it]\n"
     ]
    },
    {
     "name": "stdout",
     "output_type": "stream",
     "text": [
      "Run finished and took 0:07:50.559993.\n",
      "Saving to P_down_SETB1.2500000000000004_P1.8000000000000003_J3.6000000000000005.xz\n",
      "Saving to experiment.yaml\n",
      "Starting new run: SETB1.2500000000000004 P1.8000000000000003 J3.8000000000000007\n",
      "Flushing electrons...\n",
      "Raising P1 and P2...\n",
      "Loading electrons...\n",
      "Reloaded in 112.67465496063232 seconds.\n",
      "Target = 6.0000e-11, tol = 1e-12, initial ST = 3.522939\n",
      "ST = 3.5247e+00, lockin = 6.0282e-11, delta = 3.0763e-13\n",
      "Final ST = 3.524717\n",
      "Started new run P_up_SETB1.2500000000000004_P1.8000000000000003_J3.8000000000000007\n"
     ]
    },
    {
     "name": "stderr",
     "output_type": "stream",
     "text": [
      "100%|█████████████████████████████████████████████████████████████████████████████████████████████████████████████████████████████████████████| 401/401 [07:47<00:00,  1.17s/it]\n"
     ]
    },
    {
     "name": "stdout",
     "output_type": "stream",
     "text": [
      "Run finished and took 0:07:51.774747.\n",
      "Saving to P_up_SETB1.2500000000000004_P1.8000000000000003_J3.8000000000000007.xz\n",
      "Saving to experiment.yaml\n",
      "Started new run P_down_SETB1.2500000000000004_P1.8000000000000003_J3.8000000000000007\n"
     ]
    },
    {
     "name": "stderr",
     "output_type": "stream",
     "text": [
      "100%|█████████████████████████████████████████████████████████████████████████████████████████████████████████████████████████████████████████| 401/401 [07:46<00:00,  1.16s/it]\n"
     ]
    },
    {
     "name": "stdout",
     "output_type": "stream",
     "text": [
      "Run finished and took 0:07:50.204122.\n",
      "Saving to P_down_SETB1.2500000000000004_P1.8000000000000003_J3.8000000000000007.xz\n",
      "Saving to experiment.yaml\n"
     ]
    },
    {
     "data": {
      "image/png": "[encoded data removed]",
      "text/plain": [
       "<Figure size 640x480 with 1 Axes>"
      ]
     },
     "metadata": {},
     "output_type": "display_data"
    }
   ],
   "source": [
    "for p1p2 in load_p1p2:\n",
    "    for setb in load_setb:\n",
    "        for j in load_j:\n",
    "            name = f\"SETB{setb} P{p1p2} J{j}\"\n",
    "            print(f\"Starting new run: {name}\")\n",
    "            reload(thresh=setb, p=p1p2, j=j)\n",
    "            gettotarget()\n",
    "            scan_p1(low=1.75, high=2.1, points=401, params=f\"up {name}\")\n",
    "            scan_p1(low=2.1, high=1.75, points=401, params=f\"down {name}\")"
   ]
  },
  {
   "cell_type": "code",
   "execution_count": 306,
   "id": "26e50d63-9e74-43e2-9830-d1ae3caf81f4",
   "metadata": {},
   "outputs": [
    {
     "data": {
      "text/plain": [
       "1e-12"
      ]
     },
     "execution_count": 306,
     "metadata": {},
     "output_type": "execute_result"
    }
   ],
   "source": [
    "tol"
   ]
  },
  {
   "cell_type": "code",
   "execution_count": 308,
   "id": "67ee68b2-a16a-4f7a-aef0-f041cd077d38",
   "metadata": {},
   "outputs": [
    {
     "data": {
      "text/plain": [
       "'dc.recovery'"
      ]
     },
     "execution_count": 308,
     "metadata": {},
     "output_type": "execute_result"
    }
   ],
   "source": [
    "monty.identifier"
   ]
  },
  {
   "cell_type": "code",
   "execution_count": 323,
   "id": "fc644f64-e942-4d7c-bb2b-8a1008d28cca",
   "metadata": {},
   "outputs": [
    {
     "data": {
      "text/plain": [
       "\u001b[1;31mSignature:\u001b[0m \u001b[0msi\u001b[0m\u001b[1;33m.\u001b[0m\u001b[0mP1\u001b[0m\u001b[1;33m.\u001b[0m\u001b[0msoft_ramp\u001b[0m\u001b[1;33m(\u001b[0m\u001b[0mrate\u001b[0m\u001b[1;33m=\u001b[0m\u001b[1;32mNone\u001b[0m\u001b[1;33m,\u001b[0m \u001b[0mstep\u001b[0m\u001b[1;33m=\u001b[0m\u001b[1;32mNone\u001b[0m\u001b[1;33m)\u001b[0m\u001b[1;33m\u001b[0m\u001b[1;33m\u001b[0m\u001b[0m\n",
       "\u001b[1;31mDocstring:\u001b[0m\n",
       "Set up a software ramp on the voltage parameter, saving the previous values\n",
       "of step/delay if available\n",
       "\u001b[1;31mFile:\u001b[0m      c:\\users\\ld2007\\documents\\si_cmos_james\\quench\\libraries\\qcodes_measurements\\device\\gate.py\n",
       "\u001b[1;31mType:\u001b[0m      method"
      ]
     },
     "metadata": {},
     "output_type": "display_data"
    }
   ],
   "source": [
    "?si.P1."
   ]
  },
  {
   "cell_type": "markdown",
   "id": "b005a1a6-2ec8-4592-83e5-825431085d71",
   "metadata": {},
   "source": [
    "# Push electrons out\n",
    "Sweep both P1 and P2 down after loading to see electrons transition out of the dot. Use feedback"
   ]
  },
  {
   "cell_type": "code",
   "execution_count": 9,
   "id": "42b32254-40fe-4b22-a409-63c29d257a8a",
   "metadata": {},
   "outputs": [
    {
     "name": "stdout",
     "output_type": "stream",
     "text": [
      "P1 = 0.0\n",
      "P2 = 0.0\n",
      "ST = 3.650971\n"
     ]
    }
   ],
   "source": [
    "print(f\"P1 = {si.P1()}\\nP2 = {si.P2()}\\nST = {si.ST()}\")"
   ]
  },
  {
   "cell_type": "code",
   "execution_count": 10,
   "id": "7a9d3e23-c5aa-43d3-a9ab-6ea919151ad9",
   "metadata": {},
   "outputs": [
    {
     "name": "stdout",
     "output_type": "stream",
     "text": [
      "Flushing electrons...\n",
      "Raising P1 and P2...\n",
      "Loading electrons...\n",
      "Reloaded in 101.39218330383301 seconds.\n"
     ]
    }
   ],
   "source": [
    "reload(thresh=1.1, p=1.45, j=3.5)  # WORKING LOAD=1.1,1.65,3.5"
   ]
  },
  {
   "cell_type": "code",
   "execution_count": 11,
   "id": "ece2ba3a-be95-48a1-8df3-61c130af26e9",
   "metadata": {},
   "outputs": [],
   "source": [
    "si.P1(2.1)\n",
    "si.P2(1.625)"
   ]
  },
  {
   "cell_type": "code",
   "execution_count": 483,
   "id": "db416589-aa12-43d9-b3f4-aa7dd67e61e2",
   "metadata": {},
   "outputs": [],
   "source": [
    "si.ST(3.52)"
   ]
  },
  {
   "cell_type": "code",
   "execution_count": 491,
   "id": "b81c6388-874e-41a9-b928-ee2378e8b5b7",
   "metadata": {},
   "outputs": [
    {
     "name": "stdout",
     "output_type": "stream",
     "text": [
      "Target = 6.0000e-11, tol = 1e-12, initial ST = 3.521338\n",
      "\n",
      "Final ST = 3.521338\n"
     ]
    },
    {
     "data": {
      "text/plain": [
       "5.9892285575e-11"
      ]
     },
     "execution_count": 491,
     "metadata": {},
     "output_type": "execute_result"
    }
   ],
   "source": [
    "gettotarget()\n",
    "lockin.R()"
   ]
  },
  {
   "cell_type": "code",
   "execution_count": 463,
   "id": "4bf5b12b-de18-49da-abf5-2834aafae33f",
   "metadata": {},
   "outputs": [],
   "source": [
    "si.P2(1.9)"
   ]
  },
  {
   "cell_type": "code",
   "execution_count": 468,
   "id": "9795633f-c661-43dd-9343-0e37266ad23c",
   "metadata": {},
   "outputs": [
    {
     "name": "stdout",
     "output_type": "stream",
     "text": [
      "Started new run kickout_scan.1\n"
     ]
    },
    {
     "name": "stderr",
     "output_type": "stream",
     "text": [
      "100%|█████████████████████████████████████████████████████████████████████████████████████████████████████████████████████████████████████████| 301/301 [05:56<00:00,  1.19s/it]\n"
     ]
    },
    {
     "name": "stdout",
     "output_type": "stream",
     "text": [
      "Run finished and took 0:05:56.837308.\n",
      "Saving to kickout_scan.1.xz\n",
      "Saving to experiment.yaml\n"
     ]
    },
    {
     "data": {
      "image/png": "[encoded data removed]",
      "text/plain": [
       "<Figure size 640x480 with 2 Axes>"
      ]
     },
     "metadata": {},
     "output_type": "display_data"
    }
   ],
   "source": [
    "start = 1.9\n",
    "end = 1.1\n",
    "points = 301\n",
    "stepsize = 10e-4\n",
    "\n",
    "parameters = {\n",
    "    \"desc\": \"Sweep P1 and P2 down to remove electrons (feedback)\",\n",
    "    \"lockin_amplitude\": \"Set to 10uV\",\n",
    "    \"ST\":   f\"Fixed at {si.ST()}V (target of {target} on lockin, stepsize = {stepsize})\",\n",
    "    \"SLB\":  f\"Fixed at {si.SLB()}V\",\n",
    "    \"SRB\":  f\"Fixed at {si.SRB()}V\",\n",
    "    \"SETB\": f\"Fixed at {si.SETB()}V\",\n",
    "    \"J1\": f\"Fixed at {gb_control_si.VICL()}V\",\n",
    "    \"P1\": f\"Ranged from {start}V -> {end}V in {points} points\",\n",
    "    \"P2\": f\"Ranged from {start}V -> {end}V in {points} points\",\n",
    "    \"temp\": f\"Mixing chamber {fridge.temp()} K\",\n",
    "    }\n",
    "\n",
    "monty.newrun(\"kickout scan\", parameters)\n",
    "\n",
    "# gate voltage\n",
    "gate_range = np.linspace(start, end, points)\n",
    "\n",
    "X = np.zeros((points))\n",
    "Y = np.zeros((points))\n",
    "R = np.zeros((points))\n",
    "P = np.zeros((points))\n",
    "ST_drift = np.zeros(points)\n",
    "\n",
    "with tqdm(total=points) as pbar, LivePlot(gate_range, xlabel=\"Gate voltage (P1 and P2) (V)\", ylabel=\"Current (A)\") as lplot:\n",
    "    for (j, g) in enumerate(gate_range):\n",
    "        si.P1(g)\n",
    "        si.P2(g)\n",
    "        time.sleep(0.5)\n",
    "        \n",
    "        ST_drift[j] = si.ST()\n",
    "        X[j] = lockin.X()\n",
    "        Y[j] = lockin.Y()\n",
    "        R[j] = lockin.R()\n",
    "        P[j] = lockin.P()\n",
    "        \n",
    "        pbar.update(1)\n",
    "        lplot.update(R)\n",
    "        \n",
    "        feedback(si.ST, lockin, target, stepsize=stepsize, slope=\"up\")\n",
    "\n",
    "\n",
    "monty.save({\"X\": X, \"Y\": Y, \"R\": R, \"P\": P, \"ST\": ST_drift})\n",
    "\n",
    "\n",
    "# Plot everything\n",
    "fig, ax0 = plt.subplots()\n",
    "ax1 = ax0.twinx()\n",
    "\n",
    "ax0.plot(gate_range, R, \"g-\", label=\"Lockin\")\n",
    "ax0.set_ylabel(\"Lockin (A)\", color=\"g\")\n",
    "\n",
    "# Plot ST history over time\n",
    "ax1.plot(gate_range, ST_drift, \"r-\", label=\"ST gate\")\n",
    "ax1.set_ylabel(\"ST voltage (V)\", color=\"r\")\n",
    "\n",
    "ax0.set_xlabel(\"Gate P1 and P2 (V)\")\n",
    "ax0.set_title(monty.identifier + \".\" + monty.runname)\n",
    "\n",
    "monty.savefig(plt, \"kickout\")"
   ]
  },
  {
   "cell_type": "code",
   "execution_count": null,
   "id": "65e2a69a-5948-4780-a378-e9d1976edd88",
   "metadata": {},
   "outputs": [],
   "source": []
  }
 ],
 "metadata": {
  "kernelspec": {
   "display_name": "Python 3 (ipykernel)",
   "language": "python",
   "name": "python3"
  },
  "language_info": {
   "codemirror_mode": {
    "name": "ipython",
    "version": 3
   },
   "file_extension": ".py",
   "mimetype": "text/x-python",
   "name": "python",
   "nbconvert_exporter": "python",
   "pygments_lexer": "ipython3",
   "version": "3.12.3"
  }
 },
 "nbformat": 4,
 "nbformat_minor": 5
}
