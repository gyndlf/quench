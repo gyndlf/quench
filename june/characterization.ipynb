{
 "cells": [
  {
   "cell_type": "markdown",
   "source": [
    "Following zhinst blog https://www.zhinst.com/others/en/blogs/hands-superconducting-qubit-characterization and code https://github.com/zhinst/blogs/blob/master/Hands-on%20Superconducting%20Qubit%20Characterization/Single-Qubit-Tuneup.md\n"
   ],
   "metadata": {
    "collapsed": false
   },
   "id": "79f74b6468d2f591"
  },
  {
   "cell_type": "code",
   "outputs": [],
   "source": [
    "# convenience import for all QCCS software functionality\n",
    "import numpy as np\n",
    "\n",
    "import matplotlib.pyplot as plt\n",
    "\n",
    "from laboneq.simple import *\n"
   ],
   "metadata": {
    "collapsed": false
   },
   "id": "5125722c0d8ce2af"
  },
  {
   "cell_type": "code",
   "outputs": [],
   "source": [
    "my_descriptor=f\"\"\"\\\n",
    "instrument_list:\n",
    "  SHFQC:\n",
    "  - address: DEV12XXX\n",
    "    uid: device_shfqc\n",
    "connections:\n",
    "  device_shfqc:\n",
    "    - iq_signal: q0/drive_line\n",
    "      ports: SGCHANNELS/0/OUTPUT\n",
    "    - iq_signal: q0/measure_line\n",
    "      ports: [QACHANNELS/0/OUTPUT]\n",
    "    - acquire_signal: q0/acquire_line\n",
    "      ports: [QACHANNELS/0/INPUT]\n",
    "\"\"\"\n",
    "\n",
    "# a collection of qubit control and readout parameters as a python dictionary\n",
    "qubit_parameters = {\n",
    "    'ro_freq' :  10e6,           # readout frequency of qubit 0 in [Hz] - relative to local oscillator for readout drive upconversion\n",
    "    'ro_amp' : 0.5,              # readout amplitude\n",
    "    'ro_amp_spec': 0.05,         # readout amplitude for spectroscopy\n",
    "    'ro_len' : 1.0e-6,           # readout pulse length in [s]\n",
    "    'ro_len_spec' : 1.0e-6,      # readout pulse length for resonator spectroscopy in [s]\n",
    "    'ro_delay': 100e-9,          # readout delay after last drive signal in [s]\n",
    "    'ro_int_delay' : 180e-9,     # readout line offset calibration - delay between readout pulse and start of signal acquisition in [s]\n",
    "    \n",
    "    'qb_freq': 20e6,             # qubit 0 drive frequency in [Hz] - relative to local oscillator for qubit drive upconversion\n",
    "    'qb_amp_spec': 0.01,         # drive amplitude of qubit spectroscopy\n",
    "    'qb_len_spec': 15e-6,        # drive pulse length for qubit spectroscopy in [s]\n",
    "    'qb_len' : 4e-7,             # qubit drive pulse length in [s]\n",
    "    'pi_amp' : 0.5,              # qubit drive amplitude for pi pulse\n",
    "    'pi_half_amp' : 0.25,        # qubit drive amplitude for pi/2 pulse\n",
    "    'qb_t1' : 100e-6,            # qubit T1 time\n",
    "    'qb_t2' : 100e-6,            # qubit T2 time\n",
    "    'relax' : 200e-6             # delay time after each measurement for qubit reset in [s]\n",
    "}\n",
    "\n",
    "# up / downconversion settings - to convert between IF and RF frequencies\n",
    "lo_settings = {\n",
    "    'qb_lo': 4.0e9,              # qubit LO frequency in [Hz]\n",
    "    'ro_lo': 7.0e9               # readout LO frequency in [Hz]\n",
    "}"
   ],
   "metadata": {
    "collapsed": false
   },
   "id": "d3b083bec45c6d0a"
  },
  {
   "cell_type": "code",
   "outputs": [],
   "source": [
    "# function that defines a setup calibration containing the qubit / readout parameters \n",
    "def define_calibration(parameters):\n",
    "\n",
    "     # the calibration object will later be applied to the device setup\n",
    "    my_calibration = Calibration()\n",
    "\n",
    "    my_calibration[\"/logical_signal_groups/q0/drive_line\"] = \\\n",
    "        SignalCalibration(\n",
    "           # each logical signal can have an oscillator associated with it\n",
    "            oscillator=Oscillator(\n",
    "                frequency=parameters['qb_freq'],\n",
    "                modulation_type=ModulationType.HARDWARE\n",
    "            ),\n",
    "            local_oscillator=Oscillator(\n",
    "                frequency=lo_settings['qb_lo'],\n",
    "            ),\n",
    "            range=-30\n",
    "        )\n",
    "    \n",
    "    # readout drive line\n",
    "    my_calibration[\"/logical_signal_groups/q0/measure_line\"] = \\\n",
    "         SignalCalibration(\n",
    "            oscillator=Oscillator(\n",
    "                frequency=parameters['ro_freq'],\n",
    "                modulation_type=ModulationType.SOFTWARE\n",
    "            ),\n",
    "            port_delay=parameters['ro_delay'],\n",
    "            local_oscillator=Oscillator(\n",
    "                frequency=lo_settings['ro_lo'],\n",
    "            ),\n",
    "           range=-30\n",
    "       )\n",
    "     \n",
    "    # acquisition line\n",
    "    my_calibration[\"/logical_signal_groups/q0/acquire_line\"] = \\\n",
    "         SignalCalibration(\n",
    "            oscillator=Oscillator(\n",
    "                frequency=parameters['ro_freq'],\n",
    "                modulation_type=ModulationType.SOFTWARE\n",
    "            ),\n",
    "            # add an offset between the readout pulse and the start of the data acquisition - to compensate for round-trip time of readout pulse \n",
    "            port_delay=parameters['ro_delay'] + parameters['ro_int_delay'],\n",
    "            local_oscillator=Oscillator(\n",
    "                frequency=lo_settings['ro_lo'],\n",
    "            ),\n",
    "            range=-30\n",
    "        )\n",
    "  \n",
    "    return my_calibration"
   ],
   "metadata": {
    "collapsed": false
   },
   "id": "6013219f56b4d25b"
  },
  {
   "cell_type": "code",
   "outputs": [],
   "source": [
    "# define the DeviceSetup from descriptor - additionally include information on the dataserver used to connect to the instruments \n",
    "my_setup = DeviceSetup.from_descriptor(\n",
    "    my_descriptor,\n",
    "    server_host=\"localhost\",\n",
    "    server_port=\"8004\",\n",
    "    setup_name=\"psi\",\n",
    ") \n",
    "\n",
    "# define Calibration object based on qubit control and readout parameters\n",
    "my_calibration = define_calibration(parameters=qubit_parameters)\n",
    "# apply calibration to device setup\n",
    "my_setup.set_calibration(my_calibration)"
   ],
   "metadata": {
    "collapsed": false
   },
   "id": "cec8fa6a964ad9a0"
  },
  {
   "cell_type": "code",
   "outputs": [],
   "source": [
    "# perform experiments in emulation mode only? - if True, also generate dummy data for fitting\n",
    "emulate = True\n",
    "\n",
    "# create and connect to a session\n",
    "my_session = Session(device_setup=my_setup)\n",
    "my_session.connect(do_emulation=emulate)"
   ],
   "metadata": {
    "collapsed": false
   },
   "id": "5fb677a7237f1c60"
  },
  {
   "cell_type": "markdown",
   "source": [
    "## Tuneup experiment"
   ],
   "metadata": {
    "collapsed": false
   },
   "id": "153a8db98e2d460a"
  },
  {
   "cell_type": "code",
   "outputs": [],
   "source": [
    "# frequency range of spectroscopy scan - around expected centre frequency as defined in qubit parameters\n",
    "spec_range = 50e6\n",
    "# how many frequency points to measure\n",
    "spec_num = 201\n",
    "\n",
    "# define sweep parameters for two qubits\n",
    "freq_sweep_q0 = LinearSweepParameter(uid=\"res_freq\", start=qubit_parameters['ro_freq'] - spec_range / 2, stop=qubit_parameters['ro_freq'] + spec_range / 2, count=spec_num)\n",
    "\n",
    "# take how many averages per point: 2^n_average\n",
    "n_average = 14\n",
    "\n",
    "# spectroscopy excitation pulse\n",
    "readout_pulse_spec = pulse_library.const(\n",
    "    length=qubit_parameters['ro_len_spec'], amplitude=qubit_parameters['ro_amp_spec']\n",
    ")"
   ],
   "metadata": {
    "collapsed": false
   },
   "id": "93f78d565e438ca3"
  },
  {
   "cell_type": "code",
   "outputs": [],
   "source": [
    "# function that defines a resonator spectroscopy experiment, and takes the frequency sweep as a parameter\n",
    "def res_spectroscopy(freq_sweep):\n",
    "    # Create resonator spectroscopy experiment - uses only readout drive and signal acquisition\n",
    "    exp_spec = Experiment(\n",
    "        uid=\"Resonator Spectroscopy\",\n",
    "        signals=[\n",
    "            ExperimentSignal(\"measure\"), \n",
    "            ExperimentSignal(\"acquire\"),\n",
    "        ]\n",
    "    )         \n",
    "                \n",
    "    with exp_spec.acquire_loop_rt(\n",
    "            uid=\"shots\",\n",
    "            count=pow(2, n_average),\n",
    "            acquisition_type=AcquisitionType.SPECTROSCOPY,\n",
    "            averaging_mode=AveragingMode.SEQUENTIAL\n",
    "    ):\n",
    "        with exp_spec.sweep(uid=\"res_freq\", parameter=freq_sweep):\n",
    "            # readout pulse and data acquisition\n",
    "            with exp_spec.section(uid=\"spectroscopy\"):\n",
    "                \n",
    "                # play resonator excitation pulse\n",
    "                exp_spec.play(\n",
    "                    signal=\"measure\", \n",
    "                    pulse=readout_pulse_spec\n",
    "                )\n",
    "                \n",
    "                # resonator signal readout \n",
    "                exp_spec.acquire(\n",
    "                    signal=\"acquire\", \n",
    "                    handle=\"res_spec\", \n",
    "                    length=qubit_parameters['ro_len_spec']\n",
    "                )\n",
    "                \n",
    "            with exp_spec.section(uid=\"delay\"):\n",
    "                # holdoff time after signal acquisition - minimum 1us required for data processing on UHFQA\n",
    "                exp_spec.delay(signal=\"measure\", time=1e-6)\n",
    "    \n",
    "    return exp_spec"
   ],
   "metadata": {
    "collapsed": false
   },
   "id": "f3e8b23b9c34339a"
  },
  {
   "cell_type": "code",
   "outputs": [],
   "source": [
    "# function that returns the calibration of the readout line oscillator for the experimental signals\n",
    "def res_spec_calib(freq_sweep):\n",
    "        exp_calibration = Calibration()\n",
    "        # sets the oscillator of the experimental measure signal\n",
    "        exp_calibration[\"measure\"] = SignalCalibration(\n",
    "                # for spectroscopy, use the hardware oscillator of the QA, and set the sweep parameter as frequency\n",
    "                oscillator = Oscillator(\n",
    "                        \"readout_osc\",\n",
    "                        frequency=freq_sweep,\n",
    "                        modulation_type=ModulationType.HARDWARE\n",
    "                    ),\n",
    "                )\n",
    "                \n",
    "        return exp_calibration\n",
    "\n",
    "# signal map - maps the logical signal of the device setup to the experimental signals of the experiment\n",
    "res_spec_map_q0 = {\n",
    "    \"measure\": \"/logical_signal_groups/q0/measure_line\",\n",
    "    \"acquire\": \"/logical_signal_groups/q0/acquire_line\",\n",
    "    }"
   ],
   "metadata": {
    "collapsed": false
   },
   "id": "e22040a95762103b"
  },
  {
   "cell_type": "code",
   "outputs": [],
   "source": [
    "# define the experiment with the frequency sweep relevant for qubit 0\n",
    "exp_spec = res_spectroscopy(freq_sweep_q0)\n",
    "\n",
    "# set signal calibration and signal map for experiment to qubit 0\n",
    "exp_spec.set_calibration(res_spec_calib(freq_sweep_q0))\n",
    "exp_spec.set_signal_map(res_spec_map_q0)\n",
    "\n",
    "# compile the experiment \n",
    "compiled_experiment = my_session.compile(exp_spec)\n",
    "\n",
    "# run the experiment\n",
    "my_results = my_session.run(compiled_experiment)"
   ],
   "metadata": {
    "collapsed": false
   },
   "id": "c70f432f7c07cb48"
  },
  {
   "cell_type": "code",
   "outputs": [],
   "source": [
    "# get the measurement data returned by the instruments from the QCCS session\n",
    "spec_res = my_results.get_data('res_spec')\n",
    "\n",
    "# define the frequency axis from the qubit parameters\n",
    "spec_freq = lo_settings['ro_lo'] + my_results.get_axis('res_spec')[0]"
   ],
   "metadata": {
    "collapsed": false
   },
   "id": "858a59851856162a"
  },
  {
   "cell_type": "code",
   "outputs": [],
   "source": [
    "# plot the measurement data \n",
    "fig, ax = plt.subplots(1, 1)\n",
    "ax.plot(spec_freq / 1e9, abs(spec_res), '.b', label='data')\n",
    "ax.set_ylabel('Amplitude, $A$ (a.u.)')\n",
    "ax.set_xlabel('Frequency, $\\\\nu$ (GHz)')\n",
    "\n",
    "# increase number of plot points for smooth plotting of fit results\n",
    "freq_plot = np.linspace(spec_freq[0], spec_freq[-1], 5 * len(spec_freq))\n",
    "\n",
    "# fit the measurement data to a Fano lineshape to extract the resonance frequency\n",
    "#popt, pcov = fit_ResSpec(spec_freq, abs(spec_res), 10e6, 7.0e9, 0.5e-6, fano=1, off=1.0e-6, plot=False)\n",
    "# plot the fit function together with the measurement data\n",
    "#ax.plot(freq_plot / 1e9, func_Fano(freq_plot, *popt), '-r', label='fit')\n",
    "ax.legend()"
   ],
   "metadata": {
    "collapsed": false
   },
   "id": "61dc912b6b98f8ea"
  },
  {
   "cell_type": "code",
   "outputs": [],
   "source": [
    "# choose the readout frequency at the minimum of the fitted lineshape\n",
    "#qubit_parameters['ro_freq'] = freq_plot[np.argmin(func_Fano(freq_plot, *popt))] - lo_settings['ro_lo']\n",
    "#print(str((qubit_parameters['ro_freq']+lo_settings['ro_lo'])/1e9) + \" GHz\")"
   ],
   "metadata": {
    "collapsed": false
   },
   "id": "7dee48d8faed7ad0"
  },
  {
   "cell_type": "code",
   "outputs": [],
   "source": [],
   "metadata": {
    "collapsed": false
   },
   "id": "dbb5c718361056f9"
  },
  {
   "cell_type": "code",
   "outputs": [],
   "source": [],
   "metadata": {
    "collapsed": false
   },
   "id": "bf1ed1bedd8f5107"
  },
  {
   "cell_type": "code",
   "outputs": [],
   "source": [],
   "metadata": {
    "collapsed": false
   },
   "id": "f107a427765f2a58"
  },
  {
   "cell_type": "code",
   "outputs": [],
   "source": [],
   "metadata": {
    "collapsed": false
   },
   "id": "a7951bc3dde2f71f"
  },
  {
   "cell_type": "code",
   "outputs": [],
   "source": [],
   "metadata": {
    "collapsed": false
   },
   "id": "864c78fdffa54af2"
  }
 ],
 "metadata": {
  "kernelspec": {
   "display_name": "Python 3",
   "language": "python",
   "name": "python3"
  },
  "language_info": {
   "codemirror_mode": {
    "name": "ipython",
    "version": 2
   },
   "file_extension": ".py",
   "mimetype": "text/x-python",
   "name": "python",
   "nbconvert_exporter": "python",
   "pygments_lexer": "ipython2",
   "version": "2.7.6"
  }
 },
 "nbformat": 4,
 "nbformat_minor": 5
}
