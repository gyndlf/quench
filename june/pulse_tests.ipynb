{
 "cells": [
  {
   "cell_type": "markdown",
   "id": "8fed449d-477b-48b5-8bfc-7e6f3677c864",
   "metadata": {},
   "source": [
    "Read the output of the SHFQC using an oscillscope "
   ]
  },
  {
   "cell_type": "code",
   "execution_count": 1,
   "id": "c6a4fbec-ed5d-4538-b8cf-159a31825f3f",
   "metadata": {},
   "outputs": [
    {
     "name": "stdout",
     "output_type": "stream",
     "text": [
      "Added 'quench/' and 'quench/libraries' for easy importing.\n"
     ]
    }
   ],
   "source": [
    "%matplotlib inline\n",
    "import local_broom"
   ]
  },
  {
   "cell_type": "code",
   "execution_count": 2,
   "id": "b2c8378b-c020-4f87-a257-84224cb69e38",
   "metadata": {},
   "outputs": [
    {
     "name": "stderr",
     "output_type": "stream",
     "text": [
      "C:\\Users\\LD2007\\AppData\\Local\\Temp\\ipykernel_18036\\621520450.py:44: TqdmExperimentalWarning: Using `tqdm.autonotebook.tqdm` in notebook mode. Use `tqdm.tqdm` instead to force console mode (e.g. in jupyter console)\n",
      "  from tqdm.autonotebook import tqdm\n"
     ]
    }
   ],
   "source": [
    "from laboneq.dsl.experiment import (\n",
    "    #Section,\n",
    "    Experiment,\n",
    "    ExperimentSignal,\n",
    "    #Sweep,\n",
    "    pulse_library\n",
    ")\n",
    "from laboneq.dsl.device import DeviceSetup\n",
    "from laboneq.dsl.session import Session\n",
    "from laboneq.dsl.calibration import (\n",
    "    Calibration,\n",
    "    SignalCalibration,\n",
    "    Oscillator\n",
    ")\n",
    "\n",
    "from laboneq.dsl.enums import (\n",
    "    AcquisitionType,\n",
    "    AveragingMode,\n",
    "    SectionAlignment,\n",
    "    PortMode,\n",
    "    ModulationType\n",
    ")\n",
    "\n",
    "from laboneq.dsl import LinearSweepParameter  # SweepParameter\n",
    "\n",
    "from laboneq.pulse_sheet_viewer.pulse_sheet_viewer import show_pulse_sheet\n",
    "from laboneq.contrib.example_helpers.plotting.plot_helpers import plot_simulation\n",
    "\n",
    "# plotting and fitting functionality\n",
    "#from laboneq.analysis.fitting import (\n",
    "    #lorentzian,\n",
    "    #oscillatory,\n",
    "    #oscillatory_decay,\n",
    "#)\n",
    "\n",
    "#from laboneq.contrib.example_helpers.plotting.plot_helpers import plot_simulation\n",
    "\n",
    "# for saving results and pulse sheets\n",
    "from pathlib import Path\n",
    "import time\n",
    "\n",
    "import matplotlib.pyplot as plt\n",
    "import numpy as np\n",
    "from tqdm.autonotebook import tqdm\n",
    "\n",
    "from monty import Monty"
   ]
  },
  {
   "cell_type": "code",
   "execution_count": 3,
   "id": "970fe86f-9eb9-4169-87c5-feae9780422f",
   "metadata": {},
   "outputs": [
    {
     "name": "stdout",
     "output_type": "stream",
     "text": [
      "Started new experiment rf.awg_tests\n"
     ]
    }
   ],
   "source": [
    "experiment = {\n",
    "    \"desc\": \"Test the RF pulse code (AWG) is doing what i think it is.\"\n",
    "}\n",
    "\n",
    "monty = Monty(\"rf.awg tests\", experiment)"
   ]
  },
  {
   "cell_type": "code",
   "execution_count": 25,
   "id": "e34c0b17-b9ad-4190-b008-1cec3e7d2909",
   "metadata": {},
   "outputs": [],
   "source": [
    "descriptor = \"\"\"\n",
    "instruments:\n",
    "  SHFQC:\n",
    "  - address: DEV12158\n",
    "    uid: device_shfqc\n",
    "    interface: 1gbe\n",
    "    options: SHFQC/QC6CH  # added based on warning\n",
    "\n",
    "connections:\n",
    "  device_shfqc:\n",
    "    - acquire_signal: set/acquire_line\n",
    "      ports: [QACHANNELS/0/INPUT]\n",
    "    - iq_signal: t1/drive_line\n",
    "      ports: SGCHANNELS/4/OUTPUT  # 4 => labeled channel 5\n",
    "    - iq_signal: t2/drive_line\n",
    "      ports: SGCHANNELS/5/OUTPUT\n",
    "\"\"\"\n"
   ]
  },
  {
   "cell_type": "code",
   "execution_count": 26,
   "id": "d8ade0a9-6a8e-4f0c-ab12-79712692d35f",
   "metadata": {},
   "outputs": [
    {
     "name": "stdout",
     "output_type": "stream",
     "text": [
      "[2024.06.25 11:43:29.880] INFO    Logging initialized from [Default inline config in laboneq.laboneq_logging] logdir is C:\\Users\\LD2007\\Documents\\Si_CMOS_james\\quench\\june\\laboneq_output\\log\n",
      "[2024.06.25 11:43:29.881] INFO    VERSION: laboneq 2.32.0\n",
      "[2024.06.25 11:43:29.882] INFO    Connecting to data server at localhost:8004\n",
      "[2024.06.25 11:43:29.889] INFO    Connected to Zurich Instruments LabOne Data Server version 24.04 at localhost:8004\n",
      "[2024.06.25 11:43:31.002] INFO    Configuring the device setup\n",
      "[2024.06.25 11:43:31.111] INFO    The device setup is configured\n"
     ]
    },
    {
     "data": {
      "text/plain": [
       "<laboneq.dsl.session.ConnectionState at 0x1e5a27c2990>"
      ]
     },
     "execution_count": 26,
     "metadata": {},
     "output_type": "execute_result"
    }
   ],
   "source": [
    "# Define and Load our Device Setup\n",
    "device_setup = DeviceSetup.from_descriptor(\n",
    "    yaml_text=descriptor,\n",
    "    server_host=\"localhost\",\n",
    "    server_port=\"8004\", \n",
    "    setup_name=\"my_setup\",\n",
    ")\n",
    "\n",
    "session = Session(device_setup=device_setup)\n",
    "session.connect(do_emulation=False)"
   ]
  },
  {
   "cell_type": "code",
   "execution_count": 69,
   "id": "ce8e6d96-aab5-4c1c-abae-3a0a26931645",
   "metadata": {},
   "outputs": [],
   "source": [
    "def compile_run(session, exp_name, exp, pulse_sheet=True):\n",
    "    compiler_settings = {\n",
    "        \"OUTPUT_EXTRAS\": True,\n",
    "        \"MAX_EVENTS_TO_PUBLISH\": 1000,\n",
    "    }\n",
    "    compiled_exp = session.compile(exp, compiler_settings=compiler_settings)\n",
    "    results = session.run(compiled_exp)\n",
    "\n",
    "    if pulse_sheet:\n",
    "        root = Path(\"/Users/LD2007/Documents/Si_CMOS_james/pulse_sheets\")\n",
    "        root.mkdir(parents=True, exist_ok=True)\n",
    "        path = root.joinpath(exp_name)\n",
    "        #print(f\"Saving pulse sheet to {path}\")\n",
    "        show_pulse_sheet(str(path), compiled_exp)\n",
    "    #if exp_params[\"plot_simulation\"] == 1:\n",
    "    #plot_simulation(compiled_exp, start_time=exp_params[\"plt_start_time\"], length=exp_params[\"plt_length\"])\n",
    "    return results\n"
   ]
  },
  {
   "cell_type": "code",
   "execution_count": 70,
   "id": "fa3b2b41-1f1a-4872-9473-438f9d89cf0c",
   "metadata": {},
   "outputs": [
    {
     "data": {
      "text/plain": [
       "'/logical_signal_groups/t1/drive_line'"
      ]
     },
     "execution_count": 70,
     "metadata": {},
     "output_type": "execute_result"
    }
   ],
   "source": [
    "device_setup.logical_signal_groups[\"t1\"].logical_signals[\"drive_line\"].path"
   ]
  },
  {
   "cell_type": "code",
   "execution_count": 71,
   "id": "a2bafe01-3cd3-4d37-a123-05dcea0542f1",
   "metadata": {},
   "outputs": [],
   "source": [
    "def simplepulse(exp_params):\n",
    "    exp = Experiment(\n",
    "        uid=\"simple\",\n",
    "        signals=[\n",
    "            ExperimentSignal(\"t1\", map_to='/logical_signal_groups/t1/drive_line'),\n",
    "            ExperimentSignal(\"t2\", map_to='/logical_signal_groups/t2/drive_line'),\n",
    "            ExperimentSignal(\"acquire\", map_to='/logical_signal_groups/set/acquire_line'),\n",
    "        ],\n",
    "    )\n",
    "\n",
    "    with exp.acquire_loop_rt(\n",
    "        uid=exp_params[\"exp_name\"] + \"_shots\",\n",
    "        count=2**exp_params[\"num_averages\"],\n",
    "        acquisition_type=AcquisitionType.SPECTROSCOPY,\n",
    "        averaging_mode=AveragingMode.SEQUENTIAL):\n",
    "        with exp.section(uid=\"spectroscopy\"):\n",
    "            exp.play(\n",
    "                signal=\"t1\",\n",
    "                pulse=exp_params[\"dr_t1_pulse\"],\n",
    "                amplitude=exp_params[\"dr_t1_amp\"],\n",
    "                phase=180\n",
    "            )\n",
    "        with exp.section(uid=\"relax\", length=exp_params[\"delay\"]):\n",
    "            exp.reserve(signal=\"t1\")\n",
    "            exp.reserve(signal=\"t2\")\n",
    "                    \n",
    "    cal = Calibration()\n",
    "    cal[\"t1\"] = SignalCalibration(\n",
    "        local_oscillator = Oscillator(frequency = 0),\n",
    "        oscillator=Oscillator(frequency=0, modulation_type=ModulationType.HARDWARE),\n",
    "        amplitude=exp_params[\"t1_osc_gain\"],\n",
    "        range = exp_params[\"t1_pout_range\"],\n",
    "        port_mode=PortMode.LF,\n",
    "    )\n",
    "    cal[\"t2\"] = SignalCalibration(\n",
    "        local_oscillator = Oscillator(frequency = 0),\n",
    "        oscillator=Oscillator(frequency=0, modulation_type=ModulationType.HARDWARE),\n",
    "        amplitude=exp_params[\"t2_osc_gain\"],\n",
    "        range = exp_params[\"t2_pout_range\"],\n",
    "        port_mode=PortMode.LF,\n",
    "    )\n",
    "\n",
    "    cal[\"acquire\"] = SignalCalibration(\n",
    "        local_oscillator=Oscillator(frequency=0),  # exp_params[\"ro_lo\"]),\n",
    "        port_mode=PortMode.LF,\n",
    "        oscillator=Oscillator(frequency=400e6, modulation_type=ModulationType.HARDWARE),\n",
    "        range=0)\n",
    "    \n",
    "    exp.set_calibration(cal)\n",
    "\n",
    "    return exp\n",
    "    "
   ]
  },
  {
   "cell_type": "code",
   "execution_count": 72,
   "id": "1969a60f-2400-4c93-9b99-a613705f414f",
   "metadata": {},
   "outputs": [
    {
     "name": "stdout",
     "output_type": "stream",
     "text": [
      "[2024.06.25 12:04:26.650] INFO    Starting LabOne Q Compiler run...\n",
      "[2024.06.25 12:04:26.658] INFO    Schedule completed. [0.005 s]\n",
      "[2024.06.25 12:04:46.800] INFO    Code generation completed for all AWGs. [20.141 s]\n",
      "[2024.06.25 12:04:46.801] INFO    Completed compilation step 1 of 1. [20.147 s]\n",
      "[2024.06.25 12:04:46.806] INFO     ───────────────────────────────────────────────────────────────────── \n",
      "[2024.06.25 12:04:46.808] INFO     \u001b[1m \u001b[0m\u001b[1mDevice         \u001b[0m\u001b[1m \u001b[0m \u001b[1m \u001b[0m\u001b[1mAWG\u001b[0m\u001b[1m \u001b[0m \u001b[1m \u001b[0m\u001b[1mSeqC LOC\u001b[0m\u001b[1m \u001b[0m \u001b[1m \u001b[0m\u001b[1mCT entries\u001b[0m\u001b[1m \u001b[0m \u001b[1m \u001b[0m\u001b[1mWaveforms\u001b[0m\u001b[1m \u001b[0m \u001b[1m \u001b[0m\u001b[1mSamples\u001b[0m\u001b[1m \u001b[0m \n",
      "[2024.06.25 12:04:46.809] INFO     ───────────────────────────────────────────────────────────────────── \n",
      "[2024.06.25 12:04:46.810] INFO      device_shfqc        0          2            0           0         0  \n",
      "[2024.06.25 12:04:46.811] INFO      device_shfqc_sg     4         14            1           1        64  \n",
      "[2024.06.25 12:04:46.812] INFO      device_shfqc_sg     5          3            0           0         0  \n",
      "[2024.06.25 12:04:46.813] INFO     ───────────────────────────────────────────────────────────────────── \n",
      "[2024.06.25 12:04:46.815] INFO     \u001b[1m \u001b[0m\u001b[1mTOTAL          \u001b[0m\u001b[1m \u001b[0m \u001b[1m \u001b[0m\u001b[1m   \u001b[0m\u001b[1m \u001b[0m \u001b[1m \u001b[0m\u001b[1m      19\u001b[0m\u001b[1m \u001b[0m \u001b[1m \u001b[0m\u001b[1m         1\u001b[0m\u001b[1m \u001b[0m \u001b[1m \u001b[0m\u001b[1m         \u001b[0m\u001b[1m \u001b[0m \u001b[1m \u001b[0m\u001b[1m     64\u001b[0m\u001b[1m \u001b[0m \n",
      "[2024.06.25 12:04:46.815] INFO     ───────────────────────────────────────────────────────────────────── \n",
      "[2024.06.25 12:04:46.822] INFO    Finished LabOne Q Compiler run.\n",
      "[2024.06.25 12:04:46.834] INFO    Configuring the device setup\n",
      "[2024.06.25 12:04:46.937] INFO    The device setup is configured\n",
      "[2024.06.25 12:04:47.632] INFO    Starting near-time execution...\n",
      "[2024.06.25 12:04:47.928] INFO    Estimated RT execution time: 30.72 s.\n",
      "[2024.06.25 12:05:18.900] INFO    Finished near-time execution.\n",
      "[2024.06.25 12:05:19.053] INFO    Writing html file to C:\\Users\\LD2007\\Documents\\Si_CMOS_james\\pulse_sheets\\simple_2024-06-25-12-05-19.html\n"
     ]
    }
   ],
   "source": [
    "dr_pulse_len = 120e-3\n",
    "dr_t1_pulse = pulse_library.const(uid = \"dr_t1_pulse\", amplitude = 1.0, length = dr_pulse_len, can_compress=True)\n",
    "\n",
    "exp_params_simple = {\n",
    "    \"exp_name\": \"simple\",\n",
    "    \"dr_t1_pulse\": dr_t1_pulse,\n",
    "    \"dr_t1_amp\": 1.0,\n",
    "    \"delay\": 10e-6,\n",
    "    \"num_averages\": 8,\n",
    "    \"t1_osc_gain\": 1.0,\n",
    "    \"t1_pout_range\": 0,\n",
    "    \"t2_osc_gain\": 1.0,\n",
    "    \"t2_pout_range\": 0,\n",
    "}\n",
    "\n",
    "exp = simplepulse(exp_params_simple)\n",
    "result = compile_run(session, exp_params_simple[\"exp_name\"], exp)"
   ]
  },
  {
   "cell_type": "code",
   "execution_count": 73,
   "id": "5e1f49e9-f60b-4d3c-b1de-d6eea0909152",
   "metadata": {},
   "outputs": [
    {
     "name": "stdout",
     "output_type": "stream",
     "text": [
      "[2024.06.25 12:05:19.068] INFO    Starting LabOne Q Compiler run...\n",
      "[2024.06.25 12:05:19.078] INFO    Schedule completed. [0.007 s]\n",
      "[2024.06.25 12:05:40.789] INFO    Code generation completed for all AWGs. [21.709 s]\n",
      "[2024.06.25 12:05:40.790] INFO    Completed compilation step 1 of 1. [21.718 s]\n",
      "[2024.06.25 12:05:40.797] INFO     ───────────────────────────────────────────────────────────────────── \n",
      "[2024.06.25 12:05:40.798] INFO     \u001b[1m \u001b[0m\u001b[1mDevice         \u001b[0m\u001b[1m \u001b[0m \u001b[1m \u001b[0m\u001b[1mAWG\u001b[0m\u001b[1m \u001b[0m \u001b[1m \u001b[0m\u001b[1mSeqC LOC\u001b[0m\u001b[1m \u001b[0m \u001b[1m \u001b[0m\u001b[1mCT entries\u001b[0m\u001b[1m \u001b[0m \u001b[1m \u001b[0m\u001b[1mWaveforms\u001b[0m\u001b[1m \u001b[0m \u001b[1m \u001b[0m\u001b[1mSamples\u001b[0m\u001b[1m \u001b[0m \n",
      "[2024.06.25 12:05:40.799] INFO     ───────────────────────────────────────────────────────────────────── \n",
      "[2024.06.25 12:05:40.800] INFO      device_shfqc        0          2            0           0         0  \n",
      "[2024.06.25 12:05:40.801] INFO      device_shfqc_sg     4         14            1           1        64  \n",
      "[2024.06.25 12:05:40.804] INFO      device_shfqc_sg     5          3            0           0         0  \n",
      "[2024.06.25 12:05:40.805] INFO     ───────────────────────────────────────────────────────────────────── \n",
      "[2024.06.25 12:05:40.806] INFO     \u001b[1m \u001b[0m\u001b[1mTOTAL          \u001b[0m\u001b[1m \u001b[0m \u001b[1m \u001b[0m\u001b[1m   \u001b[0m\u001b[1m \u001b[0m \u001b[1m \u001b[0m\u001b[1m      19\u001b[0m\u001b[1m \u001b[0m \u001b[1m \u001b[0m\u001b[1m         1\u001b[0m\u001b[1m \u001b[0m \u001b[1m \u001b[0m\u001b[1m         \u001b[0m\u001b[1m \u001b[0m \u001b[1m \u001b[0m\u001b[1m     64\u001b[0m\u001b[1m \u001b[0m \n",
      "[2024.06.25 12:05:40.808] INFO     ───────────────────────────────────────────────────────────────────── \n",
      "[2024.06.25 12:05:40.815] INFO    Finished LabOne Q Compiler run.\n",
      "Saving pulse sheet to \\Users\\LD2007\\Documents\\Si_CMOS_james\\pulse_sheets\\simple\n",
      "[2024.06.25 12:05:41.195] INFO    Writing html file to C:\\Users\\LD2007\\Documents\\Si_CMOS_james\\pulse_sheets\\simple_2024-06-25-12-05-41.html\n"
     ]
    },
    {
     "data": {
      "text/html": [
       "<a href='\\Users\\LD2007\\Documents\\Si_CMOS_james\\pulse_sheets\\simple_2024-06-25-12-05-41.html' target='_blank'>\\Users\\LD2007\\Documents\\Si_CMOS_james\\pulse_sheets\\simple_2024-06-25-12-05-41.html</a><br>"
      ],
      "text/plain": [
       "C:\\Users\\LD2007\\Documents\\Si_CMOS_james\\pulse_sheets\\simple_2024-06-25-12-05-41.html"
      ]
     },
     "execution_count": 73,
     "metadata": {},
     "output_type": "execute_result"
    }
   ],
   "source": [
    "compiler_settings = {\n",
    "    \"OUTPUT_EXTRAS\": True,\n",
    "    \"MAX_EVENTS_TO_PUBLISH\": 1000,\n",
    "}\n",
    "compiled_exp = session.compile(exp, compiler_settings=compiler_settings)\n",
    "\n",
    "#results = session.run(compiled_exp)\n",
    "root = Path(\"/Users/LD2007/Documents/Si_CMOS_james/pulse_sheets\")\n",
    "root.mkdir(parents=True, exist_ok=True)\n",
    "path = root.joinpath(f\"{exp_params_simple[\"exp_name\"]}\")\n",
    "print(f\"Saving pulse sheet to {path}\")\n",
    "show_pulse_sheet(str(path), compiled_exp)"
   ]
  },
  {
   "cell_type": "code",
   "execution_count": 53,
   "id": "eb4c4a5e-2a2b-48bc-b996-fb42cd131023",
   "metadata": {},
   "outputs": [],
   "source": [
    "root = Path(\"/Users/LD2007/Documents/Si_CMOS_james/pulse_sheets\")\n",
    "root.mkdir(parents=True, exist_ok=True)\n",
    "path = root.joinpath(\"test\")"
   ]
  },
  {
   "cell_type": "code",
   "execution_count": 56,
   "id": "479e7431-24c1-4ffb-b182-af46abf4344c",
   "metadata": {},
   "outputs": [
    {
     "data": {
      "text/plain": [
       "'\\\\Users\\\\LD2007\\\\Documents\\\\Si_CMOS_james\\\\pulse_sheets\\\\test'"
      ]
     },
     "execution_count": 56,
     "metadata": {},
     "output_type": "execute_result"
    }
   ],
   "source": [
    "str(path)"
   ]
  },
  {
   "cell_type": "code",
   "execution_count": null,
   "id": "cab1df85-a280-46c6-8ad9-d0668d35c764",
   "metadata": {},
   "outputs": [],
   "source": []
  }
 ],
 "metadata": {
  "kernelspec": {
   "display_name": "Python 3 (ipykernel)",
   "language": "python",
   "name": "python3"
  },
  "language_info": {
   "codemirror_mode": {
    "name": "ipython",
    "version": 3
   },
   "file_extension": ".py",
   "mimetype": "text/x-python",
   "name": "python",
   "nbconvert_exporter": "python",
   "pygments_lexer": "ipython3",
   "version": "3.12.3"
  }
 },
 "nbformat": 4,
 "nbformat_minor": 5
}
