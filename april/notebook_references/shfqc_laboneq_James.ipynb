{
 "cells": [
  {
   "attachments": {},
   "cell_type": "markdown",
   "id": "fe2d00d7-c88e-4c5c-a2ca-8d6bc78ebe3e",
   "metadata": {
    "tags": []
   },
   "source": [
    "# Qubit Tune-up with a single SHFQC \n"
   ]
  },
  {
   "attachments": {},
   "cell_type": "markdown",
   "id": "4d4e7d0b-b53a-40e4-831c-236ed9d97c42",
   "metadata": {},
   "source": [
    "## 0. General Imports and Definitions\n",
    "### 0.1 Python Imports "
   ]
  },
  {
   "cell_type": "code",
   "execution_count": 1,
   "id": "f383ab20",
   "metadata": {
    "ExecuteTime": {
     "end_time": "2024-02-22T04:47:20.519798Z",
     "start_time": "2024-02-22T04:47:18.007473Z"
    }
   },
   "outputs": [],
   "source": [
    "# LabOne Q:\n",
    "from laboneq.simple import *\n",
    "\n",
    "# plotting and fitting functionality\n",
    "from laboneq.analysis.fitting import (\n",
    "    lorentzian,\n",
    "    oscillatory,\n",
    "    oscillatory_decay,\n",
    ")\n",
    "from laboneq.contrib.example_helpers.plotting.plot_helpers import plot_simulation\n",
    "\n",
    "# descriptor imports\n",
    "from laboneq.contrib.example_helpers.descriptors.shfsg_shfqa_pqsc import (\n",
    "    descriptor_shfsg_shfqa_pqsc,\n",
    ")\n",
    "\n",
    "from laboneq.contrib.example_helpers.descriptors.shfsg_shfqa_shfqc_hdawg_pqsc import (\n",
    "    descriptor_shfsg_shfqa_shfqc_hdawg_pqsc,\n",
    ")\n",
    "\n",
    "from laboneq.contrib.example_helpers.randomized_benchmarking_helper import (\n",
    "    make_pauli_gate_map,\n",
    "    clifford_parametrized,\n",
    "    generate_play_rb_pulses,\n",
    ")\n",
    "\n",
    "from laboneq.contrib.example_helpers.feedback_helper import (\n",
    "    state_emulation_pulse,\n",
    "    create_calibration_experiment,\n",
    "    create_discrimination_experiment,\n",
    ")\n",
    "\n",
    "from laboneq.contrib.example_helpers.generate_example_datastore import (\n",
    "    generate_example_datastore,\n",
    "    get_first_named_entry,\n",
    ")\n",
    "\n",
    "from zhinst.utils.shfqa.multistate import QuditSettings\n",
    "from laboneq.analysis import calculate_integration_kernels\n",
    "# for saving results and pulse sheets\n",
    "from pathlib import Path\n",
    "import time\n",
    "\n",
    "import matplotlib.pyplot as plt\n",
    "import numpy as np"
   ]
  },
  {
   "attachments": {},
   "cell_type": "markdown",
   "id": "0d9141f7-3fc4-4e0e-b553-59ea490e84cc",
   "metadata": {
    "tags": []
   },
   "source": [
    "## 1. Define the Instrument Setup and Required Experimental Parameters\n",
    "### 1.1 Create device setup\n",
    "\n",
    "Create the device setup from the descriptor, and apply some convenient mapping to instruments and logical signals."
   ]
  },
  {
   "cell_type": "code",
   "execution_count": null,
   "id": "f2790c79",
   "metadata": {},
   "outputs": [],
   "source": [
    "# pip install --upgrade laboneq"
   ]
  },
  {
   "cell_type": "code",
   "execution_count": 2,
   "id": "75399943",
   "metadata": {
    "ExecuteTime": {
     "end_time": "2024-02-22T04:48:25.115588Z",
     "start_time": "2024-02-22T04:48:25.080582Z"
    }
   },
   "outputs": [],
   "source": [
    "descriptor = \"\"\"\\\n",
    "instruments:\n",
    "  SHFQC:\n",
    "  - address: DEV12108\n",
    "    uid: device_shfqc\n",
    "\n",
    "connections:\n",
    "  device_shfqc:\n",
    "    - iq_signal: q0/drive_line\n",
    "      ports: SGCHANNELS/0/OUTPUT\n",
    "    - iq_signal: q0/drive_line_ef\n",
    "      ports: SGCHANNELS/0/OUTPUT\n",
    "    - iq_signal: q1/drive_line\n",
    "      ports: SGCHANNELS/1/OUTPUT\n",
    "    - iq_signal: q1/drive_line_ef\n",
    "      ports: SGCHANNELS/1/OUTPUT\n",
    "    - iq_signal: q2/drive_line\n",
    "      ports: SGCHANNELS/2/OUTPUT\n",
    "    - iq_signal: q2/drive_line_ef\n",
    "      ports: SGCHANNELS/2/OUTPUT\n",
    "    - iq_signal: q3/drive_line\n",
    "      ports: SGCHANNELS/3/OUTPUT\n",
    "    - iq_signal: q3/drive_line_ef\n",
    "      ports: SGCHANNELS/3/OUTPUT\n",
    "    - iq_signal: q4/drive_line\n",
    "      ports: SGCHANNELS/4/OUTPUT\n",
    "    - iq_signal: q4/drive_line_ef\n",
    "      ports: SGCHANNELS/4/OUTPUT\n",
    "    - iq_signal: q5/drive_line\n",
    "      ports: SGCHANNELS/5/OUTPUT\n",
    "    - iq_signal: q5/drive_line_ef\n",
    "      ports: SGCHANNELS/5/OUTPUT\n",
    "    - iq_signal: q0/measure_line\n",
    "      ports: [QACHANNELS/0/OUTPUT]\n",
    "    - acquire_signal: q0/acquire_line\n",
    "      ports: [QACHANNELS/0/INPUT]\n",
    "    - iq_signal: q1/measure_line\n",
    "      ports: [QACHANNELS/0/OUTPUT]\n",
    "    - acquire_signal: q1/acquire_line\n",
    "      ports: [QACHANNELS/0/INPUT]\n",
    "    - iq_signal: q2/measure_line\n",
    "      ports: [QACHANNELS/0/OUTPUT]\n",
    "    - acquire_signal: q2/acquire_line\n",
    "      ports: [QACHANNELS/0/INPUT]\n",
    "    - iq_signal: q3/measure_line\n",
    "      ports: [QACHANNELS/0/OUTPUT]\n",
    "    - acquire_signal: q3/acquire_line\n",
    "      ports: [QACHANNELS/0/INPUT]\n",
    "    - iq_signal: q4/measure_line\n",
    "      ports: [QACHANNELS/0/OUTPUT]\n",
    "    - acquire_signal: q4/acquire_line\n",
    "      ports: [QACHANNELS/0/INPUT]\n",
    "    - iq_signal: q5/measure_line\n",
    "      ports: [QACHANNELS/0/OUTPUT]\n",
    "    - acquire_signal: q5/acquire_line\n",
    "      ports: [QACHANNELS/0/INPUT]\n",
    "\"\"\"\n",
    "\n",
    "# Define and Load our Device Setup\n",
    "device_setup = DeviceSetup.from_descriptor(\n",
    "    yaml_text=descriptor, #descriptor_shfsg_shfqa_shfqc_hdawg_pqsc,\n",
    "    server_host=\"10.42.11.4\",  # ip address of the LabOne dataserver used to communicate with the instruments\n",
    "    server_port=\"8004\",  # port number of the dataserver - default is 8004\n",
    "    setup_name=\"my_setup\",  # setup name\n",
    ")\n",
    "\n",
    "def lsg(qubit_str, line_str):\n",
    "    return device_setup.logical_signal_groups[qubit_str].logical_signals[line_str]\n",
    "\n",
    "lsg_keys = device_setup.logical_signal_groups.keys()\n",
    "\n"
   ]
  },
  {
   "cell_type": "markdown",
   "id": "c65260ac",
   "metadata": {},
   "source": [
    "Run emulation mode or not"
   ]
  },
  {
   "cell_type": "code",
   "execution_count": 4,
   "id": "57226b3c",
   "metadata": {
    "ExecuteTime": {
     "end_time": "2024-02-22T04:51:45.026939Z",
     "start_time": "2024-02-22T04:51:44.937434Z"
    }
   },
   "outputs": [
    {
     "name": "stdout",
     "output_type": "stream",
     "text": [
      "[2024.02.22 15:51:44.939] INFO    Logging initialized from [Default inline config in laboneq.laboneq_logging] logdir is /Users/james/Projects/PycharmProjects/SydneyQuantum/notebooks/laboneq_output/log\n",
      "[2024.02.22 15:51:44.942] INFO    VERSION: laboneq 2.25.0\n",
      "[2024.02.22 15:51:44.944] INFO    Connecting to data server at 10.42.11.4:8004\n",
      "[2024.02.22 15:51:44.946] INFO    Connected to Zurich Instruments LabOne Data Server version 24.01 at 10.42.11.4:8004\n",
      "[2024.02.22 15:51:44.948] WARNING SHFQC/QA:dev12108: Include the device options 'SHFQC/QC6CH' in the device setup ('options' field of the 'instruments' list in the device setup descriptor). This will become a strict requirement in the future.\n",
      "[2024.02.22 15:51:44.952] INFO    Configuring the device setup\n",
      "[2024.02.22 15:51:44.953] INFO    The device setup is configured\n"
     ]
    },
    {
     "data": {
      "text/plain": "<laboneq.dsl.session.ConnectionState at 0x11d01f080>"
     },
     "execution_count": 4,
     "metadata": {},
     "output_type": "execute_result"
    }
   ],
   "source": [
    "# perform experiments in emulation mode only? - if True, also generate dummy data for fitting\n",
    "emulate = True\n",
    "\n",
    "# create and connect to a session\n",
    "session = Session(device_setup=device_setup)\n",
    "session.connect(do_emulation=emulate)"
   ]
  },
  {
   "attachments": {},
   "cell_type": "markdown",
   "id": "ccd7bbc2-5a08-448a-ae5a-1273f2879a7f",
   "metadata": {
    "tags": []
   },
   "source": [
    "### 1.2 Qubit Parameters\n",
    "\n",
    "A python dictionary containing all parameters needed to control and readout the qubits - frequencies, pulse lengths, timings\n",
    "\n",
    "May initially contain only the design parameters and will be updated with measurement results during the tuneup procedure"
   ]
  },
  {
   "cell_type": "code",
   "execution_count": 5,
   "id": "e5ca3e9f",
   "metadata": {
    "ExecuteTime": {
     "end_time": "2024-02-22T04:52:58.104034Z",
     "start_time": "2024-02-22T04:52:58.062514Z"
    }
   },
   "outputs": [],
   "source": [
    "\n",
    "num_qudits = len(lsg_keys)\n",
    "\n",
    "ro_pulse_duration = 1e-6\n",
    "\n",
    "qudits_params = {\n",
    "\"qudits\":lsg_keys,\n",
    "\"ro_num_states\": num_qudits * [2],\n",
    "\"ro_cent_f\": 0,\n",
    "\"ro_df\":     num_qudits * [10e6],\n",
    "\"ro_pin_range\":   0,\n",
    "\"ro_pout_range\":  0,\n",
    "\"ro_pulse_data\": {},\n",
    "\"ro_pulse_delay\": 0,\n",
    "\"ro_int_t\": ro_pulse_duration,\n",
    "\"ro_int_delay\": 0e-9,\n",
    "\n",
    "\"ro_int_weights\": {},\n",
    "\"thresholds\":{},\n",
    "\"ro_snr\": num_qudits * [0],\n",
    "\"ro_fidelity\": num_qudits * [0],\n",
    "\"ro_fidelity_ef\": num_qudits * [0],\n",
    "\"ro_x_talk_matrix\": {},\n",
    "\"wait_after_int\": 5e-6,\n",
    "\n",
    "\"dr_cent_f\": num_qudits * [7e9], # <= 3 different LO f, because ch1 and ch2 share the same LO, and same for ch3 and ch4, ch5 and ch6\n",
    "\"dr_df\": num_qudits * [10e6],\n",
    "\"dr_df_ef\": num_qudits * [10e6],\n",
    "\"dr_p_range\":   num_qudits * [0],\n",
    "\"dr_pulse_data\": num_qudits * [0.5],\n",
    "\"dr_pulse_data_ef\": num_qudits * [0.5],\n",
    "\"dr_pi_pulse\": {},\n",
    "\"dr_pi_pulse_ef\": {},\n",
    "\"dr_pi/2_pulse\": {},\n",
    "\"dr_pi/2_pulse_ef\": {},\n",
    "\"T1\": num_qudits * [0],\n",
    "\"T2\": num_qudits * [0],\n",
    "\"T2_echo\": num_qudits * [0],\n",
    "\"T2_Ramsey\": num_qudits * [0],\n",
    "\"T2_CPMG\": num_qudits * [0],\n",
    "\"T1_ef\": num_qudits * [0],\n",
    "\"T2_echo_ef\": num_qudits * [0],\n",
    "\"T2_Ramsey_ef\": num_qudits * [0],\n",
    "\"T2_CPMG_ef\": num_qudits * [0],\n",
    "\"1q_gate_fidelity\": num_qudits * [0],\n",
    "\"2q_gate_fidelity\": num_qudits * [0],\n",
    "\"dr_x_talk_matrix\": {},\n",
    "}\n",
    "states_str = [\"g\", \"e\", \"f\", \"h\"]"
   ]
  },
  {
   "cell_type": "markdown",
   "id": "6a78f5f0",
   "metadata": {},
   "source": []
  },
  {
   "cell_type": "code",
   "execution_count": 6,
   "id": "3b7fd7e6",
   "metadata": {
    "ExecuteTime": {
     "end_time": "2024-02-22T04:53:25.195680Z",
     "start_time": "2024-02-22T04:53:25.164134Z"
    }
   },
   "outputs": [
    {
     "data": {
      "text/plain": "dict_keys(['q0', 'q1', 'q2', 'q3', 'q4', 'q5'])"
     },
     "execution_count": 6,
     "metadata": {},
     "output_type": "execute_result"
    }
   ],
   "source": [
    "lsg_keys"
   ]
  },
  {
   "cell_type": "code",
   "execution_count": 7,
   "id": "ec886946",
   "metadata": {
    "ExecuteTime": {
     "end_time": "2024-02-22T04:59:51.594434Z",
     "start_time": "2024-02-22T04:59:50.756501Z"
    }
   },
   "outputs": [],
   "source": [
    "from pathlib import Path\n",
    "import time\n",
    "import numpy as np\n",
    "import matplotlib.pyplot as plt\n",
    "from mpl_toolkits.axes_grid1 import make_axes_locatable\n",
    "\n",
    "import scipy as scy\n",
    "from scipy.signal import gaussian\n",
    "from scipy.optimize import leastsq\n",
    "from scipy.stats import norm\n",
    "from pylab import rcParams\n",
    "import textwrap\n",
    "import itertools\n",
    "# function that defines a resonator spectroscopy experiment, and takes the frequency sweep as a parameter\n",
    "\n",
    "ro_port_mode = PortMode.LF if qudits_params[\"ro_cent_f\"] == 0 else PortMode.RF\n",
    "    \n",
    "\n",
    "\n",
    "\n",
    "def res_spectroscopy_CW(freq_sweep, exp_settings):\n",
    "    # Create resonator spectroscopy experiment - uses only readout drive and signal acquisition\n",
    "    exp_spec = Experiment(\n",
    "        uid=exp_settings[\"exp_name\"],\n",
    "        signals=[\n",
    "            ExperimentSignal((\"measure\"), map_to=lsg(\"q0\", \"measure_line\")),\n",
    "            ExperimentSignal((\"acquire\"), map_to=lsg(\"q0\", \"acquire_line\")),\n",
    "        ],\n",
    "    )\n",
    "\n",
    "    ## define experimental sequence\n",
    "    # loop - average multiple measurements for each frequency - measurement in spectroscopy mode\n",
    "    with exp_spec.acquire_loop_rt(\n",
    "        uid=\"shots\",\n",
    "        count=exp_settings[\"num_averages\"],\n",
    "        acquisition_type=AcquisitionType.SPECTROSCOPY,\n",
    "    ):\n",
    "        with exp_spec.sweep(uid=\"res_freq\", parameter=freq_sweep):\n",
    "            # readout pulse and data acquisition\n",
    "            with exp_spec.section(uid=\"spectroscopy\"):\n",
    "                # resonator signal readout\n",
    "                exp_spec.acquire(\n",
    "                    signal=\"acquire\",\n",
    "                    handle=\"res_spec\",\n",
    "                    length=exp_settings[\"integration_time\"],\n",
    "                )\n",
    "            # relax time after readout - for qubit relaxation to groundstate and signal processing\n",
    "            with exp_spec.section(uid=\"relax\", length=1e-6):\n",
    "                exp_spec.reserve(signal=\"measure\")\n",
    "\n",
    "    return exp_spec\n",
    "\n",
    "def exp_signal(exp_params, num_states=2):\n",
    "    if \"ef\" in exp_params[\"exp_name\"] or num_states >2:\n",
    "        signals = [signal for signal_list in [\n",
    "            [ExperimentSignal((\"drive_\" + qubit),   map_to=lsg(qubit, \"drive_line\")),\n",
    "             ExperimentSignal((\"drive_ef_\" + qubit),map_to=lsg(qubit, \"drive_line_ef\")),\n",
    "             ExperimentSignal((\"measure_\" + qubit), map_to=lsg(qubit, \"measure_line\")),\n",
    "             ExperimentSignal((\"acquire_\" + qubit), map_to=lsg(qubit, \"acquire_line\")),  \n",
    "            ] for qubit in exp_params[\"qubits\"]\n",
    "            ] for signal in signal_list\n",
    "        ]\n",
    "    else:\n",
    "        signals = [signal for signal_list in [\n",
    "                [   ExperimentSignal((\"drive_\" + qubit),   map_to=lsg(qubit, \"drive_line\")),                    \n",
    "                    ExperimentSignal((\"measure_\" + qubit), map_to=lsg(qubit, \"measure_line\")),\n",
    "                    ExperimentSignal((\"acquire_\" + qubit), map_to=lsg(qubit, \"acquire_line\")),  \n",
    "                ] for qubit in exp_params[\"qubits\"]\n",
    "            ] for signal in signal_list\n",
    "        ]  \n",
    "\n",
    "    exp_signal = Experiment(uid=exp_params[\"exp_name\"], signals= signals)\n",
    "    return exp_signal\n",
    "\n",
    "def compile_run(session, exp_params, exp):\n",
    "    compiler_settings = None\n",
    "    if \"rb\" in exp_params[\"exp_name\"]:\n",
    "        compiler_settings = {\"SHFSG_MIN_PLAYWAVE_HINT\": 256}\n",
    "\n",
    "    compiled_exp = session.compile(exp, compiler_settings = compiler_settings)\n",
    "    results = session.run(compiled_exp)    \n",
    "    Path(\"Pulse_Sheets\").mkdir(parents=True, exist_ok=True)\n",
    "    show_pulse_sheet(f'''Pulse_Sheets/{exp_params[\"exp_name\"]}''', compiled_exp)\n",
    "    if exp_params[\"plot_simulation\"] == 1:\n",
    "        plot_simulation(compiled_exp, start_time=exp_params[\"plt_start_time\"], length=exp_params[\"plt_length\"])\n",
    "    return results\n",
    "\n",
    "def define_calibration(qudits_params):\n",
    "    # the calibration object will later be applied to the device setup\n",
    "    calibration = Calibration()\n",
    "\n",
    "    for qn in qudits_params[\"qudits\"]:\n",
    "        calibration[lsg(qn, \"acquire_line\")] = SignalCalibration(\n",
    "            local_oscillator = Oscillator(frequency = qudits_params[\"ro_cent_f\"]),\n",
    "            oscillator =       Oscillator(frequency = qudits_params[\"ro_df\"][int(qn[1])],\n",
    "                                    modulation_type = ModulationType.SOFTWARE),\n",
    "            # add an offset between the readout pulse and the start of the data acquisition - to compensate for round-trip time of readout pulse\n",
    "            port_delay = qudits_params[\"ro_pulse_delay\"] + qudits_params[\"ro_int_delay\"],\n",
    "            range = qudits_params[\"ro_pin_range\"],\n",
    "            port_mode = ro_port_mode,\n",
    "        )\n",
    "        # measure line\n",
    "        calibration[lsg(qn, \"measure_line\")] = SignalCalibration(\n",
    "            local_oscillator = Oscillator(frequency = qudits_params[\"ro_cent_f\"]),\n",
    "            oscillator =       Oscillator(frequency = qudits_params[\"ro_df\"][int(qn[1])],\n",
    "                                modulation_type = ModulationType.SOFTWARE),\n",
    "            port_delay = qudits_params[\"ro_pulse_delay\"] ,\n",
    "            range = qudits_params[\"ro_pout_range\"],\n",
    "            port_mode = ro_port_mode\n",
    "        )\n",
    "        calibration[lsg(qn, \"drive_line\")] = SignalCalibration(\n",
    "            # verify which qubits share the same LOs!\n",
    "            local_oscillator = Oscillator(frequency = qudits_params[\"dr_cent_f\"][int(qn[1])]),\n",
    "            # each logical signal can have an oscillator associated with it\n",
    "            oscillator =       Oscillator(frequency = qudits_params[\"dr_df\"][int(qn[1])],\n",
    "                                modulation_type = ModulationType.HARDWARE),\n",
    "            range = qudits_params[\"dr_p_range\"][int(qn[1])],\n",
    "        )\n",
    "        calibration[lsg(qn, \"drive_line_ef\")] = SignalCalibration(\n",
    "        # verify which qubits share the same LOs!\n",
    "        local_oscillator = Oscillator(frequency = qudits_params[\"dr_cent_f\"][int(qn[1])]),\n",
    "        # each logical signal can have an oscillator associated with it\n",
    "        oscillator =       Oscillator(frequency = qudits_params[\"dr_df_ef\"][int(qn[1])],\n",
    "                            modulation_type = ModulationType.HARDWARE),\n",
    "        range = qudits_params[\"dr_p_range\"][int(qn[1])],\n",
    "        )\n",
    "    return calibration\n",
    "\n",
    "def res_spectroscopy(session, exp_params):\n",
    "    # Create resonator spectroscopy experiment - uses only readout drive and signal acquisition\n",
    "    exp = Experiment(\n",
    "        uid=exp_params[\"exp_name\"],\n",
    "        signals=[\n",
    "            ExperimentSignal((\"measure\"), map_to=lsg(\"q0\", \"measure_line\")),\n",
    "            ExperimentSignal((\"acquire\"), map_to=lsg(\"q0\", \"acquire_line\")),\n",
    "        ],\n",
    "    )\n",
    "    ## define experimental sequence\n",
    "    # loop - average multiple measurements for each frequency - measurement in spectroscopy mode\n",
    "    amplitude_sweep = exp_params[\"ro_osc_gain\"]\n",
    "    if \"amp_sweep\" in exp_params.keys():\n",
    "        amplitude_sweep = exp_params[\"amp_sweep\"]\n",
    "\n",
    "    exec_str = \"\"\"\n",
    "with exp.acquire_loop_rt(\n",
    "    uid=exp_params[\"exp_name\"] + \"_shots\",\n",
    "    count=2**exp_params[\"num_averages\"],\n",
    "    acquisition_type=AcquisitionType.SPECTROSCOPY,\n",
    "    averaging_mode= exp_params[\"average_mode\"],\n",
    "):\n",
    "    with exp.sweep(uid=exp_params[\"exp_name\"], parameter=exp_params[\"freq_sweep\"]):\n",
    "        # readout pulse and data acquisition\n",
    "        with exp.section(uid=\"spectroscopy\"):\n",
    "            # resonator signal readout\n",
    "            if \"pulse\" in exp_params[\"exp_name\"]: \n",
    "                exp.play(signal=\"measure\", pulse=exp_params['readout_pulse'])\n",
    "            exp.acquire(\n",
    "                signal=\"acquire\",\n",
    "                handle=exp_params[\"exp_name\"],\n",
    "                length=exp_params[\"integration_time\"],\n",
    "            )\n",
    "        # relax time after readout - for qubit relaxation to groundstate and signal processing\n",
    "        with exp.section(uid=\"relax\", length=exp_params[\"wait_after_int\"]):\n",
    "            exp.reserve(signal=\"measure\")\n",
    "            exp.reserve(signal=\"acquire\")\n",
    "        \"\"\"\n",
    "    if \"2D\" in exp_params[\"exp_name\"]:\n",
    "        with exp.sweep(uid=\"res_amp\", parameter=exp_params[\"amp_sweep\"]):\n",
    "            exec(exec_str)    \n",
    "    else:\n",
    "        with exp.acquire_loop_rt(\n",
    "            uid=exp_params[\"exp_name\"] + \"_shots\",\n",
    "            count=2**exp_params[\"num_averages\"],\n",
    "            acquisition_type=AcquisitionType.SPECTROSCOPY,\n",
    "            averaging_mode= exp_params[\"average_mode\"],\n",
    "        ):\n",
    "            with exp.sweep(uid=exp_params[\"exp_name\"], parameter=exp_params[\"freq_sweep\"]):\n",
    "                # readout pulse and data acquisition\n",
    "                with exp.section(uid=\"spectroscopy\"):\n",
    "                    # resonator signal readout\n",
    "                    if \"pulse\" in exp_params[\"exp_name\"]: \n",
    "                        exp.play(signal=\"measure\", pulse=exp_params['readout_pulse'])\n",
    "                    exp.acquire(\n",
    "                        signal=\"acquire\",\n",
    "                        handle=exp_params[\"exp_name\"],\n",
    "                        length=exp_params[\"integration_time\"],\n",
    "                    )\n",
    "                # relax time after readout - for qubit relaxation to groundstate and signal processing\n",
    "                with exp.section(uid=\"relax\", length=exp_params[\"wait_after_int\"]):\n",
    "                    exp.reserve(signal=\"measure\")\n",
    "                    exp.reserve(signal=\"acquire\")\n",
    "        # exec(exec_str) \n",
    "\n",
    "    cal = Calibration()\n",
    "    # sets the oscillator of the experimental measure signal\n",
    "    cal[\"measure\"] = SignalCalibration(\n",
    "        local_oscillator = Oscillator(frequency = exp_params[\"ro_cent_f\"]),\n",
    "        oscillator=Oscillator(frequency=exp_params[\"freq_sweep\"], modulation_type=ModulationType.HARDWARE),\n",
    "        amplitude=amplitude_sweep,\n",
    "        range = exp_params[\"ro_pout_range\"]\n",
    "    )\n",
    "    cal[\"acquire\"] = SignalCalibration(\n",
    "        local_oscillator = Oscillator(\"ro_cent_f_acquire\", frequency = exp_params[\"ro_cent_f\"]),\n",
    "        range = exp_params[\"ro_pin_range\"]\n",
    "    )\n",
    "    exp.set_calibration(cal)\n",
    "\n",
    "    results = compile_run(session, exp_params, exp)\n",
    "\n",
    "    return results\n",
    "\n",
    "def propagation_delay(session, exp_params, qudits_params):\n",
    "    # Create resonator spectroscopy experiment - uses only readout drive and signal acquisition\n",
    "    exp = Experiment(\n",
    "        uid=exp_params[\"exp_name\"],\n",
    "        signals=[\n",
    "            ExperimentSignal((\"measure\"), map_to=lsg(\"q0\", \"measure_line\")),\n",
    "            ExperimentSignal((\"acquire\"), map_to=lsg(\"q0\", \"acquire_line\")),\n",
    "        ],\n",
    "    )\n",
    "\n",
    "    ## define experimental sequence\n",
    "    # outer loop - vary drive frequency\n",
    "    with exp.sweep(uid=exp_params[\"exp_name\"], parameter=exp_params[\"delay_sweep\"]):\n",
    "        with exp.acquire_loop_rt(\n",
    "            uid=exp_params[\"exp_name\"] + \"_shots\",\n",
    "            count=2**exp_params[\"delay_num_averages\"],\n",
    "            acquisition_type=AcquisitionType.INTEGRATION,\n",
    "        ):\n",
    "            # readout pulse and data acquisition\n",
    "            with exp.section(uid=\"readout\"):\n",
    "                # play resonator excitation pulse\n",
    "                exp.play(signal=\"measure\", pulse=qudits_params[\"ro_pulse_data\"][\"q0\"])\n",
    "                # resonator signal readout\n",
    "                exp.acquire(\n",
    "                    signal=\"acquire\", handle=exp_params[\"exp_name\"], kernel= qudits_params[\"ro_pulse_data\"][\"q0\"]\n",
    "                )\n",
    "            with exp.section(uid=\"relax\"):\n",
    "                exp.delay(signal=\"measure\", time=qudits_params[\"wait_after_int\"])\n",
    "                \n",
    "    cal = Calibration()\n",
    "    cal[\"acquire\"] = SignalCalibration(port_delay=exp_params[\"delay_sweep\"])\n",
    "    exp.set_calibration(cal)\n",
    "\n",
    "    results = compile_run(session, exp_params, exp)\n",
    "    return results\n",
    "\n",
    "def qubit_spec(session, exp_params, qudits_params):\n",
    "    exp = exp_signal(exp_params)\n",
    "    with exp.acquire_loop_rt(\n",
    "        uid=exp_params[\"exp_name\"] + \"_freq_shots\",\n",
    "        count=2**exp_params[\"num_averages\"],\n",
    "        acquisition_type=AcquisitionType.INTEGRATION,\n",
    "        averaging_mode= exp_params[\"average_mode\"]\n",
    "    ):\n",
    "        with exp.sweep(uid=exp_params[\"exp_name\"], parameter=exp_params[\"freq_sweep\"]):\n",
    "            for qubit in exp_params[\"qubits\"]:\n",
    "                ef_str = ''\n",
    "                ge_pulse = qudits_params[\"dr_pi_pulse\"] if \"ef\" in exp_params[\"exp_name\"] else exp_params[\"dr_pulse_data\"]                   \n",
    "\n",
    "                with exp.section(uid=\"qubit_excitation_\" + qubit):\n",
    "                     exp.play(signal=\"drive_\" + qubit, pulse = ge_pulse[qubit])\n",
    "                \n",
    "                if \"ef\" in exp_params[\"exp_name\"]:\n",
    "                    ef_str = \"ef_\"\n",
    "                    with exp.section(\n",
    "                        uid=\"qubit_excitation_ef_\" + qubit,\n",
    "                        play_after=\"qubit_excitation_\" + qubit,\n",
    "                        on_system_grid=True,\n",
    "                        alignment=SectionAlignment.RIGHT,\n",
    "                    ):\n",
    "                        exp.play(signal=\"drive_ef_\" + qubit, pulse=exp_params[\"dr_ef_pulse\"][qubit])  \n",
    "\n",
    "                with exp.section(uid=\"readout_qubit_\" + qubit, play_after=\"qubit_excitation_\" + ef_str + qubit):\n",
    "                    # play readout pulse on measure line\n",
    "                    exp.measure(measure_signal=\"measure_\"+qubit, \n",
    "                                measure_pulse=qudits_params[\"ro_pulse_data\"][qubit],\n",
    "                                handle=exp_params[\"exp_name\"] + f\"_{qubit}\", \n",
    "                                acquire_signal=f\"acquire_{qubit}\",\n",
    "                                integration_kernel=qudits_params[\"ro_int_weights\"][qubit],\n",
    "                                reset_delay = exp_params[\"wait_after_int\"]\n",
    "                                      )\n",
    "\n",
    "    cal = Calibration()\n",
    "    for qubit in exp_params[\"qubits\"]:\n",
    "        if \"ef\" in exp_params[\"exp_name\"]:\n",
    "            cal[\"drive_ef_\"+ qubit] = SignalCalibration(\n",
    "                oscillator=Oscillator(frequency=exp_params[\"freq_sweep\"][int(qubit[1])],modulation_type=ModulationType.HARDWARE),     \n",
    "            )  \n",
    "        else:          \n",
    "            cal[\"drive_\"+ qubit] = SignalCalibration(\n",
    "                local_oscillator=Oscillator(frequency=exp_params[\"dr_cent_f\"][int(qubit[1])]),\n",
    "                oscillator=Oscillator(frequency=exp_params[\"freq_sweep\"][int(qubit[1])],modulation_type=ModulationType.HARDWARE),\n",
    "                range=exp_params[\"dr_p_range\"][int(qubit[1])],        \n",
    "            )\n",
    "    exp.set_calibration(cal)\n",
    "    results = compile_run(session, exp_params, exp)\n",
    "    return results\n",
    "\n",
    "def rabi(session, exp_params,qudits_params):\n",
    "    exp = exp_signal(exp_params)\n",
    "    with exp.acquire_loop_rt(\n",
    "        uid=exp_params[\"exp_name\"]+\"_rabi_shots\",\n",
    "        count=2**exp_params[\"num_averages\"],\n",
    "        acquisition_type=AcquisitionType.INTEGRATION,\n",
    "        averaging_mode= exp_params[\"average_mode\"]\n",
    "    ):\n",
    "        with exp.sweep(uid=exp_params[\"exp_name\"], parameter=exp_params[\"amp_sweep\"]):\n",
    "            for qubit in exp_params[\"qubits\"]:\n",
    "                ef_str = \"\"\n",
    "                amplitude = 1 if \"ef\" in exp_params[\"exp_name\"] else exp_params[\"amp_sweep\"][int(qubit[1])]\n",
    "                ge_pulse = qudits_params[\"dr_pi_pulse\"] if \"ef\" in exp_params[\"exp_name\"] else exp_params[\"dr_pulse_data\"] \n",
    "\n",
    "                with exp.section(uid=\"qubit_excitation_\" + qubit):\n",
    "                    exp.play(signal=\"drive_\" + qubit, pulse = ge_pulse[qubit], amplitude = amplitude)\n",
    "                if \"ef\" in exp_params[\"exp_name\"]:\n",
    "                    ef_str = \"ef_\"\n",
    "                    with exp.section(\n",
    "                        uid=\"qubit_excitation_ef_\" + qubit,\n",
    "                        play_after=\"qubit_excitation_\" + qubit,\n",
    "                        on_system_grid=True,\n",
    "                        alignment=SectionAlignment.RIGHT,\n",
    "                    ):\n",
    "                        exp.play(signal=\"drive_ef_\" + qubit, pulse=exp_params[\"dr_ef_pulse\"][qubit], amplitude = exp_params[\"amp_sweep\"][int(qubit[1])])\n",
    "                with exp.section(uid=\"readout_qubit_\" + qubit, play_after=\"qubit_excitation_\" + ef_str + qubit):\n",
    "                    # play readout pulse on measure line\n",
    "                    exp.measure(measure_signal=\"measure_\"+qubit, \n",
    "                                measure_pulse=qudits_params[\"ro_pulse_data\"][qubit],\n",
    "                                handle=exp_params[\"exp_name\"] + f\"_{qubit}\", \n",
    "                                acquire_signal=f\"acquire_{qubit}\",\n",
    "                                integration_kernel=qudits_params[\"ro_int_weights\"][qubit],\n",
    "                                reset_delay = exp_params[\"wait_after_int\"]\n",
    "                                      )\n",
    "\n",
    "    cal = Calibration()\n",
    "    for qubit in exp_params[\"qubits\"]:\n",
    "        dr_p_range = qudits_params[\"dr_p_range\"][int(qubit[1])] if \"ef\" in exp_params[\"exp_name\"] else exp_params[\"dr_p_range\"][int(qubit[1])]\n",
    "        cal[\"drive_\"+ef_str + qubit] = SignalCalibration(range=dr_p_range)\n",
    "    exp.set_calibration(cal)\n",
    "    results = compile_run(session, exp_params, exp)\n",
    "    return results\n",
    "\n",
    "def t1(session, exp_params,qudits_params):\n",
    "    exp = exp_signal(exp_params)\n",
    "\n",
    "    with exp.acquire_loop_rt(\n",
    "        uid=exp_params[\"exp_name\"]+\"_shot\",\n",
    "        count=2**exp_params[\"num_averages\"],\n",
    "        acquisition_type=AcquisitionType.INTEGRATION,\n",
    "        averaging_mode= exp_params[\"average_mode\"],\n",
    "        repetition_mode=RepetitionMode.AUTO,\n",
    "    ):\n",
    "        with exp.sweep(uid=exp_params[\"exp_name\"], parameter=exp_params[\"tau_sweep\"], alignment=SectionAlignment.RIGHT):\n",
    "            for qubit in exp_params[\"qubits\"]:\n",
    "                ef_str = ''\n",
    "                with exp.section(uid=\"qubit_excitation_\" + qubit, alignment=SectionAlignment.RIGHT):\n",
    "                    exp.play(signal=\"drive_\" + qubit, pulse = qudits_params[\"dr_pi_pulse\"][qubit])\n",
    "                    print(\"ef meas\") if 'ef' in exp_params[\"exp_name\"] else exp.delay(signal = \"drive_\" + qubit, time = exp_params[\"tau_sweep\"][int(qubit[1])]) \n",
    "                if \"ef\" in exp_params[\"exp_name\"]:\n",
    "                    ef_str = 'ef_'\n",
    "                    with exp.section(\n",
    "                        uid=\"qubit_excitation_ef_\" + qubit,\n",
    "                        play_after=\"qubit_excitation_\" + qubit,\n",
    "                        on_system_grid=True,\n",
    "                        alignment=SectionAlignment.RIGHT,\n",
    "                    ):\n",
    "                        exp.play(signal=\"drive_ef_\" + qubit, pulse=qudits_params[\"dr_pi_pulse_ef\"][qubit])\n",
    "                        exp.delay(signal = \"drive_ef_\" + qubit, time = exp_params[\"tau_sweep\"][int(qubit[1])])\n",
    "\n",
    "                    \n",
    "                with exp.section(uid=\"readout_qubit_\" + qubit, play_after=\"qubit_excitation_\" + ef_str + qubit):\n",
    "                    # play readout pulse on measure line\n",
    "                    exp.measure(measure_signal=\"measure_\"+qubit, \n",
    "                                measure_pulse=qudits_params[\"ro_pulse_data\"][qubit],\n",
    "                                handle=exp_params[\"exp_name\"] + f\"_{qubit}\", \n",
    "                                acquire_signal=f\"acquire_{qubit}\",\n",
    "                                integration_kernel=qudits_params[\"ro_int_weights\"][qubit],\n",
    "                                reset_delay = exp_params[\"wait_after_int\"]\n",
    "                                      )\n",
    "    results = compile_run(session, exp_params, exp)\n",
    "    return results\n",
    "\n",
    "def ramsey(session, exp_params,qudits_params):\n",
    "    exp = exp_signal(exp_params)\n",
    "\n",
    "    with exp.acquire_loop_rt(\n",
    "        uid=exp_params[\"exp_name\"]+\"_shot\",\n",
    "        count=2**exp_params[\"num_averages\"],\n",
    "        acquisition_type=AcquisitionType.INTEGRATION,\n",
    "        averaging_mode= exp_params[\"average_mode\"],\n",
    "        repetition_mode=RepetitionMode.AUTO,\n",
    "    ):\n",
    "        with exp.sweep(uid=exp_params[\"exp_name\"], parameter=exp_params[\"tau_sweep\"], alignment=SectionAlignment.RIGHT):\n",
    "            for qubit in exp_params[\"qubits\"]:\n",
    "                ef_str = ''\n",
    "            # qubit drive\n",
    "                if \"ef\" in exp_params[\"exp_name\"]:\n",
    "                    ef_str = 'ef_'\n",
    "                    with exp.section(uid=\"qubit_excitation_\" + qubit, alignment=SectionAlignment.RIGHT):\n",
    "                        exp.play(signal=\"drive_\" + qubit, pulse = qudits_params[\"dr_pi_pulse\"][qubit])\n",
    "                    with exp.section(uid=\"qubit_excitation_ef_\" + qubit, play_after=\"qubit_excitation_\" + qubit, on_system_grid=True, alignment=SectionAlignment.RIGHT):\n",
    "                        exp.play(signal=\"drive_ef_\" + qubit, pulse=qudits_params[\"dr_pi/2_pulse_ef\"][qubit])\n",
    "                        exp.delay(signal = \"drive_ef_\" + qubit, time = exp_params[\"tau_sweep\"][int(qubit[1])])\n",
    "                        exp.play(signal=\"drive_ef_\" + qubit, pulse = qudits_params[\"dr_pi/2_pulse_ef\"][qubit])\n",
    "                else: \n",
    "                    with exp.section(uid=\"qubit_excitation_\" + qubit, alignment=SectionAlignment.RIGHT):\n",
    "                        exp.play(signal=\"drive_\" + qubit, pulse = qudits_params[\"dr_pi/2_pulse\"][qubit])\n",
    "                        exp.delay(signal = \"drive_\" + qubit, time = exp_params[\"tau_sweep\"][int(qubit[1])]) \n",
    "                        exp.play(signal=\"drive_\" + qubit, pulse = qudits_params[\"dr_pi/2_pulse\"][qubit])\n",
    "     \n",
    "\n",
    "                with exp.section(uid=\"readout_qubit_\" + qubit, play_after=\"qubit_excitation_\" + ef_str + qubit):\n",
    "                    # play readout pulse on measure line\n",
    "                    exp.measure(measure_signal=\"measure_\"+qubit, \n",
    "                                measure_pulse=qudits_params[\"ro_pulse_data\"][qubit],\n",
    "                                handle=exp_params[\"exp_name\"] + f\"_{qubit}\", \n",
    "                                acquire_signal=f\"acquire_{qubit}\",\n",
    "                                integration_kernel=qudits_params[\"ro_int_weights\"][qubit],\n",
    "                                reset_delay = exp_params[\"wait_after_int\"],\n",
    "                                      )\n",
    "    results = compile_run(session, exp_params, exp)\n",
    "    return results\n",
    "\n",
    "def hahn_echo(session, exp_params,qudits_params):\n",
    "    exp_name = exp_params[\"exp_name\"] \n",
    "    exp = exp_signal(exp_params)\n",
    "\n",
    "    with exp.acquire_loop_rt(\n",
    "        uid=f\"{exp_name}_shots\",\n",
    "        count=2**exp_params[\"num_averages\"],\n",
    "        acquisition_type=AcquisitionType.INTEGRATION,\n",
    "        averaging_mode= exp_params[\"average_mode\"],\n",
    "        repetition_mode=RepetitionMode.AUTO,\n",
    "    ):\n",
    "        with exp.sweep(uid=exp_name, parameter=exp_params[\"tau_sweep\"], alignment=SectionAlignment.RIGHT):\n",
    "            for qubit in exp_params[\"qubits\"]:\n",
    "                ef_str = ''\n",
    "                if \"ef\" in exp_params[\"exp_name\"]:\n",
    "                    ef_str = 'ef_'\n",
    "                    with exp.section(uid=\"qubit_excitation_\" + qubit, alignment=SectionAlignment.RIGHT):\n",
    "                        exp.play(signal=\"drive_\" + qubit, pulse = qudits_params[\"dr_pi_pulse\"][qubit])\n",
    "                    with exp.section(uid=\"qubit_excitation_ef_\" + qubit, play_after=\"qubit_excitation_\" + qubit, on_system_grid=True, alignment=SectionAlignment.RIGHT):\n",
    "                        exp.play(signal=\"drive_ef_\" + qubit, pulse=qudits_params[\"dr_pi/2_pulse_ef\"][qubit])\n",
    "                        exp.delay(signal = \"drive_ef_\" + qubit, time = exp_params[\"tau_sweep\"][int(qubit[1])])\n",
    "                        exp.play(signal=\"drive_ef_\" + qubit, pulse = qudits_params[\"dr_pi_pulse_ef\"][qubit])\n",
    "                        exp.delay(signal = \"drive_ef_\" + qubit, time = exp_params[\"tau_sweep\"][int(qubit[1])])\n",
    "                        exp.play(signal=\"drive_ef_\" + qubit, pulse = qudits_params[\"dr_pi/2_pulse_ef\"][qubit])\n",
    "                   \n",
    "                else:\n",
    "                    with exp.section(uid=\"qubit_excitation_\" + qubit, alignment=SectionAlignment.RIGHT):\n",
    "                        exp.play(signal=\"drive_\" + qubit, pulse = qudits_params[\"dr_pi/2_pulse\"][qubit])\n",
    "                        exp.delay(signal = \"drive_\" + qubit, time = exp_params[\"tau_sweep\"][int(qubit[1])])\n",
    "                        exp.play(signal=\"drive_\" + qubit, pulse = qudits_params[\"dr_pi_pulse\"][qubit])\n",
    "                        exp.delay(signal = \"drive_\" + qubit, time = exp_params[\"tau_sweep\"][int(qubit[1])])                    \n",
    "                        exp.play(signal=\"drive_\" + qubit, pulse = qudits_params[\"dr_pi/2_pulse\"][qubit])\n",
    "\n",
    "                with exp.section(uid=\"readout_qubit_\" + qubit, play_after=\"qubit_excitation_\" + ef_str+ qubit):\n",
    "                    # play readout pulse on measure line\n",
    "                    exp.measure(measure_signal=\"measure_\"+qubit, \n",
    "                                measure_pulse=qudits_params[\"ro_pulse_data\"][qubit],\n",
    "                                handle=exp_name + f\"_{qubit}\", \n",
    "                                acquire_signal=f\"acquire_{qubit}\",\n",
    "                                integration_kernel=qudits_params[\"ro_int_weights\"][qubit],\n",
    "                                reset_delay = exp_params[\"wait_after_int\"]\n",
    "                                )\n",
    "    results = compile_run(session, exp_params, exp)\n",
    "    return results\n",
    "\n",
    "def cpmg(session, exp_params,qudits_params):\n",
    "    exp_name = exp_params[\"exp_name\"] \n",
    "    exp = exp_signal(exp_params)\n",
    "\n",
    "    with exp.acquire_loop_rt(\n",
    "        uid=f\"{exp_name}_shots\",\n",
    "        count=2**exp_params[\"num_averages\"],\n",
    "        acquisition_type=AcquisitionType.INTEGRATION,\n",
    "        averaging_mode= exp_params[\"average_mode\"],\n",
    "        repetition_mode=RepetitionMode.AUTO,\n",
    "    ):\n",
    "        with exp.sweep(uid=exp_name, parameter=exp_params[\"tau_sweep\"], alignment=SectionAlignment.RIGHT):\n",
    "            for qubit in exp_params[\"qubits\"]:\n",
    "                ef_str = ''\n",
    "                if \"ef\" in exp_params[\"exp_name\"]:\n",
    "                    ef_str = 'ef_'\n",
    "                    with exp.section(uid=\"qubit_excitation_\" + qubit, alignment=SectionAlignment.RIGHT):\n",
    "                        exp.play(signal=\"drive_\" + qubit, pulse = qudits_params[\"dr_pi_pulse\"][qubit])\n",
    "                    with exp.section(uid=\"qubit_excitation_ef_\" + qubit, play_after=\"qubit_excitation_\" + qubit, on_system_grid=True, alignment=SectionAlignment.RIGHT):\n",
    "                        exp.play(signal=\"drive_ef_\" + qubit, pulse=qudits_params[\"dr_pi/2_pulse_ef\"][qubit]) \n",
    "                        for i in range(exp_params[\"num_cpmg\"]):\n",
    "                            exp.delay(signal = \"drive_ef_\" + qubit, time = exp_params[\"tau_sweep\"][int(qubit[1])])\n",
    "                            exp.play(signal=\"drive_ef_\" + qubit, pulse = qudits_params[\"dr_pi_pulse_ef\"][qubit])\n",
    "                            exp.delay(signal = \"drive_ef_\" + qubit, time = exp_params[\"tau_sweep\"][int(qubit[1])])\n",
    "                        exp.play(signal=\"drive_ef_\" + qubit, pulse = qudits_params[\"dr_pi/2_pulse_ef\"][qubit])\n",
    "                else:\n",
    "                    with exp.section(uid=\"qubit_excitation_\" + qubit, alignment=SectionAlignment.RIGHT):\n",
    "                        exp.play(signal=\"drive_\" + qubit, pulse = qudits_params[\"dr_pi/2_pulse\"][qubit])\n",
    "                        for i in range(exp_params[\"num_cpmg\"]):\n",
    "                            exp.delay(signal = \"drive_\" + qubit, time = exp_params[\"tau_sweep\"][int(qubit[1])])\n",
    "                            exp.play(signal=\"drive_\" + qubit, pulse = qudits_params[\"dr_pi_pulse\"][qubit])\n",
    "                            exp.delay(signal = \"drive_\" + qubit, time = exp_params[\"tau_sweep\"][int(qubit[1])])                    \n",
    "                        exp.play(signal=\"drive_\" + qubit, pulse = qudits_params[\"dr_pi/2_pulse\"][qubit])\n",
    "\n",
    "                with exp.section(uid=\"readout_qubit_\" + qubit, play_after=\"qubit_excitation_\" + ef_str + qubit):\n",
    "                    # play readout pulse on measure line\n",
    "                    exp.measure(measure_signal=\"measure_\"+qubit, \n",
    "                                measure_pulse=qudits_params[\"ro_pulse_data\"][qubit],\n",
    "                                handle=exp_name + f\"_{qubit}\", \n",
    "                                acquire_signal=f\"acquire_{qubit}\",\n",
    "                                integration_kernel=qudits_params[\"ro_int_weights\"][qubit],\n",
    "                                reset_delay = exp_params[\"wait_after_int\"]\n",
    "                                )\n",
    "    results = compile_run(session, exp_params, exp)\n",
    "                    \n",
    "    return results\n",
    "\n",
    "def rb_1q(session, exp_params, qudits_params):\n",
    "    exp = exp_signal(exp_params)\n",
    "    # outer loop - real-time, cyclic averaging in standard integration mode\n",
    "    with exp.acquire_loop_rt(\n",
    "        uid=exp_params[\"exp_name\"]+\"_shots\",\n",
    "        count=2**exp_params[\"num_averages\"],\n",
    "        averaging_mode=exp_params[\"average_mode\"],\n",
    "        acquisition_type=AcquisitionType.DISCRIMINATION,\n",
    "        # repetition_mode=RepetitionMode.AUTO,\n",
    "    ):\n",
    "        for qubit in exp_params[\"qubits\"]:\n",
    "            # inner loop - sweep over sequence lengths\n",
    "            for seq_length in exp_params[\"seq_lengths\"]:\n",
    "                # innermost loop - different random sequences for each length\n",
    "                for _ in range(exp_params[\"n_seq_per_length\"]):\n",
    "                    with exp.section(\n",
    "                        length=exp_params[\"max_seq_duration\"], alignment=SectionAlignment.RIGHT\n",
    "                    ):\n",
    "                        generate_play_rb_pulses(\n",
    "                            exp, \"drive_\" + qubit, seq_length, clifford_parametrized, exp_params[\"gate_map\"][qubit]\n",
    "                        )\n",
    "                    # readout and data acquisition\n",
    "                    with exp.section():\n",
    "                        exp.reserve(\"drive_\" + qubit)\n",
    "                        exp.play(signal=\"measure_\" + qubit, pulse=qudits_params[\"ro_pulse_data\"][qubit])\n",
    "                        # trigger signal data acquisition\n",
    "                        exp.acquire(\n",
    "                            signal=\"acquire_\" + qubit,\n",
    "                            handle=f\"acq_{seq_length}_\"+qubit,  # use an individual handle for every sequence length\n",
    "                            kernel=qudits_params[\"ro_int_weights\"][qubit],\n",
    "                        )\n",
    "                    # relax time after readout - for qubit relaxation to groundstate and signal processing\n",
    "                    with exp.section(length=exp_params[\"wait_after_int\"]):\n",
    "                        exp.reserve(signal=\"measure_\"+qubit)\n",
    "\n",
    "    results = compile_run(session, exp_params, exp)\n",
    "    return results\n",
    "\n",
    "def ro_f_1q(session, exp_params, qudits_params):\n",
    "    qubit = exp_params[\"qubits\"][0]\n",
    "    num_states = exp_params[\"num_states\"][0]\n",
    "    exp = exp_signal(exp_params, num_states)\n",
    "    \n",
    "    with exp.acquire_loop_rt(\n",
    "        uid=exp_params[\"exp_name\"]+\"_shots\",\n",
    "        count=2**exp_params[\"num_averages\"],\n",
    "        averaging_mode=exp_params[\"average_mode\"],\n",
    "        acquisition_type=AcquisitionType.SPECTROSCOPY,\n",
    "        # repetition_mode=RepetitionMode.AUTO,\n",
    "    ):\n",
    "        with exp.sweep(uid=exp_params[\"exp_name\"], parameter=exp_params[\"freq_sweep\"]):\n",
    "        # readout pulse and data acquisition         \n",
    "            with exp.section(uid=\"readout_qubit_g_\" + qubit):\n",
    "                # play readout pulse on measure line\n",
    "                exp.measure(measure_signal=\"measure_\"+qubit, \n",
    "                            measure_pulse=qudits_params[\"ro_pulse_data\"][qubit],\n",
    "                            handle=exp_params[\"exp_name\"] + f\"_{qubit}\" +\"_g\", \n",
    "                            acquire_signal=f\"acquire_{qubit}\",\n",
    "                            integration_length=qudits_params[\"ro_int_t\"],\n",
    "                            reset_delay = exp_params[\"wait_after_int\"]\n",
    "                                    )\n",
    "                \n",
    "            with exp.section(uid = \"qubit_excitation_e_\" + qubit, play_after= \"readout_qubit_g_\" + qubit):\n",
    "                exp.play(signal=\"drive_\"+ qubit, pulse = qudits_params[\"dr_pi_pulse\"][qubit])\n",
    "            with exp.section(uid=\"readout_qubit_e_\" + qubit, play_after=\"qubit_excitation_e_\" + qubit):\n",
    "                # play readout pulse on measure line\n",
    "                exp.measure(measure_signal=\"measure_\"+qubit, \n",
    "                            measure_pulse=qudits_params[\"ro_pulse_data\"][qubit],\n",
    "                            handle=exp_params[\"exp_name\"] + f\"_{qubit}\"+\"_e\", \n",
    "                            acquire_signal=f\"acquire_{qubit}\",\n",
    "                            integration_length=qudits_params[\"ro_int_t\"],\n",
    "                            reset_delay = exp_params[\"wait_after_int\"],\n",
    "                                    )\n",
    "            if num_states > 2:\n",
    "                with exp.section(uid = \"qubit_excitation_e0_\" + qubit, play_after= \"readout_qubit_e_\" + qubit):\n",
    "                    exp.play(signal=\"drive_\"+ qubit, pulse = qudits_params[\"dr_pi_pulse\"][qubit])\n",
    "                with exp.section(uid = \"qubit_excitation_f0_\" + qubit, play_after=\"qubit_excitation_e0_\" + qubit):\n",
    "                    exp.play(signal=\"drive_ef_\"+ qubit, pulse = qudits_params[\"dr_pi_pulse_ef\"][qubit])\n",
    "                with exp.section(uid=\"readout_qubit_f_\" + qubit, play_after=\"qubit_excitation_f0_\" + qubit):\n",
    "                    exp.measure(measure_signal=\"measure_\"+qubit, \n",
    "                                measure_pulse=qudits_params[\"ro_pulse_data\"][qubit],\n",
    "                                handle=exp_params[\"exp_name\"] + f\"_{qubit}\"+\"_f\", \n",
    "                                acquire_signal=f\"acquire_{qubit}\",\n",
    "                                integration_length=qudits_params[\"ro_int_t\"],\n",
    "                                reset_delay = exp_params[\"wait_after_int\"]\n",
    "                                        )\n",
    "            # elif num_states > 3:\n",
    "            #     with exp.section(uid = \"qubit_excitation_e1_\" + qubit, play_after= \"readout_qubit_f_\" + qubit):\n",
    "            #         exp.play(signal=\"drive_\"+ qubit, pulse = qudits_params[\"dr_pi_pulse\"][qubit])\n",
    "            #     with exp.section(uid = \"qubit_excitation_f1_\" + qubit, play_after=\"qubit_excitation_e0_\" + qubit):\n",
    "            #         exp.play(signal=\"drive_ef_\"+ qubit, pulse = qudits_params[\"dr_pi_pulse_ef\"][qubit])\n",
    "            #     with exp.section(uid = \"qubit_excitation_h0_\" + qubit, play_after=\"qubit_excitation_f0_\" + qubit):\n",
    "            #         exp.play(signal=\"drive_fh_\"+ qubit, pulse = qudits_params[\"dr_pi_pulse_fh\"][qubit])                                      \n",
    "        \n",
    "            #     with exp.section(uid=\"readout_qubit_h_\" + qubit, play_after=\"qubit_excitation_h0_\" + qubit):\n",
    "            #         exp.measure(measure_signal=\"measure_\"+qubit, \n",
    "            #                     measure_pulse=qudits_params[\"ro_pulse_data\"][qubit],\n",
    "            #                     handle=exp_params[\"exp_name\"] + f\"_{qubit}\"+\"_h\", \n",
    "            #                     acquire_signal=f\"acquire_{qubit}\",\n",
    "            #                     integration_length=qudits_params[\"ro_int_t\"],\n",
    "            #                     reset_delay = exp_params[\"wait_after_int\"]\n",
    "            #                             )\n",
    "    \n",
    "    cal = Calibration()\n",
    "    # sets the oscillator of the experimental measure signal\n",
    "    cal[\"measure_\" + qubit] = SignalCalibration(\n",
    "        oscillator=Oscillator(frequency=exp_params[\"freq_sweep\"], modulation_type=ModulationType.HARDWARE))\n",
    "    exp.set_calibration(cal)\n",
    "    \n",
    "    results = compile_run(session, exp_params, exp)\n",
    "\n",
    "    return results\n",
    "\n",
    "def ro_trace_1q(session, exp_params, qudits_params):\n",
    "    qubit = exp_params[\"qubits\"][0]\n",
    "    num_states = exp_params[\"num_states\"][0]\n",
    "    traces = []\n",
    "    if exp_params[\"simulation\"] == 1:\n",
    "        ro_0 = exp_params[\"ro_pulse_g\"]\n",
    "        ro_1 = exp_params[\"ro_pulse_e\"]\n",
    "        ro_2 = exp_params[\"ro_pulse_f\"]\n",
    "    else:\n",
    "        ro_0 = qudits_params[\"ro_pulse_data\"][qubit]\n",
    "        ro_1 = ro_0\n",
    "        ro_2 = ro_1\n",
    "    for state in range(num_states):\n",
    "        exp = exp_signal(exp_params, num_states)\n",
    "        \n",
    "        exec_str = f''' \n",
    "with exp.section(uid=f\"readout_{qubit}_{state}\", play_after=play_after):\n",
    "    exp.measure(measure_signal=\"measure_\"+qubit, \n",
    "                measure_pulse=ro_{state},\n",
    "                handle=exp_params[\"exp_name\"] + f\"_{qubit}\" +f\"_{state}\", \n",
    "                acquire_signal=f\"acquire_{qubit}\",\n",
    "                integration_kernel=qudits_params[\"ro_int_weights\"][qubit],\n",
    "                reset_delay = exp_params[\"wait_after_int\"]\n",
    "                        )\n",
    "    '''\n",
    "        with exp.acquire_loop_rt(\n",
    "            uid=exp_params[\"exp_name\"]+\"_shots\",\n",
    "            count=2**exp_params[\"num_averages\"],\n",
    "            acquisition_type=AcquisitionType.RAW,\n",
    "            # repetition_mode=RepetitionMode.AUTO,\n",
    "        ):\n",
    "\n",
    "            if state == 0:\n",
    "                play_after = None\n",
    "            else:\n",
    "                with exp.section(uid = \"qubit_excitation_g_\" + qubit):\n",
    "                    exp.play(signal=\"drive_\"+ qubit, pulse = qudits_params[\"dr_pi_pulse\"][qubit])\n",
    "                if state == 1:\n",
    "                    play_after = \"qubit_excitation_g_\" + qubit\n",
    "                elif state == 2:\n",
    "                    with exp.section(uid = \"qubit_excitation_e_\" + qubit, play_after=\"qubit_excitation_g_\" + qubit):\n",
    "                        exp.play(signal=\"drive_ef_\"+ qubit, pulse = qudits_params[\"dr_pi_pulse_ef\"][qubit])\n",
    "                    play_after = \"qubit_excitation_e_\" + qubit\n",
    "                    \n",
    "            exec(exec_str)\n",
    "        trace = compile_run(session, exp_params, exp)\n",
    "        traces.append(trace.acquired_results[exp_params[\"exp_name\"] + f\"_{qubit}\" +f\"_{state}\"].data)\n",
    "\n",
    "    kernels = calculate_integration_kernels(traces)\n",
    "    return kernels, traces\n",
    "def ro_fidelity_1q(exp_params, qudits_params):\n",
    "    if exp_params[\"simulation\"] == 1:\n",
    "        ro_0 = exp_params[\"ro_pulse_g\"]\n",
    "        ro_1 = exp_params[\"ro_pulse_e\"]\n",
    "        ro_2 = exp_params[\"ro_pulse_f\"]\n",
    "        print(f\"simulation is true\")\n",
    "    else:\n",
    "        ro_0 = qudits_params[\"ro_pulse_data\"][qubit]\n",
    "        ro_1 = ro_0\n",
    "        ro_2 = ro_1\n",
    "    qubit = exp_params[\"qubits\"][0]\n",
    "    num_states = exp_params[\"num_states\"][0]\n",
    "    exp = exp_signal(exp_params, num_states)\n",
    "    if \"thresholds\" in exp_params[\"exp_name\"]:\n",
    "        acq_type = AcquisitionType.INTEGRATION\n",
    "    elif \"assignment\" in exp_params[\"exp_name\"]:\n",
    "        acq_type = AcquisitionType.DISCRIMINATION\n",
    "\n",
    "    with exp.acquire_loop_rt(\n",
    "        uid=exp_params[\"exp_name\"]+\"_shots\",\n",
    "        count=1,\n",
    "        acquisition_type=acq_type,\n",
    "        # repetition_mode=RepetitionMode.AUTO,\n",
    "    ):\n",
    "        with exp.sweep(uid= \"repeat the measurement\", parameter=LinearSweepParameter(uid = \"dummy sweep\", start = 1, stop=exp_params[\"num_points\"], count=exp_params[\"num_points\"])):\n",
    "            with exp.section(uid=\"readout_qubit_g_\" + qubit):\n",
    "                # play readout pulse on measure line\n",
    "                exp.measure(measure_signal=\"measure_\"+qubit, \n",
    "                            measure_pulse=ro_0,\n",
    "                            handle=exp_params[\"exp_name\"] + f\"_{qubit}\" +\"_g\", \n",
    "                            acquire_signal=f\"acquire_{qubit}\",\n",
    "                            integration_kernel=qudits_params[\"ro_int_weights\"][qubit],\n",
    "                            reset_delay = exp_params[\"wait_after_int\"]\n",
    "                                    )       \n",
    "            with exp.section(uid = \"qubit_excitation_e_\" + qubit, play_after=\"readout_qubit_g_\" + qubit):\n",
    "                exp.play(signal=\"drive_\"+ qubit, pulse = qudits_params[\"dr_pi_pulse\"][qubit])\n",
    "            with exp.section(uid=\"readout_qubit_e_\" + qubit, play_after=\"qubit_excitation_e_\" + qubit):\n",
    "                exp.measure(measure_signal=\"measure_\"+qubit, \n",
    "                            measure_pulse=ro_1,\n",
    "                            handle=exp_params[\"exp_name\"] + f\"_{qubit}\"+\"_e\", \n",
    "                            acquire_signal=f\"acquire_{qubit}\",\n",
    "                            integration_kernel=qudits_params[\"ro_int_weights\"][qubit],\n",
    "                            reset_delay = exp_params[\"wait_after_int\"]\n",
    "                                        )\n",
    "            if num_states == 3 or \"ef\" in exp_params[\"exp_name\"]:\n",
    "                with exp.section(uid = \"qubit_excitation_e1_\" + qubit, play_after=\"readout_qubit_e_\" + qubit):\n",
    "                    exp.play(signal=\"drive_\"+ qubit, pulse = qudits_params[\"dr_pi_pulse\"][qubit])\n",
    "                with exp.section(uid = \"qubit_excitation_f1_\" + qubit, play_after=\"qubit_excitation_e1_\" + qubit, on_system_grid=True, alignment=SectionAlignment.RIGHT):\n",
    "                    exp.play(signal=\"drive_ef_\"+ qubit, pulse = qudits_params[\"dr_pi_pulse_ef\"][qubit])\n",
    "                with exp.section(uid=\"readout_qubit_f_\" + qubit, play_after=\"qubit_excitation_f1_\" + qubit):\n",
    "                    exp.measure(measure_signal=\"measure_\" + qubit, \n",
    "                                measure_pulse=ro_2,\n",
    "                                handle=exp_params[\"exp_name\"] + f\"_{qubit}\"+\"_f\", \n",
    "                                acquire_signal=f\"acquire_{qubit}\",\n",
    "                                integration_kernel=qudits_params[\"ro_int_weights\"][qubit],\n",
    "                                reset_delay = exp_params[\"wait_after_int\"])\n",
    "            # if num_states == 4 or \"fh\" in exp_params[\"exp_name\"]:\n",
    "            #     with exp.section(uid = \"qubit_excitation_g2_\" + qubit, play_after=\"readout_qubit_f_\" + qubit):\n",
    "            #         exp.play(signal=\"drive_\"+ qubit, pulse = qudits_params[\"dr_pi_pulse\"][qubit])\n",
    "            #     with exp.section(uid = \"qubit_excitation_ef_\" + qubit, play_after=\"qubit_excitation_g2_\" + qubit, on_system_grid=True, alignment=SectionAlignment.RIGHT):\n",
    "            #         exp.play(signal=\"drive_ef_\"+qubit, pulse = qudits_params[\"dr_pi_pulse_ef\"][qubit])\n",
    "            #     with exp.section(uid = \"qubit_excitation_fh_\" + qubit, play_after=\"qubit_excitation_ef\" + qubit, on_system_grid=True, alignment=SectionAlignment.RIGHT):\n",
    "            #         exp.play(signal=\"drive_fh_\"+qubit, pulse = qudits_params[\"dr_pi_pulse_fh\"][qubit])\n",
    "            #     with exp.section(uid=\"readout_qubit_h_\" + qubit, play_after=\"qubit_excitation_fh_\" + qubit):\n",
    "            #         # play readout pulse on measure line\n",
    "            #         exp.measure(measure_signal=\"measure_\"+qubit, \n",
    "            #                     measure_pulse=qudits_params[\"ro_pulse_data\"][qubit],\n",
    "            #                     handle=exp_params[\"exp_name\"] + f\"_{qubit}\"+\"_h\", \n",
    "            #                     acquire_signal=f\"acquire_{qubit}\",\n",
    "            #                     integration_kernel=qudits_params[\"ro_int_weights\"][qubit],\n",
    "            #                     reset_delay = exp_params[\"wait_after_int\"])\n",
    "\n",
    "\n",
    "    # if \"fidelity\" in exp_params[\"exp_name\"]:\n",
    "    #     cal = Calibration()\n",
    "    #     cal[\"acquire_\" + qubit] = SignalCalibration(\n",
    "    #     threshold=qudits_params[\"thresholds\"][qubit])\n",
    "    #     exp.set_calibration(cal)\n",
    "    results_raw = compile_run(session, exp_params, exp)\n",
    "    results = {}\n",
    "    state_str = [\"g\",\"e\", \"f\"]\n",
    "    for i in range(num_states):\n",
    "       results[i] = results_raw.acquired_results[exp_params[\"exp_name\"] + f\"_{qubit}\" +f\"_{state_str[i]}\"].data\n",
    "    return results, results_raw\n",
    "\n",
    "# plot parameters\n",
    "pi=np.pi\n",
    "SMALL_SIZE = 14\n",
    "MEDIUM_SIZE = 14\n",
    "BIGGER_SIZE = 16\n",
    "rcParams['figure.figsize'] = 8, 4\n",
    "plt.rc('font', size=SMALL_SIZE, style='normal', weight = 'normal')          # controls default text sizes\n",
    "plt.rc('axes', titlesize=SMALL_SIZE)     # fontsize of the axes title\n",
    "plt.rc('axes', labelsize=MEDIUM_SIZE)    # fontsize of the x and y labels\n",
    "plt.rc('xtick', labelsize=SMALL_SIZE)    # fontsize of the tick labels\n",
    "plt.rc('ytick', labelsize=SMALL_SIZE)    # fontsize of the tick labels\n",
    "plt.rc('legend', fontsize=SMALL_SIZE)    # legend fontsize\n",
    "plt.rc('figure', titlesize=BIGGER_SIZE)  # fontsize of the figure title\n",
    "\n",
    "colors = ['#1f77b4', # 1\n",
    "          '#ff7f0e',\n",
    "          '#2ca02c',\n",
    "          '#d62728',\n",
    "          '#9467bd',\n",
    "          '#8c564b',\n",
    "          '#e377c2',\n",
    "          '#7f7f7f',\n",
    "          '#bcbd22',\n",
    "          '#17becf', # 10\n",
    "          ]\n",
    "\n",
    "def plot_sweeper(f, result, unwrap = True, deg = True):\n",
    "    \"\"\"Plot results from Sweeper\"\"\"\n",
    "    f = f/1e9\n",
    "    power = 10*np.log10(np.abs(result)**2/50*1000)\n",
    "    phase = np.unwrap(np.angle(result, deg = deg)) if unwrap is True else np.angle(result, deg = deg)\n",
    "    phase_unit = 'deg' if deg is True else 'rad'\n",
    "    \n",
    "    fig, (ax0, ax1) = plt.subplots(nrows = 2, sharex = True)\n",
    "    ax0.plot(f, power, '.-', color = 'steelblue', label = 'power')\n",
    "    ax0.legend(loc='upper left')\n",
    "    ax0.set_ylabel('Power (dBm)')\n",
    "    ax1.plot(f, phase, '.-', color = 'orange', label = 'phase')\n",
    "    ax1.legend(loc='upper left')\n",
    "    ax1.set_xlabel('Frequency (GHz)')\n",
    "    fig.align_ylabels([ax0, ax1])\n",
    "    ax0.grid()\n",
    "    ax1.grid()\n",
    "    ax1.set_ylabel(f'Phase ({phase_unit})')\n",
    "    plt.tight_layout()\n",
    "    plt.show()\n",
    "\n",
    "def plot_n(x, y, z, do_plot = 1):\n",
    "    \"\"\"Plot multiple results\"\"\"\n",
    "    if do_plot == 1: \n",
    "        power = 10*np.log10(np.abs(z)**2/50*1000)\n",
    "        phase = np.angle(z, deg = True)\n",
    "\n",
    "        fig, (ax0, ax1) = plt.subplots(nrows=2, sharex=True)\n",
    "        for i in range(len(power)):\n",
    "            ax0.plot(x/1e9, power[i], '.-', color = colors[i], label = f'gain = {y[i]}')\n",
    "            ax1.plot(x/1e9, phase[i], '.-', color = colors[i], label = f'gain = {y[i]}')\n",
    "        ax0.set_ylabel('Power (dBm)')\n",
    "        ax1.set_ylabel('Phase (deg)')\n",
    "        ax1.set_xlabel('Frequency (GHz)')\n",
    "        ax0.legend(loc='upper left')\n",
    "        ax1.legend(loc='upper left')\n",
    "        ax0.grid()\n",
    "        ax1.grid()\n",
    "        fig.tight_layout()\n",
    "        fig.align_ylabels([ax0, ax1])\n",
    "\n",
    "def plot_2d(x, y, z, do_plot = 1):\n",
    "    \"\"\"2D plot\"\"\"\n",
    "    if do_plot == 1:   \n",
    "        x = x/1e9\n",
    "        x0 = np.zeros(len(x)+1)    \n",
    "        x0[:-1] = x - (x[1]-x[0])/2\n",
    "        x0[-1]= x[-1] + (x[1]-x[0])/2    \n",
    "        y0 = np.zeros(len(y)+1)\n",
    "        y0[:-1] = y - (y[1]-y[0])/2\n",
    "        y0[-1]= y[-1] + (y[1]-y[0])/2\n",
    "\n",
    "        z_abs = 10*np.log10(np.abs(z)**2/50*1000)\n",
    "        z_angle = np.angle(z, deg = True)\n",
    "        X, Y = np.meshgrid(x0 ,y0)\n",
    "\n",
    "        fig, (ax0, ax1) = plt.subplots(nrows = 2, sharex = True)\n",
    "        c0 = ax0.pcolormesh(X, Y,z_abs)\n",
    "        ax0.set_yticks(y)\n",
    "        ax0.set_ylabel('Gain')\n",
    "        ax0.set_title('Power (dBm)')\n",
    "        fig.colorbar(c0, ax=ax0)\n",
    "\n",
    "        c1 = ax1.pcolormesh(X, Y, z_angle)\n",
    "        ax1.set_yticks(y)\n",
    "        ax1.set_xlabel('Offset frequency (GHz)')\n",
    "        ax1.set_ylabel('Gain')\n",
    "        ax1.set_title('Phase (degree)')\n",
    "        fig.colorbar(c1, ax=ax1)\n",
    "\n",
    "        fig.tight_layout()\n",
    "        plt.show() \n",
    "\n",
    "def plot_readout_IQ(integration_length, data, do_plot=1):\n",
    "    \"\"\"Plot results in I-Q plane\"\"\"\n",
    "    data = data/integration_length\n",
    "    if do_plot == 1:\n",
    "        fig, ax = plt.subplots()\n",
    "        if len(data.shape) == 1:        \n",
    "            ax.scatter(data.real, data.imag, label = f'data 0') \n",
    "        else:\n",
    "            for i in range(len(data)):\n",
    "                ax.scatter(data[i].real, data[i].imag, label = f'data {i}')\n",
    "        ax.plot(0,0, 'o', color = 'black', label = 'Point 0')\n",
    "        ax.set_xlabel('Real (Vrms)')\n",
    "        ax.set_ylabel('Imag (Vrms)')\n",
    "        ax.grid()\n",
    "        ax.legend()\n",
    "        ax.axis('equal')\n",
    "        plt.tight_layout()\n",
    "        plt.show()\n",
    "\n",
    "def plot_qubit_readout_amp_phase(integration_length, x, ys, unwrap = False, deg = True, do_plot = True, xlabel = None):\n",
    "    \"\"\"Plot results in amplitude vs x and phase vs x\"\"\"\n",
    "    if do_plot == 1:\n",
    "        amp = np.abs(ys)/integration_length\n",
    "        phase = np.unwrap(np.angle(ys/integration_length, deg = deg)) if unwrap is True else np.angle(ys, deg = deg)\n",
    "        phase_unit = 'deg' if deg is True else 'rad'   \n",
    "        \n",
    "        fig, (ax0, ax1) = plt.subplots(nrows = 2, sharex = True)\n",
    "        ax0.plot(x, amp, '.-', color = 'steelblue', label = f'Amplitude')\n",
    "        ax0.set_title(f'Measure propagation delay')\n",
    "        ax0.legend(loc='upper left')\n",
    "        ax0.set_ylabel('Amplitude (Vrms)')\n",
    "        ax1.plot(x, phase, '.-', color = 'orange', label = f'phase')\n",
    "        ax1.legend(loc='upper left')\n",
    "        ax1.set_xlabel('x')\n",
    "        if xlabel != None:\n",
    "            ax1.set_xlabel(xlabel)\n",
    "        ax1.set_ylabel(f'Phase ({phase_unit})')\n",
    "        fig.align_ylabels([ax0, ax1])\n",
    "        ax0.grid()\n",
    "        ax1.grid()\n",
    "        plt.tight_layout()\n",
    "        plt.show()\n",
    "\n",
    "\n",
    "# define Calibration object based on qubit control and readout parameters, and apply calibration to device setup\n",
    "calibration = define_calibration(qudits_params)\n",
    "device_setup.set_calibration(calibration)"
   ]
  },
  {
   "cell_type": "code",
   "execution_count": null,
   "id": "0bcb920a",
   "metadata": {},
   "outputs": [],
   "source": []
  },
  {
   "cell_type": "markdown",
   "id": "ff7135c9",
   "metadata": {},
   "source": [
    "\n",
    "# Resonator spectroscopy "
   ]
  },
  {
   "cell_type": "markdown",
   "id": "76d10825",
   "metadata": {},
   "source": [
    "### Define experiment parameters "
   ]
  },
  {
   "cell_type": "code",
   "execution_count": 8,
   "id": "52104fda",
   "metadata": {
    "ExecuteTime": {
     "end_time": "2024-02-22T05:00:02.979452Z",
     "start_time": "2024-02-22T05:00:02.934562Z"
    }
   },
   "outputs": [],
   "source": [
    "# parameters for all resonator spectroscopy experiment (cw, pulse and 2d)\n",
    "start_freq = 100.0e6\n",
    "stop_freq = 500.0e6\n",
    "num_points = 501\n",
    "num_averages = 2\n",
    "average_mode = AveragingMode.CYCLIC # AveragingMode.SEQUENTIAL #\n",
    "\n",
    "ro_cent_f = 5e9\n",
    "ro_pin_range = 0\n",
    "ro_pout_range = 0\n",
    "\n",
    "\n",
    "integration_time = 2e-6\n",
    "wait_after_int = integration_time + 5e-6\n",
    "freq_sweep = LinearSweepParameter(uid = f\"res_freq_q0\", start = start_freq, stop = stop_freq, count = num_points, axis_name=\"Frequency [Hz]\")\n",
    "\n",
    "# define the experiment with the frequency sweep relevant for qubit 0\n",
    "exp_params_res = {\n",
    "    \"ro_cent_f\": ro_cent_f,\n",
    "    \"ro_pout_range\": 0,\n",
    "    \"ro_pin_range\": 0,\n",
    "    \"freq_sweep\": freq_sweep,\n",
    "    \"num_averages\": num_averages,\n",
    "    \"integration_time\": integration_time,\n",
    "    \"wait_after_int\": wait_after_int,\n",
    "    \"average_mode\": average_mode,\n",
    "    \"plot_simulation\": 1,\n",
    "    \"plt_start_time\": 0,\n",
    "    \"plt_length\":10e-6,\n",
    "    }\n",
    "\n"
   ]
  },
  {
   "cell_type": "markdown",
   "id": "b12a1c89",
   "metadata": {},
   "source": [
    "### CW resonator spectroscopy "
   ]
  },
  {
   "cell_type": "code",
   "execution_count": 8,
   "id": "e7f85d7f",
   "metadata": {
    "ExecuteTime": {
     "end_time": "2024-02-22T05:00:04.373862Z",
     "start_time": "2024-02-22T05:00:04.342194Z"
    }
   },
   "outputs": [],
   "source": []
  },
  {
   "cell_type": "code",
   "execution_count": 9,
   "id": "64450d2a",
   "metadata": {
    "ExecuteTime": {
     "end_time": "2024-02-22T05:00:05.921471Z",
     "start_time": "2024-02-22T05:00:04.671500Z"
    }
   },
   "outputs": [
    {
     "name": "stdout",
     "output_type": "stream",
     "text": [
      "[2024.02.22 16:00:04.668] INFO    Starting LabOne Q Compiler run...\n",
      "[2024.02.22 16:00:04.768] INFO    Schedule completed\n",
      "[2024.02.22 16:00:05.006] INFO     ────────────────────────────────────────────────────────────────── \n",
      "[2024.02.22 16:00:05.007] INFO     \u001B[1m \u001B[0m\u001B[1mDevice      \u001B[0m\u001B[1m \u001B[0m \u001B[1m \u001B[0m\u001B[1mAWG\u001B[0m\u001B[1m \u001B[0m \u001B[1m \u001B[0m\u001B[1mSeqC LOC\u001B[0m\u001B[1m \u001B[0m \u001B[1m \u001B[0m\u001B[1mCT entries\u001B[0m\u001B[1m \u001B[0m \u001B[1m \u001B[0m\u001B[1mWaveforms\u001B[0m\u001B[1m \u001B[0m \u001B[1m \u001B[0m\u001B[1mSamples\u001B[0m\u001B[1m \u001B[0m \n",
      "[2024.02.22 16:00:05.007] INFO     ────────────────────────────────────────────────────────────────── \n",
      "[2024.02.22 16:00:05.008] INFO      device_shfqc     0         21            0           0         0  \n",
      "[2024.02.22 16:00:05.009] INFO     ────────────────────────────────────────────────────────────────── \n",
      "[2024.02.22 16:00:05.010] INFO     \u001B[1m \u001B[0m\u001B[1mTOTAL       \u001B[0m\u001B[1m \u001B[0m \u001B[1m \u001B[0m\u001B[1m   \u001B[0m\u001B[1m \u001B[0m \u001B[1m \u001B[0m\u001B[1m      21\u001B[0m\u001B[1m \u001B[0m \u001B[1m \u001B[0m\u001B[1m         0\u001B[0m\u001B[1m \u001B[0m \u001B[1m \u001B[0m\u001B[1m         \u001B[0m\u001B[1m \u001B[0m \u001B[1m \u001B[0m\u001B[1m      0\u001B[0m\u001B[1m \u001B[0m \n",
      "[2024.02.22 16:00:05.011] INFO     ────────────────────────────────────────────────────────────────── \n",
      "[2024.02.22 16:00:05.015] INFO    Finished LabOne Q Compiler run.\n",
      "[2024.02.22 16:00:05.020] INFO    Configuring the device setup\n",
      "[2024.02.22 16:00:05.021] INFO    The device setup is configured\n",
      "[2024.02.22 16:00:05.028] INFO    Starting near-time execution...\n",
      "[2024.02.22 16:00:05.038] INFO    Finished near-time execution.\n",
      "[2024.02.22 16:00:05.040] INFO    Recompiling the experiment due to missing extra information in the compiled experiment. Compile with `OUTPUT_EXTRAS=True` and `MAX_EVENTS_TO_PUBLISH=1000` to bypass this step with a small impact on the compilation time.\n",
      "[2024.02.22 16:00:05.045] INFO    Starting LabOne Q Compiler run...\n",
      "[2024.02.22 16:00:05.145] INFO    Schedule completed\n",
      "[2024.02.22 16:00:05.312] INFO    Finished LabOne Q Compiler run.\n",
      "[2024.02.22 16:00:05.337] INFO    Writing html file to /Users/james/Projects/PycharmProjects/SydneyQuantum/notebooks/Pulse_Sheets/cw_2024-02-22-16-00-05.html\n"
     ]
    },
    {
     "data": {
      "text/plain": "<Figure size 800x400 with 2 Axes>",
      "image/png": "[encoded data removed]"
     },
     "metadata": {},
     "output_type": "display_data"
    }
   ],
   "source": [
    "exp_params_cw_res_spec = exp_params_res\n",
    "exp_params_cw_res_spec.update({\n",
    "    \"exp_name\": \"cw\",\n",
    "    \"wait_after_int\": wait_after_int,\n",
    "    \"ro_osc_gain\": 0.9,\n",
    "    \"plot_simulation\": 0,\n",
    "})\n",
    "\n",
    "results_cw_res = res_spectroscopy(session, exp_params_cw_res_spec)\n",
    "\n",
    "f = np.transpose(np.array(results_cw_res.acquired_results[exp_params_cw_res_spec[\"exp_name\"]].axis))\n",
    "data  = results_cw_res.acquired_results[exp_params_cw_res_spec[\"exp_name\"]].data\n",
    "plot_sweeper(f + qudits_params[\"ro_cent_f\"], data)"
   ]
  },
  {
   "cell_type": "markdown",
   "id": "dc394675",
   "metadata": {},
   "source": [
    "### Pulsed resonator spectroscopy "
   ]
  },
  {
   "cell_type": "code",
   "execution_count": 10,
   "id": "f4e72067",
   "metadata": {
    "ExecuteTime": {
     "end_time": "2024-02-22T05:03:29.784590Z",
     "start_time": "2024-02-22T05:03:26.729539Z"
    }
   },
   "outputs": [
    {
     "name": "stdout",
     "output_type": "stream",
     "text": [
      "[2024.02.22 16:03:26.723] INFO    Starting LabOne Q Compiler run...\n",
      "[2024.02.22 16:03:27.394] INFO    Schedule completed\n"
     ]
    },
    {
     "ename": "ValueError",
     "evalue": "The width of the flat portion of the pulse must be smaller than the total length.",
     "output_type": "error",
     "traceback": [
      "\u001B[0;31m---------------------------------------------------------------------------\u001B[0m",
      "\u001B[0;31mValueError\u001B[0m                                Traceback (most recent call last)",
      "Cell \u001B[0;32mIn[10], line 16\u001B[0m\n\u001B[1;32m      7\u001B[0m exp_params_pulse_res_spec \u001B[38;5;241m=\u001B[39m exp_params_res\n\u001B[1;32m      8\u001B[0m exp_params_pulse_res_spec\u001B[38;5;241m.\u001B[39mupdate({\n\u001B[1;32m      9\u001B[0m     \u001B[38;5;124m\"\u001B[39m\u001B[38;5;124mexp_name\u001B[39m\u001B[38;5;124m\"\u001B[39m: \u001B[38;5;124m\"\u001B[39m\u001B[38;5;124mpulse\u001B[39m\u001B[38;5;124m\"\u001B[39m,\n\u001B[1;32m     10\u001B[0m     \u001B[38;5;124m\"\u001B[39m\u001B[38;5;124mreadout_pulse\u001B[39m\u001B[38;5;124m\"\u001B[39m: envelop_waveform,\n\u001B[0;32m   (...)\u001B[0m\n\u001B[1;32m     13\u001B[0m     \u001B[38;5;124m\"\u001B[39m\u001B[38;5;124mintegration_time\u001B[39m\u001B[38;5;124m\"\u001B[39m: integration_time,\n\u001B[1;32m     14\u001B[0m })\n\u001B[0;32m---> 16\u001B[0m results_pulse_res \u001B[38;5;241m=\u001B[39m \u001B[43mres_spectroscopy\u001B[49m\u001B[43m(\u001B[49m\u001B[43msession\u001B[49m\u001B[43m,\u001B[49m\u001B[43m \u001B[49m\u001B[43mexp_params_pulse_res_spec\u001B[49m\u001B[43m)\u001B[49m\n\u001B[1;32m     18\u001B[0m f \u001B[38;5;241m=\u001B[39m np\u001B[38;5;241m.\u001B[39mtranspose(np\u001B[38;5;241m.\u001B[39marray(results_pulse_res\u001B[38;5;241m.\u001B[39macquired_results[exp_params_pulse_res_spec[\u001B[38;5;124m\"\u001B[39m\u001B[38;5;124mexp_name\u001B[39m\u001B[38;5;124m\"\u001B[39m]]\u001B[38;5;241m.\u001B[39maxis))\n\u001B[1;32m     19\u001B[0m data  \u001B[38;5;241m=\u001B[39m results_pulse_res\u001B[38;5;241m.\u001B[39macquired_results[exp_params_pulse_res_spec[\u001B[38;5;124m\"\u001B[39m\u001B[38;5;124mexp_name\u001B[39m\u001B[38;5;124m\"\u001B[39m]]\u001B[38;5;241m.\u001B[39mdata\n",
      "Cell \u001B[0;32mIn[7], line 208\u001B[0m, in \u001B[0;36mres_spectroscopy\u001B[0;34m(session, exp_params)\u001B[0m\n\u001B[1;32m    202\u001B[0m cal[\u001B[38;5;124m\"\u001B[39m\u001B[38;5;124macquire\u001B[39m\u001B[38;5;124m\"\u001B[39m] \u001B[38;5;241m=\u001B[39m SignalCalibration(\n\u001B[1;32m    203\u001B[0m     local_oscillator \u001B[38;5;241m=\u001B[39m Oscillator(\u001B[38;5;124m\"\u001B[39m\u001B[38;5;124mro_cent_f_acquire\u001B[39m\u001B[38;5;124m\"\u001B[39m, frequency \u001B[38;5;241m=\u001B[39m exp_params[\u001B[38;5;124m\"\u001B[39m\u001B[38;5;124mro_cent_f\u001B[39m\u001B[38;5;124m\"\u001B[39m]),\n\u001B[1;32m    204\u001B[0m     \u001B[38;5;28mrange\u001B[39m \u001B[38;5;241m=\u001B[39m exp_params[\u001B[38;5;124m\"\u001B[39m\u001B[38;5;124mro_pin_range\u001B[39m\u001B[38;5;124m\"\u001B[39m]\n\u001B[1;32m    205\u001B[0m )\n\u001B[1;32m    206\u001B[0m exp\u001B[38;5;241m.\u001B[39mset_calibration(cal)\n\u001B[0;32m--> 208\u001B[0m results \u001B[38;5;241m=\u001B[39m \u001B[43mcompile_run\u001B[49m\u001B[43m(\u001B[49m\u001B[43msession\u001B[49m\u001B[43m,\u001B[49m\u001B[43m \u001B[49m\u001B[43mexp_params\u001B[49m\u001B[43m,\u001B[49m\u001B[43m \u001B[49m\u001B[43mexp\u001B[49m\u001B[43m)\u001B[49m\n\u001B[1;32m    210\u001B[0m \u001B[38;5;28;01mreturn\u001B[39;00m results\n",
      "Cell \u001B[0;32mIn[7], line 80\u001B[0m, in \u001B[0;36mcompile_run\u001B[0;34m(session, exp_params, exp)\u001B[0m\n\u001B[1;32m     77\u001B[0m \u001B[38;5;28;01mif\u001B[39;00m \u001B[38;5;124m\"\u001B[39m\u001B[38;5;124mrb\u001B[39m\u001B[38;5;124m\"\u001B[39m \u001B[38;5;129;01min\u001B[39;00m exp_params[\u001B[38;5;124m\"\u001B[39m\u001B[38;5;124mexp_name\u001B[39m\u001B[38;5;124m\"\u001B[39m]:\n\u001B[1;32m     78\u001B[0m     compiler_settings \u001B[38;5;241m=\u001B[39m {\u001B[38;5;124m\"\u001B[39m\u001B[38;5;124mSHFSG_MIN_PLAYWAVE_HINT\u001B[39m\u001B[38;5;124m\"\u001B[39m: \u001B[38;5;241m256\u001B[39m}\n\u001B[0;32m---> 80\u001B[0m compiled_exp \u001B[38;5;241m=\u001B[39m \u001B[43msession\u001B[49m\u001B[38;5;241;43m.\u001B[39;49m\u001B[43mcompile\u001B[49m\u001B[43m(\u001B[49m\u001B[43mexp\u001B[49m\u001B[43m,\u001B[49m\u001B[43m \u001B[49m\u001B[43mcompiler_settings\u001B[49m\u001B[43m \u001B[49m\u001B[38;5;241;43m=\u001B[39;49m\u001B[43m \u001B[49m\u001B[43mcompiler_settings\u001B[49m\u001B[43m)\u001B[49m\n\u001B[1;32m     81\u001B[0m results \u001B[38;5;241m=\u001B[39m session\u001B[38;5;241m.\u001B[39mrun(compiled_exp)    \n\u001B[1;32m     82\u001B[0m Path(\u001B[38;5;124m\"\u001B[39m\u001B[38;5;124mPulse_Sheets\u001B[39m\u001B[38;5;124m\"\u001B[39m)\u001B[38;5;241m.\u001B[39mmkdir(parents\u001B[38;5;241m=\u001B[39m\u001B[38;5;28;01mTrue\u001B[39;00m, exist_ok\u001B[38;5;241m=\u001B[39m\u001B[38;5;28;01mTrue\u001B[39;00m)\n",
      "File \u001B[0;32m~/Projects/Envs/SydneyQuantum/lib/python3.12/site-packages/laboneq/_observability/tracing/_tracer.py:75\u001B[0m, in \u001B[0;36mtrace.<locals>.outer_wrapper.<locals>.wrapper\u001B[0;34m(*args, **kwargs)\u001B[0m\n\u001B[1;32m     73\u001B[0m             tracing\u001B[38;5;241m.\u001B[39menable_tracing()\n\u001B[1;32m     74\u001B[0m         \u001B[38;5;28;01mreturn\u001B[39;00m res\n\u001B[0;32m---> 75\u001B[0m \u001B[38;5;28;01mreturn\u001B[39;00m \u001B[43mfunc\u001B[49m\u001B[43m(\u001B[49m\u001B[38;5;241;43m*\u001B[39;49m\u001B[43margs\u001B[49m\u001B[43m,\u001B[49m\u001B[43m \u001B[49m\u001B[38;5;241;43m*\u001B[39;49m\u001B[38;5;241;43m*\u001B[39;49m\u001B[43mkwargs\u001B[49m\u001B[43m)\u001B[49m\n",
      "File \u001B[0;32m~/Projects/Envs/SydneyQuantum/lib/python3.12/site-packages/laboneq/dsl/session.py:337\u001B[0m, in \u001B[0;36mSession.compile\u001B[0;34m(self, experiment, compiler_settings)\u001B[0m\n\u001B[1;32m    335\u001B[0m \u001B[38;5;28mself\u001B[39m\u001B[38;5;241m.\u001B[39m_assert_connected(fail\u001B[38;5;241m=\u001B[39m\u001B[38;5;28;01mTrue\u001B[39;00m)\n\u001B[1;32m    336\u001B[0m \u001B[38;5;28mself\u001B[39m\u001B[38;5;241m.\u001B[39m_experiment_definition \u001B[38;5;241m=\u001B[39m experiment\n\u001B[0;32m--> 337\u001B[0m \u001B[38;5;28mself\u001B[39m\u001B[38;5;241m.\u001B[39m_compiled_experiment \u001B[38;5;241m=\u001B[39m \u001B[43mLabOneQFacade\u001B[49m\u001B[38;5;241;43m.\u001B[39;49m\u001B[43mcompile\u001B[49m\u001B[43m(\u001B[49m\n\u001B[1;32m    338\u001B[0m \u001B[43m    \u001B[49m\u001B[38;5;28;43mself\u001B[39;49m\u001B[43m,\u001B[49m\u001B[43m \u001B[49m\u001B[38;5;28;43mself\u001B[39;49m\u001B[38;5;241;43m.\u001B[39;49m\u001B[43mlogger\u001B[49m\u001B[43m,\u001B[49m\u001B[43m \u001B[49m\u001B[43mcompiler_settings\u001B[49m\u001B[38;5;241;43m=\u001B[39;49m\u001B[43mcompiler_settings\u001B[49m\n\u001B[1;32m    339\u001B[0m \u001B[43m\u001B[49m\u001B[43m)\u001B[49m\n\u001B[1;32m    340\u001B[0m \u001B[38;5;28mself\u001B[39m\u001B[38;5;241m.\u001B[39m_last_results \u001B[38;5;241m=\u001B[39m \u001B[38;5;28;01mNone\u001B[39;00m\n\u001B[1;32m    341\u001B[0m \u001B[38;5;28;01mreturn\u001B[39;00m \u001B[38;5;28mself\u001B[39m\u001B[38;5;241m.\u001B[39m_compiled_experiment\n",
      "File \u001B[0;32m~/Projects/Envs/SydneyQuantum/lib/python3.12/site-packages/laboneq/dsl/laboneq_facade.py:71\u001B[0m, in \u001B[0;36mLabOneQFacade.compile\u001B[0;34m(session, logger, compiler_settings)\u001B[0m\n\u001B[1;32m     68\u001B[0m signal_mapping \u001B[38;5;241m=\u001B[39m convert_signal_map(session\u001B[38;5;241m.\u001B[39mexperiment)\n\u001B[1;32m     70\u001B[0m payload_builder \u001B[38;5;241m=\u001B[39m ApplicationManager\u001B[38;5;241m.\u001B[39minstance()\u001B[38;5;241m.\u001B[39mpayload_builder()\n\u001B[0;32m---> 71\u001B[0m payload \u001B[38;5;241m=\u001B[39m \u001B[43mpayload_builder\u001B[49m\u001B[38;5;241;43m.\u001B[39;49m\u001B[43mbuild_payload\u001B[49m\u001B[43m(\u001B[49m\n\u001B[1;32m     72\u001B[0m \u001B[43m    \u001B[49m\u001B[43mnew_setup\u001B[49m\u001B[43m,\u001B[49m\n\u001B[1;32m     73\u001B[0m \u001B[43m    \u001B[49m\u001B[43mnew_experiment\u001B[49m\u001B[43m,\u001B[49m\n\u001B[1;32m     74\u001B[0m \u001B[43m    \u001B[49m\u001B[43msignal_mapping\u001B[49m\u001B[43m,\u001B[49m\n\u001B[1;32m     75\u001B[0m \u001B[43m    \u001B[49m\u001B[43mcompiler_settings\u001B[49m\u001B[43m,\u001B[49m\n\u001B[1;32m     76\u001B[0m \u001B[43m\u001B[49m\u001B[43m)\u001B[49m\n\u001B[1;32m     78\u001B[0m compiled_experiment \u001B[38;5;241m=\u001B[39m CompiledExperiment(\n\u001B[1;32m     79\u001B[0m     device_setup\u001B[38;5;241m=\u001B[39msession\u001B[38;5;241m.\u001B[39mdevice_setup,\n\u001B[1;32m     80\u001B[0m     experiment\u001B[38;5;241m=\u001B[39msession\u001B[38;5;241m.\u001B[39mexperiment,\n\u001B[1;32m     81\u001B[0m     experiment_dict\u001B[38;5;241m=\u001B[39m\u001B[38;5;28;01mNone\u001B[39;00m,  \u001B[38;5;66;03m# deprecated\u001B[39;00m\n\u001B[1;32m     82\u001B[0m     scheduled_experiment\u001B[38;5;241m=\u001B[39mpayload\u001B[38;5;241m.\u001B[39mscheduled_experiment,\n\u001B[1;32m     83\u001B[0m )\n\u001B[1;32m     84\u001B[0m \u001B[38;5;28;01mreturn\u001B[39;00m compiled_experiment\n",
      "File \u001B[0;32m~/Projects/Envs/SydneyQuantum/lib/python3.12/site-packages/laboneq/implementation/payload_builder/payload_builder.py:50\u001B[0m, in \u001B[0;36mPayloadBuilder.build_payload\u001B[0;34m(self, device_setup, experiment, signal_mappings, compiler_settings)\u001B[0m\n\u001B[1;32m     44\u001B[0m     experiment\u001B[38;5;241m.\u001B[39msignals \u001B[38;5;241m=\u001B[39m []\n\u001B[1;32m     46\u001B[0m job \u001B[38;5;241m=\u001B[39m \u001B[38;5;28mself\u001B[39m\u001B[38;5;241m.\u001B[39mcreate_compilation_job(\n\u001B[1;32m     47\u001B[0m     device_setup, experiment, signal_mappings, compiler_settings\n\u001B[1;32m     48\u001B[0m )\n\u001B[0;32m---> 50\u001B[0m job_id \u001B[38;5;241m=\u001B[39m \u001B[38;5;28;43mself\u001B[39;49m\u001B[38;5;241;43m.\u001B[39;49m\u001B[43m_compilation_service\u001B[49m\u001B[38;5;241;43m.\u001B[39;49m\u001B[43msubmit_compilation_job\u001B[49m\u001B[43m(\u001B[49m\u001B[43mjob\u001B[49m\u001B[43m)\u001B[49m\n\u001B[1;32m     52\u001B[0m scheduled_experiment \u001B[38;5;241m=\u001B[39m \u001B[38;5;28mself\u001B[39m\u001B[38;5;241m.\u001B[39m_compilation_service\u001B[38;5;241m.\u001B[39mcompilation_job_result(job_id)\n\u001B[1;32m     54\u001B[0m target_setup \u001B[38;5;241m=\u001B[39m TargetSetupGenerator\u001B[38;5;241m.\u001B[39mfrom_setup(device_setup)\n",
      "File \u001B[0;32m~/Projects/Envs/SydneyQuantum/lib/python3.12/site-packages/laboneq/implementation/compilation_service/compilation_service_legacy.py:29\u001B[0m, in \u001B[0;36mCompilationServiceLegacy.submit_compilation_job\u001B[0;34m(self, job)\u001B[0m\n\u001B[1;32m     27\u001B[0m queue_entry \u001B[38;5;241m=\u001B[39m {\u001B[38;5;124m\"\u001B[39m\u001B[38;5;124mjob_id\u001B[39m\u001B[38;5;124m\"\u001B[39m: job_id, \u001B[38;5;124m\"\u001B[39m\u001B[38;5;124mjob\u001B[39m\u001B[38;5;124m\"\u001B[39m: job}\n\u001B[1;32m     28\u001B[0m compiler \u001B[38;5;241m=\u001B[39m Compiler(job\u001B[38;5;241m.\u001B[39mcompiler_settings)\n\u001B[0;32m---> 29\u001B[0m compiler_output \u001B[38;5;241m=\u001B[39m \u001B[43mcompiler\u001B[49m\u001B[38;5;241;43m.\u001B[39;49m\u001B[43mrun\u001B[49m\u001B[43m(\u001B[49m\u001B[43mjob\u001B[49m\u001B[43m)\u001B[49m\n\u001B[1;32m     31\u001B[0m \u001B[38;5;28mself\u001B[39m\u001B[38;5;241m.\u001B[39m_job_results[job_id] \u001B[38;5;241m=\u001B[39m convert_compiler_output_to_scheduled_experiment(\n\u001B[1;32m     32\u001B[0m     compiler_output\n\u001B[1;32m     33\u001B[0m )\n\u001B[1;32m     35\u001B[0m \u001B[38;5;28mself\u001B[39m\u001B[38;5;241m.\u001B[39m_job_queue\u001B[38;5;241m.\u001B[39mappend(queue_entry)\n",
      "File \u001B[0;32m~/Projects/Envs/SydneyQuantum/lib/python3.12/site-packages/laboneq/_observability/tracing/_tracer.py:75\u001B[0m, in \u001B[0;36mtrace.<locals>.outer_wrapper.<locals>.wrapper\u001B[0;34m(*args, **kwargs)\u001B[0m\n\u001B[1;32m     73\u001B[0m             tracing\u001B[38;5;241m.\u001B[39menable_tracing()\n\u001B[1;32m     74\u001B[0m         \u001B[38;5;28;01mreturn\u001B[39;00m res\n\u001B[0;32m---> 75\u001B[0m \u001B[38;5;28;01mreturn\u001B[39;00m \u001B[43mfunc\u001B[49m\u001B[43m(\u001B[49m\u001B[38;5;241;43m*\u001B[39;49m\u001B[43margs\u001B[49m\u001B[43m,\u001B[49m\u001B[43m \u001B[49m\u001B[38;5;241;43m*\u001B[39;49m\u001B[38;5;241;43m*\u001B[39;49m\u001B[43mkwargs\u001B[49m\u001B[43m)\u001B[49m\n",
      "File \u001B[0;32m~/Projects/Envs/SydneyQuantum/lib/python3.12/site-packages/laboneq/compiler/workflow/compiler.py:1164\u001B[0m, in \u001B[0;36mCompiler.run\u001B[0;34m(self, data)\u001B[0m\n\u001B[1;32m   1162\u001B[0m \u001B[38;5;28mself\u001B[39m\u001B[38;5;241m.\u001B[39muse_experiment(data)\n\u001B[1;32m   1163\u001B[0m \u001B[38;5;28mself\u001B[39m\u001B[38;5;241m.\u001B[39m_analyze_setup()\n\u001B[0;32m-> 1164\u001B[0m \u001B[38;5;28;43mself\u001B[39;49m\u001B[38;5;241;43m.\u001B[39;49m\u001B[43m_process_experiment\u001B[49m\u001B[43m(\u001B[49m\u001B[43m)\u001B[49m\n\u001B[1;32m   1166\u001B[0m \u001B[38;5;28mself\u001B[39m\u001B[38;5;241m.\u001B[39m_generate_recipe()\n\u001B[1;32m   1168\u001B[0m retval \u001B[38;5;241m=\u001B[39m \u001B[38;5;28mself\u001B[39m\u001B[38;5;241m.\u001B[39mcompiler_output()\n",
      "File \u001B[0;32m~/Projects/Envs/SydneyQuantum/lib/python3.12/site-packages/laboneq/compiler/workflow/compiler.py:269\u001B[0m, in \u001B[0;36mCompiler._process_experiment\u001B[0;34m(self)\u001B[0m\n\u001B[1;32m    262\u001B[0m rt_compiler \u001B[38;5;241m=\u001B[39m RealtimeCompiler(\n\u001B[1;32m    263\u001B[0m     \u001B[38;5;28mself\u001B[39m\u001B[38;5;241m.\u001B[39m_experiment_dao,\n\u001B[1;32m    264\u001B[0m     \u001B[38;5;28mself\u001B[39m\u001B[38;5;241m.\u001B[39m_sampling_rate_tracker,\n\u001B[1;32m    265\u001B[0m     \u001B[38;5;28mself\u001B[39m\u001B[38;5;241m.\u001B[39m_signal_objects,\n\u001B[1;32m    266\u001B[0m     \u001B[38;5;28mself\u001B[39m\u001B[38;5;241m.\u001B[39m_settings,\n\u001B[1;32m    267\u001B[0m )\n\u001B[1;32m    268\u001B[0m executor \u001B[38;5;241m=\u001B[39m NtCompilerExecutor(rt_compiler, \u001B[38;5;28mself\u001B[39m\u001B[38;5;241m.\u001B[39m_settings)\n\u001B[0;32m--> 269\u001B[0m \u001B[43mexecutor\u001B[49m\u001B[38;5;241;43m.\u001B[39;49m\u001B[43mrun\u001B[49m\u001B[43m(\u001B[49m\u001B[38;5;28;43mself\u001B[39;49m\u001B[38;5;241;43m.\u001B[39;49m\u001B[43m_execution\u001B[49m\u001B[43m)\u001B[49m\n\u001B[1;32m    270\u001B[0m \u001B[38;5;28mself\u001B[39m\u001B[38;5;241m.\u001B[39m_combined_compiler_output \u001B[38;5;241m=\u001B[39m executor\u001B[38;5;241m.\u001B[39mcombined_compiler_output()\n\u001B[1;32m    271\u001B[0m \u001B[38;5;28;01mif\u001B[39;00m \u001B[38;5;28mself\u001B[39m\u001B[38;5;241m.\u001B[39m_combined_compiler_output \u001B[38;5;129;01mis\u001B[39;00m \u001B[38;5;28;01mNone\u001B[39;00m:\n\u001B[1;32m    272\u001B[0m     \u001B[38;5;66;03m# Some of our tests do not have an RT averaging loop, so the RT compiler will\u001B[39;00m\n\u001B[1;32m    273\u001B[0m     \u001B[38;5;66;03m# not have been run. For backwards compatibility, we still run it once.\u001B[39;00m\n",
      "File \u001B[0;32m~/Projects/Envs/SydneyQuantum/lib/python3.12/site-packages/laboneq/executor/executor.py:479\u001B[0m, in \u001B[0;36mExecutorBase.run\u001B[0;34m(self, root_sequence)\u001B[0m\n\u001B[1;32m    477\u001B[0m scope \u001B[38;5;241m=\u001B[39m ExecutionScope(\u001B[38;5;28;01mNone\u001B[39;00m, \u001B[38;5;28mself\u001B[39m)\n\u001B[1;32m    478\u001B[0m \u001B[38;5;28;01mfor\u001B[39;00m notification \u001B[38;5;129;01min\u001B[39;00m root_sequence\u001B[38;5;241m.\u001B[39mrun(scope):\n\u001B[0;32m--> 479\u001B[0m     \u001B[38;5;28;43mself\u001B[39;49m\u001B[38;5;241;43m.\u001B[39;49m\u001B[43m_handlers_map\u001B[49m\u001B[43m[\u001B[49m\u001B[43mnotification\u001B[49m\u001B[38;5;241;43m.\u001B[39;49m\u001B[43mstatement_type\u001B[49m\u001B[43m]\u001B[49m\u001B[43m(\u001B[49m\u001B[38;5;241;43m*\u001B[39;49m\u001B[38;5;241;43m*\u001B[39;49m\u001B[43mnotification\u001B[49m\u001B[38;5;241;43m.\u001B[39;49m\u001B[43margs\u001B[49m\u001B[43m)\u001B[49m\n",
      "File \u001B[0;32m~/Projects/Envs/SydneyQuantum/lib/python3.12/site-packages/laboneq/compiler/workflow/neartime_execution.py:155\u001B[0m, in \u001B[0;36mNtCompilerExecutor.rt_entry_handler\u001B[0;34m(self, count, uid, averaging_mode, acquisition_type)\u001B[0m\n\u001B[1;32m    153\u001B[0m parameter_store \u001B[38;5;241m=\u001B[39m ParameterStore(\u001B[38;5;28mself\u001B[39m\u001B[38;5;241m.\u001B[39m_iteration_stack\u001B[38;5;241m.\u001B[39mnt_parameter_values())\n\u001B[1;32m    154\u001B[0m tracker \u001B[38;5;241m=\u001B[39m parameter_store\u001B[38;5;241m.\u001B[39mcreate_tracker()\n\u001B[0;32m--> 155\u001B[0m new_compiler_output \u001B[38;5;241m=\u001B[39m \u001B[38;5;28;43mself\u001B[39;49m\u001B[38;5;241;43m.\u001B[39;49m\u001B[43m_rt_compiler\u001B[49m\u001B[38;5;241;43m.\u001B[39;49m\u001B[43mrun\u001B[49m\u001B[43m(\u001B[49m\u001B[43mparameter_store\u001B[49m\u001B[43m)\u001B[49m\n\u001B[1;32m    157\u001B[0m \u001B[38;5;28;01mif\u001B[39;00m \u001B[38;5;28mself\u001B[39m\u001B[38;5;241m.\u001B[39m_required_parameters \u001B[38;5;129;01mis\u001B[39;00m \u001B[38;5;28;01mNone\u001B[39;00m:\n\u001B[1;32m    158\u001B[0m     \u001B[38;5;28mself\u001B[39m\u001B[38;5;241m.\u001B[39m_required_parameters \u001B[38;5;241m=\u001B[39m tracker\u001B[38;5;241m.\u001B[39mqueries()\n",
      "File \u001B[0;32m~/Projects/Envs/SydneyQuantum/lib/python3.12/site-packages/laboneq/compiler/workflow/realtime_compiler.py:110\u001B[0m, in \u001B[0;36mRealtimeCompiler.run\u001B[0;34m(self, near_time_parameters)\u001B[0m\n\u001B[1;32m    107\u001B[0m \u001B[38;5;28mself\u001B[39m\u001B[38;5;241m.\u001B[39m_scheduler\u001B[38;5;241m.\u001B[39mrun(near_time_parameters)\n\u001B[1;32m    108\u001B[0m schedule \u001B[38;5;241m=\u001B[39m \u001B[38;5;28mself\u001B[39m\u001B[38;5;241m.\u001B[39mprepare_schedule() \u001B[38;5;28;01mif\u001B[39;00m \u001B[38;5;28mself\u001B[39m\u001B[38;5;241m.\u001B[39m_settings\u001B[38;5;241m.\u001B[39mOUTPUT_EXTRAS \u001B[38;5;28;01melse\u001B[39;00m \u001B[38;5;28;01mNone\u001B[39;00m\n\u001B[0;32m--> 110\u001B[0m \u001B[38;5;28;43mself\u001B[39;49m\u001B[38;5;241;43m.\u001B[39;49m\u001B[43m_generate_code\u001B[49m\u001B[43m(\u001B[49m\u001B[43m)\u001B[49m\n\u001B[1;32m    112\u001B[0m outputs \u001B[38;5;241m=\u001B[39m {\n\u001B[1;32m    113\u001B[0m     device_class: code_generator\u001B[38;5;241m.\u001B[39mget_output()\n\u001B[1;32m    114\u001B[0m     \u001B[38;5;28;01mfor\u001B[39;00m device_class, code_generator \u001B[38;5;129;01min\u001B[39;00m \u001B[38;5;28mself\u001B[39m\u001B[38;5;241m.\u001B[39m_code_generators\u001B[38;5;241m.\u001B[39mitems()\n\u001B[1;32m    115\u001B[0m }\n\u001B[1;32m    117\u001B[0m compiler_output \u001B[38;5;241m=\u001B[39m RTCompilerOutputContainer(\n\u001B[1;32m    118\u001B[0m     codegen_output\u001B[38;5;241m=\u001B[39moutputs, schedule\u001B[38;5;241m=\u001B[39mschedule\n\u001B[1;32m    119\u001B[0m )\n",
      "File \u001B[0;32m~/Projects/Envs/SydneyQuantum/lib/python3.12/site-packages/laboneq/_observability/tracing/_tracer.py:75\u001B[0m, in \u001B[0;36mtrace.<locals>.outer_wrapper.<locals>.wrapper\u001B[0;34m(*args, **kwargs)\u001B[0m\n\u001B[1;32m     73\u001B[0m             tracing\u001B[38;5;241m.\u001B[39menable_tracing()\n\u001B[1;32m     74\u001B[0m         \u001B[38;5;28;01mreturn\u001B[39;00m res\n\u001B[0;32m---> 75\u001B[0m \u001B[38;5;28;01mreturn\u001B[39;00m \u001B[43mfunc\u001B[49m\u001B[43m(\u001B[49m\u001B[38;5;241;43m*\u001B[39;49m\u001B[43margs\u001B[49m\u001B[43m,\u001B[49m\u001B[43m \u001B[49m\u001B[38;5;241;43m*\u001B[39;49m\u001B[38;5;241;43m*\u001B[39;49m\u001B[43mkwargs\u001B[49m\u001B[43m)\u001B[49m\n",
      "File \u001B[0;32m~/Projects/Envs/SydneyQuantum/lib/python3.12/site-packages/laboneq/compiler/workflow/realtime_compiler.py:101\u001B[0m, in \u001B[0;36mRealtimeCompiler._generate_code\u001B[0;34m(self)\u001B[0m\n\u001B[1;32m     98\u001B[0m \u001B[38;5;28;01mif\u001B[39;00m \u001B[38;5;28mself\u001B[39m\u001B[38;5;241m.\u001B[39m_settings\u001B[38;5;241m.\u001B[39mFORCE_IR_ROUNDTRIP:\n\u001B[1;32m     99\u001B[0m     ir\u001B[38;5;241m.\u001B[39mround_trip()\n\u001B[0;32m--> 101\u001B[0m \u001B[38;5;28;43mself\u001B[39;49m\u001B[38;5;241;43m.\u001B[39;49m\u001B[43m_lower_ir_to_code\u001B[49m\u001B[43m(\u001B[49m\u001B[43mir\u001B[49m\u001B[43m)\u001B[49m\n\u001B[1;32m    102\u001B[0m _logger\u001B[38;5;241m.\u001B[39mdebug(\u001B[38;5;124m\"\u001B[39m\u001B[38;5;124mlowering IR to code complete\u001B[39m\u001B[38;5;124m\"\u001B[39m)\n",
      "File \u001B[0;32m~/Projects/Envs/SydneyQuantum/lib/python3.12/site-packages/laboneq/compiler/workflow/realtime_compiler.py:81\u001B[0m, in \u001B[0;36mRealtimeCompiler._lower_ir_to_code\u001B[0;34m(self, ir)\u001B[0m\n\u001B[1;32m     77\u001B[0m \u001B[38;5;28;01mfor\u001B[39;00m device_class \u001B[38;5;129;01min\u001B[39;00m device_classes:\n\u001B[1;32m     78\u001B[0m     \u001B[38;5;28mself\u001B[39m\u001B[38;5;241m.\u001B[39m_code_generators[device_class] \u001B[38;5;241m=\u001B[39m \u001B[38;5;28mself\u001B[39m\u001B[38;5;241m.\u001B[39m_registered_codegens[\n\u001B[1;32m     79\u001B[0m         device_class\n\u001B[1;32m     80\u001B[0m     ](ir, settings\u001B[38;5;241m=\u001B[39m\u001B[38;5;28mself\u001B[39m\u001B[38;5;241m.\u001B[39m_settings)\n\u001B[0;32m---> 81\u001B[0m     \u001B[38;5;28;43mself\u001B[39;49m\u001B[38;5;241;43m.\u001B[39;49m\u001B[43m_code_generators\u001B[49m\u001B[43m[\u001B[49m\u001B[43mdevice_class\u001B[49m\u001B[43m]\u001B[49m\u001B[38;5;241;43m.\u001B[39;49m\u001B[43mgenerate_code\u001B[49m\u001B[43m(\u001B[49m\n\u001B[1;32m     82\u001B[0m \u001B[43m        \u001B[49m\u001B[43m[\u001B[49m\n\u001B[1;32m     83\u001B[0m \u001B[43m            \u001B[49m\u001B[43ms\u001B[49m\n\u001B[1;32m     84\u001B[0m \u001B[43m            \u001B[49m\u001B[38;5;28;43;01mfor\u001B[39;49;00m\u001B[43m \u001B[49m\u001B[43ms\u001B[49m\u001B[43m \u001B[49m\u001B[38;5;129;43;01min\u001B[39;49;00m\u001B[43m \u001B[49m\u001B[38;5;28;43mself\u001B[39;49m\u001B[38;5;241;43m.\u001B[39;49m\u001B[43m_signal_objects\u001B[49m\u001B[38;5;241;43m.\u001B[39;49m\u001B[43mvalues\u001B[49m\u001B[43m(\u001B[49m\u001B[43m)\u001B[49m\n\u001B[1;32m     85\u001B[0m \u001B[43m            \u001B[49m\u001B[38;5;28;43;01mif\u001B[39;49;00m\u001B[43m \u001B[49m\u001B[43ms\u001B[49m\u001B[38;5;241;43m.\u001B[39;49m\u001B[43mawg\u001B[49m\u001B[38;5;241;43m.\u001B[39;49m\u001B[43mdevice_class\u001B[49m\u001B[43m \u001B[49m\u001B[38;5;241;43m==\u001B[39;49m\u001B[43m \u001B[49m\u001B[43mdevice_class\u001B[49m\n\u001B[1;32m     86\u001B[0m \u001B[43m        \u001B[49m\u001B[43m]\u001B[49m\n\u001B[1;32m     87\u001B[0m \u001B[43m    \u001B[49m\u001B[43m)\u001B[49m\n\u001B[1;32m     89\u001B[0m _logger\u001B[38;5;241m.\u001B[39mdebug(\u001B[38;5;124m\"\u001B[39m\u001B[38;5;124mCode generation completed\u001B[39m\u001B[38;5;124m\"\u001B[39m)\n",
      "File \u001B[0;32m~/Projects/Envs/SydneyQuantum/lib/python3.12/site-packages/laboneq/compiler/code_generator/code_generator.py:355\u001B[0m, in \u001B[0;36mCodeGenerator.generate_code\u001B[0;34m(self, signal_objs)\u001B[0m\n\u001B[1;32m    353\u001B[0m     \u001B[38;5;28mself\u001B[39m\u001B[38;5;241m.\u001B[39madd_signal(signal_obj)\n\u001B[1;32m    354\u001B[0m \u001B[38;5;28mself\u001B[39m\u001B[38;5;241m.\u001B[39mgen_acquire_map(event_list)\n\u001B[0;32m--> 355\u001B[0m \u001B[38;5;28;43mself\u001B[39;49m\u001B[38;5;241;43m.\u001B[39;49m\u001B[43mgen_seq_c\u001B[49m\u001B[43m(\u001B[49m\n\u001B[1;32m    356\u001B[0m \u001B[43m    \u001B[49m\u001B[43mevent_list\u001B[49m\u001B[43m,\u001B[49m\n\u001B[1;32m    357\u001B[0m \u001B[43m    \u001B[49m\u001B[43m{\u001B[49m\u001B[43mp\u001B[49m\u001B[38;5;241;43m.\u001B[39;49m\u001B[43muid\u001B[49m\u001B[43m:\u001B[49m\u001B[43m \u001B[49m\u001B[43mp\u001B[49m\u001B[43m \u001B[49m\u001B[38;5;28;43;01mfor\u001B[39;49;00m\u001B[43m \u001B[49m\u001B[43mp\u001B[49m\u001B[43m \u001B[49m\u001B[38;5;129;43;01min\u001B[39;49;00m\u001B[43m \u001B[49m\u001B[38;5;28;43mself\u001B[39;49m\u001B[38;5;241;43m.\u001B[39;49m\u001B[43m_ir\u001B[49m\u001B[38;5;241;43m.\u001B[39;49m\u001B[43mpulse_defs\u001B[49m\u001B[43m}\u001B[49m\u001B[43m,\u001B[49m\n\u001B[1;32m    358\u001B[0m \u001B[43m\u001B[49m\u001B[43m)\u001B[49m\n\u001B[1;32m    359\u001B[0m \u001B[38;5;28mself\u001B[39m\u001B[38;5;241m.\u001B[39mgen_waves()\n",
      "File \u001B[0;32m~/Projects/Envs/SydneyQuantum/lib/python3.12/site-packages/laboneq/compiler/code_generator/code_generator.py:718\u001B[0m, in \u001B[0;36mCodeGenerator.gen_seq_c\u001B[0;34m(self, events, pulse_defs)\u001B[0m\n\u001B[1;32m    710\u001B[0m \u001B[38;5;28mself\u001B[39m\u001B[38;5;241m.\u001B[39m_feedback_register_allocator \u001B[38;5;241m=\u001B[39m FeedbackRegisterAllocator(\n\u001B[1;32m    711\u001B[0m     \u001B[38;5;28mself\u001B[39m\u001B[38;5;241m.\u001B[39m_signals, events\n\u001B[1;32m    712\u001B[0m )\n\u001B[1;32m    714\u001B[0m \u001B[38;5;28;01mfor\u001B[39;00m _, awg \u001B[38;5;129;01min\u001B[39;00m \u001B[38;5;28msorted\u001B[39m(\n\u001B[1;32m    715\u001B[0m     \u001B[38;5;28mself\u001B[39m\u001B[38;5;241m.\u001B[39m_awgs\u001B[38;5;241m.\u001B[39mitems(),\n\u001B[1;32m    716\u001B[0m     key\u001B[38;5;241m=\u001B[39m\u001B[38;5;28;01mlambda\u001B[39;00m item: item[\u001B[38;5;241m0\u001B[39m]\u001B[38;5;241m.\u001B[39mdevice_id \u001B[38;5;241m+\u001B[39m \u001B[38;5;28mstr\u001B[39m(item[\u001B[38;5;241m0\u001B[39m]\u001B[38;5;241m.\u001B[39mawg_number),\n\u001B[1;32m    717\u001B[0m ):\n\u001B[0;32m--> 718\u001B[0m     \u001B[38;5;28;43mself\u001B[39;49m\u001B[38;5;241;43m.\u001B[39;49m\u001B[43m_gen_seq_c_per_awg\u001B[49m\u001B[43m(\u001B[49m\u001B[43mawg\u001B[49m\u001B[43m,\u001B[49m\u001B[43m \u001B[49m\u001B[43mevents\u001B[49m\u001B[43m,\u001B[49m\u001B[43m \u001B[49m\u001B[43mpulse_defs\u001B[49m\u001B[43m)\u001B[49m\n\u001B[1;32m    720\u001B[0m tgt_feedback_regs \u001B[38;5;241m=\u001B[39m \u001B[38;5;28mself\u001B[39m\u001B[38;5;241m.\u001B[39m_feedback_register_allocator\u001B[38;5;241m.\u001B[39mtarget_feedback_registers\n\u001B[1;32m    721\u001B[0m \u001B[38;5;28;01mfor\u001B[39;00m awg, target_fb_register \u001B[38;5;129;01min\u001B[39;00m tgt_feedback_regs\u001B[38;5;241m.\u001B[39mitems():\n",
      "File \u001B[0;32m~/Projects/Envs/SydneyQuantum/lib/python3.12/site-packages/laboneq/compiler/code_generator/code_generator.py:1241\u001B[0m, in \u001B[0;36mCodeGenerator._gen_seq_c_per_awg\u001B[0;34m(self, awg, events, pulse_defs)\u001B[0m\n\u001B[1;32m   1223\u001B[0m     sub_channel \u001B[38;5;241m=\u001B[39m \u001B[38;5;28;01mNone\u001B[39;00m\n\u001B[1;32m   1224\u001B[0m interval_events \u001B[38;5;241m=\u001B[39m analyze_play_wave_times(\n\u001B[1;32m   1225\u001B[0m     events\u001B[38;5;241m=\u001B[39mevents,\n\u001B[1;32m   1226\u001B[0m     signals\u001B[38;5;241m=\u001B[39m{signal_obj\u001B[38;5;241m.\u001B[39mid: signal_obj},\n\u001B[0;32m   (...)\u001B[0m\n\u001B[1;32m   1238\u001B[0m     use_amplitude_increment\u001B[38;5;241m=\u001B[39m\u001B[38;5;28mself\u001B[39m\u001B[38;5;241m.\u001B[39m_settings\u001B[38;5;241m.\u001B[39mUSE_AMPLITUDE_INCREMENT,\n\u001B[1;32m   1239\u001B[0m )\n\u001B[0;32m-> 1241\u001B[0m sampled_signatures \u001B[38;5;241m=\u001B[39m \u001B[38;5;28;43mself\u001B[39;49m\u001B[38;5;241;43m.\u001B[39;49m\u001B[43m_sample_pulses\u001B[49m\u001B[43m(\u001B[49m\n\u001B[1;32m   1242\u001B[0m \u001B[43m    \u001B[49m\u001B[43msignal_obj\u001B[49m\u001B[38;5;241;43m.\u001B[39;49m\u001B[43mid\u001B[49m\u001B[43m,\u001B[49m\n\u001B[1;32m   1243\u001B[0m \u001B[43m    \u001B[49m\u001B[43minterval_events\u001B[49m\u001B[43m,\u001B[49m\n\u001B[1;32m   1244\u001B[0m \u001B[43m    \u001B[49m\u001B[43mpulse_defs\u001B[49m\u001B[38;5;241;43m=\u001B[39;49m\u001B[43mpulse_defs\u001B[49m\u001B[43m,\u001B[49m\n\u001B[1;32m   1245\u001B[0m \u001B[43m    \u001B[49m\u001B[43msampling_rate\u001B[49m\u001B[38;5;241;43m=\u001B[39;49m\u001B[43msignal_obj\u001B[49m\u001B[38;5;241;43m.\u001B[39;49m\u001B[43mawg\u001B[49m\u001B[38;5;241;43m.\u001B[39;49m\u001B[43msampling_rate\u001B[49m\u001B[43m,\u001B[49m\n\u001B[1;32m   1246\u001B[0m \u001B[43m    \u001B[49m\u001B[43msignal_type\u001B[49m\u001B[38;5;241;43m=\u001B[39;49m\u001B[43msignal_obj\u001B[49m\u001B[38;5;241;43m.\u001B[39;49m\u001B[43msignal_type\u001B[49m\u001B[43m,\u001B[49m\n\u001B[1;32m   1247\u001B[0m \u001B[43m    \u001B[49m\u001B[43mdevice_type\u001B[49m\u001B[38;5;241;43m=\u001B[39;49m\u001B[43msignal_obj\u001B[49m\u001B[38;5;241;43m.\u001B[39;49m\u001B[43mawg\u001B[49m\u001B[38;5;241;43m.\u001B[39;49m\u001B[43mdevice_type\u001B[49m\u001B[43m,\u001B[49m\n\u001B[1;32m   1248\u001B[0m \u001B[43m    \u001B[49m\u001B[43mmixer_type\u001B[49m\u001B[38;5;241;43m=\u001B[39;49m\u001B[43msignal_obj\u001B[49m\u001B[38;5;241;43m.\u001B[39;49m\u001B[43mmixer_type\u001B[49m\u001B[43m,\u001B[49m\n\u001B[1;32m   1249\u001B[0m \u001B[43m\u001B[49m\u001B[43m)\u001B[49m\n\u001B[1;32m   1251\u001B[0m \u001B[38;5;28mself\u001B[39m\u001B[38;5;241m.\u001B[39m_sampled_signatures[signal_obj\u001B[38;5;241m.\u001B[39mid] \u001B[38;5;241m=\u001B[39m sampled_signatures\n\u001B[1;32m   1252\u001B[0m sampled_events\u001B[38;5;241m.\u001B[39mmerge(interval_events)\n",
      "File \u001B[0;32m~/Projects/Envs/SydneyQuantum/lib/python3.12/site-packages/laboneq/compiler/code_generator/code_generator.py:1583\u001B[0m, in \u001B[0;36mCodeGenerator._sample_pulses\u001B[0;34m(self, signal_id, interval_events, pulse_defs, sampling_rate, signal_type, device_type, mixer_type, multi_iq_signal)\u001B[0m\n\u001B[1;32m   1575\u001B[0m samples \u001B[38;5;241m=\u001B[39m pulse_def\u001B[38;5;241m.\u001B[39msamples\n\u001B[1;32m   1577\u001B[0m decoded_pulse_parameters \u001B[38;5;241m=\u001B[39m decode_pulse_parameters(\n\u001B[1;32m   1578\u001B[0m     {}\n\u001B[1;32m   1579\u001B[0m     \u001B[38;5;28;01mif\u001B[39;00m pulse_part\u001B[38;5;241m.\u001B[39mpulse_parameters \u001B[38;5;129;01mis\u001B[39;00m \u001B[38;5;28;01mNone\u001B[39;00m\n\u001B[1;32m   1580\u001B[0m     \u001B[38;5;28;01melse\u001B[39;00m {k: v \u001B[38;5;28;01mfor\u001B[39;00m k, v \u001B[38;5;129;01min\u001B[39;00m pulse_part\u001B[38;5;241m.\u001B[39mpulse_parameters}\n\u001B[1;32m   1581\u001B[0m )\n\u001B[0;32m-> 1583\u001B[0m sampled_pulse \u001B[38;5;241m=\u001B[39m \u001B[43msample_pulse\u001B[49m\u001B[43m(\u001B[49m\n\u001B[1;32m   1584\u001B[0m \u001B[43m    \u001B[49m\u001B[43msignal_type\u001B[49m\u001B[38;5;241;43m=\u001B[39;49m\u001B[43msampling_signal_type\u001B[49m\u001B[43m,\u001B[49m\n\u001B[1;32m   1585\u001B[0m \u001B[43m    \u001B[49m\u001B[43msampling_rate\u001B[49m\u001B[38;5;241;43m=\u001B[39;49m\u001B[43msampling_rate\u001B[49m\u001B[43m,\u001B[49m\n\u001B[1;32m   1586\u001B[0m \u001B[43m    \u001B[49m\u001B[43mamplitude\u001B[49m\u001B[38;5;241;43m=\u001B[39;49m\u001B[43mamplitude\u001B[49m\u001B[43m,\u001B[49m\n\u001B[1;32m   1587\u001B[0m \u001B[43m    \u001B[49m\u001B[43mlength\u001B[49m\u001B[38;5;241;43m=\u001B[39;49m\u001B[43mpulse_part\u001B[49m\u001B[38;5;241;43m.\u001B[39;49m\u001B[43mlength\u001B[49m\u001B[43m \u001B[49m\u001B[38;5;241;43m/\u001B[39;49m\u001B[43m \u001B[49m\u001B[43msampling_rate\u001B[49m\u001B[43m,\u001B[49m\n\u001B[1;32m   1588\u001B[0m \u001B[43m    \u001B[49m\u001B[43mpulse_function\u001B[49m\u001B[38;5;241;43m=\u001B[39;49m\u001B[43mpulse_def\u001B[49m\u001B[38;5;241;43m.\u001B[39;49m\u001B[43mfunction\u001B[49m\u001B[43m,\u001B[49m\n\u001B[1;32m   1589\u001B[0m \u001B[43m    \u001B[49m\u001B[43mmodulation_frequency\u001B[49m\u001B[38;5;241;43m=\u001B[39;49m\u001B[43mused_oscillator_frequency\u001B[49m\u001B[43m,\u001B[49m\n\u001B[1;32m   1590\u001B[0m \u001B[43m    \u001B[49m\u001B[43mphase\u001B[49m\u001B[38;5;241;43m=\u001B[39;49m\u001B[43miq_phase\u001B[49m\u001B[43m,\u001B[49m\n\u001B[1;32m   1591\u001B[0m \u001B[43m    \u001B[49m\u001B[43msamples\u001B[49m\u001B[38;5;241;43m=\u001B[39;49m\u001B[43msamples\u001B[49m\u001B[43m,\u001B[49m\n\u001B[1;32m   1592\u001B[0m \u001B[43m    \u001B[49m\u001B[43mmixer_type\u001B[49m\u001B[38;5;241;43m=\u001B[39;49m\u001B[43mmixer_type\u001B[49m\u001B[43m,\u001B[49m\n\u001B[1;32m   1593\u001B[0m \u001B[43m    \u001B[49m\u001B[43mpulse_parameters\u001B[49m\u001B[38;5;241;43m=\u001B[39;49m\u001B[43mdecoded_pulse_parameters\u001B[49m\u001B[43m,\u001B[49m\n\u001B[1;32m   1594\u001B[0m \u001B[43m    \u001B[49m\u001B[43mmarkers\u001B[49m\u001B[38;5;241;43m=\u001B[39;49m\u001B[38;5;28;43;01mNone\u001B[39;49;00m\n\u001B[1;32m   1595\u001B[0m \u001B[43m    \u001B[49m\u001B[38;5;28;43;01mif\u001B[39;49;00m\u001B[43m \u001B[49m\u001B[38;5;129;43;01mnot\u001B[39;49;00m\u001B[43m \u001B[49m\u001B[43mpulse_part\u001B[49m\u001B[38;5;241;43m.\u001B[39;49m\u001B[43mmarkers\u001B[49m\n\u001B[1;32m   1596\u001B[0m \u001B[43m    \u001B[49m\u001B[38;5;28;43;01melse\u001B[39;49;00m\u001B[43m \u001B[49m\u001B[43m[\u001B[49m\u001B[43m{\u001B[49m\u001B[43mk\u001B[49m\u001B[43m:\u001B[49m\u001B[43m \u001B[49m\u001B[43mv\u001B[49m\u001B[43m \u001B[49m\u001B[38;5;28;43;01mfor\u001B[39;49;00m\u001B[43m \u001B[49m\u001B[43mk\u001B[49m\u001B[43m,\u001B[49m\u001B[43m \u001B[49m\u001B[43mv\u001B[49m\u001B[43m \u001B[49m\u001B[38;5;129;43;01min\u001B[39;49;00m\u001B[43m \u001B[49m\u001B[43mm\u001B[49m\u001B[43m}\u001B[49m\u001B[43m \u001B[49m\u001B[38;5;28;43;01mfor\u001B[39;49;00m\u001B[43m \u001B[49m\u001B[43mm\u001B[49m\u001B[43m \u001B[49m\u001B[38;5;129;43;01min\u001B[39;49;00m\u001B[43m \u001B[49m\u001B[43mpulse_part\u001B[49m\u001B[38;5;241;43m.\u001B[39;49m\u001B[43mmarkers\u001B[49m\u001B[43m]\u001B[49m\u001B[43m,\u001B[49m\n\u001B[1;32m   1597\u001B[0m \u001B[43m\u001B[49m\u001B[43m)\u001B[49m\n\u001B[1;32m   1599\u001B[0m verify_amplitude_no_clipping(\n\u001B[1;32m   1600\u001B[0m     sampled_pulse, pulse_def\u001B[38;5;241m.\u001B[39muid, mixer_type, signal_id\n\u001B[1;32m   1601\u001B[0m )\n\u001B[1;32m   1603\u001B[0m \u001B[38;5;28;01mif\u001B[39;00m \u001B[38;5;124m\"\u001B[39m\u001B[38;5;124msamples_q\u001B[39m\u001B[38;5;124m\"\u001B[39m \u001B[38;5;129;01min\u001B[39;00m sampled_pulse \u001B[38;5;129;01mand\u001B[39;00m \u001B[38;5;28mlen\u001B[39m(\n\u001B[1;32m   1604\u001B[0m     sampled_pulse[\u001B[38;5;124m\"\u001B[39m\u001B[38;5;124msamples_i\u001B[39m\u001B[38;5;124m\"\u001B[39m]\n\u001B[1;32m   1605\u001B[0m ) \u001B[38;5;241m!=\u001B[39m \u001B[38;5;28mlen\u001B[39m(sampled_pulse[\u001B[38;5;124m\"\u001B[39m\u001B[38;5;124msamples_q\u001B[39m\u001B[38;5;124m\"\u001B[39m]):\n",
      "File \u001B[0;32m~/Projects/Envs/SydneyQuantum/lib/python3.12/site-packages/laboneq/core/utilities/pulse_sampler.py:130\u001B[0m, in \u001B[0;36msample_pulse\u001B[0;34m(signal_type, sampling_rate, length, amplitude, pulse_function, modulation_frequency, phase, samples, mixer_type, pulse_parameters, markers)\u001B[0m\n\u001B[1;32m    125\u001B[0m     pulse_parameters \u001B[38;5;241m=\u001B[39m {\n\u001B[1;32m    126\u001B[0m         k: v \u001B[38;5;28;01mfor\u001B[39;00m (k, v) \u001B[38;5;129;01min\u001B[39;00m pulse_parameters\u001B[38;5;241m.\u001B[39mitems() \u001B[38;5;28;01mif\u001B[39;00m k \u001B[38;5;241m!=\u001B[39m \u001B[38;5;124m\"\u001B[39m\u001B[38;5;124mamplitude\u001B[39m\u001B[38;5;124m\"\u001B[39m\n\u001B[1;32m    127\u001B[0m     }\n\u001B[1;32m    129\u001B[0m \u001B[38;5;28;01mif\u001B[39;00m pulse_function \u001B[38;5;129;01mis\u001B[39;00m \u001B[38;5;129;01mnot\u001B[39;00m \u001B[38;5;28;01mNone\u001B[39;00m:\n\u001B[0;32m--> 130\u001B[0m     samples \u001B[38;5;241m=\u001B[39m \u001B[43mpulse_function_library\u001B[49m\u001B[43m[\u001B[49m\u001B[43mpulse_function\u001B[49m\u001B[43m]\u001B[49m\u001B[43m(\u001B[49m\n\u001B[1;32m    131\u001B[0m \u001B[43m        \u001B[49m\u001B[43mnp\u001B[49m\u001B[38;5;241;43m.\u001B[39;49m\u001B[43mlinspace\u001B[49m\u001B[43m(\u001B[49m\u001B[38;5;241;43m-\u001B[39;49m\u001B[38;5;241;43m1\u001B[39;49m\u001B[43m,\u001B[49m\u001B[43m \u001B[49m\u001B[38;5;241;43m1\u001B[39;49m\u001B[43m,\u001B[49m\u001B[43m \u001B[49m\u001B[43mnum_samples\u001B[49m\u001B[43m,\u001B[49m\u001B[43m \u001B[49m\u001B[43mendpoint\u001B[49m\u001B[38;5;241;43m=\u001B[39;49m\u001B[38;5;28;43;01mFalse\u001B[39;49;00m\u001B[43m)\u001B[49m\u001B[43m,\u001B[49m\n\u001B[1;32m    132\u001B[0m \u001B[43m        \u001B[49m\u001B[43mlength\u001B[49m\u001B[38;5;241;43m=\u001B[39;49m\u001B[43mlength\u001B[49m\u001B[43m,\u001B[49m\n\u001B[1;32m    133\u001B[0m \u001B[43m        \u001B[49m\u001B[43mamplitude\u001B[49m\u001B[38;5;241;43m=\u001B[39;49m\u001B[43mamplitude\u001B[49m\u001B[43m,\u001B[49m\n\u001B[1;32m    134\u001B[0m \u001B[43m        \u001B[49m\u001B[43msampling_rate\u001B[49m\u001B[38;5;241;43m=\u001B[39;49m\u001B[43msampling_rate\u001B[49m\u001B[43m,\u001B[49m\n\u001B[1;32m    135\u001B[0m \u001B[43m        \u001B[49m\u001B[38;5;241;43m*\u001B[39;49m\u001B[38;5;241;43m*\u001B[39;49m\u001B[43mpulse_parameters\u001B[49m\u001B[43m,\u001B[49m\n\u001B[1;32m    136\u001B[0m \u001B[43m    \u001B[49m\u001B[43m)\u001B[49m\n\u001B[1;32m    137\u001B[0m \u001B[38;5;28;01massert\u001B[39;00m \u001B[38;5;28misinstance\u001B[39m(samples, (\u001B[38;5;28mlist\u001B[39m, np\u001B[38;5;241m.\u001B[39mndarray))\n\u001B[1;32m    138\u001B[0m samples \u001B[38;5;241m=\u001B[39m np\u001B[38;5;241m.\u001B[39marray(samples[:num_samples])\n",
      "File \u001B[0;32m~/Projects/Envs/SydneyQuantum/lib/python3.12/site-packages/laboneq/dsl/experiment/pulse_library.py:171\u001B[0m, in \u001B[0;36mgaussian_square\u001B[0;34m(x, sigma, width, zero_boundaries, **_)\u001B[0m\n\u001B[1;32m    168\u001B[0m length \u001B[38;5;241m=\u001B[39m _[\u001B[38;5;124m\"\u001B[39m\u001B[38;5;124mlength\u001B[39m\u001B[38;5;124m\"\u001B[39m]\n\u001B[1;32m    170\u001B[0m \u001B[38;5;28;01mif\u001B[39;00m width \u001B[38;5;129;01mis\u001B[39;00m \u001B[38;5;129;01mnot\u001B[39;00m \u001B[38;5;28;01mNone\u001B[39;00m \u001B[38;5;129;01mand\u001B[39;00m width \u001B[38;5;241m>\u001B[39m\u001B[38;5;241m=\u001B[39m length:\n\u001B[0;32m--> 171\u001B[0m     \u001B[38;5;28;01mraise\u001B[39;00m \u001B[38;5;167;01mValueError\u001B[39;00m(\n\u001B[1;32m    172\u001B[0m         \u001B[38;5;124m\"\u001B[39m\u001B[38;5;124mThe width of the flat portion of the pulse must be smaller than the total length.\u001B[39m\u001B[38;5;124m\"\u001B[39m\n\u001B[1;32m    173\u001B[0m     )\n\u001B[1;32m    175\u001B[0m \u001B[38;5;28;01mif\u001B[39;00m width \u001B[38;5;129;01mis\u001B[39;00m \u001B[38;5;28;01mNone\u001B[39;00m:\n\u001B[1;32m    176\u001B[0m     width \u001B[38;5;241m=\u001B[39m \u001B[38;5;241m0.9\u001B[39m \u001B[38;5;241m*\u001B[39m length\n",
      "\u001B[0;31mValueError\u001B[0m: The width of the flat portion of the pulse must be smaller than the total length."
     ]
    }
   ],
   "source": [
    "# parameters if output waveforms is pulse\n",
    "envelop_duration = 2e-6\n",
    "envelop_amplitude = 1\n",
    "envelop_width = envelop_duration\n",
    "envelop_waveform  = pulse_library.gaussian_square(uid = \"readout_envelop_q0\", length = envelop_duration, amplitude = envelop_amplitude, width = envelop_width, sigma = 0.2)\n",
    "\n",
    "exp_params_pulse_res_spec = exp_params_res\n",
    "exp_params_pulse_res_spec.update({\n",
    "    \"exp_name\": \"pulse\",\n",
    "    \"readout_pulse\": envelop_waveform,\n",
    "    \"wait_after_int\": 5e-6,\n",
    "    \"ro_osc_gain\": 0.9,\n",
    "    \"integration_time\": integration_time,\n",
    "})\n",
    "\n",
    "results_pulse_res = res_spectroscopy(session, exp_params_pulse_res_spec)\n",
    "\n",
    "f = np.transpose(np.array(results_pulse_res.acquired_results[exp_params_pulse_res_spec[\"exp_name\"]].axis))\n",
    "data  = results_pulse_res.acquired_results[exp_params_pulse_res_spec[\"exp_name\"]].data\n",
    "plot_sweeper(f + qudits_params[\"ro_cent_f\"], data)"
   ]
  },
  {
   "cell_type": "markdown",
   "id": "dae7bf9b",
   "metadata": {},
   "source": [
    "### Sweep frequency and power (2D)"
   ]
  },
  {
   "cell_type": "code",
   "execution_count": 11,
   "id": "57a5ce66",
   "metadata": {
    "ExecuteTime": {
     "end_time": "2024-02-22T05:03:37.145647Z",
     "start_time": "2024-02-22T05:03:36.377311Z"
    }
   },
   "outputs": [
    {
     "name": "stdout",
     "output_type": "stream",
     "text": [
      "[2024.02.22 16:03:36.377] INFO    Starting LabOne Q Compiler run...\n",
      "[2024.02.22 16:03:36.490] INFO    Schedule completed\n"
     ]
    },
    {
     "ename": "ValueError",
     "evalue": "The width of the flat portion of the pulse must be smaller than the total length.",
     "output_type": "error",
     "traceback": [
      "\u001B[0;31m---------------------------------------------------------------------------\u001B[0m",
      "\u001B[0;31mValueError\u001B[0m                                Traceback (most recent call last)",
      "Cell \u001B[0;32mIn[11], line 14\u001B[0m\n\u001B[1;32m      6\u001B[0m exp_params_2d_res_spec \u001B[38;5;241m=\u001B[39m exp_params_res\n\u001B[1;32m      7\u001B[0m exp_params_2d_res_spec\u001B[38;5;241m.\u001B[39mupdate({\n\u001B[1;32m      8\u001B[0m     \u001B[38;5;124m\"\u001B[39m\u001B[38;5;124mexp_name\u001B[39m\u001B[38;5;124m\"\u001B[39m: \u001B[38;5;124m\"\u001B[39m\u001B[38;5;124m2D pulse spec\u001B[39m\u001B[38;5;124m\"\u001B[39m, \u001B[38;5;66;03m# or \"2D cw spec\"\u001B[39;00m\n\u001B[1;32m      9\u001B[0m     \u001B[38;5;124m\"\u001B[39m\u001B[38;5;124mreadout_pulse\u001B[39m\u001B[38;5;124m\"\u001B[39m: envelop_waveform,\n\u001B[1;32m     10\u001B[0m     \u001B[38;5;124m\"\u001B[39m\u001B[38;5;124mwait_after_int\u001B[39m\u001B[38;5;124m\"\u001B[39m: \u001B[38;5;241m5e-6\u001B[39m,\n\u001B[1;32m     11\u001B[0m     \u001B[38;5;124m\"\u001B[39m\u001B[38;5;124mamp_sweep\u001B[39m\u001B[38;5;124m\"\u001B[39m: amp_sweep,\n\u001B[1;32m     12\u001B[0m })\n\u001B[0;32m---> 14\u001B[0m results_2d_res \u001B[38;5;241m=\u001B[39m \u001B[43mres_spectroscopy\u001B[49m\u001B[43m(\u001B[49m\u001B[43msession\u001B[49m\u001B[43m,\u001B[49m\u001B[43m \u001B[49m\u001B[43mexp_params_2d_res_spec\u001B[49m\u001B[43m)\u001B[49m\n\u001B[1;32m     16\u001B[0m data  \u001B[38;5;241m=\u001B[39m results_2d_res\u001B[38;5;241m.\u001B[39macquired_results[exp_params_2d_res_spec[\u001B[38;5;124m\"\u001B[39m\u001B[38;5;124mexp_name\u001B[39m\u001B[38;5;124m\"\u001B[39m]]\u001B[38;5;241m.\u001B[39mdata\n\u001B[1;32m     17\u001B[0m x \u001B[38;5;241m=\u001B[39m results_2d_res\u001B[38;5;241m.\u001B[39macquired_results[exp_params_2d_res_spec[\u001B[38;5;124m\"\u001B[39m\u001B[38;5;124mexp_name\u001B[39m\u001B[38;5;124m\"\u001B[39m]]\u001B[38;5;241m.\u001B[39maxis[\u001B[38;5;241m1\u001B[39m]\n",
      "Cell \u001B[0;32mIn[7], line 208\u001B[0m, in \u001B[0;36mres_spectroscopy\u001B[0;34m(session, exp_params)\u001B[0m\n\u001B[1;32m    202\u001B[0m cal[\u001B[38;5;124m\"\u001B[39m\u001B[38;5;124macquire\u001B[39m\u001B[38;5;124m\"\u001B[39m] \u001B[38;5;241m=\u001B[39m SignalCalibration(\n\u001B[1;32m    203\u001B[0m     local_oscillator \u001B[38;5;241m=\u001B[39m Oscillator(\u001B[38;5;124m\"\u001B[39m\u001B[38;5;124mro_cent_f_acquire\u001B[39m\u001B[38;5;124m\"\u001B[39m, frequency \u001B[38;5;241m=\u001B[39m exp_params[\u001B[38;5;124m\"\u001B[39m\u001B[38;5;124mro_cent_f\u001B[39m\u001B[38;5;124m\"\u001B[39m]),\n\u001B[1;32m    204\u001B[0m     \u001B[38;5;28mrange\u001B[39m \u001B[38;5;241m=\u001B[39m exp_params[\u001B[38;5;124m\"\u001B[39m\u001B[38;5;124mro_pin_range\u001B[39m\u001B[38;5;124m\"\u001B[39m]\n\u001B[1;32m    205\u001B[0m )\n\u001B[1;32m    206\u001B[0m exp\u001B[38;5;241m.\u001B[39mset_calibration(cal)\n\u001B[0;32m--> 208\u001B[0m results \u001B[38;5;241m=\u001B[39m \u001B[43mcompile_run\u001B[49m\u001B[43m(\u001B[49m\u001B[43msession\u001B[49m\u001B[43m,\u001B[49m\u001B[43m \u001B[49m\u001B[43mexp_params\u001B[49m\u001B[43m,\u001B[49m\u001B[43m \u001B[49m\u001B[43mexp\u001B[49m\u001B[43m)\u001B[49m\n\u001B[1;32m    210\u001B[0m \u001B[38;5;28;01mreturn\u001B[39;00m results\n",
      "Cell \u001B[0;32mIn[7], line 80\u001B[0m, in \u001B[0;36mcompile_run\u001B[0;34m(session, exp_params, exp)\u001B[0m\n\u001B[1;32m     77\u001B[0m \u001B[38;5;28;01mif\u001B[39;00m \u001B[38;5;124m\"\u001B[39m\u001B[38;5;124mrb\u001B[39m\u001B[38;5;124m\"\u001B[39m \u001B[38;5;129;01min\u001B[39;00m exp_params[\u001B[38;5;124m\"\u001B[39m\u001B[38;5;124mexp_name\u001B[39m\u001B[38;5;124m\"\u001B[39m]:\n\u001B[1;32m     78\u001B[0m     compiler_settings \u001B[38;5;241m=\u001B[39m {\u001B[38;5;124m\"\u001B[39m\u001B[38;5;124mSHFSG_MIN_PLAYWAVE_HINT\u001B[39m\u001B[38;5;124m\"\u001B[39m: \u001B[38;5;241m256\u001B[39m}\n\u001B[0;32m---> 80\u001B[0m compiled_exp \u001B[38;5;241m=\u001B[39m \u001B[43msession\u001B[49m\u001B[38;5;241;43m.\u001B[39;49m\u001B[43mcompile\u001B[49m\u001B[43m(\u001B[49m\u001B[43mexp\u001B[49m\u001B[43m,\u001B[49m\u001B[43m \u001B[49m\u001B[43mcompiler_settings\u001B[49m\u001B[43m \u001B[49m\u001B[38;5;241;43m=\u001B[39;49m\u001B[43m \u001B[49m\u001B[43mcompiler_settings\u001B[49m\u001B[43m)\u001B[49m\n\u001B[1;32m     81\u001B[0m results \u001B[38;5;241m=\u001B[39m session\u001B[38;5;241m.\u001B[39mrun(compiled_exp)    \n\u001B[1;32m     82\u001B[0m Path(\u001B[38;5;124m\"\u001B[39m\u001B[38;5;124mPulse_Sheets\u001B[39m\u001B[38;5;124m\"\u001B[39m)\u001B[38;5;241m.\u001B[39mmkdir(parents\u001B[38;5;241m=\u001B[39m\u001B[38;5;28;01mTrue\u001B[39;00m, exist_ok\u001B[38;5;241m=\u001B[39m\u001B[38;5;28;01mTrue\u001B[39;00m)\n",
      "File \u001B[0;32m~/Projects/Envs/SydneyQuantum/lib/python3.12/site-packages/laboneq/_observability/tracing/_tracer.py:75\u001B[0m, in \u001B[0;36mtrace.<locals>.outer_wrapper.<locals>.wrapper\u001B[0;34m(*args, **kwargs)\u001B[0m\n\u001B[1;32m     73\u001B[0m             tracing\u001B[38;5;241m.\u001B[39menable_tracing()\n\u001B[1;32m     74\u001B[0m         \u001B[38;5;28;01mreturn\u001B[39;00m res\n\u001B[0;32m---> 75\u001B[0m \u001B[38;5;28;01mreturn\u001B[39;00m \u001B[43mfunc\u001B[49m\u001B[43m(\u001B[49m\u001B[38;5;241;43m*\u001B[39;49m\u001B[43margs\u001B[49m\u001B[43m,\u001B[49m\u001B[43m \u001B[49m\u001B[38;5;241;43m*\u001B[39;49m\u001B[38;5;241;43m*\u001B[39;49m\u001B[43mkwargs\u001B[49m\u001B[43m)\u001B[49m\n",
      "File \u001B[0;32m~/Projects/Envs/SydneyQuantum/lib/python3.12/site-packages/laboneq/dsl/session.py:337\u001B[0m, in \u001B[0;36mSession.compile\u001B[0;34m(self, experiment, compiler_settings)\u001B[0m\n\u001B[1;32m    335\u001B[0m \u001B[38;5;28mself\u001B[39m\u001B[38;5;241m.\u001B[39m_assert_connected(fail\u001B[38;5;241m=\u001B[39m\u001B[38;5;28;01mTrue\u001B[39;00m)\n\u001B[1;32m    336\u001B[0m \u001B[38;5;28mself\u001B[39m\u001B[38;5;241m.\u001B[39m_experiment_definition \u001B[38;5;241m=\u001B[39m experiment\n\u001B[0;32m--> 337\u001B[0m \u001B[38;5;28mself\u001B[39m\u001B[38;5;241m.\u001B[39m_compiled_experiment \u001B[38;5;241m=\u001B[39m \u001B[43mLabOneQFacade\u001B[49m\u001B[38;5;241;43m.\u001B[39;49m\u001B[43mcompile\u001B[49m\u001B[43m(\u001B[49m\n\u001B[1;32m    338\u001B[0m \u001B[43m    \u001B[49m\u001B[38;5;28;43mself\u001B[39;49m\u001B[43m,\u001B[49m\u001B[43m \u001B[49m\u001B[38;5;28;43mself\u001B[39;49m\u001B[38;5;241;43m.\u001B[39;49m\u001B[43mlogger\u001B[49m\u001B[43m,\u001B[49m\u001B[43m \u001B[49m\u001B[43mcompiler_settings\u001B[49m\u001B[38;5;241;43m=\u001B[39;49m\u001B[43mcompiler_settings\u001B[49m\n\u001B[1;32m    339\u001B[0m \u001B[43m\u001B[49m\u001B[43m)\u001B[49m\n\u001B[1;32m    340\u001B[0m \u001B[38;5;28mself\u001B[39m\u001B[38;5;241m.\u001B[39m_last_results \u001B[38;5;241m=\u001B[39m \u001B[38;5;28;01mNone\u001B[39;00m\n\u001B[1;32m    341\u001B[0m \u001B[38;5;28;01mreturn\u001B[39;00m \u001B[38;5;28mself\u001B[39m\u001B[38;5;241m.\u001B[39m_compiled_experiment\n",
      "File \u001B[0;32m~/Projects/Envs/SydneyQuantum/lib/python3.12/site-packages/laboneq/dsl/laboneq_facade.py:71\u001B[0m, in \u001B[0;36mLabOneQFacade.compile\u001B[0;34m(session, logger, compiler_settings)\u001B[0m\n\u001B[1;32m     68\u001B[0m signal_mapping \u001B[38;5;241m=\u001B[39m convert_signal_map(session\u001B[38;5;241m.\u001B[39mexperiment)\n\u001B[1;32m     70\u001B[0m payload_builder \u001B[38;5;241m=\u001B[39m ApplicationManager\u001B[38;5;241m.\u001B[39minstance()\u001B[38;5;241m.\u001B[39mpayload_builder()\n\u001B[0;32m---> 71\u001B[0m payload \u001B[38;5;241m=\u001B[39m \u001B[43mpayload_builder\u001B[49m\u001B[38;5;241;43m.\u001B[39;49m\u001B[43mbuild_payload\u001B[49m\u001B[43m(\u001B[49m\n\u001B[1;32m     72\u001B[0m \u001B[43m    \u001B[49m\u001B[43mnew_setup\u001B[49m\u001B[43m,\u001B[49m\n\u001B[1;32m     73\u001B[0m \u001B[43m    \u001B[49m\u001B[43mnew_experiment\u001B[49m\u001B[43m,\u001B[49m\n\u001B[1;32m     74\u001B[0m \u001B[43m    \u001B[49m\u001B[43msignal_mapping\u001B[49m\u001B[43m,\u001B[49m\n\u001B[1;32m     75\u001B[0m \u001B[43m    \u001B[49m\u001B[43mcompiler_settings\u001B[49m\u001B[43m,\u001B[49m\n\u001B[1;32m     76\u001B[0m \u001B[43m\u001B[49m\u001B[43m)\u001B[49m\n\u001B[1;32m     78\u001B[0m compiled_experiment \u001B[38;5;241m=\u001B[39m CompiledExperiment(\n\u001B[1;32m     79\u001B[0m     device_setup\u001B[38;5;241m=\u001B[39msession\u001B[38;5;241m.\u001B[39mdevice_setup,\n\u001B[1;32m     80\u001B[0m     experiment\u001B[38;5;241m=\u001B[39msession\u001B[38;5;241m.\u001B[39mexperiment,\n\u001B[1;32m     81\u001B[0m     experiment_dict\u001B[38;5;241m=\u001B[39m\u001B[38;5;28;01mNone\u001B[39;00m,  \u001B[38;5;66;03m# deprecated\u001B[39;00m\n\u001B[1;32m     82\u001B[0m     scheduled_experiment\u001B[38;5;241m=\u001B[39mpayload\u001B[38;5;241m.\u001B[39mscheduled_experiment,\n\u001B[1;32m     83\u001B[0m )\n\u001B[1;32m     84\u001B[0m \u001B[38;5;28;01mreturn\u001B[39;00m compiled_experiment\n",
      "File \u001B[0;32m~/Projects/Envs/SydneyQuantum/lib/python3.12/site-packages/laboneq/implementation/payload_builder/payload_builder.py:50\u001B[0m, in \u001B[0;36mPayloadBuilder.build_payload\u001B[0;34m(self, device_setup, experiment, signal_mappings, compiler_settings)\u001B[0m\n\u001B[1;32m     44\u001B[0m     experiment\u001B[38;5;241m.\u001B[39msignals \u001B[38;5;241m=\u001B[39m []\n\u001B[1;32m     46\u001B[0m job \u001B[38;5;241m=\u001B[39m \u001B[38;5;28mself\u001B[39m\u001B[38;5;241m.\u001B[39mcreate_compilation_job(\n\u001B[1;32m     47\u001B[0m     device_setup, experiment, signal_mappings, compiler_settings\n\u001B[1;32m     48\u001B[0m )\n\u001B[0;32m---> 50\u001B[0m job_id \u001B[38;5;241m=\u001B[39m \u001B[38;5;28;43mself\u001B[39;49m\u001B[38;5;241;43m.\u001B[39;49m\u001B[43m_compilation_service\u001B[49m\u001B[38;5;241;43m.\u001B[39;49m\u001B[43msubmit_compilation_job\u001B[49m\u001B[43m(\u001B[49m\u001B[43mjob\u001B[49m\u001B[43m)\u001B[49m\n\u001B[1;32m     52\u001B[0m scheduled_experiment \u001B[38;5;241m=\u001B[39m \u001B[38;5;28mself\u001B[39m\u001B[38;5;241m.\u001B[39m_compilation_service\u001B[38;5;241m.\u001B[39mcompilation_job_result(job_id)\n\u001B[1;32m     54\u001B[0m target_setup \u001B[38;5;241m=\u001B[39m TargetSetupGenerator\u001B[38;5;241m.\u001B[39mfrom_setup(device_setup)\n",
      "File \u001B[0;32m~/Projects/Envs/SydneyQuantum/lib/python3.12/site-packages/laboneq/implementation/compilation_service/compilation_service_legacy.py:29\u001B[0m, in \u001B[0;36mCompilationServiceLegacy.submit_compilation_job\u001B[0;34m(self, job)\u001B[0m\n\u001B[1;32m     27\u001B[0m queue_entry \u001B[38;5;241m=\u001B[39m {\u001B[38;5;124m\"\u001B[39m\u001B[38;5;124mjob_id\u001B[39m\u001B[38;5;124m\"\u001B[39m: job_id, \u001B[38;5;124m\"\u001B[39m\u001B[38;5;124mjob\u001B[39m\u001B[38;5;124m\"\u001B[39m: job}\n\u001B[1;32m     28\u001B[0m compiler \u001B[38;5;241m=\u001B[39m Compiler(job\u001B[38;5;241m.\u001B[39mcompiler_settings)\n\u001B[0;32m---> 29\u001B[0m compiler_output \u001B[38;5;241m=\u001B[39m \u001B[43mcompiler\u001B[49m\u001B[38;5;241;43m.\u001B[39;49m\u001B[43mrun\u001B[49m\u001B[43m(\u001B[49m\u001B[43mjob\u001B[49m\u001B[43m)\u001B[49m\n\u001B[1;32m     31\u001B[0m \u001B[38;5;28mself\u001B[39m\u001B[38;5;241m.\u001B[39m_job_results[job_id] \u001B[38;5;241m=\u001B[39m convert_compiler_output_to_scheduled_experiment(\n\u001B[1;32m     32\u001B[0m     compiler_output\n\u001B[1;32m     33\u001B[0m )\n\u001B[1;32m     35\u001B[0m \u001B[38;5;28mself\u001B[39m\u001B[38;5;241m.\u001B[39m_job_queue\u001B[38;5;241m.\u001B[39mappend(queue_entry)\n",
      "File \u001B[0;32m~/Projects/Envs/SydneyQuantum/lib/python3.12/site-packages/laboneq/_observability/tracing/_tracer.py:75\u001B[0m, in \u001B[0;36mtrace.<locals>.outer_wrapper.<locals>.wrapper\u001B[0;34m(*args, **kwargs)\u001B[0m\n\u001B[1;32m     73\u001B[0m             tracing\u001B[38;5;241m.\u001B[39menable_tracing()\n\u001B[1;32m     74\u001B[0m         \u001B[38;5;28;01mreturn\u001B[39;00m res\n\u001B[0;32m---> 75\u001B[0m \u001B[38;5;28;01mreturn\u001B[39;00m \u001B[43mfunc\u001B[49m\u001B[43m(\u001B[49m\u001B[38;5;241;43m*\u001B[39;49m\u001B[43margs\u001B[49m\u001B[43m,\u001B[49m\u001B[43m \u001B[49m\u001B[38;5;241;43m*\u001B[39;49m\u001B[38;5;241;43m*\u001B[39;49m\u001B[43mkwargs\u001B[49m\u001B[43m)\u001B[49m\n",
      "File \u001B[0;32m~/Projects/Envs/SydneyQuantum/lib/python3.12/site-packages/laboneq/compiler/workflow/compiler.py:1164\u001B[0m, in \u001B[0;36mCompiler.run\u001B[0;34m(self, data)\u001B[0m\n\u001B[1;32m   1162\u001B[0m \u001B[38;5;28mself\u001B[39m\u001B[38;5;241m.\u001B[39muse_experiment(data)\n\u001B[1;32m   1163\u001B[0m \u001B[38;5;28mself\u001B[39m\u001B[38;5;241m.\u001B[39m_analyze_setup()\n\u001B[0;32m-> 1164\u001B[0m \u001B[38;5;28;43mself\u001B[39;49m\u001B[38;5;241;43m.\u001B[39;49m\u001B[43m_process_experiment\u001B[49m\u001B[43m(\u001B[49m\u001B[43m)\u001B[49m\n\u001B[1;32m   1166\u001B[0m \u001B[38;5;28mself\u001B[39m\u001B[38;5;241m.\u001B[39m_generate_recipe()\n\u001B[1;32m   1168\u001B[0m retval \u001B[38;5;241m=\u001B[39m \u001B[38;5;28mself\u001B[39m\u001B[38;5;241m.\u001B[39mcompiler_output()\n",
      "File \u001B[0;32m~/Projects/Envs/SydneyQuantum/lib/python3.12/site-packages/laboneq/compiler/workflow/compiler.py:269\u001B[0m, in \u001B[0;36mCompiler._process_experiment\u001B[0;34m(self)\u001B[0m\n\u001B[1;32m    262\u001B[0m rt_compiler \u001B[38;5;241m=\u001B[39m RealtimeCompiler(\n\u001B[1;32m    263\u001B[0m     \u001B[38;5;28mself\u001B[39m\u001B[38;5;241m.\u001B[39m_experiment_dao,\n\u001B[1;32m    264\u001B[0m     \u001B[38;5;28mself\u001B[39m\u001B[38;5;241m.\u001B[39m_sampling_rate_tracker,\n\u001B[1;32m    265\u001B[0m     \u001B[38;5;28mself\u001B[39m\u001B[38;5;241m.\u001B[39m_signal_objects,\n\u001B[1;32m    266\u001B[0m     \u001B[38;5;28mself\u001B[39m\u001B[38;5;241m.\u001B[39m_settings,\n\u001B[1;32m    267\u001B[0m )\n\u001B[1;32m    268\u001B[0m executor \u001B[38;5;241m=\u001B[39m NtCompilerExecutor(rt_compiler, \u001B[38;5;28mself\u001B[39m\u001B[38;5;241m.\u001B[39m_settings)\n\u001B[0;32m--> 269\u001B[0m \u001B[43mexecutor\u001B[49m\u001B[38;5;241;43m.\u001B[39;49m\u001B[43mrun\u001B[49m\u001B[43m(\u001B[49m\u001B[38;5;28;43mself\u001B[39;49m\u001B[38;5;241;43m.\u001B[39;49m\u001B[43m_execution\u001B[49m\u001B[43m)\u001B[49m\n\u001B[1;32m    270\u001B[0m \u001B[38;5;28mself\u001B[39m\u001B[38;5;241m.\u001B[39m_combined_compiler_output \u001B[38;5;241m=\u001B[39m executor\u001B[38;5;241m.\u001B[39mcombined_compiler_output()\n\u001B[1;32m    271\u001B[0m \u001B[38;5;28;01mif\u001B[39;00m \u001B[38;5;28mself\u001B[39m\u001B[38;5;241m.\u001B[39m_combined_compiler_output \u001B[38;5;129;01mis\u001B[39;00m \u001B[38;5;28;01mNone\u001B[39;00m:\n\u001B[1;32m    272\u001B[0m     \u001B[38;5;66;03m# Some of our tests do not have an RT averaging loop, so the RT compiler will\u001B[39;00m\n\u001B[1;32m    273\u001B[0m     \u001B[38;5;66;03m# not have been run. For backwards compatibility, we still run it once.\u001B[39;00m\n",
      "File \u001B[0;32m~/Projects/Envs/SydneyQuantum/lib/python3.12/site-packages/laboneq/executor/executor.py:479\u001B[0m, in \u001B[0;36mExecutorBase.run\u001B[0;34m(self, root_sequence)\u001B[0m\n\u001B[1;32m    477\u001B[0m scope \u001B[38;5;241m=\u001B[39m ExecutionScope(\u001B[38;5;28;01mNone\u001B[39;00m, \u001B[38;5;28mself\u001B[39m)\n\u001B[1;32m    478\u001B[0m \u001B[38;5;28;01mfor\u001B[39;00m notification \u001B[38;5;129;01min\u001B[39;00m root_sequence\u001B[38;5;241m.\u001B[39mrun(scope):\n\u001B[0;32m--> 479\u001B[0m     \u001B[38;5;28;43mself\u001B[39;49m\u001B[38;5;241;43m.\u001B[39;49m\u001B[43m_handlers_map\u001B[49m\u001B[43m[\u001B[49m\u001B[43mnotification\u001B[49m\u001B[38;5;241;43m.\u001B[39;49m\u001B[43mstatement_type\u001B[49m\u001B[43m]\u001B[49m\u001B[43m(\u001B[49m\u001B[38;5;241;43m*\u001B[39;49m\u001B[38;5;241;43m*\u001B[39;49m\u001B[43mnotification\u001B[49m\u001B[38;5;241;43m.\u001B[39;49m\u001B[43margs\u001B[49m\u001B[43m)\u001B[49m\n",
      "File \u001B[0;32m~/Projects/Envs/SydneyQuantum/lib/python3.12/site-packages/laboneq/compiler/workflow/neartime_execution.py:155\u001B[0m, in \u001B[0;36mNtCompilerExecutor.rt_entry_handler\u001B[0;34m(self, count, uid, averaging_mode, acquisition_type)\u001B[0m\n\u001B[1;32m    153\u001B[0m parameter_store \u001B[38;5;241m=\u001B[39m ParameterStore(\u001B[38;5;28mself\u001B[39m\u001B[38;5;241m.\u001B[39m_iteration_stack\u001B[38;5;241m.\u001B[39mnt_parameter_values())\n\u001B[1;32m    154\u001B[0m tracker \u001B[38;5;241m=\u001B[39m parameter_store\u001B[38;5;241m.\u001B[39mcreate_tracker()\n\u001B[0;32m--> 155\u001B[0m new_compiler_output \u001B[38;5;241m=\u001B[39m \u001B[38;5;28;43mself\u001B[39;49m\u001B[38;5;241;43m.\u001B[39;49m\u001B[43m_rt_compiler\u001B[49m\u001B[38;5;241;43m.\u001B[39;49m\u001B[43mrun\u001B[49m\u001B[43m(\u001B[49m\u001B[43mparameter_store\u001B[49m\u001B[43m)\u001B[49m\n\u001B[1;32m    157\u001B[0m \u001B[38;5;28;01mif\u001B[39;00m \u001B[38;5;28mself\u001B[39m\u001B[38;5;241m.\u001B[39m_required_parameters \u001B[38;5;129;01mis\u001B[39;00m \u001B[38;5;28;01mNone\u001B[39;00m:\n\u001B[1;32m    158\u001B[0m     \u001B[38;5;28mself\u001B[39m\u001B[38;5;241m.\u001B[39m_required_parameters \u001B[38;5;241m=\u001B[39m tracker\u001B[38;5;241m.\u001B[39mqueries()\n",
      "File \u001B[0;32m~/Projects/Envs/SydneyQuantum/lib/python3.12/site-packages/laboneq/compiler/workflow/realtime_compiler.py:110\u001B[0m, in \u001B[0;36mRealtimeCompiler.run\u001B[0;34m(self, near_time_parameters)\u001B[0m\n\u001B[1;32m    107\u001B[0m \u001B[38;5;28mself\u001B[39m\u001B[38;5;241m.\u001B[39m_scheduler\u001B[38;5;241m.\u001B[39mrun(near_time_parameters)\n\u001B[1;32m    108\u001B[0m schedule \u001B[38;5;241m=\u001B[39m \u001B[38;5;28mself\u001B[39m\u001B[38;5;241m.\u001B[39mprepare_schedule() \u001B[38;5;28;01mif\u001B[39;00m \u001B[38;5;28mself\u001B[39m\u001B[38;5;241m.\u001B[39m_settings\u001B[38;5;241m.\u001B[39mOUTPUT_EXTRAS \u001B[38;5;28;01melse\u001B[39;00m \u001B[38;5;28;01mNone\u001B[39;00m\n\u001B[0;32m--> 110\u001B[0m \u001B[38;5;28;43mself\u001B[39;49m\u001B[38;5;241;43m.\u001B[39;49m\u001B[43m_generate_code\u001B[49m\u001B[43m(\u001B[49m\u001B[43m)\u001B[49m\n\u001B[1;32m    112\u001B[0m outputs \u001B[38;5;241m=\u001B[39m {\n\u001B[1;32m    113\u001B[0m     device_class: code_generator\u001B[38;5;241m.\u001B[39mget_output()\n\u001B[1;32m    114\u001B[0m     \u001B[38;5;28;01mfor\u001B[39;00m device_class, code_generator \u001B[38;5;129;01min\u001B[39;00m \u001B[38;5;28mself\u001B[39m\u001B[38;5;241m.\u001B[39m_code_generators\u001B[38;5;241m.\u001B[39mitems()\n\u001B[1;32m    115\u001B[0m }\n\u001B[1;32m    117\u001B[0m compiler_output \u001B[38;5;241m=\u001B[39m RTCompilerOutputContainer(\n\u001B[1;32m    118\u001B[0m     codegen_output\u001B[38;5;241m=\u001B[39moutputs, schedule\u001B[38;5;241m=\u001B[39mschedule\n\u001B[1;32m    119\u001B[0m )\n",
      "File \u001B[0;32m~/Projects/Envs/SydneyQuantum/lib/python3.12/site-packages/laboneq/_observability/tracing/_tracer.py:75\u001B[0m, in \u001B[0;36mtrace.<locals>.outer_wrapper.<locals>.wrapper\u001B[0;34m(*args, **kwargs)\u001B[0m\n\u001B[1;32m     73\u001B[0m             tracing\u001B[38;5;241m.\u001B[39menable_tracing()\n\u001B[1;32m     74\u001B[0m         \u001B[38;5;28;01mreturn\u001B[39;00m res\n\u001B[0;32m---> 75\u001B[0m \u001B[38;5;28;01mreturn\u001B[39;00m \u001B[43mfunc\u001B[49m\u001B[43m(\u001B[49m\u001B[38;5;241;43m*\u001B[39;49m\u001B[43margs\u001B[49m\u001B[43m,\u001B[49m\u001B[43m \u001B[49m\u001B[38;5;241;43m*\u001B[39;49m\u001B[38;5;241;43m*\u001B[39;49m\u001B[43mkwargs\u001B[49m\u001B[43m)\u001B[49m\n",
      "File \u001B[0;32m~/Projects/Envs/SydneyQuantum/lib/python3.12/site-packages/laboneq/compiler/workflow/realtime_compiler.py:101\u001B[0m, in \u001B[0;36mRealtimeCompiler._generate_code\u001B[0;34m(self)\u001B[0m\n\u001B[1;32m     98\u001B[0m \u001B[38;5;28;01mif\u001B[39;00m \u001B[38;5;28mself\u001B[39m\u001B[38;5;241m.\u001B[39m_settings\u001B[38;5;241m.\u001B[39mFORCE_IR_ROUNDTRIP:\n\u001B[1;32m     99\u001B[0m     ir\u001B[38;5;241m.\u001B[39mround_trip()\n\u001B[0;32m--> 101\u001B[0m \u001B[38;5;28;43mself\u001B[39;49m\u001B[38;5;241;43m.\u001B[39;49m\u001B[43m_lower_ir_to_code\u001B[49m\u001B[43m(\u001B[49m\u001B[43mir\u001B[49m\u001B[43m)\u001B[49m\n\u001B[1;32m    102\u001B[0m _logger\u001B[38;5;241m.\u001B[39mdebug(\u001B[38;5;124m\"\u001B[39m\u001B[38;5;124mlowering IR to code complete\u001B[39m\u001B[38;5;124m\"\u001B[39m)\n",
      "File \u001B[0;32m~/Projects/Envs/SydneyQuantum/lib/python3.12/site-packages/laboneq/compiler/workflow/realtime_compiler.py:81\u001B[0m, in \u001B[0;36mRealtimeCompiler._lower_ir_to_code\u001B[0;34m(self, ir)\u001B[0m\n\u001B[1;32m     77\u001B[0m \u001B[38;5;28;01mfor\u001B[39;00m device_class \u001B[38;5;129;01min\u001B[39;00m device_classes:\n\u001B[1;32m     78\u001B[0m     \u001B[38;5;28mself\u001B[39m\u001B[38;5;241m.\u001B[39m_code_generators[device_class] \u001B[38;5;241m=\u001B[39m \u001B[38;5;28mself\u001B[39m\u001B[38;5;241m.\u001B[39m_registered_codegens[\n\u001B[1;32m     79\u001B[0m         device_class\n\u001B[1;32m     80\u001B[0m     ](ir, settings\u001B[38;5;241m=\u001B[39m\u001B[38;5;28mself\u001B[39m\u001B[38;5;241m.\u001B[39m_settings)\n\u001B[0;32m---> 81\u001B[0m     \u001B[38;5;28;43mself\u001B[39;49m\u001B[38;5;241;43m.\u001B[39;49m\u001B[43m_code_generators\u001B[49m\u001B[43m[\u001B[49m\u001B[43mdevice_class\u001B[49m\u001B[43m]\u001B[49m\u001B[38;5;241;43m.\u001B[39;49m\u001B[43mgenerate_code\u001B[49m\u001B[43m(\u001B[49m\n\u001B[1;32m     82\u001B[0m \u001B[43m        \u001B[49m\u001B[43m[\u001B[49m\n\u001B[1;32m     83\u001B[0m \u001B[43m            \u001B[49m\u001B[43ms\u001B[49m\n\u001B[1;32m     84\u001B[0m \u001B[43m            \u001B[49m\u001B[38;5;28;43;01mfor\u001B[39;49;00m\u001B[43m \u001B[49m\u001B[43ms\u001B[49m\u001B[43m \u001B[49m\u001B[38;5;129;43;01min\u001B[39;49;00m\u001B[43m \u001B[49m\u001B[38;5;28;43mself\u001B[39;49m\u001B[38;5;241;43m.\u001B[39;49m\u001B[43m_signal_objects\u001B[49m\u001B[38;5;241;43m.\u001B[39;49m\u001B[43mvalues\u001B[49m\u001B[43m(\u001B[49m\u001B[43m)\u001B[49m\n\u001B[1;32m     85\u001B[0m \u001B[43m            \u001B[49m\u001B[38;5;28;43;01mif\u001B[39;49;00m\u001B[43m \u001B[49m\u001B[43ms\u001B[49m\u001B[38;5;241;43m.\u001B[39;49m\u001B[43mawg\u001B[49m\u001B[38;5;241;43m.\u001B[39;49m\u001B[43mdevice_class\u001B[49m\u001B[43m \u001B[49m\u001B[38;5;241;43m==\u001B[39;49m\u001B[43m \u001B[49m\u001B[43mdevice_class\u001B[49m\n\u001B[1;32m     86\u001B[0m \u001B[43m        \u001B[49m\u001B[43m]\u001B[49m\n\u001B[1;32m     87\u001B[0m \u001B[43m    \u001B[49m\u001B[43m)\u001B[49m\n\u001B[1;32m     89\u001B[0m _logger\u001B[38;5;241m.\u001B[39mdebug(\u001B[38;5;124m\"\u001B[39m\u001B[38;5;124mCode generation completed\u001B[39m\u001B[38;5;124m\"\u001B[39m)\n",
      "File \u001B[0;32m~/Projects/Envs/SydneyQuantum/lib/python3.12/site-packages/laboneq/compiler/code_generator/code_generator.py:355\u001B[0m, in \u001B[0;36mCodeGenerator.generate_code\u001B[0;34m(self, signal_objs)\u001B[0m\n\u001B[1;32m    353\u001B[0m     \u001B[38;5;28mself\u001B[39m\u001B[38;5;241m.\u001B[39madd_signal(signal_obj)\n\u001B[1;32m    354\u001B[0m \u001B[38;5;28mself\u001B[39m\u001B[38;5;241m.\u001B[39mgen_acquire_map(event_list)\n\u001B[0;32m--> 355\u001B[0m \u001B[38;5;28;43mself\u001B[39;49m\u001B[38;5;241;43m.\u001B[39;49m\u001B[43mgen_seq_c\u001B[49m\u001B[43m(\u001B[49m\n\u001B[1;32m    356\u001B[0m \u001B[43m    \u001B[49m\u001B[43mevent_list\u001B[49m\u001B[43m,\u001B[49m\n\u001B[1;32m    357\u001B[0m \u001B[43m    \u001B[49m\u001B[43m{\u001B[49m\u001B[43mp\u001B[49m\u001B[38;5;241;43m.\u001B[39;49m\u001B[43muid\u001B[49m\u001B[43m:\u001B[49m\u001B[43m \u001B[49m\u001B[43mp\u001B[49m\u001B[43m \u001B[49m\u001B[38;5;28;43;01mfor\u001B[39;49;00m\u001B[43m \u001B[49m\u001B[43mp\u001B[49m\u001B[43m \u001B[49m\u001B[38;5;129;43;01min\u001B[39;49;00m\u001B[43m \u001B[49m\u001B[38;5;28;43mself\u001B[39;49m\u001B[38;5;241;43m.\u001B[39;49m\u001B[43m_ir\u001B[49m\u001B[38;5;241;43m.\u001B[39;49m\u001B[43mpulse_defs\u001B[49m\u001B[43m}\u001B[49m\u001B[43m,\u001B[49m\n\u001B[1;32m    358\u001B[0m \u001B[43m\u001B[49m\u001B[43m)\u001B[49m\n\u001B[1;32m    359\u001B[0m \u001B[38;5;28mself\u001B[39m\u001B[38;5;241m.\u001B[39mgen_waves()\n",
      "File \u001B[0;32m~/Projects/Envs/SydneyQuantum/lib/python3.12/site-packages/laboneq/compiler/code_generator/code_generator.py:718\u001B[0m, in \u001B[0;36mCodeGenerator.gen_seq_c\u001B[0;34m(self, events, pulse_defs)\u001B[0m\n\u001B[1;32m    710\u001B[0m \u001B[38;5;28mself\u001B[39m\u001B[38;5;241m.\u001B[39m_feedback_register_allocator \u001B[38;5;241m=\u001B[39m FeedbackRegisterAllocator(\n\u001B[1;32m    711\u001B[0m     \u001B[38;5;28mself\u001B[39m\u001B[38;5;241m.\u001B[39m_signals, events\n\u001B[1;32m    712\u001B[0m )\n\u001B[1;32m    714\u001B[0m \u001B[38;5;28;01mfor\u001B[39;00m _, awg \u001B[38;5;129;01min\u001B[39;00m \u001B[38;5;28msorted\u001B[39m(\n\u001B[1;32m    715\u001B[0m     \u001B[38;5;28mself\u001B[39m\u001B[38;5;241m.\u001B[39m_awgs\u001B[38;5;241m.\u001B[39mitems(),\n\u001B[1;32m    716\u001B[0m     key\u001B[38;5;241m=\u001B[39m\u001B[38;5;28;01mlambda\u001B[39;00m item: item[\u001B[38;5;241m0\u001B[39m]\u001B[38;5;241m.\u001B[39mdevice_id \u001B[38;5;241m+\u001B[39m \u001B[38;5;28mstr\u001B[39m(item[\u001B[38;5;241m0\u001B[39m]\u001B[38;5;241m.\u001B[39mawg_number),\n\u001B[1;32m    717\u001B[0m ):\n\u001B[0;32m--> 718\u001B[0m     \u001B[38;5;28;43mself\u001B[39;49m\u001B[38;5;241;43m.\u001B[39;49m\u001B[43m_gen_seq_c_per_awg\u001B[49m\u001B[43m(\u001B[49m\u001B[43mawg\u001B[49m\u001B[43m,\u001B[49m\u001B[43m \u001B[49m\u001B[43mevents\u001B[49m\u001B[43m,\u001B[49m\u001B[43m \u001B[49m\u001B[43mpulse_defs\u001B[49m\u001B[43m)\u001B[49m\n\u001B[1;32m    720\u001B[0m tgt_feedback_regs \u001B[38;5;241m=\u001B[39m \u001B[38;5;28mself\u001B[39m\u001B[38;5;241m.\u001B[39m_feedback_register_allocator\u001B[38;5;241m.\u001B[39mtarget_feedback_registers\n\u001B[1;32m    721\u001B[0m \u001B[38;5;28;01mfor\u001B[39;00m awg, target_fb_register \u001B[38;5;129;01min\u001B[39;00m tgt_feedback_regs\u001B[38;5;241m.\u001B[39mitems():\n",
      "File \u001B[0;32m~/Projects/Envs/SydneyQuantum/lib/python3.12/site-packages/laboneq/compiler/code_generator/code_generator.py:1241\u001B[0m, in \u001B[0;36mCodeGenerator._gen_seq_c_per_awg\u001B[0;34m(self, awg, events, pulse_defs)\u001B[0m\n\u001B[1;32m   1223\u001B[0m     sub_channel \u001B[38;5;241m=\u001B[39m \u001B[38;5;28;01mNone\u001B[39;00m\n\u001B[1;32m   1224\u001B[0m interval_events \u001B[38;5;241m=\u001B[39m analyze_play_wave_times(\n\u001B[1;32m   1225\u001B[0m     events\u001B[38;5;241m=\u001B[39mevents,\n\u001B[1;32m   1226\u001B[0m     signals\u001B[38;5;241m=\u001B[39m{signal_obj\u001B[38;5;241m.\u001B[39mid: signal_obj},\n\u001B[0;32m   (...)\u001B[0m\n\u001B[1;32m   1238\u001B[0m     use_amplitude_increment\u001B[38;5;241m=\u001B[39m\u001B[38;5;28mself\u001B[39m\u001B[38;5;241m.\u001B[39m_settings\u001B[38;5;241m.\u001B[39mUSE_AMPLITUDE_INCREMENT,\n\u001B[1;32m   1239\u001B[0m )\n\u001B[0;32m-> 1241\u001B[0m sampled_signatures \u001B[38;5;241m=\u001B[39m \u001B[38;5;28;43mself\u001B[39;49m\u001B[38;5;241;43m.\u001B[39;49m\u001B[43m_sample_pulses\u001B[49m\u001B[43m(\u001B[49m\n\u001B[1;32m   1242\u001B[0m \u001B[43m    \u001B[49m\u001B[43msignal_obj\u001B[49m\u001B[38;5;241;43m.\u001B[39;49m\u001B[43mid\u001B[49m\u001B[43m,\u001B[49m\n\u001B[1;32m   1243\u001B[0m \u001B[43m    \u001B[49m\u001B[43minterval_events\u001B[49m\u001B[43m,\u001B[49m\n\u001B[1;32m   1244\u001B[0m \u001B[43m    \u001B[49m\u001B[43mpulse_defs\u001B[49m\u001B[38;5;241;43m=\u001B[39;49m\u001B[43mpulse_defs\u001B[49m\u001B[43m,\u001B[49m\n\u001B[1;32m   1245\u001B[0m \u001B[43m    \u001B[49m\u001B[43msampling_rate\u001B[49m\u001B[38;5;241;43m=\u001B[39;49m\u001B[43msignal_obj\u001B[49m\u001B[38;5;241;43m.\u001B[39;49m\u001B[43mawg\u001B[49m\u001B[38;5;241;43m.\u001B[39;49m\u001B[43msampling_rate\u001B[49m\u001B[43m,\u001B[49m\n\u001B[1;32m   1246\u001B[0m \u001B[43m    \u001B[49m\u001B[43msignal_type\u001B[49m\u001B[38;5;241;43m=\u001B[39;49m\u001B[43msignal_obj\u001B[49m\u001B[38;5;241;43m.\u001B[39;49m\u001B[43msignal_type\u001B[49m\u001B[43m,\u001B[49m\n\u001B[1;32m   1247\u001B[0m \u001B[43m    \u001B[49m\u001B[43mdevice_type\u001B[49m\u001B[38;5;241;43m=\u001B[39;49m\u001B[43msignal_obj\u001B[49m\u001B[38;5;241;43m.\u001B[39;49m\u001B[43mawg\u001B[49m\u001B[38;5;241;43m.\u001B[39;49m\u001B[43mdevice_type\u001B[49m\u001B[43m,\u001B[49m\n\u001B[1;32m   1248\u001B[0m \u001B[43m    \u001B[49m\u001B[43mmixer_type\u001B[49m\u001B[38;5;241;43m=\u001B[39;49m\u001B[43msignal_obj\u001B[49m\u001B[38;5;241;43m.\u001B[39;49m\u001B[43mmixer_type\u001B[49m\u001B[43m,\u001B[49m\n\u001B[1;32m   1249\u001B[0m \u001B[43m\u001B[49m\u001B[43m)\u001B[49m\n\u001B[1;32m   1251\u001B[0m \u001B[38;5;28mself\u001B[39m\u001B[38;5;241m.\u001B[39m_sampled_signatures[signal_obj\u001B[38;5;241m.\u001B[39mid] \u001B[38;5;241m=\u001B[39m sampled_signatures\n\u001B[1;32m   1252\u001B[0m sampled_events\u001B[38;5;241m.\u001B[39mmerge(interval_events)\n",
      "File \u001B[0;32m~/Projects/Envs/SydneyQuantum/lib/python3.12/site-packages/laboneq/compiler/code_generator/code_generator.py:1583\u001B[0m, in \u001B[0;36mCodeGenerator._sample_pulses\u001B[0;34m(self, signal_id, interval_events, pulse_defs, sampling_rate, signal_type, device_type, mixer_type, multi_iq_signal)\u001B[0m\n\u001B[1;32m   1575\u001B[0m samples \u001B[38;5;241m=\u001B[39m pulse_def\u001B[38;5;241m.\u001B[39msamples\n\u001B[1;32m   1577\u001B[0m decoded_pulse_parameters \u001B[38;5;241m=\u001B[39m decode_pulse_parameters(\n\u001B[1;32m   1578\u001B[0m     {}\n\u001B[1;32m   1579\u001B[0m     \u001B[38;5;28;01mif\u001B[39;00m pulse_part\u001B[38;5;241m.\u001B[39mpulse_parameters \u001B[38;5;129;01mis\u001B[39;00m \u001B[38;5;28;01mNone\u001B[39;00m\n\u001B[1;32m   1580\u001B[0m     \u001B[38;5;28;01melse\u001B[39;00m {k: v \u001B[38;5;28;01mfor\u001B[39;00m k, v \u001B[38;5;129;01min\u001B[39;00m pulse_part\u001B[38;5;241m.\u001B[39mpulse_parameters}\n\u001B[1;32m   1581\u001B[0m )\n\u001B[0;32m-> 1583\u001B[0m sampled_pulse \u001B[38;5;241m=\u001B[39m \u001B[43msample_pulse\u001B[49m\u001B[43m(\u001B[49m\n\u001B[1;32m   1584\u001B[0m \u001B[43m    \u001B[49m\u001B[43msignal_type\u001B[49m\u001B[38;5;241;43m=\u001B[39;49m\u001B[43msampling_signal_type\u001B[49m\u001B[43m,\u001B[49m\n\u001B[1;32m   1585\u001B[0m \u001B[43m    \u001B[49m\u001B[43msampling_rate\u001B[49m\u001B[38;5;241;43m=\u001B[39;49m\u001B[43msampling_rate\u001B[49m\u001B[43m,\u001B[49m\n\u001B[1;32m   1586\u001B[0m \u001B[43m    \u001B[49m\u001B[43mamplitude\u001B[49m\u001B[38;5;241;43m=\u001B[39;49m\u001B[43mamplitude\u001B[49m\u001B[43m,\u001B[49m\n\u001B[1;32m   1587\u001B[0m \u001B[43m    \u001B[49m\u001B[43mlength\u001B[49m\u001B[38;5;241;43m=\u001B[39;49m\u001B[43mpulse_part\u001B[49m\u001B[38;5;241;43m.\u001B[39;49m\u001B[43mlength\u001B[49m\u001B[43m \u001B[49m\u001B[38;5;241;43m/\u001B[39;49m\u001B[43m \u001B[49m\u001B[43msampling_rate\u001B[49m\u001B[43m,\u001B[49m\n\u001B[1;32m   1588\u001B[0m \u001B[43m    \u001B[49m\u001B[43mpulse_function\u001B[49m\u001B[38;5;241;43m=\u001B[39;49m\u001B[43mpulse_def\u001B[49m\u001B[38;5;241;43m.\u001B[39;49m\u001B[43mfunction\u001B[49m\u001B[43m,\u001B[49m\n\u001B[1;32m   1589\u001B[0m \u001B[43m    \u001B[49m\u001B[43mmodulation_frequency\u001B[49m\u001B[38;5;241;43m=\u001B[39;49m\u001B[43mused_oscillator_frequency\u001B[49m\u001B[43m,\u001B[49m\n\u001B[1;32m   1590\u001B[0m \u001B[43m    \u001B[49m\u001B[43mphase\u001B[49m\u001B[38;5;241;43m=\u001B[39;49m\u001B[43miq_phase\u001B[49m\u001B[43m,\u001B[49m\n\u001B[1;32m   1591\u001B[0m \u001B[43m    \u001B[49m\u001B[43msamples\u001B[49m\u001B[38;5;241;43m=\u001B[39;49m\u001B[43msamples\u001B[49m\u001B[43m,\u001B[49m\n\u001B[1;32m   1592\u001B[0m \u001B[43m    \u001B[49m\u001B[43mmixer_type\u001B[49m\u001B[38;5;241;43m=\u001B[39;49m\u001B[43mmixer_type\u001B[49m\u001B[43m,\u001B[49m\n\u001B[1;32m   1593\u001B[0m \u001B[43m    \u001B[49m\u001B[43mpulse_parameters\u001B[49m\u001B[38;5;241;43m=\u001B[39;49m\u001B[43mdecoded_pulse_parameters\u001B[49m\u001B[43m,\u001B[49m\n\u001B[1;32m   1594\u001B[0m \u001B[43m    \u001B[49m\u001B[43mmarkers\u001B[49m\u001B[38;5;241;43m=\u001B[39;49m\u001B[38;5;28;43;01mNone\u001B[39;49;00m\n\u001B[1;32m   1595\u001B[0m \u001B[43m    \u001B[49m\u001B[38;5;28;43;01mif\u001B[39;49;00m\u001B[43m \u001B[49m\u001B[38;5;129;43;01mnot\u001B[39;49;00m\u001B[43m \u001B[49m\u001B[43mpulse_part\u001B[49m\u001B[38;5;241;43m.\u001B[39;49m\u001B[43mmarkers\u001B[49m\n\u001B[1;32m   1596\u001B[0m \u001B[43m    \u001B[49m\u001B[38;5;28;43;01melse\u001B[39;49;00m\u001B[43m \u001B[49m\u001B[43m[\u001B[49m\u001B[43m{\u001B[49m\u001B[43mk\u001B[49m\u001B[43m:\u001B[49m\u001B[43m \u001B[49m\u001B[43mv\u001B[49m\u001B[43m \u001B[49m\u001B[38;5;28;43;01mfor\u001B[39;49;00m\u001B[43m \u001B[49m\u001B[43mk\u001B[49m\u001B[43m,\u001B[49m\u001B[43m \u001B[49m\u001B[43mv\u001B[49m\u001B[43m \u001B[49m\u001B[38;5;129;43;01min\u001B[39;49;00m\u001B[43m \u001B[49m\u001B[43mm\u001B[49m\u001B[43m}\u001B[49m\u001B[43m \u001B[49m\u001B[38;5;28;43;01mfor\u001B[39;49;00m\u001B[43m \u001B[49m\u001B[43mm\u001B[49m\u001B[43m \u001B[49m\u001B[38;5;129;43;01min\u001B[39;49;00m\u001B[43m \u001B[49m\u001B[43mpulse_part\u001B[49m\u001B[38;5;241;43m.\u001B[39;49m\u001B[43mmarkers\u001B[49m\u001B[43m]\u001B[49m\u001B[43m,\u001B[49m\n\u001B[1;32m   1597\u001B[0m \u001B[43m\u001B[49m\u001B[43m)\u001B[49m\n\u001B[1;32m   1599\u001B[0m verify_amplitude_no_clipping(\n\u001B[1;32m   1600\u001B[0m     sampled_pulse, pulse_def\u001B[38;5;241m.\u001B[39muid, mixer_type, signal_id\n\u001B[1;32m   1601\u001B[0m )\n\u001B[1;32m   1603\u001B[0m \u001B[38;5;28;01mif\u001B[39;00m \u001B[38;5;124m\"\u001B[39m\u001B[38;5;124msamples_q\u001B[39m\u001B[38;5;124m\"\u001B[39m \u001B[38;5;129;01min\u001B[39;00m sampled_pulse \u001B[38;5;129;01mand\u001B[39;00m \u001B[38;5;28mlen\u001B[39m(\n\u001B[1;32m   1604\u001B[0m     sampled_pulse[\u001B[38;5;124m\"\u001B[39m\u001B[38;5;124msamples_i\u001B[39m\u001B[38;5;124m\"\u001B[39m]\n\u001B[1;32m   1605\u001B[0m ) \u001B[38;5;241m!=\u001B[39m \u001B[38;5;28mlen\u001B[39m(sampled_pulse[\u001B[38;5;124m\"\u001B[39m\u001B[38;5;124msamples_q\u001B[39m\u001B[38;5;124m\"\u001B[39m]):\n",
      "File \u001B[0;32m~/Projects/Envs/SydneyQuantum/lib/python3.12/site-packages/laboneq/core/utilities/pulse_sampler.py:130\u001B[0m, in \u001B[0;36msample_pulse\u001B[0;34m(signal_type, sampling_rate, length, amplitude, pulse_function, modulation_frequency, phase, samples, mixer_type, pulse_parameters, markers)\u001B[0m\n\u001B[1;32m    125\u001B[0m     pulse_parameters \u001B[38;5;241m=\u001B[39m {\n\u001B[1;32m    126\u001B[0m         k: v \u001B[38;5;28;01mfor\u001B[39;00m (k, v) \u001B[38;5;129;01min\u001B[39;00m pulse_parameters\u001B[38;5;241m.\u001B[39mitems() \u001B[38;5;28;01mif\u001B[39;00m k \u001B[38;5;241m!=\u001B[39m \u001B[38;5;124m\"\u001B[39m\u001B[38;5;124mamplitude\u001B[39m\u001B[38;5;124m\"\u001B[39m\n\u001B[1;32m    127\u001B[0m     }\n\u001B[1;32m    129\u001B[0m \u001B[38;5;28;01mif\u001B[39;00m pulse_function \u001B[38;5;129;01mis\u001B[39;00m \u001B[38;5;129;01mnot\u001B[39;00m \u001B[38;5;28;01mNone\u001B[39;00m:\n\u001B[0;32m--> 130\u001B[0m     samples \u001B[38;5;241m=\u001B[39m \u001B[43mpulse_function_library\u001B[49m\u001B[43m[\u001B[49m\u001B[43mpulse_function\u001B[49m\u001B[43m]\u001B[49m\u001B[43m(\u001B[49m\n\u001B[1;32m    131\u001B[0m \u001B[43m        \u001B[49m\u001B[43mnp\u001B[49m\u001B[38;5;241;43m.\u001B[39;49m\u001B[43mlinspace\u001B[49m\u001B[43m(\u001B[49m\u001B[38;5;241;43m-\u001B[39;49m\u001B[38;5;241;43m1\u001B[39;49m\u001B[43m,\u001B[49m\u001B[43m \u001B[49m\u001B[38;5;241;43m1\u001B[39;49m\u001B[43m,\u001B[49m\u001B[43m \u001B[49m\u001B[43mnum_samples\u001B[49m\u001B[43m,\u001B[49m\u001B[43m \u001B[49m\u001B[43mendpoint\u001B[49m\u001B[38;5;241;43m=\u001B[39;49m\u001B[38;5;28;43;01mFalse\u001B[39;49;00m\u001B[43m)\u001B[49m\u001B[43m,\u001B[49m\n\u001B[1;32m    132\u001B[0m \u001B[43m        \u001B[49m\u001B[43mlength\u001B[49m\u001B[38;5;241;43m=\u001B[39;49m\u001B[43mlength\u001B[49m\u001B[43m,\u001B[49m\n\u001B[1;32m    133\u001B[0m \u001B[43m        \u001B[49m\u001B[43mamplitude\u001B[49m\u001B[38;5;241;43m=\u001B[39;49m\u001B[43mamplitude\u001B[49m\u001B[43m,\u001B[49m\n\u001B[1;32m    134\u001B[0m \u001B[43m        \u001B[49m\u001B[43msampling_rate\u001B[49m\u001B[38;5;241;43m=\u001B[39;49m\u001B[43msampling_rate\u001B[49m\u001B[43m,\u001B[49m\n\u001B[1;32m    135\u001B[0m \u001B[43m        \u001B[49m\u001B[38;5;241;43m*\u001B[39;49m\u001B[38;5;241;43m*\u001B[39;49m\u001B[43mpulse_parameters\u001B[49m\u001B[43m,\u001B[49m\n\u001B[1;32m    136\u001B[0m \u001B[43m    \u001B[49m\u001B[43m)\u001B[49m\n\u001B[1;32m    137\u001B[0m \u001B[38;5;28;01massert\u001B[39;00m \u001B[38;5;28misinstance\u001B[39m(samples, (\u001B[38;5;28mlist\u001B[39m, np\u001B[38;5;241m.\u001B[39mndarray))\n\u001B[1;32m    138\u001B[0m samples \u001B[38;5;241m=\u001B[39m np\u001B[38;5;241m.\u001B[39marray(samples[:num_samples])\n",
      "File \u001B[0;32m~/Projects/Envs/SydneyQuantum/lib/python3.12/site-packages/laboneq/dsl/experiment/pulse_library.py:171\u001B[0m, in \u001B[0;36mgaussian_square\u001B[0;34m(x, sigma, width, zero_boundaries, **_)\u001B[0m\n\u001B[1;32m    168\u001B[0m length \u001B[38;5;241m=\u001B[39m _[\u001B[38;5;124m\"\u001B[39m\u001B[38;5;124mlength\u001B[39m\u001B[38;5;124m\"\u001B[39m]\n\u001B[1;32m    170\u001B[0m \u001B[38;5;28;01mif\u001B[39;00m width \u001B[38;5;129;01mis\u001B[39;00m \u001B[38;5;129;01mnot\u001B[39;00m \u001B[38;5;28;01mNone\u001B[39;00m \u001B[38;5;129;01mand\u001B[39;00m width \u001B[38;5;241m>\u001B[39m\u001B[38;5;241m=\u001B[39m length:\n\u001B[0;32m--> 171\u001B[0m     \u001B[38;5;28;01mraise\u001B[39;00m \u001B[38;5;167;01mValueError\u001B[39;00m(\n\u001B[1;32m    172\u001B[0m         \u001B[38;5;124m\"\u001B[39m\u001B[38;5;124mThe width of the flat portion of the pulse must be smaller than the total length.\u001B[39m\u001B[38;5;124m\"\u001B[39m\n\u001B[1;32m    173\u001B[0m     )\n\u001B[1;32m    175\u001B[0m \u001B[38;5;28;01mif\u001B[39;00m width \u001B[38;5;129;01mis\u001B[39;00m \u001B[38;5;28;01mNone\u001B[39;00m:\n\u001B[1;32m    176\u001B[0m     width \u001B[38;5;241m=\u001B[39m \u001B[38;5;241m0.9\u001B[39m \u001B[38;5;241m*\u001B[39m length\n",
      "\u001B[0;31mValueError\u001B[0m: The width of the flat portion of the pulse must be smaller than the total length."
     ]
    }
   ],
   "source": [
    "amp_start = 0.1 \n",
    "amp_stop = 0.9\n",
    "amp_num_points = 3\n",
    "amp_sweep = LinearSweepParameter(uid = \"amp_sweep_params\", start = amp_start, stop = amp_stop, count = amp_num_points)\n",
    " \n",
    "exp_params_2d_res_spec = exp_params_res\n",
    "exp_params_2d_res_spec.update({\n",
    "    \"exp_name\": \"2D pulse spec\", # or \"2D cw spec\"\n",
    "    \"readout_pulse\": envelop_waveform,\n",
    "    \"wait_after_int\": 5e-6,\n",
    "    \"amp_sweep\": amp_sweep,\n",
    "})\n",
    "\n",
    "results_2d_res = res_spectroscopy(session, exp_params_2d_res_spec)\n",
    "\n",
    "data  = results_2d_res.acquired_results[exp_params_2d_res_spec[\"exp_name\"]].data\n",
    "x = results_2d_res.acquired_results[exp_params_2d_res_spec[\"exp_name\"]].axis[1]\n",
    "y = results_2d_res.acquired_results[exp_params_2d_res_spec[\"exp_name\"]].axis[0]\n",
    "plot_n(x, y, data, do_plot = 1)\n",
    "plot_2d(x, y, data, do_plot = 1)\n"
   ]
  },
  {
   "cell_type": "markdown",
   "id": "377185f8",
   "metadata": {},
   "source": [
    "### Upload readout parameters after resonator spectroscopy "
   ]
  },
  {
   "cell_type": "code",
   "execution_count": 12,
   "id": "ea29da77",
   "metadata": {
    "ExecuteTime": {
     "end_time": "2024-02-22T05:03:37.379313Z",
     "start_time": "2024-02-22T05:03:37.348768Z"
    }
   },
   "outputs": [],
   "source": [
    "# update qudits_params and calibration \n",
    "qudits_params.update({\n",
    "    \"ro_cnet_f\": 5e9,\n",
    "    \"ro_df\": np.linspace(10e6, 200e6, num_qudits),\n",
    "    \"ro_pout_range\": 0,\n",
    "    \"ro_pin_range\": 0,\n",
    "    \"ro_pulse_data\": {k: envelop_waveform for k in lsg_keys}, # note that with software modulation mode, the waveform data will multiply exp(1j*omega_i*t)\n",
    "    \"ro_int_t\": exp_params_res[\"integration_time\"],\n",
    "    \"wait_after_int\": exp_params_res[\"wait_after_int\"],\n",
    "})\n",
    "device_setup.set_calibration(define_calibration(qudits_params))"
   ]
  },
  {
   "cell_type": "code",
   "execution_count": 12,
   "id": "5cf65adc",
   "metadata": {
    "ExecuteTime": {
     "end_time": "2024-02-22T05:03:37.594263Z",
     "start_time": "2024-02-22T05:03:37.538811Z"
    }
   },
   "outputs": [],
   "source": []
  },
  {
   "cell_type": "markdown",
   "id": "44415dcf",
   "metadata": {},
   "source": [
    "# Measure propagation delay from the output to input (front panel)"
   ]
  },
  {
   "cell_type": "code",
   "execution_count": 13,
   "id": "1c3236c7",
   "metadata": {
    "ExecuteTime": {
     "end_time": "2024-02-22T05:03:38.159012Z",
     "start_time": "2024-02-22T05:03:37.883235Z"
    }
   },
   "outputs": [
    {
     "name": "stdout",
     "output_type": "stream",
     "text": [
      "[2024.02.22 16:03:37.880] INFO    Starting LabOne Q Compiler run...\n",
      "[2024.02.22 16:03:37.884] INFO    Schedule completed\n"
     ]
    },
    {
     "ename": "ValueError",
     "evalue": "The width of the flat portion of the pulse must be smaller than the total length.",
     "output_type": "error",
     "traceback": [
      "\u001B[0;31m---------------------------------------------------------------------------\u001B[0m",
      "\u001B[0;31mValueError\u001B[0m                                Traceback (most recent call last)",
      "Cell \u001B[0;32mIn[13], line 20\u001B[0m\n\u001B[1;32m      8\u001B[0m exp_params_prop_delay \u001B[38;5;241m=\u001B[39m {\n\u001B[1;32m      9\u001B[0m     \u001B[38;5;124m\"\u001B[39m\u001B[38;5;124mexp_name\u001B[39m\u001B[38;5;124m\"\u001B[39m: \u001B[38;5;124m\"\u001B[39m\u001B[38;5;124mpropagation_delay\u001B[39m\u001B[38;5;124m\"\u001B[39m,\n\u001B[1;32m     10\u001B[0m     \u001B[38;5;124m\"\u001B[39m\u001B[38;5;124mdelay_sweep\u001B[39m\u001B[38;5;124m\"\u001B[39m: delay_sweep,\n\u001B[0;32m   (...)\u001B[0m\n\u001B[1;32m     15\u001B[0m     \u001B[38;5;124m\"\u001B[39m\u001B[38;5;124mplt_length\u001B[39m\u001B[38;5;124m\"\u001B[39m:\u001B[38;5;241m10e-6\u001B[39m,\n\u001B[1;32m     16\u001B[0m }\n\u001B[1;32m     19\u001B[0m \u001B[38;5;66;03m# exp_settings = {\"integration_time\": integration_time, \"num_averages\": num_averages}\u001B[39;00m\n\u001B[0;32m---> 20\u001B[0m results_exp_delay \u001B[38;5;241m=\u001B[39m \u001B[43mpropagation_delay\u001B[49m\u001B[43m(\u001B[49m\u001B[43msession\u001B[49m\u001B[43m,\u001B[49m\u001B[43m \u001B[49m\u001B[43mexp_params_prop_delay\u001B[49m\u001B[43m,\u001B[49m\u001B[43m \u001B[49m\u001B[43mqudits_params\u001B[49m\u001B[43m)\u001B[49m\n\u001B[1;32m     22\u001B[0m f \u001B[38;5;241m=\u001B[39m np\u001B[38;5;241m.\u001B[39mtranspose(np\u001B[38;5;241m.\u001B[39marray(results_exp_delay\u001B[38;5;241m.\u001B[39macquired_results[exp_params_prop_delay[\u001B[38;5;124m\"\u001B[39m\u001B[38;5;124mexp_name\u001B[39m\u001B[38;5;124m\"\u001B[39m]]\u001B[38;5;241m.\u001B[39maxis))\n\u001B[1;32m     23\u001B[0m data  \u001B[38;5;241m=\u001B[39m results_exp_delay\u001B[38;5;241m.\u001B[39macquired_results[exp_params_prop_delay[\u001B[38;5;124m\"\u001B[39m\u001B[38;5;124mexp_name\u001B[39m\u001B[38;5;124m\"\u001B[39m]]\u001B[38;5;241m.\u001B[39mdata\n",
      "Cell \u001B[0;32mIn[7], line 245\u001B[0m, in \u001B[0;36mpropagation_delay\u001B[0;34m(session, exp_params, qudits_params)\u001B[0m\n\u001B[1;32m    242\u001B[0m cal[\u001B[38;5;124m\"\u001B[39m\u001B[38;5;124macquire\u001B[39m\u001B[38;5;124m\"\u001B[39m] \u001B[38;5;241m=\u001B[39m SignalCalibration(port_delay\u001B[38;5;241m=\u001B[39mexp_params[\u001B[38;5;124m\"\u001B[39m\u001B[38;5;124mdelay_sweep\u001B[39m\u001B[38;5;124m\"\u001B[39m])\n\u001B[1;32m    243\u001B[0m exp\u001B[38;5;241m.\u001B[39mset_calibration(cal)\n\u001B[0;32m--> 245\u001B[0m results \u001B[38;5;241m=\u001B[39m \u001B[43mcompile_run\u001B[49m\u001B[43m(\u001B[49m\u001B[43msession\u001B[49m\u001B[43m,\u001B[49m\u001B[43m \u001B[49m\u001B[43mexp_params\u001B[49m\u001B[43m,\u001B[49m\u001B[43m \u001B[49m\u001B[43mexp\u001B[49m\u001B[43m)\u001B[49m\n\u001B[1;32m    246\u001B[0m \u001B[38;5;28;01mreturn\u001B[39;00m results\n",
      "Cell \u001B[0;32mIn[7], line 80\u001B[0m, in \u001B[0;36mcompile_run\u001B[0;34m(session, exp_params, exp)\u001B[0m\n\u001B[1;32m     77\u001B[0m \u001B[38;5;28;01mif\u001B[39;00m \u001B[38;5;124m\"\u001B[39m\u001B[38;5;124mrb\u001B[39m\u001B[38;5;124m\"\u001B[39m \u001B[38;5;129;01min\u001B[39;00m exp_params[\u001B[38;5;124m\"\u001B[39m\u001B[38;5;124mexp_name\u001B[39m\u001B[38;5;124m\"\u001B[39m]:\n\u001B[1;32m     78\u001B[0m     compiler_settings \u001B[38;5;241m=\u001B[39m {\u001B[38;5;124m\"\u001B[39m\u001B[38;5;124mSHFSG_MIN_PLAYWAVE_HINT\u001B[39m\u001B[38;5;124m\"\u001B[39m: \u001B[38;5;241m256\u001B[39m}\n\u001B[0;32m---> 80\u001B[0m compiled_exp \u001B[38;5;241m=\u001B[39m \u001B[43msession\u001B[49m\u001B[38;5;241;43m.\u001B[39;49m\u001B[43mcompile\u001B[49m\u001B[43m(\u001B[49m\u001B[43mexp\u001B[49m\u001B[43m,\u001B[49m\u001B[43m \u001B[49m\u001B[43mcompiler_settings\u001B[49m\u001B[43m \u001B[49m\u001B[38;5;241;43m=\u001B[39;49m\u001B[43m \u001B[49m\u001B[43mcompiler_settings\u001B[49m\u001B[43m)\u001B[49m\n\u001B[1;32m     81\u001B[0m results \u001B[38;5;241m=\u001B[39m session\u001B[38;5;241m.\u001B[39mrun(compiled_exp)    \n\u001B[1;32m     82\u001B[0m Path(\u001B[38;5;124m\"\u001B[39m\u001B[38;5;124mPulse_Sheets\u001B[39m\u001B[38;5;124m\"\u001B[39m)\u001B[38;5;241m.\u001B[39mmkdir(parents\u001B[38;5;241m=\u001B[39m\u001B[38;5;28;01mTrue\u001B[39;00m, exist_ok\u001B[38;5;241m=\u001B[39m\u001B[38;5;28;01mTrue\u001B[39;00m)\n",
      "File \u001B[0;32m~/Projects/Envs/SydneyQuantum/lib/python3.12/site-packages/laboneq/_observability/tracing/_tracer.py:75\u001B[0m, in \u001B[0;36mtrace.<locals>.outer_wrapper.<locals>.wrapper\u001B[0;34m(*args, **kwargs)\u001B[0m\n\u001B[1;32m     73\u001B[0m             tracing\u001B[38;5;241m.\u001B[39menable_tracing()\n\u001B[1;32m     74\u001B[0m         \u001B[38;5;28;01mreturn\u001B[39;00m res\n\u001B[0;32m---> 75\u001B[0m \u001B[38;5;28;01mreturn\u001B[39;00m \u001B[43mfunc\u001B[49m\u001B[43m(\u001B[49m\u001B[38;5;241;43m*\u001B[39;49m\u001B[43margs\u001B[49m\u001B[43m,\u001B[49m\u001B[43m \u001B[49m\u001B[38;5;241;43m*\u001B[39;49m\u001B[38;5;241;43m*\u001B[39;49m\u001B[43mkwargs\u001B[49m\u001B[43m)\u001B[49m\n",
      "File \u001B[0;32m~/Projects/Envs/SydneyQuantum/lib/python3.12/site-packages/laboneq/dsl/session.py:337\u001B[0m, in \u001B[0;36mSession.compile\u001B[0;34m(self, experiment, compiler_settings)\u001B[0m\n\u001B[1;32m    335\u001B[0m \u001B[38;5;28mself\u001B[39m\u001B[38;5;241m.\u001B[39m_assert_connected(fail\u001B[38;5;241m=\u001B[39m\u001B[38;5;28;01mTrue\u001B[39;00m)\n\u001B[1;32m    336\u001B[0m \u001B[38;5;28mself\u001B[39m\u001B[38;5;241m.\u001B[39m_experiment_definition \u001B[38;5;241m=\u001B[39m experiment\n\u001B[0;32m--> 337\u001B[0m \u001B[38;5;28mself\u001B[39m\u001B[38;5;241m.\u001B[39m_compiled_experiment \u001B[38;5;241m=\u001B[39m \u001B[43mLabOneQFacade\u001B[49m\u001B[38;5;241;43m.\u001B[39;49m\u001B[43mcompile\u001B[49m\u001B[43m(\u001B[49m\n\u001B[1;32m    338\u001B[0m \u001B[43m    \u001B[49m\u001B[38;5;28;43mself\u001B[39;49m\u001B[43m,\u001B[49m\u001B[43m \u001B[49m\u001B[38;5;28;43mself\u001B[39;49m\u001B[38;5;241;43m.\u001B[39;49m\u001B[43mlogger\u001B[49m\u001B[43m,\u001B[49m\u001B[43m \u001B[49m\u001B[43mcompiler_settings\u001B[49m\u001B[38;5;241;43m=\u001B[39;49m\u001B[43mcompiler_settings\u001B[49m\n\u001B[1;32m    339\u001B[0m \u001B[43m\u001B[49m\u001B[43m)\u001B[49m\n\u001B[1;32m    340\u001B[0m \u001B[38;5;28mself\u001B[39m\u001B[38;5;241m.\u001B[39m_last_results \u001B[38;5;241m=\u001B[39m \u001B[38;5;28;01mNone\u001B[39;00m\n\u001B[1;32m    341\u001B[0m \u001B[38;5;28;01mreturn\u001B[39;00m \u001B[38;5;28mself\u001B[39m\u001B[38;5;241m.\u001B[39m_compiled_experiment\n",
      "File \u001B[0;32m~/Projects/Envs/SydneyQuantum/lib/python3.12/site-packages/laboneq/dsl/laboneq_facade.py:71\u001B[0m, in \u001B[0;36mLabOneQFacade.compile\u001B[0;34m(session, logger, compiler_settings)\u001B[0m\n\u001B[1;32m     68\u001B[0m signal_mapping \u001B[38;5;241m=\u001B[39m convert_signal_map(session\u001B[38;5;241m.\u001B[39mexperiment)\n\u001B[1;32m     70\u001B[0m payload_builder \u001B[38;5;241m=\u001B[39m ApplicationManager\u001B[38;5;241m.\u001B[39minstance()\u001B[38;5;241m.\u001B[39mpayload_builder()\n\u001B[0;32m---> 71\u001B[0m payload \u001B[38;5;241m=\u001B[39m \u001B[43mpayload_builder\u001B[49m\u001B[38;5;241;43m.\u001B[39;49m\u001B[43mbuild_payload\u001B[49m\u001B[43m(\u001B[49m\n\u001B[1;32m     72\u001B[0m \u001B[43m    \u001B[49m\u001B[43mnew_setup\u001B[49m\u001B[43m,\u001B[49m\n\u001B[1;32m     73\u001B[0m \u001B[43m    \u001B[49m\u001B[43mnew_experiment\u001B[49m\u001B[43m,\u001B[49m\n\u001B[1;32m     74\u001B[0m \u001B[43m    \u001B[49m\u001B[43msignal_mapping\u001B[49m\u001B[43m,\u001B[49m\n\u001B[1;32m     75\u001B[0m \u001B[43m    \u001B[49m\u001B[43mcompiler_settings\u001B[49m\u001B[43m,\u001B[49m\n\u001B[1;32m     76\u001B[0m \u001B[43m\u001B[49m\u001B[43m)\u001B[49m\n\u001B[1;32m     78\u001B[0m compiled_experiment \u001B[38;5;241m=\u001B[39m CompiledExperiment(\n\u001B[1;32m     79\u001B[0m     device_setup\u001B[38;5;241m=\u001B[39msession\u001B[38;5;241m.\u001B[39mdevice_setup,\n\u001B[1;32m     80\u001B[0m     experiment\u001B[38;5;241m=\u001B[39msession\u001B[38;5;241m.\u001B[39mexperiment,\n\u001B[1;32m     81\u001B[0m     experiment_dict\u001B[38;5;241m=\u001B[39m\u001B[38;5;28;01mNone\u001B[39;00m,  \u001B[38;5;66;03m# deprecated\u001B[39;00m\n\u001B[1;32m     82\u001B[0m     scheduled_experiment\u001B[38;5;241m=\u001B[39mpayload\u001B[38;5;241m.\u001B[39mscheduled_experiment,\n\u001B[1;32m     83\u001B[0m )\n\u001B[1;32m     84\u001B[0m \u001B[38;5;28;01mreturn\u001B[39;00m compiled_experiment\n",
      "File \u001B[0;32m~/Projects/Envs/SydneyQuantum/lib/python3.12/site-packages/laboneq/implementation/payload_builder/payload_builder.py:50\u001B[0m, in \u001B[0;36mPayloadBuilder.build_payload\u001B[0;34m(self, device_setup, experiment, signal_mappings, compiler_settings)\u001B[0m\n\u001B[1;32m     44\u001B[0m     experiment\u001B[38;5;241m.\u001B[39msignals \u001B[38;5;241m=\u001B[39m []\n\u001B[1;32m     46\u001B[0m job \u001B[38;5;241m=\u001B[39m \u001B[38;5;28mself\u001B[39m\u001B[38;5;241m.\u001B[39mcreate_compilation_job(\n\u001B[1;32m     47\u001B[0m     device_setup, experiment, signal_mappings, compiler_settings\n\u001B[1;32m     48\u001B[0m )\n\u001B[0;32m---> 50\u001B[0m job_id \u001B[38;5;241m=\u001B[39m \u001B[38;5;28;43mself\u001B[39;49m\u001B[38;5;241;43m.\u001B[39;49m\u001B[43m_compilation_service\u001B[49m\u001B[38;5;241;43m.\u001B[39;49m\u001B[43msubmit_compilation_job\u001B[49m\u001B[43m(\u001B[49m\u001B[43mjob\u001B[49m\u001B[43m)\u001B[49m\n\u001B[1;32m     52\u001B[0m scheduled_experiment \u001B[38;5;241m=\u001B[39m \u001B[38;5;28mself\u001B[39m\u001B[38;5;241m.\u001B[39m_compilation_service\u001B[38;5;241m.\u001B[39mcompilation_job_result(job_id)\n\u001B[1;32m     54\u001B[0m target_setup \u001B[38;5;241m=\u001B[39m TargetSetupGenerator\u001B[38;5;241m.\u001B[39mfrom_setup(device_setup)\n",
      "File \u001B[0;32m~/Projects/Envs/SydneyQuantum/lib/python3.12/site-packages/laboneq/implementation/compilation_service/compilation_service_legacy.py:29\u001B[0m, in \u001B[0;36mCompilationServiceLegacy.submit_compilation_job\u001B[0;34m(self, job)\u001B[0m\n\u001B[1;32m     27\u001B[0m queue_entry \u001B[38;5;241m=\u001B[39m {\u001B[38;5;124m\"\u001B[39m\u001B[38;5;124mjob_id\u001B[39m\u001B[38;5;124m\"\u001B[39m: job_id, \u001B[38;5;124m\"\u001B[39m\u001B[38;5;124mjob\u001B[39m\u001B[38;5;124m\"\u001B[39m: job}\n\u001B[1;32m     28\u001B[0m compiler \u001B[38;5;241m=\u001B[39m Compiler(job\u001B[38;5;241m.\u001B[39mcompiler_settings)\n\u001B[0;32m---> 29\u001B[0m compiler_output \u001B[38;5;241m=\u001B[39m \u001B[43mcompiler\u001B[49m\u001B[38;5;241;43m.\u001B[39;49m\u001B[43mrun\u001B[49m\u001B[43m(\u001B[49m\u001B[43mjob\u001B[49m\u001B[43m)\u001B[49m\n\u001B[1;32m     31\u001B[0m \u001B[38;5;28mself\u001B[39m\u001B[38;5;241m.\u001B[39m_job_results[job_id] \u001B[38;5;241m=\u001B[39m convert_compiler_output_to_scheduled_experiment(\n\u001B[1;32m     32\u001B[0m     compiler_output\n\u001B[1;32m     33\u001B[0m )\n\u001B[1;32m     35\u001B[0m \u001B[38;5;28mself\u001B[39m\u001B[38;5;241m.\u001B[39m_job_queue\u001B[38;5;241m.\u001B[39mappend(queue_entry)\n",
      "File \u001B[0;32m~/Projects/Envs/SydneyQuantum/lib/python3.12/site-packages/laboneq/_observability/tracing/_tracer.py:75\u001B[0m, in \u001B[0;36mtrace.<locals>.outer_wrapper.<locals>.wrapper\u001B[0;34m(*args, **kwargs)\u001B[0m\n\u001B[1;32m     73\u001B[0m             tracing\u001B[38;5;241m.\u001B[39menable_tracing()\n\u001B[1;32m     74\u001B[0m         \u001B[38;5;28;01mreturn\u001B[39;00m res\n\u001B[0;32m---> 75\u001B[0m \u001B[38;5;28;01mreturn\u001B[39;00m \u001B[43mfunc\u001B[49m\u001B[43m(\u001B[49m\u001B[38;5;241;43m*\u001B[39;49m\u001B[43margs\u001B[49m\u001B[43m,\u001B[49m\u001B[43m \u001B[49m\u001B[38;5;241;43m*\u001B[39;49m\u001B[38;5;241;43m*\u001B[39;49m\u001B[43mkwargs\u001B[49m\u001B[43m)\u001B[49m\n",
      "File \u001B[0;32m~/Projects/Envs/SydneyQuantum/lib/python3.12/site-packages/laboneq/compiler/workflow/compiler.py:1164\u001B[0m, in \u001B[0;36mCompiler.run\u001B[0;34m(self, data)\u001B[0m\n\u001B[1;32m   1162\u001B[0m \u001B[38;5;28mself\u001B[39m\u001B[38;5;241m.\u001B[39muse_experiment(data)\n\u001B[1;32m   1163\u001B[0m \u001B[38;5;28mself\u001B[39m\u001B[38;5;241m.\u001B[39m_analyze_setup()\n\u001B[0;32m-> 1164\u001B[0m \u001B[38;5;28;43mself\u001B[39;49m\u001B[38;5;241;43m.\u001B[39;49m\u001B[43m_process_experiment\u001B[49m\u001B[43m(\u001B[49m\u001B[43m)\u001B[49m\n\u001B[1;32m   1166\u001B[0m \u001B[38;5;28mself\u001B[39m\u001B[38;5;241m.\u001B[39m_generate_recipe()\n\u001B[1;32m   1168\u001B[0m retval \u001B[38;5;241m=\u001B[39m \u001B[38;5;28mself\u001B[39m\u001B[38;5;241m.\u001B[39mcompiler_output()\n",
      "File \u001B[0;32m~/Projects/Envs/SydneyQuantum/lib/python3.12/site-packages/laboneq/compiler/workflow/compiler.py:269\u001B[0m, in \u001B[0;36mCompiler._process_experiment\u001B[0;34m(self)\u001B[0m\n\u001B[1;32m    262\u001B[0m rt_compiler \u001B[38;5;241m=\u001B[39m RealtimeCompiler(\n\u001B[1;32m    263\u001B[0m     \u001B[38;5;28mself\u001B[39m\u001B[38;5;241m.\u001B[39m_experiment_dao,\n\u001B[1;32m    264\u001B[0m     \u001B[38;5;28mself\u001B[39m\u001B[38;5;241m.\u001B[39m_sampling_rate_tracker,\n\u001B[1;32m    265\u001B[0m     \u001B[38;5;28mself\u001B[39m\u001B[38;5;241m.\u001B[39m_signal_objects,\n\u001B[1;32m    266\u001B[0m     \u001B[38;5;28mself\u001B[39m\u001B[38;5;241m.\u001B[39m_settings,\n\u001B[1;32m    267\u001B[0m )\n\u001B[1;32m    268\u001B[0m executor \u001B[38;5;241m=\u001B[39m NtCompilerExecutor(rt_compiler, \u001B[38;5;28mself\u001B[39m\u001B[38;5;241m.\u001B[39m_settings)\n\u001B[0;32m--> 269\u001B[0m \u001B[43mexecutor\u001B[49m\u001B[38;5;241;43m.\u001B[39;49m\u001B[43mrun\u001B[49m\u001B[43m(\u001B[49m\u001B[38;5;28;43mself\u001B[39;49m\u001B[38;5;241;43m.\u001B[39;49m\u001B[43m_execution\u001B[49m\u001B[43m)\u001B[49m\n\u001B[1;32m    270\u001B[0m \u001B[38;5;28mself\u001B[39m\u001B[38;5;241m.\u001B[39m_combined_compiler_output \u001B[38;5;241m=\u001B[39m executor\u001B[38;5;241m.\u001B[39mcombined_compiler_output()\n\u001B[1;32m    271\u001B[0m \u001B[38;5;28;01mif\u001B[39;00m \u001B[38;5;28mself\u001B[39m\u001B[38;5;241m.\u001B[39m_combined_compiler_output \u001B[38;5;129;01mis\u001B[39;00m \u001B[38;5;28;01mNone\u001B[39;00m:\n\u001B[1;32m    272\u001B[0m     \u001B[38;5;66;03m# Some of our tests do not have an RT averaging loop, so the RT compiler will\u001B[39;00m\n\u001B[1;32m    273\u001B[0m     \u001B[38;5;66;03m# not have been run. For backwards compatibility, we still run it once.\u001B[39;00m\n",
      "File \u001B[0;32m~/Projects/Envs/SydneyQuantum/lib/python3.12/site-packages/laboneq/executor/executor.py:479\u001B[0m, in \u001B[0;36mExecutorBase.run\u001B[0;34m(self, root_sequence)\u001B[0m\n\u001B[1;32m    477\u001B[0m scope \u001B[38;5;241m=\u001B[39m ExecutionScope(\u001B[38;5;28;01mNone\u001B[39;00m, \u001B[38;5;28mself\u001B[39m)\n\u001B[1;32m    478\u001B[0m \u001B[38;5;28;01mfor\u001B[39;00m notification \u001B[38;5;129;01min\u001B[39;00m root_sequence\u001B[38;5;241m.\u001B[39mrun(scope):\n\u001B[0;32m--> 479\u001B[0m     \u001B[38;5;28;43mself\u001B[39;49m\u001B[38;5;241;43m.\u001B[39;49m\u001B[43m_handlers_map\u001B[49m\u001B[43m[\u001B[49m\u001B[43mnotification\u001B[49m\u001B[38;5;241;43m.\u001B[39;49m\u001B[43mstatement_type\u001B[49m\u001B[43m]\u001B[49m\u001B[43m(\u001B[49m\u001B[38;5;241;43m*\u001B[39;49m\u001B[38;5;241;43m*\u001B[39;49m\u001B[43mnotification\u001B[49m\u001B[38;5;241;43m.\u001B[39;49m\u001B[43margs\u001B[49m\u001B[43m)\u001B[49m\n",
      "File \u001B[0;32m~/Projects/Envs/SydneyQuantum/lib/python3.12/site-packages/laboneq/compiler/workflow/neartime_execution.py:155\u001B[0m, in \u001B[0;36mNtCompilerExecutor.rt_entry_handler\u001B[0;34m(self, count, uid, averaging_mode, acquisition_type)\u001B[0m\n\u001B[1;32m    153\u001B[0m parameter_store \u001B[38;5;241m=\u001B[39m ParameterStore(\u001B[38;5;28mself\u001B[39m\u001B[38;5;241m.\u001B[39m_iteration_stack\u001B[38;5;241m.\u001B[39mnt_parameter_values())\n\u001B[1;32m    154\u001B[0m tracker \u001B[38;5;241m=\u001B[39m parameter_store\u001B[38;5;241m.\u001B[39mcreate_tracker()\n\u001B[0;32m--> 155\u001B[0m new_compiler_output \u001B[38;5;241m=\u001B[39m \u001B[38;5;28;43mself\u001B[39;49m\u001B[38;5;241;43m.\u001B[39;49m\u001B[43m_rt_compiler\u001B[49m\u001B[38;5;241;43m.\u001B[39;49m\u001B[43mrun\u001B[49m\u001B[43m(\u001B[49m\u001B[43mparameter_store\u001B[49m\u001B[43m)\u001B[49m\n\u001B[1;32m    157\u001B[0m \u001B[38;5;28;01mif\u001B[39;00m \u001B[38;5;28mself\u001B[39m\u001B[38;5;241m.\u001B[39m_required_parameters \u001B[38;5;129;01mis\u001B[39;00m \u001B[38;5;28;01mNone\u001B[39;00m:\n\u001B[1;32m    158\u001B[0m     \u001B[38;5;28mself\u001B[39m\u001B[38;5;241m.\u001B[39m_required_parameters \u001B[38;5;241m=\u001B[39m tracker\u001B[38;5;241m.\u001B[39mqueries()\n",
      "File \u001B[0;32m~/Projects/Envs/SydneyQuantum/lib/python3.12/site-packages/laboneq/compiler/workflow/realtime_compiler.py:110\u001B[0m, in \u001B[0;36mRealtimeCompiler.run\u001B[0;34m(self, near_time_parameters)\u001B[0m\n\u001B[1;32m    107\u001B[0m \u001B[38;5;28mself\u001B[39m\u001B[38;5;241m.\u001B[39m_scheduler\u001B[38;5;241m.\u001B[39mrun(near_time_parameters)\n\u001B[1;32m    108\u001B[0m schedule \u001B[38;5;241m=\u001B[39m \u001B[38;5;28mself\u001B[39m\u001B[38;5;241m.\u001B[39mprepare_schedule() \u001B[38;5;28;01mif\u001B[39;00m \u001B[38;5;28mself\u001B[39m\u001B[38;5;241m.\u001B[39m_settings\u001B[38;5;241m.\u001B[39mOUTPUT_EXTRAS \u001B[38;5;28;01melse\u001B[39;00m \u001B[38;5;28;01mNone\u001B[39;00m\n\u001B[0;32m--> 110\u001B[0m \u001B[38;5;28;43mself\u001B[39;49m\u001B[38;5;241;43m.\u001B[39;49m\u001B[43m_generate_code\u001B[49m\u001B[43m(\u001B[49m\u001B[43m)\u001B[49m\n\u001B[1;32m    112\u001B[0m outputs \u001B[38;5;241m=\u001B[39m {\n\u001B[1;32m    113\u001B[0m     device_class: code_generator\u001B[38;5;241m.\u001B[39mget_output()\n\u001B[1;32m    114\u001B[0m     \u001B[38;5;28;01mfor\u001B[39;00m device_class, code_generator \u001B[38;5;129;01min\u001B[39;00m \u001B[38;5;28mself\u001B[39m\u001B[38;5;241m.\u001B[39m_code_generators\u001B[38;5;241m.\u001B[39mitems()\n\u001B[1;32m    115\u001B[0m }\n\u001B[1;32m    117\u001B[0m compiler_output \u001B[38;5;241m=\u001B[39m RTCompilerOutputContainer(\n\u001B[1;32m    118\u001B[0m     codegen_output\u001B[38;5;241m=\u001B[39moutputs, schedule\u001B[38;5;241m=\u001B[39mschedule\n\u001B[1;32m    119\u001B[0m )\n",
      "File \u001B[0;32m~/Projects/Envs/SydneyQuantum/lib/python3.12/site-packages/laboneq/_observability/tracing/_tracer.py:75\u001B[0m, in \u001B[0;36mtrace.<locals>.outer_wrapper.<locals>.wrapper\u001B[0;34m(*args, **kwargs)\u001B[0m\n\u001B[1;32m     73\u001B[0m             tracing\u001B[38;5;241m.\u001B[39menable_tracing()\n\u001B[1;32m     74\u001B[0m         \u001B[38;5;28;01mreturn\u001B[39;00m res\n\u001B[0;32m---> 75\u001B[0m \u001B[38;5;28;01mreturn\u001B[39;00m \u001B[43mfunc\u001B[49m\u001B[43m(\u001B[49m\u001B[38;5;241;43m*\u001B[39;49m\u001B[43margs\u001B[49m\u001B[43m,\u001B[49m\u001B[43m \u001B[49m\u001B[38;5;241;43m*\u001B[39;49m\u001B[38;5;241;43m*\u001B[39;49m\u001B[43mkwargs\u001B[49m\u001B[43m)\u001B[49m\n",
      "File \u001B[0;32m~/Projects/Envs/SydneyQuantum/lib/python3.12/site-packages/laboneq/compiler/workflow/realtime_compiler.py:101\u001B[0m, in \u001B[0;36mRealtimeCompiler._generate_code\u001B[0;34m(self)\u001B[0m\n\u001B[1;32m     98\u001B[0m \u001B[38;5;28;01mif\u001B[39;00m \u001B[38;5;28mself\u001B[39m\u001B[38;5;241m.\u001B[39m_settings\u001B[38;5;241m.\u001B[39mFORCE_IR_ROUNDTRIP:\n\u001B[1;32m     99\u001B[0m     ir\u001B[38;5;241m.\u001B[39mround_trip()\n\u001B[0;32m--> 101\u001B[0m \u001B[38;5;28;43mself\u001B[39;49m\u001B[38;5;241;43m.\u001B[39;49m\u001B[43m_lower_ir_to_code\u001B[49m\u001B[43m(\u001B[49m\u001B[43mir\u001B[49m\u001B[43m)\u001B[49m\n\u001B[1;32m    102\u001B[0m _logger\u001B[38;5;241m.\u001B[39mdebug(\u001B[38;5;124m\"\u001B[39m\u001B[38;5;124mlowering IR to code complete\u001B[39m\u001B[38;5;124m\"\u001B[39m)\n",
      "File \u001B[0;32m~/Projects/Envs/SydneyQuantum/lib/python3.12/site-packages/laboneq/compiler/workflow/realtime_compiler.py:81\u001B[0m, in \u001B[0;36mRealtimeCompiler._lower_ir_to_code\u001B[0;34m(self, ir)\u001B[0m\n\u001B[1;32m     77\u001B[0m \u001B[38;5;28;01mfor\u001B[39;00m device_class \u001B[38;5;129;01min\u001B[39;00m device_classes:\n\u001B[1;32m     78\u001B[0m     \u001B[38;5;28mself\u001B[39m\u001B[38;5;241m.\u001B[39m_code_generators[device_class] \u001B[38;5;241m=\u001B[39m \u001B[38;5;28mself\u001B[39m\u001B[38;5;241m.\u001B[39m_registered_codegens[\n\u001B[1;32m     79\u001B[0m         device_class\n\u001B[1;32m     80\u001B[0m     ](ir, settings\u001B[38;5;241m=\u001B[39m\u001B[38;5;28mself\u001B[39m\u001B[38;5;241m.\u001B[39m_settings)\n\u001B[0;32m---> 81\u001B[0m     \u001B[38;5;28;43mself\u001B[39;49m\u001B[38;5;241;43m.\u001B[39;49m\u001B[43m_code_generators\u001B[49m\u001B[43m[\u001B[49m\u001B[43mdevice_class\u001B[49m\u001B[43m]\u001B[49m\u001B[38;5;241;43m.\u001B[39;49m\u001B[43mgenerate_code\u001B[49m\u001B[43m(\u001B[49m\n\u001B[1;32m     82\u001B[0m \u001B[43m        \u001B[49m\u001B[43m[\u001B[49m\n\u001B[1;32m     83\u001B[0m \u001B[43m            \u001B[49m\u001B[43ms\u001B[49m\n\u001B[1;32m     84\u001B[0m \u001B[43m            \u001B[49m\u001B[38;5;28;43;01mfor\u001B[39;49;00m\u001B[43m \u001B[49m\u001B[43ms\u001B[49m\u001B[43m \u001B[49m\u001B[38;5;129;43;01min\u001B[39;49;00m\u001B[43m \u001B[49m\u001B[38;5;28;43mself\u001B[39;49m\u001B[38;5;241;43m.\u001B[39;49m\u001B[43m_signal_objects\u001B[49m\u001B[38;5;241;43m.\u001B[39;49m\u001B[43mvalues\u001B[49m\u001B[43m(\u001B[49m\u001B[43m)\u001B[49m\n\u001B[1;32m     85\u001B[0m \u001B[43m            \u001B[49m\u001B[38;5;28;43;01mif\u001B[39;49;00m\u001B[43m \u001B[49m\u001B[43ms\u001B[49m\u001B[38;5;241;43m.\u001B[39;49m\u001B[43mawg\u001B[49m\u001B[38;5;241;43m.\u001B[39;49m\u001B[43mdevice_class\u001B[49m\u001B[43m \u001B[49m\u001B[38;5;241;43m==\u001B[39;49m\u001B[43m \u001B[49m\u001B[43mdevice_class\u001B[49m\n\u001B[1;32m     86\u001B[0m \u001B[43m        \u001B[49m\u001B[43m]\u001B[49m\n\u001B[1;32m     87\u001B[0m \u001B[43m    \u001B[49m\u001B[43m)\u001B[49m\n\u001B[1;32m     89\u001B[0m _logger\u001B[38;5;241m.\u001B[39mdebug(\u001B[38;5;124m\"\u001B[39m\u001B[38;5;124mCode generation completed\u001B[39m\u001B[38;5;124m\"\u001B[39m)\n",
      "File \u001B[0;32m~/Projects/Envs/SydneyQuantum/lib/python3.12/site-packages/laboneq/compiler/code_generator/code_generator.py:355\u001B[0m, in \u001B[0;36mCodeGenerator.generate_code\u001B[0;34m(self, signal_objs)\u001B[0m\n\u001B[1;32m    353\u001B[0m     \u001B[38;5;28mself\u001B[39m\u001B[38;5;241m.\u001B[39madd_signal(signal_obj)\n\u001B[1;32m    354\u001B[0m \u001B[38;5;28mself\u001B[39m\u001B[38;5;241m.\u001B[39mgen_acquire_map(event_list)\n\u001B[0;32m--> 355\u001B[0m \u001B[38;5;28;43mself\u001B[39;49m\u001B[38;5;241;43m.\u001B[39;49m\u001B[43mgen_seq_c\u001B[49m\u001B[43m(\u001B[49m\n\u001B[1;32m    356\u001B[0m \u001B[43m    \u001B[49m\u001B[43mevent_list\u001B[49m\u001B[43m,\u001B[49m\n\u001B[1;32m    357\u001B[0m \u001B[43m    \u001B[49m\u001B[43m{\u001B[49m\u001B[43mp\u001B[49m\u001B[38;5;241;43m.\u001B[39;49m\u001B[43muid\u001B[49m\u001B[43m:\u001B[49m\u001B[43m \u001B[49m\u001B[43mp\u001B[49m\u001B[43m \u001B[49m\u001B[38;5;28;43;01mfor\u001B[39;49;00m\u001B[43m \u001B[49m\u001B[43mp\u001B[49m\u001B[43m \u001B[49m\u001B[38;5;129;43;01min\u001B[39;49;00m\u001B[43m \u001B[49m\u001B[38;5;28;43mself\u001B[39;49m\u001B[38;5;241;43m.\u001B[39;49m\u001B[43m_ir\u001B[49m\u001B[38;5;241;43m.\u001B[39;49m\u001B[43mpulse_defs\u001B[49m\u001B[43m}\u001B[49m\u001B[43m,\u001B[49m\n\u001B[1;32m    358\u001B[0m \u001B[43m\u001B[49m\u001B[43m)\u001B[49m\n\u001B[1;32m    359\u001B[0m \u001B[38;5;28mself\u001B[39m\u001B[38;5;241m.\u001B[39mgen_waves()\n",
      "File \u001B[0;32m~/Projects/Envs/SydneyQuantum/lib/python3.12/site-packages/laboneq/compiler/code_generator/code_generator.py:718\u001B[0m, in \u001B[0;36mCodeGenerator.gen_seq_c\u001B[0;34m(self, events, pulse_defs)\u001B[0m\n\u001B[1;32m    710\u001B[0m \u001B[38;5;28mself\u001B[39m\u001B[38;5;241m.\u001B[39m_feedback_register_allocator \u001B[38;5;241m=\u001B[39m FeedbackRegisterAllocator(\n\u001B[1;32m    711\u001B[0m     \u001B[38;5;28mself\u001B[39m\u001B[38;5;241m.\u001B[39m_signals, events\n\u001B[1;32m    712\u001B[0m )\n\u001B[1;32m    714\u001B[0m \u001B[38;5;28;01mfor\u001B[39;00m _, awg \u001B[38;5;129;01min\u001B[39;00m \u001B[38;5;28msorted\u001B[39m(\n\u001B[1;32m    715\u001B[0m     \u001B[38;5;28mself\u001B[39m\u001B[38;5;241m.\u001B[39m_awgs\u001B[38;5;241m.\u001B[39mitems(),\n\u001B[1;32m    716\u001B[0m     key\u001B[38;5;241m=\u001B[39m\u001B[38;5;28;01mlambda\u001B[39;00m item: item[\u001B[38;5;241m0\u001B[39m]\u001B[38;5;241m.\u001B[39mdevice_id \u001B[38;5;241m+\u001B[39m \u001B[38;5;28mstr\u001B[39m(item[\u001B[38;5;241m0\u001B[39m]\u001B[38;5;241m.\u001B[39mawg_number),\n\u001B[1;32m    717\u001B[0m ):\n\u001B[0;32m--> 718\u001B[0m     \u001B[38;5;28;43mself\u001B[39;49m\u001B[38;5;241;43m.\u001B[39;49m\u001B[43m_gen_seq_c_per_awg\u001B[49m\u001B[43m(\u001B[49m\u001B[43mawg\u001B[49m\u001B[43m,\u001B[49m\u001B[43m \u001B[49m\u001B[43mevents\u001B[49m\u001B[43m,\u001B[49m\u001B[43m \u001B[49m\u001B[43mpulse_defs\u001B[49m\u001B[43m)\u001B[49m\n\u001B[1;32m    720\u001B[0m tgt_feedback_regs \u001B[38;5;241m=\u001B[39m \u001B[38;5;28mself\u001B[39m\u001B[38;5;241m.\u001B[39m_feedback_register_allocator\u001B[38;5;241m.\u001B[39mtarget_feedback_registers\n\u001B[1;32m    721\u001B[0m \u001B[38;5;28;01mfor\u001B[39;00m awg, target_fb_register \u001B[38;5;129;01min\u001B[39;00m tgt_feedback_regs\u001B[38;5;241m.\u001B[39mitems():\n",
      "File \u001B[0;32m~/Projects/Envs/SydneyQuantum/lib/python3.12/site-packages/laboneq/compiler/code_generator/code_generator.py:1136\u001B[0m, in \u001B[0;36mCodeGenerator._gen_seq_c_per_awg\u001B[0;34m(self, awg, events, pulse_defs)\u001B[0m\n\u001B[1;32m   1128\u001B[0m         \u001B[38;5;28;01massert\u001B[39;00m \u001B[38;5;28mself\u001B[39m\u001B[38;5;241m.\u001B[39m_integration_weights \u001B[38;5;129;01mis\u001B[39;00m \u001B[38;5;129;01mnot\u001B[39;00m \u001B[38;5;28;01mNone\u001B[39;00m\n\u001B[1;32m   1129\u001B[0m         _logger\u001B[38;5;241m.\u001B[39mdebug(\n\u001B[1;32m   1130\u001B[0m             \u001B[38;5;124m\"\u001B[39m\u001B[38;5;124mCalculating integration weights for signal \u001B[39m\u001B[38;5;132;01m%s\u001B[39;00m\u001B[38;5;124m. There are \u001B[39m\u001B[38;5;132;01m%d\u001B[39;00m\u001B[38;5;124m acquire events.\u001B[39m\u001B[38;5;124m\"\u001B[39m,\n\u001B[1;32m   1131\u001B[0m             signal_obj\u001B[38;5;241m.\u001B[39mid,\n\u001B[1;32m   1132\u001B[0m             \u001B[38;5;28mlen\u001B[39m(acquire_events\u001B[38;5;241m.\u001B[39msequence),\n\u001B[1;32m   1133\u001B[0m         )\n\u001B[1;32m   1134\u001B[0m         \u001B[38;5;28mself\u001B[39m\u001B[38;5;241m.\u001B[39m_integration_weights\u001B[38;5;241m.\u001B[39msetdefault(awg\u001B[38;5;241m.\u001B[39mkey, {})[\n\u001B[1;32m   1135\u001B[0m             signal_obj\u001B[38;5;241m.\u001B[39mid\n\u001B[0;32m-> 1136\u001B[0m         ] \u001B[38;5;241m=\u001B[39m \u001B[43mcalculate_integration_weights\u001B[49m\u001B[43m(\u001B[49m\n\u001B[1;32m   1137\u001B[0m \u001B[43m            \u001B[49m\u001B[43macquire_events\u001B[49m\u001B[43m,\u001B[49m\u001B[43m \u001B[49m\u001B[43msignal_obj\u001B[49m\u001B[43m,\u001B[49m\u001B[43m \u001B[49m\u001B[43mpulse_defs\u001B[49m\n\u001B[1;32m   1138\u001B[0m \u001B[43m        \u001B[49m\u001B[43m)\u001B[49m\n\u001B[1;32m   1140\u001B[0m     sampled_events\u001B[38;5;241m.\u001B[39mmerge(acquire_events)\n\u001B[1;32m   1142\u001B[0m \u001B[38;5;28;01mif\u001B[39;00m awg\u001B[38;5;241m.\u001B[39msignal_type \u001B[38;5;241m==\u001B[39m AWGSignalType\u001B[38;5;241m.\u001B[39mMULTI:\n",
      "File \u001B[0;32m~/Projects/Envs/SydneyQuantum/lib/python3.12/site-packages/laboneq/compiler/code_generator/code_generator.py:257\u001B[0m, in \u001B[0;36mcalculate_integration_weights\u001B[0;34m(acquire_events, signal_obj, pulse_defs)\u001B[0m\n\u001B[1;32m    255\u001B[0m pulse_parameters \u001B[38;5;241m=\u001B[39m combine_pulse_parameters(pulse_par, \u001B[38;5;28;01mNone\u001B[39;00m, play_par)\n\u001B[1;32m    256\u001B[0m pulse_parameters \u001B[38;5;241m=\u001B[39m decode_pulse_parameters(pulse_parameters)\n\u001B[0;32m--> 257\u001B[0m integration_weight \u001B[38;5;241m=\u001B[39m \u001B[43msample_pulse\u001B[49m\u001B[43m(\u001B[49m\n\u001B[1;32m    258\u001B[0m \u001B[43m    \u001B[49m\u001B[43msignal_type\u001B[49m\u001B[38;5;241;43m=\u001B[39;49m\u001B[38;5;124;43m\"\u001B[39;49m\u001B[38;5;124;43miq\u001B[39;49m\u001B[38;5;124;43m\"\u001B[39;49m\u001B[43m,\u001B[49m\n\u001B[1;32m    259\u001B[0m \u001B[43m    \u001B[49m\u001B[43msampling_rate\u001B[49m\u001B[38;5;241;43m=\u001B[39;49m\u001B[43msignal_obj\u001B[49m\u001B[38;5;241;43m.\u001B[39;49m\u001B[43mawg\u001B[49m\u001B[38;5;241;43m.\u001B[39;49m\u001B[43msampling_rate\u001B[49m\u001B[43m,\u001B[49m\n\u001B[1;32m    260\u001B[0m \u001B[43m    \u001B[49m\u001B[43mlength\u001B[49m\u001B[38;5;241;43m=\u001B[39;49m\u001B[43mlength\u001B[49m\u001B[43m,\u001B[49m\n\u001B[1;32m    261\u001B[0m \u001B[43m    \u001B[49m\u001B[43mamplitude\u001B[49m\u001B[38;5;241;43m=\u001B[39;49m\u001B[43mamplitude\u001B[49m\u001B[43m,\u001B[49m\n\u001B[1;32m    262\u001B[0m \u001B[43m    \u001B[49m\u001B[43mpulse_function\u001B[49m\u001B[38;5;241;43m=\u001B[39;49m\u001B[43mpulse_def\u001B[49m\u001B[38;5;241;43m.\u001B[39;49m\u001B[43mfunction\u001B[49m\u001B[43m,\u001B[49m\n\u001B[1;32m    263\u001B[0m \u001B[43m    \u001B[49m\u001B[43mmodulation_frequency\u001B[49m\u001B[38;5;241;43m=\u001B[39;49m\u001B[43moscillator_frequency\u001B[49m\u001B[43m,\u001B[49m\n\u001B[1;32m    264\u001B[0m \u001B[43m    \u001B[49m\u001B[43msamples\u001B[49m\u001B[38;5;241;43m=\u001B[39;49m\u001B[43msamples\u001B[49m\u001B[43m,\u001B[49m\n\u001B[1;32m    265\u001B[0m \u001B[43m    \u001B[49m\u001B[43mmixer_type\u001B[49m\u001B[38;5;241;43m=\u001B[39;49m\u001B[43msignal_obj\u001B[49m\u001B[38;5;241;43m.\u001B[39;49m\u001B[43mmixer_type\u001B[49m\u001B[43m,\u001B[49m\n\u001B[1;32m    266\u001B[0m \u001B[43m    \u001B[49m\u001B[43mpulse_parameters\u001B[49m\u001B[38;5;241;43m=\u001B[39;49m\u001B[43mpulse_parameters\u001B[49m\u001B[43m,\u001B[49m\n\u001B[1;32m    267\u001B[0m \u001B[43m\u001B[49m\u001B[43m)\u001B[49m\n\u001B[1;32m    269\u001B[0m verify_amplitude_no_clipping(\n\u001B[1;32m    270\u001B[0m     integration_weight,\n\u001B[1;32m    271\u001B[0m     pulse_def\u001B[38;5;241m.\u001B[39muid,\n\u001B[1;32m    272\u001B[0m     signal_obj\u001B[38;5;241m.\u001B[39mmixer_type,\n\u001B[1;32m    273\u001B[0m     signal_obj\u001B[38;5;241m.\u001B[39mid,\n\u001B[1;32m    274\u001B[0m )\n\u001B[1;32m    276\u001B[0m \u001B[38;5;66;03m# 128-bit hash as waveform name\u001B[39;00m\n",
      "File \u001B[0;32m~/Projects/Envs/SydneyQuantum/lib/python3.12/site-packages/laboneq/core/utilities/pulse_sampler.py:130\u001B[0m, in \u001B[0;36msample_pulse\u001B[0;34m(signal_type, sampling_rate, length, amplitude, pulse_function, modulation_frequency, phase, samples, mixer_type, pulse_parameters, markers)\u001B[0m\n\u001B[1;32m    125\u001B[0m     pulse_parameters \u001B[38;5;241m=\u001B[39m {\n\u001B[1;32m    126\u001B[0m         k: v \u001B[38;5;28;01mfor\u001B[39;00m (k, v) \u001B[38;5;129;01min\u001B[39;00m pulse_parameters\u001B[38;5;241m.\u001B[39mitems() \u001B[38;5;28;01mif\u001B[39;00m k \u001B[38;5;241m!=\u001B[39m \u001B[38;5;124m\"\u001B[39m\u001B[38;5;124mamplitude\u001B[39m\u001B[38;5;124m\"\u001B[39m\n\u001B[1;32m    127\u001B[0m     }\n\u001B[1;32m    129\u001B[0m \u001B[38;5;28;01mif\u001B[39;00m pulse_function \u001B[38;5;129;01mis\u001B[39;00m \u001B[38;5;129;01mnot\u001B[39;00m \u001B[38;5;28;01mNone\u001B[39;00m:\n\u001B[0;32m--> 130\u001B[0m     samples \u001B[38;5;241m=\u001B[39m \u001B[43mpulse_function_library\u001B[49m\u001B[43m[\u001B[49m\u001B[43mpulse_function\u001B[49m\u001B[43m]\u001B[49m\u001B[43m(\u001B[49m\n\u001B[1;32m    131\u001B[0m \u001B[43m        \u001B[49m\u001B[43mnp\u001B[49m\u001B[38;5;241;43m.\u001B[39;49m\u001B[43mlinspace\u001B[49m\u001B[43m(\u001B[49m\u001B[38;5;241;43m-\u001B[39;49m\u001B[38;5;241;43m1\u001B[39;49m\u001B[43m,\u001B[49m\u001B[43m \u001B[49m\u001B[38;5;241;43m1\u001B[39;49m\u001B[43m,\u001B[49m\u001B[43m \u001B[49m\u001B[43mnum_samples\u001B[49m\u001B[43m,\u001B[49m\u001B[43m \u001B[49m\u001B[43mendpoint\u001B[49m\u001B[38;5;241;43m=\u001B[39;49m\u001B[38;5;28;43;01mFalse\u001B[39;49;00m\u001B[43m)\u001B[49m\u001B[43m,\u001B[49m\n\u001B[1;32m    132\u001B[0m \u001B[43m        \u001B[49m\u001B[43mlength\u001B[49m\u001B[38;5;241;43m=\u001B[39;49m\u001B[43mlength\u001B[49m\u001B[43m,\u001B[49m\n\u001B[1;32m    133\u001B[0m \u001B[43m        \u001B[49m\u001B[43mamplitude\u001B[49m\u001B[38;5;241;43m=\u001B[39;49m\u001B[43mamplitude\u001B[49m\u001B[43m,\u001B[49m\n\u001B[1;32m    134\u001B[0m \u001B[43m        \u001B[49m\u001B[43msampling_rate\u001B[49m\u001B[38;5;241;43m=\u001B[39;49m\u001B[43msampling_rate\u001B[49m\u001B[43m,\u001B[49m\n\u001B[1;32m    135\u001B[0m \u001B[43m        \u001B[49m\u001B[38;5;241;43m*\u001B[39;49m\u001B[38;5;241;43m*\u001B[39;49m\u001B[43mpulse_parameters\u001B[49m\u001B[43m,\u001B[49m\n\u001B[1;32m    136\u001B[0m \u001B[43m    \u001B[49m\u001B[43m)\u001B[49m\n\u001B[1;32m    137\u001B[0m \u001B[38;5;28;01massert\u001B[39;00m \u001B[38;5;28misinstance\u001B[39m(samples, (\u001B[38;5;28mlist\u001B[39m, np\u001B[38;5;241m.\u001B[39mndarray))\n\u001B[1;32m    138\u001B[0m samples \u001B[38;5;241m=\u001B[39m np\u001B[38;5;241m.\u001B[39marray(samples[:num_samples])\n",
      "File \u001B[0;32m~/Projects/Envs/SydneyQuantum/lib/python3.12/site-packages/laboneq/dsl/experiment/pulse_library.py:171\u001B[0m, in \u001B[0;36mgaussian_square\u001B[0;34m(x, sigma, width, zero_boundaries, **_)\u001B[0m\n\u001B[1;32m    168\u001B[0m length \u001B[38;5;241m=\u001B[39m _[\u001B[38;5;124m\"\u001B[39m\u001B[38;5;124mlength\u001B[39m\u001B[38;5;124m\"\u001B[39m]\n\u001B[1;32m    170\u001B[0m \u001B[38;5;28;01mif\u001B[39;00m width \u001B[38;5;129;01mis\u001B[39;00m \u001B[38;5;129;01mnot\u001B[39;00m \u001B[38;5;28;01mNone\u001B[39;00m \u001B[38;5;129;01mand\u001B[39;00m width \u001B[38;5;241m>\u001B[39m\u001B[38;5;241m=\u001B[39m length:\n\u001B[0;32m--> 171\u001B[0m     \u001B[38;5;28;01mraise\u001B[39;00m \u001B[38;5;167;01mValueError\u001B[39;00m(\n\u001B[1;32m    172\u001B[0m         \u001B[38;5;124m\"\u001B[39m\u001B[38;5;124mThe width of the flat portion of the pulse must be smaller than the total length.\u001B[39m\u001B[38;5;124m\"\u001B[39m\n\u001B[1;32m    173\u001B[0m     )\n\u001B[1;32m    175\u001B[0m \u001B[38;5;28;01mif\u001B[39;00m width \u001B[38;5;129;01mis\u001B[39;00m \u001B[38;5;28;01mNone\u001B[39;00m:\n\u001B[1;32m    176\u001B[0m     width \u001B[38;5;241m=\u001B[39m \u001B[38;5;241m0.9\u001B[39m \u001B[38;5;241m*\u001B[39m length\n",
      "\u001B[0;31mValueError\u001B[0m: The width of the flat portion of the pulse must be smaller than the total length."
     ]
    }
   ],
   "source": [
    "# define delay sweep\n",
    "delay_start = -100e-9\n",
    "delay_stop = 500e-9\n",
    "delay_num_points = 5\n",
    "delay_sweep = LinearSweepParameter(uid = \"delay_sweep\", start = delay_start, stop = delay_stop, count = delay_num_points)\n",
    "delay_num_averages = 8 # number of average is 2^4 = 16\n",
    "\n",
    "exp_params_prop_delay = {\n",
    "    \"exp_name\": \"propagation_delay\",\n",
    "    \"delay_sweep\": delay_sweep,\n",
    "    \"delay_num_averages\": delay_num_averages,\n",
    "    \"wait_after_int\": 5e-6,\n",
    "    \"plot_simulation\": 1,\n",
    "    \"plt_start_time\": 0,\n",
    "    \"plt_length\":10e-6,\n",
    "}\n",
    "\n",
    "\n",
    "# exp_settings = {\"integration_time\": integration_time, \"num_averages\": num_averages}\n",
    "results_exp_delay = propagation_delay(session, exp_params_prop_delay, qudits_params)\n",
    "\n",
    "f = np.transpose(np.array(results_exp_delay.acquired_results[exp_params_prop_delay[\"exp_name\"]].axis))\n",
    "data  = results_exp_delay.acquired_results[exp_params_prop_delay[\"exp_name\"]].data\n",
    "x = results_exp_delay.acquired_results[exp_params_prop_delay[\"exp_name\"]].axis[0]\n",
    "plot_readout_IQ(int(qudits_params[\"ro_int_t\"]*2e9), data)\n",
    "plot_qubit_readout_amp_phase(int(qudits_params[\"ro_int_t\"]*2e9), x, np.array(data))\n"
   ]
  },
  {
   "cell_type": "code",
   "execution_count": null,
   "id": "2beca662",
   "metadata": {
    "ExecuteTime": {
     "end_time": "2024-02-22T05:03:38.181692Z",
     "start_time": "2024-02-22T05:03:38.160700Z"
    }
   },
   "outputs": [],
   "source": [
    "# exp_delay"
   ]
  },
  {
   "cell_type": "markdown",
   "id": "85d5cdf3",
   "metadata": {},
   "source": [
    "### Upload measured port delay"
   ]
  },
  {
   "cell_type": "code",
   "execution_count": 14,
   "id": "4c9a64de",
   "metadata": {
    "ExecuteTime": {
     "end_time": "2024-02-22T05:03:38.480508Z",
     "start_time": "2024-02-22T05:03:38.434405Z"
    }
   },
   "outputs": [],
   "source": [
    "qudits_params[\"ro_int_delay\"] = 0\n",
    "device_setup.set_calibration(define_calibration(qudits_params))"
   ]
  },
  {
   "cell_type": "markdown",
   "id": "16dd5336",
   "metadata": {},
   "source": [
    "# Qubit Measurements"
   ]
  },
  {
   "cell_type": "markdown",
   "id": "0ff3cf8b",
   "metadata": {},
   "source": [
    "## Initial settings"
   ]
  },
  {
   "cell_type": "code",
   "execution_count": 15,
   "id": "c6499d42",
   "metadata": {
    "ExecuteTime": {
     "end_time": "2024-02-22T05:03:39.033685Z",
     "start_time": "2024-02-22T05:03:38.988953Z"
    }
   },
   "outputs": [],
   "source": [
    "\n",
    "qubits = [\"q0\", \"q1\"]\n",
    "num_states = [2, 3]\n",
    "dr_cent_f = len(qubits) * [5e9]\n",
    "dr_p_range = len(qubits) * [0]\n",
    "\n",
    "dr_pulse_t = 200e-9\n",
    "dr_pulse_amp = len(qubits) * [0.5]\n",
    "dr_pulse_data = {k: pulse_library.drag(\n",
    "    uid = f\"drive_pulse_{k}\",\n",
    "    length = dr_pulse_t,\n",
    "    sigma = 0.4,\n",
    "    beta = 0.2,\n",
    "    amplitude = dr_pulse_amp[int(k[1])],\n",
    " ) for k in qubits\n",
    "}\n",
    "\n",
    "exp_params_qubits = { \n",
    "    \"simulation\": 0,\n",
    "    \"qubits\": qubits, \n",
    "    \"num_states\": num_states,\n",
    "    \"dr_cent_f\": dr_cent_f,\n",
    "    \"dr_p_range\": dr_p_range,\n",
    "    \"dr_pulse_data\": dr_pulse_data,\n",
    "    \"average_mode\": AveragingMode.CYCLIC,\n",
    "    \"wait_after_int\": 5e-6,\n",
    "    \"plot_simulation\": 1,\n",
    "    \"plt_start_time\": 0,\n",
    "    \"plt_length\": 100e-6,\n",
    "    \"ro_pulse_g\": pulse_library.gaussian_square(uid = \"readout_envelop_g\", length = envelop_duration, amplitude = 0.1, width = envelop_width, sigma = 0.2),\n",
    "    \"ro_pulse_e\": pulse_library.gaussian_square(uid = \"readout_envelop_e\", length = envelop_duration, amplitude = 0.2, width = envelop_width, sigma = 0.2),\n",
    "    \"ro_pulse_f\": pulse_library.gaussian_square(uid = \"readout_envelop_f\", length = envelop_duration, amplitude = 0.3, width = envelop_width, sigma = 0.2),\n",
    "}\n",
    "\n",
    "envelop_duration = 2e-6\n",
    "envelop_amplitude = 1/len(qubits)\n",
    "envelop_width = envelop_duration\n",
    "ro_envelop_waveform  = pulse_library.gaussian_square(uid = \"readout_envelop_q0\", length = envelop_duration, amplitude = envelop_amplitude, width = envelop_width, sigma = 0.2)\n",
    "ro_int_weights = pulse_library.gaussian_square(uid = \"readout_envelop_q0\", length = envelop_duration, amplitude = 1, width = envelop_width, sigma = 0.2)\n",
    "\n",
    "qudits_params.update({\n",
    "    \"ro_pulse_data\": {k: ro_envelop_waveform for k in lsg_keys},\n",
    "    \"ro_int_weights\": {k: ro_int_weights for k in lsg_keys},\n",
    "})\n",
    "\n",
    "device_setup.set_calibration(define_calibration(qudits_params))"
   ]
  },
  {
   "cell_type": "markdown",
   "id": "2d894725",
   "metadata": {},
   "source": [
    "## Qubit spectroscopy"
   ]
  },
  {
   "cell_type": "markdown",
   "id": "4a148606",
   "metadata": {},
   "source": [
    "1. qubit spec vs flux (2D sweep)\n",
    "2. cw (drive) qubit spectroscopy is needed "
   ]
  },
  {
   "cell_type": "markdown",
   "id": "cac578e5",
   "metadata": {},
   "source": [
    "### Measure qubit spectroscopy of a single qubit or multiple qubits "
   ]
  },
  {
   "cell_type": "code",
   "execution_count": 15,
   "id": "5b1c5e0b",
   "metadata": {
    "ExecuteTime": {
     "end_time": "2024-02-22T05:03:39.706058Z",
     "start_time": "2024-02-22T05:03:39.672085Z"
    }
   },
   "outputs": [],
   "source": []
  },
  {
   "cell_type": "code",
   "execution_count": 16,
   "id": "c485e622",
   "metadata": {
    "ExecuteTime": {
     "end_time": "2024-02-22T05:03:40.777491Z",
     "start_time": "2024-02-22T05:03:39.865550Z"
    }
   },
   "outputs": [
    {
     "name": "stdout",
     "output_type": "stream",
     "text": [
      "[2024.02.22 16:03:39.863] INFO    Starting LabOne Q Compiler run...\n",
      "[2024.02.22 16:03:40.301] INFO    Schedule completed\n"
     ]
    },
    {
     "ename": "ValueError",
     "evalue": "The width of the flat portion of the pulse must be smaller than the total length.",
     "output_type": "error",
     "traceback": [
      "\u001B[0;31m---------------------------------------------------------------------------\u001B[0m",
      "\u001B[0;31mValueError\u001B[0m                                Traceback (most recent call last)",
      "Cell \u001B[0;32mIn[16], line 27\u001B[0m\n\u001B[1;32m     18\u001B[0m exp_params_qspec \u001B[38;5;241m=\u001B[39m exp_params_qubits\n\u001B[1;32m     19\u001B[0m exp_params_qspec\u001B[38;5;241m.\u001B[39mupdate({\n\u001B[1;32m     20\u001B[0m     \u001B[38;5;124m\"\u001B[39m\u001B[38;5;124mexp_name\u001B[39m\u001B[38;5;124m\"\u001B[39m: \u001B[38;5;124m\"\u001B[39m\u001B[38;5;124mqspec\u001B[39m\u001B[38;5;124m\"\u001B[39m,\n\u001B[1;32m     21\u001B[0m     \u001B[38;5;124m\"\u001B[39m\u001B[38;5;124mfreq_sweep\u001B[39m\u001B[38;5;124m\"\u001B[39m: freq_sweep,\n\u001B[0;32m   (...)\u001B[0m\n\u001B[1;32m     24\u001B[0m     \u001B[38;5;124m\"\u001B[39m\u001B[38;5;124mwait_after_int\u001B[39m\u001B[38;5;124m\"\u001B[39m: wait_after_int,\n\u001B[1;32m     25\u001B[0m })\n\u001B[0;32m---> 27\u001B[0m exp_qspec_results \u001B[38;5;241m=\u001B[39m \u001B[43mqubit_spec\u001B[49m\u001B[43m(\u001B[49m\u001B[43msession\u001B[49m\u001B[43m,\u001B[49m\u001B[43m \u001B[49m\u001B[43mexp_params_qspec\u001B[49m\u001B[43m,\u001B[49m\u001B[43m \u001B[49m\u001B[43mqudits_params\u001B[49m\u001B[43m)\u001B[49m\n",
      "Cell \u001B[0;32mIn[7], line 297\u001B[0m, in \u001B[0;36mqubit_spec\u001B[0;34m(session, exp_params, qudits_params)\u001B[0m\n\u001B[1;32m    291\u001B[0m         cal[\u001B[38;5;124m\"\u001B[39m\u001B[38;5;124mdrive_\u001B[39m\u001B[38;5;124m\"\u001B[39m\u001B[38;5;241m+\u001B[39m qubit] \u001B[38;5;241m=\u001B[39m SignalCalibration(\n\u001B[1;32m    292\u001B[0m             local_oscillator\u001B[38;5;241m=\u001B[39mOscillator(frequency\u001B[38;5;241m=\u001B[39mexp_params[\u001B[38;5;124m\"\u001B[39m\u001B[38;5;124mdr_cent_f\u001B[39m\u001B[38;5;124m\"\u001B[39m][\u001B[38;5;28mint\u001B[39m(qubit[\u001B[38;5;241m1\u001B[39m])]),\n\u001B[1;32m    293\u001B[0m             oscillator\u001B[38;5;241m=\u001B[39mOscillator(frequency\u001B[38;5;241m=\u001B[39mexp_params[\u001B[38;5;124m\"\u001B[39m\u001B[38;5;124mfreq_sweep\u001B[39m\u001B[38;5;124m\"\u001B[39m][\u001B[38;5;28mint\u001B[39m(qubit[\u001B[38;5;241m1\u001B[39m])],modulation_type\u001B[38;5;241m=\u001B[39mModulationType\u001B[38;5;241m.\u001B[39mHARDWARE),\n\u001B[1;32m    294\u001B[0m             \u001B[38;5;28mrange\u001B[39m\u001B[38;5;241m=\u001B[39mexp_params[\u001B[38;5;124m\"\u001B[39m\u001B[38;5;124mdr_p_range\u001B[39m\u001B[38;5;124m\"\u001B[39m][\u001B[38;5;28mint\u001B[39m(qubit[\u001B[38;5;241m1\u001B[39m])],        \n\u001B[1;32m    295\u001B[0m         )\n\u001B[1;32m    296\u001B[0m exp\u001B[38;5;241m.\u001B[39mset_calibration(cal)\n\u001B[0;32m--> 297\u001B[0m results \u001B[38;5;241m=\u001B[39m \u001B[43mcompile_run\u001B[49m\u001B[43m(\u001B[49m\u001B[43msession\u001B[49m\u001B[43m,\u001B[49m\u001B[43m \u001B[49m\u001B[43mexp_params\u001B[49m\u001B[43m,\u001B[49m\u001B[43m \u001B[49m\u001B[43mexp\u001B[49m\u001B[43m)\u001B[49m\n\u001B[1;32m    298\u001B[0m \u001B[38;5;28;01mreturn\u001B[39;00m results\n",
      "Cell \u001B[0;32mIn[7], line 80\u001B[0m, in \u001B[0;36mcompile_run\u001B[0;34m(session, exp_params, exp)\u001B[0m\n\u001B[1;32m     77\u001B[0m \u001B[38;5;28;01mif\u001B[39;00m \u001B[38;5;124m\"\u001B[39m\u001B[38;5;124mrb\u001B[39m\u001B[38;5;124m\"\u001B[39m \u001B[38;5;129;01min\u001B[39;00m exp_params[\u001B[38;5;124m\"\u001B[39m\u001B[38;5;124mexp_name\u001B[39m\u001B[38;5;124m\"\u001B[39m]:\n\u001B[1;32m     78\u001B[0m     compiler_settings \u001B[38;5;241m=\u001B[39m {\u001B[38;5;124m\"\u001B[39m\u001B[38;5;124mSHFSG_MIN_PLAYWAVE_HINT\u001B[39m\u001B[38;5;124m\"\u001B[39m: \u001B[38;5;241m256\u001B[39m}\n\u001B[0;32m---> 80\u001B[0m compiled_exp \u001B[38;5;241m=\u001B[39m \u001B[43msession\u001B[49m\u001B[38;5;241;43m.\u001B[39;49m\u001B[43mcompile\u001B[49m\u001B[43m(\u001B[49m\u001B[43mexp\u001B[49m\u001B[43m,\u001B[49m\u001B[43m \u001B[49m\u001B[43mcompiler_settings\u001B[49m\u001B[43m \u001B[49m\u001B[38;5;241;43m=\u001B[39;49m\u001B[43m \u001B[49m\u001B[43mcompiler_settings\u001B[49m\u001B[43m)\u001B[49m\n\u001B[1;32m     81\u001B[0m results \u001B[38;5;241m=\u001B[39m session\u001B[38;5;241m.\u001B[39mrun(compiled_exp)    \n\u001B[1;32m     82\u001B[0m Path(\u001B[38;5;124m\"\u001B[39m\u001B[38;5;124mPulse_Sheets\u001B[39m\u001B[38;5;124m\"\u001B[39m)\u001B[38;5;241m.\u001B[39mmkdir(parents\u001B[38;5;241m=\u001B[39m\u001B[38;5;28;01mTrue\u001B[39;00m, exist_ok\u001B[38;5;241m=\u001B[39m\u001B[38;5;28;01mTrue\u001B[39;00m)\n",
      "File \u001B[0;32m~/Projects/Envs/SydneyQuantum/lib/python3.12/site-packages/laboneq/_observability/tracing/_tracer.py:75\u001B[0m, in \u001B[0;36mtrace.<locals>.outer_wrapper.<locals>.wrapper\u001B[0;34m(*args, **kwargs)\u001B[0m\n\u001B[1;32m     73\u001B[0m             tracing\u001B[38;5;241m.\u001B[39menable_tracing()\n\u001B[1;32m     74\u001B[0m         \u001B[38;5;28;01mreturn\u001B[39;00m res\n\u001B[0;32m---> 75\u001B[0m \u001B[38;5;28;01mreturn\u001B[39;00m \u001B[43mfunc\u001B[49m\u001B[43m(\u001B[49m\u001B[38;5;241;43m*\u001B[39;49m\u001B[43margs\u001B[49m\u001B[43m,\u001B[49m\u001B[43m \u001B[49m\u001B[38;5;241;43m*\u001B[39;49m\u001B[38;5;241;43m*\u001B[39;49m\u001B[43mkwargs\u001B[49m\u001B[43m)\u001B[49m\n",
      "File \u001B[0;32m~/Projects/Envs/SydneyQuantum/lib/python3.12/site-packages/laboneq/dsl/session.py:337\u001B[0m, in \u001B[0;36mSession.compile\u001B[0;34m(self, experiment, compiler_settings)\u001B[0m\n\u001B[1;32m    335\u001B[0m \u001B[38;5;28mself\u001B[39m\u001B[38;5;241m.\u001B[39m_assert_connected(fail\u001B[38;5;241m=\u001B[39m\u001B[38;5;28;01mTrue\u001B[39;00m)\n\u001B[1;32m    336\u001B[0m \u001B[38;5;28mself\u001B[39m\u001B[38;5;241m.\u001B[39m_experiment_definition \u001B[38;5;241m=\u001B[39m experiment\n\u001B[0;32m--> 337\u001B[0m \u001B[38;5;28mself\u001B[39m\u001B[38;5;241m.\u001B[39m_compiled_experiment \u001B[38;5;241m=\u001B[39m \u001B[43mLabOneQFacade\u001B[49m\u001B[38;5;241;43m.\u001B[39;49m\u001B[43mcompile\u001B[49m\u001B[43m(\u001B[49m\n\u001B[1;32m    338\u001B[0m \u001B[43m    \u001B[49m\u001B[38;5;28;43mself\u001B[39;49m\u001B[43m,\u001B[49m\u001B[43m \u001B[49m\u001B[38;5;28;43mself\u001B[39;49m\u001B[38;5;241;43m.\u001B[39;49m\u001B[43mlogger\u001B[49m\u001B[43m,\u001B[49m\u001B[43m \u001B[49m\u001B[43mcompiler_settings\u001B[49m\u001B[38;5;241;43m=\u001B[39;49m\u001B[43mcompiler_settings\u001B[49m\n\u001B[1;32m    339\u001B[0m \u001B[43m\u001B[49m\u001B[43m)\u001B[49m\n\u001B[1;32m    340\u001B[0m \u001B[38;5;28mself\u001B[39m\u001B[38;5;241m.\u001B[39m_last_results \u001B[38;5;241m=\u001B[39m \u001B[38;5;28;01mNone\u001B[39;00m\n\u001B[1;32m    341\u001B[0m \u001B[38;5;28;01mreturn\u001B[39;00m \u001B[38;5;28mself\u001B[39m\u001B[38;5;241m.\u001B[39m_compiled_experiment\n",
      "File \u001B[0;32m~/Projects/Envs/SydneyQuantum/lib/python3.12/site-packages/laboneq/dsl/laboneq_facade.py:71\u001B[0m, in \u001B[0;36mLabOneQFacade.compile\u001B[0;34m(session, logger, compiler_settings)\u001B[0m\n\u001B[1;32m     68\u001B[0m signal_mapping \u001B[38;5;241m=\u001B[39m convert_signal_map(session\u001B[38;5;241m.\u001B[39mexperiment)\n\u001B[1;32m     70\u001B[0m payload_builder \u001B[38;5;241m=\u001B[39m ApplicationManager\u001B[38;5;241m.\u001B[39minstance()\u001B[38;5;241m.\u001B[39mpayload_builder()\n\u001B[0;32m---> 71\u001B[0m payload \u001B[38;5;241m=\u001B[39m \u001B[43mpayload_builder\u001B[49m\u001B[38;5;241;43m.\u001B[39;49m\u001B[43mbuild_payload\u001B[49m\u001B[43m(\u001B[49m\n\u001B[1;32m     72\u001B[0m \u001B[43m    \u001B[49m\u001B[43mnew_setup\u001B[49m\u001B[43m,\u001B[49m\n\u001B[1;32m     73\u001B[0m \u001B[43m    \u001B[49m\u001B[43mnew_experiment\u001B[49m\u001B[43m,\u001B[49m\n\u001B[1;32m     74\u001B[0m \u001B[43m    \u001B[49m\u001B[43msignal_mapping\u001B[49m\u001B[43m,\u001B[49m\n\u001B[1;32m     75\u001B[0m \u001B[43m    \u001B[49m\u001B[43mcompiler_settings\u001B[49m\u001B[43m,\u001B[49m\n\u001B[1;32m     76\u001B[0m \u001B[43m\u001B[49m\u001B[43m)\u001B[49m\n\u001B[1;32m     78\u001B[0m compiled_experiment \u001B[38;5;241m=\u001B[39m CompiledExperiment(\n\u001B[1;32m     79\u001B[0m     device_setup\u001B[38;5;241m=\u001B[39msession\u001B[38;5;241m.\u001B[39mdevice_setup,\n\u001B[1;32m     80\u001B[0m     experiment\u001B[38;5;241m=\u001B[39msession\u001B[38;5;241m.\u001B[39mexperiment,\n\u001B[1;32m     81\u001B[0m     experiment_dict\u001B[38;5;241m=\u001B[39m\u001B[38;5;28;01mNone\u001B[39;00m,  \u001B[38;5;66;03m# deprecated\u001B[39;00m\n\u001B[1;32m     82\u001B[0m     scheduled_experiment\u001B[38;5;241m=\u001B[39mpayload\u001B[38;5;241m.\u001B[39mscheduled_experiment,\n\u001B[1;32m     83\u001B[0m )\n\u001B[1;32m     84\u001B[0m \u001B[38;5;28;01mreturn\u001B[39;00m compiled_experiment\n",
      "File \u001B[0;32m~/Projects/Envs/SydneyQuantum/lib/python3.12/site-packages/laboneq/implementation/payload_builder/payload_builder.py:50\u001B[0m, in \u001B[0;36mPayloadBuilder.build_payload\u001B[0;34m(self, device_setup, experiment, signal_mappings, compiler_settings)\u001B[0m\n\u001B[1;32m     44\u001B[0m     experiment\u001B[38;5;241m.\u001B[39msignals \u001B[38;5;241m=\u001B[39m []\n\u001B[1;32m     46\u001B[0m job \u001B[38;5;241m=\u001B[39m \u001B[38;5;28mself\u001B[39m\u001B[38;5;241m.\u001B[39mcreate_compilation_job(\n\u001B[1;32m     47\u001B[0m     device_setup, experiment, signal_mappings, compiler_settings\n\u001B[1;32m     48\u001B[0m )\n\u001B[0;32m---> 50\u001B[0m job_id \u001B[38;5;241m=\u001B[39m \u001B[38;5;28;43mself\u001B[39;49m\u001B[38;5;241;43m.\u001B[39;49m\u001B[43m_compilation_service\u001B[49m\u001B[38;5;241;43m.\u001B[39;49m\u001B[43msubmit_compilation_job\u001B[49m\u001B[43m(\u001B[49m\u001B[43mjob\u001B[49m\u001B[43m)\u001B[49m\n\u001B[1;32m     52\u001B[0m scheduled_experiment \u001B[38;5;241m=\u001B[39m \u001B[38;5;28mself\u001B[39m\u001B[38;5;241m.\u001B[39m_compilation_service\u001B[38;5;241m.\u001B[39mcompilation_job_result(job_id)\n\u001B[1;32m     54\u001B[0m target_setup \u001B[38;5;241m=\u001B[39m TargetSetupGenerator\u001B[38;5;241m.\u001B[39mfrom_setup(device_setup)\n",
      "File \u001B[0;32m~/Projects/Envs/SydneyQuantum/lib/python3.12/site-packages/laboneq/implementation/compilation_service/compilation_service_legacy.py:29\u001B[0m, in \u001B[0;36mCompilationServiceLegacy.submit_compilation_job\u001B[0;34m(self, job)\u001B[0m\n\u001B[1;32m     27\u001B[0m queue_entry \u001B[38;5;241m=\u001B[39m {\u001B[38;5;124m\"\u001B[39m\u001B[38;5;124mjob_id\u001B[39m\u001B[38;5;124m\"\u001B[39m: job_id, \u001B[38;5;124m\"\u001B[39m\u001B[38;5;124mjob\u001B[39m\u001B[38;5;124m\"\u001B[39m: job}\n\u001B[1;32m     28\u001B[0m compiler \u001B[38;5;241m=\u001B[39m Compiler(job\u001B[38;5;241m.\u001B[39mcompiler_settings)\n\u001B[0;32m---> 29\u001B[0m compiler_output \u001B[38;5;241m=\u001B[39m \u001B[43mcompiler\u001B[49m\u001B[38;5;241;43m.\u001B[39;49m\u001B[43mrun\u001B[49m\u001B[43m(\u001B[49m\u001B[43mjob\u001B[49m\u001B[43m)\u001B[49m\n\u001B[1;32m     31\u001B[0m \u001B[38;5;28mself\u001B[39m\u001B[38;5;241m.\u001B[39m_job_results[job_id] \u001B[38;5;241m=\u001B[39m convert_compiler_output_to_scheduled_experiment(\n\u001B[1;32m     32\u001B[0m     compiler_output\n\u001B[1;32m     33\u001B[0m )\n\u001B[1;32m     35\u001B[0m \u001B[38;5;28mself\u001B[39m\u001B[38;5;241m.\u001B[39m_job_queue\u001B[38;5;241m.\u001B[39mappend(queue_entry)\n",
      "File \u001B[0;32m~/Projects/Envs/SydneyQuantum/lib/python3.12/site-packages/laboneq/_observability/tracing/_tracer.py:75\u001B[0m, in \u001B[0;36mtrace.<locals>.outer_wrapper.<locals>.wrapper\u001B[0;34m(*args, **kwargs)\u001B[0m\n\u001B[1;32m     73\u001B[0m             tracing\u001B[38;5;241m.\u001B[39menable_tracing()\n\u001B[1;32m     74\u001B[0m         \u001B[38;5;28;01mreturn\u001B[39;00m res\n\u001B[0;32m---> 75\u001B[0m \u001B[38;5;28;01mreturn\u001B[39;00m \u001B[43mfunc\u001B[49m\u001B[43m(\u001B[49m\u001B[38;5;241;43m*\u001B[39;49m\u001B[43margs\u001B[49m\u001B[43m,\u001B[49m\u001B[43m \u001B[49m\u001B[38;5;241;43m*\u001B[39;49m\u001B[38;5;241;43m*\u001B[39;49m\u001B[43mkwargs\u001B[49m\u001B[43m)\u001B[49m\n",
      "File \u001B[0;32m~/Projects/Envs/SydneyQuantum/lib/python3.12/site-packages/laboneq/compiler/workflow/compiler.py:1164\u001B[0m, in \u001B[0;36mCompiler.run\u001B[0;34m(self, data)\u001B[0m\n\u001B[1;32m   1162\u001B[0m \u001B[38;5;28mself\u001B[39m\u001B[38;5;241m.\u001B[39muse_experiment(data)\n\u001B[1;32m   1163\u001B[0m \u001B[38;5;28mself\u001B[39m\u001B[38;5;241m.\u001B[39m_analyze_setup()\n\u001B[0;32m-> 1164\u001B[0m \u001B[38;5;28;43mself\u001B[39;49m\u001B[38;5;241;43m.\u001B[39;49m\u001B[43m_process_experiment\u001B[49m\u001B[43m(\u001B[49m\u001B[43m)\u001B[49m\n\u001B[1;32m   1166\u001B[0m \u001B[38;5;28mself\u001B[39m\u001B[38;5;241m.\u001B[39m_generate_recipe()\n\u001B[1;32m   1168\u001B[0m retval \u001B[38;5;241m=\u001B[39m \u001B[38;5;28mself\u001B[39m\u001B[38;5;241m.\u001B[39mcompiler_output()\n",
      "File \u001B[0;32m~/Projects/Envs/SydneyQuantum/lib/python3.12/site-packages/laboneq/compiler/workflow/compiler.py:269\u001B[0m, in \u001B[0;36mCompiler._process_experiment\u001B[0;34m(self)\u001B[0m\n\u001B[1;32m    262\u001B[0m rt_compiler \u001B[38;5;241m=\u001B[39m RealtimeCompiler(\n\u001B[1;32m    263\u001B[0m     \u001B[38;5;28mself\u001B[39m\u001B[38;5;241m.\u001B[39m_experiment_dao,\n\u001B[1;32m    264\u001B[0m     \u001B[38;5;28mself\u001B[39m\u001B[38;5;241m.\u001B[39m_sampling_rate_tracker,\n\u001B[1;32m    265\u001B[0m     \u001B[38;5;28mself\u001B[39m\u001B[38;5;241m.\u001B[39m_signal_objects,\n\u001B[1;32m    266\u001B[0m     \u001B[38;5;28mself\u001B[39m\u001B[38;5;241m.\u001B[39m_settings,\n\u001B[1;32m    267\u001B[0m )\n\u001B[1;32m    268\u001B[0m executor \u001B[38;5;241m=\u001B[39m NtCompilerExecutor(rt_compiler, \u001B[38;5;28mself\u001B[39m\u001B[38;5;241m.\u001B[39m_settings)\n\u001B[0;32m--> 269\u001B[0m \u001B[43mexecutor\u001B[49m\u001B[38;5;241;43m.\u001B[39;49m\u001B[43mrun\u001B[49m\u001B[43m(\u001B[49m\u001B[38;5;28;43mself\u001B[39;49m\u001B[38;5;241;43m.\u001B[39;49m\u001B[43m_execution\u001B[49m\u001B[43m)\u001B[49m\n\u001B[1;32m    270\u001B[0m \u001B[38;5;28mself\u001B[39m\u001B[38;5;241m.\u001B[39m_combined_compiler_output \u001B[38;5;241m=\u001B[39m executor\u001B[38;5;241m.\u001B[39mcombined_compiler_output()\n\u001B[1;32m    271\u001B[0m \u001B[38;5;28;01mif\u001B[39;00m \u001B[38;5;28mself\u001B[39m\u001B[38;5;241m.\u001B[39m_combined_compiler_output \u001B[38;5;129;01mis\u001B[39;00m \u001B[38;5;28;01mNone\u001B[39;00m:\n\u001B[1;32m    272\u001B[0m     \u001B[38;5;66;03m# Some of our tests do not have an RT averaging loop, so the RT compiler will\u001B[39;00m\n\u001B[1;32m    273\u001B[0m     \u001B[38;5;66;03m# not have been run. For backwards compatibility, we still run it once.\u001B[39;00m\n",
      "File \u001B[0;32m~/Projects/Envs/SydneyQuantum/lib/python3.12/site-packages/laboneq/executor/executor.py:479\u001B[0m, in \u001B[0;36mExecutorBase.run\u001B[0;34m(self, root_sequence)\u001B[0m\n\u001B[1;32m    477\u001B[0m scope \u001B[38;5;241m=\u001B[39m ExecutionScope(\u001B[38;5;28;01mNone\u001B[39;00m, \u001B[38;5;28mself\u001B[39m)\n\u001B[1;32m    478\u001B[0m \u001B[38;5;28;01mfor\u001B[39;00m notification \u001B[38;5;129;01min\u001B[39;00m root_sequence\u001B[38;5;241m.\u001B[39mrun(scope):\n\u001B[0;32m--> 479\u001B[0m     \u001B[38;5;28;43mself\u001B[39;49m\u001B[38;5;241;43m.\u001B[39;49m\u001B[43m_handlers_map\u001B[49m\u001B[43m[\u001B[49m\u001B[43mnotification\u001B[49m\u001B[38;5;241;43m.\u001B[39;49m\u001B[43mstatement_type\u001B[49m\u001B[43m]\u001B[49m\u001B[43m(\u001B[49m\u001B[38;5;241;43m*\u001B[39;49m\u001B[38;5;241;43m*\u001B[39;49m\u001B[43mnotification\u001B[49m\u001B[38;5;241;43m.\u001B[39;49m\u001B[43margs\u001B[49m\u001B[43m)\u001B[49m\n",
      "File \u001B[0;32m~/Projects/Envs/SydneyQuantum/lib/python3.12/site-packages/laboneq/compiler/workflow/neartime_execution.py:155\u001B[0m, in \u001B[0;36mNtCompilerExecutor.rt_entry_handler\u001B[0;34m(self, count, uid, averaging_mode, acquisition_type)\u001B[0m\n\u001B[1;32m    153\u001B[0m parameter_store \u001B[38;5;241m=\u001B[39m ParameterStore(\u001B[38;5;28mself\u001B[39m\u001B[38;5;241m.\u001B[39m_iteration_stack\u001B[38;5;241m.\u001B[39mnt_parameter_values())\n\u001B[1;32m    154\u001B[0m tracker \u001B[38;5;241m=\u001B[39m parameter_store\u001B[38;5;241m.\u001B[39mcreate_tracker()\n\u001B[0;32m--> 155\u001B[0m new_compiler_output \u001B[38;5;241m=\u001B[39m \u001B[38;5;28;43mself\u001B[39;49m\u001B[38;5;241;43m.\u001B[39;49m\u001B[43m_rt_compiler\u001B[49m\u001B[38;5;241;43m.\u001B[39;49m\u001B[43mrun\u001B[49m\u001B[43m(\u001B[49m\u001B[43mparameter_store\u001B[49m\u001B[43m)\u001B[49m\n\u001B[1;32m    157\u001B[0m \u001B[38;5;28;01mif\u001B[39;00m \u001B[38;5;28mself\u001B[39m\u001B[38;5;241m.\u001B[39m_required_parameters \u001B[38;5;129;01mis\u001B[39;00m \u001B[38;5;28;01mNone\u001B[39;00m:\n\u001B[1;32m    158\u001B[0m     \u001B[38;5;28mself\u001B[39m\u001B[38;5;241m.\u001B[39m_required_parameters \u001B[38;5;241m=\u001B[39m tracker\u001B[38;5;241m.\u001B[39mqueries()\n",
      "File \u001B[0;32m~/Projects/Envs/SydneyQuantum/lib/python3.12/site-packages/laboneq/compiler/workflow/realtime_compiler.py:110\u001B[0m, in \u001B[0;36mRealtimeCompiler.run\u001B[0;34m(self, near_time_parameters)\u001B[0m\n\u001B[1;32m    107\u001B[0m \u001B[38;5;28mself\u001B[39m\u001B[38;5;241m.\u001B[39m_scheduler\u001B[38;5;241m.\u001B[39mrun(near_time_parameters)\n\u001B[1;32m    108\u001B[0m schedule \u001B[38;5;241m=\u001B[39m \u001B[38;5;28mself\u001B[39m\u001B[38;5;241m.\u001B[39mprepare_schedule() \u001B[38;5;28;01mif\u001B[39;00m \u001B[38;5;28mself\u001B[39m\u001B[38;5;241m.\u001B[39m_settings\u001B[38;5;241m.\u001B[39mOUTPUT_EXTRAS \u001B[38;5;28;01melse\u001B[39;00m \u001B[38;5;28;01mNone\u001B[39;00m\n\u001B[0;32m--> 110\u001B[0m \u001B[38;5;28;43mself\u001B[39;49m\u001B[38;5;241;43m.\u001B[39;49m\u001B[43m_generate_code\u001B[49m\u001B[43m(\u001B[49m\u001B[43m)\u001B[49m\n\u001B[1;32m    112\u001B[0m outputs \u001B[38;5;241m=\u001B[39m {\n\u001B[1;32m    113\u001B[0m     device_class: code_generator\u001B[38;5;241m.\u001B[39mget_output()\n\u001B[1;32m    114\u001B[0m     \u001B[38;5;28;01mfor\u001B[39;00m device_class, code_generator \u001B[38;5;129;01min\u001B[39;00m \u001B[38;5;28mself\u001B[39m\u001B[38;5;241m.\u001B[39m_code_generators\u001B[38;5;241m.\u001B[39mitems()\n\u001B[1;32m    115\u001B[0m }\n\u001B[1;32m    117\u001B[0m compiler_output \u001B[38;5;241m=\u001B[39m RTCompilerOutputContainer(\n\u001B[1;32m    118\u001B[0m     codegen_output\u001B[38;5;241m=\u001B[39moutputs, schedule\u001B[38;5;241m=\u001B[39mschedule\n\u001B[1;32m    119\u001B[0m )\n",
      "File \u001B[0;32m~/Projects/Envs/SydneyQuantum/lib/python3.12/site-packages/laboneq/_observability/tracing/_tracer.py:75\u001B[0m, in \u001B[0;36mtrace.<locals>.outer_wrapper.<locals>.wrapper\u001B[0;34m(*args, **kwargs)\u001B[0m\n\u001B[1;32m     73\u001B[0m             tracing\u001B[38;5;241m.\u001B[39menable_tracing()\n\u001B[1;32m     74\u001B[0m         \u001B[38;5;28;01mreturn\u001B[39;00m res\n\u001B[0;32m---> 75\u001B[0m \u001B[38;5;28;01mreturn\u001B[39;00m \u001B[43mfunc\u001B[49m\u001B[43m(\u001B[49m\u001B[38;5;241;43m*\u001B[39;49m\u001B[43margs\u001B[49m\u001B[43m,\u001B[49m\u001B[43m \u001B[49m\u001B[38;5;241;43m*\u001B[39;49m\u001B[38;5;241;43m*\u001B[39;49m\u001B[43mkwargs\u001B[49m\u001B[43m)\u001B[49m\n",
      "File \u001B[0;32m~/Projects/Envs/SydneyQuantum/lib/python3.12/site-packages/laboneq/compiler/workflow/realtime_compiler.py:101\u001B[0m, in \u001B[0;36mRealtimeCompiler._generate_code\u001B[0;34m(self)\u001B[0m\n\u001B[1;32m     98\u001B[0m \u001B[38;5;28;01mif\u001B[39;00m \u001B[38;5;28mself\u001B[39m\u001B[38;5;241m.\u001B[39m_settings\u001B[38;5;241m.\u001B[39mFORCE_IR_ROUNDTRIP:\n\u001B[1;32m     99\u001B[0m     ir\u001B[38;5;241m.\u001B[39mround_trip()\n\u001B[0;32m--> 101\u001B[0m \u001B[38;5;28;43mself\u001B[39;49m\u001B[38;5;241;43m.\u001B[39;49m\u001B[43m_lower_ir_to_code\u001B[49m\u001B[43m(\u001B[49m\u001B[43mir\u001B[49m\u001B[43m)\u001B[49m\n\u001B[1;32m    102\u001B[0m _logger\u001B[38;5;241m.\u001B[39mdebug(\u001B[38;5;124m\"\u001B[39m\u001B[38;5;124mlowering IR to code complete\u001B[39m\u001B[38;5;124m\"\u001B[39m)\n",
      "File \u001B[0;32m~/Projects/Envs/SydneyQuantum/lib/python3.12/site-packages/laboneq/compiler/workflow/realtime_compiler.py:81\u001B[0m, in \u001B[0;36mRealtimeCompiler._lower_ir_to_code\u001B[0;34m(self, ir)\u001B[0m\n\u001B[1;32m     77\u001B[0m \u001B[38;5;28;01mfor\u001B[39;00m device_class \u001B[38;5;129;01min\u001B[39;00m device_classes:\n\u001B[1;32m     78\u001B[0m     \u001B[38;5;28mself\u001B[39m\u001B[38;5;241m.\u001B[39m_code_generators[device_class] \u001B[38;5;241m=\u001B[39m \u001B[38;5;28mself\u001B[39m\u001B[38;5;241m.\u001B[39m_registered_codegens[\n\u001B[1;32m     79\u001B[0m         device_class\n\u001B[1;32m     80\u001B[0m     ](ir, settings\u001B[38;5;241m=\u001B[39m\u001B[38;5;28mself\u001B[39m\u001B[38;5;241m.\u001B[39m_settings)\n\u001B[0;32m---> 81\u001B[0m     \u001B[38;5;28;43mself\u001B[39;49m\u001B[38;5;241;43m.\u001B[39;49m\u001B[43m_code_generators\u001B[49m\u001B[43m[\u001B[49m\u001B[43mdevice_class\u001B[49m\u001B[43m]\u001B[49m\u001B[38;5;241;43m.\u001B[39;49m\u001B[43mgenerate_code\u001B[49m\u001B[43m(\u001B[49m\n\u001B[1;32m     82\u001B[0m \u001B[43m        \u001B[49m\u001B[43m[\u001B[49m\n\u001B[1;32m     83\u001B[0m \u001B[43m            \u001B[49m\u001B[43ms\u001B[49m\n\u001B[1;32m     84\u001B[0m \u001B[43m            \u001B[49m\u001B[38;5;28;43;01mfor\u001B[39;49;00m\u001B[43m \u001B[49m\u001B[43ms\u001B[49m\u001B[43m \u001B[49m\u001B[38;5;129;43;01min\u001B[39;49;00m\u001B[43m \u001B[49m\u001B[38;5;28;43mself\u001B[39;49m\u001B[38;5;241;43m.\u001B[39;49m\u001B[43m_signal_objects\u001B[49m\u001B[38;5;241;43m.\u001B[39;49m\u001B[43mvalues\u001B[49m\u001B[43m(\u001B[49m\u001B[43m)\u001B[49m\n\u001B[1;32m     85\u001B[0m \u001B[43m            \u001B[49m\u001B[38;5;28;43;01mif\u001B[39;49;00m\u001B[43m \u001B[49m\u001B[43ms\u001B[49m\u001B[38;5;241;43m.\u001B[39;49m\u001B[43mawg\u001B[49m\u001B[38;5;241;43m.\u001B[39;49m\u001B[43mdevice_class\u001B[49m\u001B[43m \u001B[49m\u001B[38;5;241;43m==\u001B[39;49m\u001B[43m \u001B[49m\u001B[43mdevice_class\u001B[49m\n\u001B[1;32m     86\u001B[0m \u001B[43m        \u001B[49m\u001B[43m]\u001B[49m\n\u001B[1;32m     87\u001B[0m \u001B[43m    \u001B[49m\u001B[43m)\u001B[49m\n\u001B[1;32m     89\u001B[0m _logger\u001B[38;5;241m.\u001B[39mdebug(\u001B[38;5;124m\"\u001B[39m\u001B[38;5;124mCode generation completed\u001B[39m\u001B[38;5;124m\"\u001B[39m)\n",
      "File \u001B[0;32m~/Projects/Envs/SydneyQuantum/lib/python3.12/site-packages/laboneq/compiler/code_generator/code_generator.py:355\u001B[0m, in \u001B[0;36mCodeGenerator.generate_code\u001B[0;34m(self, signal_objs)\u001B[0m\n\u001B[1;32m    353\u001B[0m     \u001B[38;5;28mself\u001B[39m\u001B[38;5;241m.\u001B[39madd_signal(signal_obj)\n\u001B[1;32m    354\u001B[0m \u001B[38;5;28mself\u001B[39m\u001B[38;5;241m.\u001B[39mgen_acquire_map(event_list)\n\u001B[0;32m--> 355\u001B[0m \u001B[38;5;28;43mself\u001B[39;49m\u001B[38;5;241;43m.\u001B[39;49m\u001B[43mgen_seq_c\u001B[49m\u001B[43m(\u001B[49m\n\u001B[1;32m    356\u001B[0m \u001B[43m    \u001B[49m\u001B[43mevent_list\u001B[49m\u001B[43m,\u001B[49m\n\u001B[1;32m    357\u001B[0m \u001B[43m    \u001B[49m\u001B[43m{\u001B[49m\u001B[43mp\u001B[49m\u001B[38;5;241;43m.\u001B[39;49m\u001B[43muid\u001B[49m\u001B[43m:\u001B[49m\u001B[43m \u001B[49m\u001B[43mp\u001B[49m\u001B[43m \u001B[49m\u001B[38;5;28;43;01mfor\u001B[39;49;00m\u001B[43m \u001B[49m\u001B[43mp\u001B[49m\u001B[43m \u001B[49m\u001B[38;5;129;43;01min\u001B[39;49;00m\u001B[43m \u001B[49m\u001B[38;5;28;43mself\u001B[39;49m\u001B[38;5;241;43m.\u001B[39;49m\u001B[43m_ir\u001B[49m\u001B[38;5;241;43m.\u001B[39;49m\u001B[43mpulse_defs\u001B[49m\u001B[43m}\u001B[49m\u001B[43m,\u001B[49m\n\u001B[1;32m    358\u001B[0m \u001B[43m\u001B[49m\u001B[43m)\u001B[49m\n\u001B[1;32m    359\u001B[0m \u001B[38;5;28mself\u001B[39m\u001B[38;5;241m.\u001B[39mgen_waves()\n",
      "File \u001B[0;32m~/Projects/Envs/SydneyQuantum/lib/python3.12/site-packages/laboneq/compiler/code_generator/code_generator.py:718\u001B[0m, in \u001B[0;36mCodeGenerator.gen_seq_c\u001B[0;34m(self, events, pulse_defs)\u001B[0m\n\u001B[1;32m    710\u001B[0m \u001B[38;5;28mself\u001B[39m\u001B[38;5;241m.\u001B[39m_feedback_register_allocator \u001B[38;5;241m=\u001B[39m FeedbackRegisterAllocator(\n\u001B[1;32m    711\u001B[0m     \u001B[38;5;28mself\u001B[39m\u001B[38;5;241m.\u001B[39m_signals, events\n\u001B[1;32m    712\u001B[0m )\n\u001B[1;32m    714\u001B[0m \u001B[38;5;28;01mfor\u001B[39;00m _, awg \u001B[38;5;129;01min\u001B[39;00m \u001B[38;5;28msorted\u001B[39m(\n\u001B[1;32m    715\u001B[0m     \u001B[38;5;28mself\u001B[39m\u001B[38;5;241m.\u001B[39m_awgs\u001B[38;5;241m.\u001B[39mitems(),\n\u001B[1;32m    716\u001B[0m     key\u001B[38;5;241m=\u001B[39m\u001B[38;5;28;01mlambda\u001B[39;00m item: item[\u001B[38;5;241m0\u001B[39m]\u001B[38;5;241m.\u001B[39mdevice_id \u001B[38;5;241m+\u001B[39m \u001B[38;5;28mstr\u001B[39m(item[\u001B[38;5;241m0\u001B[39m]\u001B[38;5;241m.\u001B[39mawg_number),\n\u001B[1;32m    717\u001B[0m ):\n\u001B[0;32m--> 718\u001B[0m     \u001B[38;5;28;43mself\u001B[39;49m\u001B[38;5;241;43m.\u001B[39;49m\u001B[43m_gen_seq_c_per_awg\u001B[49m\u001B[43m(\u001B[49m\u001B[43mawg\u001B[49m\u001B[43m,\u001B[49m\u001B[43m \u001B[49m\u001B[43mevents\u001B[49m\u001B[43m,\u001B[49m\u001B[43m \u001B[49m\u001B[43mpulse_defs\u001B[49m\u001B[43m)\u001B[49m\n\u001B[1;32m    720\u001B[0m tgt_feedback_regs \u001B[38;5;241m=\u001B[39m \u001B[38;5;28mself\u001B[39m\u001B[38;5;241m.\u001B[39m_feedback_register_allocator\u001B[38;5;241m.\u001B[39mtarget_feedback_registers\n\u001B[1;32m    721\u001B[0m \u001B[38;5;28;01mfor\u001B[39;00m awg, target_fb_register \u001B[38;5;129;01min\u001B[39;00m tgt_feedback_regs\u001B[38;5;241m.\u001B[39mitems():\n",
      "File \u001B[0;32m~/Projects/Envs/SydneyQuantum/lib/python3.12/site-packages/laboneq/compiler/code_generator/code_generator.py:1136\u001B[0m, in \u001B[0;36mCodeGenerator._gen_seq_c_per_awg\u001B[0;34m(self, awg, events, pulse_defs)\u001B[0m\n\u001B[1;32m   1128\u001B[0m         \u001B[38;5;28;01massert\u001B[39;00m \u001B[38;5;28mself\u001B[39m\u001B[38;5;241m.\u001B[39m_integration_weights \u001B[38;5;129;01mis\u001B[39;00m \u001B[38;5;129;01mnot\u001B[39;00m \u001B[38;5;28;01mNone\u001B[39;00m\n\u001B[1;32m   1129\u001B[0m         _logger\u001B[38;5;241m.\u001B[39mdebug(\n\u001B[1;32m   1130\u001B[0m             \u001B[38;5;124m\"\u001B[39m\u001B[38;5;124mCalculating integration weights for signal \u001B[39m\u001B[38;5;132;01m%s\u001B[39;00m\u001B[38;5;124m. There are \u001B[39m\u001B[38;5;132;01m%d\u001B[39;00m\u001B[38;5;124m acquire events.\u001B[39m\u001B[38;5;124m\"\u001B[39m,\n\u001B[1;32m   1131\u001B[0m             signal_obj\u001B[38;5;241m.\u001B[39mid,\n\u001B[1;32m   1132\u001B[0m             \u001B[38;5;28mlen\u001B[39m(acquire_events\u001B[38;5;241m.\u001B[39msequence),\n\u001B[1;32m   1133\u001B[0m         )\n\u001B[1;32m   1134\u001B[0m         \u001B[38;5;28mself\u001B[39m\u001B[38;5;241m.\u001B[39m_integration_weights\u001B[38;5;241m.\u001B[39msetdefault(awg\u001B[38;5;241m.\u001B[39mkey, {})[\n\u001B[1;32m   1135\u001B[0m             signal_obj\u001B[38;5;241m.\u001B[39mid\n\u001B[0;32m-> 1136\u001B[0m         ] \u001B[38;5;241m=\u001B[39m \u001B[43mcalculate_integration_weights\u001B[49m\u001B[43m(\u001B[49m\n\u001B[1;32m   1137\u001B[0m \u001B[43m            \u001B[49m\u001B[43macquire_events\u001B[49m\u001B[43m,\u001B[49m\u001B[43m \u001B[49m\u001B[43msignal_obj\u001B[49m\u001B[43m,\u001B[49m\u001B[43m \u001B[49m\u001B[43mpulse_defs\u001B[49m\n\u001B[1;32m   1138\u001B[0m \u001B[43m        \u001B[49m\u001B[43m)\u001B[49m\n\u001B[1;32m   1140\u001B[0m     sampled_events\u001B[38;5;241m.\u001B[39mmerge(acquire_events)\n\u001B[1;32m   1142\u001B[0m \u001B[38;5;28;01mif\u001B[39;00m awg\u001B[38;5;241m.\u001B[39msignal_type \u001B[38;5;241m==\u001B[39m AWGSignalType\u001B[38;5;241m.\u001B[39mMULTI:\n",
      "File \u001B[0;32m~/Projects/Envs/SydneyQuantum/lib/python3.12/site-packages/laboneq/compiler/code_generator/code_generator.py:257\u001B[0m, in \u001B[0;36mcalculate_integration_weights\u001B[0;34m(acquire_events, signal_obj, pulse_defs)\u001B[0m\n\u001B[1;32m    255\u001B[0m pulse_parameters \u001B[38;5;241m=\u001B[39m combine_pulse_parameters(pulse_par, \u001B[38;5;28;01mNone\u001B[39;00m, play_par)\n\u001B[1;32m    256\u001B[0m pulse_parameters \u001B[38;5;241m=\u001B[39m decode_pulse_parameters(pulse_parameters)\n\u001B[0;32m--> 257\u001B[0m integration_weight \u001B[38;5;241m=\u001B[39m \u001B[43msample_pulse\u001B[49m\u001B[43m(\u001B[49m\n\u001B[1;32m    258\u001B[0m \u001B[43m    \u001B[49m\u001B[43msignal_type\u001B[49m\u001B[38;5;241;43m=\u001B[39;49m\u001B[38;5;124;43m\"\u001B[39;49m\u001B[38;5;124;43miq\u001B[39;49m\u001B[38;5;124;43m\"\u001B[39;49m\u001B[43m,\u001B[49m\n\u001B[1;32m    259\u001B[0m \u001B[43m    \u001B[49m\u001B[43msampling_rate\u001B[49m\u001B[38;5;241;43m=\u001B[39;49m\u001B[43msignal_obj\u001B[49m\u001B[38;5;241;43m.\u001B[39;49m\u001B[43mawg\u001B[49m\u001B[38;5;241;43m.\u001B[39;49m\u001B[43msampling_rate\u001B[49m\u001B[43m,\u001B[49m\n\u001B[1;32m    260\u001B[0m \u001B[43m    \u001B[49m\u001B[43mlength\u001B[49m\u001B[38;5;241;43m=\u001B[39;49m\u001B[43mlength\u001B[49m\u001B[43m,\u001B[49m\n\u001B[1;32m    261\u001B[0m \u001B[43m    \u001B[49m\u001B[43mamplitude\u001B[49m\u001B[38;5;241;43m=\u001B[39;49m\u001B[43mamplitude\u001B[49m\u001B[43m,\u001B[49m\n\u001B[1;32m    262\u001B[0m \u001B[43m    \u001B[49m\u001B[43mpulse_function\u001B[49m\u001B[38;5;241;43m=\u001B[39;49m\u001B[43mpulse_def\u001B[49m\u001B[38;5;241;43m.\u001B[39;49m\u001B[43mfunction\u001B[49m\u001B[43m,\u001B[49m\n\u001B[1;32m    263\u001B[0m \u001B[43m    \u001B[49m\u001B[43mmodulation_frequency\u001B[49m\u001B[38;5;241;43m=\u001B[39;49m\u001B[43moscillator_frequency\u001B[49m\u001B[43m,\u001B[49m\n\u001B[1;32m    264\u001B[0m \u001B[43m    \u001B[49m\u001B[43msamples\u001B[49m\u001B[38;5;241;43m=\u001B[39;49m\u001B[43msamples\u001B[49m\u001B[43m,\u001B[49m\n\u001B[1;32m    265\u001B[0m \u001B[43m    \u001B[49m\u001B[43mmixer_type\u001B[49m\u001B[38;5;241;43m=\u001B[39;49m\u001B[43msignal_obj\u001B[49m\u001B[38;5;241;43m.\u001B[39;49m\u001B[43mmixer_type\u001B[49m\u001B[43m,\u001B[49m\n\u001B[1;32m    266\u001B[0m \u001B[43m    \u001B[49m\u001B[43mpulse_parameters\u001B[49m\u001B[38;5;241;43m=\u001B[39;49m\u001B[43mpulse_parameters\u001B[49m\u001B[43m,\u001B[49m\n\u001B[1;32m    267\u001B[0m \u001B[43m\u001B[49m\u001B[43m)\u001B[49m\n\u001B[1;32m    269\u001B[0m verify_amplitude_no_clipping(\n\u001B[1;32m    270\u001B[0m     integration_weight,\n\u001B[1;32m    271\u001B[0m     pulse_def\u001B[38;5;241m.\u001B[39muid,\n\u001B[1;32m    272\u001B[0m     signal_obj\u001B[38;5;241m.\u001B[39mmixer_type,\n\u001B[1;32m    273\u001B[0m     signal_obj\u001B[38;5;241m.\u001B[39mid,\n\u001B[1;32m    274\u001B[0m )\n\u001B[1;32m    276\u001B[0m \u001B[38;5;66;03m# 128-bit hash as waveform name\u001B[39;00m\n",
      "File \u001B[0;32m~/Projects/Envs/SydneyQuantum/lib/python3.12/site-packages/laboneq/core/utilities/pulse_sampler.py:130\u001B[0m, in \u001B[0;36msample_pulse\u001B[0;34m(signal_type, sampling_rate, length, amplitude, pulse_function, modulation_frequency, phase, samples, mixer_type, pulse_parameters, markers)\u001B[0m\n\u001B[1;32m    125\u001B[0m     pulse_parameters \u001B[38;5;241m=\u001B[39m {\n\u001B[1;32m    126\u001B[0m         k: v \u001B[38;5;28;01mfor\u001B[39;00m (k, v) \u001B[38;5;129;01min\u001B[39;00m pulse_parameters\u001B[38;5;241m.\u001B[39mitems() \u001B[38;5;28;01mif\u001B[39;00m k \u001B[38;5;241m!=\u001B[39m \u001B[38;5;124m\"\u001B[39m\u001B[38;5;124mamplitude\u001B[39m\u001B[38;5;124m\"\u001B[39m\n\u001B[1;32m    127\u001B[0m     }\n\u001B[1;32m    129\u001B[0m \u001B[38;5;28;01mif\u001B[39;00m pulse_function \u001B[38;5;129;01mis\u001B[39;00m \u001B[38;5;129;01mnot\u001B[39;00m \u001B[38;5;28;01mNone\u001B[39;00m:\n\u001B[0;32m--> 130\u001B[0m     samples \u001B[38;5;241m=\u001B[39m \u001B[43mpulse_function_library\u001B[49m\u001B[43m[\u001B[49m\u001B[43mpulse_function\u001B[49m\u001B[43m]\u001B[49m\u001B[43m(\u001B[49m\n\u001B[1;32m    131\u001B[0m \u001B[43m        \u001B[49m\u001B[43mnp\u001B[49m\u001B[38;5;241;43m.\u001B[39;49m\u001B[43mlinspace\u001B[49m\u001B[43m(\u001B[49m\u001B[38;5;241;43m-\u001B[39;49m\u001B[38;5;241;43m1\u001B[39;49m\u001B[43m,\u001B[49m\u001B[43m \u001B[49m\u001B[38;5;241;43m1\u001B[39;49m\u001B[43m,\u001B[49m\u001B[43m \u001B[49m\u001B[43mnum_samples\u001B[49m\u001B[43m,\u001B[49m\u001B[43m \u001B[49m\u001B[43mendpoint\u001B[49m\u001B[38;5;241;43m=\u001B[39;49m\u001B[38;5;28;43;01mFalse\u001B[39;49;00m\u001B[43m)\u001B[49m\u001B[43m,\u001B[49m\n\u001B[1;32m    132\u001B[0m \u001B[43m        \u001B[49m\u001B[43mlength\u001B[49m\u001B[38;5;241;43m=\u001B[39;49m\u001B[43mlength\u001B[49m\u001B[43m,\u001B[49m\n\u001B[1;32m    133\u001B[0m \u001B[43m        \u001B[49m\u001B[43mamplitude\u001B[49m\u001B[38;5;241;43m=\u001B[39;49m\u001B[43mamplitude\u001B[49m\u001B[43m,\u001B[49m\n\u001B[1;32m    134\u001B[0m \u001B[43m        \u001B[49m\u001B[43msampling_rate\u001B[49m\u001B[38;5;241;43m=\u001B[39;49m\u001B[43msampling_rate\u001B[49m\u001B[43m,\u001B[49m\n\u001B[1;32m    135\u001B[0m \u001B[43m        \u001B[49m\u001B[38;5;241;43m*\u001B[39;49m\u001B[38;5;241;43m*\u001B[39;49m\u001B[43mpulse_parameters\u001B[49m\u001B[43m,\u001B[49m\n\u001B[1;32m    136\u001B[0m \u001B[43m    \u001B[49m\u001B[43m)\u001B[49m\n\u001B[1;32m    137\u001B[0m \u001B[38;5;28;01massert\u001B[39;00m \u001B[38;5;28misinstance\u001B[39m(samples, (\u001B[38;5;28mlist\u001B[39m, np\u001B[38;5;241m.\u001B[39mndarray))\n\u001B[1;32m    138\u001B[0m samples \u001B[38;5;241m=\u001B[39m np\u001B[38;5;241m.\u001B[39marray(samples[:num_samples])\n",
      "File \u001B[0;32m~/Projects/Envs/SydneyQuantum/lib/python3.12/site-packages/laboneq/dsl/experiment/pulse_library.py:171\u001B[0m, in \u001B[0;36mgaussian_square\u001B[0;34m(x, sigma, width, zero_boundaries, **_)\u001B[0m\n\u001B[1;32m    168\u001B[0m length \u001B[38;5;241m=\u001B[39m _[\u001B[38;5;124m\"\u001B[39m\u001B[38;5;124mlength\u001B[39m\u001B[38;5;124m\"\u001B[39m]\n\u001B[1;32m    170\u001B[0m \u001B[38;5;28;01mif\u001B[39;00m width \u001B[38;5;129;01mis\u001B[39;00m \u001B[38;5;129;01mnot\u001B[39;00m \u001B[38;5;28;01mNone\u001B[39;00m \u001B[38;5;129;01mand\u001B[39;00m width \u001B[38;5;241m>\u001B[39m\u001B[38;5;241m=\u001B[39m length:\n\u001B[0;32m--> 171\u001B[0m     \u001B[38;5;28;01mraise\u001B[39;00m \u001B[38;5;167;01mValueError\u001B[39;00m(\n\u001B[1;32m    172\u001B[0m         \u001B[38;5;124m\"\u001B[39m\u001B[38;5;124mThe width of the flat portion of the pulse must be smaller than the total length.\u001B[39m\u001B[38;5;124m\"\u001B[39m\n\u001B[1;32m    173\u001B[0m     )\n\u001B[1;32m    175\u001B[0m \u001B[38;5;28;01mif\u001B[39;00m width \u001B[38;5;129;01mis\u001B[39;00m \u001B[38;5;28;01mNone\u001B[39;00m:\n\u001B[1;32m    176\u001B[0m     width \u001B[38;5;241m=\u001B[39m \u001B[38;5;241m0.9\u001B[39m \u001B[38;5;241m*\u001B[39m length\n",
      "\u001B[0;31mValueError\u001B[0m: The width of the flat portion of the pulse must be smaller than the total length."
     ]
    }
   ],
   "source": [
    "start_freq = -100e6\n",
    "stop_freq = 100e6\n",
    "num_points = 501\n",
    "num_averages = 2\n",
    "average_mode = AveragingMode.CYCLIC # AveragingMode.SEQUENTIAL #\n",
    "i = 0\n",
    "freq_sweep = [LinearSweepParameter(\n",
    "    uid = f\"freq_sweep_\" + k, \n",
    "    start = start_freq + 0e6 * i, \n",
    "    stop = stop_freq + 0e6 * i, \n",
    "    count = num_points, \n",
    "    axis_name=\"Frequency [Hz]\") for i, k in enumerate(qubits)\n",
    "]\n",
    "\n",
    "\n",
    "wait_after_int = 2e-6 + 5e-6\n",
    "# define the experiment with the frequency sweep relevant for qubit 0\n",
    "exp_params_qspec = exp_params_qubits\n",
    "exp_params_qspec.update({\n",
    "    \"exp_name\": \"qspec\",\n",
    "    \"freq_sweep\": freq_sweep,\n",
    "    \"num_averages\": num_averages,\n",
    "    \"average_mode\": average_mode,\n",
    "    \"wait_after_int\": wait_after_int,\n",
    "})\n",
    "\n",
    "exp_qspec_results = qubit_spec(session, exp_params_qspec, qudits_params)\n"
   ]
  },
  {
   "cell_type": "markdown",
   "id": "12d43067",
   "metadata": {},
   "source": [
    "### Upload qubit transition frequencies"
   ]
  },
  {
   "cell_type": "code",
   "execution_count": null,
   "id": "5f812d66",
   "metadata": {
    "ExecuteTime": {
     "start_time": "2024-02-22T05:03:40.740952Z"
    }
   },
   "outputs": [],
   "source": [
    "qudits_params.update({\n",
    "    \"qudits\": [\"q0\", \"q1\"],\n",
    "    \"dr_cent_f\": [5e9, 5e9],\n",
    "    \"dr_p_range\": [0, 0],\n",
    "    \"dr_df\": [10e6, 32e6],\n",
    "    \"dr_pulse_data\": dr_pulse_data,\n",
    "})\n",
    "\n",
    "device_setup.set_calibration(define_calibration(qudits_params))"
   ]
  },
  {
   "cell_type": "markdown",
   "id": "3b44522d",
   "metadata": {},
   "source": [
    "## T1 and T2 measurements"
   ]
  },
  {
   "cell_type": "markdown",
   "id": "e2125ea5",
   "metadata": {},
   "source": [
    "### T1"
   ]
  },
  {
   "cell_type": "markdown",
   "id": "8c87b4ba",
   "metadata": {},
   "source": [
    "#### Rabi (amplitude sweep)"
   ]
  },
  {
   "cell_type": "code",
   "execution_count": 17,
   "id": "1b6e8c5a",
   "metadata": {
    "ExecuteTime": {
     "end_time": "2024-02-22T05:03:41.426684Z",
     "start_time": "2024-02-22T05:03:41.144132Z"
    }
   },
   "outputs": [
    {
     "name": "stdout",
     "output_type": "stream",
     "text": [
      "[2024.02.22 16:03:41.141] INFO    Starting LabOne Q Compiler run...\n",
      "[2024.02.22 16:03:41.147] INFO    Schedule completed\n"
     ]
    },
    {
     "ename": "ValueError",
     "evalue": "The width of the flat portion of the pulse must be smaller than the total length.",
     "output_type": "error",
     "traceback": [
      "\u001B[0;31m---------------------------------------------------------------------------\u001B[0m",
      "\u001B[0;31mValueError\u001B[0m                                Traceback (most recent call last)",
      "Cell \u001B[0;32mIn[17], line 12\u001B[0m\n\u001B[1;32m      4\u001B[0m exp_params_rabi_amp \u001B[38;5;241m=\u001B[39m exp_params_qubits\n\u001B[1;32m      5\u001B[0m exp_params_rabi_amp\u001B[38;5;241m.\u001B[39mupdate({\n\u001B[1;32m      6\u001B[0m     \u001B[38;5;124m\"\u001B[39m\u001B[38;5;124mexp_name\u001B[39m\u001B[38;5;124m\"\u001B[39m: \u001B[38;5;124m\"\u001B[39m\u001B[38;5;124mrabi_amp\u001B[39m\u001B[38;5;124m\"\u001B[39m,\n\u001B[1;32m      7\u001B[0m     \u001B[38;5;124m\"\u001B[39m\u001B[38;5;124mdr_p_range\u001B[39m\u001B[38;5;124m\"\u001B[39m: dr_p_range,\n\u001B[1;32m      8\u001B[0m     \u001B[38;5;124m\"\u001B[39m\u001B[38;5;124mamp_sweep\u001B[39m\u001B[38;5;124m\"\u001B[39m: rabi_exp,\n\u001B[1;32m      9\u001B[0m     \u001B[38;5;124m\"\u001B[39m\u001B[38;5;124mnum_averages\u001B[39m\u001B[38;5;124m\"\u001B[39m: \u001B[38;5;241m0\u001B[39m,\n\u001B[1;32m     10\u001B[0m })\n\u001B[0;32m---> 12\u001B[0m exp_rabi_results \u001B[38;5;241m=\u001B[39m \u001B[43mrabi\u001B[49m\u001B[43m(\u001B[49m\u001B[43msession\u001B[49m\u001B[43m,\u001B[49m\u001B[43m \u001B[49m\u001B[43mexp_params_rabi_amp\u001B[49m\u001B[43m,\u001B[49m\u001B[43m \u001B[49m\u001B[43mqudits_params\u001B[49m\u001B[43m)\u001B[49m\n\u001B[1;32m     14\u001B[0m data \u001B[38;5;241m=\u001B[39m exp_rabi_results\u001B[38;5;241m.\u001B[39macquired_results[exp_params_rabi_amp[\u001B[38;5;124m\"\u001B[39m\u001B[38;5;124mexp_name\u001B[39m\u001B[38;5;124m\"\u001B[39m] \u001B[38;5;241m+\u001B[39m \u001B[38;5;124m\"\u001B[39m\u001B[38;5;124m_q0\u001B[39m\u001B[38;5;124m\"\u001B[39m]\u001B[38;5;241m.\u001B[39mdata\n",
      "Cell \u001B[0;32mIn[7], line 340\u001B[0m, in \u001B[0;36mrabi\u001B[0;34m(session, exp_params, qudits_params)\u001B[0m\n\u001B[1;32m    338\u001B[0m     cal[\u001B[38;5;124m\"\u001B[39m\u001B[38;5;124mdrive_\u001B[39m\u001B[38;5;124m\"\u001B[39m\u001B[38;5;241m+\u001B[39mef_str \u001B[38;5;241m+\u001B[39m qubit] \u001B[38;5;241m=\u001B[39m SignalCalibration(\u001B[38;5;28mrange\u001B[39m\u001B[38;5;241m=\u001B[39mdr_p_range)\n\u001B[1;32m    339\u001B[0m exp\u001B[38;5;241m.\u001B[39mset_calibration(cal)\n\u001B[0;32m--> 340\u001B[0m results \u001B[38;5;241m=\u001B[39m \u001B[43mcompile_run\u001B[49m\u001B[43m(\u001B[49m\u001B[43msession\u001B[49m\u001B[43m,\u001B[49m\u001B[43m \u001B[49m\u001B[43mexp_params\u001B[49m\u001B[43m,\u001B[49m\u001B[43m \u001B[49m\u001B[43mexp\u001B[49m\u001B[43m)\u001B[49m\n\u001B[1;32m    341\u001B[0m \u001B[38;5;28;01mreturn\u001B[39;00m results\n",
      "Cell \u001B[0;32mIn[7], line 80\u001B[0m, in \u001B[0;36mcompile_run\u001B[0;34m(session, exp_params, exp)\u001B[0m\n\u001B[1;32m     77\u001B[0m \u001B[38;5;28;01mif\u001B[39;00m \u001B[38;5;124m\"\u001B[39m\u001B[38;5;124mrb\u001B[39m\u001B[38;5;124m\"\u001B[39m \u001B[38;5;129;01min\u001B[39;00m exp_params[\u001B[38;5;124m\"\u001B[39m\u001B[38;5;124mexp_name\u001B[39m\u001B[38;5;124m\"\u001B[39m]:\n\u001B[1;32m     78\u001B[0m     compiler_settings \u001B[38;5;241m=\u001B[39m {\u001B[38;5;124m\"\u001B[39m\u001B[38;5;124mSHFSG_MIN_PLAYWAVE_HINT\u001B[39m\u001B[38;5;124m\"\u001B[39m: \u001B[38;5;241m256\u001B[39m}\n\u001B[0;32m---> 80\u001B[0m compiled_exp \u001B[38;5;241m=\u001B[39m \u001B[43msession\u001B[49m\u001B[38;5;241;43m.\u001B[39;49m\u001B[43mcompile\u001B[49m\u001B[43m(\u001B[49m\u001B[43mexp\u001B[49m\u001B[43m,\u001B[49m\u001B[43m \u001B[49m\u001B[43mcompiler_settings\u001B[49m\u001B[43m \u001B[49m\u001B[38;5;241;43m=\u001B[39;49m\u001B[43m \u001B[49m\u001B[43mcompiler_settings\u001B[49m\u001B[43m)\u001B[49m\n\u001B[1;32m     81\u001B[0m results \u001B[38;5;241m=\u001B[39m session\u001B[38;5;241m.\u001B[39mrun(compiled_exp)    \n\u001B[1;32m     82\u001B[0m Path(\u001B[38;5;124m\"\u001B[39m\u001B[38;5;124mPulse_Sheets\u001B[39m\u001B[38;5;124m\"\u001B[39m)\u001B[38;5;241m.\u001B[39mmkdir(parents\u001B[38;5;241m=\u001B[39m\u001B[38;5;28;01mTrue\u001B[39;00m, exist_ok\u001B[38;5;241m=\u001B[39m\u001B[38;5;28;01mTrue\u001B[39;00m)\n",
      "File \u001B[0;32m~/Projects/Envs/SydneyQuantum/lib/python3.12/site-packages/laboneq/_observability/tracing/_tracer.py:75\u001B[0m, in \u001B[0;36mtrace.<locals>.outer_wrapper.<locals>.wrapper\u001B[0;34m(*args, **kwargs)\u001B[0m\n\u001B[1;32m     73\u001B[0m             tracing\u001B[38;5;241m.\u001B[39menable_tracing()\n\u001B[1;32m     74\u001B[0m         \u001B[38;5;28;01mreturn\u001B[39;00m res\n\u001B[0;32m---> 75\u001B[0m \u001B[38;5;28;01mreturn\u001B[39;00m \u001B[43mfunc\u001B[49m\u001B[43m(\u001B[49m\u001B[38;5;241;43m*\u001B[39;49m\u001B[43margs\u001B[49m\u001B[43m,\u001B[49m\u001B[43m \u001B[49m\u001B[38;5;241;43m*\u001B[39;49m\u001B[38;5;241;43m*\u001B[39;49m\u001B[43mkwargs\u001B[49m\u001B[43m)\u001B[49m\n",
      "File \u001B[0;32m~/Projects/Envs/SydneyQuantum/lib/python3.12/site-packages/laboneq/dsl/session.py:337\u001B[0m, in \u001B[0;36mSession.compile\u001B[0;34m(self, experiment, compiler_settings)\u001B[0m\n\u001B[1;32m    335\u001B[0m \u001B[38;5;28mself\u001B[39m\u001B[38;5;241m.\u001B[39m_assert_connected(fail\u001B[38;5;241m=\u001B[39m\u001B[38;5;28;01mTrue\u001B[39;00m)\n\u001B[1;32m    336\u001B[0m \u001B[38;5;28mself\u001B[39m\u001B[38;5;241m.\u001B[39m_experiment_definition \u001B[38;5;241m=\u001B[39m experiment\n\u001B[0;32m--> 337\u001B[0m \u001B[38;5;28mself\u001B[39m\u001B[38;5;241m.\u001B[39m_compiled_experiment \u001B[38;5;241m=\u001B[39m \u001B[43mLabOneQFacade\u001B[49m\u001B[38;5;241;43m.\u001B[39;49m\u001B[43mcompile\u001B[49m\u001B[43m(\u001B[49m\n\u001B[1;32m    338\u001B[0m \u001B[43m    \u001B[49m\u001B[38;5;28;43mself\u001B[39;49m\u001B[43m,\u001B[49m\u001B[43m \u001B[49m\u001B[38;5;28;43mself\u001B[39;49m\u001B[38;5;241;43m.\u001B[39;49m\u001B[43mlogger\u001B[49m\u001B[43m,\u001B[49m\u001B[43m \u001B[49m\u001B[43mcompiler_settings\u001B[49m\u001B[38;5;241;43m=\u001B[39;49m\u001B[43mcompiler_settings\u001B[49m\n\u001B[1;32m    339\u001B[0m \u001B[43m\u001B[49m\u001B[43m)\u001B[49m\n\u001B[1;32m    340\u001B[0m \u001B[38;5;28mself\u001B[39m\u001B[38;5;241m.\u001B[39m_last_results \u001B[38;5;241m=\u001B[39m \u001B[38;5;28;01mNone\u001B[39;00m\n\u001B[1;32m    341\u001B[0m \u001B[38;5;28;01mreturn\u001B[39;00m \u001B[38;5;28mself\u001B[39m\u001B[38;5;241m.\u001B[39m_compiled_experiment\n",
      "File \u001B[0;32m~/Projects/Envs/SydneyQuantum/lib/python3.12/site-packages/laboneq/dsl/laboneq_facade.py:71\u001B[0m, in \u001B[0;36mLabOneQFacade.compile\u001B[0;34m(session, logger, compiler_settings)\u001B[0m\n\u001B[1;32m     68\u001B[0m signal_mapping \u001B[38;5;241m=\u001B[39m convert_signal_map(session\u001B[38;5;241m.\u001B[39mexperiment)\n\u001B[1;32m     70\u001B[0m payload_builder \u001B[38;5;241m=\u001B[39m ApplicationManager\u001B[38;5;241m.\u001B[39minstance()\u001B[38;5;241m.\u001B[39mpayload_builder()\n\u001B[0;32m---> 71\u001B[0m payload \u001B[38;5;241m=\u001B[39m \u001B[43mpayload_builder\u001B[49m\u001B[38;5;241;43m.\u001B[39;49m\u001B[43mbuild_payload\u001B[49m\u001B[43m(\u001B[49m\n\u001B[1;32m     72\u001B[0m \u001B[43m    \u001B[49m\u001B[43mnew_setup\u001B[49m\u001B[43m,\u001B[49m\n\u001B[1;32m     73\u001B[0m \u001B[43m    \u001B[49m\u001B[43mnew_experiment\u001B[49m\u001B[43m,\u001B[49m\n\u001B[1;32m     74\u001B[0m \u001B[43m    \u001B[49m\u001B[43msignal_mapping\u001B[49m\u001B[43m,\u001B[49m\n\u001B[1;32m     75\u001B[0m \u001B[43m    \u001B[49m\u001B[43mcompiler_settings\u001B[49m\u001B[43m,\u001B[49m\n\u001B[1;32m     76\u001B[0m \u001B[43m\u001B[49m\u001B[43m)\u001B[49m\n\u001B[1;32m     78\u001B[0m compiled_experiment \u001B[38;5;241m=\u001B[39m CompiledExperiment(\n\u001B[1;32m     79\u001B[0m     device_setup\u001B[38;5;241m=\u001B[39msession\u001B[38;5;241m.\u001B[39mdevice_setup,\n\u001B[1;32m     80\u001B[0m     experiment\u001B[38;5;241m=\u001B[39msession\u001B[38;5;241m.\u001B[39mexperiment,\n\u001B[1;32m     81\u001B[0m     experiment_dict\u001B[38;5;241m=\u001B[39m\u001B[38;5;28;01mNone\u001B[39;00m,  \u001B[38;5;66;03m# deprecated\u001B[39;00m\n\u001B[1;32m     82\u001B[0m     scheduled_experiment\u001B[38;5;241m=\u001B[39mpayload\u001B[38;5;241m.\u001B[39mscheduled_experiment,\n\u001B[1;32m     83\u001B[0m )\n\u001B[1;32m     84\u001B[0m \u001B[38;5;28;01mreturn\u001B[39;00m compiled_experiment\n",
      "File \u001B[0;32m~/Projects/Envs/SydneyQuantum/lib/python3.12/site-packages/laboneq/implementation/payload_builder/payload_builder.py:50\u001B[0m, in \u001B[0;36mPayloadBuilder.build_payload\u001B[0;34m(self, device_setup, experiment, signal_mappings, compiler_settings)\u001B[0m\n\u001B[1;32m     44\u001B[0m     experiment\u001B[38;5;241m.\u001B[39msignals \u001B[38;5;241m=\u001B[39m []\n\u001B[1;32m     46\u001B[0m job \u001B[38;5;241m=\u001B[39m \u001B[38;5;28mself\u001B[39m\u001B[38;5;241m.\u001B[39mcreate_compilation_job(\n\u001B[1;32m     47\u001B[0m     device_setup, experiment, signal_mappings, compiler_settings\n\u001B[1;32m     48\u001B[0m )\n\u001B[0;32m---> 50\u001B[0m job_id \u001B[38;5;241m=\u001B[39m \u001B[38;5;28;43mself\u001B[39;49m\u001B[38;5;241;43m.\u001B[39;49m\u001B[43m_compilation_service\u001B[49m\u001B[38;5;241;43m.\u001B[39;49m\u001B[43msubmit_compilation_job\u001B[49m\u001B[43m(\u001B[49m\u001B[43mjob\u001B[49m\u001B[43m)\u001B[49m\n\u001B[1;32m     52\u001B[0m scheduled_experiment \u001B[38;5;241m=\u001B[39m \u001B[38;5;28mself\u001B[39m\u001B[38;5;241m.\u001B[39m_compilation_service\u001B[38;5;241m.\u001B[39mcompilation_job_result(job_id)\n\u001B[1;32m     54\u001B[0m target_setup \u001B[38;5;241m=\u001B[39m TargetSetupGenerator\u001B[38;5;241m.\u001B[39mfrom_setup(device_setup)\n",
      "File \u001B[0;32m~/Projects/Envs/SydneyQuantum/lib/python3.12/site-packages/laboneq/implementation/compilation_service/compilation_service_legacy.py:29\u001B[0m, in \u001B[0;36mCompilationServiceLegacy.submit_compilation_job\u001B[0;34m(self, job)\u001B[0m\n\u001B[1;32m     27\u001B[0m queue_entry \u001B[38;5;241m=\u001B[39m {\u001B[38;5;124m\"\u001B[39m\u001B[38;5;124mjob_id\u001B[39m\u001B[38;5;124m\"\u001B[39m: job_id, \u001B[38;5;124m\"\u001B[39m\u001B[38;5;124mjob\u001B[39m\u001B[38;5;124m\"\u001B[39m: job}\n\u001B[1;32m     28\u001B[0m compiler \u001B[38;5;241m=\u001B[39m Compiler(job\u001B[38;5;241m.\u001B[39mcompiler_settings)\n\u001B[0;32m---> 29\u001B[0m compiler_output \u001B[38;5;241m=\u001B[39m \u001B[43mcompiler\u001B[49m\u001B[38;5;241;43m.\u001B[39;49m\u001B[43mrun\u001B[49m\u001B[43m(\u001B[49m\u001B[43mjob\u001B[49m\u001B[43m)\u001B[49m\n\u001B[1;32m     31\u001B[0m \u001B[38;5;28mself\u001B[39m\u001B[38;5;241m.\u001B[39m_job_results[job_id] \u001B[38;5;241m=\u001B[39m convert_compiler_output_to_scheduled_experiment(\n\u001B[1;32m     32\u001B[0m     compiler_output\n\u001B[1;32m     33\u001B[0m )\n\u001B[1;32m     35\u001B[0m \u001B[38;5;28mself\u001B[39m\u001B[38;5;241m.\u001B[39m_job_queue\u001B[38;5;241m.\u001B[39mappend(queue_entry)\n",
      "File \u001B[0;32m~/Projects/Envs/SydneyQuantum/lib/python3.12/site-packages/laboneq/_observability/tracing/_tracer.py:75\u001B[0m, in \u001B[0;36mtrace.<locals>.outer_wrapper.<locals>.wrapper\u001B[0;34m(*args, **kwargs)\u001B[0m\n\u001B[1;32m     73\u001B[0m             tracing\u001B[38;5;241m.\u001B[39menable_tracing()\n\u001B[1;32m     74\u001B[0m         \u001B[38;5;28;01mreturn\u001B[39;00m res\n\u001B[0;32m---> 75\u001B[0m \u001B[38;5;28;01mreturn\u001B[39;00m \u001B[43mfunc\u001B[49m\u001B[43m(\u001B[49m\u001B[38;5;241;43m*\u001B[39;49m\u001B[43margs\u001B[49m\u001B[43m,\u001B[49m\u001B[43m \u001B[49m\u001B[38;5;241;43m*\u001B[39;49m\u001B[38;5;241;43m*\u001B[39;49m\u001B[43mkwargs\u001B[49m\u001B[43m)\u001B[49m\n",
      "File \u001B[0;32m~/Projects/Envs/SydneyQuantum/lib/python3.12/site-packages/laboneq/compiler/workflow/compiler.py:1164\u001B[0m, in \u001B[0;36mCompiler.run\u001B[0;34m(self, data)\u001B[0m\n\u001B[1;32m   1162\u001B[0m \u001B[38;5;28mself\u001B[39m\u001B[38;5;241m.\u001B[39muse_experiment(data)\n\u001B[1;32m   1163\u001B[0m \u001B[38;5;28mself\u001B[39m\u001B[38;5;241m.\u001B[39m_analyze_setup()\n\u001B[0;32m-> 1164\u001B[0m \u001B[38;5;28;43mself\u001B[39;49m\u001B[38;5;241;43m.\u001B[39;49m\u001B[43m_process_experiment\u001B[49m\u001B[43m(\u001B[49m\u001B[43m)\u001B[49m\n\u001B[1;32m   1166\u001B[0m \u001B[38;5;28mself\u001B[39m\u001B[38;5;241m.\u001B[39m_generate_recipe()\n\u001B[1;32m   1168\u001B[0m retval \u001B[38;5;241m=\u001B[39m \u001B[38;5;28mself\u001B[39m\u001B[38;5;241m.\u001B[39mcompiler_output()\n",
      "File \u001B[0;32m~/Projects/Envs/SydneyQuantum/lib/python3.12/site-packages/laboneq/compiler/workflow/compiler.py:269\u001B[0m, in \u001B[0;36mCompiler._process_experiment\u001B[0;34m(self)\u001B[0m\n\u001B[1;32m    262\u001B[0m rt_compiler \u001B[38;5;241m=\u001B[39m RealtimeCompiler(\n\u001B[1;32m    263\u001B[0m     \u001B[38;5;28mself\u001B[39m\u001B[38;5;241m.\u001B[39m_experiment_dao,\n\u001B[1;32m    264\u001B[0m     \u001B[38;5;28mself\u001B[39m\u001B[38;5;241m.\u001B[39m_sampling_rate_tracker,\n\u001B[1;32m    265\u001B[0m     \u001B[38;5;28mself\u001B[39m\u001B[38;5;241m.\u001B[39m_signal_objects,\n\u001B[1;32m    266\u001B[0m     \u001B[38;5;28mself\u001B[39m\u001B[38;5;241m.\u001B[39m_settings,\n\u001B[1;32m    267\u001B[0m )\n\u001B[1;32m    268\u001B[0m executor \u001B[38;5;241m=\u001B[39m NtCompilerExecutor(rt_compiler, \u001B[38;5;28mself\u001B[39m\u001B[38;5;241m.\u001B[39m_settings)\n\u001B[0;32m--> 269\u001B[0m \u001B[43mexecutor\u001B[49m\u001B[38;5;241;43m.\u001B[39;49m\u001B[43mrun\u001B[49m\u001B[43m(\u001B[49m\u001B[38;5;28;43mself\u001B[39;49m\u001B[38;5;241;43m.\u001B[39;49m\u001B[43m_execution\u001B[49m\u001B[43m)\u001B[49m\n\u001B[1;32m    270\u001B[0m \u001B[38;5;28mself\u001B[39m\u001B[38;5;241m.\u001B[39m_combined_compiler_output \u001B[38;5;241m=\u001B[39m executor\u001B[38;5;241m.\u001B[39mcombined_compiler_output()\n\u001B[1;32m    271\u001B[0m \u001B[38;5;28;01mif\u001B[39;00m \u001B[38;5;28mself\u001B[39m\u001B[38;5;241m.\u001B[39m_combined_compiler_output \u001B[38;5;129;01mis\u001B[39;00m \u001B[38;5;28;01mNone\u001B[39;00m:\n\u001B[1;32m    272\u001B[0m     \u001B[38;5;66;03m# Some of our tests do not have an RT averaging loop, so the RT compiler will\u001B[39;00m\n\u001B[1;32m    273\u001B[0m     \u001B[38;5;66;03m# not have been run. For backwards compatibility, we still run it once.\u001B[39;00m\n",
      "File \u001B[0;32m~/Projects/Envs/SydneyQuantum/lib/python3.12/site-packages/laboneq/executor/executor.py:479\u001B[0m, in \u001B[0;36mExecutorBase.run\u001B[0;34m(self, root_sequence)\u001B[0m\n\u001B[1;32m    477\u001B[0m scope \u001B[38;5;241m=\u001B[39m ExecutionScope(\u001B[38;5;28;01mNone\u001B[39;00m, \u001B[38;5;28mself\u001B[39m)\n\u001B[1;32m    478\u001B[0m \u001B[38;5;28;01mfor\u001B[39;00m notification \u001B[38;5;129;01min\u001B[39;00m root_sequence\u001B[38;5;241m.\u001B[39mrun(scope):\n\u001B[0;32m--> 479\u001B[0m     \u001B[38;5;28;43mself\u001B[39;49m\u001B[38;5;241;43m.\u001B[39;49m\u001B[43m_handlers_map\u001B[49m\u001B[43m[\u001B[49m\u001B[43mnotification\u001B[49m\u001B[38;5;241;43m.\u001B[39;49m\u001B[43mstatement_type\u001B[49m\u001B[43m]\u001B[49m\u001B[43m(\u001B[49m\u001B[38;5;241;43m*\u001B[39;49m\u001B[38;5;241;43m*\u001B[39;49m\u001B[43mnotification\u001B[49m\u001B[38;5;241;43m.\u001B[39;49m\u001B[43margs\u001B[49m\u001B[43m)\u001B[49m\n",
      "File \u001B[0;32m~/Projects/Envs/SydneyQuantum/lib/python3.12/site-packages/laboneq/compiler/workflow/neartime_execution.py:155\u001B[0m, in \u001B[0;36mNtCompilerExecutor.rt_entry_handler\u001B[0;34m(self, count, uid, averaging_mode, acquisition_type)\u001B[0m\n\u001B[1;32m    153\u001B[0m parameter_store \u001B[38;5;241m=\u001B[39m ParameterStore(\u001B[38;5;28mself\u001B[39m\u001B[38;5;241m.\u001B[39m_iteration_stack\u001B[38;5;241m.\u001B[39mnt_parameter_values())\n\u001B[1;32m    154\u001B[0m tracker \u001B[38;5;241m=\u001B[39m parameter_store\u001B[38;5;241m.\u001B[39mcreate_tracker()\n\u001B[0;32m--> 155\u001B[0m new_compiler_output \u001B[38;5;241m=\u001B[39m \u001B[38;5;28;43mself\u001B[39;49m\u001B[38;5;241;43m.\u001B[39;49m\u001B[43m_rt_compiler\u001B[49m\u001B[38;5;241;43m.\u001B[39;49m\u001B[43mrun\u001B[49m\u001B[43m(\u001B[49m\u001B[43mparameter_store\u001B[49m\u001B[43m)\u001B[49m\n\u001B[1;32m    157\u001B[0m \u001B[38;5;28;01mif\u001B[39;00m \u001B[38;5;28mself\u001B[39m\u001B[38;5;241m.\u001B[39m_required_parameters \u001B[38;5;129;01mis\u001B[39;00m \u001B[38;5;28;01mNone\u001B[39;00m:\n\u001B[1;32m    158\u001B[0m     \u001B[38;5;28mself\u001B[39m\u001B[38;5;241m.\u001B[39m_required_parameters \u001B[38;5;241m=\u001B[39m tracker\u001B[38;5;241m.\u001B[39mqueries()\n",
      "File \u001B[0;32m~/Projects/Envs/SydneyQuantum/lib/python3.12/site-packages/laboneq/compiler/workflow/realtime_compiler.py:110\u001B[0m, in \u001B[0;36mRealtimeCompiler.run\u001B[0;34m(self, near_time_parameters)\u001B[0m\n\u001B[1;32m    107\u001B[0m \u001B[38;5;28mself\u001B[39m\u001B[38;5;241m.\u001B[39m_scheduler\u001B[38;5;241m.\u001B[39mrun(near_time_parameters)\n\u001B[1;32m    108\u001B[0m schedule \u001B[38;5;241m=\u001B[39m \u001B[38;5;28mself\u001B[39m\u001B[38;5;241m.\u001B[39mprepare_schedule() \u001B[38;5;28;01mif\u001B[39;00m \u001B[38;5;28mself\u001B[39m\u001B[38;5;241m.\u001B[39m_settings\u001B[38;5;241m.\u001B[39mOUTPUT_EXTRAS \u001B[38;5;28;01melse\u001B[39;00m \u001B[38;5;28;01mNone\u001B[39;00m\n\u001B[0;32m--> 110\u001B[0m \u001B[38;5;28;43mself\u001B[39;49m\u001B[38;5;241;43m.\u001B[39;49m\u001B[43m_generate_code\u001B[49m\u001B[43m(\u001B[49m\u001B[43m)\u001B[49m\n\u001B[1;32m    112\u001B[0m outputs \u001B[38;5;241m=\u001B[39m {\n\u001B[1;32m    113\u001B[0m     device_class: code_generator\u001B[38;5;241m.\u001B[39mget_output()\n\u001B[1;32m    114\u001B[0m     \u001B[38;5;28;01mfor\u001B[39;00m device_class, code_generator \u001B[38;5;129;01min\u001B[39;00m \u001B[38;5;28mself\u001B[39m\u001B[38;5;241m.\u001B[39m_code_generators\u001B[38;5;241m.\u001B[39mitems()\n\u001B[1;32m    115\u001B[0m }\n\u001B[1;32m    117\u001B[0m compiler_output \u001B[38;5;241m=\u001B[39m RTCompilerOutputContainer(\n\u001B[1;32m    118\u001B[0m     codegen_output\u001B[38;5;241m=\u001B[39moutputs, schedule\u001B[38;5;241m=\u001B[39mschedule\n\u001B[1;32m    119\u001B[0m )\n",
      "File \u001B[0;32m~/Projects/Envs/SydneyQuantum/lib/python3.12/site-packages/laboneq/_observability/tracing/_tracer.py:75\u001B[0m, in \u001B[0;36mtrace.<locals>.outer_wrapper.<locals>.wrapper\u001B[0;34m(*args, **kwargs)\u001B[0m\n\u001B[1;32m     73\u001B[0m             tracing\u001B[38;5;241m.\u001B[39menable_tracing()\n\u001B[1;32m     74\u001B[0m         \u001B[38;5;28;01mreturn\u001B[39;00m res\n\u001B[0;32m---> 75\u001B[0m \u001B[38;5;28;01mreturn\u001B[39;00m \u001B[43mfunc\u001B[49m\u001B[43m(\u001B[49m\u001B[38;5;241;43m*\u001B[39;49m\u001B[43margs\u001B[49m\u001B[43m,\u001B[49m\u001B[43m \u001B[49m\u001B[38;5;241;43m*\u001B[39;49m\u001B[38;5;241;43m*\u001B[39;49m\u001B[43mkwargs\u001B[49m\u001B[43m)\u001B[49m\n",
      "File \u001B[0;32m~/Projects/Envs/SydneyQuantum/lib/python3.12/site-packages/laboneq/compiler/workflow/realtime_compiler.py:101\u001B[0m, in \u001B[0;36mRealtimeCompiler._generate_code\u001B[0;34m(self)\u001B[0m\n\u001B[1;32m     98\u001B[0m \u001B[38;5;28;01mif\u001B[39;00m \u001B[38;5;28mself\u001B[39m\u001B[38;5;241m.\u001B[39m_settings\u001B[38;5;241m.\u001B[39mFORCE_IR_ROUNDTRIP:\n\u001B[1;32m     99\u001B[0m     ir\u001B[38;5;241m.\u001B[39mround_trip()\n\u001B[0;32m--> 101\u001B[0m \u001B[38;5;28;43mself\u001B[39;49m\u001B[38;5;241;43m.\u001B[39;49m\u001B[43m_lower_ir_to_code\u001B[49m\u001B[43m(\u001B[49m\u001B[43mir\u001B[49m\u001B[43m)\u001B[49m\n\u001B[1;32m    102\u001B[0m _logger\u001B[38;5;241m.\u001B[39mdebug(\u001B[38;5;124m\"\u001B[39m\u001B[38;5;124mlowering IR to code complete\u001B[39m\u001B[38;5;124m\"\u001B[39m)\n",
      "File \u001B[0;32m~/Projects/Envs/SydneyQuantum/lib/python3.12/site-packages/laboneq/compiler/workflow/realtime_compiler.py:81\u001B[0m, in \u001B[0;36mRealtimeCompiler._lower_ir_to_code\u001B[0;34m(self, ir)\u001B[0m\n\u001B[1;32m     77\u001B[0m \u001B[38;5;28;01mfor\u001B[39;00m device_class \u001B[38;5;129;01min\u001B[39;00m device_classes:\n\u001B[1;32m     78\u001B[0m     \u001B[38;5;28mself\u001B[39m\u001B[38;5;241m.\u001B[39m_code_generators[device_class] \u001B[38;5;241m=\u001B[39m \u001B[38;5;28mself\u001B[39m\u001B[38;5;241m.\u001B[39m_registered_codegens[\n\u001B[1;32m     79\u001B[0m         device_class\n\u001B[1;32m     80\u001B[0m     ](ir, settings\u001B[38;5;241m=\u001B[39m\u001B[38;5;28mself\u001B[39m\u001B[38;5;241m.\u001B[39m_settings)\n\u001B[0;32m---> 81\u001B[0m     \u001B[38;5;28;43mself\u001B[39;49m\u001B[38;5;241;43m.\u001B[39;49m\u001B[43m_code_generators\u001B[49m\u001B[43m[\u001B[49m\u001B[43mdevice_class\u001B[49m\u001B[43m]\u001B[49m\u001B[38;5;241;43m.\u001B[39;49m\u001B[43mgenerate_code\u001B[49m\u001B[43m(\u001B[49m\n\u001B[1;32m     82\u001B[0m \u001B[43m        \u001B[49m\u001B[43m[\u001B[49m\n\u001B[1;32m     83\u001B[0m \u001B[43m            \u001B[49m\u001B[43ms\u001B[49m\n\u001B[1;32m     84\u001B[0m \u001B[43m            \u001B[49m\u001B[38;5;28;43;01mfor\u001B[39;49;00m\u001B[43m \u001B[49m\u001B[43ms\u001B[49m\u001B[43m \u001B[49m\u001B[38;5;129;43;01min\u001B[39;49;00m\u001B[43m \u001B[49m\u001B[38;5;28;43mself\u001B[39;49m\u001B[38;5;241;43m.\u001B[39;49m\u001B[43m_signal_objects\u001B[49m\u001B[38;5;241;43m.\u001B[39;49m\u001B[43mvalues\u001B[49m\u001B[43m(\u001B[49m\u001B[43m)\u001B[49m\n\u001B[1;32m     85\u001B[0m \u001B[43m            \u001B[49m\u001B[38;5;28;43;01mif\u001B[39;49;00m\u001B[43m \u001B[49m\u001B[43ms\u001B[49m\u001B[38;5;241;43m.\u001B[39;49m\u001B[43mawg\u001B[49m\u001B[38;5;241;43m.\u001B[39;49m\u001B[43mdevice_class\u001B[49m\u001B[43m \u001B[49m\u001B[38;5;241;43m==\u001B[39;49m\u001B[43m \u001B[49m\u001B[43mdevice_class\u001B[49m\n\u001B[1;32m     86\u001B[0m \u001B[43m        \u001B[49m\u001B[43m]\u001B[49m\n\u001B[1;32m     87\u001B[0m \u001B[43m    \u001B[49m\u001B[43m)\u001B[49m\n\u001B[1;32m     89\u001B[0m _logger\u001B[38;5;241m.\u001B[39mdebug(\u001B[38;5;124m\"\u001B[39m\u001B[38;5;124mCode generation completed\u001B[39m\u001B[38;5;124m\"\u001B[39m)\n",
      "File \u001B[0;32m~/Projects/Envs/SydneyQuantum/lib/python3.12/site-packages/laboneq/compiler/code_generator/code_generator.py:355\u001B[0m, in \u001B[0;36mCodeGenerator.generate_code\u001B[0;34m(self, signal_objs)\u001B[0m\n\u001B[1;32m    353\u001B[0m     \u001B[38;5;28mself\u001B[39m\u001B[38;5;241m.\u001B[39madd_signal(signal_obj)\n\u001B[1;32m    354\u001B[0m \u001B[38;5;28mself\u001B[39m\u001B[38;5;241m.\u001B[39mgen_acquire_map(event_list)\n\u001B[0;32m--> 355\u001B[0m \u001B[38;5;28;43mself\u001B[39;49m\u001B[38;5;241;43m.\u001B[39;49m\u001B[43mgen_seq_c\u001B[49m\u001B[43m(\u001B[49m\n\u001B[1;32m    356\u001B[0m \u001B[43m    \u001B[49m\u001B[43mevent_list\u001B[49m\u001B[43m,\u001B[49m\n\u001B[1;32m    357\u001B[0m \u001B[43m    \u001B[49m\u001B[43m{\u001B[49m\u001B[43mp\u001B[49m\u001B[38;5;241;43m.\u001B[39;49m\u001B[43muid\u001B[49m\u001B[43m:\u001B[49m\u001B[43m \u001B[49m\u001B[43mp\u001B[49m\u001B[43m \u001B[49m\u001B[38;5;28;43;01mfor\u001B[39;49;00m\u001B[43m \u001B[49m\u001B[43mp\u001B[49m\u001B[43m \u001B[49m\u001B[38;5;129;43;01min\u001B[39;49;00m\u001B[43m \u001B[49m\u001B[38;5;28;43mself\u001B[39;49m\u001B[38;5;241;43m.\u001B[39;49m\u001B[43m_ir\u001B[49m\u001B[38;5;241;43m.\u001B[39;49m\u001B[43mpulse_defs\u001B[49m\u001B[43m}\u001B[49m\u001B[43m,\u001B[49m\n\u001B[1;32m    358\u001B[0m \u001B[43m\u001B[49m\u001B[43m)\u001B[49m\n\u001B[1;32m    359\u001B[0m \u001B[38;5;28mself\u001B[39m\u001B[38;5;241m.\u001B[39mgen_waves()\n",
      "File \u001B[0;32m~/Projects/Envs/SydneyQuantum/lib/python3.12/site-packages/laboneq/compiler/code_generator/code_generator.py:718\u001B[0m, in \u001B[0;36mCodeGenerator.gen_seq_c\u001B[0;34m(self, events, pulse_defs)\u001B[0m\n\u001B[1;32m    710\u001B[0m \u001B[38;5;28mself\u001B[39m\u001B[38;5;241m.\u001B[39m_feedback_register_allocator \u001B[38;5;241m=\u001B[39m FeedbackRegisterAllocator(\n\u001B[1;32m    711\u001B[0m     \u001B[38;5;28mself\u001B[39m\u001B[38;5;241m.\u001B[39m_signals, events\n\u001B[1;32m    712\u001B[0m )\n\u001B[1;32m    714\u001B[0m \u001B[38;5;28;01mfor\u001B[39;00m _, awg \u001B[38;5;129;01min\u001B[39;00m \u001B[38;5;28msorted\u001B[39m(\n\u001B[1;32m    715\u001B[0m     \u001B[38;5;28mself\u001B[39m\u001B[38;5;241m.\u001B[39m_awgs\u001B[38;5;241m.\u001B[39mitems(),\n\u001B[1;32m    716\u001B[0m     key\u001B[38;5;241m=\u001B[39m\u001B[38;5;28;01mlambda\u001B[39;00m item: item[\u001B[38;5;241m0\u001B[39m]\u001B[38;5;241m.\u001B[39mdevice_id \u001B[38;5;241m+\u001B[39m \u001B[38;5;28mstr\u001B[39m(item[\u001B[38;5;241m0\u001B[39m]\u001B[38;5;241m.\u001B[39mawg_number),\n\u001B[1;32m    717\u001B[0m ):\n\u001B[0;32m--> 718\u001B[0m     \u001B[38;5;28;43mself\u001B[39;49m\u001B[38;5;241;43m.\u001B[39;49m\u001B[43m_gen_seq_c_per_awg\u001B[49m\u001B[43m(\u001B[49m\u001B[43mawg\u001B[49m\u001B[43m,\u001B[49m\u001B[43m \u001B[49m\u001B[43mevents\u001B[49m\u001B[43m,\u001B[49m\u001B[43m \u001B[49m\u001B[43mpulse_defs\u001B[49m\u001B[43m)\u001B[49m\n\u001B[1;32m    720\u001B[0m tgt_feedback_regs \u001B[38;5;241m=\u001B[39m \u001B[38;5;28mself\u001B[39m\u001B[38;5;241m.\u001B[39m_feedback_register_allocator\u001B[38;5;241m.\u001B[39mtarget_feedback_registers\n\u001B[1;32m    721\u001B[0m \u001B[38;5;28;01mfor\u001B[39;00m awg, target_fb_register \u001B[38;5;129;01min\u001B[39;00m tgt_feedback_regs\u001B[38;5;241m.\u001B[39mitems():\n",
      "File \u001B[0;32m~/Projects/Envs/SydneyQuantum/lib/python3.12/site-packages/laboneq/compiler/code_generator/code_generator.py:1136\u001B[0m, in \u001B[0;36mCodeGenerator._gen_seq_c_per_awg\u001B[0;34m(self, awg, events, pulse_defs)\u001B[0m\n\u001B[1;32m   1128\u001B[0m         \u001B[38;5;28;01massert\u001B[39;00m \u001B[38;5;28mself\u001B[39m\u001B[38;5;241m.\u001B[39m_integration_weights \u001B[38;5;129;01mis\u001B[39;00m \u001B[38;5;129;01mnot\u001B[39;00m \u001B[38;5;28;01mNone\u001B[39;00m\n\u001B[1;32m   1129\u001B[0m         _logger\u001B[38;5;241m.\u001B[39mdebug(\n\u001B[1;32m   1130\u001B[0m             \u001B[38;5;124m\"\u001B[39m\u001B[38;5;124mCalculating integration weights for signal \u001B[39m\u001B[38;5;132;01m%s\u001B[39;00m\u001B[38;5;124m. There are \u001B[39m\u001B[38;5;132;01m%d\u001B[39;00m\u001B[38;5;124m acquire events.\u001B[39m\u001B[38;5;124m\"\u001B[39m,\n\u001B[1;32m   1131\u001B[0m             signal_obj\u001B[38;5;241m.\u001B[39mid,\n\u001B[1;32m   1132\u001B[0m             \u001B[38;5;28mlen\u001B[39m(acquire_events\u001B[38;5;241m.\u001B[39msequence),\n\u001B[1;32m   1133\u001B[0m         )\n\u001B[1;32m   1134\u001B[0m         \u001B[38;5;28mself\u001B[39m\u001B[38;5;241m.\u001B[39m_integration_weights\u001B[38;5;241m.\u001B[39msetdefault(awg\u001B[38;5;241m.\u001B[39mkey, {})[\n\u001B[1;32m   1135\u001B[0m             signal_obj\u001B[38;5;241m.\u001B[39mid\n\u001B[0;32m-> 1136\u001B[0m         ] \u001B[38;5;241m=\u001B[39m \u001B[43mcalculate_integration_weights\u001B[49m\u001B[43m(\u001B[49m\n\u001B[1;32m   1137\u001B[0m \u001B[43m            \u001B[49m\u001B[43macquire_events\u001B[49m\u001B[43m,\u001B[49m\u001B[43m \u001B[49m\u001B[43msignal_obj\u001B[49m\u001B[43m,\u001B[49m\u001B[43m \u001B[49m\u001B[43mpulse_defs\u001B[49m\n\u001B[1;32m   1138\u001B[0m \u001B[43m        \u001B[49m\u001B[43m)\u001B[49m\n\u001B[1;32m   1140\u001B[0m     sampled_events\u001B[38;5;241m.\u001B[39mmerge(acquire_events)\n\u001B[1;32m   1142\u001B[0m \u001B[38;5;28;01mif\u001B[39;00m awg\u001B[38;5;241m.\u001B[39msignal_type \u001B[38;5;241m==\u001B[39m AWGSignalType\u001B[38;5;241m.\u001B[39mMULTI:\n",
      "File \u001B[0;32m~/Projects/Envs/SydneyQuantum/lib/python3.12/site-packages/laboneq/compiler/code_generator/code_generator.py:257\u001B[0m, in \u001B[0;36mcalculate_integration_weights\u001B[0;34m(acquire_events, signal_obj, pulse_defs)\u001B[0m\n\u001B[1;32m    255\u001B[0m pulse_parameters \u001B[38;5;241m=\u001B[39m combine_pulse_parameters(pulse_par, \u001B[38;5;28;01mNone\u001B[39;00m, play_par)\n\u001B[1;32m    256\u001B[0m pulse_parameters \u001B[38;5;241m=\u001B[39m decode_pulse_parameters(pulse_parameters)\n\u001B[0;32m--> 257\u001B[0m integration_weight \u001B[38;5;241m=\u001B[39m \u001B[43msample_pulse\u001B[49m\u001B[43m(\u001B[49m\n\u001B[1;32m    258\u001B[0m \u001B[43m    \u001B[49m\u001B[43msignal_type\u001B[49m\u001B[38;5;241;43m=\u001B[39;49m\u001B[38;5;124;43m\"\u001B[39;49m\u001B[38;5;124;43miq\u001B[39;49m\u001B[38;5;124;43m\"\u001B[39;49m\u001B[43m,\u001B[49m\n\u001B[1;32m    259\u001B[0m \u001B[43m    \u001B[49m\u001B[43msampling_rate\u001B[49m\u001B[38;5;241;43m=\u001B[39;49m\u001B[43msignal_obj\u001B[49m\u001B[38;5;241;43m.\u001B[39;49m\u001B[43mawg\u001B[49m\u001B[38;5;241;43m.\u001B[39;49m\u001B[43msampling_rate\u001B[49m\u001B[43m,\u001B[49m\n\u001B[1;32m    260\u001B[0m \u001B[43m    \u001B[49m\u001B[43mlength\u001B[49m\u001B[38;5;241;43m=\u001B[39;49m\u001B[43mlength\u001B[49m\u001B[43m,\u001B[49m\n\u001B[1;32m    261\u001B[0m \u001B[43m    \u001B[49m\u001B[43mamplitude\u001B[49m\u001B[38;5;241;43m=\u001B[39;49m\u001B[43mamplitude\u001B[49m\u001B[43m,\u001B[49m\n\u001B[1;32m    262\u001B[0m \u001B[43m    \u001B[49m\u001B[43mpulse_function\u001B[49m\u001B[38;5;241;43m=\u001B[39;49m\u001B[43mpulse_def\u001B[49m\u001B[38;5;241;43m.\u001B[39;49m\u001B[43mfunction\u001B[49m\u001B[43m,\u001B[49m\n\u001B[1;32m    263\u001B[0m \u001B[43m    \u001B[49m\u001B[43mmodulation_frequency\u001B[49m\u001B[38;5;241;43m=\u001B[39;49m\u001B[43moscillator_frequency\u001B[49m\u001B[43m,\u001B[49m\n\u001B[1;32m    264\u001B[0m \u001B[43m    \u001B[49m\u001B[43msamples\u001B[49m\u001B[38;5;241;43m=\u001B[39;49m\u001B[43msamples\u001B[49m\u001B[43m,\u001B[49m\n\u001B[1;32m    265\u001B[0m \u001B[43m    \u001B[49m\u001B[43mmixer_type\u001B[49m\u001B[38;5;241;43m=\u001B[39;49m\u001B[43msignal_obj\u001B[49m\u001B[38;5;241;43m.\u001B[39;49m\u001B[43mmixer_type\u001B[49m\u001B[43m,\u001B[49m\n\u001B[1;32m    266\u001B[0m \u001B[43m    \u001B[49m\u001B[43mpulse_parameters\u001B[49m\u001B[38;5;241;43m=\u001B[39;49m\u001B[43mpulse_parameters\u001B[49m\u001B[43m,\u001B[49m\n\u001B[1;32m    267\u001B[0m \u001B[43m\u001B[49m\u001B[43m)\u001B[49m\n\u001B[1;32m    269\u001B[0m verify_amplitude_no_clipping(\n\u001B[1;32m    270\u001B[0m     integration_weight,\n\u001B[1;32m    271\u001B[0m     pulse_def\u001B[38;5;241m.\u001B[39muid,\n\u001B[1;32m    272\u001B[0m     signal_obj\u001B[38;5;241m.\u001B[39mmixer_type,\n\u001B[1;32m    273\u001B[0m     signal_obj\u001B[38;5;241m.\u001B[39mid,\n\u001B[1;32m    274\u001B[0m )\n\u001B[1;32m    276\u001B[0m \u001B[38;5;66;03m# 128-bit hash as waveform name\u001B[39;00m\n",
      "File \u001B[0;32m~/Projects/Envs/SydneyQuantum/lib/python3.12/site-packages/laboneq/core/utilities/pulse_sampler.py:130\u001B[0m, in \u001B[0;36msample_pulse\u001B[0;34m(signal_type, sampling_rate, length, amplitude, pulse_function, modulation_frequency, phase, samples, mixer_type, pulse_parameters, markers)\u001B[0m\n\u001B[1;32m    125\u001B[0m     pulse_parameters \u001B[38;5;241m=\u001B[39m {\n\u001B[1;32m    126\u001B[0m         k: v \u001B[38;5;28;01mfor\u001B[39;00m (k, v) \u001B[38;5;129;01min\u001B[39;00m pulse_parameters\u001B[38;5;241m.\u001B[39mitems() \u001B[38;5;28;01mif\u001B[39;00m k \u001B[38;5;241m!=\u001B[39m \u001B[38;5;124m\"\u001B[39m\u001B[38;5;124mamplitude\u001B[39m\u001B[38;5;124m\"\u001B[39m\n\u001B[1;32m    127\u001B[0m     }\n\u001B[1;32m    129\u001B[0m \u001B[38;5;28;01mif\u001B[39;00m pulse_function \u001B[38;5;129;01mis\u001B[39;00m \u001B[38;5;129;01mnot\u001B[39;00m \u001B[38;5;28;01mNone\u001B[39;00m:\n\u001B[0;32m--> 130\u001B[0m     samples \u001B[38;5;241m=\u001B[39m \u001B[43mpulse_function_library\u001B[49m\u001B[43m[\u001B[49m\u001B[43mpulse_function\u001B[49m\u001B[43m]\u001B[49m\u001B[43m(\u001B[49m\n\u001B[1;32m    131\u001B[0m \u001B[43m        \u001B[49m\u001B[43mnp\u001B[49m\u001B[38;5;241;43m.\u001B[39;49m\u001B[43mlinspace\u001B[49m\u001B[43m(\u001B[49m\u001B[38;5;241;43m-\u001B[39;49m\u001B[38;5;241;43m1\u001B[39;49m\u001B[43m,\u001B[49m\u001B[43m \u001B[49m\u001B[38;5;241;43m1\u001B[39;49m\u001B[43m,\u001B[49m\u001B[43m \u001B[49m\u001B[43mnum_samples\u001B[49m\u001B[43m,\u001B[49m\u001B[43m \u001B[49m\u001B[43mendpoint\u001B[49m\u001B[38;5;241;43m=\u001B[39;49m\u001B[38;5;28;43;01mFalse\u001B[39;49;00m\u001B[43m)\u001B[49m\u001B[43m,\u001B[49m\n\u001B[1;32m    132\u001B[0m \u001B[43m        \u001B[49m\u001B[43mlength\u001B[49m\u001B[38;5;241;43m=\u001B[39;49m\u001B[43mlength\u001B[49m\u001B[43m,\u001B[49m\n\u001B[1;32m    133\u001B[0m \u001B[43m        \u001B[49m\u001B[43mamplitude\u001B[49m\u001B[38;5;241;43m=\u001B[39;49m\u001B[43mamplitude\u001B[49m\u001B[43m,\u001B[49m\n\u001B[1;32m    134\u001B[0m \u001B[43m        \u001B[49m\u001B[43msampling_rate\u001B[49m\u001B[38;5;241;43m=\u001B[39;49m\u001B[43msampling_rate\u001B[49m\u001B[43m,\u001B[49m\n\u001B[1;32m    135\u001B[0m \u001B[43m        \u001B[49m\u001B[38;5;241;43m*\u001B[39;49m\u001B[38;5;241;43m*\u001B[39;49m\u001B[43mpulse_parameters\u001B[49m\u001B[43m,\u001B[49m\n\u001B[1;32m    136\u001B[0m \u001B[43m    \u001B[49m\u001B[43m)\u001B[49m\n\u001B[1;32m    137\u001B[0m \u001B[38;5;28;01massert\u001B[39;00m \u001B[38;5;28misinstance\u001B[39m(samples, (\u001B[38;5;28mlist\u001B[39m, np\u001B[38;5;241m.\u001B[39mndarray))\n\u001B[1;32m    138\u001B[0m samples \u001B[38;5;241m=\u001B[39m np\u001B[38;5;241m.\u001B[39marray(samples[:num_samples])\n",
      "File \u001B[0;32m~/Projects/Envs/SydneyQuantum/lib/python3.12/site-packages/laboneq/dsl/experiment/pulse_library.py:171\u001B[0m, in \u001B[0;36mgaussian_square\u001B[0;34m(x, sigma, width, zero_boundaries, **_)\u001B[0m\n\u001B[1;32m    168\u001B[0m length \u001B[38;5;241m=\u001B[39m _[\u001B[38;5;124m\"\u001B[39m\u001B[38;5;124mlength\u001B[39m\u001B[38;5;124m\"\u001B[39m]\n\u001B[1;32m    170\u001B[0m \u001B[38;5;28;01mif\u001B[39;00m width \u001B[38;5;129;01mis\u001B[39;00m \u001B[38;5;129;01mnot\u001B[39;00m \u001B[38;5;28;01mNone\u001B[39;00m \u001B[38;5;129;01mand\u001B[39;00m width \u001B[38;5;241m>\u001B[39m\u001B[38;5;241m=\u001B[39m length:\n\u001B[0;32m--> 171\u001B[0m     \u001B[38;5;28;01mraise\u001B[39;00m \u001B[38;5;167;01mValueError\u001B[39;00m(\n\u001B[1;32m    172\u001B[0m         \u001B[38;5;124m\"\u001B[39m\u001B[38;5;124mThe width of the flat portion of the pulse must be smaller than the total length.\u001B[39m\u001B[38;5;124m\"\u001B[39m\n\u001B[1;32m    173\u001B[0m     )\n\u001B[1;32m    175\u001B[0m \u001B[38;5;28;01mif\u001B[39;00m width \u001B[38;5;129;01mis\u001B[39;00m \u001B[38;5;28;01mNone\u001B[39;00m:\n\u001B[1;32m    176\u001B[0m     width \u001B[38;5;241m=\u001B[39m \u001B[38;5;241m0.9\u001B[39m \u001B[38;5;241m*\u001B[39m length\n",
      "\u001B[0;31mValueError\u001B[0m: The width of the flat portion of the pulse must be smaller than the total length."
     ]
    }
   ],
   "source": [
    "dr_p_range = [5, 5]\n",
    "rabi_exp = [LinearSweepParameter(uid=f\"amplitude_sweep_{k}\", start=0, stop=1, count=4) for k in qubits]\n",
    "\n",
    "exp_params_rabi_amp = exp_params_qubits\n",
    "exp_params_rabi_amp.update({\n",
    "    \"exp_name\": \"rabi_amp\",\n",
    "    \"dr_p_range\": dr_p_range,\n",
    "    \"amp_sweep\": rabi_exp,\n",
    "    \"num_averages\": 0,\n",
    "})\n",
    "\n",
    "exp_rabi_results = rabi(session, exp_params_rabi_amp, qudits_params)\n",
    "\n",
    "data = exp_rabi_results.acquired_results[exp_params_rabi_amp[\"exp_name\"] + \"_q0\"].data"
   ]
  },
  {
   "cell_type": "markdown",
   "id": "30ae4b74",
   "metadata": {},
   "source": [
    "#### Upload pi pulse data and T1 "
   ]
  },
  {
   "cell_type": "code",
   "execution_count": 18,
   "id": "210f6734",
   "metadata": {
    "ExecuteTime": {
     "end_time": "2024-02-22T05:03:41.626007Z",
     "start_time": "2024-02-22T05:03:41.572070Z"
    }
   },
   "outputs": [
    {
     "ename": "IndexError",
     "evalue": "list index out of range",
     "output_type": "error",
     "traceback": [
      "\u001B[0;31m---------------------------------------------------------------------------\u001B[0m",
      "\u001B[0;31mIndexError\u001B[0m                                Traceback (most recent call last)",
      "Cell \u001B[0;32mIn[18], line 10\u001B[0m\n\u001B[1;32m      3\u001B[0m dr_pi2_pulse \u001B[38;5;241m=\u001B[39m {k: pulse_library\u001B[38;5;241m.\u001B[39mdrag(uid \u001B[38;5;241m=\u001B[39m \u001B[38;5;124mf\u001B[39m\u001B[38;5;124m\"\u001B[39m\u001B[38;5;124mdr_pi/2_pulse_\u001B[39m\u001B[38;5;132;01m{\u001B[39;00mk\u001B[38;5;132;01m}\u001B[39;00m\u001B[38;5;124m\"\u001B[39m, length \u001B[38;5;241m=\u001B[39m dr_pulse_t, sigma \u001B[38;5;241m=\u001B[39m \u001B[38;5;241m0.4\u001B[39m, beta \u001B[38;5;241m=\u001B[39m \u001B[38;5;241m0.2\u001B[39m, amplitude \u001B[38;5;241m=\u001B[39m dr_pulse_amp[\u001B[38;5;28mint\u001B[39m(k[\u001B[38;5;241m1\u001B[39m])]\u001B[38;5;241m/\u001B[39m\u001B[38;5;241m2\u001B[39m) \u001B[38;5;28;01mfor\u001B[39;00m k \u001B[38;5;129;01min\u001B[39;00m qubits}\n\u001B[1;32m      5\u001B[0m qudits_params\u001B[38;5;241m.\u001B[39mupdate({\n\u001B[1;32m      6\u001B[0m     \u001B[38;5;124m\"\u001B[39m\u001B[38;5;124mdr_p_range\u001B[39m\u001B[38;5;124m\"\u001B[39m: [\u001B[38;5;241m0\u001B[39m, \u001B[38;5;241m0\u001B[39m],\n\u001B[1;32m      7\u001B[0m     \u001B[38;5;124m\"\u001B[39m\u001B[38;5;124mdr_pi_pulse\u001B[39m\u001B[38;5;124m\"\u001B[39m: dr_pi_pulse,\n\u001B[1;32m      8\u001B[0m     \u001B[38;5;124m\"\u001B[39m\u001B[38;5;124mdr_pi/2_pulse\u001B[39m\u001B[38;5;124m\"\u001B[39m: dr_pi2_pulse,\n\u001B[1;32m      9\u001B[0m })\n\u001B[0;32m---> 10\u001B[0m device_setup\u001B[38;5;241m.\u001B[39mset_calibration(\u001B[43mdefine_calibration\u001B[49m\u001B[43m(\u001B[49m\u001B[43mqudits_params\u001B[49m\u001B[43m)\u001B[49m)\n",
      "Cell \u001B[0;32mIn[7], line 117\u001B[0m, in \u001B[0;36mdefine_calibration\u001B[0;34m(qudits_params)\u001B[0m\n\u001B[1;32m    102\u001B[0m     \u001B[38;5;66;03m# measure line\u001B[39;00m\n\u001B[1;32m    103\u001B[0m     calibration[lsg(qn, \u001B[38;5;124m\"\u001B[39m\u001B[38;5;124mmeasure_line\u001B[39m\u001B[38;5;124m\"\u001B[39m)] \u001B[38;5;241m=\u001B[39m SignalCalibration(\n\u001B[1;32m    104\u001B[0m         local_oscillator \u001B[38;5;241m=\u001B[39m Oscillator(frequency \u001B[38;5;241m=\u001B[39m qudits_params[\u001B[38;5;124m\"\u001B[39m\u001B[38;5;124mro_cent_f\u001B[39m\u001B[38;5;124m\"\u001B[39m]),\n\u001B[1;32m    105\u001B[0m         oscillator \u001B[38;5;241m=\u001B[39m       Oscillator(frequency \u001B[38;5;241m=\u001B[39m qudits_params[\u001B[38;5;124m\"\u001B[39m\u001B[38;5;124mro_df\u001B[39m\u001B[38;5;124m\"\u001B[39m][\u001B[38;5;28mint\u001B[39m(qn[\u001B[38;5;241m1\u001B[39m])],\n\u001B[0;32m   (...)\u001B[0m\n\u001B[1;32m    109\u001B[0m         port_mode \u001B[38;5;241m=\u001B[39m ro_port_mode\n\u001B[1;32m    110\u001B[0m     )\n\u001B[1;32m    111\u001B[0m     calibration[lsg(qn, \u001B[38;5;124m\"\u001B[39m\u001B[38;5;124mdrive_line\u001B[39m\u001B[38;5;124m\"\u001B[39m)] \u001B[38;5;241m=\u001B[39m SignalCalibration(\n\u001B[1;32m    112\u001B[0m         \u001B[38;5;66;03m# verify which qubits share the same LOs!\u001B[39;00m\n\u001B[1;32m    113\u001B[0m         local_oscillator \u001B[38;5;241m=\u001B[39m Oscillator(frequency \u001B[38;5;241m=\u001B[39m qudits_params[\u001B[38;5;124m\"\u001B[39m\u001B[38;5;124mdr_cent_f\u001B[39m\u001B[38;5;124m\"\u001B[39m][\u001B[38;5;28mint\u001B[39m(qn[\u001B[38;5;241m1\u001B[39m])]),\n\u001B[1;32m    114\u001B[0m         \u001B[38;5;66;03m# each logical signal can have an oscillator associated with it\u001B[39;00m\n\u001B[1;32m    115\u001B[0m         oscillator \u001B[38;5;241m=\u001B[39m       Oscillator(frequency \u001B[38;5;241m=\u001B[39m qudits_params[\u001B[38;5;124m\"\u001B[39m\u001B[38;5;124mdr_df\u001B[39m\u001B[38;5;124m\"\u001B[39m][\u001B[38;5;28mint\u001B[39m(qn[\u001B[38;5;241m1\u001B[39m])],\n\u001B[1;32m    116\u001B[0m                             modulation_type \u001B[38;5;241m=\u001B[39m ModulationType\u001B[38;5;241m.\u001B[39mHARDWARE),\n\u001B[0;32m--> 117\u001B[0m         \u001B[38;5;28mrange\u001B[39m \u001B[38;5;241m=\u001B[39m \u001B[43mqudits_params\u001B[49m\u001B[43m[\u001B[49m\u001B[38;5;124;43m\"\u001B[39;49m\u001B[38;5;124;43mdr_p_range\u001B[39;49m\u001B[38;5;124;43m\"\u001B[39;49m\u001B[43m]\u001B[49m\u001B[43m[\u001B[49m\u001B[38;5;28;43mint\u001B[39;49m\u001B[43m(\u001B[49m\u001B[43mqn\u001B[49m\u001B[43m[\u001B[49m\u001B[38;5;241;43m1\u001B[39;49m\u001B[43m]\u001B[49m\u001B[43m)\u001B[49m\u001B[43m]\u001B[49m,\n\u001B[1;32m    118\u001B[0m     )\n\u001B[1;32m    119\u001B[0m     calibration[lsg(qn, \u001B[38;5;124m\"\u001B[39m\u001B[38;5;124mdrive_line_ef\u001B[39m\u001B[38;5;124m\"\u001B[39m)] \u001B[38;5;241m=\u001B[39m SignalCalibration(\n\u001B[1;32m    120\u001B[0m     \u001B[38;5;66;03m# verify which qubits share the same LOs!\u001B[39;00m\n\u001B[1;32m    121\u001B[0m     local_oscillator \u001B[38;5;241m=\u001B[39m Oscillator(frequency \u001B[38;5;241m=\u001B[39m qudits_params[\u001B[38;5;124m\"\u001B[39m\u001B[38;5;124mdr_cent_f\u001B[39m\u001B[38;5;124m\"\u001B[39m][\u001B[38;5;28mint\u001B[39m(qn[\u001B[38;5;241m1\u001B[39m])]),\n\u001B[0;32m   (...)\u001B[0m\n\u001B[1;32m    125\u001B[0m     \u001B[38;5;28mrange\u001B[39m \u001B[38;5;241m=\u001B[39m qudits_params[\u001B[38;5;124m\"\u001B[39m\u001B[38;5;124mdr_p_range\u001B[39m\u001B[38;5;124m\"\u001B[39m][\u001B[38;5;28mint\u001B[39m(qn[\u001B[38;5;241m1\u001B[39m])],\n\u001B[1;32m    126\u001B[0m     )\n\u001B[1;32m    127\u001B[0m \u001B[38;5;28;01mreturn\u001B[39;00m calibration\n",
      "\u001B[0;31mIndexError\u001B[0m: list index out of range"
     ]
    }
   ],
   "source": [
    "dr_pulse_amp = [0.32, 0.56]\n",
    "dr_pi_pulse = {k: pulse_library.drag(uid = f\"dr_pi_pulse_{k}\", length = dr_pulse_t, sigma = 0.4, beta = 0.2, amplitude = dr_pulse_amp[int(k[1])]) for k in qubits}\n",
    "dr_pi2_pulse = {k: pulse_library.drag(uid = f\"dr_pi/2_pulse_{k}\", length = dr_pulse_t, sigma = 0.4, beta = 0.2, amplitude = dr_pulse_amp[int(k[1])]/2) for k in qubits}\n",
    "\n",
    "qudits_params.update({\n",
    "    \"dr_p_range\": [0, 0],\n",
    "    \"dr_pi_pulse\": dr_pi_pulse,\n",
    "    \"dr_pi/2_pulse\": dr_pi2_pulse,\n",
    "})\n",
    "device_setup.set_calibration(define_calibration(qudits_params))"
   ]
  },
  {
   "cell_type": "markdown",
   "id": "8ea74188",
   "metadata": {},
   "source": [
    "#### T1 measurement"
   ]
  },
  {
   "cell_type": "code",
   "execution_count": 19,
   "id": "3fe5520c",
   "metadata": {
    "ExecuteTime": {
     "end_time": "2024-02-22T05:03:42.167471Z",
     "start_time": "2024-02-22T05:03:41.863238Z"
    }
   },
   "outputs": [
    {
     "name": "stdout",
     "output_type": "stream",
     "text": [
      "[2024.02.22 16:03:41.860] INFO    Starting LabOne Q Compiler run...\n",
      "[2024.02.22 16:03:41.867] INFO    Schedule completed\n"
     ]
    },
    {
     "ename": "ValueError",
     "evalue": "The width of the flat portion of the pulse must be smaller than the total length.",
     "output_type": "error",
     "traceback": [
      "\u001B[0;31m---------------------------------------------------------------------------\u001B[0m",
      "\u001B[0;31mValueError\u001B[0m                                Traceback (most recent call last)",
      "Cell \u001B[0;32mIn[19], line 10\u001B[0m\n\u001B[1;32m      3\u001B[0m exp_params_t1 \u001B[38;5;241m=\u001B[39m exp_params_qubits\n\u001B[1;32m      4\u001B[0m exp_params_t1\u001B[38;5;241m.\u001B[39mupdate({\n\u001B[1;32m      5\u001B[0m     \u001B[38;5;124m\"\u001B[39m\u001B[38;5;124mexp_name\u001B[39m\u001B[38;5;124m\"\u001B[39m: \u001B[38;5;124m\"\u001B[39m\u001B[38;5;124mt1\u001B[39m\u001B[38;5;124m\"\u001B[39m,\n\u001B[1;32m      6\u001B[0m     \u001B[38;5;124m\"\u001B[39m\u001B[38;5;124mtau_sweep\u001B[39m\u001B[38;5;124m\"\u001B[39m: tau_sweep,\n\u001B[1;32m      7\u001B[0m     \u001B[38;5;124m\"\u001B[39m\u001B[38;5;124mnum_averages\u001B[39m\u001B[38;5;124m\"\u001B[39m: \u001B[38;5;241m0\u001B[39m,\n\u001B[1;32m      8\u001B[0m })\n\u001B[0;32m---> 10\u001B[0m t1_results \u001B[38;5;241m=\u001B[39m \u001B[43mt1\u001B[49m\u001B[43m(\u001B[49m\u001B[43msession\u001B[49m\u001B[43m,\u001B[49m\u001B[43m \u001B[49m\u001B[43mexp_params_t1\u001B[49m\u001B[43m,\u001B[49m\u001B[43m \u001B[49m\u001B[43mqudits_params\u001B[49m\u001B[43m)\u001B[49m\n\u001B[1;32m     12\u001B[0m data \u001B[38;5;241m=\u001B[39m t1_results\u001B[38;5;241m.\u001B[39macquired_results[exp_params_t1[\u001B[38;5;124m\"\u001B[39m\u001B[38;5;124mexp_name\u001B[39m\u001B[38;5;124m\"\u001B[39m] \u001B[38;5;241m+\u001B[39m \u001B[38;5;124m\"\u001B[39m\u001B[38;5;124m_q0\u001B[39m\u001B[38;5;124m\"\u001B[39m]\u001B[38;5;241m.\u001B[39mdata\n",
      "Cell \u001B[0;32mIn[7], line 380\u001B[0m, in \u001B[0;36mt1\u001B[0;34m(session, exp_params, qudits_params)\u001B[0m\n\u001B[1;32m    371\u001B[0m             \u001B[38;5;28;01mwith\u001B[39;00m exp\u001B[38;5;241m.\u001B[39msection(uid\u001B[38;5;241m=\u001B[39m\u001B[38;5;124m\"\u001B[39m\u001B[38;5;124mreadout_qubit_\u001B[39m\u001B[38;5;124m\"\u001B[39m \u001B[38;5;241m+\u001B[39m qubit, play_after\u001B[38;5;241m=\u001B[39m\u001B[38;5;124m\"\u001B[39m\u001B[38;5;124mqubit_excitation_\u001B[39m\u001B[38;5;124m\"\u001B[39m \u001B[38;5;241m+\u001B[39m ef_str \u001B[38;5;241m+\u001B[39m qubit):\n\u001B[1;32m    372\u001B[0m                 \u001B[38;5;66;03m# play readout pulse on measure line\u001B[39;00m\n\u001B[1;32m    373\u001B[0m                 exp\u001B[38;5;241m.\u001B[39mmeasure(measure_signal\u001B[38;5;241m=\u001B[39m\u001B[38;5;124m\"\u001B[39m\u001B[38;5;124mmeasure_\u001B[39m\u001B[38;5;124m\"\u001B[39m\u001B[38;5;241m+\u001B[39mqubit, \n\u001B[1;32m    374\u001B[0m                             measure_pulse\u001B[38;5;241m=\u001B[39mqudits_params[\u001B[38;5;124m\"\u001B[39m\u001B[38;5;124mro_pulse_data\u001B[39m\u001B[38;5;124m\"\u001B[39m][qubit],\n\u001B[1;32m    375\u001B[0m                             handle\u001B[38;5;241m=\u001B[39mexp_params[\u001B[38;5;124m\"\u001B[39m\u001B[38;5;124mexp_name\u001B[39m\u001B[38;5;124m\"\u001B[39m] \u001B[38;5;241m+\u001B[39m \u001B[38;5;124mf\u001B[39m\u001B[38;5;124m\"\u001B[39m\u001B[38;5;124m_\u001B[39m\u001B[38;5;132;01m{\u001B[39;00mqubit\u001B[38;5;132;01m}\u001B[39;00m\u001B[38;5;124m\"\u001B[39m, \n\u001B[0;32m   (...)\u001B[0m\n\u001B[1;32m    378\u001B[0m                             reset_delay \u001B[38;5;241m=\u001B[39m exp_params[\u001B[38;5;124m\"\u001B[39m\u001B[38;5;124mwait_after_int\u001B[39m\u001B[38;5;124m\"\u001B[39m]\n\u001B[1;32m    379\u001B[0m                                   )\n\u001B[0;32m--> 380\u001B[0m results \u001B[38;5;241m=\u001B[39m \u001B[43mcompile_run\u001B[49m\u001B[43m(\u001B[49m\u001B[43msession\u001B[49m\u001B[43m,\u001B[49m\u001B[43m \u001B[49m\u001B[43mexp_params\u001B[49m\u001B[43m,\u001B[49m\u001B[43m \u001B[49m\u001B[43mexp\u001B[49m\u001B[43m)\u001B[49m\n\u001B[1;32m    381\u001B[0m \u001B[38;5;28;01mreturn\u001B[39;00m results\n",
      "Cell \u001B[0;32mIn[7], line 80\u001B[0m, in \u001B[0;36mcompile_run\u001B[0;34m(session, exp_params, exp)\u001B[0m\n\u001B[1;32m     77\u001B[0m \u001B[38;5;28;01mif\u001B[39;00m \u001B[38;5;124m\"\u001B[39m\u001B[38;5;124mrb\u001B[39m\u001B[38;5;124m\"\u001B[39m \u001B[38;5;129;01min\u001B[39;00m exp_params[\u001B[38;5;124m\"\u001B[39m\u001B[38;5;124mexp_name\u001B[39m\u001B[38;5;124m\"\u001B[39m]:\n\u001B[1;32m     78\u001B[0m     compiler_settings \u001B[38;5;241m=\u001B[39m {\u001B[38;5;124m\"\u001B[39m\u001B[38;5;124mSHFSG_MIN_PLAYWAVE_HINT\u001B[39m\u001B[38;5;124m\"\u001B[39m: \u001B[38;5;241m256\u001B[39m}\n\u001B[0;32m---> 80\u001B[0m compiled_exp \u001B[38;5;241m=\u001B[39m \u001B[43msession\u001B[49m\u001B[38;5;241;43m.\u001B[39;49m\u001B[43mcompile\u001B[49m\u001B[43m(\u001B[49m\u001B[43mexp\u001B[49m\u001B[43m,\u001B[49m\u001B[43m \u001B[49m\u001B[43mcompiler_settings\u001B[49m\u001B[43m \u001B[49m\u001B[38;5;241;43m=\u001B[39;49m\u001B[43m \u001B[49m\u001B[43mcompiler_settings\u001B[49m\u001B[43m)\u001B[49m\n\u001B[1;32m     81\u001B[0m results \u001B[38;5;241m=\u001B[39m session\u001B[38;5;241m.\u001B[39mrun(compiled_exp)    \n\u001B[1;32m     82\u001B[0m Path(\u001B[38;5;124m\"\u001B[39m\u001B[38;5;124mPulse_Sheets\u001B[39m\u001B[38;5;124m\"\u001B[39m)\u001B[38;5;241m.\u001B[39mmkdir(parents\u001B[38;5;241m=\u001B[39m\u001B[38;5;28;01mTrue\u001B[39;00m, exist_ok\u001B[38;5;241m=\u001B[39m\u001B[38;5;28;01mTrue\u001B[39;00m)\n",
      "File \u001B[0;32m~/Projects/Envs/SydneyQuantum/lib/python3.12/site-packages/laboneq/_observability/tracing/_tracer.py:75\u001B[0m, in \u001B[0;36mtrace.<locals>.outer_wrapper.<locals>.wrapper\u001B[0;34m(*args, **kwargs)\u001B[0m\n\u001B[1;32m     73\u001B[0m             tracing\u001B[38;5;241m.\u001B[39menable_tracing()\n\u001B[1;32m     74\u001B[0m         \u001B[38;5;28;01mreturn\u001B[39;00m res\n\u001B[0;32m---> 75\u001B[0m \u001B[38;5;28;01mreturn\u001B[39;00m \u001B[43mfunc\u001B[49m\u001B[43m(\u001B[49m\u001B[38;5;241;43m*\u001B[39;49m\u001B[43margs\u001B[49m\u001B[43m,\u001B[49m\u001B[43m \u001B[49m\u001B[38;5;241;43m*\u001B[39;49m\u001B[38;5;241;43m*\u001B[39;49m\u001B[43mkwargs\u001B[49m\u001B[43m)\u001B[49m\n",
      "File \u001B[0;32m~/Projects/Envs/SydneyQuantum/lib/python3.12/site-packages/laboneq/dsl/session.py:337\u001B[0m, in \u001B[0;36mSession.compile\u001B[0;34m(self, experiment, compiler_settings)\u001B[0m\n\u001B[1;32m    335\u001B[0m \u001B[38;5;28mself\u001B[39m\u001B[38;5;241m.\u001B[39m_assert_connected(fail\u001B[38;5;241m=\u001B[39m\u001B[38;5;28;01mTrue\u001B[39;00m)\n\u001B[1;32m    336\u001B[0m \u001B[38;5;28mself\u001B[39m\u001B[38;5;241m.\u001B[39m_experiment_definition \u001B[38;5;241m=\u001B[39m experiment\n\u001B[0;32m--> 337\u001B[0m \u001B[38;5;28mself\u001B[39m\u001B[38;5;241m.\u001B[39m_compiled_experiment \u001B[38;5;241m=\u001B[39m \u001B[43mLabOneQFacade\u001B[49m\u001B[38;5;241;43m.\u001B[39;49m\u001B[43mcompile\u001B[49m\u001B[43m(\u001B[49m\n\u001B[1;32m    338\u001B[0m \u001B[43m    \u001B[49m\u001B[38;5;28;43mself\u001B[39;49m\u001B[43m,\u001B[49m\u001B[43m \u001B[49m\u001B[38;5;28;43mself\u001B[39;49m\u001B[38;5;241;43m.\u001B[39;49m\u001B[43mlogger\u001B[49m\u001B[43m,\u001B[49m\u001B[43m \u001B[49m\u001B[43mcompiler_settings\u001B[49m\u001B[38;5;241;43m=\u001B[39;49m\u001B[43mcompiler_settings\u001B[49m\n\u001B[1;32m    339\u001B[0m \u001B[43m\u001B[49m\u001B[43m)\u001B[49m\n\u001B[1;32m    340\u001B[0m \u001B[38;5;28mself\u001B[39m\u001B[38;5;241m.\u001B[39m_last_results \u001B[38;5;241m=\u001B[39m \u001B[38;5;28;01mNone\u001B[39;00m\n\u001B[1;32m    341\u001B[0m \u001B[38;5;28;01mreturn\u001B[39;00m \u001B[38;5;28mself\u001B[39m\u001B[38;5;241m.\u001B[39m_compiled_experiment\n",
      "File \u001B[0;32m~/Projects/Envs/SydneyQuantum/lib/python3.12/site-packages/laboneq/dsl/laboneq_facade.py:71\u001B[0m, in \u001B[0;36mLabOneQFacade.compile\u001B[0;34m(session, logger, compiler_settings)\u001B[0m\n\u001B[1;32m     68\u001B[0m signal_mapping \u001B[38;5;241m=\u001B[39m convert_signal_map(session\u001B[38;5;241m.\u001B[39mexperiment)\n\u001B[1;32m     70\u001B[0m payload_builder \u001B[38;5;241m=\u001B[39m ApplicationManager\u001B[38;5;241m.\u001B[39minstance()\u001B[38;5;241m.\u001B[39mpayload_builder()\n\u001B[0;32m---> 71\u001B[0m payload \u001B[38;5;241m=\u001B[39m \u001B[43mpayload_builder\u001B[49m\u001B[38;5;241;43m.\u001B[39;49m\u001B[43mbuild_payload\u001B[49m\u001B[43m(\u001B[49m\n\u001B[1;32m     72\u001B[0m \u001B[43m    \u001B[49m\u001B[43mnew_setup\u001B[49m\u001B[43m,\u001B[49m\n\u001B[1;32m     73\u001B[0m \u001B[43m    \u001B[49m\u001B[43mnew_experiment\u001B[49m\u001B[43m,\u001B[49m\n\u001B[1;32m     74\u001B[0m \u001B[43m    \u001B[49m\u001B[43msignal_mapping\u001B[49m\u001B[43m,\u001B[49m\n\u001B[1;32m     75\u001B[0m \u001B[43m    \u001B[49m\u001B[43mcompiler_settings\u001B[49m\u001B[43m,\u001B[49m\n\u001B[1;32m     76\u001B[0m \u001B[43m\u001B[49m\u001B[43m)\u001B[49m\n\u001B[1;32m     78\u001B[0m compiled_experiment \u001B[38;5;241m=\u001B[39m CompiledExperiment(\n\u001B[1;32m     79\u001B[0m     device_setup\u001B[38;5;241m=\u001B[39msession\u001B[38;5;241m.\u001B[39mdevice_setup,\n\u001B[1;32m     80\u001B[0m     experiment\u001B[38;5;241m=\u001B[39msession\u001B[38;5;241m.\u001B[39mexperiment,\n\u001B[1;32m     81\u001B[0m     experiment_dict\u001B[38;5;241m=\u001B[39m\u001B[38;5;28;01mNone\u001B[39;00m,  \u001B[38;5;66;03m# deprecated\u001B[39;00m\n\u001B[1;32m     82\u001B[0m     scheduled_experiment\u001B[38;5;241m=\u001B[39mpayload\u001B[38;5;241m.\u001B[39mscheduled_experiment,\n\u001B[1;32m     83\u001B[0m )\n\u001B[1;32m     84\u001B[0m \u001B[38;5;28;01mreturn\u001B[39;00m compiled_experiment\n",
      "File \u001B[0;32m~/Projects/Envs/SydneyQuantum/lib/python3.12/site-packages/laboneq/implementation/payload_builder/payload_builder.py:50\u001B[0m, in \u001B[0;36mPayloadBuilder.build_payload\u001B[0;34m(self, device_setup, experiment, signal_mappings, compiler_settings)\u001B[0m\n\u001B[1;32m     44\u001B[0m     experiment\u001B[38;5;241m.\u001B[39msignals \u001B[38;5;241m=\u001B[39m []\n\u001B[1;32m     46\u001B[0m job \u001B[38;5;241m=\u001B[39m \u001B[38;5;28mself\u001B[39m\u001B[38;5;241m.\u001B[39mcreate_compilation_job(\n\u001B[1;32m     47\u001B[0m     device_setup, experiment, signal_mappings, compiler_settings\n\u001B[1;32m     48\u001B[0m )\n\u001B[0;32m---> 50\u001B[0m job_id \u001B[38;5;241m=\u001B[39m \u001B[38;5;28;43mself\u001B[39;49m\u001B[38;5;241;43m.\u001B[39;49m\u001B[43m_compilation_service\u001B[49m\u001B[38;5;241;43m.\u001B[39;49m\u001B[43msubmit_compilation_job\u001B[49m\u001B[43m(\u001B[49m\u001B[43mjob\u001B[49m\u001B[43m)\u001B[49m\n\u001B[1;32m     52\u001B[0m scheduled_experiment \u001B[38;5;241m=\u001B[39m \u001B[38;5;28mself\u001B[39m\u001B[38;5;241m.\u001B[39m_compilation_service\u001B[38;5;241m.\u001B[39mcompilation_job_result(job_id)\n\u001B[1;32m     54\u001B[0m target_setup \u001B[38;5;241m=\u001B[39m TargetSetupGenerator\u001B[38;5;241m.\u001B[39mfrom_setup(device_setup)\n",
      "File \u001B[0;32m~/Projects/Envs/SydneyQuantum/lib/python3.12/site-packages/laboneq/implementation/compilation_service/compilation_service_legacy.py:29\u001B[0m, in \u001B[0;36mCompilationServiceLegacy.submit_compilation_job\u001B[0;34m(self, job)\u001B[0m\n\u001B[1;32m     27\u001B[0m queue_entry \u001B[38;5;241m=\u001B[39m {\u001B[38;5;124m\"\u001B[39m\u001B[38;5;124mjob_id\u001B[39m\u001B[38;5;124m\"\u001B[39m: job_id, \u001B[38;5;124m\"\u001B[39m\u001B[38;5;124mjob\u001B[39m\u001B[38;5;124m\"\u001B[39m: job}\n\u001B[1;32m     28\u001B[0m compiler \u001B[38;5;241m=\u001B[39m Compiler(job\u001B[38;5;241m.\u001B[39mcompiler_settings)\n\u001B[0;32m---> 29\u001B[0m compiler_output \u001B[38;5;241m=\u001B[39m \u001B[43mcompiler\u001B[49m\u001B[38;5;241;43m.\u001B[39;49m\u001B[43mrun\u001B[49m\u001B[43m(\u001B[49m\u001B[43mjob\u001B[49m\u001B[43m)\u001B[49m\n\u001B[1;32m     31\u001B[0m \u001B[38;5;28mself\u001B[39m\u001B[38;5;241m.\u001B[39m_job_results[job_id] \u001B[38;5;241m=\u001B[39m convert_compiler_output_to_scheduled_experiment(\n\u001B[1;32m     32\u001B[0m     compiler_output\n\u001B[1;32m     33\u001B[0m )\n\u001B[1;32m     35\u001B[0m \u001B[38;5;28mself\u001B[39m\u001B[38;5;241m.\u001B[39m_job_queue\u001B[38;5;241m.\u001B[39mappend(queue_entry)\n",
      "File \u001B[0;32m~/Projects/Envs/SydneyQuantum/lib/python3.12/site-packages/laboneq/_observability/tracing/_tracer.py:75\u001B[0m, in \u001B[0;36mtrace.<locals>.outer_wrapper.<locals>.wrapper\u001B[0;34m(*args, **kwargs)\u001B[0m\n\u001B[1;32m     73\u001B[0m             tracing\u001B[38;5;241m.\u001B[39menable_tracing()\n\u001B[1;32m     74\u001B[0m         \u001B[38;5;28;01mreturn\u001B[39;00m res\n\u001B[0;32m---> 75\u001B[0m \u001B[38;5;28;01mreturn\u001B[39;00m \u001B[43mfunc\u001B[49m\u001B[43m(\u001B[49m\u001B[38;5;241;43m*\u001B[39;49m\u001B[43margs\u001B[49m\u001B[43m,\u001B[49m\u001B[43m \u001B[49m\u001B[38;5;241;43m*\u001B[39;49m\u001B[38;5;241;43m*\u001B[39;49m\u001B[43mkwargs\u001B[49m\u001B[43m)\u001B[49m\n",
      "File \u001B[0;32m~/Projects/Envs/SydneyQuantum/lib/python3.12/site-packages/laboneq/compiler/workflow/compiler.py:1164\u001B[0m, in \u001B[0;36mCompiler.run\u001B[0;34m(self, data)\u001B[0m\n\u001B[1;32m   1162\u001B[0m \u001B[38;5;28mself\u001B[39m\u001B[38;5;241m.\u001B[39muse_experiment(data)\n\u001B[1;32m   1163\u001B[0m \u001B[38;5;28mself\u001B[39m\u001B[38;5;241m.\u001B[39m_analyze_setup()\n\u001B[0;32m-> 1164\u001B[0m \u001B[38;5;28;43mself\u001B[39;49m\u001B[38;5;241;43m.\u001B[39;49m\u001B[43m_process_experiment\u001B[49m\u001B[43m(\u001B[49m\u001B[43m)\u001B[49m\n\u001B[1;32m   1166\u001B[0m \u001B[38;5;28mself\u001B[39m\u001B[38;5;241m.\u001B[39m_generate_recipe()\n\u001B[1;32m   1168\u001B[0m retval \u001B[38;5;241m=\u001B[39m \u001B[38;5;28mself\u001B[39m\u001B[38;5;241m.\u001B[39mcompiler_output()\n",
      "File \u001B[0;32m~/Projects/Envs/SydneyQuantum/lib/python3.12/site-packages/laboneq/compiler/workflow/compiler.py:269\u001B[0m, in \u001B[0;36mCompiler._process_experiment\u001B[0;34m(self)\u001B[0m\n\u001B[1;32m    262\u001B[0m rt_compiler \u001B[38;5;241m=\u001B[39m RealtimeCompiler(\n\u001B[1;32m    263\u001B[0m     \u001B[38;5;28mself\u001B[39m\u001B[38;5;241m.\u001B[39m_experiment_dao,\n\u001B[1;32m    264\u001B[0m     \u001B[38;5;28mself\u001B[39m\u001B[38;5;241m.\u001B[39m_sampling_rate_tracker,\n\u001B[1;32m    265\u001B[0m     \u001B[38;5;28mself\u001B[39m\u001B[38;5;241m.\u001B[39m_signal_objects,\n\u001B[1;32m    266\u001B[0m     \u001B[38;5;28mself\u001B[39m\u001B[38;5;241m.\u001B[39m_settings,\n\u001B[1;32m    267\u001B[0m )\n\u001B[1;32m    268\u001B[0m executor \u001B[38;5;241m=\u001B[39m NtCompilerExecutor(rt_compiler, \u001B[38;5;28mself\u001B[39m\u001B[38;5;241m.\u001B[39m_settings)\n\u001B[0;32m--> 269\u001B[0m \u001B[43mexecutor\u001B[49m\u001B[38;5;241;43m.\u001B[39;49m\u001B[43mrun\u001B[49m\u001B[43m(\u001B[49m\u001B[38;5;28;43mself\u001B[39;49m\u001B[38;5;241;43m.\u001B[39;49m\u001B[43m_execution\u001B[49m\u001B[43m)\u001B[49m\n\u001B[1;32m    270\u001B[0m \u001B[38;5;28mself\u001B[39m\u001B[38;5;241m.\u001B[39m_combined_compiler_output \u001B[38;5;241m=\u001B[39m executor\u001B[38;5;241m.\u001B[39mcombined_compiler_output()\n\u001B[1;32m    271\u001B[0m \u001B[38;5;28;01mif\u001B[39;00m \u001B[38;5;28mself\u001B[39m\u001B[38;5;241m.\u001B[39m_combined_compiler_output \u001B[38;5;129;01mis\u001B[39;00m \u001B[38;5;28;01mNone\u001B[39;00m:\n\u001B[1;32m    272\u001B[0m     \u001B[38;5;66;03m# Some of our tests do not have an RT averaging loop, so the RT compiler will\u001B[39;00m\n\u001B[1;32m    273\u001B[0m     \u001B[38;5;66;03m# not have been run. For backwards compatibility, we still run it once.\u001B[39;00m\n",
      "File \u001B[0;32m~/Projects/Envs/SydneyQuantum/lib/python3.12/site-packages/laboneq/executor/executor.py:479\u001B[0m, in \u001B[0;36mExecutorBase.run\u001B[0;34m(self, root_sequence)\u001B[0m\n\u001B[1;32m    477\u001B[0m scope \u001B[38;5;241m=\u001B[39m ExecutionScope(\u001B[38;5;28;01mNone\u001B[39;00m, \u001B[38;5;28mself\u001B[39m)\n\u001B[1;32m    478\u001B[0m \u001B[38;5;28;01mfor\u001B[39;00m notification \u001B[38;5;129;01min\u001B[39;00m root_sequence\u001B[38;5;241m.\u001B[39mrun(scope):\n\u001B[0;32m--> 479\u001B[0m     \u001B[38;5;28;43mself\u001B[39;49m\u001B[38;5;241;43m.\u001B[39;49m\u001B[43m_handlers_map\u001B[49m\u001B[43m[\u001B[49m\u001B[43mnotification\u001B[49m\u001B[38;5;241;43m.\u001B[39;49m\u001B[43mstatement_type\u001B[49m\u001B[43m]\u001B[49m\u001B[43m(\u001B[49m\u001B[38;5;241;43m*\u001B[39;49m\u001B[38;5;241;43m*\u001B[39;49m\u001B[43mnotification\u001B[49m\u001B[38;5;241;43m.\u001B[39;49m\u001B[43margs\u001B[49m\u001B[43m)\u001B[49m\n",
      "File \u001B[0;32m~/Projects/Envs/SydneyQuantum/lib/python3.12/site-packages/laboneq/compiler/workflow/neartime_execution.py:155\u001B[0m, in \u001B[0;36mNtCompilerExecutor.rt_entry_handler\u001B[0;34m(self, count, uid, averaging_mode, acquisition_type)\u001B[0m\n\u001B[1;32m    153\u001B[0m parameter_store \u001B[38;5;241m=\u001B[39m ParameterStore(\u001B[38;5;28mself\u001B[39m\u001B[38;5;241m.\u001B[39m_iteration_stack\u001B[38;5;241m.\u001B[39mnt_parameter_values())\n\u001B[1;32m    154\u001B[0m tracker \u001B[38;5;241m=\u001B[39m parameter_store\u001B[38;5;241m.\u001B[39mcreate_tracker()\n\u001B[0;32m--> 155\u001B[0m new_compiler_output \u001B[38;5;241m=\u001B[39m \u001B[38;5;28;43mself\u001B[39;49m\u001B[38;5;241;43m.\u001B[39;49m\u001B[43m_rt_compiler\u001B[49m\u001B[38;5;241;43m.\u001B[39;49m\u001B[43mrun\u001B[49m\u001B[43m(\u001B[49m\u001B[43mparameter_store\u001B[49m\u001B[43m)\u001B[49m\n\u001B[1;32m    157\u001B[0m \u001B[38;5;28;01mif\u001B[39;00m \u001B[38;5;28mself\u001B[39m\u001B[38;5;241m.\u001B[39m_required_parameters \u001B[38;5;129;01mis\u001B[39;00m \u001B[38;5;28;01mNone\u001B[39;00m:\n\u001B[1;32m    158\u001B[0m     \u001B[38;5;28mself\u001B[39m\u001B[38;5;241m.\u001B[39m_required_parameters \u001B[38;5;241m=\u001B[39m tracker\u001B[38;5;241m.\u001B[39mqueries()\n",
      "File \u001B[0;32m~/Projects/Envs/SydneyQuantum/lib/python3.12/site-packages/laboneq/compiler/workflow/realtime_compiler.py:110\u001B[0m, in \u001B[0;36mRealtimeCompiler.run\u001B[0;34m(self, near_time_parameters)\u001B[0m\n\u001B[1;32m    107\u001B[0m \u001B[38;5;28mself\u001B[39m\u001B[38;5;241m.\u001B[39m_scheduler\u001B[38;5;241m.\u001B[39mrun(near_time_parameters)\n\u001B[1;32m    108\u001B[0m schedule \u001B[38;5;241m=\u001B[39m \u001B[38;5;28mself\u001B[39m\u001B[38;5;241m.\u001B[39mprepare_schedule() \u001B[38;5;28;01mif\u001B[39;00m \u001B[38;5;28mself\u001B[39m\u001B[38;5;241m.\u001B[39m_settings\u001B[38;5;241m.\u001B[39mOUTPUT_EXTRAS \u001B[38;5;28;01melse\u001B[39;00m \u001B[38;5;28;01mNone\u001B[39;00m\n\u001B[0;32m--> 110\u001B[0m \u001B[38;5;28;43mself\u001B[39;49m\u001B[38;5;241;43m.\u001B[39;49m\u001B[43m_generate_code\u001B[49m\u001B[43m(\u001B[49m\u001B[43m)\u001B[49m\n\u001B[1;32m    112\u001B[0m outputs \u001B[38;5;241m=\u001B[39m {\n\u001B[1;32m    113\u001B[0m     device_class: code_generator\u001B[38;5;241m.\u001B[39mget_output()\n\u001B[1;32m    114\u001B[0m     \u001B[38;5;28;01mfor\u001B[39;00m device_class, code_generator \u001B[38;5;129;01min\u001B[39;00m \u001B[38;5;28mself\u001B[39m\u001B[38;5;241m.\u001B[39m_code_generators\u001B[38;5;241m.\u001B[39mitems()\n\u001B[1;32m    115\u001B[0m }\n\u001B[1;32m    117\u001B[0m compiler_output \u001B[38;5;241m=\u001B[39m RTCompilerOutputContainer(\n\u001B[1;32m    118\u001B[0m     codegen_output\u001B[38;5;241m=\u001B[39moutputs, schedule\u001B[38;5;241m=\u001B[39mschedule\n\u001B[1;32m    119\u001B[0m )\n",
      "File \u001B[0;32m~/Projects/Envs/SydneyQuantum/lib/python3.12/site-packages/laboneq/_observability/tracing/_tracer.py:75\u001B[0m, in \u001B[0;36mtrace.<locals>.outer_wrapper.<locals>.wrapper\u001B[0;34m(*args, **kwargs)\u001B[0m\n\u001B[1;32m     73\u001B[0m             tracing\u001B[38;5;241m.\u001B[39menable_tracing()\n\u001B[1;32m     74\u001B[0m         \u001B[38;5;28;01mreturn\u001B[39;00m res\n\u001B[0;32m---> 75\u001B[0m \u001B[38;5;28;01mreturn\u001B[39;00m \u001B[43mfunc\u001B[49m\u001B[43m(\u001B[49m\u001B[38;5;241;43m*\u001B[39;49m\u001B[43margs\u001B[49m\u001B[43m,\u001B[49m\u001B[43m \u001B[49m\u001B[38;5;241;43m*\u001B[39;49m\u001B[38;5;241;43m*\u001B[39;49m\u001B[43mkwargs\u001B[49m\u001B[43m)\u001B[49m\n",
      "File \u001B[0;32m~/Projects/Envs/SydneyQuantum/lib/python3.12/site-packages/laboneq/compiler/workflow/realtime_compiler.py:101\u001B[0m, in \u001B[0;36mRealtimeCompiler._generate_code\u001B[0;34m(self)\u001B[0m\n\u001B[1;32m     98\u001B[0m \u001B[38;5;28;01mif\u001B[39;00m \u001B[38;5;28mself\u001B[39m\u001B[38;5;241m.\u001B[39m_settings\u001B[38;5;241m.\u001B[39mFORCE_IR_ROUNDTRIP:\n\u001B[1;32m     99\u001B[0m     ir\u001B[38;5;241m.\u001B[39mround_trip()\n\u001B[0;32m--> 101\u001B[0m \u001B[38;5;28;43mself\u001B[39;49m\u001B[38;5;241;43m.\u001B[39;49m\u001B[43m_lower_ir_to_code\u001B[49m\u001B[43m(\u001B[49m\u001B[43mir\u001B[49m\u001B[43m)\u001B[49m\n\u001B[1;32m    102\u001B[0m _logger\u001B[38;5;241m.\u001B[39mdebug(\u001B[38;5;124m\"\u001B[39m\u001B[38;5;124mlowering IR to code complete\u001B[39m\u001B[38;5;124m\"\u001B[39m)\n",
      "File \u001B[0;32m~/Projects/Envs/SydneyQuantum/lib/python3.12/site-packages/laboneq/compiler/workflow/realtime_compiler.py:81\u001B[0m, in \u001B[0;36mRealtimeCompiler._lower_ir_to_code\u001B[0;34m(self, ir)\u001B[0m\n\u001B[1;32m     77\u001B[0m \u001B[38;5;28;01mfor\u001B[39;00m device_class \u001B[38;5;129;01min\u001B[39;00m device_classes:\n\u001B[1;32m     78\u001B[0m     \u001B[38;5;28mself\u001B[39m\u001B[38;5;241m.\u001B[39m_code_generators[device_class] \u001B[38;5;241m=\u001B[39m \u001B[38;5;28mself\u001B[39m\u001B[38;5;241m.\u001B[39m_registered_codegens[\n\u001B[1;32m     79\u001B[0m         device_class\n\u001B[1;32m     80\u001B[0m     ](ir, settings\u001B[38;5;241m=\u001B[39m\u001B[38;5;28mself\u001B[39m\u001B[38;5;241m.\u001B[39m_settings)\n\u001B[0;32m---> 81\u001B[0m     \u001B[38;5;28;43mself\u001B[39;49m\u001B[38;5;241;43m.\u001B[39;49m\u001B[43m_code_generators\u001B[49m\u001B[43m[\u001B[49m\u001B[43mdevice_class\u001B[49m\u001B[43m]\u001B[49m\u001B[38;5;241;43m.\u001B[39;49m\u001B[43mgenerate_code\u001B[49m\u001B[43m(\u001B[49m\n\u001B[1;32m     82\u001B[0m \u001B[43m        \u001B[49m\u001B[43m[\u001B[49m\n\u001B[1;32m     83\u001B[0m \u001B[43m            \u001B[49m\u001B[43ms\u001B[49m\n\u001B[1;32m     84\u001B[0m \u001B[43m            \u001B[49m\u001B[38;5;28;43;01mfor\u001B[39;49;00m\u001B[43m \u001B[49m\u001B[43ms\u001B[49m\u001B[43m \u001B[49m\u001B[38;5;129;43;01min\u001B[39;49;00m\u001B[43m \u001B[49m\u001B[38;5;28;43mself\u001B[39;49m\u001B[38;5;241;43m.\u001B[39;49m\u001B[43m_signal_objects\u001B[49m\u001B[38;5;241;43m.\u001B[39;49m\u001B[43mvalues\u001B[49m\u001B[43m(\u001B[49m\u001B[43m)\u001B[49m\n\u001B[1;32m     85\u001B[0m \u001B[43m            \u001B[49m\u001B[38;5;28;43;01mif\u001B[39;49;00m\u001B[43m \u001B[49m\u001B[43ms\u001B[49m\u001B[38;5;241;43m.\u001B[39;49m\u001B[43mawg\u001B[49m\u001B[38;5;241;43m.\u001B[39;49m\u001B[43mdevice_class\u001B[49m\u001B[43m \u001B[49m\u001B[38;5;241;43m==\u001B[39;49m\u001B[43m \u001B[49m\u001B[43mdevice_class\u001B[49m\n\u001B[1;32m     86\u001B[0m \u001B[43m        \u001B[49m\u001B[43m]\u001B[49m\n\u001B[1;32m     87\u001B[0m \u001B[43m    \u001B[49m\u001B[43m)\u001B[49m\n\u001B[1;32m     89\u001B[0m _logger\u001B[38;5;241m.\u001B[39mdebug(\u001B[38;5;124m\"\u001B[39m\u001B[38;5;124mCode generation completed\u001B[39m\u001B[38;5;124m\"\u001B[39m)\n",
      "File \u001B[0;32m~/Projects/Envs/SydneyQuantum/lib/python3.12/site-packages/laboneq/compiler/code_generator/code_generator.py:355\u001B[0m, in \u001B[0;36mCodeGenerator.generate_code\u001B[0;34m(self, signal_objs)\u001B[0m\n\u001B[1;32m    353\u001B[0m     \u001B[38;5;28mself\u001B[39m\u001B[38;5;241m.\u001B[39madd_signal(signal_obj)\n\u001B[1;32m    354\u001B[0m \u001B[38;5;28mself\u001B[39m\u001B[38;5;241m.\u001B[39mgen_acquire_map(event_list)\n\u001B[0;32m--> 355\u001B[0m \u001B[38;5;28;43mself\u001B[39;49m\u001B[38;5;241;43m.\u001B[39;49m\u001B[43mgen_seq_c\u001B[49m\u001B[43m(\u001B[49m\n\u001B[1;32m    356\u001B[0m \u001B[43m    \u001B[49m\u001B[43mevent_list\u001B[49m\u001B[43m,\u001B[49m\n\u001B[1;32m    357\u001B[0m \u001B[43m    \u001B[49m\u001B[43m{\u001B[49m\u001B[43mp\u001B[49m\u001B[38;5;241;43m.\u001B[39;49m\u001B[43muid\u001B[49m\u001B[43m:\u001B[49m\u001B[43m \u001B[49m\u001B[43mp\u001B[49m\u001B[43m \u001B[49m\u001B[38;5;28;43;01mfor\u001B[39;49;00m\u001B[43m \u001B[49m\u001B[43mp\u001B[49m\u001B[43m \u001B[49m\u001B[38;5;129;43;01min\u001B[39;49;00m\u001B[43m \u001B[49m\u001B[38;5;28;43mself\u001B[39;49m\u001B[38;5;241;43m.\u001B[39;49m\u001B[43m_ir\u001B[49m\u001B[38;5;241;43m.\u001B[39;49m\u001B[43mpulse_defs\u001B[49m\u001B[43m}\u001B[49m\u001B[43m,\u001B[49m\n\u001B[1;32m    358\u001B[0m \u001B[43m\u001B[49m\u001B[43m)\u001B[49m\n\u001B[1;32m    359\u001B[0m \u001B[38;5;28mself\u001B[39m\u001B[38;5;241m.\u001B[39mgen_waves()\n",
      "File \u001B[0;32m~/Projects/Envs/SydneyQuantum/lib/python3.12/site-packages/laboneq/compiler/code_generator/code_generator.py:718\u001B[0m, in \u001B[0;36mCodeGenerator.gen_seq_c\u001B[0;34m(self, events, pulse_defs)\u001B[0m\n\u001B[1;32m    710\u001B[0m \u001B[38;5;28mself\u001B[39m\u001B[38;5;241m.\u001B[39m_feedback_register_allocator \u001B[38;5;241m=\u001B[39m FeedbackRegisterAllocator(\n\u001B[1;32m    711\u001B[0m     \u001B[38;5;28mself\u001B[39m\u001B[38;5;241m.\u001B[39m_signals, events\n\u001B[1;32m    712\u001B[0m )\n\u001B[1;32m    714\u001B[0m \u001B[38;5;28;01mfor\u001B[39;00m _, awg \u001B[38;5;129;01min\u001B[39;00m \u001B[38;5;28msorted\u001B[39m(\n\u001B[1;32m    715\u001B[0m     \u001B[38;5;28mself\u001B[39m\u001B[38;5;241m.\u001B[39m_awgs\u001B[38;5;241m.\u001B[39mitems(),\n\u001B[1;32m    716\u001B[0m     key\u001B[38;5;241m=\u001B[39m\u001B[38;5;28;01mlambda\u001B[39;00m item: item[\u001B[38;5;241m0\u001B[39m]\u001B[38;5;241m.\u001B[39mdevice_id \u001B[38;5;241m+\u001B[39m \u001B[38;5;28mstr\u001B[39m(item[\u001B[38;5;241m0\u001B[39m]\u001B[38;5;241m.\u001B[39mawg_number),\n\u001B[1;32m    717\u001B[0m ):\n\u001B[0;32m--> 718\u001B[0m     \u001B[38;5;28;43mself\u001B[39;49m\u001B[38;5;241;43m.\u001B[39;49m\u001B[43m_gen_seq_c_per_awg\u001B[49m\u001B[43m(\u001B[49m\u001B[43mawg\u001B[49m\u001B[43m,\u001B[49m\u001B[43m \u001B[49m\u001B[43mevents\u001B[49m\u001B[43m,\u001B[49m\u001B[43m \u001B[49m\u001B[43mpulse_defs\u001B[49m\u001B[43m)\u001B[49m\n\u001B[1;32m    720\u001B[0m tgt_feedback_regs \u001B[38;5;241m=\u001B[39m \u001B[38;5;28mself\u001B[39m\u001B[38;5;241m.\u001B[39m_feedback_register_allocator\u001B[38;5;241m.\u001B[39mtarget_feedback_registers\n\u001B[1;32m    721\u001B[0m \u001B[38;5;28;01mfor\u001B[39;00m awg, target_fb_register \u001B[38;5;129;01min\u001B[39;00m tgt_feedback_regs\u001B[38;5;241m.\u001B[39mitems():\n",
      "File \u001B[0;32m~/Projects/Envs/SydneyQuantum/lib/python3.12/site-packages/laboneq/compiler/code_generator/code_generator.py:1136\u001B[0m, in \u001B[0;36mCodeGenerator._gen_seq_c_per_awg\u001B[0;34m(self, awg, events, pulse_defs)\u001B[0m\n\u001B[1;32m   1128\u001B[0m         \u001B[38;5;28;01massert\u001B[39;00m \u001B[38;5;28mself\u001B[39m\u001B[38;5;241m.\u001B[39m_integration_weights \u001B[38;5;129;01mis\u001B[39;00m \u001B[38;5;129;01mnot\u001B[39;00m \u001B[38;5;28;01mNone\u001B[39;00m\n\u001B[1;32m   1129\u001B[0m         _logger\u001B[38;5;241m.\u001B[39mdebug(\n\u001B[1;32m   1130\u001B[0m             \u001B[38;5;124m\"\u001B[39m\u001B[38;5;124mCalculating integration weights for signal \u001B[39m\u001B[38;5;132;01m%s\u001B[39;00m\u001B[38;5;124m. There are \u001B[39m\u001B[38;5;132;01m%d\u001B[39;00m\u001B[38;5;124m acquire events.\u001B[39m\u001B[38;5;124m\"\u001B[39m,\n\u001B[1;32m   1131\u001B[0m             signal_obj\u001B[38;5;241m.\u001B[39mid,\n\u001B[1;32m   1132\u001B[0m             \u001B[38;5;28mlen\u001B[39m(acquire_events\u001B[38;5;241m.\u001B[39msequence),\n\u001B[1;32m   1133\u001B[0m         )\n\u001B[1;32m   1134\u001B[0m         \u001B[38;5;28mself\u001B[39m\u001B[38;5;241m.\u001B[39m_integration_weights\u001B[38;5;241m.\u001B[39msetdefault(awg\u001B[38;5;241m.\u001B[39mkey, {})[\n\u001B[1;32m   1135\u001B[0m             signal_obj\u001B[38;5;241m.\u001B[39mid\n\u001B[0;32m-> 1136\u001B[0m         ] \u001B[38;5;241m=\u001B[39m \u001B[43mcalculate_integration_weights\u001B[49m\u001B[43m(\u001B[49m\n\u001B[1;32m   1137\u001B[0m \u001B[43m            \u001B[49m\u001B[43macquire_events\u001B[49m\u001B[43m,\u001B[49m\u001B[43m \u001B[49m\u001B[43msignal_obj\u001B[49m\u001B[43m,\u001B[49m\u001B[43m \u001B[49m\u001B[43mpulse_defs\u001B[49m\n\u001B[1;32m   1138\u001B[0m \u001B[43m        \u001B[49m\u001B[43m)\u001B[49m\n\u001B[1;32m   1140\u001B[0m     sampled_events\u001B[38;5;241m.\u001B[39mmerge(acquire_events)\n\u001B[1;32m   1142\u001B[0m \u001B[38;5;28;01mif\u001B[39;00m awg\u001B[38;5;241m.\u001B[39msignal_type \u001B[38;5;241m==\u001B[39m AWGSignalType\u001B[38;5;241m.\u001B[39mMULTI:\n",
      "File \u001B[0;32m~/Projects/Envs/SydneyQuantum/lib/python3.12/site-packages/laboneq/compiler/code_generator/code_generator.py:257\u001B[0m, in \u001B[0;36mcalculate_integration_weights\u001B[0;34m(acquire_events, signal_obj, pulse_defs)\u001B[0m\n\u001B[1;32m    255\u001B[0m pulse_parameters \u001B[38;5;241m=\u001B[39m combine_pulse_parameters(pulse_par, \u001B[38;5;28;01mNone\u001B[39;00m, play_par)\n\u001B[1;32m    256\u001B[0m pulse_parameters \u001B[38;5;241m=\u001B[39m decode_pulse_parameters(pulse_parameters)\n\u001B[0;32m--> 257\u001B[0m integration_weight \u001B[38;5;241m=\u001B[39m \u001B[43msample_pulse\u001B[49m\u001B[43m(\u001B[49m\n\u001B[1;32m    258\u001B[0m \u001B[43m    \u001B[49m\u001B[43msignal_type\u001B[49m\u001B[38;5;241;43m=\u001B[39;49m\u001B[38;5;124;43m\"\u001B[39;49m\u001B[38;5;124;43miq\u001B[39;49m\u001B[38;5;124;43m\"\u001B[39;49m\u001B[43m,\u001B[49m\n\u001B[1;32m    259\u001B[0m \u001B[43m    \u001B[49m\u001B[43msampling_rate\u001B[49m\u001B[38;5;241;43m=\u001B[39;49m\u001B[43msignal_obj\u001B[49m\u001B[38;5;241;43m.\u001B[39;49m\u001B[43mawg\u001B[49m\u001B[38;5;241;43m.\u001B[39;49m\u001B[43msampling_rate\u001B[49m\u001B[43m,\u001B[49m\n\u001B[1;32m    260\u001B[0m \u001B[43m    \u001B[49m\u001B[43mlength\u001B[49m\u001B[38;5;241;43m=\u001B[39;49m\u001B[43mlength\u001B[49m\u001B[43m,\u001B[49m\n\u001B[1;32m    261\u001B[0m \u001B[43m    \u001B[49m\u001B[43mamplitude\u001B[49m\u001B[38;5;241;43m=\u001B[39;49m\u001B[43mamplitude\u001B[49m\u001B[43m,\u001B[49m\n\u001B[1;32m    262\u001B[0m \u001B[43m    \u001B[49m\u001B[43mpulse_function\u001B[49m\u001B[38;5;241;43m=\u001B[39;49m\u001B[43mpulse_def\u001B[49m\u001B[38;5;241;43m.\u001B[39;49m\u001B[43mfunction\u001B[49m\u001B[43m,\u001B[49m\n\u001B[1;32m    263\u001B[0m \u001B[43m    \u001B[49m\u001B[43mmodulation_frequency\u001B[49m\u001B[38;5;241;43m=\u001B[39;49m\u001B[43moscillator_frequency\u001B[49m\u001B[43m,\u001B[49m\n\u001B[1;32m    264\u001B[0m \u001B[43m    \u001B[49m\u001B[43msamples\u001B[49m\u001B[38;5;241;43m=\u001B[39;49m\u001B[43msamples\u001B[49m\u001B[43m,\u001B[49m\n\u001B[1;32m    265\u001B[0m \u001B[43m    \u001B[49m\u001B[43mmixer_type\u001B[49m\u001B[38;5;241;43m=\u001B[39;49m\u001B[43msignal_obj\u001B[49m\u001B[38;5;241;43m.\u001B[39;49m\u001B[43mmixer_type\u001B[49m\u001B[43m,\u001B[49m\n\u001B[1;32m    266\u001B[0m \u001B[43m    \u001B[49m\u001B[43mpulse_parameters\u001B[49m\u001B[38;5;241;43m=\u001B[39;49m\u001B[43mpulse_parameters\u001B[49m\u001B[43m,\u001B[49m\n\u001B[1;32m    267\u001B[0m \u001B[43m\u001B[49m\u001B[43m)\u001B[49m\n\u001B[1;32m    269\u001B[0m verify_amplitude_no_clipping(\n\u001B[1;32m    270\u001B[0m     integration_weight,\n\u001B[1;32m    271\u001B[0m     pulse_def\u001B[38;5;241m.\u001B[39muid,\n\u001B[1;32m    272\u001B[0m     signal_obj\u001B[38;5;241m.\u001B[39mmixer_type,\n\u001B[1;32m    273\u001B[0m     signal_obj\u001B[38;5;241m.\u001B[39mid,\n\u001B[1;32m    274\u001B[0m )\n\u001B[1;32m    276\u001B[0m \u001B[38;5;66;03m# 128-bit hash as waveform name\u001B[39;00m\n",
      "File \u001B[0;32m~/Projects/Envs/SydneyQuantum/lib/python3.12/site-packages/laboneq/core/utilities/pulse_sampler.py:130\u001B[0m, in \u001B[0;36msample_pulse\u001B[0;34m(signal_type, sampling_rate, length, amplitude, pulse_function, modulation_frequency, phase, samples, mixer_type, pulse_parameters, markers)\u001B[0m\n\u001B[1;32m    125\u001B[0m     pulse_parameters \u001B[38;5;241m=\u001B[39m {\n\u001B[1;32m    126\u001B[0m         k: v \u001B[38;5;28;01mfor\u001B[39;00m (k, v) \u001B[38;5;129;01min\u001B[39;00m pulse_parameters\u001B[38;5;241m.\u001B[39mitems() \u001B[38;5;28;01mif\u001B[39;00m k \u001B[38;5;241m!=\u001B[39m \u001B[38;5;124m\"\u001B[39m\u001B[38;5;124mamplitude\u001B[39m\u001B[38;5;124m\"\u001B[39m\n\u001B[1;32m    127\u001B[0m     }\n\u001B[1;32m    129\u001B[0m \u001B[38;5;28;01mif\u001B[39;00m pulse_function \u001B[38;5;129;01mis\u001B[39;00m \u001B[38;5;129;01mnot\u001B[39;00m \u001B[38;5;28;01mNone\u001B[39;00m:\n\u001B[0;32m--> 130\u001B[0m     samples \u001B[38;5;241m=\u001B[39m \u001B[43mpulse_function_library\u001B[49m\u001B[43m[\u001B[49m\u001B[43mpulse_function\u001B[49m\u001B[43m]\u001B[49m\u001B[43m(\u001B[49m\n\u001B[1;32m    131\u001B[0m \u001B[43m        \u001B[49m\u001B[43mnp\u001B[49m\u001B[38;5;241;43m.\u001B[39;49m\u001B[43mlinspace\u001B[49m\u001B[43m(\u001B[49m\u001B[38;5;241;43m-\u001B[39;49m\u001B[38;5;241;43m1\u001B[39;49m\u001B[43m,\u001B[49m\u001B[43m \u001B[49m\u001B[38;5;241;43m1\u001B[39;49m\u001B[43m,\u001B[49m\u001B[43m \u001B[49m\u001B[43mnum_samples\u001B[49m\u001B[43m,\u001B[49m\u001B[43m \u001B[49m\u001B[43mendpoint\u001B[49m\u001B[38;5;241;43m=\u001B[39;49m\u001B[38;5;28;43;01mFalse\u001B[39;49;00m\u001B[43m)\u001B[49m\u001B[43m,\u001B[49m\n\u001B[1;32m    132\u001B[0m \u001B[43m        \u001B[49m\u001B[43mlength\u001B[49m\u001B[38;5;241;43m=\u001B[39;49m\u001B[43mlength\u001B[49m\u001B[43m,\u001B[49m\n\u001B[1;32m    133\u001B[0m \u001B[43m        \u001B[49m\u001B[43mamplitude\u001B[49m\u001B[38;5;241;43m=\u001B[39;49m\u001B[43mamplitude\u001B[49m\u001B[43m,\u001B[49m\n\u001B[1;32m    134\u001B[0m \u001B[43m        \u001B[49m\u001B[43msampling_rate\u001B[49m\u001B[38;5;241;43m=\u001B[39;49m\u001B[43msampling_rate\u001B[49m\u001B[43m,\u001B[49m\n\u001B[1;32m    135\u001B[0m \u001B[43m        \u001B[49m\u001B[38;5;241;43m*\u001B[39;49m\u001B[38;5;241;43m*\u001B[39;49m\u001B[43mpulse_parameters\u001B[49m\u001B[43m,\u001B[49m\n\u001B[1;32m    136\u001B[0m \u001B[43m    \u001B[49m\u001B[43m)\u001B[49m\n\u001B[1;32m    137\u001B[0m \u001B[38;5;28;01massert\u001B[39;00m \u001B[38;5;28misinstance\u001B[39m(samples, (\u001B[38;5;28mlist\u001B[39m, np\u001B[38;5;241m.\u001B[39mndarray))\n\u001B[1;32m    138\u001B[0m samples \u001B[38;5;241m=\u001B[39m np\u001B[38;5;241m.\u001B[39marray(samples[:num_samples])\n",
      "File \u001B[0;32m~/Projects/Envs/SydneyQuantum/lib/python3.12/site-packages/laboneq/dsl/experiment/pulse_library.py:171\u001B[0m, in \u001B[0;36mgaussian_square\u001B[0;34m(x, sigma, width, zero_boundaries, **_)\u001B[0m\n\u001B[1;32m    168\u001B[0m length \u001B[38;5;241m=\u001B[39m _[\u001B[38;5;124m\"\u001B[39m\u001B[38;5;124mlength\u001B[39m\u001B[38;5;124m\"\u001B[39m]\n\u001B[1;32m    170\u001B[0m \u001B[38;5;28;01mif\u001B[39;00m width \u001B[38;5;129;01mis\u001B[39;00m \u001B[38;5;129;01mnot\u001B[39;00m \u001B[38;5;28;01mNone\u001B[39;00m \u001B[38;5;129;01mand\u001B[39;00m width \u001B[38;5;241m>\u001B[39m\u001B[38;5;241m=\u001B[39m length:\n\u001B[0;32m--> 171\u001B[0m     \u001B[38;5;28;01mraise\u001B[39;00m \u001B[38;5;167;01mValueError\u001B[39;00m(\n\u001B[1;32m    172\u001B[0m         \u001B[38;5;124m\"\u001B[39m\u001B[38;5;124mThe width of the flat portion of the pulse must be smaller than the total length.\u001B[39m\u001B[38;5;124m\"\u001B[39m\n\u001B[1;32m    173\u001B[0m     )\n\u001B[1;32m    175\u001B[0m \u001B[38;5;28;01mif\u001B[39;00m width \u001B[38;5;129;01mis\u001B[39;00m \u001B[38;5;28;01mNone\u001B[39;00m:\n\u001B[1;32m    176\u001B[0m     width \u001B[38;5;241m=\u001B[39m \u001B[38;5;241m0.9\u001B[39m \u001B[38;5;241m*\u001B[39m length\n",
      "\u001B[0;31mValueError\u001B[0m: The width of the flat portion of the pulse must be smaller than the total length."
     ]
    }
   ],
   "source": [
    "tau_sweep = [LinearSweepParameter(uid=f\"t1_tau_sweep_{k}\", start=0, stop=15e-6, count=3) for k in qubits]\n",
    "\n",
    "exp_params_t1 = exp_params_qubits\n",
    "exp_params_t1.update({\n",
    "    \"exp_name\": \"t1\",\n",
    "    \"tau_sweep\": tau_sweep,\n",
    "    \"num_averages\": 0,\n",
    "})\n",
    "\n",
    "t1_results = t1(session, exp_params_t1, qudits_params)\n",
    "\n",
    "data = t1_results.acquired_results[exp_params_t1[\"exp_name\"] + \"_q0\"].data"
   ]
  },
  {
   "cell_type": "code",
   "execution_count": null,
   "id": "dc48057a",
   "metadata": {
    "ExecuteTime": {
     "start_time": "2024-02-22T05:03:42.149105Z"
    }
   },
   "outputs": [],
   "source": [
    "qudits_params[\"T1\"] = [100e-6, 80e-6]"
   ]
  },
  {
   "cell_type": "markdown",
   "id": "7966db6e",
   "metadata": {},
   "source": [
    "### T2"
   ]
  },
  {
   "cell_type": "markdown",
   "id": "fd12775a",
   "metadata": {},
   "source": [
    "#### T2 (Ramsey)"
   ]
  },
  {
   "cell_type": "markdown",
   "id": "34018e8c",
   "metadata": {},
   "source": [
    " "
   ]
  },
  {
   "cell_type": "code",
   "execution_count": 20,
   "id": "389e29e5",
   "metadata": {
    "ExecuteTime": {
     "end_time": "2024-02-22T05:03:43.112938Z",
     "start_time": "2024-02-22T05:03:42.838140Z"
    }
   },
   "outputs": [
    {
     "name": "stdout",
     "output_type": "stream",
     "text": [
      "[2024.02.22 16:03:42.835] INFO    Starting LabOne Q Compiler run...\n",
      "[2024.02.22 16:03:42.840] INFO    Schedule completed\n"
     ]
    },
    {
     "ename": "ValueError",
     "evalue": "The width of the flat portion of the pulse must be smaller than the total length.",
     "output_type": "error",
     "traceback": [
      "\u001B[0;31m---------------------------------------------------------------------------\u001B[0m",
      "\u001B[0;31mValueError\u001B[0m                                Traceback (most recent call last)",
      "Cell \u001B[0;32mIn[20], line 10\u001B[0m\n\u001B[1;32m      3\u001B[0m exp_params_ramsey \u001B[38;5;241m=\u001B[39m exp_params_qubits\n\u001B[1;32m      4\u001B[0m exp_params_ramsey\u001B[38;5;241m.\u001B[39mupdate({\n\u001B[1;32m      5\u001B[0m     \u001B[38;5;124m\"\u001B[39m\u001B[38;5;124mexp_name\u001B[39m\u001B[38;5;124m\"\u001B[39m: \u001B[38;5;124m\"\u001B[39m\u001B[38;5;124mramsey\u001B[39m\u001B[38;5;124m\"\u001B[39m,\n\u001B[1;32m      6\u001B[0m     \u001B[38;5;124m\"\u001B[39m\u001B[38;5;124mtau_sweep\u001B[39m\u001B[38;5;124m\"\u001B[39m: tau_sweep,\n\u001B[1;32m      7\u001B[0m     \u001B[38;5;124m\"\u001B[39m\u001B[38;5;124mnum_averages\u001B[39m\u001B[38;5;124m\"\u001B[39m: \u001B[38;5;241m0\u001B[39m,\n\u001B[1;32m      8\u001B[0m })\n\u001B[0;32m---> 10\u001B[0m ramsey_results \u001B[38;5;241m=\u001B[39m \u001B[43mramsey\u001B[49m\u001B[43m(\u001B[49m\u001B[43msession\u001B[49m\u001B[43m,\u001B[49m\u001B[43m \u001B[49m\u001B[43mexp_params_ramsey\u001B[49m\u001B[43m,\u001B[49m\u001B[43m \u001B[49m\u001B[43mqudits_params\u001B[49m\u001B[43m)\u001B[49m\n\u001B[1;32m     12\u001B[0m data \u001B[38;5;241m=\u001B[39m ramsey_results\u001B[38;5;241m.\u001B[39macquired_results[exp_params_ramsey[\u001B[38;5;124m\"\u001B[39m\u001B[38;5;124mexp_name\u001B[39m\u001B[38;5;124m\"\u001B[39m] \u001B[38;5;241m+\u001B[39m \u001B[38;5;124m\"\u001B[39m\u001B[38;5;124m_q0\u001B[39m\u001B[38;5;124m\"\u001B[39m]\u001B[38;5;241m.\u001B[39mdata\n",
      "Cell \u001B[0;32mIn[7], line 421\u001B[0m, in \u001B[0;36mramsey\u001B[0;34m(session, exp_params, qudits_params)\u001B[0m\n\u001B[1;32m    412\u001B[0m             \u001B[38;5;28;01mwith\u001B[39;00m exp\u001B[38;5;241m.\u001B[39msection(uid\u001B[38;5;241m=\u001B[39m\u001B[38;5;124m\"\u001B[39m\u001B[38;5;124mreadout_qubit_\u001B[39m\u001B[38;5;124m\"\u001B[39m \u001B[38;5;241m+\u001B[39m qubit, play_after\u001B[38;5;241m=\u001B[39m\u001B[38;5;124m\"\u001B[39m\u001B[38;5;124mqubit_excitation_\u001B[39m\u001B[38;5;124m\"\u001B[39m \u001B[38;5;241m+\u001B[39m ef_str \u001B[38;5;241m+\u001B[39m qubit):\n\u001B[1;32m    413\u001B[0m                 \u001B[38;5;66;03m# play readout pulse on measure line\u001B[39;00m\n\u001B[1;32m    414\u001B[0m                 exp\u001B[38;5;241m.\u001B[39mmeasure(measure_signal\u001B[38;5;241m=\u001B[39m\u001B[38;5;124m\"\u001B[39m\u001B[38;5;124mmeasure_\u001B[39m\u001B[38;5;124m\"\u001B[39m\u001B[38;5;241m+\u001B[39mqubit, \n\u001B[1;32m    415\u001B[0m                             measure_pulse\u001B[38;5;241m=\u001B[39mqudits_params[\u001B[38;5;124m\"\u001B[39m\u001B[38;5;124mro_pulse_data\u001B[39m\u001B[38;5;124m\"\u001B[39m][qubit],\n\u001B[1;32m    416\u001B[0m                             handle\u001B[38;5;241m=\u001B[39mexp_params[\u001B[38;5;124m\"\u001B[39m\u001B[38;5;124mexp_name\u001B[39m\u001B[38;5;124m\"\u001B[39m] \u001B[38;5;241m+\u001B[39m \u001B[38;5;124mf\u001B[39m\u001B[38;5;124m\"\u001B[39m\u001B[38;5;124m_\u001B[39m\u001B[38;5;132;01m{\u001B[39;00mqubit\u001B[38;5;132;01m}\u001B[39;00m\u001B[38;5;124m\"\u001B[39m, \n\u001B[0;32m   (...)\u001B[0m\n\u001B[1;32m    419\u001B[0m                             reset_delay \u001B[38;5;241m=\u001B[39m exp_params[\u001B[38;5;124m\"\u001B[39m\u001B[38;5;124mwait_after_int\u001B[39m\u001B[38;5;124m\"\u001B[39m],\n\u001B[1;32m    420\u001B[0m                                   )\n\u001B[0;32m--> 421\u001B[0m results \u001B[38;5;241m=\u001B[39m \u001B[43mcompile_run\u001B[49m\u001B[43m(\u001B[49m\u001B[43msession\u001B[49m\u001B[43m,\u001B[49m\u001B[43m \u001B[49m\u001B[43mexp_params\u001B[49m\u001B[43m,\u001B[49m\u001B[43m \u001B[49m\u001B[43mexp\u001B[49m\u001B[43m)\u001B[49m\n\u001B[1;32m    422\u001B[0m \u001B[38;5;28;01mreturn\u001B[39;00m results\n",
      "Cell \u001B[0;32mIn[7], line 80\u001B[0m, in \u001B[0;36mcompile_run\u001B[0;34m(session, exp_params, exp)\u001B[0m\n\u001B[1;32m     77\u001B[0m \u001B[38;5;28;01mif\u001B[39;00m \u001B[38;5;124m\"\u001B[39m\u001B[38;5;124mrb\u001B[39m\u001B[38;5;124m\"\u001B[39m \u001B[38;5;129;01min\u001B[39;00m exp_params[\u001B[38;5;124m\"\u001B[39m\u001B[38;5;124mexp_name\u001B[39m\u001B[38;5;124m\"\u001B[39m]:\n\u001B[1;32m     78\u001B[0m     compiler_settings \u001B[38;5;241m=\u001B[39m {\u001B[38;5;124m\"\u001B[39m\u001B[38;5;124mSHFSG_MIN_PLAYWAVE_HINT\u001B[39m\u001B[38;5;124m\"\u001B[39m: \u001B[38;5;241m256\u001B[39m}\n\u001B[0;32m---> 80\u001B[0m compiled_exp \u001B[38;5;241m=\u001B[39m \u001B[43msession\u001B[49m\u001B[38;5;241;43m.\u001B[39;49m\u001B[43mcompile\u001B[49m\u001B[43m(\u001B[49m\u001B[43mexp\u001B[49m\u001B[43m,\u001B[49m\u001B[43m \u001B[49m\u001B[43mcompiler_settings\u001B[49m\u001B[43m \u001B[49m\u001B[38;5;241;43m=\u001B[39;49m\u001B[43m \u001B[49m\u001B[43mcompiler_settings\u001B[49m\u001B[43m)\u001B[49m\n\u001B[1;32m     81\u001B[0m results \u001B[38;5;241m=\u001B[39m session\u001B[38;5;241m.\u001B[39mrun(compiled_exp)    \n\u001B[1;32m     82\u001B[0m Path(\u001B[38;5;124m\"\u001B[39m\u001B[38;5;124mPulse_Sheets\u001B[39m\u001B[38;5;124m\"\u001B[39m)\u001B[38;5;241m.\u001B[39mmkdir(parents\u001B[38;5;241m=\u001B[39m\u001B[38;5;28;01mTrue\u001B[39;00m, exist_ok\u001B[38;5;241m=\u001B[39m\u001B[38;5;28;01mTrue\u001B[39;00m)\n",
      "File \u001B[0;32m~/Projects/Envs/SydneyQuantum/lib/python3.12/site-packages/laboneq/_observability/tracing/_tracer.py:75\u001B[0m, in \u001B[0;36mtrace.<locals>.outer_wrapper.<locals>.wrapper\u001B[0;34m(*args, **kwargs)\u001B[0m\n\u001B[1;32m     73\u001B[0m             tracing\u001B[38;5;241m.\u001B[39menable_tracing()\n\u001B[1;32m     74\u001B[0m         \u001B[38;5;28;01mreturn\u001B[39;00m res\n\u001B[0;32m---> 75\u001B[0m \u001B[38;5;28;01mreturn\u001B[39;00m \u001B[43mfunc\u001B[49m\u001B[43m(\u001B[49m\u001B[38;5;241;43m*\u001B[39;49m\u001B[43margs\u001B[49m\u001B[43m,\u001B[49m\u001B[43m \u001B[49m\u001B[38;5;241;43m*\u001B[39;49m\u001B[38;5;241;43m*\u001B[39;49m\u001B[43mkwargs\u001B[49m\u001B[43m)\u001B[49m\n",
      "File \u001B[0;32m~/Projects/Envs/SydneyQuantum/lib/python3.12/site-packages/laboneq/dsl/session.py:337\u001B[0m, in \u001B[0;36mSession.compile\u001B[0;34m(self, experiment, compiler_settings)\u001B[0m\n\u001B[1;32m    335\u001B[0m \u001B[38;5;28mself\u001B[39m\u001B[38;5;241m.\u001B[39m_assert_connected(fail\u001B[38;5;241m=\u001B[39m\u001B[38;5;28;01mTrue\u001B[39;00m)\n\u001B[1;32m    336\u001B[0m \u001B[38;5;28mself\u001B[39m\u001B[38;5;241m.\u001B[39m_experiment_definition \u001B[38;5;241m=\u001B[39m experiment\n\u001B[0;32m--> 337\u001B[0m \u001B[38;5;28mself\u001B[39m\u001B[38;5;241m.\u001B[39m_compiled_experiment \u001B[38;5;241m=\u001B[39m \u001B[43mLabOneQFacade\u001B[49m\u001B[38;5;241;43m.\u001B[39;49m\u001B[43mcompile\u001B[49m\u001B[43m(\u001B[49m\n\u001B[1;32m    338\u001B[0m \u001B[43m    \u001B[49m\u001B[38;5;28;43mself\u001B[39;49m\u001B[43m,\u001B[49m\u001B[43m \u001B[49m\u001B[38;5;28;43mself\u001B[39;49m\u001B[38;5;241;43m.\u001B[39;49m\u001B[43mlogger\u001B[49m\u001B[43m,\u001B[49m\u001B[43m \u001B[49m\u001B[43mcompiler_settings\u001B[49m\u001B[38;5;241;43m=\u001B[39;49m\u001B[43mcompiler_settings\u001B[49m\n\u001B[1;32m    339\u001B[0m \u001B[43m\u001B[49m\u001B[43m)\u001B[49m\n\u001B[1;32m    340\u001B[0m \u001B[38;5;28mself\u001B[39m\u001B[38;5;241m.\u001B[39m_last_results \u001B[38;5;241m=\u001B[39m \u001B[38;5;28;01mNone\u001B[39;00m\n\u001B[1;32m    341\u001B[0m \u001B[38;5;28;01mreturn\u001B[39;00m \u001B[38;5;28mself\u001B[39m\u001B[38;5;241m.\u001B[39m_compiled_experiment\n",
      "File \u001B[0;32m~/Projects/Envs/SydneyQuantum/lib/python3.12/site-packages/laboneq/dsl/laboneq_facade.py:71\u001B[0m, in \u001B[0;36mLabOneQFacade.compile\u001B[0;34m(session, logger, compiler_settings)\u001B[0m\n\u001B[1;32m     68\u001B[0m signal_mapping \u001B[38;5;241m=\u001B[39m convert_signal_map(session\u001B[38;5;241m.\u001B[39mexperiment)\n\u001B[1;32m     70\u001B[0m payload_builder \u001B[38;5;241m=\u001B[39m ApplicationManager\u001B[38;5;241m.\u001B[39minstance()\u001B[38;5;241m.\u001B[39mpayload_builder()\n\u001B[0;32m---> 71\u001B[0m payload \u001B[38;5;241m=\u001B[39m \u001B[43mpayload_builder\u001B[49m\u001B[38;5;241;43m.\u001B[39;49m\u001B[43mbuild_payload\u001B[49m\u001B[43m(\u001B[49m\n\u001B[1;32m     72\u001B[0m \u001B[43m    \u001B[49m\u001B[43mnew_setup\u001B[49m\u001B[43m,\u001B[49m\n\u001B[1;32m     73\u001B[0m \u001B[43m    \u001B[49m\u001B[43mnew_experiment\u001B[49m\u001B[43m,\u001B[49m\n\u001B[1;32m     74\u001B[0m \u001B[43m    \u001B[49m\u001B[43msignal_mapping\u001B[49m\u001B[43m,\u001B[49m\n\u001B[1;32m     75\u001B[0m \u001B[43m    \u001B[49m\u001B[43mcompiler_settings\u001B[49m\u001B[43m,\u001B[49m\n\u001B[1;32m     76\u001B[0m \u001B[43m\u001B[49m\u001B[43m)\u001B[49m\n\u001B[1;32m     78\u001B[0m compiled_experiment \u001B[38;5;241m=\u001B[39m CompiledExperiment(\n\u001B[1;32m     79\u001B[0m     device_setup\u001B[38;5;241m=\u001B[39msession\u001B[38;5;241m.\u001B[39mdevice_setup,\n\u001B[1;32m     80\u001B[0m     experiment\u001B[38;5;241m=\u001B[39msession\u001B[38;5;241m.\u001B[39mexperiment,\n\u001B[1;32m     81\u001B[0m     experiment_dict\u001B[38;5;241m=\u001B[39m\u001B[38;5;28;01mNone\u001B[39;00m,  \u001B[38;5;66;03m# deprecated\u001B[39;00m\n\u001B[1;32m     82\u001B[0m     scheduled_experiment\u001B[38;5;241m=\u001B[39mpayload\u001B[38;5;241m.\u001B[39mscheduled_experiment,\n\u001B[1;32m     83\u001B[0m )\n\u001B[1;32m     84\u001B[0m \u001B[38;5;28;01mreturn\u001B[39;00m compiled_experiment\n",
      "File \u001B[0;32m~/Projects/Envs/SydneyQuantum/lib/python3.12/site-packages/laboneq/implementation/payload_builder/payload_builder.py:50\u001B[0m, in \u001B[0;36mPayloadBuilder.build_payload\u001B[0;34m(self, device_setup, experiment, signal_mappings, compiler_settings)\u001B[0m\n\u001B[1;32m     44\u001B[0m     experiment\u001B[38;5;241m.\u001B[39msignals \u001B[38;5;241m=\u001B[39m []\n\u001B[1;32m     46\u001B[0m job \u001B[38;5;241m=\u001B[39m \u001B[38;5;28mself\u001B[39m\u001B[38;5;241m.\u001B[39mcreate_compilation_job(\n\u001B[1;32m     47\u001B[0m     device_setup, experiment, signal_mappings, compiler_settings\n\u001B[1;32m     48\u001B[0m )\n\u001B[0;32m---> 50\u001B[0m job_id \u001B[38;5;241m=\u001B[39m \u001B[38;5;28;43mself\u001B[39;49m\u001B[38;5;241;43m.\u001B[39;49m\u001B[43m_compilation_service\u001B[49m\u001B[38;5;241;43m.\u001B[39;49m\u001B[43msubmit_compilation_job\u001B[49m\u001B[43m(\u001B[49m\u001B[43mjob\u001B[49m\u001B[43m)\u001B[49m\n\u001B[1;32m     52\u001B[0m scheduled_experiment \u001B[38;5;241m=\u001B[39m \u001B[38;5;28mself\u001B[39m\u001B[38;5;241m.\u001B[39m_compilation_service\u001B[38;5;241m.\u001B[39mcompilation_job_result(job_id)\n\u001B[1;32m     54\u001B[0m target_setup \u001B[38;5;241m=\u001B[39m TargetSetupGenerator\u001B[38;5;241m.\u001B[39mfrom_setup(device_setup)\n",
      "File \u001B[0;32m~/Projects/Envs/SydneyQuantum/lib/python3.12/site-packages/laboneq/implementation/compilation_service/compilation_service_legacy.py:29\u001B[0m, in \u001B[0;36mCompilationServiceLegacy.submit_compilation_job\u001B[0;34m(self, job)\u001B[0m\n\u001B[1;32m     27\u001B[0m queue_entry \u001B[38;5;241m=\u001B[39m {\u001B[38;5;124m\"\u001B[39m\u001B[38;5;124mjob_id\u001B[39m\u001B[38;5;124m\"\u001B[39m: job_id, \u001B[38;5;124m\"\u001B[39m\u001B[38;5;124mjob\u001B[39m\u001B[38;5;124m\"\u001B[39m: job}\n\u001B[1;32m     28\u001B[0m compiler \u001B[38;5;241m=\u001B[39m Compiler(job\u001B[38;5;241m.\u001B[39mcompiler_settings)\n\u001B[0;32m---> 29\u001B[0m compiler_output \u001B[38;5;241m=\u001B[39m \u001B[43mcompiler\u001B[49m\u001B[38;5;241;43m.\u001B[39;49m\u001B[43mrun\u001B[49m\u001B[43m(\u001B[49m\u001B[43mjob\u001B[49m\u001B[43m)\u001B[49m\n\u001B[1;32m     31\u001B[0m \u001B[38;5;28mself\u001B[39m\u001B[38;5;241m.\u001B[39m_job_results[job_id] \u001B[38;5;241m=\u001B[39m convert_compiler_output_to_scheduled_experiment(\n\u001B[1;32m     32\u001B[0m     compiler_output\n\u001B[1;32m     33\u001B[0m )\n\u001B[1;32m     35\u001B[0m \u001B[38;5;28mself\u001B[39m\u001B[38;5;241m.\u001B[39m_job_queue\u001B[38;5;241m.\u001B[39mappend(queue_entry)\n",
      "File \u001B[0;32m~/Projects/Envs/SydneyQuantum/lib/python3.12/site-packages/laboneq/_observability/tracing/_tracer.py:75\u001B[0m, in \u001B[0;36mtrace.<locals>.outer_wrapper.<locals>.wrapper\u001B[0;34m(*args, **kwargs)\u001B[0m\n\u001B[1;32m     73\u001B[0m             tracing\u001B[38;5;241m.\u001B[39menable_tracing()\n\u001B[1;32m     74\u001B[0m         \u001B[38;5;28;01mreturn\u001B[39;00m res\n\u001B[0;32m---> 75\u001B[0m \u001B[38;5;28;01mreturn\u001B[39;00m \u001B[43mfunc\u001B[49m\u001B[43m(\u001B[49m\u001B[38;5;241;43m*\u001B[39;49m\u001B[43margs\u001B[49m\u001B[43m,\u001B[49m\u001B[43m \u001B[49m\u001B[38;5;241;43m*\u001B[39;49m\u001B[38;5;241;43m*\u001B[39;49m\u001B[43mkwargs\u001B[49m\u001B[43m)\u001B[49m\n",
      "File \u001B[0;32m~/Projects/Envs/SydneyQuantum/lib/python3.12/site-packages/laboneq/compiler/workflow/compiler.py:1164\u001B[0m, in \u001B[0;36mCompiler.run\u001B[0;34m(self, data)\u001B[0m\n\u001B[1;32m   1162\u001B[0m \u001B[38;5;28mself\u001B[39m\u001B[38;5;241m.\u001B[39muse_experiment(data)\n\u001B[1;32m   1163\u001B[0m \u001B[38;5;28mself\u001B[39m\u001B[38;5;241m.\u001B[39m_analyze_setup()\n\u001B[0;32m-> 1164\u001B[0m \u001B[38;5;28;43mself\u001B[39;49m\u001B[38;5;241;43m.\u001B[39;49m\u001B[43m_process_experiment\u001B[49m\u001B[43m(\u001B[49m\u001B[43m)\u001B[49m\n\u001B[1;32m   1166\u001B[0m \u001B[38;5;28mself\u001B[39m\u001B[38;5;241m.\u001B[39m_generate_recipe()\n\u001B[1;32m   1168\u001B[0m retval \u001B[38;5;241m=\u001B[39m \u001B[38;5;28mself\u001B[39m\u001B[38;5;241m.\u001B[39mcompiler_output()\n",
      "File \u001B[0;32m~/Projects/Envs/SydneyQuantum/lib/python3.12/site-packages/laboneq/compiler/workflow/compiler.py:269\u001B[0m, in \u001B[0;36mCompiler._process_experiment\u001B[0;34m(self)\u001B[0m\n\u001B[1;32m    262\u001B[0m rt_compiler \u001B[38;5;241m=\u001B[39m RealtimeCompiler(\n\u001B[1;32m    263\u001B[0m     \u001B[38;5;28mself\u001B[39m\u001B[38;5;241m.\u001B[39m_experiment_dao,\n\u001B[1;32m    264\u001B[0m     \u001B[38;5;28mself\u001B[39m\u001B[38;5;241m.\u001B[39m_sampling_rate_tracker,\n\u001B[1;32m    265\u001B[0m     \u001B[38;5;28mself\u001B[39m\u001B[38;5;241m.\u001B[39m_signal_objects,\n\u001B[1;32m    266\u001B[0m     \u001B[38;5;28mself\u001B[39m\u001B[38;5;241m.\u001B[39m_settings,\n\u001B[1;32m    267\u001B[0m )\n\u001B[1;32m    268\u001B[0m executor \u001B[38;5;241m=\u001B[39m NtCompilerExecutor(rt_compiler, \u001B[38;5;28mself\u001B[39m\u001B[38;5;241m.\u001B[39m_settings)\n\u001B[0;32m--> 269\u001B[0m \u001B[43mexecutor\u001B[49m\u001B[38;5;241;43m.\u001B[39;49m\u001B[43mrun\u001B[49m\u001B[43m(\u001B[49m\u001B[38;5;28;43mself\u001B[39;49m\u001B[38;5;241;43m.\u001B[39;49m\u001B[43m_execution\u001B[49m\u001B[43m)\u001B[49m\n\u001B[1;32m    270\u001B[0m \u001B[38;5;28mself\u001B[39m\u001B[38;5;241m.\u001B[39m_combined_compiler_output \u001B[38;5;241m=\u001B[39m executor\u001B[38;5;241m.\u001B[39mcombined_compiler_output()\n\u001B[1;32m    271\u001B[0m \u001B[38;5;28;01mif\u001B[39;00m \u001B[38;5;28mself\u001B[39m\u001B[38;5;241m.\u001B[39m_combined_compiler_output \u001B[38;5;129;01mis\u001B[39;00m \u001B[38;5;28;01mNone\u001B[39;00m:\n\u001B[1;32m    272\u001B[0m     \u001B[38;5;66;03m# Some of our tests do not have an RT averaging loop, so the RT compiler will\u001B[39;00m\n\u001B[1;32m    273\u001B[0m     \u001B[38;5;66;03m# not have been run. For backwards compatibility, we still run it once.\u001B[39;00m\n",
      "File \u001B[0;32m~/Projects/Envs/SydneyQuantum/lib/python3.12/site-packages/laboneq/executor/executor.py:479\u001B[0m, in \u001B[0;36mExecutorBase.run\u001B[0;34m(self, root_sequence)\u001B[0m\n\u001B[1;32m    477\u001B[0m scope \u001B[38;5;241m=\u001B[39m ExecutionScope(\u001B[38;5;28;01mNone\u001B[39;00m, \u001B[38;5;28mself\u001B[39m)\n\u001B[1;32m    478\u001B[0m \u001B[38;5;28;01mfor\u001B[39;00m notification \u001B[38;5;129;01min\u001B[39;00m root_sequence\u001B[38;5;241m.\u001B[39mrun(scope):\n\u001B[0;32m--> 479\u001B[0m     \u001B[38;5;28;43mself\u001B[39;49m\u001B[38;5;241;43m.\u001B[39;49m\u001B[43m_handlers_map\u001B[49m\u001B[43m[\u001B[49m\u001B[43mnotification\u001B[49m\u001B[38;5;241;43m.\u001B[39;49m\u001B[43mstatement_type\u001B[49m\u001B[43m]\u001B[49m\u001B[43m(\u001B[49m\u001B[38;5;241;43m*\u001B[39;49m\u001B[38;5;241;43m*\u001B[39;49m\u001B[43mnotification\u001B[49m\u001B[38;5;241;43m.\u001B[39;49m\u001B[43margs\u001B[49m\u001B[43m)\u001B[49m\n",
      "File \u001B[0;32m~/Projects/Envs/SydneyQuantum/lib/python3.12/site-packages/laboneq/compiler/workflow/neartime_execution.py:155\u001B[0m, in \u001B[0;36mNtCompilerExecutor.rt_entry_handler\u001B[0;34m(self, count, uid, averaging_mode, acquisition_type)\u001B[0m\n\u001B[1;32m    153\u001B[0m parameter_store \u001B[38;5;241m=\u001B[39m ParameterStore(\u001B[38;5;28mself\u001B[39m\u001B[38;5;241m.\u001B[39m_iteration_stack\u001B[38;5;241m.\u001B[39mnt_parameter_values())\n\u001B[1;32m    154\u001B[0m tracker \u001B[38;5;241m=\u001B[39m parameter_store\u001B[38;5;241m.\u001B[39mcreate_tracker()\n\u001B[0;32m--> 155\u001B[0m new_compiler_output \u001B[38;5;241m=\u001B[39m \u001B[38;5;28;43mself\u001B[39;49m\u001B[38;5;241;43m.\u001B[39;49m\u001B[43m_rt_compiler\u001B[49m\u001B[38;5;241;43m.\u001B[39;49m\u001B[43mrun\u001B[49m\u001B[43m(\u001B[49m\u001B[43mparameter_store\u001B[49m\u001B[43m)\u001B[49m\n\u001B[1;32m    157\u001B[0m \u001B[38;5;28;01mif\u001B[39;00m \u001B[38;5;28mself\u001B[39m\u001B[38;5;241m.\u001B[39m_required_parameters \u001B[38;5;129;01mis\u001B[39;00m \u001B[38;5;28;01mNone\u001B[39;00m:\n\u001B[1;32m    158\u001B[0m     \u001B[38;5;28mself\u001B[39m\u001B[38;5;241m.\u001B[39m_required_parameters \u001B[38;5;241m=\u001B[39m tracker\u001B[38;5;241m.\u001B[39mqueries()\n",
      "File \u001B[0;32m~/Projects/Envs/SydneyQuantum/lib/python3.12/site-packages/laboneq/compiler/workflow/realtime_compiler.py:110\u001B[0m, in \u001B[0;36mRealtimeCompiler.run\u001B[0;34m(self, near_time_parameters)\u001B[0m\n\u001B[1;32m    107\u001B[0m \u001B[38;5;28mself\u001B[39m\u001B[38;5;241m.\u001B[39m_scheduler\u001B[38;5;241m.\u001B[39mrun(near_time_parameters)\n\u001B[1;32m    108\u001B[0m schedule \u001B[38;5;241m=\u001B[39m \u001B[38;5;28mself\u001B[39m\u001B[38;5;241m.\u001B[39mprepare_schedule() \u001B[38;5;28;01mif\u001B[39;00m \u001B[38;5;28mself\u001B[39m\u001B[38;5;241m.\u001B[39m_settings\u001B[38;5;241m.\u001B[39mOUTPUT_EXTRAS \u001B[38;5;28;01melse\u001B[39;00m \u001B[38;5;28;01mNone\u001B[39;00m\n\u001B[0;32m--> 110\u001B[0m \u001B[38;5;28;43mself\u001B[39;49m\u001B[38;5;241;43m.\u001B[39;49m\u001B[43m_generate_code\u001B[49m\u001B[43m(\u001B[49m\u001B[43m)\u001B[49m\n\u001B[1;32m    112\u001B[0m outputs \u001B[38;5;241m=\u001B[39m {\n\u001B[1;32m    113\u001B[0m     device_class: code_generator\u001B[38;5;241m.\u001B[39mget_output()\n\u001B[1;32m    114\u001B[0m     \u001B[38;5;28;01mfor\u001B[39;00m device_class, code_generator \u001B[38;5;129;01min\u001B[39;00m \u001B[38;5;28mself\u001B[39m\u001B[38;5;241m.\u001B[39m_code_generators\u001B[38;5;241m.\u001B[39mitems()\n\u001B[1;32m    115\u001B[0m }\n\u001B[1;32m    117\u001B[0m compiler_output \u001B[38;5;241m=\u001B[39m RTCompilerOutputContainer(\n\u001B[1;32m    118\u001B[0m     codegen_output\u001B[38;5;241m=\u001B[39moutputs, schedule\u001B[38;5;241m=\u001B[39mschedule\n\u001B[1;32m    119\u001B[0m )\n",
      "File \u001B[0;32m~/Projects/Envs/SydneyQuantum/lib/python3.12/site-packages/laboneq/_observability/tracing/_tracer.py:75\u001B[0m, in \u001B[0;36mtrace.<locals>.outer_wrapper.<locals>.wrapper\u001B[0;34m(*args, **kwargs)\u001B[0m\n\u001B[1;32m     73\u001B[0m             tracing\u001B[38;5;241m.\u001B[39menable_tracing()\n\u001B[1;32m     74\u001B[0m         \u001B[38;5;28;01mreturn\u001B[39;00m res\n\u001B[0;32m---> 75\u001B[0m \u001B[38;5;28;01mreturn\u001B[39;00m \u001B[43mfunc\u001B[49m\u001B[43m(\u001B[49m\u001B[38;5;241;43m*\u001B[39;49m\u001B[43margs\u001B[49m\u001B[43m,\u001B[49m\u001B[43m \u001B[49m\u001B[38;5;241;43m*\u001B[39;49m\u001B[38;5;241;43m*\u001B[39;49m\u001B[43mkwargs\u001B[49m\u001B[43m)\u001B[49m\n",
      "File \u001B[0;32m~/Projects/Envs/SydneyQuantum/lib/python3.12/site-packages/laboneq/compiler/workflow/realtime_compiler.py:101\u001B[0m, in \u001B[0;36mRealtimeCompiler._generate_code\u001B[0;34m(self)\u001B[0m\n\u001B[1;32m     98\u001B[0m \u001B[38;5;28;01mif\u001B[39;00m \u001B[38;5;28mself\u001B[39m\u001B[38;5;241m.\u001B[39m_settings\u001B[38;5;241m.\u001B[39mFORCE_IR_ROUNDTRIP:\n\u001B[1;32m     99\u001B[0m     ir\u001B[38;5;241m.\u001B[39mround_trip()\n\u001B[0;32m--> 101\u001B[0m \u001B[38;5;28;43mself\u001B[39;49m\u001B[38;5;241;43m.\u001B[39;49m\u001B[43m_lower_ir_to_code\u001B[49m\u001B[43m(\u001B[49m\u001B[43mir\u001B[49m\u001B[43m)\u001B[49m\n\u001B[1;32m    102\u001B[0m _logger\u001B[38;5;241m.\u001B[39mdebug(\u001B[38;5;124m\"\u001B[39m\u001B[38;5;124mlowering IR to code complete\u001B[39m\u001B[38;5;124m\"\u001B[39m)\n",
      "File \u001B[0;32m~/Projects/Envs/SydneyQuantum/lib/python3.12/site-packages/laboneq/compiler/workflow/realtime_compiler.py:81\u001B[0m, in \u001B[0;36mRealtimeCompiler._lower_ir_to_code\u001B[0;34m(self, ir)\u001B[0m\n\u001B[1;32m     77\u001B[0m \u001B[38;5;28;01mfor\u001B[39;00m device_class \u001B[38;5;129;01min\u001B[39;00m device_classes:\n\u001B[1;32m     78\u001B[0m     \u001B[38;5;28mself\u001B[39m\u001B[38;5;241m.\u001B[39m_code_generators[device_class] \u001B[38;5;241m=\u001B[39m \u001B[38;5;28mself\u001B[39m\u001B[38;5;241m.\u001B[39m_registered_codegens[\n\u001B[1;32m     79\u001B[0m         device_class\n\u001B[1;32m     80\u001B[0m     ](ir, settings\u001B[38;5;241m=\u001B[39m\u001B[38;5;28mself\u001B[39m\u001B[38;5;241m.\u001B[39m_settings)\n\u001B[0;32m---> 81\u001B[0m     \u001B[38;5;28;43mself\u001B[39;49m\u001B[38;5;241;43m.\u001B[39;49m\u001B[43m_code_generators\u001B[49m\u001B[43m[\u001B[49m\u001B[43mdevice_class\u001B[49m\u001B[43m]\u001B[49m\u001B[38;5;241;43m.\u001B[39;49m\u001B[43mgenerate_code\u001B[49m\u001B[43m(\u001B[49m\n\u001B[1;32m     82\u001B[0m \u001B[43m        \u001B[49m\u001B[43m[\u001B[49m\n\u001B[1;32m     83\u001B[0m \u001B[43m            \u001B[49m\u001B[43ms\u001B[49m\n\u001B[1;32m     84\u001B[0m \u001B[43m            \u001B[49m\u001B[38;5;28;43;01mfor\u001B[39;49;00m\u001B[43m \u001B[49m\u001B[43ms\u001B[49m\u001B[43m \u001B[49m\u001B[38;5;129;43;01min\u001B[39;49;00m\u001B[43m \u001B[49m\u001B[38;5;28;43mself\u001B[39;49m\u001B[38;5;241;43m.\u001B[39;49m\u001B[43m_signal_objects\u001B[49m\u001B[38;5;241;43m.\u001B[39;49m\u001B[43mvalues\u001B[49m\u001B[43m(\u001B[49m\u001B[43m)\u001B[49m\n\u001B[1;32m     85\u001B[0m \u001B[43m            \u001B[49m\u001B[38;5;28;43;01mif\u001B[39;49;00m\u001B[43m \u001B[49m\u001B[43ms\u001B[49m\u001B[38;5;241;43m.\u001B[39;49m\u001B[43mawg\u001B[49m\u001B[38;5;241;43m.\u001B[39;49m\u001B[43mdevice_class\u001B[49m\u001B[43m \u001B[49m\u001B[38;5;241;43m==\u001B[39;49m\u001B[43m \u001B[49m\u001B[43mdevice_class\u001B[49m\n\u001B[1;32m     86\u001B[0m \u001B[43m        \u001B[49m\u001B[43m]\u001B[49m\n\u001B[1;32m     87\u001B[0m \u001B[43m    \u001B[49m\u001B[43m)\u001B[49m\n\u001B[1;32m     89\u001B[0m _logger\u001B[38;5;241m.\u001B[39mdebug(\u001B[38;5;124m\"\u001B[39m\u001B[38;5;124mCode generation completed\u001B[39m\u001B[38;5;124m\"\u001B[39m)\n",
      "File \u001B[0;32m~/Projects/Envs/SydneyQuantum/lib/python3.12/site-packages/laboneq/compiler/code_generator/code_generator.py:355\u001B[0m, in \u001B[0;36mCodeGenerator.generate_code\u001B[0;34m(self, signal_objs)\u001B[0m\n\u001B[1;32m    353\u001B[0m     \u001B[38;5;28mself\u001B[39m\u001B[38;5;241m.\u001B[39madd_signal(signal_obj)\n\u001B[1;32m    354\u001B[0m \u001B[38;5;28mself\u001B[39m\u001B[38;5;241m.\u001B[39mgen_acquire_map(event_list)\n\u001B[0;32m--> 355\u001B[0m \u001B[38;5;28;43mself\u001B[39;49m\u001B[38;5;241;43m.\u001B[39;49m\u001B[43mgen_seq_c\u001B[49m\u001B[43m(\u001B[49m\n\u001B[1;32m    356\u001B[0m \u001B[43m    \u001B[49m\u001B[43mevent_list\u001B[49m\u001B[43m,\u001B[49m\n\u001B[1;32m    357\u001B[0m \u001B[43m    \u001B[49m\u001B[43m{\u001B[49m\u001B[43mp\u001B[49m\u001B[38;5;241;43m.\u001B[39;49m\u001B[43muid\u001B[49m\u001B[43m:\u001B[49m\u001B[43m \u001B[49m\u001B[43mp\u001B[49m\u001B[43m \u001B[49m\u001B[38;5;28;43;01mfor\u001B[39;49;00m\u001B[43m \u001B[49m\u001B[43mp\u001B[49m\u001B[43m \u001B[49m\u001B[38;5;129;43;01min\u001B[39;49;00m\u001B[43m \u001B[49m\u001B[38;5;28;43mself\u001B[39;49m\u001B[38;5;241;43m.\u001B[39;49m\u001B[43m_ir\u001B[49m\u001B[38;5;241;43m.\u001B[39;49m\u001B[43mpulse_defs\u001B[49m\u001B[43m}\u001B[49m\u001B[43m,\u001B[49m\n\u001B[1;32m    358\u001B[0m \u001B[43m\u001B[49m\u001B[43m)\u001B[49m\n\u001B[1;32m    359\u001B[0m \u001B[38;5;28mself\u001B[39m\u001B[38;5;241m.\u001B[39mgen_waves()\n",
      "File \u001B[0;32m~/Projects/Envs/SydneyQuantum/lib/python3.12/site-packages/laboneq/compiler/code_generator/code_generator.py:718\u001B[0m, in \u001B[0;36mCodeGenerator.gen_seq_c\u001B[0;34m(self, events, pulse_defs)\u001B[0m\n\u001B[1;32m    710\u001B[0m \u001B[38;5;28mself\u001B[39m\u001B[38;5;241m.\u001B[39m_feedback_register_allocator \u001B[38;5;241m=\u001B[39m FeedbackRegisterAllocator(\n\u001B[1;32m    711\u001B[0m     \u001B[38;5;28mself\u001B[39m\u001B[38;5;241m.\u001B[39m_signals, events\n\u001B[1;32m    712\u001B[0m )\n\u001B[1;32m    714\u001B[0m \u001B[38;5;28;01mfor\u001B[39;00m _, awg \u001B[38;5;129;01min\u001B[39;00m \u001B[38;5;28msorted\u001B[39m(\n\u001B[1;32m    715\u001B[0m     \u001B[38;5;28mself\u001B[39m\u001B[38;5;241m.\u001B[39m_awgs\u001B[38;5;241m.\u001B[39mitems(),\n\u001B[1;32m    716\u001B[0m     key\u001B[38;5;241m=\u001B[39m\u001B[38;5;28;01mlambda\u001B[39;00m item: item[\u001B[38;5;241m0\u001B[39m]\u001B[38;5;241m.\u001B[39mdevice_id \u001B[38;5;241m+\u001B[39m \u001B[38;5;28mstr\u001B[39m(item[\u001B[38;5;241m0\u001B[39m]\u001B[38;5;241m.\u001B[39mawg_number),\n\u001B[1;32m    717\u001B[0m ):\n\u001B[0;32m--> 718\u001B[0m     \u001B[38;5;28;43mself\u001B[39;49m\u001B[38;5;241;43m.\u001B[39;49m\u001B[43m_gen_seq_c_per_awg\u001B[49m\u001B[43m(\u001B[49m\u001B[43mawg\u001B[49m\u001B[43m,\u001B[49m\u001B[43m \u001B[49m\u001B[43mevents\u001B[49m\u001B[43m,\u001B[49m\u001B[43m \u001B[49m\u001B[43mpulse_defs\u001B[49m\u001B[43m)\u001B[49m\n\u001B[1;32m    720\u001B[0m tgt_feedback_regs \u001B[38;5;241m=\u001B[39m \u001B[38;5;28mself\u001B[39m\u001B[38;5;241m.\u001B[39m_feedback_register_allocator\u001B[38;5;241m.\u001B[39mtarget_feedback_registers\n\u001B[1;32m    721\u001B[0m \u001B[38;5;28;01mfor\u001B[39;00m awg, target_fb_register \u001B[38;5;129;01min\u001B[39;00m tgt_feedback_regs\u001B[38;5;241m.\u001B[39mitems():\n",
      "File \u001B[0;32m~/Projects/Envs/SydneyQuantum/lib/python3.12/site-packages/laboneq/compiler/code_generator/code_generator.py:1136\u001B[0m, in \u001B[0;36mCodeGenerator._gen_seq_c_per_awg\u001B[0;34m(self, awg, events, pulse_defs)\u001B[0m\n\u001B[1;32m   1128\u001B[0m         \u001B[38;5;28;01massert\u001B[39;00m \u001B[38;5;28mself\u001B[39m\u001B[38;5;241m.\u001B[39m_integration_weights \u001B[38;5;129;01mis\u001B[39;00m \u001B[38;5;129;01mnot\u001B[39;00m \u001B[38;5;28;01mNone\u001B[39;00m\n\u001B[1;32m   1129\u001B[0m         _logger\u001B[38;5;241m.\u001B[39mdebug(\n\u001B[1;32m   1130\u001B[0m             \u001B[38;5;124m\"\u001B[39m\u001B[38;5;124mCalculating integration weights for signal \u001B[39m\u001B[38;5;132;01m%s\u001B[39;00m\u001B[38;5;124m. There are \u001B[39m\u001B[38;5;132;01m%d\u001B[39;00m\u001B[38;5;124m acquire events.\u001B[39m\u001B[38;5;124m\"\u001B[39m,\n\u001B[1;32m   1131\u001B[0m             signal_obj\u001B[38;5;241m.\u001B[39mid,\n\u001B[1;32m   1132\u001B[0m             \u001B[38;5;28mlen\u001B[39m(acquire_events\u001B[38;5;241m.\u001B[39msequence),\n\u001B[1;32m   1133\u001B[0m         )\n\u001B[1;32m   1134\u001B[0m         \u001B[38;5;28mself\u001B[39m\u001B[38;5;241m.\u001B[39m_integration_weights\u001B[38;5;241m.\u001B[39msetdefault(awg\u001B[38;5;241m.\u001B[39mkey, {})[\n\u001B[1;32m   1135\u001B[0m             signal_obj\u001B[38;5;241m.\u001B[39mid\n\u001B[0;32m-> 1136\u001B[0m         ] \u001B[38;5;241m=\u001B[39m \u001B[43mcalculate_integration_weights\u001B[49m\u001B[43m(\u001B[49m\n\u001B[1;32m   1137\u001B[0m \u001B[43m            \u001B[49m\u001B[43macquire_events\u001B[49m\u001B[43m,\u001B[49m\u001B[43m \u001B[49m\u001B[43msignal_obj\u001B[49m\u001B[43m,\u001B[49m\u001B[43m \u001B[49m\u001B[43mpulse_defs\u001B[49m\n\u001B[1;32m   1138\u001B[0m \u001B[43m        \u001B[49m\u001B[43m)\u001B[49m\n\u001B[1;32m   1140\u001B[0m     sampled_events\u001B[38;5;241m.\u001B[39mmerge(acquire_events)\n\u001B[1;32m   1142\u001B[0m \u001B[38;5;28;01mif\u001B[39;00m awg\u001B[38;5;241m.\u001B[39msignal_type \u001B[38;5;241m==\u001B[39m AWGSignalType\u001B[38;5;241m.\u001B[39mMULTI:\n",
      "File \u001B[0;32m~/Projects/Envs/SydneyQuantum/lib/python3.12/site-packages/laboneq/compiler/code_generator/code_generator.py:257\u001B[0m, in \u001B[0;36mcalculate_integration_weights\u001B[0;34m(acquire_events, signal_obj, pulse_defs)\u001B[0m\n\u001B[1;32m    255\u001B[0m pulse_parameters \u001B[38;5;241m=\u001B[39m combine_pulse_parameters(pulse_par, \u001B[38;5;28;01mNone\u001B[39;00m, play_par)\n\u001B[1;32m    256\u001B[0m pulse_parameters \u001B[38;5;241m=\u001B[39m decode_pulse_parameters(pulse_parameters)\n\u001B[0;32m--> 257\u001B[0m integration_weight \u001B[38;5;241m=\u001B[39m \u001B[43msample_pulse\u001B[49m\u001B[43m(\u001B[49m\n\u001B[1;32m    258\u001B[0m \u001B[43m    \u001B[49m\u001B[43msignal_type\u001B[49m\u001B[38;5;241;43m=\u001B[39;49m\u001B[38;5;124;43m\"\u001B[39;49m\u001B[38;5;124;43miq\u001B[39;49m\u001B[38;5;124;43m\"\u001B[39;49m\u001B[43m,\u001B[49m\n\u001B[1;32m    259\u001B[0m \u001B[43m    \u001B[49m\u001B[43msampling_rate\u001B[49m\u001B[38;5;241;43m=\u001B[39;49m\u001B[43msignal_obj\u001B[49m\u001B[38;5;241;43m.\u001B[39;49m\u001B[43mawg\u001B[49m\u001B[38;5;241;43m.\u001B[39;49m\u001B[43msampling_rate\u001B[49m\u001B[43m,\u001B[49m\n\u001B[1;32m    260\u001B[0m \u001B[43m    \u001B[49m\u001B[43mlength\u001B[49m\u001B[38;5;241;43m=\u001B[39;49m\u001B[43mlength\u001B[49m\u001B[43m,\u001B[49m\n\u001B[1;32m    261\u001B[0m \u001B[43m    \u001B[49m\u001B[43mamplitude\u001B[49m\u001B[38;5;241;43m=\u001B[39;49m\u001B[43mamplitude\u001B[49m\u001B[43m,\u001B[49m\n\u001B[1;32m    262\u001B[0m \u001B[43m    \u001B[49m\u001B[43mpulse_function\u001B[49m\u001B[38;5;241;43m=\u001B[39;49m\u001B[43mpulse_def\u001B[49m\u001B[38;5;241;43m.\u001B[39;49m\u001B[43mfunction\u001B[49m\u001B[43m,\u001B[49m\n\u001B[1;32m    263\u001B[0m \u001B[43m    \u001B[49m\u001B[43mmodulation_frequency\u001B[49m\u001B[38;5;241;43m=\u001B[39;49m\u001B[43moscillator_frequency\u001B[49m\u001B[43m,\u001B[49m\n\u001B[1;32m    264\u001B[0m \u001B[43m    \u001B[49m\u001B[43msamples\u001B[49m\u001B[38;5;241;43m=\u001B[39;49m\u001B[43msamples\u001B[49m\u001B[43m,\u001B[49m\n\u001B[1;32m    265\u001B[0m \u001B[43m    \u001B[49m\u001B[43mmixer_type\u001B[49m\u001B[38;5;241;43m=\u001B[39;49m\u001B[43msignal_obj\u001B[49m\u001B[38;5;241;43m.\u001B[39;49m\u001B[43mmixer_type\u001B[49m\u001B[43m,\u001B[49m\n\u001B[1;32m    266\u001B[0m \u001B[43m    \u001B[49m\u001B[43mpulse_parameters\u001B[49m\u001B[38;5;241;43m=\u001B[39;49m\u001B[43mpulse_parameters\u001B[49m\u001B[43m,\u001B[49m\n\u001B[1;32m    267\u001B[0m \u001B[43m\u001B[49m\u001B[43m)\u001B[49m\n\u001B[1;32m    269\u001B[0m verify_amplitude_no_clipping(\n\u001B[1;32m    270\u001B[0m     integration_weight,\n\u001B[1;32m    271\u001B[0m     pulse_def\u001B[38;5;241m.\u001B[39muid,\n\u001B[1;32m    272\u001B[0m     signal_obj\u001B[38;5;241m.\u001B[39mmixer_type,\n\u001B[1;32m    273\u001B[0m     signal_obj\u001B[38;5;241m.\u001B[39mid,\n\u001B[1;32m    274\u001B[0m )\n\u001B[1;32m    276\u001B[0m \u001B[38;5;66;03m# 128-bit hash as waveform name\u001B[39;00m\n",
      "File \u001B[0;32m~/Projects/Envs/SydneyQuantum/lib/python3.12/site-packages/laboneq/core/utilities/pulse_sampler.py:130\u001B[0m, in \u001B[0;36msample_pulse\u001B[0;34m(signal_type, sampling_rate, length, amplitude, pulse_function, modulation_frequency, phase, samples, mixer_type, pulse_parameters, markers)\u001B[0m\n\u001B[1;32m    125\u001B[0m     pulse_parameters \u001B[38;5;241m=\u001B[39m {\n\u001B[1;32m    126\u001B[0m         k: v \u001B[38;5;28;01mfor\u001B[39;00m (k, v) \u001B[38;5;129;01min\u001B[39;00m pulse_parameters\u001B[38;5;241m.\u001B[39mitems() \u001B[38;5;28;01mif\u001B[39;00m k \u001B[38;5;241m!=\u001B[39m \u001B[38;5;124m\"\u001B[39m\u001B[38;5;124mamplitude\u001B[39m\u001B[38;5;124m\"\u001B[39m\n\u001B[1;32m    127\u001B[0m     }\n\u001B[1;32m    129\u001B[0m \u001B[38;5;28;01mif\u001B[39;00m pulse_function \u001B[38;5;129;01mis\u001B[39;00m \u001B[38;5;129;01mnot\u001B[39;00m \u001B[38;5;28;01mNone\u001B[39;00m:\n\u001B[0;32m--> 130\u001B[0m     samples \u001B[38;5;241m=\u001B[39m \u001B[43mpulse_function_library\u001B[49m\u001B[43m[\u001B[49m\u001B[43mpulse_function\u001B[49m\u001B[43m]\u001B[49m\u001B[43m(\u001B[49m\n\u001B[1;32m    131\u001B[0m \u001B[43m        \u001B[49m\u001B[43mnp\u001B[49m\u001B[38;5;241;43m.\u001B[39;49m\u001B[43mlinspace\u001B[49m\u001B[43m(\u001B[49m\u001B[38;5;241;43m-\u001B[39;49m\u001B[38;5;241;43m1\u001B[39;49m\u001B[43m,\u001B[49m\u001B[43m \u001B[49m\u001B[38;5;241;43m1\u001B[39;49m\u001B[43m,\u001B[49m\u001B[43m \u001B[49m\u001B[43mnum_samples\u001B[49m\u001B[43m,\u001B[49m\u001B[43m \u001B[49m\u001B[43mendpoint\u001B[49m\u001B[38;5;241;43m=\u001B[39;49m\u001B[38;5;28;43;01mFalse\u001B[39;49;00m\u001B[43m)\u001B[49m\u001B[43m,\u001B[49m\n\u001B[1;32m    132\u001B[0m \u001B[43m        \u001B[49m\u001B[43mlength\u001B[49m\u001B[38;5;241;43m=\u001B[39;49m\u001B[43mlength\u001B[49m\u001B[43m,\u001B[49m\n\u001B[1;32m    133\u001B[0m \u001B[43m        \u001B[49m\u001B[43mamplitude\u001B[49m\u001B[38;5;241;43m=\u001B[39;49m\u001B[43mamplitude\u001B[49m\u001B[43m,\u001B[49m\n\u001B[1;32m    134\u001B[0m \u001B[43m        \u001B[49m\u001B[43msampling_rate\u001B[49m\u001B[38;5;241;43m=\u001B[39;49m\u001B[43msampling_rate\u001B[49m\u001B[43m,\u001B[49m\n\u001B[1;32m    135\u001B[0m \u001B[43m        \u001B[49m\u001B[38;5;241;43m*\u001B[39;49m\u001B[38;5;241;43m*\u001B[39;49m\u001B[43mpulse_parameters\u001B[49m\u001B[43m,\u001B[49m\n\u001B[1;32m    136\u001B[0m \u001B[43m    \u001B[49m\u001B[43m)\u001B[49m\n\u001B[1;32m    137\u001B[0m \u001B[38;5;28;01massert\u001B[39;00m \u001B[38;5;28misinstance\u001B[39m(samples, (\u001B[38;5;28mlist\u001B[39m, np\u001B[38;5;241m.\u001B[39mndarray))\n\u001B[1;32m    138\u001B[0m samples \u001B[38;5;241m=\u001B[39m np\u001B[38;5;241m.\u001B[39marray(samples[:num_samples])\n",
      "File \u001B[0;32m~/Projects/Envs/SydneyQuantum/lib/python3.12/site-packages/laboneq/dsl/experiment/pulse_library.py:171\u001B[0m, in \u001B[0;36mgaussian_square\u001B[0;34m(x, sigma, width, zero_boundaries, **_)\u001B[0m\n\u001B[1;32m    168\u001B[0m length \u001B[38;5;241m=\u001B[39m _[\u001B[38;5;124m\"\u001B[39m\u001B[38;5;124mlength\u001B[39m\u001B[38;5;124m\"\u001B[39m]\n\u001B[1;32m    170\u001B[0m \u001B[38;5;28;01mif\u001B[39;00m width \u001B[38;5;129;01mis\u001B[39;00m \u001B[38;5;129;01mnot\u001B[39;00m \u001B[38;5;28;01mNone\u001B[39;00m \u001B[38;5;129;01mand\u001B[39;00m width \u001B[38;5;241m>\u001B[39m\u001B[38;5;241m=\u001B[39m length:\n\u001B[0;32m--> 171\u001B[0m     \u001B[38;5;28;01mraise\u001B[39;00m \u001B[38;5;167;01mValueError\u001B[39;00m(\n\u001B[1;32m    172\u001B[0m         \u001B[38;5;124m\"\u001B[39m\u001B[38;5;124mThe width of the flat portion of the pulse must be smaller than the total length.\u001B[39m\u001B[38;5;124m\"\u001B[39m\n\u001B[1;32m    173\u001B[0m     )\n\u001B[1;32m    175\u001B[0m \u001B[38;5;28;01mif\u001B[39;00m width \u001B[38;5;129;01mis\u001B[39;00m \u001B[38;5;28;01mNone\u001B[39;00m:\n\u001B[1;32m    176\u001B[0m     width \u001B[38;5;241m=\u001B[39m \u001B[38;5;241m0.9\u001B[39m \u001B[38;5;241m*\u001B[39m length\n",
      "\u001B[0;31mValueError\u001B[0m: The width of the flat portion of the pulse must be smaller than the total length."
     ]
    }
   ],
   "source": [
    "\n",
    "tau_sweep = [LinearSweepParameter(uid=f\"ramsey_tau_sweep_{k}\", start=0, stop=15e-6, count=3) for k in qubits]\n",
    "\n",
    "exp_params_ramsey = exp_params_qubits\n",
    "exp_params_ramsey.update({\n",
    "    \"exp_name\": \"ramsey\",\n",
    "    \"tau_sweep\": tau_sweep,\n",
    "    \"num_averages\": 0,\n",
    "})\n",
    "\n",
    "ramsey_results = ramsey(session, exp_params_ramsey, qudits_params)\n",
    "\n",
    "data = ramsey_results.acquired_results[exp_params_ramsey[\"exp_name\"] + \"_q0\"].data"
   ]
  },
  {
   "cell_type": "markdown",
   "id": "3220a5e0",
   "metadata": {},
   "source": [
    "##### Upload T2 Ramsey"
   ]
  },
  {
   "cell_type": "code",
   "execution_count": 21,
   "id": "2888d58e",
   "metadata": {
    "ExecuteTime": {
     "end_time": "2024-02-22T05:03:43.312318Z",
     "start_time": "2024-02-22T05:03:43.257968Z"
    }
   },
   "outputs": [],
   "source": [
    "qudits_params.update({\n",
    "    \"T2_Ramsey\": [100e-6, 80e-6],\n",
    "})"
   ]
  },
  {
   "cell_type": "markdown",
   "id": "8e5d6dab",
   "metadata": {},
   "source": [
    "####  T2 (Hahn Echo)"
   ]
  },
  {
   "cell_type": "code",
   "execution_count": 22,
   "id": "f06676cf",
   "metadata": {
    "ExecuteTime": {
     "end_time": "2024-02-22T05:03:43.912676Z",
     "start_time": "2024-02-22T05:03:43.633105Z"
    }
   },
   "outputs": [
    {
     "name": "stdout",
     "output_type": "stream",
     "text": [
      "[2024.02.22 16:03:43.632] INFO    Starting LabOne Q Compiler run...\n",
      "[2024.02.22 16:03:43.637] INFO    Schedule completed\n"
     ]
    },
    {
     "ename": "ValueError",
     "evalue": "The width of the flat portion of the pulse must be smaller than the total length.",
     "output_type": "error",
     "traceback": [
      "\u001B[0;31m---------------------------------------------------------------------------\u001B[0m",
      "\u001B[0;31mValueError\u001B[0m                                Traceback (most recent call last)",
      "Cell \u001B[0;32mIn[22], line 10\u001B[0m\n\u001B[1;32m      3\u001B[0m exp_params_echo \u001B[38;5;241m=\u001B[39m exp_params_qubits\n\u001B[1;32m      4\u001B[0m exp_params_echo\u001B[38;5;241m.\u001B[39mupdate({\n\u001B[1;32m      5\u001B[0m     \u001B[38;5;124m\"\u001B[39m\u001B[38;5;124mexp_name\u001B[39m\u001B[38;5;124m\"\u001B[39m: \u001B[38;5;124m\"\u001B[39m\u001B[38;5;124mhahn echo\u001B[39m\u001B[38;5;124m\"\u001B[39m,\n\u001B[1;32m      6\u001B[0m     \u001B[38;5;124m\"\u001B[39m\u001B[38;5;124mtau_sweep\u001B[39m\u001B[38;5;124m\"\u001B[39m: tau_sweep,\n\u001B[1;32m      7\u001B[0m     \u001B[38;5;124m\"\u001B[39m\u001B[38;5;124mnum_averages\u001B[39m\u001B[38;5;124m\"\u001B[39m: \u001B[38;5;241m0\u001B[39m,\n\u001B[1;32m      8\u001B[0m })\n\u001B[0;32m---> 10\u001B[0m echo_results \u001B[38;5;241m=\u001B[39m \u001B[43mhahn_echo\u001B[49m\u001B[43m(\u001B[49m\u001B[43msession\u001B[49m\u001B[43m,\u001B[49m\u001B[43m \u001B[49m\u001B[43mexp_params_echo\u001B[49m\u001B[43m,\u001B[49m\u001B[43m \u001B[49m\u001B[43mqudits_params\u001B[49m\u001B[43m)\u001B[49m\n\u001B[1;32m     12\u001B[0m data \u001B[38;5;241m=\u001B[39m echo_results\u001B[38;5;241m.\u001B[39macquired_results[exp_params_echo[\u001B[38;5;124m\"\u001B[39m\u001B[38;5;124mexp_name\u001B[39m\u001B[38;5;124m\"\u001B[39m] \u001B[38;5;241m+\u001B[39m \u001B[38;5;124m\"\u001B[39m\u001B[38;5;124m_q0\u001B[39m\u001B[38;5;124m\"\u001B[39m]\u001B[38;5;241m.\u001B[39mdata\n",
      "Cell \u001B[0;32mIn[7], line 466\u001B[0m, in \u001B[0;36mhahn_echo\u001B[0;34m(session, exp_params, qudits_params)\u001B[0m\n\u001B[1;32m    457\u001B[0m             \u001B[38;5;28;01mwith\u001B[39;00m exp\u001B[38;5;241m.\u001B[39msection(uid\u001B[38;5;241m=\u001B[39m\u001B[38;5;124m\"\u001B[39m\u001B[38;5;124mreadout_qubit_\u001B[39m\u001B[38;5;124m\"\u001B[39m \u001B[38;5;241m+\u001B[39m qubit, play_after\u001B[38;5;241m=\u001B[39m\u001B[38;5;124m\"\u001B[39m\u001B[38;5;124mqubit_excitation_\u001B[39m\u001B[38;5;124m\"\u001B[39m \u001B[38;5;241m+\u001B[39m ef_str\u001B[38;5;241m+\u001B[39m qubit):\n\u001B[1;32m    458\u001B[0m                 \u001B[38;5;66;03m# play readout pulse on measure line\u001B[39;00m\n\u001B[1;32m    459\u001B[0m                 exp\u001B[38;5;241m.\u001B[39mmeasure(measure_signal\u001B[38;5;241m=\u001B[39m\u001B[38;5;124m\"\u001B[39m\u001B[38;5;124mmeasure_\u001B[39m\u001B[38;5;124m\"\u001B[39m\u001B[38;5;241m+\u001B[39mqubit, \n\u001B[1;32m    460\u001B[0m                             measure_pulse\u001B[38;5;241m=\u001B[39mqudits_params[\u001B[38;5;124m\"\u001B[39m\u001B[38;5;124mro_pulse_data\u001B[39m\u001B[38;5;124m\"\u001B[39m][qubit],\n\u001B[1;32m    461\u001B[0m                             handle\u001B[38;5;241m=\u001B[39mexp_name \u001B[38;5;241m+\u001B[39m \u001B[38;5;124mf\u001B[39m\u001B[38;5;124m\"\u001B[39m\u001B[38;5;124m_\u001B[39m\u001B[38;5;132;01m{\u001B[39;00mqubit\u001B[38;5;132;01m}\u001B[39;00m\u001B[38;5;124m\"\u001B[39m, \n\u001B[0;32m   (...)\u001B[0m\n\u001B[1;32m    464\u001B[0m                             reset_delay \u001B[38;5;241m=\u001B[39m exp_params[\u001B[38;5;124m\"\u001B[39m\u001B[38;5;124mwait_after_int\u001B[39m\u001B[38;5;124m\"\u001B[39m]\n\u001B[1;32m    465\u001B[0m                             )\n\u001B[0;32m--> 466\u001B[0m results \u001B[38;5;241m=\u001B[39m \u001B[43mcompile_run\u001B[49m\u001B[43m(\u001B[49m\u001B[43msession\u001B[49m\u001B[43m,\u001B[49m\u001B[43m \u001B[49m\u001B[43mexp_params\u001B[49m\u001B[43m,\u001B[49m\u001B[43m \u001B[49m\u001B[43mexp\u001B[49m\u001B[43m)\u001B[49m\n\u001B[1;32m    467\u001B[0m \u001B[38;5;28;01mreturn\u001B[39;00m results\n",
      "Cell \u001B[0;32mIn[7], line 80\u001B[0m, in \u001B[0;36mcompile_run\u001B[0;34m(session, exp_params, exp)\u001B[0m\n\u001B[1;32m     77\u001B[0m \u001B[38;5;28;01mif\u001B[39;00m \u001B[38;5;124m\"\u001B[39m\u001B[38;5;124mrb\u001B[39m\u001B[38;5;124m\"\u001B[39m \u001B[38;5;129;01min\u001B[39;00m exp_params[\u001B[38;5;124m\"\u001B[39m\u001B[38;5;124mexp_name\u001B[39m\u001B[38;5;124m\"\u001B[39m]:\n\u001B[1;32m     78\u001B[0m     compiler_settings \u001B[38;5;241m=\u001B[39m {\u001B[38;5;124m\"\u001B[39m\u001B[38;5;124mSHFSG_MIN_PLAYWAVE_HINT\u001B[39m\u001B[38;5;124m\"\u001B[39m: \u001B[38;5;241m256\u001B[39m}\n\u001B[0;32m---> 80\u001B[0m compiled_exp \u001B[38;5;241m=\u001B[39m \u001B[43msession\u001B[49m\u001B[38;5;241;43m.\u001B[39;49m\u001B[43mcompile\u001B[49m\u001B[43m(\u001B[49m\u001B[43mexp\u001B[49m\u001B[43m,\u001B[49m\u001B[43m \u001B[49m\u001B[43mcompiler_settings\u001B[49m\u001B[43m \u001B[49m\u001B[38;5;241;43m=\u001B[39;49m\u001B[43m \u001B[49m\u001B[43mcompiler_settings\u001B[49m\u001B[43m)\u001B[49m\n\u001B[1;32m     81\u001B[0m results \u001B[38;5;241m=\u001B[39m session\u001B[38;5;241m.\u001B[39mrun(compiled_exp)    \n\u001B[1;32m     82\u001B[0m Path(\u001B[38;5;124m\"\u001B[39m\u001B[38;5;124mPulse_Sheets\u001B[39m\u001B[38;5;124m\"\u001B[39m)\u001B[38;5;241m.\u001B[39mmkdir(parents\u001B[38;5;241m=\u001B[39m\u001B[38;5;28;01mTrue\u001B[39;00m, exist_ok\u001B[38;5;241m=\u001B[39m\u001B[38;5;28;01mTrue\u001B[39;00m)\n",
      "File \u001B[0;32m~/Projects/Envs/SydneyQuantum/lib/python3.12/site-packages/laboneq/_observability/tracing/_tracer.py:75\u001B[0m, in \u001B[0;36mtrace.<locals>.outer_wrapper.<locals>.wrapper\u001B[0;34m(*args, **kwargs)\u001B[0m\n\u001B[1;32m     73\u001B[0m             tracing\u001B[38;5;241m.\u001B[39menable_tracing()\n\u001B[1;32m     74\u001B[0m         \u001B[38;5;28;01mreturn\u001B[39;00m res\n\u001B[0;32m---> 75\u001B[0m \u001B[38;5;28;01mreturn\u001B[39;00m \u001B[43mfunc\u001B[49m\u001B[43m(\u001B[49m\u001B[38;5;241;43m*\u001B[39;49m\u001B[43margs\u001B[49m\u001B[43m,\u001B[49m\u001B[43m \u001B[49m\u001B[38;5;241;43m*\u001B[39;49m\u001B[38;5;241;43m*\u001B[39;49m\u001B[43mkwargs\u001B[49m\u001B[43m)\u001B[49m\n",
      "File \u001B[0;32m~/Projects/Envs/SydneyQuantum/lib/python3.12/site-packages/laboneq/dsl/session.py:337\u001B[0m, in \u001B[0;36mSession.compile\u001B[0;34m(self, experiment, compiler_settings)\u001B[0m\n\u001B[1;32m    335\u001B[0m \u001B[38;5;28mself\u001B[39m\u001B[38;5;241m.\u001B[39m_assert_connected(fail\u001B[38;5;241m=\u001B[39m\u001B[38;5;28;01mTrue\u001B[39;00m)\n\u001B[1;32m    336\u001B[0m \u001B[38;5;28mself\u001B[39m\u001B[38;5;241m.\u001B[39m_experiment_definition \u001B[38;5;241m=\u001B[39m experiment\n\u001B[0;32m--> 337\u001B[0m \u001B[38;5;28mself\u001B[39m\u001B[38;5;241m.\u001B[39m_compiled_experiment \u001B[38;5;241m=\u001B[39m \u001B[43mLabOneQFacade\u001B[49m\u001B[38;5;241;43m.\u001B[39;49m\u001B[43mcompile\u001B[49m\u001B[43m(\u001B[49m\n\u001B[1;32m    338\u001B[0m \u001B[43m    \u001B[49m\u001B[38;5;28;43mself\u001B[39;49m\u001B[43m,\u001B[49m\u001B[43m \u001B[49m\u001B[38;5;28;43mself\u001B[39;49m\u001B[38;5;241;43m.\u001B[39;49m\u001B[43mlogger\u001B[49m\u001B[43m,\u001B[49m\u001B[43m \u001B[49m\u001B[43mcompiler_settings\u001B[49m\u001B[38;5;241;43m=\u001B[39;49m\u001B[43mcompiler_settings\u001B[49m\n\u001B[1;32m    339\u001B[0m \u001B[43m\u001B[49m\u001B[43m)\u001B[49m\n\u001B[1;32m    340\u001B[0m \u001B[38;5;28mself\u001B[39m\u001B[38;5;241m.\u001B[39m_last_results \u001B[38;5;241m=\u001B[39m \u001B[38;5;28;01mNone\u001B[39;00m\n\u001B[1;32m    341\u001B[0m \u001B[38;5;28;01mreturn\u001B[39;00m \u001B[38;5;28mself\u001B[39m\u001B[38;5;241m.\u001B[39m_compiled_experiment\n",
      "File \u001B[0;32m~/Projects/Envs/SydneyQuantum/lib/python3.12/site-packages/laboneq/dsl/laboneq_facade.py:71\u001B[0m, in \u001B[0;36mLabOneQFacade.compile\u001B[0;34m(session, logger, compiler_settings)\u001B[0m\n\u001B[1;32m     68\u001B[0m signal_mapping \u001B[38;5;241m=\u001B[39m convert_signal_map(session\u001B[38;5;241m.\u001B[39mexperiment)\n\u001B[1;32m     70\u001B[0m payload_builder \u001B[38;5;241m=\u001B[39m ApplicationManager\u001B[38;5;241m.\u001B[39minstance()\u001B[38;5;241m.\u001B[39mpayload_builder()\n\u001B[0;32m---> 71\u001B[0m payload \u001B[38;5;241m=\u001B[39m \u001B[43mpayload_builder\u001B[49m\u001B[38;5;241;43m.\u001B[39;49m\u001B[43mbuild_payload\u001B[49m\u001B[43m(\u001B[49m\n\u001B[1;32m     72\u001B[0m \u001B[43m    \u001B[49m\u001B[43mnew_setup\u001B[49m\u001B[43m,\u001B[49m\n\u001B[1;32m     73\u001B[0m \u001B[43m    \u001B[49m\u001B[43mnew_experiment\u001B[49m\u001B[43m,\u001B[49m\n\u001B[1;32m     74\u001B[0m \u001B[43m    \u001B[49m\u001B[43msignal_mapping\u001B[49m\u001B[43m,\u001B[49m\n\u001B[1;32m     75\u001B[0m \u001B[43m    \u001B[49m\u001B[43mcompiler_settings\u001B[49m\u001B[43m,\u001B[49m\n\u001B[1;32m     76\u001B[0m \u001B[43m\u001B[49m\u001B[43m)\u001B[49m\n\u001B[1;32m     78\u001B[0m compiled_experiment \u001B[38;5;241m=\u001B[39m CompiledExperiment(\n\u001B[1;32m     79\u001B[0m     device_setup\u001B[38;5;241m=\u001B[39msession\u001B[38;5;241m.\u001B[39mdevice_setup,\n\u001B[1;32m     80\u001B[0m     experiment\u001B[38;5;241m=\u001B[39msession\u001B[38;5;241m.\u001B[39mexperiment,\n\u001B[1;32m     81\u001B[0m     experiment_dict\u001B[38;5;241m=\u001B[39m\u001B[38;5;28;01mNone\u001B[39;00m,  \u001B[38;5;66;03m# deprecated\u001B[39;00m\n\u001B[1;32m     82\u001B[0m     scheduled_experiment\u001B[38;5;241m=\u001B[39mpayload\u001B[38;5;241m.\u001B[39mscheduled_experiment,\n\u001B[1;32m     83\u001B[0m )\n\u001B[1;32m     84\u001B[0m \u001B[38;5;28;01mreturn\u001B[39;00m compiled_experiment\n",
      "File \u001B[0;32m~/Projects/Envs/SydneyQuantum/lib/python3.12/site-packages/laboneq/implementation/payload_builder/payload_builder.py:50\u001B[0m, in \u001B[0;36mPayloadBuilder.build_payload\u001B[0;34m(self, device_setup, experiment, signal_mappings, compiler_settings)\u001B[0m\n\u001B[1;32m     44\u001B[0m     experiment\u001B[38;5;241m.\u001B[39msignals \u001B[38;5;241m=\u001B[39m []\n\u001B[1;32m     46\u001B[0m job \u001B[38;5;241m=\u001B[39m \u001B[38;5;28mself\u001B[39m\u001B[38;5;241m.\u001B[39mcreate_compilation_job(\n\u001B[1;32m     47\u001B[0m     device_setup, experiment, signal_mappings, compiler_settings\n\u001B[1;32m     48\u001B[0m )\n\u001B[0;32m---> 50\u001B[0m job_id \u001B[38;5;241m=\u001B[39m \u001B[38;5;28;43mself\u001B[39;49m\u001B[38;5;241;43m.\u001B[39;49m\u001B[43m_compilation_service\u001B[49m\u001B[38;5;241;43m.\u001B[39;49m\u001B[43msubmit_compilation_job\u001B[49m\u001B[43m(\u001B[49m\u001B[43mjob\u001B[49m\u001B[43m)\u001B[49m\n\u001B[1;32m     52\u001B[0m scheduled_experiment \u001B[38;5;241m=\u001B[39m \u001B[38;5;28mself\u001B[39m\u001B[38;5;241m.\u001B[39m_compilation_service\u001B[38;5;241m.\u001B[39mcompilation_job_result(job_id)\n\u001B[1;32m     54\u001B[0m target_setup \u001B[38;5;241m=\u001B[39m TargetSetupGenerator\u001B[38;5;241m.\u001B[39mfrom_setup(device_setup)\n",
      "File \u001B[0;32m~/Projects/Envs/SydneyQuantum/lib/python3.12/site-packages/laboneq/implementation/compilation_service/compilation_service_legacy.py:29\u001B[0m, in \u001B[0;36mCompilationServiceLegacy.submit_compilation_job\u001B[0;34m(self, job)\u001B[0m\n\u001B[1;32m     27\u001B[0m queue_entry \u001B[38;5;241m=\u001B[39m {\u001B[38;5;124m\"\u001B[39m\u001B[38;5;124mjob_id\u001B[39m\u001B[38;5;124m\"\u001B[39m: job_id, \u001B[38;5;124m\"\u001B[39m\u001B[38;5;124mjob\u001B[39m\u001B[38;5;124m\"\u001B[39m: job}\n\u001B[1;32m     28\u001B[0m compiler \u001B[38;5;241m=\u001B[39m Compiler(job\u001B[38;5;241m.\u001B[39mcompiler_settings)\n\u001B[0;32m---> 29\u001B[0m compiler_output \u001B[38;5;241m=\u001B[39m \u001B[43mcompiler\u001B[49m\u001B[38;5;241;43m.\u001B[39;49m\u001B[43mrun\u001B[49m\u001B[43m(\u001B[49m\u001B[43mjob\u001B[49m\u001B[43m)\u001B[49m\n\u001B[1;32m     31\u001B[0m \u001B[38;5;28mself\u001B[39m\u001B[38;5;241m.\u001B[39m_job_results[job_id] \u001B[38;5;241m=\u001B[39m convert_compiler_output_to_scheduled_experiment(\n\u001B[1;32m     32\u001B[0m     compiler_output\n\u001B[1;32m     33\u001B[0m )\n\u001B[1;32m     35\u001B[0m \u001B[38;5;28mself\u001B[39m\u001B[38;5;241m.\u001B[39m_job_queue\u001B[38;5;241m.\u001B[39mappend(queue_entry)\n",
      "File \u001B[0;32m~/Projects/Envs/SydneyQuantum/lib/python3.12/site-packages/laboneq/_observability/tracing/_tracer.py:75\u001B[0m, in \u001B[0;36mtrace.<locals>.outer_wrapper.<locals>.wrapper\u001B[0;34m(*args, **kwargs)\u001B[0m\n\u001B[1;32m     73\u001B[0m             tracing\u001B[38;5;241m.\u001B[39menable_tracing()\n\u001B[1;32m     74\u001B[0m         \u001B[38;5;28;01mreturn\u001B[39;00m res\n\u001B[0;32m---> 75\u001B[0m \u001B[38;5;28;01mreturn\u001B[39;00m \u001B[43mfunc\u001B[49m\u001B[43m(\u001B[49m\u001B[38;5;241;43m*\u001B[39;49m\u001B[43margs\u001B[49m\u001B[43m,\u001B[49m\u001B[43m \u001B[49m\u001B[38;5;241;43m*\u001B[39;49m\u001B[38;5;241;43m*\u001B[39;49m\u001B[43mkwargs\u001B[49m\u001B[43m)\u001B[49m\n",
      "File \u001B[0;32m~/Projects/Envs/SydneyQuantum/lib/python3.12/site-packages/laboneq/compiler/workflow/compiler.py:1164\u001B[0m, in \u001B[0;36mCompiler.run\u001B[0;34m(self, data)\u001B[0m\n\u001B[1;32m   1162\u001B[0m \u001B[38;5;28mself\u001B[39m\u001B[38;5;241m.\u001B[39muse_experiment(data)\n\u001B[1;32m   1163\u001B[0m \u001B[38;5;28mself\u001B[39m\u001B[38;5;241m.\u001B[39m_analyze_setup()\n\u001B[0;32m-> 1164\u001B[0m \u001B[38;5;28;43mself\u001B[39;49m\u001B[38;5;241;43m.\u001B[39;49m\u001B[43m_process_experiment\u001B[49m\u001B[43m(\u001B[49m\u001B[43m)\u001B[49m\n\u001B[1;32m   1166\u001B[0m \u001B[38;5;28mself\u001B[39m\u001B[38;5;241m.\u001B[39m_generate_recipe()\n\u001B[1;32m   1168\u001B[0m retval \u001B[38;5;241m=\u001B[39m \u001B[38;5;28mself\u001B[39m\u001B[38;5;241m.\u001B[39mcompiler_output()\n",
      "File \u001B[0;32m~/Projects/Envs/SydneyQuantum/lib/python3.12/site-packages/laboneq/compiler/workflow/compiler.py:269\u001B[0m, in \u001B[0;36mCompiler._process_experiment\u001B[0;34m(self)\u001B[0m\n\u001B[1;32m    262\u001B[0m rt_compiler \u001B[38;5;241m=\u001B[39m RealtimeCompiler(\n\u001B[1;32m    263\u001B[0m     \u001B[38;5;28mself\u001B[39m\u001B[38;5;241m.\u001B[39m_experiment_dao,\n\u001B[1;32m    264\u001B[0m     \u001B[38;5;28mself\u001B[39m\u001B[38;5;241m.\u001B[39m_sampling_rate_tracker,\n\u001B[1;32m    265\u001B[0m     \u001B[38;5;28mself\u001B[39m\u001B[38;5;241m.\u001B[39m_signal_objects,\n\u001B[1;32m    266\u001B[0m     \u001B[38;5;28mself\u001B[39m\u001B[38;5;241m.\u001B[39m_settings,\n\u001B[1;32m    267\u001B[0m )\n\u001B[1;32m    268\u001B[0m executor \u001B[38;5;241m=\u001B[39m NtCompilerExecutor(rt_compiler, \u001B[38;5;28mself\u001B[39m\u001B[38;5;241m.\u001B[39m_settings)\n\u001B[0;32m--> 269\u001B[0m \u001B[43mexecutor\u001B[49m\u001B[38;5;241;43m.\u001B[39;49m\u001B[43mrun\u001B[49m\u001B[43m(\u001B[49m\u001B[38;5;28;43mself\u001B[39;49m\u001B[38;5;241;43m.\u001B[39;49m\u001B[43m_execution\u001B[49m\u001B[43m)\u001B[49m\n\u001B[1;32m    270\u001B[0m \u001B[38;5;28mself\u001B[39m\u001B[38;5;241m.\u001B[39m_combined_compiler_output \u001B[38;5;241m=\u001B[39m executor\u001B[38;5;241m.\u001B[39mcombined_compiler_output()\n\u001B[1;32m    271\u001B[0m \u001B[38;5;28;01mif\u001B[39;00m \u001B[38;5;28mself\u001B[39m\u001B[38;5;241m.\u001B[39m_combined_compiler_output \u001B[38;5;129;01mis\u001B[39;00m \u001B[38;5;28;01mNone\u001B[39;00m:\n\u001B[1;32m    272\u001B[0m     \u001B[38;5;66;03m# Some of our tests do not have an RT averaging loop, so the RT compiler will\u001B[39;00m\n\u001B[1;32m    273\u001B[0m     \u001B[38;5;66;03m# not have been run. For backwards compatibility, we still run it once.\u001B[39;00m\n",
      "File \u001B[0;32m~/Projects/Envs/SydneyQuantum/lib/python3.12/site-packages/laboneq/executor/executor.py:479\u001B[0m, in \u001B[0;36mExecutorBase.run\u001B[0;34m(self, root_sequence)\u001B[0m\n\u001B[1;32m    477\u001B[0m scope \u001B[38;5;241m=\u001B[39m ExecutionScope(\u001B[38;5;28;01mNone\u001B[39;00m, \u001B[38;5;28mself\u001B[39m)\n\u001B[1;32m    478\u001B[0m \u001B[38;5;28;01mfor\u001B[39;00m notification \u001B[38;5;129;01min\u001B[39;00m root_sequence\u001B[38;5;241m.\u001B[39mrun(scope):\n\u001B[0;32m--> 479\u001B[0m     \u001B[38;5;28;43mself\u001B[39;49m\u001B[38;5;241;43m.\u001B[39;49m\u001B[43m_handlers_map\u001B[49m\u001B[43m[\u001B[49m\u001B[43mnotification\u001B[49m\u001B[38;5;241;43m.\u001B[39;49m\u001B[43mstatement_type\u001B[49m\u001B[43m]\u001B[49m\u001B[43m(\u001B[49m\u001B[38;5;241;43m*\u001B[39;49m\u001B[38;5;241;43m*\u001B[39;49m\u001B[43mnotification\u001B[49m\u001B[38;5;241;43m.\u001B[39;49m\u001B[43margs\u001B[49m\u001B[43m)\u001B[49m\n",
      "File \u001B[0;32m~/Projects/Envs/SydneyQuantum/lib/python3.12/site-packages/laboneq/compiler/workflow/neartime_execution.py:155\u001B[0m, in \u001B[0;36mNtCompilerExecutor.rt_entry_handler\u001B[0;34m(self, count, uid, averaging_mode, acquisition_type)\u001B[0m\n\u001B[1;32m    153\u001B[0m parameter_store \u001B[38;5;241m=\u001B[39m ParameterStore(\u001B[38;5;28mself\u001B[39m\u001B[38;5;241m.\u001B[39m_iteration_stack\u001B[38;5;241m.\u001B[39mnt_parameter_values())\n\u001B[1;32m    154\u001B[0m tracker \u001B[38;5;241m=\u001B[39m parameter_store\u001B[38;5;241m.\u001B[39mcreate_tracker()\n\u001B[0;32m--> 155\u001B[0m new_compiler_output \u001B[38;5;241m=\u001B[39m \u001B[38;5;28;43mself\u001B[39;49m\u001B[38;5;241;43m.\u001B[39;49m\u001B[43m_rt_compiler\u001B[49m\u001B[38;5;241;43m.\u001B[39;49m\u001B[43mrun\u001B[49m\u001B[43m(\u001B[49m\u001B[43mparameter_store\u001B[49m\u001B[43m)\u001B[49m\n\u001B[1;32m    157\u001B[0m \u001B[38;5;28;01mif\u001B[39;00m \u001B[38;5;28mself\u001B[39m\u001B[38;5;241m.\u001B[39m_required_parameters \u001B[38;5;129;01mis\u001B[39;00m \u001B[38;5;28;01mNone\u001B[39;00m:\n\u001B[1;32m    158\u001B[0m     \u001B[38;5;28mself\u001B[39m\u001B[38;5;241m.\u001B[39m_required_parameters \u001B[38;5;241m=\u001B[39m tracker\u001B[38;5;241m.\u001B[39mqueries()\n",
      "File \u001B[0;32m~/Projects/Envs/SydneyQuantum/lib/python3.12/site-packages/laboneq/compiler/workflow/realtime_compiler.py:110\u001B[0m, in \u001B[0;36mRealtimeCompiler.run\u001B[0;34m(self, near_time_parameters)\u001B[0m\n\u001B[1;32m    107\u001B[0m \u001B[38;5;28mself\u001B[39m\u001B[38;5;241m.\u001B[39m_scheduler\u001B[38;5;241m.\u001B[39mrun(near_time_parameters)\n\u001B[1;32m    108\u001B[0m schedule \u001B[38;5;241m=\u001B[39m \u001B[38;5;28mself\u001B[39m\u001B[38;5;241m.\u001B[39mprepare_schedule() \u001B[38;5;28;01mif\u001B[39;00m \u001B[38;5;28mself\u001B[39m\u001B[38;5;241m.\u001B[39m_settings\u001B[38;5;241m.\u001B[39mOUTPUT_EXTRAS \u001B[38;5;28;01melse\u001B[39;00m \u001B[38;5;28;01mNone\u001B[39;00m\n\u001B[0;32m--> 110\u001B[0m \u001B[38;5;28;43mself\u001B[39;49m\u001B[38;5;241;43m.\u001B[39;49m\u001B[43m_generate_code\u001B[49m\u001B[43m(\u001B[49m\u001B[43m)\u001B[49m\n\u001B[1;32m    112\u001B[0m outputs \u001B[38;5;241m=\u001B[39m {\n\u001B[1;32m    113\u001B[0m     device_class: code_generator\u001B[38;5;241m.\u001B[39mget_output()\n\u001B[1;32m    114\u001B[0m     \u001B[38;5;28;01mfor\u001B[39;00m device_class, code_generator \u001B[38;5;129;01min\u001B[39;00m \u001B[38;5;28mself\u001B[39m\u001B[38;5;241m.\u001B[39m_code_generators\u001B[38;5;241m.\u001B[39mitems()\n\u001B[1;32m    115\u001B[0m }\n\u001B[1;32m    117\u001B[0m compiler_output \u001B[38;5;241m=\u001B[39m RTCompilerOutputContainer(\n\u001B[1;32m    118\u001B[0m     codegen_output\u001B[38;5;241m=\u001B[39moutputs, schedule\u001B[38;5;241m=\u001B[39mschedule\n\u001B[1;32m    119\u001B[0m )\n",
      "File \u001B[0;32m~/Projects/Envs/SydneyQuantum/lib/python3.12/site-packages/laboneq/_observability/tracing/_tracer.py:75\u001B[0m, in \u001B[0;36mtrace.<locals>.outer_wrapper.<locals>.wrapper\u001B[0;34m(*args, **kwargs)\u001B[0m\n\u001B[1;32m     73\u001B[0m             tracing\u001B[38;5;241m.\u001B[39menable_tracing()\n\u001B[1;32m     74\u001B[0m         \u001B[38;5;28;01mreturn\u001B[39;00m res\n\u001B[0;32m---> 75\u001B[0m \u001B[38;5;28;01mreturn\u001B[39;00m \u001B[43mfunc\u001B[49m\u001B[43m(\u001B[49m\u001B[38;5;241;43m*\u001B[39;49m\u001B[43margs\u001B[49m\u001B[43m,\u001B[49m\u001B[43m \u001B[49m\u001B[38;5;241;43m*\u001B[39;49m\u001B[38;5;241;43m*\u001B[39;49m\u001B[43mkwargs\u001B[49m\u001B[43m)\u001B[49m\n",
      "File \u001B[0;32m~/Projects/Envs/SydneyQuantum/lib/python3.12/site-packages/laboneq/compiler/workflow/realtime_compiler.py:101\u001B[0m, in \u001B[0;36mRealtimeCompiler._generate_code\u001B[0;34m(self)\u001B[0m\n\u001B[1;32m     98\u001B[0m \u001B[38;5;28;01mif\u001B[39;00m \u001B[38;5;28mself\u001B[39m\u001B[38;5;241m.\u001B[39m_settings\u001B[38;5;241m.\u001B[39mFORCE_IR_ROUNDTRIP:\n\u001B[1;32m     99\u001B[0m     ir\u001B[38;5;241m.\u001B[39mround_trip()\n\u001B[0;32m--> 101\u001B[0m \u001B[38;5;28;43mself\u001B[39;49m\u001B[38;5;241;43m.\u001B[39;49m\u001B[43m_lower_ir_to_code\u001B[49m\u001B[43m(\u001B[49m\u001B[43mir\u001B[49m\u001B[43m)\u001B[49m\n\u001B[1;32m    102\u001B[0m _logger\u001B[38;5;241m.\u001B[39mdebug(\u001B[38;5;124m\"\u001B[39m\u001B[38;5;124mlowering IR to code complete\u001B[39m\u001B[38;5;124m\"\u001B[39m)\n",
      "File \u001B[0;32m~/Projects/Envs/SydneyQuantum/lib/python3.12/site-packages/laboneq/compiler/workflow/realtime_compiler.py:81\u001B[0m, in \u001B[0;36mRealtimeCompiler._lower_ir_to_code\u001B[0;34m(self, ir)\u001B[0m\n\u001B[1;32m     77\u001B[0m \u001B[38;5;28;01mfor\u001B[39;00m device_class \u001B[38;5;129;01min\u001B[39;00m device_classes:\n\u001B[1;32m     78\u001B[0m     \u001B[38;5;28mself\u001B[39m\u001B[38;5;241m.\u001B[39m_code_generators[device_class] \u001B[38;5;241m=\u001B[39m \u001B[38;5;28mself\u001B[39m\u001B[38;5;241m.\u001B[39m_registered_codegens[\n\u001B[1;32m     79\u001B[0m         device_class\n\u001B[1;32m     80\u001B[0m     ](ir, settings\u001B[38;5;241m=\u001B[39m\u001B[38;5;28mself\u001B[39m\u001B[38;5;241m.\u001B[39m_settings)\n\u001B[0;32m---> 81\u001B[0m     \u001B[38;5;28;43mself\u001B[39;49m\u001B[38;5;241;43m.\u001B[39;49m\u001B[43m_code_generators\u001B[49m\u001B[43m[\u001B[49m\u001B[43mdevice_class\u001B[49m\u001B[43m]\u001B[49m\u001B[38;5;241;43m.\u001B[39;49m\u001B[43mgenerate_code\u001B[49m\u001B[43m(\u001B[49m\n\u001B[1;32m     82\u001B[0m \u001B[43m        \u001B[49m\u001B[43m[\u001B[49m\n\u001B[1;32m     83\u001B[0m \u001B[43m            \u001B[49m\u001B[43ms\u001B[49m\n\u001B[1;32m     84\u001B[0m \u001B[43m            \u001B[49m\u001B[38;5;28;43;01mfor\u001B[39;49;00m\u001B[43m \u001B[49m\u001B[43ms\u001B[49m\u001B[43m \u001B[49m\u001B[38;5;129;43;01min\u001B[39;49;00m\u001B[43m \u001B[49m\u001B[38;5;28;43mself\u001B[39;49m\u001B[38;5;241;43m.\u001B[39;49m\u001B[43m_signal_objects\u001B[49m\u001B[38;5;241;43m.\u001B[39;49m\u001B[43mvalues\u001B[49m\u001B[43m(\u001B[49m\u001B[43m)\u001B[49m\n\u001B[1;32m     85\u001B[0m \u001B[43m            \u001B[49m\u001B[38;5;28;43;01mif\u001B[39;49;00m\u001B[43m \u001B[49m\u001B[43ms\u001B[49m\u001B[38;5;241;43m.\u001B[39;49m\u001B[43mawg\u001B[49m\u001B[38;5;241;43m.\u001B[39;49m\u001B[43mdevice_class\u001B[49m\u001B[43m \u001B[49m\u001B[38;5;241;43m==\u001B[39;49m\u001B[43m \u001B[49m\u001B[43mdevice_class\u001B[49m\n\u001B[1;32m     86\u001B[0m \u001B[43m        \u001B[49m\u001B[43m]\u001B[49m\n\u001B[1;32m     87\u001B[0m \u001B[43m    \u001B[49m\u001B[43m)\u001B[49m\n\u001B[1;32m     89\u001B[0m _logger\u001B[38;5;241m.\u001B[39mdebug(\u001B[38;5;124m\"\u001B[39m\u001B[38;5;124mCode generation completed\u001B[39m\u001B[38;5;124m\"\u001B[39m)\n",
      "File \u001B[0;32m~/Projects/Envs/SydneyQuantum/lib/python3.12/site-packages/laboneq/compiler/code_generator/code_generator.py:355\u001B[0m, in \u001B[0;36mCodeGenerator.generate_code\u001B[0;34m(self, signal_objs)\u001B[0m\n\u001B[1;32m    353\u001B[0m     \u001B[38;5;28mself\u001B[39m\u001B[38;5;241m.\u001B[39madd_signal(signal_obj)\n\u001B[1;32m    354\u001B[0m \u001B[38;5;28mself\u001B[39m\u001B[38;5;241m.\u001B[39mgen_acquire_map(event_list)\n\u001B[0;32m--> 355\u001B[0m \u001B[38;5;28;43mself\u001B[39;49m\u001B[38;5;241;43m.\u001B[39;49m\u001B[43mgen_seq_c\u001B[49m\u001B[43m(\u001B[49m\n\u001B[1;32m    356\u001B[0m \u001B[43m    \u001B[49m\u001B[43mevent_list\u001B[49m\u001B[43m,\u001B[49m\n\u001B[1;32m    357\u001B[0m \u001B[43m    \u001B[49m\u001B[43m{\u001B[49m\u001B[43mp\u001B[49m\u001B[38;5;241;43m.\u001B[39;49m\u001B[43muid\u001B[49m\u001B[43m:\u001B[49m\u001B[43m \u001B[49m\u001B[43mp\u001B[49m\u001B[43m \u001B[49m\u001B[38;5;28;43;01mfor\u001B[39;49;00m\u001B[43m \u001B[49m\u001B[43mp\u001B[49m\u001B[43m \u001B[49m\u001B[38;5;129;43;01min\u001B[39;49;00m\u001B[43m \u001B[49m\u001B[38;5;28;43mself\u001B[39;49m\u001B[38;5;241;43m.\u001B[39;49m\u001B[43m_ir\u001B[49m\u001B[38;5;241;43m.\u001B[39;49m\u001B[43mpulse_defs\u001B[49m\u001B[43m}\u001B[49m\u001B[43m,\u001B[49m\n\u001B[1;32m    358\u001B[0m \u001B[43m\u001B[49m\u001B[43m)\u001B[49m\n\u001B[1;32m    359\u001B[0m \u001B[38;5;28mself\u001B[39m\u001B[38;5;241m.\u001B[39mgen_waves()\n",
      "File \u001B[0;32m~/Projects/Envs/SydneyQuantum/lib/python3.12/site-packages/laboneq/compiler/code_generator/code_generator.py:718\u001B[0m, in \u001B[0;36mCodeGenerator.gen_seq_c\u001B[0;34m(self, events, pulse_defs)\u001B[0m\n\u001B[1;32m    710\u001B[0m \u001B[38;5;28mself\u001B[39m\u001B[38;5;241m.\u001B[39m_feedback_register_allocator \u001B[38;5;241m=\u001B[39m FeedbackRegisterAllocator(\n\u001B[1;32m    711\u001B[0m     \u001B[38;5;28mself\u001B[39m\u001B[38;5;241m.\u001B[39m_signals, events\n\u001B[1;32m    712\u001B[0m )\n\u001B[1;32m    714\u001B[0m \u001B[38;5;28;01mfor\u001B[39;00m _, awg \u001B[38;5;129;01min\u001B[39;00m \u001B[38;5;28msorted\u001B[39m(\n\u001B[1;32m    715\u001B[0m     \u001B[38;5;28mself\u001B[39m\u001B[38;5;241m.\u001B[39m_awgs\u001B[38;5;241m.\u001B[39mitems(),\n\u001B[1;32m    716\u001B[0m     key\u001B[38;5;241m=\u001B[39m\u001B[38;5;28;01mlambda\u001B[39;00m item: item[\u001B[38;5;241m0\u001B[39m]\u001B[38;5;241m.\u001B[39mdevice_id \u001B[38;5;241m+\u001B[39m \u001B[38;5;28mstr\u001B[39m(item[\u001B[38;5;241m0\u001B[39m]\u001B[38;5;241m.\u001B[39mawg_number),\n\u001B[1;32m    717\u001B[0m ):\n\u001B[0;32m--> 718\u001B[0m     \u001B[38;5;28;43mself\u001B[39;49m\u001B[38;5;241;43m.\u001B[39;49m\u001B[43m_gen_seq_c_per_awg\u001B[49m\u001B[43m(\u001B[49m\u001B[43mawg\u001B[49m\u001B[43m,\u001B[49m\u001B[43m \u001B[49m\u001B[43mevents\u001B[49m\u001B[43m,\u001B[49m\u001B[43m \u001B[49m\u001B[43mpulse_defs\u001B[49m\u001B[43m)\u001B[49m\n\u001B[1;32m    720\u001B[0m tgt_feedback_regs \u001B[38;5;241m=\u001B[39m \u001B[38;5;28mself\u001B[39m\u001B[38;5;241m.\u001B[39m_feedback_register_allocator\u001B[38;5;241m.\u001B[39mtarget_feedback_registers\n\u001B[1;32m    721\u001B[0m \u001B[38;5;28;01mfor\u001B[39;00m awg, target_fb_register \u001B[38;5;129;01min\u001B[39;00m tgt_feedback_regs\u001B[38;5;241m.\u001B[39mitems():\n",
      "File \u001B[0;32m~/Projects/Envs/SydneyQuantum/lib/python3.12/site-packages/laboneq/compiler/code_generator/code_generator.py:1136\u001B[0m, in \u001B[0;36mCodeGenerator._gen_seq_c_per_awg\u001B[0;34m(self, awg, events, pulse_defs)\u001B[0m\n\u001B[1;32m   1128\u001B[0m         \u001B[38;5;28;01massert\u001B[39;00m \u001B[38;5;28mself\u001B[39m\u001B[38;5;241m.\u001B[39m_integration_weights \u001B[38;5;129;01mis\u001B[39;00m \u001B[38;5;129;01mnot\u001B[39;00m \u001B[38;5;28;01mNone\u001B[39;00m\n\u001B[1;32m   1129\u001B[0m         _logger\u001B[38;5;241m.\u001B[39mdebug(\n\u001B[1;32m   1130\u001B[0m             \u001B[38;5;124m\"\u001B[39m\u001B[38;5;124mCalculating integration weights for signal \u001B[39m\u001B[38;5;132;01m%s\u001B[39;00m\u001B[38;5;124m. There are \u001B[39m\u001B[38;5;132;01m%d\u001B[39;00m\u001B[38;5;124m acquire events.\u001B[39m\u001B[38;5;124m\"\u001B[39m,\n\u001B[1;32m   1131\u001B[0m             signal_obj\u001B[38;5;241m.\u001B[39mid,\n\u001B[1;32m   1132\u001B[0m             \u001B[38;5;28mlen\u001B[39m(acquire_events\u001B[38;5;241m.\u001B[39msequence),\n\u001B[1;32m   1133\u001B[0m         )\n\u001B[1;32m   1134\u001B[0m         \u001B[38;5;28mself\u001B[39m\u001B[38;5;241m.\u001B[39m_integration_weights\u001B[38;5;241m.\u001B[39msetdefault(awg\u001B[38;5;241m.\u001B[39mkey, {})[\n\u001B[1;32m   1135\u001B[0m             signal_obj\u001B[38;5;241m.\u001B[39mid\n\u001B[0;32m-> 1136\u001B[0m         ] \u001B[38;5;241m=\u001B[39m \u001B[43mcalculate_integration_weights\u001B[49m\u001B[43m(\u001B[49m\n\u001B[1;32m   1137\u001B[0m \u001B[43m            \u001B[49m\u001B[43macquire_events\u001B[49m\u001B[43m,\u001B[49m\u001B[43m \u001B[49m\u001B[43msignal_obj\u001B[49m\u001B[43m,\u001B[49m\u001B[43m \u001B[49m\u001B[43mpulse_defs\u001B[49m\n\u001B[1;32m   1138\u001B[0m \u001B[43m        \u001B[49m\u001B[43m)\u001B[49m\n\u001B[1;32m   1140\u001B[0m     sampled_events\u001B[38;5;241m.\u001B[39mmerge(acquire_events)\n\u001B[1;32m   1142\u001B[0m \u001B[38;5;28;01mif\u001B[39;00m awg\u001B[38;5;241m.\u001B[39msignal_type \u001B[38;5;241m==\u001B[39m AWGSignalType\u001B[38;5;241m.\u001B[39mMULTI:\n",
      "File \u001B[0;32m~/Projects/Envs/SydneyQuantum/lib/python3.12/site-packages/laboneq/compiler/code_generator/code_generator.py:257\u001B[0m, in \u001B[0;36mcalculate_integration_weights\u001B[0;34m(acquire_events, signal_obj, pulse_defs)\u001B[0m\n\u001B[1;32m    255\u001B[0m pulse_parameters \u001B[38;5;241m=\u001B[39m combine_pulse_parameters(pulse_par, \u001B[38;5;28;01mNone\u001B[39;00m, play_par)\n\u001B[1;32m    256\u001B[0m pulse_parameters \u001B[38;5;241m=\u001B[39m decode_pulse_parameters(pulse_parameters)\n\u001B[0;32m--> 257\u001B[0m integration_weight \u001B[38;5;241m=\u001B[39m \u001B[43msample_pulse\u001B[49m\u001B[43m(\u001B[49m\n\u001B[1;32m    258\u001B[0m \u001B[43m    \u001B[49m\u001B[43msignal_type\u001B[49m\u001B[38;5;241;43m=\u001B[39;49m\u001B[38;5;124;43m\"\u001B[39;49m\u001B[38;5;124;43miq\u001B[39;49m\u001B[38;5;124;43m\"\u001B[39;49m\u001B[43m,\u001B[49m\n\u001B[1;32m    259\u001B[0m \u001B[43m    \u001B[49m\u001B[43msampling_rate\u001B[49m\u001B[38;5;241;43m=\u001B[39;49m\u001B[43msignal_obj\u001B[49m\u001B[38;5;241;43m.\u001B[39;49m\u001B[43mawg\u001B[49m\u001B[38;5;241;43m.\u001B[39;49m\u001B[43msampling_rate\u001B[49m\u001B[43m,\u001B[49m\n\u001B[1;32m    260\u001B[0m \u001B[43m    \u001B[49m\u001B[43mlength\u001B[49m\u001B[38;5;241;43m=\u001B[39;49m\u001B[43mlength\u001B[49m\u001B[43m,\u001B[49m\n\u001B[1;32m    261\u001B[0m \u001B[43m    \u001B[49m\u001B[43mamplitude\u001B[49m\u001B[38;5;241;43m=\u001B[39;49m\u001B[43mamplitude\u001B[49m\u001B[43m,\u001B[49m\n\u001B[1;32m    262\u001B[0m \u001B[43m    \u001B[49m\u001B[43mpulse_function\u001B[49m\u001B[38;5;241;43m=\u001B[39;49m\u001B[43mpulse_def\u001B[49m\u001B[38;5;241;43m.\u001B[39;49m\u001B[43mfunction\u001B[49m\u001B[43m,\u001B[49m\n\u001B[1;32m    263\u001B[0m \u001B[43m    \u001B[49m\u001B[43mmodulation_frequency\u001B[49m\u001B[38;5;241;43m=\u001B[39;49m\u001B[43moscillator_frequency\u001B[49m\u001B[43m,\u001B[49m\n\u001B[1;32m    264\u001B[0m \u001B[43m    \u001B[49m\u001B[43msamples\u001B[49m\u001B[38;5;241;43m=\u001B[39;49m\u001B[43msamples\u001B[49m\u001B[43m,\u001B[49m\n\u001B[1;32m    265\u001B[0m \u001B[43m    \u001B[49m\u001B[43mmixer_type\u001B[49m\u001B[38;5;241;43m=\u001B[39;49m\u001B[43msignal_obj\u001B[49m\u001B[38;5;241;43m.\u001B[39;49m\u001B[43mmixer_type\u001B[49m\u001B[43m,\u001B[49m\n\u001B[1;32m    266\u001B[0m \u001B[43m    \u001B[49m\u001B[43mpulse_parameters\u001B[49m\u001B[38;5;241;43m=\u001B[39;49m\u001B[43mpulse_parameters\u001B[49m\u001B[43m,\u001B[49m\n\u001B[1;32m    267\u001B[0m \u001B[43m\u001B[49m\u001B[43m)\u001B[49m\n\u001B[1;32m    269\u001B[0m verify_amplitude_no_clipping(\n\u001B[1;32m    270\u001B[0m     integration_weight,\n\u001B[1;32m    271\u001B[0m     pulse_def\u001B[38;5;241m.\u001B[39muid,\n\u001B[1;32m    272\u001B[0m     signal_obj\u001B[38;5;241m.\u001B[39mmixer_type,\n\u001B[1;32m    273\u001B[0m     signal_obj\u001B[38;5;241m.\u001B[39mid,\n\u001B[1;32m    274\u001B[0m )\n\u001B[1;32m    276\u001B[0m \u001B[38;5;66;03m# 128-bit hash as waveform name\u001B[39;00m\n",
      "File \u001B[0;32m~/Projects/Envs/SydneyQuantum/lib/python3.12/site-packages/laboneq/core/utilities/pulse_sampler.py:130\u001B[0m, in \u001B[0;36msample_pulse\u001B[0;34m(signal_type, sampling_rate, length, amplitude, pulse_function, modulation_frequency, phase, samples, mixer_type, pulse_parameters, markers)\u001B[0m\n\u001B[1;32m    125\u001B[0m     pulse_parameters \u001B[38;5;241m=\u001B[39m {\n\u001B[1;32m    126\u001B[0m         k: v \u001B[38;5;28;01mfor\u001B[39;00m (k, v) \u001B[38;5;129;01min\u001B[39;00m pulse_parameters\u001B[38;5;241m.\u001B[39mitems() \u001B[38;5;28;01mif\u001B[39;00m k \u001B[38;5;241m!=\u001B[39m \u001B[38;5;124m\"\u001B[39m\u001B[38;5;124mamplitude\u001B[39m\u001B[38;5;124m\"\u001B[39m\n\u001B[1;32m    127\u001B[0m     }\n\u001B[1;32m    129\u001B[0m \u001B[38;5;28;01mif\u001B[39;00m pulse_function \u001B[38;5;129;01mis\u001B[39;00m \u001B[38;5;129;01mnot\u001B[39;00m \u001B[38;5;28;01mNone\u001B[39;00m:\n\u001B[0;32m--> 130\u001B[0m     samples \u001B[38;5;241m=\u001B[39m \u001B[43mpulse_function_library\u001B[49m\u001B[43m[\u001B[49m\u001B[43mpulse_function\u001B[49m\u001B[43m]\u001B[49m\u001B[43m(\u001B[49m\n\u001B[1;32m    131\u001B[0m \u001B[43m        \u001B[49m\u001B[43mnp\u001B[49m\u001B[38;5;241;43m.\u001B[39;49m\u001B[43mlinspace\u001B[49m\u001B[43m(\u001B[49m\u001B[38;5;241;43m-\u001B[39;49m\u001B[38;5;241;43m1\u001B[39;49m\u001B[43m,\u001B[49m\u001B[43m \u001B[49m\u001B[38;5;241;43m1\u001B[39;49m\u001B[43m,\u001B[49m\u001B[43m \u001B[49m\u001B[43mnum_samples\u001B[49m\u001B[43m,\u001B[49m\u001B[43m \u001B[49m\u001B[43mendpoint\u001B[49m\u001B[38;5;241;43m=\u001B[39;49m\u001B[38;5;28;43;01mFalse\u001B[39;49;00m\u001B[43m)\u001B[49m\u001B[43m,\u001B[49m\n\u001B[1;32m    132\u001B[0m \u001B[43m        \u001B[49m\u001B[43mlength\u001B[49m\u001B[38;5;241;43m=\u001B[39;49m\u001B[43mlength\u001B[49m\u001B[43m,\u001B[49m\n\u001B[1;32m    133\u001B[0m \u001B[43m        \u001B[49m\u001B[43mamplitude\u001B[49m\u001B[38;5;241;43m=\u001B[39;49m\u001B[43mamplitude\u001B[49m\u001B[43m,\u001B[49m\n\u001B[1;32m    134\u001B[0m \u001B[43m        \u001B[49m\u001B[43msampling_rate\u001B[49m\u001B[38;5;241;43m=\u001B[39;49m\u001B[43msampling_rate\u001B[49m\u001B[43m,\u001B[49m\n\u001B[1;32m    135\u001B[0m \u001B[43m        \u001B[49m\u001B[38;5;241;43m*\u001B[39;49m\u001B[38;5;241;43m*\u001B[39;49m\u001B[43mpulse_parameters\u001B[49m\u001B[43m,\u001B[49m\n\u001B[1;32m    136\u001B[0m \u001B[43m    \u001B[49m\u001B[43m)\u001B[49m\n\u001B[1;32m    137\u001B[0m \u001B[38;5;28;01massert\u001B[39;00m \u001B[38;5;28misinstance\u001B[39m(samples, (\u001B[38;5;28mlist\u001B[39m, np\u001B[38;5;241m.\u001B[39mndarray))\n\u001B[1;32m    138\u001B[0m samples \u001B[38;5;241m=\u001B[39m np\u001B[38;5;241m.\u001B[39marray(samples[:num_samples])\n",
      "File \u001B[0;32m~/Projects/Envs/SydneyQuantum/lib/python3.12/site-packages/laboneq/dsl/experiment/pulse_library.py:171\u001B[0m, in \u001B[0;36mgaussian_square\u001B[0;34m(x, sigma, width, zero_boundaries, **_)\u001B[0m\n\u001B[1;32m    168\u001B[0m length \u001B[38;5;241m=\u001B[39m _[\u001B[38;5;124m\"\u001B[39m\u001B[38;5;124mlength\u001B[39m\u001B[38;5;124m\"\u001B[39m]\n\u001B[1;32m    170\u001B[0m \u001B[38;5;28;01mif\u001B[39;00m width \u001B[38;5;129;01mis\u001B[39;00m \u001B[38;5;129;01mnot\u001B[39;00m \u001B[38;5;28;01mNone\u001B[39;00m \u001B[38;5;129;01mand\u001B[39;00m width \u001B[38;5;241m>\u001B[39m\u001B[38;5;241m=\u001B[39m length:\n\u001B[0;32m--> 171\u001B[0m     \u001B[38;5;28;01mraise\u001B[39;00m \u001B[38;5;167;01mValueError\u001B[39;00m(\n\u001B[1;32m    172\u001B[0m         \u001B[38;5;124m\"\u001B[39m\u001B[38;5;124mThe width of the flat portion of the pulse must be smaller than the total length.\u001B[39m\u001B[38;5;124m\"\u001B[39m\n\u001B[1;32m    173\u001B[0m     )\n\u001B[1;32m    175\u001B[0m \u001B[38;5;28;01mif\u001B[39;00m width \u001B[38;5;129;01mis\u001B[39;00m \u001B[38;5;28;01mNone\u001B[39;00m:\n\u001B[1;32m    176\u001B[0m     width \u001B[38;5;241m=\u001B[39m \u001B[38;5;241m0.9\u001B[39m \u001B[38;5;241m*\u001B[39m length\n",
      "\u001B[0;31mValueError\u001B[0m: The width of the flat portion of the pulse must be smaller than the total length."
     ]
    }
   ],
   "source": [
    "\n",
    "tau_sweep = [LinearSweepParameter(uid=f\"echo_tau_sweep_{k}\", start=0, stop=15e-6, count=3) for k in qubits]\n",
    "\n",
    "exp_params_echo = exp_params_qubits\n",
    "exp_params_echo.update({\n",
    "    \"exp_name\": \"hahn echo\",\n",
    "    \"tau_sweep\": tau_sweep,\n",
    "    \"num_averages\": 0,\n",
    "})\n",
    "\n",
    "echo_results = hahn_echo(session, exp_params_echo, qudits_params)\n",
    "\n",
    "data = echo_results.acquired_results[exp_params_echo[\"exp_name\"] + \"_q0\"].data"
   ]
  },
  {
   "cell_type": "code",
   "execution_count": null,
   "id": "1f0a06d2",
   "metadata": {
    "ExecuteTime": {
     "start_time": "2024-02-22T05:03:43.914331Z"
    }
   },
   "outputs": [],
   "source": [
    "qudits_params[\"T2_echo\"] = [100e-6, 80e-6]"
   ]
  },
  {
   "cell_type": "markdown",
   "id": "ba346d5a",
   "metadata": {},
   "source": [
    "#### T2 (CPMG)"
   ]
  },
  {
   "cell_type": "code",
   "execution_count": 23,
   "id": "d329f02f",
   "metadata": {
    "ExecuteTime": {
     "end_time": "2024-02-22T05:03:44.492124Z",
     "start_time": "2024-02-22T05:03:44.215238Z"
    }
   },
   "outputs": [
    {
     "name": "stdout",
     "output_type": "stream",
     "text": [
      "[2024.02.22 16:03:44.211] INFO    Starting LabOne Q Compiler run...\n",
      "[2024.02.22 16:03:44.218] INFO    Schedule completed\n"
     ]
    },
    {
     "ename": "ValueError",
     "evalue": "The width of the flat portion of the pulse must be smaller than the total length.",
     "output_type": "error",
     "traceback": [
      "\u001B[0;31m---------------------------------------------------------------------------\u001B[0m",
      "\u001B[0;31mValueError\u001B[0m                                Traceback (most recent call last)",
      "Cell \u001B[0;32mIn[23], line 11\u001B[0m\n\u001B[1;32m      3\u001B[0m exp_params_cpmg\u001B[38;5;241m=\u001B[39m exp_params_qubits\n\u001B[1;32m      4\u001B[0m exp_params_cpmg\u001B[38;5;241m.\u001B[39mupdate({\n\u001B[1;32m      5\u001B[0m     \u001B[38;5;124m\"\u001B[39m\u001B[38;5;124mexp_name\u001B[39m\u001B[38;5;124m\"\u001B[39m: \u001B[38;5;124m\"\u001B[39m\u001B[38;5;124mcpmg\u001B[39m\u001B[38;5;124m\"\u001B[39m,\n\u001B[1;32m      6\u001B[0m     \u001B[38;5;124m\"\u001B[39m\u001B[38;5;124mnum_cpmg\u001B[39m\u001B[38;5;124m\"\u001B[39m: \u001B[38;5;241m3\u001B[39m,\n\u001B[1;32m      7\u001B[0m     \u001B[38;5;124m\"\u001B[39m\u001B[38;5;124mtau_sweep\u001B[39m\u001B[38;5;124m\"\u001B[39m: tau_sweep,\n\u001B[1;32m      8\u001B[0m     \u001B[38;5;124m\"\u001B[39m\u001B[38;5;124mnum_averages\u001B[39m\u001B[38;5;124m\"\u001B[39m: \u001B[38;5;241m0\u001B[39m,\n\u001B[1;32m      9\u001B[0m })\n\u001B[0;32m---> 11\u001B[0m cpmg_results \u001B[38;5;241m=\u001B[39m \u001B[43mcpmg\u001B[49m\u001B[43m(\u001B[49m\u001B[43msession\u001B[49m\u001B[43m,\u001B[49m\u001B[43m \u001B[49m\u001B[43mexp_params_cpmg\u001B[49m\u001B[43m,\u001B[49m\u001B[43m \u001B[49m\u001B[43mqudits_params\u001B[49m\u001B[43m)\u001B[49m\n\u001B[1;32m     13\u001B[0m data \u001B[38;5;241m=\u001B[39m cpmg_results\u001B[38;5;241m.\u001B[39macquired_results[exp_params_cpmg[\u001B[38;5;124m\"\u001B[39m\u001B[38;5;124mexp_name\u001B[39m\u001B[38;5;124m\"\u001B[39m] \u001B[38;5;241m+\u001B[39m \u001B[38;5;124m\"\u001B[39m\u001B[38;5;124m_q0\u001B[39m\u001B[38;5;124m\"\u001B[39m]\u001B[38;5;241m.\u001B[39mdata\n",
      "Cell \u001B[0;32mIn[7], line 512\u001B[0m, in \u001B[0;36mcpmg\u001B[0;34m(session, exp_params, qudits_params)\u001B[0m\n\u001B[1;32m    503\u001B[0m             \u001B[38;5;28;01mwith\u001B[39;00m exp\u001B[38;5;241m.\u001B[39msection(uid\u001B[38;5;241m=\u001B[39m\u001B[38;5;124m\"\u001B[39m\u001B[38;5;124mreadout_qubit_\u001B[39m\u001B[38;5;124m\"\u001B[39m \u001B[38;5;241m+\u001B[39m qubit, play_after\u001B[38;5;241m=\u001B[39m\u001B[38;5;124m\"\u001B[39m\u001B[38;5;124mqubit_excitation_\u001B[39m\u001B[38;5;124m\"\u001B[39m \u001B[38;5;241m+\u001B[39m ef_str \u001B[38;5;241m+\u001B[39m qubit):\n\u001B[1;32m    504\u001B[0m                 \u001B[38;5;66;03m# play readout pulse on measure line\u001B[39;00m\n\u001B[1;32m    505\u001B[0m                 exp\u001B[38;5;241m.\u001B[39mmeasure(measure_signal\u001B[38;5;241m=\u001B[39m\u001B[38;5;124m\"\u001B[39m\u001B[38;5;124mmeasure_\u001B[39m\u001B[38;5;124m\"\u001B[39m\u001B[38;5;241m+\u001B[39mqubit, \n\u001B[1;32m    506\u001B[0m                             measure_pulse\u001B[38;5;241m=\u001B[39mqudits_params[\u001B[38;5;124m\"\u001B[39m\u001B[38;5;124mro_pulse_data\u001B[39m\u001B[38;5;124m\"\u001B[39m][qubit],\n\u001B[1;32m    507\u001B[0m                             handle\u001B[38;5;241m=\u001B[39mexp_name \u001B[38;5;241m+\u001B[39m \u001B[38;5;124mf\u001B[39m\u001B[38;5;124m\"\u001B[39m\u001B[38;5;124m_\u001B[39m\u001B[38;5;132;01m{\u001B[39;00mqubit\u001B[38;5;132;01m}\u001B[39;00m\u001B[38;5;124m\"\u001B[39m, \n\u001B[0;32m   (...)\u001B[0m\n\u001B[1;32m    510\u001B[0m                             reset_delay \u001B[38;5;241m=\u001B[39m exp_params[\u001B[38;5;124m\"\u001B[39m\u001B[38;5;124mwait_after_int\u001B[39m\u001B[38;5;124m\"\u001B[39m]\n\u001B[1;32m    511\u001B[0m                             )\n\u001B[0;32m--> 512\u001B[0m results \u001B[38;5;241m=\u001B[39m \u001B[43mcompile_run\u001B[49m\u001B[43m(\u001B[49m\u001B[43msession\u001B[49m\u001B[43m,\u001B[49m\u001B[43m \u001B[49m\u001B[43mexp_params\u001B[49m\u001B[43m,\u001B[49m\u001B[43m \u001B[49m\u001B[43mexp\u001B[49m\u001B[43m)\u001B[49m\n\u001B[1;32m    514\u001B[0m \u001B[38;5;28;01mreturn\u001B[39;00m results\n",
      "Cell \u001B[0;32mIn[7], line 80\u001B[0m, in \u001B[0;36mcompile_run\u001B[0;34m(session, exp_params, exp)\u001B[0m\n\u001B[1;32m     77\u001B[0m \u001B[38;5;28;01mif\u001B[39;00m \u001B[38;5;124m\"\u001B[39m\u001B[38;5;124mrb\u001B[39m\u001B[38;5;124m\"\u001B[39m \u001B[38;5;129;01min\u001B[39;00m exp_params[\u001B[38;5;124m\"\u001B[39m\u001B[38;5;124mexp_name\u001B[39m\u001B[38;5;124m\"\u001B[39m]:\n\u001B[1;32m     78\u001B[0m     compiler_settings \u001B[38;5;241m=\u001B[39m {\u001B[38;5;124m\"\u001B[39m\u001B[38;5;124mSHFSG_MIN_PLAYWAVE_HINT\u001B[39m\u001B[38;5;124m\"\u001B[39m: \u001B[38;5;241m256\u001B[39m}\n\u001B[0;32m---> 80\u001B[0m compiled_exp \u001B[38;5;241m=\u001B[39m \u001B[43msession\u001B[49m\u001B[38;5;241;43m.\u001B[39;49m\u001B[43mcompile\u001B[49m\u001B[43m(\u001B[49m\u001B[43mexp\u001B[49m\u001B[43m,\u001B[49m\u001B[43m \u001B[49m\u001B[43mcompiler_settings\u001B[49m\u001B[43m \u001B[49m\u001B[38;5;241;43m=\u001B[39;49m\u001B[43m \u001B[49m\u001B[43mcompiler_settings\u001B[49m\u001B[43m)\u001B[49m\n\u001B[1;32m     81\u001B[0m results \u001B[38;5;241m=\u001B[39m session\u001B[38;5;241m.\u001B[39mrun(compiled_exp)    \n\u001B[1;32m     82\u001B[0m Path(\u001B[38;5;124m\"\u001B[39m\u001B[38;5;124mPulse_Sheets\u001B[39m\u001B[38;5;124m\"\u001B[39m)\u001B[38;5;241m.\u001B[39mmkdir(parents\u001B[38;5;241m=\u001B[39m\u001B[38;5;28;01mTrue\u001B[39;00m, exist_ok\u001B[38;5;241m=\u001B[39m\u001B[38;5;28;01mTrue\u001B[39;00m)\n",
      "File \u001B[0;32m~/Projects/Envs/SydneyQuantum/lib/python3.12/site-packages/laboneq/_observability/tracing/_tracer.py:75\u001B[0m, in \u001B[0;36mtrace.<locals>.outer_wrapper.<locals>.wrapper\u001B[0;34m(*args, **kwargs)\u001B[0m\n\u001B[1;32m     73\u001B[0m             tracing\u001B[38;5;241m.\u001B[39menable_tracing()\n\u001B[1;32m     74\u001B[0m         \u001B[38;5;28;01mreturn\u001B[39;00m res\n\u001B[0;32m---> 75\u001B[0m \u001B[38;5;28;01mreturn\u001B[39;00m \u001B[43mfunc\u001B[49m\u001B[43m(\u001B[49m\u001B[38;5;241;43m*\u001B[39;49m\u001B[43margs\u001B[49m\u001B[43m,\u001B[49m\u001B[43m \u001B[49m\u001B[38;5;241;43m*\u001B[39;49m\u001B[38;5;241;43m*\u001B[39;49m\u001B[43mkwargs\u001B[49m\u001B[43m)\u001B[49m\n",
      "File \u001B[0;32m~/Projects/Envs/SydneyQuantum/lib/python3.12/site-packages/laboneq/dsl/session.py:337\u001B[0m, in \u001B[0;36mSession.compile\u001B[0;34m(self, experiment, compiler_settings)\u001B[0m\n\u001B[1;32m    335\u001B[0m \u001B[38;5;28mself\u001B[39m\u001B[38;5;241m.\u001B[39m_assert_connected(fail\u001B[38;5;241m=\u001B[39m\u001B[38;5;28;01mTrue\u001B[39;00m)\n\u001B[1;32m    336\u001B[0m \u001B[38;5;28mself\u001B[39m\u001B[38;5;241m.\u001B[39m_experiment_definition \u001B[38;5;241m=\u001B[39m experiment\n\u001B[0;32m--> 337\u001B[0m \u001B[38;5;28mself\u001B[39m\u001B[38;5;241m.\u001B[39m_compiled_experiment \u001B[38;5;241m=\u001B[39m \u001B[43mLabOneQFacade\u001B[49m\u001B[38;5;241;43m.\u001B[39;49m\u001B[43mcompile\u001B[49m\u001B[43m(\u001B[49m\n\u001B[1;32m    338\u001B[0m \u001B[43m    \u001B[49m\u001B[38;5;28;43mself\u001B[39;49m\u001B[43m,\u001B[49m\u001B[43m \u001B[49m\u001B[38;5;28;43mself\u001B[39;49m\u001B[38;5;241;43m.\u001B[39;49m\u001B[43mlogger\u001B[49m\u001B[43m,\u001B[49m\u001B[43m \u001B[49m\u001B[43mcompiler_settings\u001B[49m\u001B[38;5;241;43m=\u001B[39;49m\u001B[43mcompiler_settings\u001B[49m\n\u001B[1;32m    339\u001B[0m \u001B[43m\u001B[49m\u001B[43m)\u001B[49m\n\u001B[1;32m    340\u001B[0m \u001B[38;5;28mself\u001B[39m\u001B[38;5;241m.\u001B[39m_last_results \u001B[38;5;241m=\u001B[39m \u001B[38;5;28;01mNone\u001B[39;00m\n\u001B[1;32m    341\u001B[0m \u001B[38;5;28;01mreturn\u001B[39;00m \u001B[38;5;28mself\u001B[39m\u001B[38;5;241m.\u001B[39m_compiled_experiment\n",
      "File \u001B[0;32m~/Projects/Envs/SydneyQuantum/lib/python3.12/site-packages/laboneq/dsl/laboneq_facade.py:71\u001B[0m, in \u001B[0;36mLabOneQFacade.compile\u001B[0;34m(session, logger, compiler_settings)\u001B[0m\n\u001B[1;32m     68\u001B[0m signal_mapping \u001B[38;5;241m=\u001B[39m convert_signal_map(session\u001B[38;5;241m.\u001B[39mexperiment)\n\u001B[1;32m     70\u001B[0m payload_builder \u001B[38;5;241m=\u001B[39m ApplicationManager\u001B[38;5;241m.\u001B[39minstance()\u001B[38;5;241m.\u001B[39mpayload_builder()\n\u001B[0;32m---> 71\u001B[0m payload \u001B[38;5;241m=\u001B[39m \u001B[43mpayload_builder\u001B[49m\u001B[38;5;241;43m.\u001B[39;49m\u001B[43mbuild_payload\u001B[49m\u001B[43m(\u001B[49m\n\u001B[1;32m     72\u001B[0m \u001B[43m    \u001B[49m\u001B[43mnew_setup\u001B[49m\u001B[43m,\u001B[49m\n\u001B[1;32m     73\u001B[0m \u001B[43m    \u001B[49m\u001B[43mnew_experiment\u001B[49m\u001B[43m,\u001B[49m\n\u001B[1;32m     74\u001B[0m \u001B[43m    \u001B[49m\u001B[43msignal_mapping\u001B[49m\u001B[43m,\u001B[49m\n\u001B[1;32m     75\u001B[0m \u001B[43m    \u001B[49m\u001B[43mcompiler_settings\u001B[49m\u001B[43m,\u001B[49m\n\u001B[1;32m     76\u001B[0m \u001B[43m\u001B[49m\u001B[43m)\u001B[49m\n\u001B[1;32m     78\u001B[0m compiled_experiment \u001B[38;5;241m=\u001B[39m CompiledExperiment(\n\u001B[1;32m     79\u001B[0m     device_setup\u001B[38;5;241m=\u001B[39msession\u001B[38;5;241m.\u001B[39mdevice_setup,\n\u001B[1;32m     80\u001B[0m     experiment\u001B[38;5;241m=\u001B[39msession\u001B[38;5;241m.\u001B[39mexperiment,\n\u001B[1;32m     81\u001B[0m     experiment_dict\u001B[38;5;241m=\u001B[39m\u001B[38;5;28;01mNone\u001B[39;00m,  \u001B[38;5;66;03m# deprecated\u001B[39;00m\n\u001B[1;32m     82\u001B[0m     scheduled_experiment\u001B[38;5;241m=\u001B[39mpayload\u001B[38;5;241m.\u001B[39mscheduled_experiment,\n\u001B[1;32m     83\u001B[0m )\n\u001B[1;32m     84\u001B[0m \u001B[38;5;28;01mreturn\u001B[39;00m compiled_experiment\n",
      "File \u001B[0;32m~/Projects/Envs/SydneyQuantum/lib/python3.12/site-packages/laboneq/implementation/payload_builder/payload_builder.py:50\u001B[0m, in \u001B[0;36mPayloadBuilder.build_payload\u001B[0;34m(self, device_setup, experiment, signal_mappings, compiler_settings)\u001B[0m\n\u001B[1;32m     44\u001B[0m     experiment\u001B[38;5;241m.\u001B[39msignals \u001B[38;5;241m=\u001B[39m []\n\u001B[1;32m     46\u001B[0m job \u001B[38;5;241m=\u001B[39m \u001B[38;5;28mself\u001B[39m\u001B[38;5;241m.\u001B[39mcreate_compilation_job(\n\u001B[1;32m     47\u001B[0m     device_setup, experiment, signal_mappings, compiler_settings\n\u001B[1;32m     48\u001B[0m )\n\u001B[0;32m---> 50\u001B[0m job_id \u001B[38;5;241m=\u001B[39m \u001B[38;5;28;43mself\u001B[39;49m\u001B[38;5;241;43m.\u001B[39;49m\u001B[43m_compilation_service\u001B[49m\u001B[38;5;241;43m.\u001B[39;49m\u001B[43msubmit_compilation_job\u001B[49m\u001B[43m(\u001B[49m\u001B[43mjob\u001B[49m\u001B[43m)\u001B[49m\n\u001B[1;32m     52\u001B[0m scheduled_experiment \u001B[38;5;241m=\u001B[39m \u001B[38;5;28mself\u001B[39m\u001B[38;5;241m.\u001B[39m_compilation_service\u001B[38;5;241m.\u001B[39mcompilation_job_result(job_id)\n\u001B[1;32m     54\u001B[0m target_setup \u001B[38;5;241m=\u001B[39m TargetSetupGenerator\u001B[38;5;241m.\u001B[39mfrom_setup(device_setup)\n",
      "File \u001B[0;32m~/Projects/Envs/SydneyQuantum/lib/python3.12/site-packages/laboneq/implementation/compilation_service/compilation_service_legacy.py:29\u001B[0m, in \u001B[0;36mCompilationServiceLegacy.submit_compilation_job\u001B[0;34m(self, job)\u001B[0m\n\u001B[1;32m     27\u001B[0m queue_entry \u001B[38;5;241m=\u001B[39m {\u001B[38;5;124m\"\u001B[39m\u001B[38;5;124mjob_id\u001B[39m\u001B[38;5;124m\"\u001B[39m: job_id, \u001B[38;5;124m\"\u001B[39m\u001B[38;5;124mjob\u001B[39m\u001B[38;5;124m\"\u001B[39m: job}\n\u001B[1;32m     28\u001B[0m compiler \u001B[38;5;241m=\u001B[39m Compiler(job\u001B[38;5;241m.\u001B[39mcompiler_settings)\n\u001B[0;32m---> 29\u001B[0m compiler_output \u001B[38;5;241m=\u001B[39m \u001B[43mcompiler\u001B[49m\u001B[38;5;241;43m.\u001B[39;49m\u001B[43mrun\u001B[49m\u001B[43m(\u001B[49m\u001B[43mjob\u001B[49m\u001B[43m)\u001B[49m\n\u001B[1;32m     31\u001B[0m \u001B[38;5;28mself\u001B[39m\u001B[38;5;241m.\u001B[39m_job_results[job_id] \u001B[38;5;241m=\u001B[39m convert_compiler_output_to_scheduled_experiment(\n\u001B[1;32m     32\u001B[0m     compiler_output\n\u001B[1;32m     33\u001B[0m )\n\u001B[1;32m     35\u001B[0m \u001B[38;5;28mself\u001B[39m\u001B[38;5;241m.\u001B[39m_job_queue\u001B[38;5;241m.\u001B[39mappend(queue_entry)\n",
      "File \u001B[0;32m~/Projects/Envs/SydneyQuantum/lib/python3.12/site-packages/laboneq/_observability/tracing/_tracer.py:75\u001B[0m, in \u001B[0;36mtrace.<locals>.outer_wrapper.<locals>.wrapper\u001B[0;34m(*args, **kwargs)\u001B[0m\n\u001B[1;32m     73\u001B[0m             tracing\u001B[38;5;241m.\u001B[39menable_tracing()\n\u001B[1;32m     74\u001B[0m         \u001B[38;5;28;01mreturn\u001B[39;00m res\n\u001B[0;32m---> 75\u001B[0m \u001B[38;5;28;01mreturn\u001B[39;00m \u001B[43mfunc\u001B[49m\u001B[43m(\u001B[49m\u001B[38;5;241;43m*\u001B[39;49m\u001B[43margs\u001B[49m\u001B[43m,\u001B[49m\u001B[43m \u001B[49m\u001B[38;5;241;43m*\u001B[39;49m\u001B[38;5;241;43m*\u001B[39;49m\u001B[43mkwargs\u001B[49m\u001B[43m)\u001B[49m\n",
      "File \u001B[0;32m~/Projects/Envs/SydneyQuantum/lib/python3.12/site-packages/laboneq/compiler/workflow/compiler.py:1164\u001B[0m, in \u001B[0;36mCompiler.run\u001B[0;34m(self, data)\u001B[0m\n\u001B[1;32m   1162\u001B[0m \u001B[38;5;28mself\u001B[39m\u001B[38;5;241m.\u001B[39muse_experiment(data)\n\u001B[1;32m   1163\u001B[0m \u001B[38;5;28mself\u001B[39m\u001B[38;5;241m.\u001B[39m_analyze_setup()\n\u001B[0;32m-> 1164\u001B[0m \u001B[38;5;28;43mself\u001B[39;49m\u001B[38;5;241;43m.\u001B[39;49m\u001B[43m_process_experiment\u001B[49m\u001B[43m(\u001B[49m\u001B[43m)\u001B[49m\n\u001B[1;32m   1166\u001B[0m \u001B[38;5;28mself\u001B[39m\u001B[38;5;241m.\u001B[39m_generate_recipe()\n\u001B[1;32m   1168\u001B[0m retval \u001B[38;5;241m=\u001B[39m \u001B[38;5;28mself\u001B[39m\u001B[38;5;241m.\u001B[39mcompiler_output()\n",
      "File \u001B[0;32m~/Projects/Envs/SydneyQuantum/lib/python3.12/site-packages/laboneq/compiler/workflow/compiler.py:269\u001B[0m, in \u001B[0;36mCompiler._process_experiment\u001B[0;34m(self)\u001B[0m\n\u001B[1;32m    262\u001B[0m rt_compiler \u001B[38;5;241m=\u001B[39m RealtimeCompiler(\n\u001B[1;32m    263\u001B[0m     \u001B[38;5;28mself\u001B[39m\u001B[38;5;241m.\u001B[39m_experiment_dao,\n\u001B[1;32m    264\u001B[0m     \u001B[38;5;28mself\u001B[39m\u001B[38;5;241m.\u001B[39m_sampling_rate_tracker,\n\u001B[1;32m    265\u001B[0m     \u001B[38;5;28mself\u001B[39m\u001B[38;5;241m.\u001B[39m_signal_objects,\n\u001B[1;32m    266\u001B[0m     \u001B[38;5;28mself\u001B[39m\u001B[38;5;241m.\u001B[39m_settings,\n\u001B[1;32m    267\u001B[0m )\n\u001B[1;32m    268\u001B[0m executor \u001B[38;5;241m=\u001B[39m NtCompilerExecutor(rt_compiler, \u001B[38;5;28mself\u001B[39m\u001B[38;5;241m.\u001B[39m_settings)\n\u001B[0;32m--> 269\u001B[0m \u001B[43mexecutor\u001B[49m\u001B[38;5;241;43m.\u001B[39;49m\u001B[43mrun\u001B[49m\u001B[43m(\u001B[49m\u001B[38;5;28;43mself\u001B[39;49m\u001B[38;5;241;43m.\u001B[39;49m\u001B[43m_execution\u001B[49m\u001B[43m)\u001B[49m\n\u001B[1;32m    270\u001B[0m \u001B[38;5;28mself\u001B[39m\u001B[38;5;241m.\u001B[39m_combined_compiler_output \u001B[38;5;241m=\u001B[39m executor\u001B[38;5;241m.\u001B[39mcombined_compiler_output()\n\u001B[1;32m    271\u001B[0m \u001B[38;5;28;01mif\u001B[39;00m \u001B[38;5;28mself\u001B[39m\u001B[38;5;241m.\u001B[39m_combined_compiler_output \u001B[38;5;129;01mis\u001B[39;00m \u001B[38;5;28;01mNone\u001B[39;00m:\n\u001B[1;32m    272\u001B[0m     \u001B[38;5;66;03m# Some of our tests do not have an RT averaging loop, so the RT compiler will\u001B[39;00m\n\u001B[1;32m    273\u001B[0m     \u001B[38;5;66;03m# not have been run. For backwards compatibility, we still run it once.\u001B[39;00m\n",
      "File \u001B[0;32m~/Projects/Envs/SydneyQuantum/lib/python3.12/site-packages/laboneq/executor/executor.py:479\u001B[0m, in \u001B[0;36mExecutorBase.run\u001B[0;34m(self, root_sequence)\u001B[0m\n\u001B[1;32m    477\u001B[0m scope \u001B[38;5;241m=\u001B[39m ExecutionScope(\u001B[38;5;28;01mNone\u001B[39;00m, \u001B[38;5;28mself\u001B[39m)\n\u001B[1;32m    478\u001B[0m \u001B[38;5;28;01mfor\u001B[39;00m notification \u001B[38;5;129;01min\u001B[39;00m root_sequence\u001B[38;5;241m.\u001B[39mrun(scope):\n\u001B[0;32m--> 479\u001B[0m     \u001B[38;5;28;43mself\u001B[39;49m\u001B[38;5;241;43m.\u001B[39;49m\u001B[43m_handlers_map\u001B[49m\u001B[43m[\u001B[49m\u001B[43mnotification\u001B[49m\u001B[38;5;241;43m.\u001B[39;49m\u001B[43mstatement_type\u001B[49m\u001B[43m]\u001B[49m\u001B[43m(\u001B[49m\u001B[38;5;241;43m*\u001B[39;49m\u001B[38;5;241;43m*\u001B[39;49m\u001B[43mnotification\u001B[49m\u001B[38;5;241;43m.\u001B[39;49m\u001B[43margs\u001B[49m\u001B[43m)\u001B[49m\n",
      "File \u001B[0;32m~/Projects/Envs/SydneyQuantum/lib/python3.12/site-packages/laboneq/compiler/workflow/neartime_execution.py:155\u001B[0m, in \u001B[0;36mNtCompilerExecutor.rt_entry_handler\u001B[0;34m(self, count, uid, averaging_mode, acquisition_type)\u001B[0m\n\u001B[1;32m    153\u001B[0m parameter_store \u001B[38;5;241m=\u001B[39m ParameterStore(\u001B[38;5;28mself\u001B[39m\u001B[38;5;241m.\u001B[39m_iteration_stack\u001B[38;5;241m.\u001B[39mnt_parameter_values())\n\u001B[1;32m    154\u001B[0m tracker \u001B[38;5;241m=\u001B[39m parameter_store\u001B[38;5;241m.\u001B[39mcreate_tracker()\n\u001B[0;32m--> 155\u001B[0m new_compiler_output \u001B[38;5;241m=\u001B[39m \u001B[38;5;28;43mself\u001B[39;49m\u001B[38;5;241;43m.\u001B[39;49m\u001B[43m_rt_compiler\u001B[49m\u001B[38;5;241;43m.\u001B[39;49m\u001B[43mrun\u001B[49m\u001B[43m(\u001B[49m\u001B[43mparameter_store\u001B[49m\u001B[43m)\u001B[49m\n\u001B[1;32m    157\u001B[0m \u001B[38;5;28;01mif\u001B[39;00m \u001B[38;5;28mself\u001B[39m\u001B[38;5;241m.\u001B[39m_required_parameters \u001B[38;5;129;01mis\u001B[39;00m \u001B[38;5;28;01mNone\u001B[39;00m:\n\u001B[1;32m    158\u001B[0m     \u001B[38;5;28mself\u001B[39m\u001B[38;5;241m.\u001B[39m_required_parameters \u001B[38;5;241m=\u001B[39m tracker\u001B[38;5;241m.\u001B[39mqueries()\n",
      "File \u001B[0;32m~/Projects/Envs/SydneyQuantum/lib/python3.12/site-packages/laboneq/compiler/workflow/realtime_compiler.py:110\u001B[0m, in \u001B[0;36mRealtimeCompiler.run\u001B[0;34m(self, near_time_parameters)\u001B[0m\n\u001B[1;32m    107\u001B[0m \u001B[38;5;28mself\u001B[39m\u001B[38;5;241m.\u001B[39m_scheduler\u001B[38;5;241m.\u001B[39mrun(near_time_parameters)\n\u001B[1;32m    108\u001B[0m schedule \u001B[38;5;241m=\u001B[39m \u001B[38;5;28mself\u001B[39m\u001B[38;5;241m.\u001B[39mprepare_schedule() \u001B[38;5;28;01mif\u001B[39;00m \u001B[38;5;28mself\u001B[39m\u001B[38;5;241m.\u001B[39m_settings\u001B[38;5;241m.\u001B[39mOUTPUT_EXTRAS \u001B[38;5;28;01melse\u001B[39;00m \u001B[38;5;28;01mNone\u001B[39;00m\n\u001B[0;32m--> 110\u001B[0m \u001B[38;5;28;43mself\u001B[39;49m\u001B[38;5;241;43m.\u001B[39;49m\u001B[43m_generate_code\u001B[49m\u001B[43m(\u001B[49m\u001B[43m)\u001B[49m\n\u001B[1;32m    112\u001B[0m outputs \u001B[38;5;241m=\u001B[39m {\n\u001B[1;32m    113\u001B[0m     device_class: code_generator\u001B[38;5;241m.\u001B[39mget_output()\n\u001B[1;32m    114\u001B[0m     \u001B[38;5;28;01mfor\u001B[39;00m device_class, code_generator \u001B[38;5;129;01min\u001B[39;00m \u001B[38;5;28mself\u001B[39m\u001B[38;5;241m.\u001B[39m_code_generators\u001B[38;5;241m.\u001B[39mitems()\n\u001B[1;32m    115\u001B[0m }\n\u001B[1;32m    117\u001B[0m compiler_output \u001B[38;5;241m=\u001B[39m RTCompilerOutputContainer(\n\u001B[1;32m    118\u001B[0m     codegen_output\u001B[38;5;241m=\u001B[39moutputs, schedule\u001B[38;5;241m=\u001B[39mschedule\n\u001B[1;32m    119\u001B[0m )\n",
      "File \u001B[0;32m~/Projects/Envs/SydneyQuantum/lib/python3.12/site-packages/laboneq/_observability/tracing/_tracer.py:75\u001B[0m, in \u001B[0;36mtrace.<locals>.outer_wrapper.<locals>.wrapper\u001B[0;34m(*args, **kwargs)\u001B[0m\n\u001B[1;32m     73\u001B[0m             tracing\u001B[38;5;241m.\u001B[39menable_tracing()\n\u001B[1;32m     74\u001B[0m         \u001B[38;5;28;01mreturn\u001B[39;00m res\n\u001B[0;32m---> 75\u001B[0m \u001B[38;5;28;01mreturn\u001B[39;00m \u001B[43mfunc\u001B[49m\u001B[43m(\u001B[49m\u001B[38;5;241;43m*\u001B[39;49m\u001B[43margs\u001B[49m\u001B[43m,\u001B[49m\u001B[43m \u001B[49m\u001B[38;5;241;43m*\u001B[39;49m\u001B[38;5;241;43m*\u001B[39;49m\u001B[43mkwargs\u001B[49m\u001B[43m)\u001B[49m\n",
      "File \u001B[0;32m~/Projects/Envs/SydneyQuantum/lib/python3.12/site-packages/laboneq/compiler/workflow/realtime_compiler.py:101\u001B[0m, in \u001B[0;36mRealtimeCompiler._generate_code\u001B[0;34m(self)\u001B[0m\n\u001B[1;32m     98\u001B[0m \u001B[38;5;28;01mif\u001B[39;00m \u001B[38;5;28mself\u001B[39m\u001B[38;5;241m.\u001B[39m_settings\u001B[38;5;241m.\u001B[39mFORCE_IR_ROUNDTRIP:\n\u001B[1;32m     99\u001B[0m     ir\u001B[38;5;241m.\u001B[39mround_trip()\n\u001B[0;32m--> 101\u001B[0m \u001B[38;5;28;43mself\u001B[39;49m\u001B[38;5;241;43m.\u001B[39;49m\u001B[43m_lower_ir_to_code\u001B[49m\u001B[43m(\u001B[49m\u001B[43mir\u001B[49m\u001B[43m)\u001B[49m\n\u001B[1;32m    102\u001B[0m _logger\u001B[38;5;241m.\u001B[39mdebug(\u001B[38;5;124m\"\u001B[39m\u001B[38;5;124mlowering IR to code complete\u001B[39m\u001B[38;5;124m\"\u001B[39m)\n",
      "File \u001B[0;32m~/Projects/Envs/SydneyQuantum/lib/python3.12/site-packages/laboneq/compiler/workflow/realtime_compiler.py:81\u001B[0m, in \u001B[0;36mRealtimeCompiler._lower_ir_to_code\u001B[0;34m(self, ir)\u001B[0m\n\u001B[1;32m     77\u001B[0m \u001B[38;5;28;01mfor\u001B[39;00m device_class \u001B[38;5;129;01min\u001B[39;00m device_classes:\n\u001B[1;32m     78\u001B[0m     \u001B[38;5;28mself\u001B[39m\u001B[38;5;241m.\u001B[39m_code_generators[device_class] \u001B[38;5;241m=\u001B[39m \u001B[38;5;28mself\u001B[39m\u001B[38;5;241m.\u001B[39m_registered_codegens[\n\u001B[1;32m     79\u001B[0m         device_class\n\u001B[1;32m     80\u001B[0m     ](ir, settings\u001B[38;5;241m=\u001B[39m\u001B[38;5;28mself\u001B[39m\u001B[38;5;241m.\u001B[39m_settings)\n\u001B[0;32m---> 81\u001B[0m     \u001B[38;5;28;43mself\u001B[39;49m\u001B[38;5;241;43m.\u001B[39;49m\u001B[43m_code_generators\u001B[49m\u001B[43m[\u001B[49m\u001B[43mdevice_class\u001B[49m\u001B[43m]\u001B[49m\u001B[38;5;241;43m.\u001B[39;49m\u001B[43mgenerate_code\u001B[49m\u001B[43m(\u001B[49m\n\u001B[1;32m     82\u001B[0m \u001B[43m        \u001B[49m\u001B[43m[\u001B[49m\n\u001B[1;32m     83\u001B[0m \u001B[43m            \u001B[49m\u001B[43ms\u001B[49m\n\u001B[1;32m     84\u001B[0m \u001B[43m            \u001B[49m\u001B[38;5;28;43;01mfor\u001B[39;49;00m\u001B[43m \u001B[49m\u001B[43ms\u001B[49m\u001B[43m \u001B[49m\u001B[38;5;129;43;01min\u001B[39;49;00m\u001B[43m \u001B[49m\u001B[38;5;28;43mself\u001B[39;49m\u001B[38;5;241;43m.\u001B[39;49m\u001B[43m_signal_objects\u001B[49m\u001B[38;5;241;43m.\u001B[39;49m\u001B[43mvalues\u001B[49m\u001B[43m(\u001B[49m\u001B[43m)\u001B[49m\n\u001B[1;32m     85\u001B[0m \u001B[43m            \u001B[49m\u001B[38;5;28;43;01mif\u001B[39;49;00m\u001B[43m \u001B[49m\u001B[43ms\u001B[49m\u001B[38;5;241;43m.\u001B[39;49m\u001B[43mawg\u001B[49m\u001B[38;5;241;43m.\u001B[39;49m\u001B[43mdevice_class\u001B[49m\u001B[43m \u001B[49m\u001B[38;5;241;43m==\u001B[39;49m\u001B[43m \u001B[49m\u001B[43mdevice_class\u001B[49m\n\u001B[1;32m     86\u001B[0m \u001B[43m        \u001B[49m\u001B[43m]\u001B[49m\n\u001B[1;32m     87\u001B[0m \u001B[43m    \u001B[49m\u001B[43m)\u001B[49m\n\u001B[1;32m     89\u001B[0m _logger\u001B[38;5;241m.\u001B[39mdebug(\u001B[38;5;124m\"\u001B[39m\u001B[38;5;124mCode generation completed\u001B[39m\u001B[38;5;124m\"\u001B[39m)\n",
      "File \u001B[0;32m~/Projects/Envs/SydneyQuantum/lib/python3.12/site-packages/laboneq/compiler/code_generator/code_generator.py:355\u001B[0m, in \u001B[0;36mCodeGenerator.generate_code\u001B[0;34m(self, signal_objs)\u001B[0m\n\u001B[1;32m    353\u001B[0m     \u001B[38;5;28mself\u001B[39m\u001B[38;5;241m.\u001B[39madd_signal(signal_obj)\n\u001B[1;32m    354\u001B[0m \u001B[38;5;28mself\u001B[39m\u001B[38;5;241m.\u001B[39mgen_acquire_map(event_list)\n\u001B[0;32m--> 355\u001B[0m \u001B[38;5;28;43mself\u001B[39;49m\u001B[38;5;241;43m.\u001B[39;49m\u001B[43mgen_seq_c\u001B[49m\u001B[43m(\u001B[49m\n\u001B[1;32m    356\u001B[0m \u001B[43m    \u001B[49m\u001B[43mevent_list\u001B[49m\u001B[43m,\u001B[49m\n\u001B[1;32m    357\u001B[0m \u001B[43m    \u001B[49m\u001B[43m{\u001B[49m\u001B[43mp\u001B[49m\u001B[38;5;241;43m.\u001B[39;49m\u001B[43muid\u001B[49m\u001B[43m:\u001B[49m\u001B[43m \u001B[49m\u001B[43mp\u001B[49m\u001B[43m \u001B[49m\u001B[38;5;28;43;01mfor\u001B[39;49;00m\u001B[43m \u001B[49m\u001B[43mp\u001B[49m\u001B[43m \u001B[49m\u001B[38;5;129;43;01min\u001B[39;49;00m\u001B[43m \u001B[49m\u001B[38;5;28;43mself\u001B[39;49m\u001B[38;5;241;43m.\u001B[39;49m\u001B[43m_ir\u001B[49m\u001B[38;5;241;43m.\u001B[39;49m\u001B[43mpulse_defs\u001B[49m\u001B[43m}\u001B[49m\u001B[43m,\u001B[49m\n\u001B[1;32m    358\u001B[0m \u001B[43m\u001B[49m\u001B[43m)\u001B[49m\n\u001B[1;32m    359\u001B[0m \u001B[38;5;28mself\u001B[39m\u001B[38;5;241m.\u001B[39mgen_waves()\n",
      "File \u001B[0;32m~/Projects/Envs/SydneyQuantum/lib/python3.12/site-packages/laboneq/compiler/code_generator/code_generator.py:718\u001B[0m, in \u001B[0;36mCodeGenerator.gen_seq_c\u001B[0;34m(self, events, pulse_defs)\u001B[0m\n\u001B[1;32m    710\u001B[0m \u001B[38;5;28mself\u001B[39m\u001B[38;5;241m.\u001B[39m_feedback_register_allocator \u001B[38;5;241m=\u001B[39m FeedbackRegisterAllocator(\n\u001B[1;32m    711\u001B[0m     \u001B[38;5;28mself\u001B[39m\u001B[38;5;241m.\u001B[39m_signals, events\n\u001B[1;32m    712\u001B[0m )\n\u001B[1;32m    714\u001B[0m \u001B[38;5;28;01mfor\u001B[39;00m _, awg \u001B[38;5;129;01min\u001B[39;00m \u001B[38;5;28msorted\u001B[39m(\n\u001B[1;32m    715\u001B[0m     \u001B[38;5;28mself\u001B[39m\u001B[38;5;241m.\u001B[39m_awgs\u001B[38;5;241m.\u001B[39mitems(),\n\u001B[1;32m    716\u001B[0m     key\u001B[38;5;241m=\u001B[39m\u001B[38;5;28;01mlambda\u001B[39;00m item: item[\u001B[38;5;241m0\u001B[39m]\u001B[38;5;241m.\u001B[39mdevice_id \u001B[38;5;241m+\u001B[39m \u001B[38;5;28mstr\u001B[39m(item[\u001B[38;5;241m0\u001B[39m]\u001B[38;5;241m.\u001B[39mawg_number),\n\u001B[1;32m    717\u001B[0m ):\n\u001B[0;32m--> 718\u001B[0m     \u001B[38;5;28;43mself\u001B[39;49m\u001B[38;5;241;43m.\u001B[39;49m\u001B[43m_gen_seq_c_per_awg\u001B[49m\u001B[43m(\u001B[49m\u001B[43mawg\u001B[49m\u001B[43m,\u001B[49m\u001B[43m \u001B[49m\u001B[43mevents\u001B[49m\u001B[43m,\u001B[49m\u001B[43m \u001B[49m\u001B[43mpulse_defs\u001B[49m\u001B[43m)\u001B[49m\n\u001B[1;32m    720\u001B[0m tgt_feedback_regs \u001B[38;5;241m=\u001B[39m \u001B[38;5;28mself\u001B[39m\u001B[38;5;241m.\u001B[39m_feedback_register_allocator\u001B[38;5;241m.\u001B[39mtarget_feedback_registers\n\u001B[1;32m    721\u001B[0m \u001B[38;5;28;01mfor\u001B[39;00m awg, target_fb_register \u001B[38;5;129;01min\u001B[39;00m tgt_feedback_regs\u001B[38;5;241m.\u001B[39mitems():\n",
      "File \u001B[0;32m~/Projects/Envs/SydneyQuantum/lib/python3.12/site-packages/laboneq/compiler/code_generator/code_generator.py:1136\u001B[0m, in \u001B[0;36mCodeGenerator._gen_seq_c_per_awg\u001B[0;34m(self, awg, events, pulse_defs)\u001B[0m\n\u001B[1;32m   1128\u001B[0m         \u001B[38;5;28;01massert\u001B[39;00m \u001B[38;5;28mself\u001B[39m\u001B[38;5;241m.\u001B[39m_integration_weights \u001B[38;5;129;01mis\u001B[39;00m \u001B[38;5;129;01mnot\u001B[39;00m \u001B[38;5;28;01mNone\u001B[39;00m\n\u001B[1;32m   1129\u001B[0m         _logger\u001B[38;5;241m.\u001B[39mdebug(\n\u001B[1;32m   1130\u001B[0m             \u001B[38;5;124m\"\u001B[39m\u001B[38;5;124mCalculating integration weights for signal \u001B[39m\u001B[38;5;132;01m%s\u001B[39;00m\u001B[38;5;124m. There are \u001B[39m\u001B[38;5;132;01m%d\u001B[39;00m\u001B[38;5;124m acquire events.\u001B[39m\u001B[38;5;124m\"\u001B[39m,\n\u001B[1;32m   1131\u001B[0m             signal_obj\u001B[38;5;241m.\u001B[39mid,\n\u001B[1;32m   1132\u001B[0m             \u001B[38;5;28mlen\u001B[39m(acquire_events\u001B[38;5;241m.\u001B[39msequence),\n\u001B[1;32m   1133\u001B[0m         )\n\u001B[1;32m   1134\u001B[0m         \u001B[38;5;28mself\u001B[39m\u001B[38;5;241m.\u001B[39m_integration_weights\u001B[38;5;241m.\u001B[39msetdefault(awg\u001B[38;5;241m.\u001B[39mkey, {})[\n\u001B[1;32m   1135\u001B[0m             signal_obj\u001B[38;5;241m.\u001B[39mid\n\u001B[0;32m-> 1136\u001B[0m         ] \u001B[38;5;241m=\u001B[39m \u001B[43mcalculate_integration_weights\u001B[49m\u001B[43m(\u001B[49m\n\u001B[1;32m   1137\u001B[0m \u001B[43m            \u001B[49m\u001B[43macquire_events\u001B[49m\u001B[43m,\u001B[49m\u001B[43m \u001B[49m\u001B[43msignal_obj\u001B[49m\u001B[43m,\u001B[49m\u001B[43m \u001B[49m\u001B[43mpulse_defs\u001B[49m\n\u001B[1;32m   1138\u001B[0m \u001B[43m        \u001B[49m\u001B[43m)\u001B[49m\n\u001B[1;32m   1140\u001B[0m     sampled_events\u001B[38;5;241m.\u001B[39mmerge(acquire_events)\n\u001B[1;32m   1142\u001B[0m \u001B[38;5;28;01mif\u001B[39;00m awg\u001B[38;5;241m.\u001B[39msignal_type \u001B[38;5;241m==\u001B[39m AWGSignalType\u001B[38;5;241m.\u001B[39mMULTI:\n",
      "File \u001B[0;32m~/Projects/Envs/SydneyQuantum/lib/python3.12/site-packages/laboneq/compiler/code_generator/code_generator.py:257\u001B[0m, in \u001B[0;36mcalculate_integration_weights\u001B[0;34m(acquire_events, signal_obj, pulse_defs)\u001B[0m\n\u001B[1;32m    255\u001B[0m pulse_parameters \u001B[38;5;241m=\u001B[39m combine_pulse_parameters(pulse_par, \u001B[38;5;28;01mNone\u001B[39;00m, play_par)\n\u001B[1;32m    256\u001B[0m pulse_parameters \u001B[38;5;241m=\u001B[39m decode_pulse_parameters(pulse_parameters)\n\u001B[0;32m--> 257\u001B[0m integration_weight \u001B[38;5;241m=\u001B[39m \u001B[43msample_pulse\u001B[49m\u001B[43m(\u001B[49m\n\u001B[1;32m    258\u001B[0m \u001B[43m    \u001B[49m\u001B[43msignal_type\u001B[49m\u001B[38;5;241;43m=\u001B[39;49m\u001B[38;5;124;43m\"\u001B[39;49m\u001B[38;5;124;43miq\u001B[39;49m\u001B[38;5;124;43m\"\u001B[39;49m\u001B[43m,\u001B[49m\n\u001B[1;32m    259\u001B[0m \u001B[43m    \u001B[49m\u001B[43msampling_rate\u001B[49m\u001B[38;5;241;43m=\u001B[39;49m\u001B[43msignal_obj\u001B[49m\u001B[38;5;241;43m.\u001B[39;49m\u001B[43mawg\u001B[49m\u001B[38;5;241;43m.\u001B[39;49m\u001B[43msampling_rate\u001B[49m\u001B[43m,\u001B[49m\n\u001B[1;32m    260\u001B[0m \u001B[43m    \u001B[49m\u001B[43mlength\u001B[49m\u001B[38;5;241;43m=\u001B[39;49m\u001B[43mlength\u001B[49m\u001B[43m,\u001B[49m\n\u001B[1;32m    261\u001B[0m \u001B[43m    \u001B[49m\u001B[43mamplitude\u001B[49m\u001B[38;5;241;43m=\u001B[39;49m\u001B[43mamplitude\u001B[49m\u001B[43m,\u001B[49m\n\u001B[1;32m    262\u001B[0m \u001B[43m    \u001B[49m\u001B[43mpulse_function\u001B[49m\u001B[38;5;241;43m=\u001B[39;49m\u001B[43mpulse_def\u001B[49m\u001B[38;5;241;43m.\u001B[39;49m\u001B[43mfunction\u001B[49m\u001B[43m,\u001B[49m\n\u001B[1;32m    263\u001B[0m \u001B[43m    \u001B[49m\u001B[43mmodulation_frequency\u001B[49m\u001B[38;5;241;43m=\u001B[39;49m\u001B[43moscillator_frequency\u001B[49m\u001B[43m,\u001B[49m\n\u001B[1;32m    264\u001B[0m \u001B[43m    \u001B[49m\u001B[43msamples\u001B[49m\u001B[38;5;241;43m=\u001B[39;49m\u001B[43msamples\u001B[49m\u001B[43m,\u001B[49m\n\u001B[1;32m    265\u001B[0m \u001B[43m    \u001B[49m\u001B[43mmixer_type\u001B[49m\u001B[38;5;241;43m=\u001B[39;49m\u001B[43msignal_obj\u001B[49m\u001B[38;5;241;43m.\u001B[39;49m\u001B[43mmixer_type\u001B[49m\u001B[43m,\u001B[49m\n\u001B[1;32m    266\u001B[0m \u001B[43m    \u001B[49m\u001B[43mpulse_parameters\u001B[49m\u001B[38;5;241;43m=\u001B[39;49m\u001B[43mpulse_parameters\u001B[49m\u001B[43m,\u001B[49m\n\u001B[1;32m    267\u001B[0m \u001B[43m\u001B[49m\u001B[43m)\u001B[49m\n\u001B[1;32m    269\u001B[0m verify_amplitude_no_clipping(\n\u001B[1;32m    270\u001B[0m     integration_weight,\n\u001B[1;32m    271\u001B[0m     pulse_def\u001B[38;5;241m.\u001B[39muid,\n\u001B[1;32m    272\u001B[0m     signal_obj\u001B[38;5;241m.\u001B[39mmixer_type,\n\u001B[1;32m    273\u001B[0m     signal_obj\u001B[38;5;241m.\u001B[39mid,\n\u001B[1;32m    274\u001B[0m )\n\u001B[1;32m    276\u001B[0m \u001B[38;5;66;03m# 128-bit hash as waveform name\u001B[39;00m\n",
      "File \u001B[0;32m~/Projects/Envs/SydneyQuantum/lib/python3.12/site-packages/laboneq/core/utilities/pulse_sampler.py:130\u001B[0m, in \u001B[0;36msample_pulse\u001B[0;34m(signal_type, sampling_rate, length, amplitude, pulse_function, modulation_frequency, phase, samples, mixer_type, pulse_parameters, markers)\u001B[0m\n\u001B[1;32m    125\u001B[0m     pulse_parameters \u001B[38;5;241m=\u001B[39m {\n\u001B[1;32m    126\u001B[0m         k: v \u001B[38;5;28;01mfor\u001B[39;00m (k, v) \u001B[38;5;129;01min\u001B[39;00m pulse_parameters\u001B[38;5;241m.\u001B[39mitems() \u001B[38;5;28;01mif\u001B[39;00m k \u001B[38;5;241m!=\u001B[39m \u001B[38;5;124m\"\u001B[39m\u001B[38;5;124mamplitude\u001B[39m\u001B[38;5;124m\"\u001B[39m\n\u001B[1;32m    127\u001B[0m     }\n\u001B[1;32m    129\u001B[0m \u001B[38;5;28;01mif\u001B[39;00m pulse_function \u001B[38;5;129;01mis\u001B[39;00m \u001B[38;5;129;01mnot\u001B[39;00m \u001B[38;5;28;01mNone\u001B[39;00m:\n\u001B[0;32m--> 130\u001B[0m     samples \u001B[38;5;241m=\u001B[39m \u001B[43mpulse_function_library\u001B[49m\u001B[43m[\u001B[49m\u001B[43mpulse_function\u001B[49m\u001B[43m]\u001B[49m\u001B[43m(\u001B[49m\n\u001B[1;32m    131\u001B[0m \u001B[43m        \u001B[49m\u001B[43mnp\u001B[49m\u001B[38;5;241;43m.\u001B[39;49m\u001B[43mlinspace\u001B[49m\u001B[43m(\u001B[49m\u001B[38;5;241;43m-\u001B[39;49m\u001B[38;5;241;43m1\u001B[39;49m\u001B[43m,\u001B[49m\u001B[43m \u001B[49m\u001B[38;5;241;43m1\u001B[39;49m\u001B[43m,\u001B[49m\u001B[43m \u001B[49m\u001B[43mnum_samples\u001B[49m\u001B[43m,\u001B[49m\u001B[43m \u001B[49m\u001B[43mendpoint\u001B[49m\u001B[38;5;241;43m=\u001B[39;49m\u001B[38;5;28;43;01mFalse\u001B[39;49;00m\u001B[43m)\u001B[49m\u001B[43m,\u001B[49m\n\u001B[1;32m    132\u001B[0m \u001B[43m        \u001B[49m\u001B[43mlength\u001B[49m\u001B[38;5;241;43m=\u001B[39;49m\u001B[43mlength\u001B[49m\u001B[43m,\u001B[49m\n\u001B[1;32m    133\u001B[0m \u001B[43m        \u001B[49m\u001B[43mamplitude\u001B[49m\u001B[38;5;241;43m=\u001B[39;49m\u001B[43mamplitude\u001B[49m\u001B[43m,\u001B[49m\n\u001B[1;32m    134\u001B[0m \u001B[43m        \u001B[49m\u001B[43msampling_rate\u001B[49m\u001B[38;5;241;43m=\u001B[39;49m\u001B[43msampling_rate\u001B[49m\u001B[43m,\u001B[49m\n\u001B[1;32m    135\u001B[0m \u001B[43m        \u001B[49m\u001B[38;5;241;43m*\u001B[39;49m\u001B[38;5;241;43m*\u001B[39;49m\u001B[43mpulse_parameters\u001B[49m\u001B[43m,\u001B[49m\n\u001B[1;32m    136\u001B[0m \u001B[43m    \u001B[49m\u001B[43m)\u001B[49m\n\u001B[1;32m    137\u001B[0m \u001B[38;5;28;01massert\u001B[39;00m \u001B[38;5;28misinstance\u001B[39m(samples, (\u001B[38;5;28mlist\u001B[39m, np\u001B[38;5;241m.\u001B[39mndarray))\n\u001B[1;32m    138\u001B[0m samples \u001B[38;5;241m=\u001B[39m np\u001B[38;5;241m.\u001B[39marray(samples[:num_samples])\n",
      "File \u001B[0;32m~/Projects/Envs/SydneyQuantum/lib/python3.12/site-packages/laboneq/dsl/experiment/pulse_library.py:171\u001B[0m, in \u001B[0;36mgaussian_square\u001B[0;34m(x, sigma, width, zero_boundaries, **_)\u001B[0m\n\u001B[1;32m    168\u001B[0m length \u001B[38;5;241m=\u001B[39m _[\u001B[38;5;124m\"\u001B[39m\u001B[38;5;124mlength\u001B[39m\u001B[38;5;124m\"\u001B[39m]\n\u001B[1;32m    170\u001B[0m \u001B[38;5;28;01mif\u001B[39;00m width \u001B[38;5;129;01mis\u001B[39;00m \u001B[38;5;129;01mnot\u001B[39;00m \u001B[38;5;28;01mNone\u001B[39;00m \u001B[38;5;129;01mand\u001B[39;00m width \u001B[38;5;241m>\u001B[39m\u001B[38;5;241m=\u001B[39m length:\n\u001B[0;32m--> 171\u001B[0m     \u001B[38;5;28;01mraise\u001B[39;00m \u001B[38;5;167;01mValueError\u001B[39;00m(\n\u001B[1;32m    172\u001B[0m         \u001B[38;5;124m\"\u001B[39m\u001B[38;5;124mThe width of the flat portion of the pulse must be smaller than the total length.\u001B[39m\u001B[38;5;124m\"\u001B[39m\n\u001B[1;32m    173\u001B[0m     )\n\u001B[1;32m    175\u001B[0m \u001B[38;5;28;01mif\u001B[39;00m width \u001B[38;5;129;01mis\u001B[39;00m \u001B[38;5;28;01mNone\u001B[39;00m:\n\u001B[1;32m    176\u001B[0m     width \u001B[38;5;241m=\u001B[39m \u001B[38;5;241m0.9\u001B[39m \u001B[38;5;241m*\u001B[39m length\n",
      "\u001B[0;31mValueError\u001B[0m: The width of the flat portion of the pulse must be smaller than the total length."
     ]
    }
   ],
   "source": [
    "\n",
    "tau_sweep = [LinearSweepParameter(uid=f\"echo_tau_sweep_{k}\", start=0, stop=15e-6, count=3) for k in qubits]\n",
    "\n",
    "exp_params_cpmg= exp_params_qubits\n",
    "exp_params_cpmg.update({\n",
    "    \"exp_name\": \"cpmg\",\n",
    "    \"num_cpmg\": 3,\n",
    "    \"tau_sweep\": tau_sweep,\n",
    "    \"num_averages\": 0,\n",
    "})\n",
    "\n",
    "cpmg_results = cpmg(session, exp_params_cpmg, qudits_params)\n",
    "\n",
    "data = cpmg_results.acquired_results[exp_params_cpmg[\"exp_name\"] + \"_q0\"].data"
   ]
  },
  {
   "cell_type": "code",
   "execution_count": null,
   "id": "d9ba8d1f",
   "metadata": {
    "ExecuteTime": {
     "end_time": "2024-02-22T05:03:44.499974Z",
     "start_time": "2024-02-22T05:03:44.493124Z"
    }
   },
   "outputs": [],
   "source": [
    "qudits_params[\"T2_CPMG\"] = [100e-6, 80e-6]"
   ]
  },
  {
   "cell_type": "code",
   "execution_count": 23,
   "id": "2d264be0",
   "metadata": {
    "ExecuteTime": {
     "end_time": "2024-02-22T05:03:44.721437Z",
     "start_time": "2024-02-22T05:03:44.665928Z"
    }
   },
   "outputs": [],
   "source": []
  },
  {
   "cell_type": "markdown",
   "id": "5a1d888d",
   "metadata": {},
   "source": [
    "## RB of single-qubit gate"
   ]
  },
  {
   "cell_type": "code",
   "execution_count": 23,
   "id": "7bd7a1a9",
   "metadata": {
    "ExecuteTime": {
     "end_time": "2024-02-22T05:03:45.299280Z",
     "start_time": "2024-02-22T05:03:45.265338Z"
    }
   },
   "outputs": [],
   "source": []
  },
  {
   "cell_type": "code",
   "execution_count": 24,
   "id": "1130a52c",
   "metadata": {
    "ExecuteTime": {
     "end_time": "2024-02-22T05:04:03.083291Z",
     "start_time": "2024-02-22T05:03:45.420745Z"
    }
   },
   "outputs": [
    {
     "ename": "KeyboardInterrupt",
     "evalue": "",
     "output_type": "error",
     "traceback": [
      "\u001B[0;31m---------------------------------------------------------------------------\u001B[0m",
      "\u001B[0;31mKeyboardInterrupt\u001B[0m                         Traceback (most recent call last)",
      "Cell \u001B[0;32mIn[24], line 36\u001B[0m\n\u001B[1;32m     24\u001B[0m exp_params_rb_1q \u001B[38;5;241m=\u001B[39m exp_params_qubits\n\u001B[1;32m     25\u001B[0m exp_params_rb_1q\u001B[38;5;241m.\u001B[39mupdate({\n\u001B[1;32m     26\u001B[0m     \u001B[38;5;124m\"\u001B[39m\u001B[38;5;124mexp_name\u001B[39m\u001B[38;5;124m\"\u001B[39m: \u001B[38;5;124m\"\u001B[39m\u001B[38;5;124mrb_1q\u001B[39m\u001B[38;5;124m\"\u001B[39m,\n\u001B[1;32m     27\u001B[0m     \u001B[38;5;124m\"\u001B[39m\u001B[38;5;124mqubits\u001B[39m\u001B[38;5;124m\"\u001B[39m: qubits,\n\u001B[0;32m   (...)\u001B[0m\n\u001B[1;32m     34\u001B[0m \n\u001B[1;32m     35\u001B[0m })\n\u001B[0;32m---> 36\u001B[0m rb_1q_results \u001B[38;5;241m=\u001B[39m \u001B[43mrb_1q\u001B[49m\u001B[43m(\u001B[49m\u001B[43msession\u001B[49m\u001B[43m,\u001B[49m\u001B[43m \u001B[49m\u001B[43mexp_params_rb_1q\u001B[49m\u001B[43m,\u001B[49m\u001B[43m \u001B[49m\u001B[43mqudits_params\u001B[49m\u001B[43m)\u001B[49m   \n\u001B[1;32m     37\u001B[0m \u001B[38;5;66;03m# compiler_settings = {\"SHFSG_MIN_PLAYWAVE_HINT\": 256}\u001B[39;00m\n\u001B[1;32m     38\u001B[0m \u001B[38;5;66;03m# compiled_exp_rb_1q = session.compile(exp_rb_1q, compiler_settings=compiler_settings)\u001B[39;00m\n\u001B[1;32m     39\u001B[0m \n\u001B[0;32m   (...)\u001B[0m\n\u001B[1;32m     46\u001B[0m \n\u001B[1;32m     47\u001B[0m \u001B[38;5;66;03m# my_results = session.run(compiled_exp_rb_1q)\u001B[39;00m\n",
      "Cell \u001B[0;32mIn[7], line 534\u001B[0m, in \u001B[0;36mrb_1q\u001B[0;34m(session, exp_params, qudits_params)\u001B[0m\n\u001B[1;32m    530\u001B[0m \u001B[38;5;28;01mfor\u001B[39;00m _ \u001B[38;5;129;01min\u001B[39;00m \u001B[38;5;28mrange\u001B[39m(exp_params[\u001B[38;5;124m\"\u001B[39m\u001B[38;5;124mn_seq_per_length\u001B[39m\u001B[38;5;124m\"\u001B[39m]):\n\u001B[1;32m    531\u001B[0m     \u001B[38;5;28;01mwith\u001B[39;00m exp\u001B[38;5;241m.\u001B[39msection(\n\u001B[1;32m    532\u001B[0m         length\u001B[38;5;241m=\u001B[39mexp_params[\u001B[38;5;124m\"\u001B[39m\u001B[38;5;124mmax_seq_duration\u001B[39m\u001B[38;5;124m\"\u001B[39m], alignment\u001B[38;5;241m=\u001B[39mSectionAlignment\u001B[38;5;241m.\u001B[39mRIGHT\n\u001B[1;32m    533\u001B[0m     ):\n\u001B[0;32m--> 534\u001B[0m         \u001B[43mgenerate_play_rb_pulses\u001B[49m\u001B[43m(\u001B[49m\n\u001B[1;32m    535\u001B[0m \u001B[43m            \u001B[49m\u001B[43mexp\u001B[49m\u001B[43m,\u001B[49m\u001B[43m \u001B[49m\u001B[38;5;124;43m\"\u001B[39;49m\u001B[38;5;124;43mdrive_\u001B[39;49m\u001B[38;5;124;43m\"\u001B[39;49m\u001B[43m \u001B[49m\u001B[38;5;241;43m+\u001B[39;49m\u001B[43m \u001B[49m\u001B[43mqubit\u001B[49m\u001B[43m,\u001B[49m\u001B[43m \u001B[49m\u001B[43mseq_length\u001B[49m\u001B[43m,\u001B[49m\u001B[43m \u001B[49m\u001B[43mclifford_parametrized\u001B[49m\u001B[43m,\u001B[49m\u001B[43m \u001B[49m\u001B[43mexp_params\u001B[49m\u001B[43m[\u001B[49m\u001B[38;5;124;43m\"\u001B[39;49m\u001B[38;5;124;43mgate_map\u001B[39;49m\u001B[38;5;124;43m\"\u001B[39;49m\u001B[43m]\u001B[49m\u001B[43m[\u001B[49m\u001B[43mqubit\u001B[49m\u001B[43m]\u001B[49m\n\u001B[1;32m    536\u001B[0m \u001B[43m        \u001B[49m\u001B[43m)\u001B[49m\n\u001B[1;32m    537\u001B[0m     \u001B[38;5;66;03m# readout and data acquisition\u001B[39;00m\n\u001B[1;32m    538\u001B[0m     \u001B[38;5;28;01mwith\u001B[39;00m exp\u001B[38;5;241m.\u001B[39msection():\n",
      "File \u001B[0;32m~/Projects/Envs/SydneyQuantum/lib/python3.12/site-packages/laboneq/contrib/example_helpers/randomized_benchmarking_helper.py:326\u001B[0m, in \u001B[0;36mgenerate_play_rb_pulses\u001B[0;34m(exp, signal, seq_length, cliffords, gate_map, elementary_gates, rng)\u001B[0m\n\u001B[1;32m    308\u001B[0m \u001B[38;5;250m\u001B[39m\u001B[38;5;124;03m\"\"\"Generate a RB sequence using the experiment handle `exp`.  Mutates `exp`.\u001B[39;00m\n\u001B[1;32m    309\u001B[0m \n\u001B[1;32m    310\u001B[0m \u001B[38;5;124;03mA RB sequence consist of randomly chosen `seq_length` number of Clifford gates\u001B[39;00m\n\u001B[0;32m   (...)\u001B[0m\n\u001B[1;32m    322\u001B[0m \u001B[38;5;124;03m        If `None` a new one will be created via `numpy.random.default_rng(42)`.\u001B[39;00m\n\u001B[1;32m    323\u001B[0m \u001B[38;5;124;03m\"\"\"\u001B[39;00m\n\u001B[1;32m    324\u001B[0m \u001B[38;5;28;01massert\u001B[39;00m elementary_gates\u001B[38;5;241m.\u001B[39mkeys() \u001B[38;5;241m==\u001B[39m gate_map\u001B[38;5;241m.\u001B[39mkeys()\n\u001B[0;32m--> 326\u001B[0m clifford_indices \u001B[38;5;241m=\u001B[39m \u001B[43mcalculate_clifford_sequence_indices\u001B[49m\u001B[43m(\u001B[49m\n\u001B[1;32m    327\u001B[0m \u001B[43m    \u001B[49m\u001B[43mseq_length\u001B[49m\u001B[43m,\u001B[49m\u001B[43m \u001B[49m\u001B[43mcliffords\u001B[49m\u001B[43m,\u001B[49m\u001B[43m \u001B[49m\u001B[43melementary_gates\u001B[49m\u001B[43m,\u001B[49m\u001B[43m \u001B[49m\u001B[43mrng\u001B[49m\n\u001B[1;32m    328\u001B[0m \u001B[43m\u001B[49m\u001B[43m)\u001B[49m\n\u001B[1;32m    330\u001B[0m \u001B[38;5;28;01mfor\u001B[39;00m it \u001B[38;5;129;01min\u001B[39;00m clifford_indices:\n\u001B[1;32m    331\u001B[0m     clifford \u001B[38;5;241m=\u001B[39m cliffords[it]\n",
      "File \u001B[0;32m~/Projects/Envs/SydneyQuantum/lib/python3.12/site-packages/laboneq/contrib/example_helpers/randomized_benchmarking_helper.py:293\u001B[0m, in \u001B[0;36mcalculate_clifford_sequence_indices\u001B[0;34m(seq_length, cliffords, elementary_gates, rng)\u001B[0m\n\u001B[1;32m    287\u001B[0m     computed_gates \u001B[38;5;241m=\u001B[39m [\n\u001B[1;32m    288\u001B[0m         mult_gates([elementary_gates[gate] \u001B[38;5;28;01mfor\u001B[39;00m gate \u001B[38;5;129;01min\u001B[39;00m gates])\n\u001B[1;32m    289\u001B[0m         \u001B[38;5;28;01mfor\u001B[39;00m gates \u001B[38;5;129;01min\u001B[39;00m cliffords  \u001B[38;5;66;03m# \"gate\" ≡ pauli gate\u001B[39;00m\n\u001B[1;32m    290\u001B[0m     ]\n\u001B[1;32m    292\u001B[0m \u001B[38;5;66;03m# Last gate is the recovery gate.\u001B[39;00m\n\u001B[0;32m--> 293\u001B[0m clifford_indices[\u001B[38;5;241m-\u001B[39m\u001B[38;5;241m1\u001B[39m] \u001B[38;5;241m=\u001B[39m \u001B[43mcalculate_inverse_clifford_index\u001B[49m\u001B[43m(\u001B[49m\n\u001B[1;32m    294\u001B[0m \u001B[43m    \u001B[49m\u001B[43mclifford_indices\u001B[49m\u001B[43m[\u001B[49m\u001B[43m:\u001B[49m\u001B[38;5;241;43m-\u001B[39;49m\u001B[38;5;241;43m1\u001B[39;49m\u001B[43m]\u001B[49m\u001B[43m,\u001B[49m\u001B[43m \u001B[49m\u001B[43mclifford_gates\u001B[49m\u001B[38;5;241;43m=\u001B[39;49m\u001B[43mcomputed_gates\u001B[49m\n\u001B[1;32m    295\u001B[0m \u001B[43m\u001B[49m\u001B[43m)\u001B[49m\n\u001B[1;32m    296\u001B[0m \u001B[38;5;28;01mreturn\u001B[39;00m clifford_indices\n",
      "File \u001B[0;32m~/Projects/Envs/SydneyQuantum/lib/python3.12/site-packages/laboneq/contrib/example_helpers/randomized_benchmarking_helper.py:251\u001B[0m, in \u001B[0;36mcalculate_inverse_clifford_index\u001B[0;34m(index_list, clifford_gates)\u001B[0m\n\u001B[1;32m    238\u001B[0m \u001B[38;5;250m\u001B[39m\u001B[38;5;124;03m\"\"\"Given a set of gates indexed with integers in `index_list`, calculate the\u001B[39;00m\n\u001B[1;32m    239\u001B[0m \u001B[38;5;124;03minverse of the cascaded gates and return the index corresponding to the result.  The\u001B[39;00m\n\u001B[1;32m    240\u001B[0m \u001B[38;5;124;03mcalculated matrix is searched up to a global phase in `clifford_gates` and the index of\u001B[39;00m\n\u001B[0;32m   (...)\u001B[0m\n\u001B[1;32m    248\u001B[0m \u001B[38;5;124;03m    recovery: index of the recovery gate\u001B[39;00m\n\u001B[1;32m    249\u001B[0m \u001B[38;5;124;03m\"\"\"\u001B[39;00m\n\u001B[1;32m    250\u001B[0m \u001B[38;5;66;03m# matrix representation of the full Clifford sequence\u001B[39;00m\n\u001B[0;32m--> 251\u001B[0m seq_gate \u001B[38;5;241m=\u001B[39m \u001B[43mmult_gates\u001B[49m\u001B[43m(\u001B[49m\u001B[43m[\u001B[49m\u001B[43mclifford_gates\u001B[49m\u001B[43m[\u001B[49m\u001B[43mind\u001B[49m\u001B[43m]\u001B[49m\u001B[43m \u001B[49m\u001B[38;5;28;43;01mfor\u001B[39;49;00m\u001B[43m \u001B[49m\u001B[43mind\u001B[49m\u001B[43m \u001B[49m\u001B[38;5;129;43;01min\u001B[39;49;00m\u001B[43m \u001B[49m\u001B[43mindex_list\u001B[49m\u001B[43m]\u001B[49m\u001B[43m)\u001B[49m\n\u001B[1;32m    252\u001B[0m \u001B[38;5;66;03m# recovery gate - inverse of full sequence\u001B[39;00m\n\u001B[1;32m    253\u001B[0m rec_gate \u001B[38;5;241m=\u001B[39m np\u001B[38;5;241m.\u001B[39mlinalg\u001B[38;5;241m.\u001B[39minv(seq_gate)\n",
      "File \u001B[0;32m~/Projects/Envs/SydneyQuantum/lib/python3.12/site-packages/laboneq/contrib/example_helpers/randomized_benchmarking_helper.py:172\u001B[0m, in \u001B[0;36mmult_gates\u001B[0;34m(gate_list)\u001B[0m\n\u001B[1;32m    170\u001B[0m     \u001B[38;5;28;01mreturn\u001B[39;00m gate_list[\u001B[38;5;241m0\u001B[39m]\n\u001B[1;32m    171\u001B[0m \u001B[38;5;28;01melse\u001B[39;00m:\n\u001B[0;32m--> 172\u001B[0m     \u001B[38;5;28;01mreturn\u001B[39;00m \u001B[43mnp\u001B[49m\u001B[38;5;241;43m.\u001B[39;49m\u001B[43mlinalg\u001B[49m\u001B[38;5;241;43m.\u001B[39;49m\u001B[43mmulti_dot\u001B[49m\u001B[43m(\u001B[49m\u001B[43mgate_list\u001B[49m\u001B[43m)\u001B[49m\n",
      "File \u001B[0;32m~/Projects/Envs/SydneyQuantum/lib/python3.12/site-packages/numpy/linalg/linalg.py:2752\u001B[0m, in \u001B[0;36mmulti_dot\u001B[0;34m(arrays, out)\u001B[0m\n\u001B[1;32m   2750\u001B[0m     result \u001B[38;5;241m=\u001B[39m _multi_dot_three(arrays[\u001B[38;5;241m0\u001B[39m], arrays[\u001B[38;5;241m1\u001B[39m], arrays[\u001B[38;5;241m2\u001B[39m], out\u001B[38;5;241m=\u001B[39mout)\n\u001B[1;32m   2751\u001B[0m \u001B[38;5;28;01melse\u001B[39;00m:\n\u001B[0;32m-> 2752\u001B[0m     order \u001B[38;5;241m=\u001B[39m \u001B[43m_multi_dot_matrix_chain_order\u001B[49m\u001B[43m(\u001B[49m\u001B[43marrays\u001B[49m\u001B[43m)\u001B[49m\n\u001B[1;32m   2753\u001B[0m     result \u001B[38;5;241m=\u001B[39m _multi_dot(arrays, order, \u001B[38;5;241m0\u001B[39m, n \u001B[38;5;241m-\u001B[39m \u001B[38;5;241m1\u001B[39m, out\u001B[38;5;241m=\u001B[39mout)\n\u001B[1;32m   2755\u001B[0m \u001B[38;5;66;03m# return proper shape\u001B[39;00m\n",
      "File \u001B[0;32m~/Projects/Envs/SydneyQuantum/lib/python3.12/site-packages/numpy/linalg/linalg.py:2819\u001B[0m, in \u001B[0;36m_multi_dot_matrix_chain_order\u001B[0;34m(arrays, return_costs)\u001B[0m\n\u001B[1;32m   2817\u001B[0m \u001B[38;5;28;01mfor\u001B[39;00m k \u001B[38;5;129;01min\u001B[39;00m \u001B[38;5;28mrange\u001B[39m(i, j):\n\u001B[1;32m   2818\u001B[0m     q \u001B[38;5;241m=\u001B[39m m[i, k] \u001B[38;5;241m+\u001B[39m m[k\u001B[38;5;241m+\u001B[39m\u001B[38;5;241m1\u001B[39m, j] \u001B[38;5;241m+\u001B[39m p[i]\u001B[38;5;241m*\u001B[39mp[k\u001B[38;5;241m+\u001B[39m\u001B[38;5;241m1\u001B[39m]\u001B[38;5;241m*\u001B[39mp[j\u001B[38;5;241m+\u001B[39m\u001B[38;5;241m1\u001B[39m]\n\u001B[0;32m-> 2819\u001B[0m     \u001B[38;5;28;01mif\u001B[39;00m q \u001B[38;5;241m<\u001B[39m m[i, j]:\n\u001B[1;32m   2820\u001B[0m         m[i, j] \u001B[38;5;241m=\u001B[39m q\n\u001B[1;32m   2821\u001B[0m         s[i, j] \u001B[38;5;241m=\u001B[39m k  \u001B[38;5;66;03m# Note that Cormen uses 1-based index\u001B[39;00m\n",
      "\u001B[0;31mKeyboardInterrupt\u001B[0m: "
     ]
    }
   ],
   "source": [
    "qubits = [\"q0\", \"q1\"]\n",
    "pulse_ref = pulse_library.drag\n",
    "# pulse_parameters = {\"sigma\": 0.2}\n",
    "\n",
    "gate_map = {k: make_pauli_gate_map(\n",
    "    pi_pulse_amp=qudits_params[\"dr_pi_pulse\"][k].amplitude,\n",
    "    pi_half_pulse_amp=qudits_params[\"dr_pi_pulse\"][k].amplitude/2,\n",
    "    excitation_length=qudits_params[\"dr_pi_pulse\"][k].length,\n",
    "    pulse_factory=pulse_ref,\n",
    "    pulse_kwargs=qudits_params[\"dr_pi_pulse\"][k].pulse_parameters,\n",
    ") for k in qubits}\n",
    "\n",
    "# Different sequence lengths will range from 2^1 to 2^max_seq_length\n",
    "max_seq_length = 9\n",
    "seq_lengths = [2**it for it in range(1, max_seq_length + 1)]\n",
    "\n",
    "# number of different random sequences per length\n",
    "n_seq_per_length = 10\n",
    "\n",
    "# the maximum sequence duration is determined by its length,\n",
    "# the max number of basic gates in each Clifford gate, and the length of each gate\n",
    "max_seq_duration = 2**max_seq_length * 3 * qudits_params[\"dr_pi_pulse\"][\"q0\"].length\n",
    "\n",
    "exp_params_rb_1q = exp_params_qubits\n",
    "exp_params_rb_1q.update({\n",
    "    \"exp_name\": \"rb_1q\",\n",
    "    \"qubits\": qubits,\n",
    "    \"seq_lengths\": seq_lengths,\n",
    "    \"n_seq_per_length\": n_seq_per_length,\n",
    "    \"max_seq_duration\": max_seq_duration,\n",
    "    \"gate_map\": gate_map,\n",
    "    \"num_averages\": 1,\n",
    "    \"wait_after_int\": 5e-6,\n",
    "\n",
    "})\n",
    "rb_1q_results = rb_1q(session, exp_params_rb_1q, qudits_params)   \n",
    "# compiler_settings = {\"SHFSG_MIN_PLAYWAVE_HINT\": 256}\n",
    "# compiled_exp_rb_1q = session.compile(exp_rb_1q, compiler_settings=compiler_settings)\n",
    "\n",
    "\n",
    "# Path(\"Pulse_Sheets\").mkdir(parents=True, exist_ok=True)\n",
    "# # generate a pulse sheet to inspect experiment before runtime\n",
    "# show_pulse_sheet(\"Pulse_Sheets/Qubit_Spectroscopy\", compiled_exp_rb_1q)\n",
    "\n",
    "# plot_simulation(compiled_exp_rb_1q, start_time=0, length=200e-6)\n",
    "\n",
    "# my_results = session.run(compiled_exp_rb_1q)"
   ]
  },
  {
   "cell_type": "code",
   "execution_count": null,
   "id": "2162bab5",
   "metadata": {
    "ExecuteTime": {
     "end_time": "2024-02-22T05:04:03.148158Z",
     "start_time": "2024-02-22T05:04:03.086906Z"
    }
   },
   "outputs": [],
   "source": [
    "qudits_params[\"1q_gate_fidelity\"] = [0.999, 0.999]"
   ]
  },
  {
   "cell_type": "code",
   "outputs": [],
   "source": [],
   "metadata": {
    "collapsed": false,
    "ExecuteTime": {
     "start_time": "2024-02-22T05:04:03.090334Z"
    }
   },
   "id": "6afe7ff9eaa94039"
  },
  {
   "cell_type": "code",
   "outputs": [],
   "source": [],
   "metadata": {
    "collapsed": false,
    "ExecuteTime": {
     "start_time": "2024-02-22T05:04:03.093766Z"
    }
   },
   "id": "4477fa7a4d2453a6"
  },
  {
   "cell_type": "code",
   "outputs": [],
   "source": [],
   "metadata": {
    "collapsed": false,
    "ExecuteTime": {
     "start_time": "2024-02-22T05:04:03.097244Z"
    }
   },
   "id": "ad171831f4511970"
  },
  {
   "cell_type": "code",
   "outputs": [],
   "source": [],
   "metadata": {
    "collapsed": false,
    "ExecuteTime": {
     "start_time": "2024-02-22T05:04:03.101430Z"
    }
   },
   "id": "9d17ad049ba25e61"
  },
  {
   "cell_type": "code",
   "outputs": [],
   "source": [],
   "metadata": {
    "collapsed": false,
    "ExecuteTime": {
     "start_time": "2024-02-22T05:04:03.104207Z"
    }
   },
   "id": "a372915dda9c0d12"
  },
  {
   "cell_type": "code",
   "outputs": [],
   "source": [],
   "metadata": {
    "collapsed": false,
    "ExecuteTime": {
     "start_time": "2024-02-22T05:04:03.106189Z"
    }
   },
   "id": "636944e1e01cc3e4"
  },
  {
   "cell_type": "code",
   "outputs": [],
   "source": [],
   "metadata": {
    "collapsed": false,
    "ExecuteTime": {
     "start_time": "2024-02-22T05:04:03.108520Z"
    }
   },
   "id": "5da27651166d56bc"
  },
  {
   "cell_type": "code",
   "outputs": [],
   "source": [],
   "metadata": {
    "collapsed": false,
    "ExecuteTime": {
     "start_time": "2024-02-22T05:04:03.111073Z"
    }
   },
   "id": "8952885d890fb557"
  },
  {
   "cell_type": "code",
   "outputs": [],
   "source": [],
   "metadata": {
    "collapsed": false,
    "ExecuteTime": {
     "start_time": "2024-02-22T05:04:03.113460Z"
    }
   },
   "id": "41b35a81beb3d050"
  },
  {
   "cell_type": "code",
   "outputs": [],
   "source": [],
   "metadata": {
    "collapsed": false
   },
   "id": "283ccbd8e561f2e9"
  }
 ],
 "metadata": {
  "hide_input": false,
  "kernelspec": {
   "display_name": "2.10",
   "language": "python",
   "name": "python3"
  },
  "language_info": {
   "codemirror_mode": {
    "name": "ipython",
    "version": 3
   },
   "file_extension": ".py",
   "mimetype": "text/x-python",
   "name": "python",
   "nbconvert_exporter": "python",
   "pygments_lexer": "ipython3",
   "version": "3.10.11"
  },
  "toc": {
   "base_numbering": 1,
   "nav_menu": {},
   "number_sections": true,
   "sideBar": true,
   "skip_h1_title": false,
   "title_cell": "Table of Contents",
   "title_sidebar": "Contents",
   "toc_cell": false,
   "toc_position": {
    "height": "calc(100% - 180px)",
    "left": "10px",
    "top": "150px",
    "width": "409.6px"
   },
   "toc_section_display": true,
   "toc_window_display": true
  },
  "varInspector": {
   "cols": {
    "lenName": 16,
    "lenType": 16,
    "lenVar": 40
   },
   "kernels_config": {
    "python": {
     "delete_cmd_postfix": "",
     "delete_cmd_prefix": "del ",
     "library": "var_list.py",
     "varRefreshCmd": "print(var_dic_list())"
    },
    "r": {
     "delete_cmd_postfix": ") ",
     "delete_cmd_prefix": "rm(",
     "library": "var_list.r",
     "varRefreshCmd": "cat(var_dic_list()) "
    }
   },
   "types_to_exclude": [
    "module",
    "function",
    "builtin_function_or_method",
    "instance",
    "_Feature"
   ],
   "window_display": false
  }
 },
 "nbformat": 4,
 "nbformat_minor": 5
}
