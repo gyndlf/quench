{
 "cells": [
  {
   "cell_type": "markdown",
   "id": "68e5b57b-a85f-455f-ab1e-1537a357e159",
   "metadata": {},
   "source": [
    "# Ramping tests\n",
    "\n",
    "**AIM**: To find the appropriate ramp slope for P1 that keeps the gate voltage \"constant\".\n",
    "\n",
    "Based upon `june/toolkit_example_code/psb_gate_sequence.ipynb` which is based upon `june/toolkit_example_code/lf_st_sweep.ipynb` respectively"
   ]
  },
  {
   "cell_type": "code",
   "execution_count": 1,
   "id": "ffd6892f-9fbd-4679-b972-10c4a24643f0",
   "metadata": {},
   "outputs": [
    {
     "name": "stdout",
     "output_type": "stream",
     "text": [
      "Added 'quench/' and 'quench/libraries' for easy importing.\n"
     ]
    }
   ],
   "source": [
    "%matplotlib inline\n",
    "import local_broom"
   ]
  },
  {
   "cell_type": "code",
   "execution_count": 2,
   "id": "1516685c-6f9c-4477-add1-9d6408fc6241",
   "metadata": {},
   "outputs": [],
   "source": [
    "from zhinst.toolkit import Session, CommandTable, Sequence, Waveforms, SHFQAChannelMode\n",
    "\n",
    "import matplotlib.pyplot as plt\n",
    "import numpy as np\n",
    "from tqdm.notebook import tqdm\n",
    "\n",
    "import time\n",
    "from monty import Monty"
   ]
  },
  {
   "cell_type": "markdown",
   "id": "5bf48fd6-0af7-4dcf-8e42-f7135164c64d",
   "metadata": {},
   "source": [
    "## Setup"
   ]
  },
  {
   "cell_type": "code",
   "execution_count": 3,
   "id": "da4d3d6e-d858-4aeb-85cb-eccfeeb999f3",
   "metadata": {},
   "outputs": [],
   "source": [
    "# connect to instruments\n",
    "\n",
    "DEVICE_ID = 'DEV12158'\n",
    "SERVER_HOST = 'localhost'\n",
    "\n",
    "# connect to data server\n",
    "session = Session(SERVER_HOST)\n",
    "\n",
    "# connect to device\n",
    "device = session.connect_device(DEVICE_ID)"
   ]
  },
  {
   "cell_type": "code",
   "execution_count": 4,
   "id": "14c3736a-e12d-420d-93e8-29f05b0a72ec",
   "metadata": {},
   "outputs": [],
   "source": [
    "#session.disconnect_device(DEVICE_ID)"
   ]
  },
  {
   "cell_type": "markdown",
   "id": "1b50bd90-e48f-4de5-a9b8-83e2d1c64a18",
   "metadata": {},
   "source": [
    "### Variables"
   ]
  },
  {
   "cell_type": "code",
   "execution_count": 5,
   "id": "fbb70913-64e0-4e0f-a0a3-952b9ad01a40",
   "metadata": {},
   "outputs": [],
   "source": [
    "NUM_READOUTS = 5\n",
    "\n",
    "# gate sampling time\n",
    "samplingDivider = 3  # BE AWARE IF THIS CHANGES THAT YOU NEED TO UPDATE AWG_RATE_250MHZ IN PLAYZERO COMMANDS\n",
    "\n",
    "# readout signals\n",
    "readout_gain = 0.95\n",
    "readout_freq = 406.6e6\n",
    "\n",
    "# drive line amplitudes (maximum 340mV, give in terms of V)\n",
    "init_amp = 0.02 * 10  # *10 compensates weird quirk between interaction of voltToDbm function, pulseAndRamp array, and SHFQC behaviour...\n",
    "read_amp = 0.02 * 10\n",
    "read_amp_j = 0.2\n",
    "\n",
    "ramp_rate = 6.8e-6  # hopefully this is calibrated to 250 MHz sample rate (V/s)\n",
    "num_pulses = 5  # number of unique waveforms to generate\n",
    "\n",
    "\n",
    "# timings in seconds\n",
    "wait_and_settle = 100e-6  # C time\n",
    "prior_delay = 10e-6  # A time\n",
    "init_len = 10e-6       # starting P1/P2 pulse length (B time)\n",
    "read_len = 10e-6       # readout pulse length (D time)"
   ]
  },
  {
   "cell_type": "markdown",
   "id": "a2e8a05c-a2f3-404e-9f5a-3df601f4d279",
   "metadata": {},
   "source": [
    "### Functions"
   ]
  },
  {
   "cell_type": "code",
   "execution_count": 6,
   "id": "eb919969-f596-4a03-bf41-113b7337b7a4",
   "metadata": {},
   "outputs": [],
   "source": [
    "def timeToSamples(time, samplingRateDivider):\n",
    "    # returns the number of samples divisible by 16 given a time (in seconds) and sampling rate divider\n",
    "    samples_raw = time * (1/(2**samplingRateDivider))/0.5e-9\n",
    "    samples_modulo = int(samples_raw) % 16\n",
    "    samples = int(samples_raw) - int(samples_modulo)\n",
    "    return samples\n",
    "\n",
    "def voltToDbm(volt, dbmrange):\n",
    "    '''WIP. Returns a normalized amplitude given a dBm output range. \n",
    "    Calibrated using scope, and doing it a shit way (not real conversion).\n",
    "    See page 47 of manual.\n",
    "    Volts given in units of V.\n",
    "    There is an odd bug (feature?) here, where if the amplitude exceeds 1 (e.g. 1.1), it wraps around and becomes -0.1, \n",
    "    and 2.1 becomes 0.1 etc.\n",
    "    This shouldn't be a problem, but it manifests in the pulseAndRamp array as this takes default values of 0.34V for 1:1\n",
    "    scaling, flipping P1 and P2 voltages around.\n",
    "    The fix is to decrease the default values down by 10x, and increase input voltages 10x, and everything is happy.\n",
    "    If you want to change this to a more sane method, go ahead.'''\n",
    "    amp = volt / 0.340\n",
    "    # if volt > 0.340 or volt < -0.340:\n",
    "    #     raise ValueError(\"Given voltage is greater than max output of SHFQC (+-0.34 V)\")\n",
    "    if dbmrange != 0:\n",
    "        raise Exception(\"This function only works with a dBm range of 0.\")\n",
    "    return amp\n",
    "\n",
    "def get_results(result_node, timeout):\n",
    "    wave_data_captured = {}\n",
    "    wave_data_captured[result_node] = False\n",
    "    start_time = time.time()\n",
    "    captured_data = {}\n",
    "    while not all(wave_data_captured.values()):\n",
    "        if start_time + timeout < time.time():\n",
    "            print(captured_data)\n",
    "            raise TimeoutError('Timeout before all samples collected.')\n",
    "        test = session.poll()\n",
    "        for node, value in test.items():\n",
    "            node = session.raw_path_to_node(node)\n",
    "            for v in value:\n",
    "                if node not in captured_data:\n",
    "                    captured_data[node] = [v['vector']]\n",
    "                else:\n",
    "                    captured_data[node].append(v['vector'])\n",
    "            if len(captured_data[node]) >= 1:  # readout 1 point\n",
    "                wave_data_captured[node] = True\n",
    "                # total_num_data = sum([len(element) for element in captured_data[node]])\n",
    "    data = captured_data[result_node][0]\n",
    "    return data"
   ]
  },
  {
   "cell_type": "markdown",
   "id": "39acdfe7-3abb-4804-8d5c-422716574e98",
   "metadata": {},
   "source": [
    "### Setup channels"
   ]
  },
  {
   "cell_type": "code",
   "execution_count": 7,
   "id": "1b32fd27-05a8-4334-8524-db178fed61c4",
   "metadata": {},
   "outputs": [],
   "source": [
    "# Create channel maps for simplicity\n",
    "\n",
    "chan = {\n",
    "    \"measure\": device.qachannels[0],  # measure and acquire lines\n",
    "    \"P1\": device.sgchannels[1],  # drive P1 line\n",
    "    \"P2\": device.sgchannels[2],  # drive P2 line\n",
    "}\n",
    "\n",
    "drive_chans = [\"P1\", \"P2\"]  # match keys above"
   ]
  },
  {
   "cell_type": "code",
   "execution_count": 8,
   "id": "c38b0156-a22b-4401-a248-b5295dba45fe",
   "metadata": {},
   "outputs": [],
   "source": [
    "with device.set_transaction():\n",
    "    for c in drive_chans:\n",
    "        chan[c].output.range(0)  # in dBm\n",
    "        chan[c].output.rflfpath(0)  # use LF not RF (1 for RF)\n",
    "    \n",
    "        # set the center synth frequency (oscillator frequency)\n",
    "        synth = chan[c].synthesizer()\n",
    "        device.synthesizers[synth].centerfreq(0)  # in Hz\n",
    "        chan[c].output.on(1)  # enable output\n",
    "    \n",
    "        chan[c].awg.outputamplitude(1.0)  # overall amplitude scaling factor (don't really need to change)\n",
    "        chan[c].oscs[0].freq(0)  # oscillator 1 frequency (Hz) disable for DC\n",
    "        chan[c].oscs[1].freq(0)  # oscillator 2 frequency (Hz)\n",
    "        chan[c].awg.modulation.enable(1)  # start digital modulation\n",
    "    \n",
    "        chan[c].marker.source(0)  # setup the AWG trigger 1 (is this an input trigger option? doesn't seem necessary)\n",
    "        # see manual page p235 for all trigger options\n",
    "        chan[c].awg.auxtriggers[0].channel(8)  # 8=use internal trigger, 1024=use software trigger\n",
    "\n",
    "    chan[\"measure\"].output.rflfpath(0)  # use LF mode not RF (for signals under 600Mhz)\n",
    "    chan[\"measure\"].input.rflfpath(0)\n",
    "    chan[\"measure\"].oscs[0].freq(406.6e6)  # CW frequency (in LF mode)\n",
    "    chan[\"measure\"].oscs[0].gain(0.95)  # If we set this to 1, then output overloads\n",
    "\n",
    "    # configure these based on how the sweeper works internally\n",
    "    # See https://docs.zhinst.com/zhinst-utils/en/latest/_modules/zhinst/utils/shf_sweeper.html#ShfSweeper\n",
    "    chan[\"measure\"].spectroscopy.delay(0)  # integration delay in units of second\n",
    "    chan[\"measure\"].spectroscopy.length(timeToSamples(read_len, samplingDivider))  # integration time length in units of number of samples (usually  integration_time*sampling_rate)\n",
    "    # setup when the spectroscopy is triggered\n",
    "    chan[\"measure\"].spectroscopy.trigger.channel(\"chan0seqtrig0\")  # make sure to use the trigger coming from the sequencer code\n",
    "    # setup result parameters\n",
    "    chan[\"measure\"].spectroscopy.result.averages(1)  # number of averages (always average in software not hardware)\n",
    "    chan[\"measure\"].spectroscopy.result.length(num_pulses)  # number of results\n",
    "    chan[\"measure\"].spectroscopy.result.enable(0)  # disable result logger\n",
    "\n",
    "    chan[\"measure\"].configure_channel(\n",
    "        center_frequency=0,  # in units of Hz  # minimum of 600MHz\n",
    "        input_range=-20,  # in units of dBm\n",
    "        output_range=-20,  # in units of dBm\n",
    "        mode=SHFQAChannelMode.SPECTROSCOPY,  # SHFQAChannelMode.READOUT or SHFQAChannelMode.SPECTROSCOPY\n",
    "    )\n",
    "    \n",
    "    chan[\"measure\"].input.on(1)\n",
    "    chan[\"measure\"].output.on(1)\n",
    "\n",
    "    chan[\"measure\"].generator.auxtriggers[1].channel(\"inttrig\")\n",
    "\n",
    "    chan[\"measure\"].generator.configure_sequencer_triggering(\n",
    "        aux_trigger=8,  # alternatively use 8=internal trigger, or \"software_trigger0\" to use the software triggering system\n",
    "        play_pulse_delay=0\n",
    "    )\n"
   ]
  },
  {
   "cell_type": "code",
   "execution_count": 9,
   "id": "61a662c2-89ee-48b8-a4b5-66a094e66a83",
   "metadata": {},
   "outputs": [],
   "source": [
    "init_amp = voltToDbm(0.034, 0)\n",
    "\n",
    "pulse_lens = np.linspace(10e-6, 100e-6, num_pulses)\n",
    "\n",
    "# define waveforms as list of real-values arrays\n",
    "waves = []\n",
    "for p_len in pulse_lens:\n",
    "    samples = timeToSamples(p_len, samplingDivider)\n",
    "    waves.append(np.linspace(init_amp, init_amp+init_amp*samples*ramp_rate, samples))\n",
    "\n",
    "# upload waveforms to instrument\n",
    "\n",
    "waveforms = Waveforms()\n",
    "for i, wave in enumerate(waves):\n",
    "    waveforms[i] = wave\n",
    "\n",
    "# upload with sequence code as the memory must be allocated first\n",
    "#chan[\"P1\"].awg.write_to_waveform_memory(waveforms)\n",
    "#chan[\"P2\"].awg.write_to_waveform_memory(waveforms)"
   ]
  },
  {
   "cell_type": "code",
   "execution_count": 10,
   "id": "77801e94-fbfd-4903-8b57-34402d649320",
   "metadata": {},
   "outputs": [
    {
     "data": {
      "image/png": "[encoded data removed]",
      "text/plain": [
       "<Figure size 640x480 with 1 Axes>"
      ]
     },
     "metadata": {},
     "output_type": "display_data"
    }
   ],
   "source": [
    "# sanity check\n",
    "waves.reverse()\n",
    "for i in waves:\n",
    "    plt.plot(i)"
   ]
  },
  {
   "cell_type": "markdown",
   "id": "e350bfc6-0f0f-475a-8403-7ff4c9ac80f1",
   "metadata": {},
   "source": [
    "### Define sequences"
   ]
  },
  {
   "cell_type": "code",
   "execution_count": 11,
   "id": "76f2b900-b4fe-4975-968a-3fd5493866e4",
   "metadata": {},
   "outputs": [],
   "source": [
    "# use the same waveforms for all sequence programs\n",
    "p_prog_code = f\"\"\"\n",
    "// Reset the oscillator phase\n",
    "resetOscPhase();\n",
    "\n",
    "for (var i = 0; i < {num_pulses}; i++) {{\n",
    "    // Trigger the scope\n",
    "    waitDigTrigger(1);\n",
    "    setTrigger(1);\n",
    "    setTrigger(0);\n",
    "\n",
    "    playZero({timeToSamples(prior_delay, samplingDivider)}, AWG_RATE_250MHZ); // A\n",
    "    executeTableEntry(i);  // B\n",
    "    playZero({timeToSamples(wait_and_settle, samplingDivider)}, AWG_RATE_250MHZ); // C\n",
    "}}\n",
    "\"\"\"\n",
    "\n",
    "# How much longer to delay each repeated pulse\n",
    "pulse_len_step_samples = timeToSamples(pulse_lens[1]-pulse_lens[0], samplingDivider)\n",
    "\n",
    "readout_prog_code = f\"\"\"\n",
    "setTrigger(0); // Set low as this starts the spectroscopy readout....\n",
    "\n",
    "for (var i = 0; i < {num_pulses}; i++) {{\n",
    "    // wait for a digital trigger before starting (defined by the aux_trigger)\n",
    "    waitDigTrigger(1);\n",
    "\n",
    "    // lineup with SG trigger\n",
    "    playZero(128+16*3); // time before readout A (224 samples = lines up with SG trigger)\n",
    "    \n",
    "    // Section A\n",
    "    playZero({timeToSamples(prior_delay, samplingDivider)}, AWG_RATE_250MHZ);\n",
    "\n",
    "    // Section B\n",
    "    playZero({timeToSamples(init_len, samplingDivider)}+i*{pulse_len_step_samples}, AWG_RATE_250MHZ); // reference readout\n",
    "\n",
    "    // Section D\n",
    "    // set trigger output 1 to 1 then 0. As this matches \"chan0seqtrig0\" the spectroscopy is started\n",
    "    setTrigger(1);\n",
    "    setTrigger(0);\n",
    "    playZero({timeToSamples(read_len, samplingDivider)}, AWG_RATE_250MHZ); // readout\n",
    "\n",
    "    // Section C\n",
    "    playZero({timeToSamples(wait_and_settle, samplingDivider)}, AWG_RATE_250MHZ);     // wait and settle\n",
    "}}\n",
    "\"\"\""
   ]
  },
  {
   "cell_type": "markdown",
   "id": "74793232-5182-4436-8353-02c1b867b26a",
   "metadata": {},
   "source": [
    "#### Create ramp pulses\n",
    "\n",
    "**TODO**: Upload different ramp shapes with longer and longer durations.\n",
    "\n",
    "Ramp pulses from $10\\mu s$ to $100 \\mu s$ long. Keep the same slope for each"
   ]
  },
  {
   "cell_type": "code",
   "execution_count": 12,
   "id": "8d578b05-ee95-411d-aa36-e4a21c9bf834",
   "metadata": {},
   "outputs": [],
   "source": [
    "init_amp = voltToDbm(0.034, 0)\n",
    "\n",
    "pulse_lens = np.linspace(10e-6, 100e-6, num_pulses)\n",
    "\n",
    "# define waveforms as list of real-values arrays\n",
    "waves = []\n",
    "for p_len in pulse_lens:\n",
    "    samples = timeToSamples(p_len, samplingDivider)\n",
    "    waves.append(np.linspace(init_amp, init_amp+init_amp*samples*ramp_rate, samples))"
   ]
  },
  {
   "cell_type": "code",
   "execution_count": 26,
   "id": "e70dce01-5d1f-49fc-9353-2e69b9da84ba",
   "metadata": {},
   "outputs": [],
   "source": [
    "# test to make sure that our pulses are not greater than 1\n",
    "# otherwise the SHFQC will loop back to playing -1 instead!\n",
    "\n",
    "if np.max([np.max(w) for w in waves]) > 1:\n",
    "    raise ValueError(\"Wave amplitude too high\")\n",
    "\n",
    "if np.min([np.min(w) for w in waves]) < -1:\n",
    "    raise ValueError(\"Wave amplitude too low\")"
   ]
  },
  {
   "cell_type": "code",
   "execution_count": 13,
   "id": "cc427e2c-7232-4515-9ecc-eee3efff5f51",
   "metadata": {},
   "outputs": [
    {
     "data": {
      "image/png": "[encoded data removed]",
      "text/plain": [
       "<Figure size 640x480 with 1 Axes>"
      ]
     },
     "metadata": {},
     "output_type": "display_data"
    }
   ],
   "source": [
    "# sanity check\n",
    "waves.reverse()\n",
    "for i in waves:\n",
    "    plt.plot(i)"
   ]
  },
  {
   "cell_type": "code",
   "execution_count": 14,
   "id": "78abe214-c1fe-4dc9-be18-24a1f546cb2e",
   "metadata": {
    "scrolled": true
   },
   "outputs": [
    {
     "name": "stdout",
     "output_type": "stream",
     "text": [
      "_________ /dev12158/sgchannels/1 _________\n",
      "// Waveforms declaration\n",
      "assignWaveIndex(placeholder(24992, false, false), 0);\n",
      "assignWaveIndex(placeholder(19360, false, false), 1);\n",
      "assignWaveIndex(placeholder(13744, false, false), 2);\n",
      "assignWaveIndex(placeholder(8112, false, false), 3);\n",
      "assignWaveIndex(placeholder(2496, false, false), 4);\n",
      "\n",
      "// Reset the oscillator phase\n",
      "resetOscPhase();\n",
      "\n",
      "for (var i = 0; i < 5; i++) {\n",
      "    // Trigger the scope\n",
      "    waitDigTrigger(1);\n",
      "    setTrigger(1);\n",
      "    setTrigger(0);\n",
      "\n",
      "    playZero(2496, AWG_RATE_250MHZ); // A\n",
      "    executeTableEntry(i);  // B\n",
      "    playZero(24992, AWG_RATE_250MHZ); // C\n",
      "}\n",
      "\n",
      "_________ /dev12158/sgchannels/2 _________\n",
      "// Waveforms declaration\n",
      "assignWaveIndex(placeholder(24992, false, false), 0);\n",
      "assignWaveIndex(placeholder(19360, false, false), 1);\n",
      "assignWaveIndex(placeholder(13744, false, false), 2);\n",
      "assignWaveIndex(placeholder(8112, false, false), 3);\n",
      "assignWaveIndex(placeholder(2496, false, false), 4);\n",
      "\n",
      "// Reset the oscillator phase\n",
      "resetOscPhase();\n",
      "\n",
      "for (var i = 0; i < 5; i++) {\n",
      "    // Trigger the scope\n",
      "    waitDigTrigger(1);\n",
      "    setTrigger(1);\n",
      "    setTrigger(0);\n",
      "\n",
      "    playZero(2496, AWG_RATE_250MHZ); // A\n",
      "    executeTableEntry(i);  // B\n",
      "    playZero(24992, AWG_RATE_250MHZ); // C\n",
      "}\n",
      "\n",
      "{'messages': '', 'maxelfsize': 2147483648}\n"
     ]
    }
   ],
   "source": [
    "# upload waveforms to instrument\n",
    "\n",
    "# upload drive code\n",
    "for channel in [chan[\"P1\"], chan[\"P2\"]]:\n",
    "    seq = Sequence()\n",
    "    seq.code = p_prog_code\n",
    "    seq.waveforms = Waveforms()\n",
    "    for i, wave in enumerate(waves):\n",
    "        seq.waveforms[i] = wave.copy()\n",
    "\n",
    "    channel.awg.load_sequencer_program(seq)\n",
    "    channel.awg.write_to_waveform_memory(seq.waveforms)\n",
    "\n",
    "    print(f\"_________ {channel} _________\")\n",
    "    print(seq)\n",
    "    \n",
    "# upload with sequence code as the memory must be allocated first\n",
    "\n",
    "# upload measure code\n",
    "print(chan[\"measure\"].generator.load_sequencer_program(readout_prog_code))"
   ]
  },
  {
   "cell_type": "markdown",
   "id": "8535f019-b4d3-45e7-ad65-0034bb65ffe6",
   "metadata": {},
   "source": [
    "#### Verify sequences"
   ]
  },
  {
   "cell_type": "code",
   "execution_count": 15,
   "id": "8419878e-393c-4bd8-81ab-53419f85a4e6",
   "metadata": {},
   "outputs": [],
   "source": [
    "loaded_waveforms = chan[\"P1\"].awg.read_from_waveform_memory()\n",
    "\n",
    "loaded_waveforms.validate(chan[\"P1\"].awg.waveform.descriptors())"
   ]
  },
  {
   "cell_type": "markdown",
   "id": "00e9d228-17e7-402b-90e1-b6bc645f2c6f",
   "metadata": {},
   "source": [
    "#### Setup command tables\n",
    "**TODO**: Rewrite this into a function that takes the channel name"
   ]
  },
  {
   "cell_type": "code",
   "execution_count": 16,
   "id": "eb9a018a-7460-4b8d-9ced-289cf82f450c",
   "metadata": {},
   "outputs": [],
   "source": [
    "# COMMAND TABLES\n",
    "\n",
    "def cmdtable(ct, amplitude, length, wave_index, ct_index):\n",
    "    \"\"\"\n",
    "    Load a default command table with a sin/cos wave (used throughout the documentation)\n",
    "    \"\"\"\n",
    "    ct.table[ct_index].waveform.index = wave_index\n",
    "    ct.table[ct_index].amplitude00.value = amplitude  # all in dBm\n",
    "    ct.table[ct_index].amplitude01.value = -amplitude\n",
    "    ct.table[ct_index].amplitude10.value = amplitude\n",
    "    ct.table[ct_index].amplitude11.value = amplitude\n",
    "    ct.table[ct_index].waveform.length = length  # in samples\n",
    "    ct.table[ct_index].waveform.samplingRateDivider = samplingDivider  # inherit global\n",
    "\n",
    "\n",
    "# each pulse needs its own command table\n",
    "for channel in [chan[\"P1\"], chan[\"P2\"]]:\n",
    "    schema = channel.awg.commandtable.load_validation_schema()\n",
    "    ct = CommandTable(schema)\n",
    "\n",
    "    #ct.active_valitation = True\n",
    "    for wave_index in range(num_pulses):\n",
    "        cmdtable(ct,\n",
    "                 amplitude=voltToDbm(init_amp, channel.output.range()),\n",
    "                 length=timeToSamples(init_len, samplingDivider),\n",
    "                 wave_index=wave_index,\n",
    "                 ct_index=wave_index,\n",
    "                )\n",
    "    channel.awg.commandtable.upload_to_device(ct)"
   ]
  },
  {
   "cell_type": "code",
   "execution_count": 17,
   "id": "16948486-4054-449c-96c2-8704040b5a12",
   "metadata": {},
   "outputs": [
    {
     "data": {
      "text/plain": [
       "<zhinst.toolkit.waveform.Waveforms at 0x23f2af7e870>"
      ]
     },
     "execution_count": 17,
     "metadata": {},
     "output_type": "execute_result"
    }
   ],
   "source": [
    "loaded_waveforms"
   ]
  },
  {
   "cell_type": "markdown",
   "id": "16f1ad40-9558-4c5c-a6b9-a193ef5cffd9",
   "metadata": {},
   "source": [
    "### Setup internal trigger"
   ]
  },
  {
   "cell_type": "code",
   "execution_count": 18,
   "id": "8332f9f7-7daf-41f1-94d3-dcc149884b59",
   "metadata": {},
   "outputs": [],
   "source": [
    "device.system.internaltrigger.repetitions(num_pulses)  # make sure that this matches how many pulses we are sending\n",
    "device.system.internaltrigger.holdoff(init_len + 2*wait_and_settle + 100e-6*2)  # how long to wait between retriggers (increments of 100ns)\n",
    "\n"
   ]
  },
  {
   "cell_type": "markdown",
   "id": "efdd603f-0841-4dbe-a483-7762268940a5",
   "metadata": {},
   "source": [
    "## Run"
   ]
  },
  {
   "cell_type": "code",
   "execution_count": 19,
   "id": "18ed0c27-79ed-4d00-8740-7e0e59a6f921",
   "metadata": {},
   "outputs": [
    {
     "data": {
      "application/vnd.jupyter.widget-view+json": {
       "model_id": "1b431b1f571c4df58563a761e5e608db",
       "version_major": 2,
       "version_minor": 0
      },
      "text/plain": [
       "  0%|          | 0/5 [00:00<?, ?it/s]"
      ]
     },
     "metadata": {},
     "output_type": "display_data"
    }
   ],
   "source": [
    "device.system.internaltrigger.enable(0)\n",
    "\n",
    "result_node = chan[\"measure\"].spectroscopy.result.data.wave\n",
    "result_node.subscribe()\n",
    "\n",
    "chan[\"measure\"].spectroscopy.result.enable(1)  # start logger\n",
    "\n",
    "# start sequencers\n",
    "chan[\"measure\"].generator.enable_sequencer(single=True)\n",
    "chan[\"P1\"].awg.enable_sequencer(single = 1)\n",
    "#chan[\"P2\"].awg.enable_sequencer(single = 1)\n",
    "\n",
    "# start triggering sequence (which starts each sequencer)\n",
    "device.system.internaltrigger.enable(1)\n",
    "\n",
    "# wait for the measurement to complete\n",
    "pbar = tqdm(total=num_pulses)\n",
    "while device.system.internaltrigger.progress() != 1.0:\n",
    "    p = int(device.system.internaltrigger.progress()*100)\n",
    "    pbar.update(p-pbar.n)\n",
    "    time.sleep(0.001)\n",
    "pbar.update(100-pbar.n)\n",
    "pbar.close()\n",
    "\n",
    "chan[\"measure\"].spectroscopy.result.enable(0)  # stop data logger\n",
    "\n",
    "# get results\n",
    "results = get_results(result_node, timeout=2)\n",
    "result_node.unsubscribe()\n",
    "\n",
    "acq = chan[\"measure\"].spectroscopy.result.acquired()\n",
    "if len(results) > acq:\n",
    "    raise TimeoutError(f\"Not all datapoints measured in the time provided. {acq} of {len(results)}.\")"
   ]
  },
  {
   "cell_type": "code",
   "execution_count": 20,
   "id": "3386a5bf-7e6a-4c0c-97e4-28e69d977f50",
   "metadata": {},
   "outputs": [
    {
     "name": "stdout",
     "output_type": "stream",
     "text": [
      "[-0.00318793-0.01882236j -0.00318872-0.01881714j -0.00318508-0.01881835j\n",
      " -0.00319   -0.01882651j -0.00318586-0.01882539j]\n"
     ]
    }
   ],
   "source": [
    "print(results)"
   ]
  },
  {
   "cell_type": "code",
   "execution_count": 21,
   "id": "1814eb28-6df9-4e68-a35e-1d0914f8bdb6",
   "metadata": {},
   "outputs": [
    {
     "data": {
      "text/plain": [
       "[<matplotlib.lines.Line2D at 0x23f2afd3e00>]"
      ]
     },
     "execution_count": 21,
     "metadata": {},
     "output_type": "execute_result"
    },
    {
     "data": {
      "image/png": "[encoded data removed]",
      "text/plain": [
       "<Figure size 640x480 with 1 Axes>"
      ]
     },
     "metadata": {},
     "output_type": "display_data"
    }
   ],
   "source": [
    "plt.plot(np.abs(results))"
   ]
  },
  {
   "cell_type": "code",
   "execution_count": 22,
   "id": "f8c40b11-c2d0-4c66-975b-0a9ca43d92c4",
   "metadata": {},
   "outputs": [
    {
     "data": {
      "text/plain": [
       "[<matplotlib.lines.Line2D at 0x23f28da5af0>]"
      ]
     },
     "execution_count": 22,
     "metadata": {},
     "output_type": "execute_result"
    },
    {
     "data": {
      "image/png": "[encoded data removed]",
      "text/plain": [
       "<Figure size 640x480 with 1 Axes>"
      ]
     },
     "metadata": {},
     "output_type": "display_data"
    }
   ],
   "source": [
    "plt.plot(np.abs(results))"
   ]
  },
  {
   "cell_type": "code",
   "execution_count": null,
   "id": "6e48d588-23c0-4ef8-8c8b-c624460bf68b",
   "metadata": {},
   "outputs": [],
   "source": []
  }
 ],
 "metadata": {
  "kernelspec": {
   "display_name": "Python 3 (ipykernel)",
   "language": "python",
   "name": "python3"
  },
  "language_info": {
   "codemirror_mode": {
    "name": "ipython",
    "version": 3
   },
   "file_extension": ".py",
   "mimetype": "text/x-python",
   "name": "python",
   "nbconvert_exporter": "python",
   "pygments_lexer": "ipython3",
   "version": "3.12.3"
  }
 },
 "nbformat": 4,
 "nbformat_minor": 5
}
