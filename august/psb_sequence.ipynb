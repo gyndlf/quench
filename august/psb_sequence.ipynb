{
 "cells": [
  {
   "cell_type": "markdown",
   "id": "a1681074-6d3f-485c-b604-c599c3189b96",
   "metadata": {},
   "source": [
    "# PSB sequence\n",
    "\n",
    "This includes the correct ramp rate and SET feedback as well."
   ]
  },
  {
   "cell_type": "markdown",
   "id": "4fbd449f-d45c-403e-b70e-3a0d988958af",
   "metadata": {},
   "source": [
    "**TODO**\n",
    "- Run X steps of detuning before applying feedback\n",
    "- Only apply feedback after each change in J\n",
    "- Add buffer times to make sure that everything is syncing correctly"
   ]
  },
  {
   "cell_type": "code",
   "execution_count": 1,
   "id": "7b3a03eb-6f73-4601-9d2c-b052a69aed34",
   "metadata": {},
   "outputs": [
    {
     "name": "stdout",
     "output_type": "stream",
     "text": [
      "Added 'quench/' and 'quench/libraries' for easy importing.\n"
     ]
    }
   ],
   "source": [
    "%matplotlib inline\n",
    "import local_broom"
   ]
  },
  {
   "cell_type": "code",
   "execution_count": 2,
   "id": "1b68cb80-459d-4636-a534-df961429859d",
   "metadata": {},
   "outputs": [],
   "source": [
    "from zhinst.toolkit import Session, CommandTable, Sequence, Waveforms, SHFQAChannelMode\n",
    "\n",
    "import matplotlib.pyplot as plt\n",
    "import numpy as np\n",
    "from tqdm.notebook import tqdm\n",
    "from qcodes import Instrument\n",
    "import time\n",
    "import warnings\n",
    "from monty import Monty\n",
    "import MDAC\n",
    "from may.dots import getvoltages\n",
    "from may.custom_devices import connect_to_gb, newSiDot\n",
    "from liveplot import LivePlot\n",
    "from fridge import Fridge"
   ]
  },
  {
   "cell_type": "markdown",
   "id": "cd16923d-ecaf-4050-b96e-bc75cc705d1b",
   "metadata": {},
   "source": [
    "## Setup"
   ]
  },
  {
   "cell_type": "markdown",
   "id": "db5ee2f1-6067-4ef3-98c0-d057051443e3",
   "metadata": {},
   "source": [
    "### Common Functions"
   ]
  },
  {
   "cell_type": "code",
   "execution_count": 3,
   "id": "a0ddabcf-3310-47ae-8e70-952a6fda07ac",
   "metadata": {},
   "outputs": [],
   "source": [
    "def timeToSamples(time, samplingRateDivider):\n",
    "    # returns the number of samples divisible by 16 given a time (in seconds) and sampling rate divider\n",
    "    samples_raw = time * (1/(2**samplingRateDivider))/0.5e-9\n",
    "    samples_modulo = int(samples_raw) % 16\n",
    "    samples = int(samples_raw) - int(samples_modulo)\n",
    "    return samples\n",
    "\n",
    "# custom curve fit\n",
    "#amps = [1, 0.85, 0.75, 0.65,  0.5, 0.35, 0.25, 0.2, 0.125, 0.05]\n",
    "#voltages = [0.34, 0.268, 0.207, 0.158, 0.094, 0.0481,  0.026, 0.0183, 0.01, 0.0057]\n",
    "\n",
    "#alt_fit = np.poly1d(np.polyfit(amps, voltages, 2))\n",
    "# Hard coding alt_fit values in case something goes horribly wrong\n",
    "\n",
    "def voltToDbm(volt, dbmrange):\n",
    "    # Ok yes this can be better, deal with it\n",
    "    if dbmrange != 0:\n",
    "        raise Exception(\"This function only works with a dBm range of 0.\")\n",
    "    \n",
    "    # if volt > 0.34 or volt < -0.34:\n",
    "    #     raise ValueError(f\"Given voltage ({volt} V) is greater than max output of SHFQC (0.34 V)\")\n",
    "    \n",
    "    if volt < 0:\n",
    "        amplitude = 1/300*(np.sqrt(3e5*-volt + 529) - 23)\n",
    "        return -amplitude\n",
    "    else:\n",
    "        amplitude = 1/300*(np.sqrt(3e5*volt + 529) - 23)\n",
    "        return amplitude\n",
    "\n",
    "\n",
    "def autodb(res):\n",
    "    \"\"\"Change a.u. to dB power\"\"\"\n",
    "    return 10*np.log10(np.abs(res)**2/50*1000)\n",
    "\n",
    "\n",
    "def get_results(result_node, timeout):\n",
    "    wave_data_captured = {}\n",
    "    wave_data_captured[result_node] = False\n",
    "    start_time = time.time()\n",
    "    captured_data = {}\n",
    "    while not all(wave_data_captured.values()):\n",
    "        if start_time + timeout < time.time():\n",
    "            print(captured_data)\n",
    "            raise TimeoutError('Timeout before all samples collected.')\n",
    "        test = session.poll()\n",
    "        for node, value in test.items():\n",
    "            node = session.raw_path_to_node(node)\n",
    "            for v in value:\n",
    "                if node not in captured_data:\n",
    "                    captured_data[node] = [v['vector']]\n",
    "                else:\n",
    "                    captured_data[node].append(v['vector'])\n",
    "            if len(captured_data[node]) >= 1:  # readout 1 point\n",
    "                wave_data_captured[node] = True\n",
    "                # total_num_data = sum([len(element) for element in captured_data[node]])\n",
    "    data = captured_data[result_node][0]\n",
    "    return data\n",
    "\n",
    "def cmdtable(ct, amplitude, length, wave_index, ct_index):\n",
    "    \"\"\"\n",
    "    Load a default command table with a sin/cos wave (used throughout the documentation)\n",
    "    \"\"\"\n",
    "    ct.table[ct_index].waveform.index = wave_index\n",
    "    ct.table[ct_index].amplitude00.value = amplitude  # all in dBm\n",
    "    ct.table[ct_index].amplitude01.value = -amplitude\n",
    "    ct.table[ct_index].amplitude10.value = amplitude\n",
    "    ct.table[ct_index].amplitude11.value = amplitude\n",
    "    ct.table[ct_index].waveform.length = length  # in samples\n",
    "    ct.table[ct_index].waveform.samplingRateDivider = samplingDivider  # inherit global"
   ]
  },
  {
   "cell_type": "markdown",
   "id": "57927e7e-300c-42cc-a6ef-4dec8cf9f825",
   "metadata": {},
   "source": [
    "### Connect"
   ]
  },
  {
   "cell_type": "code",
   "execution_count": 217,
   "id": "4d4433aa-aa0e-48ae-87a1-d4f797d0d214",
   "metadata": {},
   "outputs": [
    {
     "name": "stdout",
     "output_type": "stream",
     "text": [
      "Connected to: QNL Sydney MDAC (serial:0x32353532353551040030003E, firmware:1.8) in 4.30s\n",
      "Loading GB driver and connecting\n",
      "Manually Open Breakout_box_top_ch15_LCB\n",
      "Manually Open Breakout_box_bot_ch09_RCB\n",
      "Manually Open Breakout_box_bot_ch17_RG\n",
      "Manually Open Breakout_box_top_ch17_ResB\n",
      "Manually Open Breakout_box_top_ch19_P3\n",
      "Manually Open Breakout_box_top_ch13_P2\n",
      "Manually Open Breakout_box_top_ch04_P1\n",
      "Manually Open Breakout_box_top_ch02_SETB\n",
      "Manually Open Breakout_box_bot_ch04_SRB\n",
      "Manually Open Breakout_box_bot_ch06_SLB\n",
      "Manually Open Breakout_box_top_ch10_ST\n",
      "Manually Open Breakout_box_top_ch25_bias\n",
      "Using base URL https://qphys1114.research.ext.sydney.edu.au/therm_flask/BlueFors_LD\n"
     ]
    }
   ],
   "source": [
    "# connect to instruments\n",
    "\n",
    "DEVICE_ID = 'DEV12158'\n",
    "SERVER_HOST = 'localhost'\n",
    "\n",
    "session = Session(SERVER_HOST)  # connect to data server\n",
    "device = session.connect_device(DEVICE_ID)  # connect to device\n",
    "\n",
    "\n",
    "try:\n",
    "    mdac = Instrument.find_instrument(\"mdac\")\n",
    "    mdac.close()\n",
    "except KeyError:\n",
    "    print('Attempting to remove instrument with name mdac. Does not exist')\n",
    "\n",
    "mdac = MDAC.MDAC('mdac', 'ASRL11::INSTR')\n",
    "gb_control_si = connect_to_gb(mdac)  # Create our custom MDAC mappings\n",
    "si = newSiDot(mdac)\n",
    "fridge = Fridge(\"BlueFors_LD\")"
   ]
  },
  {
   "cell_type": "code",
   "execution_count": 218,
   "id": "1211d9da-3a2d-4407-9df8-1a98a5db969b",
   "metadata": {},
   "outputs": [],
   "source": [
    "if False:\n",
    "    session.disconnect_device(DEVICE_ID)\n",
    "    try:\n",
    "        mdac = Instrument.find_instrument(\"mdac\")\n",
    "        mdac.close()\n",
    "    except KeyError:\n",
    "        print('Attempting to remove instrument with name mdac. Does not exist')"
   ]
  },
  {
   "cell_type": "code",
   "execution_count": 219,
   "id": "c827f439-7253-4b4a-b4a3-15060892d813",
   "metadata": {},
   "outputs": [],
   "source": [
    "#session.disconnect_device(DEVICE_ID)"
   ]
  },
  {
   "cell_type": "code",
   "execution_count": 220,
   "id": "c9ea0807-f871-4744-8c18-0b4b0c28f9bb",
   "metadata": {},
   "outputs": [
    {
     "name": "stdout",
     "output_type": "stream",
     "text": [
      "Loading existing experiment (ignoring given experiment parameters)\n",
      "Note that no experimental data has been loaded.\n",
      "Next run will have id 278\n"
     ]
    }
   ],
   "source": [
    "experiment = {\n",
    "    \"desc\": \"PSB sequence.\"\n",
    "}\n",
    "\n",
    "monty = Monty(\"rf.detuning\", experiment)"
   ]
  },
  {
   "cell_type": "markdown",
   "id": "94c49976-d988-4ede-9a78-3444664c08f3",
   "metadata": {},
   "source": [
    "### Define variables"
   ]
  },
  {
   "cell_type": "code",
   "execution_count": 294,
   "id": "e8c461ec-a8cd-456c-8d81-38a241b2d407",
   "metadata": {},
   "outputs": [
    {
     "name": "stdout",
     "output_type": "stream",
     "text": [
      "[3.16227766e-05]\n"
     ]
    }
   ],
   "source": [
    "\n",
    "# lengths and averages\n",
    "seq_averages = 500  # seqc averages\n",
    "\n",
    "NUM_DETUNING = 200  # 300\n",
    "NUM_J = 1\n",
    "\n",
    "# readout signals\n",
    "readout_gain = 0.95  # If we set this to 1, then output overloads\n",
    "readout_freq = 406.6e6  # (Hz), try 406.2\n",
    "\n",
    "# drive line amplitudes (maximum 340mV, give in terms of V)\n",
    "# pulse parameters\n",
    "MIXED_AMP = {  # voltage amplitude for mixed state preperation\n",
    "    \"P1\": 0.0,\n",
    "    \"P2\": -0.0,\n",
    "}\n",
    "MES_AMP_START = {  # voltages for stepping over when sweeping\n",
    "    \"P1\": 0.0,\n",
    "    \"P2\": -0.0,\n",
    "    \"J\": 0,\n",
    "}\n",
    "MES_AMP_END = {\n",
    "    \"P1\": 0.1,\n",
    "    \"P2\": -0.1,\n",
    "    \"J\": 0.0,\n",
    "}\n",
    "\n",
    "# timings in seconds\n",
    "init_len = 600e-6\n",
    "read_len = 100e-6\n",
    "wait_and_settle = 3e-3\n",
    "trigger_time = 8e-3  # internal trigger holdoff time (metronome)\n",
    "buffer = 10e-6\n",
    "\n",
    "# AC decay ramp rate\n",
    "ramp_rate = 13e-5  # V/sample\n",
    "\n",
    "# powers\n",
    "input_pwr = 5\n",
    "output_pwr = -10\n",
    "dr_pwr = 0\n",
    "\n",
    "# gate sampling time\n",
    "samplingDivider = 6\n",
    "\n",
    "# feedback parameters\n",
    "FB_TARGET = -25.4  # give in terms of power output\n",
    "FB_STEPSIZE = 8e-1\n",
    "FB_SLOPE = -1  # 1 or -1 depending on the slope to lock onto\n",
    "\n",
    "# internal\n",
    "read_samples = timeToSamples(read_len, samplingDivider)\n",
    "steps = np.logspace(-4.5, -2.5, NUM_J)\n",
    "print(steps)"
   ]
  },
  {
   "cell_type": "code",
   "execution_count": 295,
   "id": "4740fac3-3bd9-4179-bb89-3bb22943ad51",
   "metadata": {},
   "outputs": [],
   "source": [
    "# adjust variables\n",
    "curr_st_amp = 0.0  # NEED TO FIX THIS...\n",
    "\n",
    "# Create channel maps for simplicity\n",
    "\n",
    "chan = {\n",
    "    \"measure\": device.qachannels[0],  # measure and acquire lines\n",
    "    \"ST\": device.sgchannels[0],\n",
    "    \"P1\": device.sgchannels[1],  # drive P1 line\n",
    "    \"P2\": device.sgchannels[2],  # drive P2 line\n",
    "    \"J\": device.sgchannels[3],  # drive J line\n",
    "}\n",
    "\n",
    "drive_chans = [\"ST\", \"P1\", \"P2\", \"J\"]  # match keys above\n",
    "\n",
    "# current command tables\n",
    "cts = {c: CommandTable(chan[c].awg.commandtable.load_validation_schema()) for c in drive_chans}\n",
    "\n",
    "j_steps = np.linspace(MES_AMP_START[\"J\"], MES_AMP_END[\"J\"], NUM_J)\n",
    "p1_steps = np.linspace(MES_AMP_START[\"P1\"], MES_AMP_END[\"P1\"], NUM_DETUNING)\n",
    "p2_steps = np.linspace(MES_AMP_START[\"P2\"], MES_AMP_END[\"P2\"], NUM_DETUNING)"
   ]
  },
  {
   "cell_type": "code",
   "execution_count": 296,
   "id": "9965baab-11e0-424d-9fd7-0923fc864be2",
   "metadata": {},
   "outputs": [],
   "source": [
    "for i in range(6):\n",
    "    device.sgchannels[i].synchronization.enable(0)"
   ]
  },
  {
   "cell_type": "code",
   "execution_count": 297,
   "id": "7c5ab019-5924-4c85-9e69-05423567241c",
   "metadata": {},
   "outputs": [],
   "source": [
    "# save all the parameters about this experiment that we will want to know\n",
    "params = {\n",
    "    \"amplitude_volts\": {\n",
    "        \"mixed_pulse\": MIXED_AMP,\n",
    "        \"measure_pulse_start\": MES_AMP_START,\n",
    "        \"measure_pulse_end\": MES_AMP_END,\n",
    "        \"p_ramp_rate\": ramp_rate,\n",
    "    },\n",
    "    \"readout\": {\n",
    "        \"freq\": readout_freq,\n",
    "        \"gain\": readout_gain,\n",
    "        \"time\": read_len\n",
    "    },\n",
    "    \"timings_sec\": {\n",
    "        \"mixed initilise\": init_len,\n",
    "        \"read\": read_len,\n",
    "        \"settle\": wait_and_settle,\n",
    "        \"trigger\": trigger_time,\n",
    "        \"buffer\": buffer,\n",
    "        \"sampling_divider\": samplingDivider,\n",
    "    },\n",
    "    \"feedback\": {\n",
    "        \"target\": FB_TARGET,\n",
    "        \"stepsize\": FB_STEPSIZE,\n",
    "        \"slope\": FB_SLOPE\n",
    "    },\n",
    "    \"powers\": {\n",
    "        \"acq_in\": input_pwr,\n",
    "        \"acq_out\": output_pwr,\n",
    "        \"drive\": dr_pwr,\n",
    "    },\n",
    "    \"averaging\": {\n",
    "        \"seqc_averages\": seq_averages,\n",
    "        \"num_detuning\": NUM_DETUNING,\n",
    "        \"num_j\": NUM_J,\n",
    "    },\n",
    "    \"gates\": getvoltages(mdac),\n",
    "    \"temp\": f\"Mixing chamber {fridge.temp()} K\",\n",
    "}"
   ]
  },
  {
   "cell_type": "code",
   "execution_count": 298,
   "id": "2557cd12-7c77-428e-bb05-e1501e01d57b",
   "metadata": {},
   "outputs": [],
   "source": [
    "# check we can fit all the points into memory\n",
    "MAX_MEASUREMENTS = 2**19\n",
    "if seq_averages > MAX_MEASUREMENTS:\n",
    "    raise OverflowError(\"Requested too many points to be measured. (Use around 500,000 points)\")"
   ]
  },
  {
   "cell_type": "markdown",
   "id": "9ade0890-3235-4d45-a968-9138d47b377f",
   "metadata": {},
   "source": [
    "### Configure Channels"
   ]
  },
  {
   "cell_type": "code",
   "execution_count": 299,
   "id": "5339bd33-c13a-4d9a-bec9-cb3e6b7033c6",
   "metadata": {},
   "outputs": [],
   "source": [
    "with device.set_transaction():\n",
    "    # setup drive channels\n",
    "    for c in drive_chans:\n",
    "        chan[c].output.range(dr_pwr)  # in dBm\n",
    "        chan[c].output.rflfpath(0)  # use LF not RF (1 for RF)\n",
    "    \n",
    "        # set the center synth frequency (oscillator frequency)\n",
    "        synth = chan[c].synthesizer()\n",
    "        device.synthesizers[synth].centerfreq(0)  # in Hz\n",
    "        chan[c].output.on(1)  # enable output\n",
    "    \n",
    "        chan[c].awg.outputamplitude(1.0)  # overall amplitude scaling factor (don't really need to change)\n",
    "        chan[c].oscs[0].freq(0)  # oscillator 1 frequency (Hz) disable for DC\n",
    "        chan[c].oscs[1].freq(0)  # oscillator 2 frequency (Hz)\n",
    "        chan[c].awg.modulation.enable(1)  # start digital modulation\n",
    "    \n",
    "        chan[c].marker.source(0)  # setup the AWG trigger 1 (is this an input trigger option? doesn't seem necessary)\n",
    "        # see manual page p235 for all trigger options\n",
    "        chan[c].awg.auxtriggers[0].channel(8)  # 8=use internal trigger, 1024=use software trigger\n",
    "\n",
    "    # setup measure channel\n",
    "    \n",
    "    chan[\"measure\"].output.rflfpath(0)  # use LF mode not RF (for signals under 600Mhz)\n",
    "    chan[\"measure\"].input.rflfpath(0)\n",
    "    chan[\"measure\"].oscs[0].freq(readout_freq)  # CW frequency (in LF mode)\n",
    "    chan[\"measure\"].oscs[0].gain(readout_gain)  # If we set this to 1, then output overloads\n",
    "\n",
    "    # configure these based on how the sweeper works internally\n",
    "    # See https://docs.zhinst.com/zhinst-utils/en/latest/_modules/zhinst/utils/shf_sweeper.html#ShfSweeper\n",
    "    chan[\"measure\"].spectroscopy.delay(0)  # integration delay in units of second\n",
    "    chan[\"measure\"].spectroscopy.length(100e-6*2e9)#timeToSamples(read_len, 0))  # integration time length in units of number of samples (usually integration_time*sampling_rate)\n",
    "    # setup when the spectroscopy is triggered\n",
    "    chan[\"measure\"].spectroscopy.trigger.channel(\"chan0seqtrig0\")  # make sure to use the trigger coming from the sequencer code\n",
    "    # setup result parameters\n",
    "    chan[\"measure\"].spectroscopy.result.averages(seq_averages)  # number of averages (always average in software not hardware)\n",
    "    chan[\"measure\"].spectroscopy.result.length(2)  # number of results\n",
    "    chan[\"measure\"].spectroscopy.result.enable(0)  # disable result logger\n",
    "    chan[\"measure\"].spectroscopy.result.mode('cyclic')  # sequential readout for averaging\n",
    "    chan[\"measure\"].spectroscopy.envelope.enable(0)  # changes into continuous mode\n",
    "\n",
    "    chan[\"measure\"].configure_channel(\n",
    "        center_frequency=0,  # in units of Hz  # minimum of 600MHz for RF mode\n",
    "        input_range=input_pwr,  # in units of dBm\n",
    "        output_range=output_pwr,  # in units of dBm\n",
    "        mode=SHFQAChannelMode.SPECTROSCOPY,  # SHFQAChannelMode.READOUT or SHFQAChannelMode.SPECTROSCOPY\n",
    "    )\n",
    "    \n",
    "    chan[\"measure\"].input.on(1)\n",
    "    chan[\"measure\"].output.on(1)\n",
    "\n",
    "    chan[\"measure\"].generator.auxtriggers[1].channel(\"inttrig\")  # i believe this is overwritten by the following line\n",
    "    chan[\"measure\"].generator.configure_sequencer_triggering(\n",
    "        aux_trigger=8,  # alternatively use 8=internal trigger, or \"software_trigger0\" to use the software triggering system\n",
    "        play_pulse_delay=0\n",
    "    )\n"
   ]
  },
  {
   "cell_type": "markdown",
   "id": "62a6bf1d-bb63-4063-b1bc-6dd92d1fbf3d",
   "metadata": {},
   "source": [
    "### Define Sequences"
   ]
  },
  {
   "cell_type": "markdown",
   "id": "19771e6b-b26f-4ed1-b573-c146873cc0e0",
   "metadata": {},
   "source": [
    "*P1/P2 sequence explanation*: The sequence starts at a \"home\" point with 0 V on the P1/P2/J pulsing lines. After waiting for a trigger, the sequence will immediately go to it's initialisation point (executeTableEntry(0)) and wait for a set period of time (here: wait_and_settle, read_len). After a J pulse between wait_and_settle and read_len events P1 and P2 will be pulsed to an arbitrary point (executeTableEntry(1)) which is uploaded and updated every time in python after SET feedback has occured."
   ]
  },
  {
   "cell_type": "code",
   "execution_count": 300,
   "id": "544ff296-b754-47be-a912-5a7ea3b93d0b",
   "metadata": {},
   "outputs": [],
   "source": [
    "seqc_program_p1 = f\"\"\"\n",
    "// Assign a single channel waveform to wave table entry 0\n",
    "\n",
    "// Reset the oscillator phase\n",
    "resetOscPhase();\n",
    "\n",
    "repeat({seq_averages}) {{\n",
    "\n",
    "    // Trigger the scope\n",
    "    \n",
    "    waitDigTrigger(1);\n",
    "\n",
    "    setTrigger(1);\n",
    "    setTrigger(0);\n",
    "    \n",
    "    executeTableEntry(0);                                                               // mixed state init.\n",
    "    \n",
    "    playZero({timeToSamples(wait_and_settle, samplingDivider)},  {samplingDivider});    // wait and settle\n",
    "    playZero({timeToSamples(read_len, samplingDivider)},  {samplingDivider});           // read reference\n",
    "\n",
    "    executeTableEntry(1);                                                               // read\n",
    "    \n",
    "    playZero({timeToSamples(wait_and_settle, samplingDivider)},  {samplingDivider});    // wait and settle\n",
    "}}\n",
    "\"\"\"\n",
    "\n",
    "seqc_program_p2 = f\"\"\"\n",
    "// Assign a single channel waveform to wave table entry 0\n",
    "\n",
    "// Reset the oscillator phase\n",
    "resetOscPhase();\n",
    "\n",
    "repeat({seq_averages}) {{\n",
    "\n",
    "    // Trigger the scope\n",
    "    \n",
    "    waitDigTrigger(1);\n",
    "\n",
    "    setTrigger(1);\n",
    "    setTrigger(0);\n",
    "    \n",
    "    executeTableEntry(0);                                                               // mixed state init.\n",
    "    \n",
    "    playZero({timeToSamples(wait_and_settle, samplingDivider)},  {samplingDivider});    // wait and settle\n",
    "    playZero({timeToSamples(read_len, samplingDivider)},  {samplingDivider});           // read reference\n",
    "\n",
    "    executeTableEntry(1);                                                               // read\n",
    "    \n",
    "    playZero({timeToSamples(wait_and_settle, samplingDivider)},  {samplingDivider});    // wait and settle\n",
    "}}\n",
    "\"\"\"\n",
    "\n",
    "seqc_program_j = f\"\"\"\n",
    "// Assign a single channel waveform to wave table entry 0\n",
    "wave w_j = ones({timeToSamples(init_len, samplingDivider)});\n",
    "assignWaveIndex(1,2, w_j, 0);\n",
    "\n",
    "// Reset the oscillator phase\n",
    "resetOscPhase();\n",
    "\n",
    "repeat({seq_averages}) {{\n",
    "\n",
    "    // Trigger the scope\n",
    "    \n",
    "    waitDigTrigger(1);\n",
    "\n",
    "    setTrigger(1);\n",
    "    setTrigger(0);\n",
    "    \n",
    "    playZero({timeToSamples(init_len, samplingDivider)},  {samplingDivider});           // mixed state init.\n",
    "    playZero({timeToSamples(wait_and_settle, samplingDivider)},  {samplingDivider});    // wait and settle\n",
    "\n",
    "    executeTableEntry(1);                                                               // read reference\n",
    "    \n",
    "    // playZero({timeToSamples(read_len, samplingDivider)},  {samplingDivider});           // read\n",
    "    playZero({timeToSamples(wait_and_settle, samplingDivider)},  {samplingDivider});    // wait and settle\n",
    "    playZero(32);    // wait and settle\n",
    "}}\n",
    "\"\"\"\n",
    "\n",
    "\n",
    "\n",
    "seqc_program_st = f\"\"\"\n",
    "// Assign a single channel waveform to wave table entry 0\n",
    "wave w_st = ones({timeToSamples(wait_and_settle, 9)});\n",
    "assignWaveIndex(1,2, w_st, 0);\n",
    "\n",
    "repeat({seq_averages}) {{\n",
    "    waitDigTrigger(1);\n",
    "    \n",
    "    playZero({timeToSamples(init_len, samplingDivider)},  {samplingDivider});\n",
    "    playZero({timeToSamples(wait_and_settle-10*buffer, samplingDivider)},  {samplingDivider});\n",
    "    //playZero({timeToSamples(buffer, samplingDivider)},  {samplingDivider});\n",
    "    \n",
    "    executeTableEntry(0);\n",
    "}}\n",
    "\"\"\""
   ]
  },
  {
   "cell_type": "code",
   "execution_count": 301,
   "id": "ecf3bbec-69e7-46f9-b195-5141819eb14e",
   "metadata": {},
   "outputs": [],
   "source": [
    "seqc_program_prior_read = f\"\"\"\n",
    "repeat({seq_averages}) {{\n",
    "    waitDigTrigger(1);\n",
    "    \n",
    "    setTrigger(1);\n",
    "    setTrigger(0);\n",
    "}}\n",
    "\"\"\"\n",
    "\n",
    "readout_prog_code = f\"\"\"\n",
    "setTrigger(0); // Set low as this starts the spectroscopy readout....\n",
    "\n",
    "repeat({seq_averages}) {{\n",
    "    waitDigTrigger(1);\n",
    "    \n",
    "    playZero(224); // lineup with SG trigger (224 samples = lines up with SG trigger);\n",
    "    \n",
    "    playZero({timeToSamples(init_len, samplingDivider)},  {samplingDivider});\n",
    "    playZero({timeToSamples(wait_and_settle, samplingDivider)},  {samplingDivider});\n",
    "    playZero({timeToSamples(buffer, samplingDivider)},  {samplingDivider});\n",
    "\n",
    "    setTrigger(1);  // trigger the output. As this matches \"chan0seqtrig0\" the spectroscopy is started\n",
    "    setTrigger(0);\n",
    "\n",
    "    playZero({timeToSamples(read_len, samplingDivider)},  {samplingDivider});\n",
    "    playZero({timeToSamples(buffer, samplingDivider)},  {samplingDivider});\n",
    "\n",
    "    setTrigger(1);  // trigger the output. As this matches \"chan0seqtrig0\" the spectroscopy is started\n",
    "    setTrigger(0);\n",
    "\n",
    "    playZero({timeToSamples(buffer, samplingDivider)},  {samplingDivider});\n",
    "    playZero({timeToSamples(wait_and_settle, samplingDivider)},  {samplingDivider});\n",
    "    }}\n",
    "\n",
    "\"\"\""
   ]
  },
  {
   "cell_type": "code",
   "execution_count": 302,
   "id": "5793b002-866d-4f2b-95f0-bce29f81c96d",
   "metadata": {},
   "outputs": [],
   "source": [
    "# create waveforms\n",
    "default_amp = 0.01\n",
    "\n",
    "# Create mixed state\n",
    "samples = timeToSamples(init_len, samplingDivider)\n",
    "mixed_p = np.linspace(voltToDbm(0.34 - 0.34*samples*ramp_rate, 0), voltToDbm(0.34, 0), samples)\n",
    "\n",
    "# Read pulse driver\n",
    "samples = timeToSamples(read_len, samplingDivider)\n",
    "# read_p = np.linspace(voltToDbm(default_amp, dr_pwr),\n",
    "#                        voltToDbm(default_amp+default_amp*samples*ramp_rate, dr_pwr), samples)\n",
    "read_p = np.linspace(voltToDbm(0.34 - 0.34*samples*ramp_rate, 0), voltToDbm(0.34, 0), samples)\n",
    "# read_p = np.linspace(voltToDbm(0.34, 0), voltToDbm(0.34+ 0.34*samples*ramp_rate, 0), samples)\n",
    "\n",
    "del samples"
   ]
  },
  {
   "cell_type": "code",
   "execution_count": 303,
   "id": "a9f21726-8e6d-44be-a91c-2aa93f6f6b33",
   "metadata": {},
   "outputs": [
    {
     "name": "stdout",
     "output_type": "stream",
     "text": [
      "_________ /dev12158/sgchannels/1 _________\n",
      "\n",
      "// Assign a single channel waveform to wave table entry 0\n",
      "\n",
      "// Reset the oscillator phase\n",
      "resetOscPhase();\n",
      "\n",
      "repeat(500) {\n",
      "\n",
      "    // Trigger the scope\n",
      "    \n",
      "    waitDigTrigger(1);\n",
      "\n",
      "    setTrigger(1);\n",
      "    setTrigger(0);\n",
      "    \n",
      "    executeTableEntry(0);                                                               // mixed state init.\n",
      "    \n",
      "    playZero(93744,  6);    // wait and settle\n",
      "    playZero(3120,  6);           // read reference\n",
      "\n",
      "    executeTableEntry(1);                                                               // read\n",
      "    \n",
      "    playZero(93744,  6);    // wait and settle\n",
      "}\n",
      "\n",
      "_________ /dev12158/sgchannels/2 _________\n",
      "\n",
      "// Assign a single channel waveform to wave table entry 0\n",
      "\n",
      "// Reset the oscillator phase\n",
      "resetOscPhase();\n",
      "\n",
      "repeat(500) {\n",
      "\n",
      "    // Trigger the scope\n",
      "    \n",
      "    waitDigTrigger(1);\n",
      "\n",
      "    setTrigger(1);\n",
      "    setTrigger(0);\n",
      "    \n",
      "    executeTableEntry(0);                                                               // mixed state init.\n",
      "    \n",
      "    playZero(93744,  6);    // wait and settle\n",
      "    playZero(3120,  6);           // read reference\n",
      "\n",
      "    executeTableEntry(1);                                                               // read\n",
      "    \n",
      "    playZero(93744,  6);    // wait and settle\n",
      "}\n",
      "\n",
      "_________ /dev12158/sgchannels/3 _________\n",
      "\n",
      "// Assign a single channel waveform to wave table entry 0\n",
      "wave w_j = ones(18736);\n",
      "assignWaveIndex(1,2, w_j, 0);\n",
      "\n",
      "// Reset the oscillator phase\n",
      "resetOscPhase();\n",
      "\n",
      "repeat(500) {\n",
      "\n",
      "    // Trigger the scope\n",
      "    \n",
      "    waitDigTrigger(1);\n",
      "\n",
      "    setTrigger(1);\n",
      "    setTrigger(0);\n",
      "    \n",
      "    playZero(18736,  6);           // mixed state init.\n",
      "    playZero(93744,  6);    // wait and settle\n",
      "\n",
      "    executeTableEntry(1);                                                               // read reference\n",
      "    \n",
      "    // playZero(3120,  6);           // read\n",
      "    playZero(93744,  6);    // wait and settle\n",
      "    playZero(32);    // wait and settle\n",
      "}\n",
      "\n",
      "_________ /dev12158/sgchannels/0 _________\n",
      "\n",
      "// Assign a single channel waveform to wave table entry 0\n",
      "wave w_st = ones(11712);\n",
      "assignWaveIndex(1,2, w_st, 0);\n",
      "\n",
      "repeat(500) {\n",
      "    waitDigTrigger(1);\n",
      "    \n",
      "    playZero(18736,  6);\n",
      "    playZero(90624,  6);\n",
      "    //playZero(304,  6);\n",
      "    \n",
      "    executeTableEntry(0);\n",
      "}\n",
      "\n"
     ]
    }
   ],
   "source": [
    "# upload drive code\n",
    "\n",
    "# P1\n",
    "seq = Sequence()\n",
    "seq.code = seqc_program_p1\n",
    "seq.waveforms = Waveforms()\n",
    "seq.waveforms[0] = mixed_p\n",
    "seq.waveforms[1] = read_p\n",
    "chan[\"P1\"].awg.load_sequencer_program(seq)\n",
    "chan[\"P1\"].awg.write_to_waveform_memory(seq.waveforms)\n",
    "print(f\"_________ {chan[\"P1\"]} _________\")\n",
    "print(seq.code)\n",
    "\n",
    "# P2\n",
    "seq = Sequence()\n",
    "seq.code = seqc_program_p2\n",
    "seq.waveforms = Waveforms()\n",
    "seq.waveforms[0] = mixed_p\n",
    "seq.waveforms[1] = read_p\n",
    "chan[\"P2\"].awg.load_sequencer_program(seq)\n",
    "chan[\"P2\"].awg.write_to_waveform_memory(seq.waveforms)\n",
    "print(f\"_________ {chan[\"P2\"]} _________\")\n",
    "print(seq.code)\n",
    "\n",
    "# J\n",
    "chan[\"J\"].awg.load_sequencer_program(seqc_program_j)\n",
    "print(f\"_________ {chan[\"J\"]} _________\")\n",
    "print(seqc_program_j)\n",
    "\n",
    "# ST\n",
    "chan[\"ST\"].awg.load_sequencer_program(seqc_program_st)\n",
    "print(f\"_________ {chan[\"ST\"]} _________\")\n",
    "print(seqc_program_st)\n",
    "\n",
    "# upload wavevforms with sequence code as the memory must be allocated first\n",
    "\n",
    "# upload measure code\n",
    "#chan[\"measure\"].generator.load_sequencer_program(readout_prog_code)\n",
    "#chan[\"measure\"].generator.load_sequencer_program(seqc_program_prior_read)"
   ]
  },
  {
   "cell_type": "markdown",
   "id": "b755ce22-ddbb-4a9e-8936-e385fc1d0c48",
   "metadata": {},
   "source": [
    "### Setup Command tables"
   ]
  },
  {
   "cell_type": "code",
   "execution_count": 304,
   "id": "60125786-bdcf-4b40-a54a-ccfb8f466ac6",
   "metadata": {},
   "outputs": [],
   "source": [
    "# load mixed state command channels\n",
    "for c in [\"P1\", \"P2\"]:\n",
    "    cmdtable(cts[c],\n",
    "             amplitude= voltToDbm(MIXED_AMP[c], chan[c].output.range()),\n",
    "             length=timeToSamples(init_len, samplingDivider),\n",
    "             wave_index=0,\n",
    "             ct_index=0,\n",
    "            )"
   ]
  },
  {
   "cell_type": "markdown",
   "id": "b2a00a11-da12-44bf-b049-3b39d6d264cd",
   "metadata": {},
   "source": [
    "## Run"
   ]
  },
  {
   "cell_type": "markdown",
   "id": "5be28742-3627-4144-993f-41705b5e0d72",
   "metadata": {},
   "source": [
    "### Run functions"
   ]
  },
  {
   "cell_type": "code",
   "execution_count": 305,
   "id": "7e9bbbbc-a264-4fea-bd41-5cfea0348311",
   "metadata": {},
   "outputs": [],
   "source": [
    "def uploadcts():\n",
    "    \"\"\"Upload the command tables to the device\"\"\"\n",
    "    for c in drive_chans:\n",
    "        chan[c].awg.commandtable.upload_to_device(cts[c])"
   ]
  },
  {
   "cell_type": "code",
   "execution_count": 306,
   "id": "8f92f2bf-0c88-4981-8317-620b531b2fb4",
   "metadata": {},
   "outputs": [],
   "source": [
    "def synchchannels(chans):\n",
    "    \"\"\"Sync the given channels, unsyncing the rest. Assumes that the internal trigger and measure channel should always be synced.\"\"\"\n",
    "    for c in drive_chans:\n",
    "        if c in chans:  # sync\n",
    "            chan[c].synchronization.enable(1)\n",
    "        else:  # dont sync\n",
    "            chan[c].synchronization.enable(0)\n",
    "    chan[\"measure\"].synchronization.enable(1)\n",
    "    device.system.internaltrigger.synchronization.enable(1)"
   ]
  },
  {
   "cell_type": "code",
   "execution_count": 307,
   "id": "b362e0ad-860b-40a9-9cdb-dbe53263ce2c",
   "metadata": {},
   "outputs": [],
   "source": [
    "def waitForInternalTrigger(progress=True, leave=True):\n",
    "    \"\"\"\n",
    "    Waits for the internal trigger to finish running and shows the current progress.\n",
    "    Progress = if show tqdm progress meter\n",
    "    Leave = if keep progress bar afterwards\n",
    "    \"\"\"\n",
    "    if progress:\n",
    "        pbar = tqdm(total=100, leave=leave, desc=\"Internal trigger\")\n",
    "    while device.system.internaltrigger.progress() != 1.0:\n",
    "        p = int(device.system.internaltrigger.progress()*100)\n",
    "        if progress:\n",
    "            pbar.update(p-pbar.n)\n",
    "        time.sleep(0.001)\n",
    "    if progress:\n",
    "        pbar.update(100-pbar.n)\n",
    "        pbar.close()"
   ]
  },
  {
   "cell_type": "code",
   "execution_count": 308,
   "id": "e716f36c-08b1-450c-9f57-7b80ff293d91",
   "metadata": {},
   "outputs": [],
   "source": [
    "def calculatefeedbackold(data):\n",
    "    \"\"\"Calculate the appropriate feedback adjustment to ST.\"\"\"\n",
    "    # use last datapoint\n",
    "    global curr_st_amp\n",
    "    error = FB_TARGET - 10*np.log10(np.abs(data[-1])**2/50*1000)\n",
    "    curr_st_amp += error*FB_STEPSIZE*FB_SLOPE\n",
    "\n",
    "    # update command table\n",
    "    cmdtable(cts[\"ST\"],\n",
    "             amplitude= voltToDbm(curr_st_amp, chan[\"ST\"].output.range()),\n",
    "             length=timeToSamples(trigger_time-2e-3, 9),\n",
    "             wave_index=0,\n",
    "             ct_index=0,\n",
    "            )\n",
    "    return curr_st_amp\n",
    "\n",
    "def calculatefeedback(data):\n",
    "    \"\"\"Calculate the appropriate feedback adjustment to ST.\"\"\"\n",
    "    # use last datapoint\n",
    "    unit_amp = 0.34\n",
    "    error = FB_TARGET - 10*np.log10(np.abs(data[-1])**2/50*1000)\n",
    "    st_err = error*FB_STEPSIZE*FB_SLOPE\n",
    "    st_err = -1 if st_err < -1 else (1 if st_err > 1 else st_err)\n",
    "    st_corr = st_err*unit_amp\n",
    "\n",
    "    # update command table\n",
    "    cmdtable(cts[\"ST\"],\n",
    "             amplitude= voltToDbm(st_corr, chan[\"ST\"].output.range()),\n",
    "             length=timeToSamples(trigger_time-2e-3, 9),\n",
    "             wave_index=0,\n",
    "             ct_index=0,\n",
    "            )\n",
    "    return st_corr"
   ]
  },
  {
   "cell_type": "code",
   "execution_count": 309,
   "id": "33b026b2-534d-4de2-a7ab-de1ec8e42dee",
   "metadata": {},
   "outputs": [],
   "source": [
    "def movemeasurement(p1, p2, j):\n",
    "    \"\"\"Move P1/P2/J to measure the next appropriate datapoint.\"\"\"\n",
    "    cmdtable(cts[\"P1\"],\n",
    "             amplitude=voltToDbm(p1, chan[\"P1\"].output.range()),\n",
    "             length=timeToSamples(buffer + read_len + buffer, samplingDivider),\n",
    "             wave_index=1,\n",
    "             ct_index=1,\n",
    "            )\n",
    "    cmdtable(cts[\"P2\"],\n",
    "             amplitude=voltToDbm(p2, chan[\"P2\"].output.range()),\n",
    "             length=timeToSamples(buffer + read_len + buffer, samplingDivider),\n",
    "             wave_index=1,\n",
    "             ct_index=1,\n",
    "            )\n",
    "    cmdtable(cts[\"J\"],\n",
    "             amplitude= voltToDbm(j, chan[\"J\"].output.range()),\n",
    "             length=timeToSamples(buffer + read_len + buffer + read_len, samplingDivider),     # THIS LINE IS WRONG, FIX\n",
    "             wave_index=0,\n",
    "             ct_index=1,\n",
    "            )\n",
    "    "
   ]
  },
  {
   "cell_type": "code",
   "execution_count": 310,
   "id": "e9844135-6061-4ab3-8abd-ff73d15d41a5",
   "metadata": {},
   "outputs": [
    {
     "data": {
      "text/plain": [
       "0.9906716635319219"
      ]
     },
     "execution_count": 310,
     "metadata": {},
     "output_type": "execute_result"
    }
   ],
   "source": [
    "voltToDbm(0.34, chan[\"P2\"].output.range())"
   ]
  },
  {
   "cell_type": "code",
   "execution_count": 311,
   "id": "e3c3031d-72d8-46bd-86ea-098cde7ace2e",
   "metadata": {},
   "outputs": [],
   "source": [
    "def runfeedback():\n",
    "    \"\"\"Run feedback measurement where we only measure\"\"\"\n",
    "    device.system.internaltrigger.enable(0)\n",
    "\n",
    "    result_node = chan[\"measure\"].spectroscopy.result.data.wave\n",
    "    result_node.subscribe()\n",
    "    \n",
    "    chan[\"measure\"].spectroscopy.result.enable(1)  # start logger\n",
    "    chan[\"measure\"].generator.enable_sequencer(single=True)\n",
    "    device.system.internaltrigger.enable(1)\n",
    "    \n",
    "    time.sleep(0.2)  # delay for networking issues\n",
    "        \n",
    "    # wait for the measurement to complete\n",
    "    waitForInternalTrigger()\n",
    "    \n",
    "    m_state = chan[\"measure\"].generator.sequencer.status()\n",
    "    if m_state != 4:\n",
    "        warnings.warn(f\"Sequencers in unknown state. Perhaps they are not synchronised? {bin(m_state)}\")\n",
    "        time.sleep(0.5)\n",
    "    \n",
    "    # wait for completion\n",
    "    while chan[\"measure\"].spectroscopy.result.enable() != 0:\n",
    "        print(chan[\"measure\"].spectroscopy.result.enable())\n",
    "        chan[\"measure\"].spectroscopy.result.enable.wait_for_state_change(0, timeout=10)\n",
    "    \n",
    "    # get results\n",
    "    results = get_results(result_node, timeout=5)\n",
    "    result_node.unsubscribe()\n",
    "    \n",
    "    # verify results\n",
    "    acq = chan[\"measure\"].spectroscopy.result.acquired()\n",
    "    if len(results) > acq:\n",
    "        print(chan[\"measure\"].generator.ready())\n",
    "        raise TimeoutError(f\"Not all datapoints measured in the time provided. {acq} of {len(results)}.\")\n",
    "\n",
    "    return results\n",
    "    "
   ]
  },
  {
   "cell_type": "code",
   "execution_count": 312,
   "id": "cc2d730b-5e7d-4a69-ac96-74e7dd484987",
   "metadata": {},
   "outputs": [],
   "source": [
    "def runexperiment():\n",
    "    device.system.internaltrigger.enable(0)\n",
    "\n",
    "    result_node = chan[\"measure\"].spectroscopy.result.data.wave\n",
    "    result_node.subscribe()\n",
    "    \n",
    "    chan[\"measure\"].spectroscopy.result.enable(1)  # start logger\n",
    "    \n",
    "    \n",
    "    # start sequencers\n",
    "    chan[\"measure\"].generator.enable_sequencer(single=True)\n",
    "    chan[\"J\"].awg.enable_sequencer(single=True)  # dont want to repeat\n",
    "    chan[\"P1\"].awg.enable_sequencer(single=True)\n",
    "    chan[\"P2\"].awg.enable_sequencer(single=True)\n",
    "    chan[\"ST\"].awg.enable_sequencer(single=True)\n",
    "    \n",
    "    \n",
    "    # start triggering sequence (which starts each sequencer)\n",
    "    device.system.internaltrigger.enable(1)\n",
    "    time.sleep(0.2)\n",
    "    \n",
    "    # wait for the measurement to complete\n",
    "    waitForInternalTrigger(progress=True, leave=False)\n",
    "    #device.system.internaltrigger. .wait_for_state_change(1.0, timeout=100)  # wait for completion\n",
    "\n",
    "\n",
    "    # check sequencers have finished their sequences\n",
    "    # Status of the Sequencer on the instrument.\n",
    "    # - Bit 0: Sequencer is running;\n",
    "    # - Bit 1: reserved;\n",
    "    # - Bit 2: Sequencer is waiting for a trigger to arrive;\n",
    "    # - Bit 3: Sequencer has detected an error;\n",
    "    # - Bit 4: sequencer is waiting for synchronization with other channels\n",
    "    m_state = chan[\"measure\"].generator.sequencer.status()\n",
    "    st_state = chan[\"P1\"].awg.sequencer.status()\n",
    "    if m_state != 4 and st_state != 4:\n",
    "        warnings.warn(f\"Sequencers in unknown state. Perhaps they are not synchronised? {bin(m_state)}, {bin(st_state)}\")\n",
    "        #time.sleep(0.5)\n",
    "    \n",
    "    \n",
    "    # wait for completion\n",
    "    while chan[\"measure\"].spectroscopy.result.enable() != 0:\n",
    "        chan[\"measure\"].spectroscopy.result.enable.wait_for_state_change(0, timeout=100)\n",
    "\n",
    "    \n",
    "    # get results\n",
    "    results = get_results(result_node, timeout=5)\n",
    "    result_node.unsubscribe()\n",
    "    \n",
    "    \n",
    "    # verify results\n",
    "    acq = chan[\"measure\"].spectroscopy.result.acquired()\n",
    "    if len(results) > acq:\n",
    "        print(chan[\"measure\"].generator.ready())\n",
    "        print([chan[c].awg.ready() for c in drive_chans])\n",
    "        raise TimeoutError(f\"Not all datapoints measured in the time provided. {acq} of {len(results)}.\")\n",
    "    \n",
    "    #return np.mean(results.reshape((seq_averages, 2)), axis=0)\n",
    "    return results\n",
    "\n",
    "\n"
   ]
  },
  {
   "cell_type": "code",
   "execution_count": 313,
   "id": "8a70d989-06a4-45fd-a9de-cb9c57d748d9",
   "metadata": {},
   "outputs": [],
   "source": [
    "device.system.internaltrigger.repetitions(seq_averages)  # make sure that this matches how many pulses we are sending\n",
    "device.system.internaltrigger.holdoff(trigger_time)  # init_len + 2*wait_and_settle + 100e-6*2)  # how long to wait between retriggers (increments of 100ns)"
   ]
  },
  {
   "cell_type": "code",
   "execution_count": 314,
   "id": "34fcc1a5-4ba8-4288-9e93-ab28fcdbc70b",
   "metadata": {},
   "outputs": [],
   "source": [
    "# setup channel synchronization\n",
    "chan[\"measure\"].synchronization.enable(1)\n",
    "chan[\"P1\"].synchronization.enable(1)\n",
    "chan[\"P2\"].synchronization.enable(1)\n",
    "chan[\"J\"].synchronization.enable(1)\n",
    "chan[\"ST\"].synchronization.enable(1)\n",
    "device.system.internaltrigger.synchronization.enable(1)"
   ]
  },
  {
   "cell_type": "markdown",
   "id": "d68a9e0b-4fcf-4bed-9cc6-6e54a1d17895",
   "metadata": {},
   "source": [
    "### Run loop"
   ]
  },
  {
   "cell_type": "code",
   "execution_count": 315,
   "id": "23e2651e-ccf4-493a-af0a-429b65ed2c35",
   "metadata": {},
   "outputs": [
    {
     "data": {
      "text/plain": [
       "'sequence.163'"
      ]
     },
     "execution_count": 315,
     "metadata": {},
     "output_type": "execute_result"
    }
   ],
   "source": [
    "monty.runname"
   ]
  },
  {
   "cell_type": "code",
   "execution_count": 316,
   "id": "31450368-d9bb-4fdb-9b5d-d59e299d38df",
   "metadata": {},
   "outputs": [
    {
     "name": "stdout",
     "output_type": "stream",
     "text": [
      "Started new run sequence.164\n",
      "Measuring initial feedback point\n"
     ]
    },
    {
     "data": {
      "application/vnd.jupyter.widget-view+json": {
       "model_id": "49580f1b26ee4f19914216de4c4fa285",
       "version_major": 2,
       "version_minor": 0
      },
      "text/plain": [
       "Internal trigger:   0%|          | 0/100 [00:00<?, ?it/s]"
      ]
     },
     "metadata": {},
     "output_type": "display_data"
    },
    {
     "name": "stdout",
     "output_type": "stream",
     "text": [
      "Sweeping P1, P2 and J\n"
     ]
    },
    {
     "data": {
      "application/vnd.jupyter.widget-view+json": {
       "model_id": "970dc23362ce4dca969d7a1d57d981c0",
       "version_major": 2,
       "version_minor": 0
      },
      "text/plain": [
       "J:   0%|          | 0/1 [00:00<?, ?it/s]"
      ]
     },
     "metadata": {},
     "output_type": "display_data"
    },
    {
     "data": {
      "application/vnd.jupyter.widget-view+json": {
       "model_id": "",
       "version_major": 2,
       "version_minor": 0
      },
      "text/plain": [
       "Detuning:   0%|          | 0/200 [00:00<?, ?it/s]"
      ]
     },
     "metadata": {},
     "output_type": "display_data"
    },
    {
     "data": {
      "application/vnd.jupyter.widget-view+json": {
       "model_id": "",
       "version_major": 2,
       "version_minor": 0
      },
      "text/plain": [
       "Internal trigger:   0%|          | 0/100 [00:00<?, ?it/s]"
      ]
     },
     "metadata": {},
     "output_type": "display_data"
    },
    {
     "data": {
      "application/vnd.jupyter.widget-view+json": {
       "model_id": "",
       "version_major": 2,
       "version_minor": 0
      },
      "text/plain": [
       "Internal trigger:   0%|          | 0/100 [00:00<?, ?it/s]"
      ]
     },
     "metadata": {},
     "output_type": "display_data"
    },
    {
     "data": {
      "application/vnd.jupyter.widget-view+json": {
       "model_id": "",
       "version_major": 2,
       "version_minor": 0
      },
      "text/plain": [
       "Internal trigger:   0%|          | 0/100 [00:00<?, ?it/s]"
      ]
     },
     "metadata": {},
     "output_type": "display_data"
    },
    {
     "data": {
      "application/vnd.jupyter.widget-view+json": {
       "model_id": "",
       "version_major": 2,
       "version_minor": 0
      },
      "text/plain": [
       "Internal trigger:   0%|          | 0/100 [00:00<?, ?it/s]"
      ]
     },
     "metadata": {},
     "output_type": "display_data"
    },
    {
     "data": {
      "application/vnd.jupyter.widget-view+json": {
       "model_id": "",
       "version_major": 2,
       "version_minor": 0
      },
      "text/plain": [
       "Internal trigger:   0%|          | 0/100 [00:00<?, ?it/s]"
      ]
     },
     "metadata": {},
     "output_type": "display_data"
    },
    {
     "data": {
      "application/vnd.jupyter.widget-view+json": {
       "model_id": "",
       "version_major": 2,
       "version_minor": 0
      },
      "text/plain": [
       "Internal trigger:   0%|          | 0/100 [00:00<?, ?it/s]"
      ]
     },
     "metadata": {},
     "output_type": "display_data"
    },
    {
     "data": {
      "application/vnd.jupyter.widget-view+json": {
       "model_id": "",
       "version_major": 2,
       "version_minor": 0
      },
      "text/plain": [
       "Internal trigger:   0%|          | 0/100 [00:00<?, ?it/s]"
      ]
     },
     "metadata": {},
     "output_type": "display_data"
    },
    {
     "data": {
      "application/vnd.jupyter.widget-view+json": {
       "model_id": "",
       "version_major": 2,
       "version_minor": 0
      },
      "text/plain": [
       "Internal trigger:   0%|          | 0/100 [00:00<?, ?it/s]"
      ]
     },
     "metadata": {},
     "output_type": "display_data"
    },
    {
     "data": {
      "application/vnd.jupyter.widget-view+json": {
       "model_id": "",
       "version_major": 2,
       "version_minor": 0
      },
      "text/plain": [
       "Internal trigger:   0%|          | 0/100 [00:00<?, ?it/s]"
      ]
     },
     "metadata": {},
     "output_type": "display_data"
    },
    {
     "data": {
      "application/vnd.jupyter.widget-view+json": {
       "model_id": "",
       "version_major": 2,
       "version_minor": 0
      },
      "text/plain": [
       "Internal trigger:   0%|          | 0/100 [00:00<?, ?it/s]"
      ]
     },
     "metadata": {},
     "output_type": "display_data"
    },
    {
     "data": {
      "application/vnd.jupyter.widget-view+json": {
       "model_id": "",
       "version_major": 2,
       "version_minor": 0
      },
      "text/plain": [
       "Internal trigger:   0%|          | 0/100 [00:00<?, ?it/s]"
      ]
     },
     "metadata": {},
     "output_type": "display_data"
    },
    {
     "data": {
      "application/vnd.jupyter.widget-view+json": {
       "model_id": "",
       "version_major": 2,
       "version_minor": 0
      },
      "text/plain": [
       "Internal trigger:   0%|          | 0/100 [00:00<?, ?it/s]"
      ]
     },
     "metadata": {},
     "output_type": "display_data"
    },
    {
     "data": {
      "application/vnd.jupyter.widget-view+json": {
       "model_id": "",
       "version_major": 2,
       "version_minor": 0
      },
      "text/plain": [
       "Internal trigger:   0%|          | 0/100 [00:00<?, ?it/s]"
      ]
     },
     "metadata": {},
     "output_type": "display_data"
    },
    {
     "data": {
      "application/vnd.jupyter.widget-view+json": {
       "model_id": "",
       "version_major": 2,
       "version_minor": 0
      },
      "text/plain": [
       "Internal trigger:   0%|          | 0/100 [00:00<?, ?it/s]"
      ]
     },
     "metadata": {},
     "output_type": "display_data"
    },
    {
     "data": {
      "application/vnd.jupyter.widget-view+json": {
       "model_id": "",
       "version_major": 2,
       "version_minor": 0
      },
      "text/plain": [
       "Internal trigger:   0%|          | 0/100 [00:00<?, ?it/s]"
      ]
     },
     "metadata": {},
     "output_type": "display_data"
    },
    {
     "data": {
      "application/vnd.jupyter.widget-view+json": {
       "model_id": "",
       "version_major": 2,
       "version_minor": 0
      },
      "text/plain": [
       "Internal trigger:   0%|          | 0/100 [00:00<?, ?it/s]"
      ]
     },
     "metadata": {},
     "output_type": "display_data"
    },
    {
     "data": {
      "application/vnd.jupyter.widget-view+json": {
       "model_id": "",
       "version_major": 2,
       "version_minor": 0
      },
      "text/plain": [
       "Internal trigger:   0%|          | 0/100 [00:00<?, ?it/s]"
      ]
     },
     "metadata": {},
     "output_type": "display_data"
    },
    {
     "data": {
      "application/vnd.jupyter.widget-view+json": {
       "model_id": "",
       "version_major": 2,
       "version_minor": 0
      },
      "text/plain": [
       "Internal trigger:   0%|          | 0/100 [00:00<?, ?it/s]"
      ]
     },
     "metadata": {},
     "output_type": "display_data"
    },
    {
     "data": {
      "application/vnd.jupyter.widget-view+json": {
       "model_id": "",
       "version_major": 2,
       "version_minor": 0
      },
      "text/plain": [
       "Internal trigger:   0%|          | 0/100 [00:00<?, ?it/s]"
      ]
     },
     "metadata": {},
     "output_type": "display_data"
    },
    {
     "data": {
      "application/vnd.jupyter.widget-view+json": {
       "model_id": "",
       "version_major": 2,
       "version_minor": 0
      },
      "text/plain": [
       "Internal trigger:   0%|          | 0/100 [00:00<?, ?it/s]"
      ]
     },
     "metadata": {},
     "output_type": "display_data"
    },
    {
     "data": {
      "application/vnd.jupyter.widget-view+json": {
       "model_id": "",
       "version_major": 2,
       "version_minor": 0
      },
      "text/plain": [
       "Internal trigger:   0%|          | 0/100 [00:00<?, ?it/s]"
      ]
     },
     "metadata": {},
     "output_type": "display_data"
    },
    {
     "data": {
      "application/vnd.jupyter.widget-view+json": {
       "model_id": "",
       "version_major": 2,
       "version_minor": 0
      },
      "text/plain": [
       "Internal trigger:   0%|          | 0/100 [00:00<?, ?it/s]"
      ]
     },
     "metadata": {},
     "output_type": "display_data"
    },
    {
     "data": {
      "application/vnd.jupyter.widget-view+json": {
       "model_id": "",
       "version_major": 2,
       "version_minor": 0
      },
      "text/plain": [
       "Internal trigger:   0%|          | 0/100 [00:00<?, ?it/s]"
      ]
     },
     "metadata": {},
     "output_type": "display_data"
    },
    {
     "data": {
      "application/vnd.jupyter.widget-view+json": {
       "model_id": "",
       "version_major": 2,
       "version_minor": 0
      },
      "text/plain": [
       "Internal trigger:   0%|          | 0/100 [00:00<?, ?it/s]"
      ]
     },
     "metadata": {},
     "output_type": "display_data"
    },
    {
     "data": {
      "application/vnd.jupyter.widget-view+json": {
       "model_id": "",
       "version_major": 2,
       "version_minor": 0
      },
      "text/plain": [
       "Internal trigger:   0%|          | 0/100 [00:00<?, ?it/s]"
      ]
     },
     "metadata": {},
     "output_type": "display_data"
    },
    {
     "data": {
      "application/vnd.jupyter.widget-view+json": {
       "model_id": "",
       "version_major": 2,
       "version_minor": 0
      },
      "text/plain": [
       "Internal trigger:   0%|          | 0/100 [00:00<?, ?it/s]"
      ]
     },
     "metadata": {},
     "output_type": "display_data"
    },
    {
     "data": {
      "application/vnd.jupyter.widget-view+json": {
       "model_id": "",
       "version_major": 2,
       "version_minor": 0
      },
      "text/plain": [
       "Internal trigger:   0%|          | 0/100 [00:00<?, ?it/s]"
      ]
     },
     "metadata": {},
     "output_type": "display_data"
    },
    {
     "data": {
      "application/vnd.jupyter.widget-view+json": {
       "model_id": "",
       "version_major": 2,
       "version_minor": 0
      },
      "text/plain": [
       "Internal trigger:   0%|          | 0/100 [00:00<?, ?it/s]"
      ]
     },
     "metadata": {},
     "output_type": "display_data"
    },
    {
     "data": {
      "application/vnd.jupyter.widget-view+json": {
       "model_id": "",
       "version_major": 2,
       "version_minor": 0
      },
      "text/plain": [
       "Internal trigger:   0%|          | 0/100 [00:00<?, ?it/s]"
      ]
     },
     "metadata": {},
     "output_type": "display_data"
    },
    {
     "data": {
      "application/vnd.jupyter.widget-view+json": {
       "model_id": "",
       "version_major": 2,
       "version_minor": 0
      },
      "text/plain": [
       "Internal trigger:   0%|          | 0/100 [00:00<?, ?it/s]"
      ]
     },
     "metadata": {},
     "output_type": "display_data"
    },
    {
     "data": {
      "application/vnd.jupyter.widget-view+json": {
       "model_id": "",
       "version_major": 2,
       "version_minor": 0
      },
      "text/plain": [
       "Internal trigger:   0%|          | 0/100 [00:00<?, ?it/s]"
      ]
     },
     "metadata": {},
     "output_type": "display_data"
    },
    {
     "data": {
      "application/vnd.jupyter.widget-view+json": {
       "model_id": "",
       "version_major": 2,
       "version_minor": 0
      },
      "text/plain": [
       "Internal trigger:   0%|          | 0/100 [00:00<?, ?it/s]"
      ]
     },
     "metadata": {},
     "output_type": "display_data"
    },
    {
     "data": {
      "application/vnd.jupyter.widget-view+json": {
       "model_id": "",
       "version_major": 2,
       "version_minor": 0
      },
      "text/plain": [
       "Internal trigger:   0%|          | 0/100 [00:00<?, ?it/s]"
      ]
     },
     "metadata": {},
     "output_type": "display_data"
    },
    {
     "data": {
      "application/vnd.jupyter.widget-view+json": {
       "model_id": "",
       "version_major": 2,
       "version_minor": 0
      },
      "text/plain": [
       "Internal trigger:   0%|          | 0/100 [00:00<?, ?it/s]"
      ]
     },
     "metadata": {},
     "output_type": "display_data"
    },
    {
     "data": {
      "application/vnd.jupyter.widget-view+json": {
       "model_id": "",
       "version_major": 2,
       "version_minor": 0
      },
      "text/plain": [
       "Internal trigger:   0%|          | 0/100 [00:00<?, ?it/s]"
      ]
     },
     "metadata": {},
     "output_type": "display_data"
    },
    {
     "data": {
      "application/vnd.jupyter.widget-view+json": {
       "model_id": "",
       "version_major": 2,
       "version_minor": 0
      },
      "text/plain": [
       "Internal trigger:   0%|          | 0/100 [00:00<?, ?it/s]"
      ]
     },
     "metadata": {},
     "output_type": "display_data"
    },
    {
     "data": {
      "application/vnd.jupyter.widget-view+json": {
       "model_id": "",
       "version_major": 2,
       "version_minor": 0
      },
      "text/plain": [
       "Internal trigger:   0%|          | 0/100 [00:00<?, ?it/s]"
      ]
     },
     "metadata": {},
     "output_type": "display_data"
    },
    {
     "data": {
      "application/vnd.jupyter.widget-view+json": {
       "model_id": "",
       "version_major": 2,
       "version_minor": 0
      },
      "text/plain": [
       "Internal trigger:   0%|          | 0/100 [00:00<?, ?it/s]"
      ]
     },
     "metadata": {},
     "output_type": "display_data"
    },
    {
     "data": {
      "application/vnd.jupyter.widget-view+json": {
       "model_id": "",
       "version_major": 2,
       "version_minor": 0
      },
      "text/plain": [
       "Internal trigger:   0%|          | 0/100 [00:00<?, ?it/s]"
      ]
     },
     "metadata": {},
     "output_type": "display_data"
    },
    {
     "data": {
      "application/vnd.jupyter.widget-view+json": {
       "model_id": "",
       "version_major": 2,
       "version_minor": 0
      },
      "text/plain": [
       "Internal trigger:   0%|          | 0/100 [00:00<?, ?it/s]"
      ]
     },
     "metadata": {},
     "output_type": "display_data"
    },
    {
     "data": {
      "application/vnd.jupyter.widget-view+json": {
       "model_id": "",
       "version_major": 2,
       "version_minor": 0
      },
      "text/plain": [
       "Internal trigger:   0%|          | 0/100 [00:00<?, ?it/s]"
      ]
     },
     "metadata": {},
     "output_type": "display_data"
    },
    {
     "data": {
      "application/vnd.jupyter.widget-view+json": {
       "model_id": "",
       "version_major": 2,
       "version_minor": 0
      },
      "text/plain": [
       "Internal trigger:   0%|          | 0/100 [00:00<?, ?it/s]"
      ]
     },
     "metadata": {},
     "output_type": "display_data"
    },
    {
     "data": {
      "application/vnd.jupyter.widget-view+json": {
       "model_id": "",
       "version_major": 2,
       "version_minor": 0
      },
      "text/plain": [
       "Internal trigger:   0%|          | 0/100 [00:00<?, ?it/s]"
      ]
     },
     "metadata": {},
     "output_type": "display_data"
    },
    {
     "data": {
      "application/vnd.jupyter.widget-view+json": {
       "model_id": "",
       "version_major": 2,
       "version_minor": 0
      },
      "text/plain": [
       "Internal trigger:   0%|          | 0/100 [00:00<?, ?it/s]"
      ]
     },
     "metadata": {},
     "output_type": "display_data"
    },
    {
     "data": {
      "application/vnd.jupyter.widget-view+json": {
       "model_id": "",
       "version_major": 2,
       "version_minor": 0
      },
      "text/plain": [
       "Internal trigger:   0%|          | 0/100 [00:00<?, ?it/s]"
      ]
     },
     "metadata": {},
     "output_type": "display_data"
    },
    {
     "data": {
      "application/vnd.jupyter.widget-view+json": {
       "model_id": "",
       "version_major": 2,
       "version_minor": 0
      },
      "text/plain": [
       "Internal trigger:   0%|          | 0/100 [00:00<?, ?it/s]"
      ]
     },
     "metadata": {},
     "output_type": "display_data"
    },
    {
     "data": {
      "application/vnd.jupyter.widget-view+json": {
       "model_id": "",
       "version_major": 2,
       "version_minor": 0
      },
      "text/plain": [
       "Internal trigger:   0%|          | 0/100 [00:00<?, ?it/s]"
      ]
     },
     "metadata": {},
     "output_type": "display_data"
    },
    {
     "data": {
      "application/vnd.jupyter.widget-view+json": {
       "model_id": "",
       "version_major": 2,
       "version_minor": 0
      },
      "text/plain": [
       "Internal trigger:   0%|          | 0/100 [00:00<?, ?it/s]"
      ]
     },
     "metadata": {},
     "output_type": "display_data"
    },
    {
     "data": {
      "application/vnd.jupyter.widget-view+json": {
       "model_id": "",
       "version_major": 2,
       "version_minor": 0
      },
      "text/plain": [
       "Internal trigger:   0%|          | 0/100 [00:00<?, ?it/s]"
      ]
     },
     "metadata": {},
     "output_type": "display_data"
    },
    {
     "data": {
      "application/vnd.jupyter.widget-view+json": {
       "model_id": "",
       "version_major": 2,
       "version_minor": 0
      },
      "text/plain": [
       "Internal trigger:   0%|          | 0/100 [00:00<?, ?it/s]"
      ]
     },
     "metadata": {},
     "output_type": "display_data"
    },
    {
     "data": {
      "application/vnd.jupyter.widget-view+json": {
       "model_id": "",
       "version_major": 2,
       "version_minor": 0
      },
      "text/plain": [
       "Internal trigger:   0%|          | 0/100 [00:00<?, ?it/s]"
      ]
     },
     "metadata": {},
     "output_type": "display_data"
    },
    {
     "data": {
      "application/vnd.jupyter.widget-view+json": {
       "model_id": "",
       "version_major": 2,
       "version_minor": 0
      },
      "text/plain": [
       "Internal trigger:   0%|          | 0/100 [00:00<?, ?it/s]"
      ]
     },
     "metadata": {},
     "output_type": "display_data"
    },
    {
     "data": {
      "application/vnd.jupyter.widget-view+json": {
       "model_id": "",
       "version_major": 2,
       "version_minor": 0
      },
      "text/plain": [
       "Internal trigger:   0%|          | 0/100 [00:00<?, ?it/s]"
      ]
     },
     "metadata": {},
     "output_type": "display_data"
    },
    {
     "data": {
      "application/vnd.jupyter.widget-view+json": {
       "model_id": "",
       "version_major": 2,
       "version_minor": 0
      },
      "text/plain": [
       "Internal trigger:   0%|          | 0/100 [00:00<?, ?it/s]"
      ]
     },
     "metadata": {},
     "output_type": "display_data"
    },
    {
     "data": {
      "application/vnd.jupyter.widget-view+json": {
       "model_id": "",
       "version_major": 2,
       "version_minor": 0
      },
      "text/plain": [
       "Internal trigger:   0%|          | 0/100 [00:00<?, ?it/s]"
      ]
     },
     "metadata": {},
     "output_type": "display_data"
    },
    {
     "data": {
      "application/vnd.jupyter.widget-view+json": {
       "model_id": "",
       "version_major": 2,
       "version_minor": 0
      },
      "text/plain": [
       "Internal trigger:   0%|          | 0/100 [00:00<?, ?it/s]"
      ]
     },
     "metadata": {},
     "output_type": "display_data"
    },
    {
     "data": {
      "application/vnd.jupyter.widget-view+json": {
       "model_id": "",
       "version_major": 2,
       "version_minor": 0
      },
      "text/plain": [
       "Internal trigger:   0%|          | 0/100 [00:00<?, ?it/s]"
      ]
     },
     "metadata": {},
     "output_type": "display_data"
    },
    {
     "data": {
      "application/vnd.jupyter.widget-view+json": {
       "model_id": "",
       "version_major": 2,
       "version_minor": 0
      },
      "text/plain": [
       "Internal trigger:   0%|          | 0/100 [00:00<?, ?it/s]"
      ]
     },
     "metadata": {},
     "output_type": "display_data"
    },
    {
     "data": {
      "application/vnd.jupyter.widget-view+json": {
       "model_id": "",
       "version_major": 2,
       "version_minor": 0
      },
      "text/plain": [
       "Internal trigger:   0%|          | 0/100 [00:00<?, ?it/s]"
      ]
     },
     "metadata": {},
     "output_type": "display_data"
    },
    {
     "data": {
      "application/vnd.jupyter.widget-view+json": {
       "model_id": "",
       "version_major": 2,
       "version_minor": 0
      },
      "text/plain": [
       "Internal trigger:   0%|          | 0/100 [00:00<?, ?it/s]"
      ]
     },
     "metadata": {},
     "output_type": "display_data"
    },
    {
     "data": {
      "application/vnd.jupyter.widget-view+json": {
       "model_id": "",
       "version_major": 2,
       "version_minor": 0
      },
      "text/plain": [
       "Internal trigger:   0%|          | 0/100 [00:00<?, ?it/s]"
      ]
     },
     "metadata": {},
     "output_type": "display_data"
    },
    {
     "data": {
      "application/vnd.jupyter.widget-view+json": {
       "model_id": "",
       "version_major": 2,
       "version_minor": 0
      },
      "text/plain": [
       "Internal trigger:   0%|          | 0/100 [00:00<?, ?it/s]"
      ]
     },
     "metadata": {},
     "output_type": "display_data"
    },
    {
     "data": {
      "application/vnd.jupyter.widget-view+json": {
       "model_id": "",
       "version_major": 2,
       "version_minor": 0
      },
      "text/plain": [
       "Internal trigger:   0%|          | 0/100 [00:00<?, ?it/s]"
      ]
     },
     "metadata": {},
     "output_type": "display_data"
    },
    {
     "data": {
      "application/vnd.jupyter.widget-view+json": {
       "model_id": "",
       "version_major": 2,
       "version_minor": 0
      },
      "text/plain": [
       "Internal trigger:   0%|          | 0/100 [00:00<?, ?it/s]"
      ]
     },
     "metadata": {},
     "output_type": "display_data"
    },
    {
     "data": {
      "application/vnd.jupyter.widget-view+json": {
       "model_id": "",
       "version_major": 2,
       "version_minor": 0
      },
      "text/plain": [
       "Internal trigger:   0%|          | 0/100 [00:00<?, ?it/s]"
      ]
     },
     "metadata": {},
     "output_type": "display_data"
    },
    {
     "data": {
      "application/vnd.jupyter.widget-view+json": {
       "model_id": "",
       "version_major": 2,
       "version_minor": 0
      },
      "text/plain": [
       "Internal trigger:   0%|          | 0/100 [00:00<?, ?it/s]"
      ]
     },
     "metadata": {},
     "output_type": "display_data"
    },
    {
     "data": {
      "application/vnd.jupyter.widget-view+json": {
       "model_id": "",
       "version_major": 2,
       "version_minor": 0
      },
      "text/plain": [
       "Internal trigger:   0%|          | 0/100 [00:00<?, ?it/s]"
      ]
     },
     "metadata": {},
     "output_type": "display_data"
    },
    {
     "data": {
      "application/vnd.jupyter.widget-view+json": {
       "model_id": "",
       "version_major": 2,
       "version_minor": 0
      },
      "text/plain": [
       "Internal trigger:   0%|          | 0/100 [00:00<?, ?it/s]"
      ]
     },
     "metadata": {},
     "output_type": "display_data"
    },
    {
     "data": {
      "application/vnd.jupyter.widget-view+json": {
       "model_id": "",
       "version_major": 2,
       "version_minor": 0
      },
      "text/plain": [
       "Internal trigger:   0%|          | 0/100 [00:00<?, ?it/s]"
      ]
     },
     "metadata": {},
     "output_type": "display_data"
    },
    {
     "data": {
      "application/vnd.jupyter.widget-view+json": {
       "model_id": "",
       "version_major": 2,
       "version_minor": 0
      },
      "text/plain": [
       "Internal trigger:   0%|          | 0/100 [00:00<?, ?it/s]"
      ]
     },
     "metadata": {},
     "output_type": "display_data"
    },
    {
     "data": {
      "application/vnd.jupyter.widget-view+json": {
       "model_id": "",
       "version_major": 2,
       "version_minor": 0
      },
      "text/plain": [
       "Internal trigger:   0%|          | 0/100 [00:00<?, ?it/s]"
      ]
     },
     "metadata": {},
     "output_type": "display_data"
    },
    {
     "data": {
      "application/vnd.jupyter.widget-view+json": {
       "model_id": "",
       "version_major": 2,
       "version_minor": 0
      },
      "text/plain": [
       "Internal trigger:   0%|          | 0/100 [00:00<?, ?it/s]"
      ]
     },
     "metadata": {},
     "output_type": "display_data"
    },
    {
     "data": {
      "application/vnd.jupyter.widget-view+json": {
       "model_id": "",
       "version_major": 2,
       "version_minor": 0
      },
      "text/plain": [
       "Internal trigger:   0%|          | 0/100 [00:00<?, ?it/s]"
      ]
     },
     "metadata": {},
     "output_type": "display_data"
    },
    {
     "data": {
      "application/vnd.jupyter.widget-view+json": {
       "model_id": "",
       "version_major": 2,
       "version_minor": 0
      },
      "text/plain": [
       "Internal trigger:   0%|          | 0/100 [00:00<?, ?it/s]"
      ]
     },
     "metadata": {},
     "output_type": "display_data"
    },
    {
     "data": {
      "application/vnd.jupyter.widget-view+json": {
       "model_id": "",
       "version_major": 2,
       "version_minor": 0
      },
      "text/plain": [
       "Internal trigger:   0%|          | 0/100 [00:00<?, ?it/s]"
      ]
     },
     "metadata": {},
     "output_type": "display_data"
    },
    {
     "data": {
      "application/vnd.jupyter.widget-view+json": {
       "model_id": "",
       "version_major": 2,
       "version_minor": 0
      },
      "text/plain": [
       "Internal trigger:   0%|          | 0/100 [00:00<?, ?it/s]"
      ]
     },
     "metadata": {},
     "output_type": "display_data"
    },
    {
     "data": {
      "application/vnd.jupyter.widget-view+json": {
       "model_id": "",
       "version_major": 2,
       "version_minor": 0
      },
      "text/plain": [
       "Internal trigger:   0%|          | 0/100 [00:00<?, ?it/s]"
      ]
     },
     "metadata": {},
     "output_type": "display_data"
    },
    {
     "data": {
      "application/vnd.jupyter.widget-view+json": {
       "model_id": "",
       "version_major": 2,
       "version_minor": 0
      },
      "text/plain": [
       "Internal trigger:   0%|          | 0/100 [00:00<?, ?it/s]"
      ]
     },
     "metadata": {},
     "output_type": "display_data"
    },
    {
     "data": {
      "application/vnd.jupyter.widget-view+json": {
       "model_id": "",
       "version_major": 2,
       "version_minor": 0
      },
      "text/plain": [
       "Internal trigger:   0%|          | 0/100 [00:00<?, ?it/s]"
      ]
     },
     "metadata": {},
     "output_type": "display_data"
    },
    {
     "data": {
      "application/vnd.jupyter.widget-view+json": {
       "model_id": "",
       "version_major": 2,
       "version_minor": 0
      },
      "text/plain": [
       "Internal trigger:   0%|          | 0/100 [00:00<?, ?it/s]"
      ]
     },
     "metadata": {},
     "output_type": "display_data"
    },
    {
     "data": {
      "application/vnd.jupyter.widget-view+json": {
       "model_id": "",
       "version_major": 2,
       "version_minor": 0
      },
      "text/plain": [
       "Internal trigger:   0%|          | 0/100 [00:00<?, ?it/s]"
      ]
     },
     "metadata": {},
     "output_type": "display_data"
    },
    {
     "data": {
      "application/vnd.jupyter.widget-view+json": {
       "model_id": "",
       "version_major": 2,
       "version_minor": 0
      },
      "text/plain": [
       "Internal trigger:   0%|          | 0/100 [00:00<?, ?it/s]"
      ]
     },
     "metadata": {},
     "output_type": "display_data"
    },
    {
     "data": {
      "application/vnd.jupyter.widget-view+json": {
       "model_id": "",
       "version_major": 2,
       "version_minor": 0
      },
      "text/plain": [
       "Internal trigger:   0%|          | 0/100 [00:00<?, ?it/s]"
      ]
     },
     "metadata": {},
     "output_type": "display_data"
    },
    {
     "data": {
      "application/vnd.jupyter.widget-view+json": {
       "model_id": "",
       "version_major": 2,
       "version_minor": 0
      },
      "text/plain": [
       "Internal trigger:   0%|          | 0/100 [00:00<?, ?it/s]"
      ]
     },
     "metadata": {},
     "output_type": "display_data"
    },
    {
     "data": {
      "application/vnd.jupyter.widget-view+json": {
       "model_id": "",
       "version_major": 2,
       "version_minor": 0
      },
      "text/plain": [
       "Internal trigger:   0%|          | 0/100 [00:00<?, ?it/s]"
      ]
     },
     "metadata": {},
     "output_type": "display_data"
    },
    {
     "data": {
      "application/vnd.jupyter.widget-view+json": {
       "model_id": "",
       "version_major": 2,
       "version_minor": 0
      },
      "text/plain": [
       "Internal trigger:   0%|          | 0/100 [00:00<?, ?it/s]"
      ]
     },
     "metadata": {},
     "output_type": "display_data"
    },
    {
     "data": {
      "application/vnd.jupyter.widget-view+json": {
       "model_id": "",
       "version_major": 2,
       "version_minor": 0
      },
      "text/plain": [
       "Internal trigger:   0%|          | 0/100 [00:00<?, ?it/s]"
      ]
     },
     "metadata": {},
     "output_type": "display_data"
    },
    {
     "data": {
      "application/vnd.jupyter.widget-view+json": {
       "model_id": "",
       "version_major": 2,
       "version_minor": 0
      },
      "text/plain": [
       "Internal trigger:   0%|          | 0/100 [00:00<?, ?it/s]"
      ]
     },
     "metadata": {},
     "output_type": "display_data"
    },
    {
     "data": {
      "application/vnd.jupyter.widget-view+json": {
       "model_id": "",
       "version_major": 2,
       "version_minor": 0
      },
      "text/plain": [
       "Internal trigger:   0%|          | 0/100 [00:00<?, ?it/s]"
      ]
     },
     "metadata": {},
     "output_type": "display_data"
    },
    {
     "data": {
      "application/vnd.jupyter.widget-view+json": {
       "model_id": "",
       "version_major": 2,
       "version_minor": 0
      },
      "text/plain": [
       "Internal trigger:   0%|          | 0/100 [00:00<?, ?it/s]"
      ]
     },
     "metadata": {},
     "output_type": "display_data"
    },
    {
     "data": {
      "application/vnd.jupyter.widget-view+json": {
       "model_id": "",
       "version_major": 2,
       "version_minor": 0
      },
      "text/plain": [
       "Internal trigger:   0%|          | 0/100 [00:00<?, ?it/s]"
      ]
     },
     "metadata": {},
     "output_type": "display_data"
    },
    {
     "data": {
      "application/vnd.jupyter.widget-view+json": {
       "model_id": "",
       "version_major": 2,
       "version_minor": 0
      },
      "text/plain": [
       "Internal trigger:   0%|          | 0/100 [00:00<?, ?it/s]"
      ]
     },
     "metadata": {},
     "output_type": "display_data"
    },
    {
     "data": {
      "application/vnd.jupyter.widget-view+json": {
       "model_id": "",
       "version_major": 2,
       "version_minor": 0
      },
      "text/plain": [
       "Internal trigger:   0%|          | 0/100 [00:00<?, ?it/s]"
      ]
     },
     "metadata": {},
     "output_type": "display_data"
    },
    {
     "data": {
      "application/vnd.jupyter.widget-view+json": {
       "model_id": "",
       "version_major": 2,
       "version_minor": 0
      },
      "text/plain": [
       "Internal trigger:   0%|          | 0/100 [00:00<?, ?it/s]"
      ]
     },
     "metadata": {},
     "output_type": "display_data"
    },
    {
     "data": {
      "application/vnd.jupyter.widget-view+json": {
       "model_id": "",
       "version_major": 2,
       "version_minor": 0
      },
      "text/plain": [
       "Internal trigger:   0%|          | 0/100 [00:00<?, ?it/s]"
      ]
     },
     "metadata": {},
     "output_type": "display_data"
    },
    {
     "data": {
      "application/vnd.jupyter.widget-view+json": {
       "model_id": "",
       "version_major": 2,
       "version_minor": 0
      },
      "text/plain": [
       "Internal trigger:   0%|          | 0/100 [00:00<?, ?it/s]"
      ]
     },
     "metadata": {},
     "output_type": "display_data"
    },
    {
     "data": {
      "application/vnd.jupyter.widget-view+json": {
       "model_id": "",
       "version_major": 2,
       "version_minor": 0
      },
      "text/plain": [
       "Internal trigger:   0%|          | 0/100 [00:00<?, ?it/s]"
      ]
     },
     "metadata": {},
     "output_type": "display_data"
    },
    {
     "data": {
      "application/vnd.jupyter.widget-view+json": {
       "model_id": "",
       "version_major": 2,
       "version_minor": 0
      },
      "text/plain": [
       "Internal trigger:   0%|          | 0/100 [00:00<?, ?it/s]"
      ]
     },
     "metadata": {},
     "output_type": "display_data"
    },
    {
     "data": {
      "application/vnd.jupyter.widget-view+json": {
       "model_id": "",
       "version_major": 2,
       "version_minor": 0
      },
      "text/plain": [
       "Internal trigger:   0%|          | 0/100 [00:00<?, ?it/s]"
      ]
     },
     "metadata": {},
     "output_type": "display_data"
    },
    {
     "data": {
      "application/vnd.jupyter.widget-view+json": {
       "model_id": "",
       "version_major": 2,
       "version_minor": 0
      },
      "text/plain": [
       "Internal trigger:   0%|          | 0/100 [00:00<?, ?it/s]"
      ]
     },
     "metadata": {},
     "output_type": "display_data"
    },
    {
     "data": {
      "application/vnd.jupyter.widget-view+json": {
       "model_id": "",
       "version_major": 2,
       "version_minor": 0
      },
      "text/plain": [
       "Internal trigger:   0%|          | 0/100 [00:00<?, ?it/s]"
      ]
     },
     "metadata": {},
     "output_type": "display_data"
    },
    {
     "data": {
      "application/vnd.jupyter.widget-view+json": {
       "model_id": "",
       "version_major": 2,
       "version_minor": 0
      },
      "text/plain": [
       "Internal trigger:   0%|          | 0/100 [00:00<?, ?it/s]"
      ]
     },
     "metadata": {},
     "output_type": "display_data"
    },
    {
     "data": {
      "application/vnd.jupyter.widget-view+json": {
       "model_id": "",
       "version_major": 2,
       "version_minor": 0
      },
      "text/plain": [
       "Internal trigger:   0%|          | 0/100 [00:00<?, ?it/s]"
      ]
     },
     "metadata": {},
     "output_type": "display_data"
    },
    {
     "data": {
      "application/vnd.jupyter.widget-view+json": {
       "model_id": "",
       "version_major": 2,
       "version_minor": 0
      },
      "text/plain": [
       "Internal trigger:   0%|          | 0/100 [00:00<?, ?it/s]"
      ]
     },
     "metadata": {},
     "output_type": "display_data"
    },
    {
     "data": {
      "application/vnd.jupyter.widget-view+json": {
       "model_id": "",
       "version_major": 2,
       "version_minor": 0
      },
      "text/plain": [
       "Internal trigger:   0%|          | 0/100 [00:00<?, ?it/s]"
      ]
     },
     "metadata": {},
     "output_type": "display_data"
    },
    {
     "data": {
      "application/vnd.jupyter.widget-view+json": {
       "model_id": "",
       "version_major": 2,
       "version_minor": 0
      },
      "text/plain": [
       "Internal trigger:   0%|          | 0/100 [00:00<?, ?it/s]"
      ]
     },
     "metadata": {},
     "output_type": "display_data"
    },
    {
     "data": {
      "application/vnd.jupyter.widget-view+json": {
       "model_id": "",
       "version_major": 2,
       "version_minor": 0
      },
      "text/plain": [
       "Internal trigger:   0%|          | 0/100 [00:00<?, ?it/s]"
      ]
     },
     "metadata": {},
     "output_type": "display_data"
    },
    {
     "data": {
      "application/vnd.jupyter.widget-view+json": {
       "model_id": "",
       "version_major": 2,
       "version_minor": 0
      },
      "text/plain": [
       "Internal trigger:   0%|          | 0/100 [00:00<?, ?it/s]"
      ]
     },
     "metadata": {},
     "output_type": "display_data"
    },
    {
     "data": {
      "application/vnd.jupyter.widget-view+json": {
       "model_id": "",
       "version_major": 2,
       "version_minor": 0
      },
      "text/plain": [
       "Internal trigger:   0%|          | 0/100 [00:00<?, ?it/s]"
      ]
     },
     "metadata": {},
     "output_type": "display_data"
    },
    {
     "data": {
      "application/vnd.jupyter.widget-view+json": {
       "model_id": "",
       "version_major": 2,
       "version_minor": 0
      },
      "text/plain": [
       "Internal trigger:   0%|          | 0/100 [00:00<?, ?it/s]"
      ]
     },
     "metadata": {},
     "output_type": "display_data"
    },
    {
     "data": {
      "application/vnd.jupyter.widget-view+json": {
       "model_id": "",
       "version_major": 2,
       "version_minor": 0
      },
      "text/plain": [
       "Internal trigger:   0%|          | 0/100 [00:00<?, ?it/s]"
      ]
     },
     "metadata": {},
     "output_type": "display_data"
    },
    {
     "data": {
      "application/vnd.jupyter.widget-view+json": {
       "model_id": "",
       "version_major": 2,
       "version_minor": 0
      },
      "text/plain": [
       "Internal trigger:   0%|          | 0/100 [00:00<?, ?it/s]"
      ]
     },
     "metadata": {},
     "output_type": "display_data"
    },
    {
     "data": {
      "application/vnd.jupyter.widget-view+json": {
       "model_id": "",
       "version_major": 2,
       "version_minor": 0
      },
      "text/plain": [
       "Internal trigger:   0%|          | 0/100 [00:00<?, ?it/s]"
      ]
     },
     "metadata": {},
     "output_type": "display_data"
    },
    {
     "data": {
      "application/vnd.jupyter.widget-view+json": {
       "model_id": "",
       "version_major": 2,
       "version_minor": 0
      },
      "text/plain": [
       "Internal trigger:   0%|          | 0/100 [00:00<?, ?it/s]"
      ]
     },
     "metadata": {},
     "output_type": "display_data"
    },
    {
     "data": {
      "application/vnd.jupyter.widget-view+json": {
       "model_id": "",
       "version_major": 2,
       "version_minor": 0
      },
      "text/plain": [
       "Internal trigger:   0%|          | 0/100 [00:00<?, ?it/s]"
      ]
     },
     "metadata": {},
     "output_type": "display_data"
    },
    {
     "data": {
      "application/vnd.jupyter.widget-view+json": {
       "model_id": "",
       "version_major": 2,
       "version_minor": 0
      },
      "text/plain": [
       "Internal trigger:   0%|          | 0/100 [00:00<?, ?it/s]"
      ]
     },
     "metadata": {},
     "output_type": "display_data"
    },
    {
     "data": {
      "application/vnd.jupyter.widget-view+json": {
       "model_id": "",
       "version_major": 2,
       "version_minor": 0
      },
      "text/plain": [
       "Internal trigger:   0%|          | 0/100 [00:00<?, ?it/s]"
      ]
     },
     "metadata": {},
     "output_type": "display_data"
    },
    {
     "data": {
      "application/vnd.jupyter.widget-view+json": {
       "model_id": "",
       "version_major": 2,
       "version_minor": 0
      },
      "text/plain": [
       "Internal trigger:   0%|          | 0/100 [00:00<?, ?it/s]"
      ]
     },
     "metadata": {},
     "output_type": "display_data"
    },
    {
     "data": {
      "application/vnd.jupyter.widget-view+json": {
       "model_id": "",
       "version_major": 2,
       "version_minor": 0
      },
      "text/plain": [
       "Internal trigger:   0%|          | 0/100 [00:00<?, ?it/s]"
      ]
     },
     "metadata": {},
     "output_type": "display_data"
    },
    {
     "data": {
      "application/vnd.jupyter.widget-view+json": {
       "model_id": "",
       "version_major": 2,
       "version_minor": 0
      },
      "text/plain": [
       "Internal trigger:   0%|          | 0/100 [00:00<?, ?it/s]"
      ]
     },
     "metadata": {},
     "output_type": "display_data"
    },
    {
     "data": {
      "application/vnd.jupyter.widget-view+json": {
       "model_id": "",
       "version_major": 2,
       "version_minor": 0
      },
      "text/plain": [
       "Internal trigger:   0%|          | 0/100 [00:00<?, ?it/s]"
      ]
     },
     "metadata": {},
     "output_type": "display_data"
    },
    {
     "data": {
      "application/vnd.jupyter.widget-view+json": {
       "model_id": "",
       "version_major": 2,
       "version_minor": 0
      },
      "text/plain": [
       "Internal trigger:   0%|          | 0/100 [00:00<?, ?it/s]"
      ]
     },
     "metadata": {},
     "output_type": "display_data"
    },
    {
     "data": {
      "application/vnd.jupyter.widget-view+json": {
       "model_id": "",
       "version_major": 2,
       "version_minor": 0
      },
      "text/plain": [
       "Internal trigger:   0%|          | 0/100 [00:00<?, ?it/s]"
      ]
     },
     "metadata": {},
     "output_type": "display_data"
    },
    {
     "data": {
      "application/vnd.jupyter.widget-view+json": {
       "model_id": "",
       "version_major": 2,
       "version_minor": 0
      },
      "text/plain": [
       "Internal trigger:   0%|          | 0/100 [00:00<?, ?it/s]"
      ]
     },
     "metadata": {},
     "output_type": "display_data"
    },
    {
     "data": {
      "application/vnd.jupyter.widget-view+json": {
       "model_id": "",
       "version_major": 2,
       "version_minor": 0
      },
      "text/plain": [
       "Internal trigger:   0%|          | 0/100 [00:00<?, ?it/s]"
      ]
     },
     "metadata": {},
     "output_type": "display_data"
    },
    {
     "data": {
      "application/vnd.jupyter.widget-view+json": {
       "model_id": "",
       "version_major": 2,
       "version_minor": 0
      },
      "text/plain": [
       "Internal trigger:   0%|          | 0/100 [00:00<?, ?it/s]"
      ]
     },
     "metadata": {},
     "output_type": "display_data"
    },
    {
     "data": {
      "application/vnd.jupyter.widget-view+json": {
       "model_id": "",
       "version_major": 2,
       "version_minor": 0
      },
      "text/plain": [
       "Internal trigger:   0%|          | 0/100 [00:00<?, ?it/s]"
      ]
     },
     "metadata": {},
     "output_type": "display_data"
    },
    {
     "data": {
      "application/vnd.jupyter.widget-view+json": {
       "model_id": "",
       "version_major": 2,
       "version_minor": 0
      },
      "text/plain": [
       "Internal trigger:   0%|          | 0/100 [00:00<?, ?it/s]"
      ]
     },
     "metadata": {},
     "output_type": "display_data"
    },
    {
     "data": {
      "application/vnd.jupyter.widget-view+json": {
       "model_id": "",
       "version_major": 2,
       "version_minor": 0
      },
      "text/plain": [
       "Internal trigger:   0%|          | 0/100 [00:00<?, ?it/s]"
      ]
     },
     "metadata": {},
     "output_type": "display_data"
    },
    {
     "data": {
      "application/vnd.jupyter.widget-view+json": {
       "model_id": "",
       "version_major": 2,
       "version_minor": 0
      },
      "text/plain": [
       "Internal trigger:   0%|          | 0/100 [00:00<?, ?it/s]"
      ]
     },
     "metadata": {},
     "output_type": "display_data"
    },
    {
     "data": {
      "application/vnd.jupyter.widget-view+json": {
       "model_id": "",
       "version_major": 2,
       "version_minor": 0
      },
      "text/plain": [
       "Internal trigger:   0%|          | 0/100 [00:00<?, ?it/s]"
      ]
     },
     "metadata": {},
     "output_type": "display_data"
    },
    {
     "data": {
      "application/vnd.jupyter.widget-view+json": {
       "model_id": "",
       "version_major": 2,
       "version_minor": 0
      },
      "text/plain": [
       "Internal trigger:   0%|          | 0/100 [00:00<?, ?it/s]"
      ]
     },
     "metadata": {},
     "output_type": "display_data"
    },
    {
     "data": {
      "application/vnd.jupyter.widget-view+json": {
       "model_id": "",
       "version_major": 2,
       "version_minor": 0
      },
      "text/plain": [
       "Internal trigger:   0%|          | 0/100 [00:00<?, ?it/s]"
      ]
     },
     "metadata": {},
     "output_type": "display_data"
    },
    {
     "data": {
      "application/vnd.jupyter.widget-view+json": {
       "model_id": "",
       "version_major": 2,
       "version_minor": 0
      },
      "text/plain": [
       "Internal trigger:   0%|          | 0/100 [00:00<?, ?it/s]"
      ]
     },
     "metadata": {},
     "output_type": "display_data"
    },
    {
     "data": {
      "application/vnd.jupyter.widget-view+json": {
       "model_id": "",
       "version_major": 2,
       "version_minor": 0
      },
      "text/plain": [
       "Internal trigger:   0%|          | 0/100 [00:00<?, ?it/s]"
      ]
     },
     "metadata": {},
     "output_type": "display_data"
    },
    {
     "data": {
      "application/vnd.jupyter.widget-view+json": {
       "model_id": "",
       "version_major": 2,
       "version_minor": 0
      },
      "text/plain": [
       "Internal trigger:   0%|          | 0/100 [00:00<?, ?it/s]"
      ]
     },
     "metadata": {},
     "output_type": "display_data"
    },
    {
     "data": {
      "application/vnd.jupyter.widget-view+json": {
       "model_id": "",
       "version_major": 2,
       "version_minor": 0
      },
      "text/plain": [
       "Internal trigger:   0%|          | 0/100 [00:00<?, ?it/s]"
      ]
     },
     "metadata": {},
     "output_type": "display_data"
    },
    {
     "data": {
      "application/vnd.jupyter.widget-view+json": {
       "model_id": "",
       "version_major": 2,
       "version_minor": 0
      },
      "text/plain": [
       "Internal trigger:   0%|          | 0/100 [00:00<?, ?it/s]"
      ]
     },
     "metadata": {},
     "output_type": "display_data"
    },
    {
     "data": {
      "application/vnd.jupyter.widget-view+json": {
       "model_id": "",
       "version_major": 2,
       "version_minor": 0
      },
      "text/plain": [
       "Internal trigger:   0%|          | 0/100 [00:00<?, ?it/s]"
      ]
     },
     "metadata": {},
     "output_type": "display_data"
    },
    {
     "data": {
      "application/vnd.jupyter.widget-view+json": {
       "model_id": "",
       "version_major": 2,
       "version_minor": 0
      },
      "text/plain": [
       "Internal trigger:   0%|          | 0/100 [00:00<?, ?it/s]"
      ]
     },
     "metadata": {},
     "output_type": "display_data"
    },
    {
     "data": {
      "application/vnd.jupyter.widget-view+json": {
       "model_id": "",
       "version_major": 2,
       "version_minor": 0
      },
      "text/plain": [
       "Internal trigger:   0%|          | 0/100 [00:00<?, ?it/s]"
      ]
     },
     "metadata": {},
     "output_type": "display_data"
    },
    {
     "data": {
      "application/vnd.jupyter.widget-view+json": {
       "model_id": "",
       "version_major": 2,
       "version_minor": 0
      },
      "text/plain": [
       "Internal trigger:   0%|          | 0/100 [00:00<?, ?it/s]"
      ]
     },
     "metadata": {},
     "output_type": "display_data"
    },
    {
     "data": {
      "application/vnd.jupyter.widget-view+json": {
       "model_id": "",
       "version_major": 2,
       "version_minor": 0
      },
      "text/plain": [
       "Internal trigger:   0%|          | 0/100 [00:00<?, ?it/s]"
      ]
     },
     "metadata": {},
     "output_type": "display_data"
    },
    {
     "data": {
      "application/vnd.jupyter.widget-view+json": {
       "model_id": "",
       "version_major": 2,
       "version_minor": 0
      },
      "text/plain": [
       "Internal trigger:   0%|          | 0/100 [00:00<?, ?it/s]"
      ]
     },
     "metadata": {},
     "output_type": "display_data"
    },
    {
     "data": {
      "application/vnd.jupyter.widget-view+json": {
       "model_id": "",
       "version_major": 2,
       "version_minor": 0
      },
      "text/plain": [
       "Internal trigger:   0%|          | 0/100 [00:00<?, ?it/s]"
      ]
     },
     "metadata": {},
     "output_type": "display_data"
    },
    {
     "data": {
      "application/vnd.jupyter.widget-view+json": {
       "model_id": "",
       "version_major": 2,
       "version_minor": 0
      },
      "text/plain": [
       "Internal trigger:   0%|          | 0/100 [00:00<?, ?it/s]"
      ]
     },
     "metadata": {},
     "output_type": "display_data"
    },
    {
     "data": {
      "application/vnd.jupyter.widget-view+json": {
       "model_id": "",
       "version_major": 2,
       "version_minor": 0
      },
      "text/plain": [
       "Internal trigger:   0%|          | 0/100 [00:00<?, ?it/s]"
      ]
     },
     "metadata": {},
     "output_type": "display_data"
    },
    {
     "data": {
      "application/vnd.jupyter.widget-view+json": {
       "model_id": "",
       "version_major": 2,
       "version_minor": 0
      },
      "text/plain": [
       "Internal trigger:   0%|          | 0/100 [00:00<?, ?it/s]"
      ]
     },
     "metadata": {},
     "output_type": "display_data"
    },
    {
     "data": {
      "application/vnd.jupyter.widget-view+json": {
       "model_id": "",
       "version_major": 2,
       "version_minor": 0
      },
      "text/plain": [
       "Internal trigger:   0%|          | 0/100 [00:00<?, ?it/s]"
      ]
     },
     "metadata": {},
     "output_type": "display_data"
    },
    {
     "data": {
      "application/vnd.jupyter.widget-view+json": {
       "model_id": "",
       "version_major": 2,
       "version_minor": 0
      },
      "text/plain": [
       "Internal trigger:   0%|          | 0/100 [00:00<?, ?it/s]"
      ]
     },
     "metadata": {},
     "output_type": "display_data"
    },
    {
     "data": {
      "application/vnd.jupyter.widget-view+json": {
       "model_id": "",
       "version_major": 2,
       "version_minor": 0
      },
      "text/plain": [
       "Internal trigger:   0%|          | 0/100 [00:00<?, ?it/s]"
      ]
     },
     "metadata": {},
     "output_type": "display_data"
    },
    {
     "data": {
      "application/vnd.jupyter.widget-view+json": {
       "model_id": "",
       "version_major": 2,
       "version_minor": 0
      },
      "text/plain": [
       "Internal trigger:   0%|          | 0/100 [00:00<?, ?it/s]"
      ]
     },
     "metadata": {},
     "output_type": "display_data"
    },
    {
     "data": {
      "application/vnd.jupyter.widget-view+json": {
       "model_id": "",
       "version_major": 2,
       "version_minor": 0
      },
      "text/plain": [
       "Internal trigger:   0%|          | 0/100 [00:00<?, ?it/s]"
      ]
     },
     "metadata": {},
     "output_type": "display_data"
    },
    {
     "data": {
      "application/vnd.jupyter.widget-view+json": {
       "model_id": "",
       "version_major": 2,
       "version_minor": 0
      },
      "text/plain": [
       "Internal trigger:   0%|          | 0/100 [00:00<?, ?it/s]"
      ]
     },
     "metadata": {},
     "output_type": "display_data"
    },
    {
     "data": {
      "application/vnd.jupyter.widget-view+json": {
       "model_id": "",
       "version_major": 2,
       "version_minor": 0
      },
      "text/plain": [
       "Internal trigger:   0%|          | 0/100 [00:00<?, ?it/s]"
      ]
     },
     "metadata": {},
     "output_type": "display_data"
    },
    {
     "data": {
      "application/vnd.jupyter.widget-view+json": {
       "model_id": "",
       "version_major": 2,
       "version_minor": 0
      },
      "text/plain": [
       "Internal trigger:   0%|          | 0/100 [00:00<?, ?it/s]"
      ]
     },
     "metadata": {},
     "output_type": "display_data"
    },
    {
     "data": {
      "application/vnd.jupyter.widget-view+json": {
       "model_id": "",
       "version_major": 2,
       "version_minor": 0
      },
      "text/plain": [
       "Internal trigger:   0%|          | 0/100 [00:00<?, ?it/s]"
      ]
     },
     "metadata": {},
     "output_type": "display_data"
    },
    {
     "data": {
      "application/vnd.jupyter.widget-view+json": {
       "model_id": "",
       "version_major": 2,
       "version_minor": 0
      },
      "text/plain": [
       "Internal trigger:   0%|          | 0/100 [00:00<?, ?it/s]"
      ]
     },
     "metadata": {},
     "output_type": "display_data"
    },
    {
     "data": {
      "application/vnd.jupyter.widget-view+json": {
       "model_id": "",
       "version_major": 2,
       "version_minor": 0
      },
      "text/plain": [
       "Internal trigger:   0%|          | 0/100 [00:00<?, ?it/s]"
      ]
     },
     "metadata": {},
     "output_type": "display_data"
    },
    {
     "data": {
      "application/vnd.jupyter.widget-view+json": {
       "model_id": "",
       "version_major": 2,
       "version_minor": 0
      },
      "text/plain": [
       "Internal trigger:   0%|          | 0/100 [00:00<?, ?it/s]"
      ]
     },
     "metadata": {},
     "output_type": "display_data"
    },
    {
     "data": {
      "application/vnd.jupyter.widget-view+json": {
       "model_id": "",
       "version_major": 2,
       "version_minor": 0
      },
      "text/plain": [
       "Internal trigger:   0%|          | 0/100 [00:00<?, ?it/s]"
      ]
     },
     "metadata": {},
     "output_type": "display_data"
    },
    {
     "data": {
      "application/vnd.jupyter.widget-view+json": {
       "model_id": "",
       "version_major": 2,
       "version_minor": 0
      },
      "text/plain": [
       "Internal trigger:   0%|          | 0/100 [00:00<?, ?it/s]"
      ]
     },
     "metadata": {},
     "output_type": "display_data"
    },
    {
     "data": {
      "application/vnd.jupyter.widget-view+json": {
       "model_id": "",
       "version_major": 2,
       "version_minor": 0
      },
      "text/plain": [
       "Internal trigger:   0%|          | 0/100 [00:00<?, ?it/s]"
      ]
     },
     "metadata": {},
     "output_type": "display_data"
    },
    {
     "data": {
      "application/vnd.jupyter.widget-view+json": {
       "model_id": "",
       "version_major": 2,
       "version_minor": 0
      },
      "text/plain": [
       "Internal trigger:   0%|          | 0/100 [00:00<?, ?it/s]"
      ]
     },
     "metadata": {},
     "output_type": "display_data"
    },
    {
     "data": {
      "application/vnd.jupyter.widget-view+json": {
       "model_id": "",
       "version_major": 2,
       "version_minor": 0
      },
      "text/plain": [
       "Internal trigger:   0%|          | 0/100 [00:00<?, ?it/s]"
      ]
     },
     "metadata": {},
     "output_type": "display_data"
    },
    {
     "data": {
      "application/vnd.jupyter.widget-view+json": {
       "model_id": "",
       "version_major": 2,
       "version_minor": 0
      },
      "text/plain": [
       "Internal trigger:   0%|          | 0/100 [00:00<?, ?it/s]"
      ]
     },
     "metadata": {},
     "output_type": "display_data"
    },
    {
     "data": {
      "application/vnd.jupyter.widget-view+json": {
       "model_id": "",
       "version_major": 2,
       "version_minor": 0
      },
      "text/plain": [
       "Internal trigger:   0%|          | 0/100 [00:00<?, ?it/s]"
      ]
     },
     "metadata": {},
     "output_type": "display_data"
    },
    {
     "data": {
      "application/vnd.jupyter.widget-view+json": {
       "model_id": "",
       "version_major": 2,
       "version_minor": 0
      },
      "text/plain": [
       "Internal trigger:   0%|          | 0/100 [00:00<?, ?it/s]"
      ]
     },
     "metadata": {},
     "output_type": "display_data"
    },
    {
     "data": {
      "application/vnd.jupyter.widget-view+json": {
       "model_id": "",
       "version_major": 2,
       "version_minor": 0
      },
      "text/plain": [
       "Internal trigger:   0%|          | 0/100 [00:00<?, ?it/s]"
      ]
     },
     "metadata": {},
     "output_type": "display_data"
    },
    {
     "data": {
      "application/vnd.jupyter.widget-view+json": {
       "model_id": "",
       "version_major": 2,
       "version_minor": 0
      },
      "text/plain": [
       "Internal trigger:   0%|          | 0/100 [00:00<?, ?it/s]"
      ]
     },
     "metadata": {},
     "output_type": "display_data"
    },
    {
     "data": {
      "application/vnd.jupyter.widget-view+json": {
       "model_id": "",
       "version_major": 2,
       "version_minor": 0
      },
      "text/plain": [
       "Internal trigger:   0%|          | 0/100 [00:00<?, ?it/s]"
      ]
     },
     "metadata": {},
     "output_type": "display_data"
    },
    {
     "data": {
      "application/vnd.jupyter.widget-view+json": {
       "model_id": "",
       "version_major": 2,
       "version_minor": 0
      },
      "text/plain": [
       "Internal trigger:   0%|          | 0/100 [00:00<?, ?it/s]"
      ]
     },
     "metadata": {},
     "output_type": "display_data"
    },
    {
     "data": {
      "application/vnd.jupyter.widget-view+json": {
       "model_id": "",
       "version_major": 2,
       "version_minor": 0
      },
      "text/plain": [
       "Internal trigger:   0%|          | 0/100 [00:00<?, ?it/s]"
      ]
     },
     "metadata": {},
     "output_type": "display_data"
    },
    {
     "data": {
      "application/vnd.jupyter.widget-view+json": {
       "model_id": "",
       "version_major": 2,
       "version_minor": 0
      },
      "text/plain": [
       "Internal trigger:   0%|          | 0/100 [00:00<?, ?it/s]"
      ]
     },
     "metadata": {},
     "output_type": "display_data"
    },
    {
     "data": {
      "application/vnd.jupyter.widget-view+json": {
       "model_id": "",
       "version_major": 2,
       "version_minor": 0
      },
      "text/plain": [
       "Internal trigger:   0%|          | 0/100 [00:00<?, ?it/s]"
      ]
     },
     "metadata": {},
     "output_type": "display_data"
    },
    {
     "data": {
      "application/vnd.jupyter.widget-view+json": {
       "model_id": "",
       "version_major": 2,
       "version_minor": 0
      },
      "text/plain": [
       "Internal trigger:   0%|          | 0/100 [00:00<?, ?it/s]"
      ]
     },
     "metadata": {},
     "output_type": "display_data"
    },
    {
     "data": {
      "application/vnd.jupyter.widget-view+json": {
       "model_id": "",
       "version_major": 2,
       "version_minor": 0
      },
      "text/plain": [
       "Internal trigger:   0%|          | 0/100 [00:00<?, ?it/s]"
      ]
     },
     "metadata": {},
     "output_type": "display_data"
    },
    {
     "data": {
      "application/vnd.jupyter.widget-view+json": {
       "model_id": "",
       "version_major": 2,
       "version_minor": 0
      },
      "text/plain": [
       "Internal trigger:   0%|          | 0/100 [00:00<?, ?it/s]"
      ]
     },
     "metadata": {},
     "output_type": "display_data"
    },
    {
     "data": {
      "application/vnd.jupyter.widget-view+json": {
       "model_id": "",
       "version_major": 2,
       "version_minor": 0
      },
      "text/plain": [
       "Internal trigger:   0%|          | 0/100 [00:00<?, ?it/s]"
      ]
     },
     "metadata": {},
     "output_type": "display_data"
    },
    {
     "data": {
      "application/vnd.jupyter.widget-view+json": {
       "model_id": "",
       "version_major": 2,
       "version_minor": 0
      },
      "text/plain": [
       "Internal trigger:   0%|          | 0/100 [00:00<?, ?it/s]"
      ]
     },
     "metadata": {},
     "output_type": "display_data"
    },
    {
     "data": {
      "application/vnd.jupyter.widget-view+json": {
       "model_id": "",
       "version_major": 2,
       "version_minor": 0
      },
      "text/plain": [
       "Internal trigger:   0%|          | 0/100 [00:00<?, ?it/s]"
      ]
     },
     "metadata": {},
     "output_type": "display_data"
    },
    {
     "data": {
      "application/vnd.jupyter.widget-view+json": {
       "model_id": "",
       "version_major": 2,
       "version_minor": 0
      },
      "text/plain": [
       "Internal trigger:   0%|          | 0/100 [00:00<?, ?it/s]"
      ]
     },
     "metadata": {},
     "output_type": "display_data"
    },
    {
     "data": {
      "application/vnd.jupyter.widget-view+json": {
       "model_id": "",
       "version_major": 2,
       "version_minor": 0
      },
      "text/plain": [
       "Internal trigger:   0%|          | 0/100 [00:00<?, ?it/s]"
      ]
     },
     "metadata": {},
     "output_type": "display_data"
    },
    {
     "data": {
      "application/vnd.jupyter.widget-view+json": {
       "model_id": "",
       "version_major": 2,
       "version_minor": 0
      },
      "text/plain": [
       "Internal trigger:   0%|          | 0/100 [00:00<?, ?it/s]"
      ]
     },
     "metadata": {},
     "output_type": "display_data"
    },
    {
     "data": {
      "application/vnd.jupyter.widget-view+json": {
       "model_id": "",
       "version_major": 2,
       "version_minor": 0
      },
      "text/plain": [
       "Internal trigger:   0%|          | 0/100 [00:00<?, ?it/s]"
      ]
     },
     "metadata": {},
     "output_type": "display_data"
    },
    {
     "data": {
      "application/vnd.jupyter.widget-view+json": {
       "model_id": "",
       "version_major": 2,
       "version_minor": 0
      },
      "text/plain": [
       "Internal trigger:   0%|          | 0/100 [00:00<?, ?it/s]"
      ]
     },
     "metadata": {},
     "output_type": "display_data"
    },
    {
     "data": {
      "application/vnd.jupyter.widget-view+json": {
       "model_id": "",
       "version_major": 2,
       "version_minor": 0
      },
      "text/plain": [
       "Internal trigger:   0%|          | 0/100 [00:00<?, ?it/s]"
      ]
     },
     "metadata": {},
     "output_type": "display_data"
    },
    {
     "data": {
      "application/vnd.jupyter.widget-view+json": {
       "model_id": "",
       "version_major": 2,
       "version_minor": 0
      },
      "text/plain": [
       "Internal trigger:   0%|          | 0/100 [00:00<?, ?it/s]"
      ]
     },
     "metadata": {},
     "output_type": "display_data"
    },
    {
     "data": {
      "application/vnd.jupyter.widget-view+json": {
       "model_id": "",
       "version_major": 2,
       "version_minor": 0
      },
      "text/plain": [
       "Internal trigger:   0%|          | 0/100 [00:00<?, ?it/s]"
      ]
     },
     "metadata": {},
     "output_type": "display_data"
    },
    {
     "data": {
      "application/vnd.jupyter.widget-view+json": {
       "model_id": "",
       "version_major": 2,
       "version_minor": 0
      },
      "text/plain": [
       "Internal trigger:   0%|          | 0/100 [00:00<?, ?it/s]"
      ]
     },
     "metadata": {},
     "output_type": "display_data"
    },
    {
     "data": {
      "application/vnd.jupyter.widget-view+json": {
       "model_id": "",
       "version_major": 2,
       "version_minor": 0
      },
      "text/plain": [
       "Internal trigger:   0%|          | 0/100 [00:00<?, ?it/s]"
      ]
     },
     "metadata": {},
     "output_type": "display_data"
    },
    {
     "data": {
      "application/vnd.jupyter.widget-view+json": {
       "model_id": "",
       "version_major": 2,
       "version_minor": 0
      },
      "text/plain": [
       "Internal trigger:   0%|          | 0/100 [00:00<?, ?it/s]"
      ]
     },
     "metadata": {},
     "output_type": "display_data"
    },
    {
     "data": {
      "application/vnd.jupyter.widget-view+json": {
       "model_id": "",
       "version_major": 2,
       "version_minor": 0
      },
      "text/plain": [
       "Internal trigger:   0%|          | 0/100 [00:00<?, ?it/s]"
      ]
     },
     "metadata": {},
     "output_type": "display_data"
    },
    {
     "data": {
      "application/vnd.jupyter.widget-view+json": {
       "model_id": "",
       "version_major": 2,
       "version_minor": 0
      },
      "text/plain": [
       "Internal trigger:   0%|          | 0/100 [00:00<?, ?it/s]"
      ]
     },
     "metadata": {},
     "output_type": "display_data"
    },
    {
     "data": {
      "application/vnd.jupyter.widget-view+json": {
       "model_id": "",
       "version_major": 2,
       "version_minor": 0
      },
      "text/plain": [
       "Internal trigger:   0%|          | 0/100 [00:00<?, ?it/s]"
      ]
     },
     "metadata": {},
     "output_type": "display_data"
    },
    {
     "data": {
      "application/vnd.jupyter.widget-view+json": {
       "model_id": "",
       "version_major": 2,
       "version_minor": 0
      },
      "text/plain": [
       "Internal trigger:   0%|          | 0/100 [00:00<?, ?it/s]"
      ]
     },
     "metadata": {},
     "output_type": "display_data"
    },
    {
     "data": {
      "application/vnd.jupyter.widget-view+json": {
       "model_id": "",
       "version_major": 2,
       "version_minor": 0
      },
      "text/plain": [
       "Internal trigger:   0%|          | 0/100 [00:00<?, ?it/s]"
      ]
     },
     "metadata": {},
     "output_type": "display_data"
    },
    {
     "data": {
      "application/vnd.jupyter.widget-view+json": {
       "model_id": "",
       "version_major": 2,
       "version_minor": 0
      },
      "text/plain": [
       "Internal trigger:   0%|          | 0/100 [00:00<?, ?it/s]"
      ]
     },
     "metadata": {},
     "output_type": "display_data"
    },
    {
     "data": {
      "application/vnd.jupyter.widget-view+json": {
       "model_id": "",
       "version_major": 2,
       "version_minor": 0
      },
      "text/plain": [
       "Internal trigger:   0%|          | 0/100 [00:00<?, ?it/s]"
      ]
     },
     "metadata": {},
     "output_type": "display_data"
    },
    {
     "data": {
      "application/vnd.jupyter.widget-view+json": {
       "model_id": "",
       "version_major": 2,
       "version_minor": 0
      },
      "text/plain": [
       "Internal trigger:   0%|          | 0/100 [00:00<?, ?it/s]"
      ]
     },
     "metadata": {},
     "output_type": "display_data"
    },
    {
     "name": "stdout",
     "output_type": "stream",
     "text": [
      "Run finished and took 0:16:49.662461.\n",
      "Saving to sequence.164.xz\n",
      "Saving to experiment.yaml\n"
     ]
    }
   ],
   "source": [
    "monty.newrun(\"sequence\", params)\n",
    "\n",
    "# work out what we should be doing for feedback\n",
    "print(\"Measuring initial feedback point\")\n",
    "with device.set_transaction():\n",
    "    synchchannels([])\n",
    "    chan[\"measure\"].spectroscopy.result.length(1)\n",
    "    chan[\"measure\"].generator.load_sequencer_program(seqc_program_prior_read)\n",
    "\n",
    "time.sleep(1)\n",
    "chan[\"measure\"].spectroscopy.result.length.wait_for_state_change(1, timeout=10)  # wait for changes to propagate\n",
    "\n",
    "data = runfeedback()\n",
    "\n",
    "with device.set_transaction():\n",
    "    synchchannels([\"P1\", \"P2\", \"J\", \"ST\"])\n",
    "    chan[\"measure\"].generator.load_sequencer_program(readout_prog_code)\n",
    "    chan[\"measure\"].spectroscopy.result.length(2)\n",
    "time.sleep(2)\n",
    "\n",
    "result = np.zeros((NUM_J, NUM_DETUNING, 2), dtype=np.complex64)\n",
    "st_result = np.zeros(result.shape, dtype=np.float64)\n",
    "\n",
    "print(\"Sweeping P1, P2 and J\")\n",
    "for i, j in enumerate(tqdm(j_steps, desc=\"J\")):\n",
    "    #with LivePlot(p1_steps, xlabel=\"P1 voltage (dV)\", ylabel=\"Amplitude (dB)\") as lplot: \n",
    "    FB_STEPSIZE = steps[i]  # adjust the stepsize\n",
    "    curr_st_amp = 0.0  # reset feedback between runs (as j is not varied)\n",
    "    \n",
    "    for k, (p1, p2) in enumerate(zip(tqdm(p1_steps, leave=False, desc=\"Detuning\"), p2_steps)):\n",
    "        movemeasurement(p1, p2, j)  # CT = 1\n",
    "        st_result[i, k] = calculatefeedback(data)  # CT = 0\n",
    "        uploadcts()\n",
    "        data = runexperiment()\n",
    "        result[i, k] = data\n",
    "        #lplot.update(autodb(result[i, :, 1]))\n",
    "    monty.snapshot({\"data\": result, \"st_result\": st_result})\n",
    "\n",
    "monty.save({\"data\": result, \"st_result\": st_result})"
   ]
  },
  {
   "cell_type": "code",
   "execution_count": 317,
   "id": "0fd93b98-8e84-425a-9af1-e47709772c90",
   "metadata": {},
   "outputs": [],
   "source": [
    "#monty.save({\"data\": result, \"st_result\": st_result})"
   ]
  },
  {
   "cell_type": "markdown",
   "id": "0a3ec0d5-6343-434f-b94a-4eb4953a35a9",
   "metadata": {},
   "source": [
    "### Process data"
   ]
  },
  {
   "cell_type": "code",
   "execution_count": 318,
   "id": "2555ae7d-2112-44b8-bb3d-65b189c917b7",
   "metadata": {},
   "outputs": [],
   "source": [
    "# reload saved data\n",
    "\n",
    "# result = monty.loadrun(\"sequence.95\")[\"data\"]"
   ]
  },
  {
   "cell_type": "code",
   "execution_count": 319,
   "id": "5a25769b-c520-43f9-b5ea-ce687e726621",
   "metadata": {},
   "outputs": [
    {
     "data": {
      "text/plain": [
       "(1, 200, 2)"
      ]
     },
     "execution_count": 319,
     "metadata": {},
     "output_type": "execute_result"
    }
   ],
   "source": [
    "result.shape"
   ]
  },
  {
   "cell_type": "code",
   "execution_count": 320,
   "id": "c9081e7d-4d48-4564-9884-56a0cd6313f6",
   "metadata": {},
   "outputs": [],
   "source": [
    "ref = result[:, :, 0]\n",
    "mes = result[:, :, 1]\n",
    "\n",
    "\n",
    "ref_amp = 10*np.log10(np.abs(ref)**2/50*1000)\n",
    "ref_phase = np.unwrap(np.angle(ref))  # add axis for unwrap?\n",
    "\n",
    "mes_amp = 10*np.log10(np.abs(mes)**2/50*1000)\n",
    "mes_phase = np.unwrap(np.angle(mes))  # add axis for unwrap?"
   ]
  },
  {
   "cell_type": "code",
   "execution_count": 321,
   "id": "5281580d-4db8-4e59-a885-85fea487284e",
   "metadata": {},
   "outputs": [
    {
     "data": {
      "image/png": "[encoded data removed]",
      "text/plain": [
       "<Figure size 640x480 with 1 Axes>"
      ]
     },
     "metadata": {},
     "output_type": "display_data"
    }
   ],
   "source": [
    "# plot ST feedback history\n",
    "\n",
    "# convert \"voltage\" to dB\n",
    "#st_result = voltToDbm(st_result, chan[\"ST\"].output.range())\n",
    "\n",
    "# plot the first sweep in J only\n",
    "plt.plot(p1_steps, st_result[0])\n",
    "plt.xlabel(\"P1 voltage (V)\")\n",
    "plt.ylabel(\"ST amplitude (a.u.)\")\n",
    "plt.title(monty.identifier + \".\" + monty.runname + \".st\")\n",
    "monty.savefig(plt, \"st_history\")\n"
   ]
  },
  {
   "cell_type": "code",
   "execution_count": 322,
   "id": "6417bc20-fe7c-4191-85d7-faf49470d1f7",
   "metadata": {},
   "outputs": [
    {
     "data": {
      "image/png": "[encoded data removed]",
      "text/plain": [
       "<Figure size 640x480 with 2 Axes>"
      ]
     },
     "metadata": {},
     "output_type": "display_data"
    }
   ],
   "source": [
    "# plot the FIRST reference measurement\n",
    "\n",
    "fig, (ax0, ax1) = plt.subplots(nrows = 2, sharex = True)\n",
    "\n",
    "ax0.plot(p1_steps, ref_amp[0], \".-\", color=\"steelblue\")\n",
    "ax1.plot(p1_steps, ref_phase[0], \".-\", color=\"orange\")\n",
    "ax0.set_ylabel(\"Amplitude\")\n",
    "ax1.set_ylabel(\"Phase\")\n",
    "ax0.set_title(monty.identifier + \".\" + monty.runname + \".reference.1st\")\n",
    "ax1.set_xlabel(\"P1 voltage\")\n",
    "\n",
    "ax0.grid()\n",
    "ax1.grid()\n",
    "fig.align_ylabels([ax0, ax1])\n",
    "plt.tight_layout()\n",
    "\n",
    "monty.savefig(plt, \"reference_1st\")"
   ]
  },
  {
   "cell_type": "code",
   "execution_count": 323,
   "id": "995d3351-8c91-44ed-ad81-59c26e77cd88",
   "metadata": {},
   "outputs": [
    {
     "data": {
      "image/png": "[encoded data removed]",
      "text/plain": [
       "<Figure size 640x480 with 2 Axes>"
      ]
     },
     "metadata": {},
     "output_type": "display_data"
    }
   ],
   "source": [
    "# plot the FIRST measurement point\n",
    "\n",
    "fig, (ax0, ax1) = plt.subplots(nrows = 2, sharex = True)\n",
    "\n",
    "ax0.plot(p1_steps, mes_amp[0], \".-\", color=\"steelblue\")\n",
    "ax1.plot(p1_steps, mes_phase[0], \".-\", color=\"orange\")\n",
    "\n",
    "ax0.set_ylabel(\"Amplitude\")\n",
    "ax1.set_ylabel(\"Phase\")\n",
    "ax0.set_title(monty.identifier + \".\" + monty.runname + \".measurement.1st\")\n",
    "ax1.set_xlabel(\"P1 voltage\")\n",
    "\n",
    "ax0.grid()\n",
    "ax1.grid()\n",
    "fig.align_ylabels([ax0, ax1])\n",
    "plt.tight_layout()\n",
    "\n",
    "monty.savefig(plt, \"measurement_1st\")"
   ]
  },
  {
   "cell_type": "code",
   "execution_count": 324,
   "id": "13a3c6b5-6650-409a-8617-5a198f26827f",
   "metadata": {},
   "outputs": [
    {
     "data": {
      "image/png": "[encoded data removed]",
      "text/plain": [
       "<Figure size 640x480 with 2 Axes>"
      ]
     },
     "metadata": {},
     "output_type": "display_data"
    }
   ],
   "source": [
    "# plot the FIRST localised measurement (mes - ref)\n",
    "\n",
    "a = mes_amp[0] - ref_amp[0]\n",
    "p = mes_phase[0] - ref_phase[0]\n",
    "\n",
    "fig, (ax0, ax1) = plt.subplots(nrows = 2, sharex = True)\n",
    "\n",
    "ax0.plot(p1_steps, a, \".-\", color=\"steelblue\")\n",
    "ax1.plot(p1_steps, p, \".-\", color=\"orange\")\n",
    "\n",
    "ax0.set_ylabel(\"Amplitude\")\n",
    "ax1.set_ylabel(\"Phase\")\n",
    "ax0.set_title(monty.identifier + \".\" + monty.runname + \".adjusted\")\n",
    "ax1.set_xlabel(\"P1 voltage\")\n",
    "ax0.grid()\n",
    "ax1.grid()\n",
    "\n",
    "fig.align_ylabels([ax0, ax1])\n",
    "plt.tight_layout()\n",
    "\n",
    "monty.savefig(plt, \"detuning minus ref 1st\")"
   ]
  },
  {
   "cell_type": "code",
   "execution_count": 325,
   "id": "325337fb-3297-4227-b2b5-759f5c07a8be",
   "metadata": {},
   "outputs": [
    {
     "data": {
      "image/png": "[encoded data removed]",
      "text/plain": [
       "<Figure size 640x480 with 2 Axes>"
      ]
     },
     "metadata": {},
     "output_type": "display_data"
    }
   ],
   "source": [
    "plt.figure()\n",
    "plt.pcolormesh(p1_steps, steps, mes_amp, shading=\"nearest\")\n",
    "plt.colorbar()\n",
    "plt.ylabel(\"Feedback stepsize\")\n",
    "plt.xlabel(\"Detuning (V)\")\n",
    "plt.semilogy()\n",
    "plt.title(monty.identifier + \".\" + monty.runname + \".mes_amp_stepsize\")\n",
    "\n",
    "monty.savefig(plt, \"2d mes amp stepsize\")"
   ]
  },
  {
   "cell_type": "code",
   "execution_count": 326,
   "id": "2031960e-2148-4bf4-acfa-ee2af93f7639",
   "metadata": {},
   "outputs": [
    {
     "data": {
      "image/png": "[encoded data removed]",
      "text/plain": [
       "<Figure size 640x480 with 2 Axes>"
      ]
     },
     "metadata": {},
     "output_type": "display_data"
    }
   ],
   "source": [
    "# actually plot all the data\n",
    "\n",
    "# MEASUREMENT ONLY\n",
    "\n",
    "plt.figure()\n",
    "plt.pcolormesh(p1_steps, j_steps, mes_amp, shading=\"nearest\")\n",
    "plt.colorbar()\n",
    "plt.ylabel(\"J voltage (V)\")\n",
    "plt.xlabel(\"Detuning (V)\")\n",
    "plt.title(monty.identifier + \".\" + monty.runname + \".mes_amp\")\n",
    "\n",
    "if j_steps.shape[0] > 1:\n",
    "    monty.savefig(plt, \"2d mes amp\")\n",
    "#plt.show()\n",
    "\n"
   ]
  },
  {
   "cell_type": "code",
   "execution_count": 327,
   "id": "2b6e4360-5d4f-4aeb-8a11-c2f6800ca82e",
   "metadata": {},
   "outputs": [
    {
     "data": {
      "image/png": "[encoded data removed]",
      "text/plain": [
       "<Figure size 640x480 with 2 Axes>"
      ]
     },
     "metadata": {},
     "output_type": "display_data"
    }
   ],
   "source": [
    "plt.figure()\n",
    "plt.pcolormesh(p1_steps, j_steps, mes_phase, shading=\"nearest\")\n",
    "plt.colorbar()\n",
    "plt.ylabel(\"Averages\")\n",
    "plt.xlabel(\"Detuning (V)\")\n",
    "plt.title(monty.identifier + \".\" + monty.runname + \".mes_phase\")\n",
    "#monty.savefig(plt, \"stability forward\")\n",
    "plt.show()"
   ]
  },
  {
   "cell_type": "code",
   "execution_count": 328,
   "id": "e8c2b1e6-4337-4263-be56-6939aff43292",
   "metadata": {},
   "outputs": [
    {
     "data": {
      "text/plain": [
       "{'LCB': 0.150004,\n",
       " 'RCB': 0.150003,\n",
       " 'RG': 0.0,\n",
       " 'ResB': 0.0,\n",
       " 'P3': 0.0,\n",
       " 'P2': 1.829996,\n",
       " 'P1': 1.889996,\n",
       " 'SETB': 0.0,\n",
       " 'SRB': 0.929996,\n",
       " 'SLB': 0.930001,\n",
       " 'ST': 3.649998,\n",
       " 'bias': 0.0,\n",
       " 'VSS1P8': 0.0,\n",
       " 'VSS1P0': 0.0,\n",
       " 'VDD1P8': 1.800005,\n",
       " 'VDD1P0': 0.999996,\n",
       " 'VDD1P8_ANA': 1.8,\n",
       " 'BGN1P0': 0.0,\n",
       " 'BGN1P8': 0.0,\n",
       " 'BGP1P0': 0.0,\n",
       " 'BGP1P8': 0.0,\n",
       " 'RST': 1.799996,\n",
       " 'MOSI': 0.0,\n",
       " 'SCLK': 0.0,\n",
       " 'SS_N': 1.8,\n",
       " 'APBCLK': 0.0,\n",
       " 'VICL': 3.499994,\n",
       " 'VLFG': 0.0,\n",
       " 'VHFG': 0.0}"
      ]
     },
     "execution_count": 328,
     "metadata": {},
     "output_type": "execute_result"
    }
   ],
   "source": [
    "getvoltages(mdac)"
   ]
  },
  {
   "cell_type": "code",
   "execution_count": 331,
   "id": "1a94800a-5da0-443a-b2d2-5c68bacb18c7",
   "metadata": {},
   "outputs": [],
   "source": [
    "si.SLB(0.93)"
   ]
  },
  {
   "cell_type": "code",
   "execution_count": null,
   "id": "3b5c91f9-3b80-4236-923b-71fd0fdfde5b",
   "metadata": {},
   "outputs": [],
   "source": []
  }
 ],
 "metadata": {
  "kernelspec": {
   "display_name": "Python 3 (ipykernel)",
   "language": "python",
   "name": "python3"
  },
  "language_info": {
   "codemirror_mode": {
    "name": "ipython",
    "version": 3
   },
   "file_extension": ".py",
   "mimetype": "text/x-python",
   "name": "python",
   "nbconvert_exporter": "python",
   "pygments_lexer": "ipython3",
   "version": "3.12.3"
  }
 },
 "nbformat": 4,
 "nbformat_minor": 5
}
