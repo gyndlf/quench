{
 "cells": [
  {
   "cell_type": "markdown",
   "id": "a1681074-6d3f-485c-b604-c599c3189b96",
   "metadata": {},
   "source": [
    "# PSB sequence\n",
    "\n",
    "This includes the correct ramp rate and SET feedback as well."
   ]
  },
  {
   "cell_type": "markdown",
   "id": "4fbd449f-d45c-403e-b70e-3a0d988958af",
   "metadata": {},
   "source": [
    "**TODO**\n",
    "- Run X steps of detuning before applying feedback\n",
    "- Only apply feedback after each change in J\n",
    "- Add buffer times to make sure that everything is syncing correctly"
   ]
  },
  {
   "cell_type": "code",
   "execution_count": 1,
   "id": "7b3a03eb-6f73-4601-9d2c-b052a69aed34",
   "metadata": {},
   "outputs": [
    {
     "name": "stdout",
     "output_type": "stream",
     "text": [
      "Added 'quench/' and 'quench/libraries' for easy importing.\n"
     ]
    }
   ],
   "source": [
    "%matplotlib inline\n",
    "import local_broom"
   ]
  },
  {
   "cell_type": "code",
   "execution_count": 2,
   "id": "1b68cb80-459d-4636-a534-df961429859d",
   "metadata": {},
   "outputs": [],
   "source": [
    "from zhinst.toolkit import Session, CommandTable, Sequence, Waveforms, SHFQAChannelMode\n",
    "\n",
    "import matplotlib.pyplot as plt\n",
    "import numpy as np\n",
    "from tqdm.notebook import tqdm\n",
    "from qcodes import Instrument\n",
    "import time\n",
    "import warnings\n",
    "from monty import Monty\n",
    "import MDAC\n",
    "from may.dots import getvoltages\n",
    "from may.custom_devices import connect_to_gb, newSiDot"
   ]
  },
  {
   "cell_type": "markdown",
   "id": "cd16923d-ecaf-4050-b96e-bc75cc705d1b",
   "metadata": {},
   "source": [
    "## Setup"
   ]
  },
  {
   "cell_type": "markdown",
   "id": "db5ee2f1-6067-4ef3-98c0-d057051443e3",
   "metadata": {},
   "source": [
    "### Common Functions"
   ]
  },
  {
   "cell_type": "code",
   "execution_count": 3,
   "id": "a0ddabcf-3310-47ae-8e70-952a6fda07ac",
   "metadata": {},
   "outputs": [],
   "source": [
    "def timeToSamples(time, samplingRateDivider):\n",
    "    # returns the number of samples divisible by 16 given a time (in seconds) and sampling rate divider\n",
    "    samples_raw = time * (1/(2**samplingRateDivider))/0.5e-9\n",
    "    samples_modulo = int(samples_raw) % 16\n",
    "    samples = int(samples_raw) - int(samples_modulo)\n",
    "    return samples\n",
    "\n",
    "# custom curve fit\n",
    "#amps = [1, 0.85, 0.75, 0.65,  0.5, 0.35, 0.25, 0.2, 0.125, 0.05]\n",
    "#voltages = [0.34, 0.268, 0.207, 0.158, 0.094, 0.0481,  0.026, 0.0183, 0.01, 0.0057]\n",
    "\n",
    "#alt_fit = np.poly1d(np.polyfit(amps, voltages, 2))\n",
    "# Hard coding alt_fit values in case something goes horribly wrong\n",
    "\n",
    "def voltToDbm(volt, dbmrange):\n",
    "    # Ok yes this can be better, deal with it\n",
    "    if dbmrange != 0:\n",
    "        raise Exception(\"This function only works with a dBm range of 0.\")\n",
    "    \n",
    "    if volt > 0.34 or volt < -0.34:\n",
    "        raise ValueError(f\"Given voltage ({volt} V) is greater than max output of SHFQC (0.34 V)\")\n",
    "    \n",
    "    if volt < 0:\n",
    "        amplitude = 1/300*(np.sqrt(3e5*-volt + 529) - 23)\n",
    "        return -amplitude\n",
    "    else:\n",
    "        amplitude = 1/300*(np.sqrt(3e5*volt + 529) - 23)\n",
    "        return amplitude\n",
    "\n",
    "\n",
    "def get_results(result_node, timeout):\n",
    "    wave_data_captured = {}\n",
    "    wave_data_captured[result_node] = False\n",
    "    start_time = time.time()\n",
    "    captured_data = {}\n",
    "    while not all(wave_data_captured.values()):\n",
    "        if start_time + timeout < time.time():\n",
    "            print(captured_data)\n",
    "            raise TimeoutError('Timeout before all samples collected.')\n",
    "        test = session.poll()\n",
    "        for node, value in test.items():\n",
    "            node = session.raw_path_to_node(node)\n",
    "            for v in value:\n",
    "                if node not in captured_data:\n",
    "                    captured_data[node] = [v['vector']]\n",
    "                else:\n",
    "                    captured_data[node].append(v['vector'])\n",
    "            if len(captured_data[node]) >= 1:  # readout 1 point\n",
    "                wave_data_captured[node] = True\n",
    "                # total_num_data = sum([len(element) for element in captured_data[node]])\n",
    "    data = captured_data[result_node][0]\n",
    "    return data\n",
    "\n",
    "def cmdtable(ct, amplitude, length, wave_index, ct_index):\n",
    "    \"\"\"\n",
    "    Load a default command table with a sin/cos wave (used throughout the documentation)\n",
    "    \"\"\"\n",
    "    ct.table[ct_index].waveform.index = wave_index\n",
    "    ct.table[ct_index].amplitude00.value = amplitude  # all in dBm\n",
    "    ct.table[ct_index].amplitude01.value = -amplitude\n",
    "    ct.table[ct_index].amplitude10.value = amplitude\n",
    "    ct.table[ct_index].amplitude11.value = amplitude\n",
    "    ct.table[ct_index].waveform.length = length  # in samples\n",
    "    ct.table[ct_index].waveform.samplingRateDivider = samplingDivider  # inherit global"
   ]
  },
  {
   "cell_type": "markdown",
   "id": "57927e7e-300c-42cc-a6ef-4dec8cf9f825",
   "metadata": {},
   "source": [
    "### Connect"
   ]
  },
  {
   "cell_type": "code",
   "execution_count": 4,
   "id": "4d4433aa-aa0e-48ae-87a1-d4f797d0d214",
   "metadata": {},
   "outputs": [
    {
     "name": "stdout",
     "output_type": "stream",
     "text": [
      "Attempting to remove instrument with name mdac. Does not exist\n",
      "Connected to: QNL Sydney MDAC (serial:0x32353532353551040030003E, firmware:1.8) in 4.61s\n",
      "Loading GB driver and connecting\n",
      "Manually Open Breakout_box_top_ch15_LCB\n",
      "Manually Open Breakout_box_bot_ch09_RCB\n",
      "Manually Open Breakout_box_bot_ch17_RG\n",
      "Manually Open Breakout_box_top_ch17_ResB\n",
      "Manually Open Breakout_box_top_ch19_P3\n",
      "Manually Open Breakout_box_top_ch13_P2\n",
      "Manually Open Breakout_box_top_ch04_P1\n",
      "Manually Open Breakout_box_top_ch02_SETB\n",
      "Manually Open Breakout_box_bot_ch04_SRB\n",
      "Manually Open Breakout_box_bot_ch06_SLB\n",
      "Manually Open Breakout_box_top_ch10_ST\n",
      "Manually Open Breakout_box_top_ch25_bias\n"
     ]
    }
   ],
   "source": [
    "# connect to instruments\n",
    "\n",
    "DEVICE_ID = 'DEV12158'\n",
    "SERVER_HOST = 'localhost'\n",
    "\n",
    "session = Session(SERVER_HOST)  # connect to data server\n",
    "device = session.connect_device(DEVICE_ID)  # connect to device\n",
    "\n",
    "\n",
    "try:\n",
    "    mdac = Instrument.find_instrument(\"mdac\")\n",
    "    mdac.close()\n",
    "except KeyError:\n",
    "    print('Attempting to remove instrument with name mdac. Does not exist')\n",
    "\n",
    "mdac = MDAC.MDAC('mdac', 'ASRL11::INSTR')\n",
    "gb_control_si = connect_to_gb(mdac)  # Create our custom MDAC mappings\n",
    "si = newSiDot(mdac)"
   ]
  },
  {
   "cell_type": "code",
   "execution_count": 5,
   "id": "1211d9da-3a2d-4407-9df8-1a98a5db969b",
   "metadata": {},
   "outputs": [],
   "source": [
    "if False:\n",
    "    session.disconnect_device(DEVICE_ID)\n",
    "    try:\n",
    "        mdac = Instrument.find_instrument(\"mdac\")\n",
    "        mdac.close()\n",
    "    except KeyError:\n",
    "        print('Attempting to remove instrument with name mdac. Does not exist')"
   ]
  },
  {
   "cell_type": "code",
   "execution_count": 6,
   "id": "c9ea0807-f871-4744-8c18-0b4b0c28f9bb",
   "metadata": {},
   "outputs": [
    {
     "name": "stdout",
     "output_type": "stream",
     "text": [
      "Loading existing experiment (ignoring given experiment parameters)\n",
      "Note that no experimental data has been loaded.\n",
      "Next run will have id 7\n"
     ]
    }
   ],
   "source": [
    "experiment = {\n",
    "    \"desc\": \"PSB sequence.\"\n",
    "}\n",
    "\n",
    "monty = Monty(\"rf.detuning\", experiment)"
   ]
  },
  {
   "cell_type": "markdown",
   "id": "94c49976-d988-4ede-9a78-3444664c08f3",
   "metadata": {},
   "source": [
    "### Define variables"
   ]
  },
  {
   "cell_type": "code",
   "execution_count": 64,
   "id": "e8c461ec-a8cd-456c-8d81-38a241b2d407",
   "metadata": {},
   "outputs": [],
   "source": [
    "\n",
    "# lengths and averages\n",
    "seq_averages = 100  # seqc averages\n",
    "\n",
    "NUM_DETUNING = 100\n",
    "NUM_J = 1\n",
    "\n",
    "# readout signals\n",
    "readout_gain = 0.95  # If we set this to 1, then output overloads\n",
    "readout_freq = 406.2e6  # (Hz)\n",
    "\n",
    "# drive line amplitudes (maximum 340mV, give in terms of V)\n",
    "# pulse parameters\n",
    "MIXED_AMP = {  # voltage amplitude for mixed state preperation\n",
    "    \"P1\": 0.15,\n",
    "    \"P2\": -0.15,\n",
    "}\n",
    "MES_AMP_START = {  # voltages for stepping over when sweeping\n",
    "    \"P1\": -0.2,\n",
    "    \"P2\": 0.2,\n",
    "    \"J\": 0.0,\n",
    "}\n",
    "MES_AMP_END = {\n",
    "    \"P1\": 0.2,\n",
    "    \"P2\": -0.2,\n",
    "    \"J\": 0.0,\n",
    "}\n",
    "\n",
    "# timings in seconds\n",
    "init_len = 600e-6\n",
    "read_len = 100e-6\n",
    "wait_and_settle = 3e-3\n",
    "trigger_time = 10e-3  # internal trigger holdoff time (metronome)\n",
    "buffer = 1e-6\n",
    "\n",
    "# AC decay ramp rate\n",
    "ramp_rate = 13e-5  # V/sample\n",
    "\n",
    "# powers\n",
    "input_pwr = -5\n",
    "output_pwr = -5\n",
    "dr_pwr = 0\n",
    "\n",
    "# gate sampling time\n",
    "samplingDivider = 6\n",
    "\n",
    "# feedback parameters\n",
    "FB_TARGET = 1e-5  # give in terms of power output\n",
    "FB_STEPSIZE = 1e-4\n",
    "FB_SLOPE = 0  # 1 or -1 depending on the slope to lock onto\n",
    "\n",
    "# internal\n",
    "read_samples = timeToSamples(read_len, samplingDivider)\n"
   ]
  },
  {
   "cell_type": "code",
   "execution_count": 65,
   "id": "4740fac3-3bd9-4179-bb89-3bb22943ad51",
   "metadata": {},
   "outputs": [],
   "source": [
    "# adjust variables\n",
    "curr_st_amp = 0.3  # NEED TO FIX THIS...\n",
    "\n",
    "# Create channel maps for simplicity\n",
    "\n",
    "chan = {\n",
    "    \"measure\": device.qachannels[0],  # measure and acquire lines\n",
    "    \"ST\": device.sgchannels[0],\n",
    "    \"P1\": device.sgchannels[1],  # drive P1 line\n",
    "    \"P2\": device.sgchannels[2],  # drive P2 line\n",
    "    \"J\": device.sgchannels[3],  # drive J line\n",
    "}\n",
    "\n",
    "drive_chans = [\"ST\", \"P1\", \"P2\", \"J\"]  # match keys above\n",
    "\n",
    "# current command tables\n",
    "cts = {c: CommandTable(chan[c].awg.commandtable.load_validation_schema()) for c in drive_chans}\n",
    "\n",
    "j_steps = np.linspace(MES_AMP_START[\"J\"], MES_AMP_END[\"J\"], NUM_J)\n",
    "p1_steps = np.linspace(MES_AMP_START[\"P1\"], MES_AMP_END[\"P1\"], NUM_DETUNING)\n",
    "p2_steps = np.linspace(MES_AMP_START[\"P2\"], MES_AMP_END[\"P2\"], NUM_DETUNING)"
   ]
  },
  {
   "cell_type": "code",
   "execution_count": 66,
   "id": "7c5ab019-5924-4c85-9e69-05423567241c",
   "metadata": {},
   "outputs": [],
   "source": [
    "# save all the parameters about this experiment that we will want to know\n",
    "params = {\n",
    "    \"amplitude_volts\": {\n",
    "        \"mixed_pulse\": MIXED_AMP,\n",
    "        \"measure_pulse_start\": MES_AMP_START,\n",
    "        \"measure_pulse_end\": MES_AMP_END,\n",
    "        \"p_ramp_rate\": ramp_rate,\n",
    "    },\n",
    "    \"readout\": {\n",
    "        \"freq\": readout_freq,\n",
    "        \"gain\": readout_gain,\n",
    "        \"time\": read_len\n",
    "    },\n",
    "    \"timings_sec\": {\n",
    "        \"mixed initilise\": init_len,\n",
    "        \"read\": read_len,\n",
    "        \"settle\": wait_and_settle,\n",
    "        \"trigger\": trigger_time,\n",
    "        \"buffer\": buffer,\n",
    "        \"sampling_divider\": samplingDivider,\n",
    "    },\n",
    "    \"feedback\": {\n",
    "        \"target\": FB_TARGET,\n",
    "        \"stepsize\": FB_STEPSIZE,\n",
    "        \"slope\": FB_SLOPE\n",
    "    },\n",
    "    \"powers\": {\n",
    "        \"acq_in\": input_pwr,\n",
    "        \"acq_out\": output_pwr,\n",
    "        \"drive\": dr_pwr,\n",
    "    },\n",
    "    \"averaging\": {\n",
    "        \"seqc_averages\": seq_averages,\n",
    "        \"num_detuning\": NUM_DETUNING,\n",
    "        \"num_j\": NUM_J,\n",
    "    },\n",
    "    \"gates\": getvoltages(mdac)\n",
    "}"
   ]
  },
  {
   "cell_type": "code",
   "execution_count": 67,
   "id": "2557cd12-7c77-428e-bb05-e1501e01d57b",
   "metadata": {},
   "outputs": [],
   "source": [
    "# check we can fit all the points into memory\n",
    "MAX_MEASUREMENTS = 2**19\n",
    "if seq_averages > MAX_MEASUREMENTS:\n",
    "    raise OverflowError(\"Requested too many points to be measured. (Use around 500,000 points)\")"
   ]
  },
  {
   "cell_type": "markdown",
   "id": "9ade0890-3235-4d45-a968-9138d47b377f",
   "metadata": {},
   "source": [
    "### Configure Channels"
   ]
  },
  {
   "cell_type": "code",
   "execution_count": 68,
   "id": "5339bd33-c13a-4d9a-bec9-cb3e6b7033c6",
   "metadata": {},
   "outputs": [],
   "source": [
    "with device.set_transaction():\n",
    "    # setup drive channels\n",
    "    for c in drive_chans:\n",
    "        chan[c].output.range(dr_pwr)  # in dBm\n",
    "        chan[c].output.rflfpath(0)  # use LF not RF (1 for RF)\n",
    "    \n",
    "        # set the center synth frequency (oscillator frequency)\n",
    "        synth = chan[c].synthesizer()\n",
    "        device.synthesizers[synth].centerfreq(0)  # in Hz\n",
    "        chan[c].output.on(1)  # enable output\n",
    "    \n",
    "        chan[c].awg.outputamplitude(1.0)  # overall amplitude scaling factor (don't really need to change)\n",
    "        chan[c].oscs[0].freq(0)  # oscillator 1 frequency (Hz) disable for DC\n",
    "        chan[c].oscs[1].freq(0)  # oscillator 2 frequency (Hz)\n",
    "        chan[c].awg.modulation.enable(1)  # start digital modulation\n",
    "    \n",
    "        chan[c].marker.source(0)  # setup the AWG trigger 1 (is this an input trigger option? doesn't seem necessary)\n",
    "        # see manual page p235 for all trigger options\n",
    "        chan[c].awg.auxtriggers[0].channel(8)  # 8=use internal trigger, 1024=use software trigger\n",
    "\n",
    "    # setup measure channel\n",
    "    \n",
    "    chan[\"measure\"].output.rflfpath(0)  # use LF mode not RF (for signals under 600Mhz)\n",
    "    chan[\"measure\"].input.rflfpath(0)\n",
    "    chan[\"measure\"].oscs[0].freq(readout_freq)  # CW frequency (in LF mode)\n",
    "    chan[\"measure\"].oscs[0].gain(readout_gain)  # If we set this to 1, then output overloads\n",
    "\n",
    "    # configure these based on how the sweeper works internally\n",
    "    # See https://docs.zhinst.com/zhinst-utils/en/latest/_modules/zhinst/utils/shf_sweeper.html#ShfSweeper\n",
    "    chan[\"measure\"].spectroscopy.delay(0)  # integration delay in units of second\n",
    "    chan[\"measure\"].spectroscopy.length(timeToSamples(read_len, samplingDivider))  # integration time length in units of number of samples (usually integration_time*sampling_rate)\n",
    "    # setup when the spectroscopy is triggered\n",
    "    chan[\"measure\"].spectroscopy.trigger.channel(\"chan0seqtrig0\")  # make sure to use the trigger coming from the sequencer code\n",
    "    # setup result parameters\n",
    "    chan[\"measure\"].spectroscopy.result.averages(1)  # number of averages (always average in software not hardware)\n",
    "    chan[\"measure\"].spectroscopy.result.length(seq_averages*2)  # number of results\n",
    "    chan[\"measure\"].spectroscopy.result.enable(0)  # disable result logger\n",
    "\n",
    "    chan[\"measure\"].configure_channel(\n",
    "        center_frequency=0,  # in units of Hz  # minimum of 600MHz for RF mode\n",
    "        input_range=input_pwr,  # in units of dBm\n",
    "        output_range=output_pwr,  # in units of dBm\n",
    "        mode=SHFQAChannelMode.SPECTROSCOPY,  # SHFQAChannelMode.READOUT or SHFQAChannelMode.SPECTROSCOPY\n",
    "    )\n",
    "    \n",
    "    chan[\"measure\"].input.on(1)\n",
    "    chan[\"measure\"].output.on(1)\n",
    "\n",
    "    chan[\"measure\"].generator.auxtriggers[1].channel(\"inttrig\")  # i believe this is overwritten by the following line\n",
    "    chan[\"measure\"].generator.configure_sequencer_triggering(\n",
    "        aux_trigger=8,  # alternatively use 8=internal trigger, or \"software_trigger0\" to use the software triggering system\n",
    "        play_pulse_delay=0\n",
    "    )\n"
   ]
  },
  {
   "cell_type": "markdown",
   "id": "62a6bf1d-bb63-4063-b1bc-6dd92d1fbf3d",
   "metadata": {},
   "source": [
    "### Define Sequences"
   ]
  },
  {
   "cell_type": "markdown",
   "id": "19771e6b-b26f-4ed1-b573-c146873cc0e0",
   "metadata": {},
   "source": [
    "*P1/P2 sequence explanation*: The sequence starts at a \"home\" point with 0 V on the P1/P2/J pulsing lines. After waiting for a trigger, the sequence will immediately go to it's initialisation point (executeTableEntry(0)) and wait for a set period of time (here: wait_and_settle, read_len). After a J pulse between wait_and_settle and read_len events P1 and P2 will be pulsed to an arbitrary point (executeTableEntry(1)) which is uploaded and updated every time in python after SET feedback has occured."
   ]
  },
  {
   "cell_type": "code",
   "execution_count": 69,
   "id": "544ff296-b754-47be-a912-5a7ea3b93d0b",
   "metadata": {},
   "outputs": [],
   "source": [
    "seqc_program_p1 = f\"\"\"\n",
    "// Assign a single channel waveform to wave table entry 0\n",
    "\n",
    "// Reset the oscillator phase\n",
    "resetOscPhase();\n",
    "\n",
    "repeat({seq_averages}) {{\n",
    "\n",
    "    // Trigger the scope\n",
    "    \n",
    "    waitDigTrigger(1);\n",
    "\n",
    "    setTrigger(1);\n",
    "    setTrigger(0);\n",
    "    \n",
    "    executeTableEntry(0);                                                               // mixed state init.\n",
    "    \n",
    "    playZero({timeToSamples(wait_and_settle, samplingDivider)},  {samplingDivider});    // wait and settle\n",
    "    playZero({timeToSamples(read_len, samplingDivider)},  {samplingDivider});           // read reference\n",
    "\n",
    "    executeTableEntry(1);                                                               // read\n",
    "    \n",
    "    playZero({timeToSamples(wait_and_settle, samplingDivider)},  {samplingDivider});    // wait and settle\n",
    "}}\n",
    "\"\"\"\n",
    "\n",
    "seqc_program_p2 = f\"\"\"\n",
    "// Assign a single channel waveform to wave table entry 0\n",
    "\n",
    "// Reset the oscillator phase\n",
    "resetOscPhase();\n",
    "\n",
    "repeat({seq_averages}) {{\n",
    "\n",
    "    // Trigger the scope\n",
    "    \n",
    "    waitDigTrigger(1);\n",
    "\n",
    "    setTrigger(1);\n",
    "    setTrigger(0);\n",
    "    \n",
    "    executeTableEntry(0);                                                               // mixed state init.\n",
    "    \n",
    "    playZero({timeToSamples(wait_and_settle, samplingDivider)},  {samplingDivider});    // wait and settle\n",
    "    playZero({timeToSamples(read_len, samplingDivider)},  {samplingDivider});           // read reference\n",
    "\n",
    "    executeTableEntry(1);                                                               // read\n",
    "    \n",
    "    playZero({timeToSamples(wait_and_settle, samplingDivider)},  {samplingDivider});    // wait and settle\n",
    "}}\n",
    "\"\"\"\n",
    "\n",
    "seqc_program_j = f\"\"\"\n",
    "// Assign a single channel waveform to wave table entry 0\n",
    "wave w_j = ones({timeToSamples(init_len, samplingDivider)});\n",
    "assignWaveIndex(1,2, w_j, 0);\n",
    "\n",
    "// Reset the oscillator phase\n",
    "resetOscPhase();\n",
    "\n",
    "repeat({seq_averages}) {{\n",
    "\n",
    "    // Trigger the scope\n",
    "    \n",
    "    waitDigTrigger(1);\n",
    "\n",
    "    setTrigger(1);\n",
    "    setTrigger(0);\n",
    "    \n",
    "    playZero({timeToSamples(init_len, samplingDivider)},  {samplingDivider});           // mixed state init.\n",
    "    playZero({timeToSamples(wait_and_settle, samplingDivider)},  {samplingDivider});    // wait and settle\n",
    "\n",
    "    executeTableEntry(1);                                                               // read reference\n",
    "    \n",
    "    // playZero({timeToSamples(read_len, samplingDivider)},  {samplingDivider});           // read\n",
    "    playZero({timeToSamples(wait_and_settle, samplingDivider)},  {samplingDivider});    // wait and settle\n",
    "    playZero(32);    // wait and settle\n",
    "}}\n",
    "\"\"\"\n",
    "\n",
    "\n",
    "\n",
    "seqc_program_st = f\"\"\"\n",
    "// Assign a single channel waveform to wave table entry 0\n",
    "wave w_st = ones({timeToSamples(trigger_time, 9)});\n",
    "assignWaveIndex(1,2, w_st, 0);\n",
    "\n",
    "repeat({seq_averages}) {{\n",
    "    waitDigTrigger(1);\n",
    "    executeTableEntry(0);\n",
    "}}\n",
    "\"\"\""
   ]
  },
  {
   "cell_type": "code",
   "execution_count": 70,
   "id": "ecf3bbec-69e7-46f9-b195-5141819eb14e",
   "metadata": {},
   "outputs": [],
   "source": [
    "seqc_program_prior_read = f\"\"\"\n",
    "repeat({seq_averages}) {{\n",
    "    waitDigTrigger(1);\n",
    "    \n",
    "    setTrigger(1);\n",
    "    setTrigger(0);\n",
    "}}\n",
    "\"\"\"\n",
    "\n",
    "readout_prog_code = f\"\"\"\n",
    "setTrigger(0); // Set low as this starts the spectroscopy readout....\n",
    "\n",
    "repeat({seq_averages}) {{\n",
    "    waitDigTrigger(1);\n",
    "    \n",
    "    playZero(224); // lineup with SG trigger (224 samples = lines up with SG trigger);\n",
    "    \n",
    "    playZero({timeToSamples(init_len, samplingDivider)},  {samplingDivider});\n",
    "    playZero({timeToSamples(wait_and_settle, samplingDivider)},  {samplingDivider});\n",
    "    playZero({timeToSamples(buffer, samplingDivider)},  {samplingDivider});\n",
    "\n",
    "    setTrigger(1);  // trigger the output. As this matches \"chan0seqtrig0\" the spectroscopy is started\n",
    "    setTrigger(0);\n",
    "\n",
    "    playZero({timeToSamples(read_len, samplingDivider)},  {samplingDivider});\n",
    "    playZero({timeToSamples(buffer, samplingDivider)},  {samplingDivider});\n",
    "\n",
    "    setTrigger(1);  // trigger the output. As this matches \"chan0seqtrig0\" the spectroscopy is started\n",
    "    setTrigger(0);\n",
    "\n",
    "    playZero({timeToSamples(buffer, samplingDivider)},  {samplingDivider});\n",
    "    playZero({timeToSamples(wait_and_settle, samplingDivider)},  {samplingDivider});\n",
    "    }}\n",
    "\n",
    "\"\"\""
   ]
  },
  {
   "cell_type": "code",
   "execution_count": 71,
   "id": "5793b002-866d-4f2b-95f0-bce29f81c96d",
   "metadata": {},
   "outputs": [],
   "source": [
    "# create waveforms\n",
    "default_amp = 0.01\n",
    "\n",
    "# Create mixed state\n",
    "samples = timeToSamples(init_len, samplingDivider)\n",
    "mixed_p = np.linspace(voltToDbm(default_amp, dr_pwr),\n",
    "                       voltToDbm(default_amp+default_amp*samples*ramp_rate, dr_pwr), samples)\n",
    "\n",
    "# Read pulse driver\n",
    "samples = timeToSamples(read_len, samplingDivider)\n",
    "read_p = np.linspace(voltToDbm(default_amp, dr_pwr),\n",
    "                       voltToDbm(default_amp+default_amp*samples*ramp_rate, dr_pwr), samples)\n",
    "\n",
    "del samples"
   ]
  },
  {
   "cell_type": "code",
   "execution_count": 72,
   "id": "a9f21726-8e6d-44be-a91c-2aa93f6f6b33",
   "metadata": {},
   "outputs": [
    {
     "name": "stdout",
     "output_type": "stream",
     "text": [
      "_________ /dev12158/sgchannels/1 _________\n",
      "\n",
      "// Assign a single channel waveform to wave table entry 0\n",
      "\n",
      "// Reset the oscillator phase\n",
      "resetOscPhase();\n",
      "\n",
      "repeat(100) {\n",
      "\n",
      "    // Trigger the scope\n",
      "    \n",
      "    waitDigTrigger(1);\n",
      "\n",
      "    setTrigger(1);\n",
      "    setTrigger(0);\n",
      "    \n",
      "    executeTableEntry(0);                                                               // mixed state init.\n",
      "    \n",
      "    playZero(93744,  6);    // wait and settle\n",
      "    playZero(3120,  6);           // read reference\n",
      "\n",
      "    executeTableEntry(1);                                                               // read\n",
      "    \n",
      "    playZero(93744,  6);    // wait and settle\n",
      "}\n",
      "\n",
      "_________ /dev12158/sgchannels/2 _________\n",
      "\n",
      "// Assign a single channel waveform to wave table entry 0\n",
      "\n",
      "// Reset the oscillator phase\n",
      "resetOscPhase();\n",
      "\n",
      "repeat(100) {\n",
      "\n",
      "    // Trigger the scope\n",
      "    \n",
      "    waitDigTrigger(1);\n",
      "\n",
      "    setTrigger(1);\n",
      "    setTrigger(0);\n",
      "    \n",
      "    executeTableEntry(0);                                                               // mixed state init.\n",
      "    \n",
      "    playZero(93744,  6);    // wait and settle\n",
      "    playZero(3120,  6);           // read reference\n",
      "\n",
      "    executeTableEntry(1);                                                               // read\n",
      "    \n",
      "    playZero(93744,  6);    // wait and settle\n",
      "}\n",
      "\n",
      "_________ /dev12158/sgchannels/3 _________\n",
      "\n",
      "// Assign a single channel waveform to wave table entry 0\n",
      "wave w_j = ones(18736);\n",
      "assignWaveIndex(1,2, w_j, 0);\n",
      "\n",
      "// Reset the oscillator phase\n",
      "resetOscPhase();\n",
      "\n",
      "repeat(100) {\n",
      "\n",
      "    // Trigger the scope\n",
      "    \n",
      "    waitDigTrigger(1);\n",
      "\n",
      "    setTrigger(1);\n",
      "    setTrigger(0);\n",
      "    \n",
      "    playZero(18736,  6);           // mixed state init.\n",
      "    playZero(93744,  6);    // wait and settle\n",
      "\n",
      "    executeTableEntry(1);                                                               // read reference\n",
      "    \n",
      "    // playZero(3120,  6);           // read\n",
      "    playZero(93744,  6);    // wait and settle\n",
      "    playZero(32);    // wait and settle\n",
      "}\n",
      "\n",
      "_________ /dev12158/sgchannels/0 _________\n",
      "\n",
      "// Assign a single channel waveform to wave table entry 0\n",
      "wave w_st = ones(39056);\n",
      "assignWaveIndex(1,2, w_st, 0);\n",
      "\n",
      "repeat(100) {\n",
      "    waitDigTrigger(1);\n",
      "    executeTableEntry(0);\n",
      "}\n",
      "\n"
     ]
    }
   ],
   "source": [
    "# upload drive code\n",
    "\n",
    "# P1\n",
    "seq = Sequence()\n",
    "seq.code = seqc_program_p1\n",
    "seq.waveforms = Waveforms()\n",
    "seq.waveforms[0] = mixed_p\n",
    "seq.waveforms[1] = read_p\n",
    "chan[\"P1\"].awg.load_sequencer_program(seq)\n",
    "chan[\"P1\"].awg.write_to_waveform_memory(seq.waveforms)\n",
    "print(f\"_________ {chan[\"P1\"]} _________\")\n",
    "print(seq.code)\n",
    "\n",
    "# P2\n",
    "seq = Sequence()\n",
    "seq.code = seqc_program_p2\n",
    "seq.waveforms = Waveforms()\n",
    "seq.waveforms[0] = mixed_p\n",
    "seq.waveforms[1] = read_p\n",
    "chan[\"P2\"].awg.load_sequencer_program(seq)\n",
    "chan[\"P2\"].awg.write_to_waveform_memory(seq.waveforms)\n",
    "print(f\"_________ {chan[\"P2\"]} _________\")\n",
    "print(seq.code)\n",
    "\n",
    "# J\n",
    "chan[\"J\"].awg.load_sequencer_program(seqc_program_j)\n",
    "print(f\"_________ {chan[\"J\"]} _________\")\n",
    "print(seqc_program_j)\n",
    "\n",
    "# ST\n",
    "chan[\"ST\"].awg.load_sequencer_program(seqc_program_st)\n",
    "print(f\"_________ {chan[\"ST\"]} _________\")\n",
    "print(seqc_program_st)\n",
    "\n",
    "# upload wavevforms with sequence code as the memory must be allocated first\n",
    "\n",
    "# upload measure code\n",
    "#chan[\"measure\"].generator.load_sequencer_program(readout_prog_code)\n",
    "#chan[\"measure\"].generator.load_sequencer_program(seqc_program_prior_read)"
   ]
  },
  {
   "cell_type": "markdown",
   "id": "b755ce22-ddbb-4a9e-8936-e385fc1d0c48",
   "metadata": {},
   "source": [
    "### Setup Command tables"
   ]
  },
  {
   "cell_type": "code",
   "execution_count": 73,
   "id": "60125786-bdcf-4b40-a54a-ccfb8f466ac6",
   "metadata": {},
   "outputs": [],
   "source": [
    "# load mixed state command channels\n",
    "for c in [\"P1\", \"P2\"]:\n",
    "    cmdtable(cts[c],\n",
    "             amplitude= voltToDbm(MIXED_AMP[c], chan[c].output.range()),\n",
    "             length=timeToSamples(init_len, samplingDivider),\n",
    "             wave_index=0,\n",
    "             ct_index=0,\n",
    "            )"
   ]
  },
  {
   "cell_type": "markdown",
   "id": "b2a00a11-da12-44bf-b049-3b39d6d264cd",
   "metadata": {},
   "source": [
    "## Run"
   ]
  },
  {
   "cell_type": "markdown",
   "id": "5be28742-3627-4144-993f-41705b5e0d72",
   "metadata": {},
   "source": [
    "### Run functions"
   ]
  },
  {
   "cell_type": "code",
   "execution_count": 74,
   "id": "7e9bbbbc-a264-4fea-bd41-5cfea0348311",
   "metadata": {},
   "outputs": [],
   "source": [
    "def uploadcts():\n",
    "    \"\"\"Upload the command tables to the device\"\"\"\n",
    "    for c in drive_chans:\n",
    "        chan[c].awg.commandtable.upload_to_device(cts[c])"
   ]
  },
  {
   "cell_type": "code",
   "execution_count": 75,
   "id": "8f92f2bf-0c88-4981-8317-620b531b2fb4",
   "metadata": {},
   "outputs": [],
   "source": [
    "def synchchannels(chans):\n",
    "    \"\"\"Sync the given channels, unsyncing the rest. Assumes that the internal trigger and measure channel should always be synced.\"\"\"\n",
    "    for c in drive_chans:\n",
    "        if c in chans:  # sync\n",
    "            chan[c].synchronization.enable(1)\n",
    "        else:  # dont sync\n",
    "            chan[c].synchronization.enable(0)\n",
    "    chan[\"measure\"].synchronization.enable(1)\n",
    "    device.system.internaltrigger.synchronization.enable(1)"
   ]
  },
  {
   "cell_type": "code",
   "execution_count": 76,
   "id": "b362e0ad-860b-40a9-9cdb-dbe53263ce2c",
   "metadata": {},
   "outputs": [],
   "source": [
    "def waitForInternalTrigger(progress=True, leave=True):\n",
    "    \"\"\"\n",
    "    Waits for the internal trigger to finish running and shows the current progress.\n",
    "    Progress = if show tqdm progress meter\n",
    "    Leave = if keep progress bar afterwards\n",
    "    \"\"\"\n",
    "    if progress:\n",
    "        pbar = tqdm(total=100, leave=leave, desc=\"Internal trigger\")\n",
    "    while device.system.internaltrigger.progress() != 1.0:\n",
    "        p = int(device.system.internaltrigger.progress()*100)\n",
    "        if progress:\n",
    "            pbar.update(p-pbar.n)\n",
    "        time.sleep(0.001)\n",
    "    if progress:\n",
    "        pbar.update(100-pbar.n)\n",
    "        pbar.close()"
   ]
  },
  {
   "cell_type": "code",
   "execution_count": 77,
   "id": "e716f36c-08b1-450c-9f57-7b80ff293d91",
   "metadata": {},
   "outputs": [],
   "source": [
    "def calculatefeedback(data):\n",
    "    \"\"\"Calculate the appropriate feedback adjustment to ST.\"\"\"\n",
    "    # use last datapoint\n",
    "    global curr_st_amp\n",
    "    error = FB_TARGET-np.abs(data[-1])\n",
    "    curr_st_amp += error*FB_STEPSIZE*FB_SLOPE\n",
    "\n",
    "    # update command table\n",
    "    cmdtable(cts[\"ST\"],\n",
    "             amplitude= voltToDbm(curr_st_amp, chan[\"ST\"].output.range()),\n",
    "             length=timeToSamples(trigger_time, 6),\n",
    "             wave_index=0,\n",
    "             ct_index=0,\n",
    "            )\n",
    "    "
   ]
  },
  {
   "cell_type": "code",
   "execution_count": 78,
   "id": "33b026b2-534d-4de2-a7ab-de1ec8e42dee",
   "metadata": {},
   "outputs": [],
   "source": [
    "def movemeasurement(p1, p2, j):\n",
    "    \"\"\"Move P1/P2/J to measure the next appropriate datapoint.\"\"\"\n",
    "    cmdtable(cts[\"P1\"],\n",
    "             amplitude= voltToDbm(p1, chan[\"P1\"].output.range()),\n",
    "             length=timeToSamples(buffer + read_len + buffer, samplingDivider),\n",
    "             wave_index=1,\n",
    "             ct_index=1,\n",
    "            )\n",
    "    cmdtable(cts[\"P2\"],\n",
    "             amplitude= voltToDbm(p2, chan[\"P2\"].output.range()),\n",
    "             length=timeToSamples(buffer + read_len + buffer, samplingDivider),\n",
    "             wave_index=1,\n",
    "             ct_index=1,\n",
    "            )\n",
    "    cmdtable(cts[\"J\"],\n",
    "             amplitude= voltToDbm(j, chan[\"J\"].output.range()),\n",
    "             length=timeToSamples(buffer + read_len + buffer + read_len, samplingDivider),     # THIS LINE IS WRONG, FIX\n",
    "             wave_index=0,\n",
    "             ct_index=1,\n",
    "            )\n",
    "    "
   ]
  },
  {
   "cell_type": "code",
   "execution_count": 79,
   "id": "e3c3031d-72d8-46bd-86ea-098cde7ace2e",
   "metadata": {},
   "outputs": [],
   "source": [
    "def runfeedback():\n",
    "    \"\"\"Run feedback measurement where we only measure\"\"\"\n",
    "    device.system.internaltrigger.enable(0)\n",
    "\n",
    "    result_node = chan[\"measure\"].spectroscopy.result.data.wave\n",
    "    result_node.subscribe()\n",
    "    \n",
    "    chan[\"measure\"].spectroscopy.result.enable(1)  # start logger\n",
    "    chan[\"measure\"].generator.enable_sequencer(single=True)\n",
    "    device.system.internaltrigger.enable(1)\n",
    "    \n",
    "    time.sleep(0.2)  # delay for networking issues\n",
    "        \n",
    "    # wait for the measurement to complete\n",
    "    waitForInternalTrigger()\n",
    "    \n",
    "    m_state = chan[\"measure\"].generator.sequencer.status()\n",
    "    if m_state != 4:\n",
    "        warnings.warn(f\"Sequencers in unknown state. Perhaps they are not synchronised? {bin(m_state)}\")\n",
    "        time.sleep(0.5)\n",
    "    \n",
    "    # wait for completion\n",
    "    while chan[\"measure\"].spectroscopy.result.enable() != 0:\n",
    "        print(chan[\"measure\"].spectroscopy.result.enable())\n",
    "        chan[\"measure\"].spectroscopy.result.enable.wait_for_state_change(0, timeout=10)\n",
    "    \n",
    "    # get results\n",
    "    results = get_results(result_node, timeout=5)\n",
    "    result_node.unsubscribe()\n",
    "    \n",
    "    # verify results\n",
    "    acq = chan[\"measure\"].spectroscopy.result.acquired()\n",
    "    if len(results) > acq:\n",
    "        print(chan[\"measure\"].generator.ready())\n",
    "        raise TimeoutError(f\"Not all datapoints measured in the time provided. {acq} of {len(results)}.\")\n",
    "\n",
    "    return np.mean(results)\n",
    "    "
   ]
  },
  {
   "cell_type": "code",
   "execution_count": 80,
   "id": "cc2d730b-5e7d-4a69-ac96-74e7dd484987",
   "metadata": {},
   "outputs": [],
   "source": [
    "def runexperiment():\n",
    "    device.system.internaltrigger.enable(0)\n",
    "\n",
    "    result_node = chan[\"measure\"].spectroscopy.result.data.wave\n",
    "    result_node.subscribe()\n",
    "    \n",
    "    chan[\"measure\"].spectroscopy.result.enable(1)  # start logger\n",
    "    \n",
    "    \n",
    "    # start sequencers\n",
    "    chan[\"measure\"].generator.enable_sequencer(single=True)\n",
    "    chan[\"J\"].awg.enable_sequencer(single=True)  # dont want to repeat\n",
    "    chan[\"P1\"].awg.enable_sequencer(single=True)\n",
    "    chan[\"P2\"].awg.enable_sequencer(single=True)\n",
    "    chan[\"ST\"].awg.enable_sequencer(single=True)\n",
    "    \n",
    "    \n",
    "    # start triggering sequence (which starts each sequencer)\n",
    "    device.system.internaltrigger.enable(1)\n",
    "    time.sleep(0.2)  # delay for networking issues\n",
    "    \n",
    "        \n",
    "    # wait for the measurement to complete\n",
    "    waitForInternalTrigger(progress=True, leave=False)\n",
    "    \n",
    "    \n",
    "    # check sequencers have finished their sequences\n",
    "    # Status of the Sequencer on the instrument.\n",
    "    # - Bit 0: Sequencer is running;\n",
    "    # - Bit 1: reserved;\n",
    "    # - Bit 2: Sequencer is waiting for a trigger to arrive;\n",
    "    # - Bit 3: Sequencer has detected an error;\n",
    "    # - Bit 4: sequencer is waiting for synchronization with other channels\n",
    "    m_state = chan[\"measure\"].generator.sequencer.status()\n",
    "    st_state = chan[\"P1\"].awg.sequencer.status()\n",
    "    if m_state != 4 and st_state != 4:\n",
    "        warnings.warn(f\"Sequencers in unknown state. Perhaps they are not synchronised? {bin(m_state)}, {bin(st_state)}\")\n",
    "        #time.sleep(0.5)\n",
    "    \n",
    "    \n",
    "    # wait for completion\n",
    "    while chan[\"measure\"].spectroscopy.result.enable() != 0:\n",
    "        chan[\"measure\"].spectroscopy.result.enable.wait_for_state_change(0, timeout=10)\n",
    "    \n",
    "    \n",
    "    # get results\n",
    "    results = get_results(result_node, timeout=5)\n",
    "    result_node.unsubscribe()\n",
    "    \n",
    "    \n",
    "    # verify results\n",
    "    acq = chan[\"measure\"].spectroscopy.result.acquired()\n",
    "    if len(results) > acq:\n",
    "        print(chan[\"measure\"].generator.ready())\n",
    "        print([chan[c].awg.ready() for c in drive_chans])\n",
    "        raise TimeoutError(f\"Not all datapoints measured in the time provided. {acq} of {len(results)}.\")\n",
    "    \n",
    "    return np.mean(results.reshape((seq_averages, 2)), axis=0)\n",
    "\n",
    "\n"
   ]
  },
  {
   "cell_type": "code",
   "execution_count": 81,
   "id": "8a70d989-06a4-45fd-a9de-cb9c57d748d9",
   "metadata": {},
   "outputs": [],
   "source": [
    "device.system.internaltrigger.repetitions(seq_averages)  # make sure that this matches how many pulses we are sending\n",
    "device.system.internaltrigger.holdoff(trigger_time)  # init_len + 2*wait_and_settle + 100e-6*2)  # how long to wait between retriggers (increments of 100ns)"
   ]
  },
  {
   "cell_type": "code",
   "execution_count": 82,
   "id": "34fcc1a5-4ba8-4288-9e93-ab28fcdbc70b",
   "metadata": {},
   "outputs": [],
   "source": [
    "# setup channel synchronization\n",
    "chan[\"measure\"].synchronization.enable(1)\n",
    "chan[\"P1\"].synchronization.enable(1)\n",
    "chan[\"P2\"].synchronization.enable(1)\n",
    "chan[\"J\"].synchronization.enable(1)\n",
    "chan[\"ST\"].synchronization.enable(1)\n",
    "device.system.internaltrigger.synchronization.enable(1)"
   ]
  },
  {
   "cell_type": "markdown",
   "id": "d68a9e0b-4fcf-4bed-9cc6-6e54a1d17895",
   "metadata": {},
   "source": [
    "### Run loop"
   ]
  },
  {
   "cell_type": "code",
   "execution_count": null,
   "id": "23e2651e-ccf4-493a-af0a-429b65ed2c35",
   "metadata": {},
   "outputs": [],
   "source": []
  },
  {
   "cell_type": "code",
   "execution_count": 83,
   "id": "31450368-d9bb-4fdb-9b5d-d59e299d38df",
   "metadata": {},
   "outputs": [
    {
     "name": "stdout",
     "output_type": "stream",
     "text": [
      "Started new run sequence.3\n",
      "Measuring initial feedback point\n"
     ]
    },
    {
     "data": {
      "application/vnd.jupyter.widget-view+json": {
       "model_id": "62f7d55714d649b78bece3556cdf6c24",
       "version_major": 2,
       "version_minor": 0
      },
      "text/plain": [
       "Internal trigger:   0%|          | 0/100 [00:00<?, ?it/s]"
      ]
     },
     "metadata": {},
     "output_type": "display_data"
    },
    {
     "name": "stdout",
     "output_type": "stream",
     "text": [
      "Sweeping P1, P2 and J\n"
     ]
    },
    {
     "data": {
      "application/vnd.jupyter.widget-view+json": {
       "model_id": "6cc871b70c6e4e3daca3908ecc0158d0",
       "version_major": 2,
       "version_minor": 0
      },
      "text/plain": [
       "J:   0%|          | 0/1 [00:00<?, ?it/s]"
      ]
     },
     "metadata": {},
     "output_type": "display_data"
    },
    {
     "data": {
      "application/vnd.jupyter.widget-view+json": {
       "model_id": "",
       "version_major": 2,
       "version_minor": 0
      },
      "text/plain": [
       "Detuning:   0%|          | 0/100 [00:00<?, ?it/s]"
      ]
     },
     "metadata": {},
     "output_type": "display_data"
    },
    {
     "data": {
      "application/vnd.jupyter.widget-view+json": {
       "model_id": "",
       "version_major": 2,
       "version_minor": 0
      },
      "text/plain": [
       "Internal trigger:   0%|          | 0/100 [00:00<?, ?it/s]"
      ]
     },
     "metadata": {},
     "output_type": "display_data"
    },
    {
     "data": {
      "application/vnd.jupyter.widget-view+json": {
       "model_id": "",
       "version_major": 2,
       "version_minor": 0
      },
      "text/plain": [
       "Internal trigger:   0%|          | 0/100 [00:00<?, ?it/s]"
      ]
     },
     "metadata": {},
     "output_type": "display_data"
    },
    {
     "data": {
      "application/vnd.jupyter.widget-view+json": {
       "model_id": "",
       "version_major": 2,
       "version_minor": 0
      },
      "text/plain": [
       "Internal trigger:   0%|          | 0/100 [00:00<?, ?it/s]"
      ]
     },
     "metadata": {},
     "output_type": "display_data"
    },
    {
     "data": {
      "application/vnd.jupyter.widget-view+json": {
       "model_id": "",
       "version_major": 2,
       "version_minor": 0
      },
      "text/plain": [
       "Internal trigger:   0%|          | 0/100 [00:00<?, ?it/s]"
      ]
     },
     "metadata": {},
     "output_type": "display_data"
    },
    {
     "data": {
      "application/vnd.jupyter.widget-view+json": {
       "model_id": "",
       "version_major": 2,
       "version_minor": 0
      },
      "text/plain": [
       "Internal trigger:   0%|          | 0/100 [00:00<?, ?it/s]"
      ]
     },
     "metadata": {},
     "output_type": "display_data"
    },
    {
     "data": {
      "application/vnd.jupyter.widget-view+json": {
       "model_id": "",
       "version_major": 2,
       "version_minor": 0
      },
      "text/plain": [
       "Internal trigger:   0%|          | 0/100 [00:00<?, ?it/s]"
      ]
     },
     "metadata": {},
     "output_type": "display_data"
    },
    {
     "data": {
      "application/vnd.jupyter.widget-view+json": {
       "model_id": "",
       "version_major": 2,
       "version_minor": 0
      },
      "text/plain": [
       "Internal trigger:   0%|          | 0/100 [00:00<?, ?it/s]"
      ]
     },
     "metadata": {},
     "output_type": "display_data"
    },
    {
     "data": {
      "application/vnd.jupyter.widget-view+json": {
       "model_id": "",
       "version_major": 2,
       "version_minor": 0
      },
      "text/plain": [
       "Internal trigger:   0%|          | 0/100 [00:00<?, ?it/s]"
      ]
     },
     "metadata": {},
     "output_type": "display_data"
    },
    {
     "data": {
      "application/vnd.jupyter.widget-view+json": {
       "model_id": "",
       "version_major": 2,
       "version_minor": 0
      },
      "text/plain": [
       "Internal trigger:   0%|          | 0/100 [00:00<?, ?it/s]"
      ]
     },
     "metadata": {},
     "output_type": "display_data"
    },
    {
     "data": {
      "application/vnd.jupyter.widget-view+json": {
       "model_id": "",
       "version_major": 2,
       "version_minor": 0
      },
      "text/plain": [
       "Internal trigger:   0%|          | 0/100 [00:00<?, ?it/s]"
      ]
     },
     "metadata": {},
     "output_type": "display_data"
    },
    {
     "data": {
      "application/vnd.jupyter.widget-view+json": {
       "model_id": "",
       "version_major": 2,
       "version_minor": 0
      },
      "text/plain": [
       "Internal trigger:   0%|          | 0/100 [00:00<?, ?it/s]"
      ]
     },
     "metadata": {},
     "output_type": "display_data"
    },
    {
     "data": {
      "application/vnd.jupyter.widget-view+json": {
       "model_id": "",
       "version_major": 2,
       "version_minor": 0
      },
      "text/plain": [
       "Internal trigger:   0%|          | 0/100 [00:00<?, ?it/s]"
      ]
     },
     "metadata": {},
     "output_type": "display_data"
    },
    {
     "data": {
      "application/vnd.jupyter.widget-view+json": {
       "model_id": "",
       "version_major": 2,
       "version_minor": 0
      },
      "text/plain": [
       "Internal trigger:   0%|          | 0/100 [00:00<?, ?it/s]"
      ]
     },
     "metadata": {},
     "output_type": "display_data"
    },
    {
     "data": {
      "application/vnd.jupyter.widget-view+json": {
       "model_id": "",
       "version_major": 2,
       "version_minor": 0
      },
      "text/plain": [
       "Internal trigger:   0%|          | 0/100 [00:00<?, ?it/s]"
      ]
     },
     "metadata": {},
     "output_type": "display_data"
    },
    {
     "data": {
      "application/vnd.jupyter.widget-view+json": {
       "model_id": "",
       "version_major": 2,
       "version_minor": 0
      },
      "text/plain": [
       "Internal trigger:   0%|          | 0/100 [00:00<?, ?it/s]"
      ]
     },
     "metadata": {},
     "output_type": "display_data"
    },
    {
     "data": {
      "application/vnd.jupyter.widget-view+json": {
       "model_id": "",
       "version_major": 2,
       "version_minor": 0
      },
      "text/plain": [
       "Internal trigger:   0%|          | 0/100 [00:00<?, ?it/s]"
      ]
     },
     "metadata": {},
     "output_type": "display_data"
    },
    {
     "data": {
      "application/vnd.jupyter.widget-view+json": {
       "model_id": "",
       "version_major": 2,
       "version_minor": 0
      },
      "text/plain": [
       "Internal trigger:   0%|          | 0/100 [00:00<?, ?it/s]"
      ]
     },
     "metadata": {},
     "output_type": "display_data"
    },
    {
     "data": {
      "application/vnd.jupyter.widget-view+json": {
       "model_id": "",
       "version_major": 2,
       "version_minor": 0
      },
      "text/plain": [
       "Internal trigger:   0%|          | 0/100 [00:00<?, ?it/s]"
      ]
     },
     "metadata": {},
     "output_type": "display_data"
    },
    {
     "data": {
      "application/vnd.jupyter.widget-view+json": {
       "model_id": "",
       "version_major": 2,
       "version_minor": 0
      },
      "text/plain": [
       "Internal trigger:   0%|          | 0/100 [00:00<?, ?it/s]"
      ]
     },
     "metadata": {},
     "output_type": "display_data"
    },
    {
     "data": {
      "application/vnd.jupyter.widget-view+json": {
       "model_id": "",
       "version_major": 2,
       "version_minor": 0
      },
      "text/plain": [
       "Internal trigger:   0%|          | 0/100 [00:00<?, ?it/s]"
      ]
     },
     "metadata": {},
     "output_type": "display_data"
    },
    {
     "data": {
      "application/vnd.jupyter.widget-view+json": {
       "model_id": "",
       "version_major": 2,
       "version_minor": 0
      },
      "text/plain": [
       "Internal trigger:   0%|          | 0/100 [00:00<?, ?it/s]"
      ]
     },
     "metadata": {},
     "output_type": "display_data"
    },
    {
     "data": {
      "application/vnd.jupyter.widget-view+json": {
       "model_id": "",
       "version_major": 2,
       "version_minor": 0
      },
      "text/plain": [
       "Internal trigger:   0%|          | 0/100 [00:00<?, ?it/s]"
      ]
     },
     "metadata": {},
     "output_type": "display_data"
    },
    {
     "data": {
      "application/vnd.jupyter.widget-view+json": {
       "model_id": "",
       "version_major": 2,
       "version_minor": 0
      },
      "text/plain": [
       "Internal trigger:   0%|          | 0/100 [00:00<?, ?it/s]"
      ]
     },
     "metadata": {},
     "output_type": "display_data"
    },
    {
     "data": {
      "application/vnd.jupyter.widget-view+json": {
       "model_id": "",
       "version_major": 2,
       "version_minor": 0
      },
      "text/plain": [
       "Internal trigger:   0%|          | 0/100 [00:00<?, ?it/s]"
      ]
     },
     "metadata": {},
     "output_type": "display_data"
    },
    {
     "data": {
      "application/vnd.jupyter.widget-view+json": {
       "model_id": "",
       "version_major": 2,
       "version_minor": 0
      },
      "text/plain": [
       "Internal trigger:   0%|          | 0/100 [00:00<?, ?it/s]"
      ]
     },
     "metadata": {},
     "output_type": "display_data"
    },
    {
     "data": {
      "application/vnd.jupyter.widget-view+json": {
       "model_id": "",
       "version_major": 2,
       "version_minor": 0
      },
      "text/plain": [
       "Internal trigger:   0%|          | 0/100 [00:00<?, ?it/s]"
      ]
     },
     "metadata": {},
     "output_type": "display_data"
    },
    {
     "data": {
      "application/vnd.jupyter.widget-view+json": {
       "model_id": "",
       "version_major": 2,
       "version_minor": 0
      },
      "text/plain": [
       "Internal trigger:   0%|          | 0/100 [00:00<?, ?it/s]"
      ]
     },
     "metadata": {},
     "output_type": "display_data"
    },
    {
     "data": {
      "application/vnd.jupyter.widget-view+json": {
       "model_id": "",
       "version_major": 2,
       "version_minor": 0
      },
      "text/plain": [
       "Internal trigger:   0%|          | 0/100 [00:00<?, ?it/s]"
      ]
     },
     "metadata": {},
     "output_type": "display_data"
    },
    {
     "data": {
      "application/vnd.jupyter.widget-view+json": {
       "model_id": "",
       "version_major": 2,
       "version_minor": 0
      },
      "text/plain": [
       "Internal trigger:   0%|          | 0/100 [00:00<?, ?it/s]"
      ]
     },
     "metadata": {},
     "output_type": "display_data"
    },
    {
     "data": {
      "application/vnd.jupyter.widget-view+json": {
       "model_id": "",
       "version_major": 2,
       "version_minor": 0
      },
      "text/plain": [
       "Internal trigger:   0%|          | 0/100 [00:00<?, ?it/s]"
      ]
     },
     "metadata": {},
     "output_type": "display_data"
    },
    {
     "data": {
      "application/vnd.jupyter.widget-view+json": {
       "model_id": "",
       "version_major": 2,
       "version_minor": 0
      },
      "text/plain": [
       "Internal trigger:   0%|          | 0/100 [00:00<?, ?it/s]"
      ]
     },
     "metadata": {},
     "output_type": "display_data"
    },
    {
     "data": {
      "application/vnd.jupyter.widget-view+json": {
       "model_id": "",
       "version_major": 2,
       "version_minor": 0
      },
      "text/plain": [
       "Internal trigger:   0%|          | 0/100 [00:00<?, ?it/s]"
      ]
     },
     "metadata": {},
     "output_type": "display_data"
    },
    {
     "data": {
      "application/vnd.jupyter.widget-view+json": {
       "model_id": "",
       "version_major": 2,
       "version_minor": 0
      },
      "text/plain": [
       "Internal trigger:   0%|          | 0/100 [00:00<?, ?it/s]"
      ]
     },
     "metadata": {},
     "output_type": "display_data"
    },
    {
     "data": {
      "application/vnd.jupyter.widget-view+json": {
       "model_id": "",
       "version_major": 2,
       "version_minor": 0
      },
      "text/plain": [
       "Internal trigger:   0%|          | 0/100 [00:00<?, ?it/s]"
      ]
     },
     "metadata": {},
     "output_type": "display_data"
    },
    {
     "data": {
      "application/vnd.jupyter.widget-view+json": {
       "model_id": "",
       "version_major": 2,
       "version_minor": 0
      },
      "text/plain": [
       "Internal trigger:   0%|          | 0/100 [00:00<?, ?it/s]"
      ]
     },
     "metadata": {},
     "output_type": "display_data"
    },
    {
     "data": {
      "application/vnd.jupyter.widget-view+json": {
       "model_id": "",
       "version_major": 2,
       "version_minor": 0
      },
      "text/plain": [
       "Internal trigger:   0%|          | 0/100 [00:00<?, ?it/s]"
      ]
     },
     "metadata": {},
     "output_type": "display_data"
    },
    {
     "data": {
      "application/vnd.jupyter.widget-view+json": {
       "model_id": "",
       "version_major": 2,
       "version_minor": 0
      },
      "text/plain": [
       "Internal trigger:   0%|          | 0/100 [00:00<?, ?it/s]"
      ]
     },
     "metadata": {},
     "output_type": "display_data"
    },
    {
     "data": {
      "application/vnd.jupyter.widget-view+json": {
       "model_id": "",
       "version_major": 2,
       "version_minor": 0
      },
      "text/plain": [
       "Internal trigger:   0%|          | 0/100 [00:00<?, ?it/s]"
      ]
     },
     "metadata": {},
     "output_type": "display_data"
    },
    {
     "data": {
      "application/vnd.jupyter.widget-view+json": {
       "model_id": "",
       "version_major": 2,
       "version_minor": 0
      },
      "text/plain": [
       "Internal trigger:   0%|          | 0/100 [00:00<?, ?it/s]"
      ]
     },
     "metadata": {},
     "output_type": "display_data"
    },
    {
     "data": {
      "application/vnd.jupyter.widget-view+json": {
       "model_id": "",
       "version_major": 2,
       "version_minor": 0
      },
      "text/plain": [
       "Internal trigger:   0%|          | 0/100 [00:00<?, ?it/s]"
      ]
     },
     "metadata": {},
     "output_type": "display_data"
    },
    {
     "data": {
      "application/vnd.jupyter.widget-view+json": {
       "model_id": "",
       "version_major": 2,
       "version_minor": 0
      },
      "text/plain": [
       "Internal trigger:   0%|          | 0/100 [00:00<?, ?it/s]"
      ]
     },
     "metadata": {},
     "output_type": "display_data"
    },
    {
     "data": {
      "application/vnd.jupyter.widget-view+json": {
       "model_id": "",
       "version_major": 2,
       "version_minor": 0
      },
      "text/plain": [
       "Internal trigger:   0%|          | 0/100 [00:00<?, ?it/s]"
      ]
     },
     "metadata": {},
     "output_type": "display_data"
    },
    {
     "data": {
      "application/vnd.jupyter.widget-view+json": {
       "model_id": "",
       "version_major": 2,
       "version_minor": 0
      },
      "text/plain": [
       "Internal trigger:   0%|          | 0/100 [00:00<?, ?it/s]"
      ]
     },
     "metadata": {},
     "output_type": "display_data"
    },
    {
     "data": {
      "application/vnd.jupyter.widget-view+json": {
       "model_id": "",
       "version_major": 2,
       "version_minor": 0
      },
      "text/plain": [
       "Internal trigger:   0%|          | 0/100 [00:00<?, ?it/s]"
      ]
     },
     "metadata": {},
     "output_type": "display_data"
    },
    {
     "data": {
      "application/vnd.jupyter.widget-view+json": {
       "model_id": "",
       "version_major": 2,
       "version_minor": 0
      },
      "text/plain": [
       "Internal trigger:   0%|          | 0/100 [00:00<?, ?it/s]"
      ]
     },
     "metadata": {},
     "output_type": "display_data"
    },
    {
     "data": {
      "application/vnd.jupyter.widget-view+json": {
       "model_id": "",
       "version_major": 2,
       "version_minor": 0
      },
      "text/plain": [
       "Internal trigger:   0%|          | 0/100 [00:00<?, ?it/s]"
      ]
     },
     "metadata": {},
     "output_type": "display_data"
    },
    {
     "data": {
      "application/vnd.jupyter.widget-view+json": {
       "model_id": "",
       "version_major": 2,
       "version_minor": 0
      },
      "text/plain": [
       "Internal trigger:   0%|          | 0/100 [00:00<?, ?it/s]"
      ]
     },
     "metadata": {},
     "output_type": "display_data"
    },
    {
     "data": {
      "application/vnd.jupyter.widget-view+json": {
       "model_id": "",
       "version_major": 2,
       "version_minor": 0
      },
      "text/plain": [
       "Internal trigger:   0%|          | 0/100 [00:00<?, ?it/s]"
      ]
     },
     "metadata": {},
     "output_type": "display_data"
    },
    {
     "data": {
      "application/vnd.jupyter.widget-view+json": {
       "model_id": "",
       "version_major": 2,
       "version_minor": 0
      },
      "text/plain": [
       "Internal trigger:   0%|          | 0/100 [00:00<?, ?it/s]"
      ]
     },
     "metadata": {},
     "output_type": "display_data"
    },
    {
     "data": {
      "application/vnd.jupyter.widget-view+json": {
       "model_id": "",
       "version_major": 2,
       "version_minor": 0
      },
      "text/plain": [
       "Internal trigger:   0%|          | 0/100 [00:00<?, ?it/s]"
      ]
     },
     "metadata": {},
     "output_type": "display_data"
    },
    {
     "data": {
      "application/vnd.jupyter.widget-view+json": {
       "model_id": "",
       "version_major": 2,
       "version_minor": 0
      },
      "text/plain": [
       "Internal trigger:   0%|          | 0/100 [00:00<?, ?it/s]"
      ]
     },
     "metadata": {},
     "output_type": "display_data"
    },
    {
     "data": {
      "application/vnd.jupyter.widget-view+json": {
       "model_id": "",
       "version_major": 2,
       "version_minor": 0
      },
      "text/plain": [
       "Internal trigger:   0%|          | 0/100 [00:00<?, ?it/s]"
      ]
     },
     "metadata": {},
     "output_type": "display_data"
    },
    {
     "data": {
      "application/vnd.jupyter.widget-view+json": {
       "model_id": "",
       "version_major": 2,
       "version_minor": 0
      },
      "text/plain": [
       "Internal trigger:   0%|          | 0/100 [00:00<?, ?it/s]"
      ]
     },
     "metadata": {},
     "output_type": "display_data"
    },
    {
     "data": {
      "application/vnd.jupyter.widget-view+json": {
       "model_id": "",
       "version_major": 2,
       "version_minor": 0
      },
      "text/plain": [
       "Internal trigger:   0%|          | 0/100 [00:00<?, ?it/s]"
      ]
     },
     "metadata": {},
     "output_type": "display_data"
    },
    {
     "data": {
      "application/vnd.jupyter.widget-view+json": {
       "model_id": "",
       "version_major": 2,
       "version_minor": 0
      },
      "text/plain": [
       "Internal trigger:   0%|          | 0/100 [00:00<?, ?it/s]"
      ]
     },
     "metadata": {},
     "output_type": "display_data"
    },
    {
     "data": {
      "application/vnd.jupyter.widget-view+json": {
       "model_id": "",
       "version_major": 2,
       "version_minor": 0
      },
      "text/plain": [
       "Internal trigger:   0%|          | 0/100 [00:00<?, ?it/s]"
      ]
     },
     "metadata": {},
     "output_type": "display_data"
    },
    {
     "data": {
      "application/vnd.jupyter.widget-view+json": {
       "model_id": "",
       "version_major": 2,
       "version_minor": 0
      },
      "text/plain": [
       "Internal trigger:   0%|          | 0/100 [00:00<?, ?it/s]"
      ]
     },
     "metadata": {},
     "output_type": "display_data"
    },
    {
     "data": {
      "application/vnd.jupyter.widget-view+json": {
       "model_id": "",
       "version_major": 2,
       "version_minor": 0
      },
      "text/plain": [
       "Internal trigger:   0%|          | 0/100 [00:00<?, ?it/s]"
      ]
     },
     "metadata": {},
     "output_type": "display_data"
    },
    {
     "data": {
      "application/vnd.jupyter.widget-view+json": {
       "model_id": "",
       "version_major": 2,
       "version_minor": 0
      },
      "text/plain": [
       "Internal trigger:   0%|          | 0/100 [00:00<?, ?it/s]"
      ]
     },
     "metadata": {},
     "output_type": "display_data"
    },
    {
     "data": {
      "application/vnd.jupyter.widget-view+json": {
       "model_id": "",
       "version_major": 2,
       "version_minor": 0
      },
      "text/plain": [
       "Internal trigger:   0%|          | 0/100 [00:00<?, ?it/s]"
      ]
     },
     "metadata": {},
     "output_type": "display_data"
    },
    {
     "data": {
      "application/vnd.jupyter.widget-view+json": {
       "model_id": "",
       "version_major": 2,
       "version_minor": 0
      },
      "text/plain": [
       "Internal trigger:   0%|          | 0/100 [00:00<?, ?it/s]"
      ]
     },
     "metadata": {},
     "output_type": "display_data"
    },
    {
     "data": {
      "application/vnd.jupyter.widget-view+json": {
       "model_id": "",
       "version_major": 2,
       "version_minor": 0
      },
      "text/plain": [
       "Internal trigger:   0%|          | 0/100 [00:00<?, ?it/s]"
      ]
     },
     "metadata": {},
     "output_type": "display_data"
    },
    {
     "data": {
      "application/vnd.jupyter.widget-view+json": {
       "model_id": "",
       "version_major": 2,
       "version_minor": 0
      },
      "text/plain": [
       "Internal trigger:   0%|          | 0/100 [00:00<?, ?it/s]"
      ]
     },
     "metadata": {},
     "output_type": "display_data"
    },
    {
     "data": {
      "application/vnd.jupyter.widget-view+json": {
       "model_id": "",
       "version_major": 2,
       "version_minor": 0
      },
      "text/plain": [
       "Internal trigger:   0%|          | 0/100 [00:00<?, ?it/s]"
      ]
     },
     "metadata": {},
     "output_type": "display_data"
    },
    {
     "data": {
      "application/vnd.jupyter.widget-view+json": {
       "model_id": "",
       "version_major": 2,
       "version_minor": 0
      },
      "text/plain": [
       "Internal trigger:   0%|          | 0/100 [00:00<?, ?it/s]"
      ]
     },
     "metadata": {},
     "output_type": "display_data"
    },
    {
     "data": {
      "application/vnd.jupyter.widget-view+json": {
       "model_id": "",
       "version_major": 2,
       "version_minor": 0
      },
      "text/plain": [
       "Internal trigger:   0%|          | 0/100 [00:00<?, ?it/s]"
      ]
     },
     "metadata": {},
     "output_type": "display_data"
    },
    {
     "data": {
      "application/vnd.jupyter.widget-view+json": {
       "model_id": "",
       "version_major": 2,
       "version_minor": 0
      },
      "text/plain": [
       "Internal trigger:   0%|          | 0/100 [00:00<?, ?it/s]"
      ]
     },
     "metadata": {},
     "output_type": "display_data"
    },
    {
     "data": {
      "application/vnd.jupyter.widget-view+json": {
       "model_id": "",
       "version_major": 2,
       "version_minor": 0
      },
      "text/plain": [
       "Internal trigger:   0%|          | 0/100 [00:00<?, ?it/s]"
      ]
     },
     "metadata": {},
     "output_type": "display_data"
    },
    {
     "data": {
      "application/vnd.jupyter.widget-view+json": {
       "model_id": "",
       "version_major": 2,
       "version_minor": 0
      },
      "text/plain": [
       "Internal trigger:   0%|          | 0/100 [00:00<?, ?it/s]"
      ]
     },
     "metadata": {},
     "output_type": "display_data"
    },
    {
     "data": {
      "application/vnd.jupyter.widget-view+json": {
       "model_id": "",
       "version_major": 2,
       "version_minor": 0
      },
      "text/plain": [
       "Internal trigger:   0%|          | 0/100 [00:00<?, ?it/s]"
      ]
     },
     "metadata": {},
     "output_type": "display_data"
    },
    {
     "data": {
      "application/vnd.jupyter.widget-view+json": {
       "model_id": "",
       "version_major": 2,
       "version_minor": 0
      },
      "text/plain": [
       "Internal trigger:   0%|          | 0/100 [00:00<?, ?it/s]"
      ]
     },
     "metadata": {},
     "output_type": "display_data"
    },
    {
     "data": {
      "application/vnd.jupyter.widget-view+json": {
       "model_id": "",
       "version_major": 2,
       "version_minor": 0
      },
      "text/plain": [
       "Internal trigger:   0%|          | 0/100 [00:00<?, ?it/s]"
      ]
     },
     "metadata": {},
     "output_type": "display_data"
    },
    {
     "data": {
      "application/vnd.jupyter.widget-view+json": {
       "model_id": "",
       "version_major": 2,
       "version_minor": 0
      },
      "text/plain": [
       "Internal trigger:   0%|          | 0/100 [00:00<?, ?it/s]"
      ]
     },
     "metadata": {},
     "output_type": "display_data"
    },
    {
     "data": {
      "application/vnd.jupyter.widget-view+json": {
       "model_id": "",
       "version_major": 2,
       "version_minor": 0
      },
      "text/plain": [
       "Internal trigger:   0%|          | 0/100 [00:00<?, ?it/s]"
      ]
     },
     "metadata": {},
     "output_type": "display_data"
    },
    {
     "data": {
      "application/vnd.jupyter.widget-view+json": {
       "model_id": "",
       "version_major": 2,
       "version_minor": 0
      },
      "text/plain": [
       "Internal trigger:   0%|          | 0/100 [00:00<?, ?it/s]"
      ]
     },
     "metadata": {},
     "output_type": "display_data"
    },
    {
     "data": {
      "application/vnd.jupyter.widget-view+json": {
       "model_id": "",
       "version_major": 2,
       "version_minor": 0
      },
      "text/plain": [
       "Internal trigger:   0%|          | 0/100 [00:00<?, ?it/s]"
      ]
     },
     "metadata": {},
     "output_type": "display_data"
    },
    {
     "data": {
      "application/vnd.jupyter.widget-view+json": {
       "model_id": "",
       "version_major": 2,
       "version_minor": 0
      },
      "text/plain": [
       "Internal trigger:   0%|          | 0/100 [00:00<?, ?it/s]"
      ]
     },
     "metadata": {},
     "output_type": "display_data"
    },
    {
     "data": {
      "application/vnd.jupyter.widget-view+json": {
       "model_id": "",
       "version_major": 2,
       "version_minor": 0
      },
      "text/plain": [
       "Internal trigger:   0%|          | 0/100 [00:00<?, ?it/s]"
      ]
     },
     "metadata": {},
     "output_type": "display_data"
    },
    {
     "data": {
      "application/vnd.jupyter.widget-view+json": {
       "model_id": "",
       "version_major": 2,
       "version_minor": 0
      },
      "text/plain": [
       "Internal trigger:   0%|          | 0/100 [00:00<?, ?it/s]"
      ]
     },
     "metadata": {},
     "output_type": "display_data"
    },
    {
     "data": {
      "application/vnd.jupyter.widget-view+json": {
       "model_id": "",
       "version_major": 2,
       "version_minor": 0
      },
      "text/plain": [
       "Internal trigger:   0%|          | 0/100 [00:00<?, ?it/s]"
      ]
     },
     "metadata": {},
     "output_type": "display_data"
    },
    {
     "data": {
      "application/vnd.jupyter.widget-view+json": {
       "model_id": "",
       "version_major": 2,
       "version_minor": 0
      },
      "text/plain": [
       "Internal trigger:   0%|          | 0/100 [00:00<?, ?it/s]"
      ]
     },
     "metadata": {},
     "output_type": "display_data"
    },
    {
     "data": {
      "application/vnd.jupyter.widget-view+json": {
       "model_id": "",
       "version_major": 2,
       "version_minor": 0
      },
      "text/plain": [
       "Internal trigger:   0%|          | 0/100 [00:00<?, ?it/s]"
      ]
     },
     "metadata": {},
     "output_type": "display_data"
    },
    {
     "data": {
      "application/vnd.jupyter.widget-view+json": {
       "model_id": "",
       "version_major": 2,
       "version_minor": 0
      },
      "text/plain": [
       "Internal trigger:   0%|          | 0/100 [00:00<?, ?it/s]"
      ]
     },
     "metadata": {},
     "output_type": "display_data"
    },
    {
     "data": {
      "application/vnd.jupyter.widget-view+json": {
       "model_id": "",
       "version_major": 2,
       "version_minor": 0
      },
      "text/plain": [
       "Internal trigger:   0%|          | 0/100 [00:00<?, ?it/s]"
      ]
     },
     "metadata": {},
     "output_type": "display_data"
    },
    {
     "data": {
      "application/vnd.jupyter.widget-view+json": {
       "model_id": "",
       "version_major": 2,
       "version_minor": 0
      },
      "text/plain": [
       "Internal trigger:   0%|          | 0/100 [00:00<?, ?it/s]"
      ]
     },
     "metadata": {},
     "output_type": "display_data"
    },
    {
     "data": {
      "application/vnd.jupyter.widget-view+json": {
       "model_id": "",
       "version_major": 2,
       "version_minor": 0
      },
      "text/plain": [
       "Internal trigger:   0%|          | 0/100 [00:00<?, ?it/s]"
      ]
     },
     "metadata": {},
     "output_type": "display_data"
    },
    {
     "data": {
      "application/vnd.jupyter.widget-view+json": {
       "model_id": "",
       "version_major": 2,
       "version_minor": 0
      },
      "text/plain": [
       "Internal trigger:   0%|          | 0/100 [00:00<?, ?it/s]"
      ]
     },
     "metadata": {},
     "output_type": "display_data"
    },
    {
     "data": {
      "application/vnd.jupyter.widget-view+json": {
       "model_id": "",
       "version_major": 2,
       "version_minor": 0
      },
      "text/plain": [
       "Internal trigger:   0%|          | 0/100 [00:00<?, ?it/s]"
      ]
     },
     "metadata": {},
     "output_type": "display_data"
    },
    {
     "data": {
      "application/vnd.jupyter.widget-view+json": {
       "model_id": "",
       "version_major": 2,
       "version_minor": 0
      },
      "text/plain": [
       "Internal trigger:   0%|          | 0/100 [00:00<?, ?it/s]"
      ]
     },
     "metadata": {},
     "output_type": "display_data"
    },
    {
     "data": {
      "application/vnd.jupyter.widget-view+json": {
       "model_id": "",
       "version_major": 2,
       "version_minor": 0
      },
      "text/plain": [
       "Internal trigger:   0%|          | 0/100 [00:00<?, ?it/s]"
      ]
     },
     "metadata": {},
     "output_type": "display_data"
    },
    {
     "data": {
      "application/vnd.jupyter.widget-view+json": {
       "model_id": "",
       "version_major": 2,
       "version_minor": 0
      },
      "text/plain": [
       "Internal trigger:   0%|          | 0/100 [00:00<?, ?it/s]"
      ]
     },
     "metadata": {},
     "output_type": "display_data"
    },
    {
     "data": {
      "application/vnd.jupyter.widget-view+json": {
       "model_id": "",
       "version_major": 2,
       "version_minor": 0
      },
      "text/plain": [
       "Internal trigger:   0%|          | 0/100 [00:00<?, ?it/s]"
      ]
     },
     "metadata": {},
     "output_type": "display_data"
    },
    {
     "data": {
      "application/vnd.jupyter.widget-view+json": {
       "model_id": "",
       "version_major": 2,
       "version_minor": 0
      },
      "text/plain": [
       "Internal trigger:   0%|          | 0/100 [00:00<?, ?it/s]"
      ]
     },
     "metadata": {},
     "output_type": "display_data"
    },
    {
     "data": {
      "application/vnd.jupyter.widget-view+json": {
       "model_id": "",
       "version_major": 2,
       "version_minor": 0
      },
      "text/plain": [
       "Internal trigger:   0%|          | 0/100 [00:00<?, ?it/s]"
      ]
     },
     "metadata": {},
     "output_type": "display_data"
    },
    {
     "data": {
      "application/vnd.jupyter.widget-view+json": {
       "model_id": "",
       "version_major": 2,
       "version_minor": 0
      },
      "text/plain": [
       "Internal trigger:   0%|          | 0/100 [00:00<?, ?it/s]"
      ]
     },
     "metadata": {},
     "output_type": "display_data"
    },
    {
     "data": {
      "application/vnd.jupyter.widget-view+json": {
       "model_id": "",
       "version_major": 2,
       "version_minor": 0
      },
      "text/plain": [
       "Internal trigger:   0%|          | 0/100 [00:00<?, ?it/s]"
      ]
     },
     "metadata": {},
     "output_type": "display_data"
    },
    {
     "data": {
      "application/vnd.jupyter.widget-view+json": {
       "model_id": "",
       "version_major": 2,
       "version_minor": 0
      },
      "text/plain": [
       "Internal trigger:   0%|          | 0/100 [00:00<?, ?it/s]"
      ]
     },
     "metadata": {},
     "output_type": "display_data"
    },
    {
     "data": {
      "application/vnd.jupyter.widget-view+json": {
       "model_id": "",
       "version_major": 2,
       "version_minor": 0
      },
      "text/plain": [
       "Internal trigger:   0%|          | 0/100 [00:00<?, ?it/s]"
      ]
     },
     "metadata": {},
     "output_type": "display_data"
    },
    {
     "data": {
      "application/vnd.jupyter.widget-view+json": {
       "model_id": "",
       "version_major": 2,
       "version_minor": 0
      },
      "text/plain": [
       "Internal trigger:   0%|          | 0/100 [00:00<?, ?it/s]"
      ]
     },
     "metadata": {},
     "output_type": "display_data"
    },
    {
     "data": {
      "application/vnd.jupyter.widget-view+json": {
       "model_id": "",
       "version_major": 2,
       "version_minor": 0
      },
      "text/plain": [
       "Internal trigger:   0%|          | 0/100 [00:00<?, ?it/s]"
      ]
     },
     "metadata": {},
     "output_type": "display_data"
    },
    {
     "name": "stdout",
     "output_type": "stream",
     "text": [
      "Run finished and took 0:03:25.805569.\n",
      "Saving to sequence.3.xz\n",
      "Saving to experiment.yaml\n"
     ]
    }
   ],
   "source": [
    "monty.newrun(\"sequence\", params)\n",
    "\n",
    "# work out what we should be doing for feedback\n",
    "print(\"Measuring initial feedback point\")\n",
    "with device.set_transaction():\n",
    "    synchchannels([])\n",
    "    chan[\"measure\"].spectroscopy.result.length(seq_averages)\n",
    "    chan[\"measure\"].generator.load_sequencer_program(seqc_program_prior_read)\n",
    "\n",
    "time.sleep(1)\n",
    "chan[\"measure\"].spectroscopy.result.length.wait_for_state_change(seq_averages, timeout=10)  # wait for changes to propagate\n",
    "\n",
    "data = [runfeedback()]\n",
    "\n",
    "with device.set_transaction():\n",
    "    synchchannels([\"P1\", \"P2\", \"J\", \"ST\"])\n",
    "    chan[\"measure\"].generator.load_sequencer_program(readout_prog_code)\n",
    "    chan[\"measure\"].spectroscopy.result.length(seq_averages*2)\n",
    "time.sleep(2)\n",
    "\n",
    "result = np.zeros((NUM_J, NUM_DETUNING, 2), dtype=np.complex64)\n",
    "\n",
    "print(\"Sweeping P1, P2 and J\")\n",
    "for i, j in enumerate(tqdm(j_steps, desc=\"J\")):\n",
    "    for k, (p1, p2) in enumerate(zip(tqdm(p1_steps, leave=False, desc=\"Detuning\"), p2_steps)):\n",
    "        movemeasurement(p1, p2, j)  # CT = 1\n",
    "        calculatefeedback(data)  # CT = 0\n",
    "        uploadcts()\n",
    "        data = runexperiment()\n",
    "        result[i, k] = data\n",
    "\n",
    "monty.save({\"data\": result})"
   ]
  },
  {
   "cell_type": "markdown",
   "id": "0a3ec0d5-6343-434f-b94a-4eb4953a35a9",
   "metadata": {},
   "source": [
    "### Process data"
   ]
  },
  {
   "cell_type": "code",
   "execution_count": 84,
   "id": "2555ae7d-2112-44b8-bb3d-65b189c917b7",
   "metadata": {
    "scrolled": true
   },
   "outputs": [
    {
     "data": {
      "text/plain": [
       "array([[[0.01598291-0.0180317j , 0.0158763 -0.01803925j],\n",
       "        [0.01598543-0.01810556j, 0.01587621-0.01805426j],\n",
       "        [0.01599615-0.01806902j, 0.01585597-0.01800833j],\n",
       "        [0.01596644-0.01807421j, 0.01585733-0.01804183j],\n",
       "        [0.01601068-0.01809804j, 0.01589005-0.01805728j],\n",
       "        [0.0159805 -0.01809941j, 0.01588773-0.01806436j],\n",
       "        [0.01598134-0.01810099j, 0.01591199-0.01800679j],\n",
       "        [0.01596422-0.01810345j, 0.01591487-0.01803632j],\n",
       "        [0.01604928-0.01809587j, 0.01591361-0.01803059j],\n",
       "        [0.0160135 -0.01807101j, 0.0158886 -0.01801843j],\n",
       "        [0.01600675-0.01811948j, 0.0158992 -0.01801074j],\n",
       "        [0.01596295-0.01810926j, 0.01588037-0.01801914j],\n",
       "        [0.01598555-0.01808535j, 0.01591068-0.01804068j],\n",
       "        [0.01598283-0.01810659j, 0.0159018 -0.01802307j],\n",
       "        [0.01604757-0.0180927j , 0.01594463-0.01806565j],\n",
       "        [0.01600421-0.0181128j , 0.01590642-0.01808719j],\n",
       "        [0.01598008-0.01807629j, 0.01590407-0.01805438j],\n",
       "        [0.01600331-0.01809138j, 0.01587068-0.01806834j],\n",
       "        [0.01599362-0.01808773j, 0.01592461-0.01805155j],\n",
       "        [0.01599283-0.01808864j, 0.01590709-0.01805692j],\n",
       "        [0.01600822-0.01808511j, 0.01594228-0.01804933j],\n",
       "        [0.01597811-0.01804797j, 0.01591192-0.0179825j ],\n",
       "        [0.01599387-0.01811134j, 0.01585766-0.0180515j ],\n",
       "        [0.01596003-0.01811392j, 0.015895  -0.01807335j],\n",
       "        [0.01600478-0.01812838j, 0.0158905 -0.01804552j],\n",
       "        [0.01600587-0.0180544j , 0.01591822-0.01804448j],\n",
       "        [0.01599072-0.01812237j, 0.01594154-0.01802938j],\n",
       "        [0.01598908-0.01805108j, 0.01593351-0.01804368j],\n",
       "        [0.01595992-0.0181361j , 0.01591272-0.01806593j],\n",
       "        [0.01600757-0.01810576j, 0.01590862-0.01807393j],\n",
       "        [0.01596857-0.01808615j, 0.01595442-0.01806423j],\n",
       "        [0.01597923-0.01809763j, 0.01590727-0.01803036j],\n",
       "        [0.01598441-0.01811633j, 0.01589598-0.01804475j],\n",
       "        [0.01601824-0.01809723j, 0.01594967-0.01806732j],\n",
       "        [0.01598254-0.01808031j, 0.01591443-0.01804559j],\n",
       "        [0.01600298-0.01806461j, 0.01592632-0.01806968j],\n",
       "        [0.01599349-0.01805762j, 0.01594825-0.01803911j],\n",
       "        [0.01598262-0.01808278j, 0.01591097-0.01810143j],\n",
       "        [0.01595912-0.01807139j, 0.01588554-0.01803092j],\n",
       "        [0.01603486-0.01810695j, 0.01593752-0.01809629j],\n",
       "        [0.01597937-0.01808208j, 0.0159362 -0.01804749j],\n",
       "        [0.01600117-0.01809763j, 0.01592338-0.01806574j],\n",
       "        [0.01600157-0.01807486j, 0.01592183-0.01804386j],\n",
       "        [0.01599192-0.01808504j, 0.01593006-0.01804897j],\n",
       "        [0.01600635-0.01810027j, 0.01595514-0.01805317j],\n",
       "        [0.01596917-0.01809963j, 0.01593284-0.01803496j],\n",
       "        [0.01601549-0.01810396j, 0.0159416 -0.01804923j],\n",
       "        [0.01599232-0.01808515j, 0.01596253-0.01806077j],\n",
       "        [0.0160002 -0.01807738j, 0.01595355-0.01804585j],\n",
       "        [0.01600191-0.01806894j, 0.01594265-0.0181151j ],\n",
       "        [0.01602026-0.01810492j, 0.01591989-0.01807462j],\n",
       "        [0.01598048-0.01809212j, 0.01595899-0.01811056j],\n",
       "        [0.01599862-0.01808822j, 0.01595393-0.01808593j],\n",
       "        [0.01600814-0.01807846j, 0.01597689-0.01807935j],\n",
       "        [0.01599668-0.0181154j , 0.01599094-0.01807127j],\n",
       "        [0.01596065-0.01811052j, 0.0159626 -0.01806021j],\n",
       "        [0.01598375-0.0180851j , 0.01595383-0.01807788j],\n",
       "        [0.01596908-0.01806642j, 0.01591277-0.0180243j ],\n",
       "        [0.01600431-0.01812914j, 0.01596598-0.01809419j],\n",
       "        [0.01602598-0.01812735j, 0.01595319-0.01808346j],\n",
       "        [0.01601084-0.0181238j , 0.01600787-0.01808948j],\n",
       "        [0.01599574-0.01806587j, 0.01599455-0.01808391j],\n",
       "        [0.0159945 -0.01809345j, 0.01597177-0.01809436j],\n",
       "        [0.01596194-0.01808776j, 0.01595457-0.01810049j],\n",
       "        [0.01599656-0.01808153j, 0.01597155-0.01809208j],\n",
       "        [0.01601333-0.01808816j, 0.01600165-0.01807054j],\n",
       "        [0.01599487-0.01813208j, 0.01602642-0.01811492j],\n",
       "        [0.01599943-0.01812942j, 0.01599396-0.01807678j],\n",
       "        [0.0159926 -0.0181027j , 0.01599708-0.01813838j],\n",
       "        [0.01598266-0.01811132j, 0.0160167 -0.01809547j],\n",
       "        [0.01599868-0.01811137j, 0.01596925-0.01810508j],\n",
       "        [0.0159508 -0.01808961j, 0.0159878 -0.01808629j],\n",
       "        [0.01599061-0.01810484j, 0.01598313-0.01807754j],\n",
       "        [0.01600617-0.01809568j, 0.01597108-0.01807355j],\n",
       "        [0.01597115-0.01814039j, 0.01598666-0.01811699j],\n",
       "        [0.01600007-0.01810418j, 0.01598618-0.01807301j],\n",
       "        [0.01597423-0.01810876j, 0.01598864-0.01808653j],\n",
       "        [0.01601207-0.01810677j, 0.01601661-0.01810073j],\n",
       "        [0.01600133-0.01808307j, 0.01602035-0.01810904j],\n",
       "        [0.01600275-0.01809985j, 0.01601869-0.01812798j],\n",
       "        [0.01599447-0.01811114j, 0.01599179-0.01807894j],\n",
       "        [0.01602427-0.01810579j, 0.01600289-0.01813819j],\n",
       "        [0.01598083-0.01811139j, 0.01597393-0.01812265j],\n",
       "        [0.01599479-0.01809755j, 0.01600684-0.0181342j ],\n",
       "        [0.01600327-0.01810827j, 0.01599709-0.01810603j],\n",
       "        [0.01597583-0.01807449j, 0.01599128-0.01812029j],\n",
       "        [0.01601038-0.01810173j, 0.01600937-0.01804961j],\n",
       "        [0.0159801 -0.0181008j , 0.01600751-0.01805935j],\n",
       "        [0.01599286-0.01811837j, 0.0159759 -0.0180939j ],\n",
       "        [0.01599541-0.01804694j, 0.01600121-0.01809425j],\n",
       "        [0.01601031-0.01811416j, 0.01597789-0.01807237j],\n",
       "        [0.01598121-0.01809034j, 0.01598259-0.01812199j],\n",
       "        [0.0159847 -0.0180766j , 0.01601052-0.01811006j],\n",
       "        [0.01603385-0.01811385j, 0.01600482-0.01811468j],\n",
       "        [0.01602209-0.01808861j, 0.0160117 -0.01809386j],\n",
       "        [0.01602413-0.01810976j, 0.01601757-0.01808654j],\n",
       "        [0.01601279-0.01807801j, 0.0160582 -0.01814573j],\n",
       "        [0.01595202-0.01810233j, 0.01602772-0.01812352j],\n",
       "        [0.01599956-0.01812957j, 0.01602244-0.01809666j],\n",
       "        [0.01600248-0.01810867j, 0.01598541-0.01810404j]]],\n",
       "      dtype=complex64)"
      ]
     },
     "execution_count": 84,
     "metadata": {},
     "output_type": "execute_result"
    }
   ],
   "source": [
    "result"
   ]
  },
  {
   "cell_type": "code",
   "execution_count": 91,
   "id": "e8c93487-018e-49f4-bb93-bd7489c6c8a0",
   "metadata": {},
   "outputs": [],
   "source": [
    "# split into axes\n",
    "Xl = np.real(result)\n",
    "Yl = np.imag(result)\n",
    "\n",
    "Xr = Xl[:, :, 0] #- Xl[:, :, 0]\n",
    "Yr = Xl[:, :, 1] #- Yl[:, :, 0]\n",
    "\n",
    "Xi = Yl[:, :, 0] #- Xl[:, :, 0]\n",
    "Yi = Yl[:, :, 1]"
   ]
  },
  {
   "cell_type": "code",
   "execution_count": 86,
   "id": "5a25769b-c520-43f9-b5ea-ce687e726621",
   "metadata": {},
   "outputs": [
    {
     "data": {
      "text/plain": [
       "(1, 100)"
      ]
     },
     "execution_count": 86,
     "metadata": {},
     "output_type": "execute_result"
    }
   ],
   "source": [
    "X.shape"
   ]
  },
  {
   "cell_type": "code",
   "execution_count": 93,
   "id": "8d5edd4a-848b-456c-8473-88d00f86d91b",
   "metadata": {},
   "outputs": [
    {
     "data": {
      "image/png": "[encoded data removed]",
      "text/plain": [
       "<Figure size 640x480 with 2 Axes>"
      ]
     },
     "metadata": {},
     "output_type": "display_data"
    }
   ],
   "source": [
    "fig, (ax0, ax1) = plt.subplots(nrows = 2, sharex = True)\n",
    "\n",
    "ax0.plot(p1_steps, Xr[0, :], \".-\", color=\"steelblue\")\n",
    "ax1.plot(p1_steps, Yr[0, :], \".-\", color=\"orange\")\n",
    "\n",
    "ax0.set_ylabel(\"X Reference\")\n",
    "ax1.set_ylabel(\"Y Measurement\")\n",
    "ax0.set_title(monty.identifier + \".\" + monty.runname)\n",
    "ax1.set_xlabel(\"P1 voltage\")\n",
    "plt.title(monty.identifier + \".\" + monty.runname + \"real\")\n",
    "\n",
    "ax0.grid()\n",
    "ax1.grid()\n",
    "\n",
    "fig.align_ylabels([ax0, ax1])\n",
    "plt.tight_layout()\n",
    "\n",
    "monty.savefig(plt, \"real detuning\")"
   ]
  },
  {
   "cell_type": "code",
   "execution_count": 94,
   "id": "35a2fac5-a5ee-4f77-950b-3b13d9177603",
   "metadata": {},
   "outputs": [
    {
     "data": {
      "image/png": "[encoded data removed]",
      "text/plain": [
       "<Figure size 640x480 with 2 Axes>"
      ]
     },
     "metadata": {},
     "output_type": "display_data"
    }
   ],
   "source": [
    "fig, (ax0, ax1) = plt.subplots(nrows = 2, sharex = True)\n",
    "\n",
    "ax0.plot(p1_steps, Xi[0, :], \".-\", color=\"steelblue\")\n",
    "ax1.plot(p1_steps, Yi[0, :], \".-\", color=\"orange\")\n",
    "\n",
    "ax0.set_ylabel(\"X Reference\")\n",
    "ax1.set_ylabel(\"Y Measurement\")\n",
    "ax0.set_title(monty.identifier + \".\" + monty.runname)\n",
    "ax1.set_xlabel(\"P1 voltage\")\n",
    "plt.title(monty.identifier + \".\" + monty.runname + \"imag\")\n",
    "\n",
    "ax0.grid()\n",
    "ax1.grid()\n",
    "\n",
    "fig.align_ylabels([ax0, ax1])\n",
    "plt.tight_layout()\n",
    "\n",
    "monty.savefig(plt, \"imag detuning\")"
   ]
  },
  {
   "cell_type": "code",
   "execution_count": 88,
   "id": "0528ad36-1347-42d2-a2f3-0a90cd0d675c",
   "metadata": {},
   "outputs": [
    {
     "data": {
      "text/plain": [
       "Text(0.5, 1.0, 'rf.detuning.sequence.32d')"
      ]
     },
     "execution_count": 88,
     "metadata": {},
     "output_type": "execute_result"
    },
    {
     "data": {
      "image/png": "[encoded data removed]",
      "text/plain": [
       "<Figure size 640x480 with 2 Axes>"
      ]
     },
     "metadata": {},
     "output_type": "display_data"
    }
   ],
   "source": [
    "# Plots X ONLY\n",
    "\n",
    "plt.figure()\n",
    "plt.pcolormesh(p1_steps, j_steps, X, shading=\"nearest\")\n",
    "plt.colorbar()\n",
    "plt.ylabel(\"J voltage (V)\")\n",
    "plt.xlabel(\"Detuning (V)\")\n",
    "plt.title(monty.identifier + \".\" + monty.runname + \"2d\")\n",
    "#monty.savefig(plt, \"stability forward\")"
   ]
  },
  {
   "cell_type": "code",
   "execution_count": 89,
   "id": "d08a1e1b-f5dc-4687-ae1e-cf927f837264",
   "metadata": {},
   "outputs": [
    {
     "ename": "ValueError",
     "evalue": "no",
     "output_type": "error",
     "traceback": [
      "\u001b[1;31m---------------------------------------------------------------------------\u001b[0m",
      "\u001b[1;31mValueError\u001b[0m                                Traceback (most recent call last)",
      "Cell \u001b[1;32mIn[89], line 1\u001b[0m\n\u001b[1;32m----> 1\u001b[0m \u001b[38;5;28;01mraise\u001b[39;00m \u001b[38;5;167;01mValueError\u001b[39;00m(\u001b[38;5;124m\"\u001b[39m\u001b[38;5;124mno\u001b[39m\u001b[38;5;124m\"\u001b[39m)\n\u001b[0;32m      2\u001b[0m plt\u001b[38;5;241m.\u001b[39mplot(np\u001b[38;5;241m.\u001b[39mlinspace(\u001b[38;5;241m0\u001b[39m, pulse_time, read_lens), np\u001b[38;5;241m.\u001b[39mabs(data))  \n\u001b[0;32m      3\u001b[0m plt\u001b[38;5;241m.\u001b[39mylabel(\u001b[38;5;124m\"\u001b[39m\u001b[38;5;124mRF signal (arb units)\u001b[39m\u001b[38;5;124m\"\u001b[39m)\n",
      "\u001b[1;31mValueError\u001b[0m: no"
     ]
    }
   ],
   "source": [
    "raise ValueError(\"no\")\n",
    "plt.plot(np.linspace(0, pulse_time, read_lens), np.abs(data))  \n",
    "plt.ylabel(\"RF signal (arb units)\")\n",
    "plt.title(monty.identifier + \".\" + monty.runname)\n",
    "\n",
    "monty.save({\"data\": data})\n",
    "monty.savefig(plt, \"ramp decay\")"
   ]
  },
  {
   "cell_type": "code",
   "execution_count": null,
   "id": "60a01cb6-6984-432f-8f4c-f695b2663cc9",
   "metadata": {},
   "outputs": [],
   "source": [
    "init_len"
   ]
  },
  {
   "cell_type": "code",
   "execution_count": null,
   "id": "afcd290a-ab1d-4979-a655-19e0a0b7eb48",
   "metadata": {},
   "outputs": [],
   "source": [
    "raise ValueError(\"dont run\")\n",
    "si.ST(3.56)"
   ]
  },
  {
   "cell_type": "code",
   "execution_count": null,
   "id": "bae27c8c-0bd8-4046-9a35-d657758b249e",
   "metadata": {},
   "outputs": [],
   "source": []
  },
  {
   "cell_type": "code",
   "execution_count": null,
   "id": "b5df8360-3ee1-4c55-9b8d-6d5c83621cb0",
   "metadata": {},
   "outputs": [],
   "source": []
  },
  {
   "cell_type": "code",
   "execution_count": null,
   "id": "add8801f-602a-4e54-9627-da1cd5a49e8f",
   "metadata": {},
   "outputs": [],
   "source": []
  },
  {
   "cell_type": "code",
   "execution_count": null,
   "id": "2031960e-2148-4bf4-acfa-ee2af93f7639",
   "metadata": {},
   "outputs": [],
   "source": []
  },
  {
   "cell_type": "code",
   "execution_count": null,
   "id": "5fea308b-c13e-4977-adfe-61f2cbd9353c",
   "metadata": {},
   "outputs": [],
   "source": []
  },
  {
   "cell_type": "code",
   "execution_count": null,
   "id": "b8ae0d2d-28eb-41ea-9c72-c9f6b05a84b1",
   "metadata": {},
   "outputs": [],
   "source": []
  },
  {
   "cell_type": "code",
   "execution_count": null,
   "id": "480111bf-ba6f-4e4e-b11d-b51713541512",
   "metadata": {},
   "outputs": [],
   "source": []
  },
  {
   "cell_type": "code",
   "execution_count": null,
   "id": "e244b071-6efe-4dab-b08f-6c08ff692066",
   "metadata": {},
   "outputs": [],
   "source": []
  }
 ],
 "metadata": {
  "kernelspec": {
   "display_name": "Python 3 (ipykernel)",
   "language": "python",
   "name": "python3"
  },
  "language_info": {
   "codemirror_mode": {
    "name": "ipython",
    "version": 3
   },
   "file_extension": ".py",
   "mimetype": "text/x-python",
   "name": "python",
   "nbconvert_exporter": "python",
   "pygments_lexer": "ipython3",
   "version": "3.12.3"
  }
 },
 "nbformat": 4,
 "nbformat_minor": 5
}
