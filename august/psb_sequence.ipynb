{
 "cells": [
  {
   "cell_type": "markdown",
   "id": "a1681074-6d3f-485c-b604-c599c3189b96",
   "metadata": {},
   "source": [
    "# PSB sequence\n",
    "\n",
    "This includes the correct ramp rate and SET feedback as well."
   ]
  },
  {
   "cell_type": "markdown",
   "id": "4fbd449f-d45c-403e-b70e-3a0d988958af",
   "metadata": {},
   "source": [
    "**TODO**\n",
    "- Run X steps of detuning before applying feedback\n",
    "- Only apply feedback after each change in J\n",
    "- Add buffer times to make sure that everything is syncing correctly"
   ]
  },
  {
   "cell_type": "code",
   "execution_count": 234,
   "id": "7b3a03eb-6f73-4601-9d2c-b052a69aed34",
   "metadata": {},
   "outputs": [],
   "source": [
    "%matplotlib inline\n",
    "import local_broom"
   ]
  },
  {
   "cell_type": "code",
   "execution_count": 235,
   "id": "1b68cb80-459d-4636-a534-df961429859d",
   "metadata": {},
   "outputs": [],
   "source": [
    "from zhinst.toolkit import Session, CommandTable, Sequence, Waveforms, SHFQAChannelMode\n",
    "\n",
    "import matplotlib.pyplot as plt\n",
    "import numpy as np\n",
    "from tqdm.notebook import tqdm\n",
    "from qcodes import Instrument\n",
    "import time\n",
    "import warnings\n",
    "from monty import Monty\n",
    "import MDAC\n",
    "from may.dots import getvoltages\n",
    "from may.custom_devices import connect_to_gb, newSiDot"
   ]
  },
  {
   "cell_type": "markdown",
   "id": "cd16923d-ecaf-4050-b96e-bc75cc705d1b",
   "metadata": {},
   "source": [
    "## Setup"
   ]
  },
  {
   "cell_type": "markdown",
   "id": "db5ee2f1-6067-4ef3-98c0-d057051443e3",
   "metadata": {},
   "source": [
    "### Common Functions"
   ]
  },
  {
   "cell_type": "code",
   "execution_count": 236,
   "id": "a0ddabcf-3310-47ae-8e70-952a6fda07ac",
   "metadata": {},
   "outputs": [],
   "source": [
    "def timeToSamples(time, samplingRateDivider):\n",
    "    # returns the number of samples divisible by 16 given a time (in seconds) and sampling rate divider\n",
    "    samples_raw = time * (1/(2**samplingRateDivider))/0.5e-9\n",
    "    samples_modulo = int(samples_raw) % 16\n",
    "    samples = int(samples_raw) - int(samples_modulo)\n",
    "    return samples\n",
    "\n",
    "# custom curve fit\n",
    "#amps = [1, 0.85, 0.75, 0.65,  0.5, 0.35, 0.25, 0.2, 0.125, 0.05]\n",
    "#voltages = [0.34, 0.268, 0.207, 0.158, 0.094, 0.0481,  0.026, 0.0183, 0.01, 0.0057]\n",
    "\n",
    "#alt_fit = np.poly1d(np.polyfit(amps, voltages, 2))\n",
    "# Hard coding alt_fit values in case something goes horribly wrong\n",
    "\n",
    "def voltToDbm(volt, dbmrange):\n",
    "    # Ok yes this can be better, deal with it\n",
    "    if dbmrange != 0:\n",
    "        raise Exception(\"This function only works with a dBm range of 0.\")\n",
    "    \n",
    "    if volt > 0.34 or volt < -0.34:\n",
    "        raise ValueError(f\"Given voltage ({volt} V) is greater than max output of SHFQC (0.34 V)\")\n",
    "    \n",
    "    if volt < 0:\n",
    "        amplitude = 1/300*(np.sqrt(3e5*-volt + 529) - 23)\n",
    "        return -amplitude\n",
    "    else:\n",
    "        amplitude = 1/300*(np.sqrt(3e5*volt + 529) - 23)\n",
    "        return amplitude\n",
    "\n",
    "\n",
    "def get_results(result_node, timeout):\n",
    "    wave_data_captured = {}\n",
    "    wave_data_captured[result_node] = False\n",
    "    start_time = time.time()\n",
    "    captured_data = {}\n",
    "    while not all(wave_data_captured.values()):\n",
    "        if start_time + timeout < time.time():\n",
    "            print(captured_data)\n",
    "            raise TimeoutError('Timeout before all samples collected.')\n",
    "        test = session.poll()\n",
    "        for node, value in test.items():\n",
    "            node = session.raw_path_to_node(node)\n",
    "            for v in value:\n",
    "                if node not in captured_data:\n",
    "                    captured_data[node] = [v['vector']]\n",
    "                else:\n",
    "                    captured_data[node].append(v['vector'])\n",
    "            if len(captured_data[node]) >= 1:  # readout 1 point\n",
    "                wave_data_captured[node] = True\n",
    "                # total_num_data = sum([len(element) for element in captured_data[node]])\n",
    "    data = captured_data[result_node][0]\n",
    "    return data\n",
    "\n",
    "def cmdtable(ct, amplitude, length, wave_index, ct_index):\n",
    "    \"\"\"\n",
    "    Load a default command table with a sin/cos wave (used throughout the documentation)\n",
    "    \"\"\"\n",
    "    ct.table[ct_index].waveform.index = wave_index\n",
    "    ct.table[ct_index].amplitude00.value = amplitude  # all in dBm\n",
    "    ct.table[ct_index].amplitude01.value = -amplitude\n",
    "    ct.table[ct_index].amplitude10.value = amplitude\n",
    "    ct.table[ct_index].amplitude11.value = amplitude\n",
    "    ct.table[ct_index].waveform.length = length  # in samples\n",
    "    ct.table[ct_index].waveform.samplingRateDivider = samplingDivider  # inherit global"
   ]
  },
  {
   "cell_type": "markdown",
   "id": "57927e7e-300c-42cc-a6ef-4dec8cf9f825",
   "metadata": {},
   "source": [
    "### Connect"
   ]
  },
  {
   "cell_type": "code",
   "execution_count": 237,
   "id": "4d4433aa-aa0e-48ae-87a1-d4f797d0d214",
   "metadata": {},
   "outputs": [
    {
     "name": "stdout",
     "output_type": "stream",
     "text": [
      "Connected to: QNL Sydney MDAC (serial:0x32353532353551040030003E, firmware:1.8) in 4.16s\n",
      "Loading GB driver and connecting\n",
      "Manually Open Breakout_box_top_ch15_LCB\n",
      "Manually Open Breakout_box_bot_ch09_RCB\n",
      "Manually Open Breakout_box_bot_ch17_RG\n",
      "Manually Open Breakout_box_top_ch17_ResB\n",
      "Manually Open Breakout_box_top_ch19_P3\n",
      "Manually Open Breakout_box_top_ch13_P2\n",
      "Manually Open Breakout_box_top_ch04_P1\n",
      "Manually Open Breakout_box_top_ch02_SETB\n",
      "Manually Open Breakout_box_bot_ch04_SRB\n",
      "Manually Open Breakout_box_bot_ch06_SLB\n",
      "Manually Open Breakout_box_top_ch10_ST\n",
      "Manually Open Breakout_box_top_ch25_bias\n"
     ]
    }
   ],
   "source": [
    "# connect to instruments\n",
    "\n",
    "DEVICE_ID = 'DEV12158'\n",
    "SERVER_HOST = 'localhost'\n",
    "\n",
    "session = Session(SERVER_HOST)  # connect to data server\n",
    "device = session.connect_device(DEVICE_ID)  # connect to device\n",
    "\n",
    "\n",
    "try:\n",
    "    mdac = Instrument.find_instrument(\"mdac\")\n",
    "    mdac.close()\n",
    "except KeyError:\n",
    "    print('Attempting to remove instrument with name mdac. Does not exist')\n",
    "\n",
    "mdac = MDAC.MDAC('mdac', 'ASRL11::INSTR')\n",
    "gb_control_si = connect_to_gb(mdac)  # Create our custom MDAC mappings\n",
    "si = newSiDot(mdac)"
   ]
  },
  {
   "cell_type": "code",
   "execution_count": 238,
   "id": "1211d9da-3a2d-4407-9df8-1a98a5db969b",
   "metadata": {},
   "outputs": [],
   "source": [
    "if False:\n",
    "    session.disconnect_device(DEVICE_ID)\n",
    "    try:\n",
    "        mdac = Instrument.find_instrument(\"mdac\")\n",
    "        mdac.close()\n",
    "    except KeyError:\n",
    "        print('Attempting to remove instrument with name mdac. Does not exist')"
   ]
  },
  {
   "cell_type": "code",
   "execution_count": 239,
   "id": "c9ea0807-f871-4744-8c18-0b4b0c28f9bb",
   "metadata": {},
   "outputs": [
    {
     "name": "stdout",
     "output_type": "stream",
     "text": [
      "Loading existing experiment (ignoring given experiment parameters)\n",
      "Note that no experimental data has been loaded.\n",
      "Next run will have id 19\n"
     ]
    }
   ],
   "source": [
    "experiment = {\n",
    "    \"desc\": \"PSB sequence.\"\n",
    "}\n",
    "\n",
    "monty = Monty(\"rf.detuning\", experiment)"
   ]
  },
  {
   "cell_type": "markdown",
   "id": "94c49976-d988-4ede-9a78-3444664c08f3",
   "metadata": {},
   "source": [
    "### Define variables"
   ]
  },
  {
   "cell_type": "code",
   "execution_count": 240,
   "id": "e8c461ec-a8cd-456c-8d81-38a241b2d407",
   "metadata": {},
   "outputs": [],
   "source": [
    "\n",
    "# lengths and averages\n",
    "seq_averages = 1000  # seqc averages\n",
    "\n",
    "NUM_DETUNING = 200\n",
    "NUM_J = 50\n",
    "\n",
    "# readout signals\n",
    "readout_gain = 0.95  # If we set this to 1, then output overloads\n",
    "readout_freq = 385e6  # (Hz) # try 406.2\n",
    "\n",
    "# drive line amplitudes (maximum 340mV, give in terms of V)\n",
    "# pulse parameters\n",
    "MIXED_AMP = {  # voltage amplitude for mixed state preperation\n",
    "    \"P1\": 0.0,\n",
    "    \"P2\": -0.0,\n",
    "}\n",
    "MES_AMP_START = {  # voltages for stepping over when sweeping\n",
    "    \"P1\": -0.2,\n",
    "    \"P2\": 0.2,\n",
    "    \"J\": 0.0,\n",
    "}\n",
    "MES_AMP_END = {\n",
    "    \"P1\": 0.2,\n",
    "    \"P2\": -0.2,\n",
    "    \"J\": -0.0,\n",
    "}\n",
    "\n",
    "# timings in seconds\n",
    "init_len = 600e-6\n",
    "read_len = 100e-6\n",
    "wait_and_settle = 3e-3\n",
    "trigger_time = 10e-3  # internal trigger holdoff time (metronome)\n",
    "buffer = 1e-6\n",
    "\n",
    "# AC decay ramp rate\n",
    "ramp_rate = 13e-5  # V/sample\n",
    "\n",
    "# powers\n",
    "input_pwr = -20\n",
    "output_pwr = -10\n",
    "dr_pwr = 0\n",
    "\n",
    "# gate sampling time\n",
    "samplingDivider = 6\n",
    "\n",
    "# feedback parameters\n",
    "FB_TARGET = 1e-5  # give in terms of power output\n",
    "FB_STEPSIZE = 1e-4\n",
    "FB_SLOPE = 0  # 1 or -1 depending on the slope to lock onto\n",
    "\n",
    "# internal\n",
    "read_samples = timeToSamples(read_len, samplingDivider)\n"
   ]
  },
  {
   "cell_type": "code",
   "execution_count": 241,
   "id": "4740fac3-3bd9-4179-bb89-3bb22943ad51",
   "metadata": {},
   "outputs": [],
   "source": [
    "# adjust variables\n",
    "curr_st_amp = 0.3  # NEED TO FIX THIS...\n",
    "\n",
    "# Create channel maps for simplicity\n",
    "\n",
    "chan = {\n",
    "    \"measure\": device.qachannels[0],  # measure and acquire lines\n",
    "    \"ST\": device.sgchannels[0],\n",
    "    \"P1\": device.sgchannels[1],  # drive P1 line\n",
    "    \"P2\": device.sgchannels[2],  # drive P2 line\n",
    "    \"J\": device.sgchannels[3],  # drive J line\n",
    "}\n",
    "\n",
    "drive_chans = [\"ST\", \"P1\", \"P2\", \"J\"]  # match keys above\n",
    "\n",
    "# current command tables\n",
    "cts = {c: CommandTable(chan[c].awg.commandtable.load_validation_schema()) for c in drive_chans}\n",
    "\n",
    "j_steps = np.linspace(MES_AMP_START[\"J\"], MES_AMP_END[\"J\"], NUM_J)\n",
    "p1_steps = np.linspace(MES_AMP_START[\"P1\"], MES_AMP_END[\"P1\"], NUM_DETUNING)\n",
    "p2_steps = np.linspace(MES_AMP_START[\"P2\"], MES_AMP_END[\"P2\"], NUM_DETUNING)"
   ]
  },
  {
   "cell_type": "code",
   "execution_count": 242,
   "id": "7c5ab019-5924-4c85-9e69-05423567241c",
   "metadata": {},
   "outputs": [],
   "source": [
    "# save all the parameters about this experiment that we will want to know\n",
    "params = {\n",
    "    \"amplitude_volts\": {\n",
    "        \"mixed_pulse\": MIXED_AMP,\n",
    "        \"measure_pulse_start\": MES_AMP_START,\n",
    "        \"measure_pulse_end\": MES_AMP_END,\n",
    "        \"p_ramp_rate\": ramp_rate,\n",
    "    },\n",
    "    \"readout\": {\n",
    "        \"freq\": readout_freq,\n",
    "        \"gain\": readout_gain,\n",
    "        \"time\": read_len\n",
    "    },\n",
    "    \"timings_sec\": {\n",
    "        \"mixed initilise\": init_len,\n",
    "        \"read\": read_len,\n",
    "        \"settle\": wait_and_settle,\n",
    "        \"trigger\": trigger_time,\n",
    "        \"buffer\": buffer,\n",
    "        \"sampling_divider\": samplingDivider,\n",
    "    },\n",
    "    \"feedback\": {\n",
    "        \"target\": FB_TARGET,\n",
    "        \"stepsize\": FB_STEPSIZE,\n",
    "        \"slope\": FB_SLOPE\n",
    "    },\n",
    "    \"powers\": {\n",
    "        \"acq_in\": input_pwr,\n",
    "        \"acq_out\": output_pwr,\n",
    "        \"drive\": dr_pwr,\n",
    "    },\n",
    "    \"averaging\": {\n",
    "        \"seqc_averages\": seq_averages,\n",
    "        \"num_detuning\": NUM_DETUNING,\n",
    "        \"num_j\": NUM_J,\n",
    "    },\n",
    "    \"gates\": getvoltages(mdac)\n",
    "}"
   ]
  },
  {
   "cell_type": "code",
   "execution_count": 243,
   "id": "2557cd12-7c77-428e-bb05-e1501e01d57b",
   "metadata": {},
   "outputs": [],
   "source": [
    "# check we can fit all the points into memory\n",
    "MAX_MEASUREMENTS = 2**19\n",
    "if seq_averages > MAX_MEASUREMENTS:\n",
    "    raise OverflowError(\"Requested too many points to be measured. (Use around 500,000 points)\")"
   ]
  },
  {
   "cell_type": "markdown",
   "id": "9ade0890-3235-4d45-a968-9138d47b377f",
   "metadata": {},
   "source": [
    "### Configure Channels"
   ]
  },
  {
   "cell_type": "code",
   "execution_count": 244,
   "id": "5339bd33-c13a-4d9a-bec9-cb3e6b7033c6",
   "metadata": {},
   "outputs": [],
   "source": [
    "with device.set_transaction():\n",
    "    # setup drive channels\n",
    "    for c in drive_chans:\n",
    "        chan[c].output.range(dr_pwr)  # in dBm\n",
    "        chan[c].output.rflfpath(0)  # use LF not RF (1 for RF)\n",
    "    \n",
    "        # set the center synth frequency (oscillator frequency)\n",
    "        synth = chan[c].synthesizer()\n",
    "        device.synthesizers[synth].centerfreq(0)  # in Hz\n",
    "        chan[c].output.on(1)  # enable output\n",
    "    \n",
    "        chan[c].awg.outputamplitude(1.0)  # overall amplitude scaling factor (don't really need to change)\n",
    "        chan[c].oscs[0].freq(0)  # oscillator 1 frequency (Hz) disable for DC\n",
    "        chan[c].oscs[1].freq(0)  # oscillator 2 frequency (Hz)\n",
    "        chan[c].awg.modulation.enable(1)  # start digital modulation\n",
    "    \n",
    "        chan[c].marker.source(0)  # setup the AWG trigger 1 (is this an input trigger option? doesn't seem necessary)\n",
    "        # see manual page p235 for all trigger options\n",
    "        chan[c].awg.auxtriggers[0].channel(8)  # 8=use internal trigger, 1024=use software trigger\n",
    "\n",
    "    # setup measure channel\n",
    "    \n",
    "    chan[\"measure\"].output.rflfpath(0)  # use LF mode not RF (for signals under 600Mhz)\n",
    "    chan[\"measure\"].input.rflfpath(0)\n",
    "    chan[\"measure\"].oscs[0].freq(readout_freq)  # CW frequency (in LF mode)\n",
    "    chan[\"measure\"].oscs[0].gain(readout_gain)  # If we set this to 1, then output overloads\n",
    "\n",
    "    # configure these based on how the sweeper works internally\n",
    "    # See https://docs.zhinst.com/zhinst-utils/en/latest/_modules/zhinst/utils/shf_sweeper.html#ShfSweeper\n",
    "    chan[\"measure\"].spectroscopy.delay(0)  # integration delay in units of second\n",
    "    chan[\"measure\"].spectroscopy.length(timeToSamples(read_len, samplingDivider))  # integration time length in units of number of samples (usually integration_time*sampling_rate)\n",
    "    # setup when the spectroscopy is triggered\n",
    "    chan[\"measure\"].spectroscopy.trigger.channel(\"chan0seqtrig0\")  # make sure to use the trigger coming from the sequencer code\n",
    "    # setup result parameters\n",
    "    chan[\"measure\"].spectroscopy.result.averages(1)  # number of averages (always average in software not hardware)\n",
    "    chan[\"measure\"].spectroscopy.result.length(seq_averages*2)  # number of results\n",
    "    chan[\"measure\"].spectroscopy.result.enable(0)  # disable result logger\n",
    "\n",
    "    chan[\"measure\"].configure_channel(\n",
    "        center_frequency=0,  # in units of Hz  # minimum of 600MHz for RF mode\n",
    "        input_range=input_pwr,  # in units of dBm\n",
    "        output_range=output_pwr,  # in units of dBm\n",
    "        mode=SHFQAChannelMode.SPECTROSCOPY,  # SHFQAChannelMode.READOUT or SHFQAChannelMode.SPECTROSCOPY\n",
    "    )\n",
    "    \n",
    "    chan[\"measure\"].input.on(1)\n",
    "    chan[\"measure\"].output.on(1)\n",
    "\n",
    "    chan[\"measure\"].generator.auxtriggers[1].channel(\"inttrig\")  # i believe this is overwritten by the following line\n",
    "    chan[\"measure\"].generator.configure_sequencer_triggering(\n",
    "        aux_trigger=8,  # alternatively use 8=internal trigger, or \"software_trigger0\" to use the software triggering system\n",
    "        play_pulse_delay=0\n",
    "    )\n"
   ]
  },
  {
   "cell_type": "markdown",
   "id": "62a6bf1d-bb63-4063-b1bc-6dd92d1fbf3d",
   "metadata": {},
   "source": [
    "### Define Sequences"
   ]
  },
  {
   "cell_type": "markdown",
   "id": "19771e6b-b26f-4ed1-b573-c146873cc0e0",
   "metadata": {},
   "source": [
    "*P1/P2 sequence explanation*: The sequence starts at a \"home\" point with 0 V on the P1/P2/J pulsing lines. After waiting for a trigger, the sequence will immediately go to it's initialisation point (executeTableEntry(0)) and wait for a set period of time (here: wait_and_settle, read_len). After a J pulse between wait_and_settle and read_len events P1 and P2 will be pulsed to an arbitrary point (executeTableEntry(1)) which is uploaded and updated every time in python after SET feedback has occured."
   ]
  },
  {
   "cell_type": "code",
   "execution_count": 245,
   "id": "544ff296-b754-47be-a912-5a7ea3b93d0b",
   "metadata": {},
   "outputs": [],
   "source": [
    "seqc_program_p1 = f\"\"\"\n",
    "// Assign a single channel waveform to wave table entry 0\n",
    "\n",
    "// Reset the oscillator phase\n",
    "resetOscPhase();\n",
    "\n",
    "repeat({seq_averages}) {{\n",
    "\n",
    "    // Trigger the scope\n",
    "    \n",
    "    waitDigTrigger(1);\n",
    "\n",
    "    setTrigger(1);\n",
    "    setTrigger(0);\n",
    "    \n",
    "    executeTableEntry(0);                                                               // mixed state init.\n",
    "    \n",
    "    playZero({timeToSamples(wait_and_settle, samplingDivider)},  {samplingDivider});    // wait and settle\n",
    "    playZero({timeToSamples(read_len, samplingDivider)},  {samplingDivider});           // read reference\n",
    "\n",
    "    executeTableEntry(1);                                                               // read\n",
    "    \n",
    "    playZero({timeToSamples(wait_and_settle, samplingDivider)},  {samplingDivider});    // wait and settle\n",
    "}}\n",
    "\"\"\"\n",
    "\n",
    "seqc_program_p2 = f\"\"\"\n",
    "// Assign a single channel waveform to wave table entry 0\n",
    "\n",
    "// Reset the oscillator phase\n",
    "resetOscPhase();\n",
    "\n",
    "repeat({seq_averages}) {{\n",
    "\n",
    "    // Trigger the scope\n",
    "    \n",
    "    waitDigTrigger(1);\n",
    "\n",
    "    setTrigger(1);\n",
    "    setTrigger(0);\n",
    "    \n",
    "    executeTableEntry(0);                                                               // mixed state init.\n",
    "    \n",
    "    playZero({timeToSamples(wait_and_settle, samplingDivider)},  {samplingDivider});    // wait and settle\n",
    "    playZero({timeToSamples(read_len, samplingDivider)},  {samplingDivider});           // read reference\n",
    "\n",
    "    executeTableEntry(1);                                                               // read\n",
    "    \n",
    "    playZero({timeToSamples(wait_and_settle, samplingDivider)},  {samplingDivider});    // wait and settle\n",
    "}}\n",
    "\"\"\"\n",
    "\n",
    "seqc_program_j = f\"\"\"\n",
    "// Assign a single channel waveform to wave table entry 0\n",
    "wave w_j = ones({timeToSamples(init_len, samplingDivider)});\n",
    "assignWaveIndex(1,2, w_j, 0);\n",
    "\n",
    "// Reset the oscillator phase\n",
    "resetOscPhase();\n",
    "\n",
    "repeat({seq_averages}) {{\n",
    "\n",
    "    // Trigger the scope\n",
    "    \n",
    "    waitDigTrigger(1);\n",
    "\n",
    "    setTrigger(1);\n",
    "    setTrigger(0);\n",
    "    \n",
    "    playZero({timeToSamples(init_len, samplingDivider)},  {samplingDivider});           // mixed state init.\n",
    "    playZero({timeToSamples(wait_and_settle, samplingDivider)},  {samplingDivider});    // wait and settle\n",
    "\n",
    "    executeTableEntry(1);                                                               // read reference\n",
    "    \n",
    "    // playZero({timeToSamples(read_len, samplingDivider)},  {samplingDivider});           // read\n",
    "    playZero({timeToSamples(wait_and_settle, samplingDivider)},  {samplingDivider});    // wait and settle\n",
    "    playZero(32);    // wait and settle\n",
    "}}\n",
    "\"\"\"\n",
    "\n",
    "\n",
    "\n",
    "seqc_program_st = f\"\"\"\n",
    "// Assign a single channel waveform to wave table entry 0\n",
    "wave w_st = ones({timeToSamples(trigger_time, 9)});\n",
    "assignWaveIndex(1,2, w_st, 0);\n",
    "\n",
    "repeat({seq_averages}) {{\n",
    "    waitDigTrigger(1);\n",
    "    executeTableEntry(0);\n",
    "}}\n",
    "\"\"\""
   ]
  },
  {
   "cell_type": "code",
   "execution_count": 246,
   "id": "ecf3bbec-69e7-46f9-b195-5141819eb14e",
   "metadata": {},
   "outputs": [],
   "source": [
    "seqc_program_prior_read = f\"\"\"\n",
    "repeat({seq_averages}) {{\n",
    "    waitDigTrigger(1);\n",
    "    \n",
    "    setTrigger(1);\n",
    "    setTrigger(0);\n",
    "}}\n",
    "\"\"\"\n",
    "\n",
    "readout_prog_code = f\"\"\"\n",
    "setTrigger(0); // Set low as this starts the spectroscopy readout....\n",
    "\n",
    "repeat({seq_averages}) {{\n",
    "    waitDigTrigger(1);\n",
    "    \n",
    "    playZero(224); // lineup with SG trigger (224 samples = lines up with SG trigger);\n",
    "    \n",
    "    playZero({timeToSamples(init_len, samplingDivider)},  {samplingDivider});\n",
    "    playZero({timeToSamples(wait_and_settle, samplingDivider)},  {samplingDivider});\n",
    "    playZero({timeToSamples(buffer, samplingDivider)},  {samplingDivider});\n",
    "\n",
    "    setTrigger(1);  // trigger the output. As this matches \"chan0seqtrig0\" the spectroscopy is started\n",
    "    setTrigger(0);\n",
    "\n",
    "    playZero({timeToSamples(read_len, samplingDivider)},  {samplingDivider});\n",
    "    playZero({timeToSamples(buffer, samplingDivider)},  {samplingDivider});\n",
    "\n",
    "    setTrigger(1);  // trigger the output. As this matches \"chan0seqtrig0\" the spectroscopy is started\n",
    "    setTrigger(0);\n",
    "\n",
    "    playZero({timeToSamples(buffer, samplingDivider)},  {samplingDivider});\n",
    "    playZero({timeToSamples(wait_and_settle, samplingDivider)},  {samplingDivider});\n",
    "    }}\n",
    "\n",
    "\"\"\""
   ]
  },
  {
   "cell_type": "code",
   "execution_count": 247,
   "id": "5793b002-866d-4f2b-95f0-bce29f81c96d",
   "metadata": {},
   "outputs": [],
   "source": [
    "# create waveforms\n",
    "default_amp = 0.01\n",
    "\n",
    "# Create mixed state\n",
    "samples = timeToSamples(init_len, samplingDivider)\n",
    "mixed_p = np.linspace(voltToDbm(default_amp, dr_pwr),\n",
    "                       voltToDbm(default_amp+default_amp*samples*ramp_rate, dr_pwr), samples)\n",
    "\n",
    "# Read pulse driver\n",
    "samples = timeToSamples(read_len, samplingDivider)\n",
    "read_p = np.linspace(voltToDbm(default_amp, dr_pwr),\n",
    "                       voltToDbm(default_amp+default_amp*samples*ramp_rate, dr_pwr), samples)\n",
    "\n",
    "del samples"
   ]
  },
  {
   "cell_type": "code",
   "execution_count": 248,
   "id": "a9f21726-8e6d-44be-a91c-2aa93f6f6b33",
   "metadata": {},
   "outputs": [
    {
     "name": "stdout",
     "output_type": "stream",
     "text": [
      "_________ /dev12158/sgchannels/1 _________\n",
      "\n",
      "// Assign a single channel waveform to wave table entry 0\n",
      "\n",
      "// Reset the oscillator phase\n",
      "resetOscPhase();\n",
      "\n",
      "repeat(100) {\n",
      "\n",
      "    // Trigger the scope\n",
      "    \n",
      "    waitDigTrigger(1);\n",
      "\n",
      "    setTrigger(1);\n",
      "    setTrigger(0);\n",
      "    \n",
      "    executeTableEntry(0);                                                               // mixed state init.\n",
      "    \n",
      "    playZero(93744,  6);    // wait and settle\n",
      "    playZero(3120,  6);           // read reference\n",
      "\n",
      "    executeTableEntry(1);                                                               // read\n",
      "    \n",
      "    playZero(93744,  6);    // wait and settle\n",
      "}\n",
      "\n",
      "_________ /dev12158/sgchannels/2 _________\n",
      "\n",
      "// Assign a single channel waveform to wave table entry 0\n",
      "\n",
      "// Reset the oscillator phase\n",
      "resetOscPhase();\n",
      "\n",
      "repeat(100) {\n",
      "\n",
      "    // Trigger the scope\n",
      "    \n",
      "    waitDigTrigger(1);\n",
      "\n",
      "    setTrigger(1);\n",
      "    setTrigger(0);\n",
      "    \n",
      "    executeTableEntry(0);                                                               // mixed state init.\n",
      "    \n",
      "    playZero(93744,  6);    // wait and settle\n",
      "    playZero(3120,  6);           // read reference\n",
      "\n",
      "    executeTableEntry(1);                                                               // read\n",
      "    \n",
      "    playZero(93744,  6);    // wait and settle\n",
      "}\n",
      "\n",
      "_________ /dev12158/sgchannels/3 _________\n",
      "\n",
      "// Assign a single channel waveform to wave table entry 0\n",
      "wave w_j = ones(18736);\n",
      "assignWaveIndex(1,2, w_j, 0);\n",
      "\n",
      "// Reset the oscillator phase\n",
      "resetOscPhase();\n",
      "\n",
      "repeat(100) {\n",
      "\n",
      "    // Trigger the scope\n",
      "    \n",
      "    waitDigTrigger(1);\n",
      "\n",
      "    setTrigger(1);\n",
      "    setTrigger(0);\n",
      "    \n",
      "    playZero(18736,  6);           // mixed state init.\n",
      "    playZero(93744,  6);    // wait and settle\n",
      "\n",
      "    executeTableEntry(1);                                                               // read reference\n",
      "    \n",
      "    // playZero(3120,  6);           // read\n",
      "    playZero(93744,  6);    // wait and settle\n",
      "    playZero(32);    // wait and settle\n",
      "}\n",
      "\n",
      "_________ /dev12158/sgchannels/0 _________\n",
      "\n",
      "// Assign a single channel waveform to wave table entry 0\n",
      "wave w_st = ones(39056);\n",
      "assignWaveIndex(1,2, w_st, 0);\n",
      "\n",
      "repeat(100) {\n",
      "    waitDigTrigger(1);\n",
      "    executeTableEntry(0);\n",
      "}\n",
      "\n"
     ]
    }
   ],
   "source": [
    "# upload drive code\n",
    "\n",
    "# P1\n",
    "seq = Sequence()\n",
    "seq.code = seqc_program_p1\n",
    "seq.waveforms = Waveforms()\n",
    "seq.waveforms[0] = mixed_p\n",
    "seq.waveforms[1] = read_p\n",
    "chan[\"P1\"].awg.load_sequencer_program(seq)\n",
    "chan[\"P1\"].awg.write_to_waveform_memory(seq.waveforms)\n",
    "print(f\"_________ {chan[\"P1\"]} _________\")\n",
    "print(seq.code)\n",
    "\n",
    "# P2\n",
    "seq = Sequence()\n",
    "seq.code = seqc_program_p2\n",
    "seq.waveforms = Waveforms()\n",
    "seq.waveforms[0] = mixed_p\n",
    "seq.waveforms[1] = read_p\n",
    "chan[\"P2\"].awg.load_sequencer_program(seq)\n",
    "chan[\"P2\"].awg.write_to_waveform_memory(seq.waveforms)\n",
    "print(f\"_________ {chan[\"P2\"]} _________\")\n",
    "print(seq.code)\n",
    "\n",
    "# J\n",
    "chan[\"J\"].awg.load_sequencer_program(seqc_program_j)\n",
    "print(f\"_________ {chan[\"J\"]} _________\")\n",
    "print(seqc_program_j)\n",
    "\n",
    "# ST\n",
    "chan[\"ST\"].awg.load_sequencer_program(seqc_program_st)\n",
    "print(f\"_________ {chan[\"ST\"]} _________\")\n",
    "print(seqc_program_st)\n",
    "\n",
    "# upload wavevforms with sequence code as the memory must be allocated first\n",
    "\n",
    "# upload measure code\n",
    "#chan[\"measure\"].generator.load_sequencer_program(readout_prog_code)\n",
    "#chan[\"measure\"].generator.load_sequencer_program(seqc_program_prior_read)"
   ]
  },
  {
   "cell_type": "markdown",
   "id": "b755ce22-ddbb-4a9e-8936-e385fc1d0c48",
   "metadata": {},
   "source": [
    "### Setup Command tables"
   ]
  },
  {
   "cell_type": "code",
   "execution_count": 249,
   "id": "60125786-bdcf-4b40-a54a-ccfb8f466ac6",
   "metadata": {},
   "outputs": [],
   "source": [
    "# load mixed state command channels\n",
    "for c in [\"P1\", \"P2\"]:\n",
    "    cmdtable(cts[c],\n",
    "             amplitude= voltToDbm(MIXED_AMP[c], chan[c].output.range()),\n",
    "             length=timeToSamples(init_len, samplingDivider),\n",
    "             wave_index=0,\n",
    "             ct_index=0,\n",
    "            )"
   ]
  },
  {
   "cell_type": "markdown",
   "id": "b2a00a11-da12-44bf-b049-3b39d6d264cd",
   "metadata": {},
   "source": [
    "## Run"
   ]
  },
  {
   "cell_type": "markdown",
   "id": "5be28742-3627-4144-993f-41705b5e0d72",
   "metadata": {},
   "source": [
    "### Run functions"
   ]
  },
  {
   "cell_type": "code",
   "execution_count": 250,
   "id": "7e9bbbbc-a264-4fea-bd41-5cfea0348311",
   "metadata": {},
   "outputs": [],
   "source": [
    "def uploadcts():\n",
    "    \"\"\"Upload the command tables to the device\"\"\"\n",
    "    for c in drive_chans:\n",
    "        chan[c].awg.commandtable.upload_to_device(cts[c])"
   ]
  },
  {
   "cell_type": "code",
   "execution_count": 251,
   "id": "8f92f2bf-0c88-4981-8317-620b531b2fb4",
   "metadata": {},
   "outputs": [],
   "source": [
    "def synchchannels(chans):\n",
    "    \"\"\"Sync the given channels, unsyncing the rest. Assumes that the internal trigger and measure channel should always be synced.\"\"\"\n",
    "    for c in drive_chans:\n",
    "        if c in chans:  # sync\n",
    "            chan[c].synchronization.enable(1)\n",
    "        else:  # dont sync\n",
    "            chan[c].synchronization.enable(0)\n",
    "    chan[\"measure\"].synchronization.enable(1)\n",
    "    device.system.internaltrigger.synchronization.enable(1)"
   ]
  },
  {
   "cell_type": "code",
   "execution_count": 252,
   "id": "b362e0ad-860b-40a9-9cdb-dbe53263ce2c",
   "metadata": {},
   "outputs": [],
   "source": [
    "def waitForInternalTrigger(progress=True, leave=True):\n",
    "    \"\"\"\n",
    "    Waits for the internal trigger to finish running and shows the current progress.\n",
    "    Progress = if show tqdm progress meter\n",
    "    Leave = if keep progress bar afterwards\n",
    "    \"\"\"\n",
    "    if progress:\n",
    "        pbar = tqdm(total=100, leave=leave, desc=\"Internal trigger\")\n",
    "    while device.system.internaltrigger.progress() != 1.0:\n",
    "        p = int(device.system.internaltrigger.progress()*100)\n",
    "        if progress:\n",
    "            pbar.update(p-pbar.n)\n",
    "        time.sleep(0.001)\n",
    "    if progress:\n",
    "        pbar.update(100-pbar.n)\n",
    "        pbar.close()"
   ]
  },
  {
   "cell_type": "code",
   "execution_count": 253,
   "id": "e716f36c-08b1-450c-9f57-7b80ff293d91",
   "metadata": {},
   "outputs": [],
   "source": [
    "def calculatefeedback(data):\n",
    "    \"\"\"Calculate the appropriate feedback adjustment to ST.\"\"\"\n",
    "    # use last datapoint\n",
    "    global curr_st_amp\n",
    "    error = FB_TARGET-np.abs(data[-1])\n",
    "    curr_st_amp += error*FB_STEPSIZE*FB_SLOPE\n",
    "\n",
    "    # update command table\n",
    "    cmdtable(cts[\"ST\"],\n",
    "             amplitude= voltToDbm(curr_st_amp, chan[\"ST\"].output.range()),\n",
    "             length=timeToSamples(trigger_time, 6),\n",
    "             wave_index=0,\n",
    "             ct_index=0,\n",
    "            )\n",
    "    "
   ]
  },
  {
   "cell_type": "code",
   "execution_count": 254,
   "id": "33b026b2-534d-4de2-a7ab-de1ec8e42dee",
   "metadata": {},
   "outputs": [],
   "source": [
    "def movemeasurement(p1, p2, j):\n",
    "    \"\"\"Move P1/P2/J to measure the next appropriate datapoint.\"\"\"\n",
    "    cmdtable(cts[\"P1\"],\n",
    "             amplitude= voltToDbm(p1, chan[\"P1\"].output.range()),\n",
    "             length=timeToSamples(buffer + read_len + buffer, samplingDivider),\n",
    "             wave_index=1,\n",
    "             ct_index=1,\n",
    "            )\n",
    "    cmdtable(cts[\"P2\"],\n",
    "             amplitude= voltToDbm(p2, chan[\"P2\"].output.range()),\n",
    "             length=timeToSamples(buffer + read_len + buffer, samplingDivider),\n",
    "             wave_index=1,\n",
    "             ct_index=1,\n",
    "            )\n",
    "    cmdtable(cts[\"J\"],\n",
    "             amplitude= voltToDbm(j, chan[\"J\"].output.range()),\n",
    "             length=timeToSamples(buffer + read_len + buffer + read_len, samplingDivider),     # THIS LINE IS WRONG, FIX\n",
    "             wave_index=0,\n",
    "             ct_index=1,\n",
    "            )\n",
    "    "
   ]
  },
  {
   "cell_type": "code",
   "execution_count": 255,
   "id": "e3c3031d-72d8-46bd-86ea-098cde7ace2e",
   "metadata": {},
   "outputs": [],
   "source": [
    "def runfeedback():\n",
    "    \"\"\"Run feedback measurement where we only measure\"\"\"\n",
    "    device.system.internaltrigger.enable(0)\n",
    "\n",
    "    result_node = chan[\"measure\"].spectroscopy.result.data.wave\n",
    "    result_node.subscribe()\n",
    "    \n",
    "    chan[\"measure\"].spectroscopy.result.enable(1)  # start logger\n",
    "    chan[\"measure\"].generator.enable_sequencer(single=True)\n",
    "    device.system.internaltrigger.enable(1)\n",
    "    \n",
    "    time.sleep(0.2)  # delay for networking issues\n",
    "        \n",
    "    # wait for the measurement to complete\n",
    "    waitForInternalTrigger()\n",
    "    \n",
    "    m_state = chan[\"measure\"].generator.sequencer.status()\n",
    "    if m_state != 4:\n",
    "        warnings.warn(f\"Sequencers in unknown state. Perhaps they are not synchronised? {bin(m_state)}\")\n",
    "        time.sleep(0.5)\n",
    "    \n",
    "    # wait for completion\n",
    "    while chan[\"measure\"].spectroscopy.result.enable() != 0:\n",
    "        print(chan[\"measure\"].spectroscopy.result.enable())\n",
    "        chan[\"measure\"].spectroscopy.result.enable.wait_for_state_change(0, timeout=10)\n",
    "    \n",
    "    # get results\n",
    "    results = get_results(result_node, timeout=5)\n",
    "    result_node.unsubscribe()\n",
    "    \n",
    "    # verify results\n",
    "    acq = chan[\"measure\"].spectroscopy.result.acquired()\n",
    "    if len(results) > acq:\n",
    "        print(chan[\"measure\"].generator.ready())\n",
    "        raise TimeoutError(f\"Not all datapoints measured in the time provided. {acq} of {len(results)}.\")\n",
    "\n",
    "    return np.mean(results)\n",
    "    "
   ]
  },
  {
   "cell_type": "code",
   "execution_count": 256,
   "id": "cc2d730b-5e7d-4a69-ac96-74e7dd484987",
   "metadata": {},
   "outputs": [],
   "source": [
    "def runexperiment():\n",
    "    device.system.internaltrigger.enable(0)\n",
    "\n",
    "    result_node = chan[\"measure\"].spectroscopy.result.data.wave\n",
    "    result_node.subscribe()\n",
    "    \n",
    "    chan[\"measure\"].spectroscopy.result.enable(1)  # start logger\n",
    "    \n",
    "    \n",
    "    # start sequencers\n",
    "    chan[\"measure\"].generator.enable_sequencer(single=True)\n",
    "    chan[\"J\"].awg.enable_sequencer(single=True)  # dont want to repeat\n",
    "    chan[\"P1\"].awg.enable_sequencer(single=True)\n",
    "    chan[\"P2\"].awg.enable_sequencer(single=True)\n",
    "    chan[\"ST\"].awg.enable_sequencer(single=True)\n",
    "    \n",
    "    \n",
    "    # start triggering sequence (which starts each sequencer)\n",
    "    device.system.internaltrigger.enable(1)\n",
    "    time.sleep(0.2)  # delay for networking issues\n",
    "    \n",
    "        \n",
    "    # wait for the measurement to complete\n",
    "    waitForInternalTrigger(progress=True, leave=False)\n",
    "    \n",
    "    \n",
    "    # check sequencers have finished their sequences\n",
    "    # Status of the Sequencer on the instrument.\n",
    "    # - Bit 0: Sequencer is running;\n",
    "    # - Bit 1: reserved;\n",
    "    # - Bit 2: Sequencer is waiting for a trigger to arrive;\n",
    "    # - Bit 3: Sequencer has detected an error;\n",
    "    # - Bit 4: sequencer is waiting for synchronization with other channels\n",
    "    m_state = chan[\"measure\"].generator.sequencer.status()\n",
    "    st_state = chan[\"P1\"].awg.sequencer.status()\n",
    "    if m_state != 4 and st_state != 4:\n",
    "        warnings.warn(f\"Sequencers in unknown state. Perhaps they are not synchronised? {bin(m_state)}, {bin(st_state)}\")\n",
    "        #time.sleep(0.5)\n",
    "    \n",
    "    \n",
    "    # wait for completion\n",
    "    while chan[\"measure\"].spectroscopy.result.enable() != 0:\n",
    "        chan[\"measure\"].spectroscopy.result.enable.wait_for_state_change(0, timeout=10)\n",
    "    \n",
    "    \n",
    "    # get results\n",
    "    results = get_results(result_node, timeout=5)\n",
    "    result_node.unsubscribe()\n",
    "    \n",
    "    \n",
    "    # verify results\n",
    "    acq = chan[\"measure\"].spectroscopy.result.acquired()\n",
    "    if len(results) > acq:\n",
    "        print(chan[\"measure\"].generator.ready())\n",
    "        print([chan[c].awg.ready() for c in drive_chans])\n",
    "        raise TimeoutError(f\"Not all datapoints measured in the time provided. {acq} of {len(results)}.\")\n",
    "    \n",
    "    return np.mean(results.reshape((seq_averages, 2)), axis=0)\n",
    "\n",
    "\n"
   ]
  },
  {
   "cell_type": "code",
   "execution_count": 257,
   "id": "8a70d989-06a4-45fd-a9de-cb9c57d748d9",
   "metadata": {},
   "outputs": [],
   "source": [
    "device.system.internaltrigger.repetitions(seq_averages)  # make sure that this matches how many pulses we are sending\n",
    "device.system.internaltrigger.holdoff(trigger_time)  # init_len + 2*wait_and_settle + 100e-6*2)  # how long to wait between retriggers (increments of 100ns)"
   ]
  },
  {
   "cell_type": "code",
   "execution_count": 258,
   "id": "34fcc1a5-4ba8-4288-9e93-ab28fcdbc70b",
   "metadata": {},
   "outputs": [],
   "source": [
    "# setup channel synchronization\n",
    "chan[\"measure\"].synchronization.enable(1)\n",
    "chan[\"P1\"].synchronization.enable(1)\n",
    "chan[\"P2\"].synchronization.enable(1)\n",
    "chan[\"J\"].synchronization.enable(1)\n",
    "chan[\"ST\"].synchronization.enable(1)\n",
    "device.system.internaltrigger.synchronization.enable(1)"
   ]
  },
  {
   "cell_type": "markdown",
   "id": "d68a9e0b-4fcf-4bed-9cc6-6e54a1d17895",
   "metadata": {},
   "source": [
    "### Run loop"
   ]
  },
  {
   "cell_type": "code",
   "execution_count": null,
   "id": "23e2651e-ccf4-493a-af0a-429b65ed2c35",
   "metadata": {},
   "outputs": [],
   "source": []
  },
  {
   "cell_type": "code",
   "execution_count": 259,
   "id": "31450368-d9bb-4fdb-9b5d-d59e299d38df",
   "metadata": {},
   "outputs": [
    {
     "name": "stdout",
     "output_type": "stream",
     "text": [
      "Started new run sequence.8\n",
      "Measuring initial feedback point\n"
     ]
    },
    {
     "data": {
      "application/vnd.jupyter.widget-view+json": {
       "model_id": "a76f231c54884f0996b4c37dc53e9ccf",
       "version_major": 2,
       "version_minor": 0
      },
      "text/plain": [
       "Internal trigger:   0%|          | 0/100 [00:00<?, ?it/s]"
      ]
     },
     "metadata": {},
     "output_type": "display_data"
    },
    {
     "name": "stdout",
     "output_type": "stream",
     "text": [
      "Sweeping P1, P2 and J\n"
     ]
    },
    {
     "data": {
      "application/vnd.jupyter.widget-view+json": {
       "model_id": "bace9229ead64d0083aeadc9c71229b5",
       "version_major": 2,
       "version_minor": 0
      },
      "text/plain": [
       "J:   0%|          | 0/1 [00:00<?, ?it/s]"
      ]
     },
     "metadata": {},
     "output_type": "display_data"
    },
    {
     "data": {
      "application/vnd.jupyter.widget-view+json": {
       "model_id": "",
       "version_major": 2,
       "version_minor": 0
      },
      "text/plain": [
       "Detuning:   0%|          | 0/100 [00:00<?, ?it/s]"
      ]
     },
     "metadata": {},
     "output_type": "display_data"
    },
    {
     "data": {
      "application/vnd.jupyter.widget-view+json": {
       "model_id": "",
       "version_major": 2,
       "version_minor": 0
      },
      "text/plain": [
       "Internal trigger:   0%|          | 0/100 [00:00<?, ?it/s]"
      ]
     },
     "metadata": {},
     "output_type": "display_data"
    },
    {
     "data": {
      "application/vnd.jupyter.widget-view+json": {
       "model_id": "",
       "version_major": 2,
       "version_minor": 0
      },
      "text/plain": [
       "Internal trigger:   0%|          | 0/100 [00:00<?, ?it/s]"
      ]
     },
     "metadata": {},
     "output_type": "display_data"
    },
    {
     "data": {
      "application/vnd.jupyter.widget-view+json": {
       "model_id": "",
       "version_major": 2,
       "version_minor": 0
      },
      "text/plain": [
       "Internal trigger:   0%|          | 0/100 [00:00<?, ?it/s]"
      ]
     },
     "metadata": {},
     "output_type": "display_data"
    },
    {
     "data": {
      "application/vnd.jupyter.widget-view+json": {
       "model_id": "",
       "version_major": 2,
       "version_minor": 0
      },
      "text/plain": [
       "Internal trigger:   0%|          | 0/100 [00:00<?, ?it/s]"
      ]
     },
     "metadata": {},
     "output_type": "display_data"
    },
    {
     "data": {
      "application/vnd.jupyter.widget-view+json": {
       "model_id": "",
       "version_major": 2,
       "version_minor": 0
      },
      "text/plain": [
       "Internal trigger:   0%|          | 0/100 [00:00<?, ?it/s]"
      ]
     },
     "metadata": {},
     "output_type": "display_data"
    },
    {
     "data": {
      "application/vnd.jupyter.widget-view+json": {
       "model_id": "",
       "version_major": 2,
       "version_minor": 0
      },
      "text/plain": [
       "Internal trigger:   0%|          | 0/100 [00:00<?, ?it/s]"
      ]
     },
     "metadata": {},
     "output_type": "display_data"
    },
    {
     "data": {
      "application/vnd.jupyter.widget-view+json": {
       "model_id": "",
       "version_major": 2,
       "version_minor": 0
      },
      "text/plain": [
       "Internal trigger:   0%|          | 0/100 [00:00<?, ?it/s]"
      ]
     },
     "metadata": {},
     "output_type": "display_data"
    },
    {
     "data": {
      "application/vnd.jupyter.widget-view+json": {
       "model_id": "",
       "version_major": 2,
       "version_minor": 0
      },
      "text/plain": [
       "Internal trigger:   0%|          | 0/100 [00:00<?, ?it/s]"
      ]
     },
     "metadata": {},
     "output_type": "display_data"
    },
    {
     "data": {
      "application/vnd.jupyter.widget-view+json": {
       "model_id": "",
       "version_major": 2,
       "version_minor": 0
      },
      "text/plain": [
       "Internal trigger:   0%|          | 0/100 [00:00<?, ?it/s]"
      ]
     },
     "metadata": {},
     "output_type": "display_data"
    },
    {
     "data": {
      "application/vnd.jupyter.widget-view+json": {
       "model_id": "",
       "version_major": 2,
       "version_minor": 0
      },
      "text/plain": [
       "Internal trigger:   0%|          | 0/100 [00:00<?, ?it/s]"
      ]
     },
     "metadata": {},
     "output_type": "display_data"
    },
    {
     "data": {
      "application/vnd.jupyter.widget-view+json": {
       "model_id": "",
       "version_major": 2,
       "version_minor": 0
      },
      "text/plain": [
       "Internal trigger:   0%|          | 0/100 [00:00<?, ?it/s]"
      ]
     },
     "metadata": {},
     "output_type": "display_data"
    },
    {
     "data": {
      "application/vnd.jupyter.widget-view+json": {
       "model_id": "",
       "version_major": 2,
       "version_minor": 0
      },
      "text/plain": [
       "Internal trigger:   0%|          | 0/100 [00:00<?, ?it/s]"
      ]
     },
     "metadata": {},
     "output_type": "display_data"
    },
    {
     "data": {
      "application/vnd.jupyter.widget-view+json": {
       "model_id": "",
       "version_major": 2,
       "version_minor": 0
      },
      "text/plain": [
       "Internal trigger:   0%|          | 0/100 [00:00<?, ?it/s]"
      ]
     },
     "metadata": {},
     "output_type": "display_data"
    },
    {
     "data": {
      "application/vnd.jupyter.widget-view+json": {
       "model_id": "",
       "version_major": 2,
       "version_minor": 0
      },
      "text/plain": [
       "Internal trigger:   0%|          | 0/100 [00:00<?, ?it/s]"
      ]
     },
     "metadata": {},
     "output_type": "display_data"
    },
    {
     "data": {
      "application/vnd.jupyter.widget-view+json": {
       "model_id": "",
       "version_major": 2,
       "version_minor": 0
      },
      "text/plain": [
       "Internal trigger:   0%|          | 0/100 [00:00<?, ?it/s]"
      ]
     },
     "metadata": {},
     "output_type": "display_data"
    },
    {
     "data": {
      "application/vnd.jupyter.widget-view+json": {
       "model_id": "",
       "version_major": 2,
       "version_minor": 0
      },
      "text/plain": [
       "Internal trigger:   0%|          | 0/100 [00:00<?, ?it/s]"
      ]
     },
     "metadata": {},
     "output_type": "display_data"
    },
    {
     "data": {
      "application/vnd.jupyter.widget-view+json": {
       "model_id": "",
       "version_major": 2,
       "version_minor": 0
      },
      "text/plain": [
       "Internal trigger:   0%|          | 0/100 [00:00<?, ?it/s]"
      ]
     },
     "metadata": {},
     "output_type": "display_data"
    },
    {
     "data": {
      "application/vnd.jupyter.widget-view+json": {
       "model_id": "",
       "version_major": 2,
       "version_minor": 0
      },
      "text/plain": [
       "Internal trigger:   0%|          | 0/100 [00:00<?, ?it/s]"
      ]
     },
     "metadata": {},
     "output_type": "display_data"
    },
    {
     "data": {
      "application/vnd.jupyter.widget-view+json": {
       "model_id": "",
       "version_major": 2,
       "version_minor": 0
      },
      "text/plain": [
       "Internal trigger:   0%|          | 0/100 [00:00<?, ?it/s]"
      ]
     },
     "metadata": {},
     "output_type": "display_data"
    },
    {
     "data": {
      "application/vnd.jupyter.widget-view+json": {
       "model_id": "",
       "version_major": 2,
       "version_minor": 0
      },
      "text/plain": [
       "Internal trigger:   0%|          | 0/100 [00:00<?, ?it/s]"
      ]
     },
     "metadata": {},
     "output_type": "display_data"
    },
    {
     "data": {
      "application/vnd.jupyter.widget-view+json": {
       "model_id": "",
       "version_major": 2,
       "version_minor": 0
      },
      "text/plain": [
       "Internal trigger:   0%|          | 0/100 [00:00<?, ?it/s]"
      ]
     },
     "metadata": {},
     "output_type": "display_data"
    },
    {
     "data": {
      "application/vnd.jupyter.widget-view+json": {
       "model_id": "",
       "version_major": 2,
       "version_minor": 0
      },
      "text/plain": [
       "Internal trigger:   0%|          | 0/100 [00:00<?, ?it/s]"
      ]
     },
     "metadata": {},
     "output_type": "display_data"
    },
    {
     "data": {
      "application/vnd.jupyter.widget-view+json": {
       "model_id": "",
       "version_major": 2,
       "version_minor": 0
      },
      "text/plain": [
       "Internal trigger:   0%|          | 0/100 [00:00<?, ?it/s]"
      ]
     },
     "metadata": {},
     "output_type": "display_data"
    },
    {
     "data": {
      "application/vnd.jupyter.widget-view+json": {
       "model_id": "",
       "version_major": 2,
       "version_minor": 0
      },
      "text/plain": [
       "Internal trigger:   0%|          | 0/100 [00:00<?, ?it/s]"
      ]
     },
     "metadata": {},
     "output_type": "display_data"
    },
    {
     "data": {
      "application/vnd.jupyter.widget-view+json": {
       "model_id": "",
       "version_major": 2,
       "version_minor": 0
      },
      "text/plain": [
       "Internal trigger:   0%|          | 0/100 [00:00<?, ?it/s]"
      ]
     },
     "metadata": {},
     "output_type": "display_data"
    },
    {
     "data": {
      "application/vnd.jupyter.widget-view+json": {
       "model_id": "",
       "version_major": 2,
       "version_minor": 0
      },
      "text/plain": [
       "Internal trigger:   0%|          | 0/100 [00:00<?, ?it/s]"
      ]
     },
     "metadata": {},
     "output_type": "display_data"
    },
    {
     "data": {
      "application/vnd.jupyter.widget-view+json": {
       "model_id": "",
       "version_major": 2,
       "version_minor": 0
      },
      "text/plain": [
       "Internal trigger:   0%|          | 0/100 [00:00<?, ?it/s]"
      ]
     },
     "metadata": {},
     "output_type": "display_data"
    },
    {
     "data": {
      "application/vnd.jupyter.widget-view+json": {
       "model_id": "",
       "version_major": 2,
       "version_minor": 0
      },
      "text/plain": [
       "Internal trigger:   0%|          | 0/100 [00:00<?, ?it/s]"
      ]
     },
     "metadata": {},
     "output_type": "display_data"
    },
    {
     "data": {
      "application/vnd.jupyter.widget-view+json": {
       "model_id": "",
       "version_major": 2,
       "version_minor": 0
      },
      "text/plain": [
       "Internal trigger:   0%|          | 0/100 [00:00<?, ?it/s]"
      ]
     },
     "metadata": {},
     "output_type": "display_data"
    },
    {
     "data": {
      "application/vnd.jupyter.widget-view+json": {
       "model_id": "",
       "version_major": 2,
       "version_minor": 0
      },
      "text/plain": [
       "Internal trigger:   0%|          | 0/100 [00:00<?, ?it/s]"
      ]
     },
     "metadata": {},
     "output_type": "display_data"
    },
    {
     "data": {
      "application/vnd.jupyter.widget-view+json": {
       "model_id": "",
       "version_major": 2,
       "version_minor": 0
      },
      "text/plain": [
       "Internal trigger:   0%|          | 0/100 [00:00<?, ?it/s]"
      ]
     },
     "metadata": {},
     "output_type": "display_data"
    },
    {
     "data": {
      "application/vnd.jupyter.widget-view+json": {
       "model_id": "",
       "version_major": 2,
       "version_minor": 0
      },
      "text/plain": [
       "Internal trigger:   0%|          | 0/100 [00:00<?, ?it/s]"
      ]
     },
     "metadata": {},
     "output_type": "display_data"
    },
    {
     "data": {
      "application/vnd.jupyter.widget-view+json": {
       "model_id": "",
       "version_major": 2,
       "version_minor": 0
      },
      "text/plain": [
       "Internal trigger:   0%|          | 0/100 [00:00<?, ?it/s]"
      ]
     },
     "metadata": {},
     "output_type": "display_data"
    },
    {
     "data": {
      "application/vnd.jupyter.widget-view+json": {
       "model_id": "",
       "version_major": 2,
       "version_minor": 0
      },
      "text/plain": [
       "Internal trigger:   0%|          | 0/100 [00:00<?, ?it/s]"
      ]
     },
     "metadata": {},
     "output_type": "display_data"
    },
    {
     "data": {
      "application/vnd.jupyter.widget-view+json": {
       "model_id": "",
       "version_major": 2,
       "version_minor": 0
      },
      "text/plain": [
       "Internal trigger:   0%|          | 0/100 [00:00<?, ?it/s]"
      ]
     },
     "metadata": {},
     "output_type": "display_data"
    },
    {
     "data": {
      "application/vnd.jupyter.widget-view+json": {
       "model_id": "",
       "version_major": 2,
       "version_minor": 0
      },
      "text/plain": [
       "Internal trigger:   0%|          | 0/100 [00:00<?, ?it/s]"
      ]
     },
     "metadata": {},
     "output_type": "display_data"
    },
    {
     "data": {
      "application/vnd.jupyter.widget-view+json": {
       "model_id": "",
       "version_major": 2,
       "version_minor": 0
      },
      "text/plain": [
       "Internal trigger:   0%|          | 0/100 [00:00<?, ?it/s]"
      ]
     },
     "metadata": {},
     "output_type": "display_data"
    },
    {
     "data": {
      "application/vnd.jupyter.widget-view+json": {
       "model_id": "",
       "version_major": 2,
       "version_minor": 0
      },
      "text/plain": [
       "Internal trigger:   0%|          | 0/100 [00:00<?, ?it/s]"
      ]
     },
     "metadata": {},
     "output_type": "display_data"
    },
    {
     "data": {
      "application/vnd.jupyter.widget-view+json": {
       "model_id": "",
       "version_major": 2,
       "version_minor": 0
      },
      "text/plain": [
       "Internal trigger:   0%|          | 0/100 [00:00<?, ?it/s]"
      ]
     },
     "metadata": {},
     "output_type": "display_data"
    },
    {
     "data": {
      "application/vnd.jupyter.widget-view+json": {
       "model_id": "",
       "version_major": 2,
       "version_minor": 0
      },
      "text/plain": [
       "Internal trigger:   0%|          | 0/100 [00:00<?, ?it/s]"
      ]
     },
     "metadata": {},
     "output_type": "display_data"
    },
    {
     "data": {
      "application/vnd.jupyter.widget-view+json": {
       "model_id": "",
       "version_major": 2,
       "version_minor": 0
      },
      "text/plain": [
       "Internal trigger:   0%|          | 0/100 [00:00<?, ?it/s]"
      ]
     },
     "metadata": {},
     "output_type": "display_data"
    },
    {
     "data": {
      "application/vnd.jupyter.widget-view+json": {
       "model_id": "",
       "version_major": 2,
       "version_minor": 0
      },
      "text/plain": [
       "Internal trigger:   0%|          | 0/100 [00:00<?, ?it/s]"
      ]
     },
     "metadata": {},
     "output_type": "display_data"
    },
    {
     "data": {
      "application/vnd.jupyter.widget-view+json": {
       "model_id": "",
       "version_major": 2,
       "version_minor": 0
      },
      "text/plain": [
       "Internal trigger:   0%|          | 0/100 [00:00<?, ?it/s]"
      ]
     },
     "metadata": {},
     "output_type": "display_data"
    },
    {
     "data": {
      "application/vnd.jupyter.widget-view+json": {
       "model_id": "",
       "version_major": 2,
       "version_minor": 0
      },
      "text/plain": [
       "Internal trigger:   0%|          | 0/100 [00:00<?, ?it/s]"
      ]
     },
     "metadata": {},
     "output_type": "display_data"
    },
    {
     "data": {
      "application/vnd.jupyter.widget-view+json": {
       "model_id": "",
       "version_major": 2,
       "version_minor": 0
      },
      "text/plain": [
       "Internal trigger:   0%|          | 0/100 [00:00<?, ?it/s]"
      ]
     },
     "metadata": {},
     "output_type": "display_data"
    },
    {
     "data": {
      "application/vnd.jupyter.widget-view+json": {
       "model_id": "",
       "version_major": 2,
       "version_minor": 0
      },
      "text/plain": [
       "Internal trigger:   0%|          | 0/100 [00:00<?, ?it/s]"
      ]
     },
     "metadata": {},
     "output_type": "display_data"
    },
    {
     "data": {
      "application/vnd.jupyter.widget-view+json": {
       "model_id": "",
       "version_major": 2,
       "version_minor": 0
      },
      "text/plain": [
       "Internal trigger:   0%|          | 0/100 [00:00<?, ?it/s]"
      ]
     },
     "metadata": {},
     "output_type": "display_data"
    },
    {
     "data": {
      "application/vnd.jupyter.widget-view+json": {
       "model_id": "",
       "version_major": 2,
       "version_minor": 0
      },
      "text/plain": [
       "Internal trigger:   0%|          | 0/100 [00:00<?, ?it/s]"
      ]
     },
     "metadata": {},
     "output_type": "display_data"
    },
    {
     "data": {
      "application/vnd.jupyter.widget-view+json": {
       "model_id": "",
       "version_major": 2,
       "version_minor": 0
      },
      "text/plain": [
       "Internal trigger:   0%|          | 0/100 [00:00<?, ?it/s]"
      ]
     },
     "metadata": {},
     "output_type": "display_data"
    },
    {
     "data": {
      "application/vnd.jupyter.widget-view+json": {
       "model_id": "",
       "version_major": 2,
       "version_minor": 0
      },
      "text/plain": [
       "Internal trigger:   0%|          | 0/100 [00:00<?, ?it/s]"
      ]
     },
     "metadata": {},
     "output_type": "display_data"
    },
    {
     "data": {
      "application/vnd.jupyter.widget-view+json": {
       "model_id": "",
       "version_major": 2,
       "version_minor": 0
      },
      "text/plain": [
       "Internal trigger:   0%|          | 0/100 [00:00<?, ?it/s]"
      ]
     },
     "metadata": {},
     "output_type": "display_data"
    },
    {
     "data": {
      "application/vnd.jupyter.widget-view+json": {
       "model_id": "",
       "version_major": 2,
       "version_minor": 0
      },
      "text/plain": [
       "Internal trigger:   0%|          | 0/100 [00:00<?, ?it/s]"
      ]
     },
     "metadata": {},
     "output_type": "display_data"
    },
    {
     "data": {
      "application/vnd.jupyter.widget-view+json": {
       "model_id": "",
       "version_major": 2,
       "version_minor": 0
      },
      "text/plain": [
       "Internal trigger:   0%|          | 0/100 [00:00<?, ?it/s]"
      ]
     },
     "metadata": {},
     "output_type": "display_data"
    },
    {
     "data": {
      "application/vnd.jupyter.widget-view+json": {
       "model_id": "",
       "version_major": 2,
       "version_minor": 0
      },
      "text/plain": [
       "Internal trigger:   0%|          | 0/100 [00:00<?, ?it/s]"
      ]
     },
     "metadata": {},
     "output_type": "display_data"
    },
    {
     "data": {
      "application/vnd.jupyter.widget-view+json": {
       "model_id": "",
       "version_major": 2,
       "version_minor": 0
      },
      "text/plain": [
       "Internal trigger:   0%|          | 0/100 [00:00<?, ?it/s]"
      ]
     },
     "metadata": {},
     "output_type": "display_data"
    },
    {
     "data": {
      "application/vnd.jupyter.widget-view+json": {
       "model_id": "",
       "version_major": 2,
       "version_minor": 0
      },
      "text/plain": [
       "Internal trigger:   0%|          | 0/100 [00:00<?, ?it/s]"
      ]
     },
     "metadata": {},
     "output_type": "display_data"
    },
    {
     "data": {
      "application/vnd.jupyter.widget-view+json": {
       "model_id": "",
       "version_major": 2,
       "version_minor": 0
      },
      "text/plain": [
       "Internal trigger:   0%|          | 0/100 [00:00<?, ?it/s]"
      ]
     },
     "metadata": {},
     "output_type": "display_data"
    },
    {
     "data": {
      "application/vnd.jupyter.widget-view+json": {
       "model_id": "",
       "version_major": 2,
       "version_minor": 0
      },
      "text/plain": [
       "Internal trigger:   0%|          | 0/100 [00:00<?, ?it/s]"
      ]
     },
     "metadata": {},
     "output_type": "display_data"
    },
    {
     "data": {
      "application/vnd.jupyter.widget-view+json": {
       "model_id": "",
       "version_major": 2,
       "version_minor": 0
      },
      "text/plain": [
       "Internal trigger:   0%|          | 0/100 [00:00<?, ?it/s]"
      ]
     },
     "metadata": {},
     "output_type": "display_data"
    },
    {
     "data": {
      "application/vnd.jupyter.widget-view+json": {
       "model_id": "",
       "version_major": 2,
       "version_minor": 0
      },
      "text/plain": [
       "Internal trigger:   0%|          | 0/100 [00:00<?, ?it/s]"
      ]
     },
     "metadata": {},
     "output_type": "display_data"
    },
    {
     "data": {
      "application/vnd.jupyter.widget-view+json": {
       "model_id": "",
       "version_major": 2,
       "version_minor": 0
      },
      "text/plain": [
       "Internal trigger:   0%|          | 0/100 [00:00<?, ?it/s]"
      ]
     },
     "metadata": {},
     "output_type": "display_data"
    },
    {
     "data": {
      "application/vnd.jupyter.widget-view+json": {
       "model_id": "",
       "version_major": 2,
       "version_minor": 0
      },
      "text/plain": [
       "Internal trigger:   0%|          | 0/100 [00:00<?, ?it/s]"
      ]
     },
     "metadata": {},
     "output_type": "display_data"
    },
    {
     "data": {
      "application/vnd.jupyter.widget-view+json": {
       "model_id": "",
       "version_major": 2,
       "version_minor": 0
      },
      "text/plain": [
       "Internal trigger:   0%|          | 0/100 [00:00<?, ?it/s]"
      ]
     },
     "metadata": {},
     "output_type": "display_data"
    },
    {
     "data": {
      "application/vnd.jupyter.widget-view+json": {
       "model_id": "",
       "version_major": 2,
       "version_minor": 0
      },
      "text/plain": [
       "Internal trigger:   0%|          | 0/100 [00:00<?, ?it/s]"
      ]
     },
     "metadata": {},
     "output_type": "display_data"
    },
    {
     "data": {
      "application/vnd.jupyter.widget-view+json": {
       "model_id": "",
       "version_major": 2,
       "version_minor": 0
      },
      "text/plain": [
       "Internal trigger:   0%|          | 0/100 [00:00<?, ?it/s]"
      ]
     },
     "metadata": {},
     "output_type": "display_data"
    },
    {
     "data": {
      "application/vnd.jupyter.widget-view+json": {
       "model_id": "",
       "version_major": 2,
       "version_minor": 0
      },
      "text/plain": [
       "Internal trigger:   0%|          | 0/100 [00:00<?, ?it/s]"
      ]
     },
     "metadata": {},
     "output_type": "display_data"
    },
    {
     "data": {
      "application/vnd.jupyter.widget-view+json": {
       "model_id": "",
       "version_major": 2,
       "version_minor": 0
      },
      "text/plain": [
       "Internal trigger:   0%|          | 0/100 [00:00<?, ?it/s]"
      ]
     },
     "metadata": {},
     "output_type": "display_data"
    },
    {
     "data": {
      "application/vnd.jupyter.widget-view+json": {
       "model_id": "",
       "version_major": 2,
       "version_minor": 0
      },
      "text/plain": [
       "Internal trigger:   0%|          | 0/100 [00:00<?, ?it/s]"
      ]
     },
     "metadata": {},
     "output_type": "display_data"
    },
    {
     "data": {
      "application/vnd.jupyter.widget-view+json": {
       "model_id": "",
       "version_major": 2,
       "version_minor": 0
      },
      "text/plain": [
       "Internal trigger:   0%|          | 0/100 [00:00<?, ?it/s]"
      ]
     },
     "metadata": {},
     "output_type": "display_data"
    },
    {
     "data": {
      "application/vnd.jupyter.widget-view+json": {
       "model_id": "",
       "version_major": 2,
       "version_minor": 0
      },
      "text/plain": [
       "Internal trigger:   0%|          | 0/100 [00:00<?, ?it/s]"
      ]
     },
     "metadata": {},
     "output_type": "display_data"
    },
    {
     "data": {
      "application/vnd.jupyter.widget-view+json": {
       "model_id": "",
       "version_major": 2,
       "version_minor": 0
      },
      "text/plain": [
       "Internal trigger:   0%|          | 0/100 [00:00<?, ?it/s]"
      ]
     },
     "metadata": {},
     "output_type": "display_data"
    },
    {
     "data": {
      "application/vnd.jupyter.widget-view+json": {
       "model_id": "",
       "version_major": 2,
       "version_minor": 0
      },
      "text/plain": [
       "Internal trigger:   0%|          | 0/100 [00:00<?, ?it/s]"
      ]
     },
     "metadata": {},
     "output_type": "display_data"
    },
    {
     "data": {
      "application/vnd.jupyter.widget-view+json": {
       "model_id": "",
       "version_major": 2,
       "version_minor": 0
      },
      "text/plain": [
       "Internal trigger:   0%|          | 0/100 [00:00<?, ?it/s]"
      ]
     },
     "metadata": {},
     "output_type": "display_data"
    },
    {
     "data": {
      "application/vnd.jupyter.widget-view+json": {
       "model_id": "",
       "version_major": 2,
       "version_minor": 0
      },
      "text/plain": [
       "Internal trigger:   0%|          | 0/100 [00:00<?, ?it/s]"
      ]
     },
     "metadata": {},
     "output_type": "display_data"
    },
    {
     "data": {
      "application/vnd.jupyter.widget-view+json": {
       "model_id": "",
       "version_major": 2,
       "version_minor": 0
      },
      "text/plain": [
       "Internal trigger:   0%|          | 0/100 [00:00<?, ?it/s]"
      ]
     },
     "metadata": {},
     "output_type": "display_data"
    },
    {
     "data": {
      "application/vnd.jupyter.widget-view+json": {
       "model_id": "",
       "version_major": 2,
       "version_minor": 0
      },
      "text/plain": [
       "Internal trigger:   0%|          | 0/100 [00:00<?, ?it/s]"
      ]
     },
     "metadata": {},
     "output_type": "display_data"
    },
    {
     "data": {
      "application/vnd.jupyter.widget-view+json": {
       "model_id": "",
       "version_major": 2,
       "version_minor": 0
      },
      "text/plain": [
       "Internal trigger:   0%|          | 0/100 [00:00<?, ?it/s]"
      ]
     },
     "metadata": {},
     "output_type": "display_data"
    },
    {
     "data": {
      "application/vnd.jupyter.widget-view+json": {
       "model_id": "",
       "version_major": 2,
       "version_minor": 0
      },
      "text/plain": [
       "Internal trigger:   0%|          | 0/100 [00:00<?, ?it/s]"
      ]
     },
     "metadata": {},
     "output_type": "display_data"
    },
    {
     "data": {
      "application/vnd.jupyter.widget-view+json": {
       "model_id": "",
       "version_major": 2,
       "version_minor": 0
      },
      "text/plain": [
       "Internal trigger:   0%|          | 0/100 [00:00<?, ?it/s]"
      ]
     },
     "metadata": {},
     "output_type": "display_data"
    },
    {
     "data": {
      "application/vnd.jupyter.widget-view+json": {
       "model_id": "",
       "version_major": 2,
       "version_minor": 0
      },
      "text/plain": [
       "Internal trigger:   0%|          | 0/100 [00:00<?, ?it/s]"
      ]
     },
     "metadata": {},
     "output_type": "display_data"
    },
    {
     "data": {
      "application/vnd.jupyter.widget-view+json": {
       "model_id": "",
       "version_major": 2,
       "version_minor": 0
      },
      "text/plain": [
       "Internal trigger:   0%|          | 0/100 [00:00<?, ?it/s]"
      ]
     },
     "metadata": {},
     "output_type": "display_data"
    },
    {
     "data": {
      "application/vnd.jupyter.widget-view+json": {
       "model_id": "",
       "version_major": 2,
       "version_minor": 0
      },
      "text/plain": [
       "Internal trigger:   0%|          | 0/100 [00:00<?, ?it/s]"
      ]
     },
     "metadata": {},
     "output_type": "display_data"
    },
    {
     "data": {
      "application/vnd.jupyter.widget-view+json": {
       "model_id": "",
       "version_major": 2,
       "version_minor": 0
      },
      "text/plain": [
       "Internal trigger:   0%|          | 0/100 [00:00<?, ?it/s]"
      ]
     },
     "metadata": {},
     "output_type": "display_data"
    },
    {
     "data": {
      "application/vnd.jupyter.widget-view+json": {
       "model_id": "",
       "version_major": 2,
       "version_minor": 0
      },
      "text/plain": [
       "Internal trigger:   0%|          | 0/100 [00:00<?, ?it/s]"
      ]
     },
     "metadata": {},
     "output_type": "display_data"
    },
    {
     "data": {
      "application/vnd.jupyter.widget-view+json": {
       "model_id": "",
       "version_major": 2,
       "version_minor": 0
      },
      "text/plain": [
       "Internal trigger:   0%|          | 0/100 [00:00<?, ?it/s]"
      ]
     },
     "metadata": {},
     "output_type": "display_data"
    },
    {
     "data": {
      "application/vnd.jupyter.widget-view+json": {
       "model_id": "",
       "version_major": 2,
       "version_minor": 0
      },
      "text/plain": [
       "Internal trigger:   0%|          | 0/100 [00:00<?, ?it/s]"
      ]
     },
     "metadata": {},
     "output_type": "display_data"
    },
    {
     "data": {
      "application/vnd.jupyter.widget-view+json": {
       "model_id": "",
       "version_major": 2,
       "version_minor": 0
      },
      "text/plain": [
       "Internal trigger:   0%|          | 0/100 [00:00<?, ?it/s]"
      ]
     },
     "metadata": {},
     "output_type": "display_data"
    },
    {
     "data": {
      "application/vnd.jupyter.widget-view+json": {
       "model_id": "",
       "version_major": 2,
       "version_minor": 0
      },
      "text/plain": [
       "Internal trigger:   0%|          | 0/100 [00:00<?, ?it/s]"
      ]
     },
     "metadata": {},
     "output_type": "display_data"
    },
    {
     "data": {
      "application/vnd.jupyter.widget-view+json": {
       "model_id": "",
       "version_major": 2,
       "version_minor": 0
      },
      "text/plain": [
       "Internal trigger:   0%|          | 0/100 [00:00<?, ?it/s]"
      ]
     },
     "metadata": {},
     "output_type": "display_data"
    },
    {
     "data": {
      "application/vnd.jupyter.widget-view+json": {
       "model_id": "",
       "version_major": 2,
       "version_minor": 0
      },
      "text/plain": [
       "Internal trigger:   0%|          | 0/100 [00:00<?, ?it/s]"
      ]
     },
     "metadata": {},
     "output_type": "display_data"
    },
    {
     "data": {
      "application/vnd.jupyter.widget-view+json": {
       "model_id": "",
       "version_major": 2,
       "version_minor": 0
      },
      "text/plain": [
       "Internal trigger:   0%|          | 0/100 [00:00<?, ?it/s]"
      ]
     },
     "metadata": {},
     "output_type": "display_data"
    },
    {
     "data": {
      "application/vnd.jupyter.widget-view+json": {
       "model_id": "",
       "version_major": 2,
       "version_minor": 0
      },
      "text/plain": [
       "Internal trigger:   0%|          | 0/100 [00:00<?, ?it/s]"
      ]
     },
     "metadata": {},
     "output_type": "display_data"
    },
    {
     "data": {
      "application/vnd.jupyter.widget-view+json": {
       "model_id": "",
       "version_major": 2,
       "version_minor": 0
      },
      "text/plain": [
       "Internal trigger:   0%|          | 0/100 [00:00<?, ?it/s]"
      ]
     },
     "metadata": {},
     "output_type": "display_data"
    },
    {
     "data": {
      "application/vnd.jupyter.widget-view+json": {
       "model_id": "",
       "version_major": 2,
       "version_minor": 0
      },
      "text/plain": [
       "Internal trigger:   0%|          | 0/100 [00:00<?, ?it/s]"
      ]
     },
     "metadata": {},
     "output_type": "display_data"
    },
    {
     "data": {
      "application/vnd.jupyter.widget-view+json": {
       "model_id": "",
       "version_major": 2,
       "version_minor": 0
      },
      "text/plain": [
       "Internal trigger:   0%|          | 0/100 [00:00<?, ?it/s]"
      ]
     },
     "metadata": {},
     "output_type": "display_data"
    },
    {
     "data": {
      "application/vnd.jupyter.widget-view+json": {
       "model_id": "",
       "version_major": 2,
       "version_minor": 0
      },
      "text/plain": [
       "Internal trigger:   0%|          | 0/100 [00:00<?, ?it/s]"
      ]
     },
     "metadata": {},
     "output_type": "display_data"
    },
    {
     "data": {
      "application/vnd.jupyter.widget-view+json": {
       "model_id": "",
       "version_major": 2,
       "version_minor": 0
      },
      "text/plain": [
       "Internal trigger:   0%|          | 0/100 [00:00<?, ?it/s]"
      ]
     },
     "metadata": {},
     "output_type": "display_data"
    },
    {
     "data": {
      "application/vnd.jupyter.widget-view+json": {
       "model_id": "",
       "version_major": 2,
       "version_minor": 0
      },
      "text/plain": [
       "Internal trigger:   0%|          | 0/100 [00:00<?, ?it/s]"
      ]
     },
     "metadata": {},
     "output_type": "display_data"
    },
    {
     "data": {
      "application/vnd.jupyter.widget-view+json": {
       "model_id": "",
       "version_major": 2,
       "version_minor": 0
      },
      "text/plain": [
       "Internal trigger:   0%|          | 0/100 [00:00<?, ?it/s]"
      ]
     },
     "metadata": {},
     "output_type": "display_data"
    },
    {
     "data": {
      "application/vnd.jupyter.widget-view+json": {
       "model_id": "",
       "version_major": 2,
       "version_minor": 0
      },
      "text/plain": [
       "Internal trigger:   0%|          | 0/100 [00:00<?, ?it/s]"
      ]
     },
     "metadata": {},
     "output_type": "display_data"
    },
    {
     "name": "stdout",
     "output_type": "stream",
     "text": [
      "Run finished and took 0:03:27.225225.\n",
      "Saving to sequence.8.xz\n",
      "Saving to experiment.yaml\n"
     ]
    }
   ],
   "source": [
    "monty.newrun(\"sequence\", params)\n",
    "\n",
    "# work out what we should be doing for feedback\n",
    "print(\"Measuring initial feedback point\")\n",
    "with device.set_transaction():\n",
    "    synchchannels([])\n",
    "    chan[\"measure\"].spectroscopy.result.length(seq_averages)\n",
    "    chan[\"measure\"].generator.load_sequencer_program(seqc_program_prior_read)\n",
    "\n",
    "time.sleep(1)\n",
    "chan[\"measure\"].spectroscopy.result.length.wait_for_state_change(seq_averages, timeout=10)  # wait for changes to propagate\n",
    "\n",
    "data = [runfeedback()]\n",
    "\n",
    "with device.set_transaction():\n",
    "    synchchannels([\"P1\", \"P2\", \"J\", \"ST\"])\n",
    "    chan[\"measure\"].generator.load_sequencer_program(readout_prog_code)\n",
    "    chan[\"measure\"].spectroscopy.result.length(seq_averages*2)\n",
    "time.sleep(2)\n",
    "\n",
    "result = np.zeros((NUM_J, NUM_DETUNING, 2), dtype=np.complex64)\n",
    "\n",
    "print(\"Sweeping P1, P2 and J\")\n",
    "for i, j in enumerate(tqdm(j_steps, desc=\"J\")):\n",
    "    for k, (p1, p2) in enumerate(zip(tqdm(p1_steps, leave=False, desc=\"Detuning\"), p2_steps)):\n",
    "        movemeasurement(p1, p2, j)  # CT = 1\n",
    "        calculatefeedback(data)  # CT = 0\n",
    "        uploadcts()\n",
    "        data = runexperiment()\n",
    "        result[i, k] = data\n",
    "    monty.snapshot({\"data\": result})\n",
    "\n",
    "monty.save({\"data\": result})"
   ]
  },
  {
   "cell_type": "markdown",
   "id": "0a3ec0d5-6343-434f-b94a-4eb4953a35a9",
   "metadata": {},
   "source": [
    "### Process data"
   ]
  },
  {
   "cell_type": "code",
   "execution_count": 260,
   "id": "2555ae7d-2112-44b8-bb3d-65b189c917b7",
   "metadata": {
    "scrolled": true
   },
   "outputs": [
    {
     "data": {
      "text/plain": [
       "array([[[-8.08495679e-06+2.23503066e-05j,\n",
       "         -1.42732679e-05-1.25756451e-05j],\n",
       "        [ 1.54820597e-07-1.09481116e-05j,\n",
       "         -4.15377644e-06+1.05578083e-05j],\n",
       "        [ 6.56945076e-06-6.50915854e-06j,\n",
       "          7.21408378e-06+4.25260424e-07j],\n",
       "        [-7.63702337e-06-1.47959554e-06j,\n",
       "          5.85809084e-06+3.44634682e-05j],\n",
       "        [-1.00410216e-05-2.08881720e-05j,\n",
       "          5.72139697e-06-5.04827813e-06j],\n",
       "        [ 3.67585344e-05+5.09686515e-06j,\n",
       "          4.93456209e-05-3.22203027e-06j],\n",
       "        [ 1.19015103e-05-3.74178235e-05j,\n",
       "          2.26735665e-06-1.30895978e-06j],\n",
       "        [-1.13127226e-05+2.78270309e-05j,\n",
       "          1.56544138e-05-7.35190270e-06j],\n",
       "        [-4.73660220e-05-3.68172769e-05j,\n",
       "          9.76863066e-06-1.08149216e-05j],\n",
       "        [-2.35745447e-05-5.84149711e-06j,\n",
       "          2.31536669e-05-2.11983552e-05j],\n",
       "        [-3.57985191e-05+2.86634463e-06j,\n",
       "          2.33898609e-05-2.06834898e-06j],\n",
       "        [-2.97286460e-05+1.31988127e-05j,\n",
       "          5.21066283e-07+1.20211007e-05j],\n",
       "        [ 1.43811690e-06-1.31205361e-05j,\n",
       "         -1.85764256e-05-3.70047892e-05j],\n",
       "        [-1.75145360e-05+7.89058140e-06j,\n",
       "          1.54581412e-05+1.32808657e-06j],\n",
       "        [ 2.39518636e-06+3.50542268e-06j,\n",
       "         -3.06757647e-05+4.97476321e-05j],\n",
       "        [-3.98888915e-05-7.89928345e-06j,\n",
       "          5.62841251e-06-2.30071455e-05j],\n",
       "        [ 1.20549448e-05-2.43081922e-05j,\n",
       "          8.93582273e-06+2.06175573e-05j],\n",
       "        [-2.09293066e-05-1.42656718e-05j,\n",
       "         -1.86160614e-05+2.76788660e-06j],\n",
       "        [ 1.42555268e-06+2.28039462e-05j,\n",
       "         -2.56760395e-05-1.29836462e-05j],\n",
       "        [-1.82785770e-05-1.11518398e-06j,\n",
       "          1.27895919e-05-2.78327461e-05j],\n",
       "        [ 7.64235119e-06-2.08636884e-05j,\n",
       "         -3.99303135e-05-2.39697165e-05j],\n",
       "        [-2.99856492e-05+2.25702042e-05j,\n",
       "         -2.96423732e-05+2.50642588e-05j],\n",
       "        [ 1.68937859e-05+3.69619306e-06j,\n",
       "          1.45661388e-05+1.90673691e-05j],\n",
       "        [-1.61423141e-05+1.12714515e-05j,\n",
       "          4.92797444e-05-2.25872591e-05j],\n",
       "        [-1.62682718e-05+7.46111027e-06j,\n",
       "          1.80035477e-05-1.69186042e-05j],\n",
       "        [ 4.15902796e-05+1.63069635e-05j,\n",
       "          5.30567377e-06-1.72798104e-06j],\n",
       "        [ 1.45101603e-05-9.79941797e-06j,\n",
       "          1.19122033e-05-3.97616568e-05j],\n",
       "        [ 2.08772799e-05-1.03638631e-05j,\n",
       "          9.65915024e-06-9.83128211e-06j],\n",
       "        [-5.68701535e-06+2.83574514e-06j,\n",
       "          1.97108125e-06+1.30046546e-05j],\n",
       "        [-2.59523822e-05-1.13419617e-06j,\n",
       "          3.33475618e-05-5.42088746e-05j],\n",
       "        [ 2.07570588e-06-1.72561395e-05j,\n",
       "          5.15037345e-06-6.12561053e-07j],\n",
       "        [-1.63083296e-05-9.14264911e-06j,\n",
       "         -3.60514719e-06+1.03444054e-05j],\n",
       "        [-5.19772766e-05+4.46055492e-05j,\n",
       "          1.13815315e-06+1.53441688e-05j],\n",
       "        [-2.73837322e-05-1.26740633e-05j,\n",
       "         -2.60469114e-05+1.41436567e-05j],\n",
       "        [ 1.57757931e-05-1.28478687e-05j,\n",
       "         -1.20155537e-05-2.28457902e-05j],\n",
       "        [ 1.72337004e-05-1.23613418e-05j,\n",
       "          3.62401283e-06-4.19303724e-05j],\n",
       "        [-1.85751160e-05+6.85966995e-07j,\n",
       "          2.08541733e-05-1.06152111e-05j],\n",
       "        [-4.41740985e-06-2.24249998e-05j,\n",
       "         -4.09772802e-05-4.17636438e-05j],\n",
       "        [ 1.51177946e-05+4.91244537e-05j,\n",
       "          1.14670729e-05+5.32843501e-07j],\n",
       "        [ 1.25022289e-05-2.96016642e-05j,\n",
       "          1.45854419e-05+1.72143646e-05j],\n",
       "        [-3.15286852e-05+1.86558020e-06j,\n",
       "          7.56603185e-06+7.71979376e-06j],\n",
       "        [ 1.51908707e-05-2.54105998e-05j,\n",
       "          1.38911423e-06-2.84326034e-05j],\n",
       "        [ 8.21873891e-06-4.12293275e-06j,\n",
       "          9.95632581e-06-2.20693801e-06j],\n",
       "        [ 2.21258197e-05-1.62556353e-05j,\n",
       "          3.85420535e-05+1.90222781e-05j],\n",
       "        [-2.53970538e-05-2.73527476e-05j,\n",
       "          2.33006449e-05-1.02730555e-05j],\n",
       "        [-1.04385781e-05+9.02426052e-07j,\n",
       "          9.79720244e-06-5.95324491e-06j],\n",
       "        [ 2.38441698e-05-1.19818869e-05j,\n",
       "          1.23953896e-05+1.25230699e-05j],\n",
       "        [-9.67382675e-06-2.96422986e-05j,\n",
       "         -3.99739183e-05+1.15825742e-05j],\n",
       "        [-9.84564053e-07+2.90079015e-06j,\n",
       "         -1.26928471e-05-1.56769565e-05j],\n",
       "        [-1.23257081e-07-5.76940420e-06j,\n",
       "         -1.58734238e-07+3.58542275e-05j],\n",
       "        [-3.07531445e-05+8.85602731e-06j,\n",
       "          4.32244815e-06-1.90968785e-05j],\n",
       "        [-4.47390084e-05+1.46370048e-05j,\n",
       "          4.86817517e-05+3.25638539e-05j],\n",
       "        [-1.24755916e-05+2.91039996e-05j,\n",
       "          1.92769603e-05-1.45566378e-06j],\n",
       "        [ 1.32728001e-05-1.58229068e-05j,\n",
       "          1.61961816e-05+7.70540919e-06j],\n",
       "        [ 3.71509595e-05+2.23536990e-05j,\n",
       "          1.37715724e-05+3.67683856e-06j],\n",
       "        [-2.92734313e-07-3.65053643e-06j,\n",
       "          3.95518191e-06-2.27247383e-05j],\n",
       "        [ 5.22550363e-06+4.23149504e-06j,\n",
       "          6.03573244e-06+5.81595668e-06j],\n",
       "        [ 2.72796624e-05-8.22603397e-07j,\n",
       "         -9.49856803e-06+2.62339872e-05j],\n",
       "        [-2.31667727e-05+1.83311768e-05j,\n",
       "          6.08074561e-06+1.14875847e-05j],\n",
       "        [-3.80219280e-05+7.68233713e-06j,\n",
       "          1.84201199e-05-6.75127376e-06j],\n",
       "        [ 8.37737389e-06+1.47134888e-05j,\n",
       "          1.25709676e-05-9.46906130e-06j],\n",
       "        [-2.91750966e-05+4.59143885e-05j,\n",
       "          4.26183760e-05-2.28295921e-05j],\n",
       "        [-7.34236801e-06-7.96070344e-06j,\n",
       "         -1.45267122e-05+2.19951580e-05j],\n",
       "        [-1.96550045e-05+1.86581819e-05j,\n",
       "          1.28757456e-05-3.54264484e-05j],\n",
       "        [ 1.12879343e-05+5.67089955e-06j,\n",
       "          2.13142685e-05+1.25233028e-05j],\n",
       "        [ 3.49059264e-05+9.99632175e-06j,\n",
       "         -2.48581964e-05-8.30045246e-06j],\n",
       "        [ 3.43362103e-06-1.68098668e-05j,\n",
       "         -1.17951013e-05+1.99565675e-05j],\n",
       "        [-4.43806584e-06+3.47938203e-06j,\n",
       "          1.19621309e-05+1.30010164e-07j],\n",
       "        [ 1.63740933e-05-5.09702204e-06j,\n",
       "         -6.36069501e-07+9.35128810e-06j],\n",
       "        [ 3.59295082e-05+4.71785897e-05j,\n",
       "         -1.57084207e-06+2.86173804e-06j],\n",
       "        [-2.24926807e-05-1.55151010e-05j,\n",
       "         -7.48303637e-06+9.58735018e-06j],\n",
       "        [ 1.17826448e-05-1.42064127e-05j,\n",
       "          3.52173010e-05-8.95570429e-06j],\n",
       "        [ 8.94294885e-07+8.75968169e-07j,\n",
       "         -1.05306435e-05-2.20676447e-05j],\n",
       "        [-1.28503470e-05-7.37249184e-06j,\n",
       "         -2.82574229e-06+2.53498129e-05j],\n",
       "        [-1.70429084e-05+2.56760795e-05j,\n",
       "          1.10476039e-05-2.05584638e-05j],\n",
       "        [-1.97748650e-05+5.57321391e-06j,\n",
       "         -4.50128073e-06+1.04537526e-06j],\n",
       "        [ 9.87233852e-06-3.25185501e-05j,\n",
       "         -1.34364984e-06-8.15248677e-06j],\n",
       "        [ 7.83491032e-06-3.02173680e-06j,\n",
       "         -1.78483569e-05-2.33903083e-05j],\n",
       "        [ 4.99763655e-06-1.44067553e-06j,\n",
       "         -1.13629358e-05+2.45268311e-05j],\n",
       "        [-2.67218857e-05-2.20982383e-05j,\n",
       "         -1.42809458e-05+3.36444850e-06j],\n",
       "        [ 1.54560767e-05-1.36229037e-05j,\n",
       "         -2.58593536e-06-3.84656141e-06j],\n",
       "        [-1.09012444e-05-4.37064318e-06j,\n",
       "          4.31576382e-06+1.71552638e-05j],\n",
       "        [ 2.94602469e-05+3.78788209e-05j,\n",
       "         -1.27875310e-05-1.79943308e-05j],\n",
       "        [-7.24227277e-07-1.08036866e-05j,\n",
       "          9.64506671e-06+5.63124649e-06j],\n",
       "        [-9.60204306e-06+3.60719150e-06j,\n",
       "         -2.30516416e-05+2.43229788e-05j],\n",
       "        [ 1.01416717e-05+3.95260759e-05j,\n",
       "         -2.29455523e-07+6.08219671e-06j],\n",
       "        [-9.95880691e-06+1.53093097e-05j,\n",
       "         -9.94936909e-06-2.87178427e-05j],\n",
       "        [-4.53800521e-06+2.35306743e-05j,\n",
       "         -1.76222693e-05-2.63217062e-05j],\n",
       "        [-3.94519957e-05-1.20765014e-06j,\n",
       "         -2.95279096e-05-2.74242611e-05j],\n",
       "        [ 2.73765818e-05-1.27507446e-05j,\n",
       "          5.18441129e-06+2.68994845e-05j],\n",
       "        [-7.59302111e-06-9.24717733e-06j,\n",
       "          3.03896886e-05+1.23728723e-05j],\n",
       "        [ 4.10066878e-06-2.10717735e-05j,\n",
       "         -2.35381831e-05+4.23006350e-05j],\n",
       "        [-3.36229255e-06-1.34709417e-05j,\n",
       "          1.87805053e-05+1.59973097e-05j],\n",
       "        [-8.33498325e-06-5.39200437e-06j,\n",
       "         -7.78954200e-06-3.83812294e-05j],\n",
       "        [-1.75055220e-07-2.41446705e-05j,\n",
       "          5.25302676e-06-9.02971988e-06j],\n",
       "        [ 4.99370390e-06-2.84825492e-05j,\n",
       "         -3.57817080e-05+1.77680558e-05j],\n",
       "        [-1.02626536e-05-6.93416223e-06j,\n",
       "         -3.72581089e-05-2.23821989e-05j],\n",
       "        [-1.36307999e-05-2.05211491e-05j,\n",
       "         -2.09495147e-06+1.60845939e-05j],\n",
       "        [-4.12459885e-05+1.38866353e-05j,\n",
       "          8.58432486e-06+1.84133169e-05j],\n",
       "        [ 2.23164825e-05-2.46549498e-05j,\n",
       "          7.84898657e-06-5.41943245e-06j]]], dtype=complex64)"
      ]
     },
     "execution_count": 260,
     "metadata": {},
     "output_type": "execute_result"
    }
   ],
   "source": [
    "#result"
   ]
  },
  {
   "cell_type": "code",
   "execution_count": 261,
   "id": "e8c93487-018e-49f4-bb93-bd7489c6c8a0",
   "metadata": {},
   "outputs": [],
   "source": [
    "# split into axes\n",
    "Xl = np.real(result)\n",
    "Yl = np.imag(result)\n",
    "\n",
    "Xr = Xl[:, :, 0] #- Xl[:, :, 0]\n",
    "Yr = Xl[:, :, 1] #- Yl[:, :, 0]\n",
    "\n",
    "Xi = Yl[:, :, 0] #- Xl[:, :, 0]\n",
    "Yi = Yl[:, :, 1]"
   ]
  },
  {
   "cell_type": "code",
   "execution_count": 262,
   "id": "b432599b-6c74-441e-8508-9c24f8f09e15",
   "metadata": {},
   "outputs": [
    {
     "data": {
      "text/plain": [
       "array([[-8.0849568e-06+2.23503066e-05j,  1.5482060e-07-1.09481116e-05j,\n",
       "         6.5694508e-06-6.50915854e-06j, -7.6370234e-06-1.47959554e-06j,\n",
       "        -1.0041022e-05-2.08881720e-05j,  3.6758534e-05+5.09686515e-06j,\n",
       "         1.1901510e-05-3.74178235e-05j, -1.1312723e-05+2.78270309e-05j,\n",
       "        -4.7366022e-05-3.68172769e-05j, -2.3574545e-05-5.84149711e-06j,\n",
       "        -3.5798519e-05+2.86634463e-06j, -2.9728646e-05+1.31988127e-05j,\n",
       "         1.4381169e-06-1.31205361e-05j, -1.7514536e-05+7.89058140e-06j,\n",
       "         2.3951864e-06+3.50542268e-06j, -3.9888891e-05-7.89928345e-06j,\n",
       "         1.2054945e-05-2.43081922e-05j, -2.0929307e-05-1.42656718e-05j,\n",
       "         1.4255527e-06+2.28039462e-05j, -1.8278577e-05-1.11518398e-06j,\n",
       "         7.6423512e-06-2.08636884e-05j, -2.9985649e-05+2.25702042e-05j,\n",
       "         1.6893786e-05+3.69619306e-06j, -1.6142314e-05+1.12714515e-05j,\n",
       "        -1.6268272e-05+7.46111027e-06j,  4.1590280e-05+1.63069635e-05j,\n",
       "         1.4510160e-05-9.79941797e-06j,  2.0877280e-05-1.03638631e-05j,\n",
       "        -5.6870153e-06+2.83574514e-06j, -2.5952382e-05-1.13419617e-06j,\n",
       "         2.0757059e-06-1.72561395e-05j, -1.6308330e-05-9.14264911e-06j,\n",
       "        -5.1977277e-05+4.46055492e-05j, -2.7383732e-05-1.26740633e-05j,\n",
       "         1.5775793e-05-1.28478687e-05j,  1.7233700e-05-1.23613418e-05j,\n",
       "        -1.8575116e-05+6.85966995e-07j, -4.4174099e-06-2.24249998e-05j,\n",
       "         1.5117795e-05+4.91244537e-05j,  1.2502229e-05-2.96016642e-05j,\n",
       "        -3.1528685e-05+1.86558020e-06j,  1.5190871e-05-2.54105998e-05j,\n",
       "         8.2187389e-06-4.12293275e-06j,  2.2125820e-05-1.62556353e-05j,\n",
       "        -2.5397054e-05-2.73527476e-05j, -1.0438578e-05+9.02426052e-07j,\n",
       "         2.3844170e-05-1.19818869e-05j, -9.6738268e-06-2.96422986e-05j,\n",
       "        -9.8456405e-07+2.90079015e-06j, -1.2325708e-07-5.76940420e-06j,\n",
       "        -3.0753145e-05+8.85602731e-06j, -4.4739008e-05+1.46370048e-05j,\n",
       "        -1.2475592e-05+2.91039996e-05j,  1.3272800e-05-1.58229068e-05j,\n",
       "         3.7150960e-05+2.23536990e-05j, -2.9273431e-07-3.65053643e-06j,\n",
       "         5.2255036e-06+4.23149504e-06j,  2.7279662e-05-8.22603397e-07j,\n",
       "        -2.3166773e-05+1.83311768e-05j, -3.8021928e-05+7.68233713e-06j,\n",
       "         8.3773739e-06+1.47134888e-05j, -2.9175097e-05+4.59143885e-05j,\n",
       "        -7.3423680e-06-7.96070344e-06j, -1.9655005e-05+1.86581819e-05j,\n",
       "         1.1287934e-05+5.67089955e-06j,  3.4905926e-05+9.99632175e-06j,\n",
       "         3.4336210e-06-1.68098668e-05j, -4.4380658e-06+3.47938203e-06j,\n",
       "         1.6374093e-05-5.09702204e-06j,  3.5929508e-05+4.71785897e-05j,\n",
       "        -2.2492681e-05-1.55151010e-05j,  1.1782645e-05-1.42064127e-05j,\n",
       "         8.9429489e-07+8.75968169e-07j, -1.2850347e-05-7.37249184e-06j,\n",
       "        -1.7042908e-05+2.56760795e-05j, -1.9774865e-05+5.57321391e-06j,\n",
       "         9.8723385e-06-3.25185501e-05j,  7.8349103e-06-3.02173680e-06j,\n",
       "         4.9976366e-06-1.44067553e-06j, -2.6721886e-05-2.20982383e-05j,\n",
       "         1.5456077e-05-1.36229037e-05j, -1.0901244e-05-4.37064318e-06j,\n",
       "         2.9460247e-05+3.78788209e-05j, -7.2422728e-07-1.08036866e-05j,\n",
       "        -9.6020431e-06+3.60719150e-06j,  1.0141672e-05+3.95260759e-05j,\n",
       "        -9.9588069e-06+1.53093097e-05j, -4.5380052e-06+2.35306743e-05j,\n",
       "        -3.9451996e-05-1.20765014e-06j,  2.7376582e-05-1.27507446e-05j,\n",
       "        -7.5930211e-06-9.24717733e-06j,  4.1006688e-06-2.10717735e-05j,\n",
       "        -3.3622925e-06-1.34709417e-05j, -8.3349832e-06-5.39200437e-06j,\n",
       "        -1.7505522e-07-2.41446705e-05j,  4.9937039e-06-2.84825492e-05j,\n",
       "        -1.0262654e-05-6.93416223e-06j, -1.3630800e-05-2.05211491e-05j,\n",
       "        -4.1245989e-05+1.38866353e-05j,  2.2316483e-05-2.46549498e-05j]],\n",
       "      dtype=complex64)"
      ]
     },
     "execution_count": 262,
     "metadata": {},
     "output_type": "execute_result"
    }
   ],
   "source": [
    "#result[:, :, 0]\n"
   ]
  },
  {
   "cell_type": "code",
   "execution_count": 263,
   "id": "5a25769b-c520-43f9-b5ea-ce687e726621",
   "metadata": {},
   "outputs": [
    {
     "data": {
      "text/plain": [
       "(1, 100)"
      ]
     },
     "execution_count": 263,
     "metadata": {},
     "output_type": "execute_result"
    }
   ],
   "source": [
    "# X.shape"
   ]
  },
  {
   "cell_type": "code",
   "execution_count": 264,
   "id": "8d5edd4a-848b-456c-8473-88d00f86d91b",
   "metadata": {},
   "outputs": [
    {
     "data": {
      "image/png": "[encoded data removed]",
      "text/plain": [
       "<Figure size 640x480 with 2 Axes>"
      ]
     },
     "metadata": {},
     "output_type": "display_data"
    }
   ],
   "source": [
    "fig, (ax0, ax1) = plt.subplots(nrows = 2, sharex = True)\n",
    "\n",
    "ax0.plot(p1_steps, Xr[0, :], \".-\", color=\"steelblue\")\n",
    "ax1.plot(p1_steps, Yr[0, :], \".-\", color=\"orange\")\n",
    "\n",
    "ax0.set_ylabel(\"X Reference\")\n",
    "ax1.set_ylabel(\"Y Measurement\")\n",
    "ax0.set_title(monty.identifier + \".\" + monty.runname)\n",
    "ax1.set_xlabel(\"P1 voltage\")\n",
    "plt.title(monty.identifier + \".\" + monty.runname + \"real\")\n",
    "\n",
    "ax0.grid()\n",
    "ax1.grid()\n",
    "\n",
    "fig.align_ylabels([ax0, ax1])\n",
    "plt.tight_layout()\n",
    "\n",
    "monty.savefig(plt, \"real detuning\")"
   ]
  },
  {
   "cell_type": "code",
   "execution_count": 265,
   "id": "35a2fac5-a5ee-4f77-950b-3b13d9177603",
   "metadata": {},
   "outputs": [
    {
     "data": {
      "image/png": "[encoded data removed]",
      "text/plain": [
       "<Figure size 640x480 with 2 Axes>"
      ]
     },
     "metadata": {},
     "output_type": "display_data"
    }
   ],
   "source": [
    "fig, (ax0, ax1) = plt.subplots(nrows = 2, sharex = True)\n",
    "\n",
    "ax0.plot(p1_steps, Xi[0, :], \".-\", color=\"steelblue\")\n",
    "ax1.plot(p1_steps, Yi[0, :], \".-\", color=\"orange\")\n",
    "\n",
    "ax0.set_ylabel(\"X Reference\")\n",
    "ax1.set_ylabel(\"Y Measurement\")\n",
    "ax0.set_title(monty.identifier + \".\" + monty.runname)\n",
    "ax1.set_xlabel(\"P1 voltage\")\n",
    "plt.title(monty.identifier + \".\" + monty.runname + \"imag\")\n",
    "\n",
    "ax0.grid()\n",
    "ax1.grid()\n",
    "\n",
    "fig.align_ylabels([ax0, ax1])\n",
    "plt.tight_layout()\n",
    "\n",
    "monty.savefig(plt, \"imag detuning\")"
   ]
  },
  {
   "cell_type": "code",
   "execution_count": 266,
   "id": "0528ad36-1347-42d2-a2f3-0a90cd0d675c",
   "metadata": {},
   "outputs": [
    {
     "data": {
      "image/png": "[encoded data removed]",
      "text/plain": [
       "<Figure size 640x480 with 2 Axes>"
      ]
     },
     "metadata": {},
     "output_type": "display_data"
    },
    {
     "data": {
      "image/png": "[encoded data removed]",
      "text/plain": [
       "<Figure size 640x480 with 2 Axes>"
      ]
     },
     "metadata": {},
     "output_type": "display_data"
    }
   ],
   "source": [
    "# 2D plots reference\n",
    "\n",
    "plt.figure()\n",
    "plt.pcolormesh(p1_steps, j_steps, Xr, shading=\"nearest\")\n",
    "plt.colorbar()\n",
    "plt.ylabel(\"J voltage (V)\")\n",
    "plt.xlabel(\"Detuning (V)\")\n",
    "plt.title(monty.identifier + \".\" + monty.runname + \"2d\")\n",
    "#monty.savefig(plt, \"stability forward\")\n",
    "plt.show()\n",
    "\n",
    "plt.figure()\n",
    "plt.pcolormesh(p1_steps, j_steps, Xi, shading=\"nearest\")\n",
    "plt.colorbar()\n",
    "plt.ylabel(\"J voltage (V)\")\n",
    "plt.xlabel(\"Detuning (V)\")\n",
    "plt.title(monty.identifier + \".\" + monty.runname + \"2d\")\n",
    "#monty.savefig(plt, \"stability forward\")\n",
    "plt.show()"
   ]
  },
  {
   "cell_type": "code",
   "execution_count": 267,
   "id": "a6c22fbd-13c1-435f-84c0-f5c04591b705",
   "metadata": {},
   "outputs": [
    {
     "data": {
      "image/png": "[encoded data removed]",
      "text/plain": [
       "<Figure size 640x480 with 2 Axes>"
      ]
     },
     "metadata": {},
     "output_type": "display_data"
    },
    {
     "data": {
      "image/png": "[encoded data removed]",
      "text/plain": [
       "<Figure size 640x480 with 2 Axes>"
      ]
     },
     "metadata": {},
     "output_type": "display_data"
    }
   ],
   "source": [
    "# 2D plots real\n",
    "\n",
    "plt.figure()\n",
    "plt.pcolormesh(p1_steps, j_steps, Yr, shading=\"nearest\")\n",
    "plt.colorbar()\n",
    "plt.ylabel(\"J voltage (V)\")\n",
    "plt.xlabel(\"Detuning (V)\")\n",
    "plt.title(monty.identifier + \".\" + monty.runname + \"2d\")\n",
    "#monty.savefig(plt, \"stability forward\")\n",
    "plt.show()\n",
    "\n",
    "plt.figure()\n",
    "plt.pcolormesh(p1_steps, j_steps, Yi, shading=\"nearest\")\n",
    "plt.colorbar()\n",
    "plt.ylabel(\"J voltage (V)\")\n",
    "plt.xlabel(\"Detuning (V)\")\n",
    "plt.title(monty.identifier + \".\" + monty.runname + \"2d\")\n",
    "#monty.savefig(plt, \"stability forward\")\n",
    "plt.show()"
   ]
  },
  {
   "cell_type": "code",
   "execution_count": 268,
   "id": "6ce8357e-9126-4f7a-a225-232e48a5d27d",
   "metadata": {},
   "outputs": [],
   "source": [
    "# Histogram, good for eventual qubit measurements\n",
    "\n",
    "# plt.figure()\n",
    "# plt.hist(Xr,100)\n",
    "# plt.ylabel('Counts')\n",
    "# plt.xlabel('Xr voltage')\n",
    "# plt.title(monty.identifier + \".\" + monty.runname + \"hist\")\n"
   ]
  },
  {
   "cell_type": "code",
   "execution_count": 269,
   "id": "60a01cb6-6984-432f-8f4c-f695b2663cc9",
   "metadata": {},
   "outputs": [
    {
     "data": {
      "text/plain": [
       "0.0006"
      ]
     },
     "execution_count": 269,
     "metadata": {},
     "output_type": "execute_result"
    }
   ],
   "source": [
    "init_len"
   ]
  },
  {
   "cell_type": "code",
   "execution_count": null,
   "id": "afcd290a-ab1d-4979-a655-19e0a0b7eb48",
   "metadata": {},
   "outputs": [],
   "source": []
  },
  {
   "cell_type": "code",
   "execution_count": null,
   "id": "f33be977438eaa64",
   "metadata": {
    "ExecuteTime": {
     "end_time": "2024-06-11T04:07:30.771243Z",
     "start_time": "2024-06-11T04:07:30.756196Z"
    },
    "collapsed": false,
    "jupyter": {
     "outputs_hidden": false
    }
   },
   "outputs": [],
   "source": []
  },
  {
   "cell_type": "code",
   "execution_count": 270,
   "id": "b5df8360-3ee1-4c55-9b8d-6d5c83621cb0",
   "metadata": {},
   "outputs": [],
   "source": [
    "Xr = result[:, :, 0] #- Xl[:, :, 0]\n",
    "Yr = result[:, :, 1] #- Yl[:, :, 0]"
   ]
  },
  {
   "cell_type": "code",
   "execution_count": null,
   "id": "fde20fa2-8469-4d21-b384-02af381d776a",
   "metadata": {},
   "outputs": [],
   "source": []
  },
  {
   "cell_type": "code",
   "execution_count": 271,
   "id": "add8801f-602a-4e54-9627-da1cd5a49e8f",
   "metadata": {},
   "outputs": [],
   "source": [
    "power = 10*np.log10(np.abs(Xr)**2/50*1000)\n",
    "phase = np.unwrap(np.angle(Xr))"
   ]
  },
  {
   "cell_type": "code",
   "execution_count": 277,
   "id": "2031960e-2148-4bf4-acfa-ee2af93f7639",
   "metadata": {},
   "outputs": [
    {
     "data": {
      "image/png": "[encoded data removed]",
      "text/plain": [
       "<Figure size 640x480 with 2 Axes>"
      ]
     },
     "metadata": {},
     "output_type": "display_data"
    },
    {
     "data": {
      "image/png": "[encoded data removed]",
      "text/plain": [
       "<Figure size 640x480 with 2 Axes>"
      ]
     },
     "metadata": {},
     "output_type": "display_data"
    }
   ],
   "source": [
    "#plt.plot(p1_steps, power[0,:], \".-\", color=\"orange\")\n",
    "\n",
    "plt.figure()\n",
    "plt.pcolormesh(p1_steps, j_steps, power, shading=\"nearest\")\n",
    "plt.colorbar()\n",
    "plt.ylabel(\"J voltage (V)\")\n",
    "plt.xlabel(\"Detuning (V)\")\n",
    "plt.title(monty.identifier + \".\" + monty.runname + \"2d power\")\n",
    "#monty.savefig(plt, \"stability forward\")\n",
    "plt.show()\n",
    "\n",
    "plt.figure()\n",
    "plt.pcolormesh(p1_steps, j_steps, phase, shading=\"nearest\")\n",
    "plt.colorbar()\n",
    "plt.ylabel(\"J voltage (V)\")\n",
    "plt.xlabel(\"Detuning (V)\")\n",
    "plt.title(monty.identifier + \".\" + monty.runname + \"2d phase\")\n",
    "#monty.savefig(plt, \"stability forward\")\n",
    "plt.show()"
   ]
  },
  {
   "cell_type": "code",
   "execution_count": 273,
   "id": "5fea308b-c13e-4977-adfe-61f2cbd9353c",
   "metadata": {},
   "outputs": [
    {
     "data": {
      "text/plain": [
       "[<matplotlib.lines.Line2D at 0x1c219c126c0>]"
      ]
     },
     "execution_count": 273,
     "metadata": {},
     "output_type": "execute_result"
    },
    {
     "data": {
      "image/png": "[encoded data removed]",
      "text/plain": [
       "<Figure size 640x480 with 1 Axes>"
      ]
     },
     "metadata": {},
     "output_type": "display_data"
    }
   ],
   "source": [
    "plt.plot(p1_steps, phase[0,:], \".-\", color=\"orange\")"
   ]
  },
  {
   "cell_type": "code",
   "execution_count": 276,
   "id": "b8ae0d2d-28eb-41ea-9c72-c9f6b05a84b1",
   "metadata": {},
   "outputs": [
    {
     "data": {
      "text/plain": [
       "array([[ 0,  1,  4],\n",
       "       [ 9, 16, 25],\n",
       "       [36, 49, 64]])"
      ]
     },
     "execution_count": 276,
     "metadata": {},
     "output_type": "execute_result"
    }
   ],
   "source": []
  },
  {
   "cell_type": "code",
   "execution_count": null,
   "id": "480111bf-ba6f-4e4e-b11d-b51713541512",
   "metadata": {},
   "outputs": [],
   "source": []
  },
  {
   "cell_type": "code",
   "execution_count": null,
   "id": "e244b071-6efe-4dab-b08f-6c08ff692066",
   "metadata": {},
   "outputs": [],
   "source": []
  }
 ],
 "metadata": {
  "kernelspec": {
   "display_name": "Python 3 (ipykernel)",
   "language": "python",
   "name": "python3"
  },
  "language_info": {
   "codemirror_mode": {
    "name": "ipython",
    "version": 3
   },
   "file_extension": ".py",
   "mimetype": "text/x-python",
   "name": "python",
   "nbconvert_exporter": "python",
   "pygments_lexer": "ipython3",
   "version": "3.12.3"
  }
 },
 "nbformat": 4,
 "nbformat_minor": 5
}
