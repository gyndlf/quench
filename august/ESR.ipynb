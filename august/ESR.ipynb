{
 "cells": [
  {
   "cell_type": "markdown",
   "id": "0b9630b2-9061-4601-8bf2-365a76778a86",
   "metadata": {},
   "source": [
    "# Electron Spin Resonance\n",
    "\n",
    "Now using similar functions to the updated pauli notebook."
   ]
  },
  {
   "cell_type": "code",
   "execution_count": 1,
   "id": "3599c336-bf8c-4266-baa1-a5bb2ed526be",
   "metadata": {},
   "outputs": [
    {
     "name": "stdout",
     "output_type": "stream",
     "text": [
      "Added 'quench/' and 'quench/libraries' for easy importing.\n"
     ]
    }
   ],
   "source": [
    "%matplotlib inline\n",
    "import local_broom"
   ]
  },
  {
   "cell_type": "code",
   "execution_count": 2,
   "id": "30b3973e-d6e6-4fb7-9156-772652186e2e",
   "metadata": {},
   "outputs": [],
   "source": [
    "# Automagically reload modules when they are edited\n",
    "%load_ext autoreload\n",
    "%autoreload 2"
   ]
  },
  {
   "cell_type": "code",
   "execution_count": 17,
   "id": "3a6b0802-0279-47ab-85f9-8b31a1a06ae5",
   "metadata": {},
   "outputs": [],
   "source": [
    "import matplotlib.pyplot as plt\n",
    "import numpy as np\n",
    "from tqdm.notebook import tqdm\n",
    "from qcodes import Instrument, Station\n",
    "from monty import Monty\n",
    "import MDAC\n",
    "from may.dots import getvoltages\n",
    "from may.custom_devices import connect_to_gb, newSiDot\n",
    "from liveplot import LivePlot\n",
    "from fridge import Fridge\n",
    "import esr\n",
    "from shfqc import SHFQC\n",
    "from monty import Monty\n",
    "import time\n",
    "import logging"
   ]
  },
  {
   "cell_type": "code",
   "execution_count": 38,
   "id": "821b6f56-0ec5-4631-a236-e427189cf846",
   "metadata": {},
   "outputs": [
    {
     "name": "stdout",
     "output_type": "stream",
     "text": [
      "Connecting to device DEV12158\n",
      "Creating new command tables\n"
     ]
    }
   ],
   "source": [
    "channels = [\"ST\", \"P1\", \"P2\", \"J\", \"MW\"]\n",
    "channel_addr = [0, 1, 2, 3, 5]\n",
    "\n",
    "shfqc = SHFQC(channels, channel_addr, \"measure\")\n",
    "shfqc.connect()"
   ]
  },
  {
   "cell_type": "code",
   "execution_count": 5,
   "id": "4a4e8654-4d9b-49b0-a779-162f410f0b80",
   "metadata": {},
   "outputs": [
    {
     "name": "stdout",
     "output_type": "stream",
     "text": [
      "Attempting to remove instrument with name mdac. Does not exist\n",
      "Connected to: QNL Sydney MDAC (serial:0x32353532353551040030003E, firmware:1.8) in 4.22s\n",
      "Cannot remove instrument with name sr860_top. Does not exist\n",
      "Connected to: Stanford_Research_Systems SR860 (serial:004279, firmware:V1.51) in 0.12s\n",
      "Loading GB driver and connecting\n",
      "Manually Open Breakout_box_top_ch15_LCB\n",
      "Manually Open Breakout_box_bot_ch09_RCB\n",
      "Manually Open Breakout_box_bot_ch17_RG\n",
      "Manually Open Breakout_box_top_ch17_ResB\n",
      "Manually Open Breakout_box_top_ch19_P3\n",
      "Manually Open Breakout_box_top_ch13_P2\n",
      "Manually Open Breakout_box_top_ch04_P1\n",
      "Manually Open Breakout_box_top_ch02_SETB\n",
      "Manually Open Breakout_box_bot_ch04_SRB\n",
      "Manually Open Breakout_box_bot_ch06_SLB\n",
      "Manually Open Breakout_box_top_ch10_ST\n",
      "Manually Open Breakout_box_top_ch25_bias\n",
      "Using base URL https://qphys1114.research.ext.sydney.edu.au/therm_flask/BlueFors_LD\n"
     ]
    }
   ],
   "source": [
    "try:\n",
    "    mdac = Instrument.find_instrument(\"mdac\")\n",
    "    mdac.close()\n",
    "except KeyError:\n",
    "    print('Attempting to remove instrument with name mdac. Does not exist')\n",
    "\n",
    "mdac = MDAC.MDAC('mdac', 'ASRL11::INSTR')\n",
    "\n",
    "try:\n",
    "    lockin = Instrument.find_instrument(\"sr860_top\")\n",
    "    lockin.close()\n",
    "except KeyError:\n",
    "    print(\"Cannot remove instrument with name sr860_top. Does not exist\")\n",
    "\n",
    "scfg = Station(config_file='/Users/LD2007/Documents/Si_CMOS_james/measurements/system.yaml')\n",
    "\n",
    "lockin = scfg.load_instrument('sr860_top')\n",
    "# psg = scfg.load_instrument('PSG')\n",
    "\n",
    "gb_control_si = connect_to_gb(mdac)  # Create our custom MDAC mappings\n",
    "si = newSiDot(mdac)\n",
    "fridge = Fridge(\"BlueFors_LD\")"
   ]
  },
  {
   "cell_type": "code",
   "execution_count": 6,
   "id": "0adb6684-476d-4e72-809a-455280af03bb",
   "metadata": {
    "scrolled": true
   },
   "outputs": [],
   "source": [
    "#from qcodes.instrument_drivers.agilent.E8267C import E8267\n",
    "\n",
    "#psg = E8267('psg', 'TCPIP0::192.168.0.102::inst0::INSTR')\n",
    "\n",
    "# need to configure PSG manually"
   ]
  },
  {
   "cell_type": "code",
   "execution_count": 53,
   "id": "f192e243-d573-4f40-b28f-15185dd0818b",
   "metadata": {},
   "outputs": [
    {
     "name": "stdout",
     "output_type": "stream",
     "text": [
      "Disconnecting from device DEV12158\n"
     ]
    }
   ],
   "source": [
    "# Disconnect from all devices\n",
    "disconnect = True\n",
    "if disconnect:\n",
    "    shfqc.disconnect()\n",
    "    try:\n",
    "        mdac = Instrument.find_instrument(\"mdac\")\n",
    "        mdac.close()\n",
    "    except KeyError:\n",
    "        print('Attempting to remove instrument with name mdac. Does not exist')\n",
    "    try:\n",
    "        lockin = Instrument.find_instrument(\"sr860_top\")\n",
    "        lockin.close()\n",
    "    except KeyError:\n",
    "        print(\"Cannot remove instrument with name sr860_top. Does not exist\")"
   ]
  },
  {
   "cell_type": "code",
   "execution_count": 8,
   "id": "9291f355-6af6-408c-b5e1-14b43cfe81e7",
   "metadata": {},
   "outputs": [
    {
     "name": "stdout",
     "output_type": "stream",
     "text": [
      "Loading existing experiment (ignoring given experiment parameters)\n",
      "Note that no experimental data has been loaded.\n",
      "Next run will have id 18\n"
     ]
    }
   ],
   "source": [
    "# setup monty\n",
    "experiment = {\n",
    "    \"desc\": \"Run ESR frequency sweep to determine qubit frequencies\"\n",
    "}\n",
    "\n",
    "monty = Monty(\"rf.esr\", experiment)"
   ]
  },
  {
   "cell_type": "code",
   "execution_count": 49,
   "id": "4619a849-0b0b-461f-8e9c-f138538cff04",
   "metadata": {},
   "outputs": [],
   "source": [
    "params = {\n",
    "    \"amplitude_volts\": {  # define the amplitudes that should be used. (maximum 340mV, give in Volts)\n",
    "        \"mixed_pulse\": {  # voltage amplitude for mixed state preperation\n",
    "            \"P1\": -0.2,  # make sure keys match drive lines above\n",
    "            \"P2\": 0.2,\n",
    "        },\n",
    "        \"readout_pulse\": {\n",
    "            \"P1\": -0.01,\n",
    "            \"P2\": 0.01,\n",
    "            \"J\": 0.0,\n",
    "        },\n",
    "        \"ramp_rate\": 13e-5,  # V/sample\n",
    "    },\n",
    "    \"readout\": {\n",
    "        \"freq\": 406.6e6,  # (Hz) try 406.2e6\n",
    "        \"gain\": 0.95,  # If we set this to 1, then output overloads\n",
    "        \"time\": 100e-6,  # sec\n",
    "    },\n",
    "    \"mw\": {  # Microwave ESR settings\n",
    "        \"freqs\": {  # (Hz)\n",
    "            \"start\": 700e6,\n",
    "            \"stop\": 800e6,\n",
    "            # steps determined by averaging/num_freqs\n",
    "        },\n",
    "        \"psgfreq\": 13.9e9,\n",
    "        \"gain\": 0.7,  # If we set this to 1, then output overloads\n",
    "        \"span\": 1e6,  # frequency span for chirp signal, if enabled\n",
    "        \"sampling_divider\": 3,\n",
    "    },\n",
    "    \"timings_sec\": {  # all in seconds\n",
    "        \"mixed_initilise\": 600e-6,\n",
    "        \"read\": 100e-6,\n",
    "        \"settle\": 3e-3,\n",
    "        \"trigger\": 8e-3,  # metronome of the internal trigger\n",
    "        \"buffer\": 10e-6,\n",
    "        \"mw_pulse\": 10e-6,\n",
    "        \"sampling_divider\": 6,  # playback waveform resolution 2^X\n",
    "    },\n",
    "    \"powers\": {  # in dB presets from UI\n",
    "        \"acq_in\": 0,\n",
    "        \"acq_out\": -10,\n",
    "        \"drive\": 0,  # only 0 is supported\n",
    "        \"mw_drive\": 0,  # conncted to to PSG\n",
    "        \"psg_drive\": -20,  # just a guess for now, output of psg\n",
    "    },\n",
    "    \"averaging\": {\n",
    "        \"seqc_averages\": 1000,  # max 2**19 points\n",
    "        \"num_freqs\": 10,\n",
    "    },\n",
    "    \"gates\": getvoltages(mdac),\n",
    "    \"temp\": f\"Mixing chamber {fridge.temp()} K\",\n",
    "}\n",
    "\n",
    "\n",
    "# Dynamic variables\n",
    "# create arrays of our sweeping paramters\n",
    "freq_steps = np.linspace(params[\"mw\"][\"freqs\"][\"start\"],\n",
    "                      params[\"mw\"][\"freqs\"][\"stop\"],\n",
    "                      params[\"averaging\"][\"num_freqs\"])"
   ]
  },
  {
   "cell_type": "code",
   "execution_count": 50,
   "id": "2aaaf298-9b72-40ad-b731-79d5951fb7be",
   "metadata": {},
   "outputs": [],
   "source": [
    "def sweep_esr_freq():\n",
    "    \"\"\"1D ESR frequency sweep\"\"\"\n",
    "    monty.newrun(\"freq_sweep\", params)\n",
    "\n",
    "    # setup channels to match parameters\n",
    "    esr.setupchannels(shfqc, params)\n",
    "    esr.setupsequencers(shfqc, params, print_programs=False)\n",
    "    esr.setup_command_tables(shfqc, params)\n",
    "    time.sleep(1)  # wait to make sure everything processed in time\n",
    "\n",
    "    # run the real experiment\n",
    "    esr.synchchannels(shfqc, [shfqc.qa_channel_name] + shfqc.drive_channels)\n",
    "    shfqc[\"measure\"].spectroscopy.result.length(2)\n",
    "    time.sleep(2)\n",
    "    \n",
    "    result = np.zeros((params[\"averaging\"][\"num_freqs\"], 2), dtype=np.complex64)\n",
    "\n",
    "    # upload command tables\n",
    "    p1 = params[\"amplitude_volts\"][\"readout_pulse\"][\"P1\"]\n",
    "    p2 = params[\"amplitude_volts\"][\"readout_pulse\"][\"P2\"]\n",
    "    j = params[\"amplitude_volts\"][\"readout_pulse\"][\"J\"]\n",
    "    mw = params[\"mw\"][\"gain\"]\n",
    "    esr.movemeasurement(shfqc, p1, p2, j, mw, params)  # set amplitudes\n",
    "    \n",
    "    print(\"Sweeping P1, P2 and J\")\n",
    "    for i, mw in enumerate(tqdm(freq_steps, desc=\"Frequency\")):\n",
    "        esr.change_mw_freq(shfqc, mw, params)  # reupload sequence with new waveform\n",
    "        esr.upload_command_tables(shfqc)\n",
    "        result[i, :] = esr.run_esr_experiment(shfqc)\n",
    "\n",
    "    results = {\"data\": result}\n",
    "    monty.save(results)\n",
    "    return results"
   ]
  },
  {
   "cell_type": "code",
   "execution_count": 52,
   "id": "a8588064-169f-4b6c-97ff-39fa36a7d25b",
   "metadata": {},
   "outputs": [
    {
     "name": "stdout",
     "output_type": "stream",
     "text": [
      "Started new run freq_sweep.31\n",
      "Sweeping P1, P2 and J\n"
     ]
    },
    {
     "data": {
      "application/vnd.jupyter.widget-view+json": {
       "model_id": "c5bcb4d830984b7da06e85b8a74d1ab2",
       "version_major": 2,
       "version_minor": 0
      },
      "text/plain": [
       "Frequency:   0%|          | 0/10 [00:00<?, ?it/s]"
      ]
     },
     "metadata": {},
     "output_type": "display_data"
    },
    {
     "data": {
      "application/vnd.jupyter.widget-view+json": {
       "model_id": "",
       "version_major": 2,
       "version_minor": 0
      },
      "text/plain": [
       "Internal trigger:   0%|          | 0/100 [00:00<?, ?it/s]"
      ]
     },
     "metadata": {},
     "output_type": "display_data"
    },
    {
     "data": {
      "application/vnd.jupyter.widget-view+json": {
       "model_id": "",
       "version_major": 2,
       "version_minor": 0
      },
      "text/plain": [
       "Internal trigger:   0%|          | 0/100 [00:00<?, ?it/s]"
      ]
     },
     "metadata": {},
     "output_type": "display_data"
    },
    {
     "data": {
      "application/vnd.jupyter.widget-view+json": {
       "model_id": "",
       "version_major": 2,
       "version_minor": 0
      },
      "text/plain": [
       "Internal trigger:   0%|          | 0/100 [00:00<?, ?it/s]"
      ]
     },
     "metadata": {},
     "output_type": "display_data"
    },
    {
     "data": {
      "application/vnd.jupyter.widget-view+json": {
       "model_id": "",
       "version_major": 2,
       "version_minor": 0
      },
      "text/plain": [
       "Internal trigger:   0%|          | 0/100 [00:00<?, ?it/s]"
      ]
     },
     "metadata": {},
     "output_type": "display_data"
    },
    {
     "data": {
      "application/vnd.jupyter.widget-view+json": {
       "model_id": "",
       "version_major": 2,
       "version_minor": 0
      },
      "text/plain": [
       "Internal trigger:   0%|          | 0/100 [00:00<?, ?it/s]"
      ]
     },
     "metadata": {},
     "output_type": "display_data"
    },
    {
     "data": {
      "application/vnd.jupyter.widget-view+json": {
       "model_id": "",
       "version_major": 2,
       "version_minor": 0
      },
      "text/plain": [
       "Internal trigger:   0%|          | 0/100 [00:00<?, ?it/s]"
      ]
     },
     "metadata": {},
     "output_type": "display_data"
    },
    {
     "data": {
      "application/vnd.jupyter.widget-view+json": {
       "model_id": "",
       "version_major": 2,
       "version_minor": 0
      },
      "text/plain": [
       "Internal trigger:   0%|          | 0/100 [00:00<?, ?it/s]"
      ]
     },
     "metadata": {},
     "output_type": "display_data"
    },
    {
     "data": {
      "application/vnd.jupyter.widget-view+json": {
       "model_id": "",
       "version_major": 2,
       "version_minor": 0
      },
      "text/plain": [
       "Internal trigger:   0%|          | 0/100 [00:00<?, ?it/s]"
      ]
     },
     "metadata": {},
     "output_type": "display_data"
    },
    {
     "data": {
      "application/vnd.jupyter.widget-view+json": {
       "model_id": "",
       "version_major": 2,
       "version_minor": 0
      },
      "text/plain": [
       "Internal trigger:   0%|          | 0/100 [00:00<?, ?it/s]"
      ]
     },
     "metadata": {},
     "output_type": "display_data"
    },
    {
     "data": {
      "application/vnd.jupyter.widget-view+json": {
       "model_id": "",
       "version_major": 2,
       "version_minor": 0
      },
      "text/plain": [
       "Internal trigger:   0%|          | 0/100 [00:00<?, ?it/s]"
      ]
     },
     "metadata": {},
     "output_type": "display_data"
    },
    {
     "name": "stdout",
     "output_type": "stream",
     "text": [
      "Run finished and took 0:01:34.860473.\n",
      "Saving to freq_sweep.31.xz\n",
      "Saving to experiment.yaml\n"
     ]
    },
    {
     "data": {
      "text/plain": [
       "{'data': array([[-0.009601  +0.01012657j, -0.00963359+0.01013701j],\n",
       "        [-0.00960018+0.0101265j , -0.00962901+0.01014185j],\n",
       "        [-0.00959929+0.01012543j, -0.00962788+0.01013973j],\n",
       "        [-0.00960155+0.01012763j, -0.00963589+0.01014498j],\n",
       "        [-0.00960171+0.01012776j, -0.00962895+0.01014133j],\n",
       "        [-0.00960026+0.01012623j, -0.00962884+0.01014053j],\n",
       "        [-0.00959993+0.01012655j, -0.00963249+0.01014407j],\n",
       "        [-0.00960146+0.01012695j, -0.00963569+0.01013851j],\n",
       "        [-0.00960268+0.01012618j, -0.00963589+0.01014472j],\n",
       "        [-0.00960109+0.0101267j , -0.00963557+0.01013761j]],\n",
       "       dtype=complex64)}"
      ]
     },
     "execution_count": 52,
     "metadata": {},
     "output_type": "execute_result"
    }
   ],
   "source": [
    "sweep_esr_freq()"
   ]
  },
  {
   "cell_type": "code",
   "execution_count": null,
   "id": "975b7bd0-c934-4937-9154-b964a0bd55d8",
   "metadata": {},
   "outputs": [],
   "source": []
  }
 ],
 "metadata": {
  "kernelspec": {
   "display_name": "Python 3 (ipykernel)",
   "language": "python",
   "name": "python3"
  },
  "language_info": {
   "codemirror_mode": {
    "name": "ipython",
    "version": 3
   },
   "file_extension": ".py",
   "mimetype": "text/x-python",
   "name": "python",
   "nbconvert_exporter": "python",
   "pygments_lexer": "ipython3",
   "version": "3.12.3"
  }
 },
 "nbformat": 4,
 "nbformat_minor": 5
}
