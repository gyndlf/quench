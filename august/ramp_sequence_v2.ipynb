{
 "cells": [
  {
   "cell_type": "markdown",
   "id": "e7e89ca3-20a7-4d47-9ad8-08977d2abd26",
   "metadata": {},
   "source": [
    "# Ramp sequence\n",
    "\n",
    "The first one isn't working, and not sure why. Trying a differetnt method, doing a single pulse and continuously reading over it to see decay (or no decay with ramp)."
   ]
  },
  {
   "cell_type": "code",
   "execution_count": 1402,
   "id": "ba961de0-ff26-44a3-b678-10aef342ffe9",
   "metadata": {},
   "outputs": [],
   "source": [
    "%matplotlib inline\n",
    "import local_broom"
   ]
  },
  {
   "cell_type": "code",
   "execution_count": 1403,
   "id": "13b2b8d2-58c8-4405-b770-61857145334e",
   "metadata": {},
   "outputs": [],
   "source": [
    "from zhinst.toolkit import Session, CommandTable, Sequence, Waveforms, SHFQAChannelMode\n",
    "\n",
    "import matplotlib.pyplot as plt\n",
    "import numpy as np\n",
    "from tqdm.notebook import tqdm\n",
    "\n",
    "import time\n",
    "from monty import Monty"
   ]
  },
  {
   "cell_type": "markdown",
   "id": "84c0beb8-3486-44ba-adcf-8fadcf55c719",
   "metadata": {},
   "source": [
    "## Connect"
   ]
  },
  {
   "cell_type": "code",
   "execution_count": 1404,
   "id": "7d79bb0d-97eb-4f42-b720-febd8c4c5e6d",
   "metadata": {},
   "outputs": [],
   "source": [
    "# connect to instruments\n",
    "\n",
    "DEVICE_ID = 'DEV12158'\n",
    "SERVER_HOST = 'localhost'\n",
    "\n",
    "# connect to data server\n",
    "session = Session(SERVER_HOST)\n",
    "\n",
    "# connect to device\n",
    "device = session.connect_device(DEVICE_ID)"
   ]
  },
  {
   "cell_type": "code",
   "execution_count": 1405,
   "id": "5faadc21-0cd0-4d59-a8df-b9eaf4539140",
   "metadata": {},
   "outputs": [],
   "source": [
    "#session.disconnect_device(DEVICE_ID)"
   ]
  },
  {
   "cell_type": "code",
   "execution_count": 1406,
   "id": "c9106b19-103b-4085-a61c-865e1f26c68e",
   "metadata": {},
   "outputs": [
    {
     "name": "stdout",
     "output_type": "stream",
     "text": [
      "Loading existing experiment (ignoring given experiment parameters)\n",
      "Note that no experimental data has been loaded.\n",
      "Next run will have id 112\n"
     ]
    }
   ],
   "source": [
    "experiment = {\n",
    "    \"desc\": \"Measure AC decay.\"\n",
    "}\n",
    "\n",
    "monty = Monty(\"rf.decay\", experiment)"
   ]
  },
  {
   "cell_type": "markdown",
   "id": "71b7c506-a0e1-4d0e-9da8-84f69623c56f",
   "metadata": {},
   "source": [
    "## Variables"
   ]
  },
  {
   "cell_type": "code",
   "execution_count": 1407,
   "id": "36bc1796-6e22-4e0d-8f8b-4eba63d839c9",
   "metadata": {},
   "outputs": [],
   "source": [
    "# gate sampling time\n",
    "samplingDivider = 6\n",
    "\n",
    "# setup averaging. It is faster to run averages on the device but no feedback can take place\n",
    "averages = 1  # python averages\n",
    "seq_averages = 15000  # seqc averages\n",
    "\n",
    "# readout signals\n",
    "readout_gain = 0.95  # If we set this to 1, then output overloads\n",
    "readout_freq = 406.2e6  # (Hz)\n",
    "\n",
    "# drive line amplitudes (maximum 340mV, give in terms of V)\n",
    "p1_amp = 0.05\n",
    "\n",
    "# AC decay ramp rate\n",
    "ramp_rate = 18e-5  #  V/sample\n",
    "\n",
    "# powers\n",
    "input_pwr = -0\n",
    "output_pwr = -0\n",
    "dr_pwr = 0\n",
    "\n",
    "# timings in seconds\n",
    "prior_time = 100e-6  # A time\n",
    "pulse_time = 0.8e-3\n",
    "after_time = 100e-6\n",
    "read_time = 20e-6  # integration time, want to keep this short in order to increase the number of points\n",
    "trigger_time = 6e-3  # internal trigger holdoff time (metronome)\n",
    "measure_delay = 10*read_time  # initial delay for measurement after sending the pulse\n",
    "\n",
    "# internal\n",
    "read_lens = int((pulse_time-measure_delay) / read_time)\n",
    "offset = 0  # makes sure we don't read past the end of the pulse\n"
   ]
  },
  {
   "cell_type": "code",
   "execution_count": 1433,
   "id": "e333c3e8-eacd-432d-b9b0-ce2fc6be572c",
   "metadata": {},
   "outputs": [
    {
     "ename": "OverflowError",
     "evalue": "Requested too many points to be measured.",
     "output_type": "error",
     "traceback": [
      "\u001b[1;31m---------------------------------------------------------------------------\u001b[0m",
      "\u001b[1;31mOverflowError\u001b[0m                             Traceback (most recent call last)",
      "Cell \u001b[1;32mIn[1433], line 4\u001b[0m\n\u001b[0;32m      2\u001b[0m MAX_MEASUREMENTS \u001b[38;5;241m=\u001b[39m \u001b[38;5;241m2\u001b[39m\u001b[38;5;241m*\u001b[39m\u001b[38;5;241m*\u001b[39m\u001b[38;5;241m19\u001b[39m\n\u001b[0;32m      3\u001b[0m \u001b[38;5;28;01mif\u001b[39;00m seq_averages\u001b[38;5;241m*\u001b[39m(read_lens\u001b[38;5;241m-\u001b[39moffset) \u001b[38;5;241m>\u001b[39m MAX_MEASUREMENTS:\n\u001b[1;32m----> 4\u001b[0m     \u001b[38;5;28;01mraise\u001b[39;00m \u001b[38;5;167;01mOverflowError\u001b[39;00m(\u001b[38;5;124m\"\u001b[39m\u001b[38;5;124mRequested too many points to be measured.\u001b[39m\u001b[38;5;124m\"\u001b[39m)\n",
      "\u001b[1;31mOverflowError\u001b[0m: Requested too many points to be measured."
     ]
    }
   ],
   "source": [
    "# check we can fit all the points into memory\n",
    "MAX_MEASUREMENTS = 2**19\n",
    "if seq_averages*(read_lens-offset) > MAX_MEASUREMENTS:\n",
    "    raise OverflowError(\"Requested too many points to be measured. (Use around 500,000 points)\")"
   ]
  },
  {
   "cell_type": "code",
   "execution_count": 1408,
   "id": "896a9dd2-0d43-40d1-8c63-2c656933012a",
   "metadata": {},
   "outputs": [],
   "source": [
    "params = {\n",
    "    \"samplingDivider\": samplingDivider,\n",
    "    \"averages\": averages,\n",
    "    \"seq_averages\": seq_averages,\n",
    "    \"readout_gain\": readout_gain,\n",
    "    \"readout_freq\": readout_freq,\n",
    "    \"p1_amp\": p1_amp,\n",
    "    \"ramp_rate\": ramp_rate,\n",
    "    \n",
    "    \"input_pwr\": input_pwr,\n",
    "    \"output_pwr\": output_pwr,\n",
    "    \"dr_pwr\": dr_pwr,\n",
    "    \n",
    "    \"prior_time\": prior_time,\n",
    "    \"pulse_time\": pulse_time,\n",
    "    \"after_time\": after_time,\n",
    "    \"read_time\": read_time,\n",
    "    \"trigger_time\": trigger_time,\n",
    "    \"measure_delay\": measure_delay,\n",
    "    \"read_lens\": read_lens,\n",
    "    \"offset\": offset,\n",
    "}"
   ]
  },
  {
   "cell_type": "markdown",
   "id": "ceba11bb-babc-4aaf-963c-59d153c2c05a",
   "metadata": {},
   "source": [
    "## Functions"
   ]
  },
  {
   "cell_type": "code",
   "execution_count": 1409,
   "id": "2d1d5fbf-4abc-43ce-aa7f-b7785002dfd1",
   "metadata": {},
   "outputs": [],
   "source": [
    "def timeToSamples(time, samplingRateDivider):\n",
    "    # returns the number of samples divisible by 16 given a time (in seconds) and sampling rate divider\n",
    "    samples_raw = time * (1/(2**samplingRateDivider))/0.5e-9\n",
    "    samples_modulo = int(samples_raw) % 16\n",
    "    samples = int(samples_raw) - int(samples_modulo)\n",
    "    return samples\n",
    "\n",
    "# custom curve fit\n",
    "amps = [1, 0.85, 0.75, 0.65,  0.5, 0.35, 0.25, 0.2, 0.125, 0.05]\n",
    "voltages = [0.34, 0.268, 0.207, 0.158, 0.094, 0.0481,  0.026, 0.0183, 0.01, 0.0057]\n",
    "\n",
    "alt_fit = np.poly1d(np.polyfit(amps, voltages, 2))\n",
    "# Hard coding alt_fit values in case something goes horribly wrong\n",
    "\n",
    "def voltToDbm(volt, dbmrange):\n",
    "    # Ok yes this can be better, deal with it\n",
    "    if dbmrange != 0:\n",
    "        raise Exception(\"This function only works with a dBm range of 0.\")\n",
    "    \n",
    "    if volt > 0.34 or volt < -0.34:\n",
    "        raise ValueError(f\"Given voltage ({volt} V) is greater than max output of SHFQC (0.34 V)\")\n",
    "    \n",
    "    if volt < 0:\n",
    "        amplitude = 1/300*(np.sqrt(3e5*-volt + 529) - 23)\n",
    "        return -amplitude\n",
    "    else:\n",
    "        amplitude = 1/300*(np.sqrt(3e5*volt + 529) - 23)\n",
    "        return amplitude\n",
    "\n",
    "\n",
    "def get_results(result_node, timeout):\n",
    "    wave_data_captured = {}\n",
    "    wave_data_captured[result_node] = False\n",
    "    start_time = time.time()\n",
    "    captured_data = {}\n",
    "    while not all(wave_data_captured.values()):\n",
    "        if start_time + timeout < time.time():\n",
    "            print(captured_data)\n",
    "            raise TimeoutError('Timeout before all samples collected.')\n",
    "        test = session.poll()\n",
    "        for node, value in test.items():\n",
    "            node = session.raw_path_to_node(node)\n",
    "            for v in value:\n",
    "                if node not in captured_data:\n",
    "                    captured_data[node] = [v['vector']]\n",
    "                else:\n",
    "                    captured_data[node].append(v['vector'])\n",
    "            if len(captured_data[node]) >= 1:  # readout 1 point\n",
    "                wave_data_captured[node] = True\n",
    "                # total_num_data = sum([len(element) for element in captured_data[node]])\n",
    "    data = captured_data[result_node][0]\n",
    "    return data\n",
    "\n",
    "def cmdtable(ct, amplitude, length, wave_index, ct_index):\n",
    "    \"\"\"\n",
    "    Load a default command table with a sin/cos wave (used throughout the documentation)\n",
    "    \"\"\"\n",
    "    ct.table[ct_index].waveform.index = wave_index\n",
    "    ct.table[ct_index].amplitude00.value = amplitude  # all in dBm\n",
    "    ct.table[ct_index].amplitude01.value = -amplitude\n",
    "    ct.table[ct_index].amplitude10.value = amplitude\n",
    "    ct.table[ct_index].amplitude11.value = amplitude\n",
    "    ct.table[ct_index].waveform.length = length  # in samples\n",
    "    ct.table[ct_index].waveform.samplingRateDivider = samplingDivider  # inherit global"
   ]
  },
  {
   "cell_type": "markdown",
   "id": "ff0b5693-16d2-440a-878e-499ae427fc05",
   "metadata": {},
   "source": [
    "## Channel Setup"
   ]
  },
  {
   "cell_type": "code",
   "execution_count": 1410,
   "id": "deae32c4-ef80-4719-bca7-09cfb69a9708",
   "metadata": {},
   "outputs": [],
   "source": [
    "# Create channel maps for simplicity\n",
    "\n",
    "chan = {\n",
    "    \"measure\": device.qachannels[0],  # measure and acquire lines\n",
    "    \"ST\": device.sgchannels[0],\n",
    "    \"P1\": device.sgchannels[1],  # drive P1 line\n",
    "    \"P2\": device.sgchannels[2],  # drive P2 line\n",
    "}\n",
    "\n",
    "drive_chans = [\"P1\"]  # match keys above"
   ]
  },
  {
   "cell_type": "code",
   "execution_count": 1411,
   "id": "a83b20be-916c-4007-9896-0840c5c3b2c2",
   "metadata": {},
   "outputs": [],
   "source": [
    "with device.set_transaction():\n",
    "    # setup drive channels\n",
    "    for c in drive_chans:\n",
    "        chan[c].output.range(dr_pwr)  # in dBm\n",
    "        chan[c].output.rflfpath(0)  # use LF not RF (1 for RF)\n",
    "    \n",
    "        # set the center synth frequency (oscillator frequency)\n",
    "        synth = chan[c].synthesizer()\n",
    "        device.synthesizers[synth].centerfreq(0)  # in Hz\n",
    "        chan[c].output.on(1)  # enable output\n",
    "    \n",
    "        chan[c].awg.outputamplitude(1.0)  # overall amplitude scaling factor (don't really need to change)\n",
    "        chan[c].oscs[0].freq(0)  # oscillator 1 frequency (Hz) disable for DC\n",
    "        chan[c].oscs[1].freq(0)  # oscillator 2 frequency (Hz)\n",
    "        chan[c].awg.modulation.enable(1)  # start digital modulation\n",
    "    \n",
    "        chan[c].marker.source(0)  # setup the AWG trigger 1 (is this an input trigger option? doesn't seem necessary)\n",
    "        # see manual page p235 for all trigger options\n",
    "        chan[c].awg.auxtriggers[0].channel(8)  # 8=use internal trigger, 1024=use software trigger\n",
    "\n",
    "    # setup measure channel\n",
    "    \n",
    "    chan[\"measure\"].output.rflfpath(0)  # use LF mode not RF (for signals under 600Mhz)\n",
    "    chan[\"measure\"].input.rflfpath(0)\n",
    "    chan[\"measure\"].oscs[0].freq(readout_freq)  # CW frequency (in LF mode)\n",
    "    chan[\"measure\"].oscs[0].gain(readout_gain)  # If we set this to 1, then output overloads\n",
    "\n",
    "    # configure these based on how the sweeper works internally\n",
    "    # See https://docs.zhinst.com/zhinst-utils/en/latest/_modules/zhinst/utils/shf_sweeper.html#ShfSweeper\n",
    "    chan[\"measure\"].spectroscopy.delay(0)  # integration delay in units of second\n",
    "    chan[\"measure\"].spectroscopy.length(timeToSamples(read_time, samplingDivider))  # integration time length in units of number of samples (usually integration_time*sampling_rate)\n",
    "    # setup when the spectroscopy is triggered\n",
    "    chan[\"measure\"].spectroscopy.trigger.channel(\"chan0seqtrig0\")  # make sure to use the trigger coming from the sequencer code\n",
    "    # setup result parameters\n",
    "    chan[\"measure\"].spectroscopy.result.averages(1)  # number of averages (always average in software not hardware)\n",
    "    chan[\"measure\"].spectroscopy.result.length(seq_averages*(read_lens-offset))  # number of results\n",
    "    chan[\"measure\"].spectroscopy.result.enable(0)  # disable result logger\n",
    "\n",
    "    chan[\"measure\"].configure_channel(\n",
    "        center_frequency=0,  # in units of Hz  # minimum of 600MHz for RF mode\n",
    "        input_range=input_pwr,  # in units of dBm\n",
    "        output_range=output_pwr,  # in units of dBm\n",
    "        mode=SHFQAChannelMode.SPECTROSCOPY,  # SHFQAChannelMode.READOUT or SHFQAChannelMode.SPECTROSCOPY\n",
    "    )\n",
    "    \n",
    "    chan[\"measure\"].input.on(1)\n",
    "    chan[\"measure\"].output.on(1)\n",
    "\n",
    "    chan[\"measure\"].generator.auxtriggers[1].channel(\"inttrig\")  # i believe this is overwritten by the following line\n",
    "    chan[\"measure\"].generator.configure_sequencer_triggering(\n",
    "        aux_trigger=8,  # alternatively use 8=internal trigger, or \"software_trigger0\" to use the software triggering system\n",
    "        play_pulse_delay=0\n",
    "    )\n"
   ]
  },
  {
   "cell_type": "markdown",
   "id": "cbe51e8c-d47e-442a-9bae-713305030581",
   "metadata": {},
   "source": [
    "## Sequence"
   ]
  },
  {
   "cell_type": "code",
   "execution_count": 1412,
   "id": "b14ff467-e61c-4477-af9d-c4ff8eb8a01b",
   "metadata": {},
   "outputs": [],
   "source": [
    "samples = timeToSamples(pulse_time, samplingDivider)\n",
    "wv = np.linspace(voltToDbm(p1_amp, dr_pwr), voltToDbm(p1_amp+p1_amp*samples*ramp_rate, dr_pwr), samples)"
   ]
  },
  {
   "cell_type": "code",
   "execution_count": null,
   "id": "7d7ff5be-fb79-4b7a-a024-974ce93dfdd4",
   "metadata": {},
   "outputs": [],
   "source": []
  },
  {
   "cell_type": "code",
   "execution_count": 1413,
   "id": "3fbd4fac-0008-4177-9938-6e704459aa3f",
   "metadata": {},
   "outputs": [],
   "source": [
    "# use the same waveforms for all sequence programs\n",
    "p1_prog_code = f\"\"\"\n",
    "\n",
    "// Assign a single channel waveform to wave table entry 0\n",
    "// wave w_a = ones({timeToSamples(pulse_time, samplingDivider)});\n",
    "\n",
    "// Reset the oscillator phase\n",
    "// resetOscPhase();\n",
    "\n",
    "repeat({seq_averages}) {{\n",
    "        waitDigTrigger(1);\n",
    "\n",
    "        setTrigger(1);  // Trigger the scope\n",
    "        setTrigger(0);\n",
    "\n",
    "        playZero({timeToSamples(prior_time, samplingDivider)-32}, {samplingDivider});\n",
    "        playZero(32, {samplingDivider});\n",
    "        executeTableEntry(0);\n",
    "}}\n",
    "\"\"\"\n",
    "\n",
    "readout_prog_code = f\"\"\"\n",
    "setTrigger(0); // Set low as this starts the spectroscopy readout....\n",
    "\n",
    "repeat({seq_averages}) {{\n",
    "    waitDigTrigger(1);\n",
    "    playZero(224); // lineup with SG trigger (224 samples = lines up with SG trigger);\n",
    "    playZero({timeToSamples(prior_time, samplingDivider)}, {samplingDivider});\n",
    "    playZero({timeToSamples(measure_delay, samplingDivider)-32}, {samplingDivider}); // a little buffer time\n",
    "    playZero(32, {samplingDivider});\n",
    "    \n",
    "    for (var i = 0; i < {read_lens-offset}; i++) {{\n",
    "    \n",
    "        setTrigger(1);  // trigger the output. As this matches \"chan0seqtrig0\" the spectroscopy is started\n",
    "        setTrigger(0);\n",
    "        playZero({timeToSamples(read_time, samplingDivider)-32}, {samplingDivider});\n",
    "        playZero(32, {samplingDivider});\n",
    "    }}\n",
    "}}\n",
    "\"\"\"\n"
   ]
  },
  {
   "cell_type": "code",
   "execution_count": 1414,
   "id": "8caf6a74-1297-40ee-a752-cc235a31bc16",
   "metadata": {},
   "outputs": [
    {
     "name": "stdout",
     "output_type": "stream",
     "text": [
      "_________ /dev12158/sgchannels/1 _________\n",
      "\n",
      "\n",
      "// Assign a single channel waveform to wave table entry 0\n",
      "// wave w_a = ones(24992);\n",
      "\n",
      "// Reset the oscillator phase\n",
      "// resetOscPhase();\n",
      "\n",
      "repeat(100000) {\n",
      "        waitDigTrigger(1);\n",
      "\n",
      "        setTrigger(1);  // Trigger the scope\n",
      "        setTrigger(0);\n",
      "\n",
      "        playZero(3088, 6);\n",
      "        playZero(32, 6);\n",
      "        executeTableEntry(0);\n",
      "}\n",
      "\n",
      "_________  READOUT  _________\n",
      "\n",
      "setTrigger(0); // Set low as this starts the spectroscopy readout....\n",
      "\n",
      "repeat(100000) {\n",
      "    waitDigTrigger(1);\n",
      "    playZero(224); // lineup with SG trigger (224 samples = lines up with SG trigger);\n",
      "    playZero(3120, 6);\n",
      "    playZero(6208, 6); // a little buffer time\n",
      "    playZero(32, 6);\n",
      "    \n",
      "    for (var i = 0; i < 30; i++) {\n",
      "    \n",
      "        setTrigger(1);  // trigger the output. As this matches \"chan0seqtrig0\" the spectroscopy is started\n",
      "        setTrigger(0);\n",
      "        playZero(592, 6);\n",
      "        playZero(32, 6);\n",
      "    }\n",
      "}\n",
      "\n",
      "{'messages': '', 'maxelfsize': 2147483648}\n"
     ]
    }
   ],
   "source": [
    "# upload waveforms to instrument\n",
    "\n",
    "# upload drive code\n",
    "for channel in [chan[\"P1\"]]:\n",
    "    seq = Sequence()\n",
    "    seq.code = p1_prog_code\n",
    "    seq.waveforms = Waveforms()\n",
    "    seq.waveforms[0] = wv\n",
    "\n",
    "    channel.awg.load_sequencer_program(seq)\n",
    "    channel.awg.write_to_waveform_memory(seq.waveforms)\n",
    "\n",
    "    print(f\"_________ {channel} _________\")\n",
    "    print(seq.code)\n",
    "    \n",
    "# upload with sequence code as the memory must be allocated first\n",
    "\n",
    "# upload measure code\n",
    "print(\"_________  READOUT  _________\")\n",
    "print(readout_prog_code)\n",
    "print(chan[\"measure\"].generator.load_sequencer_program(readout_prog_code))"
   ]
  },
  {
   "cell_type": "code",
   "execution_count": 1415,
   "id": "f2644a74-20ee-4274-aa2b-1d6f1ad513b8",
   "metadata": {},
   "outputs": [],
   "source": [
    "loaded_waveforms = chan[\"P1\"].awg.read_from_waveform_memory()\n",
    "\n",
    "loaded_waveforms.validate(chan[\"P1\"].awg.waveform.descriptors())"
   ]
  },
  {
   "cell_type": "markdown",
   "id": "2a9b3853-27ab-4489-a427-389904e09c59",
   "metadata": {},
   "source": [
    "## Command Tables"
   ]
  },
  {
   "cell_type": "code",
   "execution_count": null,
   "id": "4d677ce0-897d-43fd-a770-9f864acb8986",
   "metadata": {
    "scrolled": true
   },
   "outputs": [],
   "source": []
  },
  {
   "cell_type": "code",
   "execution_count": 1416,
   "id": "2a46ff42-fcb5-446a-a1a0-b02575ded0c8",
   "metadata": {},
   "outputs": [],
   "source": [
    "# each pulse needs its own command table\n",
    "for channel in [chan[\"P1\"]]:\n",
    "    schema = channel.awg.commandtable.load_validation_schema()\n",
    "    ct = CommandTable(schema)\n",
    "\n",
    "    #ct.active_valitation = True\n",
    "    for wave_index in range(1):\n",
    "        cmdtable(ct,\n",
    "                 amplitude= voltToDbm(p1_amp, channel.output.range()),\n",
    "                 length=timeToSamples(pulse_time, samplingDivider),\n",
    "                 wave_index=wave_index,\n",
    "                 ct_index=wave_index,\n",
    "                )\n",
    "    channel.awg.commandtable.upload_to_device(ct)"
   ]
  },
  {
   "cell_type": "markdown",
   "id": "cbd8ef33-864e-4887-bf1f-3ccd49a9ed5e",
   "metadata": {},
   "source": [
    "## Run"
   ]
  },
  {
   "cell_type": "code",
   "execution_count": 1417,
   "id": "1119ae9d-f854-450e-b597-0f7e315f197d",
   "metadata": {},
   "outputs": [],
   "source": [
    "device.system.internaltrigger.repetitions(seq_averages)  # make sure that this matches how many pulses we are sending\n",
    "device.system.internaltrigger.holdoff(trigger_time)  # init_len + 2*wait_and_settle + 100e-6*2)  # how long to wait between retriggers (increments of 100ns)"
   ]
  },
  {
   "cell_type": "code",
   "execution_count": 1418,
   "id": "939519a9-93ab-4e36-a930-84f4616f9906",
   "metadata": {},
   "outputs": [],
   "source": [
    "# setup channel synchronization\n",
    "chan[\"measure\"].synchronization.enable(1)\n",
    "chan[\"P1\"].synchronization.enable(1)\n",
    "chan[\"ST\"].synchronization.enable(0)\n",
    "device.system.internaltrigger.synchronization.enable(1)"
   ]
  },
  {
   "cell_type": "code",
   "execution_count": 1419,
   "id": "97cddb10-57f1-4070-84aa-1f2777be1778",
   "metadata": {},
   "outputs": [
    {
     "name": "stdout",
     "output_type": "stream",
     "text": [
      "Started new run p1_decay.112\n"
     ]
    },
    {
     "data": {
      "application/vnd.jupyter.widget-view+json": {
       "model_id": "a37c76a0e6674c4f9220f29a5d686444",
       "version_major": 2,
       "version_minor": 0
      },
      "text/plain": [
       "  0%|          | 0/100 [00:00<?, ?it/s]"
      ]
     },
     "metadata": {},
     "output_type": "display_data"
    },
    {
     "name": "stdout",
     "output_type": "stream",
     "text": [
      "Sequencers in unknown state. Perhaps they are not synchronised? 0, 0\n",
      "524288\n"
     ]
    },
    {
     "ename": "ValueError",
     "evalue": "cannot reshape array of size 524288 into shape (100000,30)",
     "output_type": "error",
     "traceback": [
      "\u001b[1;31m---------------------------------------------------------------------------\u001b[0m",
      "\u001b[1;31mValueError\u001b[0m                                Traceback (most recent call last)",
      "Cell \u001b[1;32mIn[1419], line 71\u001b[0m\n\u001b[0;32m     67\u001b[0m     \u001b[38;5;28;01mraise\u001b[39;00m \u001b[38;5;167;01mTimeoutError\u001b[39;00m(\u001b[38;5;124mf\u001b[39m\u001b[38;5;124m\"\u001b[39m\u001b[38;5;124mNot all datapoints measured in the time provided. \u001b[39m\u001b[38;5;132;01m{\u001b[39;00macq\u001b[38;5;132;01m}\u001b[39;00m\u001b[38;5;124m of \u001b[39m\u001b[38;5;132;01m{\u001b[39;00m\u001b[38;5;28mlen\u001b[39m(results)\u001b[38;5;132;01m}\u001b[39;00m\u001b[38;5;124m.\u001b[39m\u001b[38;5;124m\"\u001b[39m)\n\u001b[0;32m     69\u001b[0m \u001b[38;5;28mprint\u001b[39m(\u001b[38;5;28mlen\u001b[39m(results))\n\u001b[1;32m---> 71\u001b[0m data \u001b[38;5;241m=\u001b[39m np\u001b[38;5;241m.\u001b[39mmean(\u001b[43mresults\u001b[49m\u001b[38;5;241;43m.\u001b[39;49m\u001b[43mreshape\u001b[49m\u001b[43m(\u001b[49m\u001b[43m(\u001b[49m\u001b[43mseq_averages\u001b[49m\u001b[43m,\u001b[49m\u001b[43m \u001b[49m\u001b[43m(\u001b[49m\u001b[43mread_lens\u001b[49m\u001b[38;5;241;43m-\u001b[39;49m\u001b[43moffset\u001b[49m\u001b[43m)\u001b[49m\u001b[43m)\u001b[49m\u001b[43m)\u001b[49m, axis\u001b[38;5;241m=\u001b[39m\u001b[38;5;241m0\u001b[39m)\n\u001b[0;32m     73\u001b[0m time\u001b[38;5;241m.\u001b[39msleep(\u001b[38;5;241m1\u001b[39m)\n\u001b[0;32m     74\u001b[0m chan[\u001b[38;5;124m\"\u001b[39m\u001b[38;5;124mmeasure\u001b[39m\u001b[38;5;124m\"\u001b[39m]\u001b[38;5;241m.\u001b[39minput\u001b[38;5;241m.\u001b[39mon(\u001b[38;5;241m0\u001b[39m)\n",
      "\u001b[1;31mValueError\u001b[0m: cannot reshape array of size 524288 into shape (100000,30)"
     ]
    }
   ],
   "source": [
    "data = []\n",
    "\n",
    "monty.newrun(\"p1 decay\", params)\n",
    "\n",
    "device.system.internaltrigger.enable(0)\n",
    "\n",
    "result_node = chan[\"measure\"].spectroscopy.result.data.wave\n",
    "result_node.subscribe()\n",
    "\n",
    "chan[\"measure\"].spectroscopy.result.enable(1)  # start logger\n",
    "\n",
    "# start sequencers\n",
    "chan[\"measure\"].generator.enable_sequencer(single=True)\n",
    "chan[\"P1\"].awg.enable_sequencer(single=True)  # dont want to repeat\n",
    "\n",
    "# start triggering sequence (which starts each sequencer)\n",
    "device.system.internaltrigger.enable(1)\n",
    "time.sleep(0.1)\n",
    "\n",
    "# wait for the measurement to complete\n",
    "tic = time.time()\n",
    "pbar = tqdm(total=100)\n",
    "while device.system.internaltrigger.progress() != 1.0:\n",
    "    p = int(device.system.internaltrigger.progress()*100)\n",
    "    pbar.update(p-pbar.n)\n",
    "    time.sleep(0.001)\n",
    "pbar.update(100-pbar.n)\n",
    "pbar.close()\n",
    "#print(time.time()-tic)\n",
    "\n",
    "# time.sleep(0.1)\n",
    "m_state = chan[\"measure\"].generator.sequencer.status()\n",
    "st_state = chan[\"P1\"].awg.sequencer.status()\n",
    "if m_state != 4 and st_state != 4:\n",
    "    print(TimeoutError(f\"Sequencers in unknown state. Perhaps they are not synchronised? {m_state}, {st_state}\"))\n",
    "    time.sleep(0.5)\n",
    "\n",
    "# chan[\"measure\"].spectroscopy.result.enable(0)  # stop data logger\n",
    "\n",
    "#device.system.internaltrigger.enable(0)\n",
    "\n",
    "# wait for completion\n",
    "while chan[\"measure\"].spectroscopy.result.enable() != 0:\n",
    "    print(chan[\"measure\"].spectroscopy.result.enable())\n",
    "    chan[\"measure\"].spectroscopy.result.enable.wait_for_state_change(0, timeout=10)\n",
    "    time.sleep(0.01)\n",
    "\n",
    "\n",
    "# get results\n",
    "results = get_results(result_node, timeout=5)\n",
    "result_node.unsubscribe()\n",
    "\n",
    "# verify results\n",
    "acq = chan[\"measure\"].spectroscopy.result.acquired()\n",
    "if len(results) > acq:\n",
    "    print(chan[\"measure\"].generator.ready())\n",
    "    print(chan[\"P1\"].awg.ready())\n",
    "    print(bin(chan[\"measure\"].generator.sequencer.status()))\n",
    "    print(bin(chan[\"P1\"].awg.sequencer.status()))\n",
    "\n",
    "    # Status of the Sequencer on the instrument.\n",
    "    # Bit 0: Sequencer is running;\n",
    "    # Bit 1: reserved;\n",
    "    # Bit 2: Sequencer is waiting for a trigger to arrive;\n",
    "    # Bit 3: Sequencer has detected an error;\n",
    "    # Bit 4: sequencer is waiting for synchronization with other channels\n",
    "    raise TimeoutError(f\"Not all datapoints measured in the time provided. {acq} of {len(results)}.\")\n",
    "\n",
    "print(len(results))\n",
    "\n",
    "data = np.mean(results.reshape((seq_averages, (read_lens-offset))), axis=0)\n",
    "\n",
    "time.sleep(1)\n",
    "chan[\"measure\"].input.on(0)\n",
    "chan[\"measure\"].output.on(0)\n",
    "\n",
    "plt.plot(np.linspace(0, pulse_time, read_lens)[5:read_lens - offset - 10], np.abs(data)[5:read_lens - offset - 10])  # picking up the first and last bits, so trimming those\n",
    "plt.xlabel(\"time (s)\")\n",
    "plt.ylabel(\"RF signal (arb units)\")\n",
    "plt.title(monty.identifier + \".\" + monty.runname)\n",
    "\n",
    "monty.save({\"data\": data})\n",
    "monty.savefig(plt, \"ramp decay\")"
   ]
  },
  {
   "cell_type": "code",
   "execution_count": null,
   "id": "6b2bb0fc-a4ee-47ce-bc9b-2fa2b06d8b34",
   "metadata": {},
   "outputs": [],
   "source": [
    "plt.plot(np.linspace(0, pulse_time, read_lens)[9:read_lens - 10], np.abs(data)[9:read_lens - 10])"
   ]
  },
  {
   "cell_type": "code",
   "execution_count": null,
   "id": "cb8448eb-e41e-4ded-bf31-c334b5a358e6",
   "metadata": {},
   "outputs": [],
   "source": [
    "1/400e6"
   ]
  },
  {
   "cell_type": "code",
   "execution_count": null,
   "id": "eb57df36-77fc-4d79-993e-d953472ecdc4",
   "metadata": {},
   "outputs": [],
   "source": [
    "timeToSamples(20e-6, 6)"
   ]
  },
  {
   "cell_type": "code",
   "execution_count": null,
   "id": "b3a20723-1868-4241-b06b-8b330f0c4077",
   "metadata": {},
   "outputs": [],
   "source": [
    "timeToSamples(19.9e-6, 6)"
   ]
  },
  {
   "cell_type": "code",
   "execution_count": null,
   "id": "ab2d6716-8ffc-438d-8e0c-f3c1f75dd2e9",
   "metadata": {},
   "outputs": [],
   "source": [
    "read_lens-offset"
   ]
  },
  {
   "cell_type": "code",
   "execution_count": null,
   "id": "7f9191fb-72c0-46d4-902a-70fe6f549a30",
   "metadata": {},
   "outputs": [],
   "source": [
    "read_lens"
   ]
  },
  {
   "cell_type": "code",
   "execution_count": null,
   "id": "5923d5f3-9a5c-43bd-99c4-cf3f88f5f011",
   "metadata": {},
   "outputs": [],
   "source": [
    "read_lens = pulse_time / read_time\n",
    "read_lens"
   ]
  },
  {
   "cell_type": "code",
   "execution_count": null,
   "id": "a4e40c83-adc8-45fe-889f-9ae900044f39",
   "metadata": {},
   "outputs": [],
   "source": [
    "read_time"
   ]
  },
  {
   "cell_type": "code",
   "execution_count": 1430,
   "id": "2a116a53-b14d-476d-94a3-2005a195bdc3",
   "metadata": {},
   "outputs": [
    {
     "data": {
      "text/plain": [
       "0.5"
      ]
     },
     "execution_count": 1430,
     "metadata": {},
     "output_type": "execute_result"
    }
   ],
   "source": [
    "524288"
   ]
  },
  {
   "cell_type": "code",
   "execution_count": 1432,
   "id": "d871c29c-4be7-4eae-bb1d-bbec7b2e101c",
   "metadata": {},
   "outputs": [
    {
     "data": {
      "text/plain": [
       "524288"
      ]
     },
     "execution_count": 1432,
     "metadata": {},
     "output_type": "execute_result"
    }
   ],
   "source": [
    "2**19"
   ]
  },
  {
   "cell_type": "code",
   "execution_count": 1436,
   "id": "ccd21a4c-da3d-44e4-a760-6924d40e8195",
   "metadata": {},
   "outputs": [
    {
     "data": {
      "text/plain": [
       "2475712"
      ]
     },
     "execution_count": 1436,
     "metadata": {},
     "output_type": "execute_result"
    }
   ],
   "source": [
    "100000*30 - 2**19"
   ]
  },
  {
   "cell_type": "code",
   "execution_count": null,
   "id": "ea99c812-e07f-478d-8222-5d99f2b70021",
   "metadata": {},
   "outputs": [],
   "source": []
  }
 ],
 "metadata": {
  "kernelspec": {
   "display_name": "Python 3 (ipykernel)",
   "language": "python",
   "name": "python3"
  },
  "language_info": {
   "codemirror_mode": {
    "name": "ipython",
    "version": 3
   },
   "file_extension": ".py",
   "mimetype": "text/x-python",
   "name": "python",
   "nbconvert_exporter": "python",
   "pygments_lexer": "ipython3",
   "version": "3.12.3"
  }
 },
 "nbformat": 4,
 "nbformat_minor": 5
}
