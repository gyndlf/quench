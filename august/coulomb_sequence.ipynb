{
 "cells": [
  {
   "cell_type": "markdown",
   "id": "68e5b57b-a85f-455f-ab1e-1537a357e159",
   "metadata": {},
   "source": [
    "# Coulomb tests\n",
    "\n",
    "**AIM**: Sweep the SET to measure coulomb blocking using RF. This has already been done with LabOneQ but we want to recreate it with zurich-instruments directly."
   ]
  },
  {
   "cell_type": "code",
   "execution_count": null,
   "id": "ffd6892f-9fbd-4679-b972-10c4a24643f0",
   "metadata": {},
   "outputs": [],
   "source": [
    "%matplotlib inline\n",
    "import local_broom"
   ]
  },
  {
   "cell_type": "code",
   "execution_count": null,
   "id": "1516685c-6f9c-4477-add1-9d6408fc6241",
   "metadata": {},
   "outputs": [],
   "source": [
    "from zhinst.toolkit import Session, CommandTable, Sequence, Waveforms, SHFQAChannelMode\n",
    "\n",
    "import matplotlib.pyplot as plt\n",
    "import numpy as np\n",
    "from tqdm.notebook import tqdm\n",
    "\n",
    "import time\n",
    "from monty import Monty"
   ]
  },
  {
   "cell_type": "markdown",
   "id": "5bf48fd6-0af7-4dcf-8e42-f7135164c64d",
   "metadata": {},
   "source": [
    "## Setup"
   ]
  },
  {
   "cell_type": "code",
   "execution_count": null,
   "id": "da4d3d6e-d858-4aeb-85cb-eccfeeb999f3",
   "metadata": {},
   "outputs": [],
   "source": [
    "# connect to instruments\n",
    "\n",
    "DEVICE_ID = 'DEV12158'\n",
    "SERVER_HOST = 'localhost'\n",
    "\n",
    "# connect to data server\n",
    "session = Session(SERVER_HOST)\n",
    "\n",
    "# connect to device\n",
    "device = session.connect_device(DEVICE_ID)"
   ]
  },
  {
   "cell_type": "code",
   "execution_count": null,
   "id": "14c3736a-e12d-420d-93e8-29f05b0a72ec",
   "metadata": {},
   "outputs": [],
   "source": [
    "#session.disconnect_device(DEVICE_ID)"
   ]
  },
  {
   "cell_type": "code",
   "execution_count": null,
   "id": "9615c876-55c8-48ae-9f1f-8715b384f1b1",
   "metadata": {},
   "outputs": [],
   "source": [
    "experiment = {\n",
    "    \"desc\": \"Measure coulomb peaks.\"\n",
    "}\n",
    "\n",
    "monty = Monty(\"rf.ramp rate\", experiment)"
   ]
  },
  {
   "cell_type": "markdown",
   "id": "1b50bd90-e48f-4de5-a9b8-83e2d1c64a18",
   "metadata": {},
   "source": [
    "### Variables\n",
    "\n",
    "**TODO**: Reformat this into a directory for lookup later"
   ]
  },
  {
   "cell_type": "code",
   "execution_count": null,
   "id": "fbb70913-64e0-4e0f-a0a3-952b9ad01a40",
   "metadata": {},
   "outputs": [],
   "source": [
    "# gate sampling time\n",
    "samplingDivider = 6\n",
    "\n",
    "# setup averaging. It is faster to run averages on the device but no feedback can take place\n",
    "averages = 1  # python averages\n",
    "seq_averages = 1000  # seqc averages\n",
    "\n",
    "# readout signals\n",
    "readout_gain = 0.95  # If we set this to 1, then output overloads\n",
    "readout_freq = 406.6e6  # (Hz)\n",
    "\n",
    "# drive line amplitudes (maximum 340mV, give in terms of V)\n",
    "read_amp = 0.2\n",
    "dr_start = -0.5  # start and end voltages applied to ST\n",
    "dr_end = 0.5\n",
    "num_pulses = 200  # number of unique waveforms to generate\n",
    "\n",
    "# powers\n",
    "input_pwr = -10\n",
    "output_pwr = -10\n",
    "dr_pwr = 0\n",
    "\n",
    "# timings in seconds\n",
    "prior_time = 10e-6  # A time\n",
    "read_time = 25e-6  # integration time\n",
    "buffer_time = 50e-6  # note actual pulse time is buffer_time*2+read_time for ST, and only read_time for ACQ\n",
    "trigger_time = 1e-3  # internal trigger holdoff time (metronome)"
   ]
  },
  {
   "cell_type": "code",
   "execution_count": null,
   "id": "9754a5c8-cdd4-4793-a71f-22171c48888e",
   "metadata": {},
   "outputs": [],
   "source": [
    "# generated variables\n",
    "pulse_time = buffer_time*2 + read_time"
   ]
  },
  {
   "cell_type": "markdown",
   "id": "a2e8a05c-a2f3-404e-9f5a-3df601f4d279",
   "metadata": {},
   "source": [
    "### Functions"
   ]
  },
  {
   "cell_type": "code",
   "execution_count": null,
   "id": "eb919969-f596-4a03-bf41-113b7337b7a4",
   "metadata": {},
   "outputs": [],
   "source": [
    "def timeToSamples(time, samplingRateDivider):\n",
    "    # returns the number of samples divisible by 16 given a time (in seconds) and sampling rate divider\n",
    "    samples_raw = time * (1/(2**samplingRateDivider))/0.5e-9\n",
    "    samples_modulo = int(samples_raw) % 16\n",
    "    samples = int(samples_raw) - int(samples_modulo)\n",
    "    return samples\n",
    "\n",
    "# def voltToDbm(volt, dbmrange):\n",
    "#     '''WIP. Returns a normalized amplitude given a dBm output range. \n",
    "#     Calibrated using scope, and doing it a shit way (not real conversion).\n",
    "#     See page 47 of manual.\n",
    "#     Volts given in units of V.\n",
    "#     There is an odd bug (feature?) here, where if the amplitude exceeds 1 (e.g. 1.1), it wraps around and becomes -0.1, \n",
    "#     and 2.1 becomes 0.1 etc.\n",
    "#     This shouldn't be a problem, but it manifests in the pulseAndRamp array as this takes default values of 0.34V for 1:1\n",
    "#     scaling, flipping P1 and P2 voltages around.\n",
    "#     The fix is to decrease the default values down by 10x, and increase input voltages 10x, and everything is happy.\n",
    "#     If you want to change this to a more sane method, go ahead.'''\n",
    "#     amp = volt / 0.340\n",
    "#     # if volt > 0.340 or volt < -0.340:\n",
    "#     #     raise ValueError(\"Given voltage is greater than max output of SHFQC (+-0.34 V)\")\n",
    "#     if dbmrange != 0:\n",
    "#         raise Exception(\"This function only works with a dBm range of 0.\")\n",
    "#     return amp\n",
    "\n",
    "# custom curve fit\n",
    "amps = [1, 0.85, 0.75, 0.65,  0.5, 0.35, 0.25, 0.2, 0.125, 0.05]\n",
    "voltages = [0.34, 0.268, 0.207, 0.158, 0.094, 0.0481,  0.026, 0.0183, 0.01, 0.0057]\n",
    "\n",
    "alt_fit = np.poly1d(np.polyfit(amps, voltages, 2))\n",
    "# Hard coding alt_fit values in case something goes horribly wrong\n",
    "\n",
    "def voltToDbm(volt, dbmrange):\n",
    "    # Ok yes this can be better, deal with it\n",
    "    if dbmrange != 0:\n",
    "        raise Exception(\"This function only works with a dBm range of 0.\")\n",
    "    \n",
    "    if volt > 0.34 or volt < -0.34:\n",
    "        raise ValueError(f\"Given voltage ({volt} V) is greater than max output of SHFQC (0.34 V)\")\n",
    "    \n",
    "    if volt < 0:\n",
    "        amplitude = 1/300*(np.sqrt(3e5*-volt + 529) - 23)\n",
    "        return -amplitude\n",
    "    else:\n",
    "        amplitude = 1/300*(np.sqrt(3e5*volt + 529) - 23)\n",
    "        return amplitude\n",
    "\n",
    "\n",
    "def get_results(result_node, timeout):\n",
    "    wave_data_captured = {}\n",
    "    wave_data_captured[result_node] = False\n",
    "    start_time = time.time()\n",
    "    captured_data = {}\n",
    "    while not all(wave_data_captured.values()):\n",
    "        if start_time + timeout < time.time():\n",
    "            print(captured_data)\n",
    "            raise TimeoutError('Timeout before all samples collected.')\n",
    "        test = session.poll()\n",
    "        for node, value in test.items():\n",
    "            node = session.raw_path_to_node(node)\n",
    "            for v in value:\n",
    "                if node not in captured_data:\n",
    "                    captured_data[node] = [v['vector']]\n",
    "                else:\n",
    "                    captured_data[node].append(v['vector'])\n",
    "            if len(captured_data[node]) >= 1:  # readout 1 point\n",
    "                wave_data_captured[node] = True\n",
    "                # total_num_data = sum([len(element) for element in captured_data[node]])\n",
    "    data = captured_data[result_node][0]\n",
    "    return data\n",
    "\n",
    "def cmdtable(ct, amplitude, length, wave_index, ct_index):\n",
    "    \"\"\"\n",
    "    Load a default command table with a sin/cos wave (used throughout the documentation)\n",
    "    \"\"\"\n",
    "    ct.table[ct_index].waveform.index = wave_index\n",
    "    ct.table[ct_index].amplitude00.value = amplitude  # all in dBm\n",
    "    ct.table[ct_index].amplitude01.value = -amplitude\n",
    "    ct.table[ct_index].amplitude10.value = amplitude\n",
    "    ct.table[ct_index].amplitude11.value = amplitude\n",
    "    ct.table[ct_index].waveform.length = length  # in samples\n",
    "    ct.table[ct_index].waveform.samplingRateDivider = samplingDivider  # inherit global"
   ]
  },
  {
   "cell_type": "code",
   "execution_count": null,
   "id": "08afbc44-f749-4e17-aad4-e9025e110652",
   "metadata": {},
   "outputs": [],
   "source": [
    "voltToDbm(0,0)"
   ]
  },
  {
   "cell_type": "markdown",
   "id": "39acdfe7-3abb-4804-8d5c-422716574e98",
   "metadata": {},
   "source": [
    "### Setup channels"
   ]
  },
  {
   "cell_type": "code",
   "execution_count": null,
   "id": "1b32fd27-05a8-4334-8524-db178fed61c4",
   "metadata": {},
   "outputs": [],
   "source": [
    "# Create channel maps for simplicity\n",
    "\n",
    "chan = {\n",
    "    \"measure\": device.qachannels[0],  # measure and acquire lines\n",
    "    \"ST\": device.sgchannels[0],\n",
    "    \"P1\": device.sgchannels[1],  # drive P1 line\n",
    "    \"P2\": device.sgchannels[2],  # drive P2 line\n",
    "}\n",
    "\n",
    "drive_chans = [\"ST\", \"P1\", \"P2\"]  # match keys above"
   ]
  },
  {
   "cell_type": "code",
   "execution_count": null,
   "id": "c38b0156-a22b-4401-a248-b5295dba45fe",
   "metadata": {},
   "outputs": [],
   "source": [
    "with device.set_transaction():\n",
    "    # setup drive channels\n",
    "    for c in drive_chans:\n",
    "        chan[c].output.range(dr_pwr)  # in dBm\n",
    "        chan[c].output.rflfpath(0)  # use LF not RF (1 for RF)\n",
    "    \n",
    "        # set the center synth frequency (oscillator frequency)\n",
    "        synth = chan[c].synthesizer()\n",
    "        device.synthesizers[synth].centerfreq(0)  # in Hz\n",
    "        chan[c].output.on(1)  # enable output\n",
    "    \n",
    "        chan[c].awg.outputamplitude(1.0)  # overall amplitude scaling factor (don't really need to change)\n",
    "        chan[c].oscs[0].freq(0)  # oscillator 1 frequency (Hz) disable for DC\n",
    "        chan[c].oscs[1].freq(0)  # oscillator 2 frequency (Hz)\n",
    "        chan[c].awg.modulation.enable(1)  # start digital modulation\n",
    "    \n",
    "        chan[c].marker.source(0)  # setup the AWG trigger 1 (is this an input trigger option? doesn't seem necessary)\n",
    "        # see manual page p235 for all trigger options\n",
    "        chan[c].awg.auxtriggers[0].channel(8)  # 8=use internal trigger, 1024=use software trigger\n",
    "\n",
    "    # setup measure channel\n",
    "    \n",
    "    chan[\"measure\"].output.rflfpath(0)  # use LF mode not RF (for signals under 600Mhz)\n",
    "    chan[\"measure\"].input.rflfpath(0)\n",
    "    chan[\"measure\"].oscs[0].freq(readout_freq)  # CW frequency (in LF mode)\n",
    "    chan[\"measure\"].oscs[0].gain(readout_gain)  # If we set this to 1, then output overloads\n",
    "\n",
    "    # configure these based on how the sweeper works internally\n",
    "    # See https://docs.zhinst.com/zhinst-utils/en/latest/_modules/zhinst/utils/shf_sweeper.html#ShfSweeper\n",
    "    chan[\"measure\"].spectroscopy.delay(0)  # integration delay in units of second\n",
    "    chan[\"measure\"].spectroscopy.length(timeToSamples(read_time, samplingDivider))  # integration time length in units of number of samples (usually integration_time*sampling_rate)\n",
    "    # setup when the spectroscopy is triggered\n",
    "    chan[\"measure\"].spectroscopy.trigger.channel(\"chan0seqtrig0\")  # make sure to use the trigger coming from the sequencer code\n",
    "    # setup result parameters\n",
    "    chan[\"measure\"].spectroscopy.result.averages(1)  # number of averages (always average in software not hardware)\n",
    "    chan[\"measure\"].spectroscopy.result.length(num_pulses*seq_averages)  # number of results\n",
    "    chan[\"measure\"].spectroscopy.result.enable(0)  # disable result logger\n",
    "\n",
    "    chan[\"measure\"].configure_channel(\n",
    "        center_frequency=0,  # in units of Hz  # minimum of 600MHz for RF mode\n",
    "        input_range=input_pwr,  # in units of dBm\n",
    "        output_range=output_pwr,  # in units of dBm\n",
    "        mode=SHFQAChannelMode.SPECTROSCOPY,  # SHFQAChannelMode.READOUT or SHFQAChannelMode.SPECTROSCOPY\n",
    "    )\n",
    "    \n",
    "    chan[\"measure\"].input.on(1)\n",
    "    chan[\"measure\"].output.on(1)\n",
    "\n",
    "    chan[\"measure\"].generator.auxtriggers[1].channel(\"inttrig\")  # i believe this is overwritten by the following line\n",
    "    chan[\"measure\"].generator.configure_sequencer_triggering(\n",
    "        aux_trigger=8,  # alternatively use 8=internal trigger, or \"software_trigger0\" to use the software triggering system\n",
    "        play_pulse_delay=0\n",
    "    )\n"
   ]
  },
  {
   "cell_type": "markdown",
   "id": "e350bfc6-0f0f-475a-8403-7ff4c9ac80f1",
   "metadata": {},
   "source": [
    "### Sequencer code"
   ]
  },
  {
   "cell_type": "code",
   "execution_count": null,
   "id": "76f2b900-b4fe-4975-968a-3fd5493866e4",
   "metadata": {},
   "outputs": [],
   "source": [
    "# use the same waveforms for all sequence programs\n",
    "st_prog_code = f\"\"\"\n",
    "\n",
    "// Assign a single channel waveform to wave table entry 0\n",
    "wave w_a = ones({timeToSamples(pulse_time, samplingDivider)});\n",
    "assignWaveIndex(1,2, w_a, 0);\n",
    "\n",
    "// Reset the oscillator phase\n",
    "resetOscPhase();\n",
    "\n",
    "repeat({seq_averages}) {{\n",
    "    for (var i = 0; i < {num_pulses+1}; i++) {{\n",
    "        waitDigTrigger(1);\n",
    "        \n",
    "        setTrigger(1);  // Trigger the scope\n",
    "        setTrigger(0);\n",
    "    \n",
    "        playZero({timeToSamples(prior_time, samplingDivider)}, {samplingDivider});\n",
    "        executeTableEntry(i);\n",
    "    }}\n",
    "}}\n",
    "\"\"\"\n",
    "\n",
    "readout_prog_code = f\"\"\"\n",
    "setTrigger(0); // Set low as this starts the spectroscopy readout....\n",
    "\n",
    "repeat({seq_averages}) {{\n",
    "    for (cvar i = 0.0; i < {num_pulses+1}; i++) {{\n",
    "        waitDigTrigger(1);\n",
    "    \n",
    "        playZero(224); // lineup with SG trigger (224 samples = lines up with SG trigger)\n",
    "        \n",
    "        playZero({timeToSamples(prior_time+buffer_time, samplingDivider)}, {samplingDivider});\n",
    "    \n",
    "        playZero({timeToSamples(read_time, samplingDivider)}, {samplingDivider});  // non-blocking, so skipped\n",
    "        setTrigger(1);  // trigger the output. As this matches \"chan0seqtrig0\" the spectroscopy is started\n",
    "        setTrigger(0);\n",
    "    }}\n",
    "}}\n",
    "\"\"\""
   ]
  },
  {
   "cell_type": "code",
   "execution_count": null,
   "id": "78abe214-c1fe-4dc9-be18-24a1f546cb2e",
   "metadata": {},
   "outputs": [],
   "source": [
    "# upload waveforms to instrument\n",
    "\n",
    "# load ST driver\n",
    "print(f\"_________ {chan[\"ST\"]} _________\")\n",
    "print(st_prog_code)\n",
    "print(chan[\"ST\"].awg.load_sequencer_program(st_prog_code))\n",
    "\n",
    "# upload measure code\n",
    "print(f\"_________  {chan[\"measure\"]}  _________\")\n",
    "print(readout_prog_code)\n",
    "print(chan[\"measure\"].generator.load_sequencer_program(readout_prog_code))"
   ]
  },
  {
   "cell_type": "markdown",
   "id": "8535f019-b4d3-45e7-ad65-0034bb65ffe6",
   "metadata": {},
   "source": [
    "### Verify sequences"
   ]
  },
  {
   "cell_type": "code",
   "execution_count": null,
   "id": "8419878e-393c-4bd8-81ab-53419f85a4e6",
   "metadata": {},
   "outputs": [],
   "source": [
    "loaded_waveforms = chan[\"ST\"].awg.read_from_waveform_memory()\n",
    "loaded_waveforms.validate(chan[\"ST\"].awg.waveform.descriptors())"
   ]
  },
  {
   "cell_type": "markdown",
   "id": "00e9d228-17e7-402b-90e1-b6bc645f2c6f",
   "metadata": {},
   "source": [
    "### Setup command tables\n",
    "\n",
    "Each command table for every pulse"
   ]
  },
  {
   "cell_type": "code",
   "execution_count": null,
   "id": "eb9a018a-7460-4b8d-9ced-289cf82f450c",
   "metadata": {},
   "outputs": [],
   "source": [
    "# COMMAND TABLES\n",
    "\n",
    "pulse_amps = np.linspace(dr_start, dr_end, num_pulses)\n",
    "\n",
    "schema = chan[\"ST\"].awg.commandtable.load_validation_schema()\n",
    "ct = CommandTable(schema)\n",
    "\n",
    "output_dbm = chan[\"ST\"].output.range()\n",
    "for i, pulse_amp in enumerate(pulse_amps):\n",
    "    cmdtable(ct,\n",
    "             amplitude= voltToDbm(pulse_amp, output_dbm),\n",
    "             length=timeToSamples(pulse_time, samplingDivider),\n",
    "             wave_index=0,\n",
    "             ct_index=i,\n",
    "            )\n",
    "chan[\"ST\"].awg.commandtable.upload_to_device(ct)"
   ]
  },
  {
   "cell_type": "markdown",
   "id": "16f1ad40-9558-4c5c-a6b9-a193ef5cffd9",
   "metadata": {},
   "source": [
    "### Setup internal trigger"
   ]
  },
  {
   "cell_type": "code",
   "execution_count": null,
   "id": "8332f9f7-7daf-41f1-94d3-dcc149884b59",
   "metadata": {},
   "outputs": [],
   "source": [
    "device.system.internaltrigger.repetitions(num_pulses*seq_averages)  # make sure that this matches how many pulses we are sending\n",
    "device.system.internaltrigger.holdoff(trigger_time)  # init_len + 2*wait_and_settle + 100e-6*2)  # how long to wait between retriggers (increments of 100ns)"
   ]
  },
  {
   "cell_type": "markdown",
   "id": "efdd603f-0841-4dbe-a483-7762268940a5",
   "metadata": {},
   "source": [
    "## Run"
   ]
  },
  {
   "cell_type": "code",
   "execution_count": null,
   "id": "2efb0c29-68b4-4bc2-b89f-e471e19d80cb",
   "metadata": {},
   "outputs": [],
   "source": [
    "# setup channel synchronization\n",
    "chan[\"measure\"].synchronization.enable(1)\n",
    "chan[\"P1\"].synchronization.enable(1)\n",
    "device.system.internaltrigger.synchronization.enable(1)"
   ]
  },
  {
   "cell_type": "code",
   "execution_count": null,
   "id": "18ed0c27-79ed-4d00-8740-7e0e59a6f921",
   "metadata": {},
   "outputs": [],
   "source": [
    "data = np.zeros((averages, num_pulses), dtype=np.complex64)\n",
    "\n",
    "monty.newrun(\"p1 sweep\", {})\n",
    "\n",
    "for avg in tqdm(range(averages)):\n",
    "    #print(f\"AVG={avg}\")\n",
    "    device.system.internaltrigger.enable(0)\n",
    "    \n",
    "    result_node = chan[\"measure\"].spectroscopy.result.data.wave\n",
    "    result_node.subscribe()\n",
    "    \n",
    "    chan[\"measure\"].spectroscopy.result.enable(1)  # start logger\n",
    "    \n",
    "    # start sequencers\n",
    "    chan[\"measure\"].generator.enable_sequencer(single=True)\n",
    "    chan[\"ST\"].awg.enable_sequencer(single=True)  # dont want to repeat\n",
    "    \n",
    "    # start triggering sequence (which starts each sequencer)\n",
    "    device.system.internaltrigger.enable(1)\n",
    "    time.sleep(0.1)\n",
    "    \n",
    "    # wait for the measurement to complete\n",
    "    tic = time.time()\n",
    "    pbar = tqdm(total=100)\n",
    "    while device.system.internaltrigger.progress() != 1.0:\n",
    "        p = int(device.system.internaltrigger.progress()*100)\n",
    "        pbar.update(p-pbar.n)\n",
    "        time.sleep(0.001)\n",
    "    pbar.update(100-pbar.n)\n",
    "    pbar.close()\n",
    "    #print(time.time()-tic)\n",
    "\n",
    "    # time.sleep(0.1)\n",
    "    m_state = chan[\"measure\"].generator.sequencer.status()\n",
    "    st_state = chan[\"ST\"].awg.sequencer.status()\n",
    "    if m_state != 4 and st_state != 4:\n",
    "        print(TimeoutError(f\"Sequencers in unknown state. Perhaps they are not synchronised? {m_state}, {st_state}\"))\n",
    "        time.sleep(0.5)\n",
    "    \n",
    "    # chan[\"measure\"].spectroscopy.result.enable(0)  # stop data logger\n",
    "    \n",
    "    #device.system.internaltrigger.enable(0)\n",
    "\n",
    "    # wait for completion\n",
    "    while chan[\"measure\"].spectroscopy.result.enable() != 0:\n",
    "        chan[\"measure\"].spectroscopy.result.enable.wait_for_state_change(0, timeout=10)\n",
    "\n",
    "    \n",
    "    # get results\n",
    "    results = get_results(result_node, timeout=5)\n",
    "    result_node.unsubscribe()\n",
    "\n",
    "    # verify results\n",
    "    acq = chan[\"measure\"].spectroscopy.result.acquired()\n",
    "    if len(results) > acq:\n",
    "        print(chan[\"measure\"].generator.ready())\n",
    "        print(chan[\"ST\"].awg.ready())\n",
    "        print(bin(chan[\"measure\"].generator.sequencer.status()))\n",
    "        print(bin(chan[\"ST\"].awg.sequencer.status()))\n",
    "\n",
    "        # Status of the Sequencer on the instrument.\n",
    "        # Bit 0: Sequencer is running;\n",
    "        # Bit 1: reserved;\n",
    "        # Bit 2: Sequencer is waiting for a trigger to arrive;\n",
    "        # Bit 3: Sequencer has detected an error;\n",
    "        # Bit 4: sequencer is waiting for synchronization with other channels\n",
    "        raise TimeoutError(f\"Not all datapoints measured in the time provided. {acq} of {len(results)}.\")\n",
    "\n",
    "    # remove sequence averaging\n",
    "    data[avg] = np.mean(results.reshape((seq_averages, num_pulses)), axis=0)\n",
    "\n",
    "time.sleep(1)\n",
    "chan[\"measure\"].input.on(0)\n",
    "chan[\"measure\"].output.on(0)\n",
    "\n",
    "res = np.mean(data, axis=0)\n",
    "plt.plot(pulse_amps, np.abs(res))\n",
    "plt.xlabel(\"Pulse amplitude (V)\")\n",
    "plt.ylabel(\"RF signal (arb units)\")\n",
    "plt.title(monty.identifier + \".\" + monty.runname)\n",
    "\n",
    "monty.save({\"data\": res})\n",
    "monty.savefig(plt, \"ramp decay\")"
   ]
  },
  {
   "cell_type": "code",
   "execution_count": null,
   "id": "f8c40b11-c2d0-4c66-975b-0a9ca43d92c4",
   "metadata": {},
   "outputs": [],
   "source": [
    "plt.plot(np.abs(res))"
   ]
  }
 ],
 "metadata": {
  "kernelspec": {
   "display_name": "Python 3 (ipykernel)",
   "language": "python",
   "name": "python3"
  },
  "language_info": {
   "codemirror_mode": {
    "name": "ipython",
    "version": 3
   },
   "file_extension": ".py",
   "mimetype": "text/x-python",
   "name": "python",
   "nbconvert_exporter": "python",
   "pygments_lexer": "ipython3",
   "version": "3.12.3"
  }
 },
 "nbformat": 4,
 "nbformat_minor": 5
}
