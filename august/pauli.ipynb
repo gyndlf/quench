{
 "cells": [
  {
   "cell_type": "markdown",
   "id": "4b4bf490b1f909ce",
   "metadata": {
    "collapsed": false,
    "jupyter": {
     "outputs_hidden": false
    }
   },
   "source": [
    "# Pauli Spin Blockade\n",
    "\n",
    "Using new functions in `august/paul.py` and `august/shfqc.py` to make this notebook easier to work with.\n"
   ]
  },
  {
   "cell_type": "code",
   "execution_count": 1,
   "id": "7d06c28557c0d792",
   "metadata": {
    "collapsed": false,
    "jupyter": {
     "outputs_hidden": false
    }
   },
   "outputs": [
    {
     "name": "stdout",
     "output_type": "stream",
     "text": [
      "Added 'quench/' and 'quench/libraries' for easy importing.\n"
     ]
    }
   ],
   "source": [
    "%matplotlib inline\n",
    "import local_broom"
   ]
  },
  {
   "cell_type": "code",
   "execution_count": 2,
   "id": "af92171c-1cfd-4b17-aea2-5235caedb0bd",
   "metadata": {},
   "outputs": [],
   "source": [
    "# Automagically reload modules when they are edited\n",
    "%load_ext autoreload\n",
    "%autoreload 2"
   ]
  },
  {
   "cell_type": "code",
   "execution_count": 3,
   "id": "ce6f8eb7576dc9b3",
   "metadata": {
    "collapsed": false,
    "jupyter": {
     "outputs_hidden": false
    }
   },
   "outputs": [],
   "source": [
    "import matplotlib.pyplot as plt\n",
    "import numpy as np\n",
    "from tqdm.notebook import tqdm\n",
    "from qcodes import Instrument, Station\n",
    "from monty import Monty\n",
    "import MDAC\n",
    "from may.dots import getvoltages\n",
    "from may.custom_devices import connect_to_gb, newSiDot\n",
    "from liveplot import LivePlot\n",
    "from fridge import Fridge\n",
    "import paul\n",
    "from shfqc import SHFQC\n",
    "from monty import Monty\n",
    "import time\n",
    "import logging"
   ]
  },
  {
   "cell_type": "markdown",
   "id": "43568fb3352e1845",
   "metadata": {
    "collapsed": false,
    "jupyter": {
     "outputs_hidden": false
    }
   },
   "source": [
    "## Setup"
   ]
  },
  {
   "cell_type": "code",
   "execution_count": 4,
   "id": "1bfe24c5dde158c9",
   "metadata": {
    "collapsed": false,
    "jupyter": {
     "outputs_hidden": false
    }
   },
   "outputs": [],
   "source": [
    "channels = [\"ST\", \"P1\", \"P2\", \"J\"]\n",
    "channel_addr = [0, 1, 2, 3]\n",
    "\n",
    "shfqc = SHFQC(channels, channel_addr, \"measure\")"
   ]
  },
  {
   "cell_type": "code",
   "execution_count": 5,
   "id": "97cb42be-90e8-458e-9fb5-60e8a4834a37",
   "metadata": {},
   "outputs": [
    {
     "name": "stdout",
     "output_type": "stream",
     "text": [
      "Connecting to device DEV12158\n",
      "Creating new command tables\n",
      "Attempting to remove instrument with name mdac. Does not exist\n",
      "Connected to: QNL Sydney MDAC (serial:0x32353532353551040030003E, firmware:1.8) in 5.26s\n",
      "Cannot remove instrument with name sr860_top. Does not exist\n",
      "Loading GB driver and connecting\n",
      "Manually Open Breakout_box_top_ch15_LCB\n",
      "Manually Open Breakout_box_bot_ch09_RCB\n",
      "Manually Open Breakout_box_bot_ch17_RG\n",
      "Manually Open Breakout_box_top_ch17_ResB\n",
      "Manually Open Breakout_box_top_ch19_P3\n",
      "Manually Open Breakout_box_top_ch13_P2\n",
      "Manually Open Breakout_box_top_ch04_P1\n",
      "Manually Open Breakout_box_top_ch02_SETB\n",
      "Manually Open Breakout_box_bot_ch04_SRB\n",
      "Manually Open Breakout_box_bot_ch06_SLB\n",
      "Manually Open Breakout_box_top_ch10_ST\n",
      "Manually Open Breakout_box_top_ch25_bias\n",
      "Using base URL https://qphys1114.research.ext.sydney.edu.au/therm_flask/BlueFors_LD\n"
     ]
    }
   ],
   "source": [
    "shfqc.connect()\n",
    "\n",
    "try:\n",
    "    mdac = Instrument.find_instrument(\"mdac\")\n",
    "    mdac.close()\n",
    "except KeyError:\n",
    "    print('Attempting to remove instrument with name mdac. Does not exist')\n",
    "\n",
    "mdac = MDAC.MDAC('mdac', 'ASRL11::INSTR')\n",
    "\n",
    "try:\n",
    "    lockin = Instrument.find_instrument(\"sr860_top\")\n",
    "    lockin.close()\n",
    "except KeyError:\n",
    "    print(\"Cannot remove instrument with name sr860_top. Does not exist\")\n",
    "\n",
    "scfg = Station(config_file='/Users/LD2007/Documents/Si_CMOS_james/measurements/system.yaml')\n",
    "\n",
    "# lockin = scfg.load_instrument('sr860_top')\n",
    "\n",
    "\n",
    "\n",
    "gb_control_si = connect_to_gb(mdac)  # Create our custom MDAC mappings\n",
    "si = newSiDot(mdac)\n",
    "fridge = Fridge(\"BlueFors_LD\")"
   ]
  },
  {
   "cell_type": "code",
   "execution_count": 10,
   "id": "754ef626-ae26-4db4-883f-c1bbb58b0e18",
   "metadata": {
    "scrolled": true
   },
   "outputs": [
    {
     "ename": "VisaIOError",
     "evalue": "VI_ERROR_RSRC_NFOUND (-1073807343): Insufficient location information or the requested device or resource is not present in the system.",
     "output_type": "error",
     "traceback": [
      "\u001b[1;31m---------------------------------------------------------------------------\u001b[0m",
      "\u001b[1;31mVisaIOError\u001b[0m                               Traceback (most recent call last)",
      "Cell \u001b[1;32mIn[10], line 3\u001b[0m\n\u001b[0;32m      1\u001b[0m \u001b[38;5;28;01mfrom\u001b[39;00m \u001b[38;5;21;01mqcodes\u001b[39;00m\u001b[38;5;21;01m.\u001b[39;00m\u001b[38;5;21;01minstrument_drivers\u001b[39;00m\u001b[38;5;21;01m.\u001b[39;00m\u001b[38;5;21;01mstanford_research\u001b[39;00m\u001b[38;5;21;01m.\u001b[39;00m\u001b[38;5;21;01mSR860\u001b[39;00m \u001b[38;5;28;01mimport\u001b[39;00m SR860\n\u001b[1;32m----> 3\u001b[0m lockin \u001b[38;5;241m=\u001b[39m \u001b[43mSR860\u001b[49m\u001b[43m(\u001b[49m\u001b[38;5;124;43m'\u001b[39;49m\u001b[38;5;124;43mlockin\u001b[39;49m\u001b[38;5;124;43m'\u001b[39;49m\u001b[43m,\u001b[49m\u001b[43m \u001b[49m\u001b[38;5;124;43m'\u001b[39;49m\u001b[38;5;124;43mTCPIP::192.168.0.100::inst0::INSTR\u001b[39;49m\u001b[38;5;124;43m'\u001b[39;49m\u001b[43m)\u001b[49m\n",
      "File \u001b[1;32m~\\anaconda3\\envs\\q312\\Lib\\site-packages\\qcodes\\instrument\\base.py:559\u001b[0m, in \u001b[0;36mInstrumentMeta.__call__\u001b[1;34m(cls, *args, **kwargs)\u001b[0m\n\u001b[0;32m    554\u001b[0m \u001b[38;5;28;01mdef\u001b[39;00m \u001b[38;5;21m__call__\u001b[39m(\u001b[38;5;28mcls\u001b[39m, \u001b[38;5;241m*\u001b[39margs: Any, \u001b[38;5;241m*\u001b[39m\u001b[38;5;241m*\u001b[39mkwargs: Any) \u001b[38;5;241m-\u001b[39m\u001b[38;5;241m>\u001b[39m Any:\n\u001b[0;32m    555\u001b[0m \u001b[38;5;250m    \u001b[39m\u001b[38;5;124;03m\"\"\"\u001b[39;00m\n\u001b[0;32m    556\u001b[0m \u001b[38;5;124;03m    Overloads `type.__call__` to add code that runs only if __init__ completes\u001b[39;00m\n\u001b[0;32m    557\u001b[0m \u001b[38;5;124;03m    successfully.\u001b[39;00m\n\u001b[0;32m    558\u001b[0m \u001b[38;5;124;03m    \"\"\"\u001b[39;00m\n\u001b[1;32m--> 559\u001b[0m     new_inst \u001b[38;5;241m=\u001b[39m \u001b[38;5;28;43msuper\u001b[39;49m\u001b[43m(\u001b[49m\u001b[43m)\u001b[49m\u001b[38;5;241;43m.\u001b[39;49m\u001b[38;5;21;43m__call__\u001b[39;49m\u001b[43m(\u001b[49m\u001b[38;5;241;43m*\u001b[39;49m\u001b[43margs\u001b[49m\u001b[43m,\u001b[49m\u001b[43m \u001b[49m\u001b[38;5;241;43m*\u001b[39;49m\u001b[38;5;241;43m*\u001b[39;49m\u001b[43mkwargs\u001b[49m\u001b[43m)\u001b[49m\n\u001b[0;32m    560\u001b[0m     is_abstract \u001b[38;5;241m=\u001b[39m new_inst\u001b[38;5;241m.\u001b[39m_is_abstract()\n\u001b[0;32m    561\u001b[0m     \u001b[38;5;28;01mif\u001b[39;00m is_abstract:\n",
      "File \u001b[1;32m~\\anaconda3\\envs\\q312\\Lib\\site-packages\\qcodes\\instrument_drivers\\stanford_research\\SR860.py:9\u001b[0m, in \u001b[0;36mSR860.__init__\u001b[1;34m(self, name, address, reset, **kwargs)\u001b[0m\n\u001b[0;32m      8\u001b[0m \u001b[38;5;28;01mdef\u001b[39;00m \u001b[38;5;21m__init__\u001b[39m(\u001b[38;5;28mself\u001b[39m, name: \u001b[38;5;28mstr\u001b[39m, address: \u001b[38;5;28mstr\u001b[39m, reset: \u001b[38;5;28mbool\u001b[39m\u001b[38;5;241m=\u001b[39m\u001b[38;5;28;01mFalse\u001b[39;00m, \u001b[38;5;241m*\u001b[39m\u001b[38;5;241m*\u001b[39mkwargs: \u001b[38;5;28mstr\u001b[39m) \u001b[38;5;241m-\u001b[39m\u001b[38;5;241m>\u001b[39m\u001b[38;5;28;01mNone\u001b[39;00m:\n\u001b[1;32m----> 9\u001b[0m     \u001b[38;5;28;43msuper\u001b[39;49m\u001b[43m(\u001b[49m\u001b[43m)\u001b[49m\u001b[38;5;241;43m.\u001b[39;49m\u001b[38;5;21;43m__init__\u001b[39;49m\u001b[43m(\u001b[49m\u001b[43mname\u001b[49m\u001b[43m,\u001b[49m\u001b[43m \u001b[49m\u001b[43maddress\u001b[49m\u001b[43m,\u001b[49m\u001b[43m \u001b[49m\u001b[43mmax_frequency\u001b[49m\u001b[38;5;241;43m=\u001b[39;49m\u001b[38;5;241;43m500e3\u001b[39;49m\u001b[43m,\u001b[49m\u001b[43m \u001b[49m\u001b[43mreset\u001b[49m\u001b[38;5;241;43m=\u001b[39;49m\u001b[43mreset\u001b[49m\u001b[43m,\u001b[49m\u001b[43m \u001b[49m\u001b[38;5;241;43m*\u001b[39;49m\u001b[38;5;241;43m*\u001b[39;49m\u001b[43mkwargs\u001b[49m\u001b[43m)\u001b[49m\n",
      "File \u001b[1;32m~\\anaconda3\\envs\\q312\\Lib\\site-packages\\qcodes\\instrument_drivers\\stanford_research\\SR86x.py:667\u001b[0m, in \u001b[0;36mSR86x.__init__\u001b[1;34m(self, name, address, max_frequency, reset, **kwargs)\u001b[0m\n\u001b[0;32m    660\u001b[0m \u001b[38;5;28;01mdef\u001b[39;00m \u001b[38;5;21m__init__\u001b[39m(\n\u001b[0;32m    661\u001b[0m         \u001b[38;5;28mself\u001b[39m,\n\u001b[0;32m    662\u001b[0m         name: \u001b[38;5;28mstr\u001b[39m,\n\u001b[1;32m   (...)\u001b[0m\n\u001b[0;32m    665\u001b[0m         reset: \u001b[38;5;28mbool\u001b[39m \u001b[38;5;241m=\u001b[39m \u001b[38;5;28;01mFalse\u001b[39;00m,\n\u001b[0;32m    666\u001b[0m         \u001b[38;5;241m*\u001b[39m\u001b[38;5;241m*\u001b[39mkwargs: Any):\n\u001b[1;32m--> 667\u001b[0m     \u001b[38;5;28;43msuper\u001b[39;49m\u001b[43m(\u001b[49m\u001b[43m)\u001b[49m\u001b[38;5;241;43m.\u001b[39;49m\u001b[38;5;21;43m__init__\u001b[39;49m\u001b[43m(\u001b[49m\u001b[43mname\u001b[49m\u001b[43m,\u001b[49m\u001b[43m \u001b[49m\u001b[43maddress\u001b[49m\u001b[43m,\u001b[49m\u001b[43m \u001b[49m\u001b[43mterminator\u001b[49m\u001b[38;5;241;43m=\u001b[39;49m\u001b[38;5;124;43m'\u001b[39;49m\u001b[38;5;130;43;01m\\n\u001b[39;49;00m\u001b[38;5;124;43m'\u001b[39;49m\u001b[43m,\u001b[49m\u001b[43m \u001b[49m\u001b[38;5;241;43m*\u001b[39;49m\u001b[38;5;241;43m*\u001b[39;49m\u001b[43mkwargs\u001b[49m\u001b[43m)\u001b[49m\n\u001b[0;32m    668\u001b[0m     \u001b[38;5;28mself\u001b[39m\u001b[38;5;241m.\u001b[39m_max_frequency \u001b[38;5;241m=\u001b[39m max_frequency\n\u001b[0;32m    669\u001b[0m     \u001b[38;5;66;03m# Reference commands\u001b[39;00m\n",
      "File \u001b[1;32m~\\anaconda3\\envs\\q312\\Lib\\site-packages\\qcodes\\instrument\\visa.py:83\u001b[0m, in \u001b[0;36mVisaInstrument.__init__\u001b[1;34m(self, name, address, timeout, terminator, device_clear, visalib, **kwargs)\u001b[0m\n\u001b[0;32m     81\u001b[0m     \u001b[38;5;28mself\u001b[39m\u001b[38;5;241m.\u001b[39mvisa_log\u001b[38;5;241m.\u001b[39mexception(\u001b[38;5;124mf\u001b[39m\u001b[38;5;124m\"\u001b[39m\u001b[38;5;124mCould not connect at \u001b[39m\u001b[38;5;132;01m{\u001b[39;00maddress\u001b[38;5;132;01m}\u001b[39;00m\u001b[38;5;124m\"\u001b[39m)\n\u001b[0;32m     82\u001b[0m     \u001b[38;5;28mself\u001b[39m\u001b[38;5;241m.\u001b[39mclose()\n\u001b[1;32m---> 83\u001b[0m     \u001b[38;5;28;01mraise\u001b[39;00m e\n\u001b[0;32m     85\u001b[0m \u001b[38;5;28;01mif\u001b[39;00m device_clear:\n\u001b[0;32m     86\u001b[0m     \u001b[38;5;28mself\u001b[39m\u001b[38;5;241m.\u001b[39mdevice_clear()\n",
      "File \u001b[1;32m~\\anaconda3\\envs\\q312\\Lib\\site-packages\\qcodes\\instrument\\visa.py:79\u001b[0m, in \u001b[0;36mVisaInstrument.__init__\u001b[1;34m(self, name, address, timeout, terminator, device_clear, visalib, **kwargs)\u001b[0m\n\u001b[0;32m     71\u001b[0m \u001b[38;5;28mself\u001b[39m\u001b[38;5;241m.\u001b[39madd_parameter(\u001b[38;5;124m'\u001b[39m\u001b[38;5;124mtimeout\u001b[39m\u001b[38;5;124m'\u001b[39m,\n\u001b[0;32m     72\u001b[0m                    get_cmd\u001b[38;5;241m=\u001b[39m\u001b[38;5;28mself\u001b[39m\u001b[38;5;241m.\u001b[39m_get_visa_timeout,\n\u001b[0;32m     73\u001b[0m                    set_cmd\u001b[38;5;241m=\u001b[39m\u001b[38;5;28mself\u001b[39m\u001b[38;5;241m.\u001b[39m_set_visa_timeout,\n\u001b[0;32m     74\u001b[0m                    unit\u001b[38;5;241m=\u001b[39m\u001b[38;5;124m'\u001b[39m\u001b[38;5;124ms\u001b[39m\u001b[38;5;124m'\u001b[39m,\n\u001b[0;32m     75\u001b[0m                    vals\u001b[38;5;241m=\u001b[39mvals\u001b[38;5;241m.\u001b[39mMultiType(vals\u001b[38;5;241m.\u001b[39mNumbers(min_value\u001b[38;5;241m=\u001b[39m\u001b[38;5;241m0\u001b[39m),\n\u001b[0;32m     76\u001b[0m                                        vals\u001b[38;5;241m.\u001b[39mEnum(\u001b[38;5;28;01mNone\u001b[39;00m)))\n\u001b[0;32m     78\u001b[0m \u001b[38;5;28;01mtry\u001b[39;00m:\n\u001b[1;32m---> 79\u001b[0m     \u001b[38;5;28;43mself\u001b[39;49m\u001b[38;5;241;43m.\u001b[39;49m\u001b[43mset_address\u001b[49m\u001b[43m(\u001b[49m\u001b[43maddress\u001b[49m\u001b[43m)\u001b[49m\n\u001b[0;32m     80\u001b[0m \u001b[38;5;28;01mexcept\u001b[39;00m \u001b[38;5;167;01mException\u001b[39;00m \u001b[38;5;28;01mas\u001b[39;00m e:\n\u001b[0;32m     81\u001b[0m     \u001b[38;5;28mself\u001b[39m\u001b[38;5;241m.\u001b[39mvisa_log\u001b[38;5;241m.\u001b[39mexception(\u001b[38;5;124mf\u001b[39m\u001b[38;5;124m\"\u001b[39m\u001b[38;5;124mCould not connect at \u001b[39m\u001b[38;5;132;01m{\u001b[39;00maddress\u001b[38;5;132;01m}\u001b[39;00m\u001b[38;5;124m\"\u001b[39m)\n",
      "File \u001b[1;32m~\\anaconda3\\envs\\q312\\Lib\\site-packages\\qcodes\\instrument\\visa.py:118\u001b[0m, in \u001b[0;36mVisaInstrument.set_address\u001b[1;34m(self, address)\u001b[0m\n\u001b[0;32m    115\u001b[0m     \u001b[38;5;28mself\u001b[39m\u001b[38;5;241m.\u001b[39mvisabackend \u001b[38;5;241m=\u001b[39m \u001b[38;5;124m\"\u001b[39m\u001b[38;5;124mivi\u001b[39m\u001b[38;5;124m\"\u001b[39m\n\u001b[0;32m    117\u001b[0m \u001b[38;5;28mself\u001b[39m\u001b[38;5;241m.\u001b[39mvisa_log\u001b[38;5;241m.\u001b[39minfo(\u001b[38;5;124mf\u001b[39m\u001b[38;5;124m'\u001b[39m\u001b[38;5;124mOpening PyVISA resource at address: \u001b[39m\u001b[38;5;132;01m{\u001b[39;00maddress\u001b[38;5;132;01m}\u001b[39;00m\u001b[38;5;124m'\u001b[39m)\n\u001b[1;32m--> 118\u001b[0m resource \u001b[38;5;241m=\u001b[39m \u001b[43mresource_manager\u001b[49m\u001b[38;5;241;43m.\u001b[39;49m\u001b[43mopen_resource\u001b[49m\u001b[43m(\u001b[49m\u001b[43maddress\u001b[49m\u001b[43m)\u001b[49m\n\u001b[0;32m    119\u001b[0m \u001b[38;5;28;01mif\u001b[39;00m \u001b[38;5;129;01mnot\u001b[39;00m \u001b[38;5;28misinstance\u001b[39m(resource, visa\u001b[38;5;241m.\u001b[39mresources\u001b[38;5;241m.\u001b[39mMessageBasedResource):\n\u001b[0;32m    120\u001b[0m     \u001b[38;5;28;01mraise\u001b[39;00m \u001b[38;5;167;01mTypeError\u001b[39;00m(\u001b[38;5;124m\"\u001b[39m\u001b[38;5;124mQCoDeS only support MessageBasedResource \u001b[39m\u001b[38;5;124m\"\u001b[39m\n\u001b[0;32m    121\u001b[0m                     \u001b[38;5;124m\"\u001b[39m\u001b[38;5;124mVisa resources\u001b[39m\u001b[38;5;124m\"\u001b[39m)\n",
      "File \u001b[1;32m~\\anaconda3\\envs\\q312\\Lib\\site-packages\\pyvisa\\highlevel.py:3304\u001b[0m, in \u001b[0;36mResourceManager.open_resource\u001b[1;34m(self, resource_name, access_mode, open_timeout, resource_pyclass, **kwargs)\u001b[0m\n\u001b[0;32m   3298\u001b[0m     \u001b[38;5;28;01mif\u001b[39;00m \u001b[38;5;129;01mnot\u001b[39;00m present:\n\u001b[0;32m   3299\u001b[0m         \u001b[38;5;28;01mraise\u001b[39;00m \u001b[38;5;167;01mValueError\u001b[39;00m(\n\u001b[0;32m   3300\u001b[0m             \u001b[38;5;124m\"\u001b[39m\u001b[38;5;132;01m%r\u001b[39;00m\u001b[38;5;124m is not a valid attribute for type \u001b[39m\u001b[38;5;132;01m%s\u001b[39;00m\u001b[38;5;124m\"\u001b[39m\n\u001b[0;32m   3301\u001b[0m             \u001b[38;5;241m%\u001b[39m (key, res\u001b[38;5;241m.\u001b[39m\u001b[38;5;18m__class__\u001b[39m\u001b[38;5;241m.\u001b[39m\u001b[38;5;18m__name__\u001b[39m)\n\u001b[0;32m   3302\u001b[0m         )\n\u001b[1;32m-> 3304\u001b[0m \u001b[43mres\u001b[49m\u001b[38;5;241;43m.\u001b[39;49m\u001b[43mopen\u001b[49m\u001b[43m(\u001b[49m\u001b[43maccess_mode\u001b[49m\u001b[43m,\u001b[49m\u001b[43m \u001b[49m\u001b[43mopen_timeout\u001b[49m\u001b[43m)\u001b[49m\n\u001b[0;32m   3306\u001b[0m \u001b[38;5;28;01mfor\u001b[39;00m key, value \u001b[38;5;129;01min\u001b[39;00m kwargs\u001b[38;5;241m.\u001b[39mitems():\n\u001b[0;32m   3307\u001b[0m     \u001b[38;5;28msetattr\u001b[39m(res, key, value)\n",
      "File \u001b[1;32m~\\anaconda3\\envs\\q312\\Lib\\site-packages\\pyvisa\\resources\\resource.py:297\u001b[0m, in \u001b[0;36mResource.open\u001b[1;34m(self, access_mode, open_timeout)\u001b[0m\n\u001b[0;32m    293\u001b[0m logger\u001b[38;5;241m.\u001b[39mdebug(\u001b[38;5;124m\"\u001b[39m\u001b[38;5;132;01m%s\u001b[39;00m\u001b[38;5;124m - opening ...\u001b[39m\u001b[38;5;124m\"\u001b[39m, \u001b[38;5;28mself\u001b[39m\u001b[38;5;241m.\u001b[39m_resource_name, extra\u001b[38;5;241m=\u001b[39m\u001b[38;5;28mself\u001b[39m\u001b[38;5;241m.\u001b[39m_logging_extra)\n\u001b[0;32m    294\u001b[0m \u001b[38;5;28;01mwith\u001b[39;00m \u001b[38;5;28mself\u001b[39m\u001b[38;5;241m.\u001b[39m_resource_manager\u001b[38;5;241m.\u001b[39mignore_warning(\n\u001b[0;32m    295\u001b[0m     constants\u001b[38;5;241m.\u001b[39mStatusCode\u001b[38;5;241m.\u001b[39msuccess_device_not_present\n\u001b[0;32m    296\u001b[0m ):\n\u001b[1;32m--> 297\u001b[0m     \u001b[38;5;28mself\u001b[39m\u001b[38;5;241m.\u001b[39msession, status \u001b[38;5;241m=\u001b[39m \u001b[38;5;28;43mself\u001b[39;49m\u001b[38;5;241;43m.\u001b[39;49m\u001b[43m_resource_manager\u001b[49m\u001b[38;5;241;43m.\u001b[39;49m\u001b[43mopen_bare_resource\u001b[49m\u001b[43m(\u001b[49m\n\u001b[0;32m    298\u001b[0m \u001b[43m        \u001b[49m\u001b[38;5;28;43mself\u001b[39;49m\u001b[38;5;241;43m.\u001b[39;49m\u001b[43m_resource_name\u001b[49m\u001b[43m,\u001b[49m\u001b[43m \u001b[49m\u001b[43maccess_mode\u001b[49m\u001b[43m,\u001b[49m\u001b[43m \u001b[49m\u001b[43mopen_timeout\u001b[49m\n\u001b[0;32m    299\u001b[0m \u001b[43m    \u001b[49m\u001b[43m)\u001b[49m\n\u001b[0;32m    301\u001b[0m     \u001b[38;5;28;01mif\u001b[39;00m status \u001b[38;5;241m==\u001b[39m constants\u001b[38;5;241m.\u001b[39mStatusCode\u001b[38;5;241m.\u001b[39msuccess_device_not_present:\n\u001b[0;32m    302\u001b[0m         \u001b[38;5;66;03m# The device was not ready when we opened the session.\u001b[39;00m\n\u001b[0;32m    303\u001b[0m         \u001b[38;5;66;03m# Now it gets five seconds more to become ready.\u001b[39;00m\n\u001b[0;32m    304\u001b[0m         \u001b[38;5;66;03m# Every 0.1 seconds we probe it with viClear.\u001b[39;00m\n\u001b[0;32m    305\u001b[0m         start_time \u001b[38;5;241m=\u001b[39m time\u001b[38;5;241m.\u001b[39mtime()\n",
      "File \u001b[1;32m~\\anaconda3\\envs\\q312\\Lib\\site-packages\\pyvisa\\highlevel.py:3232\u001b[0m, in \u001b[0;36mResourceManager.open_bare_resource\u001b[1;34m(self, resource_name, access_mode, open_timeout)\u001b[0m\n\u001b[0;32m   3203\u001b[0m \u001b[38;5;28;01mdef\u001b[39;00m \u001b[38;5;21mopen_bare_resource\u001b[39m(\n\u001b[0;32m   3204\u001b[0m     \u001b[38;5;28mself\u001b[39m,\n\u001b[0;32m   3205\u001b[0m     resource_name: \u001b[38;5;28mstr\u001b[39m,\n\u001b[0;32m   3206\u001b[0m     access_mode: constants\u001b[38;5;241m.\u001b[39mAccessModes \u001b[38;5;241m=\u001b[39m constants\u001b[38;5;241m.\u001b[39mAccessModes\u001b[38;5;241m.\u001b[39mno_lock,\n\u001b[0;32m   3207\u001b[0m     open_timeout: \u001b[38;5;28mint\u001b[39m \u001b[38;5;241m=\u001b[39m constants\u001b[38;5;241m.\u001b[39mVI_TMO_IMMEDIATE,\n\u001b[0;32m   3208\u001b[0m ) \u001b[38;5;241m-\u001b[39m\u001b[38;5;241m>\u001b[39m Tuple[VISASession, StatusCode]:\n\u001b[0;32m   3209\u001b[0m \u001b[38;5;250m    \u001b[39m\u001b[38;5;124;03m\"\"\"Open the specified resource without wrapping into a class.\u001b[39;00m\n\u001b[0;32m   3210\u001b[0m \n\u001b[0;32m   3211\u001b[0m \u001b[38;5;124;03m    Parameters\u001b[39;00m\n\u001b[1;32m   (...)\u001b[0m\n\u001b[0;32m   3230\u001b[0m \n\u001b[0;32m   3231\u001b[0m \u001b[38;5;124;03m    \"\"\"\u001b[39;00m\n\u001b[1;32m-> 3232\u001b[0m     \u001b[38;5;28;01mreturn\u001b[39;00m \u001b[38;5;28;43mself\u001b[39;49m\u001b[38;5;241;43m.\u001b[39;49m\u001b[43mvisalib\u001b[49m\u001b[38;5;241;43m.\u001b[39;49m\u001b[43mopen\u001b[49m\u001b[43m(\u001b[49m\u001b[38;5;28;43mself\u001b[39;49m\u001b[38;5;241;43m.\u001b[39;49m\u001b[43msession\u001b[49m\u001b[43m,\u001b[49m\u001b[43m \u001b[49m\u001b[43mresource_name\u001b[49m\u001b[43m,\u001b[49m\u001b[43m \u001b[49m\u001b[43maccess_mode\u001b[49m\u001b[43m,\u001b[49m\u001b[43m \u001b[49m\u001b[43mopen_timeout\u001b[49m\u001b[43m)\u001b[49m\n",
      "File \u001b[1;32m~\\anaconda3\\envs\\q312\\Lib\\site-packages\\pyvisa\\ctwrapper\\functions.py:1851\u001b[0m, in \u001b[0;36mopen\u001b[1;34m(library, session, resource_name, access_mode, open_timeout)\u001b[0m\n\u001b[0;32m   1847\u001b[0m out_session \u001b[38;5;241m=\u001b[39m ViSession()\n\u001b[0;32m   1849\u001b[0m \u001b[38;5;66;03m# [ViSession, ViRsrc, ViAccessMode, ViUInt32, ViPSession]\u001b[39;00m\n\u001b[0;32m   1850\u001b[0m \u001b[38;5;66;03m# ViRsrc converts from (str, unicode, bytes) to bytes\u001b[39;00m\n\u001b[1;32m-> 1851\u001b[0m ret \u001b[38;5;241m=\u001b[39m \u001b[43mlibrary\u001b[49m\u001b[38;5;241;43m.\u001b[39;49m\u001b[43mviOpen\u001b[49m\u001b[43m(\u001b[49m\n\u001b[0;32m   1852\u001b[0m \u001b[43m    \u001b[49m\u001b[43msession\u001b[49m\u001b[43m,\u001b[49m\u001b[43m \u001b[49m\u001b[43mresource_name\u001b[49m\u001b[43m,\u001b[49m\u001b[43m \u001b[49m\u001b[43maccess_mode\u001b[49m\u001b[43m,\u001b[49m\u001b[43m \u001b[49m\u001b[43mopen_timeout\u001b[49m\u001b[43m,\u001b[49m\u001b[43m \u001b[49m\u001b[43mbyref\u001b[49m\u001b[43m(\u001b[49m\u001b[43mout_session\u001b[49m\u001b[43m)\u001b[49m\n\u001b[0;32m   1853\u001b[0m \u001b[43m\u001b[49m\u001b[43m)\u001b[49m\n\u001b[0;32m   1854\u001b[0m \u001b[38;5;28;01mreturn\u001b[39;00m out_session\u001b[38;5;241m.\u001b[39mvalue, ret\n",
      "File \u001b[1;32m~\\anaconda3\\envs\\q312\\Lib\\site-packages\\pyvisa\\ctwrapper\\highlevel.py:222\u001b[0m, in \u001b[0;36mIVIVisaLibrary._return_handler\u001b[1;34m(self, ret_value, func, arguments)\u001b[0m\n\u001b[0;32m    219\u001b[0m         \u001b[38;5;66;03m# Set session back to a safe value\u001b[39;00m\n\u001b[0;32m    220\u001b[0m         session \u001b[38;5;241m=\u001b[39m \u001b[38;5;28;01mNone\u001b[39;00m\n\u001b[1;32m--> 222\u001b[0m \u001b[38;5;28;01mreturn\u001b[39;00m \u001b[38;5;28;43mself\u001b[39;49m\u001b[38;5;241;43m.\u001b[39;49m\u001b[43mhandle_return_value\u001b[49m\u001b[43m(\u001b[49m\u001b[43msession\u001b[49m\u001b[43m,\u001b[49m\u001b[43m \u001b[49m\u001b[43mret_value\u001b[49m\u001b[43m)\u001b[49m\n",
      "File \u001b[1;32m~\\anaconda3\\envs\\q312\\Lib\\site-packages\\pyvisa\\highlevel.py:251\u001b[0m, in \u001b[0;36mVisaLibraryBase.handle_return_value\u001b[1;34m(self, session, status_code)\u001b[0m\n\u001b[0;32m    248\u001b[0m     \u001b[38;5;28mself\u001b[39m\u001b[38;5;241m.\u001b[39m_last_status_in_session[session] \u001b[38;5;241m=\u001b[39m rv\n\u001b[0;32m    250\u001b[0m \u001b[38;5;28;01mif\u001b[39;00m rv \u001b[38;5;241m<\u001b[39m \u001b[38;5;241m0\u001b[39m:\n\u001b[1;32m--> 251\u001b[0m     \u001b[38;5;28;01mraise\u001b[39;00m errors\u001b[38;5;241m.\u001b[39mVisaIOError(rv)\n\u001b[0;32m    253\u001b[0m \u001b[38;5;28;01mif\u001b[39;00m rv \u001b[38;5;129;01min\u001b[39;00m \u001b[38;5;28mself\u001b[39m\u001b[38;5;241m.\u001b[39missue_warning_on:\n\u001b[0;32m    254\u001b[0m     \u001b[38;5;28;01mif\u001b[39;00m session \u001b[38;5;129;01mand\u001b[39;00m rv \u001b[38;5;129;01mnot\u001b[39;00m \u001b[38;5;129;01min\u001b[39;00m \u001b[38;5;28mself\u001b[39m\u001b[38;5;241m.\u001b[39m_ignore_warning_in_session[session]:\n",
      "\u001b[1;31mVisaIOError\u001b[0m: VI_ERROR_RSRC_NFOUND (-1073807343): Insufficient location information or the requested device or resource is not present in the system."
     ]
    }
   ],
   "source": [
    "from qcodes.instrument_drivers.stanford_research.SR860 import SR860\n",
    "\n",
    "lockin = SR860('lockin', 'TCPIP::192.168.0.100::inst0::INSTR')"
   ]
  },
  {
   "cell_type": "code",
   "execution_count": 19,
   "id": "a6267c1b-6107-4f1c-a39b-50e7d3789630",
   "metadata": {},
   "outputs": [],
   "source": [
    "# Disconnect from all devices\n",
    "disconnect = False\n",
    "if disconnect:\n",
    "    shfqc.disconnect()\n",
    "    try:\n",
    "        mdac = Instrument.find_instrument(\"mdac\")\n",
    "        mdac.close()\n",
    "    except KeyError:\n",
    "        print('Attempting to remove instrument with name mdac. Does not exist')\n",
    "    try:\n",
    "        lockin = Instrument.find_instrument(\"sr860_top\")\n",
    "        lockin.close()\n",
    "    except KeyError:\n",
    "        print(\"Cannot remove instrument with name sr860_top. Does not exist\")"
   ]
  },
  {
   "cell_type": "code",
   "execution_count": 6,
   "id": "9eb5cc0a-4bdb-421f-b6d9-bed97d11d58e",
   "metadata": {},
   "outputs": [
    {
     "name": "stdout",
     "output_type": "stream",
     "text": [
      "Loading existing experiment (ignoring given experiment parameters)\n",
      "Note that no experimental data has been loaded.\n",
      "Next run will have id 11\n"
     ]
    }
   ],
   "source": [
    "# setup monty\n",
    "experiment = {\n",
    "    \"desc\": \"Run detuning and J sweeps to see pauli spin blockade\"\n",
    "}\n",
    "\n",
    "monty = Monty(\"rf.psb_best\", experiment)"
   ]
  },
  {
   "cell_type": "markdown",
   "id": "5ec4e9c3febf774e",
   "metadata": {
    "collapsed": false,
    "jupyter": {
     "outputs_hidden": false
    }
   },
   "source": [
    "### Define parameters"
   ]
  },
  {
   "cell_type": "code",
   "execution_count": 7,
   "id": "8a8780a308427a47",
   "metadata": {
    "collapsed": false,
    "jupyter": {
     "outputs_hidden": false
    }
   },
   "outputs": [],
   "source": [
    "params = {\n",
    "    \"amplitude_volts\": {  # define the amplitudes that should be used. (maximum 340mV, give in Volts)\n",
    "        \"mixed_pulse\": {  # voltage amplitude for mixed state preperation\n",
    "            \"P1\": -0.2,  # make sure keys match drive lines above\n",
    "            \"P2\": 0.2,\n",
    "        },\n",
    "        \"measure_pulse_start\": {  # voltages for stepping over when sweeping\n",
    "            \"P1\": 0.0,\n",
    "            \"P2\": -0.0,\n",
    "            \"J\": 0,\n",
    "        },\n",
    "        \"measure_pulse_end\": {\n",
    "            \"P1\": -0.006,\n",
    "            \"P2\": 0.006,\n",
    "            \"J\": 0,\n",
    "        },\n",
    "        \"ramp_rate\": 13e-5,  # V/sample\n",
    "    },\n",
    "    \"readout\": {\n",
    "        \"freq\": 406.6e6,  # (Hz) try 406.2e6\n",
    "        \"gain\": 0.95,  # If we set this to 1, then output overloads\n",
    "        \"time\": 100e-6,  # sec\n",
    "    },\n",
    "    \"timings_sec\": {  # all in seconds\n",
    "        \"mixed_initilise\": 600e-6,\n",
    "        \"read\": 100e-6,\n",
    "        \"settle\": 3e-3,\n",
    "        \"trigger\": 8e-3,  # metronome of the internal trigger\n",
    "        \"buffer\": 10e-6,\n",
    "        \"sampling_divider\": 6,  # playback waveform resolution 2^X\n",
    "    },\n",
    "    \"feedback\": {\n",
    "        \"target\": -24.1,  # in dB\n",
    "        \"stepsize\": 2e-2,  # arbitrary units\n",
    "        \"slope\": -0,  # -1, 1 depending on slope, 0 to disable feedback\n",
    "    },\n",
    "    \"powers\": {  # in dB presets from UI\n",
    "        \"acq_in\": 10,\n",
    "        \"acq_out\": -10,\n",
    "        \"drive\": 0,  # only 0 is supported\n",
    "    },\n",
    "    \"averaging\": {\n",
    "        \"seqc_averages\": 300,  # max 2**19 points\n",
    "        \"num_detuning\": 100,\n",
    "        \"num_j\": 1,\n",
    "    },\n",
    "    \"gates\": getvoltages(mdac),\n",
    "    \"temp\": f\"Mixing chamber {fridge.temp()} K\",\n",
    "}\n",
    "\n",
    "\n",
    "# Dynamic variables\n",
    "# create arrays of our sweeping paramters\n",
    "j_steps = np.linspace(params[\"amplitude_volts\"][\"measure_pulse_start\"][\"J\"],\n",
    "                      params[\"amplitude_volts\"][\"measure_pulse_end\"][\"J\"],\n",
    "                      params[\"averaging\"][\"num_j\"])\n",
    "p1_steps = np.linspace(params[\"amplitude_volts\"][\"measure_pulse_start\"][\"P1\"],\n",
    "                       params[\"amplitude_volts\"][\"measure_pulse_end\"][\"P1\"],\n",
    "                       params[\"averaging\"][\"num_detuning\"])\n",
    "p2_steps = np.linspace(params[\"amplitude_volts\"][\"measure_pulse_start\"][\"P2\"],\n",
    "                       params[\"amplitude_volts\"][\"measure_pulse_end\"][\"P2\"],\n",
    "                       params[\"averaging\"][\"num_detuning\"])"
   ]
  },
  {
   "cell_type": "markdown",
   "id": "c402cc49-e682-42cd-8beb-b3bb2908e925",
   "metadata": {},
   "source": [
    "## Run functions"
   ]
  },
  {
   "cell_type": "code",
   "execution_count": 34,
   "id": "a51da08d-ee05-4718-8dd2-3a33007d0958",
   "metadata": {},
   "outputs": [],
   "source": [
    "def sweep_j_and_detuning():\n",
    "    \"\"\"2D parameter sweep of J and P1/P2 in detuning setup. Can measure PSB if mixed state preperation amplitude is not zero\"\"\"\n",
    "    monty.newrun(\"j_and_detuning\", params)\n",
    "\n",
    "    # setup channels to match parameters\n",
    "    paul.setupchannels(shfqc, params)\n",
    "    paul.setupsequencers(shfqc, params, print_programs=False)\n",
    "    paul.setup_command_tables(shfqc, params)\n",
    "    time.sleep(1)  # wait to make sure everything processed in time\n",
    "\n",
    "    # work out what we should be doing for feedback\n",
    "    print(\"Measuring initial feedback point\")\n",
    "    paul.synchchannels(shfqc, [shfqc.qa_channel_name])\n",
    "    with shfqc.device.set_transaction():\n",
    "        \n",
    "        shfqc[\"measure\"].spectroscopy.result.length(1)\n",
    "        seqc_program_prior_read = f\"\"\"\n",
    "            repeat({params[\"averaging\"][\"seqc_averages\"]}) {{\n",
    "                waitDigTrigger(1);\n",
    "        \n",
    "                setTrigger(1);\n",
    "                setTrigger(0);\n",
    "            }}\n",
    "            \"\"\"\n",
    "        shfqc[\"measure\"].generator.load_sequencer_program(seqc_program_prior_read)\n",
    "    \n",
    "    time.sleep(1)\n",
    "    shfqc[\"measure\"].spectroscopy.result.length.wait_for_state_change(1, timeout=10)  # wait for changes to propagate\n",
    "    \n",
    "    data = paul.run_empty_experiment(shfqc)\n",
    "\n",
    "    # run the real experiment\n",
    "    paul.synchchannels(shfqc, [shfqc.qa_channel_name] + shfqc.drive_channels)\n",
    "    paul.setupsequencers(shfqc, params, print_programs=False)  # reload original QA code\n",
    "    shfqc[\"measure\"].spectroscopy.result.length(2)\n",
    "    time.sleep(2)\n",
    "    \n",
    "    result = np.zeros((params[\"averaging\"][\"num_j\"], params[\"averaging\"][\"num_detuning\"], 2), dtype=np.complex64)\n",
    "    st_result = np.zeros(result.shape, dtype=np.float64)\n",
    "    \n",
    "    print(\"Sweeping P1, P2 and J\")\n",
    "    for i, j in enumerate(tqdm(j_steps, desc=\"J\")):\n",
    "        #with LivePlot(p1_steps, xlabel=\"P1 voltage (dV)\", ylabel=\"Amplitude (dB)\") as lplot: \n",
    "        \n",
    "        for k, (p1, p2) in enumerate(zip(tqdm(p1_steps, leave=False, desc=\"Detuning\"), p2_steps)):\n",
    "            paul.movemeasurement(shfqc, p1, p2, j, params)  # Use cmd index = 1\n",
    "            #st_result[i, k] = paul.calculate_feedback(shfqc, data[-1], params)  # cmd index = 0\n",
    "            paul.upload_command_tables(shfqc)\n",
    "            data = paul.run_psb_experiment(shfqc)\n",
    "            result[i, k] = data\n",
    "            #lplot.update(autodb(result[i, :, 1]))\n",
    "        monty.snapshot({\"data\": result, \"st_result\": st_result})\n",
    "\n",
    "    results = {\"data\": result, \"st_result\": st_result}\n",
    "    monty.save(results)\n",
    "    return results"
   ]
  },
  {
   "cell_type": "code",
   "execution_count": null,
   "id": "0d3d5399-3b24-4f14-a6fb-b7fa4b1d8e27",
   "metadata": {},
   "outputs": [],
   "source": []
  },
  {
   "cell_type": "code",
   "execution_count": 8,
   "id": "3236e284-bc8c-4d47-997e-201d0332ec7b",
   "metadata": {},
   "outputs": [],
   "source": [
    "def hyper_j_sweep():\n",
    "    \"\"\"\n",
    "    Sweep j and detuning quickly by offloading as much as possible on the SHFQC device.\n",
    "    Unforrtunately in this regime it is impossible to do feedback during detuning (although it can be done over J)\n",
    "    \"\"\"\n",
    "    monty.newrun(\"hyper_j\", params)\n",
    "\n",
    "    if \"feedback\" in params.keys():\n",
    "        logging.warning(\"Feedback specified in params but not used in this experiment\")\n",
    "\n",
    "    # setup channels for hyper sweeps\n",
    "    paul.setupchannels(shfqc, params, hyper=True)\n",
    "    paul.setup_hyper_sequencers(shfqc, params, print_programs=False)\n",
    "    paul.setup_hyper_command_tables(shfqc, params)\n",
    "    \n",
    "    # run the real experiment\n",
    "    paul.synchchannels(shfqc, [shfqc.qa_channel_name, \"P1\", \"P2\", \"J\"])\n",
    "    time.sleep(2)\n",
    "    \n",
    "    result = np.zeros((params[\"averaging\"][\"num_j\"], params[\"averaging\"][\"num_detuning\"]*2), dtype=np.complex64)\n",
    "    \n",
    "    print(\"Sweeping J (python), P1/P2 (seqc)\")\n",
    "    for i, j in enumerate(tqdm(j_steps, desc=\"J\")):\n",
    "        #gb_control_si.VICL(j)\n",
    "        #gettotarget()\n",
    "        time.sleep(1)\n",
    "        #paul.move_j_measurement(shfqc, j, params)\n",
    "        paul.upload_command_tables(shfqc)\n",
    "        result[i, :] = paul.run_hyper_psb_experiment(shfqc)\n",
    "        # update J command table\n",
    "        monty.snapshot({\"data\": result})\n",
    "\n",
    "    results = {\"data\": result}\n",
    "    monty.save(results)\n",
    "    return results\n",
    "    "
   ]
  },
  {
   "cell_type": "code",
   "execution_count": 9,
   "id": "c68de075-79ea-4251-8fe7-5c8f37208156",
   "metadata": {},
   "outputs": [
    {
     "name": "stderr",
     "output_type": "stream",
     "text": [
      "WARNING:root:Feedback specified in params but not used in this experiment\n"
     ]
    },
    {
     "name": "stdout",
     "output_type": "stream",
     "text": [
      "Started new run hyper_j.9\n",
      "Sweeping J (python), P1/P2 (seqc)\n"
     ]
    },
    {
     "data": {
      "application/vnd.jupyter.widget-view+json": {
       "model_id": "b3e9210b619143d6826667aef146328a",
       "version_major": 2,
       "version_minor": 0
      },
      "text/plain": [
       "J:   0%|          | 0/1 [00:00<?, ?it/s]"
      ]
     },
     "metadata": {},
     "output_type": "display_data"
    },
    {
     "data": {
      "application/vnd.jupyter.widget-view+json": {
       "model_id": "",
       "version_major": 2,
       "version_minor": 0
      },
      "text/plain": [
       "Internal trigger:   0%|          | 0/100 [00:00<?, ?it/s]"
      ]
     },
     "metadata": {},
     "output_type": "display_data"
    },
    {
     "name": "stderr",
     "output_type": "stream",
     "text": [
      "WARNING:root:Sequencer measure in unknown state. Perhaps they are not synchronised? State = 0b0\n",
      "WARNING:root:Sequencer P1 in unknown state. Perhaps they are not synchronised? State = 0b0\n",
      "WARNING:root:Sequencer P2 in unknown state. Perhaps they are not synchronised? State = 0b0\n"
     ]
    },
    {
     "name": "stdout",
     "output_type": "stream",
     "text": [
      "Downloading results...\n",
      "Run finished and took 0:04:08.697912.\n",
      "Saving to hyper_j.9.xz\n",
      "Saving to experiment.yaml\n"
     ]
    }
   ],
   "source": [
    "# results = sweep_j_and_detuning()\n",
    "results = hyper_j_sweep()"
   ]
  },
  {
   "cell_type": "code",
   "execution_count": null,
   "id": "4d4dba37-53e1-40bf-b5ae-b6c80bf1b650",
   "metadata": {},
   "outputs": [],
   "source": [
    "print(j_steps)"
   ]
  },
  {
   "cell_type": "code",
   "execution_count": 9,
   "id": "875f409d-167b-4583-bc70-6a15f8c0b18e",
   "metadata": {},
   "outputs": [],
   "source": [
    "gb_control_si.VICL(3.5)"
   ]
  },
  {
   "cell_type": "code",
   "execution_count": null,
   "id": "421f41e4-1862-4149-8ed6-82a6e5059bbc",
   "metadata": {},
   "outputs": [],
   "source": [
    "# The best way to not fuck up the results like last time is to just run it a bunch of times. I am so sorry.\n",
    "\n",
    "j_start = 3.2\n",
    "j_stop = 4\n",
    "j_steps_dc = 60  # ~ 15 minutes per run, should equal overnight\n",
    "\n",
    "j_sweep = np.linspace(j_start, j_stop, j_steps_dc)\n",
    "\n",
    "for v_j in j_sweep:\n",
    "\n",
    "    gb_control_si.VICL(v_j)\n",
    "    time.sleep(1)\n",
    "    gettotarget()\n",
    "    time.sleep(1)\n",
    "    results = hyper_j_sweep()"
   ]
  },
  {
   "cell_type": "code",
   "execution_count": null,
   "id": "3bb0940b-112b-48b2-a275-551457e3c616",
   "metadata": {},
   "outputs": [],
   "source": [
    "# PLOTTING FUNCTIONS SHOULD ALL BE DONE IN pauli_plots.ipynb"
   ]
  },
  {
   "cell_type": "code",
   "execution_count": 39,
   "id": "2247b324-a8aa-4f2a-877c-70158b190fcc",
   "metadata": {},
   "outputs": [],
   "source": [
    "gb_control_si.VICL(3.5)"
   ]
  },
  {
   "cell_type": "code",
   "execution_count": 7,
   "id": "9b40e478-1009-43d6-b357-e533f97a5920",
   "metadata": {},
   "outputs": [
    {
     "name": "stdout",
     "output_type": "stream",
     "text": [
      "Started new run SET_ST_sweep.1\n",
      "Sweeping Si28_quantum_dot_ST from 3.6V to 3.7V in 101 points.\n"
     ]
    },
    {
     "name": "stderr",
     "output_type": "stream",
     "text": [
      "100%|█████████████████████████████████████████████████████████████████████████████████████████████████████████████████████████████████████████████████████████████████████████████████████████████████████| 101/101 [00:40<00:00,  2.47it/s]\n"
     ]
    },
    {
     "name": "stdout",
     "output_type": "stream",
     "text": [
      "Run finished and took 0:00:46.205044.\n",
      "Saving to SET_ST_sweep.1.xz\n",
      "Saving to experiment.yaml\n"
     ]
    },
    {
     "data": {
      "image/png": "[encoded data removed]",
      "text/plain": [
       "<Figure size 640x480 with 1 Axes>"
      ]
     },
     "metadata": {},
     "output_type": "display_data"
    }
   ],
   "source": [
    "import swiper\n",
    "\n",
    "low = 3.6\n",
    "high = 3.7\n",
    "pts = 101\n",
    "\n",
    "parameters = {\n",
    "    \"desc\": \"Quick 1D scan of the SET over ST\",\n",
    "    \"ST\":   f\"range from {low}v -> {high}v, over {pts} pts\",\n",
    "    \"SLB\":  f\"Fixed at {si.SLB()}V\",\n",
    "    \"SRB\":  f\"Fixed at {si.SRB()}V\",\n",
    "    }\n",
    "\n",
    "monty.newrun(\"SET ST sweep\", parameters)\n",
    "result = swiper.sweep1d(lockin, si.ST, low, high, pts, delay_time=0.3, monty=monty)  # overlap points so we average\n",
    "\n",
    "monty.save(result)"
   ]
  },
  {
   "cell_type": "code",
   "execution_count": 11,
   "id": "5cb0a7a3-b846-49d5-879d-afbf1d35313e",
   "metadata": {},
   "outputs": [],
   "source": [
    "si.ST(3.68)"
   ]
  },
  {
   "cell_type": "code",
   "execution_count": 10,
   "id": "7886925a-70ea-408c-bcde-50d7b6bd8a8b",
   "metadata": {},
   "outputs": [],
   "source": [
    "#si.ST(3.68)\n",
    "target = 0.9e-10  # choose slightly on the right to match \n",
    "tol = 0.01e-10\n",
    "\n",
    "def feedback(gate, lockin, target: float, stepsize=0.001, slope=\"up\"):\n",
    "    \"\"\"\n",
    "    Apply proportional feedback blindly\n",
    "    \"\"\"\n",
    "    if slope == \"up\":\n",
    "        sgn = 1\n",
    "    elif slope == \"down\":\n",
    "        sgn = -1\n",
    "    else:\n",
    "        raise (f\"Unknown slope '{slope}'. Must be either 'up' or 'down'\")\n",
    "\n",
    "    r = lockin.R()\n",
    "    error = (target - r) * sgn\n",
    "    adjust = error / target * stepsize  # normalised error func\n",
    "    g = gate() + adjust  # new gate voltage\n",
    "\n",
    "    upperbound = 3.8\n",
    "    lowerbound = 3.3\n",
    "\n",
    "    if g > upperbound:  # upper bound\n",
    "        print(f\"Aborting feedback: correction voltage exceeds threshold, {g} > {upperbound}. No change to ST.\")\n",
    "    elif g < lowerbound:  # lower bound\n",
    "        print(f\"Aborting feedback: correction voltage fails to meet threshold, {g} < {lowerbound}. No change to ST.\")\n",
    "    #elif np.abs(r-target) > 0.03e-10:  # take a small step if good\n",
    "    #    print(f\"small step {np.abs(r-target)}\")\n",
    "    #    gate(gate() + adjust/4)\n",
    "    #    time.sleep(0.5)\n",
    "    else:\n",
    "        gate(g)\n",
    "        time.sleep(0.5)\n",
    "\n",
    "def gettotarget():  # inherit global variables (bad!!!!)\n",
    "    print(f\"Target = {target:.4e}, tol = {tol}, initial ST = {si.ST()}\")\n",
    "    while np.abs(lockin.R()-target) > tol:\n",
    "        feedback(si.ST, lockin, target, stepsize=0.001, slope=\"up\")\n",
    "        print(f\"\\rST = {si.ST():.4e}, lockin = {lockin.R():.4e}, delta = {np.abs(lockin.R()-target):.4e}\", end=\"\")\n",
    "        time.sleep(0.1)\n",
    "    print(f\"\\nFinal ST = {si.ST()}\")"
   ]
  },
  {
   "cell_type": "code",
   "execution_count": 11,
   "id": "c723b70c-5079-43b6-b41d-0079815dc602",
   "metadata": {},
   "outputs": [
    {
     "name": "stdout",
     "output_type": "stream",
     "text": [
      "Target = 9.0000e-11, tol = 1e-12, initial ST = 3.680002\n",
      "ST = 3.6793e+00, lockin = 8.9393e-11, delta = 6.0087e-13\n",
      "Final ST = 3.679305\n"
     ]
    }
   ],
   "source": [
    "si.ST(3.68)\n",
    "gettotarget()"
   ]
  },
  {
   "cell_type": "code",
   "execution_count": 28,
   "id": "0309d74e-6b7f-4f49-b98e-8c3d615c1c5b",
   "metadata": {},
   "outputs": [
    {
     "data": {
      "text/plain": [
       "3.35002"
      ]
     },
     "execution_count": 28,
     "metadata": {},
     "output_type": "execute_result"
    }
   ],
   "source": [
    "gb_control_si.VICL()"
   ]
  },
  {
   "cell_type": "code",
   "execution_count": null,
   "id": "04f6d865-3180-4edf-8cbc-c1d455fc9695",
   "metadata": {},
   "outputs": [],
   "source": []
  },
  {
   "cell_type": "code",
   "execution_count": null,
   "id": "79718382-268a-4c42-9ebe-4f7e9668dc05",
   "metadata": {},
   "outputs": [],
   "source": []
  }
 ],
 "metadata": {
  "kernelspec": {
   "display_name": "Python 3 (ipykernel)",
   "language": "python",
   "name": "python3"
  },
  "language_info": {
   "codemirror_mode": {
    "name": "ipython",
    "version": 3
   },
   "file_extension": ".py",
   "mimetype": "text/x-python",
   "name": "python",
   "nbconvert_exporter": "python",
   "pygments_lexer": "ipython3",
   "version": "3.12.3"
  }
 },
 "nbformat": 4,
 "nbformat_minor": 5
}
