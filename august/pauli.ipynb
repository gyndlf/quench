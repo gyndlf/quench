{
 "cells": [
  {
   "cell_type": "markdown",
   "source": [
    "# Pauli Spin Blockade\n",
    "\n",
    "Using new functions in `august/paul.py` and `august/shfqc.py` to make this notebook easier to work with.\n"
   ],
   "metadata": {
    "collapsed": false
   },
   "id": "4b4bf490b1f909ce"
  },
  {
   "cell_type": "code",
   "outputs": [],
   "source": [
    "%matplotlib inline\n",
    "import local_broom"
   ],
   "metadata": {
    "collapsed": false
   },
   "id": "7d06c28557c0d792"
  },
  {
   "cell_type": "code",
   "outputs": [],
   "source": [
    "import numpy as np\n",
    "\n",
    "\n",
    "import paul\n",
    "import shfqc"
   ],
   "metadata": {
    "collapsed": false
   },
   "id": "ce6f8eb7576dc9b3"
  },
  {
   "cell_type": "markdown",
   "source": [
    "## Setup"
   ],
   "metadata": {
    "collapsed": false
   },
   "id": "43568fb3352e1845"
  },
  {
   "cell_type": "code",
   "outputs": [],
   "source": [],
   "metadata": {
    "collapsed": false
   },
   "id": "1bfe24c5dde158c9"
  },
  {
   "cell_type": "markdown",
   "source": [
    "### Define parameters"
   ],
   "metadata": {
    "collapsed": false
   },
   "id": "5ec4e9c3febf774e"
  },
  {
   "cell_type": "code",
   "outputs": [],
   "source": [],
   "metadata": {
    "collapsed": false
   },
   "id": "5c13858acd41842a"
  },
  {
   "cell_type": "code",
   "outputs": [],
   "source": [],
   "metadata": {
    "collapsed": false
   },
   "id": "8a8780a308427a47"
  },
  {
   "cell_type": "code",
   "outputs": [],
   "source": [],
   "metadata": {
    "collapsed": false
   },
   "id": "3be8dd27c976e0ba"
  },
  {
   "cell_type": "code",
   "outputs": [],
   "source": [],
   "metadata": {
    "collapsed": false
   },
   "id": "ac296246afe2ffda"
  }
 ],
 "metadata": {
  "kernelspec": {
   "display_name": "Python 3",
   "language": "python",
   "name": "python3"
  },
  "language_info": {
   "codemirror_mode": {
    "name": "ipython",
    "version": 2
   },
   "file_extension": ".py",
   "mimetype": "text/x-python",
   "name": "python",
   "nbconvert_exporter": "python",
   "pygments_lexer": "ipython2",
   "version": "2.7.6"
  }
 },
 "nbformat": 4,
 "nbformat_minor": 5
}
