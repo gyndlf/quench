{
 "cells": [
  {
   "cell_type": "markdown",
   "id": "4b4bf490b1f909ce",
   "metadata": {
    "collapsed": false,
    "jupyter": {
     "outputs_hidden": false
    }
   },
   "source": [
    "# Pauli Spin Blockade\n",
    "\n",
    "Using new functions in `august/paul.py` and `august/shfqc.py` to make this notebook easier to work with.\n"
   ]
  },
  {
   "cell_type": "code",
   "execution_count": 2,
   "id": "7d06c28557c0d792",
   "metadata": {
    "collapsed": false,
    "jupyter": {
     "outputs_hidden": false
    }
   },
   "outputs": [
    {
     "name": "stdout",
     "output_type": "stream",
     "text": [
      "Added 'quench/' and 'quench/libraries' for easy importing.\n"
     ]
    }
   ],
   "source": [
    "%matplotlib inline\n",
    "import local_broom"
   ]
  },
  {
   "cell_type": "code",
   "execution_count": 3,
   "id": "af92171c-1cfd-4b17-aea2-5235caedb0bd",
   "metadata": {},
   "outputs": [],
   "source": [
    "# Automagically reload modules when they are edited\n",
    "%load_ext autoreload\n",
    "%autoreload 2"
   ]
  },
  {
   "cell_type": "code",
   "execution_count": 37,
   "id": "ce6f8eb7576dc9b3",
   "metadata": {
    "collapsed": false,
    "jupyter": {
     "outputs_hidden": false
    }
   },
   "outputs": [],
   "source": [
    "import matplotlib.pyplot as plt\n",
    "import numpy as np\n",
    "from tqdm.notebook import tqdm\n",
    "from qcodes import Instrument, Station\n",
    "from monty import Monty\n",
    "import MDAC\n",
    "from may.dots import getvoltages\n",
    "from may.custom_devices import connect_to_gb, newSiDot\n",
    "from liveplot import LivePlot\n",
    "from fridge import Fridge\n",
    "import paul\n",
    "from shfqc import SHFQC\n",
    "from monty import Monty\n",
    "import time\n",
    "import logging"
   ]
  },
  {
   "cell_type": "markdown",
   "id": "43568fb3352e1845",
   "metadata": {
    "collapsed": false,
    "jupyter": {
     "outputs_hidden": false
    }
   },
   "source": [
    "## Setup"
   ]
  },
  {
   "cell_type": "code",
   "execution_count": 5,
   "id": "1bfe24c5dde158c9",
   "metadata": {
    "collapsed": false,
    "jupyter": {
     "outputs_hidden": false
    }
   },
   "outputs": [],
   "source": [
    "channels = [\"ST\", \"P1\", \"P2\", \"J\"]\n",
    "channel_addr = [0, 1, 2, 3]\n",
    "\n",
    "shfqc = SHFQC(channels, channel_addr, \"measure\")"
   ]
  },
  {
   "cell_type": "code",
   "execution_count": 7,
   "id": "97cb42be-90e8-458e-9fb5-60e8a4834a37",
   "metadata": {},
   "outputs": [
    {
     "name": "stdout",
     "output_type": "stream",
     "text": [
      "Connecting to device DEV12158\n",
      "Creating new command tables\n",
      "Attempting to remove instrument with name mdac. Does not exist\n",
      "Connected to: QNL Sydney MDAC (serial:0x32353532353551040030003E, firmware:1.8) in 4.26s\n",
      "Cannot remove instrument with name sr860_top. Does not exist\n",
      "Connected to: Stanford_Research_Systems SR860 (serial:004279, firmware:V1.51) in 0.10s\n",
      "Loading GB driver and connecting\n",
      "Manually Open Breakout_box_top_ch15_LCB\n",
      "Manually Open Breakout_box_bot_ch09_RCB\n",
      "Manually Open Breakout_box_bot_ch17_RG\n",
      "Manually Open Breakout_box_top_ch17_ResB\n",
      "Manually Open Breakout_box_top_ch19_P3\n",
      "Manually Open Breakout_box_top_ch13_P2\n",
      "Manually Open Breakout_box_top_ch04_P1\n",
      "Manually Open Breakout_box_top_ch02_SETB\n",
      "Manually Open Breakout_box_bot_ch04_SRB\n",
      "Manually Open Breakout_box_bot_ch06_SLB\n",
      "Manually Open Breakout_box_top_ch10_ST\n",
      "Manually Open Breakout_box_top_ch25_bias\n",
      "Using base URL https://qphys1114.research.ext.sydney.edu.au/therm_flask/BlueFors_LD\n"
     ]
    }
   ],
   "source": [
    "shfqc.connect()\n",
    "\n",
    "try:\n",
    "    mdac = Instrument.find_instrument(\"mdac\")\n",
    "    mdac.close()\n",
    "except KeyError:\n",
    "    print('Attempting to remove instrument with name mdac. Does not exist')\n",
    "\n",
    "mdac = MDAC.MDAC('mdac', 'ASRL11::INSTR')\n",
    "\n",
    "try:\n",
    "    lockin = Instrument.find_instrument(\"sr860_top\")\n",
    "    lockin.close()\n",
    "except KeyError:\n",
    "    print(\"Cannot remove instrument with name sr860_top. Does not exist\")\n",
    "\n",
    "scfg = Station(config_file='/Users/LD2007/Documents/Si_CMOS_james/measurements/system.yaml')\n",
    "\n",
    "lockin = scfg.load_instrument('sr860_top')\n",
    "\n",
    "\n",
    "\n",
    "gb_control_si = connect_to_gb(mdac)  # Create our custom MDAC mappings\n",
    "si = newSiDot(mdac)\n",
    "fridge = Fridge(\"BlueFors_LD\")"
   ]
  },
  {
   "cell_type": "code",
   "execution_count": 8,
   "id": "a6267c1b-6107-4f1c-a39b-50e7d3789630",
   "metadata": {},
   "outputs": [],
   "source": [
    "# Disconnect from all devices\n",
    "disconnect = False\n",
    "if disconnect:\n",
    "    shfqc.disconnect()\n",
    "    try:\n",
    "        mdac = Instrument.find_instrument(\"mdac\")\n",
    "        mdac.close()\n",
    "    except KeyError:\n",
    "        print('Attempting to remove instrument with name mdac. Does not exist')\n",
    "    try:\n",
    "        lockin = Instrument.find_instrument(\"sr860_top\")\n",
    "        lockin.close()\n",
    "    except KeyError:\n",
    "        print(\"Cannot remove instrument with name sr860_top. Does not exist\")"
   ]
  },
  {
   "cell_type": "code",
   "execution_count": 9,
   "id": "9eb5cc0a-4bdb-421f-b6d9-bed97d11d58e",
   "metadata": {},
   "outputs": [
    {
     "name": "stdout",
     "output_type": "stream",
     "text": [
      "Loading existing experiment (ignoring given experiment parameters)\n",
      "Note that no experimental data has been loaded.\n",
      "Next run will have id 61\n"
     ]
    }
   ],
   "source": [
    "# setup monty\n",
    "experiment = {\n",
    "    \"desc\": \"Run detuning and J sweeps to see pauli spin blockade\"\n",
    "}\n",
    "\n",
    "monty = Monty(\"rf.psb_better\", experiment)"
   ]
  },
  {
   "cell_type": "markdown",
   "id": "5ec4e9c3febf774e",
   "metadata": {
    "collapsed": false,
    "jupyter": {
     "outputs_hidden": false
    }
   },
   "source": [
    "### Define parameters"
   ]
  },
  {
   "cell_type": "code",
   "execution_count": 15,
   "id": "8a8780a308427a47",
   "metadata": {
    "collapsed": false,
    "jupyter": {
     "outputs_hidden": false
    }
   },
   "outputs": [],
   "source": [
    "params = {\n",
    "    \"amplitude_volts\": {  # define the amplitudes that should be used. (maximum 340mV, give in Volts)\n",
    "        \"mixed_pulse\": {  # voltage amplitude for mixed state preperation\n",
    "            \"P1\": -0.2,  # make sure keys match drive lines above\n",
    "            \"P2\": 0.2,\n",
    "        },\n",
    "        \"measure_pulse_start\": {  # voltages for stepping over when sweeping\n",
    "            \"P1\": 0.0,\n",
    "            \"P2\": 0.0,\n",
    "            \"J\": 0.0,\n",
    "        },\n",
    "        \"measure_pulse_end\": {\n",
    "            \"P1\": -0.01,\n",
    "            \"P2\": 0.01,\n",
    "            \"J\": 0.0,\n",
    "        },\n",
    "        \"ramp_rate\": 13e-5,  # V/sample\n",
    "    },\n",
    "    \"readout\": {\n",
    "        \"freq\": 406.6e6,  # (Hz) try 406.2e6\n",
    "        \"gain\": 0.95,  # If we set this to 1, then output overloads\n",
    "        \"time\": 100e-6,  # sec\n",
    "    },\n",
    "    \"timings_sec\": {  # all in seconds\n",
    "        \"mixed_initilise\": 600e-6,\n",
    "        \"read\": 100e-6,\n",
    "        \"settle\": 3e-3,\n",
    "        \"trigger\": 8e-3,  # metronome of the internal trigger\n",
    "        \"buffer\": 10e-6,\n",
    "        \"sampling_divider\": 6,  # playback waveform resolution 2^X\n",
    "    },\n",
    "    \"feedback\": {\n",
    "        \"target\": -24.1,  # in dB\n",
    "        \"stepsize\": 2e-2,  # arbitrary units\n",
    "        \"slope\": -0,  # -1, 1 depending on slope, 0 to disable feedback\n",
    "    },\n",
    "    \"powers\": {  # in dB presets from UI\n",
    "        \"acq_in\": 0,\n",
    "        \"acq_out\": -10,\n",
    "        \"drive\": 0,  # only 0 is supported\n",
    "    },\n",
    "    \"averaging\": {\n",
    "        \"seqc_averages\": 200,  # max 2**19 points\n",
    "        \"num_detuning\": 100,\n",
    "        \"num_j\": 1,\n",
    "    },\n",
    "    \"gates\": getvoltages(mdac),\n",
    "    \"temp\": f\"Mixing chamber {fridge.temp()} K\",\n",
    "}\n",
    "\n",
    "\n",
    "# Dynamic variables\n",
    "# create arrays of our sweeping paramters\n",
    "j_steps = np.linspace(params[\"amplitude_volts\"][\"measure_pulse_start\"][\"J\"],\n",
    "                      params[\"amplitude_volts\"][\"measure_pulse_end\"][\"J\"],\n",
    "                      params[\"averaging\"][\"num_j\"])\n",
    "p1_steps = np.linspace(params[\"amplitude_volts\"][\"measure_pulse_start\"][\"P1\"],\n",
    "                       params[\"amplitude_volts\"][\"measure_pulse_end\"][\"P1\"],\n",
    "                       params[\"averaging\"][\"num_detuning\"])\n",
    "p2_steps = np.linspace(params[\"amplitude_volts\"][\"measure_pulse_start\"][\"P2\"],\n",
    "                       params[\"amplitude_volts\"][\"measure_pulse_end\"][\"P2\"],\n",
    "                       params[\"averaging\"][\"num_detuning\"])"
   ]
  },
  {
   "cell_type": "markdown",
   "id": "c402cc49-e682-42cd-8beb-b3bb2908e925",
   "metadata": {},
   "source": [
    "## Run functions"
   ]
  },
  {
   "cell_type": "code",
   "execution_count": 29,
   "id": "a51da08d-ee05-4718-8dd2-3a33007d0958",
   "metadata": {},
   "outputs": [],
   "source": [
    "def sweep_j_and_detuning():\n",
    "    \"\"\"2D parameter sweep of J and P1/P2 in detuning setup. Can measure PSB if mixed state preperation amplitude is not zero\"\"\"\n",
    "    monty.newrun(\"j_and_detuning\", params)\n",
    "\n",
    "    # setup channels to match parameters\n",
    "    paul.setupchannels(shfqc, params)\n",
    "    paul.setupsequencers(shfqc, params, print_programs=False)\n",
    "    paul.setup_command_tables(shfqc, params)\n",
    "    time.sleep(1)  # wait to make sure everything processed in time\n",
    "\n",
    "    # work out what we should be doing for feedback\n",
    "    print(\"Measuring initial feedback point\")\n",
    "    paul.synchchannels(shfqc, [shfqc.qa_channel_name])\n",
    "    with shfqc.device.set_transaction():\n",
    "        \n",
    "        shfqc[\"measure\"].spectroscopy.result.length(1)\n",
    "        seqc_program_prior_read = f\"\"\"\n",
    "            repeat({params[\"averaging\"][\"seqc_averages\"]}) {{\n",
    "                waitDigTrigger(1);\n",
    "        \n",
    "                setTrigger(1);\n",
    "                setTrigger(0);\n",
    "            }}\n",
    "            \"\"\"\n",
    "        shfqc[\"measure\"].generator.load_sequencer_program(seqc_program_prior_read)\n",
    "    \n",
    "    time.sleep(1)\n",
    "    shfqc[\"measure\"].spectroscopy.result.length.wait_for_state_change(1, timeout=10)  # wait for changes to propagate\n",
    "    \n",
    "    data = paul.run_empty_experiment(shfqc)\n",
    "\n",
    "    # run the real experiment\n",
    "    paul.synchchannels(shfqc, [shfqc.qa_channel_name] + shfqc.drive_channels)\n",
    "    paul.setupsequencers(shfqc, params, print_programs=False)  # reload original QA code\n",
    "    shfqc[\"measure\"].spectroscopy.result.length(2)\n",
    "    time.sleep(2)\n",
    "    \n",
    "    result = np.zeros((params[\"averaging\"][\"num_j\"], params[\"averaging\"][\"num_detuning\"], 2), dtype=np.complex64)\n",
    "    st_result = np.zeros(result.shape, dtype=np.float64)\n",
    "    \n",
    "    print(\"Sweeping P1, P2 and J\")\n",
    "    for i, j in enumerate(tqdm(j_steps, desc=\"J\")):\n",
    "        #with LivePlot(p1_steps, xlabel=\"P1 voltage (dV)\", ylabel=\"Amplitude (dB)\") as lplot: \n",
    "        \n",
    "        for k, (p1, p2) in enumerate(zip(tqdm(p1_steps, leave=False, desc=\"Detuning\"), p2_steps)):\n",
    "            paul.movemeasurement(shfqc, p1, p2, j, params)  # Use cmd index = 1\n",
    "            #st_result[i, k] = paul.calculate_feedback(shfqc, data[-1], params)  # cmd index = 0\n",
    "            paul.upload_command_tables(shfqc)\n",
    "            data = paul.run_psb_experiment(shfqc)\n",
    "            result[i, k] = data\n",
    "            #lplot.update(autodb(result[i, :, 1]))\n",
    "        monty.snapshot({\"data\": result, \"st_result\": st_result})\n",
    "\n",
    "    results = {\"data\": result, \"st_result\": st_result}\n",
    "    monty.save(results)\n",
    "    return results"
   ]
  },
  {
   "cell_type": "code",
   "execution_count": null,
   "id": "0d3d5399-3b24-4f14-a6fb-b7fa4b1d8e27",
   "metadata": {},
   "outputs": [],
   "source": []
  },
  {
   "cell_type": "code",
   "execution_count": 51,
   "id": "3236e284-bc8c-4d47-997e-201d0332ec7b",
   "metadata": {},
   "outputs": [],
   "source": [
    "def hyper_j_sweep():\n",
    "    \"\"\"\n",
    "    Sweep j and detuning quickly by offloading as much as possible on the SHFQC device.\n",
    "    Unforrtunately in this regime it is impossible to do feedback during detuning (although it can be done over J)\n",
    "    \"\"\"\n",
    "    monty.newrun(\"hyper_j\", params)\n",
    "\n",
    "    if \"feedback\" in params.keys():\n",
    "        logging.warning(\"Feedback specified in params but not used in this experiment\")\n",
    "\n",
    "    # setup channels for hyper sweeps\n",
    "    paul.setupchannels(shfqc, params, hyper=True)\n",
    "    paul.setup_hyper_sequencers(shfqc, params, print_programs=False)\n",
    "    paul.setup_hyper_command_tables(shfqc, params)\n",
    "    \n",
    "    # run the real experiment\n",
    "    paul.synchchannels(shfqc, [shfqc.qa_channel_name, \"P1\", \"P2\", \"J\"])\n",
    "    time.sleep(2)\n",
    "    \n",
    "    result = np.zeros((params[\"averaging\"][\"num_j\"], params[\"averaging\"][\"num_detuning\"]*2), dtype=np.complex64)\n",
    "    \n",
    "    print(\"Sweeping J (python), P1/P2 (seqc)\")\n",
    "    for i, j in enumerate(tqdm(j_steps, desc=\"J\")):\n",
    "        paul.move_j_measurement(shfqc, j, params)\n",
    "        paul.upload_command_tables(shfqc)\n",
    "        result[i, :] = paul.run_hyper_psb_experiment(shfqc)\n",
    "        #monty.snapshot({\"data\": result})\n",
    "\n",
    "    results = {\"data\": result}\n",
    "    monty.save(results)\n",
    "    return results\n",
    "    "
   ]
  },
  {
   "cell_type": "code",
   "execution_count": 52,
   "id": "421f41e4-1862-4149-8ed6-82a6e5059bbc",
   "metadata": {},
   "outputs": [
    {
     "name": "stdout",
     "output_type": "stream",
     "text": [
      "WARNING: Finishing existing run to start a new one\n",
      "Run finished and took 0:02:52.664308.\n",
      "Started new run hyper_j.11\n"
     ]
    },
    {
     "name": "stderr",
     "output_type": "stream",
     "text": [
      "WARNING:root:Feedback specified in params but not used in this experiment\n"
     ]
    },
    {
     "name": "stdout",
     "output_type": "stream",
     "text": [
      "Sweeping J (python), P1/P2 (seqc)\n"
     ]
    },
    {
     "data": {
      "application/vnd.jupyter.widget-view+json": {
       "model_id": "85302ad825bc4c7587154366776a8bd7",
       "version_major": 2,
       "version_minor": 0
      },
      "text/plain": [
       "J:   0%|          | 0/1 [00:00<?, ?it/s]"
      ]
     },
     "metadata": {},
     "output_type": "display_data"
    },
    {
     "data": {
      "application/vnd.jupyter.widget-view+json": {
       "model_id": "",
       "version_major": 2,
       "version_minor": 0
      },
      "text/plain": [
       "Internal trigger:   0%|          | 0/100 [00:00<?, ?it/s]"
      ]
     },
     "metadata": {},
     "output_type": "display_data"
    },
    {
     "name": "stderr",
     "output_type": "stream",
     "text": [
      "WARNING:root:Sequencer measure in unknown state. Perhaps they are not synchronised? State = 0b0\n",
      "WARNING:root:Sequencer P1 in unknown state. Perhaps they are not synchronised? State = 0b0\n",
      "WARNING:root:Sequencer P2 in unknown state. Perhaps they are not synchronised? State = 0b0\n"
     ]
    },
    {
     "name": "stdout",
     "output_type": "stream",
     "text": [
      "Downloading results...\n",
      "Run finished and took 0:00:20.978089.\n",
      "Saving to hyper_j.11.xz\n",
      "Saving to experiment.yaml\n"
     ]
    }
   ],
   "source": [
    "#results = sweep_j_and_detuning()\n",
    "results = hyper_j_sweep()"
   ]
  },
  {
   "cell_type": "code",
   "execution_count": 28,
   "id": "3bb0940b-112b-48b2-a275-551457e3c616",
   "metadata": {},
   "outputs": [],
   "source": [
    "# PLOTTING FUNCTIONS SHOULD ALL BE DONE IN pauli_plots.ipynb"
   ]
  },
  {
   "cell_type": "code",
   "execution_count": null,
   "id": "2247b324-a8aa-4f2a-877c-70158b190fcc",
   "metadata": {},
   "outputs": [],
   "source": []
  }
 ],
 "metadata": {
  "kernelspec": {
   "display_name": "Python 3 (ipykernel)",
   "language": "python",
   "name": "python3"
  },
  "language_info": {
   "codemirror_mode": {
    "name": "ipython",
    "version": 3
   },
   "file_extension": ".py",
   "mimetype": "text/x-python",
   "name": "python",
   "nbconvert_exporter": "python",
   "pygments_lexer": "ipython3",
   "version": "3.12.3"
  }
 },
 "nbformat": 4,
 "nbformat_minor": 5
}
