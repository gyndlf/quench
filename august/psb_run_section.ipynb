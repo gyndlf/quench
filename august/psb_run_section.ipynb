{
 "cells": [
  {
   "cell_type": "markdown",
   "id": "e1c33f9e-cb19-4c15-8a98-f5d838122561",
   "metadata": {},
   "source": [
    "## feedback "
   ]
  },
  {
   "cell_type": "code",
   "execution_count": null,
   "id": "9e125a62-8b12-41f4-8f1e-7043d102c3a6",
   "metadata": {},
   "outputs": [],
   "source": [
    "# fixed variables\n",
    "\n",
    "# feedback parameters\n",
    "FB_TARGET = 1e-5  # give in terms of power output\n",
    "FB_STEPSIZE = 1e-4\n",
    "FB_SLOPE = 1  # 1 or -1 depending on the slope to lock onto\n",
    "\n",
    "# pulse parameters\n",
    "MIXED_AMP = {  # voltage amplitude for mixed state preperation\n",
    "    \"P1\": 0.1,\n",
    "    \"P2\": 0.1,\n",
    "}\n",
    "MES_AMP_START = {  # voltages for stepping over when sweeping\n",
    "    \"P1\": 0.1,\n",
    "    \"P2\": 0.2,\n",
    "    \"J\": ...,\n",
    "}\n",
    "MES_AMP_END = {\n",
    "    \"P1\": 0.2,\n",
    "    \"P2\": 0.1,\n",
    "    \"J\": ...,\n",
    "}\n",
    "\n",
    "# number of measurement steps in detuning and J\n",
    "NUM_DETUNING = 100\n",
    "NUM_J = 1  \n"
   ]
  },
  {
   "cell_type": "code",
   "execution_count": null,
   "id": "231e797f-8d06-4a87-a437-74c4a065bf71",
   "metadata": {},
   "outputs": [],
   "source": [
    "# adjust variables\n",
    "curr_st_amp = 0.3\n",
    "\n",
    "# current command tables\n",
    "cts = {c: CommandTable(chan[c].awg.commandtable.load_validation_schema()) for c in drive_chans}\n",
    "\n",
    "j_steps = np.linspace(MES_AMP_START[\"J\"], MES_AMP_END[\"J\"], NUM_J)\n",
    "p1_steps = np.linspace(MES_AMP_START[\"P1\"], MES_AMP_END[\"P1\"], NUM_DETUNING)\n",
    "p2_steps = np.linspace(MES_AMP_START[\"P2\"], MES_AMP_END[\"P2\"], NUM_DETUNING)"
   ]
  },
  {
   "cell_type": "markdown",
   "id": "fa770205-7db9-4132-8e4c-aecf8392df3f",
   "metadata": {},
   "source": [
    "### Setup command tables"
   ]
  },
  {
   "cell_type": "code",
   "execution_count": null,
   "id": "44d95187-32f6-4968-bf1a-1dddd3236d84",
   "metadata": {},
   "outputs": [],
   "source": [
    "def cmdtable(ct, amplitude, length, wave_index, ct_index):\n",
    "    \"\"\"\n",
    "    Load a default command table with a sin/cos wave (used throughout the documentation)\n",
    "    \"\"\"\n",
    "    ct.table[ct_index].waveform.index = wave_index\n",
    "    ct.table[ct_index].amplitude00.value = amplitude  # all in dBm\n",
    "    ct.table[ct_index].amplitude01.value = -amplitude\n",
    "    ct.table[ct_index].amplitude10.value = amplitude\n",
    "    ct.table[ct_index].amplitude11.value = amplitude\n",
    "    ct.table[ct_index].waveform.length = length  # in samples\n",
    "    ct.table[ct_index].waveform.samplingRateDivider = samplingDivider  # inherit global"
   ]
  },
  {
   "cell_type": "code",
   "execution_count": null,
   "id": "00f31b85-869e-4ac3-a3c2-0b55f54d7045",
   "metadata": {},
   "outputs": [],
   "source": [
    "# each channel only needs two pulses.\n",
    "# initial mixed state creation and then measurement pulse\n",
    "\n",
    "# INDEX\n",
    "# 0 => Create mixed state\n",
    "# 1 => Measurement\n",
    "\n",
    "chan[\"P1\"].awg.commandtable.upload_to_device(ct)"
   ]
  },
  {
   "cell_type": "code",
   "execution_count": null,
   "id": "5fd0c8c0-8dfa-45d8-8cc2-017514b5e135",
   "metadata": {},
   "outputs": [],
   "source": [
    "# load mixed state command channels\n",
    "for c in [\"P1\", \"P2\"]:\n",
    "    cmdtable(cts[c],\n",
    "             amplitude= voltToDbm(MIXED_AMP[c], chan[c].output.range()),\n",
    "             length=timeToSamples(..., samplingDivider),\n",
    "             wave_index=0,\n",
    "             ct_index=0,\n",
    "            )"
   ]
  },
  {
   "cell_type": "code",
   "execution_count": null,
   "id": "4c52fff5-6ebf-402e-b539-2bce10de5c32",
   "metadata": {},
   "outputs": [],
   "source": [
    "def uploadcts():\n",
    "    \"\"\"Upload the command tables to the device\"\"\"\n",
    "    for c in drive_chans:\n",
    "        chan[c].awg.commandtable.upload_to_device(cts[c])"
   ]
  },
  {
   "cell_type": "markdown",
   "id": "060a69c0-2301-4ec1-a4d9-9af2a76a5170",
   "metadata": {},
   "source": [
    "### Run functions"
   ]
  },
  {
   "cell_type": "code",
   "execution_count": null,
   "id": "319df155-c221-4e95-9e7a-7357897c1c68",
   "metadata": {},
   "outputs": [],
   "source": [
    "def waitForInternalTrigger():\n",
    "    \"\"\"\n",
    "    Waits for the internal trigger to finish running and shows the current progress.\n",
    "    \"\"\"\n",
    "    pbar = tqdm(total=100)\n",
    "    while device.system.internaltrigger.progress() != 1.0:\n",
    "        p = int(device.system.internaltrigger.progress()*100)\n",
    "        pbar.update(p-pbar.n)\n",
    "        time.sleep(0.001)\n",
    "    pbar.update(100-pbar.n)\n",
    "    pbar.close()"
   ]
  },
  {
   "cell_type": "code",
   "execution_count": null,
   "id": "9c3ea9fe-b500-4878-a70e-4d881e1fd2cf",
   "metadata": {},
   "outputs": [],
   "source": [
    "def calculatefeedback(data):\n",
    "    \"\"\"Calculate the appropriate feedback adjustment to ST.\"\"\"\n",
    "    # use last datapoint\n",
    "    error = FB_TARGET-np.abs(data[-1])\n",
    "    curr_st_amp += error*FB_STEPSIZE*FB_SLOPE\n",
    "\n",
    "    # update command table\n",
    "    cmdtable(cts[\"ST\"],\n",
    "             amplitude= voltToDbm(curr_st_amp, chan[\"ST\"].output.range()),\n",
    "             length=timeToSamples(..., samplingDivider),\n",
    "             wave_index=0,\n",
    "             ct_index=0,\n",
    "            )\n",
    "    "
   ]
  },
  {
   "cell_type": "code",
   "execution_count": null,
   "id": "bc9ee978-3e29-41b6-9229-f5e5019d6a58",
   "metadata": {},
   "outputs": [],
   "source": [
    "def movemeasurement(i):\n",
    "    \"\"\"Move P1/P2/J to measure the next appropriate datapoint.\"\"\"\n",
    "    "
   ]
  },
  {
   "cell_type": "code",
   "execution_count": null,
   "id": "cc319363-5560-4247-b6f7-8df139ca15c4",
   "metadata": {},
   "outputs": [],
   "source": [
    "def runexperiment():\n",
    "    device.system.internaltrigger.enable(0)\n",
    "\n",
    "    result_node = chan[\"measure\"].spectroscopy.result.data.wave\n",
    "    result_node.subscribe()\n",
    "    \n",
    "    chan[\"measure\"].spectroscopy.result.enable(1)  # start logger\n",
    "    \n",
    "    \n",
    "    # start sequencers\n",
    "    chan[\"measure\"].generator.enable_sequencer(single=True)\n",
    "    chan[\"J\"].awg.enable_sequencer(single=True)  # dont want to repeat\n",
    "    chan[\"P1\"].awg.enable_sequencer(single=True)\n",
    "    chan[\"P2\"].awg.enable_sequencer(single=True)\n",
    "    \n",
    "    \n",
    "    # start triggering sequence (which starts each sequencer)\n",
    "    device.system.internaltrigger.enable(1)\n",
    "    time.sleep(0.2)  # delay for networking issues\n",
    "    \n",
    "        \n",
    "    # wait for the measurement to complete\n",
    "    waitForInternalTrigger()\n",
    "    \n",
    "    \n",
    "    # check sequencers have finished their sequences\n",
    "    # Status of the Sequencer on the instrument.\n",
    "    # - Bit 0: Sequencer is running;\n",
    "    # - Bit 1: reserved;\n",
    "    # - Bit 2: Sequencer is waiting for a trigger to arrive;\n",
    "    # - Bit 3: Sequencer has detected an error;\n",
    "    # - Bit 4: sequencer is waiting for synchronization with other channels\n",
    "    m_state = chan[\"measure\"].generator.sequencer.status()\n",
    "    st_state = chan[\"P1\"].awg.sequencer.status()\n",
    "    if m_state != 4 and st_state != 4:\n",
    "        print(TimeoutError(f\"Sequencers in unknown state. Perhaps they are not synchronised? {bin(m_state)}, {bin(st_state)}\"))\n",
    "        time.sleep(0.5)\n",
    "    \n",
    "    \n",
    "    # wait for completion\n",
    "    while chan[\"measure\"].spectroscopy.result.enable() != 0:\n",
    "        print(chan[\"measure\"].spectroscopy.result.enable())\n",
    "        chan[\"measure\"].spectroscopy.result.enable.wait_for_state_change(0, timeout=10)\n",
    "    \n",
    "    \n",
    "    # get results\n",
    "    results = get_results(result_node, timeout=5)\n",
    "    result_node.unsubscribe()\n",
    "    \n",
    "    \n",
    "    # verify results\n",
    "    acq = chan[\"measure\"].spectroscopy.result.acquired()\n",
    "    if len(results) > acq:\n",
    "        print(chan[\"measure\"].generator.ready())\n",
    "        print([chan[c].awg.ready() for c in drive_chans])\n",
    "        raise TimeoutError(f\"Not all datapoints measured in the time provided. {acq} of {len(results)}.\")\n",
    "    \n",
    "    return np.mean(results.reshape((seq_averages, ...)), axis=0)\n",
    "\n",
    "\n"
   ]
  },
  {
   "cell_type": "markdown",
   "id": "dd8a7ef6-f114-4bf4-8381-75ccf4c756db",
   "metadata": {},
   "source": [
    "On each datapoint need to \n",
    " - Measure the two reference points\n",
    " - Average from SEQC\n",
    " - Apply feedback to negate offset\n",
    " - Adjust command tables for next datapoint"
   ]
  },
  {
   "cell_type": "markdown",
   "id": "749afcc7-9379-4f1c-8480-99c2903c34a3",
   "metadata": {},
   "source": [
    "### Run"
   ]
  },
  {
   "cell_type": "code",
   "execution_count": null,
   "id": "43ba37c2-e04b-49b9-b1e2-85449ae4e422",
   "metadata": {},
   "outputs": [],
   "source": [
    "monty.newrun(\"feedback\", params)\n",
    "\n",
    "for j in j_steps:\n",
    "    for (p1, p2) in zip(p1_steps, p2_steps):\n",
    "        movemeasurement(p1, p2, j)  # CT = 1\n",
    "        calculatefeedback(data)  # CT = 0\n",
    "        uploadcts()\n",
    "        data = runexperiment()\n",
    "        \n",
    "\n",
    "plt.plot(np.linspace(0, pulse_time, read_lens), np.abs(data))  \n",
    "plt.ylabel(\"RF signal (arb units)\")\n",
    "plt.title(monty.identifier + \".\" + monty.runname)\n",
    "\n",
    "monty.save({\"data\": data})\n",
    "monty.savefig(plt, \"ramp decay\")"
   ]
  },
  {
   "cell_type": "code",
   "execution_count": null,
   "id": "a99b90a9-6c76-4830-a88d-a214f5b4ae4c",
   "metadata": {},
   "outputs": [],
   "source": [
    "# calculate feedback\n",
    "\n",
    "# take abs of last measurement\n",
    "error = "
   ]
  }
 ],
 "metadata": {
  "kernelspec": {
   "display_name": "Python 3 (ipykernel)",
   "language": "python",
   "name": "python3"
  },
  "language_info": {
   "codemirror_mode": {
    "name": "ipython",
    "version": 3
   },
   "file_extension": ".py",
   "mimetype": "text/x-python",
   "name": "python",
   "nbconvert_exporter": "python",
   "pygments_lexer": "ipython3",
   "version": "3.12.3"
  }
 },
 "nbformat": 4,
 "nbformat_minor": 5
}
