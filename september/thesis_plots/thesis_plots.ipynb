{
 "cells": [
  {
   "cell_type": "markdown",
   "id": "6bcf9b7de810a133",
   "metadata": {},
   "source": [
    "# Create the right plots for my thesis\n",
    "\n",
    "Note this uses monty to load the plots but saves them manually (overwriting previous plots)"
   ]
  },
  {
   "cell_type": "code",
   "execution_count": 3,
   "id": "a0c2ff6d89874af6",
   "metadata": {
    "is_executing": true
   },
   "outputs": [
    {
     "ename": "ImportError",
     "evalue": "attempted relative import with no known parent package",
     "output_type": "error",
     "traceback": [
      "\u001b[0;31m---------------------------------------------------------------------------\u001b[0m",
      "\u001b[0;31mImportError\u001b[0m                               Traceback (most recent call last)",
      "Input \u001b[0;32mIn [3]\u001b[0m, in \u001b[0;36m<cell line: 3>\u001b[0;34m()\u001b[0m\n\u001b[1;32m      1\u001b[0m get_ipython()\u001b[38;5;241m.\u001b[39mrun_line_magic(\u001b[38;5;124m'\u001b[39m\u001b[38;5;124mmatplotlib\u001b[39m\u001b[38;5;124m'\u001b[39m, \u001b[38;5;124m'\u001b[39m\u001b[38;5;124minline\u001b[39m\u001b[38;5;124m'\u001b[39m)\n\u001b[0;32m----> 3\u001b[0m \u001b[38;5;28;01mfrom\u001b[39;00m \u001b[38;5;21;01m.\u001b[39;00m\u001b[38;5;21;01mlibraries\u001b[39;00m\u001b[38;5;21;01m.\u001b[39;00m\u001b[38;5;21;01mmonty\u001b[39;00m \u001b[38;5;28;01mimport\u001b[39;00m Monty, Monty11, loadraw\n\u001b[1;32m      4\u001b[0m \u001b[38;5;28;01mimport\u001b[39;00m \u001b[38;5;21;01mnumpy\u001b[39;00m \u001b[38;5;28;01mas\u001b[39;00m \u001b[38;5;21;01mnp\u001b[39;00m\n\u001b[1;32m      5\u001b[0m \u001b[38;5;28;01mfrom\u001b[39;00m \u001b[38;5;21;01mthesis_plots\u001b[39;00m \u001b[38;5;28;01mimport\u001b[39;00m \u001b[38;5;241m*\u001b[39m\n",
      "\u001b[0;31mImportError\u001b[0m: attempted relative import with no known parent package"
     ]
    }
   ],
   "source": [
    "%matplotlib inline\n",
    "\n",
    "from .libraries.monty import Monty, Monty11, loadraw\n",
    "import numpy as np\n",
    "from thesis_plots import *"
   ]
  },
  {
   "cell_type": "code",
   "execution_count": 13,
   "id": "a710b83e1c0931e8",
   "metadata": {
    "ExecuteTime": {
     "end_time": "2024-09-21T23:51:21.698572Z",
     "start_time": "2024-09-21T23:51:20.135731Z"
    }
   },
   "outputs": [
    {
     "name": "stdout",
     "output_type": "stream",
     "text": [
      "[2024-09-22 09:51:20,135] INFO Loading existing experiment (ignoring given experiment parameters)\n",
      "[2024-09-22 09:51:20,135] INFO Loading existing experiment (ignoring given experiment parameters)\n",
      "[2024-09-22 09:51:20,135] INFO Loading existing experiment (ignoring given experiment parameters)\n",
      "[2024-09-22 09:51:20,135] INFO Loading existing experiment (ignoring given experiment parameters)\n",
      "[2024-09-22 09:51:20,135] INFO Loading existing experiment (ignoring given experiment parameters)\n",
      "[2024-09-22 09:51:21,324] WARNING Note that no experimental data has been loaded.\n",
      "[2024-09-22 09:51:21,324] WARNING Note that no experimental data has been loaded.\n",
      "[2024-09-22 09:51:21,324] WARNING Note that no experimental data has been loaded.\n",
      "[2024-09-22 09:51:21,324] WARNING Note that no experimental data has been loaded.\n",
      "[2024-09-22 09:51:21,324] WARNING Note that no experimental data has been loaded.\n",
      "[2024-09-22 09:51:21,328] INFO Next run will have id 466\n",
      "[2024-09-22 09:51:21,328] INFO Next run will have id 466\n",
      "[2024-09-22 09:51:21,328] INFO Next run will have id 466\n",
      "[2024-09-22 09:51:21,328] INFO Next run will have id 466\n",
      "[2024-09-22 09:51:21,328] INFO Next run will have id 466\n",
      "[2024-09-22 09:51:21,337] INFO Loading '/Users/james/Documents/Backups/honours-quench-data/dc/power_recovery/1D_SET_sweep.7.xz'\n",
      "[2024-09-22 09:51:21,337] INFO Loading '/Users/james/Documents/Backups/honours-quench-data/dc/power_recovery/1D_SET_sweep.7.xz'\n",
      "[2024-09-22 09:51:21,337] INFO Loading '/Users/james/Documents/Backups/honours-quench-data/dc/power_recovery/1D_SET_sweep.7.xz'\n",
      "[2024-09-22 09:51:21,337] INFO Loading '/Users/james/Documents/Backups/honours-quench-data/dc/power_recovery/1D_SET_sweep.7.xz'\n",
      "[2024-09-22 09:51:21,337] INFO Loading '/Users/james/Documents/Backups/honours-quench-data/dc/power_recovery/1D_SET_sweep.7.xz'\n",
      "Saved to figures/1_peaks.pdf\n"
     ]
    },
    {
     "data": {
      "image/png": "[encoded data removed]",
      "text/plain": [
       "<Figure size 640x480 with 1 Axes>"
      ]
     },
     "metadata": {
      "needs_background": "light"
     },
     "output_type": "display_data"
    }
   ],
   "source": [
    "monty = Monty(\"dc.power_recovery\")\n",
    "result = monty.loadrun(\"1D_SET_sweep.7\")\n",
    "range = slice(35, 70)\n",
    "X = np.linspace(3.2, 3.3, 101)[range]\n",
    "Y = result[\"R\"][range] * 1e9\n",
    "oned_plot(X, Y, xlabel=ST + \"  (V)\", ylabel=\"Current (nA)\", fname=\"1_peaks\")"
   ]
  },
  {
   "cell_type": "code",
   "execution_count": 19,
   "id": "20c24cb920a43d38",
   "metadata": {
    "ExecuteTime": {
     "end_time": "2024-09-22T02:31:07.793084Z",
     "start_time": "2024-09-22T02:31:07.351275Z"
    }
   },
   "outputs": [
    {
     "name": "stdout",
     "output_type": "stream",
     "text": [
      "[2024-09-22 12:31:07,369] INFO Loading existing experiment (ignoring given experiment parameters)\n",
      "[2024-09-22 12:31:07,369] INFO Loading existing experiment (ignoring given experiment parameters)\n",
      "[2024-09-22 12:31:07,369] INFO Loading existing experiment (ignoring given experiment parameters)\n",
      "[2024-09-22 12:31:07,369] INFO Loading existing experiment (ignoring given experiment parameters)\n",
      "[2024-09-22 12:31:07,369] INFO Loading existing experiment (ignoring given experiment parameters)\n",
      "[2024-09-22 12:31:07,369] INFO Loading existing experiment (ignoring given experiment parameters)\n",
      "[2024-09-22 12:31:07,369] INFO Loading existing experiment (ignoring given experiment parameters)\n",
      "[2024-09-22 12:31:07,369] INFO Loading existing experiment (ignoring given experiment parameters)\n",
      "[2024-09-22 12:31:07,731] WARNING Note that no experimental data has been loaded.\n",
      "[2024-09-22 12:31:07,731] WARNING Note that no experimental data has been loaded.\n",
      "[2024-09-22 12:31:07,731] WARNING Note that no experimental data has been loaded.\n",
      "[2024-09-22 12:31:07,731] WARNING Note that no experimental data has been loaded.\n",
      "[2024-09-22 12:31:07,731] WARNING Note that no experimental data has been loaded.\n",
      "[2024-09-22 12:31:07,731] WARNING Note that no experimental data has been loaded.\n",
      "[2024-09-22 12:31:07,731] WARNING Note that no experimental data has been loaded.\n",
      "[2024-09-22 12:31:07,731] WARNING Note that no experimental data has been loaded.\n",
      "[2024-09-22 12:31:07,737] INFO Next run will have id 165\n",
      "[2024-09-22 12:31:07,737] INFO Next run will have id 165\n",
      "[2024-09-22 12:31:07,737] INFO Next run will have id 165\n",
      "[2024-09-22 12:31:07,737] INFO Next run will have id 165\n",
      "[2024-09-22 12:31:07,737] INFO Next run will have id 165\n",
      "[2024-09-22 12:31:07,737] INFO Next run will have id 165\n",
      "[2024-09-22 12:31:07,737] INFO Next run will have id 165\n",
      "[2024-09-22 12:31:07,737] INFO Next run will have id 165\n",
      "[2024-09-22 12:31:07,752] INFO Loading '/Users/james/Documents/Backups/honours-quench-data/rf/set_testing/spectroscopy.xz'\n",
      "[2024-09-22 12:31:07,752] INFO Loading '/Users/james/Documents/Backups/honours-quench-data/rf/set_testing/spectroscopy.xz'\n",
      "[2024-09-22 12:31:07,752] INFO Loading '/Users/james/Documents/Backups/honours-quench-data/rf/set_testing/spectroscopy.xz'\n",
      "[2024-09-22 12:31:07,752] INFO Loading '/Users/james/Documents/Backups/honours-quench-data/rf/set_testing/spectroscopy.xz'\n",
      "[2024-09-22 12:31:07,752] INFO Loading '/Users/james/Documents/Backups/honours-quench-data/rf/set_testing/spectroscopy.xz'\n",
      "[2024-09-22 12:31:07,752] INFO Loading '/Users/james/Documents/Backups/honours-quench-data/rf/set_testing/spectroscopy.xz'\n",
      "[2024-09-22 12:31:07,752] INFO Loading '/Users/james/Documents/Backups/honours-quench-data/rf/set_testing/spectroscopy.xz'\n",
      "[2024-09-22 12:31:07,752] INFO Loading '/Users/james/Documents/Backups/honours-quench-data/rf/set_testing/spectroscopy.xz'\n"
     ]
    }
   ],
   "source": [
    "monty= Monty(\"rf.set_testing\")\n",
    "result = monty.loadrun(\"spectroscopy\")"
   ]
  },
  {
   "cell_type": "code",
   "execution_count": 22,
   "id": "4ff980e9c3b4686",
   "metadata": {
    "ExecuteTime": {
     "end_time": "2024-09-22T02:32:05.992139Z",
     "start_time": "2024-09-22T02:32:05.976714Z"
    }
   },
   "outputs": [
    {
     "data": {
      "text/plain": [
       "(401,)"
      ]
     },
     "execution_count": 22,
     "metadata": {},
     "output_type": "execute_result"
    }
   ],
   "source": [
    "result[\"data\"].shape"
   ]
  },
  {
   "cell_type": "code",
   "execution_count": 33,
   "id": "874655356ffc0ff8",
   "metadata": {
    "ExecuteTime": {
     "end_time": "2024-09-24T04:04:37.470566Z",
     "start_time": "2024-09-24T04:04:37.211589Z"
    }
   },
   "outputs": [
    {
     "name": "stdout",
     "output_type": "stream",
     "text": [
      "[2024-09-24 14:04:37,212] INFO Loading existing experiment (ignoring given experiment parameters)\n",
      "[2024-09-24 14:04:37,212] INFO Loading existing experiment (ignoring given experiment parameters)\n",
      "[2024-09-24 14:04:37,212] INFO Loading existing experiment (ignoring given experiment parameters)\n",
      "[2024-09-24 14:04:37,212] INFO Loading existing experiment (ignoring given experiment parameters)\n",
      "[2024-09-24 14:04:37,212] INFO Loading existing experiment (ignoring given experiment parameters)\n",
      "[2024-09-24 14:04:37,212] INFO Loading existing experiment (ignoring given experiment parameters)\n",
      "[2024-09-24 14:04:37,212] INFO Loading existing experiment (ignoring given experiment parameters)\n",
      "[2024-09-24 14:04:37,212] INFO Loading existing experiment (ignoring given experiment parameters)\n",
      "[2024-09-24 14:04:37,212] INFO Loading existing experiment (ignoring given experiment parameters)\n",
      "[2024-09-24 14:04:37,212] INFO Loading existing experiment (ignoring given experiment parameters)\n",
      "[2024-09-24 14:04:37,212] INFO Loading existing experiment (ignoring given experiment parameters)\n",
      "[2024-09-24 14:04:37,212] INFO Loading existing experiment (ignoring given experiment parameters)\n",
      "[2024-09-24 14:04:37,212] INFO Loading existing experiment (ignoring given experiment parameters)\n",
      "[2024-09-24 14:04:37,293] WARNING WARNING: Experiment version 1.2 does not match current monty version 1.3\n",
      "[2024-09-24 14:04:37,293] WARNING WARNING: Experiment version 1.2 does not match current monty version 1.3\n",
      "[2024-09-24 14:04:37,293] WARNING WARNING: Experiment version 1.2 does not match current monty version 1.3\n",
      "[2024-09-24 14:04:37,293] WARNING WARNING: Experiment version 1.2 does not match current monty version 1.3\n",
      "[2024-09-24 14:04:37,293] WARNING WARNING: Experiment version 1.2 does not match current monty version 1.3\n",
      "[2024-09-24 14:04:37,293] WARNING WARNING: Experiment version 1.2 does not match current monty version 1.3\n",
      "[2024-09-24 14:04:37,293] WARNING WARNING: Experiment version 1.2 does not match current monty version 1.3\n",
      "[2024-09-24 14:04:37,293] WARNING WARNING: Experiment version 1.2 does not match current monty version 1.3\n",
      "[2024-09-24 14:04:37,293] WARNING WARNING: Experiment version 1.2 does not match current monty version 1.3\n",
      "[2024-09-24 14:04:37,293] WARNING WARNING: Experiment version 1.2 does not match current monty version 1.3\n",
      "[2024-09-24 14:04:37,293] WARNING WARNING: Experiment version 1.2 does not match current monty version 1.3\n",
      "[2024-09-24 14:04:37,293] WARNING WARNING: Experiment version 1.2 does not match current monty version 1.3\n",
      "[2024-09-24 14:04:37,293] WARNING WARNING: Experiment version 1.2 does not match current monty version 1.3\n",
      "[2024-09-24 14:04:37,327] ERROR Could not find run map for the experiment. Running future runs will corrupt the file. Only proceed with loading data.\n",
      "[2024-09-24 14:04:37,327] ERROR Could not find run map for the experiment. Running future runs will corrupt the file. Only proceed with loading data.\n",
      "[2024-09-24 14:04:37,327] ERROR Could not find run map for the experiment. Running future runs will corrupt the file. Only proceed with loading data.\n",
      "[2024-09-24 14:04:37,327] ERROR Could not find run map for the experiment. Running future runs will corrupt the file. Only proceed with loading data.\n",
      "[2024-09-24 14:04:37,327] ERROR Could not find run map for the experiment. Running future runs will corrupt the file. Only proceed with loading data.\n",
      "[2024-09-24 14:04:37,327] ERROR Could not find run map for the experiment. Running future runs will corrupt the file. Only proceed with loading data.\n",
      "[2024-09-24 14:04:37,327] ERROR Could not find run map for the experiment. Running future runs will corrupt the file. Only proceed with loading data.\n",
      "[2024-09-24 14:04:37,327] ERROR Could not find run map for the experiment. Running future runs will corrupt the file. Only proceed with loading data.\n",
      "[2024-09-24 14:04:37,327] ERROR Could not find run map for the experiment. Running future runs will corrupt the file. Only proceed with loading data.\n",
      "[2024-09-24 14:04:37,327] ERROR Could not find run map for the experiment. Running future runs will corrupt the file. Only proceed with loading data.\n",
      "[2024-09-24 14:04:37,327] ERROR Could not find run map for the experiment. Running future runs will corrupt the file. Only proceed with loading data.\n",
      "[2024-09-24 14:04:37,327] ERROR Could not find run map for the experiment. Running future runs will corrupt the file. Only proceed with loading data.\n",
      "[2024-09-24 14:04:37,327] ERROR Could not find run map for the experiment. Running future runs will corrupt the file. Only proceed with loading data.\n",
      "[2024-09-24 14:04:37,347] INFO Loading '/Users/james/Documents/Backups/honours-quench-data/sam/load_e2/P1_scan.7.xz'\n",
      "[2024-09-24 14:04:37,347] INFO Loading '/Users/james/Documents/Backups/honours-quench-data/sam/load_e2/P1_scan.7.xz'\n",
      "[2024-09-24 14:04:37,347] INFO Loading '/Users/james/Documents/Backups/honours-quench-data/sam/load_e2/P1_scan.7.xz'\n",
      "[2024-09-24 14:04:37,347] INFO Loading '/Users/james/Documents/Backups/honours-quench-data/sam/load_e2/P1_scan.7.xz'\n",
      "[2024-09-24 14:04:37,347] INFO Loading '/Users/james/Documents/Backups/honours-quench-data/sam/load_e2/P1_scan.7.xz'\n",
      "[2024-09-24 14:04:37,347] INFO Loading '/Users/james/Documents/Backups/honours-quench-data/sam/load_e2/P1_scan.7.xz'\n",
      "[2024-09-24 14:04:37,347] INFO Loading '/Users/james/Documents/Backups/honours-quench-data/sam/load_e2/P1_scan.7.xz'\n",
      "[2024-09-24 14:04:37,347] INFO Loading '/Users/james/Documents/Backups/honours-quench-data/sam/load_e2/P1_scan.7.xz'\n",
      "[2024-09-24 14:04:37,347] INFO Loading '/Users/james/Documents/Backups/honours-quench-data/sam/load_e2/P1_scan.7.xz'\n",
      "[2024-09-24 14:04:37,347] INFO Loading '/Users/james/Documents/Backups/honours-quench-data/sam/load_e2/P1_scan.7.xz'\n",
      "[2024-09-24 14:04:37,347] INFO Loading '/Users/james/Documents/Backups/honours-quench-data/sam/load_e2/P1_scan.7.xz'\n",
      "[2024-09-24 14:04:37,347] INFO Loading '/Users/james/Documents/Backups/honours-quench-data/sam/load_e2/P1_scan.7.xz'\n",
      "[2024-09-24 14:04:37,347] INFO Loading '/Users/james/Documents/Backups/honours-quench-data/sam/load_e2/P1_scan.7.xz'\n",
      "[2024-09-24 14:04:37,379] WARNING WARNING: Saved object does not match current Monty version\n",
      "[2024-09-24 14:04:37,379] WARNING WARNING: Saved object does not match current Monty version\n",
      "[2024-09-24 14:04:37,379] WARNING WARNING: Saved object does not match current Monty version\n",
      "[2024-09-24 14:04:37,379] WARNING WARNING: Saved object does not match current Monty version\n",
      "[2024-09-24 14:04:37,379] WARNING WARNING: Saved object does not match current Monty version\n",
      "[2024-09-24 14:04:37,379] WARNING WARNING: Saved object does not match current Monty version\n",
      "[2024-09-24 14:04:37,379] WARNING WARNING: Saved object does not match current Monty version\n",
      "[2024-09-24 14:04:37,379] WARNING WARNING: Saved object does not match current Monty version\n",
      "[2024-09-24 14:04:37,379] WARNING WARNING: Saved object does not match current Monty version\n",
      "[2024-09-24 14:04:37,379] WARNING WARNING: Saved object does not match current Monty version\n",
      "[2024-09-24 14:04:37,379] WARNING WARNING: Saved object does not match current Monty version\n",
      "[2024-09-24 14:04:37,379] WARNING WARNING: Saved object does not match current Monty version\n",
      "[2024-09-24 14:04:37,379] WARNING WARNING: Saved object does not match current Monty version\n",
      "[2024-09-24 14:04:37,396] INFO Loaded data with run name P1_scan.7\n",
      "[2024-09-24 14:04:37,396] INFO Loaded data with run name P1_scan.7\n",
      "[2024-09-24 14:04:37,396] INFO Loaded data with run name P1_scan.7\n",
      "[2024-09-24 14:04:37,396] INFO Loaded data with run name P1_scan.7\n",
      "[2024-09-24 14:04:37,396] INFO Loaded data with run name P1_scan.7\n",
      "[2024-09-24 14:04:37,396] INFO Loaded data with run name P1_scan.7\n",
      "[2024-09-24 14:04:37,396] INFO Loaded data with run name P1_scan.7\n",
      "[2024-09-24 14:04:37,396] INFO Loaded data with run name P1_scan.7\n",
      "[2024-09-24 14:04:37,396] INFO Loaded data with run name P1_scan.7\n",
      "[2024-09-24 14:04:37,396] INFO Loaded data with run name P1_scan.7\n",
      "[2024-09-24 14:04:37,396] INFO Loaded data with run name P1_scan.7\n",
      "[2024-09-24 14:04:37,396] INFO Loaded data with run name P1_scan.7\n",
      "[2024-09-24 14:04:37,396] INFO Loaded data with run name P1_scan.7\n"
     ]
    }
   ],
   "source": [
    "monty = Monty(\"sam.load_e2\")\n",
    "result = monty.loaddata(\"P1_scan.7\")"
   ]
  },
  {
   "cell_type": "code",
   "execution_count": 34,
   "id": "7f4256d819976725",
   "metadata": {
    "ExecuteTime": {
     "end_time": "2024-09-24T04:04:38.722750Z",
     "start_time": "2024-09-24T04:04:38.696347Z"
    }
   },
   "outputs": [
    {
     "data": {
      "text/plain": [
       "{'desc': '1D sweep of P1 (with proportional feedback techniques)',\n",
       " 'lockin_amplitude': 'Set to 10uV',\n",
       " 'ST': 'Fixed at 3.852381V (target of 1.6e-10 on lockin)',\n",
       " 'SLB': 'Fixed at 0.949997V',\n",
       " 'SRB': 'Fixed at 0.950002V',\n",
       " 'SETB': 'Fixed at 0.0V',\n",
       " 'J1': 'Fixed at 3.500004V',\n",
       " 'P1': 'Ranged from 2.1V -> 1.75V in 100 points',\n",
       " 'P2': 'Fixed at 1.749995V',\n",
       " 'temp': 'Mixing chamber 0.0137773 K'}"
      ]
     },
     "execution_count": 34,
     "metadata": {},
     "output_type": "execute_result"
    }
   ],
   "source": [
    "monty.parameters"
   ]
  },
  {
   "cell_type": "code",
   "execution_count": 35,
   "id": "583d40b0ee323770",
   "metadata": {
    "ExecuteTime": {
     "end_time": "2024-09-24T04:09:43.775762Z",
     "start_time": "2024-09-24T04:09:43.756252Z"
    }
   },
   "outputs": [
    {
     "data": {
      "text/plain": [
       "(600,)"
      ]
     },
     "execution_count": 35,
     "metadata": {},
     "output_type": "execute_result"
    }
   ],
   "source": [
    "result[\"R\"].shape"
   ]
  },
  {
   "cell_type": "code",
   "execution_count": null,
   "id": "8ca32925440b69d7",
   "metadata": {},
   "outputs": [],
   "source": []
  }
 ],
 "metadata": {
  "kernelspec": {
   "display_name": "Python 3 (ipykernel)",
   "language": "python",
   "name": "python3"
  },
  "language_info": {
   "codemirror_mode": {
    "name": "ipython",
    "version": 3
   },
   "file_extension": ".py",
   "mimetype": "text/x-python",
   "name": "python",
   "nbconvert_exporter": "python",
   "pygments_lexer": "ipython3",
   "version": "3.11.9"
  }
 },
 "nbformat": 4,
 "nbformat_minor": 5
}
