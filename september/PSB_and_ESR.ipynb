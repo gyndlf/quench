{
 "cells": [
  {
   "cell_type": "markdown",
   "id": "82cd94b0-7ead-473e-b1bd-583fe04459e5",
   "metadata": {},
   "source": [
    "# PSB and ESR\n",
    "\n",
    "Combination of `august/ESR.ipynb`, `august/pauli.ipynb` and `august/pauli_plots.ipynb`"
   ]
  },
  {
   "cell_type": "code",
   "execution_count": 1,
   "id": "43f04875-c515-4e89-860a-7f4427b881ef",
   "metadata": {},
   "outputs": [
    {
     "name": "stdout",
     "output_type": "stream",
     "text": [
      "Added 'quench/' and 'quench/libraries' for easy importing.\n"
     ]
    }
   ],
   "source": [
    "%matplotlib inline\n",
    "import local_broom"
   ]
  },
  {
   "cell_type": "code",
   "execution_count": 2,
   "id": "bca3f120-fc42-4f3f-9c23-30a473d5ba6a",
   "metadata": {},
   "outputs": [],
   "source": [
    "# Automagically reload modules when they are edited\n",
    "%load_ext autoreload\n",
    "%autoreload 2"
   ]
  },
  {
   "cell_type": "code",
   "execution_count": 19,
   "id": "7ad6f3cf-301f-4883-b411-f1777eb1d165",
   "metadata": {},
   "outputs": [],
   "source": [
    "import matplotlib.pyplot as plt\n",
    "import numpy as np\n",
    "from tqdm.notebook import tqdm\n",
    "import time\n",
    "import logging\n",
    "from monty import Monty\n",
    "from liveplot import LivePlot\n",
    "\n",
    "from qcodes import Instrument, Station\n",
    "import MDAC\n",
    "from fridge import Fridge\n",
    "from shfqc import SHFQC\n",
    "from qcodes.instrument_drivers.stanford_research.SR860 import SR860\n",
    "from qcodes.instrument_drivers.agilent.E8267C import E8267\n",
    "from may.dots import getvoltages\n",
    "from may.custom_devices import connect_to_gb, newSiDot\n",
    "\n",
    "# Change these to match the experiment\n",
    "import psb as paul\n",
    "import esr"
   ]
  },
  {
   "cell_type": "markdown",
   "id": "f60fa28c-6992-4469-8d6b-d83ee804f2ad",
   "metadata": {},
   "source": [
    "## Connect"
   ]
  },
  {
   "cell_type": "code",
   "execution_count": 22,
   "id": "882a649b-f876-4434-8859-85bda67e6b49",
   "metadata": {},
   "outputs": [
    {
     "name": "stdout",
     "output_type": "stream",
     "text": [
      "Connecting to device DEV12158\n",
      "Creating new command tables\n"
     ]
    }
   ],
   "source": [
    "#channels = [\"ST\", \"P1\", \"P2\", \"J\"]\n",
    "#channel_addr = [0, 1, 2, 3]\n",
    "\n",
    "channels = [\"ST\", \"P1\", \"P2\", \"J\", \"MW\"]\n",
    "channel_addr = [0, 1, 2, 3, 5]\n",
    "\n",
    "# channels = [\"MW\"]\n",
    "# channel_addr = [5]\n",
    "\n",
    "shfqc = SHFQC(channels, channel_addr, \"measure\")\n",
    "shfqc.connect()\n",
    "shfqc.desync()"
   ]
  },
  {
   "cell_type": "code",
   "execution_count": 9,
   "id": "ee49fcaa-e820-4718-8078-0ad50659fd08",
   "metadata": {},
   "outputs": [
    {
     "name": "stdout",
     "output_type": "stream",
     "text": [
      "Connected to: QNL Sydney MDAC (serial:0x32353532353551040030003E, firmware:1.8) in 4.26s\n",
      "Connected to: Stanford_Research_Systems SR860 (serial:004279, firmware:V1.51) in 0.10s\n",
      "Connected to: Agilent Technologies E8267D (serial:US50420058, firmware:C.06.25) in 0.07s\n",
      "Loading GB driver and connecting\n",
      "Manually Open Breakout_box_top_ch15_LCB\n",
      "Manually Open Breakout_box_bot_ch09_RCB\n",
      "Manually Open Breakout_box_bot_ch17_RG\n",
      "Manually Open Breakout_box_top_ch17_ResB\n",
      "Manually Open Breakout_box_top_ch19_P3\n",
      "Manually Open Breakout_box_top_ch13_P2\n",
      "Manually Open Breakout_box_top_ch04_P1\n",
      "Manually Open Breakout_box_top_ch02_SETB\n",
      "Manually Open Breakout_box_bot_ch04_SRB\n",
      "Manually Open Breakout_box_bot_ch06_SLB\n",
      "Manually Open Breakout_box_top_ch10_ST\n",
      "Manually Open Breakout_box_top_ch25_bias\n",
      "Using base URL https://qphys1114.research.ext.sydney.edu.au/therm_flask/BlueFors_LD\n"
     ]
    }
   ],
   "source": [
    "try:\n",
    "    mdac = Instrument.find_instrument(\"mdac\")\n",
    "    mdac.close()\n",
    "except KeyError:\n",
    "    print('Attempting to remove instrument with name mdac. Does not exist')\n",
    "\n",
    "mdac = MDAC.MDAC('mdac', 'ASRL11::INSTR')\n",
    "\n",
    "try:\n",
    "    lockin = Instrument.find_instrument(\"lockin\")\n",
    "    lockin.close()\n",
    "except KeyError:\n",
    "    print(\"Cannot remove instrument with name lockin. Does not exist\")\n",
    "\n",
    "scfg = Station(config_file='/Users/LD2007/Documents/Si_CMOS_james/measurements/system.yaml')\n",
    "\n",
    "#lockin = scfg.load_instrument('sr860_top')\n",
    "#psg = scfg.load_instrument('PSG')\n",
    "\n",
    "lockin = SR860('lockin', 'TCPIP::192.168.0.108::inst0::INSTR')\n",
    "psg = E8267('psg', 'TCPIP0::192.168.0.109::inst0::INSTR')\n",
    "\n",
    "\n",
    "gb_control_si = connect_to_gb(mdac)  # Create our custom MDAC mappings\n",
    "si = newSiDot(mdac)\n",
    "fridge = Fridge(\"BlueFors_LD\")"
   ]
  },
  {
   "cell_type": "markdown",
   "id": "125ff9cf-f84f-4f83-8da4-142dbc3dd1fb",
   "metadata": {},
   "source": [
    "Disconnect. Run with caution"
   ]
  },
  {
   "cell_type": "code",
   "execution_count": 10,
   "id": "d4b310cf-033f-4154-b72d-f8aeccaa4f28",
   "metadata": {},
   "outputs": [],
   "source": [
    "# Disconnect from all devices\n",
    "disconnect = False\n",
    "if disconnect:\n",
    "    shfqc.disconnect()\n",
    "    try:\n",
    "        mdac = Instrument.find_instrument(\"mdac\")\n",
    "        mdac.close()\n",
    "    except KeyError:\n",
    "        print('Attempting to remove instrument with name mdac. Does not exist')\n",
    "    try:\n",
    "        lockin = Instrument.find_instrument(\"lockin\")\n",
    "        lockin.close()\n",
    "    except KeyError:\n",
    "        print(\"Cannot remove instrument with name sr860_top. Does not exist\")\n",
    "    try:\n",
    "        psg = Instrument.find_instrument(\"psg\")\n",
    "        psg.close()\n",
    "    except KeyError:\n",
    "        print('Attempting to remove instrument with name mdac. Does not exist')"
   ]
  },
  {
   "cell_type": "code",
   "execution_count": 11,
   "id": "9bdd0dca-a6ca-4a17-ba78-7feb66fe8b9e",
   "metadata": {},
   "outputs": [
    {
     "name": "stdout",
     "output_type": "stream",
     "text": [
      "Started new experiment rf.esr_and_psb\n"
     ]
    }
   ],
   "source": [
    "# setup monty\n",
    "experiment = {\n",
    "    \"desc\": \"Run ESR frequency sweeps and PSB detuning / J sweeps\"\n",
    "}\n",
    "\n",
    "monty = Monty(\"rf.esr_and_psb\", experiment)"
   ]
  },
  {
   "cell_type": "markdown",
   "id": "58439457-9f5c-45d2-9e75-f41303356425",
   "metadata": {},
   "source": [
    "## Define parameters\n",
    "\n",
    "Run either PSB parameters or ESR parameters but not both."
   ]
  },
  {
   "cell_type": "markdown",
   "id": "945d507c-896e-428b-8fc1-cd88e7036a3c",
   "metadata": {},
   "source": [
    "### PSB PARAMETERS"
   ]
  },
  {
   "cell_type": "code",
   "execution_count": 13,
   "id": "6e620f99-ff9d-4a0d-ae9d-96dffdd81e86",
   "metadata": {},
   "outputs": [],
   "source": [
    "psb_params = {\n",
    "    \"amplitude_volts\": {  # define the amplitudes that should be used. (maximum 340mV, give in Volts)\n",
    "        \"mixed_pulse\": {  # voltage amplitude for mixed state preperation\n",
    "            \"P1\": -0.2,  # make sure keys match drive lines above\n",
    "            \"P2\": 0.2,\n",
    "        },\n",
    "        \"measure_pulse_start\": {  # voltages for stepping over when sweeping\n",
    "            \"P1\": 0.0,\n",
    "            \"P2\": 0.0,\n",
    "            \"J\": 0,\n",
    "        },\n",
    "        \"measure_pulse_end\": {\n",
    "            \"P1\": -0.006,\n",
    "            \"P2\": 0.006,\n",
    "            \"J\": 0,\n",
    "        },\n",
    "        \"ramp_rate\": 13e-5,  # V/sample\n",
    "    },\n",
    "    \"readout\": {\n",
    "        \"freq\": 406.6e6,  # (Hz) try 406.2e6\n",
    "        \"gain\": 0.95,  # If we set this to 1, then output overloads\n",
    "        \"time\": 100e-6,  # sec\n",
    "    },\n",
    "    \"timings_sec\": {  # all in seconds\n",
    "        \"mixed_initilise\": 600e-6,\n",
    "        \"read\": 100e-6,\n",
    "        \"settle\": 3e-3,\n",
    "        \"trigger\": 8e-3,  # metronome of the internal trigger\n",
    "        \"buffer\": 10e-6,\n",
    "        \"sampling_divider\": 6,  # playback waveform resolution 2^X\n",
    "    },\n",
    "    \"feedback\": {\n",
    "        \"target\": -24.1,  # in dB\n",
    "        \"stepsize\": 2e-2,  # arbitrary units\n",
    "        \"slope\": -0,  # -1, 1 depending on slope, 0 to disable feedback\n",
    "    },\n",
    "    \"powers\": {  # in dB presets from UI\n",
    "        \"acq_in\": 10,\n",
    "        \"acq_out\": -10,\n",
    "        \"drive\": 0,  # only 0 is supported\n",
    "    },\n",
    "    \"averaging\": {\n",
    "        \"seqc_averages\": 300,  # max 2**19 points\n",
    "        \"num_detuning\": 101,\n",
    "        \"num_j\": 1,\n",
    "    },\n",
    "    \"gates\": getvoltages(mdac),\n",
    "    \"temp\": f\"Mixing chamber {fridge.temp()} K\",\n",
    "}\n",
    "\n",
    "\n",
    "# Dynamic variables\n",
    "# create arrays of our sweeping paramters\n",
    "psb_j_steps = np.linspace(psb_params[\"amplitude_volts\"][\"measure_pulse_start\"][\"J\"],\n",
    "                      psb_params[\"amplitude_volts\"][\"measure_pulse_end\"][\"J\"],\n",
    "                      psb_params[\"averaging\"][\"num_j\"])\n",
    "psb_p1_steps = np.linspace(psb_params[\"amplitude_volts\"][\"measure_pulse_start\"][\"P1\"],\n",
    "                       psb_params[\"amplitude_volts\"][\"measure_pulse_end\"][\"P1\"],\n",
    "                       psb_params[\"averaging\"][\"num_detuning\"])\n",
    "psb_p2_steps = np.linspace(psb_params[\"amplitude_volts\"][\"measure_pulse_start\"][\"P2\"],\n",
    "                       psb_params[\"amplitude_volts\"][\"measure_pulse_end\"][\"P2\"],\n",
    "                       psb_params[\"averaging\"][\"num_detuning\"])"
   ]
  },
  {
   "cell_type": "markdown",
   "id": "0265a223-3549-41d8-ba42-6b2bf780f789",
   "metadata": {},
   "source": [
    "### ESR PARAMETERS"
   ]
  },
  {
   "cell_type": "code",
   "execution_count": 16,
   "id": "b9d3812e-ab3f-4ce1-a3f8-ffcc6eb44f4c",
   "metadata": {},
   "outputs": [],
   "source": [
    "esr_params = {\n",
    "    \"amplitude_volts\": {  # define the amplitudes that should be used. (maximum 340mV, give in Volts)\n",
    "        \"mixed_pulse\": {  # voltage amplitude for mixed state preperation\n",
    "            \"P1\": -0.2,  # make sure keys match drive lines above\n",
    "            \"P2\": 0.2,\n",
    "        },\n",
    "        \"readout_pulse\": {\n",
    "            \"P1\": -0.0021,  #-0.0025,\n",
    "            \"P2\": 0.0021,  #0.0025,\n",
    "            \"J\": 0.0,\n",
    "        },\n",
    "        \"ramp_rate\": 13e-5,  # V/sample\n",
    "    },\n",
    "    \"sweep_j\": {\n",
    "        \"j_start\": -0.15,\n",
    "        \"j_stop\": -0.15,\n",
    "    },\n",
    "    \"sweep_detuning\": {\n",
    "        \"p1_start\": -0.0015,\n",
    "        \"p1_stop\": -0.0035,\n",
    "        \"p2_start\": 0.0015,\n",
    "        \"p2_stop\": 0.0035,\n",
    "    },\n",
    "    \"readout\": {\n",
    "        \"freq\": 406.6e6,  # (Hz) try 406.2e6\n",
    "        \"gain\": 0.95,  # If we set this to 1, then output overloads\n",
    "        \"time\": 100e-6,  # sec\n",
    "    },\n",
    "    \"mw\": {  # Microwave ESR settings\n",
    "        \"freqs\": {  # (Hz)\n",
    "            \"center\": 1.0e9,  # 1.5e9,\n",
    "            \"start\": 0, #  -400e6,\n",
    "            \"stop\": 0, #  400e6,\n",
    "            # steps determined by averaging/num_freqs\n",
    "        },\n",
    "        \"psgfreqstart\": 6.75e9,  # using upper sideband\n",
    "        \"psgfreqstop\": 7.25e9,  # using upper sideband\n",
    "        \"gain\": 0.8,  # If we set this to 1, then output overloads\n",
    "        \"span\": 1e6,  # frequency span for chirp signal, if enabled\n",
    "        \"sampling_divider\": 3,\n",
    "    },\n",
    "    \"timings_sec\": {  # all in seconds\n",
    "        \"mixed_initilise\": 600e-6,\n",
    "        \"read\": 100e-6,\n",
    "        \"settle\": 3e-3,\n",
    "        \"trigger\": 8e-3,  # metronome of the internal trigger\n",
    "        \"buffer\": 10e-6,\n",
    "        \"mw_pulse\": 50e-6,\n",
    "        \"sampling_divider\": 6,  # playback waveform resolution 2^X\n",
    "    },\n",
    "    \"powers\": {  # in dB presets from UI\n",
    "        \"acq_in\": 10,\n",
    "        \"acq_out\": -10,\n",
    "        \"drive\": 0,  # only 0 is supported\n",
    "        \"mw_drive\": 0,  # conncted to to PSG\n",
    "        \"psg_drive\": 7,  # just a guess for now, output of psg\n",
    "    },\n",
    "    \"averaging\": {\n",
    "        \"seqc_averages\": 200,  # max 2**19 points\n",
    "        \"num_freqs\": 501,\n",
    "        \"num_j\": 1,\n",
    "        \"num_detuning\": 50,\n",
    "    },\n",
    "    \"gates\": getvoltages(mdac),\n",
    "    \"temp\": f\"Mixing chamber {fridge.temp()} K\",\n",
    "}\n",
    "\n",
    "\n",
    "# Dynamic variables\n",
    "# create arrays of our sweeping paramters\n",
    "# freq_steps = np.linspace(params[\"mw\"][\"freqs\"][\"start\"],\n",
    "#                     params[\"mw\"][\"freqs\"][\"stop\"],\n",
    "#                     params[\"averaging\"][\"num_freqs\"])\n",
    "\n",
    "esr_freq_steps = np.linspace(esr_params[\"mw\"][\"psgfreqstart\"],\n",
    "                    esr_params[\"mw\"][\"psgfreqstop\"],\n",
    "                    esr_params[\"averaging\"][\"num_freqs\"])\n",
    "esr_j_steps = np.linspace(esr_params[\"sweep_j\"][\"j_start\"],\n",
    "                    esr_params[\"sweep_j\"][\"j_stop\"],\n",
    "                    esr_params[\"averaging\"][\"num_j\"])\n",
    "esr_p1_steps = np.linspace(esr_params[\"sweep_detuning\"][\"p1_start\"],\n",
    "                    esr_params[\"sweep_detuning\"][\"p1_stop\"],\n",
    "                    esr_params[\"averaging\"][\"num_detuning\"])\n",
    "esr_p2_steps = np.linspace(esr_params[\"sweep_detuning\"][\"p2_start\"],\n",
    "                    esr_params[\"sweep_detuning\"][\"p2_stop\"],\n",
    "                    esr_params[\"averaging\"][\"num_detuning\"])"
   ]
  },
  {
   "cell_type": "code",
   "execution_count": null,
   "id": "92de163a-d36a-49a9-81a3-9a45810edc66",
   "metadata": {},
   "outputs": [],
   "source": []
  },
  {
   "cell_type": "markdown",
   "id": "bc81049b-4a4c-45e3-951a-398a1943945e",
   "metadata": {},
   "source": [
    "## Measure PSB"
   ]
  },
  {
   "cell_type": "code",
   "execution_count": 20,
   "id": "11232b2d-0507-424b-94e3-66b026756001",
   "metadata": {},
   "outputs": [],
   "source": [
    "def sweep_j_and_detuning(params, p1_steps, p2_steps, j_steps):\n",
    "    \"\"\"2D parameter sweep of J and P1/P2 in detuning setup. Can measure PSB if mixed state preperation amplitude is not zero\"\"\"\n",
    "    monty.newrun(\"j_and_detuning\", params)\n",
    "\n",
    "    # setup channels to match parameters\n",
    "    paul.setupchannels(shfqc, params)\n",
    "    paul.setupsequencers(shfqc, params, print_programs=False)\n",
    "    paul.setup_command_tables(shfqc, params)\n",
    "    time.sleep(1)  # wait to make sure everything processed in time\n",
    "\n",
    "    # work out what we should be doing for feedback\n",
    "    print(\"Measuring initial feedback point\")\n",
    "    paul.synchchannels(shfqc, [shfqc.qa_channel_name])\n",
    "    with shfqc.device.set_transaction():\n",
    "        \n",
    "        shfqc[\"measure\"].spectroscopy.result.length(1)\n",
    "        seqc_program_prior_read = f\"\"\"\n",
    "            repeat({params[\"averaging\"][\"seqc_averages\"]}) {{\n",
    "                waitDigTrigger(1);\n",
    "        \n",
    "                setTrigger(1);\n",
    "                setTrigger(0);\n",
    "            }}\n",
    "            \"\"\"\n",
    "        shfqc[\"measure\"].generator.load_sequencer_program(seqc_program_prior_read)\n",
    "    \n",
    "    time.sleep(1)\n",
    "    shfqc[\"measure\"].spectroscopy.result.length.wait_for_state_change(1, timeout=10)  # wait for changes to propagate\n",
    "    \n",
    "    data = paul.run_empty_experiment(shfqc)\n",
    "\n",
    "    # run the real experiment\n",
    "    paul.synchchannels(shfqc, [shfqc.qa_channel_name, \"ST\", \"P1\", \"P2\", \"J\"])\n",
    "    paul.setupsequencers(shfqc, params, print_programs=False)  # reload original QA code\n",
    "    shfqc[\"measure\"].spectroscopy.result.length(2)\n",
    "    time.sleep(2)\n",
    "    \n",
    "    result = np.zeros((params[\"averaging\"][\"num_j\"], params[\"averaging\"][\"num_detuning\"], 2), dtype=np.complex64)\n",
    "    st_result = np.zeros(result.shape, dtype=np.float64)\n",
    "    \n",
    "    print(\"Sweeping P1, P2 and J\")\n",
    "    for i, j in enumerate(tqdm(j_steps, desc=\"J\")):\n",
    "        #with LivePlot(p1_steps, xlabel=\"P1 voltage (dV)\", ylabel=\"Amplitude (dB)\") as lplot: \n",
    "        \n",
    "        for k, (p1, p2) in enumerate(zip(tqdm(p1_steps, leave=False, desc=\"Detuning\"), p2_steps)):\n",
    "            paul.movemeasurement(shfqc, p1, p2, j, params)  # Use cmd index = 1\n",
    "            #st_result[i, k] = paul.calculate_feedback(shfqc, data[-1], params)  # cmd index = 0\n",
    "            paul.upload_command_tables(shfqc)\n",
    "            data = paul.run_psb_experiment(shfqc)\n",
    "            result[i, k] = data\n",
    "            #lplot.update(autodb(result[i, :, 1]))\n",
    "        monty.snapshot({\"data\": result, \"st_result\": st_result})\n",
    "\n",
    "    results = {\"data\": result, \"st_result\": st_result}\n",
    "    monty.save(results)\n",
    "\n",
    "\n",
    "def hyper_j_sweep(params, j_steps):\n",
    "    \"\"\"\n",
    "    Sweep j and detuning quickly by offloading as much as possible on the SHFQC device.\n",
    "    Unforrtunately in this regime it is impossible to do feedback during detuning (although it can be done over J)\n",
    "    \"\"\"\n",
    "    monty.newrun(\"hyper_j\", params)\n",
    "\n",
    "    if \"feedback\" in params.keys():\n",
    "        logging.warning(\"Feedback specified in params but not used in this experiment\")\n",
    "\n",
    "    # setup channels for hyper sweeps\n",
    "    paul.setupchannels(shfqc, params, hyper=True)\n",
    "    paul.setup_hyper_sequencers(shfqc, params, print_programs=False)\n",
    "    paul.setup_hyper_command_tables(shfqc, params)\n",
    "    \n",
    "    # run the real experiment\n",
    "    paul.synchchannels(shfqc, [shfqc.qa_channel_name, \"P1\", \"P2\", \"J\"])\n",
    "    time.sleep(2)\n",
    "    \n",
    "    result = np.zeros((params[\"averaging\"][\"num_j\"], params[\"averaging\"][\"num_detuning\"]*2), dtype=np.complex64)\n",
    "    \n",
    "    print(\"Sweeping J (python), P1/P2 (seqc)\")\n",
    "    for i, j in enumerate(tqdm(j_steps, desc=\"J\")):\n",
    "        #gb_control_si.VICL(j)\n",
    "        #gettotarget()\n",
    "        time.sleep(1)\n",
    "        #paul.move_j_measurement(shfqc, j, params)\n",
    "        paul.upload_command_tables(shfqc)\n",
    "        result[i, :] = paul.run_hyper_psb_experiment(shfqc)\n",
    "        # update J command table\n",
    "        monty.snapshot({\"data\": result})\n",
    "\n",
    "    results = {\"data\": result}\n",
    "    monty.save(results)\n",
    "\n",
    "# Use plots.ipynb for plotting code based on the run number"
   ]
  },
  {
   "cell_type": "code",
   "execution_count": 28,
   "id": "cc711134-2eef-4fe5-a76d-8fb4b18d242e",
   "metadata": {},
   "outputs": [
    {
     "name": "stderr",
     "output_type": "stream",
     "text": [
      "WARNING:root:Feedback specified in params but not used in this experiment\n"
     ]
    },
    {
     "name": "stdout",
     "output_type": "stream",
     "text": [
      "WARNING: Finishing existing run to start a new one\n",
      "Run finished and took 0:00:16.338963.\n",
      "Started new run hyper_j.3\n",
      "Sweeping J (python), P1/P2 (seqc)\n"
     ]
    },
    {
     "data": {
      "application/vnd.jupyter.widget-view+json": {
       "model_id": "cee92512dd4541ea9099b25101d954da",
       "version_major": 2,
       "version_minor": 0
      },
      "text/plain": [
       "J:   0%|          | 0/1 [00:00<?, ?it/s]"
      ]
     },
     "metadata": {},
     "output_type": "display_data"
    },
    {
     "data": {
      "application/vnd.jupyter.widget-view+json": {
       "model_id": "72bf047831ef4dd49804132eced5c613",
       "version_major": 2,
       "version_minor": 0
      },
      "text/plain": [
       "Internal trigger:   0%|          | 0/100 [00:00<?, ?it/s]"
      ]
     },
     "metadata": {},
     "output_type": "display_data"
    },
    {
     "ename": "KeyboardInterrupt",
     "evalue": "",
     "output_type": "error",
     "traceback": [
      "\u001b[1;31m---------------------------------------------------------------------------\u001b[0m",
      "\u001b[1;31mKeyboardInterrupt\u001b[0m                         Traceback (most recent call last)",
      "Cell \u001b[1;32mIn[28], line 3\u001b[0m\n\u001b[0;32m      1\u001b[0m shfqc\u001b[38;5;241m.\u001b[39mdesync()\n\u001b[0;32m      2\u001b[0m \u001b[38;5;66;03m# sweep_j_and_detuning(psb_params, psb_p1_steps, psb_p2_steps, psb_j_steps)\u001b[39;00m\n\u001b[1;32m----> 3\u001b[0m \u001b[43mhyper_j_sweep\u001b[49m\u001b[43m(\u001b[49m\u001b[43mpsb_params\u001b[49m\u001b[43m,\u001b[49m\u001b[43m \u001b[49m\u001b[43mpsb_j_steps\u001b[49m\u001b[43m)\u001b[49m\n",
      "Cell \u001b[1;32mIn[20], line 86\u001b[0m, in \u001b[0;36mhyper_j_sweep\u001b[1;34m(params, j_steps)\u001b[0m\n\u001b[0;32m     84\u001b[0m \u001b[38;5;66;03m#paul.move_j_measurement(shfqc, j, params)\u001b[39;00m\n\u001b[0;32m     85\u001b[0m paul\u001b[38;5;241m.\u001b[39mupload_command_tables(shfqc)\n\u001b[1;32m---> 86\u001b[0m result[i, :] \u001b[38;5;241m=\u001b[39m \u001b[43mpaul\u001b[49m\u001b[38;5;241;43m.\u001b[39;49m\u001b[43mrun_hyper_psb_experiment\u001b[49m\u001b[43m(\u001b[49m\u001b[43mshfqc\u001b[49m\u001b[43m)\u001b[49m\n\u001b[0;32m     87\u001b[0m \u001b[38;5;66;03m# update J command table\u001b[39;00m\n\u001b[0;32m     88\u001b[0m monty\u001b[38;5;241m.\u001b[39msnapshot({\u001b[38;5;124m\"\u001b[39m\u001b[38;5;124mdata\u001b[39m\u001b[38;5;124m\"\u001b[39m: result})\n",
      "File \u001b[1;32m~\\Documents\\Si_CMOS_james\\quench\\september\\psb.py:833\u001b[0m, in \u001b[0;36mrun_hyper_psb_experiment\u001b[1;34m(shfqc)\u001b[0m\n\u001b[0;32m    830\u001b[0m time\u001b[38;5;241m.\u001b[39msleep(\u001b[38;5;241m0.2\u001b[39m)\n\u001b[0;32m    832\u001b[0m \u001b[38;5;66;03m# wait for the measurement to complete\u001b[39;00m\n\u001b[1;32m--> 833\u001b[0m \u001b[43mwait_for_internal_trigger\u001b[49m\u001b[43m(\u001b[49m\u001b[43mshfqc\u001b[49m\u001b[43m,\u001b[49m\u001b[43m \u001b[49m\u001b[43mprogress\u001b[49m\u001b[38;5;241;43m=\u001b[39;49m\u001b[38;5;28;43;01mTrue\u001b[39;49;00m\u001b[43m,\u001b[49m\u001b[43m \u001b[49m\u001b[43mleave\u001b[49m\u001b[38;5;241;43m=\u001b[39;49m\u001b[38;5;28;43;01mFalse\u001b[39;49;00m\u001b[43m)\u001b[49m\n\u001b[0;32m    835\u001b[0m check_sequencers_finished(shfqc, [\u001b[38;5;124m\"\u001b[39m\u001b[38;5;124mmeasure\u001b[39m\u001b[38;5;124m\"\u001b[39m, \u001b[38;5;124m\"\u001b[39m\u001b[38;5;124mP1\u001b[39m\u001b[38;5;124m\"\u001b[39m, \u001b[38;5;124m\"\u001b[39m\u001b[38;5;124mP2\u001b[39m\u001b[38;5;124m\"\u001b[39m])  \u001b[38;5;66;03m# we have time to check this\u001b[39;00m\n\u001b[0;32m    837\u001b[0m \u001b[38;5;66;03m# wait for completion\u001b[39;00m\n",
      "File \u001b[1;32m~\\Documents\\Si_CMOS_james\\quench\\september\\psb.py:615\u001b[0m, in \u001b[0;36mwait_for_internal_trigger\u001b[1;34m(shfqc, progress, leave)\u001b[0m\n\u001b[0;32m    613\u001b[0m     \u001b[38;5;28;01mif\u001b[39;00m progress:\n\u001b[0;32m    614\u001b[0m         pbar\u001b[38;5;241m.\u001b[39mupdate(p\u001b[38;5;241m-\u001b[39mpbar\u001b[38;5;241m.\u001b[39mn)\n\u001b[1;32m--> 615\u001b[0m     \u001b[43mtime\u001b[49m\u001b[38;5;241;43m.\u001b[39;49m\u001b[43msleep\u001b[49m\u001b[43m(\u001b[49m\u001b[38;5;241;43m0.001\u001b[39;49m\u001b[43m)\u001b[49m\n\u001b[0;32m    616\u001b[0m \u001b[38;5;28;01mif\u001b[39;00m progress:\n\u001b[0;32m    617\u001b[0m     pbar\u001b[38;5;241m.\u001b[39mupdate(\u001b[38;5;241m100\u001b[39m\u001b[38;5;241m-\u001b[39mpbar\u001b[38;5;241m.\u001b[39mn)\n",
      "\u001b[1;31mKeyboardInterrupt\u001b[0m: "
     ]
    }
   ],
   "source": [
    "shfqc.desync()\n",
    "# sweep_j_and_detuning(psb_params, psb_p1_steps, psb_p2_steps, psb_j_steps)\n",
    "hyper_j_sweep(psb_params, psb_j_steps)"
   ]
  },
  {
   "cell_type": "code",
   "execution_count": null,
   "id": "e763bf0e-4437-45cd-960a-5578c5d18242",
   "metadata": {},
   "outputs": [],
   "source": []
  },
  {
   "cell_type": "markdown",
   "id": "01bca0c4-a4b5-4c85-8d5f-196698b46b49",
   "metadata": {},
   "source": [
    "## ESR Measurements"
   ]
  },
  {
   "cell_type": "code",
   "execution_count": 29,
   "id": "ee4390fe-52b5-4ba8-b69d-61f19559cab0",
   "metadata": {},
   "outputs": [],
   "source": [
    "def sweep_esr_freq(params, freq_steps):\n",
    "    \"\"\"1D ESR frequency sweep\"\"\"\n",
    "    monty.newrun(\"freq_sweep\", params)\n",
    "\n",
    "    # setup channels to match parameters\n",
    "    esr.setupchannels(shfqc, params)\n",
    "    esr.setupsequencers(shfqc, params, print_programs=False)\n",
    "    esr.setup_command_tables(shfqc, params)\n",
    "    time.sleep(1)  # wait to make sure everything processed in time\n",
    "\n",
    "    # run the real experiment\n",
    "    esr.synchchannels(shfqc, [shfqc.qa_channel_name, \"P1\", \"P2\", \"J\", \"MW\"])\n",
    "    shfqc[\"measure\"].spectroscopy.result.length(2)\n",
    "    time.sleep(2)\n",
    "    \n",
    "    result = np.zeros((params[\"averaging\"][\"num_freqs\"], 2), dtype=np.complex64)\n",
    "\n",
    "    # upload command tables\n",
    "    p1 = params[\"amplitude_volts\"][\"readout_pulse\"][\"P1\"]\n",
    "    p2 = params[\"amplitude_volts\"][\"readout_pulse\"][\"P2\"]\n",
    "    j_g = params[\"amplitude_volts\"][\"readout_pulse\"][\"J\"]\n",
    "    mw_gain = params[\"mw\"][\"gain\"]\n",
    "    esr.movemeasurement(shfqc, p1, p2, j_g, mw_gain, params)  # set amplitudes\n",
    "\n",
    "    esr.change_mw_freq(shfqc, params)  # reupload sequence with new waveform\n",
    "    esr.upload_command_tables(shfqc)\n",
    "\n",
    "    # strange bug somewhere, quick fix\n",
    "    synth = shfqc['MW'].synthesizer()\n",
    "    shfqc.device.synthesizers[synth].centerfreq(params[\"mw\"][\"freqs\"][\"center\"])\n",
    "    psg.power(params[\"powers\"][\"psg_drive\"])\n",
    "\n",
    "    # set up phase\n",
    "    # shfqc[\"MW_I\"].oscs[0].phase(0)\n",
    "    # shfqc[\"MW_Q\"].oscs[0].phase(90)\n",
    "    \n",
    "    print(\"Doing ESR 1D sweep\")\n",
    "    with LivePlot(freq_steps, xlabel=\"Frequency (Hz)\", ylabel=\"Amplitude (dB)\") as lplot: \n",
    "        for i, mw in enumerate(tqdm(freq_steps, desc=\"Frequency\")):\n",
    "    \n",
    "            #shfqc[\"MW\"].oscs[0].freq(mw)\n",
    "            psg.frequency(mw)\n",
    "            \n",
    "            result[i, :] = esr.run_esr_experiment(shfqc)\n",
    "            lplot.update(esr.autodb(result[:, 1]))\n",
    "\n",
    "    results = {\"data\": result}\n",
    "    monty.save(results)\n",
    "\n",
    "\n",
    "def sweep_esr_freq_against_detuning(params, p1_steps, p2_steps, freq_steps):\n",
    "    \"\"\"2D ESR frequency sweep over different detuning points in PSB\"\"\"\n",
    "    monty.newrun(\"freq_v_detuning\", params)\n",
    "\n",
    "    # setup channels to match parameters\n",
    "    esr.setupchannels(shfqc, params)\n",
    "    esr.setupsequencers(shfqc, params, print_programs=False)\n",
    "    esr.setup_command_tables(shfqc, params)\n",
    "    time.sleep(1)  # wait to make sure everything processed in time\n",
    "\n",
    "    # run the real experiment\n",
    "    esr.synchchannels(shfqc, [shfqc.qa_channel_name] + shfqc.drive_channels)\n",
    "    shfqc[\"measure\"].spectroscopy.result.length(2)\n",
    "    time.sleep(2)\n",
    "    \n",
    "    result = np.zeros((params[\"averaging\"][\"num_detuning\"], params[\"averaging\"][\"num_freqs\"], 2), dtype=np.complex64)\n",
    "\n",
    "    # upload command tables\n",
    "    j = params[\"amplitude_volts\"][\"readout_pulse\"][\"J\"]\n",
    "    mw_amp = params[\"mw\"][\"gain\"]\n",
    "\n",
    "    esr.change_mw_freq(shfqc, params)  # reupload sequence with new waveform\n",
    "\n",
    "    for i, (p1, p2) in enumerate(zip(tqdm(p1_steps, desc=\"Detuning\"), p2_steps)):\n",
    "\n",
    "        esr.movemeasurement(shfqc, p1, p2, j, mw_amp, params)  # set amplitudes\n",
    "        esr.upload_command_tables(shfqc)\n",
    "        \n",
    "        for k, mw in enumerate(tqdm(freq_steps, desc=\"Frequency\", leave=False)):\n",
    "\n",
    "            #shfqc[\"MW\"].oscs[0].freq(mw)\n",
    "            psg.frequency(mw)\n",
    "            result[i, k, :] = esr.run_esr_experiment(shfqc)\n",
    "\n",
    "        monty.snapshot({\"data\": result})\n",
    "    \n",
    "    results = {\"data\": result}\n",
    "    monty.save(results)"
   ]
  },
  {
   "cell_type": "code",
   "execution_count": 30,
   "id": "e3f0aa10-0921-4357-b682-deacb0d80fdc",
   "metadata": {},
   "outputs": [
    {
     "name": "stdout",
     "output_type": "stream",
     "text": [
      "WARNING: Finishing existing run to start a new one\n",
      "Run finished and took 0:01:42.157927.\n",
      "Started new run freq_sweep.2\n"
     ]
    },
    {
     "ename": "KeyboardInterrupt",
     "evalue": "",
     "output_type": "error",
     "traceback": [
      "\u001b[1;31m---------------------------------------------------------------------------\u001b[0m",
      "\u001b[1;31mKeyboardInterrupt\u001b[0m                         Traceback (most recent call last)",
      "Cell \u001b[1;32mIn[30], line 3\u001b[0m\n\u001b[0;32m      1\u001b[0m shfqc\u001b[38;5;241m.\u001b[39mdesync()\n\u001b[1;32m----> 3\u001b[0m \u001b[43msweep_esr_freq\u001b[49m\u001b[43m(\u001b[49m\u001b[43mesr_params\u001b[49m\u001b[43m,\u001b[49m\u001b[43m \u001b[49m\u001b[43mesr_freq_steps\u001b[49m\u001b[43m)\u001b[49m\n\u001b[0;32m      4\u001b[0m sweep_esr_freq_against_detuning(esr_params, esr_p1_steps, esr_p2_steps, esr_freq_steps)\n",
      "Cell \u001b[1;32mIn[29], line 12\u001b[0m, in \u001b[0;36msweep_esr_freq\u001b[1;34m(params, freq_steps)\u001b[0m\n\u001b[0;32m      9\u001b[0m time\u001b[38;5;241m.\u001b[39msleep(\u001b[38;5;241m1\u001b[39m)  \u001b[38;5;66;03m# wait to make sure everything processed in time\u001b[39;00m\n\u001b[0;32m     11\u001b[0m \u001b[38;5;66;03m# run the real experiment\u001b[39;00m\n\u001b[1;32m---> 12\u001b[0m \u001b[43mesr\u001b[49m\u001b[38;5;241;43m.\u001b[39;49m\u001b[43msynchchannels\u001b[49m\u001b[43m(\u001b[49m\u001b[43mshfqc\u001b[49m\u001b[43m,\u001b[49m\u001b[43m \u001b[49m\u001b[43m[\u001b[49m\u001b[43mshfqc\u001b[49m\u001b[38;5;241;43m.\u001b[39;49m\u001b[43mqa_channel_name\u001b[49m\u001b[43m,\u001b[49m\u001b[43m \u001b[49m\u001b[38;5;124;43m\"\u001b[39;49m\u001b[38;5;124;43mP1\u001b[39;49m\u001b[38;5;124;43m\"\u001b[39;49m\u001b[43m,\u001b[49m\u001b[43m \u001b[49m\u001b[38;5;124;43m\"\u001b[39;49m\u001b[38;5;124;43mP2\u001b[39;49m\u001b[38;5;124;43m\"\u001b[39;49m\u001b[43m,\u001b[49m\u001b[43m \u001b[49m\u001b[38;5;124;43m\"\u001b[39;49m\u001b[38;5;124;43mJ\u001b[39;49m\u001b[38;5;124;43m\"\u001b[39;49m\u001b[43m,\u001b[49m\u001b[43m \u001b[49m\u001b[38;5;124;43m\"\u001b[39;49m\u001b[38;5;124;43mMW\u001b[39;49m\u001b[38;5;124;43m\"\u001b[39;49m\u001b[43m]\u001b[49m\u001b[43m)\u001b[49m\n\u001b[0;32m     13\u001b[0m shfqc[\u001b[38;5;124m\"\u001b[39m\u001b[38;5;124mmeasure\u001b[39m\u001b[38;5;124m\"\u001b[39m]\u001b[38;5;241m.\u001b[39mspectroscopy\u001b[38;5;241m.\u001b[39mresult\u001b[38;5;241m.\u001b[39mlength(\u001b[38;5;241m2\u001b[39m)\n\u001b[0;32m     14\u001b[0m time\u001b[38;5;241m.\u001b[39msleep(\u001b[38;5;241m2\u001b[39m)\n",
      "File \u001b[1;32m~\\Documents\\Si_CMOS_james\\quench\\september\\esr.py:227\u001b[0m, in \u001b[0;36msynchchannels\u001b[1;34m(shfqc, channels)\u001b[0m\n\u001b[0;32m    225\u001b[0m     shfqc\u001b[38;5;241m.\u001b[39mdevice\u001b[38;5;241m.\u001b[39msgchannels[i]\u001b[38;5;241m.\u001b[39msynchronization\u001b[38;5;241m.\u001b[39menable(\u001b[38;5;241m0\u001b[39m)\n\u001b[0;32m    226\u001b[0m shfqc\u001b[38;5;241m.\u001b[39mdevice\u001b[38;5;241m.\u001b[39mqachannels[\u001b[38;5;241m0\u001b[39m]\u001b[38;5;241m.\u001b[39msynchronization\u001b[38;5;241m.\u001b[39menable(\u001b[38;5;241m0\u001b[39m)\n\u001b[1;32m--> 227\u001b[0m \u001b[43mtime\u001b[49m\u001b[38;5;241;43m.\u001b[39;49m\u001b[43msleep\u001b[49m\u001b[43m(\u001b[49m\u001b[38;5;241;43m1\u001b[39;49m\u001b[43m)\u001b[49m\n\u001b[0;32m    228\u001b[0m \u001b[38;5;28;01mfor\u001b[39;00m c \u001b[38;5;129;01min\u001b[39;00m channels:\n\u001b[0;32m    229\u001b[0m     shfqc[c]\u001b[38;5;241m.\u001b[39msynchronization\u001b[38;5;241m.\u001b[39menable(\u001b[38;5;241m1\u001b[39m)\n",
      "\u001b[1;31mKeyboardInterrupt\u001b[0m: "
     ]
    }
   ],
   "source": [
    "shfqc.desync()\n",
    "\n",
    "sweep_esr_freq(esr_params, esr_freq_steps)\n",
    "#sweep_esr_freq_against_detuning(esr_params, esr_p1_steps, esr_p2_steps, esr_freq_steps)"
   ]
  },
  {
   "cell_type": "code",
   "execution_count": null,
   "id": "0901c836-0e91-4bc7-8a81-5e3905b178c3",
   "metadata": {},
   "outputs": [],
   "source": []
  },
  {
   "cell_type": "code",
   "execution_count": null,
   "id": "c268fc76-c1e9-4470-95e3-4f0ac1916cba",
   "metadata": {},
   "outputs": [],
   "source": []
  },
  {
   "cell_type": "code",
   "execution_count": null,
   "id": "a36f74ac-d625-47aa-a0fe-2b4d8faa7032",
   "metadata": {},
   "outputs": [],
   "source": []
  },
  {
   "cell_type": "code",
   "execution_count": null,
   "id": "76accd7f-8381-44e1-80a6-ebfec93111bc",
   "metadata": {},
   "outputs": [],
   "source": []
  }
 ],
 "metadata": {
  "kernelspec": {
   "display_name": "Python 3 (ipykernel)",
   "language": "python",
   "name": "python3"
  },
  "language_info": {
   "codemirror_mode": {
    "name": "ipython",
    "version": 3
   },
   "file_extension": ".py",
   "mimetype": "text/x-python",
   "name": "python",
   "nbconvert_exporter": "python",
   "pygments_lexer": "ipython3",
   "version": "3.12.3"
  }
 },
 "nbformat": 4,
 "nbformat_minor": 5
}
