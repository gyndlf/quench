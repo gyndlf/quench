{
 "cells": [
  {
   "cell_type": "markdown",
   "id": "82cd94b0-7ead-473e-b1bd-583fe04459e5",
   "metadata": {},
   "source": [
    "# PSB and ESR\n",
    "\n",
    "Combination of `august/ESR.ipynb`, `august/pauli.ipynb` and `august/pauli_plots.ipynb`"
   ]
  },
  {
   "cell_type": "code",
   "execution_count": 1,
   "id": "43f04875-c515-4e89-860a-7f4427b881ef",
   "metadata": {},
   "outputs": [
    {
     "name": "stdout",
     "output_type": "stream",
     "text": [
      "Added 'quench/' and 'quench/libraries' for easy importing.\n"
     ]
    }
   ],
   "source": [
    "%matplotlib inline\n",
    "import local_broom"
   ]
  },
  {
   "cell_type": "code",
   "execution_count": 2,
   "id": "bca3f120-fc42-4f3f-9c23-30a473d5ba6a",
   "metadata": {},
   "outputs": [],
   "source": [
    "# Automagically reload modules when they are edited\n",
    "%load_ext autoreload\n",
    "%autoreload 2"
   ]
  },
  {
   "cell_type": "code",
   "execution_count": 3,
   "id": "7ad6f3cf-301f-4883-b411-f1777eb1d165",
   "metadata": {},
   "outputs": [],
   "source": [
    "import matplotlib.pyplot as plt\n",
    "import numpy as np\n",
    "from tqdm.notebook import tqdm\n",
    "import time\n",
    "import logging\n",
    "from monty import Monty\n",
    "from liveplot import LivePlot\n",
    "\n",
    "from qcodes import Instrument, Station\n",
    "import MDAC\n",
    "from fridge import Fridge\n",
    "from shfqc import SHFQC\n",
    "from qcodes.instrument_drivers.stanford_research.SR860 import SR860\n",
    "from qcodes.instrument_drivers.agilent.E8267C import E8267\n",
    "from may.dots import getvoltages\n",
    "from may.custom_devices import connect_to_gb, newSiDot\n",
    "\n",
    "# Change these to match the experiment\n",
    "import psb as paul\n",
    "import esr"
   ]
  },
  {
   "cell_type": "markdown",
   "id": "f60fa28c-6992-4469-8d6b-d83ee804f2ad",
   "metadata": {},
   "source": [
    "## Connect"
   ]
  },
  {
   "cell_type": "code",
   "execution_count": 4,
   "id": "882a649b-f876-4434-8859-85bda67e6b49",
   "metadata": {},
   "outputs": [
    {
     "name": "stdout",
     "output_type": "stream",
     "text": [
      "Connecting to device DEV12158\n",
      "Creating new command tables\n"
     ]
    }
   ],
   "source": [
    "#channels = [\"ST\", \"P1\", \"P2\", \"J\"]\n",
    "#channel_addr = [0, 1, 2, 3]\n",
    "\n",
    "channels = [\"ST\", \"P1\", \"P2\", \"J\", \"MW\"]\n",
    "channel_addr = [4, 0, 2, 3, 5]\n",
    "\n",
    "# channels = [\"MW\"]\n",
    "# channel_addr = [5]\n",
    "\n",
    "shfqc = SHFQC(channels, channel_addr, \"measure\")\n",
    "shfqc.connect()\n",
    "shfqc.desync()"
   ]
  },
  {
   "cell_type": "code",
   "execution_count": 5,
   "id": "ee49fcaa-e820-4718-8078-0ad50659fd08",
   "metadata": {},
   "outputs": [
    {
     "name": "stdout",
     "output_type": "stream",
     "text": [
      "Attempting to remove instrument with name mdac. Does not exist\n",
      "Connected to: QNL Sydney MDAC (serial:0x32353532353551040030003E, firmware:1.8) in 4.95s\n",
      "Cannot remove instrument with name lockin. Does not exist\n",
      "Connected to: Stanford_Research_Systems SR860 (serial:004279, firmware:V1.51) in 0.13s\n",
      "Connected to: Agilent Technologies E8267D (serial:US50420058, firmware:C.06.25) in 0.10s\n",
      "Loading GB driver and connecting\n",
      "Manually Open Breakout_box_top_ch15_LCB\n",
      "Manually Open Breakout_box_bot_ch09_RCB\n",
      "Manually Open Breakout_box_bot_ch17_RG\n",
      "Manually Open Breakout_box_top_ch17_ResB\n",
      "Manually Open Breakout_box_top_ch19_P3\n",
      "Manually Open Breakout_box_top_ch13_P2\n",
      "Manually Open Breakout_box_top_ch04_P1\n",
      "Manually Open Breakout_box_top_ch02_SETB\n",
      "Manually Open Breakout_box_bot_ch04_SRB\n",
      "Manually Open Breakout_box_bot_ch06_SLB\n",
      "Manually Open Breakout_box_top_ch10_ST\n",
      "Manually Open Breakout_box_top_ch25_bias\n",
      "Using base URL https://qphys1114.research.ext.sydney.edu.au/therm_flask/BlueFors_LD\n"
     ]
    }
   ],
   "source": [
    "try:\n",
    "    mdac = Instrument.find_instrument(\"mdac\")\n",
    "    mdac.close()\n",
    "except KeyError:\n",
    "    print('Attempting to remove instrument with name mdac. Does not exist')\n",
    "\n",
    "mdac = MDAC.MDAC('mdac', 'ASRL11::INSTR')\n",
    "\n",
    "try:\n",
    "    lockin = Instrument.find_instrument(\"lockin\")\n",
    "    lockin.close()\n",
    "except KeyError:\n",
    "    print(\"Cannot remove instrument with name lockin. Does not exist\")\n",
    "\n",
    "scfg = Station(config_file='/Users/LD2007/Documents/Si_CMOS_james/measurements/system.yaml')\n",
    "\n",
    "#lockin = scfg.load_instrument('sr860_top')\n",
    "#psg = scfg.load_instrument('PSG')\n",
    "\n",
    "lockin = SR860('lockin', 'TCPIP::192.168.0.108::inst0::INSTR')\n",
    "psg = E8267('psg', 'TCPIP0::192.168.0.109::inst0::INSTR')\n",
    "\n",
    "\n",
    "gb_control_si = connect_to_gb(mdac)  # Create our custom MDAC mappings\n",
    "si = newSiDot(mdac)\n",
    "fridge = Fridge(\"BlueFors_LD\")"
   ]
  },
  {
   "cell_type": "markdown",
   "id": "125ff9cf-f84f-4f83-8da4-142dbc3dd1fb",
   "metadata": {},
   "source": [
    "Disconnect. Run with caution"
   ]
  },
  {
   "cell_type": "code",
   "execution_count": 34,
   "id": "d4b310cf-033f-4154-b72d-f8aeccaa4f28",
   "metadata": {},
   "outputs": [
    {
     "name": "stdout",
     "output_type": "stream",
     "text": [
      "Disconnecting from device DEV12158\n"
     ]
    }
   ],
   "source": [
    "# Disconnect from all devices\n",
    "disconnect = False\n",
    "if disconnect:\n",
    "    shfqc.disconnect()\n",
    "    try:\n",
    "        mdac = Instrument.find_instrument(\"mdac\")\n",
    "        mdac.close()\n",
    "    except KeyError:\n",
    "        print('Attempting to remove instrument with name mdac. Does not exist')\n",
    "    try:\n",
    "        lockin = Instrument.find_instrument(\"lockin\")\n",
    "        lockin.close()\n",
    "    except KeyError:\n",
    "        print(\"Cannot remove instrument with name sr860_top. Does not exist\")\n",
    "    try:\n",
    "        psg = Instrument.find_instrument(\"psg\")\n",
    "        psg.close()\n",
    "    except KeyError:\n",
    "        print('Attempting to remove instrument with name mdac. Does not exist')"
   ]
  },
  {
   "cell_type": "code",
   "execution_count": 6,
   "id": "9bdd0dca-a6ca-4a17-ba78-7feb66fe8b9e",
   "metadata": {},
   "outputs": [
    {
     "name": "stdout",
     "output_type": "stream",
     "text": [
      "Loading existing experiment (ignoring given experiment parameters)\n",
      "Note that no experimental data has been loaded.\n",
      "Next run will have id 54\n"
     ]
    }
   ],
   "source": [
    "# setup monty\n",
    "experiment = {\n",
    "    \"desc\": \"Run ESR frequency sweeps and PSB detuning / J sweeps\"\n",
    "}\n",
    "\n",
    "monty = Monty(\"rf.esr_and_psb\", experiment)"
   ]
  },
  {
   "cell_type": "markdown",
   "id": "58439457-9f5c-45d2-9e75-f41303356425",
   "metadata": {},
   "source": [
    "## Define parameters\n",
    "\n",
    "Run either PSB parameters or ESR parameters but not both."
   ]
  },
  {
   "cell_type": "markdown",
   "id": "945d507c-896e-428b-8fc1-cd88e7036a3c",
   "metadata": {},
   "source": [
    "### PSB PARAMETERS"
   ]
  },
  {
   "cell_type": "code",
   "execution_count": 31,
   "id": "6e620f99-ff9d-4a0d-ae9d-96dffdd81e86",
   "metadata": {},
   "outputs": [],
   "source": [
    "psb_params = {\n",
    "    \"amplitude_volts\": {  # define the amplitudes that should be used. (maximum 340mV, give in Volts)\n",
    "        \"mixed_pulse\": {  # voltage amplitude for mixed state preperation\n",
    "            \"P1\": -0.18,  # make sure keys match drive lines above\n",
    "            \"P2\": 0.18,\n",
    "        },\n",
    "        \"measure_pulse_start\": {  # voltages for stepping over when sweeping\n",
    "            \"P1\": 0.0,\n",
    "            \"P2\": -0.0,\n",
    "            \"J\": 0,\n",
    "        },\n",
    "        \"measure_pulse_end\": {\n",
    "            \"P1\": -0.005/4,\n",
    "            \"P2\": 0.005/4,\n",
    "            \"J\": 0,\n",
    "        },\n",
    "        \"ramp_rate\": 13e-5,  # V/sample\n",
    "    },\n",
    "    \"readout\": {\n",
    "        \"freq\": 406.6e6,  # (Hz) try 406.2e6\n",
    "        \"gain\": 0.95,  # If we set this to 1, then output overloads\n",
    "        \"time\": 100e-6,  # sec\n",
    "    },\n",
    "    \"timings_sec\": {  # all in seconds\n",
    "        \"mixed_initilise\": 600e-6,\n",
    "        \"read\": 100e-6,\n",
    "        \"settle\": 3e-3,\n",
    "        \"trigger\": 8e-3,  # metronome of the internal trigger\n",
    "        \"buffer\": 10e-6,\n",
    "        \"sampling_divider\": 6,  # playback waveform resolution 2^X\n",
    "    },\n",
    "    \"feedback\": {\n",
    "        \"target\": -24.1,  # in dB\n",
    "        \"stepsize\": 2e-2,  # arbitrary units\n",
    "        \"slope\": -0,  # -1, 1 depending on slope, 0 to disable feedback\n",
    "    },\n",
    "    \"powers\": {  # in dB presets from UI\n",
    "        \"acq_in\": 10,\n",
    "        \"acq_out\": -10,\n",
    "        \"drive\": 0,  # only 0 is supported\n",
    "    },\n",
    "    \"averaging\": {\n",
    "        \"seqc_averages\": 200,  # max 2**19 points\n",
    "        \"num_detuning\": 101,\n",
    "        \"num_j\": 1,\n",
    "    },\n",
    "    \"gates\": getvoltages(mdac),\n",
    "    \"temp\": f\"Mixing chamber {fridge.temp()} K\",\n",
    "}\n",
    "\n",
    "\n",
    "# Dynamic variables\n",
    "# create arrays of our sweeping paramters\n",
    "psb_j_steps = np.linspace(psb_params[\"amplitude_volts\"][\"measure_pulse_start\"][\"J\"],\n",
    "                      psb_params[\"amplitude_volts\"][\"measure_pulse_end\"][\"J\"],\n",
    "                      psb_params[\"averaging\"][\"num_j\"])\n",
    "psb_p1_steps = np.linspace(psb_params[\"amplitude_volts\"][\"measure_pulse_start\"][\"P1\"],\n",
    "                       psb_params[\"amplitude_volts\"][\"measure_pulse_end\"][\"P1\"],\n",
    "                       psb_params[\"averaging\"][\"num_detuning\"])\n",
    "psb_p2_steps = np.linspace(psb_params[\"amplitude_volts\"][\"measure_pulse_start\"][\"P2\"],\n",
    "                       psb_params[\"amplitude_volts\"][\"measure_pulse_end\"][\"P2\"],\n",
    "                       psb_params[\"averaging\"][\"num_detuning\"])"
   ]
  },
  {
   "cell_type": "markdown",
   "id": "0265a223-3549-41d8-ba42-6b2bf780f789",
   "metadata": {},
   "source": [
    "### ESR PARAMETERS"
   ]
  },
  {
   "cell_type": "code",
   "execution_count": 8,
   "id": "b9d3812e-ab3f-4ce1-a3f8-ffcc6eb44f4c",
   "metadata": {},
   "outputs": [],
   "source": [
    "esr_params = {\n",
    "    \"amplitude_volts\": {  # define the amplitudes that should be used. (maximum 340mV, give in Volts)\n",
    "        \"mixed_pulse\": {  # voltage amplitude for mixed state preperation\n",
    "            \"P1\": -0.2,  # make sure keys match drive lines above\n",
    "            \"P2\": 0.2,\n",
    "        },\n",
    "        \"readout_pulse\": {\n",
    "            \"P1\": -0.0025,  #-0.0025,\n",
    "            \"P2\": 0.0025,  #0.0025,\n",
    "            \"J\": 0.0,\n",
    "        },\n",
    "        \"ramp_rate\": 13e-5,  # V/sample\n",
    "    },\n",
    "    \"sweep_j\": {\n",
    "        \"j_start\": -0.15,\n",
    "        \"j_stop\": -0.15,\n",
    "    },\n",
    "    \"sweep_detuning\": {\n",
    "        \"p1_start\": -0.0015,\n",
    "        \"p1_stop\": -0.0035,\n",
    "        \"p2_start\": 0.0015,\n",
    "        \"p2_stop\": 0.0035,\n",
    "    },\n",
    "    \"readout\": {\n",
    "        \"freq\": 406.6e6,  # (Hz) try 406.2e6\n",
    "        \"gain\": 0.95,  # If we set this to 1, then output overloads\n",
    "        \"time\": 100e-6,  # sec\n",
    "    },\n",
    "    \"mw\": {  # Microwave ESR settings\n",
    "        \"freqs\": {  # (Hz)\n",
    "            \"center\": 1.0e9,  # 1.5e9,\n",
    "            \"start\": 0, #  -400e6,\n",
    "            \"stop\": 0, #  400e6,\n",
    "            # steps determined by averaging/num_freqs\n",
    "        },\n",
    "        \"psgfreqstart\": 6.5e9,  # using upper sideband\n",
    "        \"psgfreqstop\": 6.8e9,  # using upper sideband\n",
    "        \"gain\": 0.8,  # If we set this to 1, then output overloads\n",
    "        \"span\": 1e6,  # frequency span for chirp signal, if enabled\n",
    "        \"sampling_divider\": 3,\n",
    "    },\n",
    "    \"timings_sec\": {  # all in seconds\n",
    "        \"mixed_initilise\": 600e-6,\n",
    "        \"read\": 100e-6,\n",
    "        \"settle\": 3e-3,\n",
    "        \"trigger\": 8e-3,  # metronome of the internal trigger\n",
    "        \"buffer\": 10e-6,\n",
    "        \"mw_pulse\": 100e-6,\n",
    "        \"sampling_divider\": 6,  # playback waveform resolution 2^X\n",
    "    },\n",
    "    \"powers\": {  # in dB presets from UI\n",
    "        \"acq_in\": 10,\n",
    "        \"acq_out\": -10,\n",
    "        \"drive\": 0,  # only 0 is supported\n",
    "        \"mw_drive\": 0,  # conncted to to PSG\n",
    "        \"psg_drive\": 0,  # just a guess for now, output of psg\n",
    "    },\n",
    "    \"averaging\": {\n",
    "        \"seqc_averages\": 200,  # max 2**19 points\n",
    "        \"num_freqs\": 601,\n",
    "        \"num_j\": 1,\n",
    "        \"num_detuning\": 50,\n",
    "    },\n",
    "    \"gates\": getvoltages(mdac),\n",
    "    \"temp\": f\"Mixing chamber {fridge.temp()} K\",\n",
    "}\n",
    "\n",
    "\n",
    "# Dynamic variables\n",
    "# create arrays of our sweeping paramters\n",
    "# freq_steps = np.linspace(params[\"mw\"][\"freqs\"][\"start\"],\n",
    "#                     params[\"mw\"][\"freqs\"][\"stop\"],\n",
    "#                     params[\"averaging\"][\"num_freqs\"])\n",
    "\n",
    "esr_freq_steps = np.linspace(esr_params[\"mw\"][\"psgfreqstart\"],\n",
    "                    esr_params[\"mw\"][\"psgfreqstop\"],\n",
    "                    esr_params[\"averaging\"][\"num_freqs\"])\n",
    "esr_j_steps = np.linspace(esr_params[\"sweep_j\"][\"j_start\"],\n",
    "                    esr_params[\"sweep_j\"][\"j_stop\"],\n",
    "                    esr_params[\"averaging\"][\"num_j\"])\n",
    "esr_p1_steps = np.linspace(esr_params[\"sweep_detuning\"][\"p1_start\"],\n",
    "                    esr_params[\"sweep_detuning\"][\"p1_stop\"],\n",
    "                    esr_params[\"averaging\"][\"num_detuning\"])\n",
    "esr_p2_steps = np.linspace(esr_params[\"sweep_detuning\"][\"p2_start\"],\n",
    "                    esr_params[\"sweep_detuning\"][\"p2_stop\"],\n",
    "                    esr_params[\"averaging\"][\"num_detuning\"])"
   ]
  },
  {
   "cell_type": "code",
   "execution_count": 9,
   "id": "92de163a-d36a-49a9-81a3-9a45810edc66",
   "metadata": {},
   "outputs": [
    {
     "data": {
      "text/plain": [
       "['ST', 'P1', 'P2', 'J', 'MW']"
      ]
     },
     "execution_count": 9,
     "metadata": {},
     "output_type": "execute_result"
    }
   ],
   "source": [
    "shfqc.drive_channels"
   ]
  },
  {
   "cell_type": "markdown",
   "id": "bc81049b-4a4c-45e3-951a-398a1943945e",
   "metadata": {},
   "source": [
    "## Measure PSB"
   ]
  },
  {
   "cell_type": "code",
   "execution_count": 32,
   "id": "11232b2d-0507-424b-94e3-66b026756001",
   "metadata": {},
   "outputs": [],
   "source": [
    "def sweep_j_and_detuning(params, p1_steps, p2_steps, j_steps):\n",
    "    \"\"\"2D parameter sweep of J and P1/P2 in detuning setup. Can measure PSB if mixed state preperation amplitude is not zero\"\"\"\n",
    "    monty.newrun(\"j_and_detuning\", params)\n",
    "\n",
    "    # setup channels to match parameters\n",
    "    paul.setupchannels(shfqc, params)\n",
    "    paul.setupsequencers(shfqc, params, print_programs=False)\n",
    "    paul.setup_command_tables(shfqc, params)\n",
    "    time.sleep(1)  # wait to make sure everything processed in time\n",
    "\n",
    "    # work out what we should be doing for feedback\n",
    "    print(\"Measuring initial feedback point\")\n",
    "    paul.synchchannels(shfqc, [shfqc.qa_channel_name])\n",
    "    with shfqc.device.set_transaction():\n",
    "        \n",
    "        shfqc[\"measure\"].spectroscopy.result.length(1)\n",
    "        seqc_program_prior_read = f\"\"\"\n",
    "            repeat({params[\"averaging\"][\"seqc_averages\"]}) {{\n",
    "                waitDigTrigger(1);\n",
    "        \n",
    "                setTrigger(1);\n",
    "                setTrigger(0);\n",
    "            }}\n",
    "            \"\"\"\n",
    "        shfqc[\"measure\"].generator.load_sequencer_program(seqc_program_prior_read)\n",
    "    \n",
    "    time.sleep(1)\n",
    "    shfqc[\"measure\"].spectroscopy.result.length.wait_for_state_change(1, timeout=10)  # wait for changes to propagate\n",
    "    \n",
    "    data = paul.run_empty_experiment(shfqc)\n",
    "\n",
    "    # run the real experiment\n",
    "    paul.synchchannels(shfqc, [shfqc.qa_channel_name, \"ST\", \"P1\", \"P2\", \"J\"])\n",
    "    paul.setupsequencers(shfqc, params, print_programs=False)  # reload original QA code\n",
    "    shfqc[\"measure\"].spectroscopy.result.length(2)\n",
    "    time.sleep(2)\n",
    "    \n",
    "    result = np.zeros((params[\"averaging\"][\"num_j\"], params[\"averaging\"][\"num_detuning\"], 2), dtype=np.complex64)\n",
    "    st_result = np.zeros(result.shape, dtype=np.float64)\n",
    "    \n",
    "    print(\"Sweeping P1, P2 and J\")\n",
    "    for i, j in enumerate(tqdm(j_steps, desc=\"J\")):\n",
    "        #with LivePlot(p1_steps, xlabel=\"P1 voltage (dV)\", ylabel=\"Amplitude (dB)\") as lplot: \n",
    "        \n",
    "        for k, (p1, p2) in enumerate(zip(tqdm(p1_steps, leave=False, desc=\"Detuning\"), p2_steps)):\n",
    "            paul.movemeasurement(shfqc, p1, p2, j, params)  # Use cmd index = 1\n",
    "            #st_result[i, k] = paul.calculate_feedback(shfqc, data[-1], params)  # cmd index = 0\n",
    "            paul.upload_command_tables(shfqc)\n",
    "            data = paul.run_psb_experiment(shfqc)\n",
    "            result[i, k] = data\n",
    "            #lplot.update(autodb(result[i, :, 1]))\n",
    "        monty.snapshot({\"data\": result, \"st_result\": st_result})\n",
    "\n",
    "    results = {\"data\": result, \"st_result\": st_result}\n",
    "    monty.save(results)\n",
    "\n",
    "\n",
    "def hyper_j_sweep(params, j_steps):\n",
    "    \"\"\"\n",
    "    Sweep j and detuning quickly by offloading as much as possible on the SHFQC device.\n",
    "    Unforrtunately in this regime it is impossible to do feedback during detuning (although it can be done over J)\n",
    "    \"\"\"\n",
    "    monty.newrun(\"hyper_j\", params)\n",
    "\n",
    "    if \"feedback\" in params.keys():\n",
    "        logging.warning(\"Feedback specified in params but not used in this experiment\")\n",
    "\n",
    "    # setup channels for hyper sweeps\n",
    "    paul.setupchannels(shfqc, params, hyper=True)\n",
    "    paul.setup_hyper_sequencers(shfqc, params, print_programs=False)\n",
    "    paul.setup_hyper_command_tables(shfqc, params)\n",
    "    print(shfqc.cmd_tables[\"ST\"])\n",
    "    paul.upload_command_tables(shfqc, chans=[\"P1\", \"P2\"])\n",
    "    \n",
    "    # run the real experiment\n",
    "    paul.synchchannels(shfqc, [shfqc.qa_channel_name, \"P1\", \"P2\", \"J\"])\n",
    "    time.sleep(2)\n",
    "    \n",
    "    result = np.zeros((params[\"averaging\"][\"num_j\"], params[\"averaging\"][\"num_detuning\"]*2), dtype=np.complex64)\n",
    "    \n",
    "    print(\"Sweeping J (python), P1/P2 (seqc)\")\n",
    "    for i, j in enumerate(tqdm(j_steps, desc=\"J\")):\n",
    "        #gb_control_si.VICL(j)\n",
    "        #gettotarget()\n",
    "        time.sleep(1)\n",
    "        #paul.move_j_measurement(shfqc, j, params)\n",
    "        \n",
    "        result[i, :] = paul.run_hyper_psb_experiment(shfqc)\n",
    "        # update J command table\n",
    "        monty.snapshot({\"data\": result})\n",
    "\n",
    "    results = {\"data\": result}\n",
    "    monty.save(results)\n",
    "\n",
    "# Use plots.ipynb for plotting code based on the run number"
   ]
  },
  {
   "cell_type": "code",
   "execution_count": 33,
   "id": "cc711134-2eef-4fe5-a76d-8fb4b18d242e",
   "metadata": {},
   "outputs": [
    {
     "name": "stdout",
     "output_type": "stream",
     "text": [
      "WARNING: Finishing existing run to start a new one\n",
      "Run finished and took 0:03:13.992001.\n",
      "Started new run hyper_j.37\n"
     ]
    },
    {
     "name": "stderr",
     "output_type": "stream",
     "text": [
      "WARNING:root:Feedback specified in params but not used in this experiment\n"
     ]
    },
    {
     "name": "stdout",
     "output_type": "stream",
     "text": [
      "<zhinst.toolkit.command_table.CommandTable object at 0x000001978EF75460>\n",
      "Sweeping J (python), P1/P2 (seqc)\n"
     ]
    },
    {
     "data": {
      "application/vnd.jupyter.widget-view+json": {
       "model_id": "b08e87c41f7c48b883a904284474607b",
       "version_major": 2,
       "version_minor": 0
      },
      "text/plain": [
       "J:   0%|          | 0/1 [00:00<?, ?it/s]"
      ]
     },
     "metadata": {},
     "output_type": "display_data"
    },
    {
     "data": {
      "application/vnd.jupyter.widget-view+json": {
       "model_id": "",
       "version_major": 2,
       "version_minor": 0
      },
      "text/plain": [
       "Internal trigger:   0%|          | 0/100 [00:00<?, ?it/s]"
      ]
     },
     "metadata": {},
     "output_type": "display_data"
    },
    {
     "name": "stderr",
     "output_type": "stream",
     "text": [
      "WARNING:root:Sequencer measure in unknown state. Perhaps they are not synchronised? State = 0b0\n",
      "WARNING:root:Sequencer P1 in unknown state. Perhaps they are not synchronised? State = 0b0\n",
      "WARNING:root:Sequencer P2 in unknown state. Perhaps they are not synchronised? State = 0b0\n"
     ]
    },
    {
     "name": "stdout",
     "output_type": "stream",
     "text": [
      "Downloading results...\n",
      "Run finished and took 0:02:50.069041.\n",
      "Saving to hyper_j.37.xz\n",
      "Saving to experiment.yaml\n"
     ]
    }
   ],
   "source": [
    "shfqc.desync()\n",
    "# sweep_j_and_detuning(psb_params, psb_p1_steps, psb_p2_steps, psb_j_steps)\n",
    "hyper_j_sweep(psb_params, psb_j_steps)"
   ]
  },
  {
   "cell_type": "markdown",
   "id": "01bca0c4-a4b5-4c85-8d5f-196698b46b49",
   "metadata": {},
   "source": [
    "## ESR Measurements"
   ]
  },
  {
   "cell_type": "code",
   "execution_count": 193,
   "id": "ee4390fe-52b5-4ba8-b69d-61f19559cab0",
   "metadata": {},
   "outputs": [],
   "source": [
    "def sweep_esr_freq(params, freq_steps):\n",
    "    \"\"\"1D ESR frequency sweep\"\"\"\n",
    "    monty.newrun(\"freq_sweep\", params)\n",
    "\n",
    "    # setup channels to match parameters\n",
    "    esr.setupchannels(shfqc, params)\n",
    "    esr.setupsequencers(shfqc, params, print_programs=False)\n",
    "    esr.setup_command_tables(shfqc, params)\n",
    "    time.sleep(1)  # wait to make sure everything processed in time\n",
    "\n",
    "    # run the real experiment\n",
    "    esr.synchchannels(shfqc, [shfqc.qa_channel_name, \"P1\", \"P2\", \"J\", \"MW\"])\n",
    "    shfqc[\"measure\"].spectroscopy.result.length(2)\n",
    "    time.sleep(2)\n",
    "    \n",
    "    result = np.zeros((params[\"averaging\"][\"num_freqs\"], 2), dtype=np.complex64)\n",
    "\n",
    "    # upload command tables\n",
    "    p1 = params[\"amplitude_volts\"][\"readout_pulse\"][\"P1\"]\n",
    "    p2 = params[\"amplitude_volts\"][\"readout_pulse\"][\"P2\"]\n",
    "    j_g = params[\"amplitude_volts\"][\"readout_pulse\"][\"J\"]\n",
    "    mw_gain = params[\"mw\"][\"gain\"]\n",
    "    esr.movemeasurement(shfqc, p1, p2, j_g, mw_gain, params)  # set amplitudes\n",
    "\n",
    "    esr.change_mw_freq(shfqc, params)  # reupload sequence with new waveform\n",
    "    esr.upload_command_tables(shfqc)\n",
    "\n",
    "    # strange bug somewhere, quick fix\n",
    "    synth = shfqc['MW'].synthesizer()\n",
    "    shfqc.device.synthesizers[synth].centerfreq(params[\"mw\"][\"freqs\"][\"center\"])\n",
    "    psg.power(params[\"powers\"][\"psg_drive\"])\n",
    "\n",
    "    # set up phase\n",
    "    # shfqc[\"MW_I\"].oscs[0].phase(0)\n",
    "    # shfqc[\"MW_Q\"].oscs[0].phase(90)\n",
    "    \n",
    "    print(\"Doing ESR 1D sweep\")\n",
    "    with LivePlot(freq_steps, xlabel=\"Frequency (Hz)\", ylabel=\"Amplitude (dB)\") as lplot: \n",
    "        for i, mw in enumerate(tqdm(freq_steps, desc=\"Frequency\")):\n",
    "    \n",
    "            #shfqc[\"MW\"].oscs[0].freq(mw)\n",
    "            psg.frequency(mw)\n",
    "            \n",
    "            result[i, :] = esr.run_esr_experiment(shfqc)\n",
    "            lplot.update(esr.autodb(result[:, 1])- esr.autodb(result[:, 0]))\n",
    "\n",
    "    results = {\"data\": result}\n",
    "    monty.save(results)\n",
    "\n",
    "\n",
    "def sweep_esr_freq_against_detuning(params, p1_steps, p2_steps, freq_steps):\n",
    "    \"\"\"2D ESR frequency sweep over different detuning points in PSB\"\"\"\n",
    "    monty.newrun(\"freq_v_detuning\", params)\n",
    "\n",
    "    # setup channels to match parameters\n",
    "    esr.setupchannels(shfqc, params)\n",
    "    esr.setupsequencers(shfqc, params, print_programs=False)\n",
    "    esr.setup_command_tables(shfqc, params)\n",
    "    time.sleep(1)  # wait to make sure everything processed in time\n",
    "\n",
    "    # run the real experiment\n",
    "    esr.synchchannels(shfqc, [shfqc.qa_channel_name] + shfqc.drive_channels)\n",
    "    shfqc[\"measure\"].spectroscopy.result.length(2)\n",
    "    time.sleep(2)\n",
    "    \n",
    "    result = np.zeros((params[\"averaging\"][\"num_detuning\"], params[\"averaging\"][\"num_freqs\"], 2), dtype=np.complex64)\n",
    "\n",
    "    # upload command tables\n",
    "    j = params[\"amplitude_volts\"][\"readout_pulse\"][\"J\"]\n",
    "    mw_amp = params[\"mw\"][\"gain\"]\n",
    "\n",
    "    esr.change_mw_freq(shfqc, params)  # reupload sequence with new waveform\n",
    "\n",
    "    for i, (p1, p2) in enumerate(zip(tqdm(p1_steps, desc=\"Detuning\"), p2_steps)):\n",
    "\n",
    "        esr.movemeasurement(shfqc, p1, p2, j, mw_amp, params)  # set amplitudes\n",
    "        esr.upload_command_tables(shfqc)\n",
    "        \n",
    "        for k, mw in enumerate(tqdm(freq_steps, desc=\"Frequency\", leave=False)):\n",
    "\n",
    "            #shfqc[\"MW\"].oscs[0].freq(mw)\n",
    "            psg.frequency(mw)\n",
    "            result[i, k, :] = esr.run_esr_experiment(shfqc)\n",
    "\n",
    "        monty.snapshot({\"data\": result})\n",
    "    \n",
    "    results = {\"data\": result}\n",
    "    monty.save(results)"
   ]
  },
  {
   "cell_type": "code",
   "execution_count": 194,
   "id": "e3f0aa10-0921-4357-b682-deacb0d80fdc",
   "metadata": {},
   "outputs": [
    {
     "name": "stdout",
     "output_type": "stream",
     "text": [
      "Started new run freq_sweep.27\n",
      "Doing ESR 1D sweep\n"
     ]
    },
    {
     "data": {
      "application/vnd.jupyter.widget-view+json": {
       "model_id": "6c6b84ef83dc45a2af6e14aba2d26e5f",
       "version_major": 2,
       "version_minor": 0
      },
      "text/plain": [
       "Frequency:   0%|          | 0/601 [00:00<?, ?it/s]"
      ]
     },
     "metadata": {},
     "output_type": "display_data"
    },
    {
     "name": "stderr",
     "output_type": "stream",
     "text": [
      "WARNING:py.warnings:C:\\Users\\LD2007\\AppData\\Local\\Temp\\ipykernel_17288\\3700490413.py:45: RuntimeWarning: invalid value encountered in subtract\n",
      "  lplot.update(esr.autodb(result[:, 1])- esr.autodb(result[:, 0]))\n",
      "\n"
     ]
    },
    {
     "ename": "KeyboardInterrupt",
     "evalue": "",
     "output_type": "error",
     "traceback": [
      "\u001b[1;31m---------------------------------------------------------------------------\u001b[0m",
      "\u001b[1;31mKeyboardInterrupt\u001b[0m                         Traceback (most recent call last)",
      "Cell \u001b[1;32mIn[194], line 5\u001b[0m\n\u001b[0;32m      1\u001b[0m shfqc\u001b[38;5;241m.\u001b[39mdesync()\n\u001b[0;32m      3\u001b[0m psg\u001b[38;5;241m.\u001b[39moutput_rf(\u001b[38;5;124m'\u001b[39m\u001b[38;5;124mON\u001b[39m\u001b[38;5;124m'\u001b[39m)\n\u001b[1;32m----> 5\u001b[0m \u001b[43msweep_esr_freq\u001b[49m\u001b[43m(\u001b[49m\u001b[43mesr_params\u001b[49m\u001b[43m,\u001b[49m\u001b[43m \u001b[49m\u001b[43mesr_freq_steps\u001b[49m\u001b[43m)\u001b[49m\n\u001b[0;32m      6\u001b[0m \u001b[38;5;66;03m#sweep_esr_freq_against_detuning(esr_params, esr_p1_steps, esr_p2_steps, esr_freq_steps)\u001b[39;00m\n\u001b[0;32m      8\u001b[0m psg\u001b[38;5;241m.\u001b[39moutput_rf(\u001b[38;5;124m'\u001b[39m\u001b[38;5;124mOFF\u001b[39m\u001b[38;5;124m'\u001b[39m)\n",
      "Cell \u001b[1;32mIn[193], line 44\u001b[0m, in \u001b[0;36msweep_esr_freq\u001b[1;34m(params, freq_steps)\u001b[0m\n\u001b[0;32m     39\u001b[0m     \u001b[38;5;28;01mfor\u001b[39;00m i, mw \u001b[38;5;129;01min\u001b[39;00m \u001b[38;5;28menumerate\u001b[39m(tqdm(freq_steps, desc\u001b[38;5;241m=\u001b[39m\u001b[38;5;124m\"\u001b[39m\u001b[38;5;124mFrequency\u001b[39m\u001b[38;5;124m\"\u001b[39m)):\n\u001b[0;32m     40\u001b[0m \n\u001b[0;32m     41\u001b[0m         \u001b[38;5;66;03m#shfqc[\"MW\"].oscs[0].freq(mw)\u001b[39;00m\n\u001b[0;32m     42\u001b[0m         psg\u001b[38;5;241m.\u001b[39mfrequency(mw)\n\u001b[1;32m---> 44\u001b[0m         result[i, :] \u001b[38;5;241m=\u001b[39m \u001b[43mesr\u001b[49m\u001b[38;5;241;43m.\u001b[39;49m\u001b[43mrun_esr_experiment\u001b[49m\u001b[43m(\u001b[49m\u001b[43mshfqc\u001b[49m\u001b[43m)\u001b[49m\n\u001b[0;32m     45\u001b[0m         lplot\u001b[38;5;241m.\u001b[39mupdate(esr\u001b[38;5;241m.\u001b[39mautodb(result[:, \u001b[38;5;241m1\u001b[39m])\u001b[38;5;241m-\u001b[39m esr\u001b[38;5;241m.\u001b[39mautodb(result[:, \u001b[38;5;241m0\u001b[39m]))\n\u001b[0;32m     47\u001b[0m results \u001b[38;5;241m=\u001b[39m {\u001b[38;5;124m\"\u001b[39m\u001b[38;5;124mdata\u001b[39m\u001b[38;5;124m\"\u001b[39m: result}\n",
      "File \u001b[1;32m~\\Documents\\Si_CMOS_james\\quench\\september\\esr.py:979\u001b[0m, in \u001b[0;36mrun_esr_experiment\u001b[1;34m(shfqc)\u001b[0m\n\u001b[0;32m    976\u001b[0m time\u001b[38;5;241m.\u001b[39msleep(\u001b[38;5;241m0.2\u001b[39m)\n\u001b[0;32m    978\u001b[0m \u001b[38;5;66;03m# wait for the measurement to complete\u001b[39;00m\n\u001b[1;32m--> 979\u001b[0m \u001b[43mwait_for_internal_trigger\u001b[49m\u001b[43m(\u001b[49m\u001b[43mshfqc\u001b[49m\u001b[43m,\u001b[49m\u001b[43m \u001b[49m\u001b[43mprogress\u001b[49m\u001b[38;5;241;43m=\u001b[39;49m\u001b[38;5;28;43;01mFalse\u001b[39;49;00m\u001b[43m,\u001b[49m\u001b[43m \u001b[49m\u001b[43mleave\u001b[49m\u001b[38;5;241;43m=\u001b[39;49m\u001b[38;5;28;43;01mFalse\u001b[39;49;00m\u001b[43m)\u001b[49m\n\u001b[0;32m    980\u001b[0m \u001b[38;5;66;03m# device.system.internaltrigger. .wait_for_state_change(1.0, timeout=100)  # wait for completion\u001b[39;00m\n\u001b[0;32m    981\u001b[0m \n\u001b[0;32m    982\u001b[0m \u001b[38;5;66;03m# Don't check if sequencers have finished as they say they haven't finished... but they really have\u001b[39;00m\n\u001b[0;32m    983\u001b[0m \u001b[38;5;66;03m#check_sequencers_finished(shfqc, [\"measure\", \"P1\", \"P2\"])\u001b[39;00m\n\u001b[0;32m    984\u001b[0m \n\u001b[0;32m    985\u001b[0m \u001b[38;5;66;03m# wait for completion\u001b[39;00m\n\u001b[0;32m    986\u001b[0m \u001b[38;5;28;01mwhile\u001b[39;00m shfqc[\u001b[38;5;124m\"\u001b[39m\u001b[38;5;124mmeasure\u001b[39m\u001b[38;5;124m\"\u001b[39m]\u001b[38;5;241m.\u001b[39mspectroscopy\u001b[38;5;241m.\u001b[39mresult\u001b[38;5;241m.\u001b[39menable() \u001b[38;5;241m!=\u001b[39m \u001b[38;5;241m0\u001b[39m:\n",
      "File \u001b[1;32m~\\Documents\\Si_CMOS_james\\quench\\september\\esr.py:710\u001b[0m, in \u001b[0;36mwait_for_internal_trigger\u001b[1;34m(shfqc, progress, leave)\u001b[0m\n\u001b[0;32m    708\u001b[0m     pbar \u001b[38;5;241m=\u001b[39m tqdm(total\u001b[38;5;241m=\u001b[39m\u001b[38;5;241m100\u001b[39m, leave\u001b[38;5;241m=\u001b[39mleave, desc\u001b[38;5;241m=\u001b[39m\u001b[38;5;124m\"\u001b[39m\u001b[38;5;124mInternal trigger\u001b[39m\u001b[38;5;124m\"\u001b[39m)\n\u001b[0;32m    709\u001b[0m \u001b[38;5;28;01mwhile\u001b[39;00m shfqc\u001b[38;5;241m.\u001b[39mdevice\u001b[38;5;241m.\u001b[39msystem\u001b[38;5;241m.\u001b[39minternaltrigger\u001b[38;5;241m.\u001b[39mprogress() \u001b[38;5;241m!=\u001b[39m \u001b[38;5;241m1.0\u001b[39m:\n\u001b[1;32m--> 710\u001b[0m     p \u001b[38;5;241m=\u001b[39m \u001b[38;5;28mint\u001b[39m(\u001b[43mshfqc\u001b[49m\u001b[38;5;241;43m.\u001b[39;49m\u001b[43mdevice\u001b[49m\u001b[38;5;241;43m.\u001b[39;49m\u001b[43msystem\u001b[49m\u001b[38;5;241;43m.\u001b[39;49m\u001b[43minternaltrigger\u001b[49m\u001b[38;5;241;43m.\u001b[39;49m\u001b[43mprogress\u001b[49m\u001b[43m(\u001b[49m\u001b[43m)\u001b[49m\u001b[38;5;241m*\u001b[39m\u001b[38;5;241m100\u001b[39m)\n\u001b[0;32m    711\u001b[0m     \u001b[38;5;28;01mif\u001b[39;00m progress:\n\u001b[0;32m    712\u001b[0m         pbar\u001b[38;5;241m.\u001b[39mupdate(p\u001b[38;5;241m-\u001b[39mpbar\u001b[38;5;241m.\u001b[39mn)\n",
      "File \u001b[1;32m~\\anaconda3\\envs\\q312\\Lib\\site-packages\\zhinst\\toolkit\\nodetree\\node.py:557\u001b[0m, in \u001b[0;36mNode.__call__\u001b[1;34m(self, value, deep, enum, parse, **kwargs)\u001b[0m\n\u001b[0;32m    514\u001b[0m \u001b[38;5;250m\u001b[39m\u001b[38;5;124;03m\"\"\"Call operator that either gets (empty) or gets the value of a node.\u001b[39;00m\n\u001b[0;32m    515\u001b[0m \n\u001b[0;32m    516\u001b[0m \u001b[38;5;124;03mArgs:\u001b[39;00m\n\u001b[1;32m   (...)\u001b[0m\n\u001b[0;32m    554\u001b[0m \u001b[38;5;124;03m        node.\u001b[39;00m\n\u001b[0;32m    555\u001b[0m \u001b[38;5;124;03m\"\"\"\u001b[39;00m\n\u001b[0;32m    556\u001b[0m \u001b[38;5;28;01mif\u001b[39;00m value \u001b[38;5;129;01mis\u001b[39;00m \u001b[38;5;28;01mNone\u001b[39;00m:\n\u001b[1;32m--> 557\u001b[0m     \u001b[38;5;28;01mreturn\u001b[39;00m \u001b[38;5;28;43mself\u001b[39;49m\u001b[38;5;241;43m.\u001b[39;49m\u001b[43m_get\u001b[49m\u001b[43m(\u001b[49m\u001b[43mdeep\u001b[49m\u001b[38;5;241;43m=\u001b[39;49m\u001b[43mdeep\u001b[49m\u001b[43m,\u001b[49m\u001b[43m \u001b[49m\u001b[43menum\u001b[49m\u001b[38;5;241;43m=\u001b[39;49m\u001b[43menum\u001b[49m\u001b[43m,\u001b[49m\u001b[43m \u001b[49m\u001b[43mparse\u001b[49m\u001b[38;5;241;43m=\u001b[39;49m\u001b[43mparse\u001b[49m\u001b[43m,\u001b[49m\u001b[43m \u001b[49m\u001b[38;5;241;43m*\u001b[39;49m\u001b[38;5;241;43m*\u001b[39;49m\u001b[43mkwargs\u001b[49m\u001b[43m)\u001b[49m\n\u001b[0;32m    558\u001b[0m \u001b[38;5;28;01mreturn\u001b[39;00m \u001b[38;5;28mself\u001b[39m\u001b[38;5;241m.\u001b[39m_set(value, deep\u001b[38;5;241m=\u001b[39mdeep, enum\u001b[38;5;241m=\u001b[39menum, parse\u001b[38;5;241m=\u001b[39mparse, \u001b[38;5;241m*\u001b[39m\u001b[38;5;241m*\u001b[39mkwargs)\n",
      "File \u001b[1;32m~\\anaconda3\\envs\\q312\\Lib\\site-packages\\zhinst\\toolkit\\nodetree\\node.py:647\u001b[0m, in \u001b[0;36mNode._get\u001b[1;34m(self, deep, enum, parse, **kwargs)\u001b[0m\n\u001b[0;32m    645\u001b[0m     timestamp, value \u001b[38;5;241m=\u001b[39m \u001b[38;5;28mself\u001b[39m\u001b[38;5;241m.\u001b[39m_get_deep(\u001b[38;5;241m*\u001b[39m\u001b[38;5;241m*\u001b[39mkwargs)\n\u001b[0;32m    646\u001b[0m \u001b[38;5;28;01melse\u001b[39;00m:\n\u001b[1;32m--> 647\u001b[0m     value \u001b[38;5;241m=\u001b[39m \u001b[38;5;28;43mself\u001b[39;49m\u001b[38;5;241;43m.\u001b[39;49m\u001b[43m_get_cached\u001b[49m\u001b[43m(\u001b[49m\u001b[38;5;241;43m*\u001b[39;49m\u001b[38;5;241;43m*\u001b[39;49m\u001b[43mkwargs\u001b[49m\u001b[43m)\u001b[49m\n\u001b[0;32m    648\u001b[0m value \u001b[38;5;241m=\u001b[39m \u001b[38;5;28mself\u001b[39m\u001b[38;5;241m.\u001b[39m_parse_get_value(value, enum\u001b[38;5;241m=\u001b[39menum, parse\u001b[38;5;241m=\u001b[39mparse)\n\u001b[0;32m    649\u001b[0m \u001b[38;5;28;01mreturn\u001b[39;00m (timestamp, value) \u001b[38;5;28;01mif\u001b[39;00m deep \u001b[38;5;28;01melse\u001b[39;00m value\n",
      "\u001b[1;31mKeyboardInterrupt\u001b[0m: "
     ]
    }
   ],
   "source": [
    "shfqc.desync()\n",
    "\n",
    "psg.output_rf('ON')\n",
    "\n",
    "sweep_esr_freq(esr_params, esr_freq_steps)\n",
    "#sweep_esr_freq_against_detuning(esr_params, esr_p1_steps, esr_p2_steps, esr_freq_steps)\n",
    "\n",
    "psg.output_rf('OFF')"
   ]
  },
  {
   "cell_type": "code",
   "execution_count": 195,
   "id": "28276def-0daa-4c4f-bd25-fa5537f474a7",
   "metadata": {},
   "outputs": [],
   "source": [
    "shfqc.desync()"
   ]
  },
  {
   "cell_type": "code",
   "execution_count": 29,
   "id": "3024fe82-baff-4177-b511-7479fa7782ed",
   "metadata": {},
   "outputs": [
    {
     "data": {
      "text/plain": [
       "0.07348140839406946"
      ]
     },
     "execution_count": 29,
     "metadata": {},
     "output_type": "execute_result"
    }
   ],
   "source": [
    "paul.voltToDbm(0.005, 0)"
   ]
  },
  {
   "cell_type": "code",
   "execution_count": null,
   "id": "b96d1758-76bc-4ea4-b8ee-00d751721e34",
   "metadata": {},
   "outputs": [],
   "source": []
  }
 ],
 "metadata": {
  "kernelspec": {
   "display_name": "Python 3 (ipykernel)",
   "language": "python",
   "name": "python3"
  },
  "language_info": {
   "codemirror_mode": {
    "name": "ipython",
    "version": 3
   },
   "file_extension": ".py",
   "mimetype": "text/x-python",
   "name": "python",
   "nbconvert_exporter": "python",
   "pygments_lexer": "ipython3",
   "version": "3.12.3"
  }
 },
 "nbformat": 4,
 "nbformat_minor": 5
}
