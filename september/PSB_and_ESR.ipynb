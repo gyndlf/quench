{
 "cells": [
  {
   "cell_type": "markdown",
   "id": "82cd94b0-7ead-473e-b1bd-583fe04459e5",
   "metadata": {},
   "source": [
    "# PSB and ESR\n",
    "\n",
    "Combination of `august/ESR.ipynb`, `august/pauli.ipynb` and `august/pauli_plots.ipynb`"
   ]
  },
  {
   "cell_type": "code",
   "execution_count": 1,
   "id": "43f04875-c515-4e89-860a-7f4427b881ef",
   "metadata": {},
   "outputs": [
    {
     "name": "stdout",
     "output_type": "stream",
     "text": [
      "Added 'quench/' and 'quench/libraries' for easy importing.\n"
     ]
    }
   ],
   "source": [
    "%matplotlib inline\n",
    "import local_broom"
   ]
  },
  {
   "cell_type": "code",
   "execution_count": 2,
   "id": "bca3f120-fc42-4f3f-9c23-30a473d5ba6a",
   "metadata": {},
   "outputs": [],
   "source": [
    "# Automagically reload modules when they are edited\n",
    "%load_ext autoreload\n",
    "%autoreload 2"
   ]
  },
  {
   "cell_type": "code",
   "execution_count": 3,
   "id": "7ad6f3cf-301f-4883-b411-f1777eb1d165",
   "metadata": {},
   "outputs": [],
   "source": [
    "import matplotlib.pyplot as plt\n",
    "import numpy as np\n",
    "from tqdm.notebook import tqdm\n",
    "from qcodes import Instrument, Station\n",
    "from monty import Monty\n",
    "import MDAC\n",
    "from may.dots import getvoltages\n",
    "from may.custom_devices import connect_to_gb, newSiDot\n",
    "from liveplot import LivePlot\n",
    "from fridge import Fridge\n",
    "import paul\n",
    "from shfqc import SHFQC\n",
    "from monty import Monty\n",
    "import time\n",
    "import logging\n",
    "from qcodes.instrument_drivers.stanford_research.SR860 import SR860"
   ]
  },
  {
   "cell_type": "markdown",
   "id": "f60fa28c-6992-4469-8d6b-d83ee804f2ad",
   "metadata": {},
   "source": [
    "## Connect"
   ]
  },
  {
   "cell_type": "code",
   "execution_count": null,
   "id": "882a649b-f876-4434-8859-85bda67e6b49",
   "metadata": {},
   "outputs": [],
   "source": [
    "channels = [\"ST\", \"P1\", \"P2\", \"J\"]\n",
    "channel_addr = [0, 1, 2, 3]\n",
    "\n",
    "#channels = [\"P1\", \"P2\", \"J\", \"MW\"]\n",
    "#channel_addr = [1, 2, 3, 5]\n",
    "\n",
    "# channels = [\"MW\"]\n",
    "# channel_addr = [5]\n",
    "\n",
    "shfqc = SHFQC(channels, channel_addr, \"measure\")\n",
    "shfqc.connect()"
   ]
  },
  {
   "cell_type": "code",
   "execution_count": null,
   "id": "ee49fcaa-e820-4718-8078-0ad50659fd08",
   "metadata": {},
   "outputs": [],
   "source": [
    "try:\n",
    "    mdac = Instrument.find_instrument(\"mdac\")\n",
    "    mdac.close()\n",
    "except KeyError:\n",
    "    print('Attempting to remove instrument with name mdac. Does not exist')\n",
    "\n",
    "mdac = MDAC.MDAC('mdac', 'ASRL11::INSTR')\n",
    "\n",
    "try:\n",
    "    lockin = Instrument.find_instrument(\"lockin\")\n",
    "    lockin.close()\n",
    "except KeyError:\n",
    "    print(\"Cannot remove instrument with name lockin. Does not exist\")\n",
    "\n",
    "scfg = Station(config_file='/Users/LD2007/Documents/Si_CMOS_james/measurements/system.yaml')\n",
    "\n",
    "#lockin = scfg.load_instrument('sr860_top')\n",
    "#psg = scfg.load_instrument('PSG')\n",
    "\n",
    "lockin = SR860('lockin', 'TCPIP::192.168.0.108::inst0::INSTR')\n",
    "psg = E8267('psg', 'TCPIP0::192.168.0.109::inst0::INSTR')\n",
    "\n",
    "\n",
    "gb_control_si = connect_to_gb(mdac)  # Create our custom MDAC mappings\n",
    "si = newSiDot(mdac)\n",
    "fridge = Fridge(\"BlueFors_LD\")"
   ]
  },
  {
   "cell_type": "markdown",
   "id": "125ff9cf-f84f-4f83-8da4-142dbc3dd1fb",
   "metadata": {},
   "source": [
    "Disconnect. Run with caution"
   ]
  },
  {
   "cell_type": "code",
   "execution_count": null,
   "id": "d4b310cf-033f-4154-b72d-f8aeccaa4f28",
   "metadata": {},
   "outputs": [],
   "source": [
    "# Disconnect from all devices\n",
    "disconnect = False\n",
    "if disconnect:\n",
    "    shfqc.disconnect()\n",
    "    try:\n",
    "        mdac = Instrument.find_instrument(\"mdac\")\n",
    "        mdac.close()\n",
    "    except KeyError:\n",
    "        print('Attempting to remove instrument with name mdac. Does not exist')\n",
    "    try:\n",
    "        lockin = Instrument.find_instrument(\"lockin\")\n",
    "        lockin.close()\n",
    "    except KeyError:\n",
    "        print(\"Cannot remove instrument with name sr860_top. Does not exist\")\n",
    "    try:\n",
    "        psg = Instrument.find_instrument(\"psg\")\n",
    "        psg.close()\n",
    "    except KeyError:\n",
    "        print('Attempting to remove instrument with name mdac. Does not exist')"
   ]
  },
  {
   "cell_type": "code",
   "execution_count": null,
   "id": "9bdd0dca-a6ca-4a17-ba78-7feb66fe8b9e",
   "metadata": {},
   "outputs": [],
   "source": [
    "# setup monty\n",
    "experiment = {\n",
    "    \"desc\": \"Run ESR frequency sweeps and PSB detuning / J sweeps\"\n",
    "}\n",
    "\n",
    "monty = Monty(\"rf.esr_and_psb\", experiment)"
   ]
  },
  {
   "cell_type": "markdown",
   "id": "58439457-9f5c-45d2-9e75-f41303356425",
   "metadata": {},
   "source": [
    "## Define parameters"
   ]
  },
  {
   "cell_type": "markdown",
   "id": "945d507c-896e-428b-8fc1-cd88e7036a3c",
   "metadata": {},
   "source": [
    "> TODO: Convert naming scheme from \"amplitude_volts\" to \"sweep_detuning\""
   ]
  },
  {
   "cell_type": "code",
   "execution_count": null,
   "id": "b9d3812e-ab3f-4ce1-a3f8-ffcc6eb44f4c",
   "metadata": {},
   "outputs": [],
   "source": [
    "params = {\n",
    "    \"amplitude_volts\": {  # define the amplitudes that should be used. (maximum 340mV, give in Volts)\n",
    "        \"mixed_pulse\": {  # voltage amplitude for mixed state preperation\n",
    "            \"P1\": -0.2,  # make sure keys match drive lines above\n",
    "            \"P2\": 0.2,\n",
    "        },\n",
    "        \"measure_pulse_start\": {  # FOR PSB ONLY\n",
    "            \"P1\": 0.0,  # voltages for stepping over when sweeping\n",
    "            \"P2\": 0.0,\n",
    "            \"J\": 0,\n",
    "        },\n",
    "        \"measure_pulse_end\": {  # PSB ONLY\n",
    "            \"P1\": -0.006,\n",
    "            \"P2\": 0.006,\n",
    "            \"J\": 0,\n",
    "        },\n",
    "        \"readout_pulse\": {  # FOR ESR ONLY\n",
    "            \"P1\": -0.0021,  #-0.0025,\n",
    "            \"P2\": 0.0021,  #0.0025,\n",
    "            \"J\": 0.0,\n",
    "        },\n",
    "        \"ramp_rate\": 13e-5,  # V/sample\n",
    "    },\n",
    "    \"sweep_j\": {  # FOR ESR ONLY\n",
    "        \"j_start\": -0.15,\n",
    "        \"j_stop\": -0.15,\n",
    "    },\n",
    "    \"sweep_detuning\": {  # FOR ESR ONLY\n",
    "        \"p1_start\": -0.0015,\n",
    "        \"p1_stop\": -0.0035,\n",
    "        \"p2_start\": 0.0015,\n",
    "        \"p2_stop\": 0.0035,\n",
    "    },\n",
    "    \"readout\": {\n",
    "        \"freq\": 406.6e6,  # (Hz) try 406.2e6\n",
    "        \"gain\": 0.95,  # If we set this to 1, then output overloads\n",
    "        \"time\": 100e-6,  # sec\n",
    "    },\n",
    "    \"mw\": {  # Microwave ESR settings\n",
    "        \"freqs\": {  # (Hz)\n",
    "            \"center\": 1.0e9,  # 1.5e9,\n",
    "            \"start\": 0, #  -400e6,\n",
    "            \"stop\": 0, #  400e6,\n",
    "            # steps determined by averaging/num_freqs\n",
    "        },\n",
    "        \"psgfreqstart\": 6.75e9,  # using upper sideband\n",
    "        \"psgfreqstop\": 7.25e9,  # using upper sideband\n",
    "        \"gain\": 0.8,  # If we set this to 1, then output overloads\n",
    "        \"span\": 1e6,  # frequency span for chirp signal, if enabled\n",
    "        \"sampling_divider\": 3,\n",
    "    },\n",
    "    \"feedback\": {  # FOR PSB ONLY\n",
    "        \"target\": -24.1,  # in dB\n",
    "        \"stepsize\": 2e-2,  # arbitrary units\n",
    "        \"slope\": -0,  # -1, 1 depending on slope, 0 to disable feedback\n",
    "    },\n",
    "    \"timings_sec\": {  # all in seconds\n",
    "        \"mixed_initilise\": 600e-6,\n",
    "        \"read\": 100e-6,\n",
    "        \"settle\": 3e-3,\n",
    "        \"trigger\": 8e-3,  # metronome of the internal trigger\n",
    "        \"buffer\": 10e-6,\n",
    "        \"mw_pulse\": 50e-6,\n",
    "        \"sampling_divider\": 6,  # playback waveform resolution 2^X\n",
    "    },\n",
    "    \"powers\": {  # in dB presets from UI\n",
    "        \"acq_in\": 10,\n",
    "        \"acq_out\": -10,\n",
    "        \"drive\": 0,  # only 0 is supported\n",
    "        \"mw_drive\": 0,  # conncted to to PSG\n",
    "        \"psg_drive\": 7,  # just a guess for now, output of psg\n",
    "    },\n",
    "    \"averaging\": {\n",
    "        \"seqc_averages\": 200,  # max 2**19 points\n",
    "        \"num_freqs\": 501,\n",
    "        \"num_j\": 1,\n",
    "        \"num_detuning\": 50,\n",
    "    },\n",
    "    \"gates\": getvoltages(mdac),\n",
    "    \"temp\": f\"Mixing chamber {fridge.temp()} K\",\n",
    "}\n",
    "\n",
    "\n",
    "# Dynamic variables\n",
    "# create arrays of our sweeping paramters\n",
    "# freq_steps = np.linspace(params[\"mw\"][\"freqs\"][\"start\"],\n",
    "#                     params[\"mw\"][\"freqs\"][\"stop\"],\n",
    "#                     params[\"averaging\"][\"num_freqs\"])\n",
    "\n",
    "freq_steps = np.linspace(params[\"mw\"][\"psgfreqstart\"],\n",
    "                    params[\"mw\"][\"psgfreqstop\"],\n",
    "                    params[\"averaging\"][\"num_freqs\"])\n",
    "j_steps = np.linspace(params[\"sweep_j\"][\"j_start\"],\n",
    "                    params[\"sweep_j\"][\"j_stop\"],\n",
    "                    params[\"averaging\"][\"num_j\"])\n",
    "p1_steps = np.linspace(params[\"sweep_detuning\"][\"p1_start\"],\n",
    "                    params[\"sweep_detuning\"][\"p1_stop\"],\n",
    "                    params[\"averaging\"][\"num_detuning\"])\n",
    "p2_steps = np.linspace(params[\"sweep_detuning\"][\"p2_start\"],\n",
    "                    params[\"sweep_detuning\"][\"p2_stop\"],\n",
    "                    params[\"averaging\"][\"num_detuning\"])"
   ]
  }
 ],
 "metadata": {
  "kernelspec": {
   "display_name": "Python 3 (ipykernel)",
   "language": "python",
   "name": "python3"
  },
  "language_info": {
   "codemirror_mode": {
    "name": "ipython",
    "version": 3
   },
   "file_extension": ".py",
   "mimetype": "text/x-python",
   "name": "python",
   "nbconvert_exporter": "python",
   "pygments_lexer": "ipython3",
   "version": "3.12.3"
  }
 },
 "nbformat": 4,
 "nbformat_minor": 5
}
