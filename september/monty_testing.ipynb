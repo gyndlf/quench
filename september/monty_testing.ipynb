{
 "cells": [
  {
   "cell_type": "code",
   "execution_count": 1,
   "id": "119a95fd-f343-4f03-92f0-75569f211421",
   "metadata": {},
   "outputs": [
    {
     "name": "stdout",
     "output_type": "stream",
     "text": [
      "Added 'quench/' and 'quench/libraries' for easy importing.\n"
     ]
    }
   ],
   "source": [
    "%matplotlib inline\n",
    "import local_broom"
   ]
  },
  {
   "cell_type": "code",
   "execution_count": 2,
   "id": "b09f3d07-7253-4f0f-a205-fd861eef79d5",
   "metadata": {},
   "outputs": [],
   "source": [
    "# Automagically reload modules when they are edited\n",
    "%load_ext autoreload\n",
    "%autoreload 2"
   ]
  },
  {
   "cell_type": "code",
   "execution_count": 3,
   "id": "5f4b0e0e-acff-4a68-bc21-1fbcee1822a2",
   "metadata": {},
   "outputs": [],
   "source": [
    "from monty import Monty"
   ]
  },
  {
   "cell_type": "code",
   "execution_count": 4,
   "id": "3ee8e100-f2d8-4ccc-abd9-ede647edb931",
   "metadata": {},
   "outputs": [
    {
     "name": "stdout",
     "output_type": "stream",
     "text": [
      "2024-09-09 17:21:59,903 INFO. Loading existing experiment (ignoring given experiment parameters)\n",
      "2024-09-09 17:21:59,914 WARNING. Note that no experimental data has been loaded.\n",
      "2024-09-09 17:21:59,915 INFO. Next run will have id 4\n"
     ]
    }
   ],
   "source": [
    "# setup monty\n",
    "experiment = {\n",
    "    \"desc\": \"Test monty is working\"\n",
    "}\n",
    "\n",
    "monty = Monty(\"test.test\", experiment)"
   ]
  },
  {
   "cell_type": "code",
   "execution_count": 5,
   "id": "4eaa21db-fee9-43d0-b5db-32b30150dcc8",
   "metadata": {},
   "outputs": [
    {
     "name": "stdout",
     "output_type": "stream",
     "text": [
      "2024-09-09 17:21:59,985 INFO. Started new run working.4\n"
     ]
    }
   ],
   "source": [
    "monty.newrun(\"working\", {})"
   ]
  },
  {
   "cell_type": "code",
   "execution_count": 6,
   "id": "20fa3f44-3b61-4fd7-ae28-414b8e1513d0",
   "metadata": {},
   "outputs": [
    {
     "name": "stdout",
     "output_type": "stream",
     "text": [
      "2024-09-09 17:22:00,059 INFO. Run finished and took 0:00:00.073405.\n"
     ]
    }
   ],
   "source": [
    "monty.finishrun()"
   ]
  },
  {
   "cell_type": "code",
   "execution_count": null,
   "id": "3863766e-14b8-45aa-9469-831502abfe85",
   "metadata": {},
   "outputs": [],
   "source": []
  }
 ],
 "metadata": {
  "kernelspec": {
   "display_name": "Python 3 (ipykernel)",
   "language": "python",
   "name": "python3"
  },
  "language_info": {
   "codemirror_mode": {
    "name": "ipython",
    "version": 3
   },
   "file_extension": ".py",
   "mimetype": "text/x-python",
   "name": "python",
   "nbconvert_exporter": "python",
   "pygments_lexer": "ipython3",
   "version": "3.12.3"
  }
 },
 "nbformat": 4,
 "nbformat_minor": 5
}
