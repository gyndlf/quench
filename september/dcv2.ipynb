{
 "cells": [
  {
   "cell_type": "markdown",
   "id": "8aea9086-a122-42f3-aebf-4cba2ccc3237",
   "metadata": {},
   "source": [
    "# DC v2\n",
    "\n",
    "Perform more MDAC sweeps measuring with the lockin."
   ]
  },
  {
   "cell_type": "code",
   "execution_count": 2,
   "id": "a5c775f6-91d2-464f-90c3-576e8fffcbba",
   "metadata": {},
   "outputs": [
    {
     "name": "stdout",
     "output_type": "stream",
     "text": [
      "Added 'quench/' and 'quench/libraries' for easy importing.\n"
     ]
    }
   ],
   "source": [
    "%matplotlib inline\n",
    "import local_broom"
   ]
  },
  {
   "cell_type": "code",
   "execution_count": 3,
   "id": "f9b20c01-d60f-41d9-b11f-619b449f2ff7",
   "metadata": {},
   "outputs": [],
   "source": [
    "# Automagically reload modules when they are edited\n",
    "%load_ext autoreload\n",
    "%autoreload 2"
   ]
  },
  {
   "cell_type": "code",
   "execution_count": 4,
   "id": "b19674fc-11e8-4e49-bbab-bc69bd4452a4",
   "metadata": {},
   "outputs": [],
   "source": [
    "import numpy as np\n",
    "import matplotlib.pyplot as plt\n",
    "import time\n",
    "from qcodes import Station, Instrument\n",
    "from scipy.signal import find_peaks\n",
    "from tqdm.notebook import tqdm\n",
    "\n",
    "from monty import Monty\n",
    "from liveplot import LivePlot, LiveContourPlot\n",
    "import feedback\n",
    "import swiper\n",
    "import MDAC\n",
    "from fridge import Fridge\n",
    "\n",
    "# Import the neighbouring files. In may/\n",
    "import may.dots as dots\n",
    "from september.retort import Retort\n",
    "\n",
    "from may.custom_devices import connect_to_gb, newSiDot, link_j_on_gb\n",
    "from qcodes.instrument_drivers.stanford_research.SR860 import SR860"
   ]
  },
  {
   "cell_type": "code",
   "execution_count": 5,
   "id": "d9c8860d-4959-4e6d-b433-ba4e9fb31aaa",
   "metadata": {},
   "outputs": [
    {
     "name": "stdout",
     "output_type": "stream",
     "text": [
      "Attempting to remove instrument with name mdac. Does not exist\n",
      "Connected to: QNL Sydney MDAC (serial:0x32353532353551040030003E, firmware:1.8) in 4.25s\n",
      "Cannot remove instrument with name lockin. Does not exist\n",
      "Connected to: Stanford_Research_Systems SR860 (serial:004279, firmware:V1.51) in 0.16s\n",
      "Loading GB driver and connecting\n",
      "Manually Open Breakout_box_top_ch15_LCB\n",
      "Manually Open Breakout_box_bot_ch09_RCB\n",
      "Manually Open Breakout_box_bot_ch17_RG\n",
      "Manually Open Breakout_box_top_ch17_ResB\n",
      "Manually Open Breakout_box_top_ch19_P3\n",
      "Manually Open Breakout_box_top_ch13_P2\n",
      "Manually Open Breakout_box_top_ch04_P1\n",
      "Manually Open Breakout_box_top_ch02_SETB\n",
      "Manually Open Breakout_box_bot_ch04_SRB\n",
      "Manually Open Breakout_box_bot_ch06_SLB\n",
      "Manually Open Breakout_box_top_ch10_ST\n",
      "Manually Open Breakout_box_top_ch25_bias\n",
      "Using base URL https://qphys1114.research.ext.sydney.edu.au/therm_flask/BlueFors_LD\n"
     ]
    }
   ],
   "source": [
    "##%% Connect to instruments\n",
    "try:\n",
    "    mdac = Instrument.find_instrument(\"mdac\")\n",
    "    mdac.close()\n",
    "except KeyError:\n",
    "    print('Attempting to remove instrument with name mdac. Does not exist')\n",
    "\n",
    "mdac = MDAC.MDAC('mdac', 'ASRL11::INSTR')\n",
    "\n",
    "try:\n",
    "    lockin = Instrument.find_instrument(\"lockin\")\n",
    "    lockin.close()\n",
    "except KeyError:\n",
    "    print(\"Cannot remove instrument with name lockin. Does not exist\")\n",
    "\n",
    "#scfg = Station(config_file='/Users/LD2007/Documents/Si_CMOS_james/measurements/system.yaml')\n",
    "#lockin = scfg.load_instrument('sr860_top')\n",
    "#psg = scfg.load_instrument('PSG')\n",
    "\n",
    "lockin = SR860('lockin', 'TCPIP::192.168.0.142::inst0::INSTR')\n",
    "#lockin = SR860('lockin', 'TCPIP::192.168.0.108::inst0::INSTR')\n",
    "\n",
    "#psg = E8267('psg', 'TCPIP0::192.168.0.109::inst0::INSTR')\n",
    "\n",
    "\n",
    "gb_control_si = connect_to_gb(mdac)  # Create our custom MDAC mappings\n",
    "si = newSiDot(mdac)\n",
    "fridge = Fridge(\"BlueFors_LD\")"
   ]
  },
  {
   "cell_type": "code",
   "execution_count": 6,
   "id": "167eb71d-0856-4168-9a46-2d8b5d9474fd",
   "metadata": {},
   "outputs": [],
   "source": [
    "# Disconnect from all devices\n",
    "disconnect = False\n",
    "if disconnect:\n",
    "    try:\n",
    "        mdac = Instrument.find_instrument(\"mdac\")\n",
    "        mdac.close()\n",
    "    except KeyError:\n",
    "        print('Attempting to remove instrument with name mdac. Does not exist')\n",
    "    try:\n",
    "        lockin = Instrument.find_instrument(\"lockin\")\n",
    "        lockin.close()\n",
    "    except KeyError:\n",
    "        print(\"Cannot remove instrument with name lockin. Does not exist\")\n",
    "    try:\n",
    "        psg = Instrument.find_instrument(\"psg\")\n",
    "        psg.close()\n",
    "    except KeyError:\n",
    "        print('Attempting to remove instrument with name psg. Does not exist')"
   ]
  },
  {
   "cell_type": "code",
   "execution_count": 7,
   "id": "ff059355-bd2c-4442-9c5a-9e59ed7fddc6",
   "metadata": {},
   "outputs": [
    {
     "name": "stdout",
     "output_type": "stream",
     "text": [
      "[2024-09-19 15:25:45,977] INFO Loading existing experiment (ignoring given experiment parameters)\n",
      "[2024-09-19 15:25:45,997] WARNING Note that no experimental data has been loaded.\n",
      "[2024-09-19 15:25:45,997] INFO Next run will have id 7\n"
     ]
    }
   ],
   "source": [
    "experiment = {\n",
    "    \"desc\": \"Measure detuning using RF and DC methods\"\n",
    "}\n",
    "\n",
    "monty = Monty(\"dc.diamonds2\", experiment)"
   ]
  },
  {
   "cell_type": "code",
   "execution_count": 11,
   "id": "7e4768a5-89e7-44b3-bd53-d6e9a6c12872",
   "metadata": {},
   "outputs": [],
   "source": [
    "si.SETB(0)"
   ]
  },
  {
   "cell_type": "code",
   "execution_count": 70,
   "id": "930ed8d5-36c9-4f65-a7ed-08fba7d6e467",
   "metadata": {},
   "outputs": [
    {
     "name": "stdout",
     "output_type": "stream",
     "text": [
      "LCB:   0.150004 V\n",
      "RCB:   0.150003 V\n",
      "RG:    2.000002 V\n",
      "ResB:  1.799996 V\n",
      "P3:    1.800002 V\n",
      "P2:    1.400002 V\n",
      "P1:    1.4 V\n",
      "SETB:  0.0 V\n",
      "SRB:   0.900001 V\n",
      "SLB:   0.899997 V\n",
      "ST:    3.700005 V\n",
      "bias:  0.015002 V\n",
      "VSS1P8:      0.0 V\n",
      "VSS1P0:      0.0 V\n",
      "VDD1P8:      1.800005 V\n",
      "VDD1P0:      0.999996 V\n",
      "VDD1P8_ANA:  1.8 V\n",
      "BGN1P0:      0.0 V\n",
      "BGN1P8:      0.0 V\n",
      "BGP1P0:      0.0 V\n",
      "BGP1P8:      0.0 V\n",
      "RST:         1.799996 V\n",
      "MOSI:        0.0 V\n",
      "SCLK:        0.0 V\n",
      "SS_N:        1.8 V\n",
      "APBCLK:      0.0 V\n",
      "VICL:        3.849995 V\n",
      "VLFG:        0.0 V\n",
      "VHFG:        0.0 V\n"
     ]
    }
   ],
   "source": [
    "dots.get_all_voltages(mdac)"
   ]
  },
  {
   "cell_type": "code",
   "execution_count": 68,
   "id": "0e55d1d2-e895-43f5-a566-aeddc95c3ab0",
   "metadata": {},
   "outputs": [
    {
     "data": {
      "text/plain": [
       "3.700005"
      ]
     },
     "execution_count": 68,
     "metadata": {},
     "output_type": "execute_result"
    }
   ],
   "source": [
    "si.ST()"
   ]
  },
  {
   "cell_type": "markdown",
   "id": "403f07bb-c577-4873-980f-d9259e12ffb8",
   "metadata": {},
   "source": [
    "## Coulomb SET sweep (1D)"
   ]
  },
  {
   "cell_type": "code",
   "execution_count": 73,
   "id": "90fb94bc-9ff2-4e40-8bd3-28e0af259e61",
   "metadata": {},
   "outputs": [
    {
     "name": "stdout",
     "output_type": "stream",
     "text": [
      "[2024-09-24 13:36:01,125] INFO Started new run SET_ST_sweep.10\n",
      "Sweeping Si28_quantum_dot_ST from 2.5V to 3.0V in 401 points.\n"
     ]
    },
    {
     "data": {
      "application/vnd.jupyter.widget-view+json": {
       "model_id": "b90a8c4f6e494d9295c167968cefa640",
       "version_major": 2,
       "version_minor": 0
      },
      "text/plain": [
       "  0%|          | 0/401 [00:00<?, ?it/s]"
      ]
     },
     "metadata": {},
     "output_type": "display_data"
    },
    {
     "name": "stdout",
     "output_type": "stream",
     "text": [
      "[2024-09-24 13:38:56,843] INFO Run finished and took 0:02:55.718019.\n",
      "[2024-09-24 13:38:56,844] INFO Saving to SET_ST_sweep.10.xz\n",
      "[2024-09-24 13:38:56,859] INFO Saving to experiment.yaml\n"
     ]
    },
    {
     "data": {
      "image/png": "[encoded data removed]",
      "text/plain": [
       "<Figure size 640x480 with 1 Axes>"
      ]
     },
     "metadata": {},
     "output_type": "display_data"
    }
   ],
   "source": [
    "low = 2.5\n",
    "high = 3.0\n",
    "pts = 401\n",
    "\n",
    "parameters = {\n",
    "    \"desc\": \"Quick 1D scan of the SET over ST\",\n",
    "    \"ST\":   f\"range from {low}v -> {high}v, over {pts} pts\",\n",
    "    \"SLB\":  f\"Fixed at {si.SLB()}V\",\n",
    "    \"SRB\":  f\"Fixed at {si.SRB()}V\",\n",
    "    }\n",
    "\n",
    "monty.newrun(\"SET ST sweep\", parameters)\n",
    "result = swiper.sweep1d(lockin, si.ST, low, high, pts, delay_time=0.3, monty=monty) \n",
    "\n",
    "monty.save(result)"
   ]
  },
  {
   "cell_type": "markdown",
   "id": "5d85c0f8-48cd-43c6-8a92-329d9c0023a6",
   "metadata": {},
   "source": [
    "## Feedback Functions\n",
    "\n",
    "Restructure how we do feedback. Make a class that controls everything"
   ]
  },
  {
   "cell_type": "code",
   "execution_count": 77,
   "id": "cef946fa-57f1-4876-9fc0-13d1414ac776",
   "metadata": {},
   "outputs": [],
   "source": [
    "retort = Retort(\n",
    "    target=3e-11,\n",
    "    stepsize=5e-4,\n",
    "    slope=\"down\",  # usually \"up\"\n",
    "    bounds=(2.7, 3.0),\n",
    ")"
   ]
  },
  {
   "cell_type": "code",
   "execution_count": 75,
   "id": "4625c1b1-e242-4f10-92f9-b3b1da0cf3bd",
   "metadata": {},
   "outputs": [],
   "source": [
    "si.ST(2.81) # 3.6"
   ]
  },
  {
   "cell_type": "code",
   "execution_count": 79,
   "id": "9d0a4db8-9ac4-485b-865b-0cdfeb39bb10",
   "metadata": {},
   "outputs": [
    {
     "name": "stdout",
     "output_type": "stream",
     "text": [
      "\n"
     ]
    }
   ],
   "source": [
    "retort.get_to_target(si, lockin)"
   ]
  },
  {
   "cell_type": "code",
   "execution_count": null,
   "id": "6ed95f2c-12a0-4093-89dd-211836122ddf",
   "metadata": {},
   "outputs": [],
   "source": [
    "retort.move_with_feedback(si, lockin, si.SETB, end=0.00, dx=0.001)"
   ]
  },
  {
   "cell_type": "code",
   "execution_count": null,
   "id": "c49b6170-68ce-40c7-83da-16ae85a43a59",
   "metadata": {},
   "outputs": [],
   "source": [
    "si.SETB()"
   ]
  },
  {
   "cell_type": "code",
   "execution_count": 80,
   "id": "708577e4-2e94-4770-97cf-8edb884d072d",
   "metadata": {},
   "outputs": [
    {
     "data": {
      "text/plain": [
       "2.800864"
      ]
     },
     "execution_count": 80,
     "metadata": {},
     "output_type": "execute_result"
    }
   ],
   "source": [
    "si.ST()"
   ]
  },
  {
   "cell_type": "code",
   "execution_count": null,
   "id": "7638c42d-421b-4d1f-b89d-e3642a3890ce",
   "metadata": {},
   "outputs": [],
   "source": [
    "np.arange(10, 5-1, -1)"
   ]
  },
  {
   "cell_type": "code",
   "execution_count": null,
   "id": "75874e8f-7bf0-4803-8211-9935d8cbecf6",
   "metadata": {},
   "outputs": [],
   "source": []
  },
  {
   "cell_type": "markdown",
   "id": "03e938ee-aff2-4903-8178-52bb14038216",
   "metadata": {},
   "source": [
    "## Sweep Antidetuning vs setb (2D)"
   ]
  },
  {
   "cell_type": "code",
   "execution_count": null,
   "id": "127de519-1ff0-4204-9a1d-74eaa4a8bde4",
   "metadata": {},
   "outputs": [],
   "source": [
    "def sweep_anti_detuning_vs_setb(p_points, setb_points):\n",
    "    \"\"\"Measure electrons entering and exiting the double dot. Note the asymmetry when loading/unload the dots. Find a region of SETB where it is similar.\"\"\"\n",
    "    p_low, p_high, p_pts = p_points\n",
    "    setb_low, setb_high, setb_pts = setb_points\n",
    "    parameters = {\n",
    "        \"desc\": \"Sweep anti detuning axis (P1 + P2) (feedback)\",\n",
    "        \"lockin_amplitude\": f\"Set to {lockin.amplitude()} V (with divider)\",\n",
    "        \"ST\":   f\"Fixed at {si.ST()}V (target of {retort.target} on lockin, stepsize = {retort.stepsize})\",\n",
    "        \"SLB\":  f\"Fixed at {si.SLB()}V\",\n",
    "        \"SRB\":  f\"Fixed at {si.SRB()}V\",\n",
    "        \"J1\": f\"Fixed at {gb_control_si.VICL()}V\",\n",
    "        \"P1\": f\"Ranged from {p_low}V -> {p_high}V in {p_pts} points\",\n",
    "        \"P2\": f\"Ranged from {p_low}V -> {p_high}V in {p_pts} points\",\n",
    "        \"SETB\": f\"Ranged from {setb_low} -> {setb_high} in {setb_pts} points\",\n",
    "        \"temp\": f\"Mixing chamber {fridge.temp()} K\",\n",
    "        }\n",
    "    \n",
    "    monty.newrun(\"anti detuning loading\", parameters)\n",
    "    \n",
    "    # gate voltage\n",
    "    p_range = np.linspace(p_low, p_high, p_pts)\n",
    "    setb_range = np.linspace(setb_low, setb_high, setb_pts)\n",
    "    \n",
    "    X = np.zeros((setb_pts, p_pts))\n",
    "    Y = np.zeros((setb_pts, p_pts))\n",
    "    R = np.zeros((setb_pts, p_pts))\n",
    "    P = np.zeros((setb_pts, p_pts))\n",
    "    ST_drift = np.zeros((setb_pts, p_pts))\n",
    "    \n",
    "    I = np.arange(p_pts)  # indices for datapoints\n",
    "    \n",
    "    with tqdm(total=setb_pts*p_pts) as pbar, LiveContourPlot(p_range, setb_range, xlabel=\"Antidetuning (V)\", ylabel=\"SETB (V)\") as lplot:\n",
    "        for (j, setb) in enumerate(setb_range):\n",
    "            \n",
    "            # Set the new barrier gate\n",
    "            retort.move_with_feedback(si, lockin, si.SETB, end=setb, dx=0.001, progress=False)\n",
    "            #si.SETB(setb)\n",
    "            \n",
    "            time.sleep(1.0)  # ALlow any transitions to occur now\n",
    "            \n",
    "            for i in I:\n",
    "                p = p_range[i]\n",
    "                si.P1(p)\n",
    "                si.P2(p)\n",
    "                time.sleep(0.3)\n",
    "                \n",
    "                X[j, i] = lockin.X()\n",
    "                Y[j, i] = lockin.Y()\n",
    "                R[j, i] = lockin.R()\n",
    "                P[j, i] = lockin.P()\n",
    "                ST_drift[j, i] = si.ST()\n",
    "                \n",
    "                pbar.update(1)\n",
    "                lplot.update(R)\n",
    "                \n",
    "                retort.feedback(si, lockin)\n",
    "                \n",
    "            monty.snapshot({\"X\": X, \"Y\": Y, \"R\": R, \"P\": P, \"ST_drift\": ST_drift})\n",
    "            I = I[::-1]  # flip the next direction\n",
    "            \n",
    "    monty.save({\"X\": X, \"Y\": Y, \"R\": R, \"P\": P, \"ST\": ST_drift})\n",
    "    \n",
    "    swiper.plotsweep2d(setb_range, p_range, R, \"SETB\", \"Antidetuning\", monty)  # note wont separate directions\n",
    "    swiper.plotsweep2d(setb_range[::2], p_range, R[::2, :], \"SETB\", \"Antidetuning\", extra_title=\".forward\", monty=monty)\n",
    "    swiper.plotsweep2d(setb_range[1::2], p_range, R[1::2, :], \"SETB\", \"Antidetuning\", extra_title=\".backward\", monty=monty)\n",
    "\n",
    "    return {\"X\": X, \"Y\": Y, \"R\": R, \"P\": P, \"ST\": ST_drift}\n",
    "    "
   ]
  },
  {
   "cell_type": "code",
   "execution_count": null,
   "id": "059dbf59-729b-4a3d-9538-76db530a0bba",
   "metadata": {},
   "outputs": [],
   "source": [
    "print(f\"ST = {si.ST()}\\nSLB = {si.SLB()}\\nSRB = {si.SRB()}\")\n",
    "print(f\"P1 = {si.P1()}\\nP2 = {si.P2()}\\nSETB = {si.SETB()}\")"
   ]
  },
  {
   "cell_type": "code",
   "execution_count": null,
   "id": "62f9eb43-6524-4ee7-b510-51e6f3597791",
   "metadata": {},
   "outputs": [],
   "source": [
    "# Unload any electrons\n",
    "si.P1(1.0)\n",
    "si.P2(1.0)\n",
    "time.sleep(5)"
   ]
  },
  {
   "cell_type": "code",
   "execution_count": null,
   "id": "0e7ec9ac-3d6b-42e7-82ef-fa2022eb67ec",
   "metadata": {},
   "outputs": [],
   "source": [
    "si.ST(3.366515)"
   ]
  },
  {
   "cell_type": "code",
   "execution_count": null,
   "id": "8c163665-3c1a-4f3e-951f-82d93f006297",
   "metadata": {},
   "outputs": [],
   "source": [
    "retort.get_to_target(si, lockin, progress=True)"
   ]
  },
  {
   "cell_type": "code",
   "execution_count": null,
   "id": "6e6ad2e0-09fc-42ba-83df-33986fe3a3ef",
   "metadata": {},
   "outputs": [],
   "source": [
    "0.2/51"
   ]
  },
  {
   "cell_type": "code",
   "execution_count": null,
   "id": "10999de7-026c-406a-8d95-1ae9638963e2",
   "metadata": {
    "scrolled": true
   },
   "outputs": [],
   "source": [
    "p_low = 1.3\n",
    "p_high = 1.6\n",
    "p_pts = 301\n",
    "\n",
    "setb_low = 0.4\n",
    "setb_high = 0.2\n",
    "setb_pts = 151\n",
    "\n",
    "# Setup gates correctly\n",
    "retort.move_with_feedback(si, lockin, si.P1, end=p_low)\n",
    "retort.move_with_feedback(si, lockin, si.P2, end=p_low)\n",
    "retort.move_with_feedback(si, lockin, si.SETB, end=setb_low)\n",
    "time.sleep(5)\n",
    "\n",
    "# Get to SET target\n",
    "retort.get_to_target(si, lockin)\n",
    "time.sleep(1)\n",
    "\n",
    "result = sweep_anti_detuning_vs_setb((p_low, p_high, p_pts), (setb_low, setb_high, setb_pts))"
   ]
  },
  {
   "cell_type": "markdown",
   "id": "d6c4ece7-5dfa-4e4b-b225-28f847cda917",
   "metadata": {},
   "source": [
    "## Sweep detuning or antidetuning (1D)"
   ]
  },
  {
   "cell_type": "code",
   "execution_count": null,
   "id": "1e31a6f6-b53d-4ff7-b173-6e86bffbc7c7",
   "metadata": {},
   "outputs": [],
   "source": [
    "def two_gate_sweep(g1_params, g2_params, pts):\n",
    "    g1, g1_low, g1_high = g1_params\n",
    "    g2, g2_low, g2_high = g2_params\n",
    "    \n",
    "    parameters = {\n",
    "        \"desc\": \"Sweep detuning axis (P1 - P2) (feedback)\",\n",
    "        \"lockin_amplitude\": \"Set to 10uV\",\n",
    "        \"ST\":   f\"Fixed at {si.ST()}V (target of {retort.target} on lockin, stepsize = {retort.stepsize})\",\n",
    "        \"SLB\":  f\"Fixed at {si.SLB()}V\",\n",
    "        \"SRB\":  f\"Fixed at {si.SRB()}V\",\n",
    "        \"SETB\": f\"Fixed at {si.SETB()}V\",\n",
    "        \"J1\": f\"Fixed at {gb_control_si.VICL()}V\",\n",
    "        g1.name: f\"Ranged from {g1_low}V -> {g1_high}V in {pts} points\",  # P1 or P2\n",
    "        g2.name: f\"Ranged from {g2_low}V -> {g2_high}V in {pts} points\",  # P1 or P2\n",
    "        \"temp\": f\"Mixing chamber {fridge.temp()} K\",\n",
    "        }\n",
    "    \n",
    "    monty.newrun(f\"{g1.name} vs {g2.name} scan\", parameters)\n",
    "    \n",
    "    # gate voltages\n",
    "    g1_range = np.linspace(g1_low, g1_high, pts)\n",
    "    g2_range = np.linspace(g2_low, g2_high, pts)\n",
    "    I = np.arange(pts)\n",
    "    \n",
    "    X = np.zeros((pts))\n",
    "    Y = np.zeros((pts))\n",
    "    R = np.zeros((pts))\n",
    "    P = np.zeros((pts))\n",
    "    ST_drift = np.zeros(pts)\n",
    "    \n",
    "    with tqdm(total=pts) as pbar, LivePlot(g1_range, xlabel=f\"{g1.name} V\", ylabel=\"Current (A)\") as lplot:\n",
    "        for i in I:\n",
    "            g1(g1_range[i])\n",
    "            g2(g2_range[i])\n",
    "            time.sleep(0.5)\n",
    "            \n",
    "            ST_drift[i] = si.ST()\n",
    "            X[i] = lockin.X()\n",
    "            Y[i] = lockin.Y()\n",
    "            R[i] = lockin.R()\n",
    "            P[i] = lockin.P()\n",
    "            \n",
    "            pbar.update(1)\n",
    "            lplot.update(R)\n",
    "            \n",
    "            retort.feedback(si, lockin)\n",
    "    \n",
    "    monty.save({\"X\": X, \"Y\": Y, \"R\": R, \"P\": P, \"ST\": ST_drift})\n",
    "\n",
    "    return {\"X\": X, \"Y\": Y, \"R\": R, \"P\": P, \"ST\": ST_drift}"
   ]
  },
  {
   "cell_type": "code",
   "execution_count": null,
   "id": "9c9e855d-36e8-4f88-8d08-2a35346a3e09",
   "metadata": {},
   "outputs": [],
   "source": [
    "def plot_detuning(g1_params, g2_params, R, ST_drift):\n",
    "    \"\"\"Plot the detuning axis plot\"\"\"\n",
    "    g1, g1_low, g1_high = g1_params\n",
    "    g2, g2_low, g2_high = g2_params\n",
    "    \n",
    "    R = result[\"R\"]\n",
    "    ST_drift = result[\"ST\"]\n",
    "    \n",
    "    detuning = np.linspace((g1_low-g2_low)/np.sqrt(2), (g1_high-g2_high)/np.sqrt(2), len(R))\n",
    "    \n",
    "    fig, ax0 = plt.subplots()\n",
    "    ax1 = ax0.twinx()\n",
    "    \n",
    "    ax0.plot(detuning, R, \"g-\", label=\"Lockin\")\n",
    "    ax0.grid()\n",
    "    ax0.set_ylabel(\"Lockin (A)\", color=\"g\")\n",
    "    ax0.set_xlabel(\"Detuning (V)\")\n",
    "    \n",
    "    # Plot ST history over time\n",
    "    ax1.plot(detuning, ST_drift, \"r-\", label=\"ST gate\")\n",
    "    ax1.set_ylabel(\"ST voltage (V)\", color=\"r\")\n",
    "    \n",
    "    ax0.set_title(monty.identifier + \".\" + monty.runname)\n",
    "    \n",
    "    fig.tight_layout()\n",
    "    monty.savefig(plt, \"detuning\")"
   ]
  },
  {
   "cell_type": "code",
   "execution_count": null,
   "id": "14ee8401-b482-407c-9eef-895152699e65",
   "metadata": {},
   "outputs": [],
   "source": [
    "print(f\"ST = {si.ST()}\\nSLB = {si.SLB()}\\nSRB = {si.SRB()}\")\n",
    "print(f\"P1 = {si.P1()}\\nP2 = {si.P2()}\\nSETB = {si.SETB()}\")\n",
    "print(f\"J = {gb_control_si.VICL()}\\n\")"
   ]
  },
  {
   "cell_type": "code",
   "execution_count": null,
   "id": "d76cf40c-711d-4bb4-8bbd-c13882cc25f4",
   "metadata": {},
   "outputs": [],
   "source": [
    "si.ST(3.332)"
   ]
  },
  {
   "cell_type": "code",
   "execution_count": null,
   "id": "769cba47-c47f-4b91-9e68-a6ed97c4f860",
   "metadata": {},
   "outputs": [],
   "source": [
    "retort.get_to_target(si, lockin)"
   ]
  },
  {
   "cell_type": "code",
   "execution_count": null,
   "id": "cabcbe06-9f49-40a3-9d4f-c73c916914ec",
   "metadata": {},
   "outputs": [],
   "source": [
    "retort.move_with_feedback(si, lockin, si.SETB, end=0.34)"
   ]
  },
  {
   "cell_type": "code",
   "execution_count": null,
   "id": "186c0e80-fb95-400a-85dd-2b0a870fba48",
   "metadata": {
    "scrolled": true
   },
   "outputs": [],
   "source": [
    "for setb in [0.3, 0.35, 0.4, 0.45, 0.5, 0.55][::-1]:\n",
    "    retort.move_with_feedback(si, lockin, si.SETB, end=setb)\n",
    "    \n",
    "    g1_params = (si.P1, 1.3, 1.8)\n",
    "    g2_params = (si.P2, 1.8, 1.3)\n",
    "    \n",
    "    pts = 401\n",
    "    \n",
    "    retort.move_with_feedback(si, lockin, g1_params[0], end=g1_params[1], progress=False)\n",
    "    retort.move_with_feedback(si, lockin, g2_params[0], end=g2_params[1], progress=False)\n",
    "    time.sleep(5)\n",
    "    \n",
    "    result = two_gate_sweep(g1_params, g2_params, pts)\n",
    "    plot_detuning(g1_params, g2_params, result[\"R\"], result[\"ST\"])\n",
    "    plt.show()"
   ]
  },
  {
   "cell_type": "code",
   "execution_count": null,
   "id": "dd050492-6fc5-423a-8ff6-bf72a31e99e1",
   "metadata": {},
   "outputs": [],
   "source": [
    "\n"
   ]
  },
  {
   "cell_type": "markdown",
   "id": "fb7e3953-1221-43c1-8af6-bb53bdffa9de",
   "metadata": {},
   "source": [
    "## Coulomb diamonds"
   ]
  },
  {
   "cell_type": "code",
   "execution_count": 59,
   "id": "71a7d75c-ec05-41b1-aa42-b187dcfdae90",
   "metadata": {},
   "outputs": [],
   "source": [
    "# Coulomb diamond scan\n",
    "def coulomb_diamond(st_params, bias_params):\n",
    "    start_st, end_st, pts_st = st_params\n",
    "    start_bias, end_bias, pts_bias = bias_params\n",
    "    parameters = {\n",
    "        \"desc\": \"Sweep the SET keeping one reservoir fixed\",\n",
    "        \"lockin_amplitude\": \"Set to 10uV\",\n",
    "        \"ST\":   f\"Ranged from {start_st} to {end_st} in {pts_st} points\",\n",
    "        \"SLB\":  f\"Fixed at {si.SLB()}V\",\n",
    "        \"SRB\":  f\"Fixed at {si.SRB()}V\",\n",
    "        \"bias\":  f\"Ranged from {start_bias} to {end_bias} in {pts_bias} points\",\n",
    "        \"SETB\": f\"Fixed at {si.SETB()}V\",\n",
    "        \"temp\": f\"Mixing chamber {fridge.temp()} K\",\n",
    "        }\n",
    "    \n",
    "    monty.newrun(\"coulomb_diamond\", parameters)\n",
    "    \n",
    "    # gate voltages\n",
    "    st_range = np.linspace(start_st, end_st, pts_st)\n",
    "    bias_range = np.linspace(start_bias, end_bias, pts_bias)\n",
    "    \n",
    "    X = np.zeros((pts_st, pts_bias))\n",
    "    Y = np.zeros((pts_st, pts_bias))\n",
    "    R = np.zeros((pts_st, pts_bias))\n",
    "    P = np.zeros((pts_st, pts_bias))\n",
    "    \n",
    "    I = np.arange(pts_bias)  # indices for datapoints\n",
    "    \n",
    "    with tqdm(total=pts_bias*pts_st) as pbar, LiveContourPlot(bias_range, st_range, xlabel=\"Bias (V)\", ylabel=\"ST (V)\") as lplot:\n",
    "        for (j, st) in enumerate(st_range):\n",
    "            si.ST(st)\n",
    "            time.sleep(0.4)\n",
    "            \n",
    "            for i in I:\n",
    "                si.bias(bias_range[i])\n",
    "                time.sleep(0.2)  # 0.3 minimum\n",
    "                \n",
    "                X[j, i] = lockin.X()\n",
    "                Y[j, i] = lockin.Y()\n",
    "                R[j, i] = lockin.R()\n",
    "                P[j, i] = lockin.P()\n",
    "                \n",
    "                pbar.update(1)\n",
    "                lplot.update(R)\n",
    "                \n",
    "            monty.snapshot({\"X\": X, \"Y\": Y, \"R\": R, \"P\": P})\n",
    "            \n",
    "            # Flip the direction of the next sweep\n",
    "            I = I[::-1]\n",
    "    \n",
    "    monty.save({\"X\": X, \"Y\": Y, \"R\": R, \"P\": P})\n",
    "    \n",
    "    swiper.plotsweep2d(st_range, bias_range, R, \"ST\", \"Bias\", monty)  # note wont separate directions\n",
    "    swiper.plotsweep2d(st_range[::2], bias_range, R[::2, :], \"ST\", \"Bias\", extra_title=\".forward\", monty=monty)\n",
    "    swiper.plotsweep2d(st_range[1::2], bias_range, R[1::2, :], \"ST\", \"Bias\", extra_title=\".backward\", monty=monty)\n",
    "    return R"
   ]
  },
  {
   "cell_type": "code",
   "execution_count": 48,
   "id": "4597aee5-30c5-4032-b40d-c54db75fd906",
   "metadata": {},
   "outputs": [
    {
     "name": "stdout",
     "output_type": "stream",
     "text": [
      "ST = 3.600002\n",
      "SLB = 0.899997\n",
      "SRB = 0.900001\n",
      "P1 = 1.799998\n",
      "P2 = 1.799997\n",
      "SETB = 0.0\n",
      "J = 3.8\n",
      "\n"
     ]
    }
   ],
   "source": [
    "print(f\"ST = {si.ST()}\\nSLB = {si.SLB()}\\nSRB = {si.SRB()}\")\n",
    "print(f\"P1 = {si.P1()}\\nP2 = {si.P2()}\\nSETB = {si.SETB()}\")\n",
    "print(f\"J = {gb_control_si.VICL()}\\n\")"
   ]
  },
  {
   "cell_type": "code",
   "execution_count": 49,
   "id": "fc58d873-4df2-45ec-a744-be745b7f143d",
   "metadata": {},
   "outputs": [],
   "source": [
    "si.bias(0)\n",
    "si.P1(1.8)\n",
    "si.P2(1.8)\n",
    "gb_control_si.VICL(3.8)\n",
    "si.SETB(0)"
   ]
  },
  {
   "cell_type": "code",
   "execution_count": 50,
   "id": "9074596d-1321-4bb8-bf15-1bdd4f86ac99",
   "metadata": {},
   "outputs": [],
   "source": [
    "si.ST(3.6)"
   ]
  },
  {
   "cell_type": "code",
   "execution_count": 51,
   "id": "06647693-d0e6-437b-a27a-13ebc770249e",
   "metadata": {},
   "outputs": [
    {
     "name": "stdout",
     "output_type": "stream",
     "text": [
      "[2024-09-23 09:47:22,451] INFO Started new run coulomb_diamond\n"
     ]
    },
    {
     "data": {
      "application/vnd.jupyter.widget-view+json": {
       "model_id": "5f8791f932f546e98dd715195a132c2d",
       "version_major": 2,
       "version_minor": 0
      },
      "text/plain": [
       "  0%|          | 0/2121 [00:00<?, ?it/s]"
      ]
     },
     "metadata": {},
     "output_type": "display_data"
    },
    {
     "name": "stdout",
     "output_type": "stream",
     "text": [
      "[2024-09-23 10:02:30,783] INFO Run finished and took 0:15:08.331537.\n",
      "[2024-09-23 10:02:30,784] INFO Saving to coulomb_diamond.xz\n",
      "[2024-09-23 10:02:30,815] INFO Saving to experiment.yaml\n"
     ]
    },
    {
     "data": {
      "image/png": "[encoded data removed]",
      "text/plain": [
       "<Figure size 640x480 with 2 Axes>"
      ]
     },
     "metadata": {},
     "output_type": "display_data"
    }
   ],
   "source": [
    "st_low = 3.6\n",
    "st_high = 3.7\n",
    "st_pts = 101\n",
    "\n",
    "bias_low = -0.01\n",
    "bias_high = 0.01\n",
    "bias_pts = 21\n",
    "\n",
    "result = coulomb_diamond((st_low, st_high, st_pts), (bias_low, bias_high, bias_pts))"
   ]
  },
  {
   "cell_type": "code",
   "execution_count": null,
   "id": "2542131f-0efa-41a2-b938-79581b77b465",
   "metadata": {},
   "outputs": [],
   "source": []
  },
  {
   "cell_type": "markdown",
   "id": "22341266-ad04-4cf4-b30d-2adb874b7fe8",
   "metadata": {},
   "source": [
    "## Charge stability (P1 vs P2) 2D"
   ]
  },
  {
   "cell_type": "code",
   "execution_count": 81,
   "id": "d011d510-4442-4a3a-907c-f51c1a381cae",
   "metadata": {},
   "outputs": [],
   "source": [
    "def sweep_charge_stablity_2d(p1_params, p2_params):\n",
    "    \"\"\"Measure electrons entering and exiting the double dot. Note the asymmetry when loading/unload the dots. Find a region of SETB where it is similar.\"\"\"\n",
    "    p1_low, p1_high, p1_pts = p1_params\n",
    "    p2_low, p2_high, p2_pts = p2_params\n",
    "    parameters = {\n",
    "        \"desc\": \"Sweep P1 vs P2 (with feedback)\",\n",
    "        \"lockin_amplitude\": f\"Set to {lockin.amplitude()} V (with divider)\",\n",
    "        \"ST\":   f\"Fixed at {si.ST()}V (target of {retort.target} on lockin, stepsize = {retort.stepsize})\",\n",
    "        \"SLB\":  f\"Fixed at {si.SLB()}V\",\n",
    "        \"SRB\":  f\"Fixed at {si.SRB()}V\",\n",
    "        \"ResB\":  f\"Fixed at {si.ResB()}V\",\n",
    "        \"P3\":  f\"Fixed at {si.P3()}V\",\n",
    "        \"RG\":  f\"Fixed at {si.RG()}V\",\n",
    "        \"J1\": f\"Fixed at {gb_control_si.VICL()}V (linked with J2)\",\n",
    "        \"P1\": f\"Ranged from {p1_low}V -> {p1_high}V in {p1_pts} points\",\n",
    "        \"P2\": f\"Ranged from {p2_low}V -> {p2_high}V in {p2_pts} points\",\n",
    "        \"SETB\": f\"Fixed at {si.SETB()}V\",\n",
    "        \"temp\": f\"Mixing chamber {fridge.temp()} K\",\n",
    "        }\n",
    "    \n",
    "    monty.newrun(\"2d charge stability\", parameters)\n",
    "    \n",
    "    # gate voltage\n",
    "    p1_range = np.linspace(p1_low, p1_high, p1_pts)\n",
    "    p2_range = np.linspace(p2_low, p2_high, p2_pts)\n",
    "    \n",
    "    X = np.zeros((p2_pts, p1_pts))\n",
    "    Y = np.zeros((p2_pts, p1_pts))\n",
    "    R = np.zeros((p2_pts, p1_pts))\n",
    "    P = np.zeros((p2_pts, p1_pts))\n",
    "    ST_drift = np.zeros((p2_pts, p1_pts))\n",
    "    \n",
    "    I = np.arange(p1_pts)  # indices for datapoints\n",
    "    \n",
    "    with tqdm(total=p1_pts*p2_pts) as pbar, LiveContourPlot(p1_range, p2_range, xlabel=\"P2 (V)\", ylabel=\"P2 (V)\") as lplot:\n",
    "        for (j, p2) in enumerate(p2_range):\n",
    "            \n",
    "            # Set the new barrier gate\n",
    "            #retort.move_with_feedback(si, lockin, si.SETB, end=setb, dx=0.001, progress=False)\n",
    "\n",
    "            si.P2(p2)\n",
    "            \n",
    "            time.sleep(0.3)  # ALlow any transitions to occur now\n",
    "            retort.feedback(si, lockin)\n",
    "            \n",
    "            for i in I:\n",
    "                si.P1(p1_range[i])\n",
    "                time.sleep(0.3)\n",
    "                \n",
    "                X[j, i] = lockin.X()\n",
    "                Y[j, i] = lockin.Y()\n",
    "                R[j, i] = lockin.R()\n",
    "                P[j, i] = lockin.P()\n",
    "                ST_drift[j, i] = si.ST()\n",
    "                \n",
    "                pbar.update(1)\n",
    "                lplot.update(R)\n",
    "                \n",
    "                retort.feedback(si, lockin)\n",
    "                \n",
    "            monty.snapshot({\"X\": X, \"Y\": Y, \"R\": R, \"P\": P, \"ST_drift\": ST_drift})\n",
    "            I = I[::-1]  # flip the next direction\n",
    "            \n",
    "    monty.save({\"X\": X, \"Y\": Y, \"R\": R, \"P\": P, \"ST\": ST_drift})\n",
    "    \n",
    "    swiper.plotsweep2d(p2_range, p1_range, R, \"P2\", \"P1\", monty)  # note wont separate directions\n",
    "    swiper.plotsweep2d(p2_range[::2], p1_range, R[::2, :], \"P2\", \"P1\", extra_title=\".forward\", monty=monty)\n",
    "    swiper.plotsweep2d(p2_range[1::2], p1_range, R[1::2, :], \"P2\", \"P1\", extra_title=\".backward\", monty=monty)\n",
    "\n",
    "    return {\"X\": X, \"Y\": Y, \"R\": R, \"P\": P, \"ST\": ST_drift}\n",
    "    "
   ]
  },
  {
   "cell_type": "code",
   "execution_count": 88,
   "id": "3d2331c1-5f91-42c3-a53b-9283e5602fa6",
   "metadata": {},
   "outputs": [
    {
     "name": "stdout",
     "output_type": "stream",
     "text": [
      "ST = 2.784103\n",
      "SLB = 0.899997\n",
      "SRB = 0.900001\n",
      "P1 = 1.700003\n",
      "P2 = 1.700003\n",
      "SETB = 0.0\n",
      "J = 3.909994\n",
      "\n"
     ]
    }
   ],
   "source": [
    "print(f\"ST = {si.ST()}\\nSLB = {si.SLB()}\\nSRB = {si.SRB()}\")\n",
    "print(f\"P1 = {si.P1()}\\nP2 = {si.P2()}\\nSETB = {si.SETB()}\")\n",
    "print(f\"J = {gb_control_si.VICL()}\\n\")"
   ]
  },
  {
   "cell_type": "code",
   "execution_count": 25,
   "id": "3bc5c028-e581-49fe-a733-324ee4e751cd",
   "metadata": {},
   "outputs": [
    {
     "name": "stdout",
     "output_type": "stream",
     "text": [
      "Ramping J1 down to 0V\n",
      "Coupling J1, J2 together\n",
      "Ramping J1, J2 to loading values\n"
     ]
    }
   ],
   "source": [
    "# Link J1 with J2\n",
    "link_j_on_gb(mdac, gb_control_si)"
   ]
  },
  {
   "cell_type": "code",
   "execution_count": 64,
   "id": "3d3031cb-4971-4c7c-ad37-20a150501d8c",
   "metadata": {},
   "outputs": [],
   "source": [
    "gb_control_si.VICL(3.85)"
   ]
  },
  {
   "cell_type": "code",
   "execution_count": 29,
   "id": "308415ec-4c2f-489e-bfdb-a1b9943b0fb0",
   "metadata": {},
   "outputs": [],
   "source": [
    "# Raise other gates to reservoir\n",
    "si.RG(2.0)\n",
    "si.ResB(1.8)\n",
    "si.P1(1.3)\n",
    "si.P2(1.3)\n",
    "si.P3(1.8)\n",
    "gb_control_si.VICL(4.0)"
   ]
  },
  {
   "cell_type": "code",
   "execution_count": 9,
   "id": "9cb68f40-f7cd-4458-be0d-b338cf38c5a6",
   "metadata": {},
   "outputs": [],
   "source": [
    "si.ST(3.5369)"
   ]
  },
  {
   "cell_type": "code",
   "execution_count": 87,
   "id": "27119956-457c-4521-8cd9-fa4abddfa4e1",
   "metadata": {},
   "outputs": [
    {
     "name": "stdout",
     "output_type": "stream",
     "text": [
      "ST = 2.7841e+00, lockin = 3.1559e-11, delta = 1.2739e-12\n"
     ]
    }
   ],
   "source": [
    "retort.tol /= 2\n",
    "retort.get_to_target(si, lockin)\n",
    "retort.tol *= 2"
   ]
  },
  {
   "cell_type": "code",
   "execution_count": 86,
   "id": "76116eb6-305c-4423-b63f-53ce0d60a144",
   "metadata": {},
   "outputs": [
    {
     "name": "stdout",
     "output_type": "stream",
     "text": [
      "Target = 3.0000e-11, tol = 1e-11, initial ST = 2.786039\n",
      "ST = 2.7851e+00, lockin = 2.1286e-11, delta = 8.5943e-12 delta = 1.4755e-11\n",
      "ST = 2.7842e+00, lockin = 2.2506e-11, delta = 7.4347e-12 delta = 1.1641e-11\n",
      "VICL = 3.8700e+00, ST = 2.7842e+00, lockin = 2.4802e-11, delta = 5.0660e-12\n",
      "VICL = 3.8800e+00, ST = 2.7842e+00, lockin = 3.0364e-11, delta = 4.3845e-13\n",
      "VICL = 3.8900e+00, ST = 2.7842e+00, lockin = 3.0888e-11, delta = 8.1406e-13\n",
      "VICL = 3.9000e+00, ST = 2.7842e+00, lockin = 2.3653e-11, delta = 6.6380e-12\n",
      "ST = 2.7837e+00, lockin = 2.0509e-11, delta = 9.2965e-12 delta = 1.2785e-11\n",
      "\n",
      "Final ST = 2.78375\n"
     ]
    }
   ],
   "source": [
    "retort.move_with_feedback(si, lockin, gb_control_si.VICL, end=3.9)"
   ]
  },
  {
   "cell_type": "code",
   "execution_count": 67,
   "id": "e4933384-fddf-458c-abd4-3c021c5b9247",
   "metadata": {},
   "outputs": [],
   "source": [
    "si.P1(1.4)\n",
    "si.P2(1.4)"
   ]
  },
  {
   "cell_type": "code",
   "execution_count": null,
   "id": "c82ad7a9-5deb-4377-877c-0e54bddab606",
   "metadata": {},
   "outputs": [
    {
     "name": "stdout",
     "output_type": "stream",
     "text": [
      "Target = 3.0000e-11, tol = 1e-11, initial ST = 2.784103\n",
      "P1 = 1.7000e+00, ST = 2.7841e+00, lockin = 2.4329e-11, delta = 5.7135e-12\n",
      "P1 = 1.6900e+00, ST = 2.7841e+00, lockin = 2.2890e-11, delta = 6.9780e-12\n",
      "\n",
      "Final ST = 2.784103\n",
      "Target = 3.0000e-11, tol = 1e-11, initial ST = 2.784103\n",
      "P2 = 1.7000e+00, ST = 2.7841e+00, lockin = 3.5008e-11, delta = 5.2233e-12\n",
      "ST = 2.7849e+00, lockin = 3.0996e-11, delta = 7.9073e-13elta = 1.1901e-11\n",
      "\n",
      "Final ST = 2.784879\n",
      "\n",
      "[2024-09-25 16:12:15,641] INFO Started new run 2d_charge_stability.7\n"
     ]
    },
    {
     "data": {
      "application/vnd.jupyter.widget-view+json": {
       "model_id": "d6fd161238a94f91b0c99d2911a7b928",
       "version_major": 2,
       "version_minor": 0
      },
      "text/plain": [
       "  0%|          | 0/90601 [00:00<?, ?it/s]"
      ]
     },
     "metadata": {},
     "output_type": "display_data"
    }
   ],
   "source": [
    "p1_low = 1.7\n",
    "p1_high = 1.4\n",
    "p1_pts = 301\n",
    "\n",
    "p2_low = 1.7\n",
    "p2_high = 1.4\n",
    "p2_pts = 301\n",
    "\n",
    "# Setup gates correctly\n",
    "retort.move_with_feedback(si, lockin, si.P1, end=p1_low)\n",
    "retort.move_with_feedback(si, lockin, si.P2, end=p2_low)\n",
    "time.sleep(5)\n",
    "\n",
    "# Get to SET target\n",
    "retort.get_to_target(si, lockin)\n",
    "time.sleep(1)\n",
    "\n",
    "result = sweep_charge_stablity_2d((p1_low, p1_high, p1_pts), (p2_low, p2_high, p2_pts))"
   ]
  },
  {
   "cell_type": "code",
   "execution_count": 43,
   "id": "c2559ba9-34df-48e6-a9b3-124708a2b2b3",
   "metadata": {},
   "outputs": [],
   "source": [
    "R = result[\"R\"]"
   ]
  },
  {
   "cell_type": "code",
   "execution_count": 84,
   "id": "49a8d3f4-f0b3-4cc9-97d9-72d2bb1c42d4",
   "metadata": {},
   "outputs": [
    {
     "data": {
      "text/plain": [
       "3.849995"
      ]
     },
     "execution_count": 84,
     "metadata": {},
     "output_type": "execute_result"
    }
   ],
   "source": [
    "gb_control_si.VICL()"
   ]
  },
  {
   "cell_type": "code",
   "execution_count": null,
   "id": "834c5e4f-f4ed-4b1b-b53d-8f611cefd77e",
   "metadata": {},
   "outputs": [],
   "source": []
  }
 ],
 "metadata": {
  "kernelspec": {
   "display_name": "Python 3 (ipykernel)",
   "language": "python",
   "name": "python3"
  },
  "language_info": {
   "codemirror_mode": {
    "name": "ipython",
    "version": 3
   },
   "file_extension": ".py",
   "mimetype": "text/x-python",
   "name": "python",
   "nbconvert_exporter": "python",
   "pygments_lexer": "ipython3",
   "version": "3.12.3"
  }
 },
 "nbformat": 4,
 "nbformat_minor": 5
}
