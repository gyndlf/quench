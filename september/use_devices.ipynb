{
 "cells": [
  {
   "cell_type": "markdown",
   "id": "8f59a6fe-5df1-4bf9-b94d-157a01e2a629",
   "metadata": {},
   "source": [
    "## Use devices\n",
    "\n",
    "Perform simple MDAC operations to change the states easily"
   ]
  },
  {
   "cell_type": "code",
   "execution_count": 1,
   "id": "0982dcfc-e0f3-4af4-b124-337d1ba53f35",
   "metadata": {},
   "outputs": [
    {
     "name": "stdout",
     "output_type": "stream",
     "text": [
      "Added 'quench/' and 'quench/libraries' for easy importing.\n"
     ]
    }
   ],
   "source": [
    "%matplotlib inline\n",
    "import local_broom"
   ]
  },
  {
   "cell_type": "code",
   "execution_count": 2,
   "id": "da7141f2-9ff5-4492-af70-7a2877eeafe9",
   "metadata": {},
   "outputs": [],
   "source": [
    "# Automagically reload modules when they are edited\n",
    "%load_ext autoreload\n",
    "%autoreload 2"
   ]
  },
  {
   "cell_type": "code",
   "execution_count": 2,
   "id": "b5c466d8-03d8-4d49-9977-9dbfbe9dfaaa",
   "metadata": {},
   "outputs": [
    {
     "ename": "ModuleNotFoundError",
     "evalue": "No module named 'monty'",
     "output_type": "error",
     "traceback": [
      "\u001b[1;31m---------------------------------------------------------------------------\u001b[0m",
      "\u001b[1;31mModuleNotFoundError\u001b[0m                       Traceback (most recent call last)",
      "Cell \u001b[1;32mIn[2], line 8\u001b[0m\n\u001b[0;32m      5\u001b[0m \u001b[38;5;28;01mfrom\u001b[39;00m \u001b[38;5;21;01mscipy\u001b[39;00m\u001b[38;5;21;01m.\u001b[39;00m\u001b[38;5;21;01msignal\u001b[39;00m \u001b[38;5;28;01mimport\u001b[39;00m find_peaks\n\u001b[0;32m      6\u001b[0m \u001b[38;5;28;01mfrom\u001b[39;00m \u001b[38;5;21;01mtqdm\u001b[39;00m\u001b[38;5;21;01m.\u001b[39;00m\u001b[38;5;21;01mnotebook\u001b[39;00m \u001b[38;5;28;01mimport\u001b[39;00m tqdm\n\u001b[1;32m----> 8\u001b[0m \u001b[38;5;28;01mfrom\u001b[39;00m \u001b[38;5;21;01mmonty\u001b[39;00m \u001b[38;5;28;01mimport\u001b[39;00m Monty\n\u001b[0;32m      9\u001b[0m \u001b[38;5;28;01mfrom\u001b[39;00m \u001b[38;5;21;01mliveplot\u001b[39;00m \u001b[38;5;28;01mimport\u001b[39;00m LivePlot, LiveContourPlot\n\u001b[0;32m     10\u001b[0m \u001b[38;5;28;01mimport\u001b[39;00m \u001b[38;5;21;01mfeedback\u001b[39;00m\n",
      "\u001b[1;31mModuleNotFoundError\u001b[0m: No module named 'monty'"
     ]
    }
   ],
   "source": [
    "import numpy as np\n",
    "import matplotlib.pyplot as plt\n",
    "import time\n",
    "from qcodes import Station, Instrument\n",
    "from scipy.signal import find_peaks\n",
    "from tqdm.notebook import tqdm\n",
    "\n",
    "from monty import Monty\n",
    "from liveplot import LivePlot, LiveContourPlot\n",
    "import feedback\n",
    "import swiper\n",
    "import MDAC\n",
    "from fridge import Fridge\n",
    "\n",
    "# Import the neighbouring files. In may/\n",
    "import may.dots as dots\n",
    "from may.custom_devices import connect_to_gb, newSiDot\n",
    "from qcodes.instrument_drivers.stanford_research.SR860 import SR860"
   ]
  },
  {
   "cell_type": "code",
   "execution_count": 5,
   "id": "1555246c-91b4-4a93-a6bb-cd851aa43cc9",
   "metadata": {},
   "outputs": [
    {
     "name": "stdout",
     "output_type": "stream",
     "text": [
      "Attempting to remove instrument with name mdac. Does not exist\n",
      "Connected to: QNL Sydney MDAC (serial:0x32353532353551040030003E, firmware:1.8) in 4.32s\n",
      "Cannot remove instrument with name lockin. Does not exist\n",
      "Connected to: Stanford_Research_Systems SR860 (serial:004279, firmware:V1.51) in 0.13s\n",
      "Loading GB driver and connecting\n",
      "Manually Open Breakout_box_top_ch15_LCB\n",
      "Manually Open Breakout_box_bot_ch09_RCB\n",
      "Manually Open Breakout_box_bot_ch17_RG\n",
      "Manually Open Breakout_box_top_ch17_ResB\n",
      "Manually Open Breakout_box_top_ch19_P3\n",
      "Manually Open Breakout_box_top_ch13_P2\n",
      "Manually Open Breakout_box_top_ch04_P1\n",
      "Manually Open Breakout_box_top_ch02_SETB\n",
      "Manually Open Breakout_box_bot_ch04_SRB\n",
      "Manually Open Breakout_box_bot_ch06_SLB\n",
      "Manually Open Breakout_box_top_ch10_ST\n",
      "Manually Open Breakout_box_top_ch25_bias\n",
      "Using base URL https://qphys1114.research.ext.sydney.edu.au/therm_flask/BlueFors_LD\n"
     ]
    }
   ],
   "source": [
    "##%% Connect to instruments\n",
    "try:\n",
    "    mdac = Instrument.find_instrument(\"mdac\")\n",
    "    mdac.close()\n",
    "except KeyError:\n",
    "    print('Attempting to remove instrument with name mdac. Does not exist')\n",
    "\n",
    "mdac = MDAC.MDAC('mdac', 'ASRL11::INSTR')\n",
    "\n",
    "try:\n",
    "    lockin = Instrument.find_instrument(\"lockin\")\n",
    "    lockin.close()\n",
    "except KeyError:\n",
    "    print(\"Cannot remove instrument with name lockin. Does not exist\")\n",
    "\n",
    "#scfg = Station(config_file='/Users/LD2007/Documents/Si_CMOS_james/measurements/system.yaml')\n",
    "\n",
    "#lockin = scfg.load_instrument('sr860_top')\n",
    "#psg = scfg.load_instrument('PSG')\n",
    "\n",
    "lockin = SR860('lockin', 'TCPIP::192.168.0.108::inst0::INSTR')\n",
    "#psg = E8267('psg', 'TCPIP0::192.168.0.109::inst0::INSTR')\n",
    "\n",
    "\n",
    "gb_control_si = connect_to_gb(mdac)  # Create our custom MDAC mappings\n",
    "si = newSiDot(mdac)\n",
    "fridge = Fridge(\"BlueFors_LD\")"
   ]
  },
  {
   "cell_type": "code",
   "execution_count": 5,
   "id": "d2155cc1-9219-47e8-9d9a-10a3de1e53ab",
   "metadata": {},
   "outputs": [],
   "source": [
    "# Disconnect from all devices\n",
    "disconnect = False\n",
    "if disconnect:\n",
    "    try:\n",
    "        mdac = Instrument.find_instrument(\"mdac\")\n",
    "        mdac.close()\n",
    "    except KeyError:\n",
    "        print('Attempting to remove instrument with name mdac. Does not exist')\n",
    "    try:\n",
    "        lockin = Instrument.find_instrument(\"lockin\")\n",
    "        lockin.close()\n",
    "    except KeyError:\n",
    "        print(\"Cannot remove instrument with name sr860_top. Does not exist\")\n",
    "    try:\n",
    "        psg = Instrument.find_instrument(\"psg\")\n",
    "        psg.close()\n",
    "    except KeyError:\n",
    "        print('Attempting to remove instrument with name mdac. Does not exist')"
   ]
  },
  {
   "cell_type": "code",
   "execution_count": 7,
   "id": "c7756e89-5812-47a3-837e-472c932d927b",
   "metadata": {},
   "outputs": [],
   "source": [
    "# Ramp magnet to appropriate point\n",
    "\n",
    "if False:\n",
    "    from qcodes.instrument_drivers.oxford.MercuryiPS_VISA import MercuryiPS\n",
    "    magnet = MercuryiPS('magnet15', 'TCPIP0::192.168.0.106::7020::SOCKET')\n",
    "    \n",
    "    magnet._set_target_and_ramp('z', 'simul', 0.723)\n",
    "    time.sleep(700) #ramping at approx 1mT/s"
   ]
  },
  {
   "cell_type": "code",
   "execution_count": 12,
   "id": "e2bf6869-39a8-4bcb-924f-bb4ab9880670",
   "metadata": {},
   "outputs": [
    {
     "name": "stdout",
     "output_type": "stream",
     "text": [
      "LCB:   0.150004 V\n",
      "RCB:   0.150003 V\n",
      "RG:    0.0 V\n",
      "ResB:  0.0 V\n",
      "P3:    0.0 V\n",
      "P2:    0.0 V\n",
      "P1:    0.0 V\n",
      "SETB:  0.0 V\n",
      "SRB:   1.000002 V\n",
      "SLB:   0.899997 V\n",
      "ST:    3.700005 V\n",
      "bias:  0.0 V\n",
      "VSS1P8:      0.0 V\n",
      "VSS1P0:      0.0 V\n",
      "VDD1P8:      1.800005 V\n",
      "VDD1P0:      0.999996 V\n",
      "VDD1P8_ANA:  1.8 V\n",
      "BGN1P0:      0.0 V\n",
      "BGN1P8:      0.0 V\n",
      "BGP1P0:      0.0 V\n",
      "BGP1P8:      0.0 V\n",
      "RST:         1.799996 V\n",
      "MOSI:        0.0 V\n",
      "SCLK:        0.0 V\n",
      "SS_N:        1.8 V\n",
      "APBCLK:      0.0 V\n",
      "VICL:        3.500004 V\n",
      "VLFG:        0.0 V\n",
      "VHFG:        0.0 V\n"
     ]
    }
   ],
   "source": [
    "dots.get_all_voltages(mdac)"
   ]
  },
  {
   "cell_type": "code",
   "execution_count": 11,
   "id": "20013da6-8b14-4b50-9c1b-94ac41c517d0",
   "metadata": {},
   "outputs": [],
   "source": [
    "si.bias(0)"
   ]
  },
  {
   "cell_type": "code",
   "execution_count": null,
   "id": "bfa10355-5b35-4395-88db-95551d175b01",
   "metadata": {},
   "outputs": [],
   "source": []
  }
 ],
 "metadata": {
  "kernelspec": {
   "display_name": "Python 3 (ipykernel)",
   "language": "python",
   "name": "python3"
  },
  "language_info": {
   "codemirror_mode": {
    "name": "ipython",
    "version": 3
   },
   "file_extension": ".py",
   "mimetype": "text/x-python",
   "name": "python",
   "nbconvert_exporter": "python",
   "pygments_lexer": "ipython3",
   "version": "3.12.3"
  }
 },
 "nbformat": 4,
 "nbformat_minor": 5
}
